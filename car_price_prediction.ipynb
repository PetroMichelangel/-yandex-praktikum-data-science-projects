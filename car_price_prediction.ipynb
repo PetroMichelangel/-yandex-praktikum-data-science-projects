{
 "cells": [
  {
   "cell_type": "markdown",
   "metadata": {},
   "source": [
    "# Проект: Определение стоимости автомобилей"
   ]
  },
  {
   "cell_type": "markdown",
   "metadata": {},
   "source": [
    "Сервис по продаже автомобилей с пробегом «Не бит, не крашен» разрабатывает приложение для привлечения новых клиентов. В нём можно быстро узнать рыночную стоимость своего автомобиля. В вашем распоряжении исторические данные: технические характеристики, комплектации и цены автомобилей. Вам нужно построить модель для определения стоимости. \n",
    "\n",
    "Заказчику важны:\n",
    "\n",
    "- качество предсказания;\n",
    "- скорость предсказания;\n",
    "- время обучения."
   ]
  },
  {
   "cell_type": "markdown",
   "metadata": {},
   "source": [
    "# Описание данных"
   ]
  },
  {
   "cell_type": "markdown",
   "metadata": {},
   "source": [
    "**Признаки**\n",
    "\n",
    "-    DateCrawled — дата скачивания анкеты из базы\n",
    "-    VehicleType — тип автомобильного кузова\n",
    "-    RegistrationYear — год регистрации автомобиля\n",
    "-    Gearbox — тип коробки передач\n",
    "-    Power — мощность (л. с.)\n",
    "-    Model — модель автомобиля\n",
    "-    Kilometer — пробег (км)\n",
    "-    RegistrationMonth — месяц регистрации автомобиля\n",
    "-    FuelType — тип топлива\n",
    "-    Brand — марка автомобиля\n",
    "-    NotRepaired — была машина в ремонте или нет\n",
    "-    DateCreated — дата создания анкеты\n",
    "-    NumberOfPictures — количество фотографий автомобиля\n",
    "-    PostalCode — почтовый индекс владельца анкеты (пользователя)\n",
    "-    LastSeen — дата последней активности пользователя\n",
    "\n",
    "**Целевой признак**\n",
    "-     Price — цена (евро)"
   ]
  },
  {
   "cell_type": "markdown",
   "metadata": {},
   "source": [
    "<h1>Содержание<span class=\"tocSkip\"></span></h1>\n",
    "<div class=\"toc\"><ul class=\"toc-item\"><li><span><a href=\"#Общий-осмотр-и-обработка-данных\" data-toc-modified-id=\"Общий-осмотр-и-обработка-данных-1\"><span class=\"toc-item-num\">1&nbsp;&nbsp;</span>Общий осмотр и обработка данных</a></span></li><li><span><a href=\"#Подготовка-данных-для-моделей\" data-toc-modified-id=\"Подготовка-данных-для-моделей-2\"><span class=\"toc-item-num\">2&nbsp;&nbsp;</span>Подготовка данных для моделей</a></span></li><li><span><a href=\"#Обучение-моделей\" data-toc-modified-id=\"Обучение-моделей-3\"><span class=\"toc-item-num\">3&nbsp;&nbsp;</span>Обучение моделей</a></span></li><li><span><a href=\"#Анализ-моделей\" data-toc-modified-id=\"Анализ-моделей-4\"><span class=\"toc-item-num\">3&nbsp;&nbsp;</span>Анализ моделей</a></span></li><li><span><a href=\"#Общий-вывод\" data-toc-modified-id=\"Общий-вывод-5\"><span class=\"toc-item-num\">5&nbsp;&nbsp;</span>Общий вывод</a></span></li><li><span><a href=\"#Чек-лист-проверки\" data-toc-modified-id=\"Чек-лист-проверки-6\"><span class=\"toc-item-num\">6&nbsp;&nbsp;</span>Чек-лист проверки</a></span></li></ul></div>"
   ]
  },
  {
   "cell_type": "markdown",
   "metadata": {},
   "source": [
    "## Общий осмотр и обработка данных"
   ]
  },
  {
   "cell_type": "code",
   "execution_count": 1,
   "metadata": {},
   "outputs": [],
   "source": [
    "#импортируем библиотеки\n",
    "import pandas as pd\n",
    "import numpy as np\n",
    "import matplotlib.pyplot as plt\n",
    "import seaborn as sns\n",
    "from scipy import stats as st\n",
    "\n",
    "from sklearn.model_selection import train_test_split, cross_val_score, GridSearchCV, KFold\n",
    "from sklearn.compose import ColumnTransformer\n",
    "from sklearn.preprocessing import StandardScaler\n",
    "from sklearn.preprocessing import LabelEncoder, OneHotEncoder\n",
    "from sklearn.linear_model import LinearRegression, Ridge, Lasso\n",
    "from sklearn.ensemble import RandomForestRegressor\n",
    "from xgboost import XGBRegressor\n",
    "from lightgbm import LGBMRegressor\n",
    "from catboost import CatBoostRegressor\n",
    "from sklearn.metrics import mean_squared_error, make_scorer\n",
    "from sklearn.inspection import permutation_importance\n",
    "from sklearn.dummy import DummyRegressor\n",
    "\n",
    "import time\n",
    "import warnings\n",
    "warnings.filterwarnings('ignore')"
   ]
  },
  {
   "cell_type": "code",
   "execution_count": 2,
   "metadata": {},
   "outputs": [],
   "source": [
    "#функция для чтения файла\n",
    "def file_reader(file):\n",
    "    \n",
    "    df = pd.read_csv(file)\n",
    "    print('=======================================')\n",
    "    print('Первые пять строк:')\n",
    "    print('=======================================')\n",
    "    display(df.head(5))\n",
    "    print('=======================================')\n",
    "    print('Общая информация по датасету:')\n",
    "    print('=======================================')\n",
    "    print(df.info())\n",
    "    print('=======================================')\n",
    "    print('Статистическая информация по датасету:')\n",
    "    print('=======================================')\n",
    "    display(df.describe())\n",
    "    print('=======================================')\n",
    "    print('Количество пропусков по столбцам:')\n",
    "    print('=======================================')\n",
    "    print(df.isna().sum())\n",
    "    print('Количество дубликатов:')\n",
    "    print('=======================================')\n",
    "    print(df.duplicated().sum())\n",
    "    \n",
    "    return df"
   ]
  },
  {
   "cell_type": "code",
   "execution_count": 3,
   "metadata": {},
   "outputs": [
    {
     "name": "stdout",
     "output_type": "stream",
     "text": [
      "=======================================\n",
      "Первые пять строк:\n",
      "=======================================\n"
     ]
    },
    {
     "data": {
      "text/html": [
       "<div>\n",
       "<style scoped>\n",
       "    .dataframe tbody tr th:only-of-type {\n",
       "        vertical-align: middle;\n",
       "    }\n",
       "\n",
       "    .dataframe tbody tr th {\n",
       "        vertical-align: top;\n",
       "    }\n",
       "\n",
       "    .dataframe thead th {\n",
       "        text-align: right;\n",
       "    }\n",
       "</style>\n",
       "<table border=\"1\" class=\"dataframe\">\n",
       "  <thead>\n",
       "    <tr style=\"text-align: right;\">\n",
       "      <th></th>\n",
       "      <th>DateCrawled</th>\n",
       "      <th>Price</th>\n",
       "      <th>VehicleType</th>\n",
       "      <th>RegistrationYear</th>\n",
       "      <th>Gearbox</th>\n",
       "      <th>Power</th>\n",
       "      <th>Model</th>\n",
       "      <th>Kilometer</th>\n",
       "      <th>RegistrationMonth</th>\n",
       "      <th>FuelType</th>\n",
       "      <th>Brand</th>\n",
       "      <th>NotRepaired</th>\n",
       "      <th>DateCreated</th>\n",
       "      <th>NumberOfPictures</th>\n",
       "      <th>PostalCode</th>\n",
       "      <th>LastSeen</th>\n",
       "    </tr>\n",
       "  </thead>\n",
       "  <tbody>\n",
       "    <tr>\n",
       "      <th>0</th>\n",
       "      <td>2016-03-24 11:52:17</td>\n",
       "      <td>480</td>\n",
       "      <td>NaN</td>\n",
       "      <td>1993</td>\n",
       "      <td>manual</td>\n",
       "      <td>0</td>\n",
       "      <td>golf</td>\n",
       "      <td>150000</td>\n",
       "      <td>0</td>\n",
       "      <td>petrol</td>\n",
       "      <td>volkswagen</td>\n",
       "      <td>NaN</td>\n",
       "      <td>2016-03-24 00:00:00</td>\n",
       "      <td>0</td>\n",
       "      <td>70435</td>\n",
       "      <td>2016-04-07 03:16:57</td>\n",
       "    </tr>\n",
       "    <tr>\n",
       "      <th>1</th>\n",
       "      <td>2016-03-24 10:58:45</td>\n",
       "      <td>18300</td>\n",
       "      <td>coupe</td>\n",
       "      <td>2011</td>\n",
       "      <td>manual</td>\n",
       "      <td>190</td>\n",
       "      <td>NaN</td>\n",
       "      <td>125000</td>\n",
       "      <td>5</td>\n",
       "      <td>gasoline</td>\n",
       "      <td>audi</td>\n",
       "      <td>yes</td>\n",
       "      <td>2016-03-24 00:00:00</td>\n",
       "      <td>0</td>\n",
       "      <td>66954</td>\n",
       "      <td>2016-04-07 01:46:50</td>\n",
       "    </tr>\n",
       "    <tr>\n",
       "      <th>2</th>\n",
       "      <td>2016-03-14 12:52:21</td>\n",
       "      <td>9800</td>\n",
       "      <td>suv</td>\n",
       "      <td>2004</td>\n",
       "      <td>auto</td>\n",
       "      <td>163</td>\n",
       "      <td>grand</td>\n",
       "      <td>125000</td>\n",
       "      <td>8</td>\n",
       "      <td>gasoline</td>\n",
       "      <td>jeep</td>\n",
       "      <td>NaN</td>\n",
       "      <td>2016-03-14 00:00:00</td>\n",
       "      <td>0</td>\n",
       "      <td>90480</td>\n",
       "      <td>2016-04-05 12:47:46</td>\n",
       "    </tr>\n",
       "    <tr>\n",
       "      <th>3</th>\n",
       "      <td>2016-03-17 16:54:04</td>\n",
       "      <td>1500</td>\n",
       "      <td>small</td>\n",
       "      <td>2001</td>\n",
       "      <td>manual</td>\n",
       "      <td>75</td>\n",
       "      <td>golf</td>\n",
       "      <td>150000</td>\n",
       "      <td>6</td>\n",
       "      <td>petrol</td>\n",
       "      <td>volkswagen</td>\n",
       "      <td>no</td>\n",
       "      <td>2016-03-17 00:00:00</td>\n",
       "      <td>0</td>\n",
       "      <td>91074</td>\n",
       "      <td>2016-03-17 17:40:17</td>\n",
       "    </tr>\n",
       "    <tr>\n",
       "      <th>4</th>\n",
       "      <td>2016-03-31 17:25:20</td>\n",
       "      <td>3600</td>\n",
       "      <td>small</td>\n",
       "      <td>2008</td>\n",
       "      <td>manual</td>\n",
       "      <td>69</td>\n",
       "      <td>fabia</td>\n",
       "      <td>90000</td>\n",
       "      <td>7</td>\n",
       "      <td>gasoline</td>\n",
       "      <td>skoda</td>\n",
       "      <td>no</td>\n",
       "      <td>2016-03-31 00:00:00</td>\n",
       "      <td>0</td>\n",
       "      <td>60437</td>\n",
       "      <td>2016-04-06 10:17:21</td>\n",
       "    </tr>\n",
       "  </tbody>\n",
       "</table>\n",
       "</div>"
      ],
      "text/plain": [
       "           DateCrawled  Price VehicleType  RegistrationYear Gearbox  Power  \\\n",
       "0  2016-03-24 11:52:17    480         NaN              1993  manual      0   \n",
       "1  2016-03-24 10:58:45  18300       coupe              2011  manual    190   \n",
       "2  2016-03-14 12:52:21   9800         suv              2004    auto    163   \n",
       "3  2016-03-17 16:54:04   1500       small              2001  manual     75   \n",
       "4  2016-03-31 17:25:20   3600       small              2008  manual     69   \n",
       "\n",
       "   Model  Kilometer  RegistrationMonth  FuelType       Brand NotRepaired  \\\n",
       "0   golf     150000                  0    petrol  volkswagen         NaN   \n",
       "1    NaN     125000                  5  gasoline        audi         yes   \n",
       "2  grand     125000                  8  gasoline        jeep         NaN   \n",
       "3   golf     150000                  6    petrol  volkswagen          no   \n",
       "4  fabia      90000                  7  gasoline       skoda          no   \n",
       "\n",
       "           DateCreated  NumberOfPictures  PostalCode             LastSeen  \n",
       "0  2016-03-24 00:00:00                 0       70435  2016-04-07 03:16:57  \n",
       "1  2016-03-24 00:00:00                 0       66954  2016-04-07 01:46:50  \n",
       "2  2016-03-14 00:00:00                 0       90480  2016-04-05 12:47:46  \n",
       "3  2016-03-17 00:00:00                 0       91074  2016-03-17 17:40:17  \n",
       "4  2016-03-31 00:00:00                 0       60437  2016-04-06 10:17:21  "
      ]
     },
     "metadata": {},
     "output_type": "display_data"
    },
    {
     "name": "stdout",
     "output_type": "stream",
     "text": [
      "=======================================\n",
      "Общая информация по датасету:\n",
      "=======================================\n",
      "<class 'pandas.core.frame.DataFrame'>\n",
      "RangeIndex: 354369 entries, 0 to 354368\n",
      "Data columns (total 16 columns):\n",
      " #   Column             Non-Null Count   Dtype \n",
      "---  ------             --------------   ----- \n",
      " 0   DateCrawled        354369 non-null  object\n",
      " 1   Price              354369 non-null  int64 \n",
      " 2   VehicleType        316879 non-null  object\n",
      " 3   RegistrationYear   354369 non-null  int64 \n",
      " 4   Gearbox            334536 non-null  object\n",
      " 5   Power              354369 non-null  int64 \n",
      " 6   Model              334664 non-null  object\n",
      " 7   Kilometer          354369 non-null  int64 \n",
      " 8   RegistrationMonth  354369 non-null  int64 \n",
      " 9   FuelType           321474 non-null  object\n",
      " 10  Brand              354369 non-null  object\n",
      " 11  NotRepaired        283215 non-null  object\n",
      " 12  DateCreated        354369 non-null  object\n",
      " 13  NumberOfPictures   354369 non-null  int64 \n",
      " 14  PostalCode         354369 non-null  int64 \n",
      " 15  LastSeen           354369 non-null  object\n",
      "dtypes: int64(7), object(9)\n",
      "memory usage: 43.3+ MB\n",
      "None\n",
      "=======================================\n",
      "Статистическая информация по датасету:\n",
      "=======================================\n"
     ]
    },
    {
     "data": {
      "text/html": [
       "<div>\n",
       "<style scoped>\n",
       "    .dataframe tbody tr th:only-of-type {\n",
       "        vertical-align: middle;\n",
       "    }\n",
       "\n",
       "    .dataframe tbody tr th {\n",
       "        vertical-align: top;\n",
       "    }\n",
       "\n",
       "    .dataframe thead th {\n",
       "        text-align: right;\n",
       "    }\n",
       "</style>\n",
       "<table border=\"1\" class=\"dataframe\">\n",
       "  <thead>\n",
       "    <tr style=\"text-align: right;\">\n",
       "      <th></th>\n",
       "      <th>Price</th>\n",
       "      <th>RegistrationYear</th>\n",
       "      <th>Power</th>\n",
       "      <th>Kilometer</th>\n",
       "      <th>RegistrationMonth</th>\n",
       "      <th>NumberOfPictures</th>\n",
       "      <th>PostalCode</th>\n",
       "    </tr>\n",
       "  </thead>\n",
       "  <tbody>\n",
       "    <tr>\n",
       "      <th>count</th>\n",
       "      <td>354369.000000</td>\n",
       "      <td>354369.000000</td>\n",
       "      <td>354369.000000</td>\n",
       "      <td>354369.000000</td>\n",
       "      <td>354369.000000</td>\n",
       "      <td>354369.0</td>\n",
       "      <td>354369.000000</td>\n",
       "    </tr>\n",
       "    <tr>\n",
       "      <th>mean</th>\n",
       "      <td>4416.656776</td>\n",
       "      <td>2004.234448</td>\n",
       "      <td>110.094337</td>\n",
       "      <td>128211.172535</td>\n",
       "      <td>5.714645</td>\n",
       "      <td>0.0</td>\n",
       "      <td>50508.689087</td>\n",
       "    </tr>\n",
       "    <tr>\n",
       "      <th>std</th>\n",
       "      <td>4514.158514</td>\n",
       "      <td>90.227958</td>\n",
       "      <td>189.850405</td>\n",
       "      <td>37905.341530</td>\n",
       "      <td>3.726421</td>\n",
       "      <td>0.0</td>\n",
       "      <td>25783.096248</td>\n",
       "    </tr>\n",
       "    <tr>\n",
       "      <th>min</th>\n",
       "      <td>0.000000</td>\n",
       "      <td>1000.000000</td>\n",
       "      <td>0.000000</td>\n",
       "      <td>5000.000000</td>\n",
       "      <td>0.000000</td>\n",
       "      <td>0.0</td>\n",
       "      <td>1067.000000</td>\n",
       "    </tr>\n",
       "    <tr>\n",
       "      <th>25%</th>\n",
       "      <td>1050.000000</td>\n",
       "      <td>1999.000000</td>\n",
       "      <td>69.000000</td>\n",
       "      <td>125000.000000</td>\n",
       "      <td>3.000000</td>\n",
       "      <td>0.0</td>\n",
       "      <td>30165.000000</td>\n",
       "    </tr>\n",
       "    <tr>\n",
       "      <th>50%</th>\n",
       "      <td>2700.000000</td>\n",
       "      <td>2003.000000</td>\n",
       "      <td>105.000000</td>\n",
       "      <td>150000.000000</td>\n",
       "      <td>6.000000</td>\n",
       "      <td>0.0</td>\n",
       "      <td>49413.000000</td>\n",
       "    </tr>\n",
       "    <tr>\n",
       "      <th>75%</th>\n",
       "      <td>6400.000000</td>\n",
       "      <td>2008.000000</td>\n",
       "      <td>143.000000</td>\n",
       "      <td>150000.000000</td>\n",
       "      <td>9.000000</td>\n",
       "      <td>0.0</td>\n",
       "      <td>71083.000000</td>\n",
       "    </tr>\n",
       "    <tr>\n",
       "      <th>max</th>\n",
       "      <td>20000.000000</td>\n",
       "      <td>9999.000000</td>\n",
       "      <td>20000.000000</td>\n",
       "      <td>150000.000000</td>\n",
       "      <td>12.000000</td>\n",
       "      <td>0.0</td>\n",
       "      <td>99998.000000</td>\n",
       "    </tr>\n",
       "  </tbody>\n",
       "</table>\n",
       "</div>"
      ],
      "text/plain": [
       "               Price  RegistrationYear          Power      Kilometer  \\\n",
       "count  354369.000000     354369.000000  354369.000000  354369.000000   \n",
       "mean     4416.656776       2004.234448     110.094337  128211.172535   \n",
       "std      4514.158514         90.227958     189.850405   37905.341530   \n",
       "min         0.000000       1000.000000       0.000000    5000.000000   \n",
       "25%      1050.000000       1999.000000      69.000000  125000.000000   \n",
       "50%      2700.000000       2003.000000     105.000000  150000.000000   \n",
       "75%      6400.000000       2008.000000     143.000000  150000.000000   \n",
       "max     20000.000000       9999.000000   20000.000000  150000.000000   \n",
       "\n",
       "       RegistrationMonth  NumberOfPictures     PostalCode  \n",
       "count      354369.000000          354369.0  354369.000000  \n",
       "mean            5.714645               0.0   50508.689087  \n",
       "std             3.726421               0.0   25783.096248  \n",
       "min             0.000000               0.0    1067.000000  \n",
       "25%             3.000000               0.0   30165.000000  \n",
       "50%             6.000000               0.0   49413.000000  \n",
       "75%             9.000000               0.0   71083.000000  \n",
       "max            12.000000               0.0   99998.000000  "
      ]
     },
     "metadata": {},
     "output_type": "display_data"
    },
    {
     "name": "stdout",
     "output_type": "stream",
     "text": [
      "=======================================\n",
      "Количество пропусков по столбцам:\n",
      "=======================================\n",
      "DateCrawled              0\n",
      "Price                    0\n",
      "VehicleType          37490\n",
      "RegistrationYear         0\n",
      "Gearbox              19833\n",
      "Power                    0\n",
      "Model                19705\n",
      "Kilometer                0\n",
      "RegistrationMonth        0\n",
      "FuelType             32895\n",
      "Brand                    0\n",
      "NotRepaired          71154\n",
      "DateCreated              0\n",
      "NumberOfPictures         0\n",
      "PostalCode               0\n",
      "LastSeen                 0\n",
      "dtype: int64\n",
      "Количество дубликатов:\n",
      "=======================================\n",
      "4\n"
     ]
    }
   ],
   "source": [
    "df = file_reader(\"/datasets/autos.csv\")"
   ]
  },
  {
   "cell_type": "markdown",
   "metadata": {},
   "source": [
    "**Промежуточные наблюдения №1:**\n",
    "\n",
    "- Признаки DateCrawled, RegistrationMonth, DateCreated, NumberOfPictures, PostalCode, LastSeen - не будем использовать в прогнозировании как неинформативные в плане предикции цены\n",
    "- Формат признака NotRepaired заменим с no/yes на 0/1 (с object на int).\n",
    "- Минимальная цена (целевой признак) = 0. \n",
    "- Минимальный год регистрации автомобиля (Registration Year) = 1000, максимальный = 9999.\n",
    "- Минимальная мощность автомобиля (Power) = 0, максимальная = 20000.\n",
    "- Наблюдаем пропуски в признаках VehicleType, Gearbox, Model, FuelType. Их можно заменить по среднему значению данных остальных столбцов. Большое число пропусков в признаке NotRepaired (>70 тыс наблюдений), заменим пропуски на 0 (не была в ремонте).\n",
    "- В признаке Brand нет пропусков, а для моделей около 20 тыс пропусков.\n",
    "- Всего выявлено 4 дубликата. Необходимо произвести проверку, из-за чего данные могли задублироваться (ошибка ввода данных, когда одно и то же наблюдение случайно было введено более одного раза, ошибка при выгрузке данных и тд)\n"
   ]
  },
  {
   "cell_type": "code",
   "execution_count": 4,
   "metadata": {},
   "outputs": [],
   "source": [
    "#фукнкция определения пропусков и нулей\n",
    "def zero_na_table(dataset):\n",
    "    zeros = (dataset==0).sum()\n",
    "    nas = dataset.isna().sum()\n",
    "    zeros_percent = (dataset==0).sum() / len(dataset) * 100\n",
    "    nas_percent = dataset.isna().sum() / len(dataset) * 100\n",
    "    investigation_table = pd.concat([zeros, zeros_percent, nas, nas_percent], axis=1)\n",
    "    investigation_table = investigation_table.rename(columns={0:\"Zero values\", 1:\"Zero values %\", 2:\"Missing values\", 3:\"Missing values %\"})\n",
    "    display(investigation_table)\n",
    "    print('Общее число наблюдений: {0}'.format(len(dataset)))\n"
   ]
  },
  {
   "cell_type": "code",
   "execution_count": 5,
   "metadata": {},
   "outputs": [
    {
     "data": {
      "text/html": [
       "<div>\n",
       "<style scoped>\n",
       "    .dataframe tbody tr th:only-of-type {\n",
       "        vertical-align: middle;\n",
       "    }\n",
       "\n",
       "    .dataframe tbody tr th {\n",
       "        vertical-align: top;\n",
       "    }\n",
       "\n",
       "    .dataframe thead th {\n",
       "        text-align: right;\n",
       "    }\n",
       "</style>\n",
       "<table border=\"1\" class=\"dataframe\">\n",
       "  <thead>\n",
       "    <tr style=\"text-align: right;\">\n",
       "      <th></th>\n",
       "      <th>Zero values</th>\n",
       "      <th>Zero values %</th>\n",
       "      <th>Missing values</th>\n",
       "      <th>Missing values %</th>\n",
       "    </tr>\n",
       "  </thead>\n",
       "  <tbody>\n",
       "    <tr>\n",
       "      <th>DateCrawled</th>\n",
       "      <td>0</td>\n",
       "      <td>0.000000</td>\n",
       "      <td>0</td>\n",
       "      <td>0.000000</td>\n",
       "    </tr>\n",
       "    <tr>\n",
       "      <th>Price</th>\n",
       "      <td>10772</td>\n",
       "      <td>3.039769</td>\n",
       "      <td>0</td>\n",
       "      <td>0.000000</td>\n",
       "    </tr>\n",
       "    <tr>\n",
       "      <th>VehicleType</th>\n",
       "      <td>0</td>\n",
       "      <td>0.000000</td>\n",
       "      <td>37490</td>\n",
       "      <td>10.579368</td>\n",
       "    </tr>\n",
       "    <tr>\n",
       "      <th>RegistrationYear</th>\n",
       "      <td>0</td>\n",
       "      <td>0.000000</td>\n",
       "      <td>0</td>\n",
       "      <td>0.000000</td>\n",
       "    </tr>\n",
       "    <tr>\n",
       "      <th>Gearbox</th>\n",
       "      <td>0</td>\n",
       "      <td>0.000000</td>\n",
       "      <td>19833</td>\n",
       "      <td>5.596709</td>\n",
       "    </tr>\n",
       "    <tr>\n",
       "      <th>Power</th>\n",
       "      <td>40225</td>\n",
       "      <td>11.351162</td>\n",
       "      <td>0</td>\n",
       "      <td>0.000000</td>\n",
       "    </tr>\n",
       "    <tr>\n",
       "      <th>Model</th>\n",
       "      <td>0</td>\n",
       "      <td>0.000000</td>\n",
       "      <td>19705</td>\n",
       "      <td>5.560588</td>\n",
       "    </tr>\n",
       "    <tr>\n",
       "      <th>Kilometer</th>\n",
       "      <td>0</td>\n",
       "      <td>0.000000</td>\n",
       "      <td>0</td>\n",
       "      <td>0.000000</td>\n",
       "    </tr>\n",
       "    <tr>\n",
       "      <th>RegistrationMonth</th>\n",
       "      <td>37352</td>\n",
       "      <td>10.540425</td>\n",
       "      <td>0</td>\n",
       "      <td>0.000000</td>\n",
       "    </tr>\n",
       "    <tr>\n",
       "      <th>FuelType</th>\n",
       "      <td>0</td>\n",
       "      <td>0.000000</td>\n",
       "      <td>32895</td>\n",
       "      <td>9.282697</td>\n",
       "    </tr>\n",
       "    <tr>\n",
       "      <th>Brand</th>\n",
       "      <td>0</td>\n",
       "      <td>0.000000</td>\n",
       "      <td>0</td>\n",
       "      <td>0.000000</td>\n",
       "    </tr>\n",
       "    <tr>\n",
       "      <th>NotRepaired</th>\n",
       "      <td>0</td>\n",
       "      <td>0.000000</td>\n",
       "      <td>71154</td>\n",
       "      <td>20.079070</td>\n",
       "    </tr>\n",
       "    <tr>\n",
       "      <th>DateCreated</th>\n",
       "      <td>0</td>\n",
       "      <td>0.000000</td>\n",
       "      <td>0</td>\n",
       "      <td>0.000000</td>\n",
       "    </tr>\n",
       "    <tr>\n",
       "      <th>NumberOfPictures</th>\n",
       "      <td>354369</td>\n",
       "      <td>100.000000</td>\n",
       "      <td>0</td>\n",
       "      <td>0.000000</td>\n",
       "    </tr>\n",
       "    <tr>\n",
       "      <th>PostalCode</th>\n",
       "      <td>0</td>\n",
       "      <td>0.000000</td>\n",
       "      <td>0</td>\n",
       "      <td>0.000000</td>\n",
       "    </tr>\n",
       "    <tr>\n",
       "      <th>LastSeen</th>\n",
       "      <td>0</td>\n",
       "      <td>0.000000</td>\n",
       "      <td>0</td>\n",
       "      <td>0.000000</td>\n",
       "    </tr>\n",
       "  </tbody>\n",
       "</table>\n",
       "</div>"
      ],
      "text/plain": [
       "                   Zero values  Zero values %  Missing values  \\\n",
       "DateCrawled                  0       0.000000               0   \n",
       "Price                    10772       3.039769               0   \n",
       "VehicleType                  0       0.000000           37490   \n",
       "RegistrationYear             0       0.000000               0   \n",
       "Gearbox                      0       0.000000           19833   \n",
       "Power                    40225      11.351162               0   \n",
       "Model                        0       0.000000           19705   \n",
       "Kilometer                    0       0.000000               0   \n",
       "RegistrationMonth        37352      10.540425               0   \n",
       "FuelType                     0       0.000000           32895   \n",
       "Brand                        0       0.000000               0   \n",
       "NotRepaired                  0       0.000000           71154   \n",
       "DateCreated                  0       0.000000               0   \n",
       "NumberOfPictures        354369     100.000000               0   \n",
       "PostalCode                   0       0.000000               0   \n",
       "LastSeen                     0       0.000000               0   \n",
       "\n",
       "                   Missing values %  \n",
       "DateCrawled                0.000000  \n",
       "Price                      0.000000  \n",
       "VehicleType               10.579368  \n",
       "RegistrationYear           0.000000  \n",
       "Gearbox                    5.596709  \n",
       "Power                      0.000000  \n",
       "Model                      5.560588  \n",
       "Kilometer                  0.000000  \n",
       "RegistrationMonth          0.000000  \n",
       "FuelType                   9.282697  \n",
       "Brand                      0.000000  \n",
       "NotRepaired               20.079070  \n",
       "DateCreated                0.000000  \n",
       "NumberOfPictures           0.000000  \n",
       "PostalCode                 0.000000  \n",
       "LastSeen                   0.000000  "
      ]
     },
     "metadata": {},
     "output_type": "display_data"
    },
    {
     "name": "stdout",
     "output_type": "stream",
     "text": [
      "Общее число наблюдений: 354369\n"
     ]
    }
   ],
   "source": [
    "zero_na_table(df)"
   ]
  },
  {
   "cell_type": "code",
   "execution_count": 6,
   "metadata": {},
   "outputs": [],
   "source": [
    "length_before = len(df)"
   ]
  },
  {
   "cell_type": "code",
   "execution_count": 7,
   "metadata": {},
   "outputs": [
    {
     "data": {
      "text/plain": [
       "0.030397692800442477"
      ]
     },
     "execution_count": 7,
     "metadata": {},
     "output_type": "execute_result"
    }
   ],
   "source": [
    "#доля нулей по цене\n",
    "len(df[df['Price'] == 0])/len(df)"
   ]
  },
  {
   "cell_type": "code",
   "execution_count": 8,
   "metadata": {},
   "outputs": [
    {
     "data": {
      "text/plain": [
       "0.0037757253032855583"
      ]
     },
     "execution_count": 8,
     "metadata": {},
     "output_type": "execute_result"
    }
   ],
   "source": [
    "#доля наблюдений с регистрацией до 1970 года\n",
    "len(df[df['RegistrationYear'] < 1970])/len(df)"
   ]
  },
  {
   "cell_type": "code",
   "execution_count": 9,
   "metadata": {},
   "outputs": [
    {
     "data": {
      "text/plain": [
       "0.00029630131303810434"
      ]
     },
     "execution_count": 9,
     "metadata": {},
     "output_type": "execute_result"
    }
   ],
   "source": [
    "#доля наблюдений с регистрацией после 2022 года\n",
    "len(df[(df['RegistrationYear'] > 2022)])/len(df)"
   ]
  },
  {
   "cell_type": "code",
   "execution_count": 10,
   "metadata": {},
   "outputs": [
    {
     "data": {
      "text/plain": [
       "0.11351162206626426"
      ]
     },
     "execution_count": 10,
     "metadata": {},
     "output_type": "execute_result"
    }
   ],
   "source": [
    "#доля нулей мощности\n",
    "len(df[(df['Power'] == 0)])/len(df)"
   ]
  },
  {
   "cell_type": "code",
   "execution_count": 11,
   "metadata": {},
   "outputs": [
    {
     "data": {
      "text/plain": [
       "0.0008522190146429287"
      ]
     },
     "execution_count": 11,
     "metadata": {},
     "output_type": "execute_result"
    }
   ],
   "source": [
    "#доля сверхмощных авто >1000 лс\n",
    "len(df[(df['Power'] > 1000)])/len(df)"
   ]
  },
  {
   "cell_type": "code",
   "execution_count": 12,
   "metadata": {},
   "outputs": [
    {
     "data": {
      "text/plain": [
       "0.13592893283554713"
      ]
     },
     "execution_count": 12,
     "metadata": {},
     "output_type": "execute_result"
    }
   ],
   "source": [
    "#общая доля вышеперечисленных условий\n",
    "len(df[(df['Price'] == 0) | (df['RegistrationYear'] < 1970) | (df['RegistrationYear'] > 2022) | (df['Power'] == 0) | (df['Power'] > 1000)])/len(df)"
   ]
  },
  {
   "cell_type": "code",
   "execution_count": 13,
   "metadata": {},
   "outputs": [
    {
     "data": {
      "text/plain": [
       "0.034740623474400975"
      ]
     },
     "execution_count": 13,
     "metadata": {},
     "output_type": "execute_result"
    }
   ],
   "source": [
    "#общая доля вышеперечисленных условий без нулевой мощности\n",
    "len(df[(df['Price'] == 0) | (df['RegistrationYear'] < 1970) | (df['RegistrationYear'] > 2022) | (df['Power'] > 1000)])/len(df)"
   ]
  },
  {
   "cell_type": "markdown",
   "metadata": {},
   "source": [
    "**Промежуточные наблюдения №2:**\n",
    "\n",
    "- Доля наблюдений с нулевой ценой примерно равна 3%.\n",
    "- Доля наблюдений со старыми машинами до 1970-го регистрации года примерно равна 0.4%.\n",
    "- Доля наблюдений с ошибочным годом регистрации (после 2022-го года) примерно равна 0.03%.\n",
    "- Доля наблюдений со сверхмощностью (>1000 лс) примерно равна 0.09%.\n",
    "- **Доля наблюдений с нулевой мощностью примерно равна 11.3%.**\n",
    "- Общая доля по всем \"проблемным\" наблюдениям примерно равна 13.6%, эта же доля без наблюдений с нулевой мощностью - примерно 3.5%.\n",
    "\n",
    "\n",
    "- Необходимо заполнить нулевые мощности на медиану по имеющимся моделям автомобилей"
   ]
  },
  {
   "cell_type": "markdown",
   "metadata": {},
   "source": [
    "1. Удалим дубликаты"
   ]
  },
  {
   "cell_type": "code",
   "execution_count": 14,
   "metadata": {},
   "outputs": [
    {
     "data": {
      "text/plain": [
       "4"
      ]
     },
     "execution_count": 14,
     "metadata": {},
     "output_type": "execute_result"
    }
   ],
   "source": [
    "df.duplicated().sum()"
   ]
  },
  {
   "cell_type": "code",
   "execution_count": 15,
   "metadata": {},
   "outputs": [],
   "source": [
    "df = df.drop_duplicates()"
   ]
  },
  {
   "cell_type": "code",
   "execution_count": 16,
   "metadata": {},
   "outputs": [
    {
     "data": {
      "text/plain": [
       "0"
      ]
     },
     "execution_count": 16,
     "metadata": {},
     "output_type": "execute_result"
    }
   ],
   "source": [
    "df.duplicated().sum()"
   ]
  },
  {
   "cell_type": "markdown",
   "metadata": {},
   "source": [
    "2. Удалим неинформативные для предикции столбцы"
   ]
  },
  {
   "cell_type": "code",
   "execution_count": 17,
   "metadata": {},
   "outputs": [],
   "source": [
    "df = df.drop(['DateCrawled', 'RegistrationMonth', 'DateCreated', 'NumberOfPictures', 'PostalCode', 'LastSeen'], axis=1)"
   ]
  },
  {
   "cell_type": "markdown",
   "metadata": {},
   "source": [
    "3. Заменим наблюдения с нулевой мощностью на пропуски."
   ]
  },
  {
   "cell_type": "code",
   "execution_count": 18,
   "metadata": {},
   "outputs": [],
   "source": [
    "df['Power'][(df['Power'] <= 0)] = None"
   ]
  },
  {
   "cell_type": "code",
   "execution_count": 19,
   "metadata": {},
   "outputs": [
    {
     "data": {
      "text/plain": [
       "354365"
      ]
     },
     "execution_count": 19,
     "metadata": {},
     "output_type": "execute_result"
    }
   ],
   "source": [
    "len(df)"
   ]
  },
  {
   "cell_type": "markdown",
   "metadata": {},
   "source": [
    "4. Удалим безмодельные записи, заполним пропуски по моделям"
   ]
  },
  {
   "cell_type": "markdown",
   "metadata": {},
   "source": [
    "Зная модель автомобиля, можно предположить информацию по типу коробки, типу автомобильного кузова, типу топлива и мощности. "
   ]
  },
  {
   "cell_type": "code",
   "execution_count": 20,
   "metadata": {},
   "outputs": [],
   "source": [
    "df = df[~df['Model'].isna()]"
   ]
  },
  {
   "cell_type": "code",
   "execution_count": 21,
   "metadata": {},
   "outputs": [],
   "source": [
    "def na_median_filler(dataset, column, *filler):\n",
    "    '''\n",
    "    Метод заполняет пропуски столбца column медианой столбцов filler\n",
    "    '''\n",
    "    return (dataset[column].fillna(dataset.groupby(*filler)[column].transform('median')))\n",
    "\n",
    "def na_mode_filler(dataset, column, *filler):\n",
    "    '''\n",
    "    Метод заполняет пропуски столбца column модой столбцов filler\n",
    "    '''\n",
    "    return (dataset[column].fillna(dataset.groupby(*filler)[column].transform(lambda x: x.value_counts().idxmax())))"
   ]
  },
  {
   "cell_type": "code",
   "execution_count": 22,
   "metadata": {},
   "outputs": [
    {
     "data": {
      "text/plain": [
       "Price                   0\n",
       "VehicleType         30662\n",
       "RegistrationYear        0\n",
       "Gearbox             15702\n",
       "Power               33931\n",
       "Model                   0\n",
       "Kilometer               0\n",
       "FuelType            25732\n",
       "Brand                   0\n",
       "NotRepaired         62100\n",
       "dtype: int64"
      ]
     },
     "execution_count": 22,
     "metadata": {},
     "output_type": "execute_result"
    }
   ],
   "source": [
    "df.isna().sum()"
   ]
  },
  {
   "cell_type": "code",
   "execution_count": 23,
   "metadata": {},
   "outputs": [],
   "source": [
    "df['Gearbox'] = na_mode_filler(df, 'Gearbox', ['Model'])"
   ]
  },
  {
   "cell_type": "code",
   "execution_count": 24,
   "metadata": {},
   "outputs": [],
   "source": [
    "df['FuelType'] = na_mode_filler(df, 'FuelType', ['Model'])"
   ]
  },
  {
   "cell_type": "code",
   "execution_count": 25,
   "metadata": {},
   "outputs": [],
   "source": [
    "df['VehicleType'] = na_mode_filler(df, 'VehicleType', ['Model'])"
   ]
  },
  {
   "cell_type": "code",
   "execution_count": 26,
   "metadata": {},
   "outputs": [],
   "source": [
    "df['Power'] = na_median_filler(df, 'Power', ['Model'])"
   ]
  },
  {
   "cell_type": "markdown",
   "metadata": {},
   "source": [
    "Удалим наблюдения 1) с нулевой ценой 2) с машинами до 1970-го года и после 2022-го года 3) со сверхмощными автомобилями (>1000 лс). "
   ]
  },
  {
   "cell_type": "code",
   "execution_count": 27,
   "metadata": {
    "scrolled": true
   },
   "outputs": [
    {
     "data": {
      "text/plain": [
       "334660"
      ]
     },
     "execution_count": 27,
     "metadata": {},
     "output_type": "execute_result"
    }
   ],
   "source": [
    "len(df)"
   ]
  },
  {
   "cell_type": "code",
   "execution_count": 28,
   "metadata": {},
   "outputs": [],
   "source": [
    "df = df[(df['Price'] > 0) & (df['RegistrationYear'] >= 1970) & (df['RegistrationYear'] < 2022) & (df['Power'] < 1000)]"
   ]
  },
  {
   "cell_type": "code",
   "execution_count": 29,
   "metadata": {},
   "outputs": [
    {
     "data": {
      "text/plain": [
       "324980"
      ]
     },
     "execution_count": 29,
     "metadata": {},
     "output_type": "execute_result"
    }
   ],
   "source": [
    "len(df)"
   ]
  },
  {
   "cell_type": "code",
   "execution_count": 30,
   "metadata": {},
   "outputs": [
    {
     "data": {
      "text/plain": [
       "Price                   0\n",
       "VehicleType             0\n",
       "RegistrationYear        0\n",
       "Gearbox                 0\n",
       "Power                   0\n",
       "Model                   0\n",
       "Kilometer               0\n",
       "FuelType                0\n",
       "Brand                   0\n",
       "NotRepaired         57906\n",
       "dtype: int64"
      ]
     },
     "execution_count": 30,
     "metadata": {},
     "output_type": "execute_result"
    }
   ],
   "source": [
    "df.isna().sum()"
   ]
  },
  {
   "cell_type": "markdown",
   "metadata": {},
   "source": [
    "Большой количество пропусков по признаку отремонтированного авто 'NotRepaired'. Удалять не корректно, слишком большой объем. Будем считать, что неуказанная информация говорит об отсутствии ремонта. В будущем необходимо сделать это поле ввода обязательным для заполнения."
   ]
  },
  {
   "cell_type": "code",
   "execution_count": 31,
   "metadata": {},
   "outputs": [],
   "source": [
    "df['NotRepaired'] = df['NotRepaired'].map({'yes':1, 'no':0})\n",
    "df['NotRepaired'] = df['NotRepaired'].fillna(0)\n",
    "df['NotRepaired'] = df['NotRepaired'].astype('int')"
   ]
  },
  {
   "cell_type": "code",
   "execution_count": 32,
   "metadata": {},
   "outputs": [
    {
     "data": {
      "text/plain": [
       "Price               0\n",
       "VehicleType         0\n",
       "RegistrationYear    0\n",
       "Gearbox             0\n",
       "Power               0\n",
       "Model               0\n",
       "Kilometer           0\n",
       "FuelType            0\n",
       "Brand               0\n",
       "NotRepaired         0\n",
       "dtype: int64"
      ]
     },
     "execution_count": 32,
     "metadata": {},
     "output_type": "execute_result"
    }
   ],
   "source": [
    "df.isna().sum()"
   ]
  },
  {
   "cell_type": "code",
   "execution_count": 33,
   "metadata": {},
   "outputs": [
    {
     "name": "stdout",
     "output_type": "stream",
     "text": [
      "<class 'pandas.core.frame.DataFrame'>\n",
      "Int64Index: 324980 entries, 0 to 354368\n",
      "Data columns (total 10 columns):\n",
      " #   Column            Non-Null Count   Dtype  \n",
      "---  ------            --------------   -----  \n",
      " 0   Price             324980 non-null  int64  \n",
      " 1   VehicleType       324980 non-null  object \n",
      " 2   RegistrationYear  324980 non-null  int64  \n",
      " 3   Gearbox           324980 non-null  object \n",
      " 4   Power             324980 non-null  float64\n",
      " 5   Model             324980 non-null  object \n",
      " 6   Kilometer         324980 non-null  int64  \n",
      " 7   FuelType          324980 non-null  object \n",
      " 8   Brand             324980 non-null  object \n",
      " 9   NotRepaired       324980 non-null  int64  \n",
      "dtypes: float64(1), int64(4), object(5)\n",
      "memory usage: 27.3+ MB\n"
     ]
    }
   ],
   "source": [
    "df.info()"
   ]
  },
  {
   "cell_type": "code",
   "execution_count": 34,
   "metadata": {},
   "outputs": [],
   "source": [
    "features_to_distplot = ['Price', 'Power', 'Kilometer']\n",
    "features_to_barplot = ['VehicleType', 'Gearbox', 'FuelType', 'NotRepaired']\n",
    "features_to_pieplot = ['Brand', 'Model']"
   ]
  },
  {
   "cell_type": "code",
   "execution_count": 35,
   "metadata": {},
   "outputs": [],
   "source": [
    "#функция построения графиков\n",
    "def hist_builder(data_column, label, bins):\n",
    "   \n",
    "    sns.set(rc={\"figure.figsize\":(15, 15)}, font_scale=1)\n",
    "    f, axes = plt.subplots(1, 2)\n",
    "    \n",
    "    \n",
    "    (sns.distplot(data_column, bins=bins, ax=axes[0])\n",
    "     .set(title='Плотность распределения признака: {0}'.format(label),\n",
    "          xlabel='Признак {0}'.format(label),\n",
    "          ylabel='Плотность признака {0}'.format(label)))\n",
    "\n",
    "    (sns.boxplot(data_column, orient='h', ax=axes[1])\n",
    "       .set(title='Boxplot для признака {0}'.format(label),\n",
    "        xlabel='Признак {0}'.format(label)))\n",
    "    plt.show()\n",
    "#функция анализа аномалий\n",
    "def anomaly_detection(data_column, label):\n",
    "    anomaly_threshold_up = data_column.quantile(0.75) + (data_column.quantile(0.75) - data_column.quantile(0.25)) * 1.5\n",
    "    anomaly_threshold_down = data_column.quantile(0.25) - (data_column.quantile(0.75) - data_column.quantile(0.25)) * 1.5\n",
    "    anomaly_percent = round(len(data_column[(data_column > anomaly_threshold_up) | (data_column < anomaly_threshold_down)]) / len(data_column) * 100, 2)\n",
    "    print(\"Доля выбросов параметра \" + label + \" равно: \" + str(anomaly_percent) + \"%\")\n",
    "    \n",
    "#итоговая функция\n",
    "def check_param(bins, dataset):\n",
    "    print('=======================================')\n",
    "    print(\"Анализ параметров датасета\")\n",
    "    print('=======================================')\n",
    "    for column in dataset.columns:\n",
    "        print('=======================================')\n",
    "        print(\"Анализ параметра '\" + column + \"':\")\n",
    "        print('=======================================')\n",
    "        hist_builder(dataset[column], column, bins)\n",
    "        anomaly_detection(dataset[column], column)\n"
   ]
  },
  {
   "cell_type": "code",
   "execution_count": 36,
   "metadata": {},
   "outputs": [
    {
     "name": "stdout",
     "output_type": "stream",
     "text": [
      "=======================================\n",
      "Анализ параметров датасета\n",
      "=======================================\n",
      "=======================================\n",
      "Анализ параметра 'Price':\n",
      "=======================================\n"
     ]
    },
    {
     "data": {
      "image/png": "[encoded data removed]",
      "text/plain": [
       "<Figure size 1080x1080 with 2 Axes>"
      ]
     },
     "metadata": {},
     "output_type": "display_data"
    },
    {
     "name": "stdout",
     "output_type": "stream",
     "text": [
      "Доля выбросов параметра Price равно: 5.16%\n",
      "=======================================\n",
      "Анализ параметра 'Power':\n",
      "=======================================\n"
     ]
    },
    {
     "data": {
      "image/png": "[encoded data removed]",
      "text/plain": [
       "<Figure size 1080x1080 with 2 Axes>"
      ]
     },
     "metadata": {},
     "output_type": "display_data"
    },
    {
     "name": "stdout",
     "output_type": "stream",
     "text": [
      "Доля выбросов параметра Power равно: 2.0%\n",
      "=======================================\n",
      "Анализ параметра 'Kilometer':\n",
      "=======================================\n"
     ]
    },
    {
     "data": {
      "image/png": "[encoded data removed]",
      "text/plain": [
       "<Figure size 1080x1080 with 2 Axes>"
      ]
     },
     "metadata": {},
     "output_type": "display_data"
    },
    {
     "name": "stdout",
     "output_type": "stream",
     "text": [
      "Доля выбросов параметра Kilometer равно: 14.72%\n"
     ]
    }
   ],
   "source": [
    "#вызываем функцию осмотра параметров\n",
    "check_param(10, df[features_to_distplot])"
   ]
  },
  {
   "cell_type": "markdown",
   "metadata": {},
   "source": [
    "**Промежуточные наблюдения №3:**\n",
    "\n",
    "- Распределение целевого признака цены скошено вправо (медиана 2700 < среднего значения 4416). \n",
    "- Распределение признака мощности скошено вправо (медиана 105 < среднего значения 110). \n",
    "- Распределение признака километража скошено влево (медиана 150000 > среднего значения 128211). "
   ]
  },
  {
   "cell_type": "code",
   "execution_count": 37,
   "metadata": {},
   "outputs": [],
   "source": [
    "#функция построения столбчатых диаграмм\n",
    "def barplot_builder(dataset):\n",
    "    \n",
    "    print('=======================================')\n",
    "    print(\"Анализ параметров датасета\")\n",
    "    print('=======================================')\n",
    "    for column in dataset.columns:\n",
    "        print('=======================================')\n",
    "        print(\"Анализ параметра '\" + column + \"':\")\n",
    "        print('=======================================')\n",
    "        sns.set(rc={\"figure.figsize\":(10, 10)}, font_scale=1)   \n",
    "        (sns.barplot(x=dataset[column].value_counts().index, y=dataset[column].value_counts())\n",
    "             .set(title='Столбчатая диаграмма признака: {0}'.format(column),\n",
    "              xlabel='Признак {0}'.format(column),\n",
    "              ylabel='Количество наблюдений признака {0}'.format(column)))\n",
    "        plt.show()"
   ]
  },
  {
   "cell_type": "code",
   "execution_count": 38,
   "metadata": {
    "scrolled": false
   },
   "outputs": [
    {
     "name": "stdout",
     "output_type": "stream",
     "text": [
      "=======================================\n",
      "Анализ параметров датасета\n",
      "=======================================\n",
      "=======================================\n",
      "Анализ параметра 'VehicleType':\n",
      "=======================================\n"
     ]
    },
    {
     "data": {
      "image/png": "[encoded data removed]",
      "text/plain": [
       "<Figure size 720x720 with 1 Axes>"
      ]
     },
     "metadata": {},
     "output_type": "display_data"
    },
    {
     "name": "stdout",
     "output_type": "stream",
     "text": [
      "=======================================\n",
      "Анализ параметра 'Gearbox':\n",
      "=======================================\n"
     ]
    },
    {
     "data": {
      "image/png": "[encoded data removed]",
      "text/plain": [
       "<Figure size 720x720 with 1 Axes>"
      ]
     },
     "metadata": {},
     "output_type": "display_data"
    },
    {
     "name": "stdout",
     "output_type": "stream",
     "text": [
      "=======================================\n",
      "Анализ параметра 'FuelType':\n",
      "=======================================\n"
     ]
    },
    {
     "data": {
      "image/png": "[encoded data removed]",
      "text/plain": [
       "<Figure size 720x720 with 1 Axes>"
      ]
     },
     "metadata": {},
     "output_type": "display_data"
    },
    {
     "name": "stdout",
     "output_type": "stream",
     "text": [
      "=======================================\n",
      "Анализ параметра 'NotRepaired':\n",
      "=======================================\n"
     ]
    },
    {
     "data": {
      "image/png": "[encoded data removed]",
      "text/plain": [
       "<Figure size 720x720 with 1 Axes>"
      ]
     },
     "metadata": {},
     "output_type": "display_data"
    }
   ],
   "source": [
    "barplot_builder(df[features_to_barplot])"
   ]
  },
  {
   "cell_type": "markdown",
   "metadata": {},
   "source": [
    "**Промежуточные наблюдения №4:**\n",
    "\n",
    "- Топ-3 популярных объявлений по типу автомоблиьного кузова: sedan, small, wagon\n",
    "- Объявления авто с механической коробкой передач почти в 5 раз больше, чем с автоматической коробкой передач.\n",
    "- Наиболее популярные объявления по типу топлива: petrol и gasoline. Количество объявлений остальных групп топлива незначительно."
   ]
  },
  {
   "cell_type": "code",
   "execution_count": 39,
   "metadata": {},
   "outputs": [],
   "source": [
    "#функция построения круговых диаграмм\n",
    "def pieplot_builder(dataset):\n",
    "    \n",
    "    print('=======================================')\n",
    "    print(\"Анализ параметров датасета\")\n",
    "    print('=======================================')\n",
    "    for column in dataset.columns:\n",
    "        print('=======================================')\n",
    "        print(\"Анализ параметра '\" + column + \"':\")\n",
    "        print('=======================================')\n",
    "        a = pd.DataFrame(data={column: [df[column].value_counts()[5:].sum()]}, index=['Not_top_5'])\n",
    "        b = pd.DataFrame(df[column].value_counts()[:5])\n",
    "        c = pd.concat([b,a])\n",
    "\n",
    "        plt.pie(c.values.flatten(), labels=c.index)\n",
    "        \n",
    "        plt.legend(c.index, loc='best')\n",
    "        plt.show()"
   ]
  },
  {
   "cell_type": "code",
   "execution_count": 40,
   "metadata": {},
   "outputs": [
    {
     "name": "stdout",
     "output_type": "stream",
     "text": [
      "=======================================\n",
      "Анализ параметров датасета\n",
      "=======================================\n",
      "=======================================\n",
      "Анализ параметра 'Brand':\n",
      "=======================================\n"
     ]
    },
    {
     "data": {
      "image/png": "[encoded data removed]",
      "text/plain": [
       "<Figure size 720x720 with 1 Axes>"
      ]
     },
     "metadata": {},
     "output_type": "display_data"
    },
    {
     "name": "stdout",
     "output_type": "stream",
     "text": [
      "=======================================\n",
      "Анализ параметра 'Model':\n",
      "=======================================\n"
     ]
    },
    {
     "data": {
      "image/png": "[encoded data removed]",
      "text/plain": [
       "<Figure size 720x720 with 1 Axes>"
      ]
     },
     "metadata": {},
     "output_type": "display_data"
    }
   ],
   "source": [
    "pieplot_builder(df[features_to_pieplot])"
   ]
  },
  {
   "cell_type": "markdown",
   "metadata": {},
   "source": [
    "Топ-5 брендов автомобилей в объявлениях: volkswagen, opel, bmw, mercedes_benz, audi"
   ]
  },
  {
   "cell_type": "code",
   "execution_count": 41,
   "metadata": {},
   "outputs": [
    {
     "data": {
      "text/html": [
       "<div>\n",
       "<style scoped>\n",
       "    .dataframe tbody tr th:only-of-type {\n",
       "        vertical-align: middle;\n",
       "    }\n",
       "\n",
       "    .dataframe tbody tr th {\n",
       "        vertical-align: top;\n",
       "    }\n",
       "\n",
       "    .dataframe thead th {\n",
       "        text-align: right;\n",
       "    }\n",
       "</style>\n",
       "<table border=\"1\" class=\"dataframe\">\n",
       "  <thead>\n",
       "    <tr style=\"text-align: right;\">\n",
       "      <th></th>\n",
       "      <th>Zero values</th>\n",
       "      <th>Zero values %</th>\n",
       "      <th>Missing values</th>\n",
       "      <th>Missing values %</th>\n",
       "    </tr>\n",
       "  </thead>\n",
       "  <tbody>\n",
       "    <tr>\n",
       "      <th>Price</th>\n",
       "      <td>0</td>\n",
       "      <td>0.000000</td>\n",
       "      <td>0</td>\n",
       "      <td>0.0</td>\n",
       "    </tr>\n",
       "    <tr>\n",
       "      <th>VehicleType</th>\n",
       "      <td>0</td>\n",
       "      <td>0.000000</td>\n",
       "      <td>0</td>\n",
       "      <td>0.0</td>\n",
       "    </tr>\n",
       "    <tr>\n",
       "      <th>RegistrationYear</th>\n",
       "      <td>0</td>\n",
       "      <td>0.000000</td>\n",
       "      <td>0</td>\n",
       "      <td>0.0</td>\n",
       "    </tr>\n",
       "    <tr>\n",
       "      <th>Gearbox</th>\n",
       "      <td>0</td>\n",
       "      <td>0.000000</td>\n",
       "      <td>0</td>\n",
       "      <td>0.0</td>\n",
       "    </tr>\n",
       "    <tr>\n",
       "      <th>Power</th>\n",
       "      <td>0</td>\n",
       "      <td>0.000000</td>\n",
       "      <td>0</td>\n",
       "      <td>0.0</td>\n",
       "    </tr>\n",
       "    <tr>\n",
       "      <th>Model</th>\n",
       "      <td>0</td>\n",
       "      <td>0.000000</td>\n",
       "      <td>0</td>\n",
       "      <td>0.0</td>\n",
       "    </tr>\n",
       "    <tr>\n",
       "      <th>Kilometer</th>\n",
       "      <td>0</td>\n",
       "      <td>0.000000</td>\n",
       "      <td>0</td>\n",
       "      <td>0.0</td>\n",
       "    </tr>\n",
       "    <tr>\n",
       "      <th>FuelType</th>\n",
       "      <td>0</td>\n",
       "      <td>0.000000</td>\n",
       "      <td>0</td>\n",
       "      <td>0.0</td>\n",
       "    </tr>\n",
       "    <tr>\n",
       "      <th>Brand</th>\n",
       "      <td>0</td>\n",
       "      <td>0.000000</td>\n",
       "      <td>0</td>\n",
       "      <td>0.0</td>\n",
       "    </tr>\n",
       "    <tr>\n",
       "      <th>NotRepaired</th>\n",
       "      <td>293145</td>\n",
       "      <td>90.204013</td>\n",
       "      <td>0</td>\n",
       "      <td>0.0</td>\n",
       "    </tr>\n",
       "  </tbody>\n",
       "</table>\n",
       "</div>"
      ],
      "text/plain": [
       "                  Zero values  Zero values %  Missing values  Missing values %\n",
       "Price                       0       0.000000               0               0.0\n",
       "VehicleType                 0       0.000000               0               0.0\n",
       "RegistrationYear            0       0.000000               0               0.0\n",
       "Gearbox                     0       0.000000               0               0.0\n",
       "Power                       0       0.000000               0               0.0\n",
       "Model                       0       0.000000               0               0.0\n",
       "Kilometer                   0       0.000000               0               0.0\n",
       "FuelType                    0       0.000000               0               0.0\n",
       "Brand                       0       0.000000               0               0.0\n",
       "NotRepaired            293145      90.204013               0               0.0"
      ]
     },
     "metadata": {},
     "output_type": "display_data"
    },
    {
     "name": "stdout",
     "output_type": "stream",
     "text": [
      "Общее число наблюдений: 324980\n"
     ]
    }
   ],
   "source": [
    "#вызываем функцию с нулями/пропусками полученного датасета\n",
    "zero_na_table(df)"
   ]
  },
  {
   "cell_type": "code",
   "execution_count": 42,
   "metadata": {},
   "outputs": [],
   "source": [
    "length_after = len(df)"
   ]
  },
  {
   "cell_type": "code",
   "execution_count": 43,
   "metadata": {},
   "outputs": [
    {
     "name": "stdout",
     "output_type": "stream",
     "text": [
      "Доля записей от исходника после удаления некорректных значений или пропущенных значений: 91.71%\n"
     ]
    }
   ],
   "source": [
    "print('Доля записей от исходника после удаления некорректных значений или пропущенных значений: {0:.2%}'.format(length_after/length_before))"
   ]
  },
  {
   "cell_type": "code",
   "execution_count": 44,
   "metadata": {},
   "outputs": [
    {
     "data": {
      "text/plain": [
       "VehicleType      8\n",
       "Gearbox          2\n",
       "FuelType         7\n",
       "NotRepaired      2\n",
       "Brand           39\n",
       "Model          249\n",
       "dtype: int64"
      ]
     },
     "execution_count": 44,
     "metadata": {},
     "output_type": "execute_result"
    }
   ],
   "source": [
    "df[features_to_barplot + features_to_pieplot].nunique()"
   ]
  },
  {
   "cell_type": "markdown",
   "metadata": {},
   "source": [
    "Для GearBox можно было применить OneHotEncoder, для остальных категориальных признаков число разновидностей значительно, применим LabelEncoder для всех категориальных признаков"
   ]
  },
  {
   "cell_type": "code",
   "execution_count": 45,
   "metadata": {},
   "outputs": [
    {
     "data": {
      "image/png": "[encoded data removed]",
      "text/plain": [
       "<Figure size 1440x1080 with 2 Axes>"
      ]
     },
     "metadata": {},
     "output_type": "display_data"
    }
   ],
   "source": [
    "#функция построения heatmap'а корреляционной матрицы\n",
    "def heatmap_builder(df):\n",
    "\n",
    "    plt.figure(figsize=(20,15))\n",
    "    plt.rc('xtick', labelsize=20)  \n",
    "    plt.rc('ytick', labelsize=20)    \n",
    "    plt.title(\"Корреляционная матрица\", fontsize=20)\n",
    "    sns.heatmap(df.corr());\n",
    "    \n",
    "    plt.show()\n",
    "    \n",
    "\n",
    "heatmap_builder(df) "
   ]
  },
  {
   "cell_type": "code",
   "execution_count": 46,
   "metadata": {},
   "outputs": [
    {
     "data": {
      "text/html": [
       "<div>\n",
       "<style scoped>\n",
       "    .dataframe tbody tr th:only-of-type {\n",
       "        vertical-align: middle;\n",
       "    }\n",
       "\n",
       "    .dataframe tbody tr th {\n",
       "        vertical-align: top;\n",
       "    }\n",
       "\n",
       "    .dataframe thead th {\n",
       "        text-align: right;\n",
       "    }\n",
       "</style>\n",
       "<table border=\"1\" class=\"dataframe\">\n",
       "  <thead>\n",
       "    <tr style=\"text-align: right;\">\n",
       "      <th></th>\n",
       "      <th>Price</th>\n",
       "      <th>VehicleType</th>\n",
       "      <th>RegistrationYear</th>\n",
       "      <th>Gearbox</th>\n",
       "      <th>Power</th>\n",
       "      <th>Model</th>\n",
       "      <th>Kilometer</th>\n",
       "      <th>FuelType</th>\n",
       "      <th>Brand</th>\n",
       "      <th>NotRepaired</th>\n",
       "    </tr>\n",
       "  </thead>\n",
       "  <tbody>\n",
       "    <tr>\n",
       "      <th>0</th>\n",
       "      <td>480</td>\n",
       "      <td>sedan</td>\n",
       "      <td>1993</td>\n",
       "      <td>manual</td>\n",
       "      <td>101.0</td>\n",
       "      <td>golf</td>\n",
       "      <td>150000</td>\n",
       "      <td>petrol</td>\n",
       "      <td>volkswagen</td>\n",
       "      <td>0</td>\n",
       "    </tr>\n",
       "    <tr>\n",
       "      <th>2</th>\n",
       "      <td>9800</td>\n",
       "      <td>suv</td>\n",
       "      <td>2004</td>\n",
       "      <td>auto</td>\n",
       "      <td>163.0</td>\n",
       "      <td>grand</td>\n",
       "      <td>125000</td>\n",
       "      <td>gasoline</td>\n",
       "      <td>jeep</td>\n",
       "      <td>0</td>\n",
       "    </tr>\n",
       "    <tr>\n",
       "      <th>3</th>\n",
       "      <td>1500</td>\n",
       "      <td>small</td>\n",
       "      <td>2001</td>\n",
       "      <td>manual</td>\n",
       "      <td>75.0</td>\n",
       "      <td>golf</td>\n",
       "      <td>150000</td>\n",
       "      <td>petrol</td>\n",
       "      <td>volkswagen</td>\n",
       "      <td>0</td>\n",
       "    </tr>\n",
       "    <tr>\n",
       "      <th>4</th>\n",
       "      <td>3600</td>\n",
       "      <td>small</td>\n",
       "      <td>2008</td>\n",
       "      <td>manual</td>\n",
       "      <td>69.0</td>\n",
       "      <td>fabia</td>\n",
       "      <td>90000</td>\n",
       "      <td>gasoline</td>\n",
       "      <td>skoda</td>\n",
       "      <td>0</td>\n",
       "    </tr>\n",
       "    <tr>\n",
       "      <th>5</th>\n",
       "      <td>650</td>\n",
       "      <td>sedan</td>\n",
       "      <td>1995</td>\n",
       "      <td>manual</td>\n",
       "      <td>102.0</td>\n",
       "      <td>3er</td>\n",
       "      <td>150000</td>\n",
       "      <td>petrol</td>\n",
       "      <td>bmw</td>\n",
       "      <td>1</td>\n",
       "    </tr>\n",
       "  </tbody>\n",
       "</table>\n",
       "</div>"
      ],
      "text/plain": [
       "   Price VehicleType  RegistrationYear Gearbox  Power  Model  Kilometer  \\\n",
       "0    480       sedan              1993  manual  101.0   golf     150000   \n",
       "2   9800         suv              2004    auto  163.0  grand     125000   \n",
       "3   1500       small              2001  manual   75.0   golf     150000   \n",
       "4   3600       small              2008  manual   69.0  fabia      90000   \n",
       "5    650       sedan              1995  manual  102.0    3er     150000   \n",
       "\n",
       "   FuelType       Brand  NotRepaired  \n",
       "0    petrol  volkswagen            0  \n",
       "2  gasoline        jeep            0  \n",
       "3    petrol  volkswagen            0  \n",
       "4  gasoline       skoda            0  \n",
       "5    petrol         bmw            1  "
      ]
     },
     "execution_count": 46,
     "metadata": {},
     "output_type": "execute_result"
    }
   ],
   "source": [
    "df.head(5)"
   ]
  },
  {
   "cell_type": "markdown",
   "metadata": {},
   "source": [
    "Заметна корреляция Мощность авто - Цена, Год регистрации авто - цена. Объяснить это можно тем, что чем новее и мощнее авто, тем больше его стоимость."
   ]
  },
  {
   "cell_type": "markdown",
   "metadata": {},
   "source": [
    "**Выводы по пункту 1:**\n",
    "\n",
    "- Удалили признаки DateCrawled, RegistrationMonth, DateCreated, NumberOfPictures, PostalCode, LastSeen - не будем использовать в прогнозировании как неинформативные в плане предикции цены\n",
    "- Формат признака NotRepaired заменили с no/yes на 0/1 (с object на int).\n",
    "- Удалили записи с ценой (целевой признак) = 0. \n",
    "- Удалили записи с годом регистрации автомобиля (Registration Year) <1970 г и > 2022 г.\n",
    "- Заменили нулевые показатели по мощности на медиану по моделям, удалили сверхмощные авто > 1000 лс\n",
    "- Заменили пропуски в признаках VehicleType, Gearbox, FuelType на моду по моделям. Большой количество пропусков по признаку отремонтированного авто 'NotRepaired'. Удалять не корректно, слишком большой объем. Будем считать, что неуказанная информация говорит об отсутствии ремонта. В будущем необходимо сделать это поле ввода обязательным для заполнения.\n",
    "- Всего выявлено 4 дубликата. Необходимо произвести проверку, из-за чего данные могли задублироваться (ошибка ввода данных, когда одно и то же наблюдение случайно было введено более одного раза, ошибка при выгрузке данных и тд)\n",
    "- **Доля записей от исходника после удаления некорректных значений или пропущенных значений: 91.71%**\n",
    "\n",
    "**В изначальном датасете:**\n",
    "- Доля наблюдений с нулевой ценой примерно равна 3%.\n",
    "- Доля наблюдений со старыми машинами до 1970-го регистрации года примерно равна 0.4%.\n",
    "- Доля наблюдений с ошибочным годом регистрации (после 2022-го года) примерно равна 0.03%.\n",
    "- Доля наблюдений со сверхмощностью (>1000 лс) примерно равна 0.09%.\n",
    "- **Доля наблюдений с нулевой мощностью примерно равна 11.3%.**\n",
    "- Общая доля по всем \"проблемным\" наблюдениям примерно равна 13.6%, эта же доля без наблюдений с нулевой мощностью - примерно 3.5%.\n",
    "\n",
    "**Осмотр данных:**\n",
    "\n",
    "- Распределение целевого признака цены скошено вправо (медиана 2700 < среднего значения 4416). \n",
    "- Распределение признака мощности скошено вправо (медиана 105 < среднего значения 110). \n",
    "- Распределение признака километража скошено влево (медиана 150000 > среднего значения 128211).\n",
    "- Топ-3 популярных объявлений по типу автомоблиьного кузова: sedan, small, wagon\n",
    "- Объявления авто с механической коробкой передач почти в 5 раз больше, чем с автоматической коробкой передач.\n",
    "- Наиболее популярные объявления по типу топлива: petrol и gasoline. Количество объявлений остальных групп топлива незначительно.\n",
    "- Топ-5 брендов автомобилей в объявлениях: volkswagen, opel, bmw, mercedes_benz, audi"
   ]
  },
  {
   "cell_type": "markdown",
   "metadata": {},
   "source": [
    "## Подготовка данных для моделей"
   ]
  },
  {
   "cell_type": "markdown",
   "metadata": {},
   "source": [
    "План данного раздела:\n",
    "\n",
    "1. Создаем копию полученного датасета\n",
    "2. Для датасета №1 (используем для DummyRegressor, RandomForestRegressor, XGBoost):\n",
    "\n",
    "- Делим выборку на обучающую и тестовую\n",
    "- Применяем стандартизацию\n",
    "- Применяем LabelEncoding\n",
    "\n",
    "3. Для датасета №2 3 (используем для lightGBM и CatBoost, №3 для проверки влияния стандартизации):\n",
    "\n",
    "- Делим выборку на обучающую и тестовую\n",
    "- Применяем стандартизацию **(проверим факт о том, что для древовидных моделей в бустинге стандартизация необязательна. Создадим класс, в котором сможем включать и отключать необходимые операции)**\n",
    "- Меняем тип категориальных признаков на category для их подачи на вход lightGBM и CatBoost\n",
    "\n",
    "4. Для датасета №4 (только линейные модели - LinearReression, Lasso, Ridge):\n",
    "\n",
    "- Делим выборку на обучающую и тестовую\n",
    "- Применяем стандартизацию\n",
    "- Применяем OneHotEncoding"
   ]
  },
  {
   "cell_type": "code",
   "execution_count": 47,
   "metadata": {},
   "outputs": [],
   "source": [
    "#создаем копию датасета\n",
    "df_category = df.copy(deep=True)"
   ]
  },
  {
   "cell_type": "code",
   "execution_count": 48,
   "metadata": {},
   "outputs": [],
   "source": [
    "#создаем списки с результатами\n",
    "fit_times_no_tune = []\n",
    "predict_times_no_tune = []\n",
    "rmse_results_no_tune = []\n",
    "\n",
    "fit_times_with_tune = []\n",
    "predict_times_with_tune = []\n",
    "rmse_results_with_tune = []\n",
    "\n",
    "fit_times_test = []\n",
    "predict_times_test = []\n",
    "rmse_results_test = []\n"
   ]
  },
  {
   "cell_type": "code",
   "execution_count": 49,
   "metadata": {},
   "outputs": [],
   "source": [
    "class dataset_framework:\n",
    "    '''\n",
    "    Описание класса:\n",
    "    \n",
    "    Создает и предобрабатывает датасет в необходимом ключе:\n",
    "    need_data_normalization - нормализация, \n",
    "    need_category_encode - перевод категориальных признаков в номинальные через labelEncoder,\n",
    "    need_category_ohe_encode - перевод категориальных признаков в номинальные через ohe,\n",
    "    need_category_boosting - смена формата категориальных признаков\n",
    "    \n",
    "    Позволяет найти оптимальные параметры модели, функция model_params_grid.\n",
    "    Обучает и оценивает полученную модель (с и без учета оптимизации), результаты сохраняет в соответствующие списки:\n",
    "    - времени обучения\n",
    "    - время предсказания\n",
    "    - RMSE\n",
    "    \n",
    "    '''\n",
    "    def __init__(self, dataset, need_data_normalization, need_category_label_encode, need_category_boosting, need_ohe_encode):\n",
    "        #constructor\n",
    "        self.dataset = dataset\n",
    "        self.data_division(self.dataset)\n",
    "\n",
    "        if (need_data_normalization):\n",
    "            self.data_normalization(self.dataset)\n",
    "        if (need_category_label_encode):\n",
    "            self.category_encode(self.dataset)\n",
    "        if (need_ohe_encode):\n",
    "            self.category_ohe_encode(self.dataset)\n",
    "        if (need_category_boosting):\n",
    "            self.category_boosting(self.dataset)\n",
    "        self.dataset_overview()\n",
    "\n",
    "    def data_division(self, dataset):\n",
    "        #data divided into features and target\n",
    "        self.features = dataset.drop(['Price'], axis=1)\n",
    "        self.target = dataset['Price']\n",
    "\n",
    "        self.features_train_valid, self.features_test, self.target_train_valid, self.target_test = train_test_split(self.features, self.target, test_size=0.2, random_state=12345)\n",
    "        self.features_train, self.features_valid, self.target_train, self.target_valid = train_test_split(self.features_train_valid, self.target_train_valid, test_size=0.25, random_state=12345)\n",
    "        \n",
    "        \n",
    "        print(\"Размер обучающей выборки: {0}, {1}\".format(self.features_train.shape, self.target_train.shape))\n",
    "        print(\"Размер валидационной выборки: {0}, {1}\".format(self.features_valid.shape, self.target_valid.shape))\n",
    "        print(\"Размер тестовой выборки: {0}, {1}\".format(self.features_test.shape, self.target_test.shape))\n",
    "        \n",
    "    def data_normalization(self, dataset):\n",
    "        #normalizing numerics\n",
    "        self.scaler = StandardScaler()\n",
    "        self.numerics_list = list(self.features.select_dtypes(include=['float', 'int']).columns)\n",
    "        self.numerics_list.remove('NotRepaired')\n",
    "        self.scaler.fit(self.features_train[self.numerics_list])\n",
    "        self.features_train[self.numerics_list] = self.scaler.transform(self.features_train[self.numerics_list])\n",
    "        self.features_valid[self.numerics_list] = self.scaler.transform(self.features_valid[self.numerics_list])\n",
    "        self.features_train_valid[self.numerics_list] = self.scaler.transform(self.features_train_valid[self.numerics_list])\n",
    "        self.features_test[self.numerics_list] = self.scaler.transform(self.features_test[self.numerics_list])\n",
    "\n",
    "    def category_encode(self, dataset):\n",
    "        #label encoder application\n",
    "        self.label_encoder = LabelEncoder()\n",
    "        self.categories = list(self.features.select_dtypes(include='object').columns)\n",
    "\n",
    "        for column in self.categories:\n",
    "            self.label_encoder.fit(self.features[column])\n",
    "            self.features_train[column] = self.label_encoder.transform(self.features_train[column])\n",
    "            self.features_valid[column] = self.label_encoder.transform(self.features_valid[column])\n",
    "            self.features_train_valid[column] = self.label_encoder.transform(self.features_train_valid[column])\n",
    "            self.features_test[column] = self.label_encoder.transform(self.features_test[column])\n",
    "    \n",
    "    def category_ohe_encode(self, dataset):\n",
    "        #ohe (encoder) application\n",
    "\n",
    "        #потенциально, можно уменьшать число признаков путем совмещения брэнда и модели авто:\n",
    "        #data_to_change = [self.features, self.features_train, self.features_valid, self.features_test]\n",
    "        #for data in data_to_change:\n",
    "        #    data['ohe_model'] = data['Brand'].astype(str) + '_' + data['Model'].astype(str)\n",
    "        #   data = data.drop(['Brand', 'Model'], axis=1)\n",
    "        \n",
    "        self.categories = list(self.features.select_dtypes(include='object').columns)\n",
    "        \n",
    "        for column in self.categories:\n",
    "            dummy_df = pd.get_dummies(self.features[column], drop_first=True, prefix=column)\n",
    "            self.features = self.features.drop(column, axis=1)\n",
    "            self.features = self.features.join(dummy_df)\n",
    "            \n",
    "        self.features_train_valid, self.features_test = train_test_split(self.features, test_size=0.2, random_state=12345)\n",
    "        self.features_train, self.features_valid = train_test_split(self.features_train_valid, test_size=0.25, random_state=12345)\n",
    "      \n",
    "        print(\"Размер после ohe обучающей выборки: {0}, {1}\".format(self.features_train.shape, self.target_train.shape))\n",
    "        print(\"Размер после ohe валидационной выборки: {0}, {1}\".format(self.features_valid.shape, self.target_valid.shape))\n",
    "        print(\"Размер после ohe тестовой выборки: {0}, {1}\".format(self.features_test.shape, self.target_test.shape))\n",
    "            \n",
    "        \n",
    "    def category_boosting(self, dataset):\n",
    "        #categories into category format type\n",
    "        self.categories = list(self.features.select_dtypes(include='object').columns)\n",
    "        self.categories.append('NotRepaired')\n",
    "\n",
    "        for category in self.categories:\n",
    "            self.features_train[category] = self.features_train[category].astype('category')\n",
    "            self.features_valid[category] = self.features_valid[category].astype('category')\n",
    "            self.features_train_valid[category] = self.features_train_valid[category].astype('category')\n",
    "            self.features_test[category] = self.features_test[category].astype('category')\n",
    "            \n",
    "    def dataset_overview(self):\n",
    "        display(self.features_train.head(5))\n",
    "        self.features_train.info()\n",
    "     \n",
    "    def model_checker(self, model, ordinal_fit, fill_type):\n",
    "        \n",
    "        if (ordinal_fit==False):\n",
    "\n",
    "            start_fit = time.time()\n",
    "            model.fit(self.features_train, self.target_train, eval_set=[(self.features_valid, self.target_valid)], verbose=100)\n",
    "            end_fit = time.time()\n",
    "        else:\n",
    "            \n",
    "            start_fit = time.time()\n",
    "            model.fit(self.features_train, self.target_train)\n",
    "            end_fit = time.time()\n",
    "        \n",
    "\n",
    "        if (fill_type == 'test'):\n",
    "            start_predict = time.time()\n",
    "            model_predictions = model.predict(self.features_test)\n",
    "            end_predict = time.time()\n",
    "        else:\n",
    "            start_predict = time.time()\n",
    "            model_predictions = model.predict(self.features_valid)\n",
    "            end_predict = time.time()\n",
    "\n",
    "\n",
    "        if (fill_type == 'test'):\n",
    "            model_rmse = (mean_squared_error(self.target_test, model_predictions)) ** 0.5\n",
    "        else:\n",
    "            model_rmse = (mean_squared_error(self.target_valid, model_predictions)) ** 0.5\n",
    "        \n",
    "        if (fill_type == 'no_tune'):\n",
    "            fit_times_no_tune.append(end_fit-start_fit)\n",
    "            predict_times_no_tune.append(end_predict-start_predict)\n",
    "            rmse_results_no_tune.append(model_rmse)\n",
    "        elif (fill_type == 'with_tune'):\n",
    "            fit_times_with_tune.append(end_fit-start_fit)\n",
    "            predict_times_with_tune.append(end_predict-start_predict)\n",
    "            rmse_results_with_tune.append(model_rmse)\n",
    "        elif (fill_type == 'test'):\n",
    "            fit_times_test.append(end_fit-start_fit)\n",
    "            predict_times_test.append(end_predict-start_predict)\n",
    "            rmse_results_test.append(model_rmse)\n",
    "        \n",
    "    def model_params_grid(self, model, model_name, **model_params):\n",
    "        \n",
    "        start = time.time()\n",
    "        my_scorer = make_scorer(self.my_scorer_func, great_is_better = False)\n",
    "        model_parameters = model_params\n",
    "        kfold = KFold(n_splits=3, random_state=12345, shuffle=True)\n",
    "        model_grid = GridSearchCV(model, model_parameters, cv=kfold, scoring = 'neg_mean_squared_error')\n",
    "        model_grid.fit(self.features_train_valid, self.target_train_valid)\n",
    "        print('''\n",
    "        Лучшие параметры модели {0}: \n",
    "        \n",
    "        {1}\n",
    "        '''.format(model_name, model_grid.best_params_))\n",
    "        \n",
    "        end = time.time()\n",
    "        print('''\n",
    "        Количество секунд нахождения оптимальных гиперпараметров модели {0}: \n",
    "        \n",
    "        {1}\n",
    "        '''.format(model_name, round(end - start, 2)))\n",
    "        \n",
    "        return model_grid.best_params_\n",
    "    \n",
    "    def my_scorer_func(self, target, predictions):\n",
    "\n",
    "        return mean_squared_error(target, predictions) ** 0.5\n",
    "        "
   ]
  },
  {
   "cell_type": "markdown",
   "metadata": {},
   "source": [
    "Первый датасет: Обработка категориальных признаков, с нормализацией численных признаков"
   ]
  },
  {
   "cell_type": "code",
   "execution_count": 50,
   "metadata": {},
   "outputs": [
    {
     "name": "stdout",
     "output_type": "stream",
     "text": [
      "Размер обучающей выборки: (194988, 9), (194988,)\n",
      "Размер валидационной выборки: (64996, 9), (64996,)\n",
      "Размер тестовой выборки: (64996, 9), (64996,)\n"
     ]
    },
    {
     "data": {
      "text/html": [
       "<div>\n",
       "<style scoped>\n",
       "    .dataframe tbody tr th:only-of-type {\n",
       "        vertical-align: middle;\n",
       "    }\n",
       "\n",
       "    .dataframe tbody tr th {\n",
       "        vertical-align: top;\n",
       "    }\n",
       "\n",
       "    .dataframe thead th {\n",
       "        text-align: right;\n",
       "    }\n",
       "</style>\n",
       "<table border=\"1\" class=\"dataframe\">\n",
       "  <thead>\n",
       "    <tr style=\"text-align: right;\">\n",
       "      <th></th>\n",
       "      <th>VehicleType</th>\n",
       "      <th>RegistrationYear</th>\n",
       "      <th>Gearbox</th>\n",
       "      <th>Power</th>\n",
       "      <th>Model</th>\n",
       "      <th>Kilometer</th>\n",
       "      <th>FuelType</th>\n",
       "      <th>Brand</th>\n",
       "      <th>NotRepaired</th>\n",
       "    </tr>\n",
       "  </thead>\n",
       "  <tbody>\n",
       "    <tr>\n",
       "      <th>224040</th>\n",
       "      <td>7</td>\n",
       "      <td>-1.094004</td>\n",
       "      <td>1</td>\n",
       "      <td>-0.060433</td>\n",
       "      <td>228</td>\n",
       "      <td>0.576174</td>\n",
       "      <td>6</td>\n",
       "      <td>38</td>\n",
       "      <td>0</td>\n",
       "    </tr>\n",
       "    <tr>\n",
       "      <th>230487</th>\n",
       "      <td>0</td>\n",
       "      <td>0.391605</td>\n",
       "      <td>1</td>\n",
       "      <td>0.222293</td>\n",
       "      <td>198</td>\n",
       "      <td>0.576174</td>\n",
       "      <td>2</td>\n",
       "      <td>27</td>\n",
       "      <td>0</td>\n",
       "    </tr>\n",
       "    <tr>\n",
       "      <th>152054</th>\n",
       "      <td>4</td>\n",
       "      <td>0.243044</td>\n",
       "      <td>1</td>\n",
       "      <td>0.109202</td>\n",
       "      <td>42</td>\n",
       "      <td>0.576174</td>\n",
       "      <td>6</td>\n",
       "      <td>24</td>\n",
       "      <td>0</td>\n",
       "    </tr>\n",
       "    <tr>\n",
       "      <th>345155</th>\n",
       "      <td>5</td>\n",
       "      <td>-0.351200</td>\n",
       "      <td>1</td>\n",
       "      <td>-0.965155</td>\n",
       "      <td>101</td>\n",
       "      <td>0.576174</td>\n",
       "      <td>6</td>\n",
       "      <td>31</td>\n",
       "      <td>0</td>\n",
       "    </tr>\n",
       "    <tr>\n",
       "      <th>218876</th>\n",
       "      <td>7</td>\n",
       "      <td>1.282970</td>\n",
       "      <td>1</td>\n",
       "      <td>-0.343159</td>\n",
       "      <td>149</td>\n",
       "      <td>-2.139189</td>\n",
       "      <td>6</td>\n",
       "      <td>27</td>\n",
       "      <td>0</td>\n",
       "    </tr>\n",
       "  </tbody>\n",
       "</table>\n",
       "</div>"
      ],
      "text/plain": [
       "        VehicleType  RegistrationYear  Gearbox     Power  Model  Kilometer  \\\n",
       "224040            7         -1.094004        1 -0.060433    228   0.576174   \n",
       "230487            0          0.391605        1  0.222293    198   0.576174   \n",
       "152054            4          0.243044        1  0.109202     42   0.576174   \n",
       "345155            5         -0.351200        1 -0.965155    101   0.576174   \n",
       "218876            7          1.282970        1 -0.343159    149  -2.139189   \n",
       "\n",
       "        FuelType  Brand  NotRepaired  \n",
       "224040         6     38            0  \n",
       "230487         2     27            0  \n",
       "152054         6     24            0  \n",
       "345155         6     31            0  \n",
       "218876         6     27            0  "
      ]
     },
     "metadata": {},
     "output_type": "display_data"
    },
    {
     "name": "stdout",
     "output_type": "stream",
     "text": [
      "<class 'pandas.core.frame.DataFrame'>\n",
      "Int64Index: 194988 entries, 224040 to 305120\n",
      "Data columns (total 9 columns):\n",
      " #   Column            Non-Null Count   Dtype  \n",
      "---  ------            --------------   -----  \n",
      " 0   VehicleType       194988 non-null  int64  \n",
      " 1   RegistrationYear  194988 non-null  float64\n",
      " 2   Gearbox           194988 non-null  int64  \n",
      " 3   Power             194988 non-null  float64\n",
      " 4   Model             194988 non-null  int64  \n",
      " 5   Kilometer         194988 non-null  float64\n",
      " 6   FuelType          194988 non-null  int64  \n",
      " 7   Brand             194988 non-null  int64  \n",
      " 8   NotRepaired       194988 non-null  int64  \n",
      "dtypes: float64(3), int64(6)\n",
      "memory usage: 14.9 MB\n"
     ]
    }
   ],
   "source": [
    "dataset_one = dataset_framework(df, True, True, False, False)"
   ]
  },
  {
   "cell_type": "markdown",
   "metadata": {},
   "source": [
    "Второй датасет: lightGBM CatBoost с нормализацией данных"
   ]
  },
  {
   "cell_type": "code",
   "execution_count": 51,
   "metadata": {},
   "outputs": [
    {
     "name": "stdout",
     "output_type": "stream",
     "text": [
      "Размер обучающей выборки: (194988, 9), (194988,)\n",
      "Размер валидационной выборки: (64996, 9), (64996,)\n",
      "Размер тестовой выборки: (64996, 9), (64996,)\n"
     ]
    },
    {
     "data": {
      "text/html": [
       "<div>\n",
       "<style scoped>\n",
       "    .dataframe tbody tr th:only-of-type {\n",
       "        vertical-align: middle;\n",
       "    }\n",
       "\n",
       "    .dataframe tbody tr th {\n",
       "        vertical-align: top;\n",
       "    }\n",
       "\n",
       "    .dataframe thead th {\n",
       "        text-align: right;\n",
       "    }\n",
       "</style>\n",
       "<table border=\"1\" class=\"dataframe\">\n",
       "  <thead>\n",
       "    <tr style=\"text-align: right;\">\n",
       "      <th></th>\n",
       "      <th>VehicleType</th>\n",
       "      <th>RegistrationYear</th>\n",
       "      <th>Gearbox</th>\n",
       "      <th>Power</th>\n",
       "      <th>Model</th>\n",
       "      <th>Kilometer</th>\n",
       "      <th>FuelType</th>\n",
       "      <th>Brand</th>\n",
       "      <th>NotRepaired</th>\n",
       "    </tr>\n",
       "  </thead>\n",
       "  <tbody>\n",
       "    <tr>\n",
       "      <th>224040</th>\n",
       "      <td>wagon</td>\n",
       "      <td>-1.094004</td>\n",
       "      <td>manual</td>\n",
       "      <td>-0.060433</td>\n",
       "      <td>v40</td>\n",
       "      <td>0.576174</td>\n",
       "      <td>petrol</td>\n",
       "      <td>volvo</td>\n",
       "      <td>0</td>\n",
       "    </tr>\n",
       "    <tr>\n",
       "      <th>230487</th>\n",
       "      <td>bus</td>\n",
       "      <td>0.391605</td>\n",
       "      <td>manual</td>\n",
       "      <td>0.222293</td>\n",
       "      <td>scenic</td>\n",
       "      <td>0.576174</td>\n",
       "      <td>gasoline</td>\n",
       "      <td>renault</td>\n",
       "      <td>0</td>\n",
       "    </tr>\n",
       "    <tr>\n",
       "      <th>152054</th>\n",
       "      <td>sedan</td>\n",
       "      <td>0.243044</td>\n",
       "      <td>manual</td>\n",
       "      <td>0.109202</td>\n",
       "      <td>astra</td>\n",
       "      <td>0.576174</td>\n",
       "      <td>petrol</td>\n",
       "      <td>opel</td>\n",
       "      <td>0</td>\n",
       "    </tr>\n",
       "    <tr>\n",
       "      <th>345155</th>\n",
       "      <td>small</td>\n",
       "      <td>-0.351200</td>\n",
       "      <td>manual</td>\n",
       "      <td>-0.965155</td>\n",
       "      <td>fabia</td>\n",
       "      <td>0.576174</td>\n",
       "      <td>petrol</td>\n",
       "      <td>skoda</td>\n",
       "      <td>0</td>\n",
       "    </tr>\n",
       "    <tr>\n",
       "      <th>218876</th>\n",
       "      <td>wagon</td>\n",
       "      <td>1.282970</td>\n",
       "      <td>manual</td>\n",
       "      <td>-0.343159</td>\n",
       "      <td>megane</td>\n",
       "      <td>-2.139189</td>\n",
       "      <td>petrol</td>\n",
       "      <td>renault</td>\n",
       "      <td>0</td>\n",
       "    </tr>\n",
       "  </tbody>\n",
       "</table>\n",
       "</div>"
      ],
      "text/plain": [
       "       VehicleType  RegistrationYear Gearbox     Power   Model  Kilometer  \\\n",
       "224040       wagon         -1.094004  manual -0.060433     v40   0.576174   \n",
       "230487         bus          0.391605  manual  0.222293  scenic   0.576174   \n",
       "152054       sedan          0.243044  manual  0.109202   astra   0.576174   \n",
       "345155       small         -0.351200  manual -0.965155   fabia   0.576174   \n",
       "218876       wagon          1.282970  manual -0.343159  megane  -2.139189   \n",
       "\n",
       "        FuelType    Brand NotRepaired  \n",
       "224040    petrol    volvo           0  \n",
       "230487  gasoline  renault           0  \n",
       "152054    petrol     opel           0  \n",
       "345155    petrol    skoda           0  \n",
       "218876    petrol  renault           0  "
      ]
     },
     "metadata": {},
     "output_type": "display_data"
    },
    {
     "name": "stdout",
     "output_type": "stream",
     "text": [
      "<class 'pandas.core.frame.DataFrame'>\n",
      "Int64Index: 194988 entries, 224040 to 305120\n",
      "Data columns (total 9 columns):\n",
      " #   Column            Non-Null Count   Dtype   \n",
      "---  ------            --------------   -----   \n",
      " 0   VehicleType       194988 non-null  category\n",
      " 1   RegistrationYear  194988 non-null  float64 \n",
      " 2   Gearbox           194988 non-null  category\n",
      " 3   Power             194988 non-null  float64 \n",
      " 4   Model             194988 non-null  category\n",
      " 5   Kilometer         194988 non-null  float64 \n",
      " 6   FuelType          194988 non-null  category\n",
      " 7   Brand             194988 non-null  category\n",
      " 8   NotRepaired       194988 non-null  category\n",
      "dtypes: category(6), float64(3)\n",
      "memory usage: 7.3 MB\n"
     ]
    }
   ],
   "source": [
    "dataset_two = dataset_framework(df_category, True, False, True, False)"
   ]
  },
  {
   "cell_type": "markdown",
   "metadata": {},
   "source": [
    "Третий датасет: lightGBM CatBoost без нормализации данных"
   ]
  },
  {
   "cell_type": "code",
   "execution_count": 52,
   "metadata": {},
   "outputs": [
    {
     "name": "stdout",
     "output_type": "stream",
     "text": [
      "Размер обучающей выборки: (194988, 9), (194988,)\n",
      "Размер валидационной выборки: (64996, 9), (64996,)\n",
      "Размер тестовой выборки: (64996, 9), (64996,)\n"
     ]
    },
    {
     "data": {
      "text/html": [
       "<div>\n",
       "<style scoped>\n",
       "    .dataframe tbody tr th:only-of-type {\n",
       "        vertical-align: middle;\n",
       "    }\n",
       "\n",
       "    .dataframe tbody tr th {\n",
       "        vertical-align: top;\n",
       "    }\n",
       "\n",
       "    .dataframe thead th {\n",
       "        text-align: right;\n",
       "    }\n",
       "</style>\n",
       "<table border=\"1\" class=\"dataframe\">\n",
       "  <thead>\n",
       "    <tr style=\"text-align: right;\">\n",
       "      <th></th>\n",
       "      <th>VehicleType</th>\n",
       "      <th>RegistrationYear</th>\n",
       "      <th>Gearbox</th>\n",
       "      <th>Power</th>\n",
       "      <th>Model</th>\n",
       "      <th>Kilometer</th>\n",
       "      <th>FuelType</th>\n",
       "      <th>Brand</th>\n",
       "      <th>NotRepaired</th>\n",
       "    </tr>\n",
       "  </thead>\n",
       "  <tbody>\n",
       "    <tr>\n",
       "      <th>224040</th>\n",
       "      <td>wagon</td>\n",
       "      <td>1996</td>\n",
       "      <td>manual</td>\n",
       "      <td>116.0</td>\n",
       "      <td>v40</td>\n",
       "      <td>150000</td>\n",
       "      <td>petrol</td>\n",
       "      <td>volvo</td>\n",
       "      <td>0</td>\n",
       "    </tr>\n",
       "    <tr>\n",
       "      <th>230487</th>\n",
       "      <td>bus</td>\n",
       "      <td>2006</td>\n",
       "      <td>manual</td>\n",
       "      <td>131.0</td>\n",
       "      <td>scenic</td>\n",
       "      <td>150000</td>\n",
       "      <td>gasoline</td>\n",
       "      <td>renault</td>\n",
       "      <td>0</td>\n",
       "    </tr>\n",
       "    <tr>\n",
       "      <th>152054</th>\n",
       "      <td>sedan</td>\n",
       "      <td>2005</td>\n",
       "      <td>manual</td>\n",
       "      <td>125.0</td>\n",
       "      <td>astra</td>\n",
       "      <td>150000</td>\n",
       "      <td>petrol</td>\n",
       "      <td>opel</td>\n",
       "      <td>0</td>\n",
       "    </tr>\n",
       "    <tr>\n",
       "      <th>345155</th>\n",
       "      <td>small</td>\n",
       "      <td>2001</td>\n",
       "      <td>manual</td>\n",
       "      <td>68.0</td>\n",
       "      <td>fabia</td>\n",
       "      <td>150000</td>\n",
       "      <td>petrol</td>\n",
       "      <td>skoda</td>\n",
       "      <td>0</td>\n",
       "    </tr>\n",
       "    <tr>\n",
       "      <th>218876</th>\n",
       "      <td>wagon</td>\n",
       "      <td>2012</td>\n",
       "      <td>manual</td>\n",
       "      <td>101.0</td>\n",
       "      <td>megane</td>\n",
       "      <td>50000</td>\n",
       "      <td>petrol</td>\n",
       "      <td>renault</td>\n",
       "      <td>0</td>\n",
       "    </tr>\n",
       "  </tbody>\n",
       "</table>\n",
       "</div>"
      ],
      "text/plain": [
       "       VehicleType  RegistrationYear Gearbox  Power   Model  Kilometer  \\\n",
       "224040       wagon              1996  manual  116.0     v40     150000   \n",
       "230487         bus              2006  manual  131.0  scenic     150000   \n",
       "152054       sedan              2005  manual  125.0   astra     150000   \n",
       "345155       small              2001  manual   68.0   fabia     150000   \n",
       "218876       wagon              2012  manual  101.0  megane      50000   \n",
       "\n",
       "        FuelType    Brand NotRepaired  \n",
       "224040    petrol    volvo           0  \n",
       "230487  gasoline  renault           0  \n",
       "152054    petrol     opel           0  \n",
       "345155    petrol    skoda           0  \n",
       "218876    petrol  renault           0  "
      ]
     },
     "metadata": {},
     "output_type": "display_data"
    },
    {
     "name": "stdout",
     "output_type": "stream",
     "text": [
      "<class 'pandas.core.frame.DataFrame'>\n",
      "Int64Index: 194988 entries, 224040 to 305120\n",
      "Data columns (total 9 columns):\n",
      " #   Column            Non-Null Count   Dtype   \n",
      "---  ------            --------------   -----   \n",
      " 0   VehicleType       194988 non-null  category\n",
      " 1   RegistrationYear  194988 non-null  int64   \n",
      " 2   Gearbox           194988 non-null  category\n",
      " 3   Power             194988 non-null  float64 \n",
      " 4   Model             194988 non-null  category\n",
      " 5   Kilometer         194988 non-null  int64   \n",
      " 6   FuelType          194988 non-null  category\n",
      " 7   Brand             194988 non-null  category\n",
      " 8   NotRepaired       194988 non-null  category\n",
      "dtypes: category(6), float64(1), int64(2)\n",
      "memory usage: 7.3 MB\n"
     ]
    }
   ],
   "source": [
    "dataset_three = dataset_framework(df_category, False, False, True, False)"
   ]
  },
  {
   "cell_type": "code",
   "execution_count": 53,
   "metadata": {},
   "outputs": [
    {
     "name": "stdout",
     "output_type": "stream",
     "text": [
      "Размер обучающей выборки: (194988, 9), (194988,)\n",
      "Размер валидационной выборки: (64996, 9), (64996,)\n",
      "Размер тестовой выборки: (64996, 9), (64996,)\n",
      "Размер после ohe обучающей выборки: (194988, 304), (194988,)\n",
      "Размер после ohe валидационной выборки: (64996, 304), (64996,)\n",
      "Размер после ohe тестовой выборки: (64996, 304), (64996,)\n"
     ]
    },
    {
     "data": {
      "text/html": [
       "<div>\n",
       "<style scoped>\n",
       "    .dataframe tbody tr th:only-of-type {\n",
       "        vertical-align: middle;\n",
       "    }\n",
       "\n",
       "    .dataframe tbody tr th {\n",
       "        vertical-align: top;\n",
       "    }\n",
       "\n",
       "    .dataframe thead th {\n",
       "        text-align: right;\n",
       "    }\n",
       "</style>\n",
       "<table border=\"1\" class=\"dataframe\">\n",
       "  <thead>\n",
       "    <tr style=\"text-align: right;\">\n",
       "      <th></th>\n",
       "      <th>RegistrationYear</th>\n",
       "      <th>Power</th>\n",
       "      <th>Kilometer</th>\n",
       "      <th>NotRepaired</th>\n",
       "      <th>VehicleType_convertible</th>\n",
       "      <th>VehicleType_coupe</th>\n",
       "      <th>VehicleType_other</th>\n",
       "      <th>VehicleType_sedan</th>\n",
       "      <th>VehicleType_small</th>\n",
       "      <th>VehicleType_suv</th>\n",
       "      <th>...</th>\n",
       "      <th>Brand_saab</th>\n",
       "      <th>Brand_seat</th>\n",
       "      <th>Brand_skoda</th>\n",
       "      <th>Brand_smart</th>\n",
       "      <th>Brand_subaru</th>\n",
       "      <th>Brand_suzuki</th>\n",
       "      <th>Brand_toyota</th>\n",
       "      <th>Brand_trabant</th>\n",
       "      <th>Brand_volkswagen</th>\n",
       "      <th>Brand_volvo</th>\n",
       "    </tr>\n",
       "  </thead>\n",
       "  <tbody>\n",
       "    <tr>\n",
       "      <th>224040</th>\n",
       "      <td>1996</td>\n",
       "      <td>116.0</td>\n",
       "      <td>150000</td>\n",
       "      <td>0</td>\n",
       "      <td>0</td>\n",
       "      <td>0</td>\n",
       "      <td>0</td>\n",
       "      <td>0</td>\n",
       "      <td>0</td>\n",
       "      <td>0</td>\n",
       "      <td>...</td>\n",
       "      <td>0</td>\n",
       "      <td>0</td>\n",
       "      <td>0</td>\n",
       "      <td>0</td>\n",
       "      <td>0</td>\n",
       "      <td>0</td>\n",
       "      <td>0</td>\n",
       "      <td>0</td>\n",
       "      <td>0</td>\n",
       "      <td>1</td>\n",
       "    </tr>\n",
       "    <tr>\n",
       "      <th>230487</th>\n",
       "      <td>2006</td>\n",
       "      <td>131.0</td>\n",
       "      <td>150000</td>\n",
       "      <td>0</td>\n",
       "      <td>0</td>\n",
       "      <td>0</td>\n",
       "      <td>0</td>\n",
       "      <td>0</td>\n",
       "      <td>0</td>\n",
       "      <td>0</td>\n",
       "      <td>...</td>\n",
       "      <td>0</td>\n",
       "      <td>0</td>\n",
       "      <td>0</td>\n",
       "      <td>0</td>\n",
       "      <td>0</td>\n",
       "      <td>0</td>\n",
       "      <td>0</td>\n",
       "      <td>0</td>\n",
       "      <td>0</td>\n",
       "      <td>0</td>\n",
       "    </tr>\n",
       "    <tr>\n",
       "      <th>152054</th>\n",
       "      <td>2005</td>\n",
       "      <td>125.0</td>\n",
       "      <td>150000</td>\n",
       "      <td>0</td>\n",
       "      <td>0</td>\n",
       "      <td>0</td>\n",
       "      <td>0</td>\n",
       "      <td>1</td>\n",
       "      <td>0</td>\n",
       "      <td>0</td>\n",
       "      <td>...</td>\n",
       "      <td>0</td>\n",
       "      <td>0</td>\n",
       "      <td>0</td>\n",
       "      <td>0</td>\n",
       "      <td>0</td>\n",
       "      <td>0</td>\n",
       "      <td>0</td>\n",
       "      <td>0</td>\n",
       "      <td>0</td>\n",
       "      <td>0</td>\n",
       "    </tr>\n",
       "    <tr>\n",
       "      <th>345155</th>\n",
       "      <td>2001</td>\n",
       "      <td>68.0</td>\n",
       "      <td>150000</td>\n",
       "      <td>0</td>\n",
       "      <td>0</td>\n",
       "      <td>0</td>\n",
       "      <td>0</td>\n",
       "      <td>0</td>\n",
       "      <td>1</td>\n",
       "      <td>0</td>\n",
       "      <td>...</td>\n",
       "      <td>0</td>\n",
       "      <td>0</td>\n",
       "      <td>1</td>\n",
       "      <td>0</td>\n",
       "      <td>0</td>\n",
       "      <td>0</td>\n",
       "      <td>0</td>\n",
       "      <td>0</td>\n",
       "      <td>0</td>\n",
       "      <td>0</td>\n",
       "    </tr>\n",
       "    <tr>\n",
       "      <th>218876</th>\n",
       "      <td>2012</td>\n",
       "      <td>101.0</td>\n",
       "      <td>50000</td>\n",
       "      <td>0</td>\n",
       "      <td>0</td>\n",
       "      <td>0</td>\n",
       "      <td>0</td>\n",
       "      <td>0</td>\n",
       "      <td>0</td>\n",
       "      <td>0</td>\n",
       "      <td>...</td>\n",
       "      <td>0</td>\n",
       "      <td>0</td>\n",
       "      <td>0</td>\n",
       "      <td>0</td>\n",
       "      <td>0</td>\n",
       "      <td>0</td>\n",
       "      <td>0</td>\n",
       "      <td>0</td>\n",
       "      <td>0</td>\n",
       "      <td>0</td>\n",
       "    </tr>\n",
       "  </tbody>\n",
       "</table>\n",
       "<p>5 rows × 304 columns</p>\n",
       "</div>"
      ],
      "text/plain": [
       "        RegistrationYear  Power  Kilometer  NotRepaired  \\\n",
       "224040              1996  116.0     150000            0   \n",
       "230487              2006  131.0     150000            0   \n",
       "152054              2005  125.0     150000            0   \n",
       "345155              2001   68.0     150000            0   \n",
       "218876              2012  101.0      50000            0   \n",
       "\n",
       "        VehicleType_convertible  VehicleType_coupe  VehicleType_other  \\\n",
       "224040                        0                  0                  0   \n",
       "230487                        0                  0                  0   \n",
       "152054                        0                  0                  0   \n",
       "345155                        0                  0                  0   \n",
       "218876                        0                  0                  0   \n",
       "\n",
       "        VehicleType_sedan  VehicleType_small  VehicleType_suv  ...  \\\n",
       "224040                  0                  0                0  ...   \n",
       "230487                  0                  0                0  ...   \n",
       "152054                  1                  0                0  ...   \n",
       "345155                  0                  1                0  ...   \n",
       "218876                  0                  0                0  ...   \n",
       "\n",
       "        Brand_saab  Brand_seat  Brand_skoda  Brand_smart  Brand_subaru  \\\n",
       "224040           0           0            0            0             0   \n",
       "230487           0           0            0            0             0   \n",
       "152054           0           0            0            0             0   \n",
       "345155           0           0            1            0             0   \n",
       "218876           0           0            0            0             0   \n",
       "\n",
       "        Brand_suzuki  Brand_toyota  Brand_trabant  Brand_volkswagen  \\\n",
       "224040             0             0              0                 0   \n",
       "230487             0             0              0                 0   \n",
       "152054             0             0              0                 0   \n",
       "345155             0             0              0                 0   \n",
       "218876             0             0              0                 0   \n",
       "\n",
       "        Brand_volvo  \n",
       "224040            1  \n",
       "230487            0  \n",
       "152054            0  \n",
       "345155            0  \n",
       "218876            0  \n",
       "\n",
       "[5 rows x 304 columns]"
      ]
     },
     "metadata": {},
     "output_type": "display_data"
    },
    {
     "name": "stdout",
     "output_type": "stream",
     "text": [
      "<class 'pandas.core.frame.DataFrame'>\n",
      "Int64Index: 194988 entries, 224040 to 305120\n",
      "Columns: 304 entries, RegistrationYear to Brand_volvo\n",
      "dtypes: float64(1), int64(3), uint8(300)\n",
      "memory usage: 63.2 MB\n"
     ]
    }
   ],
   "source": [
    "dataset_four = dataset_framework(df, True, False, False, True)"
   ]
  },
  {
   "cell_type": "markdown",
   "metadata": {},
   "source": [
    "**Вывод по пункту 2:**\n",
    "\n",
    "Создали 3 датасета (3 образца класса dataset_framework):\n",
    "\n",
    "- Первый датасет: Для DummyRegressor, LinearRegression (+l1, l2 регуляризация), RandomForestRegressor, XGBoost. Обработка категориальных признаков, с нормализацией численных признаков: **6 моделей**\n",
    "- Второй датасет: Для lightGBM CatBoost. С нормализацией численных признаков **2 модели**\n",
    "- Третий датасет: Для lightGBM CatBoost. Без нормализации численных признаков **2 модели**"
   ]
  },
  {
   "cell_type": "markdown",
   "metadata": {},
   "source": [
    "## Обучение моделей"
   ]
  },
  {
   "cell_type": "code",
   "execution_count": 54,
   "metadata": {},
   "outputs": [],
   "source": [
    "#models_1\n",
    "dr = DummyRegressor(strategy=\"mean\")\n",
    "lr = LinearRegression()\n",
    "r = Ridge(random_state=12345)\n",
    "l = Lasso(random_state=12345)\n",
    "rfr = RandomForestRegressor(random_state=12345)\n",
    "xgb = XGBRegressor(random_state=12345)\n",
    "lgbm = LGBMRegressor(categorical_feature=dataset_two.categories, random_state=12345)\n",
    "cb = CatBoostRegressor(cat_features = dataset_two.categories, silent=True, random_state=12345)\n",
    "\n",
    "models_dataset_four = [lr, r, l]\n",
    "models_dataset_one = [rfr, xgb]\n",
    "models_dataset_two_three = [lgbm, cb]"
   ]
  },
  {
   "cell_type": "code",
   "execution_count": 55,
   "metadata": {},
   "outputs": [
    {
     "name": "stdout",
     "output_type": "stream",
     "text": [
      "CPU times: user 7min 35s, sys: 48.2 s, total: 8min 23s\n",
      "Wall time: 8min 32s\n"
     ]
    }
   ],
   "source": [
    "%%time\n",
    "#обучаем дефолтные модели\n",
    "dataset_one.model_checker(dr, True, 'no_tune')\n",
    "for model in models_dataset_four:\n",
    "    dataset_four.model_checker(model, True, 'no_tune')\n",
    "for model in models_dataset_one:\n",
    "    dataset_one.model_checker(model, True, 'no_tune')    \n",
    "\n",
    "for model in models_dataset_two_three:\n",
    "    dataset_two.model_checker(model, True, 'no_tune')\n",
    "for model in models_dataset_two_three:\n",
    "    dataset_three.model_checker(model, True, 'no_tune')"
   ]
  },
  {
   "cell_type": "code",
   "execution_count": 56,
   "metadata": {},
   "outputs": [],
   "source": [
    "pd.set_option(\"display.float_format\", \"{:.5f}\".format)"
   ]
  },
  {
   "cell_type": "code",
   "execution_count": 57,
   "metadata": {},
   "outputs": [
    {
     "data": {
      "text/html": [
       "<div>\n",
       "<style scoped>\n",
       "    .dataframe tbody tr th:only-of-type {\n",
       "        vertical-align: middle;\n",
       "    }\n",
       "\n",
       "    .dataframe tbody tr th {\n",
       "        vertical-align: top;\n",
       "    }\n",
       "\n",
       "    .dataframe thead th {\n",
       "        text-align: right;\n",
       "    }\n",
       "</style>\n",
       "<table border=\"1\" class=\"dataframe\">\n",
       "  <thead>\n",
       "    <tr style=\"text-align: right;\">\n",
       "      <th></th>\n",
       "      <th>Learning time</th>\n",
       "      <th>Prediction time</th>\n",
       "      <th>RMSE</th>\n",
       "    </tr>\n",
       "  </thead>\n",
       "  <tbody>\n",
       "    <tr>\n",
       "      <th>DummyRegressor</th>\n",
       "      <td>0.00073</td>\n",
       "      <td>0.00024</td>\n",
       "      <td>4525.94513</td>\n",
       "    </tr>\n",
       "    <tr>\n",
       "      <th>LinearRegression</th>\n",
       "      <td>17.62524</td>\n",
       "      <td>0.19381</td>\n",
       "      <td>2720.38944</td>\n",
       "    </tr>\n",
       "    <tr>\n",
       "      <th>Ridge</th>\n",
       "      <td>2.90532</td>\n",
       "      <td>0.29402</td>\n",
       "      <td>2720.39280</td>\n",
       "    </tr>\n",
       "    <tr>\n",
       "      <th>Lasso</th>\n",
       "      <td>128.59796</td>\n",
       "      <td>0.23989</td>\n",
       "      <td>2751.47708</td>\n",
       "    </tr>\n",
       "    <tr>\n",
       "      <th>RandomForestRegressor</th>\n",
       "      <td>39.38263</td>\n",
       "      <td>2.31525</td>\n",
       "      <td>1650.98171</td>\n",
       "    </tr>\n",
       "    <tr>\n",
       "      <th>XGBRegressor</th>\n",
       "      <td>35.49282</td>\n",
       "      <td>0.17406</td>\n",
       "      <td>1668.03994</td>\n",
       "    </tr>\n",
       "    <tr>\n",
       "      <th>LightGBM_norm</th>\n",
       "      <td>4.39711</td>\n",
       "      <td>0.61103</td>\n",
       "      <td>1668.69369</td>\n",
       "    </tr>\n",
       "    <tr>\n",
       "      <th>CatBoost_norm</th>\n",
       "      <td>135.96143</td>\n",
       "      <td>0.36434</td>\n",
       "      <td>1654.71875</td>\n",
       "    </tr>\n",
       "    <tr>\n",
       "      <th>LightGBM_no_norm</th>\n",
       "      <td>4.76014</td>\n",
       "      <td>0.60659</td>\n",
       "      <td>1671.48581</td>\n",
       "    </tr>\n",
       "    <tr>\n",
       "      <th>CatBoost_no_norm</th>\n",
       "      <td>138.45542</td>\n",
       "      <td>0.35588</td>\n",
       "      <td>1654.71875</td>\n",
       "    </tr>\n",
       "  </tbody>\n",
       "</table>\n",
       "</div>"
      ],
      "text/plain": [
       "                       Learning time  Prediction time       RMSE\n",
       "DummyRegressor               0.00073          0.00024 4525.94513\n",
       "LinearRegression            17.62524          0.19381 2720.38944\n",
       "Ridge                        2.90532          0.29402 2720.39280\n",
       "Lasso                      128.59796          0.23989 2751.47708\n",
       "RandomForestRegressor       39.38263          2.31525 1650.98171\n",
       "XGBRegressor                35.49282          0.17406 1668.03994\n",
       "LightGBM_norm                4.39711          0.61103 1668.69369\n",
       "CatBoost_norm              135.96143          0.36434 1654.71875\n",
       "LightGBM_no_norm             4.76014          0.60659 1671.48581\n",
       "CatBoost_no_norm           138.45542          0.35588 1654.71875"
      ]
     },
     "execution_count": 57,
     "metadata": {},
     "output_type": "execute_result"
    }
   ],
   "source": [
    "final_table_no_tune = pd.DataFrame(data=[fit_times_no_tune, predict_times_no_tune, rmse_results_no_tune], columns=['DummyRegressor', 'LinearRegression', 'Ridge', 'Lasso', 'RandomForestRegressor', 'XGBRegressor', 'LightGBM_norm', 'CatBoost_norm', 'LightGBM_no_norm', 'CatBoost_no_norm'], index=['Learning time', 'Prediction time', 'RMSE']).T\n",
    "final_table_no_tune"
   ]
  },
  {
   "cell_type": "markdown",
   "metadata": {},
   "source": [
    "Из таблице выше:\n",
    "\n",
    "- RMSE моделей lightGBM и CatBoost для датасетов 2 и 3 (с нормализацией и без) почти не отличается, но без нормализации увеличивается время обучения\n",
    "- Дефолтные модели RandomForestRegressor, lightGBM, XGBRegressor и CatBoost показали лучшие результаты по rmse (RMSE<1700). Худшая модель DummyRegressor (RMSE примерно = 4500) - константная модель\n",
    "- Дефолтные модели RandomForest, XGBoost, CatBoost занимают бОльшее время на обучение, чем lgbm.\n",
    "- Время на предсказание всех моделей < 0.5 сек, за исключением lgbm - около 0.6 секунд и RandomForestRegressor - больше 2-х секунд.\n",
    "- **В плане лучшей комбинации времени обучения и предсказания и точности предсказания следует выделить LightGBM модель. Однако в плане точности модели XGB и CatBoost также дают хороший результат, но требуют больше времени на обучение.**"
   ]
  },
  {
   "cell_type": "markdown",
   "metadata": {},
   "source": [
    "**Найдем подходящие гиперпараметры моделей, возьмем лучшие по точности/времени, проверим выбранные модели на тестовой выборке.**"
   ]
  },
  {
   "cell_type": "markdown",
   "metadata": {},
   "source": [
    "**1. DummyRegressor**"
   ]
  },
  {
   "cell_type": "code",
   "execution_count": 58,
   "metadata": {},
   "outputs": [
    {
     "name": "stdout",
     "output_type": "stream",
     "text": [
      "CPU times: user 1.59 ms, sys: 0 ns, total: 1.59 ms\n",
      "Wall time: 1.36 ms\n"
     ]
    }
   ],
   "source": [
    "%%time\n",
    "dataset_one.model_checker(dr, True, 'with_tune')"
   ]
  },
  {
   "cell_type": "markdown",
   "metadata": {},
   "source": [
    "**2. Linear Regression**"
   ]
  },
  {
   "cell_type": "code",
   "execution_count": 59,
   "metadata": {},
   "outputs": [
    {
     "name": "stdout",
     "output_type": "stream",
     "text": [
      "CPU times: user 15.3 s, sys: 2.13 s, total: 17.4 s\n",
      "Wall time: 17.4 s\n"
     ]
    }
   ],
   "source": [
    "%%time\n",
    "dataset_four.model_checker(lr, True, 'with_tune')\n"
   ]
  },
  {
   "cell_type": "markdown",
   "metadata": {},
   "source": [
    "**3. Lasso l1 регуляризация**"
   ]
  },
  {
   "cell_type": "code",
   "execution_count": 60,
   "metadata": {},
   "outputs": [
    {
     "name": "stdout",
     "output_type": "stream",
     "text": [
      "\n",
      "        Лучшие параметры модели Lasso: \n",
      "        \n",
      "        {'alpha': 0, 'random_state': 12345}\n",
      "        \n",
      "\n",
      "        Количество секунд нахождения оптимальных гиперпараметров модели Lasso: \n",
      "        \n",
      "        69.1\n",
      "        \n",
      "CPU times: user 4min 29s, sys: 2min 26s, total: 6min 55s\n",
      "Wall time: 6min 56s\n"
     ]
    }
   ],
   "source": [
    "%%time\n",
    "l = Lasso(random_state=12345)\n",
    "l_parameters = { 'alpha': np.arange (0, 3, 1),\n",
    "               'random_state': [12345]}\n",
    "l_best_grid = dataset_one.model_params_grid(l, 'Lasso', **l_parameters)\n",
    "dataset_four.model_checker(Lasso(**l_best_grid), True, 'with_tune')\n"
   ]
  },
  {
   "cell_type": "markdown",
   "metadata": {},
   "source": [
    "**4. Ridge l2 регуляризация**"
   ]
  },
  {
   "cell_type": "code",
   "execution_count": 61,
   "metadata": {},
   "outputs": [
    {
     "name": "stdout",
     "output_type": "stream",
     "text": [
      "\n",
      "        Лучшие параметры модели Ridge: \n",
      "        \n",
      "        {'alpha': 2.75, 'random_state': 12345}\n",
      "        \n",
      "\n",
      "        Количество секунд нахождения оптимальных гиперпараметров модели Ridge: \n",
      "        \n",
      "        7.21\n",
      "        \n",
      "CPU times: user 6.14 s, sys: 5.17 s, total: 11.3 s\n",
      "Wall time: 11.3 s\n"
     ]
    }
   ],
   "source": [
    "%%time\n",
    "r = Ridge(random_state=12345)\n",
    "r_parameters = { 'alpha': np.arange (0, 3, 0.25),\n",
    "               'random_state': [12345]}\n",
    "r_best_grid = dataset_one.model_params_grid(r, 'Ridge', **r_parameters)\n",
    "dataset_four.model_checker(Ridge(**r_best_grid), True, 'with_tune')\n"
   ]
  },
  {
   "cell_type": "markdown",
   "metadata": {},
   "source": [
    "**5. RandomForestRegressor**"
   ]
  },
  {
   "cell_type": "code",
   "execution_count": 62,
   "metadata": {},
   "outputs": [
    {
     "name": "stdout",
     "output_type": "stream",
     "text": [
      "\n",
      "        Лучшие параметры модели RandomForestRegressor: \n",
      "        \n",
      "        {'max_depth': 8, 'n_estimators': 120, 'random_state': 12345}\n",
      "        \n",
      "\n",
      "        Количество секунд нахождения оптимальных гиперпараметров модели RandomForestRegressor: \n",
      "        \n",
      "        130.17\n",
      "        \n",
      "CPU times: user 2min 31s, sys: 0 ns, total: 2min 31s\n",
      "Wall time: 2min 33s\n"
     ]
    }
   ],
   "source": [
    "%%time\n",
    "\n",
    "rfr = RandomForestRegressor(random_state=12345)\n",
    "rfr_parameters = { 'n_estimators': range (20, 200, 100),\n",
    "              'max_depth': range (3,10, 5),\n",
    "              #'min_samples_leaf': arange (1,5),\n",
    "              #'min_samples_split': arange (2,5),\n",
    "               'random_state': [12345] }\n",
    "rfr_best_grid = dataset_one.model_params_grid(rfr, 'RandomForestRegressor', **rfr_parameters)\n",
    "dataset_one.model_checker(RandomForestRegressor(**rfr_best_grid), True, 'with_tune')"
   ]
  },
  {
   "cell_type": "markdown",
   "metadata": {},
   "source": [
    "**6. XGBRegressor**"
   ]
  },
  {
   "cell_type": "code",
   "execution_count": 63,
   "metadata": {},
   "outputs": [
    {
     "name": "stdout",
     "output_type": "stream",
     "text": [
      "\n",
      "        Лучшие параметры модели XGBRegressor: \n",
      "        \n",
      "        {'max_depth': 8, 'n_estimators': 60, 'random_state': 12345}\n",
      "        \n",
      "\n",
      "        Количество секунд нахождения оптимальных гиперпараметров модели XGBRegressor: \n",
      "        \n",
      "        222.15\n",
      "        \n",
      "[0]\tvalidation_0-rmse:4775.33740\n",
      "[59]\tvalidation_0-rmse:1634.44665\n",
      "CPU times: user 4min 12s, sys: 0 ns, total: 4min 12s\n",
      "Wall time: 4min 15s\n"
     ]
    }
   ],
   "source": [
    "%%time\n",
    "\n",
    "xgb = XGBRegressor(random_state=12345)\n",
    "xgb_parameters = { 'n_estimators': range (10, 100,50),\n",
    "              'max_depth': range (3,10, 5),\n",
    "              #'reg_lambda': np.arange (0, 2, 1),\n",
    "               'random_state': [12345] }\n",
    "xgb_best_grid = dataset_one.model_params_grid(xgb, 'XGBRegressor',  **xgb_parameters)\n",
    "dataset_one.model_checker(XGBRegressor(**xgb_best_grid), False, 'with_tune')\n",
    "\n"
   ]
  },
  {
   "cell_type": "markdown",
   "metadata": {},
   "source": [
    "**7. LGBMRegressor**"
   ]
  },
  {
   "cell_type": "code",
   "execution_count": 64,
   "metadata": {},
   "outputs": [
    {
     "name": "stdout",
     "output_type": "stream",
     "text": [
      "\n",
      "        Лучшие параметры модели LGBMRegressor: \n",
      "        \n",
      "        {'max_depth': 8, 'n_estimators': 450, 'random_state': 12345}\n",
      "        \n",
      "\n",
      "        Количество секунд нахождения оптимальных гиперпараметров модели LGBMRegressor: \n",
      "        \n",
      "        132.8\n",
      "        \n",
      "[100]\tvalid_0's l2: 2.79637e+06\n",
      "[200]\tvalid_0's l2: 2.68152e+06\n",
      "[300]\tvalid_0's l2: 2.62646e+06\n",
      "[400]\tvalid_0's l2: 2.59033e+06\n",
      "CPU times: user 2min 31s, sys: 0 ns, total: 2min 31s\n",
      "Wall time: 2min 33s\n"
     ]
    }
   ],
   "source": [
    "%%time\n",
    "\n",
    "lgbm = LGBMRegressor(random_state=12345, categorical_feature=dataset_two.categories)\n",
    "lgbm_parameters = { 'n_estimators': range (50, 500,400),\n",
    "              'max_depth': range (3,10, 5),\n",
    "              #'reg_lambda': np.arange (0, 2, 1),\n",
    "               'random_state': [12345] }\n",
    "lgbm_best_grid = dataset_two.model_params_grid(lgbm, 'LGBMRegressor',  **lgbm_parameters)\n",
    "dataset_two.model_checker(LGBMRegressor(categorical_feature=dataset_two.categories, **lgbm_best_grid), False, 'with_tune')"
   ]
  },
  {
   "cell_type": "markdown",
   "metadata": {},
   "source": [
    "**8. CatBoostRegressor**"
   ]
  },
  {
   "cell_type": "code",
   "execution_count": 65,
   "metadata": {},
   "outputs": [
    {
     "name": "stdout",
     "output_type": "stream",
     "text": [
      "\n",
      "        Лучшие параметры модели CatBoostRegressor: \n",
      "        \n",
      "        {'max_depth': 8, 'n_estimators': 450, 'random_state': 12345}\n",
      "        \n",
      "\n",
      "        Количество секунд нахождения оптимальных гиперпараметров модели CatBoostRegressor: \n",
      "        \n",
      "        450.26\n",
      "        \n",
      "Learning rate set to 0.189656\n",
      "0:\tlearn: 3949.6322663\ttest: 3946.4690271\tbest: 3946.4690271 (0)\ttotal: 340ms\tremaining: 2m 32s\n",
      "100:\tlearn: 1664.4521975\ttest: 1703.9854115\tbest: 1703.9854115 (100)\ttotal: 20.4s\tremaining: 1m 10s\n",
      "200:\tlearn: 1592.6763436\ttest: 1658.0700010\tbest: 1658.0700010 (200)\ttotal: 40.1s\tremaining: 49.6s\n",
      "300:\tlearn: 1548.5375389\ttest: 1635.1323018\tbest: 1635.1323018 (300)\ttotal: 59.6s\tremaining: 29.5s\n",
      "400:\tlearn: 1514.2264718\ttest: 1621.6140161\tbest: 1621.6010912 (399)\ttotal: 1m 20s\tremaining: 9.83s\n",
      "449:\tlearn: 1501.1655750\ttest: 1617.3105262\tbest: 1617.2745948 (444)\ttotal: 1m 30s\tremaining: 0us\n",
      "\n",
      "bestTest = 1617.274595\n",
      "bestIteration = 444\n",
      "\n",
      "Shrink model to first 445 iterations.\n",
      "CPU times: user 8min 34s, sys: 0 ns, total: 8min 34s\n",
      "Wall time: 9min 3s\n"
     ]
    }
   ],
   "source": [
    "%%time\n",
    "\n",
    "cb = CatBoostRegressor(random_state=12345, cat_features=dataset_two.categories, loss_function='RMSE', silent=True)\n",
    "cb_parameters = {  'n_estimators': range (50, 500,400),\n",
    "              'max_depth': range (3,10, 5),\n",
    "              #'l2_leaf_reg': np.arange (0, 2, 1),\n",
    "               'random_state': [12345] }\n",
    "cb_best_grid = dataset_two.model_params_grid(cb, 'CatBoostRegressor',  **cb_parameters)\n",
    "dataset_two.model_checker(CatBoostRegressor(silent=True, cat_features=dataset_two.categories, **cb_best_grid), False, 'with_tune')\n",
    "\n"
   ]
  },
  {
   "cell_type": "code",
   "execution_count": 66,
   "metadata": {},
   "outputs": [
    {
     "data": {
      "text/html": [
       "<div>\n",
       "<style scoped>\n",
       "    .dataframe tbody tr th:only-of-type {\n",
       "        vertical-align: middle;\n",
       "    }\n",
       "\n",
       "    .dataframe tbody tr th {\n",
       "        vertical-align: top;\n",
       "    }\n",
       "\n",
       "    .dataframe thead th {\n",
       "        text-align: right;\n",
       "    }\n",
       "</style>\n",
       "<table border=\"1\" class=\"dataframe\">\n",
       "  <thead>\n",
       "    <tr style=\"text-align: right;\">\n",
       "      <th></th>\n",
       "      <th>Learning time</th>\n",
       "      <th>Prediction time</th>\n",
       "      <th>RMSE</th>\n",
       "    </tr>\n",
       "  </thead>\n",
       "  <tbody>\n",
       "    <tr>\n",
       "      <th>DummyRegressor</th>\n",
       "      <td>0.00056</td>\n",
       "      <td>0.00024</td>\n",
       "      <td>4525.94513</td>\n",
       "    </tr>\n",
       "    <tr>\n",
       "      <th>LinearRegression</th>\n",
       "      <td>17.15294</td>\n",
       "      <td>0.29377</td>\n",
       "      <td>2720.38944</td>\n",
       "    </tr>\n",
       "    <tr>\n",
       "      <th>Ridge</th>\n",
       "      <td>346.70859</td>\n",
       "      <td>0.29130</td>\n",
       "      <td>2720.39317</td>\n",
       "    </tr>\n",
       "    <tr>\n",
       "      <th>Lasso</th>\n",
       "      <td>3.79591</td>\n",
       "      <td>0.29712</td>\n",
       "      <td>2720.57761</td>\n",
       "    </tr>\n",
       "    <tr>\n",
       "      <th>RandomForestRegressor</th>\n",
       "      <td>23.11515</td>\n",
       "      <td>0.47041</td>\n",
       "      <td>2063.65766</td>\n",
       "    </tr>\n",
       "    <tr>\n",
       "      <th>XGBRegressor</th>\n",
       "      <td>33.05635</td>\n",
       "      <td>0.13311</td>\n",
       "      <td>1634.44784</td>\n",
       "    </tr>\n",
       "    <tr>\n",
       "      <th>LightGBM</th>\n",
       "      <td>18.10412</td>\n",
       "      <td>2.79915</td>\n",
       "      <td>1605.21504</td>\n",
       "    </tr>\n",
       "    <tr>\n",
       "      <th>CatBoost</th>\n",
       "      <td>93.42944</td>\n",
       "      <td>0.28944</td>\n",
       "      <td>1617.27459</td>\n",
       "    </tr>\n",
       "  </tbody>\n",
       "</table>\n",
       "</div>"
      ],
      "text/plain": [
       "                       Learning time  Prediction time       RMSE\n",
       "DummyRegressor               0.00056          0.00024 4525.94513\n",
       "LinearRegression            17.15294          0.29377 2720.38944\n",
       "Ridge                      346.70859          0.29130 2720.39317\n",
       "Lasso                        3.79591          0.29712 2720.57761\n",
       "RandomForestRegressor       23.11515          0.47041 2063.65766\n",
       "XGBRegressor                33.05635          0.13311 1634.44784\n",
       "LightGBM                    18.10412          2.79915 1605.21504\n",
       "CatBoost                    93.42944          0.28944 1617.27459"
      ]
     },
     "execution_count": 66,
     "metadata": {},
     "output_type": "execute_result"
    }
   ],
   "source": [
    "final_table_with_tune = pd.DataFrame(data=[fit_times_with_tune, predict_times_with_tune, rmse_results_with_tune], columns=['DummyRegressor', 'LinearRegression', 'Ridge', 'Lasso', 'RandomForestRegressor', 'XGBRegressor', 'LightGBM', 'CatBoost'], index=['Learning time', 'Prediction time', 'RMSE']).T\n",
    "final_table_with_tune"
   ]
  },
  {
   "cell_type": "markdown",
   "metadata": {},
   "source": [
    "Таблица выше показывает результаты rmse на валидационной выборке. Отберем пять моделей для проверки на тестовой выборке: (1) Линейная регрессия (2) RandomForest (3) XGBRegressor (4) Ligbm (5) CatBoost. "
   ]
  },
  {
   "cell_type": "markdown",
   "metadata": {},
   "source": [
    "Вывод по пункту 3:\n",
    "\n",
    "- RMSE моделей lightGBM и CatBoost для датасетов 2 и 3 (с нормализацией и без) почти не отличается, но без нормализации увеличивается время обучения\n",
    "- Дефолтные модели RandomForestRegressor, lightGBM, XGBRegressor и CatBoost показали лучшие результаты по rmse (RMSE<1700). Худшая модель DummyRegressor (RMSE примерно = 4500) - константная модель\n",
    "- Дефолтные модели RandomForest, XGBoost, CatBoost занимают бОльшее время на обучение, чем lgbm.\n",
    "- Время на предсказание всех моделей < 0.5 сек, за исключением lgbm - около 0.6 секунд и RandomForestRegressor - больше 2-х секунд.\n",
    "- **В плане лучшей комбинации времени обучения и предсказания и точности предсказания следует выделить LightGBM модель. Однако в плане точности модели XGB и CatBoost также дают хороший результат, но требуют больше времени на обучение (то же относится и RandomForestRegressor).**\n",
    "- Необходимо оценить качество полученных моделей на тестовой выборке"
   ]
  },
  {
   "cell_type": "markdown",
   "metadata": {},
   "source": [
    "## Анализ моделей"
   ]
  },
  {
   "cell_type": "markdown",
   "metadata": {},
   "source": [
    "На тестовой выборке сравним 5 моделей:\n",
    "(1) Линейная регрессия\n",
    "(2) RandomForest\n",
    "(3) XGBRegressor\n",
    "(4) Ligbm\n",
    "(5) CatBoost"
   ]
  },
  {
   "cell_type": "code",
   "execution_count": 68,
   "metadata": {},
   "outputs": [],
   "source": [
    "#test models\n",
    "lr_test = LinearRegression()\n",
    "rfr_test = RandomForestRegressor(**rfr_best_grid)\n",
    "xgb_test = XGBRegressor(**xgb_best_grid)\n",
    "lgbm_test = LGBMRegressor(categorical_feature=dataset_two.categories, **lgbm_best_grid)\n",
    "cb_test = CatBoostRegressor(cat_features=dataset_two.categories, **cb_best_grid)"
   ]
  },
  {
   "cell_type": "code",
   "execution_count": 69,
   "metadata": {},
   "outputs": [
    {
     "name": "stdout",
     "output_type": "stream",
     "text": [
      "CPU times: user 18.8 s, sys: 0 ns, total: 18.8 s\n",
      "Wall time: 18.9 s\n"
     ]
    }
   ],
   "source": [
    "%%time\n",
    "\n",
    "dataset_four.model_checker(lr_test, True, 'test')"
   ]
  },
  {
   "cell_type": "code",
   "execution_count": 70,
   "metadata": {},
   "outputs": [
    {
     "name": "stdout",
     "output_type": "stream",
     "text": [
      "CPU times: user 22 s, sys: 0 ns, total: 22 s\n",
      "Wall time: 22.4 s\n"
     ]
    }
   ],
   "source": [
    "%%time\n",
    "\n",
    "dataset_one.model_checker(rfr_test, True, 'test')"
   ]
  },
  {
   "cell_type": "code",
   "execution_count": 71,
   "metadata": {},
   "outputs": [
    {
     "name": "stdout",
     "output_type": "stream",
     "text": [
      "CPU times: user 30.8 s, sys: 0 ns, total: 30.8 s\n",
      "Wall time: 31.1 s\n"
     ]
    }
   ],
   "source": [
    "%%time\n",
    "\n",
    "dataset_one.model_checker(xgb_test, True, 'test')"
   ]
  },
  {
   "cell_type": "code",
   "execution_count": 72,
   "metadata": {},
   "outputs": [
    {
     "name": "stdout",
     "output_type": "stream",
     "text": [
      "CPU times: user 22.2 s, sys: 0 ns, total: 22.2 s\n",
      "Wall time: 22.4 s\n"
     ]
    }
   ],
   "source": [
    "%%time\n",
    "\n",
    "dataset_two.model_checker(lgbm_test, True, 'test')"
   ]
  },
  {
   "cell_type": "code",
   "execution_count": 73,
   "metadata": {},
   "outputs": [
    {
     "name": "stdout",
     "output_type": "stream",
     "text": [
      "Learning rate set to 0.180276\n",
      "0:\tlearn: 3977.2308568\ttotal: 263ms\tremaining: 1m 58s\n",
      "1:\tlearn: 3552.7189165\ttotal: 522ms\tremaining: 1m 56s\n",
      "2:\tlearn: 3195.4361847\ttotal: 757ms\tremaining: 1m 52s\n",
      "3:\tlearn: 2921.5373965\ttotal: 989ms\tremaining: 1m 50s\n",
      "4:\tlearn: 2715.5571456\ttotal: 1.22s\tremaining: 1m 48s\n",
      "5:\tlearn: 2548.2696632\ttotal: 1.43s\tremaining: 1m 45s\n",
      "6:\tlearn: 2422.7827724\ttotal: 1.66s\tremaining: 1m 44s\n",
      "7:\tlearn: 2314.6919790\ttotal: 1.88s\tremaining: 1m 43s\n",
      "8:\tlearn: 2235.5893010\ttotal: 2.08s\tremaining: 1m 42s\n",
      "9:\tlearn: 2169.1782495\ttotal: 2.29s\tremaining: 1m 40s\n",
      "10:\tlearn: 2113.1725592\ttotal: 2.51s\tremaining: 1m 40s\n",
      "11:\tlearn: 2067.2376719\ttotal: 2.7s\tremaining: 1m 38s\n",
      "12:\tlearn: 2032.2213018\ttotal: 2.9s\tremaining: 1m 37s\n",
      "13:\tlearn: 2006.3381252\ttotal: 3.08s\tremaining: 1m 35s\n",
      "14:\tlearn: 1981.8419443\ttotal: 3.25s\tremaining: 1m 34s\n",
      "15:\tlearn: 1961.3849499\ttotal: 3.4s\tremaining: 1m 32s\n",
      "16:\tlearn: 1944.5532974\ttotal: 3.55s\tremaining: 1m 30s\n",
      "17:\tlearn: 1930.2778179\ttotal: 3.7s\tremaining: 1m 28s\n",
      "18:\tlearn: 1917.0332664\ttotal: 3.87s\tremaining: 1m 27s\n",
      "19:\tlearn: 1902.4784922\ttotal: 4.02s\tremaining: 1m 26s\n",
      "20:\tlearn: 1891.8186686\ttotal: 4.23s\tremaining: 1m 26s\n",
      "21:\tlearn: 1882.1254072\ttotal: 4.39s\tremaining: 1m 25s\n",
      "22:\tlearn: 1873.0841026\ttotal: 4.59s\tremaining: 1m 25s\n",
      "23:\tlearn: 1864.4004922\ttotal: 4.8s\tremaining: 1m 25s\n",
      "24:\tlearn: 1857.3694538\ttotal: 5s\tremaining: 1m 25s\n",
      "25:\tlearn: 1848.7895125\ttotal: 5.17s\tremaining: 1m 24s\n",
      "26:\tlearn: 1843.0116480\ttotal: 5.35s\tremaining: 1m 23s\n",
      "27:\tlearn: 1837.5168289\ttotal: 5.54s\tremaining: 1m 23s\n",
      "28:\tlearn: 1831.6516000\ttotal: 5.71s\tremaining: 1m 22s\n",
      "29:\tlearn: 1825.9466777\ttotal: 5.86s\tremaining: 1m 22s\n",
      "30:\tlearn: 1821.0313741\ttotal: 6.11s\tremaining: 1m 22s\n",
      "31:\tlearn: 1817.7271075\ttotal: 6.28s\tremaining: 1m 22s\n",
      "32:\tlearn: 1812.5391407\ttotal: 6.5s\tremaining: 1m 22s\n",
      "33:\tlearn: 1806.9877052\ttotal: 6.73s\tremaining: 1m 22s\n",
      "34:\tlearn: 1804.2497653\ttotal: 6.96s\tremaining: 1m 22s\n",
      "35:\tlearn: 1801.5438271\ttotal: 7.15s\tremaining: 1m 22s\n",
      "36:\tlearn: 1798.4745967\ttotal: 7.34s\tremaining: 1m 21s\n",
      "37:\tlearn: 1795.1481501\ttotal: 7.53s\tremaining: 1m 21s\n",
      "38:\tlearn: 1792.5495813\ttotal: 7.78s\tremaining: 1m 21s\n",
      "39:\tlearn: 1790.3198470\ttotal: 7.94s\tremaining: 1m 21s\n",
      "40:\tlearn: 1785.1169583\ttotal: 8.06s\tremaining: 1m 20s\n",
      "41:\tlearn: 1782.3037448\ttotal: 8.29s\tremaining: 1m 20s\n",
      "42:\tlearn: 1778.6164445\ttotal: 8.53s\tremaining: 1m 20s\n",
      "43:\tlearn: 1775.7028131\ttotal: 8.74s\tremaining: 1m 20s\n",
      "44:\tlearn: 1774.1677245\ttotal: 8.89s\tremaining: 1m 20s\n",
      "45:\tlearn: 1770.7610487\ttotal: 9.08s\tremaining: 1m 19s\n",
      "46:\tlearn: 1766.2296672\ttotal: 9.33s\tremaining: 1m 20s\n",
      "47:\tlearn: 1763.3399948\ttotal: 9.52s\tremaining: 1m 19s\n",
      "48:\tlearn: 1760.5802845\ttotal: 9.7s\tremaining: 1m 19s\n",
      "49:\tlearn: 1757.5112609\ttotal: 9.82s\tremaining: 1m 18s\n",
      "50:\tlearn: 1754.0547151\ttotal: 9.96s\tremaining: 1m 17s\n",
      "51:\tlearn: 1751.7749095\ttotal: 10.1s\tremaining: 1m 17s\n",
      "52:\tlearn: 1749.8839685\ttotal: 10.3s\tremaining: 1m 17s\n",
      "53:\tlearn: 1746.6761908\ttotal: 10.4s\tremaining: 1m 16s\n",
      "54:\tlearn: 1743.5763782\ttotal: 10.6s\tremaining: 1m 16s\n",
      "55:\tlearn: 1742.8391621\ttotal: 10.8s\tremaining: 1m 15s\n",
      "56:\tlearn: 1740.3286398\ttotal: 11s\tremaining: 1m 15s\n",
      "57:\tlearn: 1738.0955671\ttotal: 11.2s\tremaining: 1m 15s\n",
      "58:\tlearn: 1736.1731010\ttotal: 11.4s\tremaining: 1m 15s\n",
      "59:\tlearn: 1733.1301786\ttotal: 11.6s\tremaining: 1m 15s\n",
      "60:\tlearn: 1730.6382410\ttotal: 11.8s\tremaining: 1m 14s\n",
      "61:\tlearn: 1728.6948845\ttotal: 11.9s\tremaining: 1m 14s\n",
      "62:\tlearn: 1726.9098163\ttotal: 12s\tremaining: 1m 13s\n",
      "63:\tlearn: 1725.3602730\ttotal: 12.2s\tremaining: 1m 13s\n",
      "64:\tlearn: 1723.4503789\ttotal: 12.4s\tremaining: 1m 13s\n",
      "65:\tlearn: 1720.2241983\ttotal: 12.5s\tremaining: 1m 12s\n",
      "66:\tlearn: 1718.0052728\ttotal: 12.7s\tremaining: 1m 12s\n",
      "67:\tlearn: 1716.2894478\ttotal: 12.9s\tremaining: 1m 12s\n",
      "68:\tlearn: 1713.4903393\ttotal: 13.1s\tremaining: 1m 12s\n",
      "69:\tlearn: 1712.1456725\ttotal: 13.2s\tremaining: 1m 11s\n",
      "70:\tlearn: 1709.7408727\ttotal: 13.4s\tremaining: 1m 11s\n",
      "71:\tlearn: 1708.5795044\ttotal: 13.6s\tremaining: 1m 11s\n",
      "72:\tlearn: 1706.2896764\ttotal: 13.7s\tremaining: 1m 10s\n",
      "73:\tlearn: 1705.3062119\ttotal: 13.9s\tremaining: 1m 10s\n",
      "74:\tlearn: 1703.4875458\ttotal: 14.1s\tremaining: 1m 10s\n",
      "75:\tlearn: 1702.3526104\ttotal: 14.3s\tremaining: 1m 10s\n",
      "76:\tlearn: 1701.3855995\ttotal: 14.5s\tremaining: 1m 10s\n",
      "77:\tlearn: 1699.9234681\ttotal: 14.6s\tremaining: 1m 9s\n",
      "78:\tlearn: 1698.2856712\ttotal: 14.8s\tremaining: 1m 9s\n",
      "79:\tlearn: 1697.4209933\ttotal: 15s\tremaining: 1m 9s\n",
      "80:\tlearn: 1696.8534965\ttotal: 15.2s\tremaining: 1m 9s\n",
      "81:\tlearn: 1694.6666193\ttotal: 15.4s\tremaining: 1m 9s\n",
      "82:\tlearn: 1693.5358845\ttotal: 15.6s\tremaining: 1m 8s\n",
      "83:\tlearn: 1691.0167076\ttotal: 15.8s\tremaining: 1m 8s\n",
      "84:\tlearn: 1690.2102895\ttotal: 15.9s\tremaining: 1m 8s\n",
      "85:\tlearn: 1688.7895191\ttotal: 16.1s\tremaining: 1m 8s\n",
      "86:\tlearn: 1687.6226653\ttotal: 16.3s\tremaining: 1m 7s\n",
      "87:\tlearn: 1685.5803291\ttotal: 16.5s\tremaining: 1m 7s\n",
      "88:\tlearn: 1683.8222510\ttotal: 16.7s\tremaining: 1m 7s\n",
      "89:\tlearn: 1682.8646621\ttotal: 16.9s\tremaining: 1m 7s\n",
      "90:\tlearn: 1681.8223046\ttotal: 17s\tremaining: 1m 7s\n",
      "91:\tlearn: 1680.2930001\ttotal: 17.2s\tremaining: 1m 7s\n",
      "92:\tlearn: 1678.9637141\ttotal: 17.4s\tremaining: 1m 6s\n",
      "93:\tlearn: 1677.8697370\ttotal: 17.6s\tremaining: 1m 6s\n",
      "94:\tlearn: 1677.1359702\ttotal: 17.8s\tremaining: 1m 6s\n",
      "95:\tlearn: 1675.7194578\ttotal: 18s\tremaining: 1m 6s\n",
      "96:\tlearn: 1675.1556575\ttotal: 18.2s\tremaining: 1m 6s\n",
      "97:\tlearn: 1674.3162872\ttotal: 18.4s\tremaining: 1m 5s\n",
      "98:\tlearn: 1673.7235612\ttotal: 18.6s\tremaining: 1m 5s\n",
      "99:\tlearn: 1672.2928604\ttotal: 18.7s\tremaining: 1m 5s\n",
      "100:\tlearn: 1671.3291375\ttotal: 18.9s\tremaining: 1m 5s\n",
      "101:\tlearn: 1670.5788066\ttotal: 19s\tremaining: 1m 4s\n",
      "102:\tlearn: 1669.1472283\ttotal: 19.3s\tremaining: 1m 4s\n",
      "103:\tlearn: 1667.9456286\ttotal: 19.4s\tremaining: 1m 4s\n",
      "104:\tlearn: 1666.4103641\ttotal: 19.6s\tremaining: 1m 4s\n",
      "105:\tlearn: 1665.0232214\ttotal: 19.8s\tremaining: 1m 4s\n",
      "106:\tlearn: 1664.4340555\ttotal: 20s\tremaining: 1m 4s\n",
      "107:\tlearn: 1663.5108756\ttotal: 20.2s\tremaining: 1m 3s\n",
      "108:\tlearn: 1662.9019347\ttotal: 20.4s\tremaining: 1m 3s\n",
      "109:\tlearn: 1661.7360302\ttotal: 20.7s\tremaining: 1m 3s\n",
      "110:\tlearn: 1661.0400387\ttotal: 20.8s\tremaining: 1m 3s\n",
      "111:\tlearn: 1660.5134554\ttotal: 21s\tremaining: 1m 3s\n",
      "112:\tlearn: 1659.7660209\ttotal: 21.2s\tremaining: 1m 3s\n",
      "113:\tlearn: 1659.0824782\ttotal: 21.3s\tremaining: 1m 2s\n",
      "114:\tlearn: 1657.3940651\ttotal: 21.5s\tremaining: 1m 2s\n",
      "115:\tlearn: 1656.0824698\ttotal: 21.7s\tremaining: 1m 2s\n",
      "116:\tlearn: 1655.0529885\ttotal: 22s\tremaining: 1m 2s\n",
      "117:\tlearn: 1654.3189917\ttotal: 22.1s\tremaining: 1m 2s\n",
      "118:\tlearn: 1653.5439240\ttotal: 22.3s\tremaining: 1m 1s\n",
      "119:\tlearn: 1652.3331667\ttotal: 22.6s\tremaining: 1m 2s\n",
      "120:\tlearn: 1651.0370614\ttotal: 22.7s\tremaining: 1m 1s\n",
      "121:\tlearn: 1649.4575459\ttotal: 22.9s\tremaining: 1m 1s\n",
      "122:\tlearn: 1648.6667880\ttotal: 23.2s\tremaining: 1m 1s\n",
      "123:\tlearn: 1647.4611670\ttotal: 23.4s\tremaining: 1m 1s\n",
      "124:\tlearn: 1646.6648024\ttotal: 23.6s\tremaining: 1m 1s\n",
      "125:\tlearn: 1646.1816093\ttotal: 23.7s\tremaining: 1m\n",
      "126:\tlearn: 1645.1715713\ttotal: 23.9s\tremaining: 1m\n",
      "127:\tlearn: 1644.3196359\ttotal: 24s\tremaining: 1m\n",
      "128:\tlearn: 1643.3188978\ttotal: 24.2s\tremaining: 1m\n",
      "129:\tlearn: 1642.5933939\ttotal: 24.3s\tremaining: 59.9s\n",
      "130:\tlearn: 1641.4693041\ttotal: 24.5s\tremaining: 59.7s\n",
      "131:\tlearn: 1640.7781153\ttotal: 24.7s\tremaining: 59.6s\n",
      "132:\tlearn: 1639.4938140\ttotal: 25s\tremaining: 59.5s\n",
      "133:\tlearn: 1638.5190742\ttotal: 25.1s\tremaining: 59.3s\n",
      "134:\tlearn: 1637.6403859\ttotal: 25.3s\tremaining: 59.1s\n",
      "135:\tlearn: 1636.9288029\ttotal: 25.5s\tremaining: 59s\n",
      "136:\tlearn: 1636.4056329\ttotal: 25.8s\tremaining: 58.8s\n",
      "137:\tlearn: 1635.6831397\ttotal: 26s\tremaining: 58.8s\n",
      "138:\tlearn: 1635.2861218\ttotal: 26.2s\tremaining: 58.7s\n",
      "139:\tlearn: 1634.4392456\ttotal: 26.4s\tremaining: 58.5s\n",
      "140:\tlearn: 1633.5412869\ttotal: 26.6s\tremaining: 58.3s\n",
      "141:\tlearn: 1632.9604407\ttotal: 26.8s\tremaining: 58.1s\n",
      "142:\tlearn: 1631.9204649\ttotal: 27s\tremaining: 58s\n",
      "143:\tlearn: 1631.5532064\ttotal: 27.2s\tremaining: 57.8s\n",
      "144:\tlearn: 1631.0078469\ttotal: 27.3s\tremaining: 57.5s\n",
      "145:\tlearn: 1630.1259083\ttotal: 27.5s\tremaining: 57.4s\n",
      "146:\tlearn: 1629.5792014\ttotal: 27.7s\tremaining: 57.1s\n",
      "147:\tlearn: 1629.2894390\ttotal: 27.9s\tremaining: 56.9s\n",
      "148:\tlearn: 1628.3121730\ttotal: 28.1s\tremaining: 56.7s\n",
      "149:\tlearn: 1627.7262716\ttotal: 28.3s\tremaining: 56.5s\n",
      "150:\tlearn: 1627.1553327\ttotal: 28.4s\tremaining: 56.3s\n"
     ]
    },
    {
     "name": "stdout",
     "output_type": "stream",
     "text": [
      "151:\tlearn: 1626.2556490\ttotal: 28.6s\tremaining: 56s\n",
      "152:\tlearn: 1625.7719016\ttotal: 28.7s\tremaining: 55.8s\n",
      "153:\tlearn: 1625.1357179\ttotal: 28.9s\tremaining: 55.6s\n",
      "154:\tlearn: 1624.6339529\ttotal: 29.1s\tremaining: 55.4s\n",
      "155:\tlearn: 1624.0058398\ttotal: 29.3s\tremaining: 55.2s\n",
      "156:\tlearn: 1623.1463378\ttotal: 29.5s\tremaining: 55.1s\n",
      "157:\tlearn: 1622.7671371\ttotal: 29.7s\tremaining: 54.9s\n",
      "158:\tlearn: 1621.5315437\ttotal: 29.9s\tremaining: 54.7s\n",
      "159:\tlearn: 1620.0386370\ttotal: 30.1s\tremaining: 54.5s\n",
      "160:\tlearn: 1619.4415069\ttotal: 30.2s\tremaining: 54.3s\n",
      "161:\tlearn: 1618.6685565\ttotal: 30.4s\tremaining: 54.1s\n",
      "162:\tlearn: 1617.9418655\ttotal: 30.6s\tremaining: 53.9s\n",
      "163:\tlearn: 1616.4635104\ttotal: 30.8s\tremaining: 53.7s\n",
      "164:\tlearn: 1615.6215343\ttotal: 30.9s\tremaining: 53.5s\n",
      "165:\tlearn: 1615.0664371\ttotal: 31.1s\tremaining: 53.2s\n",
      "166:\tlearn: 1614.7178927\ttotal: 31.2s\tremaining: 52.9s\n",
      "167:\tlearn: 1614.1620183\ttotal: 31.4s\tremaining: 52.7s\n",
      "168:\tlearn: 1613.0945000\ttotal: 31.6s\tremaining: 52.6s\n",
      "169:\tlearn: 1612.7268022\ttotal: 31.8s\tremaining: 52.3s\n",
      "170:\tlearn: 1611.9818976\ttotal: 31.9s\tremaining: 52.1s\n",
      "171:\tlearn: 1611.6329496\ttotal: 32.1s\tremaining: 51.8s\n",
      "172:\tlearn: 1611.2303399\ttotal: 32.2s\tremaining: 51.6s\n",
      "173:\tlearn: 1610.6870835\ttotal: 32.4s\tremaining: 51.4s\n",
      "174:\tlearn: 1609.6450542\ttotal: 32.6s\tremaining: 51.2s\n",
      "175:\tlearn: 1609.1284700\ttotal: 32.7s\tremaining: 51s\n",
      "176:\tlearn: 1608.4217906\ttotal: 32.9s\tremaining: 50.8s\n",
      "177:\tlearn: 1608.0591729\ttotal: 33.1s\tremaining: 50.6s\n",
      "178:\tlearn: 1607.3764874\ttotal: 33.2s\tremaining: 50.3s\n",
      "179:\tlearn: 1606.0942175\ttotal: 33.4s\tremaining: 50.1s\n",
      "180:\tlearn: 1605.4202928\ttotal: 33.6s\tremaining: 49.9s\n",
      "181:\tlearn: 1604.8277314\ttotal: 33.7s\tremaining: 49.7s\n",
      "182:\tlearn: 1603.7967808\ttotal: 33.9s\tremaining: 49.5s\n",
      "183:\tlearn: 1603.1979806\ttotal: 34.1s\tremaining: 49.2s\n",
      "184:\tlearn: 1602.4961018\ttotal: 34.3s\tremaining: 49.1s\n",
      "185:\tlearn: 1602.0704821\ttotal: 34.5s\tremaining: 48.9s\n",
      "186:\tlearn: 1601.6676997\ttotal: 34.6s\tremaining: 48.7s\n",
      "187:\tlearn: 1600.9998254\ttotal: 34.8s\tremaining: 48.6s\n",
      "188:\tlearn: 1600.0478106\ttotal: 35s\tremaining: 48.3s\n",
      "189:\tlearn: 1599.3484493\ttotal: 35.2s\tremaining: 48.1s\n",
      "190:\tlearn: 1599.0925644\ttotal: 35.3s\tremaining: 47.9s\n",
      "191:\tlearn: 1598.1008530\ttotal: 35.5s\tremaining: 47.7s\n",
      "192:\tlearn: 1597.3622800\ttotal: 35.7s\tremaining: 47.6s\n",
      "193:\tlearn: 1596.7947577\ttotal: 35.9s\tremaining: 47.4s\n",
      "194:\tlearn: 1596.5132647\ttotal: 36.2s\tremaining: 47.3s\n",
      "195:\tlearn: 1596.0870026\ttotal: 36.4s\tremaining: 47.1s\n",
      "196:\tlearn: 1595.6196859\ttotal: 36.6s\tremaining: 47s\n",
      "197:\tlearn: 1595.3088507\ttotal: 36.8s\tremaining: 46.8s\n",
      "198:\tlearn: 1595.0070470\ttotal: 36.9s\tremaining: 46.6s\n",
      "199:\tlearn: 1594.5862806\ttotal: 37.1s\tremaining: 46.4s\n",
      "200:\tlearn: 1594.3222087\ttotal: 37.3s\tremaining: 46.2s\n",
      "201:\tlearn: 1593.3116855\ttotal: 37.4s\tremaining: 46s\n",
      "202:\tlearn: 1593.0112309\ttotal: 37.6s\tremaining: 45.7s\n",
      "203:\tlearn: 1592.7530861\ttotal: 37.8s\tremaining: 45.6s\n",
      "204:\tlearn: 1592.4376792\ttotal: 38s\tremaining: 45.4s\n",
      "205:\tlearn: 1591.7711804\ttotal: 38.2s\tremaining: 45.3s\n",
      "206:\tlearn: 1591.2950570\ttotal: 38.4s\tremaining: 45.1s\n",
      "207:\tlearn: 1590.9712269\ttotal: 38.6s\tremaining: 44.9s\n",
      "208:\tlearn: 1590.4237833\ttotal: 38.8s\tremaining: 44.7s\n",
      "209:\tlearn: 1589.7334341\ttotal: 38.9s\tremaining: 44.5s\n",
      "210:\tlearn: 1589.4797246\ttotal: 39.1s\tremaining: 44.3s\n",
      "211:\tlearn: 1588.6402441\ttotal: 39.3s\tremaining: 44.1s\n",
      "212:\tlearn: 1587.4949171\ttotal: 39.4s\tremaining: 43.9s\n",
      "213:\tlearn: 1586.5301590\ttotal: 39.6s\tremaining: 43.7s\n",
      "214:\tlearn: 1586.1697519\ttotal: 39.8s\tremaining: 43.5s\n",
      "215:\tlearn: 1585.8539289\ttotal: 39.9s\tremaining: 43.2s\n",
      "216:\tlearn: 1585.5095742\ttotal: 40.1s\tremaining: 43.1s\n",
      "217:\tlearn: 1585.2713175\ttotal: 40.2s\tremaining: 42.8s\n",
      "218:\tlearn: 1584.2315468\ttotal: 40.4s\tremaining: 42.6s\n",
      "219:\tlearn: 1583.6186345\ttotal: 40.6s\tremaining: 42.4s\n",
      "220:\tlearn: 1583.2848875\ttotal: 40.8s\tremaining: 42.3s\n",
      "221:\tlearn: 1583.0353690\ttotal: 41s\tremaining: 42.2s\n",
      "222:\tlearn: 1582.6157298\ttotal: 41.2s\tremaining: 42s\n",
      "223:\tlearn: 1582.3058963\ttotal: 41.4s\tremaining: 41.8s\n",
      "224:\tlearn: 1581.6460561\ttotal: 41.6s\tremaining: 41.6s\n",
      "225:\tlearn: 1580.9246286\ttotal: 41.8s\tremaining: 41.4s\n",
      "226:\tlearn: 1580.6228924\ttotal: 42s\tremaining: 41.2s\n",
      "227:\tlearn: 1580.0675583\ttotal: 42.1s\tremaining: 41s\n",
      "228:\tlearn: 1579.8422359\ttotal: 42.3s\tremaining: 40.8s\n",
      "229:\tlearn: 1579.3094362\ttotal: 42.5s\tremaining: 40.6s\n",
      "230:\tlearn: 1579.0760065\ttotal: 42.6s\tremaining: 40.4s\n",
      "231:\tlearn: 1578.6502624\ttotal: 42.8s\tremaining: 40.2s\n",
      "232:\tlearn: 1578.3688375\ttotal: 43s\tremaining: 40s\n",
      "233:\tlearn: 1577.7952016\ttotal: 43.1s\tremaining: 39.8s\n",
      "234:\tlearn: 1577.3089249\ttotal: 43.3s\tremaining: 39.6s\n",
      "235:\tlearn: 1576.9470828\ttotal: 43.5s\tremaining: 39.4s\n",
      "236:\tlearn: 1576.7045193\ttotal: 43.7s\tremaining: 39.2s\n",
      "237:\tlearn: 1576.3141674\ttotal: 43.9s\tremaining: 39.1s\n",
      "238:\tlearn: 1575.8508368\ttotal: 44.1s\tremaining: 38.9s\n",
      "239:\tlearn: 1575.1130857\ttotal: 44.2s\tremaining: 38.7s\n",
      "240:\tlearn: 1574.6288270\ttotal: 44.4s\tremaining: 38.5s\n",
      "241:\tlearn: 1573.9428685\ttotal: 44.6s\tremaining: 38.3s\n",
      "242:\tlearn: 1573.4432932\ttotal: 44.8s\tremaining: 38.1s\n",
      "243:\tlearn: 1572.7183386\ttotal: 45s\tremaining: 38s\n",
      "244:\tlearn: 1572.3703326\ttotal: 45.2s\tremaining: 37.8s\n",
      "245:\tlearn: 1572.1164370\ttotal: 45.3s\tremaining: 37.6s\n",
      "246:\tlearn: 1571.8034816\ttotal: 45.5s\tremaining: 37.4s\n",
      "247:\tlearn: 1571.3761434\ttotal: 45.6s\tremaining: 37.2s\n",
      "248:\tlearn: 1570.9405153\ttotal: 45.8s\tremaining: 37s\n",
      "249:\tlearn: 1570.4682200\ttotal: 46s\tremaining: 36.8s\n",
      "250:\tlearn: 1570.3053336\ttotal: 46.2s\tremaining: 36.6s\n",
      "251:\tlearn: 1570.0639703\ttotal: 46.3s\tremaining: 36.4s\n",
      "252:\tlearn: 1569.4977381\ttotal: 46.5s\tremaining: 36.2s\n",
      "253:\tlearn: 1568.9313602\ttotal: 46.7s\tremaining: 36s\n",
      "254:\tlearn: 1568.7923324\ttotal: 46.8s\tremaining: 35.8s\n",
      "255:\tlearn: 1568.5676582\ttotal: 47.1s\tremaining: 35.7s\n",
      "256:\tlearn: 1568.3256678\ttotal: 47.2s\tremaining: 35.5s\n",
      "257:\tlearn: 1567.9507591\ttotal: 47.4s\tremaining: 35.3s\n",
      "258:\tlearn: 1567.6352894\ttotal: 47.6s\tremaining: 35.1s\n",
      "259:\tlearn: 1567.4449962\ttotal: 47.8s\tremaining: 34.9s\n",
      "260:\tlearn: 1567.1370077\ttotal: 48s\tremaining: 34.7s\n",
      "261:\tlearn: 1566.4924654\ttotal: 48.2s\tremaining: 34.6s\n",
      "262:\tlearn: 1566.3687496\ttotal: 48.4s\tremaining: 34.4s\n",
      "263:\tlearn: 1565.8636000\ttotal: 48.5s\tremaining: 34.2s\n",
      "264:\tlearn: 1565.5764220\ttotal: 48.7s\tremaining: 34s\n",
      "265:\tlearn: 1565.0414116\ttotal: 48.9s\tremaining: 33.8s\n",
      "266:\tlearn: 1564.6499210\ttotal: 49s\tremaining: 33.6s\n",
      "267:\tlearn: 1564.3947481\ttotal: 49.3s\tremaining: 33.4s\n",
      "268:\tlearn: 1563.9870609\ttotal: 49.4s\tremaining: 33.2s\n",
      "269:\tlearn: 1563.8044895\ttotal: 49.5s\tremaining: 33s\n",
      "270:\tlearn: 1563.5904037\ttotal: 49.7s\tremaining: 32.8s\n",
      "271:\tlearn: 1563.1871121\ttotal: 49.9s\tremaining: 32.7s\n",
      "272:\tlearn: 1562.8211533\ttotal: 50.1s\tremaining: 32.5s\n",
      "273:\tlearn: 1562.1888807\ttotal: 50.3s\tremaining: 32.3s\n",
      "274:\tlearn: 1561.9196063\ttotal: 50.5s\tremaining: 32.1s\n",
      "275:\tlearn: 1561.5598513\ttotal: 50.6s\tremaining: 31.9s\n",
      "276:\tlearn: 1561.2881654\ttotal: 50.8s\tremaining: 31.7s\n",
      "277:\tlearn: 1560.4608078\ttotal: 51s\tremaining: 31.6s\n",
      "278:\tlearn: 1560.1392435\ttotal: 51.2s\tremaining: 31.4s\n",
      "279:\tlearn: 1559.5971884\ttotal: 51.4s\tremaining: 31.2s\n",
      "280:\tlearn: 1558.9995173\ttotal: 51.6s\tremaining: 31s\n",
      "281:\tlearn: 1558.6995580\ttotal: 51.8s\tremaining: 30.8s\n",
      "282:\tlearn: 1558.1235617\ttotal: 52s\tremaining: 30.7s\n",
      "283:\tlearn: 1557.8060513\ttotal: 52.2s\tremaining: 30.5s\n",
      "284:\tlearn: 1557.4294988\ttotal: 52.4s\tremaining: 30.3s\n",
      "285:\tlearn: 1557.0387801\ttotal: 52.6s\tremaining: 30.1s\n",
      "286:\tlearn: 1556.4205687\ttotal: 52.8s\tremaining: 30s\n",
      "287:\tlearn: 1556.0097442\ttotal: 53s\tremaining: 29.8s\n",
      "288:\tlearn: 1555.2236191\ttotal: 53.2s\tremaining: 29.6s\n",
      "289:\tlearn: 1554.6308050\ttotal: 53.4s\tremaining: 29.5s\n",
      "290:\tlearn: 1554.2416105\ttotal: 53.6s\tremaining: 29.3s\n",
      "291:\tlearn: 1553.9079556\ttotal: 53.7s\tremaining: 29.1s\n",
      "292:\tlearn: 1553.7271868\ttotal: 53.9s\tremaining: 28.9s\n",
      "293:\tlearn: 1553.4818949\ttotal: 54.1s\tremaining: 28.7s\n",
      "294:\tlearn: 1552.8544136\ttotal: 54.2s\tremaining: 28.5s\n",
      "295:\tlearn: 1552.6804937\ttotal: 54.4s\tremaining: 28.3s\n",
      "296:\tlearn: 1552.4009817\ttotal: 54.5s\tremaining: 28.1s\n",
      "297:\tlearn: 1551.8630822\ttotal: 54.7s\tremaining: 27.9s\n",
      "298:\tlearn: 1551.5287107\ttotal: 54.9s\tremaining: 27.7s\n",
      "299:\tlearn: 1551.0643060\ttotal: 55.1s\tremaining: 27.5s\n",
      "300:\tlearn: 1550.8316884\ttotal: 55.3s\tremaining: 27.3s\n",
      "301:\tlearn: 1550.6063956\ttotal: 55.4s\tremaining: 27.1s\n"
     ]
    },
    {
     "name": "stdout",
     "output_type": "stream",
     "text": [
      "302:\tlearn: 1550.4349136\ttotal: 55.6s\tremaining: 27s\n",
      "303:\tlearn: 1550.2432345\ttotal: 55.7s\tremaining: 26.8s\n",
      "304:\tlearn: 1549.8993343\ttotal: 55.9s\tremaining: 26.6s\n",
      "305:\tlearn: 1549.4052783\ttotal: 56.1s\tremaining: 26.4s\n",
      "306:\tlearn: 1548.8016566\ttotal: 56.3s\tremaining: 26.2s\n",
      "307:\tlearn: 1548.2283004\ttotal: 56.5s\tremaining: 26s\n",
      "308:\tlearn: 1547.6743772\ttotal: 56.6s\tremaining: 25.8s\n",
      "309:\tlearn: 1547.4671297\ttotal: 56.8s\tremaining: 25.6s\n",
      "310:\tlearn: 1547.2320361\ttotal: 57s\tremaining: 25.5s\n",
      "311:\tlearn: 1546.9085169\ttotal: 57.2s\tremaining: 25.3s\n",
      "312:\tlearn: 1546.5158447\ttotal: 57.4s\tremaining: 25.1s\n",
      "313:\tlearn: 1546.1137665\ttotal: 57.6s\tremaining: 24.9s\n",
      "314:\tlearn: 1545.9129738\ttotal: 57.8s\tremaining: 24.8s\n",
      "315:\tlearn: 1545.7337502\ttotal: 58s\tremaining: 24.6s\n",
      "316:\tlearn: 1545.3879055\ttotal: 58.1s\tremaining: 24.4s\n",
      "317:\tlearn: 1544.9344356\ttotal: 58.3s\tremaining: 24.2s\n",
      "318:\tlearn: 1544.7817672\ttotal: 58.5s\tremaining: 24s\n",
      "319:\tlearn: 1544.3072134\ttotal: 58.7s\tremaining: 23.8s\n",
      "320:\tlearn: 1543.5379467\ttotal: 58.9s\tremaining: 23.7s\n",
      "321:\tlearn: 1543.3348999\ttotal: 59.1s\tremaining: 23.5s\n",
      "322:\tlearn: 1543.0325798\ttotal: 59.3s\tremaining: 23.3s\n",
      "323:\tlearn: 1542.8347874\ttotal: 59.4s\tremaining: 23.1s\n",
      "324:\tlearn: 1542.6100589\ttotal: 59.6s\tremaining: 22.9s\n",
      "325:\tlearn: 1542.3532094\ttotal: 59.8s\tremaining: 22.7s\n",
      "326:\tlearn: 1542.1456336\ttotal: 59.9s\tremaining: 22.5s\n",
      "327:\tlearn: 1541.8420190\ttotal: 1m\tremaining: 22.4s\n",
      "328:\tlearn: 1541.5242536\ttotal: 1m\tremaining: 22.2s\n",
      "329:\tlearn: 1541.5014611\ttotal: 1m\tremaining: 22s\n",
      "330:\tlearn: 1540.8606502\ttotal: 1m\tremaining: 21.8s\n",
      "331:\tlearn: 1540.4986785\ttotal: 1m\tremaining: 21.6s\n",
      "332:\tlearn: 1540.0938301\ttotal: 1m\tremaining: 21.4s\n",
      "333:\tlearn: 1539.6501742\ttotal: 1m 1s\tremaining: 21.3s\n",
      "334:\tlearn: 1539.1908494\ttotal: 1m 1s\tremaining: 21.1s\n",
      "335:\tlearn: 1538.8253916\ttotal: 1m 1s\tremaining: 20.9s\n",
      "336:\tlearn: 1538.5657179\ttotal: 1m 1s\tremaining: 20.7s\n",
      "337:\tlearn: 1538.1985942\ttotal: 1m 1s\tremaining: 20.5s\n",
      "338:\tlearn: 1538.0100286\ttotal: 1m 2s\tremaining: 20.3s\n",
      "339:\tlearn: 1537.7360243\ttotal: 1m 2s\tremaining: 20.1s\n",
      "340:\tlearn: 1537.4882437\ttotal: 1m 2s\tremaining: 20s\n",
      "341:\tlearn: 1537.2779997\ttotal: 1m 2s\tremaining: 19.8s\n",
      "342:\tlearn: 1536.8268092\ttotal: 1m 2s\tremaining: 19.6s\n",
      "343:\tlearn: 1536.5871269\ttotal: 1m 2s\tremaining: 19.4s\n",
      "344:\tlearn: 1536.2850211\ttotal: 1m 3s\tremaining: 19.2s\n",
      "345:\tlearn: 1536.1269682\ttotal: 1m 3s\tremaining: 19s\n",
      "346:\tlearn: 1535.6773408\ttotal: 1m 3s\tremaining: 18.8s\n",
      "347:\tlearn: 1535.4287877\ttotal: 1m 3s\tremaining: 18.7s\n",
      "348:\tlearn: 1534.7640507\ttotal: 1m 3s\tremaining: 18.5s\n",
      "349:\tlearn: 1534.5068294\ttotal: 1m 4s\tremaining: 18.3s\n",
      "350:\tlearn: 1534.1429679\ttotal: 1m 4s\tremaining: 18.1s\n",
      "351:\tlearn: 1533.8953736\ttotal: 1m 4s\tremaining: 17.9s\n",
      "352:\tlearn: 1533.5333328\ttotal: 1m 4s\tremaining: 17.8s\n",
      "353:\tlearn: 1533.2939110\ttotal: 1m 4s\tremaining: 17.6s\n",
      "354:\tlearn: 1532.8967058\ttotal: 1m 4s\tremaining: 17.4s\n",
      "355:\tlearn: 1532.7494176\ttotal: 1m 5s\tremaining: 17.2s\n",
      "356:\tlearn: 1532.6458651\ttotal: 1m 5s\tremaining: 17s\n",
      "357:\tlearn: 1532.4908301\ttotal: 1m 5s\tremaining: 16.8s\n",
      "358:\tlearn: 1532.2522780\ttotal: 1m 5s\tremaining: 16.6s\n",
      "359:\tlearn: 1531.7964893\ttotal: 1m 5s\tremaining: 16.5s\n",
      "360:\tlearn: 1531.5631037\ttotal: 1m 6s\tremaining: 16.3s\n",
      "361:\tlearn: 1531.4569027\ttotal: 1m 6s\tremaining: 16.1s\n",
      "362:\tlearn: 1531.1211403\ttotal: 1m 6s\tremaining: 15.9s\n",
      "363:\tlearn: 1531.0429250\ttotal: 1m 6s\tremaining: 15.7s\n",
      "364:\tlearn: 1530.6612125\ttotal: 1m 6s\tremaining: 15.5s\n",
      "365:\tlearn: 1530.6085120\ttotal: 1m 6s\tremaining: 15.3s\n",
      "366:\tlearn: 1530.5948055\ttotal: 1m 6s\tremaining: 15.2s\n",
      "367:\tlearn: 1529.6449955\ttotal: 1m 7s\tremaining: 15s\n",
      "368:\tlearn: 1529.5322987\ttotal: 1m 7s\tremaining: 14.8s\n",
      "369:\tlearn: 1529.3503536\ttotal: 1m 7s\tremaining: 14.6s\n",
      "370:\tlearn: 1528.9946906\ttotal: 1m 7s\tremaining: 14.4s\n",
      "371:\tlearn: 1528.8070988\ttotal: 1m 7s\tremaining: 14.2s\n",
      "372:\tlearn: 1528.4571136\ttotal: 1m 8s\tremaining: 14s\n",
      "373:\tlearn: 1528.2692454\ttotal: 1m 8s\tremaining: 13.9s\n",
      "374:\tlearn: 1527.9033712\ttotal: 1m 8s\tremaining: 13.7s\n",
      "375:\tlearn: 1527.6332035\ttotal: 1m 8s\tremaining: 13.5s\n",
      "376:\tlearn: 1527.4856658\ttotal: 1m 8s\tremaining: 13.3s\n",
      "377:\tlearn: 1527.4407346\ttotal: 1m 8s\tremaining: 13.1s\n",
      "378:\tlearn: 1526.9882296\ttotal: 1m 9s\tremaining: 12.9s\n",
      "379:\tlearn: 1526.7419163\ttotal: 1m 9s\tremaining: 12.8s\n",
      "380:\tlearn: 1526.5650112\ttotal: 1m 9s\tremaining: 12.6s\n",
      "381:\tlearn: 1526.1402526\ttotal: 1m 9s\tremaining: 12.4s\n",
      "382:\tlearn: 1525.8362239\ttotal: 1m 9s\tremaining: 12.2s\n",
      "383:\tlearn: 1525.5786690\ttotal: 1m 9s\tremaining: 12s\n",
      "384:\tlearn: 1525.3391326\ttotal: 1m 10s\tremaining: 11.8s\n",
      "385:\tlearn: 1524.9921854\ttotal: 1m 10s\tremaining: 11.6s\n",
      "386:\tlearn: 1524.8354644\ttotal: 1m 10s\tremaining: 11.5s\n",
      "387:\tlearn: 1524.6962141\ttotal: 1m 10s\tremaining: 11.3s\n",
      "388:\tlearn: 1524.1516669\ttotal: 1m 10s\tremaining: 11.1s\n",
      "389:\tlearn: 1523.8320711\ttotal: 1m 10s\tremaining: 10.9s\n",
      "390:\tlearn: 1523.4527976\ttotal: 1m 11s\tremaining: 10.7s\n",
      "391:\tlearn: 1523.2710939\ttotal: 1m 11s\tremaining: 10.5s\n",
      "392:\tlearn: 1523.0335037\ttotal: 1m 11s\tremaining: 10.4s\n",
      "393:\tlearn: 1522.4749651\ttotal: 1m 11s\tremaining: 10.2s\n",
      "394:\tlearn: 1522.0508181\ttotal: 1m 11s\tremaining: 10s\n",
      "395:\tlearn: 1521.6272212\ttotal: 1m 12s\tremaining: 9.83s\n",
      "396:\tlearn: 1521.3439197\ttotal: 1m 12s\tremaining: 9.64s\n",
      "397:\tlearn: 1521.2249551\ttotal: 1m 12s\tremaining: 9.46s\n",
      "398:\tlearn: 1521.0267138\ttotal: 1m 12s\tremaining: 9.28s\n",
      "399:\tlearn: 1520.8196285\ttotal: 1m 12s\tremaining: 9.1s\n",
      "400:\tlearn: 1520.4734975\ttotal: 1m 12s\tremaining: 8.92s\n",
      "401:\tlearn: 1520.2300981\ttotal: 1m 13s\tremaining: 8.76s\n",
      "402:\tlearn: 1519.9271960\ttotal: 1m 13s\tremaining: 8.58s\n",
      "403:\tlearn: 1519.8359065\ttotal: 1m 13s\tremaining: 8.39s\n",
      "404:\tlearn: 1519.5841097\ttotal: 1m 13s\tremaining: 8.21s\n",
      "405:\tlearn: 1519.4041829\ttotal: 1m 14s\tremaining: 8.02s\n",
      "406:\tlearn: 1519.3848581\ttotal: 1m 14s\tremaining: 7.83s\n",
      "407:\tlearn: 1519.1741778\ttotal: 1m 14s\tremaining: 7.65s\n",
      "408:\tlearn: 1519.1387045\ttotal: 1m 14s\tremaining: 7.46s\n",
      "409:\tlearn: 1518.9272833\ttotal: 1m 14s\tremaining: 7.28s\n",
      "410:\tlearn: 1518.4826608\ttotal: 1m 14s\tremaining: 7.09s\n",
      "411:\tlearn: 1518.4511680\ttotal: 1m 14s\tremaining: 6.91s\n",
      "412:\tlearn: 1518.2669878\ttotal: 1m 15s\tremaining: 6.73s\n",
      "413:\tlearn: 1517.9932287\ttotal: 1m 15s\tremaining: 6.55s\n",
      "414:\tlearn: 1517.7308239\ttotal: 1m 15s\tremaining: 6.37s\n",
      "415:\tlearn: 1517.5720403\ttotal: 1m 15s\tremaining: 6.19s\n",
      "416:\tlearn: 1517.2374353\ttotal: 1m 15s\tremaining: 6.01s\n",
      "417:\tlearn: 1517.0582554\ttotal: 1m 16s\tremaining: 5.83s\n",
      "418:\tlearn: 1516.9568489\ttotal: 1m 16s\tremaining: 5.65s\n",
      "419:\tlearn: 1516.8602216\ttotal: 1m 16s\tremaining: 5.46s\n",
      "420:\tlearn: 1516.6698348\ttotal: 1m 16s\tremaining: 5.28s\n",
      "421:\tlearn: 1516.4687729\ttotal: 1m 16s\tremaining: 5.1s\n",
      "422:\tlearn: 1516.2569676\ttotal: 1m 17s\tremaining: 4.92s\n",
      "423:\tlearn: 1516.0739357\ttotal: 1m 17s\tremaining: 4.74s\n",
      "424:\tlearn: 1515.5106483\ttotal: 1m 17s\tremaining: 4.55s\n",
      "425:\tlearn: 1515.2065455\ttotal: 1m 17s\tremaining: 4.37s\n",
      "426:\tlearn: 1515.0744421\ttotal: 1m 17s\tremaining: 4.19s\n",
      "427:\tlearn: 1514.7359102\ttotal: 1m 17s\tremaining: 4s\n",
      "428:\tlearn: 1514.3074213\ttotal: 1m 18s\tremaining: 3.82s\n",
      "429:\tlearn: 1513.9360146\ttotal: 1m 18s\tremaining: 3.64s\n",
      "430:\tlearn: 1513.8759235\ttotal: 1m 18s\tremaining: 3.46s\n",
      "431:\tlearn: 1513.5452540\ttotal: 1m 18s\tremaining: 3.28s\n",
      "432:\tlearn: 1513.2847341\ttotal: 1m 18s\tremaining: 3.1s\n",
      "433:\tlearn: 1513.1066619\ttotal: 1m 19s\tremaining: 2.92s\n",
      "434:\tlearn: 1512.9540676\ttotal: 1m 19s\tremaining: 2.73s\n",
      "435:\tlearn: 1512.6417925\ttotal: 1m 19s\tremaining: 2.55s\n",
      "436:\tlearn: 1512.2671662\ttotal: 1m 19s\tremaining: 2.37s\n",
      "437:\tlearn: 1512.0494092\ttotal: 1m 19s\tremaining: 2.19s\n",
      "438:\tlearn: 1511.6066257\ttotal: 1m 20s\tremaining: 2s\n",
      "439:\tlearn: 1511.4849584\ttotal: 1m 20s\tremaining: 1.82s\n",
      "440:\tlearn: 1511.3147036\ttotal: 1m 20s\tremaining: 1.64s\n",
      "441:\tlearn: 1510.9252927\ttotal: 1m 20s\tremaining: 1.46s\n",
      "442:\tlearn: 1510.7109601\ttotal: 1m 20s\tremaining: 1.27s\n",
      "443:\tlearn: 1510.5438249\ttotal: 1m 20s\tremaining: 1.09s\n",
      "444:\tlearn: 1510.2584521\ttotal: 1m 21s\tremaining: 911ms\n",
      "445:\tlearn: 1510.0356587\ttotal: 1m 21s\tremaining: 729ms\n",
      "446:\tlearn: 1509.2437831\ttotal: 1m 21s\tremaining: 547ms\n",
      "447:\tlearn: 1509.1606659\ttotal: 1m 21s\tremaining: 364ms\n",
      "448:\tlearn: 1509.0074687\ttotal: 1m 21s\tremaining: 182ms\n",
      "449:\tlearn: 1508.9301049\ttotal: 1m 22s\tremaining: 0us\n",
      "CPU times: user 1min 22s, sys: 0 ns, total: 1min 22s\n",
      "Wall time: 1min 25s\n"
     ]
    }
   ],
   "source": [
    "%%time\n",
    "\n",
    "dataset_two.model_checker(cb_test, True, 'test')"
   ]
  },
  {
   "cell_type": "code",
   "execution_count": 74,
   "metadata": {},
   "outputs": [
    {
     "data": {
      "text/html": [
       "<div>\n",
       "<style scoped>\n",
       "    .dataframe tbody tr th:only-of-type {\n",
       "        vertical-align: middle;\n",
       "    }\n",
       "\n",
       "    .dataframe tbody tr th {\n",
       "        vertical-align: top;\n",
       "    }\n",
       "\n",
       "    .dataframe thead th {\n",
       "        text-align: right;\n",
       "    }\n",
       "</style>\n",
       "<table border=\"1\" class=\"dataframe\">\n",
       "  <thead>\n",
       "    <tr style=\"text-align: right;\">\n",
       "      <th></th>\n",
       "      <th>Learning time</th>\n",
       "      <th>Prediction time</th>\n",
       "      <th>RMSE</th>\n",
       "    </tr>\n",
       "  </thead>\n",
       "  <tbody>\n",
       "    <tr>\n",
       "      <th>LinearRegression</th>\n",
       "      <td>18.76965</td>\n",
       "      <td>0.12301</td>\n",
       "      <td>2695.07513</td>\n",
       "    </tr>\n",
       "    <tr>\n",
       "      <th>RandomForestRegressor</th>\n",
       "      <td>21.90716</td>\n",
       "      <td>0.47554</td>\n",
       "      <td>2034.87807</td>\n",
       "    </tr>\n",
       "    <tr>\n",
       "      <th>XGBRegressor</th>\n",
       "      <td>30.90742</td>\n",
       "      <td>0.11534</td>\n",
       "      <td>1613.34627</td>\n",
       "    </tr>\n",
       "    <tr>\n",
       "      <th>LightGBM</th>\n",
       "      <td>19.62443</td>\n",
       "      <td>2.79661</td>\n",
       "      <td>1586.36475</td>\n",
       "    </tr>\n",
       "    <tr>\n",
       "      <th>CatBoost</th>\n",
       "      <td>85.32711</td>\n",
       "      <td>0.28990</td>\n",
       "      <td>1600.48762</td>\n",
       "    </tr>\n",
       "  </tbody>\n",
       "</table>\n",
       "</div>"
      ],
      "text/plain": [
       "                       Learning time  Prediction time       RMSE\n",
       "LinearRegression            18.76965          0.12301 2695.07513\n",
       "RandomForestRegressor       21.90716          0.47554 2034.87807\n",
       "XGBRegressor                30.90742          0.11534 1613.34627\n",
       "LightGBM                    19.62443          2.79661 1586.36475\n",
       "CatBoost                    85.32711          0.28990 1600.48762"
      ]
     },
     "execution_count": 74,
     "metadata": {},
     "output_type": "execute_result"
    }
   ],
   "source": [
    "test_table = pd.DataFrame(data=[fit_times_test, predict_times_test, rmse_results_test], columns=['LinearRegression', 'RandomForestRegressor', 'XGBRegressor', 'LightGBM', 'CatBoost'], index=['Learning time', 'Prediction time', 'RMSE']).T\n",
    "test_table"
   ]
  },
  {
   "cell_type": "markdown",
   "metadata": {},
   "source": [
    "Вывод по пункту 4:"
   ]
  },
  {
   "cell_type": "markdown",
   "metadata": {},
   "source": [
    "- Проверили работу полученных моделей на тестовых выборках.\n",
    "- Для линейной регрессии применили ohe кодирования категориальных признаков, для lgbm и catboost перевели формат категориальных признаков в 'category', для остальных - применили label encoder.\n",
    "- Модель линейной регрессии показала худший результат (не учитывая константную модель), но время обучения и предсказания также минимальны. Это говорит о том, что модель не смогла расследить закономерность в данных так, как это сделали другие модели.\n",
    "- Результаты по времени обучения и RMSE лучшие у LightGBM, однако время предсказания (почти 3 сек) также больше, чем у остальных моделей.\n",
    "\n",
    "\n",
    "- **Итого, в плане лучшей комбинации времени обучения и предсказания и точности предсказания следует выделить LightGBM модель. Однако в плане точности модели XGB и CatBoost также дают хороший результат, но требуют больше времени на обучение (то же можно сказать и о RandomForestRegressor, судя по дефолтной модели)**"
   ]
  },
  {
   "cell_type": "markdown",
   "metadata": {},
   "source": [
    "## Общий вывод"
   ]
  },
  {
   "cell_type": "markdown",
   "metadata": {},
   "source": [
    "\n",
    "Произвели общий осмотр и обработку данных:\n",
    "\n",
    "- Удалили признаки DateCrawled, RegistrationMonth, DateCreated, NumberOfPictures, PostalCode, LastSeen - не будем использовать в прогнозировании как неинформативные в плане предикции цены\n",
    "- Формат признака NotRepaired заменили с no/yes на 0/1 (с object на int).\n",
    "- Удалили записи с ценой (целевой признак) = 0. \n",
    "- Удалили записи с годом регистрации автомобиля (Registration Year) <1970 г и > 2022 г.\n",
    "- Заменили нулевые показатели по мощности на медиану по моделям, удалили сверхмощные авто > 1000 лс\n",
    "- Заменили пропуски в признаках VehicleType, Gearbox, FuelType на моду по моделям. Большой количество пропусков по признаку отремонтированного авто 'NotRepaired'. Удалять не корректно, слишком большой объем. Будем считать, что неуказанная информация говорит об отсутствии ремонта. В будущем необходимо сделать это поле ввода обязательным для заполнения.\n",
    "- Всего выявлено 4 дубликата. Необходимо произвести проверку, из-за чего данные могли задублироваться (ошибка ввода данных, когда одно и то же наблюдение случайно было введено более одного раза, ошибка при выгрузке данных и тд)\n",
    "- Доля записей от исходника после удаления некорректных значений или пропущенных значений: 91.71%\n",
    "\n",
    "Создали 3 датасета (3 образца класса dataset_framework):\n",
    "\n",
    "- Первый датасет: Для DummyRegressor, LinearRegression (+l1, l2 регуляризация), RandomForestRegressor, XGBoost. Обработка категориальных признаков, с нормализацией численных признаков:\n",
    "- Второй датасет: Для lightGBM CatBoost. С нормализацией численных признаков\n",
    "- Третий датасет: Для lightGBM CatBoost. Без нормализации численных признаков\n",
    "\n",
    "Анализ дефолтных моделей:\n",
    "\n",
    "- RMSE моделей lightGBM и CatBoost для датасетов 2 и 3 (с нормализацией и без) почти не отличается, но без нормализации увеличивается время обучения\n",
    "- Дефолтные модели RandomForestRegressor, lightGBM, XGBRegressor и CatBoost показали лучшие результаты по rmse (RMSE<1700). Худшая модель DummyRegressor (RMSE примерно = 4500) - константная модель\n",
    "- Дефолтные модели RandomForest, XGBoost, CatBoost занимают бОльшее время на обучение, чем lgbm.\n",
    "- Время на предсказание всех моделей < 0.5 сек, за исключением lgbm - около 0.6 секунд и RandomForestRegressor - больше 2-х секунд.\n",
    "\n",
    "\n",
    "- **В плане лучшей комбинации времени обучения и предсказания и точности предсказания следует выделить LightGBM модель. Однако в плане точности модели XGB и CatBoost также дают хороший результат, но требуют больше времени на обучение.**\n",
    "\n",
    "Анализ моделей с оптимальными гиперпараметрами (после тюнинга):\n",
    "\n",
    "- Проверили работу полученных моделей на тестовых выборках.\n",
    "- Для линейной регрессии применили ohe кодирования категориальных признаков, для lgbm и catboost перевели формат категориальных признаков в 'category', для остальных - применили label encoder.\n",
    "- Модель линейной регрессии показала худший результат (не учитывая константную модель), но время обучения и предсказания также минимальны. Это говорит о том, что модель не смогла расследить закономерность в данных так, как это сделали другие модели.\n",
    "- Результаты по времени обучения и RMSE лучшие у LightGBM, однако время предсказания (почти 3 сек) также больше, чем у остальных моделей.\n",
    "\n",
    "\n",
    "- **Итого, в плане лучшей комбинации времени обучения и предсказания и точности предсказания следует выделить LightGBM модель. Однако в плане точности модели XGB и CatBoost также дают хороший результат, но требуют больше времени на обучение (то же можно сказать и о RandomForestRegressor, судя по дефолтной модели)**"
   ]
  }
 ],
 "metadata": {
  "ExecuteTimeLog": [
   {
    "duration": 2514,
    "start_time": "2022-03-15T12:21:34.112Z"
   },
   {
    "duration": 517,
    "start_time": "2022-03-15T12:21:48.136Z"
   },
   {
    "duration": 492,
    "start_time": "2022-03-15T12:21:57.482Z"
   },
   {
    "duration": 5,
    "start_time": "2022-03-15T12:22:48.623Z"
   },
   {
    "duration": 388,
    "start_time": "2022-03-15T12:23:42.062Z"
   },
   {
    "duration": 114,
    "start_time": "2022-03-15T12:28:52.515Z"
   },
   {
    "duration": 16178,
    "start_time": "2022-03-15T12:29:07.038Z"
   },
   {
    "duration": 345,
    "start_time": "2022-03-15T12:29:28.648Z"
   },
   {
    "duration": 328,
    "start_time": "2022-03-15T12:32:05.514Z"
   },
   {
    "duration": 6,
    "start_time": "2022-03-15T12:32:12.824Z"
   },
   {
    "duration": 14,
    "start_time": "2022-03-15T12:32:28.977Z"
   },
   {
    "duration": 10,
    "start_time": "2022-03-15T12:35:51.966Z"
   },
   {
    "duration": 2472,
    "start_time": "2022-03-15T12:36:20.768Z"
   },
   {
    "duration": 12,
    "start_time": "2022-03-15T12:37:44.603Z"
   },
   {
    "duration": 241,
    "start_time": "2022-03-15T12:38:01.928Z"
   },
   {
    "duration": 13,
    "start_time": "2022-03-15T12:56:48.042Z"
   },
   {
    "duration": 129133,
    "start_time": "2022-03-15T12:56:48.517Z"
   },
   {
    "duration": 558,
    "start_time": "2022-03-15T13:00:12.053Z"
   },
   {
    "duration": 3447,
    "start_time": "2022-03-15T13:00:37.039Z"
   },
   {
    "duration": 6,
    "start_time": "2022-03-15T13:01:04.828Z"
   },
   {
    "duration": 7,
    "start_time": "2022-03-15T13:01:05.002Z"
   },
   {
    "duration": 2562,
    "start_time": "2022-03-15T13:01:05.951Z"
   },
   {
    "duration": 7,
    "start_time": "2022-03-15T13:02:26.620Z"
   },
   {
    "duration": 2561,
    "start_time": "2022-03-15T13:02:27.194Z"
   },
   {
    "duration": 22,
    "start_time": "2022-03-15T13:18:25.902Z"
   },
   {
    "duration": 20,
    "start_time": "2022-03-15T13:18:46.919Z"
   },
   {
    "duration": 8,
    "start_time": "2022-03-15T13:19:55.202Z"
   },
   {
    "duration": 9,
    "start_time": "2022-03-15T13:20:00.811Z"
   },
   {
    "duration": 7,
    "start_time": "2022-03-15T13:20:05.330Z"
   },
   {
    "duration": 10,
    "start_time": "2022-03-15T13:20:13.605Z"
   },
   {
    "duration": 13,
    "start_time": "2022-03-15T13:20:21.100Z"
   },
   {
    "duration": 30,
    "start_time": "2022-03-15T13:20:29.673Z"
   },
   {
    "duration": 8,
    "start_time": "2022-03-15T13:20:44.946Z"
   },
   {
    "duration": 7,
    "start_time": "2022-03-15T13:20:51.960Z"
   },
   {
    "duration": 11,
    "start_time": "2022-03-15T13:20:58.998Z"
   },
   {
    "duration": 9,
    "start_time": "2022-03-15T13:21:03.950Z"
   },
   {
    "duration": 80,
    "start_time": "2022-03-15T13:22:21.649Z"
   },
   {
    "duration": 20,
    "start_time": "2022-03-15T13:23:00.733Z"
   },
   {
    "duration": 68,
    "start_time": "2022-03-15T13:23:07.502Z"
   },
   {
    "duration": 10,
    "start_time": "2022-03-15T13:23:10.053Z"
   },
   {
    "duration": 25,
    "start_time": "2022-03-15T13:23:14.580Z"
   },
   {
    "duration": 27,
    "start_time": "2022-03-15T13:23:29.168Z"
   },
   {
    "duration": 91,
    "start_time": "2022-03-15T13:24:13.388Z"
   },
   {
    "duration": 35,
    "start_time": "2022-03-15T13:24:32.252Z"
   },
   {
    "duration": 9,
    "start_time": "2022-03-15T13:24:49.799Z"
   },
   {
    "duration": 8,
    "start_time": "2022-03-15T13:24:55.322Z"
   },
   {
    "duration": 45,
    "start_time": "2022-03-15T13:25:05.150Z"
   },
   {
    "duration": 26,
    "start_time": "2022-03-15T13:25:08.520Z"
   },
   {
    "duration": 35,
    "start_time": "2022-03-15T13:25:11.542Z"
   },
   {
    "duration": 32,
    "start_time": "2022-03-15T13:25:16.580Z"
   },
   {
    "duration": 9,
    "start_time": "2022-03-15T13:25:39.800Z"
   },
   {
    "duration": 121,
    "start_time": "2022-03-15T13:26:10.555Z"
   },
   {
    "duration": 24,
    "start_time": "2022-03-15T13:26:28.366Z"
   },
   {
    "duration": 10,
    "start_time": "2022-03-15T13:26:35.011Z"
   },
   {
    "duration": 30,
    "start_time": "2022-03-15T13:26:38.003Z"
   },
   {
    "duration": 9,
    "start_time": "2022-03-15T13:26:38.634Z"
   },
   {
    "duration": 19,
    "start_time": "2022-03-15T13:30:47.132Z"
   },
   {
    "duration": 13,
    "start_time": "2022-03-15T13:31:04.017Z"
   },
   {
    "duration": 149,
    "start_time": "2022-03-15T13:34:00.107Z"
   },
   {
    "duration": 35,
    "start_time": "2022-03-15T13:34:18.516Z"
   },
   {
    "duration": 44,
    "start_time": "2022-03-15T13:34:36.449Z"
   },
   {
    "duration": 33,
    "start_time": "2022-03-15T13:34:44.239Z"
   },
   {
    "duration": 15,
    "start_time": "2022-03-15T13:34:51.396Z"
   },
   {
    "duration": 17,
    "start_time": "2022-03-15T13:35:11.466Z"
   },
   {
    "duration": 43,
    "start_time": "2022-03-15T13:35:16.140Z"
   },
   {
    "duration": 9,
    "start_time": "2022-03-15T13:36:13.979Z"
   },
   {
    "duration": 12,
    "start_time": "2022-03-15T13:41:02.574Z"
   },
   {
    "duration": 2839,
    "start_time": "2022-03-15T13:41:08.401Z"
   },
   {
    "duration": 4,
    "start_time": "2022-03-15T13:49:17.820Z"
   },
   {
    "duration": 11,
    "start_time": "2022-03-15T13:49:31.224Z"
   },
   {
    "duration": 4621,
    "start_time": "2022-03-15T13:49:31.364Z"
   },
   {
    "duration": 4001,
    "start_time": "2022-03-15T13:50:46.697Z"
   },
   {
    "duration": 4317,
    "start_time": "2022-03-15T13:51:01.338Z"
   },
   {
    "duration": 69,
    "start_time": "2022-03-15T13:53:45.286Z"
   },
   {
    "duration": 893,
    "start_time": "2022-03-15T13:53:53.896Z"
   },
   {
    "duration": 11,
    "start_time": "2022-03-15T13:55:17.314Z"
   },
   {
    "duration": 1727,
    "start_time": "2022-03-15T13:55:17.884Z"
   },
   {
    "duration": 12,
    "start_time": "2022-03-15T13:56:22.919Z"
   },
   {
    "duration": 4125,
    "start_time": "2022-03-15T13:56:23.586Z"
   },
   {
    "duration": 13,
    "start_time": "2022-03-15T13:56:58.208Z"
   },
   {
    "duration": 4618,
    "start_time": "2022-03-15T13:56:58.555Z"
   },
   {
    "duration": 10,
    "start_time": "2022-03-15T13:58:29.629Z"
   },
   {
    "duration": 4259,
    "start_time": "2022-03-15T13:58:29.800Z"
   },
   {
    "duration": 10,
    "start_time": "2022-03-15T14:00:00.791Z"
   },
   {
    "duration": 4080,
    "start_time": "2022-03-15T14:00:01.874Z"
   },
   {
    "duration": 11,
    "start_time": "2022-03-15T14:01:52.644Z"
   },
   {
    "duration": 4024,
    "start_time": "2022-03-15T14:01:53.018Z"
   },
   {
    "duration": 11,
    "start_time": "2022-03-15T14:04:03.218Z"
   },
   {
    "duration": 4047,
    "start_time": "2022-03-15T14:04:03.380Z"
   },
   {
    "duration": 12,
    "start_time": "2022-03-15T14:05:00.382Z"
   },
   {
    "duration": 4081,
    "start_time": "2022-03-15T14:05:00.533Z"
   },
   {
    "duration": 12,
    "start_time": "2022-03-15T14:05:14.680Z"
   },
   {
    "duration": 4172,
    "start_time": "2022-03-15T14:05:14.841Z"
   },
   {
    "duration": 11,
    "start_time": "2022-03-15T14:05:34.237Z"
   },
   {
    "duration": 4062,
    "start_time": "2022-03-15T14:05:34.724Z"
   },
   {
    "duration": 74,
    "start_time": "2022-03-15T14:06:20.764Z"
   },
   {
    "duration": 4183,
    "start_time": "2022-03-15T14:06:20.942Z"
   },
   {
    "duration": 73,
    "start_time": "2022-03-15T14:06:36.185Z"
   },
   {
    "duration": 4101,
    "start_time": "2022-03-15T14:06:36.473Z"
   },
   {
    "duration": 82,
    "start_time": "2022-03-15T14:07:00.358Z"
   },
   {
    "duration": 10,
    "start_time": "2022-03-15T14:07:19.869Z"
   },
   {
    "duration": 4424,
    "start_time": "2022-03-15T14:07:20.601Z"
   },
   {
    "duration": 13,
    "start_time": "2022-03-15T14:07:50.273Z"
   },
   {
    "duration": 3784,
    "start_time": "2022-03-15T14:07:50.443Z"
   },
   {
    "duration": 12,
    "start_time": "2022-03-15T14:08:05.099Z"
   },
   {
    "duration": 3631,
    "start_time": "2022-03-15T14:08:05.278Z"
   },
   {
    "duration": 3281,
    "start_time": "2022-03-15T14:08:20.453Z"
   },
   {
    "duration": 8,
    "start_time": "2022-03-15T14:15:33.199Z"
   },
   {
    "duration": 450,
    "start_time": "2022-03-15T14:15:47.253Z"
   },
   {
    "duration": 463,
    "start_time": "2022-03-15T14:16:10.083Z"
   },
   {
    "duration": 9,
    "start_time": "2022-03-15T14:16:49.783Z"
   },
   {
    "duration": 458,
    "start_time": "2022-03-15T14:16:50.540Z"
   },
   {
    "duration": 6,
    "start_time": "2022-03-15T14:18:09.433Z"
   },
   {
    "duration": 6,
    "start_time": "2022-03-15T14:18:27.378Z"
   },
   {
    "duration": 24939,
    "start_time": "2022-03-15T14:18:27.822Z"
   },
   {
    "duration": 6,
    "start_time": "2022-03-15T14:19:54.272Z"
   },
   {
    "duration": 1018,
    "start_time": "2022-03-15T14:19:54.684Z"
   },
   {
    "duration": 45,
    "start_time": "2022-03-15T14:20:46.175Z"
   },
   {
    "duration": 546,
    "start_time": "2022-03-15T14:20:57.458Z"
   },
   {
    "duration": 47,
    "start_time": "2022-03-15T14:21:30.230Z"
   },
   {
    "duration": 43,
    "start_time": "2022-03-15T14:21:36.267Z"
   },
   {
    "duration": 653,
    "start_time": "2022-03-15T14:22:23.708Z"
   },
   {
    "duration": 6,
    "start_time": "2022-03-15T14:22:54.033Z"
   },
   {
    "duration": 525,
    "start_time": "2022-03-15T14:22:58.416Z"
   },
   {
    "duration": 3360,
    "start_time": "2022-03-15T14:22:58.943Z"
   },
   {
    "duration": 6,
    "start_time": "2022-03-15T14:23:33.353Z"
   },
   {
    "duration": 666,
    "start_time": "2022-03-15T14:23:34.183Z"
   },
   {
    "duration": 14906,
    "start_time": "2022-03-15T14:23:34.853Z"
   },
   {
    "duration": 5,
    "start_time": "2022-03-15T14:24:50.338Z"
   },
   {
    "duration": 17,
    "start_time": "2022-03-15T14:24:50.601Z"
   },
   {
    "duration": 3317,
    "start_time": "2022-03-15T14:24:50.818Z"
   },
   {
    "duration": 9,
    "start_time": "2022-03-15T14:24:54.138Z"
   },
   {
    "duration": 568,
    "start_time": "2022-03-15T14:24:54.150Z"
   },
   {
    "duration": 2195,
    "start_time": "2022-03-15T14:24:54.720Z"
   },
   {
    "duration": 738,
    "start_time": "2022-03-15T14:27:06.584Z"
   },
   {
    "duration": 362,
    "start_time": "2022-03-15T14:27:20.166Z"
   },
   {
    "duration": 355,
    "start_time": "2022-03-15T14:27:34.266Z"
   },
   {
    "duration": 780,
    "start_time": "2022-03-15T14:27:45.808Z"
   },
   {
    "duration": 468,
    "start_time": "2022-03-15T14:27:49.784Z"
   },
   {
    "duration": 285,
    "start_time": "2022-03-15T14:28:01.543Z"
   },
   {
    "duration": 5,
    "start_time": "2022-03-15T14:30:24.349Z"
   },
   {
    "duration": 4,
    "start_time": "2022-03-15T14:31:05.475Z"
   },
   {
    "duration": 671,
    "start_time": "2022-03-15T14:31:23.644Z"
   },
   {
    "duration": 5,
    "start_time": "2022-03-15T14:32:46.924Z"
   },
   {
    "duration": 841,
    "start_time": "2022-03-15T14:32:48.927Z"
   },
   {
    "duration": 6,
    "start_time": "2022-03-15T14:33:21.868Z"
   },
   {
    "duration": 831,
    "start_time": "2022-03-15T14:33:22.170Z"
   },
   {
    "duration": 7,
    "start_time": "2022-03-15T14:36:18.950Z"
   },
   {
    "duration": 6,
    "start_time": "2022-03-15T14:36:22.600Z"
   },
   {
    "duration": 7,
    "start_time": "2022-03-15T15:00:07.402Z"
   },
   {
    "duration": 5,
    "start_time": "2022-03-15T15:00:23.540Z"
   },
   {
    "duration": 7,
    "start_time": "2022-03-15T15:00:33.224Z"
   },
   {
    "duration": 6,
    "start_time": "2022-03-15T15:00:56.077Z"
   },
   {
    "duration": 580,
    "start_time": "2022-03-15T15:01:04.097Z"
   },
   {
    "duration": 7,
    "start_time": "2022-03-15T15:01:08.472Z"
   },
   {
    "duration": 211,
    "start_time": "2022-03-15T15:01:41.539Z"
   },
   {
    "duration": 224,
    "start_time": "2022-03-15T15:01:52.078Z"
   },
   {
    "duration": 245,
    "start_time": "2022-03-15T15:02:01.514Z"
   },
   {
    "duration": 1071,
    "start_time": "2022-03-15T15:05:32.355Z"
   },
   {
    "duration": 1301,
    "start_time": "2022-03-15T15:06:26.792Z"
   },
   {
    "duration": 1755,
    "start_time": "2022-03-16T07:37:18.784Z"
   },
   {
    "duration": 8,
    "start_time": "2022-03-16T07:37:20.542Z"
   },
   {
    "duration": 2240,
    "start_time": "2022-03-16T07:37:20.554Z"
   },
   {
    "duration": 17,
    "start_time": "2022-03-16T07:37:22.797Z"
   },
   {
    "duration": 14,
    "start_time": "2022-03-16T07:37:22.816Z"
   },
   {
    "duration": 17,
    "start_time": "2022-03-16T07:37:22.832Z"
   },
   {
    "duration": 53,
    "start_time": "2022-03-16T07:37:22.851Z"
   },
   {
    "duration": 9,
    "start_time": "2022-03-16T07:37:22.907Z"
   },
   {
    "duration": 36,
    "start_time": "2022-03-16T07:37:22.918Z"
   },
   {
    "duration": 4,
    "start_time": "2022-03-16T07:37:22.957Z"
   },
   {
    "duration": 1397,
    "start_time": "2022-03-16T07:37:22.963Z"
   },
   {
    "duration": -1761,
    "start_time": "2022-03-16T07:37:26.123Z"
   },
   {
    "duration": -1783,
    "start_time": "2022-03-16T07:37:26.146Z"
   },
   {
    "duration": -1786,
    "start_time": "2022-03-16T07:37:26.150Z"
   },
   {
    "duration": -1789,
    "start_time": "2022-03-16T07:37:26.155Z"
   },
   {
    "duration": -1809,
    "start_time": "2022-03-16T07:37:26.176Z"
   },
   {
    "duration": -1811,
    "start_time": "2022-03-16T07:37:26.179Z"
   },
   {
    "duration": -1814,
    "start_time": "2022-03-16T07:37:26.183Z"
   },
   {
    "duration": 4,
    "start_time": "2022-03-16T07:37:33.515Z"
   },
   {
    "duration": 3,
    "start_time": "2022-03-16T07:37:38.382Z"
   },
   {
    "duration": 11,
    "start_time": "2022-03-16T07:37:38.388Z"
   },
   {
    "duration": 2821,
    "start_time": "2022-03-16T07:37:38.402Z"
   },
   {
    "duration": 6,
    "start_time": "2022-03-16T07:37:41.226Z"
   },
   {
    "duration": 1449,
    "start_time": "2022-03-16T07:37:41.234Z"
   },
   {
    "duration": 16,
    "start_time": "2022-03-16T07:37:42.685Z"
   },
   {
    "duration": 935,
    "start_time": "2022-03-16T07:37:42.704Z"
   },
   {
    "duration": 23,
    "start_time": "2022-03-16T07:38:40.474Z"
   },
   {
    "duration": 29,
    "start_time": "2022-03-16T07:38:56.512Z"
   },
   {
    "duration": 27,
    "start_time": "2022-03-16T07:39:10.865Z"
   },
   {
    "duration": 35,
    "start_time": "2022-03-16T07:42:50.309Z"
   },
   {
    "duration": 22,
    "start_time": "2022-03-16T07:42:50.479Z"
   },
   {
    "duration": 5,
    "start_time": "2022-03-16T09:36:19.248Z"
   },
   {
    "duration": 5,
    "start_time": "2022-03-16T09:36:39.935Z"
   },
   {
    "duration": 592,
    "start_time": "2022-03-16T09:37:41.052Z"
   },
   {
    "duration": 623,
    "start_time": "2022-03-16T09:37:49.863Z"
   },
   {
    "duration": 125,
    "start_time": "2022-03-16T09:38:03.598Z"
   },
   {
    "duration": 203,
    "start_time": "2022-03-16T09:38:22.686Z"
   },
   {
    "duration": 222,
    "start_time": "2022-03-16T09:38:25.738Z"
   },
   {
    "duration": 203,
    "start_time": "2022-03-16T09:49:13.153Z"
   },
   {
    "duration": 255,
    "start_time": "2022-03-16T09:50:26.542Z"
   },
   {
    "duration": 202,
    "start_time": "2022-03-16T09:50:31.304Z"
   },
   {
    "duration": 229,
    "start_time": "2022-03-16T09:51:02.350Z"
   },
   {
    "duration": 250,
    "start_time": "2022-03-16T09:51:05.464Z"
   },
   {
    "duration": 195,
    "start_time": "2022-03-16T09:51:12.764Z"
   },
   {
    "duration": 208,
    "start_time": "2022-03-16T09:51:20.226Z"
   },
   {
    "duration": 6,
    "start_time": "2022-03-16T09:52:16.703Z"
   },
   {
    "duration": 233,
    "start_time": "2022-03-16T09:53:57.160Z"
   },
   {
    "duration": 67,
    "start_time": "2022-03-16T09:54:07.769Z"
   },
   {
    "duration": 69,
    "start_time": "2022-03-16T09:54:10.865Z"
   },
   {
    "duration": 107,
    "start_time": "2022-03-16T11:33:02.339Z"
   },
   {
    "duration": 119,
    "start_time": "2022-03-16T11:34:20.869Z"
   },
   {
    "duration": 116,
    "start_time": "2022-03-16T11:34:33.236Z"
   },
   {
    "duration": 114,
    "start_time": "2022-03-16T11:34:38.400Z"
   },
   {
    "duration": 119,
    "start_time": "2022-03-16T11:34:47.631Z"
   },
   {
    "duration": 118,
    "start_time": "2022-03-16T11:35:31.035Z"
   },
   {
    "duration": 59,
    "start_time": "2022-03-16T12:17:30.520Z"
   },
   {
    "duration": 5,
    "start_time": "2022-03-16T12:21:18.131Z"
   },
   {
    "duration": 173,
    "start_time": "2022-03-16T12:23:11.339Z"
   },
   {
    "duration": 58,
    "start_time": "2022-03-16T12:23:26.178Z"
   },
   {
    "duration": 705,
    "start_time": "2022-03-16T12:23:30.697Z"
   },
   {
    "duration": 610,
    "start_time": "2022-03-16T12:23:53.054Z"
   },
   {
    "duration": 84,
    "start_time": "2022-03-16T12:24:01.365Z"
   },
   {
    "duration": 209,
    "start_time": "2022-03-16T12:26:18.716Z"
   },
   {
    "duration": 25,
    "start_time": "2022-03-16T12:26:38.278Z"
   },
   {
    "duration": 510,
    "start_time": "2022-03-16T12:30:25.541Z"
   },
   {
    "duration": 2673,
    "start_time": "2022-03-16T12:30:42.134Z"
   },
   {
    "duration": 5,
    "start_time": "2022-03-16T12:31:25.428Z"
   },
   {
    "duration": 9,
    "start_time": "2022-03-16T12:31:25.435Z"
   },
   {
    "duration": 1608,
    "start_time": "2022-03-16T12:31:25.446Z"
   },
   {
    "duration": 14,
    "start_time": "2022-03-16T12:31:27.056Z"
   },
   {
    "duration": 29,
    "start_time": "2022-03-16T12:31:27.072Z"
   },
   {
    "duration": 6,
    "start_time": "2022-03-16T12:31:27.104Z"
   },
   {
    "duration": 20,
    "start_time": "2022-03-16T12:31:27.112Z"
   },
   {
    "duration": 7,
    "start_time": "2022-03-16T12:31:27.133Z"
   },
   {
    "duration": 26,
    "start_time": "2022-03-16T12:31:27.141Z"
   },
   {
    "duration": 43,
    "start_time": "2022-03-16T12:31:27.170Z"
   },
   {
    "duration": 4,
    "start_time": "2022-03-16T12:31:27.215Z"
   },
   {
    "duration": 46,
    "start_time": "2022-03-16T12:31:27.220Z"
   },
   {
    "duration": 597,
    "start_time": "2022-03-16T12:31:27.268Z"
   },
   {
    "duration": 12,
    "start_time": "2022-03-16T12:31:27.867Z"
   },
   {
    "duration": 83,
    "start_time": "2022-03-16T12:31:27.881Z"
   },
   {
    "duration": 3,
    "start_time": "2022-03-16T12:31:27.966Z"
   },
   {
    "duration": 10,
    "start_time": "2022-03-16T12:31:27.971Z"
   },
   {
    "duration": 2248,
    "start_time": "2022-03-16T12:31:28.001Z"
   },
   {
    "duration": 6,
    "start_time": "2022-03-16T12:31:30.251Z"
   },
   {
    "duration": 1485,
    "start_time": "2022-03-16T12:31:30.258Z"
   },
   {
    "duration": 4,
    "start_time": "2022-03-16T12:31:31.745Z"
   },
   {
    "duration": 618,
    "start_time": "2022-03-16T12:31:31.752Z"
   },
   {
    "duration": 5,
    "start_time": "2022-03-16T12:34:53.439Z"
   },
   {
    "duration": 236,
    "start_time": "2022-03-16T12:34:53.832Z"
   },
   {
    "duration": 461,
    "start_time": "2022-03-16T12:34:54.250Z"
   },
   {
    "duration": 5,
    "start_time": "2022-03-16T12:35:08.339Z"
   },
   {
    "duration": 7,
    "start_time": "2022-03-16T12:35:08.348Z"
   },
   {
    "duration": 1945,
    "start_time": "2022-03-16T12:35:08.356Z"
   },
   {
    "duration": 17,
    "start_time": "2022-03-16T12:35:10.305Z"
   },
   {
    "duration": 13,
    "start_time": "2022-03-16T12:35:10.327Z"
   },
   {
    "duration": 12,
    "start_time": "2022-03-16T12:35:10.342Z"
   },
   {
    "duration": 17,
    "start_time": "2022-03-16T12:35:10.356Z"
   },
   {
    "duration": 10,
    "start_time": "2022-03-16T12:35:10.400Z"
   },
   {
    "duration": 32,
    "start_time": "2022-03-16T12:35:10.414Z"
   },
   {
    "duration": 20,
    "start_time": "2022-03-16T12:35:10.449Z"
   },
   {
    "duration": 35,
    "start_time": "2022-03-16T12:35:10.471Z"
   },
   {
    "duration": 14,
    "start_time": "2022-03-16T12:35:10.509Z"
   },
   {
    "duration": 424,
    "start_time": "2022-03-16T12:35:10.525Z"
   },
   {
    "duration": -100,
    "start_time": "2022-03-16T12:35:11.051Z"
   },
   {
    "duration": -111,
    "start_time": "2022-03-16T12:35:11.063Z"
   },
   {
    "duration": -118,
    "start_time": "2022-03-16T12:35:11.071Z"
   },
   {
    "duration": -120,
    "start_time": "2022-03-16T12:35:11.075Z"
   },
   {
    "duration": -123,
    "start_time": "2022-03-16T12:35:11.079Z"
   },
   {
    "duration": -129,
    "start_time": "2022-03-16T12:35:11.086Z"
   },
   {
    "duration": -132,
    "start_time": "2022-03-16T12:35:11.090Z"
   },
   {
    "duration": -134,
    "start_time": "2022-03-16T12:35:11.093Z"
   },
   {
    "duration": -145,
    "start_time": "2022-03-16T12:35:11.105Z"
   },
   {
    "duration": 7,
    "start_time": "2022-03-16T12:35:24.203Z"
   },
   {
    "duration": 3,
    "start_time": "2022-03-16T12:35:24.710Z"
   },
   {
    "duration": 580,
    "start_time": "2022-03-16T12:35:24.985Z"
   },
   {
    "duration": 17,
    "start_time": "2022-03-16T12:35:27.637Z"
   },
   {
    "duration": 4,
    "start_time": "2022-03-16T12:35:51.862Z"
   },
   {
    "duration": 3,
    "start_time": "2022-03-16T12:35:52.131Z"
   },
   {
    "duration": 692,
    "start_time": "2022-03-16T12:35:52.489Z"
   },
   {
    "duration": 30,
    "start_time": "2022-03-16T12:35:53.183Z"
   },
   {
    "duration": 199,
    "start_time": "2022-03-16T12:36:24.080Z"
   },
   {
    "duration": 18,
    "start_time": "2022-03-16T12:36:24.458Z"
   },
   {
    "duration": 4,
    "start_time": "2022-03-16T12:36:29.622Z"
   },
   {
    "duration": 21,
    "start_time": "2022-03-16T12:36:29.629Z"
   },
   {
    "duration": 1794,
    "start_time": "2022-03-16T12:36:29.653Z"
   },
   {
    "duration": 15,
    "start_time": "2022-03-16T12:36:31.450Z"
   },
   {
    "duration": 27,
    "start_time": "2022-03-16T12:36:31.467Z"
   },
   {
    "duration": 9,
    "start_time": "2022-03-16T12:36:31.503Z"
   },
   {
    "duration": 30,
    "start_time": "2022-03-16T12:36:31.516Z"
   },
   {
    "duration": 24,
    "start_time": "2022-03-16T12:36:31.548Z"
   },
   {
    "duration": 60,
    "start_time": "2022-03-16T12:36:31.574Z"
   },
   {
    "duration": 25,
    "start_time": "2022-03-16T12:36:31.636Z"
   },
   {
    "duration": 31,
    "start_time": "2022-03-16T12:36:31.663Z"
   },
   {
    "duration": 23,
    "start_time": "2022-03-16T12:36:31.696Z"
   },
   {
    "duration": 242,
    "start_time": "2022-03-16T12:36:31.722Z"
   },
   {
    "duration": 18,
    "start_time": "2022-03-16T12:36:31.966Z"
   },
   {
    "duration": 92,
    "start_time": "2022-03-16T12:36:31.986Z"
   },
   {
    "duration": 3,
    "start_time": "2022-03-16T12:36:32.080Z"
   },
   {
    "duration": 37,
    "start_time": "2022-03-16T12:36:32.101Z"
   },
   {
    "duration": 2536,
    "start_time": "2022-03-16T12:36:32.140Z"
   },
   {
    "duration": 4,
    "start_time": "2022-03-16T12:36:34.679Z"
   },
   {
    "duration": 1562,
    "start_time": "2022-03-16T12:36:34.703Z"
   },
   {
    "duration": 4,
    "start_time": "2022-03-16T12:36:36.268Z"
   },
   {
    "duration": 633,
    "start_time": "2022-03-16T12:36:36.274Z"
   },
   {
    "duration": 61,
    "start_time": "2022-03-16T12:39:35.981Z"
   },
   {
    "duration": 22,
    "start_time": "2022-03-16T12:39:36.518Z"
   },
   {
    "duration": 4,
    "start_time": "2022-03-16T12:39:42.279Z"
   },
   {
    "duration": 19,
    "start_time": "2022-03-16T12:39:42.286Z"
   },
   {
    "duration": 1721,
    "start_time": "2022-03-16T12:39:42.309Z"
   },
   {
    "duration": 15,
    "start_time": "2022-03-16T12:39:44.033Z"
   },
   {
    "duration": 14,
    "start_time": "2022-03-16T12:39:44.050Z"
   },
   {
    "duration": 35,
    "start_time": "2022-03-16T12:39:44.066Z"
   },
   {
    "duration": 22,
    "start_time": "2022-03-16T12:39:44.105Z"
   },
   {
    "duration": 8,
    "start_time": "2022-03-16T12:39:44.130Z"
   },
   {
    "duration": 28,
    "start_time": "2022-03-16T12:39:44.139Z"
   },
   {
    "duration": 50,
    "start_time": "2022-03-16T12:39:44.169Z"
   },
   {
    "duration": 5,
    "start_time": "2022-03-16T12:39:44.222Z"
   },
   {
    "duration": 12,
    "start_time": "2022-03-16T12:39:44.229Z"
   },
   {
    "duration": 71,
    "start_time": "2022-03-16T12:39:44.243Z"
   },
   {
    "duration": 21,
    "start_time": "2022-03-16T12:39:44.316Z"
   },
   {
    "duration": 97,
    "start_time": "2022-03-16T12:39:44.339Z"
   },
   {
    "duration": 4,
    "start_time": "2022-03-16T12:39:44.438Z"
   },
   {
    "duration": 13,
    "start_time": "2022-03-16T12:39:44.444Z"
   },
   {
    "duration": 2564,
    "start_time": "2022-03-16T12:39:44.461Z"
   },
   {
    "duration": 5,
    "start_time": "2022-03-16T12:39:47.028Z"
   },
   {
    "duration": 1637,
    "start_time": "2022-03-16T12:39:47.035Z"
   },
   {
    "duration": 4,
    "start_time": "2022-03-16T12:39:48.674Z"
   },
   {
    "duration": 679,
    "start_time": "2022-03-16T12:39:48.680Z"
   },
   {
    "duration": 66,
    "start_time": "2022-03-16T12:41:08.845Z"
   },
   {
    "duration": 20,
    "start_time": "2022-03-16T12:41:09.295Z"
   },
   {
    "duration": 6,
    "start_time": "2022-03-16T12:43:50.513Z"
   },
   {
    "duration": 3,
    "start_time": "2022-03-16T12:43:51.986Z"
   },
   {
    "duration": 222,
    "start_time": "2022-03-16T12:43:53.421Z"
   },
   {
    "duration": 8,
    "start_time": "2022-03-16T12:43:55.255Z"
   },
   {
    "duration": 20,
    "start_time": "2022-03-16T12:44:19.556Z"
   },
   {
    "duration": 5,
    "start_time": "2022-03-16T12:46:53.755Z"
   },
   {
    "duration": 11,
    "start_time": "2022-03-16T12:46:53.762Z"
   },
   {
    "duration": 1775,
    "start_time": "2022-03-16T12:46:53.775Z"
   },
   {
    "duration": 14,
    "start_time": "2022-03-16T12:46:55.552Z"
   },
   {
    "duration": 13,
    "start_time": "2022-03-16T12:46:55.568Z"
   },
   {
    "duration": 9,
    "start_time": "2022-03-16T12:46:55.602Z"
   },
   {
    "duration": 31,
    "start_time": "2022-03-16T12:46:55.616Z"
   },
   {
    "duration": 8,
    "start_time": "2022-03-16T12:46:55.650Z"
   },
   {
    "duration": 48,
    "start_time": "2022-03-16T12:46:55.660Z"
   },
   {
    "duration": 23,
    "start_time": "2022-03-16T12:46:55.710Z"
   },
   {
    "duration": 6,
    "start_time": "2022-03-16T12:46:55.735Z"
   },
   {
    "duration": 10,
    "start_time": "2022-03-16T12:46:55.743Z"
   },
   {
    "duration": 20,
    "start_time": "2022-03-16T12:46:55.754Z"
   },
   {
    "duration": 30,
    "start_time": "2022-03-16T12:46:55.776Z"
   },
   {
    "duration": 247,
    "start_time": "2022-03-16T12:46:55.809Z"
   },
   {
    "duration": 6,
    "start_time": "2022-03-16T12:46:56.058Z"
   },
   {
    "duration": 18,
    "start_time": "2022-03-16T12:46:56.066Z"
   },
   {
    "duration": 94,
    "start_time": "2022-03-16T12:46:56.086Z"
   },
   {
    "duration": 21,
    "start_time": "2022-03-16T12:46:56.183Z"
   },
   {
    "duration": 20,
    "start_time": "2022-03-16T12:46:56.206Z"
   },
   {
    "duration": 2439,
    "start_time": "2022-03-16T12:46:56.229Z"
   },
   {
    "duration": 5,
    "start_time": "2022-03-16T12:46:58.670Z"
   },
   {
    "duration": 1552,
    "start_time": "2022-03-16T12:46:58.677Z"
   },
   {
    "duration": 4,
    "start_time": "2022-03-16T12:47:00.231Z"
   },
   {
    "duration": 636,
    "start_time": "2022-03-16T12:47:00.237Z"
   },
   {
    "duration": 46,
    "start_time": "2022-03-16T12:51:02.608Z"
   },
   {
    "duration": 63,
    "start_time": "2022-03-16T12:51:20.124Z"
   },
   {
    "duration": 49,
    "start_time": "2022-03-16T12:51:33.971Z"
   },
   {
    "duration": 39,
    "start_time": "2022-03-16T12:51:38.478Z"
   },
   {
    "duration": 45,
    "start_time": "2022-03-16T12:51:41.606Z"
   },
   {
    "duration": 44,
    "start_time": "2022-03-16T12:52:09.441Z"
   },
   {
    "duration": 30,
    "start_time": "2022-03-16T12:54:15.516Z"
   },
   {
    "duration": 174,
    "start_time": "2022-03-16T12:54:32.483Z"
   },
   {
    "duration": 33,
    "start_time": "2022-03-16T12:54:32.938Z"
   },
   {
    "duration": 128,
    "start_time": "2022-03-16T12:55:21.449Z"
   },
   {
    "duration": 46,
    "start_time": "2022-03-16T12:55:21.902Z"
   },
   {
    "duration": 35,
    "start_time": "2022-03-16T12:55:23.735Z"
   },
   {
    "duration": 137,
    "start_time": "2022-03-16T12:55:24.232Z"
   },
   {
    "duration": 38,
    "start_time": "2022-03-16T12:55:24.783Z"
   },
   {
    "duration": 10,
    "start_time": "2022-03-16T12:55:29.127Z"
   },
   {
    "duration": 6,
    "start_time": "2022-03-16T12:55:29.139Z"
   },
   {
    "duration": 1940,
    "start_time": "2022-03-16T12:55:29.148Z"
   },
   {
    "duration": 27,
    "start_time": "2022-03-16T12:55:31.090Z"
   },
   {
    "duration": 112,
    "start_time": "2022-03-16T12:55:31.121Z"
   },
   {
    "duration": 25,
    "start_time": "2022-03-16T12:55:31.237Z"
   },
   {
    "duration": 41,
    "start_time": "2022-03-16T12:55:31.265Z"
   },
   {
    "duration": 19,
    "start_time": "2022-03-16T12:55:31.309Z"
   },
   {
    "duration": 50,
    "start_time": "2022-03-16T12:55:31.330Z"
   },
   {
    "duration": 23,
    "start_time": "2022-03-16T12:55:31.382Z"
   },
   {
    "duration": 9,
    "start_time": "2022-03-16T12:55:31.408Z"
   },
   {
    "duration": 44,
    "start_time": "2022-03-16T12:55:31.420Z"
   },
   {
    "duration": 87,
    "start_time": "2022-03-16T12:55:31.467Z"
   },
   {
    "duration": 129,
    "start_time": "2022-03-16T12:55:31.558Z"
   },
   {
    "duration": 47,
    "start_time": "2022-03-16T12:55:31.689Z"
   },
   {
    "duration": 21,
    "start_time": "2022-03-16T12:55:31.738Z"
   },
   {
    "duration": 21,
    "start_time": "2022-03-16T12:55:31.762Z"
   },
   {
    "duration": 320,
    "start_time": "2022-03-16T12:55:31.785Z"
   },
   {
    "duration": 8,
    "start_time": "2022-03-16T12:55:32.107Z"
   },
   {
    "duration": 38,
    "start_time": "2022-03-16T12:55:32.117Z"
   },
   {
    "duration": 86,
    "start_time": "2022-03-16T12:55:32.157Z"
   },
   {
    "duration": 4,
    "start_time": "2022-03-16T12:55:32.245Z"
   },
   {
    "duration": 15,
    "start_time": "2022-03-16T12:55:32.252Z"
   },
   {
    "duration": 2875,
    "start_time": "2022-03-16T12:55:32.270Z"
   },
   {
    "duration": 5,
    "start_time": "2022-03-16T12:55:35.148Z"
   },
   {
    "duration": 1722,
    "start_time": "2022-03-16T12:55:35.155Z"
   },
   {
    "duration": 4,
    "start_time": "2022-03-16T12:55:36.879Z"
   },
   {
    "duration": 685,
    "start_time": "2022-03-16T12:55:36.885Z"
   },
   {
    "duration": 115,
    "start_time": "2022-03-16T12:57:00.455Z"
   },
   {
    "duration": 3,
    "start_time": "2022-03-16T12:57:00.919Z"
   },
   {
    "duration": 86,
    "start_time": "2022-03-16T12:57:20.197Z"
   },
   {
    "duration": 83,
    "start_time": "2022-03-16T12:57:25.379Z"
   },
   {
    "duration": 69,
    "start_time": "2022-03-16T12:57:45.696Z"
   },
   {
    "duration": 86,
    "start_time": "2022-03-16T12:58:15.374Z"
   },
   {
    "duration": 5,
    "start_time": "2022-03-16T12:59:37.138Z"
   },
   {
    "duration": 6,
    "start_time": "2022-03-16T13:01:21.846Z"
   },
   {
    "duration": 75,
    "start_time": "2022-03-16T13:01:29.091Z"
   },
   {
    "duration": 7,
    "start_time": "2022-03-16T13:01:32.730Z"
   },
   {
    "duration": 4,
    "start_time": "2022-03-16T13:01:33.243Z"
   },
   {
    "duration": 33,
    "start_time": "2022-03-16T13:01:36.617Z"
   },
   {
    "duration": 132,
    "start_time": "2022-03-16T13:01:38.081Z"
   },
   {
    "duration": 36,
    "start_time": "2022-03-16T13:01:39.420Z"
   },
   {
    "duration": 6,
    "start_time": "2022-03-16T13:02:08.535Z"
   },
   {
    "duration": 19,
    "start_time": "2022-03-16T13:02:08.731Z"
   },
   {
    "duration": 856,
    "start_time": "2022-03-16T13:02:08.902Z"
   },
   {
    "duration": 6,
    "start_time": "2022-03-16T13:09:09.844Z"
   },
   {
    "duration": 3,
    "start_time": "2022-03-16T13:09:10.184Z"
   },
   {
    "duration": 33,
    "start_time": "2022-03-16T13:09:11.102Z"
   },
   {
    "duration": 119,
    "start_time": "2022-03-16T13:09:11.385Z"
   },
   {
    "duration": 36,
    "start_time": "2022-03-16T13:09:11.652Z"
   },
   {
    "duration": 7,
    "start_time": "2022-03-16T13:09:12.344Z"
   },
   {
    "duration": 19,
    "start_time": "2022-03-16T13:09:12.858Z"
   },
   {
    "duration": 930,
    "start_time": "2022-03-16T13:09:13.570Z"
   },
   {
    "duration": 5,
    "start_time": "2022-03-16T13:10:36.183Z"
   },
   {
    "duration": 3,
    "start_time": "2022-03-16T13:10:36.748Z"
   },
   {
    "duration": 30,
    "start_time": "2022-03-16T13:10:37.450Z"
   },
   {
    "duration": 108,
    "start_time": "2022-03-16T13:10:37.654Z"
   },
   {
    "duration": 31,
    "start_time": "2022-03-16T13:10:37.852Z"
   },
   {
    "duration": 7,
    "start_time": "2022-03-16T13:10:38.251Z"
   },
   {
    "duration": 19,
    "start_time": "2022-03-16T13:10:38.724Z"
   },
   {
    "duration": 231,
    "start_time": "2022-03-16T13:10:39.371Z"
   },
   {
    "duration": 6,
    "start_time": "2022-03-16T13:10:41.908Z"
   },
   {
    "duration": 18,
    "start_time": "2022-03-16T13:10:48.644Z"
   },
   {
    "duration": 5,
    "start_time": "2022-03-16T13:12:18.162Z"
   },
   {
    "duration": 11,
    "start_time": "2022-03-16T13:12:18.169Z"
   },
   {
    "duration": 1590,
    "start_time": "2022-03-16T13:12:18.182Z"
   },
   {
    "duration": 14,
    "start_time": "2022-03-16T13:12:19.774Z"
   },
   {
    "duration": 11,
    "start_time": "2022-03-16T13:12:19.801Z"
   },
   {
    "duration": 6,
    "start_time": "2022-03-16T13:12:19.815Z"
   },
   {
    "duration": 21,
    "start_time": "2022-03-16T13:12:19.822Z"
   },
   {
    "duration": 6,
    "start_time": "2022-03-16T13:12:19.845Z"
   },
   {
    "duration": 58,
    "start_time": "2022-03-16T13:12:19.853Z"
   },
   {
    "duration": 20,
    "start_time": "2022-03-16T13:12:19.913Z"
   },
   {
    "duration": 5,
    "start_time": "2022-03-16T13:12:19.935Z"
   },
   {
    "duration": 13,
    "start_time": "2022-03-16T13:12:19.942Z"
   },
   {
    "duration": 46,
    "start_time": "2022-03-16T13:12:19.957Z"
   },
   {
    "duration": 119,
    "start_time": "2022-03-16T13:12:20.007Z"
   },
   {
    "duration": 31,
    "start_time": "2022-03-16T13:12:20.128Z"
   },
   {
    "duration": 18,
    "start_time": "2022-03-16T13:12:20.161Z"
   },
   {
    "duration": 23,
    "start_time": "2022-03-16T13:12:20.181Z"
   },
   {
    "duration": 290,
    "start_time": "2022-03-16T13:12:20.206Z"
   },
   {
    "duration": 7,
    "start_time": "2022-03-16T13:12:20.501Z"
   },
   {
    "duration": 27,
    "start_time": "2022-03-16T13:12:20.510Z"
   },
   {
    "duration": 81,
    "start_time": "2022-03-16T13:12:20.539Z"
   },
   {
    "duration": 2,
    "start_time": "2022-03-16T13:12:20.622Z"
   },
   {
    "duration": 9,
    "start_time": "2022-03-16T13:12:20.626Z"
   },
   {
    "duration": 2312,
    "start_time": "2022-03-16T13:12:20.637Z"
   },
   {
    "duration": 5,
    "start_time": "2022-03-16T13:12:22.951Z"
   },
   {
    "duration": 1469,
    "start_time": "2022-03-16T13:12:22.958Z"
   },
   {
    "duration": 4,
    "start_time": "2022-03-16T13:12:24.429Z"
   },
   {
    "duration": 581,
    "start_time": "2022-03-16T13:12:24.435Z"
   },
   {
    "duration": 35,
    "start_time": "2022-03-16T13:13:56.236Z"
   },
   {
    "duration": 105,
    "start_time": "2022-03-16T13:13:56.775Z"
   },
   {
    "duration": 34,
    "start_time": "2022-03-16T13:13:57.580Z"
   },
   {
    "duration": 5,
    "start_time": "2022-03-16T13:14:05.349Z"
   },
   {
    "duration": 56,
    "start_time": "2022-03-16T13:14:05.356Z"
   },
   {
    "duration": 1599,
    "start_time": "2022-03-16T13:14:05.415Z"
   },
   {
    "duration": 14,
    "start_time": "2022-03-16T13:14:07.017Z"
   },
   {
    "duration": 12,
    "start_time": "2022-03-16T13:14:07.032Z"
   },
   {
    "duration": 12,
    "start_time": "2022-03-16T13:14:07.046Z"
   },
   {
    "duration": 42,
    "start_time": "2022-03-16T13:14:07.060Z"
   },
   {
    "duration": 7,
    "start_time": "2022-03-16T13:14:07.104Z"
   },
   {
    "duration": 26,
    "start_time": "2022-03-16T13:14:07.113Z"
   },
   {
    "duration": 19,
    "start_time": "2022-03-16T13:14:07.141Z"
   },
   {
    "duration": 4,
    "start_time": "2022-03-16T13:14:07.162Z"
   },
   {
    "duration": 37,
    "start_time": "2022-03-16T13:14:07.168Z"
   },
   {
    "duration": 48,
    "start_time": "2022-03-16T13:14:07.207Z"
   },
   {
    "duration": 116,
    "start_time": "2022-03-16T13:14:07.257Z"
   },
   {
    "duration": 33,
    "start_time": "2022-03-16T13:14:07.375Z"
   },
   {
    "duration": 31,
    "start_time": "2022-03-16T13:14:07.410Z"
   },
   {
    "duration": 6,
    "start_time": "2022-03-16T13:14:07.443Z"
   },
   {
    "duration": 230,
    "start_time": "2022-03-16T13:14:07.450Z"
   },
   {
    "duration": 6,
    "start_time": "2022-03-16T13:14:07.683Z"
   },
   {
    "duration": 20,
    "start_time": "2022-03-16T13:14:07.702Z"
   },
   {
    "duration": 81,
    "start_time": "2022-03-16T13:14:07.724Z"
   },
   {
    "duration": 3,
    "start_time": "2022-03-16T13:14:07.807Z"
   },
   {
    "duration": 15,
    "start_time": "2022-03-16T13:14:07.811Z"
   },
   {
    "duration": 2308,
    "start_time": "2022-03-16T13:14:07.828Z"
   },
   {
    "duration": 5,
    "start_time": "2022-03-16T13:14:10.138Z"
   },
   {
    "duration": 1420,
    "start_time": "2022-03-16T13:14:10.145Z"
   },
   {
    "duration": 4,
    "start_time": "2022-03-16T13:14:11.567Z"
   },
   {
    "duration": 572,
    "start_time": "2022-03-16T13:14:11.573Z"
   },
   {
    "duration": 74,
    "start_time": "2022-03-16T13:25:41.927Z"
   },
   {
    "duration": 66,
    "start_time": "2022-03-16T13:25:53.241Z"
   },
   {
    "duration": 75,
    "start_time": "2022-03-16T13:26:00.667Z"
   },
   {
    "duration": 132,
    "start_time": "2022-03-16T13:27:05.895Z"
   },
   {
    "duration": 70,
    "start_time": "2022-03-16T13:28:10.343Z"
   },
   {
    "duration": 71,
    "start_time": "2022-03-16T13:28:15.584Z"
   },
   {
    "duration": 105,
    "start_time": "2022-03-16T13:28:37.978Z"
   },
   {
    "duration": 6,
    "start_time": "2022-03-16T13:28:46.248Z"
   },
   {
    "duration": 5,
    "start_time": "2022-03-16T13:32:30.686Z"
   },
   {
    "duration": 4,
    "start_time": "2022-03-16T13:32:31.255Z"
   },
   {
    "duration": 33,
    "start_time": "2022-03-16T13:32:31.719Z"
   },
   {
    "duration": 118,
    "start_time": "2022-03-16T13:32:33.701Z"
   },
   {
    "duration": 34,
    "start_time": "2022-03-16T13:32:37.332Z"
   },
   {
    "duration": 5,
    "start_time": "2022-03-16T13:32:51.455Z"
   },
   {
    "duration": 12,
    "start_time": "2022-03-16T13:32:51.462Z"
   },
   {
    "duration": 1651,
    "start_time": "2022-03-16T13:32:51.476Z"
   },
   {
    "duration": 13,
    "start_time": "2022-03-16T13:32:53.129Z"
   },
   {
    "duration": 10,
    "start_time": "2022-03-16T13:32:53.145Z"
   },
   {
    "duration": 7,
    "start_time": "2022-03-16T13:32:53.157Z"
   },
   {
    "duration": 47,
    "start_time": "2022-03-16T13:32:53.166Z"
   },
   {
    "duration": 7,
    "start_time": "2022-03-16T13:32:53.215Z"
   },
   {
    "duration": 25,
    "start_time": "2022-03-16T13:32:53.224Z"
   },
   {
    "duration": 19,
    "start_time": "2022-03-16T13:32:53.252Z"
   },
   {
    "duration": 30,
    "start_time": "2022-03-16T13:32:53.274Z"
   },
   {
    "duration": 16,
    "start_time": "2022-03-16T13:32:53.307Z"
   },
   {
    "duration": 49,
    "start_time": "2022-03-16T13:32:53.326Z"
   },
   {
    "duration": 184,
    "start_time": "2022-03-16T13:32:53.378Z"
   },
   {
    "duration": 56,
    "start_time": "2022-03-16T13:32:53.564Z"
   },
   {
    "duration": 23,
    "start_time": "2022-03-16T13:32:53.622Z"
   },
   {
    "duration": 8,
    "start_time": "2022-03-16T13:32:53.647Z"
   },
   {
    "duration": 367,
    "start_time": "2022-03-16T13:32:53.657Z"
   },
   {
    "duration": 6,
    "start_time": "2022-03-16T13:32:54.026Z"
   },
   {
    "duration": 25,
    "start_time": "2022-03-16T13:32:54.034Z"
   },
   {
    "duration": 82,
    "start_time": "2022-03-16T13:32:54.061Z"
   },
   {
    "duration": 3,
    "start_time": "2022-03-16T13:32:54.145Z"
   },
   {
    "duration": 10,
    "start_time": "2022-03-16T13:32:54.150Z"
   },
   {
    "duration": 2417,
    "start_time": "2022-03-16T13:32:54.162Z"
   },
   {
    "duration": 19,
    "start_time": "2022-03-16T13:32:56.583Z"
   },
   {
    "duration": 1404,
    "start_time": "2022-03-16T13:32:56.603Z"
   },
   {
    "duration": 4,
    "start_time": "2022-03-16T13:32:58.009Z"
   },
   {
    "duration": 586,
    "start_time": "2022-03-16T13:32:58.015Z"
   },
   {
    "duration": 33,
    "start_time": "2022-03-16T13:37:00.787Z"
   },
   {
    "duration": 325,
    "start_time": "2022-03-16T13:37:01.820Z"
   },
   {
    "duration": 33,
    "start_time": "2022-03-16T13:37:02.316Z"
   },
   {
    "duration": 303,
    "start_time": "2022-03-16T13:37:05.771Z"
   },
   {
    "duration": 32,
    "start_time": "2022-03-16T13:37:06.399Z"
   },
   {
    "duration": 5,
    "start_time": "2022-03-16T13:37:11.510Z"
   },
   {
    "duration": 13,
    "start_time": "2022-03-16T13:37:11.518Z"
   },
   {
    "duration": 1632,
    "start_time": "2022-03-16T13:37:11.534Z"
   },
   {
    "duration": 14,
    "start_time": "2022-03-16T13:37:13.169Z"
   },
   {
    "duration": 24,
    "start_time": "2022-03-16T13:37:13.185Z"
   },
   {
    "duration": 6,
    "start_time": "2022-03-16T13:37:13.211Z"
   },
   {
    "duration": 21,
    "start_time": "2022-03-16T13:37:13.219Z"
   },
   {
    "duration": 6,
    "start_time": "2022-03-16T13:37:13.242Z"
   },
   {
    "duration": 56,
    "start_time": "2022-03-16T13:37:13.250Z"
   },
   {
    "duration": 19,
    "start_time": "2022-03-16T13:37:13.308Z"
   },
   {
    "duration": 5,
    "start_time": "2022-03-16T13:37:13.329Z"
   },
   {
    "duration": 7,
    "start_time": "2022-03-16T13:37:13.335Z"
   },
   {
    "duration": 35,
    "start_time": "2022-03-16T13:37:13.344Z"
   },
   {
    "duration": 324,
    "start_time": "2022-03-16T13:37:13.403Z"
   },
   {
    "duration": 30,
    "start_time": "2022-03-16T13:37:13.730Z"
   },
   {
    "duration": 40,
    "start_time": "2022-03-16T13:37:13.762Z"
   },
   {
    "duration": 7,
    "start_time": "2022-03-16T13:37:13.805Z"
   },
   {
    "duration": 231,
    "start_time": "2022-03-16T13:37:13.814Z"
   },
   {
    "duration": 6,
    "start_time": "2022-03-16T13:37:14.047Z"
   },
   {
    "duration": 17,
    "start_time": "2022-03-16T13:37:14.055Z"
   },
   {
    "duration": 82,
    "start_time": "2022-03-16T13:37:14.074Z"
   },
   {
    "duration": 2,
    "start_time": "2022-03-16T13:37:14.158Z"
   },
   {
    "duration": 8,
    "start_time": "2022-03-16T13:37:14.162Z"
   },
   {
    "duration": 2473,
    "start_time": "2022-03-16T13:37:14.172Z"
   },
   {
    "duration": 7,
    "start_time": "2022-03-16T13:37:16.648Z"
   },
   {
    "duration": 1443,
    "start_time": "2022-03-16T13:37:16.658Z"
   },
   {
    "duration": 4,
    "start_time": "2022-03-16T13:37:18.103Z"
   },
   {
    "duration": 595,
    "start_time": "2022-03-16T13:37:18.109Z"
   },
   {
    "duration": 28,
    "start_time": "2022-03-16T13:39:29.770Z"
   },
   {
    "duration": 108,
    "start_time": "2022-03-16T13:39:30.183Z"
   },
   {
    "duration": 31,
    "start_time": "2022-03-16T13:39:30.865Z"
   },
   {
    "duration": 5,
    "start_time": "2022-03-16T13:39:36.572Z"
   },
   {
    "duration": 17,
    "start_time": "2022-03-16T13:39:36.579Z"
   },
   {
    "duration": 1642,
    "start_time": "2022-03-16T13:39:36.598Z"
   },
   {
    "duration": 15,
    "start_time": "2022-03-16T13:39:38.242Z"
   },
   {
    "duration": 14,
    "start_time": "2022-03-16T13:39:38.259Z"
   },
   {
    "duration": 27,
    "start_time": "2022-03-16T13:39:38.276Z"
   },
   {
    "duration": 23,
    "start_time": "2022-03-16T13:39:38.305Z"
   },
   {
    "duration": 7,
    "start_time": "2022-03-16T13:39:38.330Z"
   },
   {
    "duration": 30,
    "start_time": "2022-03-16T13:39:38.339Z"
   },
   {
    "duration": 39,
    "start_time": "2022-03-16T13:39:38.371Z"
   },
   {
    "duration": 5,
    "start_time": "2022-03-16T13:39:38.412Z"
   },
   {
    "duration": 11,
    "start_time": "2022-03-16T13:39:38.419Z"
   },
   {
    "duration": 35,
    "start_time": "2022-03-16T13:39:38.432Z"
   },
   {
    "duration": 136,
    "start_time": "2022-03-16T13:39:38.471Z"
   },
   {
    "duration": 36,
    "start_time": "2022-03-16T13:39:38.609Z"
   },
   {
    "duration": 27,
    "start_time": "2022-03-16T13:39:38.647Z"
   },
   {
    "duration": 24,
    "start_time": "2022-03-16T13:39:38.676Z"
   },
   {
    "duration": 238,
    "start_time": "2022-03-16T13:39:38.702Z"
   },
   {
    "duration": 7,
    "start_time": "2022-03-16T13:39:38.942Z"
   },
   {
    "duration": 43,
    "start_time": "2022-03-16T13:39:38.951Z"
   },
   {
    "duration": 78,
    "start_time": "2022-03-16T13:39:38.996Z"
   },
   {
    "duration": 3,
    "start_time": "2022-03-16T13:39:39.076Z"
   },
   {
    "duration": 32,
    "start_time": "2022-03-16T13:39:39.081Z"
   },
   {
    "duration": 2515,
    "start_time": "2022-03-16T13:39:39.115Z"
   },
   {
    "duration": 5,
    "start_time": "2022-03-16T13:39:41.632Z"
   },
   {
    "duration": 1410,
    "start_time": "2022-03-16T13:39:41.639Z"
   },
   {
    "duration": 4,
    "start_time": "2022-03-16T13:39:43.051Z"
   },
   {
    "duration": 595,
    "start_time": "2022-03-16T13:39:43.057Z"
   },
   {
    "duration": 5,
    "start_time": "2022-03-16T13:42:56.768Z"
   },
   {
    "duration": 3,
    "start_time": "2022-03-16T13:42:57.163Z"
   },
   {
    "duration": 32,
    "start_time": "2022-03-16T13:42:57.413Z"
   },
   {
    "duration": 108,
    "start_time": "2022-03-16T13:42:58.659Z"
   },
   {
    "duration": 33,
    "start_time": "2022-03-16T13:42:59.092Z"
   },
   {
    "duration": 339,
    "start_time": "2022-03-16T15:56:23.054Z"
   },
   {
    "duration": 1204,
    "start_time": "2022-03-16T15:56:53.016Z"
   },
   {
    "duration": 4,
    "start_time": "2022-03-16T15:56:54.222Z"
   },
   {
    "duration": 1350,
    "start_time": "2022-03-16T15:56:54.228Z"
   },
   {
    "duration": 22,
    "start_time": "2022-03-16T15:56:55.580Z"
   },
   {
    "duration": 9,
    "start_time": "2022-03-16T15:56:55.604Z"
   },
   {
    "duration": 5,
    "start_time": "2022-03-16T15:56:55.615Z"
   },
   {
    "duration": 15,
    "start_time": "2022-03-16T15:56:55.621Z"
   },
   {
    "duration": 6,
    "start_time": "2022-03-16T15:56:55.639Z"
   },
   {
    "duration": 20,
    "start_time": "2022-03-16T15:56:55.647Z"
   },
   {
    "duration": 18,
    "start_time": "2022-03-16T15:56:55.700Z"
   },
   {
    "duration": 12,
    "start_time": "2022-03-16T15:56:55.719Z"
   },
   {
    "duration": 9,
    "start_time": "2022-03-16T15:56:55.733Z"
   },
   {
    "duration": 9,
    "start_time": "2022-03-16T15:56:55.744Z"
   },
   {
    "duration": 4,
    "start_time": "2022-03-16T15:56:55.754Z"
   },
   {
    "duration": 4,
    "start_time": "2022-03-16T15:56:55.759Z"
   },
   {
    "duration": 52,
    "start_time": "2022-03-16T15:56:55.764Z"
   },
   {
    "duration": 93,
    "start_time": "2022-03-16T15:56:55.818Z"
   },
   {
    "duration": 26,
    "start_time": "2022-03-16T15:56:55.912Z"
   },
   {
    "duration": 13,
    "start_time": "2022-03-16T15:56:55.939Z"
   },
   {
    "duration": 4,
    "start_time": "2022-03-16T15:56:55.954Z"
   },
   {
    "duration": 195,
    "start_time": "2022-03-16T15:56:55.959Z"
   },
   {
    "duration": 4,
    "start_time": "2022-03-16T15:56:56.156Z"
   },
   {
    "duration": 15,
    "start_time": "2022-03-16T15:56:56.163Z"
   },
   {
    "duration": 66,
    "start_time": "2022-03-16T15:56:56.180Z"
   },
   {
    "duration": 2,
    "start_time": "2022-03-16T15:56:56.248Z"
   },
   {
    "duration": 7,
    "start_time": "2022-03-16T15:56:56.251Z"
   },
   {
    "duration": 1660,
    "start_time": "2022-03-16T15:56:56.259Z"
   },
   {
    "duration": 4,
    "start_time": "2022-03-16T15:56:57.921Z"
   },
   {
    "duration": 1126,
    "start_time": "2022-03-16T15:56:57.926Z"
   },
   {
    "duration": 4,
    "start_time": "2022-03-16T15:56:59.053Z"
   },
   {
    "duration": 473,
    "start_time": "2022-03-16T15:56:59.058Z"
   },
   {
    "duration": 12,
    "start_time": "2022-03-16T15:57:31.743Z"
   },
   {
    "duration": 12,
    "start_time": "2022-03-16T15:57:32.554Z"
   },
   {
    "duration": 13,
    "start_time": "2022-03-16T15:57:33.238Z"
   },
   {
    "duration": 14,
    "start_time": "2022-03-16T15:57:51.772Z"
   },
   {
    "duration": 9,
    "start_time": "2022-03-16T15:57:52.631Z"
   },
   {
    "duration": 6,
    "start_time": "2022-03-16T15:58:19.843Z"
   },
   {
    "duration": 5,
    "start_time": "2022-03-16T15:58:26.664Z"
   },
   {
    "duration": 5,
    "start_time": "2022-03-16T15:58:31.715Z"
   },
   {
    "duration": 6,
    "start_time": "2022-03-16T15:58:31.722Z"
   },
   {
    "duration": 1683,
    "start_time": "2022-03-16T15:58:31.730Z"
   },
   {
    "duration": 13,
    "start_time": "2022-03-16T15:58:33.415Z"
   },
   {
    "duration": 10,
    "start_time": "2022-03-16T15:58:33.429Z"
   },
   {
    "duration": 4,
    "start_time": "2022-03-16T15:58:33.441Z"
   },
   {
    "duration": 14,
    "start_time": "2022-03-16T15:58:33.448Z"
   },
   {
    "duration": 38,
    "start_time": "2022-03-16T15:58:33.464Z"
   },
   {
    "duration": 21,
    "start_time": "2022-03-16T15:58:33.504Z"
   },
   {
    "duration": 17,
    "start_time": "2022-03-16T15:58:33.526Z"
   },
   {
    "duration": 11,
    "start_time": "2022-03-16T15:58:33.545Z"
   },
   {
    "duration": 4,
    "start_time": "2022-03-16T15:58:33.557Z"
   },
   {
    "duration": 40,
    "start_time": "2022-03-16T15:58:33.562Z"
   },
   {
    "duration": 5,
    "start_time": "2022-03-16T15:58:33.604Z"
   },
   {
    "duration": 6,
    "start_time": "2022-03-16T15:58:33.610Z"
   },
   {
    "duration": 7,
    "start_time": "2022-03-16T15:58:33.618Z"
   },
   {
    "duration": 8,
    "start_time": "2022-03-16T15:58:33.627Z"
   },
   {
    "duration": 37,
    "start_time": "2022-03-16T15:58:33.639Z"
   },
   {
    "duration": 171,
    "start_time": "2022-03-16T15:58:33.678Z"
   },
   {
    "duration": 41,
    "start_time": "2022-03-16T15:58:33.851Z"
   },
   {
    "duration": 20,
    "start_time": "2022-03-16T15:58:33.901Z"
   },
   {
    "duration": 6,
    "start_time": "2022-03-16T15:58:33.923Z"
   },
   {
    "duration": 285,
    "start_time": "2022-03-16T15:58:33.931Z"
   },
   {
    "duration": 8,
    "start_time": "2022-03-16T15:58:34.218Z"
   },
   {
    "duration": 15,
    "start_time": "2022-03-16T15:58:34.228Z"
   },
   {
    "duration": 76,
    "start_time": "2022-03-16T15:58:34.245Z"
   },
   {
    "duration": 4,
    "start_time": "2022-03-16T15:58:34.323Z"
   },
   {
    "duration": 8,
    "start_time": "2022-03-16T15:58:34.328Z"
   },
   {
    "duration": 2083,
    "start_time": "2022-03-16T15:58:34.338Z"
   },
   {
    "duration": 4,
    "start_time": "2022-03-16T15:58:36.423Z"
   },
   {
    "duration": 1147,
    "start_time": "2022-03-16T15:58:36.429Z"
   },
   {
    "duration": 3,
    "start_time": "2022-03-16T15:58:37.578Z"
   },
   {
    "duration": 484,
    "start_time": "2022-03-16T15:58:37.583Z"
   },
   {
    "duration": 11,
    "start_time": "2022-03-16T15:59:52.234Z"
   },
   {
    "duration": 10,
    "start_time": "2022-03-16T16:02:02.366Z"
   },
   {
    "duration": 4,
    "start_time": "2022-03-16T16:08:36.223Z"
   },
   {
    "duration": 2,
    "start_time": "2022-03-16T16:08:46.166Z"
   },
   {
    "duration": 26,
    "start_time": "2022-03-16T16:08:46.613Z"
   },
   {
    "duration": 1446,
    "start_time": "2022-03-16T16:08:47.521Z"
   },
   {
    "duration": -153,
    "start_time": "2022-03-16T16:08:49.122Z"
   },
   {
    "duration": 4,
    "start_time": "2022-03-16T16:09:14.707Z"
   },
   {
    "duration": 4,
    "start_time": "2022-03-16T16:09:20.403Z"
   },
   {
    "duration": 3,
    "start_time": "2022-03-16T16:09:21.119Z"
   },
   {
    "duration": 27,
    "start_time": "2022-03-16T16:09:21.292Z"
   },
   {
    "duration": 1421,
    "start_time": "2022-03-16T16:09:21.885Z"
   },
   {
    "duration": 1385,
    "start_time": "2022-03-16T16:14:43.733Z"
   },
   {
    "duration": 1439,
    "start_time": "2022-03-16T16:14:48.775Z"
   },
   {
    "duration": 4,
    "start_time": "2022-03-16T16:18:06.457Z"
   },
   {
    "duration": 2,
    "start_time": "2022-03-16T16:18:06.831Z"
   },
   {
    "duration": 28,
    "start_time": "2022-03-16T16:18:07.098Z"
   },
   {
    "duration": 1554,
    "start_time": "2022-03-16T16:18:07.684Z"
   },
   {
    "duration": 7,
    "start_time": "2022-03-16T16:18:16.541Z"
   },
   {
    "duration": 3,
    "start_time": "2022-03-16T16:18:17.079Z"
   },
   {
    "duration": 27,
    "start_time": "2022-03-16T16:18:18.651Z"
   },
   {
    "duration": 1461,
    "start_time": "2022-03-16T16:18:18.680Z"
   },
   {
    "duration": 1887,
    "start_time": "2022-03-16T16:23:13.780Z"
   },
   {
    "duration": 294,
    "start_time": "2022-03-16T16:25:56.163Z"
   },
   {
    "duration": 287,
    "start_time": "2022-03-16T16:26:10.964Z"
   },
   {
    "duration": 1443,
    "start_time": "2022-03-16T16:26:16.308Z"
   },
   {
    "duration": 1429,
    "start_time": "2022-03-16T16:27:47.609Z"
   },
   {
    "duration": 1587,
    "start_time": "2022-03-16T16:28:03.097Z"
   },
   {
    "duration": 311,
    "start_time": "2022-03-16T16:29:39.166Z"
   },
   {
    "duration": 50,
    "start_time": "2022-03-16T16:29:47.341Z"
   },
   {
    "duration": 1503,
    "start_time": "2022-03-16T16:29:48.576Z"
   },
   {
    "duration": 355,
    "start_time": "2022-03-16T16:30:01.011Z"
   },
   {
    "duration": 4,
    "start_time": "2022-03-16T16:35:54.522Z"
   },
   {
    "duration": 7,
    "start_time": "2022-03-16T16:35:54.527Z"
   },
   {
    "duration": 1287,
    "start_time": "2022-03-16T16:35:54.537Z"
   },
   {
    "duration": 13,
    "start_time": "2022-03-16T16:35:55.826Z"
   },
   {
    "duration": 9,
    "start_time": "2022-03-16T16:35:55.840Z"
   },
   {
    "duration": 4,
    "start_time": "2022-03-16T16:35:55.851Z"
   },
   {
    "duration": 16,
    "start_time": "2022-03-16T16:35:55.856Z"
   },
   {
    "duration": 27,
    "start_time": "2022-03-16T16:35:55.874Z"
   },
   {
    "duration": 20,
    "start_time": "2022-03-16T16:35:55.903Z"
   },
   {
    "duration": 15,
    "start_time": "2022-03-16T16:35:55.926Z"
   },
   {
    "duration": 12,
    "start_time": "2022-03-16T16:35:55.942Z"
   },
   {
    "duration": 85,
    "start_time": "2022-03-16T16:35:55.955Z"
   },
   {
    "duration": 3,
    "start_time": "2022-03-16T16:35:56.042Z"
   },
   {
    "duration": 8,
    "start_time": "2022-03-16T16:35:56.047Z"
   },
   {
    "duration": 339,
    "start_time": "2022-03-16T16:35:56.057Z"
   },
   {
    "duration": 341,
    "start_time": "2022-03-16T16:35:56.398Z"
   },
   {
    "duration": 336,
    "start_time": "2022-03-16T16:35:56.740Z"
   },
   {
    "duration": 38,
    "start_time": "2022-03-16T16:35:57.077Z"
   },
   {
    "duration": 3,
    "start_time": "2022-03-16T16:35:57.116Z"
   },
   {
    "duration": 7,
    "start_time": "2022-03-16T16:35:57.121Z"
   },
   {
    "duration": 1932,
    "start_time": "2022-03-16T16:35:57.129Z"
   },
   {
    "duration": 4,
    "start_time": "2022-03-16T16:35:59.063Z"
   },
   {
    "duration": 1118,
    "start_time": "2022-03-16T16:35:59.068Z"
   },
   {
    "duration": 4,
    "start_time": "2022-03-16T16:36:00.188Z"
   },
   {
    "duration": 489,
    "start_time": "2022-03-16T16:36:00.194Z"
   },
   {
    "duration": 4,
    "start_time": "2022-03-16T16:42:38.181Z"
   },
   {
    "duration": 4,
    "start_time": "2022-03-16T16:42:47.263Z"
   },
   {
    "duration": 43,
    "start_time": "2022-03-16T16:42:47.793Z"
   },
   {
    "duration": 3,
    "start_time": "2022-03-16T16:42:48.307Z"
   },
   {
    "duration": 4,
    "start_time": "2022-03-16T16:44:10.055Z"
   },
   {
    "duration": 45,
    "start_time": "2022-03-16T16:44:10.546Z"
   },
   {
    "duration": 4,
    "start_time": "2022-03-16T16:44:11.114Z"
   },
   {
    "duration": 4,
    "start_time": "2022-03-16T16:44:23.768Z"
   },
   {
    "duration": 6,
    "start_time": "2022-03-16T16:44:23.775Z"
   },
   {
    "duration": 1291,
    "start_time": "2022-03-16T16:44:23.791Z"
   },
   {
    "duration": 24,
    "start_time": "2022-03-16T16:44:25.084Z"
   },
   {
    "duration": 9,
    "start_time": "2022-03-16T16:44:25.110Z"
   },
   {
    "duration": 4,
    "start_time": "2022-03-16T16:44:25.121Z"
   },
   {
    "duration": 14,
    "start_time": "2022-03-16T16:44:25.127Z"
   },
   {
    "duration": 5,
    "start_time": "2022-03-16T16:44:25.143Z"
   },
   {
    "duration": 20,
    "start_time": "2022-03-16T16:44:25.149Z"
   },
   {
    "duration": 46,
    "start_time": "2022-03-16T16:44:25.171Z"
   },
   {
    "duration": 13,
    "start_time": "2022-03-16T16:44:25.219Z"
   },
   {
    "duration": 67,
    "start_time": "2022-03-16T16:44:25.234Z"
   },
   {
    "duration": 3,
    "start_time": "2022-03-16T16:44:25.303Z"
   },
   {
    "duration": 5,
    "start_time": "2022-03-16T16:44:25.308Z"
   },
   {
    "duration": 341,
    "start_time": "2022-03-16T16:44:25.314Z"
   },
   {
    "duration": 332,
    "start_time": "2022-03-16T16:44:25.657Z"
   },
   {
    "duration": 344,
    "start_time": "2022-03-16T16:44:25.991Z"
   },
   {
    "duration": 30,
    "start_time": "2022-03-16T16:44:26.337Z"
   },
   {
    "duration": 4,
    "start_time": "2022-03-16T16:44:26.369Z"
   },
   {
    "duration": 60,
    "start_time": "2022-03-16T16:44:26.375Z"
   },
   {
    "duration": 4,
    "start_time": "2022-03-16T16:44:26.437Z"
   },
   {
    "duration": 6,
    "start_time": "2022-03-16T16:44:26.442Z"
   },
   {
    "duration": 6,
    "start_time": "2022-03-16T16:44:26.450Z"
   },
   {
    "duration": 2030,
    "start_time": "2022-03-16T16:44:26.458Z"
   },
   {
    "duration": 10,
    "start_time": "2022-03-16T16:44:28.491Z"
   },
   {
    "duration": 1198,
    "start_time": "2022-03-16T16:44:28.503Z"
   },
   {
    "duration": 4,
    "start_time": "2022-03-16T16:44:29.703Z"
   },
   {
    "duration": 492,
    "start_time": "2022-03-16T16:44:29.709Z"
   },
   {
    "duration": 262,
    "start_time": "2022-03-16T16:54:48.730Z"
   },
   {
    "duration": 288,
    "start_time": "2022-03-16T16:55:07.831Z"
   },
   {
    "duration": 315,
    "start_time": "2022-03-16T16:55:08.660Z"
   },
   {
    "duration": 277,
    "start_time": "2022-03-16T16:55:09.092Z"
   },
   {
    "duration": 284,
    "start_time": "2022-03-16T16:55:18.488Z"
   },
   {
    "duration": 309,
    "start_time": "2022-03-16T16:55:19.240Z"
   },
   {
    "duration": 286,
    "start_time": "2022-03-16T16:55:20.120Z"
   },
   {
    "duration": 4,
    "start_time": "2022-03-16T16:55:59.940Z"
   },
   {
    "duration": 7,
    "start_time": "2022-03-16T16:55:59.946Z"
   },
   {
    "duration": 1437,
    "start_time": "2022-03-16T16:55:59.954Z"
   },
   {
    "duration": 18,
    "start_time": "2022-03-16T16:56:01.393Z"
   },
   {
    "duration": 10,
    "start_time": "2022-03-16T16:56:01.413Z"
   },
   {
    "duration": 5,
    "start_time": "2022-03-16T16:56:01.424Z"
   },
   {
    "duration": 15,
    "start_time": "2022-03-16T16:56:01.431Z"
   },
   {
    "duration": 5,
    "start_time": "2022-03-16T16:56:01.448Z"
   },
   {
    "duration": 58,
    "start_time": "2022-03-16T16:56:01.455Z"
   },
   {
    "duration": 18,
    "start_time": "2022-03-16T16:56:01.514Z"
   },
   {
    "duration": 12,
    "start_time": "2022-03-16T16:56:01.534Z"
   },
   {
    "duration": 3,
    "start_time": "2022-03-16T16:56:01.548Z"
   },
   {
    "duration": 82,
    "start_time": "2022-03-16T16:56:01.552Z"
   },
   {
    "duration": 4,
    "start_time": "2022-03-16T16:56:01.635Z"
   },
   {
    "duration": 6,
    "start_time": "2022-03-16T16:56:01.640Z"
   },
   {
    "duration": 4,
    "start_time": "2022-03-16T16:56:01.648Z"
   },
   {
    "duration": 359,
    "start_time": "2022-03-16T16:56:01.653Z"
   },
   {
    "duration": 339,
    "start_time": "2022-03-16T16:56:02.015Z"
   },
   {
    "duration": 366,
    "start_time": "2022-03-16T16:56:02.356Z"
   },
   {
    "duration": 31,
    "start_time": "2022-03-16T16:56:02.724Z"
   },
   {
    "duration": 4,
    "start_time": "2022-03-16T16:56:02.756Z"
   },
   {
    "duration": 74,
    "start_time": "2022-03-16T16:56:02.761Z"
   },
   {
    "duration": 3,
    "start_time": "2022-03-16T16:56:02.837Z"
   },
   {
    "duration": 325,
    "start_time": "2022-03-16T16:56:02.841Z"
   },
   {
    "duration": 322,
    "start_time": "2022-03-16T16:56:03.167Z"
   },
   {
    "duration": 348,
    "start_time": "2022-03-16T16:56:03.490Z"
   },
   {
    "duration": 313,
    "start_time": "2022-03-16T16:56:03.840Z"
   },
   {
    "duration": 2,
    "start_time": "2022-03-16T16:56:04.155Z"
   },
   {
    "duration": 7,
    "start_time": "2022-03-16T16:56:04.159Z"
   },
   {
    "duration": 1985,
    "start_time": "2022-03-16T16:56:04.167Z"
   },
   {
    "duration": 6,
    "start_time": "2022-03-16T16:56:06.154Z"
   },
   {
    "duration": 1174,
    "start_time": "2022-03-16T16:56:06.161Z"
   },
   {
    "duration": 4,
    "start_time": "2022-03-16T16:56:07.337Z"
   },
   {
    "duration": 468,
    "start_time": "2022-03-16T16:56:07.343Z"
   },
   {
    "duration": 334,
    "start_time": "2022-03-16T16:58:37.587Z"
   },
   {
    "duration": 4,
    "start_time": "2022-03-16T16:58:42.966Z"
   },
   {
    "duration": 11,
    "start_time": "2022-03-16T16:58:42.972Z"
   },
   {
    "duration": 1378,
    "start_time": "2022-03-16T16:58:42.985Z"
   },
   {
    "duration": 370,
    "start_time": "2022-03-16T16:58:44.365Z"
   },
   {
    "duration": 11,
    "start_time": "2022-03-16T16:58:44.736Z"
   },
   {
    "duration": 9,
    "start_time": "2022-03-16T16:58:44.748Z"
   },
   {
    "duration": 5,
    "start_time": "2022-03-16T16:58:44.759Z"
   },
   {
    "duration": 40,
    "start_time": "2022-03-16T16:58:44.766Z"
   },
   {
    "duration": 5,
    "start_time": "2022-03-16T16:58:44.808Z"
   },
   {
    "duration": 23,
    "start_time": "2022-03-16T16:58:44.814Z"
   },
   {
    "duration": 16,
    "start_time": "2022-03-16T16:58:44.839Z"
   },
   {
    "duration": 13,
    "start_time": "2022-03-16T16:58:44.857Z"
   },
   {
    "duration": 30,
    "start_time": "2022-03-16T16:58:44.872Z"
   },
   {
    "duration": 58,
    "start_time": "2022-03-16T16:58:44.904Z"
   },
   {
    "duration": 4,
    "start_time": "2022-03-16T16:58:44.964Z"
   },
   {
    "duration": 10,
    "start_time": "2022-03-16T16:58:44.970Z"
   },
   {
    "duration": 20,
    "start_time": "2022-03-16T16:58:44.981Z"
   },
   {
    "duration": 350,
    "start_time": "2022-03-16T16:58:45.002Z"
   },
   {
    "duration": 340,
    "start_time": "2022-03-16T16:58:45.355Z"
   },
   {
    "duration": 351,
    "start_time": "2022-03-16T16:58:45.697Z"
   },
   {
    "duration": 31,
    "start_time": "2022-03-16T16:58:46.050Z"
   },
   {
    "duration": 3,
    "start_time": "2022-03-16T16:58:46.083Z"
   },
   {
    "duration": 63,
    "start_time": "2022-03-16T16:58:46.088Z"
   },
   {
    "duration": 3,
    "start_time": "2022-03-16T16:58:46.153Z"
   },
   {
    "duration": 320,
    "start_time": "2022-03-16T16:58:46.158Z"
   },
   {
    "duration": 314,
    "start_time": "2022-03-16T16:58:46.480Z"
   },
   {
    "duration": 349,
    "start_time": "2022-03-16T16:58:46.796Z"
   },
   {
    "duration": 308,
    "start_time": "2022-03-16T16:58:47.147Z"
   },
   {
    "duration": 3,
    "start_time": "2022-03-16T16:58:47.456Z"
   },
   {
    "duration": 7,
    "start_time": "2022-03-16T16:58:47.460Z"
   },
   {
    "duration": 1933,
    "start_time": "2022-03-16T16:58:47.469Z"
   },
   {
    "duration": 5,
    "start_time": "2022-03-16T16:58:49.404Z"
   },
   {
    "duration": 1201,
    "start_time": "2022-03-16T16:58:49.411Z"
   },
   {
    "duration": 4,
    "start_time": "2022-03-16T16:58:50.614Z"
   },
   {
    "duration": 511,
    "start_time": "2022-03-16T16:58:50.620Z"
   },
   {
    "duration": 1899,
    "start_time": "2022-03-17T07:14:35.788Z"
   },
   {
    "duration": 4,
    "start_time": "2022-03-17T07:14:37.689Z"
   },
   {
    "duration": 1657,
    "start_time": "2022-03-17T07:14:37.694Z"
   },
   {
    "duration": 604,
    "start_time": "2022-03-17T07:14:39.354Z"
   },
   {
    "duration": 12,
    "start_time": "2022-03-17T07:14:39.960Z"
   },
   {
    "duration": 8,
    "start_time": "2022-03-17T07:14:39.981Z"
   },
   {
    "duration": 6,
    "start_time": "2022-03-17T07:14:39.991Z"
   },
   {
    "duration": 22,
    "start_time": "2022-03-17T07:14:39.998Z"
   },
   {
    "duration": 6,
    "start_time": "2022-03-17T07:14:40.021Z"
   },
   {
    "duration": 55,
    "start_time": "2022-03-17T07:14:40.029Z"
   },
   {
    "duration": 18,
    "start_time": "2022-03-17T07:14:40.085Z"
   },
   {
    "duration": 16,
    "start_time": "2022-03-17T07:14:40.105Z"
   },
   {
    "duration": 4,
    "start_time": "2022-03-17T07:14:40.122Z"
   },
   {
    "duration": 110,
    "start_time": "2022-03-17T07:14:40.127Z"
   },
   {
    "duration": 4,
    "start_time": "2022-03-17T07:14:40.239Z"
   },
   {
    "duration": 7,
    "start_time": "2022-03-17T07:14:40.245Z"
   },
   {
    "duration": 6,
    "start_time": "2022-03-17T07:14:40.253Z"
   },
   {
    "duration": 417,
    "start_time": "2022-03-17T07:14:40.260Z"
   },
   {
    "duration": 386,
    "start_time": "2022-03-17T07:14:40.682Z"
   },
   {
    "duration": 401,
    "start_time": "2022-03-17T07:14:41.070Z"
   },
   {
    "duration": 52,
    "start_time": "2022-03-17T07:14:41.473Z"
   },
   {
    "duration": 4,
    "start_time": "2022-03-17T07:14:41.527Z"
   },
   {
    "duration": 67,
    "start_time": "2022-03-17T07:14:41.533Z"
   },
   {
    "duration": 3,
    "start_time": "2022-03-17T07:14:41.602Z"
   },
   {
    "duration": 326,
    "start_time": "2022-03-17T07:14:41.607Z"
   },
   {
    "duration": 316,
    "start_time": "2022-03-17T07:14:41.935Z"
   },
   {
    "duration": 345,
    "start_time": "2022-03-17T07:14:42.252Z"
   },
   {
    "duration": 307,
    "start_time": "2022-03-17T07:14:42.600Z"
   },
   {
    "duration": 3,
    "start_time": "2022-03-17T07:14:42.908Z"
   },
   {
    "duration": 8,
    "start_time": "2022-03-17T07:14:42.913Z"
   },
   {
    "duration": 4471,
    "start_time": "2022-03-17T07:14:42.922Z"
   },
   {
    "duration": 4,
    "start_time": "2022-03-17T07:14:47.395Z"
   },
   {
    "duration": 924,
    "start_time": "2022-03-17T07:14:47.401Z"
   },
   {
    "duration": 5,
    "start_time": "2022-03-17T07:14:48.327Z"
   },
   {
    "duration": 589,
    "start_time": "2022-03-17T07:14:48.334Z"
   },
   {
    "duration": 14,
    "start_time": "2022-03-17T07:14:51.693Z"
   },
   {
    "duration": 4,
    "start_time": "2022-03-17T07:14:54.652Z"
   },
   {
    "duration": 4,
    "start_time": "2022-03-17T07:14:58.847Z"
   },
   {
    "duration": 8,
    "start_time": "2022-03-17T07:14:58.853Z"
   },
   {
    "duration": 2542,
    "start_time": "2022-03-17T07:14:58.863Z"
   },
   {
    "duration": 612,
    "start_time": "2022-03-17T07:15:01.407Z"
   },
   {
    "duration": 13,
    "start_time": "2022-03-17T07:15:02.022Z"
   },
   {
    "duration": 10,
    "start_time": "2022-03-17T07:15:02.036Z"
   },
   {
    "duration": 6,
    "start_time": "2022-03-17T07:15:02.048Z"
   },
   {
    "duration": 40,
    "start_time": "2022-03-17T07:15:02.055Z"
   },
   {
    "duration": 6,
    "start_time": "2022-03-17T07:15:02.097Z"
   },
   {
    "duration": 27,
    "start_time": "2022-03-17T07:15:02.104Z"
   },
   {
    "duration": 15,
    "start_time": "2022-03-17T07:15:02.133Z"
   },
   {
    "duration": 42,
    "start_time": "2022-03-17T07:15:02.149Z"
   },
   {
    "duration": 3,
    "start_time": "2022-03-17T07:15:02.193Z"
   },
   {
    "duration": 62,
    "start_time": "2022-03-17T07:15:02.198Z"
   },
   {
    "duration": 4,
    "start_time": "2022-03-17T07:15:02.262Z"
   },
   {
    "duration": 4,
    "start_time": "2022-03-17T07:15:02.280Z"
   },
   {
    "duration": 11,
    "start_time": "2022-03-17T07:15:02.286Z"
   },
   {
    "duration": 250,
    "start_time": "2022-03-17T07:15:02.298Z"
   },
   {
    "duration": 252,
    "start_time": "2022-03-17T07:15:02.549Z"
   },
   {
    "duration": 249,
    "start_time": "2022-03-17T07:15:02.803Z"
   },
   {
    "duration": 41,
    "start_time": "2022-03-17T07:15:03.054Z"
   },
   {
    "duration": 4,
    "start_time": "2022-03-17T07:15:03.097Z"
   },
   {
    "duration": 61,
    "start_time": "2022-03-17T07:15:03.103Z"
   },
   {
    "duration": 15,
    "start_time": "2022-03-17T07:15:03.166Z"
   },
   {
    "duration": 353,
    "start_time": "2022-03-17T07:15:03.183Z"
   },
   {
    "duration": 444,
    "start_time": "2022-03-17T07:15:03.538Z"
   },
   {
    "duration": 644,
    "start_time": "2022-03-17T07:15:03.984Z"
   },
   {
    "duration": 403,
    "start_time": "2022-03-17T07:15:04.629Z"
   },
   {
    "duration": 3,
    "start_time": "2022-03-17T07:15:05.035Z"
   },
   {
    "duration": 12,
    "start_time": "2022-03-17T07:15:05.039Z"
   },
   {
    "duration": 4601,
    "start_time": "2022-03-17T07:15:05.052Z"
   },
   {
    "duration": 5,
    "start_time": "2022-03-17T07:15:09.654Z"
   },
   {
    "duration": 806,
    "start_time": "2022-03-17T07:15:09.660Z"
   },
   {
    "duration": 4,
    "start_time": "2022-03-17T07:15:10.468Z"
   },
   {
    "duration": 564,
    "start_time": "2022-03-17T07:15:10.473Z"
   },
   {
    "duration": 318,
    "start_time": "2022-03-17T07:18:17.096Z"
   },
   {
    "duration": 4,
    "start_time": "2022-03-17T07:19:07.260Z"
   },
   {
    "duration": 5,
    "start_time": "2022-03-17T07:19:07.469Z"
   },
   {
    "duration": 1482,
    "start_time": "2022-03-17T07:19:07.684Z"
   },
   {
    "duration": 443,
    "start_time": "2022-03-17T07:19:09.168Z"
   },
   {
    "duration": 396,
    "start_time": "2022-03-17T07:20:02.248Z"
   },
   {
    "duration": 5,
    "start_time": "2022-03-17T07:20:08.542Z"
   },
   {
    "duration": 8,
    "start_time": "2022-03-17T07:20:08.549Z"
   },
   {
    "duration": 1593,
    "start_time": "2022-03-17T07:20:08.559Z"
   },
   {
    "duration": 392,
    "start_time": "2022-03-17T07:20:10.155Z"
   },
   {
    "duration": 12,
    "start_time": "2022-03-17T07:20:10.549Z"
   },
   {
    "duration": 22,
    "start_time": "2022-03-17T07:20:10.563Z"
   },
   {
    "duration": 6,
    "start_time": "2022-03-17T07:20:10.586Z"
   },
   {
    "duration": 17,
    "start_time": "2022-03-17T07:20:10.594Z"
   },
   {
    "duration": 5,
    "start_time": "2022-03-17T07:20:10.614Z"
   },
   {
    "duration": 21,
    "start_time": "2022-03-17T07:20:10.621Z"
   },
   {
    "duration": 16,
    "start_time": "2022-03-17T07:20:10.681Z"
   },
   {
    "duration": 15,
    "start_time": "2022-03-17T07:20:10.698Z"
   },
   {
    "duration": 5,
    "start_time": "2022-03-17T07:20:10.715Z"
   },
   {
    "duration": 88,
    "start_time": "2022-03-17T07:20:10.721Z"
   },
   {
    "duration": 3,
    "start_time": "2022-03-17T07:20:10.811Z"
   },
   {
    "duration": 5,
    "start_time": "2022-03-17T07:20:10.815Z"
   },
   {
    "duration": 5,
    "start_time": "2022-03-17T07:20:10.822Z"
   },
   {
    "duration": 380,
    "start_time": "2022-03-17T07:20:10.828Z"
   },
   {
    "duration": 271,
    "start_time": "2022-03-17T07:20:11.210Z"
   },
   {
    "duration": 268,
    "start_time": "2022-03-17T07:20:11.482Z"
   },
   {
    "duration": 37,
    "start_time": "2022-03-17T07:20:11.751Z"
   },
   {
    "duration": 3,
    "start_time": "2022-03-17T07:20:11.790Z"
   },
   {
    "duration": 63,
    "start_time": "2022-03-17T07:20:11.795Z"
   },
   {
    "duration": 4,
    "start_time": "2022-03-17T07:20:11.861Z"
   },
   {
    "duration": 361,
    "start_time": "2022-03-17T07:20:11.866Z"
   },
   {
    "duration": 348,
    "start_time": "2022-03-17T07:20:12.229Z"
   },
   {
    "duration": 382,
    "start_time": "2022-03-17T07:20:12.581Z"
   },
   {
    "duration": 366,
    "start_time": "2022-03-17T07:20:12.964Z"
   },
   {
    "duration": 3,
    "start_time": "2022-03-17T07:20:13.331Z"
   },
   {
    "duration": 38,
    "start_time": "2022-03-17T07:20:13.335Z"
   },
   {
    "duration": 4566,
    "start_time": "2022-03-17T07:20:13.375Z"
   },
   {
    "duration": 5,
    "start_time": "2022-03-17T07:20:17.942Z"
   },
   {
    "duration": 832,
    "start_time": "2022-03-17T07:20:17.949Z"
   },
   {
    "duration": 4,
    "start_time": "2022-03-17T07:20:18.783Z"
   },
   {
    "duration": 922,
    "start_time": "2022-03-17T07:20:18.789Z"
   },
   {
    "duration": 128,
    "start_time": "2022-03-17T07:21:40.907Z"
   },
   {
    "duration": 122,
    "start_time": "2022-03-17T07:21:52.438Z"
   },
   {
    "duration": 7,
    "start_time": "2022-03-17T07:22:18.889Z"
   },
   {
    "duration": 4,
    "start_time": "2022-03-17T07:22:25.466Z"
   },
   {
    "duration": 8,
    "start_time": "2022-03-17T07:22:25.472Z"
   },
   {
    "duration": 1462,
    "start_time": "2022-03-17T07:22:25.481Z"
   },
   {
    "duration": 12,
    "start_time": "2022-03-17T07:22:26.945Z"
   },
   {
    "duration": 23,
    "start_time": "2022-03-17T07:22:26.959Z"
   },
   {
    "duration": 5,
    "start_time": "2022-03-17T07:22:26.983Z"
   },
   {
    "duration": 17,
    "start_time": "2022-03-17T07:22:26.990Z"
   },
   {
    "duration": 5,
    "start_time": "2022-03-17T07:22:27.009Z"
   },
   {
    "duration": 26,
    "start_time": "2022-03-17T07:22:27.015Z"
   },
   {
    "duration": 39,
    "start_time": "2022-03-17T07:22:27.043Z"
   },
   {
    "duration": 14,
    "start_time": "2022-03-17T07:22:27.084Z"
   },
   {
    "duration": 4,
    "start_time": "2022-03-17T07:22:27.100Z"
   },
   {
    "duration": 76,
    "start_time": "2022-03-17T07:22:27.105Z"
   },
   {
    "duration": 4,
    "start_time": "2022-03-17T07:22:27.182Z"
   },
   {
    "duration": 6,
    "start_time": "2022-03-17T07:22:27.187Z"
   },
   {
    "duration": 8,
    "start_time": "2022-03-17T07:22:27.194Z"
   },
   {
    "duration": 136,
    "start_time": "2022-03-17T07:22:27.203Z"
   },
   {
    "duration": 250,
    "start_time": "2022-03-17T07:22:27.341Z"
   },
   {
    "duration": 248,
    "start_time": "2022-03-17T07:22:27.593Z"
   },
   {
    "duration": 247,
    "start_time": "2022-03-17T07:22:27.843Z"
   },
   {
    "duration": 30,
    "start_time": "2022-03-17T07:22:28.091Z"
   },
   {
    "duration": 136,
    "start_time": "2022-03-17T07:22:28.123Z"
   },
   {
    "duration": 3,
    "start_time": "2022-03-17T07:22:28.261Z"
   },
   {
    "duration": 65,
    "start_time": "2022-03-17T07:22:28.265Z"
   },
   {
    "duration": 3,
    "start_time": "2022-03-17T07:22:28.331Z"
   },
   {
    "duration": 330,
    "start_time": "2022-03-17T07:22:28.336Z"
   },
   {
    "duration": 401,
    "start_time": "2022-03-17T07:22:28.668Z"
   },
   {
    "duration": 351,
    "start_time": "2022-03-17T07:22:29.070Z"
   },
   {
    "duration": 3,
    "start_time": "2022-03-17T07:22:29.424Z"
   },
   {
    "duration": 9,
    "start_time": "2022-03-17T07:22:29.429Z"
   },
   {
    "duration": 4868,
    "start_time": "2022-03-17T07:22:29.440Z"
   },
   {
    "duration": 5,
    "start_time": "2022-03-17T07:22:34.309Z"
   },
   {
    "duration": 832,
    "start_time": "2022-03-17T07:22:34.315Z"
   },
   {
    "duration": 4,
    "start_time": "2022-03-17T07:22:35.149Z"
   },
   {
    "duration": 574,
    "start_time": "2022-03-17T07:22:35.155Z"
   },
   {
    "duration": 10,
    "start_time": "2022-03-17T07:23:33.631Z"
   },
   {
    "duration": 7,
    "start_time": "2022-03-17T07:23:34.341Z"
   },
   {
    "duration": 4,
    "start_time": "2022-03-17T07:23:53.698Z"
   },
   {
    "duration": 10,
    "start_time": "2022-03-17T07:23:53.704Z"
   },
   {
    "duration": 1443,
    "start_time": "2022-03-17T07:23:53.715Z"
   },
   {
    "duration": 21,
    "start_time": "2022-03-17T07:23:55.161Z"
   },
   {
    "duration": 7,
    "start_time": "2022-03-17T07:23:55.184Z"
   },
   {
    "duration": 5,
    "start_time": "2022-03-17T07:23:55.193Z"
   },
   {
    "duration": 19,
    "start_time": "2022-03-17T07:23:55.200Z"
   },
   {
    "duration": 6,
    "start_time": "2022-03-17T07:23:55.221Z"
   },
   {
    "duration": 55,
    "start_time": "2022-03-17T07:23:55.230Z"
   },
   {
    "duration": 19,
    "start_time": "2022-03-17T07:23:55.286Z"
   },
   {
    "duration": 17,
    "start_time": "2022-03-17T07:23:55.306Z"
   },
   {
    "duration": 4,
    "start_time": "2022-03-17T07:23:55.325Z"
   },
   {
    "duration": 117,
    "start_time": "2022-03-17T07:23:55.331Z"
   },
   {
    "duration": 4,
    "start_time": "2022-03-17T07:23:55.450Z"
   },
   {
    "duration": 6,
    "start_time": "2022-03-17T07:23:55.456Z"
   },
   {
    "duration": 18,
    "start_time": "2022-03-17T07:23:55.463Z"
   },
   {
    "duration": 128,
    "start_time": "2022-03-17T07:23:55.482Z"
   },
   {
    "duration": 251,
    "start_time": "2022-03-17T07:23:55.612Z"
   },
   {
    "duration": 253,
    "start_time": "2022-03-17T07:23:55.865Z"
   },
   {
    "duration": 257,
    "start_time": "2022-03-17T07:23:56.120Z"
   },
   {
    "duration": 33,
    "start_time": "2022-03-17T07:23:56.378Z"
   },
   {
    "duration": 133,
    "start_time": "2022-03-17T07:23:56.412Z"
   },
   {
    "duration": 3,
    "start_time": "2022-03-17T07:23:56.547Z"
   },
   {
    "duration": 72,
    "start_time": "2022-03-17T07:23:56.553Z"
   },
   {
    "duration": 4,
    "start_time": "2022-03-17T07:23:56.627Z"
   },
   {
    "duration": 350,
    "start_time": "2022-03-17T07:23:56.632Z"
   },
   {
    "duration": 371,
    "start_time": "2022-03-17T07:23:56.984Z"
   },
   {
    "duration": 345,
    "start_time": "2022-03-17T07:23:57.357Z"
   },
   {
    "duration": 2,
    "start_time": "2022-03-17T07:23:57.704Z"
   },
   {
    "duration": 8,
    "start_time": "2022-03-17T07:23:57.708Z"
   },
   {
    "duration": 4485,
    "start_time": "2022-03-17T07:23:57.717Z"
   },
   {
    "duration": 6,
    "start_time": "2022-03-17T07:24:02.204Z"
   },
   {
    "duration": 1156,
    "start_time": "2022-03-17T07:24:02.212Z"
   },
   {
    "duration": 4,
    "start_time": "2022-03-17T07:24:03.370Z"
   },
   {
    "duration": 578,
    "start_time": "2022-03-17T07:24:03.375Z"
   },
   {
    "duration": 4,
    "start_time": "2022-03-17T07:32:32.296Z"
   },
   {
    "duration": 14,
    "start_time": "2022-03-17T07:32:32.302Z"
   },
   {
    "duration": 1581,
    "start_time": "2022-03-17T07:32:32.318Z"
   },
   {
    "duration": 12,
    "start_time": "2022-03-17T07:32:33.900Z"
   },
   {
    "duration": 7,
    "start_time": "2022-03-17T07:32:33.914Z"
   },
   {
    "duration": 9,
    "start_time": "2022-03-17T07:32:33.923Z"
   },
   {
    "duration": 21,
    "start_time": "2022-03-17T07:32:33.934Z"
   },
   {
    "duration": 26,
    "start_time": "2022-03-17T07:32:33.956Z"
   },
   {
    "duration": 24,
    "start_time": "2022-03-17T07:32:33.984Z"
   },
   {
    "duration": 15,
    "start_time": "2022-03-17T07:32:34.010Z"
   },
   {
    "duration": 14,
    "start_time": "2022-03-17T07:32:34.028Z"
   },
   {
    "duration": 9,
    "start_time": "2022-03-17T07:32:34.044Z"
   },
   {
    "duration": 65,
    "start_time": "2022-03-17T07:32:34.081Z"
   },
   {
    "duration": 4,
    "start_time": "2022-03-17T07:32:34.148Z"
   },
   {
    "duration": 5,
    "start_time": "2022-03-17T07:32:34.154Z"
   },
   {
    "duration": 20,
    "start_time": "2022-03-17T07:32:34.161Z"
   },
   {
    "duration": 145,
    "start_time": "2022-03-17T07:32:34.182Z"
   },
   {
    "duration": 269,
    "start_time": "2022-03-17T07:32:34.329Z"
   },
   {
    "duration": 248,
    "start_time": "2022-03-17T07:32:34.600Z"
   },
   {
    "duration": 251,
    "start_time": "2022-03-17T07:32:34.849Z"
   },
   {
    "duration": 32,
    "start_time": "2022-03-17T07:32:35.101Z"
   },
   {
    "duration": 150,
    "start_time": "2022-03-17T07:32:35.135Z"
   },
   {
    "duration": 3,
    "start_time": "2022-03-17T07:32:35.287Z"
   },
   {
    "duration": 59,
    "start_time": "2022-03-17T07:32:35.292Z"
   },
   {
    "duration": 4,
    "start_time": "2022-03-17T07:32:35.353Z"
   },
   {
    "duration": 375,
    "start_time": "2022-03-17T07:32:35.359Z"
   },
   {
    "duration": 414,
    "start_time": "2022-03-17T07:32:35.736Z"
   },
   {
    "duration": 367,
    "start_time": "2022-03-17T07:32:36.152Z"
   },
   {
    "duration": 3,
    "start_time": "2022-03-17T07:32:36.521Z"
   },
   {
    "duration": 12,
    "start_time": "2022-03-17T07:32:36.526Z"
   },
   {
    "duration": 4773,
    "start_time": "2022-03-17T07:32:36.539Z"
   },
   {
    "duration": 4,
    "start_time": "2022-03-17T07:32:41.314Z"
   },
   {
    "duration": 798,
    "start_time": "2022-03-17T07:32:41.319Z"
   },
   {
    "duration": 3,
    "start_time": "2022-03-17T07:32:42.119Z"
   },
   {
    "duration": 578,
    "start_time": "2022-03-17T07:32:42.124Z"
   },
   {
    "duration": 4,
    "start_time": "2022-03-17T07:35:24.686Z"
   },
   {
    "duration": 11,
    "start_time": "2022-03-17T07:35:24.692Z"
   },
   {
    "duration": 1570,
    "start_time": "2022-03-17T07:35:24.705Z"
   },
   {
    "duration": 16,
    "start_time": "2022-03-17T07:35:26.277Z"
   },
   {
    "duration": 9,
    "start_time": "2022-03-17T07:35:26.296Z"
   },
   {
    "duration": 6,
    "start_time": "2022-03-17T07:35:26.307Z"
   },
   {
    "duration": 22,
    "start_time": "2022-03-17T07:35:26.315Z"
   },
   {
    "duration": 6,
    "start_time": "2022-03-17T07:35:26.339Z"
   },
   {
    "duration": 49,
    "start_time": "2022-03-17T07:35:26.347Z"
   },
   {
    "duration": 15,
    "start_time": "2022-03-17T07:35:26.398Z"
   },
   {
    "duration": 14,
    "start_time": "2022-03-17T07:35:26.415Z"
   },
   {
    "duration": 4,
    "start_time": "2022-03-17T07:35:26.431Z"
   },
   {
    "duration": 99,
    "start_time": "2022-03-17T07:35:26.436Z"
   },
   {
    "duration": 4,
    "start_time": "2022-03-17T07:35:26.536Z"
   },
   {
    "duration": 5,
    "start_time": "2022-03-17T07:35:26.542Z"
   },
   {
    "duration": 9,
    "start_time": "2022-03-17T07:35:26.549Z"
   },
   {
    "duration": 74,
    "start_time": "2022-03-17T07:35:26.559Z"
   },
   {
    "duration": 4,
    "start_time": "2022-03-17T07:35:26.634Z"
   },
   {
    "duration": 5,
    "start_time": "2022-03-17T07:35:26.640Z"
   },
   {
    "duration": 138,
    "start_time": "2022-03-17T07:35:26.646Z"
   },
   {
    "duration": 239,
    "start_time": "2022-03-17T07:35:26.786Z"
   },
   {
    "duration": 249,
    "start_time": "2022-03-17T07:35:27.027Z"
   },
   {
    "duration": 256,
    "start_time": "2022-03-17T07:35:27.278Z"
   },
   {
    "duration": 28,
    "start_time": "2022-03-17T07:35:27.536Z"
   },
   {
    "duration": 132,
    "start_time": "2022-03-17T07:35:27.566Z"
   },
   {
    "duration": 349,
    "start_time": "2022-03-17T07:35:27.700Z"
   },
   {
    "duration": 377,
    "start_time": "2022-03-17T07:35:28.051Z"
   },
   {
    "duration": 326,
    "start_time": "2022-03-17T07:35:28.430Z"
   },
   {
    "duration": 3,
    "start_time": "2022-03-17T07:35:28.760Z"
   },
   {
    "duration": 19,
    "start_time": "2022-03-17T07:35:28.764Z"
   },
   {
    "duration": 5048,
    "start_time": "2022-03-17T07:35:28.784Z"
   },
   {
    "duration": 6,
    "start_time": "2022-03-17T07:35:33.834Z"
   },
   {
    "duration": 1220,
    "start_time": "2022-03-17T07:35:33.842Z"
   },
   {
    "duration": 4,
    "start_time": "2022-03-17T07:35:35.063Z"
   },
   {
    "duration": 891,
    "start_time": "2022-03-17T07:35:35.081Z"
   },
   {
    "duration": 5,
    "start_time": "2022-03-17T07:38:34.317Z"
   },
   {
    "duration": 13,
    "start_time": "2022-03-17T07:38:34.324Z"
   },
   {
    "duration": 1526,
    "start_time": "2022-03-17T07:38:34.339Z"
   },
   {
    "duration": 24,
    "start_time": "2022-03-17T07:38:35.867Z"
   },
   {
    "duration": 8,
    "start_time": "2022-03-17T07:38:35.893Z"
   },
   {
    "duration": 4,
    "start_time": "2022-03-17T07:38:35.903Z"
   },
   {
    "duration": 17,
    "start_time": "2022-03-17T07:38:35.909Z"
   },
   {
    "duration": 7,
    "start_time": "2022-03-17T07:38:35.927Z"
   },
   {
    "duration": 46,
    "start_time": "2022-03-17T07:38:35.936Z"
   },
   {
    "duration": 18,
    "start_time": "2022-03-17T07:38:35.983Z"
   },
   {
    "duration": 15,
    "start_time": "2022-03-17T07:38:36.003Z"
   },
   {
    "duration": 4,
    "start_time": "2022-03-17T07:38:36.019Z"
   },
   {
    "duration": 87,
    "start_time": "2022-03-17T07:38:36.025Z"
   },
   {
    "duration": 4,
    "start_time": "2022-03-17T07:38:36.113Z"
   },
   {
    "duration": 10,
    "start_time": "2022-03-17T07:38:36.118Z"
   },
   {
    "duration": 7,
    "start_time": "2022-03-17T07:38:36.129Z"
   },
   {
    "duration": 64,
    "start_time": "2022-03-17T07:38:36.137Z"
   },
   {
    "duration": 4,
    "start_time": "2022-03-17T07:38:36.202Z"
   },
   {
    "duration": 6,
    "start_time": "2022-03-17T07:38:36.207Z"
   },
   {
    "duration": 126,
    "start_time": "2022-03-17T07:38:36.215Z"
   },
   {
    "duration": 243,
    "start_time": "2022-03-17T07:38:36.343Z"
   },
   {
    "duration": 227,
    "start_time": "2022-03-17T07:38:36.587Z"
   },
   {
    "duration": 242,
    "start_time": "2022-03-17T07:38:36.816Z"
   },
   {
    "duration": 32,
    "start_time": "2022-03-17T07:38:37.062Z"
   },
   {
    "duration": 119,
    "start_time": "2022-03-17T07:38:37.095Z"
   },
   {
    "duration": 328,
    "start_time": "2022-03-17T07:38:37.216Z"
   },
   {
    "duration": 357,
    "start_time": "2022-03-17T07:38:37.546Z"
   },
   {
    "duration": 328,
    "start_time": "2022-03-17T07:38:37.905Z"
   },
   {
    "duration": 3,
    "start_time": "2022-03-17T07:38:38.234Z"
   },
   {
    "duration": 11,
    "start_time": "2022-03-17T07:38:38.239Z"
   },
   {
    "duration": 4187,
    "start_time": "2022-03-17T07:38:38.251Z"
   },
   {
    "duration": 5,
    "start_time": "2022-03-17T07:38:42.440Z"
   },
   {
    "duration": 774,
    "start_time": "2022-03-17T07:38:42.446Z"
   },
   {
    "duration": 5,
    "start_time": "2022-03-17T07:38:43.222Z"
   },
   {
    "duration": 865,
    "start_time": "2022-03-17T07:38:43.228Z"
   },
   {
    "duration": 4,
    "start_time": "2022-03-17T07:40:31.188Z"
   },
   {
    "duration": 49,
    "start_time": "2022-03-17T07:40:31.195Z"
   },
   {
    "duration": 1529,
    "start_time": "2022-03-17T07:40:31.246Z"
   },
   {
    "duration": 15,
    "start_time": "2022-03-17T07:40:32.776Z"
   },
   {
    "duration": 31,
    "start_time": "2022-03-17T07:40:32.794Z"
   },
   {
    "duration": 29,
    "start_time": "2022-03-17T07:40:32.827Z"
   },
   {
    "duration": 36,
    "start_time": "2022-03-17T07:40:32.857Z"
   },
   {
    "duration": 16,
    "start_time": "2022-03-17T07:40:32.894Z"
   },
   {
    "duration": 49,
    "start_time": "2022-03-17T07:40:32.912Z"
   },
   {
    "duration": 39,
    "start_time": "2022-03-17T07:40:32.962Z"
   },
   {
    "duration": 24,
    "start_time": "2022-03-17T07:40:33.002Z"
   },
   {
    "duration": 14,
    "start_time": "2022-03-17T07:40:33.028Z"
   },
   {
    "duration": 85,
    "start_time": "2022-03-17T07:40:33.044Z"
   },
   {
    "duration": 4,
    "start_time": "2022-03-17T07:40:33.131Z"
   },
   {
    "duration": 25,
    "start_time": "2022-03-17T07:40:33.137Z"
   },
   {
    "duration": 35,
    "start_time": "2022-03-17T07:40:33.163Z"
   },
   {
    "duration": 82,
    "start_time": "2022-03-17T07:40:33.199Z"
   },
   {
    "duration": 5,
    "start_time": "2022-03-17T07:40:33.282Z"
   },
   {
    "duration": 18,
    "start_time": "2022-03-17T07:40:33.288Z"
   },
   {
    "duration": 148,
    "start_time": "2022-03-17T07:40:33.307Z"
   },
   {
    "duration": 258,
    "start_time": "2022-03-17T07:40:33.457Z"
   },
   {
    "duration": 238,
    "start_time": "2022-03-17T07:40:33.716Z"
   },
   {
    "duration": 237,
    "start_time": "2022-03-17T07:40:33.955Z"
   },
   {
    "duration": 29,
    "start_time": "2022-03-17T07:40:34.194Z"
   },
   {
    "duration": 124,
    "start_time": "2022-03-17T07:40:34.225Z"
   },
   {
    "duration": 347,
    "start_time": "2022-03-17T07:40:34.350Z"
   },
   {
    "duration": 365,
    "start_time": "2022-03-17T07:40:34.698Z"
   },
   {
    "duration": 332,
    "start_time": "2022-03-17T07:40:35.065Z"
   },
   {
    "duration": 3,
    "start_time": "2022-03-17T07:40:35.399Z"
   },
   {
    "duration": 11,
    "start_time": "2022-03-17T07:40:35.403Z"
   },
   {
    "duration": 4125,
    "start_time": "2022-03-17T07:40:35.416Z"
   },
   {
    "duration": 5,
    "start_time": "2022-03-17T07:40:39.542Z"
   },
   {
    "duration": 814,
    "start_time": "2022-03-17T07:40:39.548Z"
   },
   {
    "duration": 4,
    "start_time": "2022-03-17T07:40:40.363Z"
   },
   {
    "duration": 578,
    "start_time": "2022-03-17T07:40:40.369Z"
   },
   {
    "duration": 4,
    "start_time": "2022-03-17T07:41:24.434Z"
   },
   {
    "duration": 5,
    "start_time": "2022-03-17T07:41:24.592Z"
   },
   {
    "duration": 1638,
    "start_time": "2022-03-17T07:41:24.758Z"
   },
   {
    "duration": 12,
    "start_time": "2022-03-17T07:41:26.398Z"
   },
   {
    "duration": 8,
    "start_time": "2022-03-17T07:41:26.412Z"
   },
   {
    "duration": 5,
    "start_time": "2022-03-17T07:41:26.422Z"
   },
   {
    "duration": 20,
    "start_time": "2022-03-17T07:41:26.428Z"
   },
   {
    "duration": 35,
    "start_time": "2022-03-17T07:41:26.449Z"
   },
   {
    "duration": 22,
    "start_time": "2022-03-17T07:41:26.558Z"
   },
   {
    "duration": 16,
    "start_time": "2022-03-17T07:41:26.733Z"
   },
   {
    "duration": 14,
    "start_time": "2022-03-17T07:41:27.857Z"
   },
   {
    "duration": 5,
    "start_time": "2022-03-17T07:41:46.482Z"
   },
   {
    "duration": 9,
    "start_time": "2022-03-17T07:41:55.105Z"
   },
   {
    "duration": 6,
    "start_time": "2022-03-17T07:42:10.395Z"
   },
   {
    "duration": 5,
    "start_time": "2022-03-17T07:42:14.636Z"
   },
   {
    "duration": 5,
    "start_time": "2022-03-17T07:42:31.404Z"
   },
   {
    "duration": 13,
    "start_time": "2022-03-17T07:42:36.987Z"
   },
   {
    "duration": 89,
    "start_time": "2022-03-17T07:43:39.213Z"
   },
   {
    "duration": 4,
    "start_time": "2022-03-17T07:45:34.682Z"
   },
   {
    "duration": 5,
    "start_time": "2022-03-17T07:45:34.873Z"
   },
   {
    "duration": 1598,
    "start_time": "2022-03-17T07:45:35.055Z"
   },
   {
    "duration": 12,
    "start_time": "2022-03-17T07:45:36.655Z"
   },
   {
    "duration": 8,
    "start_time": "2022-03-17T07:45:36.681Z"
   },
   {
    "duration": 5,
    "start_time": "2022-03-17T07:45:36.690Z"
   },
   {
    "duration": 21,
    "start_time": "2022-03-17T07:45:36.697Z"
   },
   {
    "duration": 6,
    "start_time": "2022-03-17T07:45:37.013Z"
   },
   {
    "duration": 21,
    "start_time": "2022-03-17T07:45:38.279Z"
   },
   {
    "duration": 16,
    "start_time": "2022-03-17T07:45:39.003Z"
   },
   {
    "duration": 15,
    "start_time": "2022-03-17T07:45:40.513Z"
   },
   {
    "duration": 4,
    "start_time": "2022-03-17T07:45:42.090Z"
   },
   {
    "duration": 64,
    "start_time": "2022-03-17T07:45:42.589Z"
   },
   {
    "duration": 4,
    "start_time": "2022-03-17T07:45:43.714Z"
   },
   {
    "duration": 2,
    "start_time": "2022-03-17T07:45:44.284Z"
   },
   {
    "duration": 4,
    "start_time": "2022-03-17T07:45:48.806Z"
   },
   {
    "duration": 57,
    "start_time": "2022-03-17T07:45:49.776Z"
   },
   {
    "duration": 49,
    "start_time": "2022-03-17T07:46:02.886Z"
   },
   {
    "duration": 49,
    "start_time": "2022-03-17T07:46:18.101Z"
   },
   {
    "duration": 48,
    "start_time": "2022-03-17T07:46:27.306Z"
   },
   {
    "duration": 47,
    "start_time": "2022-03-17T07:46:33.966Z"
   },
   {
    "duration": 5,
    "start_time": "2022-03-17T07:47:20.954Z"
   },
   {
    "duration": 46,
    "start_time": "2022-03-17T07:47:32.425Z"
   },
   {
    "duration": 52,
    "start_time": "2022-03-17T07:48:05.521Z"
   },
   {
    "duration": 24,
    "start_time": "2022-03-17T07:48:13.208Z"
   },
   {
    "duration": 32,
    "start_time": "2022-03-17T07:48:24.846Z"
   },
   {
    "duration": 27,
    "start_time": "2022-03-17T07:48:31.899Z"
   },
   {
    "duration": 32,
    "start_time": "2022-03-17T07:48:37.420Z"
   },
   {
    "duration": 34,
    "start_time": "2022-03-17T07:48:42.645Z"
   },
   {
    "duration": 59,
    "start_time": "2022-03-17T07:48:52.592Z"
   },
   {
    "duration": 62,
    "start_time": "2022-03-17T07:48:58.201Z"
   },
   {
    "duration": 62,
    "start_time": "2022-03-17T07:49:03.303Z"
   },
   {
    "duration": 61,
    "start_time": "2022-03-17T07:49:08.805Z"
   },
   {
    "duration": 65,
    "start_time": "2022-03-17T07:49:12.380Z"
   },
   {
    "duration": 3,
    "start_time": "2022-03-17T07:50:29.665Z"
   },
   {
    "duration": 172,
    "start_time": "2022-03-17T07:50:48.360Z"
   },
   {
    "duration": 57,
    "start_time": "2022-03-17T07:50:53.010Z"
   },
   {
    "duration": 46,
    "start_time": "2022-03-17T07:50:58.546Z"
   },
   {
    "duration": 53,
    "start_time": "2022-03-17T07:51:08.520Z"
   },
   {
    "duration": 5,
    "start_time": "2022-03-17T07:51:15.774Z"
   },
   {
    "duration": 49,
    "start_time": "2022-03-17T07:51:21.150Z"
   },
   {
    "duration": 46,
    "start_time": "2022-03-17T07:51:25.570Z"
   },
   {
    "duration": 6,
    "start_time": "2022-03-17T07:51:31.328Z"
   },
   {
    "duration": 51,
    "start_time": "2022-03-17T07:51:38.027Z"
   },
   {
    "duration": 46,
    "start_time": "2022-03-17T07:53:09.188Z"
   },
   {
    "duration": 10,
    "start_time": "2022-03-17T07:53:16.598Z"
   },
   {
    "duration": 16,
    "start_time": "2022-03-17T07:53:31.254Z"
   },
   {
    "duration": 29,
    "start_time": "2022-03-17T07:53:39.754Z"
   },
   {
    "duration": 4,
    "start_time": "2022-03-17T07:56:12.564Z"
   },
   {
    "duration": 6,
    "start_time": "2022-03-17T07:56:12.570Z"
   },
   {
    "duration": 1642,
    "start_time": "2022-03-17T07:56:12.577Z"
   },
   {
    "duration": 12,
    "start_time": "2022-03-17T07:56:14.220Z"
   },
   {
    "duration": 8,
    "start_time": "2022-03-17T07:56:14.234Z"
   },
   {
    "duration": 7,
    "start_time": "2022-03-17T07:56:14.243Z"
   },
   {
    "duration": 41,
    "start_time": "2022-03-17T07:56:14.251Z"
   },
   {
    "duration": 7,
    "start_time": "2022-03-17T07:56:14.294Z"
   },
   {
    "duration": 34,
    "start_time": "2022-03-17T07:56:14.303Z"
   },
   {
    "duration": 16,
    "start_time": "2022-03-17T07:56:14.339Z"
   },
   {
    "duration": 33,
    "start_time": "2022-03-17T07:56:14.357Z"
   },
   {
    "duration": 22,
    "start_time": "2022-03-17T07:56:14.392Z"
   },
   {
    "duration": 59,
    "start_time": "2022-03-17T07:56:14.416Z"
   },
   {
    "duration": 4,
    "start_time": "2022-03-17T07:56:14.477Z"
   },
   {
    "duration": 55,
    "start_time": "2022-03-17T07:56:14.483Z"
   },
   {
    "duration": 3,
    "start_time": "2022-03-17T07:56:14.540Z"
   },
   {
    "duration": 93,
    "start_time": "2022-03-17T07:56:14.545Z"
   },
   {
    "duration": 277,
    "start_time": "2022-03-17T07:56:14.640Z"
   },
   {
    "duration": 296,
    "start_time": "2022-03-17T07:56:14.919Z"
   },
   {
    "duration": 270,
    "start_time": "2022-03-17T07:56:15.217Z"
   },
   {
    "duration": 38,
    "start_time": "2022-03-17T07:56:15.490Z"
   },
   {
    "duration": 3,
    "start_time": "2022-03-17T07:56:15.530Z"
   },
   {
    "duration": 27,
    "start_time": "2022-03-17T07:56:15.535Z"
   },
   {
    "duration": 18,
    "start_time": "2022-03-17T07:56:15.564Z"
   },
   {
    "duration": 96,
    "start_time": "2022-03-17T07:56:15.586Z"
   },
   {
    "duration": 152,
    "start_time": "2022-03-17T07:56:15.685Z"
   },
   {
    "duration": 160,
    "start_time": "2022-03-17T07:56:15.838Z"
   },
   {
    "duration": 128,
    "start_time": "2022-03-17T07:56:16.000Z"
   },
   {
    "duration": 3,
    "start_time": "2022-03-17T07:56:16.130Z"
   },
   {
    "duration": 8,
    "start_time": "2022-03-17T07:56:16.135Z"
   },
   {
    "duration": 4477,
    "start_time": "2022-03-17T07:56:16.145Z"
   },
   {
    "duration": 4,
    "start_time": "2022-03-17T07:56:20.624Z"
   },
   {
    "duration": 1331,
    "start_time": "2022-03-17T07:56:20.630Z"
   },
   {
    "duration": 5,
    "start_time": "2022-03-17T07:56:21.963Z"
   },
   {
    "duration": 887,
    "start_time": "2022-03-17T07:56:21.981Z"
   },
   {
    "duration": 6,
    "start_time": "2022-03-17T07:58:06.117Z"
   },
   {
    "duration": 14,
    "start_time": "2022-03-17T07:58:06.125Z"
   },
   {
    "duration": 1671,
    "start_time": "2022-03-17T07:58:06.141Z"
   },
   {
    "duration": 14,
    "start_time": "2022-03-17T07:58:07.815Z"
   },
   {
    "duration": 12,
    "start_time": "2022-03-17T07:58:07.830Z"
   },
   {
    "duration": 11,
    "start_time": "2022-03-17T07:58:07.844Z"
   },
   {
    "duration": 44,
    "start_time": "2022-03-17T07:58:07.857Z"
   },
   {
    "duration": 7,
    "start_time": "2022-03-17T07:58:07.902Z"
   },
   {
    "duration": 22,
    "start_time": "2022-03-17T07:58:07.912Z"
   },
   {
    "duration": 16,
    "start_time": "2022-03-17T07:58:07.935Z"
   },
   {
    "duration": 39,
    "start_time": "2022-03-17T07:58:07.953Z"
   },
   {
    "duration": 4,
    "start_time": "2022-03-17T07:58:07.994Z"
   },
   {
    "duration": 64,
    "start_time": "2022-03-17T07:58:07.999Z"
   },
   {
    "duration": 46,
    "start_time": "2022-03-17T07:58:08.065Z"
   },
   {
    "duration": 161,
    "start_time": "2022-03-17T07:58:08.113Z"
   },
   {
    "duration": 271,
    "start_time": "2022-03-17T07:58:08.276Z"
   },
   {
    "duration": 216,
    "start_time": "2022-03-17T07:58:08.549Z"
   },
   {
    "duration": 5,
    "start_time": "2022-03-17T07:58:08.767Z"
   },
   {
    "duration": 124,
    "start_time": "2022-03-17T07:58:08.781Z"
   },
   {
    "duration": 261,
    "start_time": "2022-03-17T07:58:08.907Z"
   },
   {
    "duration": 271,
    "start_time": "2022-03-17T07:58:09.170Z"
   },
   {
    "duration": 260,
    "start_time": "2022-03-17T07:58:09.443Z"
   },
   {
    "duration": 30,
    "start_time": "2022-03-17T07:58:09.704Z"
   },
   {
    "duration": 3,
    "start_time": "2022-03-17T07:58:09.737Z"
   },
   {
    "duration": 45,
    "start_time": "2022-03-17T07:58:09.741Z"
   },
   {
    "duration": 6,
    "start_time": "2022-03-17T07:58:09.787Z"
   },
   {
    "duration": 91,
    "start_time": "2022-03-17T07:58:09.795Z"
   },
   {
    "duration": 181,
    "start_time": "2022-03-17T07:58:09.888Z"
   },
   {
    "duration": 4,
    "start_time": "2022-03-17T07:58:10.071Z"
   },
   {
    "duration": 8,
    "start_time": "2022-03-17T07:58:10.080Z"
   },
   {
    "duration": 4665,
    "start_time": "2022-03-17T07:58:10.089Z"
   },
   {
    "duration": 5,
    "start_time": "2022-03-17T07:58:14.756Z"
   },
   {
    "duration": 887,
    "start_time": "2022-03-17T07:58:14.763Z"
   },
   {
    "duration": 6,
    "start_time": "2022-03-17T07:58:15.651Z"
   },
   {
    "duration": 659,
    "start_time": "2022-03-17T07:58:15.659Z"
   },
   {
    "duration": 4,
    "start_time": "2022-03-17T07:58:41.162Z"
   },
   {
    "duration": 23,
    "start_time": "2022-03-17T07:58:41.168Z"
   },
   {
    "duration": 2307,
    "start_time": "2022-03-17T07:58:41.194Z"
   },
   {
    "duration": 13,
    "start_time": "2022-03-17T07:58:43.504Z"
   },
   {
    "duration": 14,
    "start_time": "2022-03-17T07:58:43.519Z"
   },
   {
    "duration": 7,
    "start_time": "2022-03-17T07:58:43.534Z"
   },
   {
    "duration": 40,
    "start_time": "2022-03-17T07:58:43.542Z"
   },
   {
    "duration": 8,
    "start_time": "2022-03-17T07:58:43.584Z"
   },
   {
    "duration": 46,
    "start_time": "2022-03-17T07:58:43.593Z"
   },
   {
    "duration": 15,
    "start_time": "2022-03-17T07:58:43.641Z"
   },
   {
    "duration": 15,
    "start_time": "2022-03-17T07:58:43.659Z"
   },
   {
    "duration": 6,
    "start_time": "2022-03-17T07:58:43.676Z"
   },
   {
    "duration": 76,
    "start_time": "2022-03-17T07:58:43.684Z"
   },
   {
    "duration": 39,
    "start_time": "2022-03-17T07:58:43.763Z"
   },
   {
    "duration": 146,
    "start_time": "2022-03-17T07:58:43.803Z"
   },
   {
    "duration": 166,
    "start_time": "2022-03-17T07:58:43.950Z"
   },
   {
    "duration": 130,
    "start_time": "2022-03-17T07:58:44.118Z"
   },
   {
    "duration": 3,
    "start_time": "2022-03-17T07:58:44.250Z"
   },
   {
    "duration": 100,
    "start_time": "2022-03-17T07:58:44.254Z"
   },
   {
    "duration": 261,
    "start_time": "2022-03-17T07:58:44.356Z"
   },
   {
    "duration": 252,
    "start_time": "2022-03-17T07:58:44.619Z"
   },
   {
    "duration": 251,
    "start_time": "2022-03-17T07:58:44.873Z"
   },
   {
    "duration": 28,
    "start_time": "2022-03-17T07:58:45.126Z"
   },
   {
    "duration": 3,
    "start_time": "2022-03-17T07:58:45.156Z"
   },
   {
    "duration": 45,
    "start_time": "2022-03-17T07:58:45.161Z"
   },
   {
    "duration": 3,
    "start_time": "2022-03-17T07:58:45.208Z"
   },
   {
    "duration": 78,
    "start_time": "2022-03-17T07:58:45.213Z"
   },
   {
    "duration": 129,
    "start_time": "2022-03-17T07:58:45.293Z"
   },
   {
    "duration": 3,
    "start_time": "2022-03-17T07:58:45.425Z"
   },
   {
    "duration": 8,
    "start_time": "2022-03-17T07:58:45.429Z"
   },
   {
    "duration": 4335,
    "start_time": "2022-03-17T07:58:45.438Z"
   },
   {
    "duration": 5,
    "start_time": "2022-03-17T07:58:49.780Z"
   },
   {
    "duration": 1041,
    "start_time": "2022-03-17T07:58:49.786Z"
   },
   {
    "duration": 5,
    "start_time": "2022-03-17T07:58:50.828Z"
   },
   {
    "duration": 611,
    "start_time": "2022-03-17T07:58:50.835Z"
   },
   {
    "duration": 5,
    "start_time": "2022-03-17T07:59:24.758Z"
   },
   {
    "duration": 7,
    "start_time": "2022-03-17T07:59:24.765Z"
   },
   {
    "duration": 1661,
    "start_time": "2022-03-17T07:59:24.773Z"
   },
   {
    "duration": 13,
    "start_time": "2022-03-17T07:59:26.436Z"
   },
   {
    "duration": 8,
    "start_time": "2022-03-17T07:59:26.452Z"
   },
   {
    "duration": 20,
    "start_time": "2022-03-17T07:59:26.462Z"
   },
   {
    "duration": 21,
    "start_time": "2022-03-17T07:59:26.484Z"
   },
   {
    "duration": 13,
    "start_time": "2022-03-17T07:59:26.506Z"
   },
   {
    "duration": 22,
    "start_time": "2022-03-17T07:59:26.520Z"
   },
   {
    "duration": 40,
    "start_time": "2022-03-17T07:59:26.545Z"
   },
   {
    "duration": 379,
    "start_time": "2022-03-17T07:59:26.587Z"
   },
   {
    "duration": 449,
    "start_time": "2022-03-17T07:59:26.967Z"
   },
   {
    "duration": 437,
    "start_time": "2022-03-17T07:59:27.418Z"
   },
   {
    "duration": 24,
    "start_time": "2022-03-17T07:59:27.857Z"
   },
   {
    "duration": 5,
    "start_time": "2022-03-17T07:59:27.883Z"
   },
   {
    "duration": 97,
    "start_time": "2022-03-17T07:59:27.890Z"
   },
   {
    "duration": 50,
    "start_time": "2022-03-17T07:59:27.989Z"
   },
   {
    "duration": 5,
    "start_time": "2022-03-17T07:59:28.041Z"
   },
   {
    "duration": 152,
    "start_time": "2022-03-17T07:59:28.047Z"
   },
   {
    "duration": 432,
    "start_time": "2022-03-17T07:59:28.201Z"
   },
   {
    "duration": 399,
    "start_time": "2022-03-17T07:59:28.635Z"
   },
   {
    "duration": 323,
    "start_time": "2022-03-17T07:59:29.036Z"
   },
   {
    "duration": 50,
    "start_time": "2022-03-17T07:59:29.361Z"
   },
   {
    "duration": 22,
    "start_time": "2022-03-17T07:59:29.413Z"
   },
   {
    "duration": 62,
    "start_time": "2022-03-17T07:59:29.438Z"
   },
   {
    "duration": 16,
    "start_time": "2022-03-17T07:59:29.502Z"
   },
   {
    "duration": 108,
    "start_time": "2022-03-17T07:59:29.519Z"
   },
   {
    "duration": 200,
    "start_time": "2022-03-17T07:59:29.628Z"
   },
   {
    "duration": 3,
    "start_time": "2022-03-17T07:59:29.829Z"
   },
   {
    "duration": 34,
    "start_time": "2022-03-17T07:59:29.833Z"
   },
   {
    "duration": 5717,
    "start_time": "2022-03-17T07:59:29.868Z"
   },
   {
    "duration": 6,
    "start_time": "2022-03-17T07:59:35.588Z"
   },
   {
    "duration": 880,
    "start_time": "2022-03-17T07:59:35.596Z"
   },
   {
    "duration": 7,
    "start_time": "2022-03-17T07:59:36.480Z"
   },
   {
    "duration": 696,
    "start_time": "2022-03-17T07:59:36.489Z"
   },
   {
    "duration": 4,
    "start_time": "2022-03-17T08:02:21.946Z"
   },
   {
    "duration": 17,
    "start_time": "2022-03-17T08:02:21.952Z"
   },
   {
    "duration": 1467,
    "start_time": "2022-03-17T08:02:21.970Z"
   },
   {
    "duration": 12,
    "start_time": "2022-03-17T08:02:23.439Z"
   },
   {
    "duration": 8,
    "start_time": "2022-03-17T08:02:23.453Z"
   },
   {
    "duration": 20,
    "start_time": "2022-03-17T08:02:23.462Z"
   },
   {
    "duration": 23,
    "start_time": "2022-03-17T08:02:23.484Z"
   },
   {
    "duration": 6,
    "start_time": "2022-03-17T08:02:23.509Z"
   },
   {
    "duration": 26,
    "start_time": "2022-03-17T08:02:23.517Z"
   },
   {
    "duration": 40,
    "start_time": "2022-03-17T08:02:23.544Z"
   },
   {
    "duration": 371,
    "start_time": "2022-03-17T08:02:23.587Z"
   },
   {
    "duration": 422,
    "start_time": "2022-03-17T08:02:23.959Z"
   },
   {
    "duration": 414,
    "start_time": "2022-03-17T08:02:24.383Z"
   },
   {
    "duration": 34,
    "start_time": "2022-03-17T08:02:24.799Z"
   },
   {
    "duration": 13,
    "start_time": "2022-03-17T08:02:24.834Z"
   },
   {
    "duration": 3,
    "start_time": "2022-03-17T08:02:24.849Z"
   },
   {
    "duration": 62,
    "start_time": "2022-03-17T08:02:24.854Z"
   },
   {
    "duration": 4,
    "start_time": "2022-03-17T08:02:24.918Z"
   },
   {
    "duration": 91,
    "start_time": "2022-03-17T08:02:24.923Z"
   },
   {
    "duration": 259,
    "start_time": "2022-03-17T08:02:25.015Z"
   },
   {
    "duration": 269,
    "start_time": "2022-03-17T08:02:25.276Z"
   },
   {
    "duration": 262,
    "start_time": "2022-03-17T08:02:25.547Z"
   },
   {
    "duration": 33,
    "start_time": "2022-03-17T08:02:25.810Z"
   },
   {
    "duration": 4,
    "start_time": "2022-03-17T08:02:25.845Z"
   },
   {
    "duration": 46,
    "start_time": "2022-03-17T08:02:25.850Z"
   },
   {
    "duration": 4,
    "start_time": "2022-03-17T08:02:25.897Z"
   },
   {
    "duration": 87,
    "start_time": "2022-03-17T08:02:25.902Z"
   },
   {
    "duration": 134,
    "start_time": "2022-03-17T08:02:25.990Z"
   },
   {
    "duration": 3,
    "start_time": "2022-03-17T08:02:26.127Z"
   },
   {
    "duration": 7,
    "start_time": "2022-03-17T08:02:26.131Z"
   },
   {
    "duration": 4690,
    "start_time": "2022-03-17T08:02:26.140Z"
   },
   {
    "duration": 5,
    "start_time": "2022-03-17T08:02:30.832Z"
   },
   {
    "duration": 849,
    "start_time": "2022-03-17T08:02:30.838Z"
   },
   {
    "duration": 6,
    "start_time": "2022-03-17T08:02:31.689Z"
   },
   {
    "duration": 584,
    "start_time": "2022-03-17T08:02:31.698Z"
   },
   {
    "duration": 5,
    "start_time": "2022-03-17T08:03:08.604Z"
   },
   {
    "duration": 10,
    "start_time": "2022-03-17T08:03:08.610Z"
   },
   {
    "duration": 1441,
    "start_time": "2022-03-17T08:03:08.622Z"
   },
   {
    "duration": 16,
    "start_time": "2022-03-17T08:03:10.065Z"
   },
   {
    "duration": 9,
    "start_time": "2022-03-17T08:03:10.083Z"
   },
   {
    "duration": 10,
    "start_time": "2022-03-17T08:03:10.093Z"
   },
   {
    "duration": 20,
    "start_time": "2022-03-17T08:03:10.104Z"
   },
   {
    "duration": 5,
    "start_time": "2022-03-17T08:03:10.126Z"
   },
   {
    "duration": 28,
    "start_time": "2022-03-17T08:03:10.132Z"
   },
   {
    "duration": 32,
    "start_time": "2022-03-17T08:03:10.161Z"
   },
   {
    "duration": 368,
    "start_time": "2022-03-17T08:03:10.196Z"
   },
   {
    "duration": 405,
    "start_time": "2022-03-17T08:03:10.565Z"
   },
   {
    "duration": 432,
    "start_time": "2022-03-17T08:03:10.971Z"
   },
   {
    "duration": 2,
    "start_time": "2022-03-17T08:03:11.405Z"
   },
   {
    "duration": 23,
    "start_time": "2022-03-17T08:03:11.409Z"
   },
   {
    "duration": 13,
    "start_time": "2022-03-17T08:03:11.434Z"
   },
   {
    "duration": 88,
    "start_time": "2022-03-17T08:03:11.449Z"
   },
   {
    "duration": 5,
    "start_time": "2022-03-17T08:03:11.539Z"
   },
   {
    "duration": 156,
    "start_time": "2022-03-17T08:03:11.546Z"
   },
   {
    "duration": 274,
    "start_time": "2022-03-17T08:03:11.703Z"
   },
   {
    "duration": 267,
    "start_time": "2022-03-17T08:03:11.980Z"
   },
   {
    "duration": 260,
    "start_time": "2022-03-17T08:03:12.249Z"
   },
   {
    "duration": 32,
    "start_time": "2022-03-17T08:03:12.511Z"
   },
   {
    "duration": 4,
    "start_time": "2022-03-17T08:03:12.544Z"
   },
   {
    "duration": 60,
    "start_time": "2022-03-17T08:03:12.549Z"
   },
   {
    "duration": 3,
    "start_time": "2022-03-17T08:03:12.611Z"
   },
   {
    "duration": 126,
    "start_time": "2022-03-17T08:03:12.616Z"
   },
   {
    "duration": 538,
    "start_time": "2022-03-17T08:03:12.744Z"
   },
   {
    "duration": 3,
    "start_time": "2022-03-17T08:03:13.286Z"
   },
   {
    "duration": 10,
    "start_time": "2022-03-17T08:03:13.291Z"
   },
   {
    "duration": 6700,
    "start_time": "2022-03-17T08:03:13.303Z"
   },
   {
    "duration": 7,
    "start_time": "2022-03-17T08:03:20.004Z"
   },
   {
    "duration": 1285,
    "start_time": "2022-03-17T08:03:20.013Z"
   },
   {
    "duration": 4,
    "start_time": "2022-03-17T08:03:21.300Z"
   },
   {
    "duration": 917,
    "start_time": "2022-03-17T08:03:21.306Z"
   },
   {
    "duration": 4,
    "start_time": "2022-03-17T08:22:57.018Z"
   },
   {
    "duration": 23,
    "start_time": "2022-03-17T08:22:57.023Z"
   },
   {
    "duration": 1470,
    "start_time": "2022-03-17T08:22:57.048Z"
   },
   {
    "duration": 13,
    "start_time": "2022-03-17T08:22:58.520Z"
   },
   {
    "duration": 8,
    "start_time": "2022-03-17T08:22:58.535Z"
   },
   {
    "duration": 16,
    "start_time": "2022-03-17T08:22:58.545Z"
   },
   {
    "duration": 28,
    "start_time": "2022-03-17T08:22:58.562Z"
   },
   {
    "duration": 6,
    "start_time": "2022-03-17T08:22:58.592Z"
   },
   {
    "duration": 23,
    "start_time": "2022-03-17T08:22:58.599Z"
   },
   {
    "duration": 17,
    "start_time": "2022-03-17T08:22:58.623Z"
   },
   {
    "duration": 384,
    "start_time": "2022-03-17T08:22:58.642Z"
   },
   {
    "duration": 432,
    "start_time": "2022-03-17T08:22:59.028Z"
   },
   {
    "duration": 391,
    "start_time": "2022-03-17T08:22:59.462Z"
   },
   {
    "duration": 50,
    "start_time": "2022-03-17T08:22:59.855Z"
   },
   {
    "duration": 13,
    "start_time": "2022-03-17T08:22:59.907Z"
   },
   {
    "duration": 3,
    "start_time": "2022-03-17T08:22:59.922Z"
   },
   {
    "duration": 38,
    "start_time": "2022-03-17T08:22:59.926Z"
   },
   {
    "duration": 18,
    "start_time": "2022-03-17T08:22:59.966Z"
   },
   {
    "duration": 78,
    "start_time": "2022-03-17T08:22:59.985Z"
   },
   {
    "duration": 254,
    "start_time": "2022-03-17T08:23:00.064Z"
   },
   {
    "duration": 257,
    "start_time": "2022-03-17T08:23:00.320Z"
   },
   {
    "duration": 259,
    "start_time": "2022-03-17T08:23:00.581Z"
   },
   {
    "duration": 32,
    "start_time": "2022-03-17T08:23:00.842Z"
   },
   {
    "duration": 16,
    "start_time": "2022-03-17T08:23:00.875Z"
   },
   {
    "duration": 41,
    "start_time": "2022-03-17T08:23:00.893Z"
   },
   {
    "duration": 3,
    "start_time": "2022-03-17T08:23:00.936Z"
   },
   {
    "duration": 92,
    "start_time": "2022-03-17T08:23:00.941Z"
   },
   {
    "duration": 91,
    "start_time": "2022-03-17T08:23:01.035Z"
   },
   {
    "duration": 63,
    "start_time": "2022-03-17T08:23:01.130Z"
   },
   {
    "duration": 66,
    "start_time": "2022-03-17T08:23:01.195Z"
   },
   {
    "duration": 19,
    "start_time": "2022-03-17T08:23:01.262Z"
   },
   {
    "duration": 21,
    "start_time": "2022-03-17T08:23:01.283Z"
   },
   {
    "duration": 4656,
    "start_time": "2022-03-17T08:23:01.305Z"
   },
   {
    "duration": 19,
    "start_time": "2022-03-17T08:23:05.962Z"
   },
   {
    "duration": 790,
    "start_time": "2022-03-17T08:23:05.982Z"
   },
   {
    "duration": 8,
    "start_time": "2022-03-17T08:23:06.774Z"
   },
   {
    "duration": 591,
    "start_time": "2022-03-17T08:23:06.783Z"
   },
   {
    "duration": 35,
    "start_time": "2022-03-17T08:23:47.345Z"
   },
   {
    "duration": 64,
    "start_time": "2022-03-17T08:23:47.841Z"
   },
   {
    "duration": 71,
    "start_time": "2022-03-17T08:23:54.329Z"
   },
   {
    "duration": 5,
    "start_time": "2022-03-17T08:24:12.538Z"
   },
   {
    "duration": 8,
    "start_time": "2022-03-17T08:24:12.545Z"
   },
   {
    "duration": 1858,
    "start_time": "2022-03-17T08:24:12.555Z"
   },
   {
    "duration": 13,
    "start_time": "2022-03-17T08:24:14.415Z"
   },
   {
    "duration": 9,
    "start_time": "2022-03-17T08:24:14.429Z"
   },
   {
    "duration": 7,
    "start_time": "2022-03-17T08:24:14.439Z"
   },
   {
    "duration": 45,
    "start_time": "2022-03-17T08:24:14.447Z"
   },
   {
    "duration": 6,
    "start_time": "2022-03-17T08:24:14.493Z"
   },
   {
    "duration": 23,
    "start_time": "2022-03-17T08:24:14.500Z"
   },
   {
    "duration": 15,
    "start_time": "2022-03-17T08:24:14.525Z"
   },
   {
    "duration": 386,
    "start_time": "2022-03-17T08:24:14.541Z"
   },
   {
    "duration": 420,
    "start_time": "2022-03-17T08:24:14.930Z"
   },
   {
    "duration": 400,
    "start_time": "2022-03-17T08:24:15.352Z"
   },
   {
    "duration": 43,
    "start_time": "2022-03-17T08:24:15.753Z"
   },
   {
    "duration": 13,
    "start_time": "2022-03-17T08:24:15.798Z"
   },
   {
    "duration": 4,
    "start_time": "2022-03-17T08:24:15.812Z"
   },
   {
    "duration": 45,
    "start_time": "2022-03-17T08:24:15.817Z"
   },
   {
    "duration": 19,
    "start_time": "2022-03-17T08:24:15.863Z"
   },
   {
    "duration": 85,
    "start_time": "2022-03-17T08:24:15.883Z"
   },
   {
    "duration": 272,
    "start_time": "2022-03-17T08:24:15.970Z"
   },
   {
    "duration": 262,
    "start_time": "2022-03-17T08:24:16.244Z"
   },
   {
    "duration": 247,
    "start_time": "2022-03-17T08:24:16.507Z"
   },
   {
    "duration": 39,
    "start_time": "2022-03-17T08:24:16.756Z"
   },
   {
    "duration": 4,
    "start_time": "2022-03-17T08:24:16.797Z"
   },
   {
    "duration": 29,
    "start_time": "2022-03-17T08:24:16.802Z"
   },
   {
    "duration": 4,
    "start_time": "2022-03-17T08:24:16.832Z"
   },
   {
    "duration": 90,
    "start_time": "2022-03-17T08:24:16.837Z"
   },
   {
    "duration": 34,
    "start_time": "2022-03-17T08:24:16.928Z"
   },
   {
    "duration": 77,
    "start_time": "2022-03-17T08:24:16.963Z"
   },
   {
    "duration": 78,
    "start_time": "2022-03-17T08:24:17.043Z"
   },
   {
    "duration": 3,
    "start_time": "2022-03-17T08:24:17.123Z"
   },
   {
    "duration": 9,
    "start_time": "2022-03-17T08:24:17.128Z"
   },
   {
    "duration": 4475,
    "start_time": "2022-03-17T08:24:17.138Z"
   },
   {
    "duration": 4,
    "start_time": "2022-03-17T08:24:21.615Z"
   },
   {
    "duration": 788,
    "start_time": "2022-03-17T08:24:21.621Z"
   },
   {
    "duration": 4,
    "start_time": "2022-03-17T08:24:22.410Z"
   },
   {
    "duration": 586,
    "start_time": "2022-03-17T08:24:22.416Z"
   },
   {
    "duration": 40,
    "start_time": "2022-03-17T08:24:47.837Z"
   },
   {
    "duration": 65,
    "start_time": "2022-03-17T08:24:48.526Z"
   },
   {
    "duration": 68,
    "start_time": "2022-03-17T08:24:49.254Z"
   },
   {
    "duration": 159,
    "start_time": "2022-03-17T08:44:47.182Z"
   },
   {
    "duration": 66,
    "start_time": "2022-03-17T08:47:58.665Z"
   },
   {
    "duration": 62,
    "start_time": "2022-03-17T08:48:09.325Z"
   },
   {
    "duration": 194,
    "start_time": "2022-03-17T08:49:44.182Z"
   },
   {
    "duration": 306,
    "start_time": "2022-03-17T08:50:54.353Z"
   },
   {
    "duration": 158,
    "start_time": "2022-03-17T08:52:02.103Z"
   },
   {
    "duration": 4,
    "start_time": "2022-03-17T08:52:06.744Z"
   },
   {
    "duration": 307,
    "start_time": "2022-03-17T08:52:13.933Z"
   },
   {
    "duration": 3,
    "start_time": "2022-03-17T08:52:23.951Z"
   },
   {
    "duration": 563,
    "start_time": "2022-03-17T08:52:24.724Z"
   },
   {
    "duration": 4,
    "start_time": "2022-03-17T08:52:41.498Z"
   },
   {
    "duration": 4,
    "start_time": "2022-03-17T08:52:41.506Z"
   },
   {
    "duration": 1459,
    "start_time": "2022-03-17T08:52:41.514Z"
   },
   {
    "duration": 4,
    "start_time": "2022-03-17T08:52:42.981Z"
   },
   {
    "duration": 597,
    "start_time": "2022-03-17T08:52:42.986Z"
   },
   {
    "duration": 13,
    "start_time": "2022-03-17T08:52:43.586Z"
   },
   {
    "duration": 8,
    "start_time": "2022-03-17T08:52:43.600Z"
   },
   {
    "duration": 4,
    "start_time": "2022-03-17T08:52:43.610Z"
   },
   {
    "duration": 18,
    "start_time": "2022-03-17T08:52:43.615Z"
   },
   {
    "duration": 6,
    "start_time": "2022-03-17T08:52:43.634Z"
   },
   {
    "duration": 55,
    "start_time": "2022-03-17T08:52:43.641Z"
   },
   {
    "duration": 19,
    "start_time": "2022-03-17T08:52:43.698Z"
   },
   {
    "duration": 475,
    "start_time": "2022-03-17T08:52:43.719Z"
   },
   {
    "duration": 436,
    "start_time": "2022-03-17T08:52:44.196Z"
   },
   {
    "duration": 411,
    "start_time": "2022-03-17T08:52:44.633Z"
   },
   {
    "duration": 49,
    "start_time": "2022-03-17T08:52:45.046Z"
   },
   {
    "duration": 18,
    "start_time": "2022-03-17T08:52:45.097Z"
   },
   {
    "duration": 5,
    "start_time": "2022-03-17T08:52:45.117Z"
   },
   {
    "duration": 47,
    "start_time": "2022-03-17T08:52:45.124Z"
   },
   {
    "duration": 8,
    "start_time": "2022-03-17T08:52:45.173Z"
   },
   {
    "duration": 79,
    "start_time": "2022-03-17T08:52:45.183Z"
   },
   {
    "duration": 253,
    "start_time": "2022-03-17T08:52:45.264Z"
   },
   {
    "duration": 252,
    "start_time": "2022-03-17T08:52:45.518Z"
   },
   {
    "duration": 254,
    "start_time": "2022-03-17T08:52:45.771Z"
   },
   {
    "duration": 54,
    "start_time": "2022-03-17T08:52:46.027Z"
   },
   {
    "duration": 5,
    "start_time": "2022-03-17T08:52:46.083Z"
   },
   {
    "duration": 32,
    "start_time": "2022-03-17T08:52:46.090Z"
   },
   {
    "duration": 5,
    "start_time": "2022-03-17T08:52:46.124Z"
   },
   {
    "duration": 99,
    "start_time": "2022-03-17T08:52:46.130Z"
   },
   {
    "duration": 49,
    "start_time": "2022-03-17T08:52:46.232Z"
   },
   {
    "duration": 68,
    "start_time": "2022-03-17T08:52:46.282Z"
   },
   {
    "duration": 78,
    "start_time": "2022-03-17T08:52:46.351Z"
   },
   {
    "duration": 3,
    "start_time": "2022-03-17T08:52:46.431Z"
   },
   {
    "duration": 7,
    "start_time": "2022-03-17T08:52:46.436Z"
   },
   {
    "duration": 4597,
    "start_time": "2022-03-17T08:52:46.445Z"
   },
   {
    "duration": 5,
    "start_time": "2022-03-17T08:52:51.044Z"
   },
   {
    "duration": 794,
    "start_time": "2022-03-17T08:52:51.051Z"
   },
   {
    "duration": 4,
    "start_time": "2022-03-17T08:52:51.846Z"
   },
   {
    "duration": 582,
    "start_time": "2022-03-17T08:52:51.852Z"
   },
   {
    "duration": 304,
    "start_time": "2022-03-17T08:53:50.049Z"
   },
   {
    "duration": 4,
    "start_time": "2022-03-17T08:55:10.018Z"
   },
   {
    "duration": 470,
    "start_time": "2022-03-17T08:55:10.611Z"
   },
   {
    "duration": 5,
    "start_time": "2022-03-17T08:55:38.571Z"
   },
   {
    "duration": 4,
    "start_time": "2022-03-17T08:55:38.580Z"
   },
   {
    "duration": 1468,
    "start_time": "2022-03-17T08:55:38.591Z"
   },
   {
    "duration": 5,
    "start_time": "2022-03-17T08:55:40.061Z"
   },
   {
    "duration": 615,
    "start_time": "2022-03-17T08:55:40.067Z"
   },
   {
    "duration": 12,
    "start_time": "2022-03-17T08:55:40.684Z"
   },
   {
    "duration": 7,
    "start_time": "2022-03-17T08:55:40.697Z"
   },
   {
    "duration": 5,
    "start_time": "2022-03-17T08:55:40.706Z"
   },
   {
    "duration": 17,
    "start_time": "2022-03-17T08:55:40.713Z"
   },
   {
    "duration": 6,
    "start_time": "2022-03-17T08:55:40.731Z"
   },
   {
    "duration": 55,
    "start_time": "2022-03-17T08:55:40.738Z"
   },
   {
    "duration": 15,
    "start_time": "2022-03-17T08:55:40.796Z"
   },
   {
    "duration": 497,
    "start_time": "2022-03-17T08:55:40.813Z"
   },
   {
    "duration": 411,
    "start_time": "2022-03-17T08:55:41.312Z"
   },
   {
    "duration": 395,
    "start_time": "2022-03-17T08:55:41.725Z"
   },
   {
    "duration": 34,
    "start_time": "2022-03-17T08:55:42.122Z"
   },
   {
    "duration": 30,
    "start_time": "2022-03-17T08:55:42.158Z"
   },
   {
    "duration": 4,
    "start_time": "2022-03-17T08:55:42.189Z"
   },
   {
    "duration": 38,
    "start_time": "2022-03-17T08:55:42.195Z"
   },
   {
    "duration": 5,
    "start_time": "2022-03-17T08:55:42.235Z"
   },
   {
    "duration": 141,
    "start_time": "2022-03-17T08:55:42.241Z"
   },
   {
    "duration": 247,
    "start_time": "2022-03-17T08:55:42.383Z"
   },
   {
    "duration": 251,
    "start_time": "2022-03-17T08:55:42.632Z"
   },
   {
    "duration": 248,
    "start_time": "2022-03-17T08:55:42.885Z"
   },
   {
    "duration": 31,
    "start_time": "2022-03-17T08:55:43.135Z"
   },
   {
    "duration": 14,
    "start_time": "2022-03-17T08:55:43.168Z"
   },
   {
    "duration": 35,
    "start_time": "2022-03-17T08:55:43.184Z"
   },
   {
    "duration": 4,
    "start_time": "2022-03-17T08:55:43.221Z"
   },
   {
    "duration": 93,
    "start_time": "2022-03-17T08:55:43.227Z"
   },
   {
    "duration": 35,
    "start_time": "2022-03-17T08:55:43.323Z"
   },
   {
    "duration": 71,
    "start_time": "2022-03-17T08:55:43.360Z"
   },
   {
    "duration": 75,
    "start_time": "2022-03-17T08:55:43.432Z"
   },
   {
    "duration": 4,
    "start_time": "2022-03-17T08:55:43.508Z"
   },
   {
    "duration": 11,
    "start_time": "2022-03-17T08:55:43.513Z"
   },
   {
    "duration": 4538,
    "start_time": "2022-03-17T08:55:43.525Z"
   },
   {
    "duration": 17,
    "start_time": "2022-03-17T08:55:48.064Z"
   },
   {
    "duration": 748,
    "start_time": "2022-03-17T08:55:48.083Z"
   },
   {
    "duration": 4,
    "start_time": "2022-03-17T08:55:48.833Z"
   },
   {
    "duration": 904,
    "start_time": "2022-03-17T08:55:48.839Z"
   },
   {
    "duration": 560,
    "start_time": "2022-03-17T08:55:49.745Z"
   },
   {
    "duration": 6,
    "start_time": "2022-03-17T08:56:16.772Z"
   },
   {
    "duration": 19,
    "start_time": "2022-03-17T08:56:16.780Z"
   },
   {
    "duration": 2020,
    "start_time": "2022-03-17T08:56:16.801Z"
   },
   {
    "duration": 5,
    "start_time": "2022-03-17T08:56:18.823Z"
   },
   {
    "duration": 624,
    "start_time": "2022-03-17T08:56:18.829Z"
   },
   {
    "duration": 28,
    "start_time": "2022-03-17T08:56:19.454Z"
   },
   {
    "duration": 8,
    "start_time": "2022-03-17T08:56:19.484Z"
   },
   {
    "duration": 5,
    "start_time": "2022-03-17T08:56:19.494Z"
   },
   {
    "duration": 16,
    "start_time": "2022-03-17T08:56:19.502Z"
   },
   {
    "duration": 6,
    "start_time": "2022-03-17T08:56:19.519Z"
   },
   {
    "duration": 22,
    "start_time": "2022-03-17T08:56:19.526Z"
   },
   {
    "duration": 44,
    "start_time": "2022-03-17T08:56:19.550Z"
   },
   {
    "duration": 380,
    "start_time": "2022-03-17T08:56:19.595Z"
   },
   {
    "duration": 442,
    "start_time": "2022-03-17T08:56:19.981Z"
   },
   {
    "duration": 431,
    "start_time": "2022-03-17T08:56:20.425Z"
   },
   {
    "duration": 47,
    "start_time": "2022-03-17T08:56:20.858Z"
   },
   {
    "duration": 12,
    "start_time": "2022-03-17T08:56:20.907Z"
   },
   {
    "duration": 3,
    "start_time": "2022-03-17T08:56:20.921Z"
   },
   {
    "duration": 55,
    "start_time": "2022-03-17T08:56:20.926Z"
   },
   {
    "duration": 3,
    "start_time": "2022-03-17T08:56:20.983Z"
   },
   {
    "duration": 82,
    "start_time": "2022-03-17T08:56:20.988Z"
   },
   {
    "duration": 264,
    "start_time": "2022-03-17T08:56:21.072Z"
   },
   {
    "duration": 252,
    "start_time": "2022-03-17T08:56:21.338Z"
   },
   {
    "duration": 358,
    "start_time": "2022-03-17T08:56:21.593Z"
   },
   {
    "duration": 38,
    "start_time": "2022-03-17T08:56:21.952Z"
   },
   {
    "duration": 4,
    "start_time": "2022-03-17T08:56:21.991Z"
   },
   {
    "duration": 28,
    "start_time": "2022-03-17T08:56:21.996Z"
   },
   {
    "duration": 3,
    "start_time": "2022-03-17T08:56:22.026Z"
   },
   {
    "duration": 93,
    "start_time": "2022-03-17T08:56:22.031Z"
   },
   {
    "duration": 37,
    "start_time": "2022-03-17T08:56:22.126Z"
   },
   {
    "duration": 78,
    "start_time": "2022-03-17T08:56:22.165Z"
   },
   {
    "duration": 76,
    "start_time": "2022-03-17T08:56:22.245Z"
   },
   {
    "duration": 3,
    "start_time": "2022-03-17T08:56:22.323Z"
   },
   {
    "duration": 8,
    "start_time": "2022-03-17T08:56:22.327Z"
   },
   {
    "duration": 4400,
    "start_time": "2022-03-17T08:56:22.337Z"
   },
   {
    "duration": 4,
    "start_time": "2022-03-17T08:56:26.739Z"
   },
   {
    "duration": 766,
    "start_time": "2022-03-17T08:56:26.744Z"
   },
   {
    "duration": 4,
    "start_time": "2022-03-17T08:56:27.512Z"
   },
   {
    "duration": 590,
    "start_time": "2022-03-17T08:56:27.517Z"
   },
   {
    "duration": 324,
    "start_time": "2022-03-17T08:56:28.109Z"
   },
   {
    "duration": 4,
    "start_time": "2022-03-17T08:57:40.803Z"
   },
   {
    "duration": 8,
    "start_time": "2022-03-17T08:57:40.810Z"
   },
   {
    "duration": 1438,
    "start_time": "2022-03-17T08:57:40.820Z"
   },
   {
    "duration": 4,
    "start_time": "2022-03-17T08:57:42.260Z"
   },
   {
    "duration": 620,
    "start_time": "2022-03-17T08:57:42.266Z"
   },
   {
    "duration": 12,
    "start_time": "2022-03-17T08:57:42.887Z"
   },
   {
    "duration": 8,
    "start_time": "2022-03-17T08:57:42.900Z"
   },
   {
    "duration": 5,
    "start_time": "2022-03-17T08:57:42.909Z"
   },
   {
    "duration": 18,
    "start_time": "2022-03-17T08:57:42.915Z"
   },
   {
    "duration": 5,
    "start_time": "2022-03-17T08:57:42.935Z"
   },
   {
    "duration": 53,
    "start_time": "2022-03-17T08:57:42.942Z"
   },
   {
    "duration": 16,
    "start_time": "2022-03-17T08:57:42.996Z"
   },
   {
    "duration": 384,
    "start_time": "2022-03-17T08:57:43.013Z"
   },
   {
    "duration": 415,
    "start_time": "2022-03-17T08:57:43.399Z"
   },
   {
    "duration": 402,
    "start_time": "2022-03-17T08:57:43.816Z"
   },
   {
    "duration": 35,
    "start_time": "2022-03-17T08:57:44.220Z"
   },
   {
    "duration": 27,
    "start_time": "2022-03-17T08:57:44.256Z"
   },
   {
    "duration": 4,
    "start_time": "2022-03-17T08:57:44.285Z"
   },
   {
    "duration": 51,
    "start_time": "2022-03-17T08:57:44.291Z"
   },
   {
    "duration": 4,
    "start_time": "2022-03-17T08:57:44.344Z"
   },
   {
    "duration": 87,
    "start_time": "2022-03-17T08:57:44.349Z"
   },
   {
    "duration": 249,
    "start_time": "2022-03-17T08:57:44.438Z"
   },
   {
    "duration": 259,
    "start_time": "2022-03-17T08:57:44.689Z"
   },
   {
    "duration": 261,
    "start_time": "2022-03-17T08:57:44.950Z"
   },
   {
    "duration": 33,
    "start_time": "2022-03-17T08:57:45.215Z"
   },
   {
    "duration": 3,
    "start_time": "2022-03-17T08:57:45.250Z"
   },
   {
    "duration": 44,
    "start_time": "2022-03-17T08:57:45.255Z"
   },
   {
    "duration": 4,
    "start_time": "2022-03-17T08:57:45.301Z"
   },
   {
    "duration": 87,
    "start_time": "2022-03-17T08:57:45.306Z"
   },
   {
    "duration": 37,
    "start_time": "2022-03-17T08:57:45.395Z"
   },
   {
    "duration": 75,
    "start_time": "2022-03-17T08:57:45.433Z"
   },
   {
    "duration": 79,
    "start_time": "2022-03-17T08:57:45.509Z"
   },
   {
    "duration": 3,
    "start_time": "2022-03-17T08:57:45.589Z"
   },
   {
    "duration": 9,
    "start_time": "2022-03-17T08:57:45.593Z"
   },
   {
    "duration": 4512,
    "start_time": "2022-03-17T08:57:45.603Z"
   },
   {
    "duration": 4,
    "start_time": "2022-03-17T08:57:50.117Z"
   },
   {
    "duration": 765,
    "start_time": "2022-03-17T08:57:50.123Z"
   },
   {
    "duration": 4,
    "start_time": "2022-03-17T08:57:50.890Z"
   },
   {
    "duration": 586,
    "start_time": "2022-03-17T08:57:50.895Z"
   },
   {
    "duration": 311,
    "start_time": "2022-03-17T08:57:51.482Z"
   },
   {
    "duration": 5,
    "start_time": "2022-03-17T08:58:27.259Z"
   },
   {
    "duration": 10,
    "start_time": "2022-03-17T08:58:27.266Z"
   },
   {
    "duration": 2211,
    "start_time": "2022-03-17T08:58:27.278Z"
   },
   {
    "duration": 6,
    "start_time": "2022-03-17T08:58:29.491Z"
   },
   {
    "duration": 1086,
    "start_time": "2022-03-17T08:58:29.499Z"
   },
   {
    "duration": 15,
    "start_time": "2022-03-17T08:58:30.587Z"
   },
   {
    "duration": 9,
    "start_time": "2022-03-17T08:58:30.604Z"
   },
   {
    "duration": 6,
    "start_time": "2022-03-17T08:58:30.615Z"
   },
   {
    "duration": 26,
    "start_time": "2022-03-17T08:58:30.624Z"
   },
   {
    "duration": 33,
    "start_time": "2022-03-17T08:58:30.652Z"
   },
   {
    "duration": 30,
    "start_time": "2022-03-17T08:58:30.687Z"
   },
   {
    "duration": 20,
    "start_time": "2022-03-17T08:58:30.719Z"
   },
   {
    "duration": 647,
    "start_time": "2022-03-17T08:58:30.740Z"
   },
   {
    "duration": 642,
    "start_time": "2022-03-17T08:58:31.389Z"
   },
   {
    "duration": 589,
    "start_time": "2022-03-17T08:58:32.033Z"
   },
   {
    "duration": 61,
    "start_time": "2022-03-17T08:58:32.624Z"
   },
   {
    "duration": 16,
    "start_time": "2022-03-17T08:58:32.687Z"
   },
   {
    "duration": 4,
    "start_time": "2022-03-17T08:58:32.705Z"
   },
   {
    "duration": 38,
    "start_time": "2022-03-17T08:58:32.710Z"
   },
   {
    "duration": 3,
    "start_time": "2022-03-17T08:58:32.750Z"
   },
   {
    "duration": 97,
    "start_time": "2022-03-17T08:58:32.754Z"
   },
   {
    "duration": 256,
    "start_time": "2022-03-17T08:58:32.853Z"
   },
   {
    "duration": 271,
    "start_time": "2022-03-17T08:58:33.110Z"
   },
   {
    "duration": 253,
    "start_time": "2022-03-17T08:58:33.384Z"
   },
   {
    "duration": 34,
    "start_time": "2022-03-17T08:58:33.639Z"
   },
   {
    "duration": 8,
    "start_time": "2022-03-17T08:58:33.674Z"
   },
   {
    "duration": 39,
    "start_time": "2022-03-17T08:58:33.683Z"
   },
   {
    "duration": 4,
    "start_time": "2022-03-17T08:58:33.724Z"
   },
   {
    "duration": 91,
    "start_time": "2022-03-17T08:58:33.729Z"
   },
   {
    "duration": 34,
    "start_time": "2022-03-17T08:58:33.821Z"
   },
   {
    "duration": 65,
    "start_time": "2022-03-17T08:58:33.857Z"
   },
   {
    "duration": 83,
    "start_time": "2022-03-17T08:58:33.924Z"
   },
   {
    "duration": 3,
    "start_time": "2022-03-17T08:58:34.008Z"
   },
   {
    "duration": 7,
    "start_time": "2022-03-17T08:58:34.013Z"
   },
   {
    "duration": 4690,
    "start_time": "2022-03-17T08:58:34.021Z"
   },
   {
    "duration": 4,
    "start_time": "2022-03-17T08:58:38.713Z"
   },
   {
    "duration": 1219,
    "start_time": "2022-03-17T08:58:38.719Z"
   },
   {
    "duration": 4,
    "start_time": "2022-03-17T08:58:39.939Z"
   },
   {
    "duration": 636,
    "start_time": "2022-03-17T08:58:39.945Z"
   },
   {
    "duration": 314,
    "start_time": "2022-03-17T08:58:40.582Z"
   },
   {
    "duration": 3,
    "start_time": "2022-03-17T09:03:26.202Z"
   },
   {
    "duration": 11,
    "start_time": "2022-03-17T09:03:26.341Z"
   },
   {
    "duration": 5,
    "start_time": "2022-03-17T09:03:34.679Z"
   },
   {
    "duration": 13,
    "start_time": "2022-03-17T09:03:34.686Z"
   },
   {
    "duration": 2102,
    "start_time": "2022-03-17T09:03:34.701Z"
   },
   {
    "duration": 5,
    "start_time": "2022-03-17T09:03:36.805Z"
   },
   {
    "duration": 637,
    "start_time": "2022-03-17T09:03:36.813Z"
   },
   {
    "duration": 3,
    "start_time": "2022-03-17T09:03:37.451Z"
   },
   {
    "duration": 37,
    "start_time": "2022-03-17T09:03:37.456Z"
   },
   {
    "duration": 28,
    "start_time": "2022-03-17T09:03:37.495Z"
   },
   {
    "duration": 6,
    "start_time": "2022-03-17T09:03:37.525Z"
   },
   {
    "duration": 51,
    "start_time": "2022-03-17T09:03:37.533Z"
   },
   {
    "duration": 9,
    "start_time": "2022-03-17T09:03:37.588Z"
   },
   {
    "duration": 30,
    "start_time": "2022-03-17T09:03:37.599Z"
   },
   {
    "duration": 16,
    "start_time": "2022-03-17T09:03:37.631Z"
   },
   {
    "duration": 388,
    "start_time": "2022-03-17T09:03:37.649Z"
   },
   {
    "duration": 430,
    "start_time": "2022-03-17T09:03:38.039Z"
   },
   {
    "duration": 414,
    "start_time": "2022-03-17T09:03:38.470Z"
   },
   {
    "duration": 42,
    "start_time": "2022-03-17T09:03:38.886Z"
   },
   {
    "duration": 16,
    "start_time": "2022-03-17T09:03:38.929Z"
   },
   {
    "duration": 3,
    "start_time": "2022-03-17T09:03:38.947Z"
   },
   {
    "duration": 60,
    "start_time": "2022-03-17T09:03:38.951Z"
   },
   {
    "duration": 4,
    "start_time": "2022-03-17T09:03:39.012Z"
   },
   {
    "duration": 88,
    "start_time": "2022-03-17T09:03:39.017Z"
   },
   {
    "duration": 263,
    "start_time": "2022-03-17T09:03:39.106Z"
   },
   {
    "duration": 252,
    "start_time": "2022-03-17T09:03:39.370Z"
   },
   {
    "duration": 252,
    "start_time": "2022-03-17T09:03:39.624Z"
   },
   {
    "duration": 32,
    "start_time": "2022-03-17T09:03:39.877Z"
   },
   {
    "duration": 4,
    "start_time": "2022-03-17T09:03:39.910Z"
   },
   {
    "duration": 29,
    "start_time": "2022-03-17T09:03:39.916Z"
   },
   {
    "duration": 4,
    "start_time": "2022-03-17T09:03:39.948Z"
   },
   {
    "duration": 103,
    "start_time": "2022-03-17T09:03:39.954Z"
   },
   {
    "duration": 38,
    "start_time": "2022-03-17T09:03:40.058Z"
   },
   {
    "duration": 65,
    "start_time": "2022-03-17T09:03:40.097Z"
   },
   {
    "duration": 77,
    "start_time": "2022-03-17T09:03:40.163Z"
   },
   {
    "duration": 3,
    "start_time": "2022-03-17T09:03:40.242Z"
   },
   {
    "duration": 12,
    "start_time": "2022-03-17T09:03:40.246Z"
   },
   {
    "duration": 4840,
    "start_time": "2022-03-17T09:03:40.259Z"
   },
   {
    "duration": 6,
    "start_time": "2022-03-17T09:03:45.100Z"
   },
   {
    "duration": 1043,
    "start_time": "2022-03-17T09:03:45.108Z"
   },
   {
    "duration": 4,
    "start_time": "2022-03-17T09:03:46.153Z"
   },
   {
    "duration": 718,
    "start_time": "2022-03-17T09:03:46.158Z"
   },
   {
    "duration": 314,
    "start_time": "2022-03-17T09:03:46.881Z"
   },
   {
    "duration": 3,
    "start_time": "2022-03-17T09:03:47.196Z"
   },
   {
    "duration": 10,
    "start_time": "2022-03-17T09:03:47.200Z"
   },
   {
    "duration": 4,
    "start_time": "2022-03-17T09:11:31.926Z"
   },
   {
    "duration": 21,
    "start_time": "2022-03-17T09:11:31.932Z"
   },
   {
    "duration": 1961,
    "start_time": "2022-03-17T09:11:31.955Z"
   },
   {
    "duration": 5,
    "start_time": "2022-03-17T09:11:33.918Z"
   },
   {
    "duration": 1140,
    "start_time": "2022-03-17T09:11:33.926Z"
   },
   {
    "duration": 2,
    "start_time": "2022-03-17T09:11:35.068Z"
   },
   {
    "duration": 20,
    "start_time": "2022-03-17T09:11:35.072Z"
   },
   {
    "duration": 7,
    "start_time": "2022-03-17T09:11:35.094Z"
   },
   {
    "duration": 7,
    "start_time": "2022-03-17T09:11:35.103Z"
   },
   {
    "duration": 20,
    "start_time": "2022-03-17T09:11:35.112Z"
   },
   {
    "duration": 6,
    "start_time": "2022-03-17T09:11:35.133Z"
   },
   {
    "duration": 51,
    "start_time": "2022-03-17T09:11:35.140Z"
   },
   {
    "duration": 16,
    "start_time": "2022-03-17T09:11:35.193Z"
   },
   {
    "duration": 398,
    "start_time": "2022-03-17T09:11:35.212Z"
   },
   {
    "duration": 433,
    "start_time": "2022-03-17T09:11:35.611Z"
   },
   {
    "duration": 439,
    "start_time": "2022-03-17T09:11:36.046Z"
   },
   {
    "duration": 35,
    "start_time": "2022-03-17T09:11:36.487Z"
   },
   {
    "duration": 12,
    "start_time": "2022-03-17T09:11:36.524Z"
   },
   {
    "duration": 3,
    "start_time": "2022-03-17T09:11:36.538Z"
   },
   {
    "duration": 64,
    "start_time": "2022-03-17T09:11:36.543Z"
   },
   {
    "duration": 3,
    "start_time": "2022-03-17T09:11:36.609Z"
   },
   {
    "duration": 85,
    "start_time": "2022-03-17T09:11:36.614Z"
   },
   {
    "duration": 264,
    "start_time": "2022-03-17T09:11:36.700Z"
   },
   {
    "duration": 263,
    "start_time": "2022-03-17T09:11:36.966Z"
   },
   {
    "duration": 282,
    "start_time": "2022-03-17T09:11:37.231Z"
   },
   {
    "duration": 38,
    "start_time": "2022-03-17T09:11:37.515Z"
   },
   {
    "duration": 4,
    "start_time": "2022-03-17T09:11:37.554Z"
   },
   {
    "duration": 42,
    "start_time": "2022-03-17T09:11:37.559Z"
   },
   {
    "duration": 3,
    "start_time": "2022-03-17T09:11:37.603Z"
   },
   {
    "duration": 82,
    "start_time": "2022-03-17T09:11:37.608Z"
   },
   {
    "duration": 36,
    "start_time": "2022-03-17T09:11:37.692Z"
   },
   {
    "duration": 76,
    "start_time": "2022-03-17T09:11:37.729Z"
   },
   {
    "duration": 83,
    "start_time": "2022-03-17T09:11:37.807Z"
   },
   {
    "duration": 3,
    "start_time": "2022-03-17T09:11:37.892Z"
   },
   {
    "duration": 7,
    "start_time": "2022-03-17T09:11:37.897Z"
   },
   {
    "duration": 4713,
    "start_time": "2022-03-17T09:11:37.906Z"
   },
   {
    "duration": 4,
    "start_time": "2022-03-17T09:11:42.621Z"
   },
   {
    "duration": 760,
    "start_time": "2022-03-17T09:11:42.627Z"
   },
   {
    "duration": 4,
    "start_time": "2022-03-17T09:11:43.389Z"
   },
   {
    "duration": 845,
    "start_time": "2022-03-17T09:11:43.394Z"
   },
   {
    "duration": 321,
    "start_time": "2022-03-17T09:11:44.244Z"
   },
   {
    "duration": 2,
    "start_time": "2022-03-17T09:11:44.567Z"
   },
   {
    "duration": 10,
    "start_time": "2022-03-17T09:11:44.571Z"
   },
   {
    "duration": 5,
    "start_time": "2022-03-17T10:31:01.797Z"
   },
   {
    "duration": 6,
    "start_time": "2022-03-17T10:41:54.567Z"
   },
   {
    "duration": 9,
    "start_time": "2022-03-17T10:41:54.575Z"
   },
   {
    "duration": 1484,
    "start_time": "2022-03-17T10:41:54.586Z"
   },
   {
    "duration": 9,
    "start_time": "2022-03-17T10:41:56.072Z"
   },
   {
    "duration": 1069,
    "start_time": "2022-03-17T10:41:56.083Z"
   },
   {
    "duration": 2,
    "start_time": "2022-03-17T10:41:57.154Z"
   },
   {
    "duration": 29,
    "start_time": "2022-03-17T10:41:57.158Z"
   },
   {
    "duration": 8,
    "start_time": "2022-03-17T10:41:57.189Z"
   },
   {
    "duration": 5,
    "start_time": "2022-03-17T10:41:57.199Z"
   },
   {
    "duration": 27,
    "start_time": "2022-03-17T10:41:57.206Z"
   },
   {
    "duration": 6,
    "start_time": "2022-03-17T10:41:57.237Z"
   },
   {
    "duration": 53,
    "start_time": "2022-03-17T10:41:57.245Z"
   },
   {
    "duration": 18,
    "start_time": "2022-03-17T10:41:57.300Z"
   },
   {
    "duration": 625,
    "start_time": "2022-03-17T10:41:57.320Z"
   },
   {
    "duration": 452,
    "start_time": "2022-03-17T10:41:57.947Z"
   },
   {
    "duration": 419,
    "start_time": "2022-03-17T10:41:58.400Z"
   },
   {
    "duration": 39,
    "start_time": "2022-03-17T10:41:58.821Z"
   },
   {
    "duration": 25,
    "start_time": "2022-03-17T10:41:58.861Z"
   },
   {
    "duration": 3,
    "start_time": "2022-03-17T10:41:58.888Z"
   },
   {
    "duration": 38,
    "start_time": "2022-03-17T10:41:58.893Z"
   },
   {
    "duration": 4,
    "start_time": "2022-03-17T10:41:58.933Z"
   },
   {
    "duration": 108,
    "start_time": "2022-03-17T10:41:58.938Z"
   },
   {
    "duration": 303,
    "start_time": "2022-03-17T10:41:59.048Z"
   },
   {
    "duration": 256,
    "start_time": "2022-03-17T10:41:59.353Z"
   },
   {
    "duration": 378,
    "start_time": "2022-03-17T10:41:59.610Z"
   },
   {
    "duration": 44,
    "start_time": "2022-03-17T10:41:59.990Z"
   },
   {
    "duration": 4,
    "start_time": "2022-03-17T10:42:00.036Z"
   },
   {
    "duration": 58,
    "start_time": "2022-03-17T10:42:00.042Z"
   },
   {
    "duration": 4,
    "start_time": "2022-03-17T10:42:00.105Z"
   },
   {
    "duration": 126,
    "start_time": "2022-03-17T10:42:00.111Z"
   },
   {
    "duration": 45,
    "start_time": "2022-03-17T10:42:00.239Z"
   },
   {
    "duration": 65,
    "start_time": "2022-03-17T10:42:00.286Z"
   },
   {
    "duration": 87,
    "start_time": "2022-03-17T10:42:00.353Z"
   },
   {
    "duration": 4,
    "start_time": "2022-03-17T10:42:00.442Z"
   },
   {
    "duration": 24,
    "start_time": "2022-03-17T10:42:00.448Z"
   },
   {
    "duration": 4942,
    "start_time": "2022-03-17T10:42:00.474Z"
   },
   {
    "duration": 7,
    "start_time": "2022-03-17T10:42:05.418Z"
   },
   {
    "duration": 839,
    "start_time": "2022-03-17T10:42:05.426Z"
   },
   {
    "duration": 5,
    "start_time": "2022-03-17T10:42:06.267Z"
   },
   {
    "duration": 607,
    "start_time": "2022-03-17T10:42:06.274Z"
   },
   {
    "duration": 333,
    "start_time": "2022-03-17T10:42:06.883Z"
   },
   {
    "duration": 3,
    "start_time": "2022-03-17T10:42:07.218Z"
   },
   {
    "duration": 8,
    "start_time": "2022-03-17T10:42:07.222Z"
   },
   {
    "duration": 440,
    "start_time": "2022-03-17T10:53:21.644Z"
   },
   {
    "duration": 15,
    "start_time": "2022-03-17T10:59:37.114Z"
   },
   {
    "duration": 16,
    "start_time": "2022-03-17T10:59:42.751Z"
   },
   {
    "duration": 17,
    "start_time": "2022-03-17T10:59:49.291Z"
   },
   {
    "duration": 20,
    "start_time": "2022-03-17T11:00:09.006Z"
   },
   {
    "duration": 17,
    "start_time": "2022-03-17T11:00:13.582Z"
   },
   {
    "duration": 15,
    "start_time": "2022-03-17T11:00:16.874Z"
   },
   {
    "duration": 11,
    "start_time": "2022-03-17T11:01:57.763Z"
   },
   {
    "duration": 10,
    "start_time": "2022-03-17T11:02:08.044Z"
   },
   {
    "duration": 67,
    "start_time": "2022-03-17T11:02:11.024Z"
   },
   {
    "duration": 266,
    "start_time": "2022-03-17T11:02:54.293Z"
   },
   {
    "duration": 788,
    "start_time": "2022-03-17T11:02:58.713Z"
   },
   {
    "duration": 36,
    "start_time": "2022-03-17T11:07:27.191Z"
   },
   {
    "duration": 35,
    "start_time": "2022-03-17T11:12:29.912Z"
   },
   {
    "duration": 5,
    "start_time": "2022-03-17T11:14:17.186Z"
   },
   {
    "duration": 159,
    "start_time": "2022-03-17T11:16:59.432Z"
   },
   {
    "duration": 11,
    "start_time": "2022-03-17T11:17:07.486Z"
   },
   {
    "duration": 11,
    "start_time": "2022-03-17T11:17:18.654Z"
   },
   {
    "duration": 16,
    "start_time": "2022-03-17T11:18:27.452Z"
   },
   {
    "duration": 15,
    "start_time": "2022-03-17T11:18:45.660Z"
   },
   {
    "duration": 18,
    "start_time": "2022-03-17T11:18:59.189Z"
   },
   {
    "duration": 11,
    "start_time": "2022-03-17T11:19:44.608Z"
   },
   {
    "duration": 10,
    "start_time": "2022-03-17T11:19:46.419Z"
   },
   {
    "duration": 2,
    "start_time": "2022-03-17T11:19:54.245Z"
   },
   {
    "duration": 11,
    "start_time": "2022-03-17T11:20:05.653Z"
   },
   {
    "duration": 11,
    "start_time": "2022-03-17T11:20:15.250Z"
   },
   {
    "duration": 17,
    "start_time": "2022-03-17T11:21:15.608Z"
   },
   {
    "duration": 10,
    "start_time": "2022-03-17T11:21:40.074Z"
   },
   {
    "duration": 9,
    "start_time": "2022-03-17T11:21:54.636Z"
   },
   {
    "duration": 12,
    "start_time": "2022-03-17T11:21:59.209Z"
   },
   {
    "duration": 12,
    "start_time": "2022-03-17T11:23:34.234Z"
   },
   {
    "duration": 9,
    "start_time": "2022-03-17T11:23:53.423Z"
   },
   {
    "duration": 10,
    "start_time": "2022-03-17T11:23:56.340Z"
   },
   {
    "duration": 11,
    "start_time": "2022-03-17T11:24:00.883Z"
   },
   {
    "duration": 10,
    "start_time": "2022-03-17T11:24:37.338Z"
   },
   {
    "duration": 10,
    "start_time": "2022-03-17T11:24:41.198Z"
   },
   {
    "duration": 10,
    "start_time": "2022-03-17T11:24:44.298Z"
   },
   {
    "duration": 11,
    "start_time": "2022-03-17T11:24:49.378Z"
   },
   {
    "duration": 5,
    "start_time": "2022-03-17T11:26:54.727Z"
   },
   {
    "duration": 9,
    "start_time": "2022-03-17T11:26:54.734Z"
   },
   {
    "duration": 1448,
    "start_time": "2022-03-17T11:26:54.746Z"
   },
   {
    "duration": 5,
    "start_time": "2022-03-17T11:26:56.195Z"
   },
   {
    "duration": 625,
    "start_time": "2022-03-17T11:26:56.201Z"
   },
   {
    "duration": 2,
    "start_time": "2022-03-17T11:26:56.828Z"
   },
   {
    "duration": 16,
    "start_time": "2022-03-17T11:26:56.832Z"
   },
   {
    "duration": 7,
    "start_time": "2022-03-17T11:26:56.849Z"
   },
   {
    "duration": 24,
    "start_time": "2022-03-17T11:26:56.857Z"
   },
   {
    "duration": 16,
    "start_time": "2022-03-17T11:26:56.883Z"
   },
   {
    "duration": 6,
    "start_time": "2022-03-17T11:26:56.901Z"
   },
   {
    "duration": 28,
    "start_time": "2022-03-17T11:26:56.909Z"
   },
   {
    "duration": 15,
    "start_time": "2022-03-17T11:26:56.938Z"
   },
   {
    "duration": 382,
    "start_time": "2022-03-17T11:26:56.954Z"
   },
   {
    "duration": 405,
    "start_time": "2022-03-17T11:26:57.337Z"
   },
   {
    "duration": 397,
    "start_time": "2022-03-17T11:26:57.745Z"
   },
   {
    "duration": 49,
    "start_time": "2022-03-17T11:26:58.144Z"
   },
   {
    "duration": 12,
    "start_time": "2022-03-17T11:26:58.195Z"
   },
   {
    "duration": 4,
    "start_time": "2022-03-17T11:26:58.208Z"
   },
   {
    "duration": 42,
    "start_time": "2022-03-17T11:26:58.213Z"
   },
   {
    "duration": 4,
    "start_time": "2022-03-17T11:26:58.256Z"
   },
   {
    "duration": 79,
    "start_time": "2022-03-17T11:26:58.281Z"
   },
   {
    "duration": 269,
    "start_time": "2022-03-17T11:26:58.361Z"
   },
   {
    "duration": 349,
    "start_time": "2022-03-17T11:26:58.632Z"
   },
   {
    "duration": 253,
    "start_time": "2022-03-17T11:26:58.983Z"
   },
   {
    "duration": 50,
    "start_time": "2022-03-17T11:26:59.238Z"
   },
   {
    "duration": 4,
    "start_time": "2022-03-17T11:26:59.290Z"
   },
   {
    "duration": 28,
    "start_time": "2022-03-17T11:26:59.295Z"
   },
   {
    "duration": 3,
    "start_time": "2022-03-17T11:26:59.325Z"
   },
   {
    "duration": 95,
    "start_time": "2022-03-17T11:26:59.332Z"
   },
   {
    "duration": 34,
    "start_time": "2022-03-17T11:26:59.428Z"
   },
   {
    "duration": 68,
    "start_time": "2022-03-17T11:26:59.463Z"
   },
   {
    "duration": 77,
    "start_time": "2022-03-17T11:26:59.533Z"
   },
   {
    "duration": 3,
    "start_time": "2022-03-17T11:26:59.611Z"
   },
   {
    "duration": 10,
    "start_time": "2022-03-17T11:26:59.615Z"
   },
   {
    "duration": 4398,
    "start_time": "2022-03-17T11:26:59.627Z"
   },
   {
    "duration": 4,
    "start_time": "2022-03-17T11:27:04.027Z"
   },
   {
    "duration": 761,
    "start_time": "2022-03-17T11:27:04.032Z"
   },
   {
    "duration": 3,
    "start_time": "2022-03-17T11:27:04.795Z"
   },
   {
    "duration": 571,
    "start_time": "2022-03-17T11:27:04.800Z"
   },
   {
    "duration": 313,
    "start_time": "2022-03-17T11:27:05.380Z"
   },
   {
    "duration": 3,
    "start_time": "2022-03-17T11:27:05.694Z"
   },
   {
    "duration": 8,
    "start_time": "2022-03-17T11:27:05.698Z"
   },
   {
    "duration": 187,
    "start_time": "2022-03-17T11:27:05.707Z"
   },
   {
    "duration": 15,
    "start_time": "2022-03-17T11:27:05.896Z"
   },
   {
    "duration": 31,
    "start_time": "2022-03-17T11:27:05.913Z"
   },
   {
    "duration": 0,
    "start_time": "2022-03-17T11:27:05.946Z"
   },
   {
    "duration": 0,
    "start_time": "2022-03-17T11:27:05.947Z"
   },
   {
    "duration": 175,
    "start_time": "2022-03-17T11:27:20.480Z"
   },
   {
    "duration": 266,
    "start_time": "2022-03-17T11:27:24.423Z"
   },
   {
    "duration": 558,
    "start_time": "2022-03-17T11:27:24.691Z"
   },
   {
    "duration": 11,
    "start_time": "2022-03-17T11:28:48.460Z"
   },
   {
    "duration": 4,
    "start_time": "2022-03-17T11:31:20.467Z"
   },
   {
    "duration": 4,
    "start_time": "2022-03-17T11:33:31.885Z"
   },
   {
    "duration": 14,
    "start_time": "2022-03-17T11:33:31.893Z"
   },
   {
    "duration": 1502,
    "start_time": "2022-03-17T11:33:31.909Z"
   },
   {
    "duration": 4,
    "start_time": "2022-03-17T11:33:33.412Z"
   },
   {
    "duration": 590,
    "start_time": "2022-03-17T11:33:33.418Z"
   },
   {
    "duration": 2,
    "start_time": "2022-03-17T11:33:34.010Z"
   },
   {
    "duration": 17,
    "start_time": "2022-03-17T11:33:34.013Z"
   },
   {
    "duration": 7,
    "start_time": "2022-03-17T11:33:34.031Z"
   },
   {
    "duration": 5,
    "start_time": "2022-03-17T11:33:34.039Z"
   },
   {
    "duration": 43,
    "start_time": "2022-03-17T11:33:34.046Z"
   },
   {
    "duration": 6,
    "start_time": "2022-03-17T11:33:34.090Z"
   },
   {
    "duration": 22,
    "start_time": "2022-03-17T11:33:34.097Z"
   },
   {
    "duration": 15,
    "start_time": "2022-03-17T11:33:34.120Z"
   },
   {
    "duration": 374,
    "start_time": "2022-03-17T11:33:34.137Z"
   },
   {
    "duration": 423,
    "start_time": "2022-03-17T11:33:34.513Z"
   },
   {
    "duration": 420,
    "start_time": "2022-03-17T11:33:34.938Z"
   },
   {
    "duration": 44,
    "start_time": "2022-03-17T11:33:35.360Z"
   },
   {
    "duration": 13,
    "start_time": "2022-03-17T11:33:35.406Z"
   },
   {
    "duration": 3,
    "start_time": "2022-03-17T11:33:35.420Z"
   },
   {
    "duration": 57,
    "start_time": "2022-03-17T11:33:35.424Z"
   },
   {
    "duration": 4,
    "start_time": "2022-03-17T11:33:35.482Z"
   },
   {
    "duration": 90,
    "start_time": "2022-03-17T11:33:35.488Z"
   },
   {
    "duration": 264,
    "start_time": "2022-03-17T11:33:35.580Z"
   },
   {
    "duration": 264,
    "start_time": "2022-03-17T11:33:35.845Z"
   },
   {
    "duration": 254,
    "start_time": "2022-03-17T11:33:36.113Z"
   },
   {
    "duration": 38,
    "start_time": "2022-03-17T11:33:36.369Z"
   },
   {
    "duration": 4,
    "start_time": "2022-03-17T11:33:36.409Z"
   },
   {
    "duration": 29,
    "start_time": "2022-03-17T11:33:36.414Z"
   },
   {
    "duration": 3,
    "start_time": "2022-03-17T11:33:36.445Z"
   },
   {
    "duration": 92,
    "start_time": "2022-03-17T11:33:36.450Z"
   },
   {
    "duration": 38,
    "start_time": "2022-03-17T11:33:36.544Z"
   },
   {
    "duration": 62,
    "start_time": "2022-03-17T11:33:36.584Z"
   },
   {
    "duration": 84,
    "start_time": "2022-03-17T11:33:36.648Z"
   },
   {
    "duration": 3,
    "start_time": "2022-03-17T11:33:36.734Z"
   },
   {
    "duration": 12,
    "start_time": "2022-03-17T11:33:36.738Z"
   },
   {
    "duration": 4458,
    "start_time": "2022-03-17T11:33:36.752Z"
   },
   {
    "duration": 6,
    "start_time": "2022-03-17T11:33:41.212Z"
   },
   {
    "duration": 774,
    "start_time": "2022-03-17T11:33:41.219Z"
   },
   {
    "duration": 5,
    "start_time": "2022-03-17T11:33:41.995Z"
   },
   {
    "duration": 571,
    "start_time": "2022-03-17T11:33:42.002Z"
   },
   {
    "duration": 302,
    "start_time": "2022-03-17T11:33:42.580Z"
   },
   {
    "duration": 2,
    "start_time": "2022-03-17T11:33:42.884Z"
   },
   {
    "duration": 8,
    "start_time": "2022-03-17T11:33:42.887Z"
   },
   {
    "duration": 166,
    "start_time": "2022-03-17T11:33:42.897Z"
   },
   {
    "duration": 171,
    "start_time": "2022-03-17T11:33:43.064Z"
   },
   {
    "duration": 4,
    "start_time": "2022-03-17T11:33:43.236Z"
   },
   {
    "duration": 271,
    "start_time": "2022-03-17T11:33:43.242Z"
   },
   {
    "duration": 9,
    "start_time": "2022-03-17T11:33:43.515Z"
   },
   {
    "duration": 678,
    "start_time": "2022-03-17T11:33:43.526Z"
   },
   {
    "duration": 8,
    "start_time": "2022-03-17T11:36:01.586Z"
   },
   {
    "duration": 4,
    "start_time": "2022-03-17T12:30:47.139Z"
   },
   {
    "duration": 5,
    "start_time": "2022-03-17T12:30:47.147Z"
   },
   {
    "duration": 1486,
    "start_time": "2022-03-17T12:30:47.161Z"
   },
   {
    "duration": 4,
    "start_time": "2022-03-17T12:30:48.649Z"
   },
   {
    "duration": 601,
    "start_time": "2022-03-17T12:30:48.654Z"
   },
   {
    "duration": 2,
    "start_time": "2022-03-17T12:30:49.257Z"
   },
   {
    "duration": 25,
    "start_time": "2022-03-17T12:30:49.260Z"
   },
   {
    "duration": 7,
    "start_time": "2022-03-17T12:30:49.286Z"
   },
   {
    "duration": 6,
    "start_time": "2022-03-17T12:30:49.295Z"
   },
   {
    "duration": 17,
    "start_time": "2022-03-17T12:30:49.303Z"
   },
   {
    "duration": 5,
    "start_time": "2022-03-17T12:30:49.322Z"
   },
   {
    "duration": 21,
    "start_time": "2022-03-17T12:30:49.329Z"
   },
   {
    "duration": 41,
    "start_time": "2022-03-17T12:30:49.352Z"
   },
   {
    "duration": 358,
    "start_time": "2022-03-17T12:30:49.394Z"
   },
   {
    "duration": 401,
    "start_time": "2022-03-17T12:30:49.753Z"
   },
   {
    "duration": 386,
    "start_time": "2022-03-17T12:30:50.156Z"
   },
   {
    "duration": 45,
    "start_time": "2022-03-17T12:30:50.543Z"
   },
   {
    "duration": 13,
    "start_time": "2022-03-17T12:30:50.589Z"
   },
   {
    "duration": 4,
    "start_time": "2022-03-17T12:30:50.604Z"
   },
   {
    "duration": 41,
    "start_time": "2022-03-17T12:30:50.609Z"
   },
   {
    "duration": 4,
    "start_time": "2022-03-17T12:30:50.652Z"
   },
   {
    "duration": 93,
    "start_time": "2022-03-17T12:30:50.658Z"
   },
   {
    "duration": 261,
    "start_time": "2022-03-17T12:30:50.753Z"
   },
   {
    "duration": 252,
    "start_time": "2022-03-17T12:30:51.016Z"
   },
   {
    "duration": 254,
    "start_time": "2022-03-17T12:30:51.270Z"
   },
   {
    "duration": 32,
    "start_time": "2022-03-17T12:30:51.526Z"
   },
   {
    "duration": 4,
    "start_time": "2022-03-17T12:30:51.560Z"
   },
   {
    "duration": 26,
    "start_time": "2022-03-17T12:30:51.581Z"
   },
   {
    "duration": 4,
    "start_time": "2022-03-17T12:30:51.609Z"
   },
   {
    "duration": 91,
    "start_time": "2022-03-17T12:30:51.617Z"
   },
   {
    "duration": 35,
    "start_time": "2022-03-17T12:30:51.709Z"
   },
   {
    "duration": 73,
    "start_time": "2022-03-17T12:30:51.746Z"
   },
   {
    "duration": 76,
    "start_time": "2022-03-17T12:30:51.821Z"
   },
   {
    "duration": 2,
    "start_time": "2022-03-17T12:30:51.899Z"
   },
   {
    "duration": 8,
    "start_time": "2022-03-17T12:30:51.904Z"
   },
   {
    "duration": 4381,
    "start_time": "2022-03-17T12:30:51.914Z"
   },
   {
    "duration": 4,
    "start_time": "2022-03-17T12:30:56.297Z"
   },
   {
    "duration": 754,
    "start_time": "2022-03-17T12:30:56.303Z"
   },
   {
    "duration": 5,
    "start_time": "2022-03-17T12:30:57.058Z"
   },
   {
    "duration": 649,
    "start_time": "2022-03-17T12:30:57.065Z"
   },
   {
    "duration": 305,
    "start_time": "2022-03-17T12:30:57.716Z"
   },
   {
    "duration": 2,
    "start_time": "2022-03-17T12:30:58.023Z"
   },
   {
    "duration": 5,
    "start_time": "2022-03-17T12:30:58.027Z"
   },
   {
    "duration": 166,
    "start_time": "2022-03-17T12:30:58.033Z"
   },
   {
    "duration": 180,
    "start_time": "2022-03-17T12:30:58.201Z"
   },
   {
    "duration": 4,
    "start_time": "2022-03-17T12:30:58.383Z"
   },
   {
    "duration": 402,
    "start_time": "2022-03-17T12:30:58.389Z"
   },
   {
    "duration": 280,
    "start_time": "2022-03-17T12:30:58.793Z"
   },
   {
    "duration": 13,
    "start_time": "2022-03-17T12:30:59.075Z"
   },
   {
    "duration": 8,
    "start_time": "2022-03-17T12:30:59.090Z"
   },
   {
    "duration": 91,
    "start_time": "2022-03-17T12:30:59.099Z"
   },
   {
    "duration": 462,
    "start_time": "2022-03-17T12:30:59.191Z"
   },
   {
    "duration": 0,
    "start_time": "2022-03-17T12:30:59.654Z"
   },
   {
    "duration": 4,
    "start_time": "2022-03-17T12:32:25.791Z"
   },
   {
    "duration": 33,
    "start_time": "2022-03-17T12:32:25.797Z"
   },
   {
    "duration": 1487,
    "start_time": "2022-03-17T12:32:25.832Z"
   },
   {
    "duration": 4,
    "start_time": "2022-03-17T12:32:27.321Z"
   },
   {
    "duration": 609,
    "start_time": "2022-03-17T12:32:27.327Z"
   },
   {
    "duration": 2,
    "start_time": "2022-03-17T12:32:27.937Z"
   },
   {
    "duration": 16,
    "start_time": "2022-03-17T12:32:27.941Z"
   },
   {
    "duration": 23,
    "start_time": "2022-03-17T12:32:27.958Z"
   },
   {
    "duration": 4,
    "start_time": "2022-03-17T12:32:27.982Z"
   },
   {
    "duration": 20,
    "start_time": "2022-03-17T12:32:27.988Z"
   },
   {
    "duration": 5,
    "start_time": "2022-03-17T12:32:28.010Z"
   },
   {
    "duration": 26,
    "start_time": "2022-03-17T12:32:28.016Z"
   },
   {
    "duration": 13,
    "start_time": "2022-03-17T12:32:28.044Z"
   },
   {
    "duration": 384,
    "start_time": "2022-03-17T12:32:28.058Z"
   },
   {
    "duration": 414,
    "start_time": "2022-03-17T12:32:28.444Z"
   },
   {
    "duration": 421,
    "start_time": "2022-03-17T12:32:28.860Z"
   },
   {
    "duration": 46,
    "start_time": "2022-03-17T12:32:29.283Z"
   },
   {
    "duration": 12,
    "start_time": "2022-03-17T12:32:29.331Z"
   },
   {
    "duration": 4,
    "start_time": "2022-03-17T12:32:29.345Z"
   },
   {
    "duration": 59,
    "start_time": "2022-03-17T12:32:29.350Z"
   },
   {
    "duration": 4,
    "start_time": "2022-03-17T12:32:29.411Z"
   },
   {
    "duration": 87,
    "start_time": "2022-03-17T12:32:29.416Z"
   },
   {
    "duration": 249,
    "start_time": "2022-03-17T12:32:29.504Z"
   },
   {
    "duration": 251,
    "start_time": "2022-03-17T12:32:29.754Z"
   },
   {
    "duration": 261,
    "start_time": "2022-03-17T12:32:30.007Z"
   },
   {
    "duration": 39,
    "start_time": "2022-03-17T12:32:30.270Z"
   },
   {
    "duration": 11,
    "start_time": "2022-03-17T12:32:30.311Z"
   },
   {
    "duration": 30,
    "start_time": "2022-03-17T12:32:30.323Z"
   },
   {
    "duration": 4,
    "start_time": "2022-03-17T12:32:30.357Z"
   },
   {
    "duration": 92,
    "start_time": "2022-03-17T12:32:30.362Z"
   },
   {
    "duration": 49,
    "start_time": "2022-03-17T12:32:30.455Z"
   },
   {
    "duration": 81,
    "start_time": "2022-03-17T12:32:30.506Z"
   },
   {
    "duration": 70,
    "start_time": "2022-03-17T12:32:30.588Z"
   },
   {
    "duration": 9,
    "start_time": "2022-03-17T12:32:30.660Z"
   },
   {
    "duration": 8,
    "start_time": "2022-03-17T12:32:30.681Z"
   },
   {
    "duration": 4508,
    "start_time": "2022-03-17T12:32:30.691Z"
   },
   {
    "duration": 4,
    "start_time": "2022-03-17T12:32:35.201Z"
   },
   {
    "duration": 764,
    "start_time": "2022-03-17T12:32:35.207Z"
   },
   {
    "duration": 3,
    "start_time": "2022-03-17T12:32:35.980Z"
   },
   {
    "duration": 667,
    "start_time": "2022-03-17T12:32:35.985Z"
   },
   {
    "duration": 324,
    "start_time": "2022-03-17T12:32:36.653Z"
   },
   {
    "duration": 3,
    "start_time": "2022-03-17T12:32:36.981Z"
   },
   {
    "duration": 6,
    "start_time": "2022-03-17T12:32:36.985Z"
   },
   {
    "duration": 179,
    "start_time": "2022-03-17T12:32:36.993Z"
   },
   {
    "duration": 418,
    "start_time": "2022-03-17T12:32:37.174Z"
   },
   {
    "duration": 13,
    "start_time": "2022-03-17T12:32:37.594Z"
   },
   {
    "duration": 13,
    "start_time": "2022-03-17T12:32:37.608Z"
   },
   {
    "duration": 113,
    "start_time": "2022-03-17T12:32:37.622Z"
   },
   {
    "duration": 178,
    "start_time": "2022-03-17T12:32:37.737Z"
   },
   {
    "duration": 0,
    "start_time": "2022-03-17T12:32:37.917Z"
   },
   {
    "duration": 0,
    "start_time": "2022-03-17T12:32:37.918Z"
   },
   {
    "duration": 83,
    "start_time": "2022-03-17T12:33:07.226Z"
   },
   {
    "duration": 4,
    "start_time": "2022-03-17T12:33:20.236Z"
   },
   {
    "duration": 117,
    "start_time": "2022-03-17T12:34:49.065Z"
   },
   {
    "duration": 99,
    "start_time": "2022-03-17T12:35:26.428Z"
   },
   {
    "duration": 121,
    "start_time": "2022-03-17T12:35:39.893Z"
   },
   {
    "duration": 4,
    "start_time": "2022-03-17T12:35:41.475Z"
   },
   {
    "duration": 266,
    "start_time": "2022-03-17T12:35:42.925Z"
   },
   {
    "duration": 74,
    "start_time": "2022-03-17T12:36:35.305Z"
   },
   {
    "duration": 58,
    "start_time": "2022-03-17T12:36:41.358Z"
   },
   {
    "duration": 55,
    "start_time": "2022-03-17T12:36:57.283Z"
   },
   {
    "duration": 9,
    "start_time": "2022-03-17T12:39:36.235Z"
   },
   {
    "duration": 8,
    "start_time": "2022-03-17T12:40:09.137Z"
   },
   {
    "duration": 351,
    "start_time": "2022-03-17T12:40:18.958Z"
   },
   {
    "duration": 4,
    "start_time": "2022-03-17T12:40:19.420Z"
   },
   {
    "duration": 11,
    "start_time": "2022-03-17T12:40:19.829Z"
   },
   {
    "duration": 306,
    "start_time": "2022-03-17T12:40:37.638Z"
   },
   {
    "duration": 5,
    "start_time": "2022-03-17T12:40:37.946Z"
   },
   {
    "duration": 10,
    "start_time": "2022-03-17T12:40:39.395Z"
   },
   {
    "duration": 10,
    "start_time": "2022-03-17T12:40:55.384Z"
   },
   {
    "duration": 3,
    "start_time": "2022-03-17T12:49:28.762Z"
   },
   {
    "duration": 4,
    "start_time": "2022-03-17T12:49:45.360Z"
   },
   {
    "duration": 5,
    "start_time": "2022-03-17T12:49:45.368Z"
   },
   {
    "duration": 1465,
    "start_time": "2022-03-17T12:49:45.376Z"
   },
   {
    "duration": 4,
    "start_time": "2022-03-17T12:49:46.842Z"
   },
   {
    "duration": 711,
    "start_time": "2022-03-17T12:49:46.848Z"
   },
   {
    "duration": 3,
    "start_time": "2022-03-17T12:49:47.561Z"
   },
   {
    "duration": 23,
    "start_time": "2022-03-17T12:49:47.565Z"
   },
   {
    "duration": 7,
    "start_time": "2022-03-17T12:49:47.590Z"
   },
   {
    "duration": 6,
    "start_time": "2022-03-17T12:49:47.598Z"
   },
   {
    "duration": 17,
    "start_time": "2022-03-17T12:49:47.606Z"
   },
   {
    "duration": 6,
    "start_time": "2022-03-17T12:49:47.625Z"
   },
   {
    "duration": 62,
    "start_time": "2022-03-17T12:49:47.635Z"
   },
   {
    "duration": 16,
    "start_time": "2022-03-17T12:49:47.699Z"
   },
   {
    "duration": 352,
    "start_time": "2022-03-17T12:49:47.717Z"
   },
   {
    "duration": 396,
    "start_time": "2022-03-17T12:49:48.070Z"
   },
   {
    "duration": 353,
    "start_time": "2022-03-17T12:49:48.468Z"
   },
   {
    "duration": 33,
    "start_time": "2022-03-17T12:49:48.822Z"
   },
   {
    "duration": 24,
    "start_time": "2022-03-17T12:49:48.857Z"
   },
   {
    "duration": 3,
    "start_time": "2022-03-17T12:49:48.883Z"
   },
   {
    "duration": 43,
    "start_time": "2022-03-17T12:49:48.888Z"
   },
   {
    "duration": 4,
    "start_time": "2022-03-17T12:49:48.932Z"
   },
   {
    "duration": 85,
    "start_time": "2022-03-17T12:49:48.937Z"
   },
   {
    "duration": 239,
    "start_time": "2022-03-17T12:49:49.023Z"
   },
   {
    "duration": 250,
    "start_time": "2022-03-17T12:49:49.264Z"
   },
   {
    "duration": 252,
    "start_time": "2022-03-17T12:49:49.516Z"
   },
   {
    "duration": 35,
    "start_time": "2022-03-17T12:49:49.770Z"
   },
   {
    "duration": 4,
    "start_time": "2022-03-17T12:49:49.807Z"
   },
   {
    "duration": 32,
    "start_time": "2022-03-17T12:49:49.812Z"
   },
   {
    "duration": 3,
    "start_time": "2022-03-17T12:49:49.846Z"
   },
   {
    "duration": 83,
    "start_time": "2022-03-17T12:49:49.852Z"
   },
   {
    "duration": 44,
    "start_time": "2022-03-17T12:49:49.937Z"
   },
   {
    "duration": 64,
    "start_time": "2022-03-17T12:49:49.982Z"
   },
   {
    "duration": 80,
    "start_time": "2022-03-17T12:49:50.048Z"
   },
   {
    "duration": 3,
    "start_time": "2022-03-17T12:49:50.130Z"
   },
   {
    "duration": 8,
    "start_time": "2022-03-17T12:49:50.135Z"
   },
   {
    "duration": 4456,
    "start_time": "2022-03-17T12:49:50.144Z"
   },
   {
    "duration": 4,
    "start_time": "2022-03-17T12:49:54.602Z"
   },
   {
    "duration": 827,
    "start_time": "2022-03-17T12:49:54.608Z"
   },
   {
    "duration": 3,
    "start_time": "2022-03-17T12:49:55.437Z"
   },
   {
    "duration": 555,
    "start_time": "2022-03-17T12:49:55.442Z"
   },
   {
    "duration": 310,
    "start_time": "2022-03-17T12:49:55.999Z"
   },
   {
    "duration": 2,
    "start_time": "2022-03-17T12:49:56.310Z"
   },
   {
    "duration": 6,
    "start_time": "2022-03-17T12:49:56.313Z"
   },
   {
    "duration": 171,
    "start_time": "2022-03-17T12:49:56.320Z"
   },
   {
    "duration": 392,
    "start_time": "2022-03-17T12:49:56.492Z"
   },
   {
    "duration": 10,
    "start_time": "2022-03-17T12:49:56.886Z"
   },
   {
    "duration": 30,
    "start_time": "2022-03-17T12:49:56.898Z"
   },
   {
    "duration": 77,
    "start_time": "2022-03-17T12:49:56.929Z"
   },
   {
    "duration": 124,
    "start_time": "2022-03-17T12:49:57.007Z"
   },
   {
    "duration": 275,
    "start_time": "2022-03-17T12:49:57.132Z"
   },
   {
    "duration": 4,
    "start_time": "2022-03-17T12:49:57.408Z"
   },
   {
    "duration": 19,
    "start_time": "2022-03-17T12:49:57.413Z"
   },
   {
    "duration": 11,
    "start_time": "2022-03-17T12:49:57.434Z"
   },
   {
    "duration": 96,
    "start_time": "2022-03-17T12:49:57.446Z"
   },
   {
    "duration": 129,
    "start_time": "2022-03-17T12:49:57.544Z"
   },
   {
    "duration": 6,
    "start_time": "2022-03-17T12:49:57.675Z"
   },
   {
    "duration": 2,
    "start_time": "2022-03-17T12:51:44.218Z"
   },
   {
    "duration": 2,
    "start_time": "2022-03-17T12:51:44.889Z"
   },
   {
    "duration": 2,
    "start_time": "2022-03-17T12:51:47.065Z"
   },
   {
    "duration": 4,
    "start_time": "2022-03-17T12:53:09.615Z"
   },
   {
    "duration": 5,
    "start_time": "2022-03-17T12:53:09.622Z"
   },
   {
    "duration": 1458,
    "start_time": "2022-03-17T12:53:09.632Z"
   },
   {
    "duration": 4,
    "start_time": "2022-03-17T12:53:11.092Z"
   },
   {
    "duration": 618,
    "start_time": "2022-03-17T12:53:11.098Z"
   },
   {
    "duration": 2,
    "start_time": "2022-03-17T12:53:11.718Z"
   },
   {
    "duration": 15,
    "start_time": "2022-03-17T12:53:11.721Z"
   },
   {
    "duration": 6,
    "start_time": "2022-03-17T12:53:11.738Z"
   },
   {
    "duration": 6,
    "start_time": "2022-03-17T12:53:11.745Z"
   },
   {
    "duration": 37,
    "start_time": "2022-03-17T12:53:11.753Z"
   },
   {
    "duration": 7,
    "start_time": "2022-03-17T12:53:11.792Z"
   },
   {
    "duration": 22,
    "start_time": "2022-03-17T12:53:11.801Z"
   },
   {
    "duration": 14,
    "start_time": "2022-03-17T12:53:11.825Z"
   },
   {
    "duration": 383,
    "start_time": "2022-03-17T12:53:11.840Z"
   },
   {
    "duration": 397,
    "start_time": "2022-03-17T12:53:12.225Z"
   },
   {
    "duration": 493,
    "start_time": "2022-03-17T12:53:12.623Z"
   },
   {
    "duration": 39,
    "start_time": "2022-03-17T12:53:13.117Z"
   },
   {
    "duration": 27,
    "start_time": "2022-03-17T12:53:13.158Z"
   },
   {
    "duration": 4,
    "start_time": "2022-03-17T12:53:13.186Z"
   },
   {
    "duration": 38,
    "start_time": "2022-03-17T12:53:13.191Z"
   },
   {
    "duration": 4,
    "start_time": "2022-03-17T12:53:13.231Z"
   },
   {
    "duration": 92,
    "start_time": "2022-03-17T12:53:13.236Z"
   },
   {
    "duration": 252,
    "start_time": "2022-03-17T12:53:13.329Z"
   },
   {
    "duration": 245,
    "start_time": "2022-03-17T12:53:13.582Z"
   },
   {
    "duration": 248,
    "start_time": "2022-03-17T12:53:13.829Z"
   },
   {
    "duration": 30,
    "start_time": "2022-03-17T12:53:14.081Z"
   },
   {
    "duration": 4,
    "start_time": "2022-03-17T12:53:14.113Z"
   },
   {
    "duration": 35,
    "start_time": "2022-03-17T12:53:14.119Z"
   },
   {
    "duration": 6,
    "start_time": "2022-03-17T12:53:14.156Z"
   },
   {
    "duration": 98,
    "start_time": "2022-03-17T12:53:14.166Z"
   },
   {
    "duration": 44,
    "start_time": "2022-03-17T12:53:14.266Z"
   },
   {
    "duration": 71,
    "start_time": "2022-03-17T12:53:14.312Z"
   },
   {
    "duration": 66,
    "start_time": "2022-03-17T12:53:14.384Z"
   },
   {
    "duration": 2,
    "start_time": "2022-03-17T12:53:14.452Z"
   },
   {
    "duration": 26,
    "start_time": "2022-03-17T12:53:14.455Z"
   },
   {
    "duration": 4578,
    "start_time": "2022-03-17T12:53:14.482Z"
   },
   {
    "duration": 5,
    "start_time": "2022-03-17T12:53:19.062Z"
   },
   {
    "duration": 843,
    "start_time": "2022-03-17T12:53:19.069Z"
   },
   {
    "duration": 3,
    "start_time": "2022-03-17T12:53:19.914Z"
   },
   {
    "duration": 582,
    "start_time": "2022-03-17T12:53:19.919Z"
   },
   {
    "duration": 319,
    "start_time": "2022-03-17T12:53:20.502Z"
   },
   {
    "duration": 2,
    "start_time": "2022-03-17T12:53:20.823Z"
   },
   {
    "duration": 6,
    "start_time": "2022-03-17T12:53:20.826Z"
   },
   {
    "duration": 169,
    "start_time": "2022-03-17T12:53:20.833Z"
   },
   {
    "duration": 529,
    "start_time": "2022-03-17T12:53:21.004Z"
   },
   {
    "duration": 10,
    "start_time": "2022-03-17T12:53:21.535Z"
   },
   {
    "duration": 15,
    "start_time": "2022-03-17T12:53:21.546Z"
   },
   {
    "duration": 94,
    "start_time": "2022-03-17T12:53:21.562Z"
   },
   {
    "duration": 129,
    "start_time": "2022-03-17T12:53:21.658Z"
   },
   {
    "duration": 279,
    "start_time": "2022-03-17T12:53:21.788Z"
   },
   {
    "duration": 4,
    "start_time": "2022-03-17T12:53:22.068Z"
   },
   {
    "duration": 10,
    "start_time": "2022-03-17T12:53:22.081Z"
   },
   {
    "duration": 11,
    "start_time": "2022-03-17T12:53:22.092Z"
   },
   {
    "duration": 101,
    "start_time": "2022-03-17T12:53:22.104Z"
   },
   {
    "duration": 125,
    "start_time": "2022-03-17T12:53:22.207Z"
   },
   {
    "duration": 2,
    "start_time": "2022-03-17T12:53:22.334Z"
   },
   {
    "duration": 7,
    "start_time": "2022-03-17T12:53:22.338Z"
   },
   {
    "duration": 4,
    "start_time": "2022-03-17T12:53:31.479Z"
   },
   {
    "duration": 88,
    "start_time": "2022-03-17T12:53:37.306Z"
   },
   {
    "duration": 119,
    "start_time": "2022-03-17T12:53:37.967Z"
   },
   {
    "duration": 3,
    "start_time": "2022-03-17T12:53:38.657Z"
   },
   {
    "duration": 2,
    "start_time": "2022-03-17T12:53:42.299Z"
   },
   {
    "duration": 3,
    "start_time": "2022-03-17T12:54:09.599Z"
   },
   {
    "duration": 3,
    "start_time": "2022-03-17T12:54:13.220Z"
   },
   {
    "duration": 118,
    "start_time": "2022-03-17T12:55:35.463Z"
   },
   {
    "duration": 4,
    "start_time": "2022-03-17T12:57:11.190Z"
   },
   {
    "duration": 10,
    "start_time": "2022-03-17T12:57:11.196Z"
   },
   {
    "duration": 1579,
    "start_time": "2022-03-17T12:57:11.208Z"
   },
   {
    "duration": 5,
    "start_time": "2022-03-17T12:57:12.789Z"
   },
   {
    "duration": 1046,
    "start_time": "2022-03-17T12:57:12.796Z"
   },
   {
    "duration": 3,
    "start_time": "2022-03-17T12:57:13.844Z"
   },
   {
    "duration": 17,
    "start_time": "2022-03-17T12:57:13.848Z"
   },
   {
    "duration": 20,
    "start_time": "2022-03-17T12:57:13.867Z"
   },
   {
    "duration": 5,
    "start_time": "2022-03-17T12:57:13.889Z"
   },
   {
    "duration": 20,
    "start_time": "2022-03-17T12:57:13.898Z"
   },
   {
    "duration": 7,
    "start_time": "2022-03-17T12:57:13.919Z"
   },
   {
    "duration": 23,
    "start_time": "2022-03-17T12:57:13.927Z"
   },
   {
    "duration": 71,
    "start_time": "2022-03-17T12:57:13.951Z"
   },
   {
    "duration": 381,
    "start_time": "2022-03-17T12:57:14.029Z"
   },
   {
    "duration": 426,
    "start_time": "2022-03-17T12:57:14.412Z"
   },
   {
    "duration": 371,
    "start_time": "2022-03-17T12:57:14.840Z"
   },
   {
    "duration": 38,
    "start_time": "2022-03-17T12:57:15.213Z"
   },
   {
    "duration": 29,
    "start_time": "2022-03-17T12:57:15.252Z"
   },
   {
    "duration": 3,
    "start_time": "2022-03-17T12:57:15.283Z"
   },
   {
    "duration": 39,
    "start_time": "2022-03-17T12:57:15.287Z"
   },
   {
    "duration": 4,
    "start_time": "2022-03-17T12:57:15.328Z"
   },
   {
    "duration": 85,
    "start_time": "2022-03-17T12:57:15.333Z"
   },
   {
    "duration": 249,
    "start_time": "2022-03-17T12:57:15.419Z"
   },
   {
    "duration": 248,
    "start_time": "2022-03-17T12:57:15.669Z"
   },
   {
    "duration": 264,
    "start_time": "2022-03-17T12:57:15.920Z"
   },
   {
    "duration": 35,
    "start_time": "2022-03-17T12:57:16.186Z"
   },
   {
    "duration": 4,
    "start_time": "2022-03-17T12:57:16.223Z"
   },
   {
    "duration": 31,
    "start_time": "2022-03-17T12:57:16.228Z"
   },
   {
    "duration": 23,
    "start_time": "2022-03-17T12:57:16.260Z"
   },
   {
    "duration": 82,
    "start_time": "2022-03-17T12:57:16.284Z"
   },
   {
    "duration": 47,
    "start_time": "2022-03-17T12:57:16.368Z"
   },
   {
    "duration": 71,
    "start_time": "2022-03-17T12:57:16.417Z"
   },
   {
    "duration": 132,
    "start_time": "2022-03-17T12:57:16.490Z"
   },
   {
    "duration": 4,
    "start_time": "2022-03-17T12:57:16.624Z"
   },
   {
    "duration": 9,
    "start_time": "2022-03-17T12:57:16.629Z"
   },
   {
    "duration": 4889,
    "start_time": "2022-03-17T12:57:16.640Z"
   },
   {
    "duration": 5,
    "start_time": "2022-03-17T12:57:21.531Z"
   },
   {
    "duration": 893,
    "start_time": "2022-03-17T12:57:21.537Z"
   },
   {
    "duration": 4,
    "start_time": "2022-03-17T12:57:22.431Z"
   },
   {
    "duration": 592,
    "start_time": "2022-03-17T12:57:22.437Z"
   },
   {
    "duration": 313,
    "start_time": "2022-03-17T12:57:23.031Z"
   },
   {
    "duration": 3,
    "start_time": "2022-03-17T12:57:23.345Z"
   },
   {
    "duration": 6,
    "start_time": "2022-03-17T12:57:23.349Z"
   },
   {
    "duration": 176,
    "start_time": "2022-03-17T12:57:23.357Z"
   },
   {
    "duration": 437,
    "start_time": "2022-03-17T12:57:23.535Z"
   },
   {
    "duration": 15,
    "start_time": "2022-03-17T12:57:23.974Z"
   },
   {
    "duration": 14,
    "start_time": "2022-03-17T12:57:23.990Z"
   },
   {
    "duration": 89,
    "start_time": "2022-03-17T12:57:24.005Z"
   },
   {
    "duration": 128,
    "start_time": "2022-03-17T12:57:24.095Z"
   },
   {
    "duration": 266,
    "start_time": "2022-03-17T12:57:24.225Z"
   },
   {
    "duration": 4,
    "start_time": "2022-03-17T12:57:24.492Z"
   },
   {
    "duration": 13,
    "start_time": "2022-03-17T12:57:24.497Z"
   },
   {
    "duration": 104,
    "start_time": "2022-03-17T12:57:24.512Z"
   },
   {
    "duration": 13,
    "start_time": "2022-03-17T12:57:24.618Z"
   },
   {
    "duration": 24,
    "start_time": "2022-03-17T12:57:24.633Z"
   },
   {
    "duration": 99,
    "start_time": "2022-03-17T12:57:24.659Z"
   },
   {
    "duration": 129,
    "start_time": "2022-03-17T12:57:24.760Z"
   },
   {
    "duration": 120,
    "start_time": "2022-03-17T12:57:24.890Z"
   },
   {
    "duration": 13,
    "start_time": "2022-03-17T12:57:25.011Z"
   },
   {
    "duration": 22,
    "start_time": "2022-03-17T12:57:25.026Z"
   },
   {
    "duration": 12,
    "start_time": "2022-03-17T12:57:25.049Z"
   },
   {
    "duration": 32,
    "start_time": "2022-03-17T12:57:25.063Z"
   },
   {
    "duration": 4,
    "start_time": "2022-03-17T13:02:39.838Z"
   },
   {
    "duration": 13,
    "start_time": "2022-03-17T13:02:39.844Z"
   },
   {
    "duration": 1480,
    "start_time": "2022-03-17T13:02:39.859Z"
   },
   {
    "duration": 4,
    "start_time": "2022-03-17T13:02:41.341Z"
   },
   {
    "duration": 603,
    "start_time": "2022-03-17T13:02:41.347Z"
   },
   {
    "duration": 3,
    "start_time": "2022-03-17T13:02:41.951Z"
   },
   {
    "duration": 27,
    "start_time": "2022-03-17T13:02:41.955Z"
   },
   {
    "duration": 6,
    "start_time": "2022-03-17T13:02:41.983Z"
   },
   {
    "duration": 5,
    "start_time": "2022-03-17T13:02:41.990Z"
   },
   {
    "duration": 15,
    "start_time": "2022-03-17T13:02:41.997Z"
   },
   {
    "duration": 5,
    "start_time": "2022-03-17T13:02:42.015Z"
   },
   {
    "duration": 23,
    "start_time": "2022-03-17T13:02:42.021Z"
   },
   {
    "duration": 37,
    "start_time": "2022-03-17T13:02:42.046Z"
   },
   {
    "duration": 365,
    "start_time": "2022-03-17T13:02:42.085Z"
   },
   {
    "duration": 413,
    "start_time": "2022-03-17T13:02:42.452Z"
   },
   {
    "duration": 356,
    "start_time": "2022-03-17T13:02:42.866Z"
   },
   {
    "duration": 35,
    "start_time": "2022-03-17T13:02:43.223Z"
   },
   {
    "duration": 24,
    "start_time": "2022-03-17T13:02:43.260Z"
   },
   {
    "duration": 4,
    "start_time": "2022-03-17T13:02:43.285Z"
   },
   {
    "duration": 38,
    "start_time": "2022-03-17T13:02:43.290Z"
   },
   {
    "duration": 4,
    "start_time": "2022-03-17T13:02:43.329Z"
   },
   {
    "duration": 90,
    "start_time": "2022-03-17T13:02:43.334Z"
   },
   {
    "duration": 244,
    "start_time": "2022-03-17T13:02:43.426Z"
   },
   {
    "duration": 251,
    "start_time": "2022-03-17T13:02:43.672Z"
   },
   {
    "duration": 246,
    "start_time": "2022-03-17T13:02:43.925Z"
   },
   {
    "duration": 36,
    "start_time": "2022-03-17T13:02:44.172Z"
   },
   {
    "duration": 3,
    "start_time": "2022-03-17T13:02:44.210Z"
   },
   {
    "duration": 29,
    "start_time": "2022-03-17T13:02:44.214Z"
   },
   {
    "duration": 3,
    "start_time": "2022-03-17T13:02:44.247Z"
   },
   {
    "duration": 106,
    "start_time": "2022-03-17T13:02:44.252Z"
   },
   {
    "duration": 45,
    "start_time": "2022-03-17T13:02:44.359Z"
   },
   {
    "duration": 63,
    "start_time": "2022-03-17T13:02:44.405Z"
   },
   {
    "duration": 68,
    "start_time": "2022-03-17T13:02:44.480Z"
   },
   {
    "duration": 3,
    "start_time": "2022-03-17T13:02:44.549Z"
   },
   {
    "duration": 11,
    "start_time": "2022-03-17T13:02:44.553Z"
   },
   {
    "duration": 4336,
    "start_time": "2022-03-17T13:02:44.565Z"
   },
   {
    "duration": 5,
    "start_time": "2022-03-17T13:02:48.902Z"
   },
   {
    "duration": 835,
    "start_time": "2022-03-17T13:02:48.908Z"
   },
   {
    "duration": 5,
    "start_time": "2022-03-17T13:02:49.744Z"
   },
   {
    "duration": 577,
    "start_time": "2022-03-17T13:02:49.750Z"
   },
   {
    "duration": 319,
    "start_time": "2022-03-17T13:02:50.329Z"
   },
   {
    "duration": 2,
    "start_time": "2022-03-17T13:02:50.650Z"
   },
   {
    "duration": 7,
    "start_time": "2022-03-17T13:02:50.654Z"
   },
   {
    "duration": 172,
    "start_time": "2022-03-17T13:02:50.663Z"
   },
   {
    "duration": 411,
    "start_time": "2022-03-17T13:02:50.836Z"
   },
   {
    "duration": 10,
    "start_time": "2022-03-17T13:02:51.248Z"
   },
   {
    "duration": 26,
    "start_time": "2022-03-17T13:02:51.260Z"
   },
   {
    "duration": 78,
    "start_time": "2022-03-17T13:02:51.288Z"
   },
   {
    "duration": 130,
    "start_time": "2022-03-17T13:02:51.368Z"
   },
   {
    "duration": 273,
    "start_time": "2022-03-17T13:02:51.499Z"
   },
   {
    "duration": 8,
    "start_time": "2022-03-17T13:02:51.774Z"
   },
   {
    "duration": 9,
    "start_time": "2022-03-17T13:02:51.784Z"
   },
   {
    "duration": 13,
    "start_time": "2022-03-17T13:02:51.795Z"
   },
   {
    "duration": 100,
    "start_time": "2022-03-17T13:02:51.810Z"
   },
   {
    "duration": 129,
    "start_time": "2022-03-17T13:02:51.912Z"
   },
   {
    "duration": 119,
    "start_time": "2022-03-17T13:02:52.043Z"
   },
   {
    "duration": 18,
    "start_time": "2022-03-17T13:02:52.163Z"
   },
   {
    "duration": 19,
    "start_time": "2022-03-17T13:02:52.183Z"
   },
   {
    "duration": 8,
    "start_time": "2022-03-17T13:33:58.300Z"
   },
   {
    "duration": 8,
    "start_time": "2022-03-17T13:34:06.199Z"
   },
   {
    "duration": 11,
    "start_time": "2022-03-17T13:35:35.370Z"
   },
   {
    "duration": 11,
    "start_time": "2022-03-17T13:36:01.344Z"
   },
   {
    "duration": 473,
    "start_time": "2022-03-17T13:36:02.117Z"
   },
   {
    "duration": 226,
    "start_time": "2022-03-17T13:36:05.455Z"
   },
   {
    "duration": 10,
    "start_time": "2022-03-17T13:37:42.631Z"
   },
   {
    "duration": 479,
    "start_time": "2022-03-17T13:37:43.193Z"
   },
   {
    "duration": 424,
    "start_time": "2022-03-17T13:37:44.221Z"
   },
   {
    "duration": 9,
    "start_time": "2022-03-17T13:39:27.567Z"
   },
   {
    "duration": 549,
    "start_time": "2022-03-17T13:39:28.232Z"
   },
   {
    "duration": 399,
    "start_time": "2022-03-17T13:39:36.324Z"
   },
   {
    "duration": 10,
    "start_time": "2022-03-17T13:40:06.516Z"
   },
   {
    "duration": 499,
    "start_time": "2022-03-17T13:40:06.928Z"
   },
   {
    "duration": 342,
    "start_time": "2022-03-17T13:40:09.211Z"
   },
   {
    "duration": 9,
    "start_time": "2022-03-17T13:41:56.094Z"
   },
   {
    "duration": 14,
    "start_time": "2022-03-17T13:41:56.462Z"
   },
   {
    "duration": 481,
    "start_time": "2022-03-17T13:41:57.057Z"
   },
   {
    "duration": 351,
    "start_time": "2022-03-17T13:41:57.886Z"
   },
   {
    "duration": 13,
    "start_time": "2022-03-17T13:45:05.875Z"
   },
   {
    "duration": 225,
    "start_time": "2022-03-17T13:46:42.281Z"
   },
   {
    "duration": 172,
    "start_time": "2022-03-17T13:47:57.146Z"
   },
   {
    "duration": 5,
    "start_time": "2022-03-17T13:50:45.770Z"
   },
   {
    "duration": 4,
    "start_time": "2022-03-17T15:15:50.969Z"
   },
   {
    "duration": 4,
    "start_time": "2022-03-17T15:15:50.977Z"
   },
   {
    "duration": 1401,
    "start_time": "2022-03-17T15:15:50.984Z"
   },
   {
    "duration": 5,
    "start_time": "2022-03-17T15:15:52.388Z"
   },
   {
    "duration": 592,
    "start_time": "2022-03-17T15:15:52.394Z"
   },
   {
    "duration": 2,
    "start_time": "2022-03-17T15:15:52.988Z"
   },
   {
    "duration": 14,
    "start_time": "2022-03-17T15:15:52.992Z"
   },
   {
    "duration": 6,
    "start_time": "2022-03-17T15:15:53.008Z"
   },
   {
    "duration": 7,
    "start_time": "2022-03-17T15:15:53.015Z"
   },
   {
    "duration": 17,
    "start_time": "2022-03-17T15:15:53.023Z"
   },
   {
    "duration": 5,
    "start_time": "2022-03-17T15:15:53.042Z"
   },
   {
    "duration": 21,
    "start_time": "2022-03-17T15:15:53.082Z"
   },
   {
    "duration": 15,
    "start_time": "2022-03-17T15:15:53.105Z"
   },
   {
    "duration": 361,
    "start_time": "2022-03-17T15:15:53.122Z"
   },
   {
    "duration": 377,
    "start_time": "2022-03-17T15:15:53.485Z"
   },
   {
    "duration": 348,
    "start_time": "2022-03-17T15:15:53.864Z"
   },
   {
    "duration": 36,
    "start_time": "2022-03-17T15:15:54.214Z"
   },
   {
    "duration": 12,
    "start_time": "2022-03-17T15:15:54.252Z"
   },
   {
    "duration": 16,
    "start_time": "2022-03-17T15:15:54.266Z"
   },
   {
    "duration": 40,
    "start_time": "2022-03-17T15:15:54.283Z"
   },
   {
    "duration": 4,
    "start_time": "2022-03-17T15:15:54.324Z"
   },
   {
    "duration": 90,
    "start_time": "2022-03-17T15:15:54.329Z"
   },
   {
    "duration": 247,
    "start_time": "2022-03-17T15:15:54.421Z"
   },
   {
    "duration": 250,
    "start_time": "2022-03-17T15:15:54.669Z"
   },
   {
    "duration": 242,
    "start_time": "2022-03-17T15:15:54.920Z"
   },
   {
    "duration": 40,
    "start_time": "2022-03-17T15:15:55.164Z"
   },
   {
    "duration": 3,
    "start_time": "2022-03-17T15:15:55.206Z"
   },
   {
    "duration": 36,
    "start_time": "2022-03-17T15:15:55.210Z"
   },
   {
    "duration": 3,
    "start_time": "2022-03-17T15:15:55.248Z"
   },
   {
    "duration": 77,
    "start_time": "2022-03-17T15:15:55.254Z"
   },
   {
    "duration": 42,
    "start_time": "2022-03-17T15:15:55.333Z"
   },
   {
    "duration": 62,
    "start_time": "2022-03-17T15:15:55.381Z"
   },
   {
    "duration": 83,
    "start_time": "2022-03-17T15:15:55.444Z"
   },
   {
    "duration": 7,
    "start_time": "2022-03-17T15:15:55.529Z"
   },
   {
    "duration": 28,
    "start_time": "2022-03-17T15:15:55.537Z"
   },
   {
    "duration": 4374,
    "start_time": "2022-03-17T15:15:55.566Z"
   },
   {
    "duration": 5,
    "start_time": "2022-03-17T15:15:59.941Z"
   },
   {
    "duration": 1018,
    "start_time": "2022-03-17T15:15:59.947Z"
   },
   {
    "duration": 3,
    "start_time": "2022-03-17T15:16:00.967Z"
   },
   {
    "duration": 574,
    "start_time": "2022-03-17T15:16:00.972Z"
   },
   {
    "duration": 315,
    "start_time": "2022-03-17T15:16:01.547Z"
   },
   {
    "duration": 3,
    "start_time": "2022-03-17T15:16:01.863Z"
   },
   {
    "duration": 13,
    "start_time": "2022-03-17T15:16:01.868Z"
   },
   {
    "duration": 166,
    "start_time": "2022-03-17T15:16:01.882Z"
   },
   {
    "duration": 410,
    "start_time": "2022-03-17T15:16:02.050Z"
   },
   {
    "duration": 11,
    "start_time": "2022-03-17T15:16:02.461Z"
   },
   {
    "duration": 12,
    "start_time": "2022-03-17T15:16:02.481Z"
   },
   {
    "duration": 10,
    "start_time": "2022-03-17T15:16:02.495Z"
   },
   {
    "duration": 525,
    "start_time": "2022-03-17T15:16:02.507Z"
   },
   {
    "duration": 360,
    "start_time": "2022-03-17T15:16:03.034Z"
   },
   {
    "duration": 234,
    "start_time": "2022-03-17T15:16:03.396Z"
   },
   {
    "duration": 4,
    "start_time": "2022-03-17T15:16:35.669Z"
   },
   {
    "duration": 2,
    "start_time": "2022-03-17T15:22:34.738Z"
   },
   {
    "duration": 54,
    "start_time": "2022-03-17T15:22:35.625Z"
   },
   {
    "duration": 11,
    "start_time": "2022-03-17T15:22:36.655Z"
   },
   {
    "duration": 3,
    "start_time": "2022-03-17T15:23:12.338Z"
   },
   {
    "duration": 60,
    "start_time": "2022-03-17T15:23:36.570Z"
   },
   {
    "duration": 15,
    "start_time": "2022-03-17T15:23:51.860Z"
   },
   {
    "duration": 5,
    "start_time": "2022-03-17T15:30:12.116Z"
   },
   {
    "duration": 4,
    "start_time": "2022-03-17T15:31:10.625Z"
   },
   {
    "duration": 4,
    "start_time": "2022-03-17T15:31:28.419Z"
   },
   {
    "duration": 3,
    "start_time": "2022-03-17T15:31:28.903Z"
   },
   {
    "duration": 326,
    "start_time": "2022-03-17T15:31:29.371Z"
   },
   {
    "duration": 3,
    "start_time": "2022-03-17T15:31:38.021Z"
   },
   {
    "duration": 4,
    "start_time": "2022-03-17T15:31:38.309Z"
   },
   {
    "duration": 3,
    "start_time": "2022-03-17T15:31:38.714Z"
   },
   {
    "duration": 95,
    "start_time": "2022-03-17T15:31:39.187Z"
   },
   {
    "duration": 3,
    "start_time": "2022-03-17T15:33:34.386Z"
   },
   {
    "duration": 701,
    "start_time": "2022-03-17T15:33:45.487Z"
   },
   {
    "duration": 2,
    "start_time": "2022-03-17T15:36:26.090Z"
   },
   {
    "duration": 4,
    "start_time": "2022-03-17T15:36:26.713Z"
   },
   {
    "duration": 3,
    "start_time": "2022-03-17T15:36:27.512Z"
   },
   {
    "duration": 74,
    "start_time": "2022-03-17T15:36:28.015Z"
   },
   {
    "duration": 2,
    "start_time": "2022-03-17T15:36:38.461Z"
   },
   {
    "duration": 4,
    "start_time": "2022-03-17T15:36:39.071Z"
   },
   {
    "duration": 3,
    "start_time": "2022-03-17T15:36:39.647Z"
   },
   {
    "duration": 137,
    "start_time": "2022-03-17T15:36:41.145Z"
   },
   {
    "duration": 17,
    "start_time": "2022-03-17T15:37:23.341Z"
   },
   {
    "duration": 15,
    "start_time": "2022-03-17T15:37:28.014Z"
   },
   {
    "duration": 5,
    "start_time": "2022-03-17T15:37:31.438Z"
   },
   {
    "duration": 5,
    "start_time": "2022-03-17T15:37:36.849Z"
   },
   {
    "duration": 3,
    "start_time": "2022-03-17T15:38:40.769Z"
   },
   {
    "duration": 4,
    "start_time": "2022-03-17T15:38:44.110Z"
   },
   {
    "duration": 2,
    "start_time": "2022-03-17T15:38:45.936Z"
   },
   {
    "duration": 59,
    "start_time": "2022-03-17T15:38:46.327Z"
   },
   {
    "duration": 8,
    "start_time": "2022-03-17T15:43:04.852Z"
   },
   {
    "duration": 9,
    "start_time": "2022-03-17T15:44:10.921Z"
   },
   {
    "duration": 4,
    "start_time": "2022-03-17T15:44:32.481Z"
   },
   {
    "duration": 4,
    "start_time": "2022-03-17T15:44:37.655Z"
   },
   {
    "duration": 124502,
    "start_time": "2022-03-17T15:46:16.302Z"
   },
   {
    "duration": 5,
    "start_time": "2022-03-17T15:50:14.436Z"
   },
   {
    "duration": 81,
    "start_time": "2022-03-17T15:50:15.107Z"
   },
   {
    "duration": 32,
    "start_time": "2022-03-17T15:50:16.072Z"
   },
   {
    "duration": 443,
    "start_time": "2022-03-17T15:50:17.046Z"
   },
   {
    "duration": 51917,
    "start_time": "2022-03-17T15:50:19.989Z"
   },
   {
    "duration": 5,
    "start_time": "2022-03-17T15:54:25.537Z"
   },
   {
    "duration": 5,
    "start_time": "2022-03-17T15:54:25.545Z"
   },
   {
    "duration": 2299,
    "start_time": "2022-03-17T15:54:25.553Z"
   },
   {
    "duration": 5,
    "start_time": "2022-03-17T15:54:27.855Z"
   },
   {
    "duration": 1102,
    "start_time": "2022-03-17T15:54:27.861Z"
   },
   {
    "duration": 2,
    "start_time": "2022-03-17T15:54:28.966Z"
   },
   {
    "duration": 14,
    "start_time": "2022-03-17T15:54:28.981Z"
   },
   {
    "duration": 7,
    "start_time": "2022-03-17T15:54:28.996Z"
   },
   {
    "duration": 29,
    "start_time": "2022-03-17T15:54:29.005Z"
   },
   {
    "duration": 31,
    "start_time": "2022-03-17T15:54:29.036Z"
   },
   {
    "duration": 6,
    "start_time": "2022-03-17T15:54:29.068Z"
   },
   {
    "duration": 25,
    "start_time": "2022-03-17T15:54:29.076Z"
   },
   {
    "duration": 18,
    "start_time": "2022-03-17T15:54:29.102Z"
   },
   {
    "duration": 364,
    "start_time": "2022-03-17T15:54:29.122Z"
   },
   {
    "duration": 388,
    "start_time": "2022-03-17T15:54:29.487Z"
   },
   {
    "duration": 356,
    "start_time": "2022-03-17T15:54:29.876Z"
   },
   {
    "duration": 34,
    "start_time": "2022-03-17T15:54:30.233Z"
   },
   {
    "duration": 22,
    "start_time": "2022-03-17T15:54:30.268Z"
   },
   {
    "duration": 10,
    "start_time": "2022-03-17T15:54:30.292Z"
   },
   {
    "duration": 59,
    "start_time": "2022-03-17T15:54:30.303Z"
   },
   {
    "duration": 4,
    "start_time": "2022-03-17T15:54:30.364Z"
   },
   {
    "duration": 97,
    "start_time": "2022-03-17T15:54:30.369Z"
   },
   {
    "duration": 396,
    "start_time": "2022-03-17T15:54:30.468Z"
   },
   {
    "duration": 256,
    "start_time": "2022-03-17T15:54:30.866Z"
   },
   {
    "duration": 262,
    "start_time": "2022-03-17T15:54:31.124Z"
   },
   {
    "duration": 31,
    "start_time": "2022-03-17T15:54:31.388Z"
   },
   {
    "duration": 5,
    "start_time": "2022-03-17T15:54:31.420Z"
   },
   {
    "duration": 35,
    "start_time": "2022-03-17T15:54:31.427Z"
   },
   {
    "duration": 19,
    "start_time": "2022-03-17T15:54:31.463Z"
   },
   {
    "duration": 152,
    "start_time": "2022-03-17T15:54:31.486Z"
   },
   {
    "duration": 62,
    "start_time": "2022-03-17T15:54:31.640Z"
   },
   {
    "duration": 122,
    "start_time": "2022-03-17T15:54:31.705Z"
   },
   {
    "duration": 137,
    "start_time": "2022-03-17T15:54:31.829Z"
   },
   {
    "duration": 3,
    "start_time": "2022-03-17T15:54:31.968Z"
   },
   {
    "duration": 9,
    "start_time": "2022-03-17T15:54:31.981Z"
   },
   {
    "duration": 4419,
    "start_time": "2022-03-17T15:54:31.992Z"
   },
   {
    "duration": 5,
    "start_time": "2022-03-17T15:54:36.413Z"
   },
   {
    "duration": 941,
    "start_time": "2022-03-17T15:54:36.419Z"
   },
   {
    "duration": 5,
    "start_time": "2022-03-17T15:54:37.362Z"
   },
   {
    "duration": 565,
    "start_time": "2022-03-17T15:54:37.368Z"
   },
   {
    "duration": 322,
    "start_time": "2022-03-17T15:54:37.934Z"
   },
   {
    "duration": 3,
    "start_time": "2022-03-17T15:54:38.258Z"
   },
   {
    "duration": 6,
    "start_time": "2022-03-17T15:54:38.262Z"
   },
   {
    "duration": 165,
    "start_time": "2022-03-17T15:54:38.281Z"
   },
   {
    "duration": 426,
    "start_time": "2022-03-17T15:54:38.448Z"
   },
   {
    "duration": 14,
    "start_time": "2022-03-17T15:54:38.875Z"
   },
   {
    "duration": 14,
    "start_time": "2022-03-17T15:54:38.890Z"
   },
   {
    "duration": 9,
    "start_time": "2022-03-17T15:54:38.905Z"
   },
   {
    "duration": 494,
    "start_time": "2022-03-17T15:54:38.915Z"
   },
   {
    "duration": 393,
    "start_time": "2022-03-17T15:54:39.410Z"
   },
   {
    "duration": 236,
    "start_time": "2022-03-17T15:54:39.804Z"
   },
   {
    "duration": 3,
    "start_time": "2022-03-17T15:54:40.041Z"
   },
   {
    "duration": 11,
    "start_time": "2022-03-17T15:54:40.046Z"
   },
   {
    "duration": 5,
    "start_time": "2022-03-17T15:54:40.059Z"
   },
   {
    "duration": 17,
    "start_time": "2022-03-17T15:54:40.066Z"
   },
   {
    "duration": 9,
    "start_time": "2022-03-17T15:54:40.085Z"
   },
   {
    "duration": 188,
    "start_time": "2022-03-17T15:54:40.096Z"
   },
   {
    "duration": 196,
    "start_time": "2022-03-17T15:54:40.285Z"
   },
   {
    "duration": 303,
    "start_time": "2022-03-17T15:54:40.484Z"
   },
   {
    "duration": 52024,
    "start_time": "2022-03-17T15:54:40.789Z"
   },
   {
    "duration": 132297,
    "start_time": "2022-03-17T15:55:32.815Z"
   },
   {
    "duration": 4,
    "start_time": "2022-03-17T16:16:04.837Z"
   },
   {
    "duration": 11,
    "start_time": "2022-03-17T16:16:13.096Z"
   },
   {
    "duration": 4,
    "start_time": "2022-03-17T16:17:29.720Z"
   },
   {
    "duration": 4,
    "start_time": "2022-03-17T16:18:05.939Z"
   },
   {
    "duration": 8,
    "start_time": "2022-03-17T16:18:41.149Z"
   },
   {
    "duration": 3,
    "start_time": "2022-03-17T16:19:51.103Z"
   },
   {
    "duration": 10,
    "start_time": "2022-03-17T16:19:52.804Z"
   },
   {
    "duration": 3,
    "start_time": "2022-03-17T16:20:11.405Z"
   },
   {
    "duration": 11,
    "start_time": "2022-03-17T16:20:11.863Z"
   },
   {
    "duration": 2,
    "start_time": "2022-03-17T16:20:16.935Z"
   },
   {
    "duration": 11,
    "start_time": "2022-03-17T16:20:17.659Z"
   },
   {
    "duration": 9,
    "start_time": "2022-03-17T16:20:39.635Z"
   },
   {
    "duration": 3,
    "start_time": "2022-03-17T16:20:57.772Z"
   },
   {
    "duration": 12,
    "start_time": "2022-03-17T16:20:58.403Z"
   },
   {
    "duration": 12,
    "start_time": "2022-03-17T16:23:17.536Z"
   },
   {
    "duration": 3,
    "start_time": "2022-03-17T16:23:26.643Z"
   },
   {
    "duration": 11,
    "start_time": "2022-03-17T16:23:27.043Z"
   },
   {
    "duration": 44,
    "start_time": "2022-03-17T16:26:13.680Z"
   },
   {
    "duration": 9,
    "start_time": "2022-03-17T16:26:21.083Z"
   },
   {
    "duration": 5,
    "start_time": "2022-03-17T16:26:33.407Z"
   },
   {
    "duration": 12,
    "start_time": "2022-03-17T16:26:35.735Z"
   },
   {
    "duration": 2,
    "start_time": "2022-03-17T16:27:04.730Z"
   },
   {
    "duration": 8,
    "start_time": "2022-03-17T16:27:05.523Z"
   },
   {
    "duration": 3,
    "start_time": "2022-03-17T16:27:24.304Z"
   },
   {
    "duration": 9,
    "start_time": "2022-03-17T16:27:24.485Z"
   },
   {
    "duration": 10,
    "start_time": "2022-03-17T16:30:03.439Z"
   },
   {
    "duration": 4,
    "start_time": "2022-03-17T16:35:50.208Z"
   },
   {
    "duration": 3,
    "start_time": "2022-03-17T16:36:54.130Z"
   },
   {
    "duration": 9,
    "start_time": "2022-03-17T16:39:07.059Z"
   },
   {
    "duration": 4,
    "start_time": "2022-03-17T16:39:42.634Z"
   },
   {
    "duration": 16,
    "start_time": "2022-03-17T16:39:42.641Z"
   },
   {
    "duration": 1438,
    "start_time": "2022-03-17T16:39:42.659Z"
   },
   {
    "duration": 4,
    "start_time": "2022-03-17T16:39:44.098Z"
   },
   {
    "duration": 651,
    "start_time": "2022-03-17T16:39:44.105Z"
   },
   {
    "duration": 3,
    "start_time": "2022-03-17T16:39:44.757Z"
   },
   {
    "duration": 55,
    "start_time": "2022-03-17T16:39:44.761Z"
   },
   {
    "duration": 16,
    "start_time": "2022-03-17T16:39:44.818Z"
   },
   {
    "duration": 43,
    "start_time": "2022-03-17T16:39:44.836Z"
   },
   {
    "duration": 32,
    "start_time": "2022-03-17T16:39:44.881Z"
   },
   {
    "duration": 8,
    "start_time": "2022-03-17T16:39:44.916Z"
   },
   {
    "duration": 51,
    "start_time": "2022-03-17T16:39:44.925Z"
   },
   {
    "duration": 45,
    "start_time": "2022-03-17T16:39:44.978Z"
   },
   {
    "duration": 372,
    "start_time": "2022-03-17T16:39:45.025Z"
   },
   {
    "duration": 388,
    "start_time": "2022-03-17T16:39:45.399Z"
   },
   {
    "duration": 375,
    "start_time": "2022-03-17T16:39:45.789Z"
   },
   {
    "duration": 45,
    "start_time": "2022-03-17T16:39:46.166Z"
   },
   {
    "duration": 18,
    "start_time": "2022-03-17T16:39:46.213Z"
   },
   {
    "duration": 4,
    "start_time": "2022-03-17T16:39:46.232Z"
   },
   {
    "duration": 55,
    "start_time": "2022-03-17T16:39:46.237Z"
   },
   {
    "duration": 4,
    "start_time": "2022-03-17T16:39:46.293Z"
   },
   {
    "duration": 84,
    "start_time": "2022-03-17T16:39:46.298Z"
   },
   {
    "duration": 250,
    "start_time": "2022-03-17T16:39:46.383Z"
   },
   {
    "duration": 255,
    "start_time": "2022-03-17T16:39:46.635Z"
   },
   {
    "duration": 262,
    "start_time": "2022-03-17T16:39:46.892Z"
   },
   {
    "duration": 42,
    "start_time": "2022-03-17T16:39:47.156Z"
   },
   {
    "duration": 4,
    "start_time": "2022-03-17T16:39:47.199Z"
   },
   {
    "duration": 30,
    "start_time": "2022-03-17T16:39:47.204Z"
   },
   {
    "duration": 4,
    "start_time": "2022-03-17T16:39:47.238Z"
   },
   {
    "duration": 93,
    "start_time": "2022-03-17T16:39:47.244Z"
   },
   {
    "duration": 47,
    "start_time": "2022-03-17T16:39:47.338Z"
   },
   {
    "duration": 64,
    "start_time": "2022-03-17T16:39:47.387Z"
   },
   {
    "duration": 81,
    "start_time": "2022-03-17T16:39:47.452Z"
   },
   {
    "duration": 3,
    "start_time": "2022-03-17T16:39:47.534Z"
   },
   {
    "duration": 6,
    "start_time": "2022-03-17T16:39:47.539Z"
   },
   {
    "duration": 4555,
    "start_time": "2022-03-17T16:39:47.546Z"
   },
   {
    "duration": 4,
    "start_time": "2022-03-17T16:39:52.103Z"
   },
   {
    "duration": 772,
    "start_time": "2022-03-17T16:39:52.109Z"
   },
   {
    "duration": 4,
    "start_time": "2022-03-17T16:39:52.882Z"
   },
   {
    "duration": 674,
    "start_time": "2022-03-17T16:39:52.887Z"
   },
   {
    "duration": 311,
    "start_time": "2022-03-17T16:39:53.562Z"
   },
   {
    "duration": 7,
    "start_time": "2022-03-17T16:39:53.875Z"
   },
   {
    "duration": 7,
    "start_time": "2022-03-17T16:39:53.883Z"
   },
   {
    "duration": 170,
    "start_time": "2022-03-17T16:39:53.891Z"
   },
   {
    "duration": 397,
    "start_time": "2022-03-17T16:39:54.063Z"
   },
   {
    "duration": 10,
    "start_time": "2022-03-17T16:39:54.461Z"
   },
   {
    "duration": 16,
    "start_time": "2022-03-17T16:39:54.480Z"
   },
   {
    "duration": 9,
    "start_time": "2022-03-17T16:39:54.498Z"
   },
   {
    "duration": 533,
    "start_time": "2022-03-17T16:39:54.509Z"
   },
   {
    "duration": 385,
    "start_time": "2022-03-17T16:39:55.044Z"
   },
   {
    "duration": 228,
    "start_time": "2022-03-17T16:39:55.431Z"
   },
   {
    "duration": 3,
    "start_time": "2022-03-17T16:39:55.660Z"
   },
   {
    "duration": 16,
    "start_time": "2022-03-17T16:39:55.665Z"
   },
   {
    "duration": 6,
    "start_time": "2022-03-17T16:39:55.682Z"
   },
   {
    "duration": 6,
    "start_time": "2022-03-17T16:39:55.689Z"
   },
   {
    "duration": 5,
    "start_time": "2022-03-17T16:39:55.696Z"
   },
   {
    "duration": 190,
    "start_time": "2022-03-17T16:39:55.703Z"
   },
   {
    "duration": 113,
    "start_time": "2022-03-17T16:39:55.896Z"
   },
   {
    "duration": 371,
    "start_time": "2022-03-17T16:39:56.012Z"
   },
   {
    "duration": 53959,
    "start_time": "2022-03-17T16:39:56.385Z"
   },
   {
    "duration": 118647,
    "start_time": "2022-03-17T16:40:50.346Z"
   },
   {
    "duration": 2,
    "start_time": "2022-03-17T16:42:48.995Z"
   },
   {
    "duration": 5593,
    "start_time": "2022-03-17T16:42:48.999Z"
   },
   {
    "duration": 3302,
    "start_time": "2022-03-17T16:42:54.594Z"
   },
   {
    "duration": 2,
    "start_time": "2022-03-17T16:42:57.898Z"
   },
   {
    "duration": 19,
    "start_time": "2022-03-17T16:42:57.902Z"
   },
   {
    "duration": 0,
    "start_time": "2022-03-17T16:42:57.923Z"
   },
   {
    "duration": 8828,
    "start_time": "2022-03-17T16:44:36.667Z"
   },
   {
    "duration": 3149,
    "start_time": "2022-03-17T16:44:46.461Z"
   },
   {
    "duration": 5781,
    "start_time": "2022-03-17T16:44:49.612Z"
   },
   {
    "duration": 3027,
    "start_time": "2022-03-17T16:44:55.394Z"
   },
   {
    "duration": 4,
    "start_time": "2022-03-17T16:46:29.361Z"
   },
   {
    "duration": 5865,
    "start_time": "2022-03-17T16:46:30.117Z"
   },
   {
    "duration": 10161,
    "start_time": "2022-03-17T16:46:37.372Z"
   },
   {
    "duration": 159,
    "start_time": "2022-03-17T16:46:58.414Z"
   },
   {
    "duration": 3,
    "start_time": "2022-03-17T16:48:01.360Z"
   },
   {
    "duration": 6629,
    "start_time": "2022-03-17T16:48:01.970Z"
   },
   {
    "duration": 166266,
    "start_time": "2022-03-17T16:48:13.375Z"
   },
   {
    "duration": 8303,
    "start_time": "2022-03-17T16:51:08.691Z"
   },
   {
    "duration": 4,
    "start_time": "2022-03-17T16:51:16.996Z"
   },
   {
    "duration": 6338,
    "start_time": "2022-03-17T16:51:17.763Z"
   },
   {
    "duration": 4,
    "start_time": "2022-03-17T16:51:52.764Z"
   },
   {
    "duration": 7,
    "start_time": "2022-03-17T16:51:52.771Z"
   },
   {
    "duration": 1414,
    "start_time": "2022-03-17T16:51:52.779Z"
   },
   {
    "duration": 4,
    "start_time": "2022-03-17T16:51:54.195Z"
   },
   {
    "duration": 582,
    "start_time": "2022-03-17T16:51:54.200Z"
   },
   {
    "duration": 2,
    "start_time": "2022-03-17T16:51:54.784Z"
   },
   {
    "duration": 15,
    "start_time": "2022-03-17T16:51:54.787Z"
   },
   {
    "duration": 7,
    "start_time": "2022-03-17T16:51:54.803Z"
   },
   {
    "duration": 4,
    "start_time": "2022-03-17T16:51:54.811Z"
   },
   {
    "duration": 18,
    "start_time": "2022-03-17T16:51:54.817Z"
   },
   {
    "duration": 5,
    "start_time": "2022-03-17T16:51:54.836Z"
   },
   {
    "duration": 53,
    "start_time": "2022-03-17T16:51:54.844Z"
   },
   {
    "duration": 15,
    "start_time": "2022-03-17T16:51:54.899Z"
   },
   {
    "duration": 352,
    "start_time": "2022-03-17T16:51:54.915Z"
   },
   {
    "duration": 384,
    "start_time": "2022-03-17T16:51:55.269Z"
   },
   {
    "duration": 337,
    "start_time": "2022-03-17T16:51:55.654Z"
   },
   {
    "duration": 32,
    "start_time": "2022-03-17T16:51:55.993Z"
   },
   {
    "duration": 13,
    "start_time": "2022-03-17T16:51:56.027Z"
   },
   {
    "duration": 3,
    "start_time": "2022-03-17T16:51:56.042Z"
   },
   {
    "duration": 67,
    "start_time": "2022-03-17T16:51:56.047Z"
   },
   {
    "duration": 4,
    "start_time": "2022-03-17T16:51:56.116Z"
   },
   {
    "duration": 90,
    "start_time": "2022-03-17T16:51:56.122Z"
   },
   {
    "duration": 250,
    "start_time": "2022-03-17T16:51:56.214Z"
   },
   {
    "duration": 247,
    "start_time": "2022-03-17T16:51:56.465Z"
   },
   {
    "duration": 248,
    "start_time": "2022-03-17T16:51:56.713Z"
   },
   {
    "duration": 37,
    "start_time": "2022-03-17T16:51:56.962Z"
   },
   {
    "duration": 4,
    "start_time": "2022-03-17T16:51:57.001Z"
   },
   {
    "duration": 27,
    "start_time": "2022-03-17T16:51:57.007Z"
   },
   {
    "duration": 4,
    "start_time": "2022-03-17T16:51:57.035Z"
   },
   {
    "duration": 89,
    "start_time": "2022-03-17T16:51:57.043Z"
   },
   {
    "duration": 47,
    "start_time": "2022-03-17T16:51:57.134Z"
   },
   {
    "duration": 64,
    "start_time": "2022-03-17T16:51:57.182Z"
   },
   {
    "duration": 74,
    "start_time": "2022-03-17T16:51:57.248Z"
   },
   {
    "duration": 2,
    "start_time": "2022-03-17T16:51:57.324Z"
   },
   {
    "duration": 6,
    "start_time": "2022-03-17T16:51:57.328Z"
   },
   {
    "duration": 4537,
    "start_time": "2022-03-17T16:51:57.335Z"
   },
   {
    "duration": 5,
    "start_time": "2022-03-17T16:52:01.880Z"
   },
   {
    "duration": 768,
    "start_time": "2022-03-17T16:52:01.887Z"
   },
   {
    "duration": 3,
    "start_time": "2022-03-17T16:52:02.657Z"
   },
   {
    "duration": 576,
    "start_time": "2022-03-17T16:52:02.662Z"
   },
   {
    "duration": 322,
    "start_time": "2022-03-17T16:52:03.240Z"
   },
   {
    "duration": 3,
    "start_time": "2022-03-17T16:52:03.564Z"
   },
   {
    "duration": 12,
    "start_time": "2022-03-17T16:52:03.569Z"
   },
   {
    "duration": 164,
    "start_time": "2022-03-17T16:52:03.582Z"
   },
   {
    "duration": 452,
    "start_time": "2022-03-17T16:52:03.747Z"
   },
   {
    "duration": 12,
    "start_time": "2022-03-17T16:52:04.201Z"
   },
   {
    "duration": 13,
    "start_time": "2022-03-17T16:52:04.214Z"
   },
   {
    "duration": 9,
    "start_time": "2022-03-17T16:52:04.228Z"
   },
   {
    "duration": 505,
    "start_time": "2022-03-17T16:52:04.239Z"
   },
   {
    "duration": 341,
    "start_time": "2022-03-17T16:52:04.746Z"
   },
   {
    "duration": 229,
    "start_time": "2022-03-17T16:52:05.088Z"
   },
   {
    "duration": 4,
    "start_time": "2022-03-17T16:52:05.318Z"
   },
   {
    "duration": 9,
    "start_time": "2022-03-17T16:52:05.323Z"
   },
   {
    "duration": 8,
    "start_time": "2022-03-17T16:52:05.333Z"
   },
   {
    "duration": 5,
    "start_time": "2022-03-17T16:52:05.343Z"
   },
   {
    "duration": 9,
    "start_time": "2022-03-17T16:52:05.350Z"
   },
   {
    "duration": 220,
    "start_time": "2022-03-17T16:52:05.360Z"
   },
   {
    "duration": 32,
    "start_time": "2022-03-17T16:52:05.582Z"
   },
   {
    "duration": 274,
    "start_time": "2022-03-17T16:52:05.615Z"
   },
   {
    "duration": 50711,
    "start_time": "2022-03-17T16:52:05.981Z"
   },
   {
    "duration": 41088,
    "start_time": "2022-03-17T16:52:56.693Z"
   },
   {
    "duration": 3,
    "start_time": "2022-03-17T16:53:37.783Z"
   },
   {
    "duration": 6195,
    "start_time": "2022-03-17T16:53:37.787Z"
   },
   {
    "duration": 78227,
    "start_time": "2022-03-17T16:53:43.984Z"
   },
   {
    "duration": 6686,
    "start_time": "2022-03-17T16:55:02.213Z"
   },
   {
    "duration": 0,
    "start_time": "2022-03-17T16:56:04.321Z"
   },
   {
    "duration": 0,
    "start_time": "2022-03-17T16:56:04.322Z"
   },
   {
    "duration": 0,
    "start_time": "2022-03-17T16:56:04.323Z"
   },
   {
    "duration": 0,
    "start_time": "2022-03-17T16:56:04.324Z"
   },
   {
    "duration": 0,
    "start_time": "2022-03-17T16:56:04.326Z"
   },
   {
    "duration": 0,
    "start_time": "2022-03-17T16:56:04.327Z"
   },
   {
    "duration": 0,
    "start_time": "2022-03-17T16:56:04.329Z"
   },
   {
    "duration": 5,
    "start_time": "2022-03-17T16:56:10.915Z"
   },
   {
    "duration": 4,
    "start_time": "2022-03-17T16:56:10.922Z"
   },
   {
    "duration": 1404,
    "start_time": "2022-03-17T16:56:10.931Z"
   },
   {
    "duration": 4,
    "start_time": "2022-03-17T16:56:12.337Z"
   },
   {
    "duration": 582,
    "start_time": "2022-03-17T16:56:12.343Z"
   },
   {
    "duration": 2,
    "start_time": "2022-03-17T16:56:12.927Z"
   },
   {
    "duration": 14,
    "start_time": "2022-03-17T16:56:12.931Z"
   },
   {
    "duration": 7,
    "start_time": "2022-03-17T16:56:12.946Z"
   },
   {
    "duration": 5,
    "start_time": "2022-03-17T16:56:12.954Z"
   },
   {
    "duration": 17,
    "start_time": "2022-03-17T16:56:12.981Z"
   },
   {
    "duration": 6,
    "start_time": "2022-03-17T16:56:12.999Z"
   },
   {
    "duration": 20,
    "start_time": "2022-03-17T16:56:13.007Z"
   },
   {
    "duration": 14,
    "start_time": "2022-03-17T16:56:13.029Z"
   },
   {
    "duration": 362,
    "start_time": "2022-03-17T16:56:13.045Z"
   },
   {
    "duration": 394,
    "start_time": "2022-03-17T16:56:13.409Z"
   },
   {
    "duration": 349,
    "start_time": "2022-03-17T16:56:13.805Z"
   },
   {
    "duration": 43,
    "start_time": "2022-03-17T16:56:14.156Z"
   },
   {
    "duration": 13,
    "start_time": "2022-03-17T16:56:14.200Z"
   },
   {
    "duration": 3,
    "start_time": "2022-03-17T16:56:14.214Z"
   },
   {
    "duration": 42,
    "start_time": "2022-03-17T16:56:14.218Z"
   },
   {
    "duration": 3,
    "start_time": "2022-03-17T16:56:14.262Z"
   },
   {
    "duration": 106,
    "start_time": "2022-03-17T16:56:14.266Z"
   },
   {
    "duration": 247,
    "start_time": "2022-03-17T16:56:14.374Z"
   },
   {
    "duration": 375,
    "start_time": "2022-03-17T16:56:14.622Z"
   },
   {
    "duration": 247,
    "start_time": "2022-03-17T16:56:14.999Z"
   },
   {
    "duration": 40,
    "start_time": "2022-03-17T16:56:15.248Z"
   },
   {
    "duration": 4,
    "start_time": "2022-03-17T16:56:15.289Z"
   },
   {
    "duration": 29,
    "start_time": "2022-03-17T16:56:15.294Z"
   },
   {
    "duration": 4,
    "start_time": "2022-03-17T16:56:15.324Z"
   },
   {
    "duration": 84,
    "start_time": "2022-03-17T16:56:15.331Z"
   },
   {
    "duration": 35,
    "start_time": "2022-03-17T16:56:15.417Z"
   },
   {
    "duration": 74,
    "start_time": "2022-03-17T16:56:15.453Z"
   },
   {
    "duration": 75,
    "start_time": "2022-03-17T16:56:15.529Z"
   },
   {
    "duration": 3,
    "start_time": "2022-03-17T16:56:15.605Z"
   },
   {
    "duration": 15,
    "start_time": "2022-03-17T16:56:15.609Z"
   },
   {
    "duration": 4368,
    "start_time": "2022-03-17T16:56:15.625Z"
   },
   {
    "duration": 4,
    "start_time": "2022-03-17T16:56:19.994Z"
   },
   {
    "duration": 755,
    "start_time": "2022-03-17T16:56:20.000Z"
   },
   {
    "duration": 4,
    "start_time": "2022-03-17T16:56:20.756Z"
   },
   {
    "duration": 560,
    "start_time": "2022-03-17T16:56:20.762Z"
   },
   {
    "duration": 303,
    "start_time": "2022-03-17T16:56:21.324Z"
   },
   {
    "duration": 2,
    "start_time": "2022-03-17T16:56:21.629Z"
   },
   {
    "duration": 5,
    "start_time": "2022-03-17T16:56:21.633Z"
   },
   {
    "duration": 179,
    "start_time": "2022-03-17T16:56:21.640Z"
   },
   {
    "duration": 450,
    "start_time": "2022-03-17T16:56:21.821Z"
   },
   {
    "duration": 10,
    "start_time": "2022-03-17T16:56:22.273Z"
   },
   {
    "duration": 11,
    "start_time": "2022-03-17T16:56:22.285Z"
   },
   {
    "duration": 9,
    "start_time": "2022-03-17T16:56:22.297Z"
   },
   {
    "duration": 506,
    "start_time": "2022-03-17T16:56:22.307Z"
   },
   {
    "duration": 356,
    "start_time": "2022-03-17T16:56:22.814Z"
   },
   {
    "duration": 223,
    "start_time": "2022-03-17T16:56:23.171Z"
   },
   {
    "duration": 3,
    "start_time": "2022-03-17T16:56:23.395Z"
   },
   {
    "duration": 6,
    "start_time": "2022-03-17T16:56:23.399Z"
   },
   {
    "duration": 11,
    "start_time": "2022-03-17T16:56:23.406Z"
   },
   {
    "duration": 9,
    "start_time": "2022-03-17T16:56:23.418Z"
   },
   {
    "duration": 6,
    "start_time": "2022-03-17T16:56:23.428Z"
   },
   {
    "duration": 77,
    "start_time": "2022-03-17T16:56:23.436Z"
   },
   {
    "duration": 187,
    "start_time": "2022-03-17T16:56:23.515Z"
   },
   {
    "duration": 386,
    "start_time": "2022-03-17T16:56:23.704Z"
   },
   {
    "duration": 53695,
    "start_time": "2022-03-17T16:56:24.182Z"
   },
   {
    "duration": 53514,
    "start_time": "2022-03-17T16:57:17.880Z"
   },
   {
    "duration": 2,
    "start_time": "2022-03-17T16:58:11.396Z"
   },
   {
    "duration": 6814,
    "start_time": "2022-03-17T16:58:11.481Z"
   },
   {
    "duration": 165616,
    "start_time": "2022-03-17T16:58:18.297Z"
   },
   {
    "duration": 5775,
    "start_time": "2022-03-17T17:01:03.915Z"
   },
   {
    "duration": 165996,
    "start_time": "2022-03-17T17:01:09.691Z"
   },
   {
    "duration": 2,
    "start_time": "2022-03-17T17:03:55.689Z"
   },
   {
    "duration": 15,
    "start_time": "2022-03-17T17:03:55.692Z"
   },
   {
    "duration": 12,
    "start_time": "2022-03-17T17:03:55.708Z"
   },
   {
    "duration": 1791,
    "start_time": "2022-03-18T07:41:51.552Z"
   },
   {
    "duration": 5,
    "start_time": "2022-03-18T07:41:53.345Z"
   },
   {
    "duration": 1660,
    "start_time": "2022-03-18T07:41:53.351Z"
   },
   {
    "duration": 4,
    "start_time": "2022-03-18T07:41:55.014Z"
   },
   {
    "duration": 608,
    "start_time": "2022-03-18T07:41:55.020Z"
   },
   {
    "duration": 3,
    "start_time": "2022-03-18T07:41:55.637Z"
   },
   {
    "duration": 24,
    "start_time": "2022-03-18T07:41:55.642Z"
   },
   {
    "duration": 11,
    "start_time": "2022-03-18T07:41:55.667Z"
   },
   {
    "duration": 6,
    "start_time": "2022-03-18T07:41:55.680Z"
   },
   {
    "duration": 23,
    "start_time": "2022-03-18T07:41:55.689Z"
   },
   {
    "duration": 28,
    "start_time": "2022-03-18T07:41:55.713Z"
   },
   {
    "duration": 25,
    "start_time": "2022-03-18T07:41:55.743Z"
   },
   {
    "duration": 19,
    "start_time": "2022-03-18T07:41:55.769Z"
   },
   {
    "duration": 499,
    "start_time": "2022-03-18T07:41:55.789Z"
   },
   {
    "duration": 537,
    "start_time": "2022-03-18T07:41:56.290Z"
   },
   {
    "duration": 482,
    "start_time": "2022-03-18T07:41:56.829Z"
   },
   {
    "duration": 47,
    "start_time": "2022-03-18T07:41:57.313Z"
   },
   {
    "duration": 15,
    "start_time": "2022-03-18T07:41:57.362Z"
   },
   {
    "duration": 4,
    "start_time": "2022-03-18T07:41:57.379Z"
   },
   {
    "duration": 68,
    "start_time": "2022-03-18T07:41:57.385Z"
   },
   {
    "duration": 5,
    "start_time": "2022-03-18T07:41:57.455Z"
   },
   {
    "duration": 88,
    "start_time": "2022-03-18T07:41:57.461Z"
   },
   {
    "duration": 276,
    "start_time": "2022-03-18T07:41:57.551Z"
   },
   {
    "duration": 267,
    "start_time": "2022-03-18T07:41:57.828Z"
   },
   {
    "duration": 292,
    "start_time": "2022-03-18T07:41:58.096Z"
   },
   {
    "duration": 48,
    "start_time": "2022-03-18T07:41:58.390Z"
   },
   {
    "duration": 4,
    "start_time": "2022-03-18T07:41:58.440Z"
   },
   {
    "duration": 34,
    "start_time": "2022-03-18T07:41:58.448Z"
   },
   {
    "duration": 4,
    "start_time": "2022-03-18T07:41:58.484Z"
   },
   {
    "duration": 97,
    "start_time": "2022-03-18T07:41:58.490Z"
   },
   {
    "duration": 50,
    "start_time": "2022-03-18T07:41:58.588Z"
   },
   {
    "duration": 65,
    "start_time": "2022-03-18T07:41:58.639Z"
   },
   {
    "duration": 77,
    "start_time": "2022-03-18T07:41:58.705Z"
   },
   {
    "duration": 3,
    "start_time": "2022-03-18T07:41:58.784Z"
   },
   {
    "duration": 7,
    "start_time": "2022-03-18T07:41:58.788Z"
   },
   {
    "duration": 4630,
    "start_time": "2022-03-18T07:41:58.797Z"
   },
   {
    "duration": 9,
    "start_time": "2022-03-18T07:42:03.429Z"
   },
   {
    "duration": 797,
    "start_time": "2022-03-18T07:42:03.440Z"
   },
   {
    "duration": 4,
    "start_time": "2022-03-18T07:42:04.239Z"
   },
   {
    "duration": 626,
    "start_time": "2022-03-18T07:42:04.244Z"
   },
   {
    "duration": 318,
    "start_time": "2022-03-18T07:42:04.872Z"
   },
   {
    "duration": 2,
    "start_time": "2022-03-18T07:42:05.192Z"
   },
   {
    "duration": 6,
    "start_time": "2022-03-18T07:42:05.196Z"
   },
   {
    "duration": 179,
    "start_time": "2022-03-18T07:42:05.203Z"
   },
   {
    "duration": 449,
    "start_time": "2022-03-18T07:42:05.384Z"
   },
   {
    "duration": 12,
    "start_time": "2022-03-18T07:42:05.834Z"
   },
   {
    "duration": 22,
    "start_time": "2022-03-18T07:42:05.848Z"
   },
   {
    "duration": 10,
    "start_time": "2022-03-18T07:42:05.872Z"
   },
   {
    "duration": 570,
    "start_time": "2022-03-18T07:42:05.884Z"
   },
   {
    "duration": 423,
    "start_time": "2022-03-18T07:42:06.456Z"
   },
   {
    "duration": 270,
    "start_time": "2022-03-18T07:42:06.881Z"
   },
   {
    "duration": 2,
    "start_time": "2022-03-18T07:42:07.153Z"
   },
   {
    "duration": 6,
    "start_time": "2022-03-18T07:42:07.157Z"
   },
   {
    "duration": 10,
    "start_time": "2022-03-18T07:42:07.164Z"
   },
   {
    "duration": 9,
    "start_time": "2022-03-18T07:42:07.176Z"
   },
   {
    "duration": 116,
    "start_time": "2022-03-18T07:42:07.187Z"
   },
   {
    "duration": 0,
    "start_time": "2022-03-18T07:42:07.305Z"
   },
   {
    "duration": 0,
    "start_time": "2022-03-18T07:42:07.306Z"
   },
   {
    "duration": 0,
    "start_time": "2022-03-18T07:42:07.307Z"
   },
   {
    "duration": 0,
    "start_time": "2022-03-18T07:42:07.308Z"
   },
   {
    "duration": 0,
    "start_time": "2022-03-18T07:42:07.310Z"
   },
   {
    "duration": 0,
    "start_time": "2022-03-18T07:42:07.310Z"
   },
   {
    "duration": 0,
    "start_time": "2022-03-18T07:42:07.311Z"
   },
   {
    "duration": 0,
    "start_time": "2022-03-18T07:42:07.312Z"
   },
   {
    "duration": 0,
    "start_time": "2022-03-18T07:42:07.314Z"
   },
   {
    "duration": 0,
    "start_time": "2022-03-18T07:42:07.315Z"
   },
   {
    "duration": 0,
    "start_time": "2022-03-18T07:42:07.316Z"
   },
   {
    "duration": 0,
    "start_time": "2022-03-18T07:42:07.317Z"
   },
   {
    "duration": 0,
    "start_time": "2022-03-18T07:42:07.318Z"
   },
   {
    "duration": 2,
    "start_time": "2022-03-18T07:42:53.080Z"
   },
   {
    "duration": 11,
    "start_time": "2022-03-18T07:42:53.353Z"
   },
   {
    "duration": 12,
    "start_time": "2022-03-18T07:43:02.134Z"
   },
   {
    "duration": 11,
    "start_time": "2022-03-18T07:43:12.851Z"
   },
   {
    "duration": 3,
    "start_time": "2022-03-18T07:45:26.425Z"
   },
   {
    "duration": 10,
    "start_time": "2022-03-18T07:45:26.914Z"
   },
   {
    "duration": 3,
    "start_time": "2022-03-18T07:45:35.037Z"
   },
   {
    "duration": 3,
    "start_time": "2022-03-18T07:45:48.243Z"
   },
   {
    "duration": 6,
    "start_time": "2022-03-18T07:45:48.916Z"
   },
   {
    "duration": 151,
    "start_time": "2022-03-18T07:45:51.195Z"
   },
   {
    "duration": 60,
    "start_time": "2022-03-18T07:45:52.377Z"
   },
   {
    "duration": 4,
    "start_time": "2022-03-18T07:49:03.818Z"
   },
   {
    "duration": 5,
    "start_time": "2022-03-18T07:49:03.829Z"
   },
   {
    "duration": 110,
    "start_time": "2022-03-18T07:49:03.841Z"
   },
   {
    "duration": 200,
    "start_time": "2022-03-18T07:49:04.040Z"
   },
   {
    "duration": 498,
    "start_time": "2022-03-18T07:49:04.243Z"
   },
   {
    "duration": 57225,
    "start_time": "2022-03-18T07:49:04.745Z"
   },
   {
    "duration": 59767,
    "start_time": "2022-03-18T07:50:01.973Z"
   },
   {
    "duration": 4,
    "start_time": "2022-03-18T07:51:01.742Z"
   },
   {
    "duration": 6200,
    "start_time": "2022-03-18T07:51:01.748Z"
   },
   {
    "duration": 168209,
    "start_time": "2022-03-18T07:51:07.950Z"
   },
   {
    "duration": 7989,
    "start_time": "2022-03-18T07:53:56.161Z"
   },
   {
    "duration": 171384,
    "start_time": "2022-03-18T07:54:04.153Z"
   },
   {
    "duration": 3,
    "start_time": "2022-03-18T07:56:55.539Z"
   },
   {
    "duration": 21,
    "start_time": "2022-03-18T07:56:55.543Z"
   },
   {
    "duration": 3,
    "start_time": "2022-03-18T08:02:07.657Z"
   },
   {
    "duration": 8,
    "start_time": "2022-03-18T08:02:07.664Z"
   },
   {
    "duration": 4,
    "start_time": "2022-03-18T08:02:07.677Z"
   },
   {
    "duration": 22,
    "start_time": "2022-03-18T08:02:07.683Z"
   },
   {
    "duration": 9,
    "start_time": "2022-03-18T08:02:07.707Z"
   },
   {
    "duration": 61,
    "start_time": "2022-03-18T08:02:07.718Z"
   },
   {
    "duration": 124,
    "start_time": "2022-03-18T08:02:07.840Z"
   },
   {
    "duration": 471,
    "start_time": "2022-03-18T08:02:07.966Z"
   },
   {
    "duration": 2713,
    "start_time": "2022-03-18T08:02:08.439Z"
   },
   {
    "duration": 0,
    "start_time": "2022-03-18T08:04:18.522Z"
   },
   {
    "duration": 0,
    "start_time": "2022-03-18T08:04:18.523Z"
   },
   {
    "duration": 0,
    "start_time": "2022-03-18T08:04:18.524Z"
   },
   {
    "duration": 0,
    "start_time": "2022-03-18T08:04:18.525Z"
   },
   {
    "duration": 0,
    "start_time": "2022-03-18T08:04:18.526Z"
   },
   {
    "duration": 0,
    "start_time": "2022-03-18T08:04:18.527Z"
   },
   {
    "duration": 0,
    "start_time": "2022-03-18T08:04:18.528Z"
   },
   {
    "duration": 0,
    "start_time": "2022-03-18T08:04:18.529Z"
   },
   {
    "duration": 0,
    "start_time": "2022-03-18T08:04:18.530Z"
   },
   {
    "duration": 0,
    "start_time": "2022-03-18T08:04:18.530Z"
   },
   {
    "duration": 0,
    "start_time": "2022-03-18T08:04:18.531Z"
   },
   {
    "duration": 0,
    "start_time": "2022-03-18T08:04:18.532Z"
   },
   {
    "duration": 0,
    "start_time": "2022-03-18T08:04:18.533Z"
   },
   {
    "duration": 0,
    "start_time": "2022-03-18T08:04:18.534Z"
   },
   {
    "duration": 0,
    "start_time": "2022-03-18T08:04:18.535Z"
   },
   {
    "duration": 0,
    "start_time": "2022-03-18T08:04:18.536Z"
   },
   {
    "duration": 0,
    "start_time": "2022-03-18T08:04:18.537Z"
   },
   {
    "duration": 3,
    "start_time": "2022-03-18T08:04:21.177Z"
   },
   {
    "duration": 7,
    "start_time": "2022-03-18T08:04:21.182Z"
   },
   {
    "duration": 12,
    "start_time": "2022-03-18T08:04:21.190Z"
   },
   {
    "duration": 9,
    "start_time": "2022-03-18T08:04:21.203Z"
   },
   {
    "duration": 11,
    "start_time": "2022-03-18T08:04:21.214Z"
   },
   {
    "duration": 64,
    "start_time": "2022-03-18T08:04:21.226Z"
   },
   {
    "duration": 121,
    "start_time": "2022-03-18T08:04:21.339Z"
   },
   {
    "duration": 377,
    "start_time": "2022-03-18T08:04:21.462Z"
   },
   {
    "duration": 54442,
    "start_time": "2022-03-18T08:04:21.841Z"
   },
   {
    "duration": 45067,
    "start_time": "2022-03-18T08:05:16.284Z"
   },
   {
    "duration": 3,
    "start_time": "2022-03-18T08:06:01.354Z"
   },
   {
    "duration": 5879,
    "start_time": "2022-03-18T08:06:01.359Z"
   },
   {
    "duration": 165580,
    "start_time": "2022-03-18T08:06:07.240Z"
   },
   {
    "duration": 7018,
    "start_time": "2022-03-18T08:08:52.822Z"
   },
   {
    "duration": 167330,
    "start_time": "2022-03-18T08:08:59.843Z"
   },
   {
    "duration": 3,
    "start_time": "2022-03-18T08:11:47.174Z"
   },
   {
    "duration": 23,
    "start_time": "2022-03-18T08:11:47.179Z"
   },
   {
    "duration": 3068,
    "start_time": "2022-03-18T11:38:08.571Z"
   },
   {
    "duration": 16859,
    "start_time": "2022-03-18T11:38:43.684Z"
   },
   {
    "duration": 74291,
    "start_time": "2022-03-18T11:39:41.668Z"
   },
   {
    "duration": 13962,
    "start_time": "2022-03-18T11:41:03.951Z"
   },
   {
    "duration": 9144,
    "start_time": "2022-03-18T11:41:29.394Z"
   },
   {
    "duration": 17788,
    "start_time": "2022-03-18T11:42:04.357Z"
   },
   {
    "duration": 10031,
    "start_time": "2022-03-18T11:42:41.919Z"
   },
   {
    "duration": 28994,
    "start_time": "2022-03-18T11:43:17.557Z"
   },
   {
    "duration": 10007,
    "start_time": "2022-03-18T11:44:16.848Z"
   },
   {
    "duration": 5068,
    "start_time": "2022-03-18T11:44:45.483Z"
   },
   {
    "duration": 5024,
    "start_time": "2022-03-18T11:45:04.835Z"
   },
   {
    "duration": 5050,
    "start_time": "2022-03-18T11:45:18.900Z"
   },
   {
    "duration": 3559,
    "start_time": "2022-03-18T11:46:16.501Z"
   },
   {
    "duration": 3023,
    "start_time": "2022-03-18T11:46:23.735Z"
   },
   {
    "duration": 3057,
    "start_time": "2022-03-18T11:47:23.711Z"
   },
   {
    "duration": 3043,
    "start_time": "2022-03-18T11:47:46.225Z"
   },
   {
    "duration": 81,
    "start_time": "2022-03-18T11:49:42.395Z"
   },
   {
    "duration": 3070,
    "start_time": "2022-03-18T11:49:47.795Z"
   },
   {
    "duration": 3038,
    "start_time": "2022-03-18T11:50:00.432Z"
   },
   {
    "duration": 3064,
    "start_time": "2022-03-18T11:50:07.993Z"
   },
   {
    "duration": 3054,
    "start_time": "2022-03-18T11:52:42.401Z"
   },
   {
    "duration": 3016,
    "start_time": "2022-03-18T11:53:28.152Z"
   },
   {
    "duration": 3030,
    "start_time": "2022-03-18T11:53:40.125Z"
   },
   {
    "duration": 3022,
    "start_time": "2022-03-18T11:53:47.238Z"
   },
   {
    "duration": 3031,
    "start_time": "2022-03-18T11:54:01.720Z"
   },
   {
    "duration": 3014,
    "start_time": "2022-03-18T11:57:24.543Z"
   },
   {
    "duration": 6,
    "start_time": "2022-03-18T12:06:21.324Z"
   },
   {
    "duration": 131,
    "start_time": "2022-03-18T12:06:22.212Z"
   },
   {
    "duration": 13,
    "start_time": "2022-03-18T12:06:23.391Z"
   },
   {
    "duration": 10,
    "start_time": "2022-03-18T12:06:24.260Z"
   },
   {
    "duration": 12,
    "start_time": "2022-03-18T12:06:27.151Z"
   },
   {
    "duration": 199390,
    "start_time": "2022-03-18T12:24:00.256Z"
   },
   {
    "duration": 5,
    "start_time": "2022-03-18T12:27:19.650Z"
   },
   {
    "duration": 33706,
    "start_time": "2022-03-18T12:27:19.739Z"
   },
   {
    "duration": 3102,
    "start_time": "2022-03-18T12:27:53.452Z"
   },
   {
    "duration": 0,
    "start_time": "2022-03-18T12:27:56.556Z"
   },
   {
    "duration": 0,
    "start_time": "2022-03-18T12:27:56.558Z"
   },
   {
    "duration": 124531,
    "start_time": "2022-03-18T13:02:23.007Z"
   },
   {
    "duration": 12,
    "start_time": "2022-03-18T13:32:54.746Z"
   },
   {
    "duration": 12,
    "start_time": "2022-03-18T13:33:49.625Z"
   },
   {
    "duration": 168632,
    "start_time": "2022-03-18T13:33:59.130Z"
   },
   {
    "duration": 3,
    "start_time": "2022-03-18T13:37:27.827Z"
   },
   {
    "duration": 536,
    "start_time": "2022-03-18T13:37:28.828Z"
   },
   {
    "duration": 156302,
    "start_time": "2022-03-18T13:38:04.240Z"
   },
   {
    "duration": 20785,
    "start_time": "2022-03-18T15:24:48.081Z"
   },
   {
    "duration": 3745,
    "start_time": "2022-03-18T15:26:18.012Z"
   },
   {
    "duration": 5063,
    "start_time": "2022-03-18T15:26:25.098Z"
   },
   {
    "duration": 31703,
    "start_time": "2022-03-18T15:27:02.395Z"
   },
   {
    "duration": 120486,
    "start_time": "2022-03-18T15:27:55.065Z"
   },
   {
    "duration": 2753,
    "start_time": "2022-03-19T09:00:05.320Z"
   },
   {
    "duration": 7,
    "start_time": "2022-03-19T09:00:08.076Z"
   },
   {
    "duration": 2212,
    "start_time": "2022-03-19T09:00:08.085Z"
   },
   {
    "duration": 7,
    "start_time": "2022-03-19T09:00:10.300Z"
   },
   {
    "duration": 815,
    "start_time": "2022-03-19T09:00:10.309Z"
   },
   {
    "duration": 4,
    "start_time": "2022-03-19T09:00:11.127Z"
   },
   {
    "duration": 43,
    "start_time": "2022-03-19T09:00:11.134Z"
   },
   {
    "duration": 16,
    "start_time": "2022-03-19T09:00:11.179Z"
   },
   {
    "duration": 24,
    "start_time": "2022-03-19T09:00:11.197Z"
   },
   {
    "duration": 55,
    "start_time": "2022-03-19T09:00:11.225Z"
   },
   {
    "duration": 8,
    "start_time": "2022-03-19T09:00:11.283Z"
   },
   {
    "duration": 65,
    "start_time": "2022-03-19T09:00:11.293Z"
   },
   {
    "duration": 27,
    "start_time": "2022-03-19T09:00:11.360Z"
   },
   {
    "duration": 640,
    "start_time": "2022-03-19T09:00:11.389Z"
   },
   {
    "duration": 832,
    "start_time": "2022-03-19T09:00:12.335Z"
   },
   {
    "duration": 665,
    "start_time": "2022-03-19T09:00:13.169Z"
   },
   {
    "duration": 71,
    "start_time": "2022-03-19T09:00:13.836Z"
   },
   {
    "duration": 18,
    "start_time": "2022-03-19T09:00:13.911Z"
   },
   {
    "duration": 27,
    "start_time": "2022-03-19T09:00:13.931Z"
   },
   {
    "duration": 79,
    "start_time": "2022-03-19T09:00:13.973Z"
   },
   {
    "duration": 8,
    "start_time": "2022-03-19T09:00:14.149Z"
   },
   {
    "duration": 114,
    "start_time": "2022-03-19T09:00:14.340Z"
   },
   {
    "duration": 460,
    "start_time": "2022-03-19T09:00:14.522Z"
   },
   {
    "duration": 451,
    "start_time": "2022-03-19T09:00:14.984Z"
   },
   {
    "duration": 477,
    "start_time": "2022-03-19T09:00:15.438Z"
   },
   {
    "duration": 65,
    "start_time": "2022-03-19T09:00:15.919Z"
   },
   {
    "duration": 5,
    "start_time": "2022-03-19T09:00:15.987Z"
   },
   {
    "duration": 58,
    "start_time": "2022-03-19T09:00:15.994Z"
   },
   {
    "duration": 22,
    "start_time": "2022-03-19T09:00:16.055Z"
   },
   {
    "duration": 148,
    "start_time": "2022-03-19T09:00:16.082Z"
   },
   {
    "duration": 57,
    "start_time": "2022-03-19T09:00:16.445Z"
   },
   {
    "duration": 83,
    "start_time": "2022-03-19T09:00:16.635Z"
   },
   {
    "duration": 87,
    "start_time": "2022-03-19T09:00:16.825Z"
   },
   {
    "duration": 4,
    "start_time": "2022-03-19T09:00:17.013Z"
   },
   {
    "duration": 12,
    "start_time": "2022-03-19T09:00:17.199Z"
   },
   {
    "duration": 6768,
    "start_time": "2022-03-19T09:00:17.382Z"
   },
   {
    "duration": 21,
    "start_time": "2022-03-19T09:00:24.153Z"
   },
   {
    "duration": 1414,
    "start_time": "2022-03-19T09:00:24.176Z"
   },
   {
    "duration": 6,
    "start_time": "2022-03-19T09:00:25.593Z"
   },
   {
    "duration": 1071,
    "start_time": "2022-03-19T09:00:25.601Z"
   },
   {
    "duration": 522,
    "start_time": "2022-03-19T09:00:26.674Z"
   },
   {
    "duration": 4,
    "start_time": "2022-03-19T09:00:27.199Z"
   },
   {
    "duration": 8,
    "start_time": "2022-03-19T09:00:27.206Z"
   },
   {
    "duration": 387,
    "start_time": "2022-03-19T09:00:27.216Z"
   },
   {
    "duration": 718,
    "start_time": "2022-03-19T09:00:27.606Z"
   },
   {
    "duration": 25,
    "start_time": "2022-03-19T09:00:28.327Z"
   },
   {
    "duration": 38,
    "start_time": "2022-03-19T09:00:28.355Z"
   },
   {
    "duration": 199,
    "start_time": "2022-03-19T09:00:28.396Z"
   },
   {
    "duration": 1258,
    "start_time": "2022-03-19T09:00:28.597Z"
   },
   {
    "duration": 18,
    "start_time": "2022-03-19T09:05:22.134Z"
   },
   {
    "duration": 969,
    "start_time": "2022-03-19T09:05:23.114Z"
   },
   {
    "duration": 17,
    "start_time": "2022-03-19T09:05:54.126Z"
   },
   {
    "duration": 975,
    "start_time": "2022-03-19T09:05:55.060Z"
   },
   {
    "duration": 4,
    "start_time": "2022-03-19T09:06:15.592Z"
   },
   {
    "duration": 210,
    "start_time": "2022-03-19T09:06:36.045Z"
   },
   {
    "duration": 21,
    "start_time": "2022-03-19T09:15:41.210Z"
   },
   {
    "duration": 953,
    "start_time": "2022-03-19T09:15:43.895Z"
   },
   {
    "duration": 203,
    "start_time": "2022-03-19T09:15:47.688Z"
   },
   {
    "duration": 711,
    "start_time": "2022-03-19T09:15:48.676Z"
   },
   {
    "duration": 505,
    "start_time": "2022-03-19T09:15:49.701Z"
   },
   {
    "duration": 148,
    "start_time": "2022-03-19T09:16:32.889Z"
   },
   {
    "duration": 5,
    "start_time": "2022-03-19T09:16:35.394Z"
   },
   {
    "duration": 128,
    "start_time": "2022-03-19T09:16:35.749Z"
   },
   {
    "duration": 27,
    "start_time": "2022-03-19T09:16:44.867Z"
   },
   {
    "duration": 4,
    "start_time": "2022-03-19T09:16:45.102Z"
   },
   {
    "duration": 19,
    "start_time": "2022-03-19T09:16:45.899Z"
   },
   {
    "duration": 1070,
    "start_time": "2022-03-19T09:16:48.943Z"
   },
   {
    "duration": 226,
    "start_time": "2022-03-19T09:16:50.015Z"
   },
   {
    "duration": 715,
    "start_time": "2022-03-19T09:16:50.244Z"
   },
   {
    "duration": 484,
    "start_time": "2022-03-19T09:16:51.335Z"
   },
   {
    "duration": 5,
    "start_time": "2022-03-19T09:16:53.425Z"
   },
   {
    "duration": 127,
    "start_time": "2022-03-19T09:16:54.224Z"
   },
   {
    "duration": 4,
    "start_time": "2022-03-19T09:17:31.859Z"
   },
   {
    "duration": 20,
    "start_time": "2022-03-19T09:17:32.098Z"
   },
   {
    "duration": 1048,
    "start_time": "2022-03-19T09:17:32.438Z"
   },
   {
    "duration": 218,
    "start_time": "2022-03-19T09:17:33.489Z"
   },
   {
    "duration": 683,
    "start_time": "2022-03-19T09:17:33.709Z"
   },
   {
    "duration": 489,
    "start_time": "2022-03-19T09:17:34.395Z"
   },
   {
    "duration": 4,
    "start_time": "2022-03-19T09:17:34.887Z"
   },
   {
    "duration": 11,
    "start_time": "2022-03-19T09:17:34.893Z"
   },
   {
    "duration": 280,
    "start_time": "2022-03-19T09:17:35.708Z"
   },
   {
    "duration": 23,
    "start_time": "2022-03-19T09:50:45.814Z"
   },
   {
    "duration": 926,
    "start_time": "2022-03-19T09:50:48.611Z"
   },
   {
    "duration": 224,
    "start_time": "2022-03-19T09:50:49.540Z"
   },
   {
    "duration": 683,
    "start_time": "2022-03-19T09:50:49.766Z"
   },
   {
    "duration": 487,
    "start_time": "2022-03-19T09:50:50.452Z"
   },
   {
    "duration": 6,
    "start_time": "2022-03-19T09:50:52.197Z"
   },
   {
    "duration": 40799,
    "start_time": "2022-03-19T09:50:52.854Z"
   },
   {
    "duration": 4,
    "start_time": "2022-03-19T09:51:33.656Z"
   },
   {
    "duration": 56,
    "start_time": "2022-03-19T09:51:33.661Z"
   },
   {
    "duration": 6,
    "start_time": "2022-03-19T09:52:04.341Z"
   },
   {
    "duration": 651,
    "start_time": "2022-03-19T09:52:04.828Z"
   },
   {
    "duration": 4,
    "start_time": "2022-03-19T09:52:10.140Z"
   },
   {
    "duration": 20,
    "start_time": "2022-03-19T09:52:10.585Z"
   },
   {
    "duration": 26,
    "start_time": "2022-03-19T09:54:07.685Z"
   },
   {
    "duration": 1013,
    "start_time": "2022-03-19T09:54:09.126Z"
   },
   {
    "duration": 236,
    "start_time": "2022-03-19T09:54:10.143Z"
   },
   {
    "duration": 725,
    "start_time": "2022-03-19T09:54:10.382Z"
   },
   {
    "duration": 510,
    "start_time": "2022-03-19T09:54:11.110Z"
   },
   {
    "duration": 18,
    "start_time": "2022-03-19T09:54:41.273Z"
   },
   {
    "duration": 25,
    "start_time": "2022-03-19T09:58:12.895Z"
   },
   {
    "duration": 923,
    "start_time": "2022-03-19T09:58:13.600Z"
   },
   {
    "duration": 218,
    "start_time": "2022-03-19T09:58:14.526Z"
   },
   {
    "duration": 677,
    "start_time": "2022-03-19T09:58:14.747Z"
   },
   {
    "duration": 512,
    "start_time": "2022-03-19T09:58:15.427Z"
   },
   {
    "duration": 6,
    "start_time": "2022-03-19T09:58:16.440Z"
   },
   {
    "duration": 124,
    "start_time": "2022-03-19T09:58:17.034Z"
   },
   {
    "duration": 38,
    "start_time": "2022-03-19T09:58:55.493Z"
   },
   {
    "duration": 1380,
    "start_time": "2022-03-19T09:58:56.103Z"
   },
   {
    "duration": 300,
    "start_time": "2022-03-19T09:58:57.486Z"
   },
   {
    "duration": 953,
    "start_time": "2022-03-19T09:58:57.789Z"
   },
   {
    "duration": 635,
    "start_time": "2022-03-19T09:58:58.746Z"
   },
   {
    "duration": 8,
    "start_time": "2022-03-19T09:58:59.384Z"
   },
   {
    "duration": 776,
    "start_time": "2022-03-19T09:59:00.008Z"
   },
   {
    "duration": 5,
    "start_time": "2022-03-19T09:59:01.150Z"
   },
   {
    "duration": 129,
    "start_time": "2022-03-19T10:05:18.464Z"
   },
   {
    "duration": 7,
    "start_time": "2022-03-19T10:05:47.010Z"
   },
   {
    "duration": 128,
    "start_time": "2022-03-19T10:05:55.601Z"
   },
   {
    "duration": 25,
    "start_time": "2022-03-19T10:06:50.325Z"
   },
   {
    "duration": 150,
    "start_time": "2022-03-19T10:06:59.198Z"
   },
   {
    "duration": 123,
    "start_time": "2022-03-19T10:07:28.891Z"
   },
   {
    "duration": 4,
    "start_time": "2022-03-19T10:08:07.687Z"
   },
   {
    "duration": 25,
    "start_time": "2022-03-19T10:08:07.902Z"
   },
   {
    "duration": 124,
    "start_time": "2022-03-19T10:08:16.473Z"
   },
   {
    "duration": 4,
    "start_time": "2022-03-19T10:08:45.117Z"
   },
   {
    "duration": 24,
    "start_time": "2022-03-19T10:08:45.697Z"
   },
   {
    "duration": 27,
    "start_time": "2022-03-19T10:09:30.888Z"
   },
   {
    "duration": 1413,
    "start_time": "2022-03-19T10:09:31.403Z"
   },
   {
    "duration": 230,
    "start_time": "2022-03-19T10:09:32.819Z"
   },
   {
    "duration": 700,
    "start_time": "2022-03-19T10:09:33.052Z"
   },
   {
    "duration": 621,
    "start_time": "2022-03-19T10:09:33.754Z"
   },
   {
    "duration": 15,
    "start_time": "2022-03-19T10:09:40.014Z"
   },
   {
    "duration": 108,
    "start_time": "2022-03-19T10:09:41.765Z"
   },
   {
    "duration": 51682,
    "start_time": "2022-03-19T10:09:43.342Z"
   },
   {
    "duration": 17642,
    "start_time": "2022-03-19T10:10:43.378Z"
   },
   {
    "duration": 4434,
    "start_time": "2022-03-19T10:11:02.951Z"
   },
   {
    "duration": 25,
    "start_time": "2022-03-19T10:11:26.379Z"
   },
   {
    "duration": 4410,
    "start_time": "2022-03-19T10:11:31.975Z"
   },
   {
    "duration": 5,
    "start_time": "2022-03-19T10:12:05.896Z"
   },
   {
    "duration": 26,
    "start_time": "2022-03-19T10:12:06.275Z"
   },
   {
    "duration": 922,
    "start_time": "2022-03-19T10:12:06.500Z"
   },
   {
    "duration": 219,
    "start_time": "2022-03-19T10:12:07.425Z"
   },
   {
    "duration": 674,
    "start_time": "2022-03-19T10:12:09.807Z"
   },
   {
    "duration": 498,
    "start_time": "2022-03-19T10:12:10.485Z"
   },
   {
    "duration": 11,
    "start_time": "2022-03-19T10:12:15.320Z"
   },
   {
    "duration": 101,
    "start_time": "2022-03-19T10:12:16.374Z"
   },
   {
    "duration": 4550,
    "start_time": "2022-03-19T10:12:17.524Z"
   },
   {
    "duration": 135,
    "start_time": "2022-03-19T10:12:48.655Z"
   },
   {
    "duration": 4506,
    "start_time": "2022-03-19T10:13:01.068Z"
   },
   {
    "duration": 4497,
    "start_time": "2022-03-19T10:14:37.680Z"
   },
   {
    "duration": 4714,
    "start_time": "2022-03-19T10:14:53.366Z"
   },
   {
    "duration": 5116,
    "start_time": "2022-03-19T10:15:20.665Z"
   },
   {
    "duration": 4908,
    "start_time": "2022-03-19T10:15:51.271Z"
   },
   {
    "duration": 2158,
    "start_time": "2022-03-19T10:17:32.118Z"
   },
   {
    "duration": 2156,
    "start_time": "2022-03-19T10:17:57.420Z"
   },
   {
    "duration": 1054,
    "start_time": "2022-03-19T10:20:32.422Z"
   },
   {
    "duration": 11687,
    "start_time": "2022-03-19T10:23:10.887Z"
   },
   {
    "duration": 153,
    "start_time": "2022-03-19T10:24:42.616Z"
   },
   {
    "duration": 23,
    "start_time": "2022-03-19T10:25:00.097Z"
   },
   {
    "duration": 387,
    "start_time": "2022-03-19T10:25:24.350Z"
   },
   {
    "duration": 32,
    "start_time": "2022-03-19T10:25:41.174Z"
   },
   {
    "duration": 1019,
    "start_time": "2022-03-19T10:25:48.284Z"
   },
   {
    "duration": 240,
    "start_time": "2022-03-19T10:25:49.305Z"
   },
   {
    "duration": 739,
    "start_time": "2022-03-19T10:25:49.549Z"
   },
   {
    "duration": 529,
    "start_time": "2022-03-19T10:25:50.780Z"
   },
   {
    "duration": 7751,
    "start_time": "2022-03-19T10:26:04.833Z"
   },
   {
    "duration": 994,
    "start_time": "2022-03-19T10:26:40.681Z"
   },
   {
    "duration": 2136,
    "start_time": "2022-03-19T10:26:48.140Z"
   },
   {
    "duration": 6525,
    "start_time": "2022-03-19T10:27:03.756Z"
   },
   {
    "duration": 8257,
    "start_time": "2022-03-19T10:29:12.470Z"
   },
   {
    "duration": 7781,
    "start_time": "2022-03-19T10:30:38.637Z"
   },
   {
    "duration": 7390,
    "start_time": "2022-03-19T10:31:38.400Z"
   },
   {
    "duration": 25199,
    "start_time": "2022-03-19T10:33:30.754Z"
   },
   {
    "duration": 6,
    "start_time": "2022-03-19T10:34:44.220Z"
   },
   {
    "duration": 235,
    "start_time": "2022-03-19T10:34:44.657Z"
   },
   {
    "duration": 27,
    "start_time": "2022-03-19T10:35:07.281Z"
   },
   {
    "duration": 1005,
    "start_time": "2022-03-19T10:35:07.690Z"
   },
   {
    "duration": 225,
    "start_time": "2022-03-19T10:35:08.697Z"
   },
   {
    "duration": 714,
    "start_time": "2022-03-19T10:35:08.924Z"
   },
   {
    "duration": 508,
    "start_time": "2022-03-19T10:35:09.641Z"
   },
   {
    "duration": 6,
    "start_time": "2022-03-19T10:35:14.534Z"
   },
   {
    "duration": 1500,
    "start_time": "2022-03-19T10:35:15.108Z"
   },
   {
    "duration": 132476,
    "start_time": "2022-03-19T10:35:37.331Z"
   },
   {
    "duration": 6,
    "start_time": "2022-03-19T10:37:58.285Z"
   },
   {
    "duration": 14948,
    "start_time": "2022-03-19T10:37:58.732Z"
   },
   {
    "duration": 8573,
    "start_time": "2022-03-19T10:39:46.223Z"
   },
   {
    "duration": 8207,
    "start_time": "2022-03-19T10:40:09.486Z"
   },
   {
    "duration": 143,
    "start_time": "2022-03-19T10:40:30.729Z"
   },
   {
    "duration": 12543,
    "start_time": "2022-03-19T10:40:35.151Z"
   },
   {
    "duration": 21400,
    "start_time": "2022-03-19T10:42:15.856Z"
   },
   {
    "duration": 13205,
    "start_time": "2022-03-19T10:43:14.107Z"
   },
   {
    "duration": 8272,
    "start_time": "2022-03-19T10:43:51.856Z"
   },
   {
    "duration": 11061,
    "start_time": "2022-03-19T10:44:00.361Z"
   },
   {
    "duration": 18851,
    "start_time": "2022-03-19T10:52:29.145Z"
   },
   {
    "duration": 191,
    "start_time": "2022-03-19T10:59:14.348Z"
   },
   {
    "duration": 4137,
    "start_time": "2022-03-19T11:00:04.657Z"
   },
   {
    "duration": 8662,
    "start_time": "2022-03-19T11:00:12.984Z"
   },
   {
    "duration": 178,
    "start_time": "2022-03-19T11:01:06.754Z"
   },
   {
    "duration": 6555,
    "start_time": "2022-03-19T11:01:33.990Z"
   },
   {
    "duration": 4995,
    "start_time": "2022-03-19T11:03:01.974Z"
   },
   {
    "duration": 65319,
    "start_time": "2022-03-19T11:03:17.498Z"
   },
   {
    "duration": 35558,
    "start_time": "2022-03-19T11:04:53.743Z"
   },
   {
    "duration": 22584,
    "start_time": "2022-03-19T11:05:38.905Z"
   },
   {
    "duration": 20918,
    "start_time": "2022-03-19T11:06:36.059Z"
   },
   {
    "duration": 7,
    "start_time": "2022-03-19T11:09:12.928Z"
   },
   {
    "duration": 26,
    "start_time": "2022-03-19T11:09:12.938Z"
   },
   {
    "duration": 2162,
    "start_time": "2022-03-19T11:09:12.967Z"
   },
   {
    "duration": 6,
    "start_time": "2022-03-19T11:09:15.132Z"
   },
   {
    "duration": 894,
    "start_time": "2022-03-19T11:09:15.141Z"
   },
   {
    "duration": 3,
    "start_time": "2022-03-19T11:09:16.038Z"
   },
   {
    "duration": 38,
    "start_time": "2022-03-19T11:09:16.044Z"
   },
   {
    "duration": 9,
    "start_time": "2022-03-19T11:09:16.085Z"
   },
   {
    "duration": 8,
    "start_time": "2022-03-19T11:09:16.096Z"
   },
   {
    "duration": 26,
    "start_time": "2022-03-19T11:09:16.106Z"
   },
   {
    "duration": 41,
    "start_time": "2022-03-19T11:09:16.137Z"
   },
   {
    "duration": 32,
    "start_time": "2022-03-19T11:09:16.180Z"
   },
   {
    "duration": 22,
    "start_time": "2022-03-19T11:09:16.214Z"
   },
   {
    "duration": 628,
    "start_time": "2022-03-19T11:09:16.239Z"
   },
   {
    "duration": 680,
    "start_time": "2022-03-19T11:09:16.874Z"
   },
   {
    "duration": 627,
    "start_time": "2022-03-19T11:09:17.557Z"
   },
   {
    "duration": 56,
    "start_time": "2022-03-19T11:09:18.186Z"
   },
   {
    "duration": 38,
    "start_time": "2022-03-19T11:09:18.245Z"
   },
   {
    "duration": 13,
    "start_time": "2022-03-19T11:09:18.286Z"
   },
   {
    "duration": 89,
    "start_time": "2022-03-19T11:09:18.302Z"
   },
   {
    "duration": 6,
    "start_time": "2022-03-19T11:09:18.394Z"
   },
   {
    "duration": 112,
    "start_time": "2022-03-19T11:09:18.403Z"
   },
   {
    "duration": 451,
    "start_time": "2022-03-19T11:09:18.518Z"
   },
   {
    "duration": 446,
    "start_time": "2022-03-19T11:09:18.974Z"
   },
   {
    "duration": 452,
    "start_time": "2022-03-19T11:09:19.423Z"
   },
   {
    "duration": 52,
    "start_time": "2022-03-19T11:09:19.878Z"
   },
   {
    "duration": 5,
    "start_time": "2022-03-19T11:09:19.933Z"
   },
   {
    "duration": 80,
    "start_time": "2022-03-19T11:09:19.940Z"
   },
   {
    "duration": 6,
    "start_time": "2022-03-19T11:09:20.026Z"
   },
   {
    "duration": 109,
    "start_time": "2022-03-19T11:09:20.034Z"
   },
   {
    "duration": 63,
    "start_time": "2022-03-19T11:09:20.145Z"
   },
   {
    "duration": 87,
    "start_time": "2022-03-19T11:09:20.210Z"
   },
   {
    "duration": 104,
    "start_time": "2022-03-19T11:09:20.300Z"
   },
   {
    "duration": 4,
    "start_time": "2022-03-19T11:09:20.406Z"
   },
   {
    "duration": 11,
    "start_time": "2022-03-19T11:09:20.413Z"
   },
   {
    "duration": 7379,
    "start_time": "2022-03-19T11:09:20.427Z"
   },
   {
    "duration": 7,
    "start_time": "2022-03-19T11:09:27.810Z"
   },
   {
    "duration": 1427,
    "start_time": "2022-03-19T11:09:27.819Z"
   },
   {
    "duration": 7,
    "start_time": "2022-03-19T11:09:29.249Z"
   },
   {
    "duration": 1174,
    "start_time": "2022-03-19T11:09:29.274Z"
   },
   {
    "duration": 454,
    "start_time": "2022-03-19T11:09:30.450Z"
   },
   {
    "duration": 4,
    "start_time": "2022-03-19T11:09:30.906Z"
   },
   {
    "duration": 17,
    "start_time": "2022-03-19T11:09:30.912Z"
   },
   {
    "duration": 285,
    "start_time": "2022-03-19T11:09:30.931Z"
   },
   {
    "duration": 897,
    "start_time": "2022-03-19T11:09:31.219Z"
   },
   {
    "duration": 18,
    "start_time": "2022-03-19T11:09:32.119Z"
   },
   {
    "duration": 39,
    "start_time": "2022-03-19T11:09:32.139Z"
   },
   {
    "duration": 4,
    "start_time": "2022-03-19T11:09:32.181Z"
   },
   {
    "duration": 36,
    "start_time": "2022-03-19T11:09:32.187Z"
   },
   {
    "duration": 989,
    "start_time": "2022-03-19T11:09:32.225Z"
   },
   {
    "duration": 223,
    "start_time": "2022-03-19T11:09:33.216Z"
   },
   {
    "duration": 706,
    "start_time": "2022-03-19T11:09:33.441Z"
   },
   {
    "duration": 524,
    "start_time": "2022-03-19T11:09:34.150Z"
   },
   {
    "duration": 5,
    "start_time": "2022-03-19T11:09:34.676Z"
   },
   {
    "duration": 97075,
    "start_time": "2022-03-19T11:09:34.684Z"
   },
   {
    "duration": 4,
    "start_time": "2022-03-19T11:11:11.761Z"
   },
   {
    "duration": 24,
    "start_time": "2022-03-19T11:11:11.767Z"
   },
   {
    "duration": 0,
    "start_time": "2022-03-19T11:11:11.793Z"
   },
   {
    "duration": 0,
    "start_time": "2022-03-19T11:11:11.795Z"
   },
   {
    "duration": 0,
    "start_time": "2022-03-19T11:11:11.797Z"
   },
   {
    "duration": 0,
    "start_time": "2022-03-19T11:11:11.798Z"
   },
   {
    "duration": 0,
    "start_time": "2022-03-19T11:11:11.800Z"
   },
   {
    "duration": 0,
    "start_time": "2022-03-19T11:11:11.801Z"
   },
   {
    "duration": 0,
    "start_time": "2022-03-19T11:11:11.803Z"
   },
   {
    "duration": 0,
    "start_time": "2022-03-19T11:11:11.805Z"
   },
   {
    "duration": 0,
    "start_time": "2022-03-19T11:11:11.806Z"
   },
   {
    "duration": 7,
    "start_time": "2022-03-19T11:11:24.772Z"
   },
   {
    "duration": 9,
    "start_time": "2022-03-19T11:11:24.783Z"
   },
   {
    "duration": 2244,
    "start_time": "2022-03-19T11:11:24.795Z"
   },
   {
    "duration": 6,
    "start_time": "2022-03-19T11:11:27.041Z"
   },
   {
    "duration": 824,
    "start_time": "2022-03-19T11:11:27.050Z"
   },
   {
    "duration": 4,
    "start_time": "2022-03-19T11:11:27.876Z"
   },
   {
    "duration": 22,
    "start_time": "2022-03-19T11:11:27.882Z"
   },
   {
    "duration": 9,
    "start_time": "2022-03-19T11:11:27.906Z"
   },
   {
    "duration": 8,
    "start_time": "2022-03-19T11:11:27.917Z"
   },
   {
    "duration": 25,
    "start_time": "2022-03-19T11:11:27.975Z"
   },
   {
    "duration": 8,
    "start_time": "2022-03-19T11:11:28.002Z"
   },
   {
    "duration": 66,
    "start_time": "2022-03-19T11:11:28.014Z"
   },
   {
    "duration": 22,
    "start_time": "2022-03-19T11:11:28.082Z"
   },
   {
    "duration": 607,
    "start_time": "2022-03-19T11:11:28.107Z"
   },
   {
    "duration": 672,
    "start_time": "2022-03-19T11:11:28.716Z"
   },
   {
    "duration": 739,
    "start_time": "2022-03-19T11:11:29.391Z"
   },
   {
    "duration": 69,
    "start_time": "2022-03-19T11:11:30.133Z"
   },
   {
    "duration": 21,
    "start_time": "2022-03-19T11:11:30.205Z"
   },
   {
    "duration": 5,
    "start_time": "2022-03-19T11:11:30.228Z"
   },
   {
    "duration": 88,
    "start_time": "2022-03-19T11:11:30.236Z"
   },
   {
    "duration": 5,
    "start_time": "2022-03-19T11:11:30.327Z"
   },
   {
    "duration": 113,
    "start_time": "2022-03-19T11:11:30.335Z"
   },
   {
    "duration": 445,
    "start_time": "2022-03-19T11:11:30.451Z"
   },
   {
    "duration": 453,
    "start_time": "2022-03-19T11:11:30.898Z"
   },
   {
    "duration": 449,
    "start_time": "2022-03-19T11:11:31.353Z"
   },
   {
    "duration": 52,
    "start_time": "2022-03-19T11:11:31.804Z"
   },
   {
    "duration": 17,
    "start_time": "2022-03-19T11:11:31.858Z"
   },
   {
    "duration": 56,
    "start_time": "2022-03-19T11:11:31.877Z"
   },
   {
    "duration": 5,
    "start_time": "2022-03-19T11:11:31.935Z"
   },
   {
    "duration": 106,
    "start_time": "2022-03-19T11:11:31.975Z"
   },
   {
    "duration": 54,
    "start_time": "2022-03-19T11:11:32.083Z"
   },
   {
    "duration": 96,
    "start_time": "2022-03-19T11:11:32.139Z"
   },
   {
    "duration": 95,
    "start_time": "2022-03-19T11:11:32.237Z"
   },
   {
    "duration": 4,
    "start_time": "2022-03-19T11:11:32.334Z"
   },
   {
    "duration": 34,
    "start_time": "2022-03-19T11:11:32.340Z"
   },
   {
    "duration": 6959,
    "start_time": "2022-03-19T11:11:32.377Z"
   },
   {
    "duration": 9,
    "start_time": "2022-03-19T11:11:39.338Z"
   },
   {
    "duration": 1387,
    "start_time": "2022-03-19T11:11:39.350Z"
   },
   {
    "duration": 6,
    "start_time": "2022-03-19T11:11:40.739Z"
   },
   {
    "duration": 1031,
    "start_time": "2022-03-19T11:11:40.748Z"
   },
   {
    "duration": 463,
    "start_time": "2022-03-19T11:11:41.781Z"
   },
   {
    "duration": 4,
    "start_time": "2022-03-19T11:11:42.246Z"
   },
   {
    "duration": 22,
    "start_time": "2022-03-19T11:11:42.252Z"
   },
   {
    "duration": 280,
    "start_time": "2022-03-19T11:11:42.276Z"
   },
   {
    "duration": 766,
    "start_time": "2022-03-19T11:11:42.559Z"
   },
   {
    "duration": 17,
    "start_time": "2022-03-19T11:11:43.327Z"
   },
   {
    "duration": 32,
    "start_time": "2022-03-19T11:11:43.346Z"
   },
   {
    "duration": 4,
    "start_time": "2022-03-19T11:11:43.380Z"
   },
   {
    "duration": 24,
    "start_time": "2022-03-19T11:11:43.386Z"
   },
   {
    "duration": 1028,
    "start_time": "2022-03-19T11:11:43.412Z"
   },
   {
    "duration": 716,
    "start_time": "2022-03-19T11:11:44.443Z"
   },
   {
    "duration": 522,
    "start_time": "2022-03-19T11:11:45.162Z"
   },
   {
    "duration": 7,
    "start_time": "2022-03-19T11:11:45.686Z"
   },
   {
    "duration": 4915,
    "start_time": "2022-03-19T11:11:45.695Z"
   },
   {
    "duration": 4,
    "start_time": "2022-03-19T11:11:50.612Z"
   },
   {
    "duration": 43,
    "start_time": "2022-03-19T11:11:50.618Z"
   },
   {
    "duration": 0,
    "start_time": "2022-03-19T11:11:50.663Z"
   },
   {
    "duration": 0,
    "start_time": "2022-03-19T11:11:50.664Z"
   },
   {
    "duration": 0,
    "start_time": "2022-03-19T11:11:50.666Z"
   },
   {
    "duration": 0,
    "start_time": "2022-03-19T11:11:50.667Z"
   },
   {
    "duration": 0,
    "start_time": "2022-03-19T11:11:50.669Z"
   },
   {
    "duration": 0,
    "start_time": "2022-03-19T11:11:50.670Z"
   },
   {
    "duration": 0,
    "start_time": "2022-03-19T11:11:50.672Z"
   },
   {
    "duration": 0,
    "start_time": "2022-03-19T11:11:50.674Z"
   },
   {
    "duration": 0,
    "start_time": "2022-03-19T11:11:50.675Z"
   },
   {
    "duration": 7,
    "start_time": "2022-03-19T11:11:54.674Z"
   },
   {
    "duration": 8,
    "start_time": "2022-03-19T11:11:54.683Z"
   },
   {
    "duration": 2176,
    "start_time": "2022-03-19T11:11:54.694Z"
   },
   {
    "duration": 8,
    "start_time": "2022-03-19T11:11:56.874Z"
   },
   {
    "duration": 835,
    "start_time": "2022-03-19T11:11:56.886Z"
   },
   {
    "duration": 4,
    "start_time": "2022-03-19T11:11:57.723Z"
   },
   {
    "duration": 26,
    "start_time": "2022-03-19T11:11:57.729Z"
   },
   {
    "duration": 9,
    "start_time": "2022-03-19T11:11:57.774Z"
   },
   {
    "duration": 16,
    "start_time": "2022-03-19T11:11:57.785Z"
   },
   {
    "duration": 40,
    "start_time": "2022-03-19T11:11:57.805Z"
   },
   {
    "duration": 27,
    "start_time": "2022-03-19T11:11:57.848Z"
   },
   {
    "duration": 44,
    "start_time": "2022-03-19T11:11:57.878Z"
   },
   {
    "duration": 32,
    "start_time": "2022-03-19T11:11:57.925Z"
   },
   {
    "duration": 649,
    "start_time": "2022-03-19T11:11:57.959Z"
   },
   {
    "duration": 747,
    "start_time": "2022-03-19T11:11:58.611Z"
   },
   {
    "duration": 632,
    "start_time": "2022-03-19T11:11:59.361Z"
   },
   {
    "duration": 57,
    "start_time": "2022-03-19T11:11:59.996Z"
   },
   {
    "duration": 18,
    "start_time": "2022-03-19T11:12:00.074Z"
   },
   {
    "duration": 16,
    "start_time": "2022-03-19T11:12:00.094Z"
   },
   {
    "duration": 77,
    "start_time": "2022-03-19T11:12:00.112Z"
   },
   {
    "duration": 6,
    "start_time": "2022-03-19T11:12:00.191Z"
   },
   {
    "duration": 113,
    "start_time": "2022-03-19T11:12:00.200Z"
   },
   {
    "duration": 658,
    "start_time": "2022-03-19T11:12:00.316Z"
   },
   {
    "duration": 487,
    "start_time": "2022-03-19T11:12:00.976Z"
   },
   {
    "duration": 486,
    "start_time": "2022-03-19T11:12:01.475Z"
   },
   {
    "duration": 62,
    "start_time": "2022-03-19T11:12:01.964Z"
   },
   {
    "duration": 6,
    "start_time": "2022-03-19T11:12:02.029Z"
   },
   {
    "duration": 75,
    "start_time": "2022-03-19T11:12:02.038Z"
   },
   {
    "duration": 5,
    "start_time": "2022-03-19T11:12:02.116Z"
   },
   {
    "duration": 122,
    "start_time": "2022-03-19T11:12:02.123Z"
   },
   {
    "duration": 66,
    "start_time": "2022-03-19T11:12:02.248Z"
   },
   {
    "duration": 93,
    "start_time": "2022-03-19T11:12:02.317Z"
   },
   {
    "duration": 106,
    "start_time": "2022-03-19T11:12:02.412Z"
   },
   {
    "duration": 4,
    "start_time": "2022-03-19T11:12:02.520Z"
   },
   {
    "duration": 12,
    "start_time": "2022-03-19T11:12:02.526Z"
   },
   {
    "duration": 6958,
    "start_time": "2022-03-19T11:12:02.540Z"
   },
   {
    "duration": 7,
    "start_time": "2022-03-19T11:12:09.500Z"
   },
   {
    "duration": 1403,
    "start_time": "2022-03-19T11:12:09.509Z"
   },
   {
    "duration": 5,
    "start_time": "2022-03-19T11:12:10.914Z"
   },
   {
    "duration": 1046,
    "start_time": "2022-03-19T11:12:10.921Z"
   },
   {
    "duration": 414,
    "start_time": "2022-03-19T11:12:11.973Z"
   },
   {
    "duration": 4,
    "start_time": "2022-03-19T11:12:12.389Z"
   },
   {
    "duration": 16,
    "start_time": "2022-03-19T11:12:12.395Z"
   },
   {
    "duration": 273,
    "start_time": "2022-03-19T11:12:12.413Z"
   },
   {
    "duration": 719,
    "start_time": "2022-03-19T11:12:12.688Z"
   },
   {
    "duration": 17,
    "start_time": "2022-03-19T11:12:13.409Z"
   },
   {
    "duration": 20,
    "start_time": "2022-03-19T11:12:13.428Z"
   },
   {
    "duration": 23,
    "start_time": "2022-03-19T11:12:13.451Z"
   },
   {
    "duration": 24,
    "start_time": "2022-03-19T11:12:13.477Z"
   },
   {
    "duration": 984,
    "start_time": "2022-03-19T11:12:13.503Z"
   },
   {
    "duration": 687,
    "start_time": "2022-03-19T11:12:14.489Z"
   },
   {
    "duration": 515,
    "start_time": "2022-03-19T11:12:15.178Z"
   },
   {
    "duration": 6,
    "start_time": "2022-03-19T11:12:15.695Z"
   },
   {
    "duration": 54136,
    "start_time": "2022-03-19T11:12:15.704Z"
   },
   {
    "duration": 4,
    "start_time": "2022-03-19T11:13:09.842Z"
   },
   {
    "duration": 21,
    "start_time": "2022-03-19T11:13:09.848Z"
   },
   {
    "duration": 0,
    "start_time": "2022-03-19T11:13:09.871Z"
   },
   {
    "duration": 0,
    "start_time": "2022-03-19T11:13:09.873Z"
   },
   {
    "duration": 0,
    "start_time": "2022-03-19T11:13:09.874Z"
   },
   {
    "duration": 0,
    "start_time": "2022-03-19T11:13:09.875Z"
   },
   {
    "duration": 0,
    "start_time": "2022-03-19T11:13:09.877Z"
   },
   {
    "duration": 0,
    "start_time": "2022-03-19T11:13:09.878Z"
   },
   {
    "duration": 0,
    "start_time": "2022-03-19T11:13:09.880Z"
   },
   {
    "duration": 0,
    "start_time": "2022-03-19T11:13:09.881Z"
   },
   {
    "duration": 0,
    "start_time": "2022-03-19T11:13:09.882Z"
   },
   {
    "duration": 7,
    "start_time": "2022-03-19T11:13:11.777Z"
   },
   {
    "duration": 9,
    "start_time": "2022-03-19T11:13:11.786Z"
   },
   {
    "duration": 2058,
    "start_time": "2022-03-19T11:13:11.798Z"
   },
   {
    "duration": 20,
    "start_time": "2022-03-19T11:13:13.858Z"
   },
   {
    "duration": 851,
    "start_time": "2022-03-19T11:13:13.882Z"
   },
   {
    "duration": 3,
    "start_time": "2022-03-19T11:13:14.736Z"
   },
   {
    "duration": 37,
    "start_time": "2022-03-19T11:13:14.742Z"
   },
   {
    "duration": 9,
    "start_time": "2022-03-19T11:13:14.782Z"
   },
   {
    "duration": 8,
    "start_time": "2022-03-19T11:13:14.793Z"
   },
   {
    "duration": 23,
    "start_time": "2022-03-19T11:13:14.805Z"
   },
   {
    "duration": 44,
    "start_time": "2022-03-19T11:13:14.831Z"
   },
   {
    "duration": 29,
    "start_time": "2022-03-19T11:13:14.877Z"
   },
   {
    "duration": 22,
    "start_time": "2022-03-19T11:13:14.908Z"
   },
   {
    "duration": 604,
    "start_time": "2022-03-19T11:13:14.932Z"
   },
   {
    "duration": 690,
    "start_time": "2022-03-19T11:13:15.538Z"
   },
   {
    "duration": 605,
    "start_time": "2022-03-19T11:13:16.231Z"
   },
   {
    "duration": 65,
    "start_time": "2022-03-19T11:13:16.839Z"
   },
   {
    "duration": 17,
    "start_time": "2022-03-19T11:13:16.907Z"
   },
   {
    "duration": 5,
    "start_time": "2022-03-19T11:13:16.927Z"
   },
   {
    "duration": 91,
    "start_time": "2022-03-19T11:13:16.934Z"
   },
   {
    "duration": 6,
    "start_time": "2022-03-19T11:13:17.027Z"
   },
   {
    "duration": 109,
    "start_time": "2022-03-19T11:13:17.035Z"
   },
   {
    "duration": 445,
    "start_time": "2022-03-19T11:13:17.146Z"
   },
   {
    "duration": 445,
    "start_time": "2022-03-19T11:13:17.593Z"
   },
   {
    "duration": 449,
    "start_time": "2022-03-19T11:13:18.045Z"
   },
   {
    "duration": 52,
    "start_time": "2022-03-19T11:13:18.496Z"
   },
   {
    "duration": 5,
    "start_time": "2022-03-19T11:13:18.551Z"
   },
   {
    "duration": 52,
    "start_time": "2022-03-19T11:13:18.574Z"
   },
   {
    "duration": 5,
    "start_time": "2022-03-19T11:13:18.628Z"
   },
   {
    "duration": 130,
    "start_time": "2022-03-19T11:13:18.636Z"
   },
   {
    "duration": 62,
    "start_time": "2022-03-19T11:13:18.768Z"
   },
   {
    "duration": 102,
    "start_time": "2022-03-19T11:13:18.832Z"
   },
   {
    "duration": 102,
    "start_time": "2022-03-19T11:13:18.937Z"
   },
   {
    "duration": 5,
    "start_time": "2022-03-19T11:13:19.042Z"
   },
   {
    "duration": 12,
    "start_time": "2022-03-19T11:13:19.073Z"
   },
   {
    "duration": 7177,
    "start_time": "2022-03-19T11:13:19.088Z"
   },
   {
    "duration": 7,
    "start_time": "2022-03-19T11:13:26.273Z"
   },
   {
    "duration": 1433,
    "start_time": "2022-03-19T11:13:26.283Z"
   },
   {
    "duration": 7,
    "start_time": "2022-03-19T11:13:27.719Z"
   },
   {
    "duration": 1069,
    "start_time": "2022-03-19T11:13:27.728Z"
   },
   {
    "duration": 431,
    "start_time": "2022-03-19T11:13:28.799Z"
   },
   {
    "duration": 4,
    "start_time": "2022-03-19T11:13:29.232Z"
   },
   {
    "duration": 13,
    "start_time": "2022-03-19T11:13:29.239Z"
   },
   {
    "duration": 288,
    "start_time": "2022-03-19T11:13:29.255Z"
   },
   {
    "duration": 764,
    "start_time": "2022-03-19T11:13:29.546Z"
   },
   {
    "duration": 17,
    "start_time": "2022-03-19T11:13:30.312Z"
   },
   {
    "duration": 21,
    "start_time": "2022-03-19T11:13:30.332Z"
   },
   {
    "duration": 5,
    "start_time": "2022-03-19T11:13:30.374Z"
   },
   {
    "duration": 26,
    "start_time": "2022-03-19T11:13:30.382Z"
   },
   {
    "duration": 1064,
    "start_time": "2022-03-19T11:13:30.410Z"
   },
   {
    "duration": 735,
    "start_time": "2022-03-19T11:13:31.476Z"
   },
   {
    "duration": 576,
    "start_time": "2022-03-19T11:13:32.214Z"
   },
   {
    "duration": 7,
    "start_time": "2022-03-19T11:13:32.792Z"
   },
   {
    "duration": 24860,
    "start_time": "2022-03-19T11:13:32.802Z"
   },
   {
    "duration": 4,
    "start_time": "2022-03-19T11:13:57.664Z"
   },
   {
    "duration": 23,
    "start_time": "2022-03-19T11:13:57.670Z"
   },
   {
    "duration": 0,
    "start_time": "2022-03-19T11:13:57.695Z"
   },
   {
    "duration": 0,
    "start_time": "2022-03-19T11:13:57.697Z"
   },
   {
    "duration": 0,
    "start_time": "2022-03-19T11:13:57.699Z"
   },
   {
    "duration": 0,
    "start_time": "2022-03-19T11:13:57.700Z"
   },
   {
    "duration": 0,
    "start_time": "2022-03-19T11:13:57.701Z"
   },
   {
    "duration": 0,
    "start_time": "2022-03-19T11:13:57.704Z"
   },
   {
    "duration": 0,
    "start_time": "2022-03-19T11:13:57.705Z"
   },
   {
    "duration": 0,
    "start_time": "2022-03-19T11:13:57.706Z"
   },
   {
    "duration": 0,
    "start_time": "2022-03-19T11:13:57.708Z"
   },
   {
    "duration": 7,
    "start_time": "2022-03-19T11:14:21.336Z"
   },
   {
    "duration": 9,
    "start_time": "2022-03-19T11:14:21.345Z"
   },
   {
    "duration": 2146,
    "start_time": "2022-03-19T11:14:21.357Z"
   },
   {
    "duration": 6,
    "start_time": "2022-03-19T11:14:23.505Z"
   },
   {
    "duration": 820,
    "start_time": "2022-03-19T11:14:23.514Z"
   },
   {
    "duration": 4,
    "start_time": "2022-03-19T11:14:24.336Z"
   },
   {
    "duration": 38,
    "start_time": "2022-03-19T11:14:24.342Z"
   },
   {
    "duration": 9,
    "start_time": "2022-03-19T11:14:24.382Z"
   },
   {
    "duration": 9,
    "start_time": "2022-03-19T11:14:24.394Z"
   },
   {
    "duration": 28,
    "start_time": "2022-03-19T11:14:24.405Z"
   },
   {
    "duration": 42,
    "start_time": "2022-03-19T11:14:24.439Z"
   },
   {
    "duration": 29,
    "start_time": "2022-03-19T11:14:24.484Z"
   },
   {
    "duration": 21,
    "start_time": "2022-03-19T11:14:24.516Z"
   },
   {
    "duration": 645,
    "start_time": "2022-03-19T11:14:24.539Z"
   },
   {
    "duration": 703,
    "start_time": "2022-03-19T11:14:25.186Z"
   },
   {
    "duration": 606,
    "start_time": "2022-03-19T11:14:25.892Z"
   },
   {
    "duration": 54,
    "start_time": "2022-03-19T11:14:26.500Z"
   },
   {
    "duration": 31,
    "start_time": "2022-03-19T11:14:26.556Z"
   },
   {
    "duration": 6,
    "start_time": "2022-03-19T11:14:26.590Z"
   },
   {
    "duration": 90,
    "start_time": "2022-03-19T11:14:26.598Z"
   },
   {
    "duration": 6,
    "start_time": "2022-03-19T11:14:26.691Z"
   },
   {
    "duration": 115,
    "start_time": "2022-03-19T11:14:26.699Z"
   },
   {
    "duration": 449,
    "start_time": "2022-03-19T11:14:26.816Z"
   },
   {
    "duration": 435,
    "start_time": "2022-03-19T11:14:27.267Z"
   },
   {
    "duration": 446,
    "start_time": "2022-03-19T11:14:27.705Z"
   },
   {
    "duration": 60,
    "start_time": "2022-03-19T11:14:28.153Z"
   },
   {
    "duration": 6,
    "start_time": "2022-03-19T11:14:28.216Z"
   },
   {
    "duration": 69,
    "start_time": "2022-03-19T11:14:28.224Z"
   },
   {
    "duration": 6,
    "start_time": "2022-03-19T11:14:28.300Z"
   },
   {
    "duration": 115,
    "start_time": "2022-03-19T11:14:28.308Z"
   },
   {
    "duration": 66,
    "start_time": "2022-03-19T11:14:28.426Z"
   },
   {
    "duration": 85,
    "start_time": "2022-03-19T11:14:28.495Z"
   },
   {
    "duration": 108,
    "start_time": "2022-03-19T11:14:28.582Z"
   },
   {
    "duration": 5,
    "start_time": "2022-03-19T11:14:28.692Z"
   },
   {
    "duration": 13,
    "start_time": "2022-03-19T11:14:28.700Z"
   },
   {
    "duration": 6868,
    "start_time": "2022-03-19T11:14:28.716Z"
   },
   {
    "duration": 7,
    "start_time": "2022-03-19T11:14:35.586Z"
   },
   {
    "duration": 1567,
    "start_time": "2022-03-19T11:14:35.594Z"
   },
   {
    "duration": 14,
    "start_time": "2022-03-19T11:14:37.163Z"
   },
   {
    "duration": 1020,
    "start_time": "2022-03-19T11:14:37.179Z"
   },
   {
    "duration": 448,
    "start_time": "2022-03-19T11:14:38.201Z"
   },
   {
    "duration": 4,
    "start_time": "2022-03-19T11:14:38.651Z"
   },
   {
    "duration": 19,
    "start_time": "2022-03-19T11:14:38.657Z"
   },
   {
    "duration": 268,
    "start_time": "2022-03-19T11:14:38.678Z"
   },
   {
    "duration": 720,
    "start_time": "2022-03-19T11:14:38.949Z"
   },
   {
    "duration": 16,
    "start_time": "2022-03-19T11:14:39.674Z"
   },
   {
    "duration": 16,
    "start_time": "2022-03-19T11:14:39.692Z"
   },
   {
    "duration": 4,
    "start_time": "2022-03-19T11:14:39.711Z"
   },
   {
    "duration": 56,
    "start_time": "2022-03-19T11:14:39.718Z"
   },
   {
    "duration": 940,
    "start_time": "2022-03-19T11:14:39.777Z"
   },
   {
    "duration": 704,
    "start_time": "2022-03-19T11:14:40.720Z"
   },
   {
    "duration": 504,
    "start_time": "2022-03-19T11:14:41.427Z"
   },
   {
    "duration": 6,
    "start_time": "2022-03-19T11:14:41.934Z"
   },
   {
    "duration": 37100,
    "start_time": "2022-03-19T11:14:41.942Z"
   },
   {
    "duration": 4,
    "start_time": "2022-03-19T11:15:19.045Z"
   },
   {
    "duration": 31,
    "start_time": "2022-03-19T11:15:19.051Z"
   },
   {
    "duration": 0,
    "start_time": "2022-03-19T11:15:19.084Z"
   },
   {
    "duration": 0,
    "start_time": "2022-03-19T11:15:19.087Z"
   },
   {
    "duration": 0,
    "start_time": "2022-03-19T11:15:19.089Z"
   },
   {
    "duration": 0,
    "start_time": "2022-03-19T11:15:19.091Z"
   },
   {
    "duration": 0,
    "start_time": "2022-03-19T11:15:19.092Z"
   },
   {
    "duration": 0,
    "start_time": "2022-03-19T11:15:19.094Z"
   },
   {
    "duration": 0,
    "start_time": "2022-03-19T11:15:19.096Z"
   },
   {
    "duration": 0,
    "start_time": "2022-03-19T11:15:19.097Z"
   },
   {
    "duration": 0,
    "start_time": "2022-03-19T11:15:19.098Z"
   },
   {
    "duration": 8,
    "start_time": "2022-03-19T11:15:20.585Z"
   },
   {
    "duration": 9,
    "start_time": "2022-03-19T11:15:20.596Z"
   },
   {
    "duration": 2086,
    "start_time": "2022-03-19T11:15:20.609Z"
   },
   {
    "duration": 6,
    "start_time": "2022-03-19T11:15:22.697Z"
   },
   {
    "duration": 819,
    "start_time": "2022-03-19T11:15:22.706Z"
   },
   {
    "duration": 4,
    "start_time": "2022-03-19T11:15:23.528Z"
   },
   {
    "duration": 40,
    "start_time": "2022-03-19T11:15:23.535Z"
   },
   {
    "duration": 9,
    "start_time": "2022-03-19T11:15:23.577Z"
   },
   {
    "duration": 13,
    "start_time": "2022-03-19T11:15:23.589Z"
   },
   {
    "duration": 29,
    "start_time": "2022-03-19T11:15:23.604Z"
   },
   {
    "duration": 37,
    "start_time": "2022-03-19T11:15:23.638Z"
   },
   {
    "duration": 29,
    "start_time": "2022-03-19T11:15:23.677Z"
   },
   {
    "duration": 23,
    "start_time": "2022-03-19T11:15:23.708Z"
   },
   {
    "duration": 621,
    "start_time": "2022-03-19T11:15:23.733Z"
   },
   {
    "duration": 655,
    "start_time": "2022-03-19T11:15:24.356Z"
   },
   {
    "duration": 590,
    "start_time": "2022-03-19T11:15:25.013Z"
   },
   {
    "duration": 53,
    "start_time": "2022-03-19T11:15:25.605Z"
   },
   {
    "duration": 16,
    "start_time": "2022-03-19T11:15:25.674Z"
   },
   {
    "duration": 6,
    "start_time": "2022-03-19T11:15:25.693Z"
   },
   {
    "duration": 94,
    "start_time": "2022-03-19T11:15:25.702Z"
   },
   {
    "duration": 5,
    "start_time": "2022-03-19T11:15:25.798Z"
   },
   {
    "duration": 114,
    "start_time": "2022-03-19T11:15:25.805Z"
   },
   {
    "duration": 444,
    "start_time": "2022-03-19T11:15:25.921Z"
   },
   {
    "duration": 445,
    "start_time": "2022-03-19T11:15:26.367Z"
   },
   {
    "duration": 490,
    "start_time": "2022-03-19T11:15:26.815Z"
   },
   {
    "duration": 72,
    "start_time": "2022-03-19T11:15:27.308Z"
   },
   {
    "duration": 7,
    "start_time": "2022-03-19T11:15:27.383Z"
   },
   {
    "duration": 66,
    "start_time": "2022-03-19T11:15:27.393Z"
   },
   {
    "duration": 6,
    "start_time": "2022-03-19T11:15:27.475Z"
   },
   {
    "duration": 116,
    "start_time": "2022-03-19T11:15:27.483Z"
   },
   {
    "duration": 55,
    "start_time": "2022-03-19T11:15:27.601Z"
   },
   {
    "duration": 96,
    "start_time": "2022-03-19T11:15:27.659Z"
   },
   {
    "duration": 118,
    "start_time": "2022-03-19T11:15:27.757Z"
   },
   {
    "duration": 3,
    "start_time": "2022-03-19T11:15:27.878Z"
   },
   {
    "duration": 12,
    "start_time": "2022-03-19T11:15:27.884Z"
   },
   {
    "duration": 7976,
    "start_time": "2022-03-19T11:15:27.898Z"
   },
   {
    "duration": 7,
    "start_time": "2022-03-19T11:15:35.876Z"
   },
   {
    "duration": 1583,
    "start_time": "2022-03-19T11:15:35.885Z"
   },
   {
    "duration": 6,
    "start_time": "2022-03-19T11:15:37.474Z"
   },
   {
    "duration": 1048,
    "start_time": "2022-03-19T11:15:37.482Z"
   },
   {
    "duration": 646,
    "start_time": "2022-03-19T11:15:38.532Z"
   },
   {
    "duration": 5,
    "start_time": "2022-03-19T11:15:39.181Z"
   },
   {
    "duration": 7,
    "start_time": "2022-03-19T11:15:39.188Z"
   },
   {
    "duration": 396,
    "start_time": "2022-03-19T11:15:39.198Z"
   },
   {
    "duration": 949,
    "start_time": "2022-03-19T11:15:39.597Z"
   },
   {
    "duration": 26,
    "start_time": "2022-03-19T11:15:40.548Z"
   },
   {
    "duration": 19,
    "start_time": "2022-03-19T11:15:40.577Z"
   },
   {
    "duration": 4,
    "start_time": "2022-03-19T11:15:40.599Z"
   },
   {
    "duration": 25,
    "start_time": "2022-03-19T11:15:40.606Z"
   },
   {
    "duration": 1115,
    "start_time": "2022-03-19T11:15:40.634Z"
   },
   {
    "duration": 691,
    "start_time": "2022-03-19T11:15:41.752Z"
   },
   {
    "duration": 506,
    "start_time": "2022-03-19T11:15:42.446Z"
   },
   {
    "duration": 7,
    "start_time": "2022-03-19T11:15:42.954Z"
   },
   {
    "duration": 157746,
    "start_time": "2022-03-19T11:15:42.973Z"
   },
   {
    "duration": 4,
    "start_time": "2022-03-19T11:18:20.721Z"
   },
   {
    "duration": 31,
    "start_time": "2022-03-19T11:18:20.727Z"
   },
   {
    "duration": 0,
    "start_time": "2022-03-19T11:18:20.760Z"
   },
   {
    "duration": 0,
    "start_time": "2022-03-19T11:18:20.761Z"
   },
   {
    "duration": 0,
    "start_time": "2022-03-19T11:18:20.763Z"
   },
   {
    "duration": 0,
    "start_time": "2022-03-19T11:18:20.764Z"
   },
   {
    "duration": 0,
    "start_time": "2022-03-19T11:18:20.765Z"
   },
   {
    "duration": 0,
    "start_time": "2022-03-19T11:18:20.766Z"
   },
   {
    "duration": 0,
    "start_time": "2022-03-19T11:18:20.768Z"
   },
   {
    "duration": 0,
    "start_time": "2022-03-19T11:18:20.769Z"
   },
   {
    "duration": 0,
    "start_time": "2022-03-19T11:18:20.770Z"
   },
   {
    "duration": 7,
    "start_time": "2022-03-19T11:18:33.155Z"
   },
   {
    "duration": 14,
    "start_time": "2022-03-19T11:18:33.165Z"
   },
   {
    "duration": 2193,
    "start_time": "2022-03-19T11:18:33.181Z"
   },
   {
    "duration": 6,
    "start_time": "2022-03-19T11:18:35.377Z"
   },
   {
    "duration": 810,
    "start_time": "2022-03-19T11:18:35.386Z"
   },
   {
    "duration": 4,
    "start_time": "2022-03-19T11:18:36.198Z"
   },
   {
    "duration": 22,
    "start_time": "2022-03-19T11:18:36.204Z"
   },
   {
    "duration": 9,
    "start_time": "2022-03-19T11:18:36.229Z"
   },
   {
    "duration": 37,
    "start_time": "2022-03-19T11:18:36.242Z"
   },
   {
    "duration": 25,
    "start_time": "2022-03-19T11:18:36.281Z"
   },
   {
    "duration": 8,
    "start_time": "2022-03-19T11:18:36.309Z"
   },
   {
    "duration": 68,
    "start_time": "2022-03-19T11:18:36.319Z"
   },
   {
    "duration": 23,
    "start_time": "2022-03-19T11:18:36.389Z"
   },
   {
    "duration": 633,
    "start_time": "2022-03-19T11:18:36.415Z"
   },
   {
    "duration": 684,
    "start_time": "2022-03-19T11:18:37.051Z"
   },
   {
    "duration": 622,
    "start_time": "2022-03-19T11:18:37.738Z"
   },
   {
    "duration": 61,
    "start_time": "2022-03-19T11:18:38.362Z"
   },
   {
    "duration": 18,
    "start_time": "2022-03-19T11:18:38.425Z"
   },
   {
    "duration": 28,
    "start_time": "2022-03-19T11:18:38.446Z"
   },
   {
    "duration": 74,
    "start_time": "2022-03-19T11:18:38.476Z"
   },
   {
    "duration": 21,
    "start_time": "2022-03-19T11:18:38.553Z"
   },
   {
    "duration": 107,
    "start_time": "2022-03-19T11:18:38.577Z"
   },
   {
    "duration": 433,
    "start_time": "2022-03-19T11:18:38.687Z"
   },
   {
    "duration": 439,
    "start_time": "2022-03-19T11:18:39.128Z"
   },
   {
    "duration": 439,
    "start_time": "2022-03-19T11:18:39.569Z"
   },
   {
    "duration": 68,
    "start_time": "2022-03-19T11:18:40.010Z"
   },
   {
    "duration": 7,
    "start_time": "2022-03-19T11:18:40.080Z"
   },
   {
    "duration": 54,
    "start_time": "2022-03-19T11:18:40.090Z"
   },
   {
    "duration": 28,
    "start_time": "2022-03-19T11:18:40.147Z"
   },
   {
    "duration": 108,
    "start_time": "2022-03-19T11:18:40.178Z"
   },
   {
    "duration": 56,
    "start_time": "2022-03-19T11:18:40.288Z"
   },
   {
    "duration": 95,
    "start_time": "2022-03-19T11:18:40.346Z"
   },
   {
    "duration": 99,
    "start_time": "2022-03-19T11:18:40.443Z"
   },
   {
    "duration": 4,
    "start_time": "2022-03-19T11:18:40.544Z"
   },
   {
    "duration": 32,
    "start_time": "2022-03-19T11:18:40.550Z"
   },
   {
    "duration": 7578,
    "start_time": "2022-03-19T11:18:40.584Z"
   },
   {
    "duration": 15,
    "start_time": "2022-03-19T11:18:48.164Z"
   },
   {
    "duration": 1456,
    "start_time": "2022-03-19T11:18:48.182Z"
   },
   {
    "duration": 6,
    "start_time": "2022-03-19T11:18:49.640Z"
   },
   {
    "duration": 1226,
    "start_time": "2022-03-19T11:18:49.648Z"
   },
   {
    "duration": 435,
    "start_time": "2022-03-19T11:18:50.876Z"
   },
   {
    "duration": 4,
    "start_time": "2022-03-19T11:18:51.313Z"
   },
   {
    "duration": 9,
    "start_time": "2022-03-19T11:18:51.319Z"
   },
   {
    "duration": 288,
    "start_time": "2022-03-19T11:18:51.330Z"
   },
   {
    "duration": 745,
    "start_time": "2022-03-19T11:18:51.620Z"
   },
   {
    "duration": 17,
    "start_time": "2022-03-19T11:18:52.367Z"
   },
   {
    "duration": 35,
    "start_time": "2022-03-19T11:18:52.386Z"
   },
   {
    "duration": 5,
    "start_time": "2022-03-19T11:18:52.423Z"
   },
   {
    "duration": 51,
    "start_time": "2022-03-19T11:18:52.430Z"
   },
   {
    "duration": 1015,
    "start_time": "2022-03-19T11:18:52.484Z"
   },
   {
    "duration": 695,
    "start_time": "2022-03-19T11:18:53.502Z"
   },
   {
    "duration": 499,
    "start_time": "2022-03-19T11:18:54.199Z"
   },
   {
    "duration": 6,
    "start_time": "2022-03-19T11:18:54.701Z"
   },
   {
    "duration": 794815,
    "start_time": "2022-03-19T11:18:54.709Z"
   },
   {
    "duration": 4,
    "start_time": "2022-03-19T11:32:09.526Z"
   },
   {
    "duration": 47,
    "start_time": "2022-03-19T11:32:09.532Z"
   },
   {
    "duration": 573,
    "start_time": "2022-03-19T11:32:09.582Z"
   },
   {
    "duration": 733,
    "start_time": "2022-03-19T11:32:10.158Z"
   },
   {
    "duration": 5832,
    "start_time": "2022-03-19T11:32:10.893Z"
   },
   {
    "duration": 2765,
    "start_time": "2022-03-19T11:32:16.727Z"
   },
   {
    "duration": 1233,
    "start_time": "2022-03-19T11:32:19.495Z"
   },
   {
    "duration": 10197,
    "start_time": "2022-03-19T11:32:20.730Z"
   },
   {
    "duration": 9467,
    "start_time": "2022-03-19T11:32:30.930Z"
   },
   {
    "duration": 21691,
    "start_time": "2022-03-19T11:32:40.399Z"
   },
   {
    "duration": 14,
    "start_time": "2022-03-19T11:33:02.092Z"
   },
   {
    "duration": 4,
    "start_time": "2022-03-19T11:48:25.236Z"
   },
   {
    "duration": 554,
    "start_time": "2022-03-19T11:48:27.540Z"
   },
   {
    "duration": 714,
    "start_time": "2022-03-19T11:48:29.065Z"
   },
   {
    "duration": 152932,
    "start_time": "2022-03-19T11:48:30.507Z"
   },
   {
    "duration": 12869,
    "start_time": "2022-03-19T11:51:03.442Z"
   },
   {
    "duration": 130,
    "start_time": "2022-03-19T11:51:16.313Z"
   },
   {
    "duration": 23929,
    "start_time": "2022-03-19T11:52:01.663Z"
   },
   {
    "duration": 21,
    "start_time": "2022-03-19T11:52:25.594Z"
   },
   {
    "duration": 0,
    "start_time": "2022-03-19T11:52:25.617Z"
   },
   {
    "duration": 0,
    "start_time": "2022-03-19T11:52:25.619Z"
   },
   {
    "duration": 0,
    "start_time": "2022-03-19T11:52:25.620Z"
   },
   {
    "duration": 494477,
    "start_time": "2022-03-19T11:52:29.677Z"
   },
   {
    "duration": 106377,
    "start_time": "2022-03-19T12:00:44.157Z"
   },
   {
    "duration": 4707,
    "start_time": "2022-03-19T12:02:30.536Z"
   },
   {
    "duration": 5049,
    "start_time": "2022-03-19T12:02:35.247Z"
   },
   {
    "duration": 19,
    "start_time": "2022-03-19T12:02:40.298Z"
   },
   {
    "duration": 40609,
    "start_time": "2022-03-19T12:02:55.107Z"
   },
   {
    "duration": 350550,
    "start_time": "2022-03-19T12:03:35.720Z"
   },
   {
    "duration": 97080,
    "start_time": "2022-03-19T12:09:26.275Z"
   },
   {
    "duration": 198789,
    "start_time": "2022-03-19T12:11:03.357Z"
   },
   {
    "duration": 24,
    "start_time": "2022-03-19T12:14:22.149Z"
   },
   {
    "duration": 25,
    "start_time": "2022-03-19T12:21:13.612Z"
   },
   {
    "duration": 940,
    "start_time": "2022-03-19T12:21:14.723Z"
   },
   {
    "duration": 686,
    "start_time": "2022-03-19T12:21:15.955Z"
   },
   {
    "duration": 499,
    "start_time": "2022-03-19T12:21:17.376Z"
   },
   {
    "duration": 4,
    "start_time": "2022-03-19T12:21:26.678Z"
   },
   {
    "duration": 8,
    "start_time": "2022-03-19T12:21:28.061Z"
   },
   {
    "duration": 88,
    "start_time": "2022-03-19T12:21:28.896Z"
   },
   {
    "duration": 149751,
    "start_time": "2022-03-19T12:21:29.328Z"
   },
   {
    "duration": 12210,
    "start_time": "2022-03-19T12:23:59.175Z"
   },
   {
    "duration": 41107,
    "start_time": "2022-03-19T12:24:11.388Z"
   },
   {
    "duration": 360083,
    "start_time": "2022-03-19T12:24:52.498Z"
   },
   {
    "duration": 362663,
    "start_time": "2022-03-19T12:30:52.584Z"
   },
   {
    "duration": 5393,
    "start_time": "2022-03-19T12:36:55.249Z"
   },
   {
    "duration": 21,
    "start_time": "2022-03-19T12:37:00.644Z"
   },
   {
    "duration": 164803,
    "start_time": "2022-03-19T12:37:10.371Z"
   },
   {
    "duration": 196063,
    "start_time": "2022-03-19T12:39:55.177Z"
   },
   {
    "duration": 14,
    "start_time": "2022-03-19T12:43:11.242Z"
   },
   {
    "duration": 12,
    "start_time": "2022-03-19T12:43:11.259Z"
   },
   {
    "duration": 16,
    "start_time": "2022-03-19T12:43:11.273Z"
   },
   {
    "duration": 158,
    "start_time": "2022-03-19T12:43:11.291Z"
   },
   {
    "duration": 120,
    "start_time": "2022-03-19T12:43:11.451Z"
   },
   {
    "duration": 120,
    "start_time": "2022-03-19T12:43:11.573Z"
   },
   {
    "duration": 129,
    "start_time": "2022-03-19T12:43:11.695Z"
   },
   {
    "duration": 23,
    "start_time": "2022-03-19T12:43:11.828Z"
   },
   {
    "duration": 0,
    "start_time": "2022-03-19T12:43:11.854Z"
   },
   {
    "duration": 30,
    "start_time": "2022-03-19T12:51:04.658Z"
   },
   {
    "duration": 994,
    "start_time": "2022-03-19T12:51:05.181Z"
   },
   {
    "duration": 729,
    "start_time": "2022-03-19T12:51:06.178Z"
   },
   {
    "duration": 526,
    "start_time": "2022-03-19T12:51:06.911Z"
   },
   {
    "duration": 4,
    "start_time": "2022-03-19T12:51:16.742Z"
   },
   {
    "duration": 5,
    "start_time": "2022-03-19T12:51:17.476Z"
   },
   {
    "duration": 177,
    "start_time": "2022-03-19T12:51:18.055Z"
   },
   {
    "duration": 127,
    "start_time": "2022-03-19T12:51:18.735Z"
   },
   {
    "duration": 126,
    "start_time": "2022-03-19T12:51:42.911Z"
   },
   {
    "duration": 5,
    "start_time": "2022-03-19T12:52:32.261Z"
   },
   {
    "duration": 68,
    "start_time": "2022-03-19T12:52:32.716Z"
   },
   {
    "duration": 2678,
    "start_time": "2022-03-19T12:52:33.691Z"
   },
   {
    "duration": 115,
    "start_time": "2022-03-19T12:52:37.066Z"
   },
   {
    "duration": 163,
    "start_time": "2022-03-19T12:52:44.577Z"
   },
   {
    "duration": 1549,
    "start_time": "2022-03-19T12:52:49.528Z"
   },
   {
    "duration": 3435,
    "start_time": "2022-03-19T12:52:52.065Z"
   },
   {
    "duration": 21,
    "start_time": "2022-03-19T12:52:56.205Z"
   },
   {
    "duration": 13,
    "start_time": "2022-03-19T12:53:04.645Z"
   },
   {
    "duration": 4,
    "start_time": "2022-03-19T12:53:46.083Z"
   },
   {
    "duration": 5,
    "start_time": "2022-03-19T12:53:46.255Z"
   },
   {
    "duration": 56,
    "start_time": "2022-03-19T12:53:46.450Z"
   },
   {
    "duration": 2754,
    "start_time": "2022-03-19T12:53:46.675Z"
   },
   {
    "duration": 1450,
    "start_time": "2022-03-19T12:53:49.432Z"
   },
   {
    "duration": 3543,
    "start_time": "2022-03-19T12:53:50.885Z"
   },
   {
    "duration": 14,
    "start_time": "2022-03-19T12:53:54.431Z"
   },
   {
    "duration": 117,
    "start_time": "2022-03-19T12:53:54.448Z"
   },
   {
    "duration": 28,
    "start_time": "2022-03-19T12:55:11.085Z"
   },
   {
    "duration": 962,
    "start_time": "2022-03-19T12:55:11.717Z"
   },
   {
    "duration": 702,
    "start_time": "2022-03-19T12:55:12.683Z"
   },
   {
    "duration": 510,
    "start_time": "2022-03-19T12:55:13.388Z"
   },
   {
    "duration": 4,
    "start_time": "2022-03-19T12:55:24.510Z"
   },
   {
    "duration": 5,
    "start_time": "2022-03-19T12:55:25.057Z"
   },
   {
    "duration": 191,
    "start_time": "2022-03-19T12:55:25.595Z"
   },
   {
    "duration": 2829,
    "start_time": "2022-03-19T12:55:26.480Z"
   },
   {
    "duration": 8065,
    "start_time": "2022-03-19T12:55:29.311Z"
   },
   {
    "duration": 3445,
    "start_time": "2022-03-19T12:55:37.378Z"
   },
   {
    "duration": 13,
    "start_time": "2022-03-19T12:55:40.827Z"
   },
   {
    "duration": 7,
    "start_time": "2022-03-19T13:11:22.485Z"
   },
   {
    "duration": 243,
    "start_time": "2022-03-19T13:11:22.932Z"
   },
   {
    "duration": 2725,
    "start_time": "2022-03-19T13:11:23.178Z"
   },
   {
    "duration": 30170,
    "start_time": "2022-03-19T13:11:25.906Z"
   },
   {
    "duration": 59713,
    "start_time": "2022-03-19T13:11:56.079Z"
   },
   {
    "duration": 3946,
    "start_time": "2022-03-19T13:12:55.795Z"
   },
   {
    "duration": 22,
    "start_time": "2022-03-19T13:12:59.743Z"
   },
   {
    "duration": 6,
    "start_time": "2022-03-19T13:15:23.714Z"
   },
   {
    "duration": 7,
    "start_time": "2022-03-19T13:15:23.727Z"
   },
   {
    "duration": 2160,
    "start_time": "2022-03-19T13:15:23.746Z"
   },
   {
    "duration": 6,
    "start_time": "2022-03-19T13:15:25.909Z"
   },
   {
    "duration": 903,
    "start_time": "2022-03-19T13:15:25.917Z"
   },
   {
    "duration": 4,
    "start_time": "2022-03-19T13:15:26.823Z"
   },
   {
    "duration": 21,
    "start_time": "2022-03-19T13:15:26.830Z"
   },
   {
    "duration": 10,
    "start_time": "2022-03-19T13:15:26.875Z"
   },
   {
    "duration": 8,
    "start_time": "2022-03-19T13:15:26.888Z"
   },
   {
    "duration": 27,
    "start_time": "2022-03-19T13:15:26.899Z"
   },
   {
    "duration": 50,
    "start_time": "2022-03-19T13:15:26.928Z"
   },
   {
    "duration": 33,
    "start_time": "2022-03-19T13:15:26.983Z"
   },
   {
    "duration": 55,
    "start_time": "2022-03-19T13:15:27.019Z"
   },
   {
    "duration": 627,
    "start_time": "2022-03-19T13:15:27.076Z"
   },
   {
    "duration": 827,
    "start_time": "2022-03-19T13:15:27.705Z"
   },
   {
    "duration": 623,
    "start_time": "2022-03-19T13:15:28.535Z"
   },
   {
    "duration": 67,
    "start_time": "2022-03-19T13:15:29.160Z"
   },
   {
    "duration": 20,
    "start_time": "2022-03-19T13:15:29.229Z"
   },
   {
    "duration": 24,
    "start_time": "2022-03-19T13:15:29.251Z"
   },
   {
    "duration": 66,
    "start_time": "2022-03-19T13:15:29.277Z"
   },
   {
    "duration": 6,
    "start_time": "2022-03-19T13:15:29.346Z"
   },
   {
    "duration": 119,
    "start_time": "2022-03-19T13:15:29.374Z"
   },
   {
    "duration": 446,
    "start_time": "2022-03-19T13:15:29.495Z"
   },
   {
    "duration": 437,
    "start_time": "2022-03-19T13:15:29.943Z"
   },
   {
    "duration": 434,
    "start_time": "2022-03-19T13:15:30.382Z"
   },
   {
    "duration": 65,
    "start_time": "2022-03-19T13:15:30.818Z"
   },
   {
    "duration": 5,
    "start_time": "2022-03-19T13:15:30.885Z"
   },
   {
    "duration": 59,
    "start_time": "2022-03-19T13:15:30.892Z"
   },
   {
    "duration": 4,
    "start_time": "2022-03-19T13:15:30.954Z"
   },
   {
    "duration": 102,
    "start_time": "2022-03-19T13:15:30.979Z"
   },
   {
    "duration": 98,
    "start_time": "2022-03-19T13:15:31.083Z"
   },
   {
    "duration": 139,
    "start_time": "2022-03-19T13:15:31.184Z"
   },
   {
    "duration": 167,
    "start_time": "2022-03-19T13:15:31.326Z"
   },
   {
    "duration": 5,
    "start_time": "2022-03-19T13:15:31.496Z"
   },
   {
    "duration": 33,
    "start_time": "2022-03-19T13:15:31.503Z"
   },
   {
    "duration": 7594,
    "start_time": "2022-03-19T13:15:31.538Z"
   },
   {
    "duration": 10,
    "start_time": "2022-03-19T13:15:39.134Z"
   },
   {
    "duration": 1486,
    "start_time": "2022-03-19T13:15:39.146Z"
   },
   {
    "duration": 6,
    "start_time": "2022-03-19T13:15:40.634Z"
   },
   {
    "duration": 1172,
    "start_time": "2022-03-19T13:15:40.642Z"
   },
   {
    "duration": 425,
    "start_time": "2022-03-19T13:15:41.816Z"
   },
   {
    "duration": 4,
    "start_time": "2022-03-19T13:15:42.243Z"
   },
   {
    "duration": 25,
    "start_time": "2022-03-19T13:15:42.249Z"
   },
   {
    "duration": 263,
    "start_time": "2022-03-19T13:15:42.277Z"
   },
   {
    "duration": 747,
    "start_time": "2022-03-19T13:15:42.542Z"
   },
   {
    "duration": 16,
    "start_time": "2022-03-19T13:15:43.291Z"
   },
   {
    "duration": 17,
    "start_time": "2022-03-19T13:15:43.309Z"
   },
   {
    "duration": 5,
    "start_time": "2022-03-19T13:15:43.328Z"
   },
   {
    "duration": 59,
    "start_time": "2022-03-19T13:15:43.335Z"
   },
   {
    "duration": 994,
    "start_time": "2022-03-19T13:15:43.397Z"
   },
   {
    "duration": 717,
    "start_time": "2022-03-19T13:15:44.395Z"
   },
   {
    "duration": 519,
    "start_time": "2022-03-19T13:15:45.115Z"
   },
   {
    "duration": 6,
    "start_time": "2022-03-19T13:15:45.636Z"
   },
   {
    "duration": 819140,
    "start_time": "2022-03-19T13:15:45.644Z"
   },
   {
    "duration": 4,
    "start_time": "2022-03-19T13:29:24.787Z"
   },
   {
    "duration": 17,
    "start_time": "2022-03-19T13:29:24.794Z"
   },
   {
    "duration": 10,
    "start_time": "2022-03-19T13:29:24.814Z"
   },
   {
    "duration": 150,
    "start_time": "2022-03-19T13:29:24.827Z"
   },
   {
    "duration": 155399,
    "start_time": "2022-03-19T13:29:24.980Z"
   },
   {
    "duration": 12391,
    "start_time": "2022-03-19T13:32:00.385Z"
   },
   {
    "duration": 729107,
    "start_time": "2022-03-19T13:32:12.781Z"
   },
   {
    "duration": 4474666,
    "start_time": "2022-03-19T13:44:21.891Z"
   },
   {
    "duration": 5358,
    "start_time": "2022-03-19T14:58:56.560Z"
   },
   {
    "duration": 4321,
    "start_time": "2022-03-19T14:59:01.921Z"
   },
   {
    "duration": 21,
    "start_time": "2022-03-19T14:59:06.244Z"
   },
   {
    "duration": 0,
    "start_time": "2022-03-19T14:59:06.268Z"
   },
   {
    "duration": 0,
    "start_time": "2022-03-19T14:59:06.270Z"
   },
   {
    "duration": 0,
    "start_time": "2022-03-19T14:59:06.271Z"
   },
   {
    "duration": 0,
    "start_time": "2022-03-19T14:59:06.273Z"
   },
   {
    "duration": 0,
    "start_time": "2022-03-19T14:59:06.274Z"
   },
   {
    "duration": 0,
    "start_time": "2022-03-19T14:59:06.276Z"
   },
   {
    "duration": 0,
    "start_time": "2022-03-19T14:59:06.278Z"
   },
   {
    "duration": 30,
    "start_time": "2022-03-19T15:03:21.915Z"
   },
   {
    "duration": 1003,
    "start_time": "2022-03-19T15:03:22.522Z"
   },
   {
    "duration": 753,
    "start_time": "2022-03-19T15:03:23.529Z"
   },
   {
    "duration": 543,
    "start_time": "2022-03-19T15:03:24.316Z"
   },
   {
    "duration": 7,
    "start_time": "2022-03-19T15:03:28.422Z"
   },
   {
    "duration": 7,
    "start_time": "2022-03-19T15:03:39.438Z"
   },
   {
    "duration": 55,
    "start_time": "2022-03-19T15:03:40.522Z"
   },
   {
    "duration": 5892,
    "start_time": "2022-03-19T15:03:45.173Z"
   },
   {
    "duration": 49,
    "start_time": "2022-03-19T15:05:42.723Z"
   },
   {
    "duration": 1660,
    "start_time": "2022-03-19T15:05:43.374Z"
   },
   {
    "duration": 1368,
    "start_time": "2022-03-19T15:05:45.038Z"
   },
   {
    "duration": 733,
    "start_time": "2022-03-19T15:05:46.409Z"
   },
   {
    "duration": 7,
    "start_time": "2022-03-19T15:05:52.996Z"
   },
   {
    "duration": 199,
    "start_time": "2022-03-19T15:05:53.776Z"
   },
   {
    "duration": 24551,
    "start_time": "2022-03-19T15:05:54.611Z"
   },
   {
    "duration": 12230,
    "start_time": "2022-03-19T15:06:22.345Z"
   },
   {
    "duration": 126646,
    "start_time": "2022-03-19T15:06:44.603Z"
   },
   {
    "duration": 7,
    "start_time": "2022-03-19T15:09:40.166Z"
   },
   {
    "duration": 8,
    "start_time": "2022-03-19T15:09:40.175Z"
   },
   {
    "duration": 2127,
    "start_time": "2022-03-19T15:09:40.186Z"
   },
   {
    "duration": 6,
    "start_time": "2022-03-19T15:09:42.316Z"
   },
   {
    "duration": 843,
    "start_time": "2022-03-19T15:09:42.325Z"
   },
   {
    "duration": 3,
    "start_time": "2022-03-19T15:09:43.174Z"
   },
   {
    "duration": 22,
    "start_time": "2022-03-19T15:09:43.179Z"
   },
   {
    "duration": 9,
    "start_time": "2022-03-19T15:09:43.203Z"
   },
   {
    "duration": 9,
    "start_time": "2022-03-19T15:09:43.214Z"
   },
   {
    "duration": 57,
    "start_time": "2022-03-19T15:09:43.227Z"
   },
   {
    "duration": 9,
    "start_time": "2022-03-19T15:09:43.286Z"
   },
   {
    "duration": 33,
    "start_time": "2022-03-19T15:09:43.298Z"
   },
   {
    "duration": 59,
    "start_time": "2022-03-19T15:09:43.334Z"
   },
   {
    "duration": 587,
    "start_time": "2022-03-19T15:09:43.395Z"
   },
   {
    "duration": 690,
    "start_time": "2022-03-19T15:09:43.984Z"
   },
   {
    "duration": 613,
    "start_time": "2022-03-19T15:09:44.676Z"
   },
   {
    "duration": 58,
    "start_time": "2022-03-19T15:09:45.291Z"
   },
   {
    "duration": 35,
    "start_time": "2022-03-19T15:09:45.352Z"
   },
   {
    "duration": 17,
    "start_time": "2022-03-19T15:09:45.390Z"
   },
   {
    "duration": 89,
    "start_time": "2022-03-19T15:09:45.410Z"
   },
   {
    "duration": 5,
    "start_time": "2022-03-19T15:09:45.502Z"
   },
   {
    "duration": 117,
    "start_time": "2022-03-19T15:09:45.510Z"
   },
   {
    "duration": 444,
    "start_time": "2022-03-19T15:09:45.629Z"
   },
   {
    "duration": 440,
    "start_time": "2022-03-19T15:09:46.076Z"
   },
   {
    "duration": 446,
    "start_time": "2022-03-19T15:09:46.523Z"
   },
   {
    "duration": 53,
    "start_time": "2022-03-19T15:09:46.973Z"
   },
   {
    "duration": 6,
    "start_time": "2022-03-19T15:09:47.028Z"
   },
   {
    "duration": 76,
    "start_time": "2022-03-19T15:09:47.036Z"
   },
   {
    "duration": 6,
    "start_time": "2022-03-19T15:09:47.114Z"
   },
   {
    "duration": 113,
    "start_time": "2022-03-19T15:09:47.122Z"
   },
   {
    "duration": 66,
    "start_time": "2022-03-19T15:09:47.237Z"
   },
   {
    "duration": 89,
    "start_time": "2022-03-19T15:09:47.306Z"
   },
   {
    "duration": 110,
    "start_time": "2022-03-19T15:09:47.398Z"
   },
   {
    "duration": 4,
    "start_time": "2022-03-19T15:09:47.511Z"
   },
   {
    "duration": 12,
    "start_time": "2022-03-19T15:09:47.517Z"
   },
   {
    "duration": 7456,
    "start_time": "2022-03-19T15:09:47.532Z"
   },
   {
    "duration": 6,
    "start_time": "2022-03-19T15:09:54.991Z"
   },
   {
    "duration": 1404,
    "start_time": "2022-03-19T15:09:54.999Z"
   },
   {
    "duration": 6,
    "start_time": "2022-03-19T15:09:56.407Z"
   },
   {
    "duration": 1052,
    "start_time": "2022-03-19T15:09:56.416Z"
   },
   {
    "duration": 420,
    "start_time": "2022-03-19T15:09:57.473Z"
   },
   {
    "duration": 3,
    "start_time": "2022-03-19T15:09:57.895Z"
   },
   {
    "duration": 10,
    "start_time": "2022-03-19T15:09:57.901Z"
   },
   {
    "duration": 266,
    "start_time": "2022-03-19T15:09:57.913Z"
   },
   {
    "duration": 874,
    "start_time": "2022-03-19T15:09:58.181Z"
   },
   {
    "duration": 25,
    "start_time": "2022-03-19T15:09:59.057Z"
   },
   {
    "duration": 19,
    "start_time": "2022-03-19T15:09:59.085Z"
   },
   {
    "duration": 5,
    "start_time": "2022-03-19T15:09:59.107Z"
   },
   {
    "duration": 30,
    "start_time": "2022-03-19T15:09:59.114Z"
   },
   {
    "duration": 1481,
    "start_time": "2022-03-19T15:09:59.146Z"
   },
   {
    "duration": 1069,
    "start_time": "2022-03-19T15:10:00.630Z"
   },
   {
    "duration": 740,
    "start_time": "2022-03-19T15:10:01.702Z"
   },
   {
    "duration": 6,
    "start_time": "2022-03-19T15:10:02.444Z"
   },
   {
    "duration": 548633,
    "start_time": "2022-03-19T15:10:02.452Z"
   },
   {
    "duration": 3,
    "start_time": "2022-03-19T15:19:11.088Z"
   },
   {
    "duration": 17,
    "start_time": "2022-03-19T15:19:11.094Z"
   },
   {
    "duration": 11,
    "start_time": "2022-03-19T15:19:11.113Z"
   },
   {
    "duration": 148,
    "start_time": "2022-03-19T15:19:11.127Z"
   },
   {
    "duration": 171500,
    "start_time": "2022-03-19T15:19:11.278Z"
   },
   {
    "duration": 12298,
    "start_time": "2022-03-19T15:22:02.781Z"
   },
   {
    "duration": 127549,
    "start_time": "2022-03-19T15:22:15.082Z"
   },
   {
    "duration": 1850684,
    "start_time": "2022-03-19T15:24:22.633Z"
   },
   {
    "duration": 18227,
    "start_time": "2022-03-19T15:55:13.319Z"
   },
   {
    "duration": 4770,
    "start_time": "2022-03-19T15:55:31.549Z"
   },
   {
    "duration": 21,
    "start_time": "2022-03-19T15:55:36.321Z"
   },
   {
    "duration": 0,
    "start_time": "2022-03-19T15:55:36.344Z"
   },
   {
    "duration": 0,
    "start_time": "2022-03-19T15:55:36.346Z"
   },
   {
    "duration": 0,
    "start_time": "2022-03-19T15:55:36.348Z"
   },
   {
    "duration": 0,
    "start_time": "2022-03-19T15:55:36.350Z"
   },
   {
    "duration": 0,
    "start_time": "2022-03-19T15:55:36.352Z"
   },
   {
    "duration": 0,
    "start_time": "2022-03-19T15:55:36.353Z"
   },
   {
    "duration": 0,
    "start_time": "2022-03-19T15:55:36.355Z"
   },
   {
    "duration": 8,
    "start_time": "2022-03-19T16:59:14.665Z"
   },
   {
    "duration": 14,
    "start_time": "2022-03-19T16:59:14.677Z"
   },
   {
    "duration": 2187,
    "start_time": "2022-03-19T16:59:14.694Z"
   },
   {
    "duration": 7,
    "start_time": "2022-03-19T16:59:16.884Z"
   },
   {
    "duration": 912,
    "start_time": "2022-03-19T16:59:16.893Z"
   },
   {
    "duration": 3,
    "start_time": "2022-03-19T16:59:17.808Z"
   },
   {
    "duration": 22,
    "start_time": "2022-03-19T16:59:17.813Z"
   },
   {
    "duration": 37,
    "start_time": "2022-03-19T16:59:17.838Z"
   },
   {
    "duration": 8,
    "start_time": "2022-03-19T16:59:17.881Z"
   },
   {
    "duration": 26,
    "start_time": "2022-03-19T16:59:17.892Z"
   },
   {
    "duration": 53,
    "start_time": "2022-03-19T16:59:17.921Z"
   },
   {
    "duration": 32,
    "start_time": "2022-03-19T16:59:17.977Z"
   },
   {
    "duration": 23,
    "start_time": "2022-03-19T16:59:18.012Z"
   },
   {
    "duration": 607,
    "start_time": "2022-03-19T16:59:18.038Z"
   },
   {
    "duration": 662,
    "start_time": "2022-03-19T16:59:18.647Z"
   },
   {
    "duration": 610,
    "start_time": "2022-03-19T16:59:19.312Z"
   },
   {
    "duration": 70,
    "start_time": "2022-03-19T16:59:19.925Z"
   },
   {
    "duration": 18,
    "start_time": "2022-03-19T16:59:19.997Z"
   },
   {
    "duration": 7,
    "start_time": "2022-03-19T16:59:20.017Z"
   },
   {
    "duration": 88,
    "start_time": "2022-03-19T16:59:20.027Z"
   },
   {
    "duration": 6,
    "start_time": "2022-03-19T16:59:20.117Z"
   },
   {
    "duration": 114,
    "start_time": "2022-03-19T16:59:20.126Z"
   },
   {
    "duration": 454,
    "start_time": "2022-03-19T16:59:20.242Z"
   },
   {
    "duration": 450,
    "start_time": "2022-03-19T16:59:20.702Z"
   },
   {
    "duration": 440,
    "start_time": "2022-03-19T16:59:21.155Z"
   },
   {
    "duration": 52,
    "start_time": "2022-03-19T16:59:21.598Z"
   },
   {
    "duration": 22,
    "start_time": "2022-03-19T16:59:21.653Z"
   },
   {
    "duration": 51,
    "start_time": "2022-03-19T16:59:21.677Z"
   },
   {
    "duration": 5,
    "start_time": "2022-03-19T16:59:21.731Z"
   },
   {
    "duration": 125,
    "start_time": "2022-03-19T16:59:21.739Z"
   },
   {
    "duration": 54,
    "start_time": "2022-03-19T16:59:21.873Z"
   },
   {
    "duration": 91,
    "start_time": "2022-03-19T16:59:21.930Z"
   },
   {
    "duration": 99,
    "start_time": "2022-03-19T16:59:22.024Z"
   },
   {
    "duration": 4,
    "start_time": "2022-03-19T16:59:22.126Z"
   },
   {
    "duration": 12,
    "start_time": "2022-03-19T16:59:22.132Z"
   },
   {
    "duration": 7349,
    "start_time": "2022-03-19T16:59:22.146Z"
   },
   {
    "duration": 8,
    "start_time": "2022-03-19T16:59:29.497Z"
   },
   {
    "duration": 1419,
    "start_time": "2022-03-19T16:59:29.507Z"
   },
   {
    "duration": 7,
    "start_time": "2022-03-19T16:59:30.929Z"
   },
   {
    "duration": 1072,
    "start_time": "2022-03-19T16:59:30.938Z"
   },
   {
    "duration": 437,
    "start_time": "2022-03-19T16:59:32.013Z"
   },
   {
    "duration": 4,
    "start_time": "2022-03-19T16:59:32.453Z"
   },
   {
    "duration": 19,
    "start_time": "2022-03-19T16:59:32.460Z"
   },
   {
    "duration": 271,
    "start_time": "2022-03-19T16:59:32.481Z"
   },
   {
    "duration": 763,
    "start_time": "2022-03-19T16:59:32.754Z"
   },
   {
    "duration": 17,
    "start_time": "2022-03-19T16:59:33.520Z"
   },
   {
    "duration": 37,
    "start_time": "2022-03-19T16:59:33.539Z"
   },
   {
    "duration": 4,
    "start_time": "2022-03-19T16:59:33.579Z"
   },
   {
    "duration": 29,
    "start_time": "2022-03-19T16:59:33.586Z"
   },
   {
    "duration": 1525,
    "start_time": "2022-03-19T16:59:33.618Z"
   },
   {
    "duration": 1041,
    "start_time": "2022-03-19T16:59:35.145Z"
   },
   {
    "duration": 717,
    "start_time": "2022-03-19T16:59:36.189Z"
   },
   {
    "duration": 6,
    "start_time": "2022-03-19T16:59:36.909Z"
   },
   {
    "duration": 548890,
    "start_time": "2022-03-19T16:59:36.918Z"
   },
   {
    "duration": 5,
    "start_time": "2022-03-19T17:08:45.811Z"
   },
   {
    "duration": 32,
    "start_time": "2022-03-19T17:08:45.818Z"
   },
   {
    "duration": 38,
    "start_time": "2022-03-19T17:08:45.852Z"
   },
   {
    "duration": 85,
    "start_time": "2022-03-19T17:08:45.892Z"
   },
   {
    "duration": 188097,
    "start_time": "2022-03-19T17:08:45.981Z"
   },
   {
    "duration": 12291,
    "start_time": "2022-03-19T17:11:54.084Z"
   },
   {
    "duration": 124712,
    "start_time": "2022-03-19T17:12:06.379Z"
   },
   {
    "duration": 2386599,
    "start_time": "2022-03-19T17:14:11.093Z"
   },
   {
    "duration": 326298,
    "start_time": "2022-03-19T17:53:57.695Z"
   },
   {
    "duration": 713640,
    "start_time": "2022-03-19T17:59:23.995Z"
   },
   {
    "duration": 14,
    "start_time": "2022-03-19T18:11:17.638Z"
   },
   {
    "duration": 20,
    "start_time": "2022-03-19T18:11:17.654Z"
   },
   {
    "duration": 198,
    "start_time": "2022-03-19T18:11:17.676Z"
   },
   {
    "duration": 6630,
    "start_time": "2022-03-19T18:11:17.876Z"
   },
   {
    "duration": 71069,
    "start_time": "2022-03-19T18:11:24.514Z"
   },
   {
    "duration": 31413,
    "start_time": "2022-03-19T18:12:35.586Z"
   },
   {
    "duration": 18016,
    "start_time": "2022-03-19T18:13:07.002Z"
   },
   {
    "duration": 13,
    "start_time": "2022-03-19T18:13:25.021Z"
   },
   {
    "duration": 6,
    "start_time": "2022-03-19T18:26:06.858Z"
   },
   {
    "duration": 12,
    "start_time": "2022-03-19T18:27:59.700Z"
   },
   {
    "duration": 13,
    "start_time": "2022-03-19T18:28:08.608Z"
   },
   {
    "duration": 16,
    "start_time": "2022-03-19T18:28:28.892Z"
   },
   {
    "duration": 40,
    "start_time": "2022-03-19T18:41:35.348Z"
   },
   {
    "duration": 1568,
    "start_time": "2022-03-19T18:41:36.845Z"
   },
   {
    "duration": 1090,
    "start_time": "2022-03-19T18:41:38.417Z"
   },
   {
    "duration": 756,
    "start_time": "2022-03-19T18:41:39.510Z"
   },
   {
    "duration": 133,
    "start_time": "2022-03-19T18:41:53.797Z"
   },
   {
    "duration": 30,
    "start_time": "2022-03-19T18:42:25.017Z"
   },
   {
    "duration": 1595,
    "start_time": "2022-03-19T18:42:25.453Z"
   },
   {
    "duration": 1135,
    "start_time": "2022-03-19T18:42:27.051Z"
   },
   {
    "duration": 747,
    "start_time": "2022-03-19T18:42:28.191Z"
   },
   {
    "duration": 8,
    "start_time": "2022-03-19T18:43:04.574Z"
   },
   {
    "duration": 156,
    "start_time": "2022-03-19T18:43:05.329Z"
   },
   {
    "duration": 7393,
    "start_time": "2022-03-19T18:43:07.027Z"
   },
   {
    "duration": 160674,
    "start_time": "2022-03-19T18:43:14.423Z"
   },
   {
    "duration": 35181,
    "start_time": "2022-03-19T18:45:55.100Z"
   },
   {
    "duration": 6,
    "start_time": "2022-03-19T18:47:13.485Z"
   },
   {
    "duration": 21,
    "start_time": "2022-03-19T18:47:51.506Z"
   },
   {
    "duration": 20,
    "start_time": "2022-03-19T18:48:17.073Z"
   },
   {
    "duration": 6,
    "start_time": "2022-03-19T18:51:16.669Z"
   },
   {
    "duration": 97,
    "start_time": "2022-03-19T18:51:17.487Z"
   },
   {
    "duration": 6844,
    "start_time": "2022-03-19T18:51:18.249Z"
   },
   {
    "duration": 165804,
    "start_time": "2022-03-19T18:51:25.096Z"
   },
   {
    "duration": 26580,
    "start_time": "2022-03-19T18:54:10.902Z"
   },
   {
    "duration": 18177,
    "start_time": "2022-03-19T18:54:37.490Z"
   },
   {
    "duration": 201,
    "start_time": "2022-03-19T19:02:18.412Z"
   },
   {
    "duration": 1619,
    "start_time": "2022-03-19T19:02:19.710Z"
   },
   {
    "duration": 1133,
    "start_time": "2022-03-19T19:02:21.331Z"
   },
   {
    "duration": 752,
    "start_time": "2022-03-19T19:02:22.474Z"
   },
   {
    "duration": 7,
    "start_time": "2022-03-19T19:02:35.161Z"
   },
   {
    "duration": 144,
    "start_time": "2022-03-19T19:02:35.987Z"
   },
   {
    "duration": 78607,
    "start_time": "2022-03-19T19:02:48.031Z"
   },
   {
    "duration": 149,
    "start_time": "2022-03-19T19:04:36.374Z"
   },
   {
    "duration": 30,
    "start_time": "2022-03-19T19:05:04.690Z"
   },
   {
    "duration": 1668,
    "start_time": "2022-03-19T19:05:06.032Z"
   },
   {
    "duration": 1101,
    "start_time": "2022-03-19T19:05:07.703Z"
   },
   {
    "duration": 769,
    "start_time": "2022-03-19T19:05:08.806Z"
   },
   {
    "duration": 164885,
    "start_time": "2022-03-19T19:05:20.843Z"
   },
   {
    "duration": 32,
    "start_time": "2022-03-19T19:08:05.731Z"
   },
   {
    "duration": 28259,
    "start_time": "2022-03-19T19:08:12.936Z"
   },
   {
    "duration": 170,
    "start_time": "2022-03-19T19:09:59.365Z"
   },
   {
    "duration": 30,
    "start_time": "2022-03-19T19:12:08.527Z"
   },
   {
    "duration": 1584,
    "start_time": "2022-03-19T19:12:09.396Z"
   },
   {
    "duration": 1067,
    "start_time": "2022-03-19T19:12:10.983Z"
   },
   {
    "duration": 761,
    "start_time": "2022-03-19T19:12:12.053Z"
   },
   {
    "duration": 6,
    "start_time": "2022-03-19T19:12:19.094Z"
   },
   {
    "duration": 194,
    "start_time": "2022-03-19T19:12:19.458Z"
   },
   {
    "duration": 5,
    "start_time": "2022-03-19T19:13:51.592Z"
   },
   {
    "duration": 127,
    "start_time": "2022-03-19T19:13:52.319Z"
   },
   {
    "duration": 31,
    "start_time": "2022-03-19T19:14:24.072Z"
   },
   {
    "duration": 1513,
    "start_time": "2022-03-19T19:14:24.776Z"
   },
   {
    "duration": 1086,
    "start_time": "2022-03-19T19:14:26.292Z"
   },
   {
    "duration": 745,
    "start_time": "2022-03-19T19:14:27.381Z"
   },
   {
    "duration": 4,
    "start_time": "2022-03-19T19:14:42.645Z"
   },
   {
    "duration": 121,
    "start_time": "2022-03-19T19:14:43.058Z"
   },
   {
    "duration": 6557,
    "start_time": "2022-03-19T19:14:44.450Z"
   },
   {
    "duration": 59267,
    "start_time": "2022-03-19T19:14:51.010Z"
   },
   {
    "duration": 8317,
    "start_time": "2022-03-19T19:15:50.280Z"
   },
   {
    "duration": 18754,
    "start_time": "2022-03-19T19:15:58.601Z"
   },
   {
    "duration": 6,
    "start_time": "2022-03-19T19:17:17.174Z"
   },
   {
    "duration": 13109,
    "start_time": "2022-03-19T19:17:25.675Z"
   },
   {
    "duration": 5,
    "start_time": "2022-03-19T19:19:15.969Z"
   },
   {
    "duration": 43,
    "start_time": "2022-03-19T19:19:16.897Z"
   },
   {
    "duration": 6815,
    "start_time": "2022-03-19T19:19:17.702Z"
   },
   {
    "duration": 9344,
    "start_time": "2022-03-19T19:19:24.520Z"
   },
   {
    "duration": 66117,
    "start_time": "2022-03-19T19:19:36.547Z"
   },
   {
    "duration": 60711,
    "start_time": "2022-03-19T19:20:45.245Z"
   },
   {
    "duration": 138,
    "start_time": "2022-03-19T19:26:25.977Z"
   },
   {
    "duration": 1443,
    "start_time": "2022-03-19T19:26:26.401Z"
   },
   {
    "duration": 1003,
    "start_time": "2022-03-19T19:26:27.847Z"
   },
   {
    "duration": 722,
    "start_time": "2022-03-19T19:26:28.852Z"
   },
   {
    "duration": 5,
    "start_time": "2022-03-19T19:26:43.486Z"
   },
   {
    "duration": 138,
    "start_time": "2022-03-19T19:26:44.365Z"
   },
   {
    "duration": 129,
    "start_time": "2022-03-19T19:26:45.029Z"
   },
   {
    "duration": 127,
    "start_time": "2022-03-19T19:26:45.160Z"
   },
   {
    "duration": 146,
    "start_time": "2022-03-19T19:26:45.385Z"
   },
   {
    "duration": 124,
    "start_time": "2022-03-19T19:26:45.534Z"
   },
   {
    "duration": 121,
    "start_time": "2022-03-19T19:27:05.212Z"
   },
   {
    "duration": 178,
    "start_time": "2022-03-19T19:27:28.942Z"
   },
   {
    "duration": 1699,
    "start_time": "2022-03-19T19:27:29.688Z"
   },
   {
    "duration": 162,
    "start_time": "2022-03-19T19:27:41.206Z"
   },
   {
    "duration": 1451,
    "start_time": "2022-03-19T19:27:42.002Z"
   },
   {
    "duration": 1072,
    "start_time": "2022-03-19T19:27:43.456Z"
   },
   {
    "duration": 721,
    "start_time": "2022-03-19T19:27:44.531Z"
   },
   {
    "duration": 4,
    "start_time": "2022-03-19T19:27:56.447Z"
   },
   {
    "duration": 113,
    "start_time": "2022-03-19T19:27:56.868Z"
   },
   {
    "duration": 152,
    "start_time": "2022-03-19T19:27:56.984Z"
   },
   {
    "duration": 116,
    "start_time": "2022-03-19T19:27:57.663Z"
   },
   {
    "duration": 125,
    "start_time": "2022-03-19T19:27:57.781Z"
   },
   {
    "duration": 30,
    "start_time": "2022-03-19T19:28:27.858Z"
   },
   {
    "duration": 1494,
    "start_time": "2022-03-19T19:28:30.398Z"
   },
   {
    "duration": 1036,
    "start_time": "2022-03-19T19:28:31.895Z"
   },
   {
    "duration": 719,
    "start_time": "2022-03-19T19:28:32.933Z"
   },
   {
    "duration": 5,
    "start_time": "2022-03-19T19:28:39.459Z"
   },
   {
    "duration": 111,
    "start_time": "2022-03-19T19:28:39.575Z"
   },
   {
    "duration": 5751,
    "start_time": "2022-03-19T19:28:39.816Z"
   },
   {
    "duration": 21,
    "start_time": "2022-03-19T19:29:30.847Z"
   },
   {
    "duration": 0,
    "start_time": "2022-03-19T19:29:30.875Z"
   },
   {
    "duration": 0,
    "start_time": "2022-03-19T19:29:30.877Z"
   },
   {
    "duration": 0,
    "start_time": "2022-03-19T19:29:30.878Z"
   },
   {
    "duration": 0,
    "start_time": "2022-03-19T19:29:30.881Z"
   },
   {
    "duration": 0,
    "start_time": "2022-03-19T19:29:30.883Z"
   },
   {
    "duration": 0,
    "start_time": "2022-03-19T19:29:30.885Z"
   },
   {
    "duration": 5,
    "start_time": "2022-03-19T19:29:35.287Z"
   },
   {
    "duration": 197,
    "start_time": "2022-03-19T19:29:36.377Z"
   },
   {
    "duration": 6434,
    "start_time": "2022-03-19T19:29:37.530Z"
   },
   {
    "duration": 59810,
    "start_time": "2022-03-19T19:29:43.973Z"
   },
   {
    "duration": 8800,
    "start_time": "2022-03-19T19:30:43.786Z"
   },
   {
    "duration": 17330,
    "start_time": "2022-03-19T19:30:52.589Z"
   },
   {
    "duration": 8849,
    "start_time": "2022-03-19T19:31:26.325Z"
   },
   {
    "duration": 17545,
    "start_time": "2022-03-19T19:31:35.177Z"
   },
   {
    "duration": 6,
    "start_time": "2022-03-19T19:32:43.708Z"
   },
   {
    "duration": 7,
    "start_time": "2022-03-19T19:32:43.755Z"
   },
   {
    "duration": 2096,
    "start_time": "2022-03-19T19:32:43.765Z"
   },
   {
    "duration": 12,
    "start_time": "2022-03-19T19:32:45.863Z"
   },
   {
    "duration": 818,
    "start_time": "2022-03-19T19:32:45.877Z"
   },
   {
    "duration": 4,
    "start_time": "2022-03-19T19:32:46.698Z"
   },
   {
    "duration": 21,
    "start_time": "2022-03-19T19:32:46.704Z"
   },
   {
    "duration": 10,
    "start_time": "2022-03-19T19:32:46.727Z"
   },
   {
    "duration": 37,
    "start_time": "2022-03-19T19:32:46.739Z"
   },
   {
    "duration": 27,
    "start_time": "2022-03-19T19:32:46.779Z"
   },
   {
    "duration": 10,
    "start_time": "2022-03-19T19:32:46.809Z"
   },
   {
    "duration": 78,
    "start_time": "2022-03-19T19:32:46.822Z"
   },
   {
    "duration": 24,
    "start_time": "2022-03-19T19:32:46.903Z"
   },
   {
    "duration": 619,
    "start_time": "2022-03-19T19:32:46.929Z"
   },
   {
    "duration": 761,
    "start_time": "2022-03-19T19:32:47.554Z"
   },
   {
    "duration": 618,
    "start_time": "2022-03-19T19:32:48.317Z"
   },
   {
    "duration": 67,
    "start_time": "2022-03-19T19:32:48.937Z"
   },
   {
    "duration": 19,
    "start_time": "2022-03-19T19:32:49.006Z"
   },
   {
    "duration": 5,
    "start_time": "2022-03-19T19:32:49.028Z"
   },
   {
    "duration": 96,
    "start_time": "2022-03-19T19:32:49.036Z"
   },
   {
    "duration": 6,
    "start_time": "2022-03-19T19:32:49.134Z"
   },
   {
    "duration": 116,
    "start_time": "2022-03-19T19:32:49.142Z"
   },
   {
    "duration": 470,
    "start_time": "2022-03-19T19:32:49.261Z"
   },
   {
    "duration": 460,
    "start_time": "2022-03-19T19:32:49.733Z"
   },
   {
    "duration": 458,
    "start_time": "2022-03-19T19:32:50.195Z"
   },
   {
    "duration": 64,
    "start_time": "2022-03-19T19:32:50.655Z"
   },
   {
    "duration": 6,
    "start_time": "2022-03-19T19:32:50.721Z"
   },
   {
    "duration": 78,
    "start_time": "2022-03-19T19:32:50.729Z"
   },
   {
    "duration": 5,
    "start_time": "2022-03-19T19:32:50.810Z"
   },
   {
    "duration": 119,
    "start_time": "2022-03-19T19:32:50.817Z"
   },
   {
    "duration": 61,
    "start_time": "2022-03-19T19:32:50.938Z"
   },
   {
    "duration": 93,
    "start_time": "2022-03-19T19:32:51.002Z"
   },
   {
    "duration": 108,
    "start_time": "2022-03-19T19:32:51.097Z"
   },
   {
    "duration": 5,
    "start_time": "2022-03-19T19:32:51.207Z"
   },
   {
    "duration": 14,
    "start_time": "2022-03-19T19:32:51.215Z"
   },
   {
    "duration": 7366,
    "start_time": "2022-03-19T19:32:51.231Z"
   },
   {
    "duration": 7,
    "start_time": "2022-03-19T19:32:58.599Z"
   },
   {
    "duration": 1472,
    "start_time": "2022-03-19T19:32:58.608Z"
   },
   {
    "duration": 5,
    "start_time": "2022-03-19T19:33:00.082Z"
   },
   {
    "duration": 1027,
    "start_time": "2022-03-19T19:33:00.089Z"
   },
   {
    "duration": 461,
    "start_time": "2022-03-19T19:33:01.119Z"
   },
   {
    "duration": 4,
    "start_time": "2022-03-19T19:33:01.587Z"
   },
   {
    "duration": 24,
    "start_time": "2022-03-19T19:33:01.593Z"
   },
   {
    "duration": 278,
    "start_time": "2022-03-19T19:33:01.619Z"
   },
   {
    "duration": 896,
    "start_time": "2022-03-19T19:33:01.899Z"
   },
   {
    "duration": 17,
    "start_time": "2022-03-19T19:33:02.797Z"
   },
   {
    "duration": 17,
    "start_time": "2022-03-19T19:33:02.816Z"
   },
   {
    "duration": 5,
    "start_time": "2022-03-19T19:33:02.835Z"
   },
   {
    "duration": 36,
    "start_time": "2022-03-19T19:33:02.874Z"
   },
   {
    "duration": 1551,
    "start_time": "2022-03-19T19:33:02.913Z"
   },
   {
    "duration": 1030,
    "start_time": "2022-03-19T19:33:04.475Z"
   },
   {
    "duration": 704,
    "start_time": "2022-03-19T19:33:05.507Z"
   },
   {
    "duration": 7,
    "start_time": "2022-03-19T19:33:06.213Z"
   },
   {
    "duration": 554334,
    "start_time": "2022-03-19T19:33:06.222Z"
   },
   {
    "duration": 4,
    "start_time": "2022-03-19T19:42:20.559Z"
   },
   {
    "duration": 17,
    "start_time": "2022-03-19T19:42:20.573Z"
   },
   {
    "duration": 9,
    "start_time": "2022-03-19T19:42:20.593Z"
   },
   {
    "duration": 169,
    "start_time": "2022-03-19T19:42:20.605Z"
   },
   {
    "duration": 111676,
    "start_time": "2022-03-19T19:42:20.777Z"
   },
   {
    "duration": 12121,
    "start_time": "2022-03-19T19:44:12.456Z"
   },
   {
    "duration": 21299,
    "start_time": "2022-03-19T19:44:24.581Z"
   },
   {
    "duration": 7542,
    "start_time": "2022-03-19T19:44:45.882Z"
   },
   {
    "duration": 2294,
    "start_time": "2022-03-19T19:45:42.480Z"
   },
   {
    "duration": 7,
    "start_time": "2022-03-19T19:45:44.776Z"
   },
   {
    "duration": 2361,
    "start_time": "2022-03-19T19:45:44.785Z"
   },
   {
    "duration": 6,
    "start_time": "2022-03-19T19:45:47.149Z"
   },
   {
    "duration": 932,
    "start_time": "2022-03-19T19:45:47.157Z"
   },
   {
    "duration": 4,
    "start_time": "2022-03-19T19:45:48.092Z"
   },
   {
    "duration": 23,
    "start_time": "2022-03-19T19:45:48.099Z"
   },
   {
    "duration": 11,
    "start_time": "2022-03-19T19:45:48.125Z"
   },
   {
    "duration": 8,
    "start_time": "2022-03-19T19:45:48.174Z"
   },
   {
    "duration": 27,
    "start_time": "2022-03-19T19:45:48.186Z"
   },
   {
    "duration": 8,
    "start_time": "2022-03-19T19:45:48.215Z"
   },
   {
    "duration": 67,
    "start_time": "2022-03-19T19:45:48.225Z"
   },
   {
    "duration": 23,
    "start_time": "2022-03-19T19:45:48.294Z"
   },
   {
    "duration": 682,
    "start_time": "2022-03-19T19:45:48.320Z"
   },
   {
    "duration": 775,
    "start_time": "2022-03-19T19:45:49.004Z"
   },
   {
    "duration": 676,
    "start_time": "2022-03-19T19:45:49.782Z"
   },
   {
    "duration": 67,
    "start_time": "2022-03-19T19:45:50.460Z"
   },
   {
    "duration": 21,
    "start_time": "2022-03-19T19:45:50.529Z"
   },
   {
    "duration": 6,
    "start_time": "2022-03-19T19:45:50.574Z"
   },
   {
    "duration": 95,
    "start_time": "2022-03-19T19:45:50.582Z"
   },
   {
    "duration": 6,
    "start_time": "2022-03-19T19:45:50.679Z"
   },
   {
    "duration": 125,
    "start_time": "2022-03-19T19:45:50.688Z"
   },
   {
    "duration": 451,
    "start_time": "2022-03-19T19:45:50.816Z"
   },
   {
    "duration": 438,
    "start_time": "2022-03-19T19:45:51.270Z"
   },
   {
    "duration": 437,
    "start_time": "2022-03-19T19:45:51.711Z"
   },
   {
    "duration": 60,
    "start_time": "2022-03-19T19:45:52.151Z"
   },
   {
    "duration": 4,
    "start_time": "2022-03-19T19:45:52.214Z"
   },
   {
    "duration": 76,
    "start_time": "2022-03-19T19:45:52.228Z"
   },
   {
    "duration": 6,
    "start_time": "2022-03-19T19:45:52.306Z"
   },
   {
    "duration": 112,
    "start_time": "2022-03-19T19:45:52.315Z"
   },
   {
    "duration": 85,
    "start_time": "2022-03-19T19:45:52.430Z"
   },
   {
    "duration": 147,
    "start_time": "2022-03-19T19:45:52.519Z"
   },
   {
    "duration": 100,
    "start_time": "2022-03-19T19:45:52.674Z"
   },
   {
    "duration": 4,
    "start_time": "2022-03-19T19:45:52.776Z"
   },
   {
    "duration": 13,
    "start_time": "2022-03-19T19:45:52.783Z"
   },
   {
    "duration": 7982,
    "start_time": "2022-03-19T19:45:52.798Z"
   },
   {
    "duration": 6,
    "start_time": "2022-03-19T19:46:00.782Z"
   },
   {
    "duration": 1446,
    "start_time": "2022-03-19T19:46:00.790Z"
   },
   {
    "duration": 6,
    "start_time": "2022-03-19T19:46:02.238Z"
   },
   {
    "duration": 1080,
    "start_time": "2022-03-19T19:46:02.246Z"
   },
   {
    "duration": 413,
    "start_time": "2022-03-19T19:46:03.328Z"
   },
   {
    "duration": 3,
    "start_time": "2022-03-19T19:46:03.743Z"
   },
   {
    "duration": 25,
    "start_time": "2022-03-19T19:46:03.749Z"
   },
   {
    "duration": 265,
    "start_time": "2022-03-19T19:46:03.776Z"
   },
   {
    "duration": 738,
    "start_time": "2022-03-19T19:46:04.043Z"
   },
   {
    "duration": 17,
    "start_time": "2022-03-19T19:46:04.784Z"
   },
   {
    "duration": 31,
    "start_time": "2022-03-19T19:46:04.804Z"
   },
   {
    "duration": 10,
    "start_time": "2022-03-19T19:46:04.837Z"
   },
   {
    "duration": 47,
    "start_time": "2022-03-19T19:46:04.849Z"
   },
   {
    "duration": 1515,
    "start_time": "2022-03-19T19:46:04.899Z"
   },
   {
    "duration": 1075,
    "start_time": "2022-03-19T19:46:06.417Z"
   },
   {
    "duration": 706,
    "start_time": "2022-03-19T19:46:07.494Z"
   },
   {
    "duration": 6,
    "start_time": "2022-03-19T19:46:08.203Z"
   },
   {
    "duration": 547878,
    "start_time": "2022-03-19T19:46:08.211Z"
   },
   {
    "duration": 4,
    "start_time": "2022-03-19T19:55:16.091Z"
   },
   {
    "duration": 17,
    "start_time": "2022-03-19T19:55:16.097Z"
   },
   {
    "duration": 12,
    "start_time": "2022-03-19T19:55:16.117Z"
   },
   {
    "duration": 144,
    "start_time": "2022-03-19T19:55:16.132Z"
   },
   {
    "duration": 174595,
    "start_time": "2022-03-19T19:55:16.279Z"
   },
   {
    "duration": 12204,
    "start_time": "2022-03-19T19:58:10.877Z"
   },
   {
    "duration": 1404436,
    "start_time": "2022-03-19T19:58:23.085Z"
   },
   {
    "duration": 1747,
    "start_time": "2022-03-20T05:33:00.886Z"
   },
   {
    "duration": 5,
    "start_time": "2022-03-20T05:33:02.636Z"
   },
   {
    "duration": 1614,
    "start_time": "2022-03-20T05:33:02.642Z"
   },
   {
    "duration": 4,
    "start_time": "2022-03-20T05:33:04.259Z"
   },
   {
    "duration": 597,
    "start_time": "2022-03-20T05:33:04.264Z"
   },
   {
    "duration": 2,
    "start_time": "2022-03-20T05:33:04.863Z"
   },
   {
    "duration": 26,
    "start_time": "2022-03-20T05:33:04.867Z"
   },
   {
    "duration": 8,
    "start_time": "2022-03-20T05:33:04.894Z"
   },
   {
    "duration": 7,
    "start_time": "2022-03-20T05:33:04.904Z"
   },
   {
    "duration": 32,
    "start_time": "2022-03-20T05:33:04.914Z"
   },
   {
    "duration": 6,
    "start_time": "2022-03-20T05:33:04.948Z"
   },
   {
    "duration": 31,
    "start_time": "2022-03-20T05:33:04.956Z"
   },
   {
    "duration": 17,
    "start_time": "2022-03-20T05:33:04.988Z"
   },
   {
    "duration": 439,
    "start_time": "2022-03-20T05:33:05.007Z"
   },
   {
    "duration": 466,
    "start_time": "2022-03-20T05:33:05.447Z"
   },
   {
    "duration": 437,
    "start_time": "2022-03-20T05:33:05.914Z"
   },
   {
    "duration": 43,
    "start_time": "2022-03-20T05:33:06.352Z"
   },
   {
    "duration": 13,
    "start_time": "2022-03-20T05:33:06.397Z"
   },
   {
    "duration": 4,
    "start_time": "2022-03-20T05:33:06.432Z"
   },
   {
    "duration": 49,
    "start_time": "2022-03-20T05:33:06.438Z"
   },
   {
    "duration": 4,
    "start_time": "2022-03-20T05:33:06.489Z"
   },
   {
    "duration": 92,
    "start_time": "2022-03-20T05:33:06.494Z"
   },
   {
    "duration": 268,
    "start_time": "2022-03-20T05:33:06.588Z"
   },
   {
    "duration": 276,
    "start_time": "2022-03-20T05:33:06.858Z"
   },
   {
    "duration": 266,
    "start_time": "2022-03-20T05:33:07.135Z"
   },
   {
    "duration": 42,
    "start_time": "2022-03-20T05:33:07.402Z"
   },
   {
    "duration": 4,
    "start_time": "2022-03-20T05:33:07.446Z"
   },
   {
    "duration": 28,
    "start_time": "2022-03-20T05:33:07.453Z"
   },
   {
    "duration": 4,
    "start_time": "2022-03-20T05:33:07.483Z"
   },
   {
    "duration": 96,
    "start_time": "2022-03-20T05:33:07.488Z"
   },
   {
    "duration": 49,
    "start_time": "2022-03-20T05:33:07.586Z"
   },
   {
    "duration": 65,
    "start_time": "2022-03-20T05:33:07.636Z"
   },
   {
    "duration": 86,
    "start_time": "2022-03-20T05:33:07.703Z"
   },
   {
    "duration": 2,
    "start_time": "2022-03-20T05:33:07.791Z"
   },
   {
    "duration": 10,
    "start_time": "2022-03-20T05:33:07.795Z"
   },
   {
    "duration": 7148,
    "start_time": "2022-03-20T05:33:07.807Z"
   },
   {
    "duration": 6,
    "start_time": "2022-03-20T05:33:14.957Z"
   },
   {
    "duration": 801,
    "start_time": "2022-03-20T05:33:14.964Z"
   },
   {
    "duration": 4,
    "start_time": "2022-03-20T05:33:15.767Z"
   },
   {
    "duration": 588,
    "start_time": "2022-03-20T05:33:15.772Z"
   },
   {
    "duration": 313,
    "start_time": "2022-03-20T05:33:16.362Z"
   },
   {
    "duration": 3,
    "start_time": "2022-03-20T05:33:16.676Z"
   },
   {
    "duration": 9,
    "start_time": "2022-03-20T05:33:16.681Z"
   },
   {
    "duration": 180,
    "start_time": "2022-03-20T05:33:16.692Z"
   },
   {
    "duration": 438,
    "start_time": "2022-03-20T05:33:16.874Z"
   },
   {
    "duration": 12,
    "start_time": "2022-03-20T05:33:17.313Z"
   },
   {
    "duration": 16,
    "start_time": "2022-03-20T05:33:17.333Z"
   },
   {
    "duration": 3,
    "start_time": "2022-03-20T05:33:17.351Z"
   },
   {
    "duration": 20,
    "start_time": "2022-03-20T05:33:17.357Z"
   },
   {
    "duration": 915,
    "start_time": "2022-03-20T05:33:17.379Z"
   },
   {
    "duration": 679,
    "start_time": "2022-03-20T05:33:18.296Z"
   },
   {
    "duration": 414,
    "start_time": "2022-03-20T05:33:18.977Z"
   },
   {
    "duration": 4,
    "start_time": "2022-03-20T05:33:19.393Z"
   },
   {
    "duration": 585160,
    "start_time": "2022-03-20T05:33:19.398Z"
   },
   {
    "duration": 3,
    "start_time": "2022-03-20T05:43:04.560Z"
   },
   {
    "duration": 12,
    "start_time": "2022-03-20T05:43:04.565Z"
   },
   {
    "duration": 8,
    "start_time": "2022-03-20T05:43:04.579Z"
   },
   {
    "duration": 146,
    "start_time": "2022-03-20T05:43:04.589Z"
   },
   {
    "duration": 169800,
    "start_time": "2022-03-20T05:43:04.737Z"
   },
   {
    "duration": 12294,
    "start_time": "2022-03-20T05:45:54.539Z"
   },
   {
    "duration": 1774399,
    "start_time": "2022-03-20T05:46:06.835Z"
   },
   {
    "duration": 5473802,
    "start_time": "2022-03-20T06:15:41.236Z"
   },
   {
    "duration": 1541,
    "start_time": "2022-03-20T07:50:50.272Z"
   },
   {
    "duration": 4,
    "start_time": "2022-03-20T07:50:51.815Z"
   },
   {
    "duration": 1579,
    "start_time": "2022-03-20T07:50:51.821Z"
   },
   {
    "duration": 5,
    "start_time": "2022-03-20T07:50:53.402Z"
   },
   {
    "duration": 599,
    "start_time": "2022-03-20T07:50:53.408Z"
   },
   {
    "duration": 3,
    "start_time": "2022-03-20T07:50:54.009Z"
   },
   {
    "duration": 27,
    "start_time": "2022-03-20T07:50:54.013Z"
   },
   {
    "duration": 9,
    "start_time": "2022-03-20T07:50:54.041Z"
   },
   {
    "duration": 5,
    "start_time": "2022-03-20T07:50:54.052Z"
   },
   {
    "duration": 19,
    "start_time": "2022-03-20T07:50:54.060Z"
   },
   {
    "duration": 6,
    "start_time": "2022-03-20T07:50:54.081Z"
   },
   {
    "duration": 55,
    "start_time": "2022-03-20T07:50:54.088Z"
   },
   {
    "duration": 16,
    "start_time": "2022-03-20T07:50:54.145Z"
   },
   {
    "duration": 425,
    "start_time": "2022-03-20T07:50:54.163Z"
   },
   {
    "duration": 477,
    "start_time": "2022-03-20T07:50:54.589Z"
   },
   {
    "duration": 436,
    "start_time": "2022-03-20T07:50:55.068Z"
   },
   {
    "duration": 53,
    "start_time": "2022-03-20T07:50:55.505Z"
   },
   {
    "duration": 14,
    "start_time": "2022-03-20T07:50:55.560Z"
   },
   {
    "duration": 3,
    "start_time": "2022-03-20T07:50:55.576Z"
   },
   {
    "duration": 60,
    "start_time": "2022-03-20T07:50:55.581Z"
   },
   {
    "duration": 5,
    "start_time": "2022-03-20T07:50:55.642Z"
   },
   {
    "duration": 97,
    "start_time": "2022-03-20T07:50:55.648Z"
   },
   {
    "duration": 270,
    "start_time": "2022-03-20T07:50:55.747Z"
   },
   {
    "duration": 261,
    "start_time": "2022-03-20T07:50:56.018Z"
   },
   {
    "duration": 259,
    "start_time": "2022-03-20T07:50:56.281Z"
   },
   {
    "duration": 34,
    "start_time": "2022-03-20T07:50:56.542Z"
   },
   {
    "duration": 4,
    "start_time": "2022-03-20T07:50:56.578Z"
   },
   {
    "duration": 54,
    "start_time": "2022-03-20T07:50:56.587Z"
   },
   {
    "duration": 4,
    "start_time": "2022-03-20T07:50:56.643Z"
   },
   {
    "duration": 122,
    "start_time": "2022-03-20T07:50:56.648Z"
   },
   {
    "duration": 36,
    "start_time": "2022-03-20T07:50:56.772Z"
   },
   {
    "duration": 76,
    "start_time": "2022-03-20T07:50:56.810Z"
   },
   {
    "duration": 82,
    "start_time": "2022-03-20T07:50:56.887Z"
   },
   {
    "duration": 3,
    "start_time": "2022-03-20T07:50:56.971Z"
   },
   {
    "duration": 8,
    "start_time": "2022-03-20T07:50:56.975Z"
   },
   {
    "duration": 4782,
    "start_time": "2022-03-20T07:50:56.984Z"
   },
   {
    "duration": 5,
    "start_time": "2022-03-20T07:51:01.768Z"
   },
   {
    "duration": 789,
    "start_time": "2022-03-20T07:51:01.775Z"
   },
   {
    "duration": 4,
    "start_time": "2022-03-20T07:51:02.566Z"
   },
   {
    "duration": 609,
    "start_time": "2022-03-20T07:51:02.571Z"
   },
   {
    "duration": 310,
    "start_time": "2022-03-20T07:51:03.182Z"
   },
   {
    "duration": 2,
    "start_time": "2022-03-20T07:51:03.494Z"
   },
   {
    "duration": 5,
    "start_time": "2022-03-20T07:51:03.498Z"
   },
   {
    "duration": 188,
    "start_time": "2022-03-20T07:51:03.505Z"
   },
   {
    "duration": 426,
    "start_time": "2022-03-20T07:51:03.694Z"
   },
   {
    "duration": 16,
    "start_time": "2022-03-20T07:51:04.121Z"
   },
   {
    "duration": 15,
    "start_time": "2022-03-20T07:51:04.139Z"
   },
   {
    "duration": 3,
    "start_time": "2022-03-20T07:51:04.156Z"
   },
   {
    "duration": 19,
    "start_time": "2022-03-20T07:51:04.160Z"
   },
   {
    "duration": 935,
    "start_time": "2022-03-20T07:51:04.181Z"
   },
   {
    "duration": 676,
    "start_time": "2022-03-20T07:51:05.117Z"
   },
   {
    "duration": 424,
    "start_time": "2022-03-20T07:51:05.795Z"
   },
   {
    "duration": 3,
    "start_time": "2022-03-20T07:51:06.221Z"
   },
   {
    "duration": 593107,
    "start_time": "2022-03-20T07:51:06.233Z"
   },
   {
    "duration": 2,
    "start_time": "2022-03-20T08:00:59.342Z"
   },
   {
    "duration": 13,
    "start_time": "2022-03-20T08:00:59.346Z"
   },
   {
    "duration": 8,
    "start_time": "2022-03-20T08:00:59.361Z"
   },
   {
    "duration": 67,
    "start_time": "2022-03-20T08:00:59.370Z"
   },
   {
    "duration": 172700,
    "start_time": "2022-03-20T08:00:59.439Z"
   },
   {
    "duration": 12407,
    "start_time": "2022-03-20T08:03:52.141Z"
   },
   {
    "duration": 1257294,
    "start_time": "2022-03-20T08:04:04.550Z"
   },
   {
    "duration": 4886200,
    "start_time": "2022-03-20T08:25:01.846Z"
   },
   {
    "duration": 6399,
    "start_time": "2022-03-20T09:46:28.048Z"
   },
   {
    "duration": 2770,
    "start_time": "2022-03-20T09:46:34.449Z"
   },
   {
    "duration": 17,
    "start_time": "2022-03-20T09:46:37.221Z"
   },
   {
    "duration": 0,
    "start_time": "2022-03-20T09:46:37.240Z"
   },
   {
    "duration": 0,
    "start_time": "2022-03-20T09:46:37.242Z"
   },
   {
    "duration": 0,
    "start_time": "2022-03-20T09:46:37.243Z"
   },
   {
    "duration": 0,
    "start_time": "2022-03-20T09:46:37.244Z"
   },
   {
    "duration": 0,
    "start_time": "2022-03-20T09:46:37.245Z"
   },
   {
    "duration": 0,
    "start_time": "2022-03-20T09:46:37.246Z"
   },
   {
    "duration": 0,
    "start_time": "2022-03-20T09:46:37.248Z"
   },
   {
    "duration": 233729,
    "start_time": "2022-03-20T09:47:23.228Z"
   },
   {
    "duration": 1117862,
    "start_time": "2022-03-20T09:51:55.210Z"
   },
   {
    "duration": 2864,
    "start_time": "2022-03-20T10:10:33.075Z"
   },
   {
    "duration": 1966,
    "start_time": "2022-03-20T10:10:35.942Z"
   },
   {
    "duration": 15,
    "start_time": "2022-03-20T10:10:37.911Z"
   },
   {
    "duration": 0,
    "start_time": "2022-03-20T10:10:37.928Z"
   },
   {
    "duration": 0,
    "start_time": "2022-03-20T10:10:37.930Z"
   },
   {
    "duration": 0,
    "start_time": "2022-03-20T10:10:37.931Z"
   },
   {
    "duration": 0,
    "start_time": "2022-03-20T10:10:37.932Z"
   },
   {
    "duration": 0,
    "start_time": "2022-03-20T10:10:37.933Z"
   },
   {
    "duration": 0,
    "start_time": "2022-03-20T10:10:37.934Z"
   },
   {
    "duration": 0,
    "start_time": "2022-03-20T10:10:37.935Z"
   },
   {
    "duration": 514943,
    "start_time": "2022-03-20T10:12:42.401Z"
   },
   {
    "duration": 1905,
    "start_time": "2022-03-20T10:21:17.346Z"
   },
   {
    "duration": 2713,
    "start_time": "2022-03-20T10:21:19.253Z"
   },
   {
    "duration": 16,
    "start_time": "2022-03-20T10:21:21.968Z"
   },
   {
    "duration": 0,
    "start_time": "2022-03-20T10:21:21.986Z"
   },
   {
    "duration": 0,
    "start_time": "2022-03-20T10:21:21.987Z"
   },
   {
    "duration": 0,
    "start_time": "2022-03-20T10:21:21.988Z"
   },
   {
    "duration": 0,
    "start_time": "2022-03-20T10:21:21.989Z"
   },
   {
    "duration": 0,
    "start_time": "2022-03-20T10:21:21.990Z"
   },
   {
    "duration": 0,
    "start_time": "2022-03-20T10:21:21.992Z"
   },
   {
    "duration": 0,
    "start_time": "2022-03-20T10:21:21.994Z"
   },
   {
    "duration": 22,
    "start_time": "2022-03-20T10:21:40.077Z"
   },
   {
    "duration": 866,
    "start_time": "2022-03-20T10:21:40.750Z"
   },
   {
    "duration": 620,
    "start_time": "2022-03-20T10:21:41.618Z"
   },
   {
    "duration": 381,
    "start_time": "2022-03-20T10:21:42.315Z"
   },
   {
    "duration": 6,
    "start_time": "2022-03-20T10:21:59.200Z"
   },
   {
    "duration": 59,
    "start_time": "2022-03-20T10:22:00.883Z"
   },
   {
    "duration": 123280,
    "start_time": "2022-03-20T10:22:18.453Z"
   },
   {
    "duration": 7388,
    "start_time": "2022-03-20T10:24:28.045Z"
   },
   {
    "duration": 7332,
    "start_time": "2022-03-20T10:24:40.107Z"
   },
   {
    "duration": 95302,
    "start_time": "2022-03-20T10:24:56.136Z"
   },
   {
    "duration": 40845,
    "start_time": "2022-03-20T10:26:54.222Z"
   },
   {
    "duration": 6,
    "start_time": "2022-03-20T10:27:48.253Z"
   },
   {
    "duration": 10,
    "start_time": "2022-03-20T10:27:48.261Z"
   },
   {
    "duration": 1612,
    "start_time": "2022-03-20T10:27:48.273Z"
   },
   {
    "duration": 4,
    "start_time": "2022-03-20T10:27:49.887Z"
   },
   {
    "duration": 697,
    "start_time": "2022-03-20T10:27:49.893Z"
   },
   {
    "duration": 3,
    "start_time": "2022-03-20T10:27:50.592Z"
   },
   {
    "duration": 16,
    "start_time": "2022-03-20T10:27:50.596Z"
   },
   {
    "duration": 27,
    "start_time": "2022-03-20T10:27:50.614Z"
   },
   {
    "duration": 10,
    "start_time": "2022-03-20T10:27:50.644Z"
   },
   {
    "duration": 25,
    "start_time": "2022-03-20T10:27:50.656Z"
   },
   {
    "duration": 6,
    "start_time": "2022-03-20T10:27:50.682Z"
   },
   {
    "duration": 24,
    "start_time": "2022-03-20T10:27:50.690Z"
   },
   {
    "duration": 31,
    "start_time": "2022-03-20T10:27:50.715Z"
   },
   {
    "duration": 414,
    "start_time": "2022-03-20T10:27:50.749Z"
   },
   {
    "duration": 439,
    "start_time": "2022-03-20T10:27:51.165Z"
   },
   {
    "duration": 395,
    "start_time": "2022-03-20T10:27:51.606Z"
   },
   {
    "duration": 52,
    "start_time": "2022-03-20T10:27:52.002Z"
   },
   {
    "duration": 18,
    "start_time": "2022-03-20T10:27:52.055Z"
   },
   {
    "duration": 4,
    "start_time": "2022-03-20T10:27:52.074Z"
   },
   {
    "duration": 59,
    "start_time": "2022-03-20T10:27:52.080Z"
   },
   {
    "duration": 11,
    "start_time": "2022-03-20T10:27:52.140Z"
   },
   {
    "duration": 97,
    "start_time": "2022-03-20T10:27:52.152Z"
   },
   {
    "duration": 283,
    "start_time": "2022-03-20T10:27:52.250Z"
   },
   {
    "duration": 289,
    "start_time": "2022-03-20T10:27:52.539Z"
   },
   {
    "duration": 279,
    "start_time": "2022-03-20T10:27:52.835Z"
   },
   {
    "duration": 44,
    "start_time": "2022-03-20T10:27:53.116Z"
   },
   {
    "duration": 4,
    "start_time": "2022-03-20T10:27:53.162Z"
   },
   {
    "duration": 28,
    "start_time": "2022-03-20T10:27:53.167Z"
   },
   {
    "duration": 4,
    "start_time": "2022-03-20T10:27:53.197Z"
   },
   {
    "duration": 111,
    "start_time": "2022-03-20T10:27:53.203Z"
   },
   {
    "duration": 48,
    "start_time": "2022-03-20T10:27:53.315Z"
   },
   {
    "duration": 77,
    "start_time": "2022-03-20T10:27:53.365Z"
   },
   {
    "duration": 78,
    "start_time": "2022-03-20T10:27:53.446Z"
   },
   {
    "duration": 4,
    "start_time": "2022-03-20T10:27:53.536Z"
   },
   {
    "duration": 25,
    "start_time": "2022-03-20T10:27:53.543Z"
   },
   {
    "duration": 5226,
    "start_time": "2022-03-20T10:27:53.570Z"
   },
   {
    "duration": 5,
    "start_time": "2022-03-20T10:27:58.797Z"
   },
   {
    "duration": 889,
    "start_time": "2022-03-20T10:27:58.803Z"
   },
   {
    "duration": 4,
    "start_time": "2022-03-20T10:27:59.693Z"
   },
   {
    "duration": 777,
    "start_time": "2022-03-20T10:27:59.699Z"
   },
   {
    "duration": 362,
    "start_time": "2022-03-20T10:28:00.478Z"
   },
   {
    "duration": 7,
    "start_time": "2022-03-20T10:28:00.842Z"
   },
   {
    "duration": 21,
    "start_time": "2022-03-20T10:28:00.850Z"
   },
   {
    "duration": 198,
    "start_time": "2022-03-20T10:28:00.873Z"
   },
   {
    "duration": 465,
    "start_time": "2022-03-20T10:28:01.073Z"
   },
   {
    "duration": 18,
    "start_time": "2022-03-20T10:28:01.544Z"
   },
   {
    "duration": 12,
    "start_time": "2022-03-20T10:28:01.564Z"
   },
   {
    "duration": 3,
    "start_time": "2022-03-20T10:28:01.578Z"
   },
   {
    "duration": 19,
    "start_time": "2022-03-20T10:28:01.583Z"
   },
   {
    "duration": 1031,
    "start_time": "2022-03-20T10:28:01.603Z"
   },
   {
    "duration": 849,
    "start_time": "2022-03-20T10:28:02.636Z"
   },
   {
    "duration": 546,
    "start_time": "2022-03-20T10:28:03.487Z"
   },
   {
    "duration": 6,
    "start_time": "2022-03-20T10:28:04.037Z"
   },
   {
    "duration": 538040,
    "start_time": "2022-03-20T10:28:04.045Z"
   },
   {
    "duration": 2,
    "start_time": "2022-03-20T10:37:02.087Z"
   },
   {
    "duration": 13,
    "start_time": "2022-03-20T10:37:02.091Z"
   },
   {
    "duration": 11,
    "start_time": "2022-03-20T10:37:02.105Z"
   },
   {
    "duration": 53,
    "start_time": "2022-03-20T10:37:02.117Z"
   },
   {
    "duration": 118741,
    "start_time": "2022-03-20T10:37:02.237Z"
   },
   {
    "duration": 7353,
    "start_time": "2022-03-20T10:39:00.980Z"
   },
   {
    "duration": 12257,
    "start_time": "2022-03-20T10:39:08.336Z"
   },
   {
    "duration": 1577,
    "start_time": "2022-03-20T10:39:49.558Z"
   },
   {
    "duration": 5,
    "start_time": "2022-03-20T10:39:51.136Z"
   },
   {
    "duration": 1656,
    "start_time": "2022-03-20T10:39:51.143Z"
   },
   {
    "duration": 4,
    "start_time": "2022-03-20T10:39:52.801Z"
   },
   {
    "duration": 1000,
    "start_time": "2022-03-20T10:39:52.808Z"
   },
   {
    "duration": 3,
    "start_time": "2022-03-20T10:39:53.809Z"
   },
   {
    "duration": 28,
    "start_time": "2022-03-20T10:39:53.814Z"
   },
   {
    "duration": 8,
    "start_time": "2022-03-20T10:39:53.843Z"
   },
   {
    "duration": 5,
    "start_time": "2022-03-20T10:39:53.853Z"
   },
   {
    "duration": 19,
    "start_time": "2022-03-20T10:39:53.861Z"
   },
   {
    "duration": 7,
    "start_time": "2022-03-20T10:39:53.882Z"
   },
   {
    "duration": 56,
    "start_time": "2022-03-20T10:39:53.891Z"
   },
   {
    "duration": 18,
    "start_time": "2022-03-20T10:39:53.949Z"
   },
   {
    "duration": 466,
    "start_time": "2022-03-20T10:39:53.968Z"
   },
   {
    "duration": 491,
    "start_time": "2022-03-20T10:39:54.436Z"
   },
   {
    "duration": 457,
    "start_time": "2022-03-20T10:39:54.932Z"
   },
   {
    "duration": 54,
    "start_time": "2022-03-20T10:39:55.390Z"
   },
   {
    "duration": 13,
    "start_time": "2022-03-20T10:39:55.446Z"
   },
   {
    "duration": 4,
    "start_time": "2022-03-20T10:39:55.461Z"
   },
   {
    "duration": 67,
    "start_time": "2022-03-20T10:39:55.466Z"
   },
   {
    "duration": 5,
    "start_time": "2022-03-20T10:39:55.535Z"
   },
   {
    "duration": 84,
    "start_time": "2022-03-20T10:39:55.542Z"
   },
   {
    "duration": 270,
    "start_time": "2022-03-20T10:39:55.633Z"
   },
   {
    "duration": 273,
    "start_time": "2022-03-20T10:39:55.904Z"
   },
   {
    "duration": 267,
    "start_time": "2022-03-20T10:39:56.179Z"
   },
   {
    "duration": 33,
    "start_time": "2022-03-20T10:39:56.448Z"
   },
   {
    "duration": 5,
    "start_time": "2022-03-20T10:39:56.483Z"
   },
   {
    "duration": 52,
    "start_time": "2022-03-20T10:39:56.493Z"
   },
   {
    "duration": 4,
    "start_time": "2022-03-20T10:39:56.548Z"
   },
   {
    "duration": 88,
    "start_time": "2022-03-20T10:39:56.554Z"
   },
   {
    "duration": 42,
    "start_time": "2022-03-20T10:39:56.644Z"
   },
   {
    "duration": 81,
    "start_time": "2022-03-20T10:39:56.688Z"
   },
   {
    "duration": 81,
    "start_time": "2022-03-20T10:39:56.771Z"
   },
   {
    "duration": 4,
    "start_time": "2022-03-20T10:39:56.854Z"
   },
   {
    "duration": 8,
    "start_time": "2022-03-20T10:39:56.860Z"
   },
   {
    "duration": 4803,
    "start_time": "2022-03-20T10:39:56.869Z"
   },
   {
    "duration": 4,
    "start_time": "2022-03-20T10:40:01.674Z"
   },
   {
    "duration": 885,
    "start_time": "2022-03-20T10:40:01.680Z"
   },
   {
    "duration": 4,
    "start_time": "2022-03-20T10:40:02.566Z"
   },
   {
    "duration": 765,
    "start_time": "2022-03-20T10:40:02.572Z"
   },
   {
    "duration": 441,
    "start_time": "2022-03-20T10:40:03.338Z"
   },
   {
    "duration": 3,
    "start_time": "2022-03-20T10:40:03.781Z"
   },
   {
    "duration": 6,
    "start_time": "2022-03-20T10:40:03.786Z"
   },
   {
    "duration": 190,
    "start_time": "2022-03-20T10:40:03.794Z"
   },
   {
    "duration": 585,
    "start_time": "2022-03-20T10:40:03.987Z"
   },
   {
    "duration": 16,
    "start_time": "2022-03-20T10:40:04.574Z"
   },
   {
    "duration": 28,
    "start_time": "2022-03-20T10:40:04.591Z"
   },
   {
    "duration": 12,
    "start_time": "2022-03-20T10:40:04.621Z"
   },
   {
    "duration": 20,
    "start_time": "2022-03-20T10:40:04.635Z"
   },
   {
    "duration": 944,
    "start_time": "2022-03-20T10:40:04.657Z"
   },
   {
    "duration": 692,
    "start_time": "2022-03-20T10:40:05.602Z"
   },
   {
    "duration": 425,
    "start_time": "2022-03-20T10:40:06.296Z"
   },
   {
    "duration": 11,
    "start_time": "2022-03-20T10:40:06.722Z"
   },
   {
    "duration": 366884,
    "start_time": "2022-03-20T10:40:06.735Z"
   },
   {
    "duration": 4,
    "start_time": "2022-03-20T10:46:13.621Z"
   },
   {
    "duration": 20,
    "start_time": "2022-03-20T10:46:13.626Z"
   },
   {
    "duration": 17,
    "start_time": "2022-03-20T10:46:13.647Z"
   },
   {
    "duration": 76,
    "start_time": "2022-03-20T10:46:13.666Z"
   },
   {
    "duration": 68490,
    "start_time": "2022-03-20T10:46:13.745Z"
   },
   {
    "duration": 7397,
    "start_time": "2022-03-20T10:47:22.237Z"
   },
   {
    "duration": 172019,
    "start_time": "2022-03-20T10:47:29.637Z"
   },
   {
    "duration": 236776,
    "start_time": "2022-03-20T10:50:21.658Z"
   },
   {
    "duration": 166420,
    "start_time": "2022-03-20T10:54:18.436Z"
   },
   {
    "duration": 494219,
    "start_time": "2022-03-20T10:57:04.858Z"
   },
   {
    "duration": 10,
    "start_time": "2022-03-20T11:05:19.079Z"
   },
   {
    "duration": 15,
    "start_time": "2022-03-20T11:05:19.091Z"
   },
   {
    "duration": 126,
    "start_time": "2022-03-20T11:05:19.107Z"
   },
   {
    "duration": 15530,
    "start_time": "2022-03-20T11:05:19.235Z"
   },
   {
    "duration": 24778,
    "start_time": "2022-03-20T11:05:34.767Z"
   },
   {
    "duration": 19496,
    "start_time": "2022-03-20T11:05:59.547Z"
   },
   {
    "duration": 64053,
    "start_time": "2022-03-20T11:06:19.045Z"
   },
   {
    "duration": 9,
    "start_time": "2022-03-20T11:07:23.099Z"
   },
   {
    "duration": 104100,
    "start_time": "2022-03-21T11:50:54.298Z"
   },
   {
    "duration": 8,
    "start_time": "2022-03-21T11:52:38.401Z"
   },
   {
    "duration": 3819,
    "start_time": "2022-03-21T11:52:38.411Z"
   },
   {
    "duration": 6,
    "start_time": "2022-03-21T11:52:42.233Z"
   },
   {
    "duration": 1140,
    "start_time": "2022-03-21T11:52:42.241Z"
   },
   {
    "duration": 3,
    "start_time": "2022-03-21T11:52:43.383Z"
   },
   {
    "duration": 21,
    "start_time": "2022-03-21T11:52:43.388Z"
   },
   {
    "duration": 8,
    "start_time": "2022-03-21T11:52:43.411Z"
   },
   {
    "duration": 7,
    "start_time": "2022-03-21T11:52:43.422Z"
   },
   {
    "duration": 52,
    "start_time": "2022-03-21T11:52:43.433Z"
   },
   {
    "duration": 8,
    "start_time": "2022-03-21T11:52:43.487Z"
   },
   {
    "duration": 83,
    "start_time": "2022-03-21T11:52:43.497Z"
   },
   {
    "duration": 22,
    "start_time": "2022-03-21T11:52:43.582Z"
   },
   {
    "duration": 769,
    "start_time": "2022-03-21T11:52:43.606Z"
   },
   {
    "duration": 1408,
    "start_time": "2022-03-21T11:52:44.378Z"
   },
   {
    "duration": 1701,
    "start_time": "2022-03-21T11:52:45.789Z"
   },
   {
    "duration": 113,
    "start_time": "2022-03-21T11:52:47.493Z"
   },
   {
    "duration": 71,
    "start_time": "2022-03-21T11:52:47.608Z"
   },
   {
    "duration": 6,
    "start_time": "2022-03-21T11:52:47.682Z"
   },
   {
    "duration": 127,
    "start_time": "2022-03-21T11:52:47.690Z"
   },
   {
    "duration": 6,
    "start_time": "2022-03-21T11:52:47.873Z"
   },
   {
    "duration": 203,
    "start_time": "2022-03-21T11:52:47.882Z"
   },
   {
    "duration": 762,
    "start_time": "2022-03-21T11:52:48.087Z"
   },
   {
    "duration": 490,
    "start_time": "2022-03-21T11:53:01.458Z"
   },
   {
    "duration": 435,
    "start_time": "2022-03-21T12:02:53.270Z"
   },
   {
    "duration": 428,
    "start_time": "2022-03-21T12:02:53.846Z"
   },
   {
    "duration": 53,
    "start_time": "2022-03-21T12:02:54.584Z"
   },
   {
    "duration": 52,
    "start_time": "2022-03-21T12:02:57.394Z"
   },
   {
    "duration": 57,
    "start_time": "2022-03-21T12:03:03.120Z"
   },
   {
    "duration": 5,
    "start_time": "2022-03-21T12:04:09.939Z"
   },
   {
    "duration": 11,
    "start_time": "2022-03-21T12:04:10.717Z"
   },
   {
    "duration": 7608,
    "start_time": "2022-03-21T12:04:13.269Z"
   },
   {
    "duration": 6,
    "start_time": "2022-03-21T12:04:41.824Z"
   },
   {
    "duration": 1442,
    "start_time": "2022-03-21T12:04:42.931Z"
   },
   {
    "duration": 6,
    "start_time": "2022-03-21T12:10:16.294Z"
   },
   {
    "duration": 1070,
    "start_time": "2022-03-21T12:10:18.418Z"
   },
   {
    "duration": 50,
    "start_time": "2022-03-21T12:14:22.645Z"
   },
   {
    "duration": 2516,
    "start_time": "2022-03-21T13:28:01.769Z"
   },
   {
    "duration": 8,
    "start_time": "2022-03-21T13:28:04.287Z"
   },
   {
    "duration": 2244,
    "start_time": "2022-03-21T13:28:04.297Z"
   },
   {
    "duration": 6,
    "start_time": "2022-03-21T13:28:06.544Z"
   },
   {
    "duration": 807,
    "start_time": "2022-03-21T13:28:06.552Z"
   },
   {
    "duration": 11,
    "start_time": "2022-03-21T13:28:07.362Z"
   },
   {
    "duration": 18,
    "start_time": "2022-03-21T13:28:07.375Z"
   },
   {
    "duration": 9,
    "start_time": "2022-03-21T13:28:07.395Z"
   },
   {
    "duration": 8,
    "start_time": "2022-03-21T13:28:07.407Z"
   },
   {
    "duration": 63,
    "start_time": "2022-03-21T13:28:07.421Z"
   },
   {
    "duration": 8,
    "start_time": "2022-03-21T13:28:07.487Z"
   },
   {
    "duration": 31,
    "start_time": "2022-03-21T13:28:07.497Z"
   },
   {
    "duration": 55,
    "start_time": "2022-03-21T13:28:07.530Z"
   },
   {
    "duration": 665,
    "start_time": "2022-03-21T13:28:07.587Z"
   },
   {
    "duration": 722,
    "start_time": "2022-03-21T13:28:08.254Z"
   },
   {
    "duration": 634,
    "start_time": "2022-03-21T13:28:08.978Z"
   },
   {
    "duration": 76,
    "start_time": "2022-03-21T13:28:09.614Z"
   },
   {
    "duration": 18,
    "start_time": "2022-03-21T13:28:09.693Z"
   },
   {
    "duration": 5,
    "start_time": "2022-03-21T13:28:09.713Z"
   },
   {
    "duration": 93,
    "start_time": "2022-03-21T13:28:09.720Z"
   },
   {
    "duration": 6,
    "start_time": "2022-03-21T13:28:09.816Z"
   },
   {
    "duration": 96,
    "start_time": "2022-03-21T13:28:10.246Z"
   },
   {
    "duration": 424,
    "start_time": "2022-03-21T13:28:10.612Z"
   },
   {
    "duration": 447,
    "start_time": "2022-03-21T13:28:11.039Z"
   },
   {
    "duration": 438,
    "start_time": "2022-03-21T13:28:11.489Z"
   },
   {
    "duration": 65,
    "start_time": "2022-03-21T13:28:11.929Z"
   },
   {
    "duration": 6,
    "start_time": "2022-03-21T13:28:12.055Z"
   },
   {
    "duration": 53,
    "start_time": "2022-03-21T13:28:12.272Z"
   },
   {
    "duration": 5,
    "start_time": "2022-03-21T13:28:12.856Z"
   },
   {
    "duration": 96,
    "start_time": "2022-03-21T13:28:13.046Z"
   },
   {
    "duration": 57,
    "start_time": "2022-03-21T13:28:14.224Z"
   },
   {
    "duration": 81,
    "start_time": "2022-03-21T13:28:14.910Z"
   },
   {
    "duration": 90,
    "start_time": "2022-03-21T13:28:15.769Z"
   },
   {
    "duration": 5,
    "start_time": "2022-03-21T13:28:16.438Z"
   },
   {
    "duration": 11,
    "start_time": "2022-03-21T13:28:17.426Z"
   },
   {
    "duration": 7459,
    "start_time": "2022-03-21T13:28:17.799Z"
   },
   {
    "duration": 17,
    "start_time": "2022-03-21T13:28:25.260Z"
   },
   {
    "duration": 1400,
    "start_time": "2022-03-21T13:28:25.279Z"
   },
   {
    "duration": 7,
    "start_time": "2022-03-21T13:28:26.683Z"
   },
   {
    "duration": 270,
    "start_time": "2022-03-21T13:28:26.692Z"
   },
   {
    "duration": 40,
    "start_time": "2022-03-21T13:30:24.671Z"
   },
   {
    "duration": 44,
    "start_time": "2022-03-21T13:30:29.880Z"
   },
   {
    "duration": 48,
    "start_time": "2022-03-21T13:30:35.708Z"
   },
   {
    "duration": 43,
    "start_time": "2022-03-21T13:30:43.799Z"
   },
   {
    "duration": 45,
    "start_time": "2022-03-21T13:30:47.966Z"
   },
   {
    "duration": 12,
    "start_time": "2022-03-21T13:31:11.482Z"
   },
   {
    "duration": 41,
    "start_time": "2022-03-21T13:31:20.089Z"
   },
   {
    "duration": 52,
    "start_time": "2022-03-21T13:35:16.742Z"
   },
   {
    "duration": 52,
    "start_time": "2022-03-21T13:36:45.679Z"
   },
   {
    "duration": 60,
    "start_time": "2022-03-21T13:36:59.888Z"
   },
   {
    "duration": 49,
    "start_time": "2022-03-21T13:39:08.521Z"
   },
   {
    "duration": 54,
    "start_time": "2022-03-21T13:39:22.798Z"
   },
   {
    "duration": 56,
    "start_time": "2022-03-21T13:39:32.412Z"
   },
   {
    "duration": 54,
    "start_time": "2022-03-21T13:40:03.446Z"
   },
   {
    "duration": 44,
    "start_time": "2022-03-21T13:40:13.588Z"
   },
   {
    "duration": 146,
    "start_time": "2022-03-21T13:42:02.370Z"
   },
   {
    "duration": 286,
    "start_time": "2022-03-21T13:42:10.230Z"
   },
   {
    "duration": 42,
    "start_time": "2022-03-21T13:42:19.646Z"
   },
   {
    "duration": 54,
    "start_time": "2022-03-21T13:42:24.142Z"
   },
   {
    "duration": 46,
    "start_time": "2022-03-21T13:42:30.763Z"
   },
   {
    "duration": 42,
    "start_time": "2022-03-21T13:42:39.260Z"
   },
   {
    "duration": 45,
    "start_time": "2022-03-21T13:42:42.829Z"
   },
   {
    "duration": 91,
    "start_time": "2022-03-21T13:44:38.105Z"
   },
   {
    "duration": 95,
    "start_time": "2022-03-21T13:44:43.209Z"
   },
   {
    "duration": 48,
    "start_time": "2022-03-21T13:59:04.006Z"
   },
   {
    "duration": 43,
    "start_time": "2022-03-21T13:59:20.863Z"
   },
   {
    "duration": 49,
    "start_time": "2022-03-21T13:59:38.927Z"
   },
   {
    "duration": 50,
    "start_time": "2022-03-21T13:59:43.552Z"
   },
   {
    "duration": 48,
    "start_time": "2022-03-21T13:59:50.046Z"
   },
   {
    "duration": 52,
    "start_time": "2022-03-21T14:00:07.928Z"
   },
   {
    "duration": 53,
    "start_time": "2022-03-21T14:00:23.473Z"
   },
   {
    "duration": 56,
    "start_time": "2022-03-21T14:00:59.772Z"
   },
   {
    "duration": 48,
    "start_time": "2022-03-21T14:01:43.987Z"
   },
   {
    "duration": 56,
    "start_time": "2022-03-21T14:04:09.953Z"
   },
   {
    "duration": 56,
    "start_time": "2022-03-21T14:04:13.816Z"
   },
   {
    "duration": 50,
    "start_time": "2022-03-21T14:04:19.329Z"
   },
   {
    "duration": 53,
    "start_time": "2022-03-21T14:04:35.832Z"
   },
   {
    "duration": 59,
    "start_time": "2022-03-21T14:05:07.288Z"
   },
   {
    "duration": 50,
    "start_time": "2022-03-21T14:05:28.978Z"
   },
   {
    "duration": 62,
    "start_time": "2022-03-21T14:05:35.736Z"
   },
   {
    "duration": 57,
    "start_time": "2022-03-21T14:05:45.694Z"
   },
   {
    "duration": 47,
    "start_time": "2022-03-21T14:06:48.505Z"
   },
   {
    "duration": 56,
    "start_time": "2022-03-21T14:06:57.823Z"
   },
   {
    "duration": 56,
    "start_time": "2022-03-21T14:07:11.420Z"
   },
   {
    "duration": 46,
    "start_time": "2022-03-21T14:07:20.805Z"
   },
   {
    "duration": 85,
    "start_time": "2022-03-21T14:08:07.001Z"
   },
   {
    "duration": 162,
    "start_time": "2022-03-21T14:08:17.466Z"
   },
   {
    "duration": 83,
    "start_time": "2022-03-21T14:09:18.321Z"
   },
   {
    "duration": 87,
    "start_time": "2022-03-21T14:09:33.781Z"
   },
   {
    "duration": 90,
    "start_time": "2022-03-21T14:09:42.963Z"
   },
   {
    "duration": 85,
    "start_time": "2022-03-21T14:09:53.910Z"
   },
   {
    "duration": 57,
    "start_time": "2022-03-21T14:21:38.697Z"
   },
   {
    "duration": 86,
    "start_time": "2022-03-21T14:21:43.253Z"
   },
   {
    "duration": 7,
    "start_time": "2022-03-21T14:23:37.873Z"
   },
   {
    "duration": 42,
    "start_time": "2022-03-21T14:23:38.748Z"
   },
   {
    "duration": 7,
    "start_time": "2022-03-21T14:23:47.107Z"
   },
   {
    "duration": 368,
    "start_time": "2022-03-21T14:23:47.516Z"
   },
   {
    "duration": 7,
    "start_time": "2022-03-21T14:24:10.029Z"
   },
   {
    "duration": 363,
    "start_time": "2022-03-21T14:24:11.429Z"
   },
   {
    "duration": 116,
    "start_time": "2022-03-21T14:24:39.297Z"
   },
   {
    "duration": 349,
    "start_time": "2022-03-21T14:24:45.415Z"
   },
   {
    "duration": 85,
    "start_time": "2022-03-21T14:24:55.650Z"
   },
   {
    "duration": 356,
    "start_time": "2022-03-21T14:25:36.045Z"
   },
   {
    "duration": 81,
    "start_time": "2022-03-21T14:25:47.089Z"
   },
   {
    "duration": 91,
    "start_time": "2022-03-21T14:26:45.776Z"
   },
   {
    "duration": 92,
    "start_time": "2022-03-21T14:26:53.945Z"
   },
   {
    "duration": 79,
    "start_time": "2022-03-21T14:27:04.032Z"
   },
   {
    "duration": 309,
    "start_time": "2022-03-21T14:27:17.405Z"
   },
   {
    "duration": 283,
    "start_time": "2022-03-21T14:27:47.955Z"
   },
   {
    "duration": 6,
    "start_time": "2022-03-21T14:28:08.202Z"
   },
   {
    "duration": 974,
    "start_time": "2022-03-21T14:28:09.109Z"
   },
   {
    "duration": 7,
    "start_time": "2022-03-21T17:02:27.245Z"
   },
   {
    "duration": 9,
    "start_time": "2022-03-21T17:02:27.256Z"
   },
   {
    "duration": 2397,
    "start_time": "2022-03-21T17:02:27.268Z"
   },
   {
    "duration": 6,
    "start_time": "2022-03-21T17:02:29.673Z"
   },
   {
    "duration": 803,
    "start_time": "2022-03-21T17:02:29.681Z"
   },
   {
    "duration": 4,
    "start_time": "2022-03-21T17:02:30.488Z"
   },
   {
    "duration": 31,
    "start_time": "2022-03-21T17:02:30.495Z"
   },
   {
    "duration": 22,
    "start_time": "2022-03-21T17:02:30.528Z"
   },
   {
    "duration": 23,
    "start_time": "2022-03-21T17:02:30.552Z"
   },
   {
    "duration": 35,
    "start_time": "2022-03-21T17:02:30.578Z"
   },
   {
    "duration": 18,
    "start_time": "2022-03-21T17:02:30.615Z"
   },
   {
    "duration": 47,
    "start_time": "2022-03-21T17:02:30.637Z"
   },
   {
    "duration": 22,
    "start_time": "2022-03-21T17:02:30.686Z"
   },
   {
    "duration": 671,
    "start_time": "2022-03-21T17:02:30.710Z"
   },
   {
    "duration": 700,
    "start_time": "2022-03-21T17:02:31.383Z"
   },
   {
    "duration": 668,
    "start_time": "2022-03-21T17:02:32.085Z"
   },
   {
    "duration": 71,
    "start_time": "2022-03-21T17:02:32.756Z"
   },
   {
    "duration": 21,
    "start_time": "2022-03-21T17:02:32.829Z"
   },
   {
    "duration": 5,
    "start_time": "2022-03-21T17:02:32.852Z"
   },
   {
    "duration": 64,
    "start_time": "2022-03-21T17:02:32.875Z"
   },
   {
    "duration": 6,
    "start_time": "2022-03-21T17:02:32.941Z"
   },
   {
    "duration": 129,
    "start_time": "2022-03-21T17:02:32.949Z"
   },
   {
    "duration": 433,
    "start_time": "2022-03-21T17:02:33.080Z"
   },
   {
    "duration": 438,
    "start_time": "2022-03-21T17:02:33.517Z"
   },
   {
    "duration": 435,
    "start_time": "2022-03-21T17:02:33.957Z"
   },
   {
    "duration": 53,
    "start_time": "2022-03-21T17:02:34.394Z"
   },
   {
    "duration": 6,
    "start_time": "2022-03-21T17:02:34.450Z"
   },
   {
    "duration": 57,
    "start_time": "2022-03-21T17:02:34.474Z"
   },
   {
    "duration": 6,
    "start_time": "2022-03-21T17:02:34.534Z"
   },
   {
    "duration": 114,
    "start_time": "2022-03-21T17:02:34.546Z"
   },
   {
    "duration": 56,
    "start_time": "2022-03-21T17:02:34.674Z"
   },
   {
    "duration": 89,
    "start_time": "2022-03-21T17:02:34.732Z"
   },
   {
    "duration": 104,
    "start_time": "2022-03-21T17:02:34.823Z"
   },
   {
    "duration": 4,
    "start_time": "2022-03-21T17:02:34.930Z"
   },
   {
    "duration": 37,
    "start_time": "2022-03-21T17:02:34.937Z"
   },
   {
    "duration": 7519,
    "start_time": "2022-03-21T17:02:34.977Z"
   },
   {
    "duration": 7,
    "start_time": "2022-03-21T17:02:42.498Z"
   },
   {
    "duration": 1412,
    "start_time": "2022-03-21T17:02:42.508Z"
   },
   {
    "duration": 7,
    "start_time": "2022-03-21T17:02:43.922Z"
   },
   {
    "duration": 1022,
    "start_time": "2022-03-21T17:02:43.932Z"
   },
   {
    "duration": 424,
    "start_time": "2022-03-21T17:02:44.957Z"
   },
   {
    "duration": 4,
    "start_time": "2022-03-21T17:02:45.384Z"
   },
   {
    "duration": 7,
    "start_time": "2022-03-21T17:02:45.391Z"
   },
   {
    "duration": 276,
    "start_time": "2022-03-21T17:02:45.400Z"
   },
   {
    "duration": 752,
    "start_time": "2022-03-21T17:02:45.678Z"
   },
   {
    "duration": 17,
    "start_time": "2022-03-21T17:02:46.433Z"
   },
   {
    "duration": 29,
    "start_time": "2022-03-21T17:02:46.453Z"
   },
   {
    "duration": 5,
    "start_time": "2022-03-21T17:02:46.485Z"
   },
   {
    "duration": 32,
    "start_time": "2022-03-21T17:02:46.494Z"
   },
   {
    "duration": 1547,
    "start_time": "2022-03-21T17:02:46.528Z"
   },
   {
    "duration": 0,
    "start_time": "2022-03-21T17:02:48.078Z"
   },
   {
    "duration": 0,
    "start_time": "2022-03-21T17:02:48.079Z"
   },
   {
    "duration": 0,
    "start_time": "2022-03-21T17:02:48.081Z"
   },
   {
    "duration": 0,
    "start_time": "2022-03-21T17:02:48.082Z"
   },
   {
    "duration": 0,
    "start_time": "2022-03-21T17:02:48.083Z"
   },
   {
    "duration": 0,
    "start_time": "2022-03-21T17:02:48.085Z"
   },
   {
    "duration": 0,
    "start_time": "2022-03-21T17:02:48.086Z"
   },
   {
    "duration": 0,
    "start_time": "2022-03-21T17:02:48.088Z"
   },
   {
    "duration": 0,
    "start_time": "2022-03-21T17:02:48.090Z"
   },
   {
    "duration": 0,
    "start_time": "2022-03-21T17:02:48.091Z"
   },
   {
    "duration": 0,
    "start_time": "2022-03-21T17:02:48.092Z"
   },
   {
    "duration": 0,
    "start_time": "2022-03-21T17:02:48.093Z"
   },
   {
    "duration": 0,
    "start_time": "2022-03-21T17:02:48.094Z"
   },
   {
    "duration": 0,
    "start_time": "2022-03-21T17:02:48.095Z"
   },
   {
    "duration": 0,
    "start_time": "2022-03-21T17:02:48.097Z"
   },
   {
    "duration": 0,
    "start_time": "2022-03-21T17:02:48.098Z"
   },
   {
    "duration": 0,
    "start_time": "2022-03-21T17:02:48.100Z"
   },
   {
    "duration": 0,
    "start_time": "2022-03-21T17:02:48.101Z"
   },
   {
    "duration": 0,
    "start_time": "2022-03-21T17:02:48.102Z"
   },
   {
    "duration": 0,
    "start_time": "2022-03-21T17:02:48.104Z"
   },
   {
    "duration": 0,
    "start_time": "2022-03-21T17:02:48.106Z"
   },
   {
    "duration": 0,
    "start_time": "2022-03-21T17:02:48.107Z"
   },
   {
    "duration": 0,
    "start_time": "2022-03-21T17:02:48.109Z"
   },
   {
    "duration": 1561,
    "start_time": "2022-03-21T17:04:27.037Z"
   },
   {
    "duration": 32,
    "start_time": "2022-03-21T17:04:50.431Z"
   },
   {
    "duration": 1479,
    "start_time": "2022-03-21T17:04:52.010Z"
   },
   {
    "duration": 1058,
    "start_time": "2022-03-21T17:04:57.198Z"
   },
   {
    "duration": 730,
    "start_time": "2022-03-21T17:04:58.260Z"
   },
   {
    "duration": 687,
    "start_time": "2022-03-21T17:04:58.992Z"
   },
   {
    "duration": 0,
    "start_time": "2022-03-21T17:04:59.684Z"
   },
   {
    "duration": 0,
    "start_time": "2022-03-21T17:04:59.686Z"
   },
   {
    "duration": 1,
    "start_time": "2022-03-21T17:04:59.688Z"
   },
   {
    "duration": 0,
    "start_time": "2022-03-21T17:04:59.690Z"
   },
   {
    "duration": 0,
    "start_time": "2022-03-21T17:04:59.693Z"
   },
   {
    "duration": 0,
    "start_time": "2022-03-21T17:04:59.695Z"
   },
   {
    "duration": 0,
    "start_time": "2022-03-21T17:04:59.697Z"
   },
   {
    "duration": 0,
    "start_time": "2022-03-21T17:04:59.706Z"
   },
   {
    "duration": 0,
    "start_time": "2022-03-21T17:04:59.708Z"
   },
   {
    "duration": 0,
    "start_time": "2022-03-21T17:04:59.710Z"
   },
   {
    "duration": 0,
    "start_time": "2022-03-21T17:04:59.713Z"
   },
   {
    "duration": 0,
    "start_time": "2022-03-21T17:04:59.715Z"
   },
   {
    "duration": 0,
    "start_time": "2022-03-21T17:04:59.717Z"
   },
   {
    "duration": 0,
    "start_time": "2022-03-21T17:04:59.775Z"
   },
   {
    "duration": 0,
    "start_time": "2022-03-21T17:04:59.777Z"
   },
   {
    "duration": 0,
    "start_time": "2022-03-21T17:04:59.779Z"
   },
   {
    "duration": 0,
    "start_time": "2022-03-21T17:04:59.781Z"
   },
   {
    "duration": 0,
    "start_time": "2022-03-21T17:04:59.783Z"
   },
   {
    "duration": 1,
    "start_time": "2022-03-21T17:04:59.784Z"
   },
   {
    "duration": 0,
    "start_time": "2022-03-21T17:04:59.786Z"
   },
   {
    "duration": 2127,
    "start_time": "2022-03-22T08:27:03.002Z"
   },
   {
    "duration": 5,
    "start_time": "2022-03-22T08:27:05.131Z"
   },
   {
    "duration": 1665,
    "start_time": "2022-03-22T08:27:05.137Z"
   },
   {
    "duration": 4,
    "start_time": "2022-03-22T08:27:06.804Z"
   },
   {
    "duration": 652,
    "start_time": "2022-03-22T08:27:06.809Z"
   },
   {
    "duration": 3,
    "start_time": "2022-03-22T08:27:07.463Z"
   },
   {
    "duration": 13,
    "start_time": "2022-03-22T08:27:07.468Z"
   },
   {
    "duration": 24,
    "start_time": "2022-03-22T08:27:07.483Z"
   },
   {
    "duration": 5,
    "start_time": "2022-03-22T08:27:07.509Z"
   },
   {
    "duration": 14,
    "start_time": "2022-03-22T08:27:07.517Z"
   },
   {
    "duration": 4,
    "start_time": "2022-03-22T08:27:07.533Z"
   },
   {
    "duration": 19,
    "start_time": "2022-03-22T08:27:07.538Z"
   },
   {
    "duration": 50,
    "start_time": "2022-03-22T08:27:07.558Z"
   },
   {
    "duration": 376,
    "start_time": "2022-03-22T08:27:07.610Z"
   },
   {
    "duration": 426,
    "start_time": "2022-03-22T08:27:07.987Z"
   },
   {
    "duration": 383,
    "start_time": "2022-03-22T08:27:08.414Z"
   },
   {
    "duration": 35,
    "start_time": "2022-03-22T08:27:08.798Z"
   },
   {
    "duration": 15,
    "start_time": "2022-03-22T08:27:08.834Z"
   },
   {
    "duration": 3,
    "start_time": "2022-03-22T08:27:08.851Z"
   },
   {
    "duration": 63,
    "start_time": "2022-03-22T08:27:08.856Z"
   },
   {
    "duration": 4,
    "start_time": "2022-03-22T08:27:08.921Z"
   },
   {
    "duration": 88,
    "start_time": "2022-03-22T08:27:08.926Z"
   },
   {
    "duration": 261,
    "start_time": "2022-03-22T08:27:09.015Z"
   },
   {
    "duration": 256,
    "start_time": "2022-03-22T08:27:09.278Z"
   },
   {
    "duration": 256,
    "start_time": "2022-03-22T08:27:09.536Z"
   },
   {
    "duration": 37,
    "start_time": "2022-03-22T08:27:09.794Z"
   },
   {
    "duration": 3,
    "start_time": "2022-03-22T08:27:09.833Z"
   },
   {
    "duration": 28,
    "start_time": "2022-03-22T08:27:09.840Z"
   },
   {
    "duration": 4,
    "start_time": "2022-03-22T08:27:09.869Z"
   },
   {
    "duration": 98,
    "start_time": "2022-03-22T08:27:09.875Z"
   },
   {
    "duration": 48,
    "start_time": "2022-03-22T08:27:09.975Z"
   },
   {
    "duration": 80,
    "start_time": "2022-03-22T08:27:10.024Z"
   },
   {
    "duration": 72,
    "start_time": "2022-03-22T08:27:10.105Z"
   },
   {
    "duration": 3,
    "start_time": "2022-03-22T08:27:10.178Z"
   },
   {
    "duration": 24,
    "start_time": "2022-03-22T08:27:10.182Z"
   },
   {
    "duration": 4804,
    "start_time": "2022-03-22T08:27:10.208Z"
   },
   {
    "duration": 4,
    "start_time": "2022-03-22T08:27:15.014Z"
   },
   {
    "duration": 836,
    "start_time": "2022-03-22T08:27:15.020Z"
   },
   {
    "duration": 4,
    "start_time": "2022-03-22T08:27:15.858Z"
   },
   {
    "duration": 512,
    "start_time": "2022-03-22T08:27:15.863Z"
   },
   {
    "duration": 325,
    "start_time": "2022-03-22T08:27:16.377Z"
   },
   {
    "duration": 3,
    "start_time": "2022-03-22T08:27:16.703Z"
   },
   {
    "duration": 10,
    "start_time": "2022-03-22T08:27:16.707Z"
   },
   {
    "duration": 168,
    "start_time": "2022-03-22T08:27:16.719Z"
   },
   {
    "duration": 401,
    "start_time": "2022-03-22T08:27:16.888Z"
   },
   {
    "duration": 19,
    "start_time": "2022-03-22T08:27:17.291Z"
   },
   {
    "duration": 30,
    "start_time": "2022-03-22T08:27:17.312Z"
   },
   {
    "duration": 3,
    "start_time": "2022-03-22T08:27:17.344Z"
   },
   {
    "duration": 20,
    "start_time": "2022-03-22T08:27:17.349Z"
   },
   {
    "duration": 846,
    "start_time": "2022-03-22T08:27:17.370Z"
   },
   {
    "duration": 606,
    "start_time": "2022-03-22T08:27:18.218Z"
   },
   {
    "duration": 395,
    "start_time": "2022-03-22T08:27:18.826Z"
   },
   {
    "duration": 507,
    "start_time": "2022-03-22T08:27:19.223Z"
   },
   {
    "duration": 0,
    "start_time": "2022-03-22T08:27:19.732Z"
   },
   {
    "duration": 0,
    "start_time": "2022-03-22T08:27:19.733Z"
   },
   {
    "duration": 0,
    "start_time": "2022-03-22T08:27:19.734Z"
   },
   {
    "duration": 0,
    "start_time": "2022-03-22T08:27:19.735Z"
   },
   {
    "duration": 0,
    "start_time": "2022-03-22T08:27:19.736Z"
   },
   {
    "duration": 0,
    "start_time": "2022-03-22T08:27:19.736Z"
   },
   {
    "duration": 0,
    "start_time": "2022-03-22T08:27:19.737Z"
   },
   {
    "duration": 0,
    "start_time": "2022-03-22T08:27:19.738Z"
   },
   {
    "duration": 0,
    "start_time": "2022-03-22T08:27:19.739Z"
   },
   {
    "duration": 0,
    "start_time": "2022-03-22T08:27:19.740Z"
   },
   {
    "duration": 0,
    "start_time": "2022-03-22T08:27:19.741Z"
   },
   {
    "duration": 0,
    "start_time": "2022-03-22T08:27:19.742Z"
   },
   {
    "duration": 0,
    "start_time": "2022-03-22T08:27:19.743Z"
   },
   {
    "duration": 0,
    "start_time": "2022-03-22T08:27:19.744Z"
   },
   {
    "duration": 0,
    "start_time": "2022-03-22T08:27:19.745Z"
   },
   {
    "duration": 0,
    "start_time": "2022-03-22T08:27:19.746Z"
   },
   {
    "duration": 0,
    "start_time": "2022-03-22T08:27:19.747Z"
   },
   {
    "duration": 0,
    "start_time": "2022-03-22T08:27:19.748Z"
   },
   {
    "duration": 0,
    "start_time": "2022-03-22T08:27:19.749Z"
   },
   {
    "duration": 0,
    "start_time": "2022-03-22T08:27:19.750Z"
   },
   {
    "duration": 20,
    "start_time": "2022-03-22T08:44:42.561Z"
   },
   {
    "duration": 844,
    "start_time": "2022-03-22T08:44:43.957Z"
   },
   {
    "duration": 596,
    "start_time": "2022-03-22T08:44:45.316Z"
   },
   {
    "duration": 387,
    "start_time": "2022-03-22T08:44:45.914Z"
   },
   {
    "duration": 940,
    "start_time": "2022-03-22T08:44:46.303Z"
   },
   {
    "duration": 960,
    "start_time": "2022-03-22T08:45:04.153Z"
   },
   {
    "duration": 19,
    "start_time": "2022-03-22T08:45:57.762Z"
   },
   {
    "duration": 867,
    "start_time": "2022-03-22T08:45:58.785Z"
   },
   {
    "duration": 626,
    "start_time": "2022-03-22T08:45:59.654Z"
   },
   {
    "duration": 491,
    "start_time": "2022-03-22T08:46:00.282Z"
   },
   {
    "duration": 565,
    "start_time": "2022-03-22T08:46:00.775Z"
   },
   {
    "duration": 107,
    "start_time": "2022-03-22T08:46:44.094Z"
   },
   {
    "duration": 806,
    "start_time": "2022-03-22T08:46:44.718Z"
   },
   {
    "duration": 591,
    "start_time": "2022-03-22T08:46:45.526Z"
   },
   {
    "duration": 368,
    "start_time": "2022-03-22T08:46:46.118Z"
   },
   {
    "duration": 907,
    "start_time": "2022-03-22T08:46:46.488Z"
   },
   {
    "duration": 20,
    "start_time": "2022-03-22T08:48:55.609Z"
   },
   {
    "duration": 1106,
    "start_time": "2022-03-22T08:48:56.166Z"
   },
   {
    "duration": 604,
    "start_time": "2022-03-22T08:48:57.274Z"
   },
   {
    "duration": 372,
    "start_time": "2022-03-22T08:48:57.879Z"
   },
   {
    "duration": 511,
    "start_time": "2022-03-22T08:48:58.252Z"
   },
   {
    "duration": 22,
    "start_time": "2022-03-22T08:53:16.044Z"
   },
   {
    "duration": 833,
    "start_time": "2022-03-22T08:53:16.951Z"
   },
   {
    "duration": 607,
    "start_time": "2022-03-22T08:53:17.786Z"
   },
   {
    "duration": 369,
    "start_time": "2022-03-22T08:53:18.395Z"
   },
   {
    "duration": 1246,
    "start_time": "2022-03-22T08:53:18.765Z"
   },
   {
    "duration": 10,
    "start_time": "2022-03-22T08:54:35.871Z"
   },
   {
    "duration": 0,
    "start_time": "2022-03-22T08:54:35.883Z"
   },
   {
    "duration": 3,
    "start_time": "2022-03-22T08:54:35.887Z"
   },
   {
    "duration": 17,
    "start_time": "2022-03-22T08:54:35.893Z"
   },
   {
    "duration": 0,
    "start_time": "2022-03-22T08:54:35.912Z"
   },
   {
    "duration": 11387,
    "start_time": "2022-03-22T08:54:35.914Z"
   },
   {
    "duration": 0,
    "start_time": "2022-03-22T09:11:08.583Z"
   },
   {
    "duration": 0,
    "start_time": "2022-03-22T09:11:08.584Z"
   },
   {
    "duration": 0,
    "start_time": "2022-03-22T09:11:08.585Z"
   },
   {
    "duration": 0,
    "start_time": "2022-03-22T09:11:08.586Z"
   },
   {
    "duration": 0,
    "start_time": "2022-03-22T09:11:08.588Z"
   },
   {
    "duration": 0,
    "start_time": "2022-03-22T09:11:08.589Z"
   },
   {
    "duration": 0,
    "start_time": "2022-03-22T09:11:08.590Z"
   },
   {
    "duration": 1,
    "start_time": "2022-03-22T09:11:08.590Z"
   },
   {
    "duration": 0,
    "start_time": "2022-03-22T09:11:08.591Z"
   },
   {
    "duration": 0,
    "start_time": "2022-03-22T09:11:08.593Z"
   },
   {
    "duration": 0,
    "start_time": "2022-03-22T09:11:08.594Z"
   },
   {
    "duration": 0,
    "start_time": "2022-03-22T09:11:08.595Z"
   },
   {
    "duration": 0,
    "start_time": "2022-03-22T09:11:08.596Z"
   },
   {
    "duration": 0,
    "start_time": "2022-03-22T09:11:08.596Z"
   },
   {
    "duration": 0,
    "start_time": "2022-03-22T09:11:08.597Z"
   },
   {
    "duration": 0,
    "start_time": "2022-03-22T09:11:08.598Z"
   },
   {
    "duration": 0,
    "start_time": "2022-03-22T09:11:08.600Z"
   },
   {
    "duration": 0,
    "start_time": "2022-03-22T09:11:08.601Z"
   },
   {
    "duration": 0,
    "start_time": "2022-03-22T09:11:08.602Z"
   },
   {
    "duration": 0,
    "start_time": "2022-03-22T09:11:08.603Z"
   },
   {
    "duration": 4,
    "start_time": "2022-03-22T09:21:19.230Z"
   },
   {
    "duration": 6,
    "start_time": "2022-03-22T09:21:19.236Z"
   },
   {
    "duration": 1499,
    "start_time": "2022-03-22T09:21:19.243Z"
   },
   {
    "duration": 4,
    "start_time": "2022-03-22T09:21:20.744Z"
   },
   {
    "duration": 633,
    "start_time": "2022-03-22T09:21:20.750Z"
   },
   {
    "duration": 2,
    "start_time": "2022-03-22T09:21:21.386Z"
   },
   {
    "duration": 12,
    "start_time": "2022-03-22T09:21:21.401Z"
   },
   {
    "duration": 8,
    "start_time": "2022-03-22T09:21:21.415Z"
   },
   {
    "duration": 5,
    "start_time": "2022-03-22T09:21:21.425Z"
   },
   {
    "duration": 18,
    "start_time": "2022-03-22T09:21:21.432Z"
   },
   {
    "duration": 6,
    "start_time": "2022-03-22T09:21:21.451Z"
   },
   {
    "duration": 59,
    "start_time": "2022-03-22T09:21:21.460Z"
   },
   {
    "duration": 17,
    "start_time": "2022-03-22T09:21:21.520Z"
   },
   {
    "duration": 396,
    "start_time": "2022-03-22T09:21:21.539Z"
   },
   {
    "duration": 424,
    "start_time": "2022-03-22T09:21:21.936Z"
   },
   {
    "duration": 361,
    "start_time": "2022-03-22T09:21:22.362Z"
   },
   {
    "duration": 34,
    "start_time": "2022-03-22T09:21:22.725Z"
   },
   {
    "duration": 12,
    "start_time": "2022-03-22T09:21:22.761Z"
   },
   {
    "duration": 4,
    "start_time": "2022-03-22T09:21:22.774Z"
   },
   {
    "duration": 57,
    "start_time": "2022-03-22T09:21:22.779Z"
   },
   {
    "duration": 3,
    "start_time": "2022-03-22T09:21:22.838Z"
   },
   {
    "duration": 96,
    "start_time": "2022-03-22T09:21:22.843Z"
   },
   {
    "duration": 260,
    "start_time": "2022-03-22T09:21:22.941Z"
   },
   {
    "duration": 255,
    "start_time": "2022-03-22T09:21:23.203Z"
   },
   {
    "duration": 269,
    "start_time": "2022-03-22T09:21:23.459Z"
   },
   {
    "duration": 32,
    "start_time": "2022-03-22T09:21:23.730Z"
   },
   {
    "duration": 4,
    "start_time": "2022-03-22T09:21:23.764Z"
   },
   {
    "duration": 44,
    "start_time": "2022-03-22T09:21:23.769Z"
   },
   {
    "duration": 4,
    "start_time": "2022-03-22T09:21:23.814Z"
   },
   {
    "duration": 88,
    "start_time": "2022-03-22T09:21:23.822Z"
   },
   {
    "duration": 39,
    "start_time": "2022-03-22T09:21:23.912Z"
   },
   {
    "duration": 78,
    "start_time": "2022-03-22T09:21:23.952Z"
   },
   {
    "duration": 77,
    "start_time": "2022-03-22T09:21:24.032Z"
   },
   {
    "duration": 2,
    "start_time": "2022-03-22T09:21:24.111Z"
   },
   {
    "duration": 7,
    "start_time": "2022-03-22T09:21:24.115Z"
   },
   {
    "duration": 4823,
    "start_time": "2022-03-22T09:21:24.123Z"
   },
   {
    "duration": 5,
    "start_time": "2022-03-22T09:21:28.947Z"
   },
   {
    "duration": 933,
    "start_time": "2022-03-22T09:21:28.954Z"
   },
   {
    "duration": 5,
    "start_time": "2022-03-22T09:21:29.888Z"
   },
   {
    "duration": 551,
    "start_time": "2022-03-22T09:21:29.895Z"
   },
   {
    "duration": 338,
    "start_time": "2022-03-22T09:21:30.448Z"
   },
   {
    "duration": 13,
    "start_time": "2022-03-22T09:21:30.788Z"
   },
   {
    "duration": 19,
    "start_time": "2022-03-22T09:21:30.803Z"
   },
   {
    "duration": 220,
    "start_time": "2022-03-22T09:21:30.824Z"
   },
   {
    "duration": 439,
    "start_time": "2022-03-22T09:21:31.046Z"
   },
   {
    "duration": 16,
    "start_time": "2022-03-22T09:21:31.488Z"
   },
   {
    "duration": 13,
    "start_time": "2022-03-22T09:21:31.506Z"
   },
   {
    "duration": 10,
    "start_time": "2022-03-22T09:21:31.521Z"
   },
   {
    "duration": 23,
    "start_time": "2022-03-22T09:21:31.532Z"
   },
   {
    "duration": 1000,
    "start_time": "2022-03-22T09:21:31.557Z"
   },
   {
    "duration": 656,
    "start_time": "2022-03-22T09:21:32.559Z"
   },
   {
    "duration": 371,
    "start_time": "2022-03-22T09:21:33.217Z"
   },
   {
    "duration": 1258,
    "start_time": "2022-03-22T09:21:33.590Z"
   },
   {
    "duration": 5,
    "start_time": "2022-03-22T09:21:34.850Z"
   },
   {
    "duration": 20,
    "start_time": "2022-03-22T09:21:34.856Z"
   },
   {
    "duration": 0,
    "start_time": "2022-03-22T09:21:34.878Z"
   },
   {
    "duration": 0,
    "start_time": "2022-03-22T09:21:34.879Z"
   },
   {
    "duration": 0,
    "start_time": "2022-03-22T09:21:34.881Z"
   },
   {
    "duration": 0,
    "start_time": "2022-03-22T09:21:34.882Z"
   },
   {
    "duration": 0,
    "start_time": "2022-03-22T09:21:34.883Z"
   },
   {
    "duration": 0,
    "start_time": "2022-03-22T09:21:34.884Z"
   },
   {
    "duration": 0,
    "start_time": "2022-03-22T09:21:34.902Z"
   },
   {
    "duration": 0,
    "start_time": "2022-03-22T09:21:34.903Z"
   },
   {
    "duration": 0,
    "start_time": "2022-03-22T09:21:34.904Z"
   },
   {
    "duration": 0,
    "start_time": "2022-03-22T09:21:34.905Z"
   },
   {
    "duration": 0,
    "start_time": "2022-03-22T09:21:34.907Z"
   },
   {
    "duration": 0,
    "start_time": "2022-03-22T09:21:34.908Z"
   },
   {
    "duration": 0,
    "start_time": "2022-03-22T09:21:34.909Z"
   },
   {
    "duration": 0,
    "start_time": "2022-03-22T09:21:34.910Z"
   },
   {
    "duration": 0,
    "start_time": "2022-03-22T09:21:34.911Z"
   },
   {
    "duration": 0,
    "start_time": "2022-03-22T09:21:34.913Z"
   },
   {
    "duration": 0,
    "start_time": "2022-03-22T09:21:34.914Z"
   },
   {
    "duration": 0,
    "start_time": "2022-03-22T09:21:34.915Z"
   },
   {
    "duration": 222,
    "start_time": "2022-03-22T09:22:56.117Z"
   },
   {
    "duration": 21,
    "start_time": "2022-03-22T09:25:48.933Z"
   },
   {
    "duration": 975,
    "start_time": "2022-03-22T09:25:50.082Z"
   },
   {
    "duration": 643,
    "start_time": "2022-03-22T09:25:51.058Z"
   },
   {
    "duration": 365,
    "start_time": "2022-03-22T09:25:51.703Z"
   },
   {
    "duration": 1240,
    "start_time": "2022-03-22T09:25:52.069Z"
   },
   {
    "duration": 5,
    "start_time": "2022-03-22T09:25:53.311Z"
   },
   {
    "duration": 12672,
    "start_time": "2022-03-22T09:25:58.182Z"
   },
   {
    "duration": 5,
    "start_time": "2022-03-22T09:30:43.636Z"
   },
   {
    "duration": 11435,
    "start_time": "2022-03-22T09:30:44.455Z"
   },
   {
    "duration": 30187,
    "start_time": "2022-03-22T09:31:19.158Z"
   },
   {
    "duration": 24,
    "start_time": "2022-03-22T09:34:09.864Z"
   },
   {
    "duration": 891,
    "start_time": "2022-03-22T09:34:10.887Z"
   },
   {
    "duration": 605,
    "start_time": "2022-03-22T09:34:11.780Z"
   },
   {
    "duration": 392,
    "start_time": "2022-03-22T09:34:12.387Z"
   },
   {
    "duration": 1336,
    "start_time": "2022-03-22T09:34:12.781Z"
   },
   {
    "duration": 4,
    "start_time": "2022-03-22T09:34:14.119Z"
   },
   {
    "duration": 41975,
    "start_time": "2022-03-22T09:34:14.125Z"
   },
   {
    "duration": 42507,
    "start_time": "2022-03-22T09:35:07.233Z"
   },
   {
    "duration": 159719,
    "start_time": "2022-03-22T09:35:58.044Z"
   },
   {
    "duration": 172126,
    "start_time": "2022-03-22T09:39:27.435Z"
   },
   {
    "duration": 20,
    "start_time": "2022-03-22T10:24:53.575Z"
   },
   {
    "duration": 881,
    "start_time": "2022-03-22T10:24:54.391Z"
   },
   {
    "duration": 613,
    "start_time": "2022-03-22T10:24:55.275Z"
   },
   {
    "duration": 411,
    "start_time": "2022-03-22T10:24:55.890Z"
   },
   {
    "duration": 1279,
    "start_time": "2022-03-22T10:24:56.303Z"
   },
   {
    "duration": 5,
    "start_time": "2022-03-22T10:24:57.583Z"
   },
   {
    "duration": 163750,
    "start_time": "2022-03-22T10:24:58.080Z"
   },
   {
    "duration": 9,
    "start_time": "2022-03-22T10:33:16.459Z"
   },
   {
    "duration": 195,
    "start_time": "2022-03-22T11:46:06.226Z"
   },
   {
    "duration": 236,
    "start_time": "2022-03-22T11:46:29.656Z"
   },
   {
    "duration": 20,
    "start_time": "2022-03-22T11:46:55.823Z"
   },
   {
    "duration": 863,
    "start_time": "2022-03-22T11:47:05.438Z"
   },
   {
    "duration": 598,
    "start_time": "2022-03-22T11:47:06.542Z"
   },
   {
    "duration": 388,
    "start_time": "2022-03-22T11:47:07.142Z"
   },
   {
    "duration": 370,
    "start_time": "2022-03-22T11:47:07.532Z"
   },
   {
    "duration": 21,
    "start_time": "2022-03-22T11:47:43.990Z"
   },
   {
    "duration": 826,
    "start_time": "2022-03-22T11:47:45.411Z"
   },
   {
    "duration": 597,
    "start_time": "2022-03-22T11:47:46.239Z"
   },
   {
    "duration": 372,
    "start_time": "2022-03-22T11:47:46.838Z"
   },
   {
    "duration": 359,
    "start_time": "2022-03-22T11:47:47.211Z"
   },
   {
    "duration": 20,
    "start_time": "2022-03-22T11:49:44.490Z"
   },
   {
    "duration": 1354,
    "start_time": "2022-03-22T11:49:47.693Z"
   },
   {
    "duration": 892,
    "start_time": "2022-03-22T11:49:49.049Z"
   },
   {
    "duration": 569,
    "start_time": "2022-03-22T11:49:49.943Z"
   },
   {
    "duration": 581,
    "start_time": "2022-03-22T11:49:51.111Z"
   },
   {
    "duration": 144,
    "start_time": "2022-03-22T11:53:02.367Z"
   },
   {
    "duration": 849,
    "start_time": "2022-03-22T11:53:03.132Z"
   },
   {
    "duration": 622,
    "start_time": "2022-03-22T11:53:03.983Z"
   },
   {
    "duration": 379,
    "start_time": "2022-03-22T11:53:04.607Z"
   },
   {
    "duration": 1282,
    "start_time": "2022-03-22T11:53:05.240Z"
   },
   {
    "duration": 7,
    "start_time": "2022-03-22T11:54:13.465Z"
   },
   {
    "duration": 144200,
    "start_time": "2022-03-22T11:54:19.507Z"
   },
   {
    "duration": 21,
    "start_time": "2022-03-22T11:59:41.816Z"
   },
   {
    "duration": 846,
    "start_time": "2022-03-22T11:59:43.030Z"
   },
   {
    "duration": 591,
    "start_time": "2022-03-22T11:59:43.878Z"
   },
   {
    "duration": 387,
    "start_time": "2022-03-22T11:59:44.471Z"
   },
   {
    "duration": 1171,
    "start_time": "2022-03-22T11:59:44.860Z"
   },
   {
    "duration": 4,
    "start_time": "2022-03-22T11:59:46.033Z"
   },
   {
    "duration": 1878,
    "start_time": "2022-03-22T12:01:43.933Z"
   },
   {
    "duration": 5,
    "start_time": "2022-03-22T12:01:45.814Z"
   },
   {
    "duration": 1593,
    "start_time": "2022-03-22T12:01:45.820Z"
   },
   {
    "duration": 5,
    "start_time": "2022-03-22T12:01:47.416Z"
   },
   {
    "duration": 595,
    "start_time": "2022-03-22T12:01:47.422Z"
   },
   {
    "duration": 2,
    "start_time": "2022-03-22T12:01:48.019Z"
   },
   {
    "duration": 17,
    "start_time": "2022-03-22T12:01:48.023Z"
   },
   {
    "duration": 8,
    "start_time": "2022-03-22T12:01:48.041Z"
   },
   {
    "duration": 5,
    "start_time": "2022-03-22T12:01:48.050Z"
   },
   {
    "duration": 45,
    "start_time": "2022-03-22T12:01:48.058Z"
   },
   {
    "duration": 6,
    "start_time": "2022-03-22T12:01:48.105Z"
   },
   {
    "duration": 21,
    "start_time": "2022-03-22T12:01:48.113Z"
   },
   {
    "duration": 15,
    "start_time": "2022-03-22T12:01:48.136Z"
   },
   {
    "duration": 401,
    "start_time": "2022-03-22T12:01:48.153Z"
   },
   {
    "duration": 555,
    "start_time": "2022-03-22T12:01:48.556Z"
   },
   {
    "duration": 418,
    "start_time": "2022-03-22T12:01:49.112Z"
   },
   {
    "duration": 40,
    "start_time": "2022-03-22T12:01:49.532Z"
   },
   {
    "duration": 32,
    "start_time": "2022-03-22T12:01:49.575Z"
   },
   {
    "duration": 4,
    "start_time": "2022-03-22T12:01:49.609Z"
   },
   {
    "duration": 44,
    "start_time": "2022-03-22T12:01:49.615Z"
   },
   {
    "duration": 4,
    "start_time": "2022-03-22T12:01:49.661Z"
   },
   {
    "duration": 99,
    "start_time": "2022-03-22T12:01:49.667Z"
   },
   {
    "duration": 267,
    "start_time": "2022-03-22T12:01:49.768Z"
   },
   {
    "duration": 258,
    "start_time": "2022-03-22T12:01:50.037Z"
   },
   {
    "duration": 262,
    "start_time": "2022-03-22T12:01:50.300Z"
   },
   {
    "duration": 42,
    "start_time": "2022-03-22T12:01:50.564Z"
   },
   {
    "duration": 4,
    "start_time": "2022-03-22T12:01:50.608Z"
   },
   {
    "duration": 25,
    "start_time": "2022-03-22T12:01:50.616Z"
   },
   {
    "duration": 4,
    "start_time": "2022-03-22T12:01:50.643Z"
   },
   {
    "duration": 99,
    "start_time": "2022-03-22T12:01:50.648Z"
   },
   {
    "duration": 37,
    "start_time": "2022-03-22T12:01:50.749Z"
   },
   {
    "duration": 72,
    "start_time": "2022-03-22T12:01:50.788Z"
   },
   {
    "duration": 81,
    "start_time": "2022-03-22T12:01:50.862Z"
   },
   {
    "duration": 2,
    "start_time": "2022-03-22T12:01:50.945Z"
   },
   {
    "duration": 7,
    "start_time": "2022-03-22T12:01:50.949Z"
   },
   {
    "duration": 4746,
    "start_time": "2022-03-22T12:01:50.957Z"
   },
   {
    "duration": 6,
    "start_time": "2022-03-22T12:01:55.704Z"
   },
   {
    "duration": 793,
    "start_time": "2022-03-22T12:01:55.711Z"
   },
   {
    "duration": 5,
    "start_time": "2022-03-22T12:01:56.505Z"
   },
   {
    "duration": 483,
    "start_time": "2022-03-22T12:01:56.511Z"
   },
   {
    "duration": 314,
    "start_time": "2022-03-22T12:01:57.000Z"
   },
   {
    "duration": 3,
    "start_time": "2022-03-22T12:01:57.315Z"
   },
   {
    "duration": 11,
    "start_time": "2022-03-22T12:01:57.319Z"
   },
   {
    "duration": 174,
    "start_time": "2022-03-22T12:01:57.331Z"
   },
   {
    "duration": 383,
    "start_time": "2022-03-22T12:01:57.507Z"
   },
   {
    "duration": 17,
    "start_time": "2022-03-22T12:01:57.892Z"
   },
   {
    "duration": 14,
    "start_time": "2022-03-22T12:01:57.911Z"
   },
   {
    "duration": 3,
    "start_time": "2022-03-22T12:01:57.927Z"
   },
   {
    "duration": 21,
    "start_time": "2022-03-22T12:01:57.931Z"
   },
   {
    "duration": 866,
    "start_time": "2022-03-22T12:01:57.953Z"
   },
   {
    "duration": 615,
    "start_time": "2022-03-22T12:01:58.820Z"
   },
   {
    "duration": 383,
    "start_time": "2022-03-22T12:01:59.437Z"
   },
   {
    "duration": 1385,
    "start_time": "2022-03-22T12:01:59.822Z"
   },
   {
    "duration": 4,
    "start_time": "2022-03-22T12:02:01.209Z"
   },
   {
    "duration": 1538166,
    "start_time": "2022-03-22T12:02:01.215Z"
   },
   {
    "duration": 3,
    "start_time": "2022-03-22T12:27:39.383Z"
   },
   {
    "duration": 19,
    "start_time": "2022-03-22T12:27:39.388Z"
   },
   {
    "duration": 6,
    "start_time": "2022-03-22T12:27:39.409Z"
   },
   {
    "duration": 21008,
    "start_time": "2022-03-22T12:27:39.416Z"
   },
   {
    "duration": 618705,
    "start_time": "2022-03-22T12:28:00.502Z"
   },
   {
    "duration": 8276,
    "start_time": "2022-03-22T12:38:19.210Z"
   },
   {
    "duration": 86447,
    "start_time": "2022-03-22T12:38:27.488Z"
   },
   {
    "duration": 3950,
    "start_time": "2022-03-22T12:39:53.936Z"
   },
   {
    "duration": 3069,
    "start_time": "2022-03-22T12:39:57.888Z"
   },
   {
    "duration": 12831,
    "start_time": "2022-03-22T12:40:00.959Z"
   },
   {
    "duration": 17,
    "start_time": "2022-03-22T12:40:13.792Z"
   },
   {
    "duration": 0,
    "start_time": "2022-03-22T12:40:13.811Z"
   },
   {
    "duration": 0,
    "start_time": "2022-03-22T12:40:13.812Z"
   },
   {
    "duration": 0,
    "start_time": "2022-03-22T12:40:13.813Z"
   },
   {
    "duration": 0,
    "start_time": "2022-03-22T12:40:13.815Z"
   },
   {
    "duration": 0,
    "start_time": "2022-03-22T12:40:13.816Z"
   },
   {
    "duration": 0,
    "start_time": "2022-03-22T12:40:13.817Z"
   },
   {
    "duration": 0,
    "start_time": "2022-03-22T12:40:13.819Z"
   },
   {
    "duration": 10472,
    "start_time": "2022-03-22T12:40:23.230Z"
   },
   {
    "duration": 117799,
    "start_time": "2022-03-22T12:40:33.704Z"
   },
   {
    "duration": 250784,
    "start_time": "2022-03-22T12:42:31.505Z"
   },
   {
    "duration": 3241,
    "start_time": "2022-03-22T12:46:42.292Z"
   },
   {
    "duration": 3512,
    "start_time": "2022-03-22T12:46:45.535Z"
   },
   {
    "duration": 13,
    "start_time": "2022-03-22T12:46:49.049Z"
   },
   {
    "duration": 0,
    "start_time": "2022-03-22T12:46:49.063Z"
   },
   {
    "duration": 0,
    "start_time": "2022-03-22T12:46:49.065Z"
   },
   {
    "duration": 0,
    "start_time": "2022-03-22T12:46:49.066Z"
   },
   {
    "duration": 0,
    "start_time": "2022-03-22T12:46:49.066Z"
   },
   {
    "duration": 0,
    "start_time": "2022-03-22T12:46:49.067Z"
   },
   {
    "duration": 0,
    "start_time": "2022-03-22T12:46:49.068Z"
   },
   {
    "duration": 0,
    "start_time": "2022-03-22T12:46:49.069Z"
   },
   {
    "duration": 0,
    "start_time": "2022-03-22T12:46:49.070Z"
   },
   {
    "duration": 114643,
    "start_time": "2022-03-22T12:46:59.196Z"
   },
   {
    "duration": 482084,
    "start_time": "2022-03-22T12:48:53.841Z"
   },
   {
    "duration": 986700,
    "start_time": "2022-03-22T12:56:55.927Z"
   },
   {
    "duration": 7168,
    "start_time": "2022-03-22T13:13:22.629Z"
   },
   {
    "duration": 19,
    "start_time": "2022-03-22T13:13:29.800Z"
   },
   {
    "duration": 0,
    "start_time": "2022-03-22T13:13:29.822Z"
   },
   {
    "duration": 0,
    "start_time": "2022-03-22T13:13:29.823Z"
   },
   {
    "duration": 0,
    "start_time": "2022-03-22T13:13:29.824Z"
   },
   {
    "duration": 0,
    "start_time": "2022-03-22T13:13:29.825Z"
   },
   {
    "duration": 0,
    "start_time": "2022-03-22T13:13:29.827Z"
   },
   {
    "duration": 0,
    "start_time": "2022-03-22T13:13:29.828Z"
   },
   {
    "duration": 0,
    "start_time": "2022-03-22T13:13:29.830Z"
   },
   {
    "duration": 12,
    "start_time": "2022-03-22T13:13:51.940Z"
   },
   {
    "duration": 4,
    "start_time": "2022-03-22T13:13:52.580Z"
   },
   {
    "duration": 23,
    "start_time": "2022-03-22T13:13:53.603Z"
   },
   {
    "duration": 872,
    "start_time": "2022-03-22T13:13:54.736Z"
   },
   {
    "duration": 12,
    "start_time": "2022-03-22T13:14:11.243Z"
   },
   {
    "duration": 3,
    "start_time": "2022-03-22T13:14:11.399Z"
   },
   {
    "duration": 22,
    "start_time": "2022-03-22T13:14:11.608Z"
   },
   {
    "duration": 973,
    "start_time": "2022-03-22T13:14:12.249Z"
   },
   {
    "duration": 626,
    "start_time": "2022-03-22T13:14:13.224Z"
   },
   {
    "duration": 423,
    "start_time": "2022-03-22T13:14:13.852Z"
   },
   {
    "duration": 710,
    "start_time": "2022-03-22T13:14:14.277Z"
   },
   {
    "duration": 25,
    "start_time": "2022-03-22T13:15:30.589Z"
   },
   {
    "duration": 1011,
    "start_time": "2022-03-22T13:15:31.777Z"
   },
   {
    "duration": 625,
    "start_time": "2022-03-22T13:15:32.790Z"
   },
   {
    "duration": 404,
    "start_time": "2022-03-22T13:15:33.417Z"
   },
   {
    "duration": 5518,
    "start_time": "2022-03-22T13:15:33.823Z"
   },
   {
    "duration": 22,
    "start_time": "2022-03-22T13:17:52.890Z"
   },
   {
    "duration": 862,
    "start_time": "2022-03-22T13:17:54.290Z"
   },
   {
    "duration": 614,
    "start_time": "2022-03-22T13:17:55.154Z"
   },
   {
    "duration": 608,
    "start_time": "2022-03-22T13:17:55.770Z"
   },
   {
    "duration": 614,
    "start_time": "2022-03-22T13:17:56.381Z"
   },
   {
    "duration": 22,
    "start_time": "2022-03-22T13:18:34.858Z"
   },
   {
    "duration": 919,
    "start_time": "2022-03-22T13:18:35.567Z"
   },
   {
    "duration": 686,
    "start_time": "2022-03-22T13:18:36.488Z"
   },
   {
    "duration": 391,
    "start_time": "2022-03-22T13:18:37.176Z"
   },
   {
    "duration": 4749,
    "start_time": "2022-03-22T13:18:37.570Z"
   },
   {
    "duration": 38,
    "start_time": "2022-03-22T13:21:19.870Z"
   },
   {
    "duration": 893,
    "start_time": "2022-03-22T13:21:20.598Z"
   },
   {
    "duration": 901,
    "start_time": "2022-03-22T13:21:21.493Z"
   },
   {
    "duration": 406,
    "start_time": "2022-03-22T13:21:22.395Z"
   },
   {
    "duration": 6313,
    "start_time": "2022-03-22T13:21:22.804Z"
   },
   {
    "duration": 34,
    "start_time": "2022-03-22T13:23:20.746Z"
   },
   {
    "duration": 911,
    "start_time": "2022-03-22T13:23:21.637Z"
   },
   {
    "duration": 614,
    "start_time": "2022-03-22T13:23:22.550Z"
   },
   {
    "duration": 382,
    "start_time": "2022-03-22T13:23:23.422Z"
   },
   {
    "duration": 4384,
    "start_time": "2022-03-22T13:23:23.806Z"
   },
   {
    "duration": 346,
    "start_time": "2022-03-22T13:26:36.148Z"
   },
   {
    "duration": 878,
    "start_time": "2022-03-22T13:26:37.179Z"
   },
   {
    "duration": 642,
    "start_time": "2022-03-22T13:26:38.059Z"
   },
   {
    "duration": 371,
    "start_time": "2022-03-22T13:26:38.703Z"
   },
   {
    "duration": 4111,
    "start_time": "2022-03-22T13:26:39.075Z"
   },
   {
    "duration": 33,
    "start_time": "2022-03-22T13:27:13.477Z"
   },
   {
    "duration": 1444,
    "start_time": "2022-03-22T13:27:14.375Z"
   },
   {
    "duration": 702,
    "start_time": "2022-03-22T13:27:15.822Z"
   },
   {
    "duration": 435,
    "start_time": "2022-03-22T13:27:16.526Z"
   },
   {
    "duration": 382,
    "start_time": "2022-03-22T13:27:16.963Z"
   },
   {
    "duration": 25,
    "start_time": "2022-03-22T13:27:56.527Z"
   },
   {
    "duration": 1151,
    "start_time": "2022-03-22T13:27:57.722Z"
   },
   {
    "duration": 609,
    "start_time": "2022-03-22T13:27:58.876Z"
   },
   {
    "duration": 433,
    "start_time": "2022-03-22T13:27:59.487Z"
   },
   {
    "duration": 2759,
    "start_time": "2022-03-22T13:27:59.922Z"
   },
   {
    "duration": 21,
    "start_time": "2022-03-22T13:32:55.346Z"
   },
   {
    "duration": 813,
    "start_time": "2022-03-22T13:32:56.048Z"
   },
   {
    "duration": 618,
    "start_time": "2022-03-22T13:32:56.862Z"
   },
   {
    "duration": 388,
    "start_time": "2022-03-22T13:32:57.482Z"
   },
   {
    "duration": 3987,
    "start_time": "2022-03-22T13:32:57.872Z"
   },
   {
    "duration": 5,
    "start_time": "2022-03-22T13:33:01.861Z"
   },
   {
    "duration": 11,
    "start_time": "2022-03-22T13:35:39.529Z"
   },
   {
    "duration": 5,
    "start_time": "2022-03-22T13:35:42.938Z"
   },
   {
    "duration": 4,
    "start_time": "2022-03-22T13:35:55.668Z"
   },
   {
    "duration": 24,
    "start_time": "2022-03-22T13:36:29.615Z"
   },
   {
    "duration": 1172,
    "start_time": "2022-03-22T13:36:30.916Z"
   },
   {
    "duration": 649,
    "start_time": "2022-03-22T13:36:32.090Z"
   },
   {
    "duration": 378,
    "start_time": "2022-03-22T13:36:32.741Z"
   },
   {
    "duration": 1223,
    "start_time": "2022-03-22T13:36:33.121Z"
   },
   {
    "duration": 5,
    "start_time": "2022-03-22T13:36:35.469Z"
   },
   {
    "duration": 5,
    "start_time": "2022-03-22T13:39:00.952Z"
   },
   {
    "duration": 9,
    "start_time": "2022-03-22T13:39:00.959Z"
   },
   {
    "duration": 9836,
    "start_time": "2022-03-22T13:39:00.970Z"
   },
   {
    "duration": 5,
    "start_time": "2022-03-22T13:39:10.807Z"
   },
   {
    "duration": 639,
    "start_time": "2022-03-22T13:39:10.814Z"
   },
   {
    "duration": 3,
    "start_time": "2022-03-22T13:39:11.455Z"
   },
   {
    "duration": 23,
    "start_time": "2022-03-22T13:39:11.459Z"
   },
   {
    "duration": 21,
    "start_time": "2022-03-22T13:39:11.484Z"
   },
   {
    "duration": 7,
    "start_time": "2022-03-22T13:39:11.507Z"
   },
   {
    "duration": 34,
    "start_time": "2022-03-22T13:39:11.517Z"
   },
   {
    "duration": 6,
    "start_time": "2022-03-22T13:39:11.552Z"
   },
   {
    "duration": 42,
    "start_time": "2022-03-22T13:39:11.560Z"
   },
   {
    "duration": 17,
    "start_time": "2022-03-22T13:39:11.603Z"
   },
   {
    "duration": 392,
    "start_time": "2022-03-22T13:39:11.623Z"
   },
   {
    "duration": 436,
    "start_time": "2022-03-22T13:39:12.017Z"
   },
   {
    "duration": 383,
    "start_time": "2022-03-22T13:39:12.455Z"
   },
   {
    "duration": 34,
    "start_time": "2022-03-22T13:39:12.840Z"
   },
   {
    "duration": 25,
    "start_time": "2022-03-22T13:39:12.876Z"
   },
   {
    "duration": 7,
    "start_time": "2022-03-22T13:39:12.903Z"
   },
   {
    "duration": 58,
    "start_time": "2022-03-22T13:39:12.912Z"
   },
   {
    "duration": 4,
    "start_time": "2022-03-22T13:39:12.972Z"
   },
   {
    "duration": 115,
    "start_time": "2022-03-22T13:39:12.978Z"
   },
   {
    "duration": 275,
    "start_time": "2022-03-22T13:39:13.094Z"
   },
   {
    "duration": 281,
    "start_time": "2022-03-22T13:39:13.371Z"
   },
   {
    "duration": 271,
    "start_time": "2022-03-22T13:39:13.656Z"
   },
   {
    "duration": 33,
    "start_time": "2022-03-22T13:39:13.929Z"
   },
   {
    "duration": 5,
    "start_time": "2022-03-22T13:39:13.964Z"
   },
   {
    "duration": 52,
    "start_time": "2022-03-22T13:39:13.971Z"
   },
   {
    "duration": 5,
    "start_time": "2022-03-22T13:39:14.025Z"
   },
   {
    "duration": 165,
    "start_time": "2022-03-22T13:39:14.032Z"
   },
   {
    "duration": 60,
    "start_time": "2022-03-22T13:39:14.200Z"
   },
   {
    "duration": 76,
    "start_time": "2022-03-22T13:39:14.263Z"
   },
   {
    "duration": 85,
    "start_time": "2022-03-22T13:39:14.341Z"
   },
   {
    "duration": 8,
    "start_time": "2022-03-22T13:39:14.428Z"
   },
   {
    "duration": 25,
    "start_time": "2022-03-22T13:39:14.437Z"
   },
   {
    "duration": 5064,
    "start_time": "2022-03-22T13:39:14.464Z"
   },
   {
    "duration": 5,
    "start_time": "2022-03-22T13:39:19.530Z"
   },
   {
    "duration": 990,
    "start_time": "2022-03-22T13:39:19.536Z"
   },
   {
    "duration": 5,
    "start_time": "2022-03-22T13:39:20.527Z"
   },
   {
    "duration": 531,
    "start_time": "2022-03-22T13:39:20.534Z"
   },
   {
    "duration": 335,
    "start_time": "2022-03-22T13:39:21.066Z"
   },
   {
    "duration": 3,
    "start_time": "2022-03-22T13:39:21.402Z"
   },
   {
    "duration": 16,
    "start_time": "2022-03-22T13:39:21.407Z"
   },
   {
    "duration": 256,
    "start_time": "2022-03-22T13:39:21.425Z"
   },
   {
    "duration": 420,
    "start_time": "2022-03-22T13:39:21.682Z"
   },
   {
    "duration": 10,
    "start_time": "2022-03-22T13:39:22.104Z"
   },
   {
    "duration": 32,
    "start_time": "2022-03-22T13:39:22.116Z"
   },
   {
    "duration": 20,
    "start_time": "2022-03-22T13:39:22.150Z"
   },
   {
    "duration": 49,
    "start_time": "2022-03-22T13:39:22.172Z"
   },
   {
    "duration": 1032,
    "start_time": "2022-03-22T13:39:22.223Z"
   },
   {
    "duration": 648,
    "start_time": "2022-03-22T13:39:23.256Z"
   },
   {
    "duration": 384,
    "start_time": "2022-03-22T13:39:23.906Z"
   },
   {
    "duration": 1221,
    "start_time": "2022-03-22T13:39:24.291Z"
   },
   {
    "duration": 4,
    "start_time": "2022-03-22T13:39:25.514Z"
   },
   {
    "duration": 4,
    "start_time": "2022-03-22T13:39:25.520Z"
   },
   {
    "duration": 778754,
    "start_time": "2022-03-22T13:39:25.526Z"
   },
   {
    "duration": 3,
    "start_time": "2022-03-22T13:52:24.282Z"
   },
   {
    "duration": 21,
    "start_time": "2022-03-22T13:52:24.286Z"
   },
   {
    "duration": 5,
    "start_time": "2022-03-22T13:52:24.309Z"
   },
   {
    "duration": 25598,
    "start_time": "2022-03-22T13:52:24.315Z"
   },
   {
    "duration": 629492,
    "start_time": "2022-03-22T13:52:49.915Z"
   },
   {
    "duration": 10898,
    "start_time": "2022-03-22T14:03:19.410Z"
   },
   {
    "duration": 166910,
    "start_time": "2022-03-22T14:03:30.310Z"
   },
   {
    "duration": 701504,
    "start_time": "2022-03-22T14:06:17.222Z"
   },
   {
    "duration": 1169288,
    "start_time": "2022-03-22T14:17:58.728Z"
   },
   {
    "duration": 550192,
    "start_time": "2022-03-22T14:37:28.018Z"
   },
   {
    "duration": 9,
    "start_time": "2022-03-22T14:46:38.212Z"
   },
   {
    "duration": 4,
    "start_time": "2022-03-22T14:46:38.223Z"
   },
   {
    "duration": 176,
    "start_time": "2022-03-22T14:46:38.228Z"
   },
   {
    "duration": 174,
    "start_time": "2022-03-22T14:46:38.409Z"
   },
   {
    "duration": 33029,
    "start_time": "2022-03-22T14:46:38.585Z"
   },
   {
    "duration": 20208,
    "start_time": "2022-03-22T14:47:11.616Z"
   },
   {
    "duration": 90725,
    "start_time": "2022-03-22T14:47:31.901Z"
   },
   {
    "duration": 14,
    "start_time": "2022-03-22T14:49:02.628Z"
   },
   {
    "duration": 3,
    "start_time": "2022-03-22T14:49:44.834Z"
   },
   {
    "duration": 47,
    "start_time": "2022-03-22T14:52:41.003Z"
   },
   {
    "duration": 0,
    "start_time": "2022-03-22T14:52:41.051Z"
   },
   {
    "duration": 1948,
    "start_time": "2022-03-22T14:53:15.472Z"
   },
   {
    "duration": 5,
    "start_time": "2022-03-22T14:53:17.422Z"
   },
   {
    "duration": 10560,
    "start_time": "2022-03-22T14:53:17.428Z"
   },
   {
    "duration": 11,
    "start_time": "2022-03-22T14:53:27.991Z"
   },
   {
    "duration": 578,
    "start_time": "2022-03-22T14:53:28.004Z"
   },
   {
    "duration": 3,
    "start_time": "2022-03-22T14:53:28.584Z"
   },
   {
    "duration": 14,
    "start_time": "2022-03-22T14:53:28.600Z"
   },
   {
    "duration": 7,
    "start_time": "2022-03-22T14:53:28.615Z"
   },
   {
    "duration": 5,
    "start_time": "2022-03-22T14:53:28.624Z"
   },
   {
    "duration": 16,
    "start_time": "2022-03-22T14:53:28.632Z"
   },
   {
    "duration": 5,
    "start_time": "2022-03-22T14:53:28.650Z"
   },
   {
    "duration": 56,
    "start_time": "2022-03-22T14:53:28.657Z"
   },
   {
    "duration": 15,
    "start_time": "2022-03-22T14:53:28.715Z"
   },
   {
    "duration": 385,
    "start_time": "2022-03-22T14:53:28.731Z"
   },
   {
    "duration": 414,
    "start_time": "2022-03-22T14:53:29.118Z"
   },
   {
    "duration": 408,
    "start_time": "2022-03-22T14:53:29.534Z"
   },
   {
    "duration": 39,
    "start_time": "2022-03-22T14:53:29.944Z"
   },
   {
    "duration": 25,
    "start_time": "2022-03-22T14:53:29.985Z"
   },
   {
    "duration": 4,
    "start_time": "2022-03-22T14:53:30.011Z"
   },
   {
    "duration": 45,
    "start_time": "2022-03-22T14:53:30.016Z"
   },
   {
    "duration": 4,
    "start_time": "2022-03-22T14:53:30.063Z"
   },
   {
    "duration": 96,
    "start_time": "2022-03-22T14:53:30.068Z"
   },
   {
    "duration": 270,
    "start_time": "2022-03-22T14:53:30.166Z"
   },
   {
    "duration": 270,
    "start_time": "2022-03-22T14:53:30.438Z"
   },
   {
    "duration": 267,
    "start_time": "2022-03-22T14:53:30.710Z"
   },
   {
    "duration": 42,
    "start_time": "2022-03-22T14:53:30.978Z"
   },
   {
    "duration": 4,
    "start_time": "2022-03-22T14:53:31.022Z"
   },
   {
    "duration": 45,
    "start_time": "2022-03-22T14:53:31.030Z"
   },
   {
    "duration": 12,
    "start_time": "2022-03-22T14:53:31.077Z"
   },
   {
    "duration": 123,
    "start_time": "2022-03-22T14:53:31.090Z"
   },
   {
    "duration": 36,
    "start_time": "2022-03-22T14:53:31.215Z"
   },
   {
    "duration": 76,
    "start_time": "2022-03-22T14:53:31.252Z"
   },
   {
    "duration": 76,
    "start_time": "2022-03-22T14:53:31.330Z"
   },
   {
    "duration": 3,
    "start_time": "2022-03-22T14:53:31.408Z"
   },
   {
    "duration": 12,
    "start_time": "2022-03-22T14:53:31.412Z"
   },
   {
    "duration": 4600,
    "start_time": "2022-03-22T14:53:31.426Z"
   },
   {
    "duration": 4,
    "start_time": "2022-03-22T14:53:36.028Z"
   },
   {
    "duration": 851,
    "start_time": "2022-03-22T14:53:36.034Z"
   },
   {
    "duration": 5,
    "start_time": "2022-03-22T14:53:36.886Z"
   },
   {
    "duration": 506,
    "start_time": "2022-03-22T14:53:36.901Z"
   },
   {
    "duration": 316,
    "start_time": "2022-03-22T14:53:37.409Z"
   },
   {
    "duration": 3,
    "start_time": "2022-03-22T14:53:37.726Z"
   },
   {
    "duration": 5,
    "start_time": "2022-03-22T14:53:37.730Z"
   },
   {
    "duration": 176,
    "start_time": "2022-03-22T14:53:37.737Z"
   },
   {
    "duration": 421,
    "start_time": "2022-03-22T14:53:37.915Z"
   },
   {
    "duration": 11,
    "start_time": "2022-03-22T14:53:38.338Z"
   },
   {
    "duration": 14,
    "start_time": "2022-03-22T14:53:38.351Z"
   },
   {
    "duration": 3,
    "start_time": "2022-03-22T14:53:38.366Z"
   },
   {
    "duration": 40,
    "start_time": "2022-03-22T14:53:38.371Z"
   },
   {
    "duration": 880,
    "start_time": "2022-03-22T14:53:38.413Z"
   },
   {
    "duration": 628,
    "start_time": "2022-03-22T14:53:39.301Z"
   },
   {
    "duration": 404,
    "start_time": "2022-03-22T14:53:39.931Z"
   },
   {
    "duration": 1388,
    "start_time": "2022-03-22T14:53:40.337Z"
   },
   {
    "duration": 5,
    "start_time": "2022-03-22T14:53:41.726Z"
   },
   {
    "duration": 475997,
    "start_time": "2022-03-22T14:53:41.732Z"
   },
   {
    "duration": 3,
    "start_time": "2022-03-22T15:01:37.730Z"
   },
   {
    "duration": 16,
    "start_time": "2022-03-22T15:01:37.734Z"
   },
   {
    "duration": 16,
    "start_time": "2022-03-22T15:01:37.752Z"
   },
   {
    "duration": 20546,
    "start_time": "2022-03-22T15:01:37.769Z"
   },
   {
    "duration": 431488,
    "start_time": "2022-03-22T15:01:58.318Z"
   },
   {
    "duration": 10299,
    "start_time": "2022-03-22T15:09:09.808Z"
   },
   {
    "duration": 153712,
    "start_time": "2022-03-22T15:09:20.111Z"
   },
   {
    "duration": 202691,
    "start_time": "2022-03-22T15:11:53.825Z"
   },
   {
    "duration": 142089,
    "start_time": "2022-03-22T15:15:16.517Z"
   },
   {
    "duration": 531152,
    "start_time": "2022-03-22T15:17:38.608Z"
   },
   {
    "duration": 9,
    "start_time": "2022-03-22T15:26:29.762Z"
   },
   {
    "duration": 4,
    "start_time": "2022-03-22T15:26:29.772Z"
   },
   {
    "duration": 18463,
    "start_time": "2022-03-22T15:26:29.777Z"
   },
   {
    "duration": 21391,
    "start_time": "2022-03-22T15:26:48.242Z"
   },
   {
    "duration": 29883,
    "start_time": "2022-03-22T15:27:09.635Z"
   },
   {
    "duration": 20399,
    "start_time": "2022-03-22T15:27:39.519Z"
   },
   {
    "duration": 84883,
    "start_time": "2022-03-22T15:27:59.920Z"
   },
   {
    "duration": 16,
    "start_time": "2022-03-22T15:29:24.805Z"
   },
   {
    "duration": 3,
    "start_time": "2022-03-22T15:56:35.510Z"
   },
   {
    "duration": 6,
    "start_time": "2022-03-22T15:56:38.064Z"
   },
   {
    "duration": 17817,
    "start_time": "2022-03-22T15:56:39.308Z"
   },
   {
    "duration": 225,
    "start_time": "2022-03-22T15:57:04.508Z"
   },
   {
    "duration": 18128,
    "start_time": "2022-03-22T15:57:16.882Z"
   },
   {
    "duration": 22,
    "start_time": "2022-03-22T16:05:20.235Z"
   },
   {
    "duration": 901,
    "start_time": "2022-03-22T16:05:21.004Z"
   },
   {
    "duration": 608,
    "start_time": "2022-03-22T16:05:21.907Z"
   },
   {
    "duration": 397,
    "start_time": "2022-03-22T16:05:22.517Z"
   },
   {
    "duration": 1308,
    "start_time": "2022-03-22T16:05:22.917Z"
   },
   {
    "duration": 23,
    "start_time": "2022-03-22T16:10:32.130Z"
   },
   {
    "duration": 860,
    "start_time": "2022-03-22T16:10:34.258Z"
   },
   {
    "duration": 623,
    "start_time": "2022-03-22T16:10:35.121Z"
   },
   {
    "duration": 382,
    "start_time": "2022-03-22T16:10:35.746Z"
   },
   {
    "duration": 2479,
    "start_time": "2022-03-22T16:10:36.130Z"
   },
   {
    "duration": 1823,
    "start_time": "2022-03-22T16:11:14.389Z"
   },
   {
    "duration": 5,
    "start_time": "2022-03-22T16:11:16.214Z"
   },
   {
    "duration": 10429,
    "start_time": "2022-03-22T16:11:16.221Z"
   },
   {
    "duration": 4,
    "start_time": "2022-03-22T16:11:26.653Z"
   },
   {
    "duration": 594,
    "start_time": "2022-03-22T16:11:26.658Z"
   },
   {
    "duration": 2,
    "start_time": "2022-03-22T16:11:27.254Z"
   },
   {
    "duration": 16,
    "start_time": "2022-03-22T16:11:27.257Z"
   },
   {
    "duration": 7,
    "start_time": "2022-03-22T16:11:27.275Z"
   },
   {
    "duration": 5,
    "start_time": "2022-03-22T16:11:27.300Z"
   },
   {
    "duration": 16,
    "start_time": "2022-03-22T16:11:27.307Z"
   },
   {
    "duration": 5,
    "start_time": "2022-03-22T16:11:27.324Z"
   },
   {
    "duration": 21,
    "start_time": "2022-03-22T16:11:27.330Z"
   },
   {
    "duration": 15,
    "start_time": "2022-03-22T16:11:27.352Z"
   },
   {
    "duration": 407,
    "start_time": "2022-03-22T16:11:27.400Z"
   },
   {
    "duration": 462,
    "start_time": "2022-03-22T16:11:27.809Z"
   },
   {
    "duration": 418,
    "start_time": "2022-03-22T16:11:28.273Z"
   },
   {
    "duration": 40,
    "start_time": "2022-03-22T16:11:28.692Z"
   },
   {
    "duration": 15,
    "start_time": "2022-03-22T16:11:28.734Z"
   },
   {
    "duration": 4,
    "start_time": "2022-03-22T16:11:28.750Z"
   },
   {
    "duration": 66,
    "start_time": "2022-03-22T16:11:28.756Z"
   },
   {
    "duration": 4,
    "start_time": "2022-03-22T16:11:28.825Z"
   },
   {
    "duration": 82,
    "start_time": "2022-03-22T16:11:28.831Z"
   },
   {
    "duration": 261,
    "start_time": "2022-03-22T16:11:28.915Z"
   },
   {
    "duration": 246,
    "start_time": "2022-03-22T16:11:29.178Z"
   },
   {
    "duration": 260,
    "start_time": "2022-03-22T16:11:29.426Z"
   },
   {
    "duration": 39,
    "start_time": "2022-03-22T16:11:29.688Z"
   },
   {
    "duration": 4,
    "start_time": "2022-03-22T16:11:29.729Z"
   },
   {
    "duration": 29,
    "start_time": "2022-03-22T16:11:29.737Z"
   },
   {
    "duration": 4,
    "start_time": "2022-03-22T16:11:29.767Z"
   },
   {
    "duration": 95,
    "start_time": "2022-03-22T16:11:29.772Z"
   },
   {
    "duration": 43,
    "start_time": "2022-03-22T16:11:29.869Z"
   },
   {
    "duration": 62,
    "start_time": "2022-03-22T16:11:29.914Z"
   },
   {
    "duration": 87,
    "start_time": "2022-03-22T16:11:29.978Z"
   },
   {
    "duration": 6,
    "start_time": "2022-03-22T16:11:30.066Z"
   },
   {
    "duration": 11,
    "start_time": "2022-03-22T16:11:30.074Z"
   },
   {
    "duration": 4668,
    "start_time": "2022-03-22T16:11:30.087Z"
   },
   {
    "duration": 5,
    "start_time": "2022-03-22T16:11:34.757Z"
   },
   {
    "duration": 803,
    "start_time": "2022-03-22T16:11:34.764Z"
   },
   {
    "duration": 5,
    "start_time": "2022-03-22T16:11:35.569Z"
   },
   {
    "duration": 508,
    "start_time": "2022-03-22T16:11:35.575Z"
   },
   {
    "duration": 343,
    "start_time": "2022-03-22T16:11:36.085Z"
   },
   {
    "duration": 3,
    "start_time": "2022-03-22T16:11:36.429Z"
   },
   {
    "duration": 20,
    "start_time": "2022-03-22T16:11:36.433Z"
   },
   {
    "duration": 231,
    "start_time": "2022-03-22T16:11:36.454Z"
   },
   {
    "duration": 423,
    "start_time": "2022-03-22T16:11:36.687Z"
   },
   {
    "duration": 11,
    "start_time": "2022-03-22T16:11:37.112Z"
   },
   {
    "duration": 32,
    "start_time": "2022-03-22T16:11:37.124Z"
   },
   {
    "duration": 19,
    "start_time": "2022-03-22T16:11:37.158Z"
   },
   {
    "duration": 20,
    "start_time": "2022-03-22T16:11:37.179Z"
   },
   {
    "duration": 900,
    "start_time": "2022-03-22T16:11:37.201Z"
   },
   {
    "duration": 655,
    "start_time": "2022-03-22T16:11:38.103Z"
   },
   {
    "duration": 401,
    "start_time": "2022-03-22T16:11:38.760Z"
   },
   {
    "duration": 2502,
    "start_time": "2022-03-22T16:11:39.163Z"
   },
   {
    "duration": 4,
    "start_time": "2022-03-22T16:11:41.667Z"
   },
   {
    "duration": 512755,
    "start_time": "2022-03-22T16:11:41.673Z"
   },
   {
    "duration": 2,
    "start_time": "2022-03-22T16:20:14.430Z"
   },
   {
    "duration": 11,
    "start_time": "2022-03-22T16:20:14.434Z"
   },
   {
    "duration": 6,
    "start_time": "2022-03-22T16:20:14.447Z"
   },
   {
    "duration": 17455,
    "start_time": "2022-03-22T16:20:14.455Z"
   },
   {
    "duration": 416194,
    "start_time": "2022-03-22T16:20:31.913Z"
   },
   {
    "duration": 11306,
    "start_time": "2022-03-22T16:27:28.200Z"
   },
   {
    "duration": 153765,
    "start_time": "2022-03-22T16:27:39.600Z"
   },
   {
    "duration": 255345,
    "start_time": "2022-03-22T16:30:13.367Z"
   },
   {
    "duration": 153709,
    "start_time": "2022-03-22T16:34:28.713Z"
   },
   {
    "duration": 543982,
    "start_time": "2022-03-22T16:37:02.424Z"
   },
   {
    "duration": 10,
    "start_time": "2022-03-22T16:46:06.407Z"
   },
   {
    "duration": 5,
    "start_time": "2022-03-22T16:46:06.419Z"
   },
   {
    "duration": 5,
    "start_time": "2022-03-22T16:46:06.426Z"
   },
   {
    "duration": 18900,
    "start_time": "2022-03-22T16:46:06.432Z"
   },
   {
    "duration": 22387,
    "start_time": "2022-03-22T16:46:25.403Z"
   },
   {
    "duration": 31110,
    "start_time": "2022-03-22T16:46:47.792Z"
   },
   {
    "duration": 22426,
    "start_time": "2022-03-22T16:47:18.904Z"
   },
   {
    "duration": 85621,
    "start_time": "2022-03-22T16:47:41.332Z"
   },
   {
    "duration": 9,
    "start_time": "2022-03-22T16:49:06.955Z"
   },
   {
    "duration": 30082,
    "start_time": "2022-03-23T06:54:50.056Z"
   },
   {
    "duration": 9,
    "start_time": "2022-03-23T06:55:20.141Z"
   },
   {
    "duration": 2078,
    "start_time": "2022-03-23T06:55:20.167Z"
   },
   {
    "duration": 6,
    "start_time": "2022-03-23T06:55:22.248Z"
   },
   {
    "duration": 800,
    "start_time": "2022-03-23T06:55:22.267Z"
   },
   {
    "duration": 4,
    "start_time": "2022-03-23T06:55:23.069Z"
   },
   {
    "duration": 23,
    "start_time": "2022-03-23T06:55:23.075Z"
   },
   {
    "duration": 9,
    "start_time": "2022-03-23T06:55:23.100Z"
   },
   {
    "duration": 8,
    "start_time": "2022-03-23T06:55:23.111Z"
   },
   {
    "duration": 29,
    "start_time": "2022-03-23T06:55:23.169Z"
   },
   {
    "duration": 10,
    "start_time": "2022-03-23T06:55:23.201Z"
   },
   {
    "duration": 60,
    "start_time": "2022-03-23T06:55:23.214Z"
   },
   {
    "duration": 22,
    "start_time": "2022-03-23T06:55:23.276Z"
   },
   {
    "duration": 656,
    "start_time": "2022-03-23T06:55:23.300Z"
   },
   {
    "duration": 729,
    "start_time": "2022-03-23T06:55:23.959Z"
   },
   {
    "duration": 671,
    "start_time": "2022-03-23T06:55:24.691Z"
   },
   {
    "duration": 55,
    "start_time": "2022-03-23T06:55:25.368Z"
   },
   {
    "duration": 43,
    "start_time": "2022-03-23T06:55:25.425Z"
   },
   {
    "duration": 7,
    "start_time": "2022-03-23T06:55:25.471Z"
   },
   {
    "duration": 99,
    "start_time": "2022-03-23T06:55:25.480Z"
   },
   {
    "duration": 8,
    "start_time": "2022-03-23T06:55:25.583Z"
   },
   {
    "duration": 193,
    "start_time": "2022-03-23T06:55:25.593Z"
   },
   {
    "duration": 415,
    "start_time": "2022-03-23T06:55:25.788Z"
   },
   {
    "duration": 385,
    "start_time": "2022-03-23T06:55:26.205Z"
   },
   {
    "duration": 395,
    "start_time": "2022-03-23T06:55:26.592Z"
   },
   {
    "duration": 51,
    "start_time": "2022-03-23T06:55:26.989Z"
   },
   {
    "duration": 5,
    "start_time": "2022-03-23T06:55:27.042Z"
   },
   {
    "duration": 42,
    "start_time": "2022-03-23T06:55:27.067Z"
   },
   {
    "duration": 6,
    "start_time": "2022-03-23T06:55:27.112Z"
   },
   {
    "duration": 115,
    "start_time": "2022-03-23T06:55:27.120Z"
   },
   {
    "duration": 68,
    "start_time": "2022-03-23T06:55:27.238Z"
   },
   {
    "duration": 82,
    "start_time": "2022-03-23T06:55:27.309Z"
   },
   {
    "duration": 96,
    "start_time": "2022-03-23T06:55:27.394Z"
   },
   {
    "duration": 4,
    "start_time": "2022-03-23T06:55:27.492Z"
   },
   {
    "duration": 11,
    "start_time": "2022-03-23T06:55:27.498Z"
   },
   {
    "duration": 6982,
    "start_time": "2022-03-23T06:55:27.511Z"
   },
   {
    "duration": 7,
    "start_time": "2022-03-23T06:55:34.495Z"
   },
   {
    "duration": 1307,
    "start_time": "2022-03-23T06:55:34.504Z"
   },
   {
    "duration": 1074,
    "start_time": "2022-03-23T06:55:42.225Z"
   },
   {
    "duration": 1311,
    "start_time": "2022-03-23T06:56:11.214Z"
   },
   {
    "duration": 1107,
    "start_time": "2022-03-23T07:00:53.484Z"
   },
   {
    "duration": 1473,
    "start_time": "2022-03-23T07:03:53.654Z"
   },
   {
    "duration": 1607,
    "start_time": "2022-03-23T07:04:04.816Z"
   },
   {
    "duration": 2519,
    "start_time": "2022-03-23T07:04:17.959Z"
   },
   {
    "duration": 2268,
    "start_time": "2022-03-23T07:04:28.769Z"
   }
  ],
  "kernelspec": {
   "display_name": "Python 3 (ipykernel)",
   "language": "python",
   "name": "python3"
  },
  "language_info": {
   "codemirror_mode": {
    "name": "ipython",
    "version": 3
   },
   "file_extension": ".py",
   "mimetype": "text/x-python",
   "name": "python",
   "nbconvert_exporter": "python",
   "pygments_lexer": "ipython3",
   "version": "3.9.7"
  },
  "toc": {
   "base_numbering": 1,
   "nav_menu": {},
   "number_sections": true,
   "sideBar": true,
   "skip_h1_title": true,
   "title_cell": "Table of Contents",
   "title_sidebar": "Contents",
   "toc_cell": false,
   "toc_position": {},
   "toc_section_display": true,
   "toc_window_display": false
  }
 },
 "nbformat": 4,
 "nbformat_minor": 2
}
