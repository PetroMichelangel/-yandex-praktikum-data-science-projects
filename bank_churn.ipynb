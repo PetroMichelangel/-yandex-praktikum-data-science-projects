{
 "cells": [
  {
   "cell_type": "markdown",
   "metadata": {},
   "source": [
    "# Проект: Отток клиентов"
   ]
  },
  {
   "cell_type": "markdown",
   "metadata": {},
   "source": [
    "Из «Бета-Банка» стали уходить клиенты. Каждый месяц. Немного, но заметно. Банковские маркетологи посчитали: сохранять текущих клиентов дешевле, чем привлекать новых.\n",
    "\n",
    "Нужно спрогнозировать, уйдёт клиент из банка в ближайшее время или нет. Вам предоставлены исторические данные о поведении клиентов и расторжении договоров с банком. "
   ]
  },
  {
   "cell_type": "markdown",
   "metadata": {},
   "source": [
    "# Описание данных"
   ]
  },
  {
   "cell_type": "markdown",
   "metadata": {},
   "source": [
    "Признаки:\n",
    "\n",
    "- RowNumber — индекс строки в данных\n",
    "- CustomerId — уникальный идентификатор клиента\n",
    "- Surname — фамилия\n",
    "- CreditScore — кредитный рейтинг\n",
    "- Geography — страна проживания\n",
    "- Gender — пол\n",
    "- Age — возраст\n",
    "- Tenure — сколько лет человек является клиентом банка\n",
    "- Balance — баланс на счёте\n",
    "- NumOfProducts — количество продуктов банка, используемых клиентом\n",
    "- HasCrCard — наличие кредитной карты\n",
    "- IsActiveMember — активность клиента\n",
    "- EstimatedSalary — предполагаемая зарплата\n",
    "\n",
    "Целевой признак:\n",
    "\n",
    "- Exited — факт ухода клиента"
   ]
  },
  {
   "cell_type": "markdown",
   "metadata": {
    "toc": true
   },
   "source": [
    "<h1>Содержание<span class=\"tocSkip\"></span></h1>\n",
    "<div class=\"toc\"><ul class=\"toc-item\"><li><span><a href=\"#Подготовка-данных\" data-toc-modified-id=\"Подготовка-данных-1\"><span class=\"toc-item-num\">1&nbsp;&nbsp;</span>Подготовка данных</a></span></li><li><span><a href=\"#Исследование-задачи\" data-toc-modified-id=\"Исследование-задачи-2\"><span class=\"toc-item-num\">2&nbsp;&nbsp;</span>Исследование задачи</a></span><ul class=\"toc-item\"><li><span><a href=\"#Логистическая-регрессия\" data-toc-modified-id=\"Логистическая-регрессия-2.1\"><span class=\"toc-item-num\">2.1&nbsp;&nbsp;</span>Логистическая регрессия</a></span></li><li><span><a href=\"#Решающее-дерево\" data-toc-modified-id=\"Решающее-дерево-2.2\"><span class=\"toc-item-num\">2.2&nbsp;&nbsp;</span>Решающее дерево</a></span></li><li><span><a href=\"#Случайный-лес\" data-toc-modified-id=\"Случайный-лес-2.3\"><span class=\"toc-item-num\">2.3&nbsp;&nbsp;</span>Случайный лес</a></span></li></ul></li><li><span><a href=\"#Борьба-с-дисбалансом\" data-toc-modified-id=\"Борьба-с-дисбалансом-3\"><span class=\"toc-item-num\">3&nbsp;&nbsp;</span>Борьба с дисбалансом</a></span><ul class=\"toc-item\"><li><span><a href=\"#Взвешивание-объектов\" data-toc-modified-id=\"Взвешивание-объектов-3.1\"><span class=\"toc-item-num\">3.1&nbsp;&nbsp;</span>Взвешивание объектов</a></span></li><li><span><a href=\"#Upsampling\" data-toc-modified-id=\"Upsampling-3.2\"><span class=\"toc-item-num\">3.2&nbsp;&nbsp;</span>Upsampling</a></span></li><li><span><a href=\"#Downsampling\" data-toc-modified-id=\"Downsampling-3.3\"><span class=\"toc-item-num\">3.3&nbsp;&nbsp;</span>Downsampling</a></span></li><li><span><a href=\"#Выбор-порога\" data-toc-modified-id=\"Выбор-порога-3.4\"><span class=\"toc-item-num\">3.4&nbsp;&nbsp;</span>Выбор порога</a></span></li></ul></li><li><span><a href=\"#Тестирование-модели\" data-toc-modified-id=\"Тестирование-модели-4\"><span class=\"toc-item-num\">4&nbsp;&nbsp;</span>Тестирование модели</a></span></li><li><span><a href=\"#Общий-вывод\" data-toc-modified-id=\"Общий-вывод-5\"><span class=\"toc-item-num\">5&nbsp;&nbsp;</span>Общий вывод</a></span></li><li><span><a href=\"#Чек-лист-готовности-проекта\" data-toc-modified-id=\"Чек-лист-готовности-проекта-6\"><span class=\"toc-item-num\">6&nbsp;&nbsp;</span>Чек-лист готовности проекта</a></span></li></ul></div>"
   ]
  },
  {
   "cell_type": "markdown",
   "metadata": {},
   "source": [
    "## Подготовка данных"
   ]
  },
  {
   "cell_type": "code",
   "execution_count": 90,
   "metadata": {},
   "outputs": [],
   "source": [
    "#подключаем необходимые библиотеки\n",
    "import pandas as pd\n",
    "import numpy as np\n",
    "import matplotlib.pyplot as plt\n",
    "import seaborn as sns\n",
    "from sklearn.linear_model import LogisticRegression\n",
    "from sklearn.tree import DecisionTreeClassifier\n",
    "from sklearn.ensemble import RandomForestClassifier\n",
    "from sklearn.model_selection import train_test_split\n",
    "from sklearn.preprocessing import StandardScaler\n",
    "from sklearn.metrics import accuracy_score, precision_score, recall_score, confusion_matrix, f1_score, roc_curve, roc_auc_score\n",
    "from sklearn.utils import shuffle\n",
    "from sklearn.dummy import DummyClassifier\n",
    "import time\n",
    "import warnings\n",
    "warnings.filterwarnings('ignore')"
   ]
  },
  {
   "cell_type": "code",
   "execution_count": 91,
   "metadata": {},
   "outputs": [
    {
     "data": {
      "text/html": [
       "<div>\n",
       "<style scoped>\n",
       "    .dataframe tbody tr th:only-of-type {\n",
       "        vertical-align: middle;\n",
       "    }\n",
       "\n",
       "    .dataframe tbody tr th {\n",
       "        vertical-align: top;\n",
       "    }\n",
       "\n",
       "    .dataframe thead th {\n",
       "        text-align: right;\n",
       "    }\n",
       "</style>\n",
       "<table border=\"1\" class=\"dataframe\">\n",
       "  <thead>\n",
       "    <tr style=\"text-align: right;\">\n",
       "      <th></th>\n",
       "      <th>RowNumber</th>\n",
       "      <th>CustomerId</th>\n",
       "      <th>Surname</th>\n",
       "      <th>CreditScore</th>\n",
       "      <th>Geography</th>\n",
       "      <th>Gender</th>\n",
       "      <th>Age</th>\n",
       "      <th>Tenure</th>\n",
       "      <th>Balance</th>\n",
       "      <th>NumOfProducts</th>\n",
       "      <th>HasCrCard</th>\n",
       "      <th>IsActiveMember</th>\n",
       "      <th>EstimatedSalary</th>\n",
       "      <th>Exited</th>\n",
       "    </tr>\n",
       "  </thead>\n",
       "  <tbody>\n",
       "    <tr>\n",
       "      <td>0</td>\n",
       "      <td>1</td>\n",
       "      <td>15634602</td>\n",
       "      <td>Hargrave</td>\n",
       "      <td>619</td>\n",
       "      <td>France</td>\n",
       "      <td>Female</td>\n",
       "      <td>42</td>\n",
       "      <td>2.0</td>\n",
       "      <td>0.00</td>\n",
       "      <td>1</td>\n",
       "      <td>1</td>\n",
       "      <td>1</td>\n",
       "      <td>101348.88</td>\n",
       "      <td>1</td>\n",
       "    </tr>\n",
       "    <tr>\n",
       "      <td>1</td>\n",
       "      <td>2</td>\n",
       "      <td>15647311</td>\n",
       "      <td>Hill</td>\n",
       "      <td>608</td>\n",
       "      <td>Spain</td>\n",
       "      <td>Female</td>\n",
       "      <td>41</td>\n",
       "      <td>1.0</td>\n",
       "      <td>83807.86</td>\n",
       "      <td>1</td>\n",
       "      <td>0</td>\n",
       "      <td>1</td>\n",
       "      <td>112542.58</td>\n",
       "      <td>0</td>\n",
       "    </tr>\n",
       "    <tr>\n",
       "      <td>2</td>\n",
       "      <td>3</td>\n",
       "      <td>15619304</td>\n",
       "      <td>Onio</td>\n",
       "      <td>502</td>\n",
       "      <td>France</td>\n",
       "      <td>Female</td>\n",
       "      <td>42</td>\n",
       "      <td>8.0</td>\n",
       "      <td>159660.80</td>\n",
       "      <td>3</td>\n",
       "      <td>1</td>\n",
       "      <td>0</td>\n",
       "      <td>113931.57</td>\n",
       "      <td>1</td>\n",
       "    </tr>\n",
       "    <tr>\n",
       "      <td>3</td>\n",
       "      <td>4</td>\n",
       "      <td>15701354</td>\n",
       "      <td>Boni</td>\n",
       "      <td>699</td>\n",
       "      <td>France</td>\n",
       "      <td>Female</td>\n",
       "      <td>39</td>\n",
       "      <td>1.0</td>\n",
       "      <td>0.00</td>\n",
       "      <td>2</td>\n",
       "      <td>0</td>\n",
       "      <td>0</td>\n",
       "      <td>93826.63</td>\n",
       "      <td>0</td>\n",
       "    </tr>\n",
       "    <tr>\n",
       "      <td>4</td>\n",
       "      <td>5</td>\n",
       "      <td>15737888</td>\n",
       "      <td>Mitchell</td>\n",
       "      <td>850</td>\n",
       "      <td>Spain</td>\n",
       "      <td>Female</td>\n",
       "      <td>43</td>\n",
       "      <td>2.0</td>\n",
       "      <td>125510.82</td>\n",
       "      <td>1</td>\n",
       "      <td>1</td>\n",
       "      <td>1</td>\n",
       "      <td>79084.10</td>\n",
       "      <td>0</td>\n",
       "    </tr>\n",
       "  </tbody>\n",
       "</table>\n",
       "</div>"
      ],
      "text/plain": [
       "   RowNumber  CustomerId   Surname  CreditScore Geography  Gender  Age  \\\n",
       "0          1    15634602  Hargrave          619    France  Female   42   \n",
       "1          2    15647311      Hill          608     Spain  Female   41   \n",
       "2          3    15619304      Onio          502    France  Female   42   \n",
       "3          4    15701354      Boni          699    France  Female   39   \n",
       "4          5    15737888  Mitchell          850     Spain  Female   43   \n",
       "\n",
       "   Tenure    Balance  NumOfProducts  HasCrCard  IsActiveMember  \\\n",
       "0     2.0       0.00              1          1               1   \n",
       "1     1.0   83807.86              1          0               1   \n",
       "2     8.0  159660.80              3          1               0   \n",
       "3     1.0       0.00              2          0               0   \n",
       "4     2.0  125510.82              1          1               1   \n",
       "\n",
       "   EstimatedSalary  Exited  \n",
       "0        101348.88       1  \n",
       "1        112542.58       0  \n",
       "2        113931.57       1  \n",
       "3         93826.63       0  \n",
       "4         79084.10       0  "
      ]
     },
     "execution_count": 91,
     "metadata": {},
     "output_type": "execute_result"
    }
   ],
   "source": [
    "#загружаем датасет и смотрим на данные\n",
    "df = pd.read_csv('/datasets/Churn.csv')\n",
    "df.head(5)"
   ]
  },
  {
   "cell_type": "code",
   "execution_count": 92,
   "metadata": {},
   "outputs": [
    {
     "data": {
      "text/plain": [
       "(10000, 14)"
      ]
     },
     "execution_count": 92,
     "metadata": {},
     "output_type": "execute_result"
    }
   ],
   "source": [
    "df.shape"
   ]
  },
  {
   "cell_type": "code",
   "execution_count": 93,
   "metadata": {},
   "outputs": [
    {
     "data": {
      "text/html": [
       "<div>\n",
       "<style scoped>\n",
       "    .dataframe tbody tr th:only-of-type {\n",
       "        vertical-align: middle;\n",
       "    }\n",
       "\n",
       "    .dataframe tbody tr th {\n",
       "        vertical-align: top;\n",
       "    }\n",
       "\n",
       "    .dataframe thead th {\n",
       "        text-align: right;\n",
       "    }\n",
       "</style>\n",
       "<table border=\"1\" class=\"dataframe\">\n",
       "  <thead>\n",
       "    <tr style=\"text-align: right;\">\n",
       "      <th></th>\n",
       "      <th>RowNumber</th>\n",
       "      <th>CustomerId</th>\n",
       "      <th>CreditScore</th>\n",
       "      <th>Age</th>\n",
       "      <th>Tenure</th>\n",
       "      <th>Balance</th>\n",
       "      <th>NumOfProducts</th>\n",
       "      <th>HasCrCard</th>\n",
       "      <th>IsActiveMember</th>\n",
       "      <th>EstimatedSalary</th>\n",
       "      <th>Exited</th>\n",
       "    </tr>\n",
       "  </thead>\n",
       "  <tbody>\n",
       "    <tr>\n",
       "      <td>count</td>\n",
       "      <td>10000.00000</td>\n",
       "      <td>1.000000e+04</td>\n",
       "      <td>10000.000000</td>\n",
       "      <td>10000.000000</td>\n",
       "      <td>9091.000000</td>\n",
       "      <td>10000.000000</td>\n",
       "      <td>10000.000000</td>\n",
       "      <td>10000.00000</td>\n",
       "      <td>10000.000000</td>\n",
       "      <td>10000.000000</td>\n",
       "      <td>10000.000000</td>\n",
       "    </tr>\n",
       "    <tr>\n",
       "      <td>mean</td>\n",
       "      <td>5000.50000</td>\n",
       "      <td>1.569094e+07</td>\n",
       "      <td>650.528800</td>\n",
       "      <td>38.921800</td>\n",
       "      <td>4.997690</td>\n",
       "      <td>76485.889288</td>\n",
       "      <td>1.530200</td>\n",
       "      <td>0.70550</td>\n",
       "      <td>0.515100</td>\n",
       "      <td>100090.239881</td>\n",
       "      <td>0.203700</td>\n",
       "    </tr>\n",
       "    <tr>\n",
       "      <td>std</td>\n",
       "      <td>2886.89568</td>\n",
       "      <td>7.193619e+04</td>\n",
       "      <td>96.653299</td>\n",
       "      <td>10.487806</td>\n",
       "      <td>2.894723</td>\n",
       "      <td>62397.405202</td>\n",
       "      <td>0.581654</td>\n",
       "      <td>0.45584</td>\n",
       "      <td>0.499797</td>\n",
       "      <td>57510.492818</td>\n",
       "      <td>0.402769</td>\n",
       "    </tr>\n",
       "    <tr>\n",
       "      <td>min</td>\n",
       "      <td>1.00000</td>\n",
       "      <td>1.556570e+07</td>\n",
       "      <td>350.000000</td>\n",
       "      <td>18.000000</td>\n",
       "      <td>0.000000</td>\n",
       "      <td>0.000000</td>\n",
       "      <td>1.000000</td>\n",
       "      <td>0.00000</td>\n",
       "      <td>0.000000</td>\n",
       "      <td>11.580000</td>\n",
       "      <td>0.000000</td>\n",
       "    </tr>\n",
       "    <tr>\n",
       "      <td>25%</td>\n",
       "      <td>2500.75000</td>\n",
       "      <td>1.562853e+07</td>\n",
       "      <td>584.000000</td>\n",
       "      <td>32.000000</td>\n",
       "      <td>2.000000</td>\n",
       "      <td>0.000000</td>\n",
       "      <td>1.000000</td>\n",
       "      <td>0.00000</td>\n",
       "      <td>0.000000</td>\n",
       "      <td>51002.110000</td>\n",
       "      <td>0.000000</td>\n",
       "    </tr>\n",
       "    <tr>\n",
       "      <td>50%</td>\n",
       "      <td>5000.50000</td>\n",
       "      <td>1.569074e+07</td>\n",
       "      <td>652.000000</td>\n",
       "      <td>37.000000</td>\n",
       "      <td>5.000000</td>\n",
       "      <td>97198.540000</td>\n",
       "      <td>1.000000</td>\n",
       "      <td>1.00000</td>\n",
       "      <td>1.000000</td>\n",
       "      <td>100193.915000</td>\n",
       "      <td>0.000000</td>\n",
       "    </tr>\n",
       "    <tr>\n",
       "      <td>75%</td>\n",
       "      <td>7500.25000</td>\n",
       "      <td>1.575323e+07</td>\n",
       "      <td>718.000000</td>\n",
       "      <td>44.000000</td>\n",
       "      <td>7.000000</td>\n",
       "      <td>127644.240000</td>\n",
       "      <td>2.000000</td>\n",
       "      <td>1.00000</td>\n",
       "      <td>1.000000</td>\n",
       "      <td>149388.247500</td>\n",
       "      <td>0.000000</td>\n",
       "    </tr>\n",
       "    <tr>\n",
       "      <td>max</td>\n",
       "      <td>10000.00000</td>\n",
       "      <td>1.581569e+07</td>\n",
       "      <td>850.000000</td>\n",
       "      <td>92.000000</td>\n",
       "      <td>10.000000</td>\n",
       "      <td>250898.090000</td>\n",
       "      <td>4.000000</td>\n",
       "      <td>1.00000</td>\n",
       "      <td>1.000000</td>\n",
       "      <td>199992.480000</td>\n",
       "      <td>1.000000</td>\n",
       "    </tr>\n",
       "  </tbody>\n",
       "</table>\n",
       "</div>"
      ],
      "text/plain": [
       "         RowNumber    CustomerId   CreditScore           Age       Tenure  \\\n",
       "count  10000.00000  1.000000e+04  10000.000000  10000.000000  9091.000000   \n",
       "mean    5000.50000  1.569094e+07    650.528800     38.921800     4.997690   \n",
       "std     2886.89568  7.193619e+04     96.653299     10.487806     2.894723   \n",
       "min        1.00000  1.556570e+07    350.000000     18.000000     0.000000   \n",
       "25%     2500.75000  1.562853e+07    584.000000     32.000000     2.000000   \n",
       "50%     5000.50000  1.569074e+07    652.000000     37.000000     5.000000   \n",
       "75%     7500.25000  1.575323e+07    718.000000     44.000000     7.000000   \n",
       "max    10000.00000  1.581569e+07    850.000000     92.000000    10.000000   \n",
       "\n",
       "             Balance  NumOfProducts    HasCrCard  IsActiveMember  \\\n",
       "count   10000.000000   10000.000000  10000.00000    10000.000000   \n",
       "mean    76485.889288       1.530200      0.70550        0.515100   \n",
       "std     62397.405202       0.581654      0.45584        0.499797   \n",
       "min         0.000000       1.000000      0.00000        0.000000   \n",
       "25%         0.000000       1.000000      0.00000        0.000000   \n",
       "50%     97198.540000       1.000000      1.00000        1.000000   \n",
       "75%    127644.240000       2.000000      1.00000        1.000000   \n",
       "max    250898.090000       4.000000      1.00000        1.000000   \n",
       "\n",
       "       EstimatedSalary        Exited  \n",
       "count     10000.000000  10000.000000  \n",
       "mean     100090.239881      0.203700  \n",
       "std       57510.492818      0.402769  \n",
       "min          11.580000      0.000000  \n",
       "25%       51002.110000      0.000000  \n",
       "50%      100193.915000      0.000000  \n",
       "75%      149388.247500      0.000000  \n",
       "max      199992.480000      1.000000  "
      ]
     },
     "execution_count": 93,
     "metadata": {},
     "output_type": "execute_result"
    }
   ],
   "source": [
    "df.describe()"
   ]
  },
  {
   "cell_type": "code",
   "execution_count": 94,
   "metadata": {},
   "outputs": [
    {
     "name": "stdout",
     "output_type": "stream",
     "text": [
      "<class 'pandas.core.frame.DataFrame'>\n",
      "RangeIndex: 10000 entries, 0 to 9999\n",
      "Data columns (total 14 columns):\n",
      "RowNumber          10000 non-null int64\n",
      "CustomerId         10000 non-null int64\n",
      "Surname            10000 non-null object\n",
      "CreditScore        10000 non-null int64\n",
      "Geography          10000 non-null object\n",
      "Gender             10000 non-null object\n",
      "Age                10000 non-null int64\n",
      "Tenure             9091 non-null float64\n",
      "Balance            10000 non-null float64\n",
      "NumOfProducts      10000 non-null int64\n",
      "HasCrCard          10000 non-null int64\n",
      "IsActiveMember     10000 non-null int64\n",
      "EstimatedSalary    10000 non-null float64\n",
      "Exited             10000 non-null int64\n",
      "dtypes: float64(3), int64(8), object(3)\n",
      "memory usage: 1.1+ MB\n"
     ]
    }
   ],
   "source": [
    "df.info()"
   ]
  },
  {
   "cell_type": "code",
   "execution_count": 95,
   "metadata": {},
   "outputs": [
    {
     "data": {
      "text/plain": [
       "0"
      ]
     },
     "execution_count": 95,
     "metadata": {},
     "output_type": "execute_result"
    }
   ],
   "source": [
    "df.duplicated().sum()"
   ]
  },
  {
   "cell_type": "code",
   "execution_count": 96,
   "metadata": {},
   "outputs": [
    {
     "data": {
      "text/plain": [
       "RowNumber            0\n",
       "CustomerId           0\n",
       "Surname              0\n",
       "CreditScore          0\n",
       "Geography            0\n",
       "Gender               0\n",
       "Age                  0\n",
       "Tenure             909\n",
       "Balance              0\n",
       "NumOfProducts        0\n",
       "HasCrCard            0\n",
       "IsActiveMember       0\n",
       "EstimatedSalary      0\n",
       "Exited               0\n",
       "dtype: int64"
      ]
     },
     "execution_count": 96,
     "metadata": {},
     "output_type": "execute_result"
    }
   ],
   "source": [
    "df.isna().sum()"
   ]
  },
  {
   "cell_type": "code",
   "execution_count": 97,
   "metadata": {},
   "outputs": [
    {
     "data": {
      "image/png": "[encoded data removed]",
      "text/plain": [
       "<Figure size 720x720 with 2 Axes>"
      ]
     },
     "metadata": {},
     "output_type": "display_data"
    }
   ],
   "source": [
    "def heatmap_builder():\n",
    "    plt.figure(figsize=(10,10))\n",
    "    plt.title('Корреляционная матрица')\n",
    "    sns.heatmap(df.corr());\n",
    "    plt.show()\n",
    "    \n",
    "heatmap_builder()"
   ]
  },
  {
   "cell_type": "markdown",
   "metadata": {},
   "source": [
    "Промежуточный выводы:\n",
    "    \n",
    "- Дубликатов нет. \n",
    "- 909 пропусков по признаку Tenure (кол-во лет как клиента банка). Принимаем гипотезу, что отсутствующие данные по кол-ву лет как клиента банка означают 0 лет. Заменим пропуски на ноль.\n",
    "- Тип признака Tenure можно заменить на int, но в этом нет смысла, так как далее применяется стандартизация\n",
    "- Взаимозависимых количественных признаков нет\n",
    "- Излишние признаки датасета: RowNumber, CustomerId, Surname\n",
    "- Имеются категориальные признаки, которые можно обработать с помощью прямого кодирования\n",
    "- Имеются численные признаки, которые имеют разный маштаб и которые можно нормализовать"
   ]
  },
  {
   "cell_type": "code",
   "execution_count": 98,
   "metadata": {},
   "outputs": [],
   "source": [
    "def hist_builder(data_column, label, bins):\n",
    "    sns.set()\n",
    "    f, axes = plt.subplots(1, 2, figsize=(20,10))\n",
    "    axes[0].set_title(\"Плотность распределения для параметра: \" + label, fontsize=20)\n",
    "    axes[0].set_ylabel(\"Плотность параметра: \" + label, fontsize=18)\n",
    "    axes[0].set_xlabel(\"Параметр: \" + label, fontsize=18)\n",
    "    sns.distplot(data_column, axlabel=\"Параметр: \" + label, bins=bins, ax=axes[0])\n",
    "    \n",
    "    axes[1].set_title(\"Boxplot для параметра: \" + label, fontsize=18)\n",
    "    axes[1].set_xlabel(\"Параметр: \" + label, fontsize=18)\n",
    "    sns.boxplot(data=data_column, orient='h', ax=axes[1])\n",
    "    plt.show()\n",
    "    \n",
    "def anomaly_detection(data_column, label):\n",
    "    anomaly_threshold = data_column.quantile(0.75) + (data_column.quantile(0.75) - data_column.quantile(0.25)) * 1.5\n",
    "    anomaly_percent = round(len(data_column[data_column > anomaly_threshold]) / len(data_column) * 100, 2)\n",
    "    print(\"Доля выбросов параметра \" + label + \" равно: \" + str(anomaly_percent) + \"%\")\n",
    "    \n",
    "def check_param(data_column, label, bins):\n",
    "    hist_builder(data_column, label, bins)\n",
    "    anomaly_detection(data_column, label)"
   ]
  },
  {
   "cell_type": "code",
   "execution_count": 99,
   "metadata": {},
   "outputs": [
    {
     "name": "stdout",
     "output_type": "stream",
     "text": [
      "Анализ параметра 'CreditScore':\n"
     ]
    },
    {
     "data": {
      "image/png": "[encoded data removed]",
      "text/plain": [
       "<Figure size 1440x720 with 2 Axes>"
      ]
     },
     "metadata": {},
     "output_type": "display_data"
    },
    {
     "name": "stdout",
     "output_type": "stream",
     "text": [
      "Доля выбросов параметра CreditScore равно: 0.0%\n",
      "Анализ параметра 'Age':\n"
     ]
    },
    {
     "data": {
      "image/png": "[encoded data removed]",
      "text/plain": [
       "<Figure size 1440x720 with 2 Axes>"
      ]
     },
     "metadata": {},
     "output_type": "display_data"
    },
    {
     "name": "stdout",
     "output_type": "stream",
     "text": [
      "Доля выбросов параметра Age равно: 3.59%\n",
      "Анализ параметра 'Balance':\n"
     ]
    },
    {
     "data": {
      "image/png": "[encoded data removed]",
      "text/plain": [
       "<Figure size 1440x720 with 2 Axes>"
      ]
     },
     "metadata": {},
     "output_type": "display_data"
    },
    {
     "name": "stdout",
     "output_type": "stream",
     "text": [
      "Доля выбросов параметра Balance равно: 0.0%\n",
      "Анализ параметра 'EstimatedSalary':\n"
     ]
    },
    {
     "data": {
      "image/png": "[encoded data removed]",
      "text/plain": [
       "<Figure size 1440x720 with 2 Axes>"
      ]
     },
     "metadata": {},
     "output_type": "display_data"
    },
    {
     "name": "stdout",
     "output_type": "stream",
     "text": [
      "Доля выбросов параметра EstimatedSalary равно: 0.0%\n"
     ]
    }
   ],
   "source": [
    "for column in ['CreditScore', 'Age', 'Balance', 'EstimatedSalary']:\n",
    "    print(\"Анализ параметра '\" + column + \"':\")\n",
    "    check_param(df[column], column, 15)"
   ]
  },
  {
   "cell_type": "markdown",
   "metadata": {},
   "source": [
    "Значимых выбросов в данных не наблюдаем. Заметен нулевой пик по признаку Balance."
   ]
  },
  {
   "cell_type": "code",
   "execution_count": 100,
   "metadata": {},
   "outputs": [],
   "source": [
    "def pie_chart_builder(name):\n",
    "    plt.figure(figsize=(12,12))\n",
    "    df[name].value_counts().plot(kind='pie', autopct='%.0f%%')\n",
    "    plt.title('Круговая диаграмма для параметра: ' + name)\n",
    "    plt.show()"
   ]
  },
  {
   "cell_type": "code",
   "execution_count": 101,
   "metadata": {},
   "outputs": [
    {
     "data": {
      "image/png": "[encoded data removed]",
      "text/plain": [
       "<Figure size 864x864 with 1 Axes>"
      ]
     },
     "metadata": {},
     "output_type": "display_data"
    }
   ],
   "source": [
    "pie_chart_builder('Geography')"
   ]
  },
  {
   "cell_type": "code",
   "execution_count": 102,
   "metadata": {},
   "outputs": [
    {
     "data": {
      "image/png": "[encoded data removed]",
      "text/plain": [
       "<Figure size 864x864 with 1 Axes>"
      ]
     },
     "metadata": {},
     "output_type": "display_data"
    }
   ],
   "source": [
    "pie_chart_builder('Gender')"
   ]
  },
  {
   "cell_type": "code",
   "execution_count": 103,
   "metadata": {},
   "outputs": [
    {
     "data": {
      "image/png": "[encoded data removed]",
      "text/plain": [
       "<Figure size 864x864 with 1 Axes>"
      ]
     },
     "metadata": {},
     "output_type": "display_data"
    }
   ],
   "source": [
    "pie_chart_builder('HasCrCard')"
   ]
  },
  {
   "cell_type": "code",
   "execution_count": 104,
   "metadata": {},
   "outputs": [
    {
     "data": {
      "image/png": "[encoded data removed]",
      "text/plain": [
       "<Figure size 864x864 with 1 Axes>"
      ]
     },
     "metadata": {},
     "output_type": "display_data"
    }
   ],
   "source": [
    "pie_chart_builder('IsActiveMember')"
   ]
  },
  {
   "cell_type": "code",
   "execution_count": 105,
   "metadata": {},
   "outputs": [
    {
     "data": {
      "image/png": "[encoded data removed]",
      "text/plain": [
       "<Figure size 864x864 with 1 Axes>"
      ]
     },
     "metadata": {},
     "output_type": "display_data"
    }
   ],
   "source": [
    "pie_chart_builder('Exited')"
   ]
  },
  {
   "cell_type": "markdown",
   "metadata": {},
   "source": [
    "Целевой признак имеет дисбаланс: 80% класса '0', 20% класса '1'"
   ]
  },
  {
   "cell_type": "code",
   "execution_count": 106,
   "metadata": {},
   "outputs": [
    {
     "data": {
      "image/png": "[encoded data removed]",
      "text/plain": [
       "<Figure size 432x288 with 1 Axes>"
      ]
     },
     "metadata": {},
     "output_type": "display_data"
    }
   ],
   "source": [
    "#добавленный код v2.0\n",
    "#проверяем распределение параметра Tenure ДО заполнения пропусков\n",
    "plt.title(\"Распределения для параметра: Tenure\", fontsize=16)\n",
    "plt.ylabel(\"Количество значений: Tenure\", fontsize=14)\n",
    "plt.xlabel(\"Значение параметра: Tenure\", fontsize=14)\n",
    "df['Tenure'].hist(bins=10);"
   ]
  },
  {
   "cell_type": "markdown",
   "metadata": {},
   "source": [
    "Видно, что объем данных со значением '0' меньше остальных более чем в 2 раза. Принимаем гипотезу, что NaN значения - клиенты со \"стажем\" менее года, для которых не смогли внести данные."
   ]
  },
  {
   "cell_type": "markdown",
   "metadata": {},
   "source": [
    "Подготовим данные"
   ]
  },
  {
   "cell_type": "code",
   "execution_count": 107,
   "metadata": {},
   "outputs": [
    {
     "data": {
      "text/plain": [
       "909"
      ]
     },
     "execution_count": 107,
     "metadata": {},
     "output_type": "execute_result"
    }
   ],
   "source": [
    "#убираем пропуски в Tenure\n",
    "df['Tenure'].isna().sum()"
   ]
  },
  {
   "cell_type": "code",
   "execution_count": 108,
   "metadata": {},
   "outputs": [
    {
     "data": {
      "text/plain": [
       "0"
      ]
     },
     "execution_count": 108,
     "metadata": {},
     "output_type": "execute_result"
    }
   ],
   "source": [
    "df['Tenure'] = df['Tenure'].fillna(0)\n",
    "df['Tenure'].isna().sum()"
   ]
  },
  {
   "cell_type": "code",
   "execution_count": 109,
   "metadata": {},
   "outputs": [
    {
     "data": {
      "image/png": "[encoded data removed]",
      "text/plain": [
       "<Figure size 432x288 with 1 Axes>"
      ]
     },
     "metadata": {},
     "output_type": "display_data"
    }
   ],
   "source": [
    "#добавленный код v2.0\n",
    "#проверяем распределение параметра Tenure ДО заполнения пропусков\n",
    "plt.title(\"Распределения для параметра: Tenure\", fontsize=16)\n",
    "plt.ylabel(\"Количество значений: Tenure\", fontsize=14)\n",
    "plt.xlabel(\"Значение параметра: Tenure\", fontsize=14)\n",
    "df['Tenure'].hist(bins=10);"
   ]
  },
  {
   "cell_type": "code",
   "execution_count": 110,
   "metadata": {},
   "outputs": [
    {
     "name": "stdout",
     "output_type": "stream",
     "text": [
      "<class 'pandas.core.frame.DataFrame'>\n",
      "RangeIndex: 10000 entries, 0 to 9999\n",
      "Data columns (total 11 columns):\n",
      "CreditScore        10000 non-null int64\n",
      "Geography          10000 non-null object\n",
      "Gender             10000 non-null object\n",
      "Age                10000 non-null int64\n",
      "Tenure             10000 non-null float64\n",
      "Balance            10000 non-null float64\n",
      "NumOfProducts      10000 non-null int64\n",
      "HasCrCard          10000 non-null int64\n",
      "IsActiveMember     10000 non-null int64\n",
      "EstimatedSalary    10000 non-null float64\n",
      "Exited             10000 non-null int64\n",
      "dtypes: float64(3), int64(6), object(2)\n",
      "memory usage: 859.5+ KB\n"
     ]
    }
   ],
   "source": [
    "#удаляем лишние столбцы\n",
    "df = df.drop(['RowNumber', 'CustomerId', 'Surname'], axis = 1)\n",
    "df.info()"
   ]
  },
  {
   "cell_type": "markdown",
   "metadata": {},
   "source": [
    "Для категориальных признаков используем прямое кодирования с drop_first = True, чтобы обучать модель категориальному признаку и избежать dummy-ловушки:"
   ]
  },
  {
   "cell_type": "code",
   "execution_count": 111,
   "metadata": {},
   "outputs": [],
   "source": [
    "df = pd.get_dummies(df, drop_first=True)"
   ]
  },
  {
   "cell_type": "markdown",
   "metadata": {},
   "source": [
    "Чтобы избежать проблем при обучении, связанных с масштабом численных признаков, используем StandardScaler, для их масштабирования (приведение к среднему равному нулю и стандартному отклонению равному 1):"
   ]
  },
  {
   "cell_type": "markdown",
   "metadata": {},
   "source": [
    "Вывод по пункту 1:\n",
    "\n",
    "- Датасет содержит 10000 наблюдений. Дубликатов нет, пропуски только по признаку Tenure. Заменили пропуски на 0. Значимых выбросов не обнаружено.\n",
    "- Применили прямое кодирование для категориальных признаков\n",
    "- Применим стандартизацию числовых признаков с помощью StandardScaler\n",
    "- Удалили лишние признаки 'RowNumber', 'CustomerId', 'Surname'\n",
    "- Целевой признак имеет дисбаланс 4:1 (нулевых и единичных ответов, соответственно)\n",
    "- Датасет готов для разделения на выборки и дальнейшего исследования"
   ]
  },
  {
   "cell_type": "markdown",
   "metadata": {},
   "source": [
    "## Исследование задачи"
   ]
  },
  {
   "cell_type": "markdown",
   "metadata": {},
   "source": [
    "Разделим данные на признаки и \"ответы\", а далее на обучающую, валидационную и тестовую выборки в пропорции 60/20/20%"
   ]
  },
  {
   "cell_type": "code",
   "execution_count": 112,
   "metadata": {},
   "outputs": [],
   "source": [
    "features = df.drop(['Exited'], axis=1)\n",
    "target = df['Exited']"
   ]
  },
  {
   "cell_type": "code",
   "execution_count": 113,
   "metadata": {},
   "outputs": [],
   "source": [
    "features_rest, features_test, target_rest, target_test = train_test_split(\n",
    "    features, target, test_size=0.2, random_state=12345)\n",
    "\n",
    "features_train, features_valid, target_train, target_valid = train_test_split(\n",
    "    features_rest, target_rest, test_size=0.25, random_state=12345)"
   ]
  },
  {
   "cell_type": "markdown",
   "metadata": {},
   "source": [
    "Проверяем размеры выборок:"
   ]
  },
  {
   "cell_type": "code",
   "execution_count": 114,
   "metadata": {},
   "outputs": [
    {
     "name": "stdout",
     "output_type": "stream",
     "text": [
      "Размер обучающей выборки, признаки и ответы:  (6000, 11) и  (6000,)\n",
      "Размер валидационной выборки, признаки и ответы:  (2000, 11) и  (2000,)\n",
      "Размер тестовой выборки, признаки и ответы:  (2000, 11) и  (2000,)\n"
     ]
    }
   ],
   "source": [
    "print(\"Размер обучающей выборки, признаки и ответы: \", features_train.shape, \"и \", target_train.shape)\n",
    "print(\"Размер валидационной выборки, признаки и ответы: \", features_valid.shape, \"и \", target_valid.shape)\n",
    "print(\"Размер тестовой выборки, признаки и ответы: \", features_test.shape, \"и \", target_test.shape)"
   ]
  },
  {
   "cell_type": "markdown",
   "metadata": {},
   "source": [
    "Применим три модели классификации: Логистическая регрессия, решающее дерево, случайный лес, - без борьбы с дисбалансом по целевому признаку (на данный момент 80 и 20% для отрицательных и положительных ответов, соответственно)"
   ]
  },
  {
   "cell_type": "code",
   "execution_count": 115,
   "metadata": {},
   "outputs": [],
   "source": [
    "#добавленный код v2.0\n",
    "#производим стандартизацию выборок\n",
    "numeric = ['CreditScore', 'Age', 'Tenure', 'Balance', 'NumOfProducts', 'EstimatedSalary']\n",
    "scaler = StandardScaler()\n",
    "scaler.fit(features_train[numeric])\n",
    "features_train[numeric] = scaler.transform(features_train[numeric])\n",
    "features_valid[numeric] = scaler.transform(features_valid[numeric])\n",
    "features_test[numeric] = scaler.transform(features_test[numeric])"
   ]
  },
  {
   "cell_type": "code",
   "execution_count": 116,
   "metadata": {},
   "outputs": [
    {
     "name": "stdout",
     "output_type": "stream",
     "text": [
      "(6000, 11)\n"
     ]
    },
    {
     "data": {
      "text/html": [
       "<div>\n",
       "<style scoped>\n",
       "    .dataframe tbody tr th:only-of-type {\n",
       "        vertical-align: middle;\n",
       "    }\n",
       "\n",
       "    .dataframe tbody tr th {\n",
       "        vertical-align: top;\n",
       "    }\n",
       "\n",
       "    .dataframe thead th {\n",
       "        text-align: right;\n",
       "    }\n",
       "</style>\n",
       "<table border=\"1\" class=\"dataframe\">\n",
       "  <thead>\n",
       "    <tr style=\"text-align: right;\">\n",
       "      <th></th>\n",
       "      <th>CreditScore</th>\n",
       "      <th>Age</th>\n",
       "      <th>Tenure</th>\n",
       "      <th>Balance</th>\n",
       "      <th>NumOfProducts</th>\n",
       "      <th>HasCrCard</th>\n",
       "      <th>IsActiveMember</th>\n",
       "      <th>EstimatedSalary</th>\n",
       "      <th>Geography_Germany</th>\n",
       "      <th>Geography_Spain</th>\n",
       "      <th>Gender_Male</th>\n",
       "    </tr>\n",
       "  </thead>\n",
       "  <tbody>\n",
       "    <tr>\n",
       "      <td>492</td>\n",
       "      <td>-0.134048</td>\n",
       "      <td>-0.078068</td>\n",
       "      <td>-0.174142</td>\n",
       "      <td>0.076163</td>\n",
       "      <td>0.816929</td>\n",
       "      <td>0</td>\n",
       "      <td>1</td>\n",
       "      <td>0.331571</td>\n",
       "      <td>0</td>\n",
       "      <td>0</td>\n",
       "      <td>0</td>\n",
       "    </tr>\n",
       "    <tr>\n",
       "      <td>6655</td>\n",
       "      <td>-1.010798</td>\n",
       "      <td>0.494555</td>\n",
       "      <td>-1.451074</td>\n",
       "      <td>0.136391</td>\n",
       "      <td>-0.896909</td>\n",
       "      <td>1</td>\n",
       "      <td>1</td>\n",
       "      <td>-0.727858</td>\n",
       "      <td>0</td>\n",
       "      <td>0</td>\n",
       "      <td>1</td>\n",
       "    </tr>\n",
       "    <tr>\n",
       "      <td>4287</td>\n",
       "      <td>0.639554</td>\n",
       "      <td>1.353490</td>\n",
       "      <td>-1.131841</td>\n",
       "      <td>0.358435</td>\n",
       "      <td>-0.896909</td>\n",
       "      <td>1</td>\n",
       "      <td>1</td>\n",
       "      <td>-0.477006</td>\n",
       "      <td>1</td>\n",
       "      <td>0</td>\n",
       "      <td>1</td>\n",
       "    </tr>\n",
       "    <tr>\n",
       "      <td>42</td>\n",
       "      <td>-0.990168</td>\n",
       "      <td>2.116987</td>\n",
       "      <td>-0.812608</td>\n",
       "      <td>0.651725</td>\n",
       "      <td>-0.896909</td>\n",
       "      <td>1</td>\n",
       "      <td>1</td>\n",
       "      <td>-0.100232</td>\n",
       "      <td>0</td>\n",
       "      <td>0</td>\n",
       "      <td>0</td>\n",
       "    </tr>\n",
       "    <tr>\n",
       "      <td>8178</td>\n",
       "      <td>0.567351</td>\n",
       "      <td>0.685430</td>\n",
       "      <td>0.783558</td>\n",
       "      <td>0.813110</td>\n",
       "      <td>0.816929</td>\n",
       "      <td>1</td>\n",
       "      <td>1</td>\n",
       "      <td>0.801922</td>\n",
       "      <td>0</td>\n",
       "      <td>0</td>\n",
       "      <td>0</td>\n",
       "    </tr>\n",
       "  </tbody>\n",
       "</table>\n",
       "</div>"
      ],
      "text/plain": [
       "      CreditScore       Age    Tenure   Balance  NumOfProducts  HasCrCard  \\\n",
       "492     -0.134048 -0.078068 -0.174142  0.076163       0.816929          0   \n",
       "6655    -1.010798  0.494555 -1.451074  0.136391      -0.896909          1   \n",
       "4287     0.639554  1.353490 -1.131841  0.358435      -0.896909          1   \n",
       "42      -0.990168  2.116987 -0.812608  0.651725      -0.896909          1   \n",
       "8178     0.567351  0.685430  0.783558  0.813110       0.816929          1   \n",
       "\n",
       "      IsActiveMember  EstimatedSalary  Geography_Germany  Geography_Spain  \\\n",
       "492                1         0.331571                  0                0   \n",
       "6655               1        -0.727858                  0                0   \n",
       "4287               1        -0.477006                  1                0   \n",
       "42                 1        -0.100232                  0                0   \n",
       "8178               1         0.801922                  0                0   \n",
       "\n",
       "      Gender_Male  \n",
       "492             0  \n",
       "6655            1  \n",
       "4287            1  \n",
       "42              0  \n",
       "8178            0  "
      ]
     },
     "execution_count": 116,
     "metadata": {},
     "output_type": "execute_result"
    }
   ],
   "source": [
    "print(features_train.shape)\n",
    "features_train.head(5)"
   ]
  },
  {
   "cell_type": "code",
   "execution_count": 117,
   "metadata": {},
   "outputs": [
    {
     "name": "stdout",
     "output_type": "stream",
     "text": [
      "(2000, 11)\n"
     ]
    },
    {
     "data": {
      "text/html": [
       "<div>\n",
       "<style scoped>\n",
       "    .dataframe tbody tr th:only-of-type {\n",
       "        vertical-align: middle;\n",
       "    }\n",
       "\n",
       "    .dataframe tbody tr th {\n",
       "        vertical-align: top;\n",
       "    }\n",
       "\n",
       "    .dataframe thead th {\n",
       "        text-align: right;\n",
       "    }\n",
       "</style>\n",
       "<table border=\"1\" class=\"dataframe\">\n",
       "  <thead>\n",
       "    <tr style=\"text-align: right;\">\n",
       "      <th></th>\n",
       "      <th>CreditScore</th>\n",
       "      <th>Age</th>\n",
       "      <th>Tenure</th>\n",
       "      <th>Balance</th>\n",
       "      <th>NumOfProducts</th>\n",
       "      <th>HasCrCard</th>\n",
       "      <th>IsActiveMember</th>\n",
       "      <th>EstimatedSalary</th>\n",
       "      <th>Geography_Germany</th>\n",
       "      <th>Geography_Spain</th>\n",
       "      <th>Gender_Male</th>\n",
       "    </tr>\n",
       "  </thead>\n",
       "  <tbody>\n",
       "    <tr>\n",
       "      <td>2358</td>\n",
       "      <td>0.175393</td>\n",
       "      <td>0.399118</td>\n",
       "      <td>-1.131841</td>\n",
       "      <td>1.385698</td>\n",
       "      <td>-0.896909</td>\n",
       "      <td>0</td>\n",
       "      <td>1</td>\n",
       "      <td>-1.466761</td>\n",
       "      <td>0</td>\n",
       "      <td>0</td>\n",
       "      <td>1</td>\n",
       "    </tr>\n",
       "    <tr>\n",
       "      <td>8463</td>\n",
       "      <td>-1.299609</td>\n",
       "      <td>0.971741</td>\n",
       "      <td>-0.812608</td>\n",
       "      <td>-1.232442</td>\n",
       "      <td>-0.896909</td>\n",
       "      <td>1</td>\n",
       "      <td>0</td>\n",
       "      <td>0.254415</td>\n",
       "      <td>0</td>\n",
       "      <td>1</td>\n",
       "      <td>1</td>\n",
       "    </tr>\n",
       "    <tr>\n",
       "      <td>163</td>\n",
       "      <td>0.711757</td>\n",
       "      <td>-0.268942</td>\n",
       "      <td>-0.812608</td>\n",
       "      <td>-1.232442</td>\n",
       "      <td>0.816929</td>\n",
       "      <td>1</td>\n",
       "      <td>1</td>\n",
       "      <td>0.122863</td>\n",
       "      <td>0</td>\n",
       "      <td>1</td>\n",
       "      <td>0</td>\n",
       "    </tr>\n",
       "    <tr>\n",
       "      <td>3074</td>\n",
       "      <td>-0.391916</td>\n",
       "      <td>0.494555</td>\n",
       "      <td>0.464325</td>\n",
       "      <td>0.672529</td>\n",
       "      <td>-0.896909</td>\n",
       "      <td>1</td>\n",
       "      <td>0</td>\n",
       "      <td>0.585847</td>\n",
       "      <td>1</td>\n",
       "      <td>0</td>\n",
       "      <td>0</td>\n",
       "    </tr>\n",
       "    <tr>\n",
       "      <td>5989</td>\n",
       "      <td>0.165078</td>\n",
       "      <td>1.353490</td>\n",
       "      <td>1.741257</td>\n",
       "      <td>0.536522</td>\n",
       "      <td>-0.896909</td>\n",
       "      <td>0</td>\n",
       "      <td>0</td>\n",
       "      <td>1.462457</td>\n",
       "      <td>0</td>\n",
       "      <td>0</td>\n",
       "      <td>0</td>\n",
       "    </tr>\n",
       "  </tbody>\n",
       "</table>\n",
       "</div>"
      ],
      "text/plain": [
       "      CreditScore       Age    Tenure   Balance  NumOfProducts  HasCrCard  \\\n",
       "2358     0.175393  0.399118 -1.131841  1.385698      -0.896909          0   \n",
       "8463    -1.299609  0.971741 -0.812608 -1.232442      -0.896909          1   \n",
       "163      0.711757 -0.268942 -0.812608 -1.232442       0.816929          1   \n",
       "3074    -0.391916  0.494555  0.464325  0.672529      -0.896909          1   \n",
       "5989     0.165078  1.353490  1.741257  0.536522      -0.896909          0   \n",
       "\n",
       "      IsActiveMember  EstimatedSalary  Geography_Germany  Geography_Spain  \\\n",
       "2358               1        -1.466761                  0                0   \n",
       "8463               0         0.254415                  0                1   \n",
       "163                1         0.122863                  0                1   \n",
       "3074               0         0.585847                  1                0   \n",
       "5989               0         1.462457                  0                0   \n",
       "\n",
       "      Gender_Male  \n",
       "2358            1  \n",
       "8463            1  \n",
       "163             0  \n",
       "3074            0  \n",
       "5989            0  "
      ]
     },
     "execution_count": 117,
     "metadata": {},
     "output_type": "execute_result"
    }
   ],
   "source": [
    "print(features_valid.shape)\n",
    "features_valid.head(5)"
   ]
  },
  {
   "cell_type": "code",
   "execution_count": 118,
   "metadata": {},
   "outputs": [
    {
     "name": "stdout",
     "output_type": "stream",
     "text": [
      "(2000, 11)\n"
     ]
    },
    {
     "data": {
      "text/html": [
       "<div>\n",
       "<style scoped>\n",
       "    .dataframe tbody tr th:only-of-type {\n",
       "        vertical-align: middle;\n",
       "    }\n",
       "\n",
       "    .dataframe tbody tr th {\n",
       "        vertical-align: top;\n",
       "    }\n",
       "\n",
       "    .dataframe thead th {\n",
       "        text-align: right;\n",
       "    }\n",
       "</style>\n",
       "<table border=\"1\" class=\"dataframe\">\n",
       "  <thead>\n",
       "    <tr style=\"text-align: right;\">\n",
       "      <th></th>\n",
       "      <th>CreditScore</th>\n",
       "      <th>Age</th>\n",
       "      <th>Tenure</th>\n",
       "      <th>Balance</th>\n",
       "      <th>NumOfProducts</th>\n",
       "      <th>HasCrCard</th>\n",
       "      <th>IsActiveMember</th>\n",
       "      <th>EstimatedSalary</th>\n",
       "      <th>Geography_Germany</th>\n",
       "      <th>Geography_Spain</th>\n",
       "      <th>Gender_Male</th>\n",
       "    </tr>\n",
       "  </thead>\n",
       "  <tbody>\n",
       "    <tr>\n",
       "      <td>7867</td>\n",
       "      <td>-0.123733</td>\n",
       "      <td>0.685430</td>\n",
       "      <td>-0.493375</td>\n",
       "      <td>-1.232442</td>\n",
       "      <td>-0.896909</td>\n",
       "      <td>1</td>\n",
       "      <td>1</td>\n",
       "      <td>0.980212</td>\n",
       "      <td>0</td>\n",
       "      <td>1</td>\n",
       "      <td>0</td>\n",
       "    </tr>\n",
       "    <tr>\n",
       "      <td>1402</td>\n",
       "      <td>1.083087</td>\n",
       "      <td>-0.937002</td>\n",
       "      <td>1.102791</td>\n",
       "      <td>0.858518</td>\n",
       "      <td>-0.896909</td>\n",
       "      <td>1</td>\n",
       "      <td>0</td>\n",
       "      <td>-0.390486</td>\n",
       "      <td>0</td>\n",
       "      <td>0</td>\n",
       "      <td>1</td>\n",
       "    </tr>\n",
       "    <tr>\n",
       "      <td>8606</td>\n",
       "      <td>1.598822</td>\n",
       "      <td>0.303681</td>\n",
       "      <td>0.145091</td>\n",
       "      <td>-1.232442</td>\n",
       "      <td>0.816929</td>\n",
       "      <td>1</td>\n",
       "      <td>1</td>\n",
       "      <td>-0.435169</td>\n",
       "      <td>0</td>\n",
       "      <td>1</td>\n",
       "      <td>1</td>\n",
       "    </tr>\n",
       "    <tr>\n",
       "      <td>8885</td>\n",
       "      <td>0.165078</td>\n",
       "      <td>0.589993</td>\n",
       "      <td>-0.174142</td>\n",
       "      <td>0.412100</td>\n",
       "      <td>0.816929</td>\n",
       "      <td>1</td>\n",
       "      <td>1</td>\n",
       "      <td>1.017079</td>\n",
       "      <td>0</td>\n",
       "      <td>1</td>\n",
       "      <td>1</td>\n",
       "    </tr>\n",
       "    <tr>\n",
       "      <td>6494</td>\n",
       "      <td>0.484834</td>\n",
       "      <td>-1.032439</td>\n",
       "      <td>0.783558</td>\n",
       "      <td>-1.232442</td>\n",
       "      <td>0.816929</td>\n",
       "      <td>1</td>\n",
       "      <td>1</td>\n",
       "      <td>-1.343558</td>\n",
       "      <td>0</td>\n",
       "      <td>0</td>\n",
       "      <td>1</td>\n",
       "    </tr>\n",
       "  </tbody>\n",
       "</table>\n",
       "</div>"
      ],
      "text/plain": [
       "      CreditScore       Age    Tenure   Balance  NumOfProducts  HasCrCard  \\\n",
       "7867    -0.123733  0.685430 -0.493375 -1.232442      -0.896909          1   \n",
       "1402     1.083087 -0.937002  1.102791  0.858518      -0.896909          1   \n",
       "8606     1.598822  0.303681  0.145091 -1.232442       0.816929          1   \n",
       "8885     0.165078  0.589993 -0.174142  0.412100       0.816929          1   \n",
       "6494     0.484834 -1.032439  0.783558 -1.232442       0.816929          1   \n",
       "\n",
       "      IsActiveMember  EstimatedSalary  Geography_Germany  Geography_Spain  \\\n",
       "7867               1         0.980212                  0                1   \n",
       "1402               0        -0.390486                  0                0   \n",
       "8606               1        -0.435169                  0                1   \n",
       "8885               1         1.017079                  0                1   \n",
       "6494               1        -1.343558                  0                0   \n",
       "\n",
       "      Gender_Male  \n",
       "7867            0  \n",
       "1402            1  \n",
       "8606            1  \n",
       "8885            1  \n",
       "6494            1  "
      ]
     },
     "execution_count": 118,
     "metadata": {},
     "output_type": "execute_result"
    }
   ],
   "source": [
    "print(features_test.shape)\n",
    "features_test.head(5)"
   ]
  },
  {
   "cell_type": "markdown",
   "metadata": {},
   "source": [
    "### Логистическая регрессия"
   ]
  },
  {
   "cell_type": "markdown",
   "metadata": {},
   "source": [
    "Гиперпараметры модели:\n",
    "- C - инверсия силы регуляризации (малые значения -> модель недостаточно \"штрафуется\" за ошибки. Большие значения -> модель \"боится ошибиться\" и стремится к переобучению)\n",
    "- max_iter - число итераций, прежде чем будет достигнут критерий останова. (так как наилучшая точность не отличается, если использовать гиперпараметр по умолчанию, не будем использовать этот гиперпараметр)\n",
    "- solver - алгоритм оптимизации проблемы (для небольшого датасета используем liblinear)"
   ]
  },
  {
   "cell_type": "code",
   "execution_count": 119,
   "metadata": {},
   "outputs": [],
   "source": [
    "#обучаем и оцениваем модель\n",
    "def logit_regr(features_train, features_valid, target_train, target_valid, cw = None):\n",
    "    best_model_f1 = []\n",
    "    best_f1 = 0\n",
    "    best_f1_acc = 0\n",
    "\n",
    "    best_model_roc_auc = []\n",
    "    best_roc_auc = 0\n",
    "    best_roc_auc_acc = 0\n",
    "\n",
    "\n",
    "    for C_cur in np.linspace(0.01,2,100):\n",
    "        model = LogisticRegression(C=C_cur,\n",
    "                                   solver='liblinear',\n",
    "                                   class_weight = cw,\n",
    "                                   random_state=12345)\n",
    "        model.fit(features_train, target_train)\n",
    "        predictions = model.predict(features_valid)\n",
    "        f1 = f1_score(target_valid, predictions)\n",
    "        if (f1>best_f1):\n",
    "            best_f1 = f1\n",
    "            best_f1_acc = accuracy_score(target_valid, predictions)\n",
    "            best_params_f1 = [C_cur]\n",
    "        roc_auc = roc_auc_score(target_valid, predictions)\n",
    "        if (roc_auc>best_roc_auc):\n",
    "            best_roc_auc = roc_auc\n",
    "            best_roc_auc_acc = accuracy_score(target_valid, predictions)\n",
    "            best_model_roc_auc = [C_cur]\n",
    "\n",
    "    print('''Модель логистической регрессии\n",
    "          1. Лучшая модель по метрике f1:\n",
    "          f1: {}\n",
    "          accuracy: {}\n",
    "          C_cur: {}\n",
    "\n",
    "          2. Лучшая модель по метрике roc_auc:\n",
    "          roc_auc: {}\n",
    "          accuracy: {}\n",
    "          C_cur: {}\n",
    "          '''.format(round(best_f1, 3),\n",
    "                    round(best_f1_acc, 3),\n",
    "                    round(best_params_f1[0], 3),\n",
    "                    round(best_roc_auc, 3),\n",
    "                    round(best_roc_auc_acc, 3),\n",
    "                    round(best_model_roc_auc[0], 3)))\n",
    "\n"
   ]
  },
  {
   "cell_type": "code",
   "execution_count": 120,
   "metadata": {},
   "outputs": [
    {
     "name": "stdout",
     "output_type": "stream",
     "text": [
      "Модель логистической регрессии\n",
      "          1. Лучшая модель по метрике f1:\n",
      "          f1: 0.306\n",
      "          accuracy: 0.816\n",
      "          C_cur: 0.171\n",
      "\n",
      "          2. Лучшая модель по метрике roc_auc:\n",
      "          roc_auc: 0.586\n",
      "          accuracy: 0.816\n",
      "          C_cur: 0.171\n",
      "          \n",
      "Количество секунд обучения:  19.77\n"
     ]
    }
   ],
   "source": [
    "start = time.time()\n",
    "    \n",
    "logit_regr(features_train, features_valid, target_train, target_valid, cw = None)\n",
    "    \n",
    "end = time.time()\n",
    "print(\"Количество секунд обучения: \", round(end - start, 2))"
   ]
  },
  {
   "cell_type": "markdown",
   "metadata": {},
   "source": [
    "f1 = 0.31 < 0.59, модель не подходит \n",
    "\n",
    "Лучшая модель по метрике f1:\n",
    "- f1: 0.306\n",
    "- accuracy: 0.816\n",
    "- C_cur: 0.171"
   ]
  },
  {
   "cell_type": "markdown",
   "metadata": {},
   "source": [
    "### Решающее дерево"
   ]
  },
  {
   "cell_type": "markdown",
   "metadata": {},
   "source": [
    "Гиперпараметры модели:\n",
    "- max_depth - максимальная глубина дерева\n",
    "- min_samples_split - минимальное количество примеров для разделения\n",
    "- min_samples_leaf - минимальное количество объектов в листе\n",
    "- criterion - функция качества деления (Gini impurity / Entropy) - используем Gini   "
   ]
  },
  {
   "cell_type": "code",
   "execution_count": 121,
   "metadata": {},
   "outputs": [],
   "source": [
    "#обучаем и оцениваем модель\n",
    "def decision_tree(features_train, features_valid, target_train, target_valid, cw = None):\n",
    "    best_model_f1 = []\n",
    "    best_f1 = 0\n",
    "    best_f1_acc = 0\n",
    "\n",
    "    best_model_roc_auc = []\n",
    "    best_roc_auc = 0\n",
    "    best_roc_auc_acc = 0\n",
    "\n",
    "    for depth in range(2,15):\n",
    "        for samples_split in range(2,10):\n",
    "            for samples_leaf in range(1,10):\n",
    "                model = DecisionTreeClassifier(max_depth=depth,\n",
    "                                               min_samples_split=samples_split,\n",
    "                                               min_samples_leaf=samples_leaf,\n",
    "                                               criterion='gini',\n",
    "                                               class_weight = cw,\n",
    "                                               random_state=12345)\n",
    "                model.fit(features_train, target_train)\n",
    "                predictions = model.predict(features_valid)\n",
    "                f1 = f1_score(target_valid, predictions)\n",
    "                if (f1>best_f1):\n",
    "                    best_f1 = f1\n",
    "                    best_f1_acc = accuracy_score(target_valid, predictions)\n",
    "                    best_params_f1 = [depth, samples_split, samples_leaf]\n",
    "                roc_auc = roc_auc_score(target_valid, predictions)\n",
    "                if (roc_auc>best_roc_auc):\n",
    "                    best_roc_auc = roc_auc\n",
    "                    best_roc_auc_acc = accuracy_score(target_valid, predictions)\n",
    "                    best_model_roc_auc = [depth, samples_split, samples_leaf]\n",
    "\n",
    "    print('''Модель решающего дерева\n",
    "      1. Лучшая модель по метрике f1:\n",
    "      f1: {}\n",
    "      accuracy: {}\n",
    "      max_depth: {}\n",
    "      min_samples_split: {}\n",
    "      min_samples_leaf: {}\n",
    "\n",
    "      2. Лучшая модель по метрике roc_auc:\n",
    "      roc_auc: {}\n",
    "      accuracy: {}\n",
    "      max_depth: {}\n",
    "      min_samples_split: {}\n",
    "      min_samples_leaf: {}\n",
    "      '''.format(round(best_f1, 3),\n",
    "                round(best_f1_acc, 3),\n",
    "                best_params_f1[0],\n",
    "                best_params_f1[1],\n",
    "                best_params_f1[2],\n",
    "                round(best_roc_auc, 3),\n",
    "                round(best_roc_auc_acc, 3),\n",
    "                best_model_roc_auc[0],\n",
    "                best_model_roc_auc[1],\n",
    "                best_model_roc_auc[2]))\n"
   ]
  },
  {
   "cell_type": "code",
   "execution_count": 122,
   "metadata": {},
   "outputs": [
    {
     "name": "stdout",
     "output_type": "stream",
     "text": [
      "Модель решающего дерева\n",
      "      1. Лучшая модель по метрике f1:\n",
      "      f1: 0.567\n",
      "      accuracy: 0.862\n",
      "      max_depth: 7\n",
      "      min_samples_split: 2\n",
      "      min_samples_leaf: 8\n",
      "\n",
      "      2. Лучшая модель по метрике roc_auc:\n",
      "      roc_auc: 0.714\n",
      "      accuracy: 0.849\n",
      "      max_depth: 10\n",
      "      min_samples_split: 2\n",
      "      min_samples_leaf: 8\n",
      "      \n",
      "Количество секунд обучения:  29.18\n"
     ]
    }
   ],
   "source": [
    "start = time.time()\n",
    "\n",
    "decision_tree(features_train, features_valid, target_train, target_valid, cw = None)\n",
    "\n",
    "end = time.time()\n",
    "print(\"Количество секунд обучения: \", round(end - start, 2))"
   ]
  },
  {
   "cell_type": "markdown",
   "metadata": {},
   "source": [
    "f1 = 0.57 < 0.59, модель не подходит \n",
    "\n",
    "Лучшая модель по метрике f1:\n",
    "- f1: 0.567\n",
    "- accuracy: 0.862\n",
    "- max_depth: 7\n",
    "- min_samples_split: 2\n",
    "- min_samples_leaf: 8"
   ]
  },
  {
   "cell_type": "markdown",
   "metadata": {},
   "source": [
    "### Случайный лес"
   ]
  },
  {
   "cell_type": "code",
   "execution_count": 123,
   "metadata": {},
   "outputs": [],
   "source": [
    "#обучаем и оцениваем модель\n",
    "def random_forest(features_train, features_valid, target_train, target_valid, cw = None):\n",
    "    best_model_f1 = []\n",
    "    best_f1 = 0\n",
    "    best_f1_acc = 0\n",
    "\n",
    "    best_model_roc_auc = []\n",
    "    best_roc_auc = 0\n",
    "    best_roc_auc_acc = 0\n",
    "\n",
    "\n",
    "    for depth in range(2,12):\n",
    "        for est in range(1,7):\n",
    "            for samples_split in range(2,10):\n",
    "                for samples_leaf in range(1,10):\n",
    "                    model = RandomForestClassifier(n_estimators=est,\n",
    "                                                   max_depth=depth,\n",
    "                                                   min_samples_split=samples_split,\n",
    "                                                   min_samples_leaf=samples_leaf,\n",
    "                                                   criterion='gini',\n",
    "                                                   class_weight = cw,\n",
    "                                                   random_state=12345)\n",
    "                    model.fit(features_train, target_train)\n",
    "                    predictions = model.predict(features_valid)\n",
    "                    f1 = f1_score(target_valid, predictions)\n",
    "                    if (f1>best_f1):\n",
    "                        best_f1 = f1\n",
    "                        best_f1_acc = accuracy_score(target_valid, predictions)\n",
    "                        best_params_f1 = [est, depth, samples_split, samples_leaf]\n",
    "                    roc_auc = roc_auc_score(target_valid, predictions)\n",
    "                    if (roc_auc>best_roc_auc):\n",
    "                        best_roc_auc = roc_auc\n",
    "                        best_roc_auc_acc = accuracy_score(target_valid, predictions)\n",
    "                        best_model_roc_auc = [est, depth, samples_split, samples_leaf]\n",
    "\n",
    "    print('''Модель случайного леса\n",
    "          1. Лучшая модель по метрике f1:\n",
    "          f1: {}\n",
    "          accuracy: {}\n",
    "          n_estimators: {}\n",
    "          max_depth: {}\n",
    "          min_samples_split: {}\n",
    "          min_samples_leaf: {}\n",
    "\n",
    "          2. Лучшая модель по метрике roc_auc:\n",
    "          roc_auc: {}\n",
    "          accuracy: {}\n",
    "          n_estimators: {}\n",
    "          max_depth: {}\n",
    "          min_samples_split: {}\n",
    "          min_samples_leaf: {}\n",
    "          '''.format(round(best_f1, 3),\n",
    "                    round(best_f1_acc, 3),\n",
    "                    best_params_f1[0],\n",
    "                    best_params_f1[1],\n",
    "                    best_params_f1[2],\n",
    "                    best_params_f1[3],\n",
    "                    round(best_roc_auc, 3),\n",
    "                    round(best_roc_auc_acc, 3),\n",
    "                    best_model_roc_auc[0],\n",
    "                    best_model_roc_auc[1],\n",
    "                    best_model_roc_auc[2],\n",
    "                    best_model_roc_auc[3]))\n"
   ]
  },
  {
   "cell_type": "code",
   "execution_count": 124,
   "metadata": {},
   "outputs": [
    {
     "name": "stdout",
     "output_type": "stream",
     "text": [
      "Модель случайного леса\n",
      "          1. Лучшая модель по метрике f1:\n",
      "          f1: 0.571\n",
      "          accuracy: 0.867\n",
      "          n_estimators: 6\n",
      "          max_depth: 10\n",
      "          min_samples_split: 9\n",
      "          min_samples_leaf: 2\n",
      "\n",
      "          2. Лучшая модель по метрике roc_auc:\n",
      "          roc_auc: 0.712\n",
      "          accuracy: 0.841\n",
      "          n_estimators: 1\n",
      "          max_depth: 10\n",
      "          min_samples_split: 2\n",
      "          min_samples_leaf: 7\n",
      "          \n",
      "Количество секунд обучения:  148.2\n"
     ]
    }
   ],
   "source": [
    "start = time.time()\n",
    "\n",
    "random_forest(features_train, features_valid, target_train, target_valid, cw=None)\n",
    "\n",
    "end = time.time()\n",
    "print(\"Количество секунд обучения: \", round(end - start, 2))"
   ]
  },
  {
   "cell_type": "markdown",
   "metadata": {},
   "source": [
    "f1 = 0.57 < 0.59, модель не подходит \n",
    "\n",
    "Лучшая модель по метрике f1:\n",
    "- f1: 0.57\n",
    "- accuracy: 0.867\n",
    "- n_estimators: 6\n",
    "- max_depth: 10\n",
    "- min_samples_split: 9\n",
    "- min_samples_leaf: 2"
   ]
  },
  {
   "cell_type": "markdown",
   "metadata": {},
   "source": [
    "Проверка на адекватность:"
   ]
  },
  {
   "cell_type": "markdown",
   "metadata": {},
   "source": [
    "Проверка на адекватность также необходима чтобы понять, что модель \"адекватно\" пытается выявить закономерность в данных, а не просто выдавать ответ определенного образца, потому что его больше по объему в датасете. Если точность модели равна объему целевого признака определенной категории, то это дает повод задуматься."
   ]
  },
  {
   "cell_type": "code",
   "execution_count": 125,
   "metadata": {},
   "outputs": [
    {
     "data": {
      "text/plain": [
       "0    0.7963\n",
       "1    0.2037\n",
       "Name: Exited, dtype: float64"
      ]
     },
     "execution_count": 125,
     "metadata": {},
     "output_type": "execute_result"
    }
   ],
   "source": [
    "df['Exited'].value_counts(normalize=True)"
   ]
  },
  {
   "cell_type": "code",
   "execution_count": 126,
   "metadata": {},
   "outputs": [
    {
     "name": "stdout",
     "output_type": "stream",
     "text": [
      "Точность модели на тестовой выборке составляет:  0.786\n"
     ]
    }
   ],
   "source": [
    "#используем DummyClassifier для проверки адекватности модели\n",
    "best_accuracy = 0\n",
    "\n",
    "model = DummyClassifier(strategy='most_frequent')\n",
    "model.fit(features_train, target_train)\n",
    "predictions = model.predict(features_test)\n",
    "accuracy = accuracy_score(target_test, predictions)\n",
    "print(\"Точность модели на тестовой выборке составляет: \", round(accuracy, 3))"
   ]
  },
  {
   "cell_type": "markdown",
   "metadata": {},
   "source": [
    "👍👍👍"
   ]
  },
  {
   "cell_type": "markdown",
   "metadata": {},
   "source": [
    "Вывод по пункту 2:\n",
    "\n",
    "- Ни одна из рассмотренных моделей не подходит для проекта (f1 < 0.59). Попробуем разобраться с дисбалансом и посмотреть на результат.\n",
    "- Лучший результат у модели Случайный лес (f1 = 0.57), худший - у модели Логистическая регрессия (f1 = 0.306). По метрике roc_auc лучшие результаты для Моделей случайный лес и решающего дерева (0.712), а худший - для логистической регрессии (0.586).\n",
    "- Метрика accuracy для всех полученных моделей >80% (что не является показательной метрикой, точность для DummyClassifier составляет 78.6%), а метрика f1 < 0.59. Это подчеркивает важность работы с метрикой f1 при работе с дисбалансом в целевом признаке"
   ]
  },
  {
   "cell_type": "markdown",
   "metadata": {},
   "source": [
    "## Борьба с дисбалансом"
   ]
  },
  {
   "cell_type": "markdown",
   "metadata": {},
   "source": [
    "Попробуем следующие варианты борьбы с дисбалансом:\n",
    "- Взвешивание объектов\n",
    "- Upsampling\n",
    "- Downsampling\n",
    "- Выбор порога"
   ]
  },
  {
   "cell_type": "markdown",
   "metadata": {},
   "source": [
    "### Взвешивание объектов"
   ]
  },
  {
   "cell_type": "code",
   "execution_count": 127,
   "metadata": {},
   "outputs": [
    {
     "name": "stdout",
     "output_type": "stream",
     "text": [
      "Модель логистической регрессии\n",
      "          1. Лучшая модель по метрике f1:\n",
      "          f1: 0.478\n",
      "          accuracy: 0.708\n",
      "          C_cur: 0.111\n",
      "\n",
      "          2. Лучшая модель по метрике roc_auc:\n",
      "          roc_auc: 0.699\n",
      "          accuracy: 0.708\n",
      "          C_cur: 0.111\n",
      "          \n",
      "Количество секунд обучения:  19.87\n"
     ]
    }
   ],
   "source": [
    "#logistic_regression\n",
    "start = time.time()\n",
    "    \n",
    "logit_regr(features_train, features_valid, target_train, target_valid, cw = 'balanced')\n",
    "    \n",
    "end = time.time()\n",
    "print(\"Количество секунд обучения: \", round(end - start, 2))"
   ]
  },
  {
   "cell_type": "code",
   "execution_count": 128,
   "metadata": {},
   "outputs": [
    {
     "name": "stdout",
     "output_type": "stream",
     "text": [
      "Модель решающего дерева\n",
      "      1. Лучшая модель по метрике f1:\n",
      "      f1: 0.562\n",
      "      accuracy: 0.782\n",
      "      max_depth: 7\n",
      "      min_samples_split: 2\n",
      "      min_samples_leaf: 3\n",
      "\n",
      "      2. Лучшая модель по метрике roc_auc:\n",
      "      roc_auc: 0.758\n",
      "      accuracy: 0.764\n",
      "      max_depth: 5\n",
      "      min_samples_split: 2\n",
      "      min_samples_leaf: 8\n",
      "      \n",
      "Количество секунд обучения:  30.48\n"
     ]
    }
   ],
   "source": [
    "#decision_tree\n",
    "start = time.time()\n",
    "    \n",
    "decision_tree(features_train, features_valid, target_train, target_valid, cw = 'balanced')\n",
    "    \n",
    "end = time.time()\n",
    "print(\"Количество секунд обучения: \", round(end - start, 2))"
   ]
  },
  {
   "cell_type": "code",
   "execution_count": 129,
   "metadata": {},
   "outputs": [
    {
     "name": "stdout",
     "output_type": "stream",
     "text": [
      "Модель случайного леса\n",
      "          1. Лучшая модель по метрике f1:\n",
      "          f1: 0.591\n",
      "          accuracy: 0.832\n",
      "          n_estimators: 5\n",
      "          max_depth: 11\n",
      "          min_samples_split: 8\n",
      "          min_samples_leaf: 1\n",
      "\n",
      "          2. Лучшая модель по метрике roc_auc:\n",
      "          roc_auc: 0.759\n",
      "          accuracy: 0.804\n",
      "          n_estimators: 6\n",
      "          max_depth: 6\n",
      "          min_samples_split: 2\n",
      "          min_samples_leaf: 3\n",
      "          \n",
      "Количество секунд обучения:  153.6\n"
     ]
    }
   ],
   "source": [
    "#random_forest\n",
    "start = time.time()\n",
    "    \n",
    "random_forest(features_train, features_valid, target_train, target_valid, cw = 'balanced')\n",
    "    \n",
    "end = time.time()\n",
    "print(\"Количество секунд обучения: \", round(end - start, 2))"
   ]
  },
  {
   "cell_type": "markdown",
   "metadata": {},
   "source": [
    "На данном этапе f1 = 0.592 > 0.59. Однако, используем последующие способы борьбы с дисбалансом."
   ]
  },
  {
   "cell_type": "markdown",
   "metadata": {},
   "source": [
    "### Upsampling"
   ]
  },
  {
   "cell_type": "code",
   "execution_count": 130,
   "metadata": {},
   "outputs": [],
   "source": [
    "def upsample(features, target, repeat):\n",
    "    features_zeros = features[target==0]\n",
    "    features_ones = features[target==1]\n",
    "    target_zeros = target[target==0]\n",
    "    target_ones = target[target==1]\n",
    "    \n",
    "    features_upsampled = pd.concat([features_zeros] + [features_ones] * repeat)\n",
    "    target_upsampled = pd.concat([target_zeros] + [target_ones] * repeat)\n",
    "    \n",
    "    features_upsampled, target_upsampled = shuffle(\n",
    "    features_upsampled, target_upsampled, random_state=12345)\n",
    "    \n",
    "    return features_upsampled, target_upsampled"
   ]
  },
  {
   "cell_type": "code",
   "execution_count": 131,
   "metadata": {},
   "outputs": [
    {
     "name": "stdout",
     "output_type": "stream",
     "text": [
      "Модель логистической регрессии\n",
      "          1. Лучшая модель по метрике f1:\n",
      "          f1: 0.486\n",
      "          accuracy: 0.808\n",
      "          C_cur: 0.07\n",
      "\n",
      "          2. Лучшая модель по метрике roc_auc:\n",
      "          roc_auc: 0.678\n",
      "          accuracy: 0.808\n",
      "          C_cur: 0.07\n",
      "          \n",
      "Количество секунд обучения:  19.79\n"
     ]
    }
   ],
   "source": [
    "#logistic_regression\n",
    "start = time.time()\n",
    "\n",
    "features_upsampled, target_upsampled = upsample(features_train, target_train, 2)\n",
    "logit_regr(features_upsampled, features_valid, target_upsampled, target_valid, cw = None)\n",
    "    \n",
    "end = time.time()\n",
    "print(\"Количество секунд обучения: \", round(end - start, 2))"
   ]
  },
  {
   "cell_type": "code",
   "execution_count": 132,
   "metadata": {},
   "outputs": [
    {
     "name": "stdout",
     "output_type": "stream",
     "text": [
      "Модель решающего дерева\n",
      "      1. Лучшая модель по метрике f1:\n",
      "      f1: 0.584\n",
      "      accuracy: 0.84\n",
      "      max_depth: 7\n",
      "      min_samples_split: 2\n",
      "      min_samples_leaf: 5\n",
      "\n",
      "      2. Лучшая модель по метрике roc_auc:\n",
      "      roc_auc: 0.74\n",
      "      accuracy: 0.84\n",
      "      max_depth: 7\n",
      "      min_samples_split: 2\n",
      "      min_samples_leaf: 5\n",
      "      \n",
      "Количество секунд обучения:  32.88\n"
     ]
    }
   ],
   "source": [
    "#decision_tree\n",
    "start = time.time()\n",
    "    \n",
    "features_upsampled, target_upsampled = upsample(features_train, target_train, 2)\n",
    "decision_tree(features_upsampled, features_valid, target_upsampled, target_valid, cw = None)\n",
    "    \n",
    "end = time.time()\n",
    "print(\"Количество секунд обучения: \", round(end - start, 2))"
   ]
  },
  {
   "cell_type": "code",
   "execution_count": 133,
   "metadata": {},
   "outputs": [
    {
     "name": "stdout",
     "output_type": "stream",
     "text": [
      "Модель случайного леса\n",
      "          1. Лучшая модель по метрике f1:\n",
      "          f1: 0.614\n",
      "          accuracy: 0.858\n",
      "          n_estimators: 5\n",
      "          max_depth: 8\n",
      "          min_samples_split: 8\n",
      "          min_samples_leaf: 2\n",
      "\n",
      "          2. Лучшая модель по метрике roc_auc:\n",
      "          roc_auc: 0.752\n",
      "          accuracy: 0.854\n",
      "          n_estimators: 3\n",
      "          max_depth: 8\n",
      "          min_samples_split: 8\n",
      "          min_samples_leaf: 2\n",
      "          \n",
      "Количество секунд обучения:  161.51\n"
     ]
    }
   ],
   "source": [
    "#random_forest\n",
    "start = time.time()\n",
    "\n",
    "features_upsampled, target_upsampled = upsample(features_train, target_train, 2)\n",
    "random_forest(features_upsampled, features_valid, target_upsampled, target_valid, cw = None)\n",
    "    \n",
    "end = time.time()\n",
    "print(\"Количество секунд обучения: \", round(end - start, 2))"
   ]
  },
  {
   "cell_type": "markdown",
   "metadata": {},
   "source": [
    "### Downsampling"
   ]
  },
  {
   "cell_type": "code",
   "execution_count": 134,
   "metadata": {},
   "outputs": [],
   "source": [
    "def downsample(features, target, fraction):\n",
    "    features_zeros = features[target==0]\n",
    "    features_ones = features[target==1]\n",
    "    target_zeros = target[target==0]\n",
    "    target_ones = target[target==1]\n",
    "    \n",
    "    features_downsampled = pd.concat([features_zeros.sample(frac=fraction, random_state=12345)] + [features_ones])\n",
    "    target_downsampled = pd.concat([target_zeros.sample(frac=fraction, random_state=12345)] + [target_ones])\n",
    "    \n",
    "    features_downsampled, target_downsampled = shuffle(\n",
    "    features_downsampled, target_downsampled, random_state=12345)\n",
    "    \n",
    "    return features_downsampled, target_downsampled"
   ]
  },
  {
   "cell_type": "code",
   "execution_count": 135,
   "metadata": {},
   "outputs": [
    {
     "name": "stdout",
     "output_type": "stream",
     "text": [
      "Модель логистической регрессии\n",
      "          1. Лучшая модель по метрике f1:\n",
      "          f1: 0.493\n",
      "          accuracy: 0.806\n",
      "          C_cur: 0.915\n",
      "\n",
      "          2. Лучшая модель по метрике roc_auc:\n",
      "          roc_auc: 0.684\n",
      "          accuracy: 0.806\n",
      "          C_cur: 0.915\n",
      "          \n",
      "Количество секунд обучения:  17.69\n"
     ]
    }
   ],
   "source": [
    "#logistic_regression\n",
    "start = time.time()\n",
    "\n",
    "features_downsampled, target_downsampled = downsample(features_train, target_train, 0.5)\n",
    "logit_regr(features_downsampled, features_valid, target_downsampled, target_valid, cw = None)\n",
    "    \n",
    "end = time.time()\n",
    "print(\"Количество секунд обучения: \", round(end - start, 2))"
   ]
  },
  {
   "cell_type": "code",
   "execution_count": 136,
   "metadata": {},
   "outputs": [
    {
     "name": "stdout",
     "output_type": "stream",
     "text": [
      "Модель решающего дерева\n",
      "      1. Лучшая модель по метрике f1:\n",
      "      f1: 0.593\n",
      "      accuracy: 0.828\n",
      "      max_depth: 7\n",
      "      min_samples_split: 2\n",
      "      min_samples_leaf: 7\n",
      "\n",
      "      2. Лучшая модель по метрике roc_auc:\n",
      "      roc_auc: 0.757\n",
      "      accuracy: 0.828\n",
      "      max_depth: 7\n",
      "      min_samples_split: 2\n",
      "      min_samples_leaf: 7\n",
      "      \n",
      "Количество секунд обучения:  20.11\n"
     ]
    }
   ],
   "source": [
    "#decision_tree\n",
    "start = time.time()\n",
    "\n",
    "features_downsampled, target_downsampled = downsample(features_train, target_train, 0.5)\n",
    "decision_tree(features_downsampled, features_valid, target_downsampled, target_valid, cw = None)\n",
    "    \n",
    "end = time.time()\n",
    "print(\"Количество секунд обучения: \", round(end - start, 2))"
   ]
  },
  {
   "cell_type": "code",
   "execution_count": 137,
   "metadata": {},
   "outputs": [
    {
     "name": "stdout",
     "output_type": "stream",
     "text": [
      "Модель случайного леса\n",
      "          1. Лучшая модель по метрике f1:\n",
      "          f1: 0.605\n",
      "          accuracy: 0.859\n",
      "          n_estimators: 6\n",
      "          max_depth: 8\n",
      "          min_samples_split: 2\n",
      "          min_samples_leaf: 5\n",
      "\n",
      "          2. Лучшая модель по метрике roc_auc:\n",
      "          roc_auc: 0.743\n",
      "          accuracy: 0.859\n",
      "          n_estimators: 6\n",
      "          max_depth: 8\n",
      "          min_samples_split: 2\n",
      "          min_samples_leaf: 5\n",
      "          \n",
      "Количество секунд обучения:  119.3\n"
     ]
    }
   ],
   "source": [
    "#random_forest\n",
    "start = time.time()\n",
    "\n",
    "features_downsampled, target_downsampled = downsample(features_train, target_train, 0.6)\n",
    "random_forest(features_downsampled, features_valid, target_downsampled, target_valid, cw = None)\n",
    "    \n",
    "end = time.time()\n",
    "print(\"Количество секунд обучения: \", round(end - start, 2))"
   ]
  },
  {
   "cell_type": "markdown",
   "metadata": {},
   "source": [
    "### Выбор порога"
   ]
  },
  {
   "cell_type": "markdown",
   "metadata": {},
   "source": [
    "Так как модель случайного леса показывает наилучший результат среди трех рассматриваемых моделей, в этом пункте будем рассматривать ее:"
   ]
  },
  {
   "cell_type": "code",
   "execution_count": 138,
   "metadata": {},
   "outputs": [],
   "source": [
    "#обучаем и оцениваем модель\n",
    "def random_forest_threshold(features_train, features_valid, target_train, target_valid, cw = None):\n",
    "    best_model_f1 = []\n",
    "    best_f1 = 0\n",
    "    best_f1_acc = 0\n",
    "\n",
    "    best_model_roc_auc = []\n",
    "    best_roc_auc = 0\n",
    "    best_roc_auc_acc = 0\n",
    "\n",
    "\n",
    "    for depth in range(2,12):\n",
    "        for est in range(1,7):\n",
    "            for samples_split in range(2,10):\n",
    "                for samples_leaf in range(1,10):\n",
    "                    model = RandomForestClassifier(n_estimators=est,\n",
    "                                                   max_depth=depth,\n",
    "                                                   min_samples_split=samples_split,\n",
    "                                                   min_samples_leaf=samples_leaf,\n",
    "                                                   criterion='gini',\n",
    "                                                   class_weight = cw,\n",
    "                                                   random_state=12345)\n",
    "                    model.fit(features_train, target_train)\n",
    "                    predictions = model.predict_proba(features_valid)\n",
    "                    predictions_one_valid = predictions[:, 1]\n",
    "                    \n",
    "                    for threshold in np.arange(0, 1, 0.1):\n",
    "                        predicted_final = predictions_one_valid > threshold\n",
    "                        f1 = f1_score(target_valid, predicted_final)\n",
    "                        if (f1>best_f1):\n",
    "                            best_f1 = f1\n",
    "                            best_f1_acc = accuracy_score(target_valid, predicted_final)\n",
    "                            best_params_f1 = [threshold, est, depth, samples_split, samples_leaf]\n",
    "                        roc_auc = roc_auc_score(target_valid, predicted_final)\n",
    "                        if (roc_auc>best_roc_auc):\n",
    "                            best_roc_auc = roc_auc\n",
    "                            best_roc_auc_acc = accuracy_score(target_valid, predicted_final)\n",
    "                            best_model_roc_auc = [threshold, est, depth, samples_split, samples_leaf]\n",
    "\n",
    "    print('''Модель случайного леса\n",
    "          1. Лучшая модель по метрике f1:\n",
    "          f1: {}\n",
    "          accuracy: {}\n",
    "          threshold: {}\n",
    "          n_estimators: {}\n",
    "          max_depth: {}\n",
    "          min_samples_split: {}\n",
    "          min_samples_leaf: {}\n",
    "\n",
    "          2. Лучшая модель по метрике roc_auc:\n",
    "          roc_auc: {}\n",
    "          accuracy: {}\n",
    "          threshold: {}\n",
    "          n_estimators: {}\n",
    "          max_depth: {}\n",
    "          min_samples_split: {}\n",
    "          min_samples_leaf: {}\n",
    "          '''.format(round(best_f1, 3),\n",
    "                    round(best_f1_acc, 3),\n",
    "                    round(best_params_f1[0], 1),\n",
    "                    best_params_f1[1],\n",
    "                    best_params_f1[2],\n",
    "                    best_params_f1[3],\n",
    "                    best_params_f1[4],\n",
    "                    round(best_roc_auc, 3),\n",
    "                    round(best_roc_auc_acc, 3),\n",
    "                    round(best_model_roc_auc[0], 1),\n",
    "                    best_model_roc_auc[1],\n",
    "                    best_model_roc_auc[2],\n",
    "                    best_model_roc_auc[3],\n",
    "                    best_model_roc_auc[4]))\n"
   ]
  },
  {
   "cell_type": "code",
   "execution_count": 139,
   "metadata": {},
   "outputs": [
    {
     "name": "stdout",
     "output_type": "stream",
     "text": [
      "Модель случайного леса\n",
      "          1. Лучшая модель по метрике f1:\n",
      "          f1: 0.606\n",
      "          accuracy: 0.842\n",
      "          threshold: 0.3\n",
      "          n_estimators: 6\n",
      "          max_depth: 7\n",
      "          min_samples_split: 2\n",
      "          min_samples_leaf: 9\n",
      "\n",
      "          2. Лучшая модель по метрике roc_auc:\n",
      "          roc_auc: 0.763\n",
      "          accuracy: 0.762\n",
      "          threshold: 0.2\n",
      "          n_estimators: 5\n",
      "          max_depth: 7\n",
      "          min_samples_split: 2\n",
      "          min_samples_leaf: 9\n",
      "          \n",
      "Количество секунд обучения:  314.91\n"
     ]
    }
   ],
   "source": [
    "#random_forest+threshold\n",
    "start = time.time()\n",
    "\n",
    "random_forest_threshold(features_train, features_valid, target_train, target_valid, cw=None)\n",
    "\n",
    "end = time.time()\n",
    "print(\"Количество секунд обучения: \", round(end - start, 2))"
   ]
  },
  {
   "cell_type": "markdown",
   "metadata": {},
   "source": [
    "Проверим сочетание выбора порога и использования upsample данные:"
   ]
  },
  {
   "cell_type": "code",
   "execution_count": 140,
   "metadata": {},
   "outputs": [
    {
     "name": "stdout",
     "output_type": "stream",
     "text": [
      "Модель случайного леса\n",
      "          1. Лучшая модель по метрике f1:\n",
      "          f1: 0.614\n",
      "          accuracy: 0.858\n",
      "          threshold: 0.5\n",
      "          n_estimators: 5\n",
      "          max_depth: 8\n",
      "          min_samples_split: 8\n",
      "          min_samples_leaf: 2\n",
      "\n",
      "          2. Лучшая модель по метрике roc_auc:\n",
      "          roc_auc: 0.768\n",
      "          accuracy: 0.769\n",
      "          threshold: 0.3\n",
      "          n_estimators: 5\n",
      "          max_depth: 9\n",
      "          min_samples_split: 9\n",
      "          min_samples_leaf: 3\n",
      "          \n",
      "Количество секунд обучения:  330.82\n"
     ]
    }
   ],
   "source": [
    "#random_forest+threshold+upsample\n",
    "start = time.time()\n",
    "\n",
    "features_upsampled, target_upsampled = upsample(features_train, target_train, 2)\n",
    "random_forest_threshold(features_upsampled, features_valid, target_upsampled, target_valid, cw = None)\n",
    "\n",
    "end = time.time()\n",
    "print(\"Количество секунд обучения: \", round(end - start, 2))"
   ]
  },
  {
   "cell_type": "markdown",
   "metadata": {},
   "source": [
    "Оптимальный порог для модели с upsample данными по метрике f1 равен 0.5, который был по умолчанию."
   ]
  },
  {
   "cell_type": "markdown",
   "metadata": {},
   "source": [
    "Выводы по пункту 3:\n",
    "\n",
    "- Четыре метода взвешивание объектов, upsample, downsample и выбор порога показали хорошие результаты по увеличению метрики f1. Для модели случайного леса f1 > 0.59 после применения методов борьбы с дисбалансом.\n",
    "- Лучший результат достигнут в upsampling, f1 = 0.614\n",
    "- Сочетание методов upsampling и выбора порога не дало увеличения в метрике f1 (f1 = 0.614)\n",
    "    "
   ]
  },
  {
   "cell_type": "markdown",
   "metadata": {},
   "source": [
    "## Тестирование модели"
   ]
  },
  {
   "cell_type": "markdown",
   "metadata": {},
   "source": [
    "Итоговая модель для тестирования:"
   ]
  },
  {
   "cell_type": "code",
   "execution_count": 146,
   "metadata": {},
   "outputs": [
    {
     "name": "stdout",
     "output_type": "stream",
     "text": [
      "Модель случайного леса + upsample данных\n",
      "\n",
      "f1: 0.614\n",
      "accuracy: 0.858\n",
      "n_estimators: 5\n",
      "max_depth: 8\n",
      "min_samples_split: 8\n",
      "min_samples_leaf: 2\n"
     ]
    }
   ],
   "source": [
    "print('''Модель случайного леса + upsample данных\n",
    "\n",
    "f1: 0.614\n",
    "accuracy: 0.858\n",
    "n_estimators: 5\n",
    "max_depth: 8\n",
    "min_samples_split: 8\n",
    "min_samples_leaf: 2''')"
   ]
  },
  {
   "cell_type": "code",
   "execution_count": 142,
   "metadata": {},
   "outputs": [],
   "source": [
    "#функция построения ROC-кривой\n",
    "def plot_roc_curve(fpr, tpr, label):\n",
    "    sns.set()\n",
    "    plt.figure(figsize=(12,12))\n",
    "    plt.title(label, fontsize=20)\n",
    "    plt.xlabel('False Positive Rate (FPR)', fontsize=16)\n",
    "    plt.ylabel('True Positive Rate (TPR)', fontsize=16)\n",
    "    plt.xlim([0,1])\n",
    "    plt.ylim([0,1])\n",
    "    plt.plot([0,1], [0,1], linestyle='--')\n",
    "    plt.plot(fpr,tpr)\n",
    "    plt.show()"
   ]
  },
  {
   "cell_type": "code",
   "execution_count": 143,
   "metadata": {},
   "outputs": [],
   "source": [
    "#обучаем и оцениваем модель\n",
    "def random_forest_final(features_train, features_test, target_train, target_test, cw = None):\n",
    "    best_model_f1 = []\n",
    "    best_model_f1_metrics = []\n",
    "    \n",
    "    best_f1 = 0\n",
    "    \n",
    "    model = RandomForestClassifier(n_estimators=5,\n",
    "                                   max_depth=8,\n",
    "                                   min_samples_split=8,\n",
    "                                   min_samples_leaf=2,\n",
    "                                   criterion='gini',\n",
    "                                   class_weight = cw,\n",
    "                                   random_state=12345)\n",
    "    model.fit(features_train, target_train)\n",
    "    predictions = model.predict(features_test)\n",
    "    predictions_proba = model.predict_proba(features_test)\n",
    "    predictions_proba_one = predictions_proba[:, 1]\n",
    "    f1 = f1_score(target_test, predictions)\n",
    "    if (f1>best_f1):\n",
    "        best_params_f1 = [5, 8, 8, 2]\n",
    "        \n",
    "        best_f1 = f1\n",
    "        best_f1_acc = accuracy_score(target_test, predictions)\n",
    "        best_f1_recall = recall_score(target_test, predictions)\n",
    "        best_f1_precision = precision_score(target_test, predictions)\n",
    "        best_f1_roc_auc = roc_auc_score(target_test, predictions)\n",
    "        \n",
    "        best_model_f1_metrics = [best_f1, best_f1_acc, best_f1_recall, best_f1_precision, best_f1_roc_auc]\n",
    "        \n",
    "        fpr, tpr, thresholds = roc_curve(target_test, predictions_proba_one)\n",
    "     \n",
    "    plot_roc_curve(fpr, tpr, 'ROC-curve, RF model')\n",
    "  \n",
    "    print('''Модель случайного леса\n",
    "  Метрики итоговой модели:\n",
    "  f1: {}\n",
    "  accuracy: {}\n",
    "  recall: {}\n",
    "  precision: {}\n",
    "  roc_auc: {}\n",
    "\n",
    "  Гиперпараметры итоговой модели:\n",
    "  n_estimators: {}\n",
    "  max_depth: {}\n",
    "  min_samples_split: {}\n",
    "  min_samples_leaf: {}\n",
    "  '''.format(\n",
    "            round(best_model_f1_metrics[0], 3),\n",
    "            round(best_model_f1_metrics[1], 3),\n",
    "            round(best_model_f1_metrics[2], 3),\n",
    "            round(best_model_f1_metrics[3], 3),\n",
    "            round(best_model_f1_metrics[4], 3),\n",
    "            best_params_f1[0],\n",
    "            best_params_f1[1],\n",
    "            best_params_f1[2],\n",
    "            best_params_f1[3]\n",
    "            )\n",
    "         )\n"
   ]
  },
  {
   "cell_type": "code",
   "execution_count": 144,
   "metadata": {},
   "outputs": [
    {
     "data": {
      "image/png": "[encoded data removed]",
      "text/plain": [
       "<Figure size 864x864 with 1 Axes>"
      ]
     },
     "metadata": {},
     "output_type": "display_data"
    },
    {
     "name": "stdout",
     "output_type": "stream",
     "text": [
      "Модель случайного леса\n",
      "  Метрики итоговой модели:\n",
      "  f1: 0.631\n",
      "  accuracy: 0.855\n",
      "  recall: 0.581\n",
      "  precision: 0.691\n",
      "  roc_auc: 0.755\n",
      "\n",
      "  Гиперпараметры итоговой модели:\n",
      "  n_estimators: 5\n",
      "  max_depth: 8\n",
      "  min_samples_split: 8\n",
      "  min_samples_leaf: 2\n",
      "  \n",
      "Количество секунд обучения:  0.7\n"
     ]
    }
   ],
   "source": [
    "#random_forest_final\n",
    "start = time.time()\n",
    "\n",
    "features_upsampled, target_upsampled = upsample(features_train, target_train, 2)\n",
    "random_forest_final(features_upsampled, features_test, target_upsampled, target_test, cw = None)\n",
    "    \n",
    "end = time.time()\n",
    "print(\"Количество секунд обучения: \", round(end - start, 2))"
   ]
  },
  {
   "cell_type": "markdown",
   "metadata": {},
   "source": [
    "**Вывод по пункту 4:**\n",
    "\n",
    "Метрики итоговой модели на тестовой выборке:\n",
    "- **f1: 0.631**\n",
    "- accuracy: 0.856\n",
    "- recall: 0.581\n",
    "- precision: 0.693\n",
    "- roc_auc: 0.755\n",
    "\n",
    "Гиперпараметры итоговой модели случайного леса:\n",
    "\n",
    "- n_estimators: 5\n",
    "- max_depth: 8\n",
    "- min_samples_split: 8\n",
    "- min_samples_leaf: 2"
   ]
  },
  {
   "cell_type": "markdown",
   "metadata": {},
   "source": [
    "## Общий вывод"
   ]
  },
  {
   "cell_type": "markdown",
   "metadata": {},
   "source": [
    "- Датасет содержит 10000 наблюдений. Дубликатов нет, пропуски только по признаку Tenure. Заменили пропуски на 0. Значимых выбросов не обнаружено.\n",
    "- Применили прямое кодирование для категориальных признаков\n",
    "- Применили стандартизацию числовых признаков с помощью StandardScaler\n",
    "- Удалили лишние признаки 'RowNumber', 'CustomerId', 'Surname'\n",
    "- Изначально, целевой признак имеет дисбаланс 4:1 (нулевых и единичных ответов, соответственно)\n",
    "\n",
    "- Ни одна из рассмотренных моделей до борьбы с дисбалансом не подходила для проекта (f1 < 0.59)\n",
    "- Метрика accuracy для всех полученных моделей >80% до борьбы с дисбалансом (что не является показательной метрикой, точность для DummyClassifier составляет 78.6%), а метрика f1 < 0.59. Это подчеркивает важность работы с метрикой f1 при работе с дисбалансом в целевом признаке\n",
    "- LogisticRegression показывает наихудшие результаты, RandomForest - наилучшие. Для тестовой модели примем RandomForest\n",
    "\n",
    "- Четыре метода борьбы с дисбалансом взвешивание объектов, upsample, downsample и выбор порога показали хорошие результаты по увеличению метрики f1. Для модели случайного леса f1 > 0.59 после применения методов борьбы с дисбалансом.\n",
    "- Лучший результат достигнут в upsampling, f1 = 0.614\n",
    "\n",
    "Метрики итоговой модели случайного леса на тестовой выборке:\n",
    "- **f1: 0.631**\n",
    "- accuracy: 0.856\n",
    "- recall: 0.581\n",
    "- precision: 0.693\n",
    "- roc_auc: 0.755\n",
    "\n",
    "Гиперпараметры итоговой модели случайного леса:\n",
    "\n",
    "- n_estimators: 5\n",
    "- max_depth: 8\n",
    "- min_samples_split: 8\n",
    "- min_samples_leaf: 2"
   ]
  },
  {
   "cell_type": "code",
   "execution_count": 159,
   "metadata": {},
   "outputs": [
    {
     "data": {
      "image/png": "[encoded data removed]",
      "text/plain": [
       "<Figure size 720x720 with 1 Axes>"
      ]
     },
     "metadata": {},
     "output_type": "display_data"
    }
   ],
   "source": [
    "#добавленный код v2.0\n",
    "#проанализируем важность параметров модели и построим график\n",
    "\n",
    "model = RandomForestClassifier(n_estimators=5,\n",
    "                               max_depth=8,\n",
    "                               min_samples_split=8,\n",
    "                               min_samples_leaf=2,\n",
    "                               criterion='gini',\n",
    "                               class_weight = None,\n",
    "                               random_state=12345)\n",
    "model.fit(features_train, target_train)\n",
    "#importances:\n",
    "importances = model.feature_importances_\n",
    "feature_names = features_train.columns.to_list()\n",
    "#standart deviation:\n",
    "std = np.std([tree.feature_importances_ for tree in model.estimators_], axis=0)\n",
    "#forest importances как вектор данных:\n",
    "forest_importances = pd.Series(importances, index=feature_names)\n",
    "#строим график:\n",
    "#fig, ax = plt.subplots()\n",
    "plt.figure(figsize=(10,10))\n",
    "forest_importances.plot.bar(yerr=std)\n",
    "plt.title(\"Feature importances using MDI\", fontsize=18)\n",
    "plt.ylabel(\"Mean decrease in impurity\", fontsize=16)\n",
    "plt.show()\n",
    "\n",
    "\n"
   ]
  },
  {
   "cell_type": "markdown",
   "metadata": {},
   "source": [
    "Как видно, основными признаками модели являются: \n",
    "\n",
    "в первую очередь: \n",
    "\n",
    "- возраст\n",
    "- кол-во используемых продуктов\n",
    "\n",
    "во-вторых: \n",
    "\n",
    "- кредитный рейтинг \n",
    "- баланс \n",
    "- статус активного пользователя"
   ]
  }
 ],
 "metadata": {
  "ExecuteTimeLog": [
   {
    "duration": 1568,
    "start_time": "2022-01-13T10:41:46.616Z"
   },
   {
    "duration": 76,
    "start_time": "2022-01-13T10:45:07.372Z"
   },
   {
    "duration": 64,
    "start_time": "2022-01-13T10:45:31.055Z"
   },
   {
    "duration": 13,
    "start_time": "2022-01-13T10:45:31.354Z"
   },
   {
    "duration": 6,
    "start_time": "2022-01-13T10:45:50.305Z"
   },
   {
    "duration": 17,
    "start_time": "2022-01-13T10:49:01.617Z"
   },
   {
    "duration": 27,
    "start_time": "2022-01-13T10:49:41.715Z"
   },
   {
    "duration": 443,
    "start_time": "2022-01-13T10:52:29.161Z"
   },
   {
    "duration": 90,
    "start_time": "2022-01-13T10:52:32.444Z"
   },
   {
    "duration": 48,
    "start_time": "2022-01-13T10:52:32.598Z"
   },
   {
    "duration": 5,
    "start_time": "2022-01-13T10:52:32.759Z"
   },
   {
    "duration": 61,
    "start_time": "2022-01-13T10:52:32.930Z"
   },
   {
    "duration": 11,
    "start_time": "2022-01-13T10:52:33.097Z"
   },
   {
    "duration": 17,
    "start_time": "2022-01-13T10:52:34.218Z"
   },
   {
    "duration": 282,
    "start_time": "2022-01-13T10:52:34.523Z"
   },
   {
    "duration": 987,
    "start_time": "2022-01-13T10:52:42.337Z"
   },
   {
    "duration": 284,
    "start_time": "2022-01-13T10:52:47.238Z"
   },
   {
    "duration": 929,
    "start_time": "2022-01-13T10:52:51.870Z"
   },
   {
    "duration": 528,
    "start_time": "2022-01-13T10:53:14.004Z"
   },
   {
    "duration": 519,
    "start_time": "2022-01-13T10:53:56.990Z"
   },
   {
    "duration": 124,
    "start_time": "2022-01-13T10:58:23.243Z"
   },
   {
    "duration": 4,
    "start_time": "2022-01-13T10:58:31.608Z"
   },
   {
    "duration": 532,
    "start_time": "2022-01-13T10:58:41.046Z"
   },
   {
    "duration": 494,
    "start_time": "2022-01-13T10:59:23.584Z"
   },
   {
    "duration": 907,
    "start_time": "2022-01-13T11:00:24.650Z"
   },
   {
    "duration": 794,
    "start_time": "2022-01-13T11:00:41.139Z"
   },
   {
    "duration": 5,
    "start_time": "2022-01-13T11:07:16.194Z"
   },
   {
    "duration": 342,
    "start_time": "2022-01-13T11:07:53.157Z"
   },
   {
    "duration": 5,
    "start_time": "2022-01-13T11:08:01.452Z"
   },
   {
    "duration": 415,
    "start_time": "2022-01-13T11:08:02.076Z"
   },
   {
    "duration": 5,
    "start_time": "2022-01-13T11:08:08.470Z"
   },
   {
    "duration": 341,
    "start_time": "2022-01-13T11:08:08.658Z"
   },
   {
    "duration": 4,
    "start_time": "2022-01-13T11:08:13.669Z"
   },
   {
    "duration": 347,
    "start_time": "2022-01-13T11:08:13.817Z"
   },
   {
    "duration": 5,
    "start_time": "2022-01-13T11:08:18.295Z"
   },
   {
    "duration": 352,
    "start_time": "2022-01-13T11:08:18.953Z"
   },
   {
    "duration": 5,
    "start_time": "2022-01-13T11:08:27.171Z"
   },
   {
    "duration": 337,
    "start_time": "2022-01-13T11:08:27.292Z"
   },
   {
    "duration": 8,
    "start_time": "2022-01-13T11:08:38.114Z"
   },
   {
    "duration": 347,
    "start_time": "2022-01-13T11:08:38.656Z"
   },
   {
    "duration": 5,
    "start_time": "2022-01-13T11:08:53.566Z"
   },
   {
    "duration": 380,
    "start_time": "2022-01-13T11:08:53.707Z"
   },
   {
    "duration": 385,
    "start_time": "2022-01-13T11:09:07.508Z"
   },
   {
    "duration": 5,
    "start_time": "2022-01-13T11:09:16.150Z"
   },
   {
    "duration": 347,
    "start_time": "2022-01-13T11:09:16.269Z"
   },
   {
    "duration": 424,
    "start_time": "2022-01-13T11:09:36.415Z"
   },
   {
    "duration": 331,
    "start_time": "2022-01-13T11:09:41.748Z"
   },
   {
    "duration": 321,
    "start_time": "2022-01-13T11:09:45.856Z"
   },
   {
    "duration": 328,
    "start_time": "2022-01-13T11:09:58.633Z"
   },
   {
    "duration": 360,
    "start_time": "2022-01-13T11:10:05.703Z"
   },
   {
    "duration": 307,
    "start_time": "2022-01-13T11:10:11.184Z"
   },
   {
    "duration": 320,
    "start_time": "2022-01-13T11:10:24.315Z"
   },
   {
    "duration": 327,
    "start_time": "2022-01-13T11:10:28.575Z"
   },
   {
    "duration": 361,
    "start_time": "2022-01-13T11:10:34.416Z"
   },
   {
    "duration": 349,
    "start_time": "2022-01-13T11:10:37.042Z"
   },
   {
    "duration": 338,
    "start_time": "2022-01-13T11:11:17.638Z"
   },
   {
    "duration": 429,
    "start_time": "2022-01-13T11:11:27.988Z"
   },
   {
    "duration": 355,
    "start_time": "2022-01-13T11:12:04.609Z"
   },
   {
    "duration": 361,
    "start_time": "2022-01-13T11:12:28.036Z"
   },
   {
    "duration": 379,
    "start_time": "2022-01-13T11:12:57.706Z"
   },
   {
    "duration": 313,
    "start_time": "2022-01-13T11:13:03.387Z"
   },
   {
    "duration": 348,
    "start_time": "2022-01-13T11:13:15.082Z"
   },
   {
    "duration": 380,
    "start_time": "2022-01-13T11:13:44.227Z"
   },
   {
    "duration": 438,
    "start_time": "2022-01-13T11:14:26.297Z"
   },
   {
    "duration": 387,
    "start_time": "2022-01-13T11:14:42.956Z"
   },
   {
    "duration": 745,
    "start_time": "2022-01-13T11:15:53.200Z"
   },
   {
    "duration": 5,
    "start_time": "2022-01-13T11:16:11.375Z"
   },
   {
    "duration": 695,
    "start_time": "2022-01-13T11:16:22.628Z"
   },
   {
    "duration": 5,
    "start_time": "2022-01-13T11:16:53.769Z"
   },
   {
    "duration": 7628,
    "start_time": "2022-01-13T11:16:54.311Z"
   },
   {
    "duration": 29973,
    "start_time": "2022-01-13T11:17:18.607Z"
   },
   {
    "duration": -275,
    "start_time": "2022-01-13T11:17:48.858Z"
   },
   {
    "duration": 5,
    "start_time": "2022-01-13T11:18:13.228Z"
   },
   {
    "duration": 356,
    "start_time": "2022-01-13T11:18:13.582Z"
   },
   {
    "duration": 337,
    "start_time": "2022-01-13T11:18:14.218Z"
   },
   {
    "duration": 5,
    "start_time": "2022-01-13T11:21:09.362Z"
   },
   {
    "duration": 339,
    "start_time": "2022-01-13T11:21:09.521Z"
   },
   {
    "duration": 332,
    "start_time": "2022-01-13T11:21:11.984Z"
   },
   {
    "duration": 339,
    "start_time": "2022-01-13T11:29:30.655Z"
   },
   {
    "duration": 339,
    "start_time": "2022-01-13T11:29:31.600Z"
   },
   {
    "duration": 7,
    "start_time": "2022-01-13T11:30:10.321Z"
   },
   {
    "duration": 338,
    "start_time": "2022-01-13T11:30:10.834Z"
   },
   {
    "duration": 342,
    "start_time": "2022-01-13T11:30:11.293Z"
   },
   {
    "duration": 330,
    "start_time": "2022-01-13T11:30:11.706Z"
   },
   {
    "duration": 330,
    "start_time": "2022-01-13T11:30:12.079Z"
   },
   {
    "duration": 11,
    "start_time": "2022-01-13T11:33:21.710Z"
   },
   {
    "duration": 1062,
    "start_time": "2022-01-13T13:21:25.622Z"
   },
   {
    "duration": 35,
    "start_time": "2022-01-13T13:21:26.686Z"
   },
   {
    "duration": 3,
    "start_time": "2022-01-13T13:21:26.723Z"
   },
   {
    "duration": 35,
    "start_time": "2022-01-13T13:21:26.728Z"
   },
   {
    "duration": 8,
    "start_time": "2022-01-13T13:21:26.764Z"
   },
   {
    "duration": 9,
    "start_time": "2022-01-13T13:21:26.773Z"
   },
   {
    "duration": 31,
    "start_time": "2022-01-13T13:21:26.784Z"
   },
   {
    "duration": 429,
    "start_time": "2022-01-13T13:21:26.817Z"
   },
   {
    "duration": 3,
    "start_time": "2022-01-13T13:21:27.249Z"
   },
   {
    "duration": 191,
    "start_time": "2022-01-13T13:21:27.254Z"
   },
   {
    "duration": 193,
    "start_time": "2022-01-13T13:21:27.446Z"
   },
   {
    "duration": 177,
    "start_time": "2022-01-13T13:21:27.640Z"
   },
   {
    "duration": 199,
    "start_time": "2022-01-13T13:21:27.818Z"
   },
   {
    "duration": 231,
    "start_time": "2022-01-13T13:21:28.018Z"
   },
   {
    "duration": 204,
    "start_time": "2022-01-13T13:21:28.250Z"
   },
   {
    "duration": 3,
    "start_time": "2022-01-13T13:21:28.456Z"
   },
   {
    "duration": 193,
    "start_time": "2022-01-13T13:21:28.460Z"
   },
   {
    "duration": 183,
    "start_time": "2022-01-13T13:21:28.655Z"
   },
   {
    "duration": 177,
    "start_time": "2022-01-13T13:21:28.840Z"
   },
   {
    "duration": 184,
    "start_time": "2022-01-13T13:21:29.019Z"
   },
   {
    "duration": 3,
    "start_time": "2022-01-13T13:22:02.283Z"
   },
   {
    "duration": 186,
    "start_time": "2022-01-13T13:22:02.831Z"
   },
   {
    "duration": 4,
    "start_time": "2022-01-13T13:22:12.563Z"
   },
   {
    "duration": 197,
    "start_time": "2022-01-13T13:22:12.693Z"
   },
   {
    "duration": 3,
    "start_time": "2022-01-13T13:22:24.991Z"
   },
   {
    "duration": 184,
    "start_time": "2022-01-13T13:22:25.134Z"
   },
   {
    "duration": 4,
    "start_time": "2022-01-13T13:22:34.394Z"
   },
   {
    "duration": 184,
    "start_time": "2022-01-13T13:22:34.565Z"
   },
   {
    "duration": 4,
    "start_time": "2022-01-13T13:23:55.026Z"
   },
   {
    "duration": 218,
    "start_time": "2022-01-13T13:23:55.196Z"
   },
   {
    "duration": 4,
    "start_time": "2022-01-13T13:24:11.909Z"
   },
   {
    "duration": 573,
    "start_time": "2022-01-13T13:24:12.040Z"
   },
   {
    "duration": 3,
    "start_time": "2022-01-13T13:24:18.447Z"
   },
   {
    "duration": 506,
    "start_time": "2022-01-13T13:24:20.541Z"
   },
   {
    "duration": 3,
    "start_time": "2022-01-13T13:24:46.135Z"
   },
   {
    "duration": 483,
    "start_time": "2022-01-13T13:24:47.862Z"
   },
   {
    "duration": 3,
    "start_time": "2022-01-13T13:25:02.881Z"
   },
   {
    "duration": 360,
    "start_time": "2022-01-13T13:25:03.445Z"
   },
   {
    "duration": 4,
    "start_time": "2022-01-13T13:25:15.289Z"
   },
   {
    "duration": 180,
    "start_time": "2022-01-13T13:25:15.596Z"
   },
   {
    "duration": 179,
    "start_time": "2022-01-13T13:25:19.230Z"
   },
   {
    "duration": 4,
    "start_time": "2022-01-13T13:25:24.280Z"
   },
   {
    "duration": 199,
    "start_time": "2022-01-13T13:25:24.431Z"
   },
   {
    "duration": 3,
    "start_time": "2022-01-13T13:26:53.291Z"
   },
   {
    "duration": 205,
    "start_time": "2022-01-13T13:26:53.695Z"
   },
   {
    "duration": 4,
    "start_time": "2022-01-13T13:27:03.731Z"
   },
   {
    "duration": 217,
    "start_time": "2022-01-13T13:27:05.503Z"
   },
   {
    "duration": 4,
    "start_time": "2022-01-13T13:27:45.792Z"
   },
   {
    "duration": 250,
    "start_time": "2022-01-13T13:27:46.630Z"
   },
   {
    "duration": 5,
    "start_time": "2022-01-13T13:38:16.259Z"
   },
   {
    "duration": 337,
    "start_time": "2022-01-13T13:38:16.413Z"
   },
   {
    "duration": 602,
    "start_time": "2022-01-13T13:38:40.122Z"
   },
   {
    "duration": 7,
    "start_time": "2022-01-13T13:48:17.377Z"
   },
   {
    "duration": 602,
    "start_time": "2022-01-13T13:48:17.517Z"
   },
   {
    "duration": 587,
    "start_time": "2022-01-13T13:49:40.115Z"
   },
   {
    "duration": 3656,
    "start_time": "2022-01-13T13:52:45.038Z"
   },
   {
    "duration": 9,
    "start_time": "2022-01-13T13:53:53.499Z"
   },
   {
    "duration": 2841,
    "start_time": "2022-01-13T13:53:53.792Z"
   },
   {
    "duration": 231,
    "start_time": "2022-01-13T14:00:13.233Z"
   },
   {
    "duration": 5,
    "start_time": "2022-01-13T14:00:46.409Z"
   },
   {
    "duration": 6,
    "start_time": "2022-01-13T14:10:35.153Z"
   },
   {
    "duration": 40,
    "start_time": "2022-01-13T14:10:35.161Z"
   },
   {
    "duration": 4,
    "start_time": "2022-01-13T14:10:35.203Z"
   },
   {
    "duration": 36,
    "start_time": "2022-01-13T14:10:35.208Z"
   },
   {
    "duration": 7,
    "start_time": "2022-01-13T14:10:35.246Z"
   },
   {
    "duration": 10,
    "start_time": "2022-01-13T14:10:35.254Z"
   },
   {
    "duration": 6,
    "start_time": "2022-01-13T14:10:35.265Z"
   },
   {
    "duration": 523,
    "start_time": "2022-01-13T14:10:35.273Z"
   },
   {
    "duration": 6,
    "start_time": "2022-01-13T14:10:35.798Z"
   },
   {
    "duration": 2500,
    "start_time": "2022-01-13T14:10:35.806Z"
   },
   {
    "duration": 5,
    "start_time": "2022-01-13T14:10:38.307Z"
   },
   {
    "duration": 202,
    "start_time": "2022-01-13T14:10:38.313Z"
   },
   {
    "duration": 187,
    "start_time": "2022-01-13T14:10:38.516Z"
   },
   {
    "duration": 184,
    "start_time": "2022-01-13T14:10:38.704Z"
   },
   {
    "duration": 180,
    "start_time": "2022-01-13T14:10:38.889Z"
   },
   {
    "duration": 3,
    "start_time": "2022-01-13T14:10:39.071Z"
   },
   {
    "duration": 6,
    "start_time": "2022-01-13T14:10:39.076Z"
   },
   {
    "duration": 4,
    "start_time": "2022-01-13T14:11:25.423Z"
   },
   {
    "duration": 11,
    "start_time": "2022-01-13T14:11:53.133Z"
   },
   {
    "duration": 5,
    "start_time": "2022-01-13T14:12:11.311Z"
   },
   {
    "duration": 3,
    "start_time": "2022-01-13T14:12:33.351Z"
   },
   {
    "duration": 5,
    "start_time": "2022-01-13T14:12:41.994Z"
   },
   {
    "duration": 3,
    "start_time": "2022-01-13T14:12:44.292Z"
   },
   {
    "duration": 4,
    "start_time": "2022-01-13T14:12:44.553Z"
   },
   {
    "duration": 9,
    "start_time": "2022-01-13T14:15:55.027Z"
   },
   {
    "duration": 8,
    "start_time": "2022-01-13T14:20:48.501Z"
   },
   {
    "duration": 2506,
    "start_time": "2022-01-13T14:20:50.098Z"
   },
   {
    "duration": 173,
    "start_time": "2022-01-13T14:24:06.260Z"
   },
   {
    "duration": 14,
    "start_time": "2022-01-13T14:35:41.293Z"
   },
   {
    "duration": 24,
    "start_time": "2022-01-13T14:35:51.310Z"
   },
   {
    "duration": 11,
    "start_time": "2022-01-13T14:35:56.708Z"
   },
   {
    "duration": 21,
    "start_time": "2022-01-13T14:35:57.963Z"
   },
   {
    "duration": 7,
    "start_time": "2022-01-13T14:44:44.056Z"
   },
   {
    "duration": 5,
    "start_time": "2022-01-13T15:20:54.439Z"
   },
   {
    "duration": 35,
    "start_time": "2022-01-13T15:20:54.446Z"
   },
   {
    "duration": 3,
    "start_time": "2022-01-13T15:20:54.483Z"
   },
   {
    "duration": 40,
    "start_time": "2022-01-13T15:20:54.488Z"
   },
   {
    "duration": 7,
    "start_time": "2022-01-13T15:20:54.530Z"
   },
   {
    "duration": 10,
    "start_time": "2022-01-13T15:20:54.538Z"
   },
   {
    "duration": 6,
    "start_time": "2022-01-13T15:20:54.549Z"
   },
   {
    "duration": 533,
    "start_time": "2022-01-13T15:20:54.558Z"
   },
   {
    "duration": 5,
    "start_time": "2022-01-13T15:20:55.093Z"
   },
   {
    "duration": 2610,
    "start_time": "2022-01-13T15:20:55.100Z"
   },
   {
    "duration": 3,
    "start_time": "2022-01-13T15:20:57.712Z"
   },
   {
    "duration": 206,
    "start_time": "2022-01-13T15:20:57.716Z"
   },
   {
    "duration": 196,
    "start_time": "2022-01-13T15:20:57.923Z"
   },
   {
    "duration": 193,
    "start_time": "2022-01-13T15:20:58.121Z"
   },
   {
    "duration": 182,
    "start_time": "2022-01-13T15:20:58.315Z"
   },
   {
    "duration": 192,
    "start_time": "2022-01-13T15:20:58.499Z"
   },
   {
    "duration": 78,
    "start_time": "2022-01-13T15:20:58.692Z"
   },
   {
    "duration": -259,
    "start_time": "2022-01-13T15:20:59.031Z"
   },
   {
    "duration": -270,
    "start_time": "2022-01-13T15:20:59.043Z"
   },
   {
    "duration": -275,
    "start_time": "2022-01-13T15:20:59.049Z"
   },
   {
    "duration": -278,
    "start_time": "2022-01-13T15:20:59.053Z"
   },
   {
    "duration": -284,
    "start_time": "2022-01-13T15:20:59.059Z"
   },
   {
    "duration": -285,
    "start_time": "2022-01-13T15:20:59.061Z"
   },
   {
    "duration": 227,
    "start_time": "2022-01-13T15:39:08.323Z"
   },
   {
    "duration": 5,
    "start_time": "2022-01-13T15:39:17.638Z"
   },
   {
    "duration": 11,
    "start_time": "2022-01-13T15:39:17.644Z"
   },
   {
    "duration": 11,
    "start_time": "2022-01-13T15:39:18.077Z"
   },
   {
    "duration": 4,
    "start_time": "2022-01-13T15:39:31.212Z"
   },
   {
    "duration": 3,
    "start_time": "2022-01-13T15:39:50.541Z"
   },
   {
    "duration": 9,
    "start_time": "2022-01-13T15:40:29.071Z"
   },
   {
    "duration": 4,
    "start_time": "2022-01-13T15:40:30.593Z"
   },
   {
    "duration": 5,
    "start_time": "2022-01-13T15:47:54.357Z"
   },
   {
    "duration": 232,
    "start_time": "2022-01-13T15:47:54.510Z"
   },
   {
    "duration": 5,
    "start_time": "2022-01-13T15:48:06.327Z"
   },
   {
    "duration": 244,
    "start_time": "2022-01-13T15:48:06.493Z"
   },
   {
    "duration": 4,
    "start_time": "2022-01-13T15:48:18.146Z"
   },
   {
    "duration": 9,
    "start_time": "2022-01-13T15:48:18.301Z"
   },
   {
    "duration": 4,
    "start_time": "2022-01-13T15:48:19.997Z"
   },
   {
    "duration": 79,
    "start_time": "2022-01-13T16:10:46.358Z"
   },
   {
    "duration": 264,
    "start_time": "2022-01-13T16:10:57.446Z"
   },
   {
    "duration": 78,
    "start_time": "2022-01-13T16:12:00.030Z"
   },
   {
    "duration": 255,
    "start_time": "2022-01-13T16:12:08.719Z"
   },
   {
    "duration": 4,
    "start_time": "2022-01-13T16:12:33.748Z"
   },
   {
    "duration": 37,
    "start_time": "2022-01-13T16:12:33.754Z"
   },
   {
    "duration": 4,
    "start_time": "2022-01-13T16:12:33.793Z"
   },
   {
    "duration": 39,
    "start_time": "2022-01-13T16:12:33.799Z"
   },
   {
    "duration": 6,
    "start_time": "2022-01-13T16:12:33.840Z"
   },
   {
    "duration": 11,
    "start_time": "2022-01-13T16:12:33.848Z"
   },
   {
    "duration": 6,
    "start_time": "2022-01-13T16:12:33.861Z"
   },
   {
    "duration": 526,
    "start_time": "2022-01-13T16:12:33.869Z"
   },
   {
    "duration": 5,
    "start_time": "2022-01-13T16:12:34.396Z"
   },
   {
    "duration": 2575,
    "start_time": "2022-01-13T16:12:34.403Z"
   },
   {
    "duration": 3,
    "start_time": "2022-01-13T16:12:36.979Z"
   },
   {
    "duration": 209,
    "start_time": "2022-01-13T16:12:36.984Z"
   },
   {
    "duration": 188,
    "start_time": "2022-01-13T16:12:37.194Z"
   },
   {
    "duration": 197,
    "start_time": "2022-01-13T16:12:37.384Z"
   },
   {
    "duration": 201,
    "start_time": "2022-01-13T16:12:37.583Z"
   },
   {
    "duration": 191,
    "start_time": "2022-01-13T16:12:37.786Z"
   },
   {
    "duration": 4,
    "start_time": "2022-01-13T16:12:37.979Z"
   },
   {
    "duration": 6,
    "start_time": "2022-01-13T16:12:37.984Z"
   },
   {
    "duration": 24,
    "start_time": "2022-01-13T16:12:37.992Z"
   },
   {
    "duration": 14,
    "start_time": "2022-01-13T16:12:38.017Z"
   },
   {
    "duration": 23,
    "start_time": "2022-01-13T16:12:38.032Z"
   },
   {
    "duration": 4,
    "start_time": "2022-01-13T16:12:38.056Z"
   },
   {
    "duration": 8,
    "start_time": "2022-01-13T16:12:38.061Z"
   },
   {
    "duration": 4,
    "start_time": "2022-01-13T16:12:38.070Z"
   },
   {
    "duration": 273,
    "start_time": "2022-01-13T16:12:38.075Z"
   },
   {
    "duration": 27332,
    "start_time": "2022-01-13T16:13:29.352Z"
   },
   {
    "duration": 405,
    "start_time": "2022-01-13T16:22:54.295Z"
   },
   {
    "duration": 4,
    "start_time": "2022-01-13T16:23:08.276Z"
   },
   {
    "duration": 34,
    "start_time": "2022-01-13T16:23:08.282Z"
   },
   {
    "duration": 3,
    "start_time": "2022-01-13T16:23:08.317Z"
   },
   {
    "duration": 37,
    "start_time": "2022-01-13T16:23:08.322Z"
   },
   {
    "duration": 7,
    "start_time": "2022-01-13T16:23:08.360Z"
   },
   {
    "duration": 9,
    "start_time": "2022-01-13T16:23:08.368Z"
   },
   {
    "duration": 36,
    "start_time": "2022-01-13T16:23:08.379Z"
   },
   {
    "duration": 482,
    "start_time": "2022-01-13T16:23:08.417Z"
   },
   {
    "duration": 11,
    "start_time": "2022-01-13T16:23:08.901Z"
   },
   {
    "duration": 2534,
    "start_time": "2022-01-13T16:23:08.913Z"
   },
   {
    "duration": 3,
    "start_time": "2022-01-13T16:23:11.449Z"
   },
   {
    "duration": 200,
    "start_time": "2022-01-13T16:23:11.453Z"
   },
   {
    "duration": 194,
    "start_time": "2022-01-13T16:23:11.654Z"
   },
   {
    "duration": 182,
    "start_time": "2022-01-13T16:23:11.850Z"
   },
   {
    "duration": 202,
    "start_time": "2022-01-13T16:23:12.033Z"
   },
   {
    "duration": 258,
    "start_time": "2022-01-13T16:23:12.237Z"
   },
   {
    "duration": 4,
    "start_time": "2022-01-13T16:23:12.496Z"
   },
   {
    "duration": 14,
    "start_time": "2022-01-13T16:23:12.501Z"
   },
   {
    "duration": 8,
    "start_time": "2022-01-13T16:23:12.518Z"
   },
   {
    "duration": 19,
    "start_time": "2022-01-13T16:23:12.528Z"
   },
   {
    "duration": 21,
    "start_time": "2022-01-13T16:23:12.549Z"
   },
   {
    "duration": 4,
    "start_time": "2022-01-13T16:23:12.572Z"
   },
   {
    "duration": 9,
    "start_time": "2022-01-13T16:23:12.577Z"
   },
   {
    "duration": 25,
    "start_time": "2022-01-13T16:23:12.587Z"
   },
   {
    "duration": 270,
    "start_time": "2022-01-13T16:23:12.613Z"
   },
   {
    "duration": -278,
    "start_time": "2022-01-13T16:23:13.162Z"
   },
   {
    "duration": 480,
    "start_time": "2022-01-13T16:29:00.611Z"
   },
   {
    "duration": 339,
    "start_time": "2022-01-13T16:29:47.017Z"
   },
   {
    "duration": 273,
    "start_time": "2022-01-13T16:32:28.691Z"
   },
   {
    "duration": 62993,
    "start_time": "2022-01-13T16:32:57.079Z"
   },
   {
    "duration": 8,
    "start_time": "2022-01-13T16:34:01.735Z"
   },
   {
    "duration": 7,
    "start_time": "2022-01-13T16:34:03.811Z"
   },
   {
    "duration": 9,
    "start_time": "2022-01-13T16:34:08.973Z"
   },
   {
    "duration": 4529,
    "start_time": "2022-01-13T16:34:16.126Z"
   },
   {
    "duration": 988,
    "start_time": "2022-01-13T16:34:25.991Z"
   },
   {
    "duration": 854,
    "start_time": "2022-01-13T16:35:47.089Z"
   },
   {
    "duration": 702,
    "start_time": "2022-01-13T16:36:27.817Z"
   },
   {
    "duration": 3,
    "start_time": "2022-01-13T16:36:54.644Z"
   },
   {
    "duration": 37,
    "start_time": "2022-01-13T16:36:54.649Z"
   },
   {
    "duration": 3,
    "start_time": "2022-01-13T16:36:54.688Z"
   },
   {
    "duration": 39,
    "start_time": "2022-01-13T16:36:54.693Z"
   },
   {
    "duration": 7,
    "start_time": "2022-01-13T16:36:54.733Z"
   },
   {
    "duration": 10,
    "start_time": "2022-01-13T16:36:54.741Z"
   },
   {
    "duration": 5,
    "start_time": "2022-01-13T16:36:54.753Z"
   },
   {
    "duration": 534,
    "start_time": "2022-01-13T16:36:54.759Z"
   },
   {
    "duration": 6,
    "start_time": "2022-01-13T16:36:55.294Z"
   },
   {
    "duration": 2582,
    "start_time": "2022-01-13T16:36:55.301Z"
   },
   {
    "duration": 3,
    "start_time": "2022-01-13T16:36:57.884Z"
   },
   {
    "duration": 268,
    "start_time": "2022-01-13T16:36:57.889Z"
   },
   {
    "duration": 189,
    "start_time": "2022-01-13T16:36:58.158Z"
   },
   {
    "duration": 193,
    "start_time": "2022-01-13T16:36:58.349Z"
   },
   {
    "duration": 196,
    "start_time": "2022-01-13T16:36:58.543Z"
   },
   {
    "duration": 193,
    "start_time": "2022-01-13T16:36:58.740Z"
   },
   {
    "duration": 4,
    "start_time": "2022-01-13T16:36:58.935Z"
   },
   {
    "duration": 6,
    "start_time": "2022-01-13T16:36:58.940Z"
   },
   {
    "duration": 7,
    "start_time": "2022-01-13T16:36:58.949Z"
   },
   {
    "duration": 10,
    "start_time": "2022-01-13T16:36:58.958Z"
   },
   {
    "duration": 47,
    "start_time": "2022-01-13T16:36:58.970Z"
   },
   {
    "duration": 4,
    "start_time": "2022-01-13T16:36:59.019Z"
   },
   {
    "duration": 8,
    "start_time": "2022-01-13T16:36:59.025Z"
   },
   {
    "duration": 5,
    "start_time": "2022-01-13T16:36:59.034Z"
   },
   {
    "duration": 685,
    "start_time": "2022-01-13T16:36:59.040Z"
   },
   {
    "duration": 93,
    "start_time": "2022-01-13T16:36:59.727Z"
   },
   {
    "duration": 6,
    "start_time": "2022-01-13T16:37:10.621Z"
   },
   {
    "duration": 657,
    "start_time": "2022-01-13T16:39:17.863Z"
   },
   {
    "duration": 684,
    "start_time": "2022-01-13T16:39:26.929Z"
   },
   {
    "duration": 16774,
    "start_time": "2022-01-13T16:39:28.917Z"
   },
   {
    "duration": 7565,
    "start_time": "2022-01-13T16:41:38.454Z"
   },
   {
    "duration": 14865,
    "start_time": "2022-01-13T16:41:55.354Z"
   },
   {
    "duration": 16934,
    "start_time": "2022-01-13T16:42:10.222Z"
   },
   {
    "duration": 10438,
    "start_time": "2022-01-13T16:43:27.604Z"
   },
   {
    "duration": 15611,
    "start_time": "2022-01-13T16:43:39.108Z"
   },
   {
    "duration": 283,
    "start_time": "2022-01-13T16:45:18.449Z"
   },
   {
    "duration": 241,
    "start_time": "2022-01-13T16:47:25.018Z"
   },
   {
    "duration": 3,
    "start_time": "2022-01-13T16:47:55.390Z"
   },
   {
    "duration": 35,
    "start_time": "2022-01-13T16:47:55.395Z"
   },
   {
    "duration": 3,
    "start_time": "2022-01-13T16:47:55.432Z"
   },
   {
    "duration": 40,
    "start_time": "2022-01-13T16:47:55.437Z"
   },
   {
    "duration": 35,
    "start_time": "2022-01-13T16:47:55.478Z"
   },
   {
    "duration": 10,
    "start_time": "2022-01-13T16:47:55.515Z"
   },
   {
    "duration": 5,
    "start_time": "2022-01-13T16:47:55.527Z"
   },
   {
    "duration": 478,
    "start_time": "2022-01-13T16:47:55.534Z"
   },
   {
    "duration": 6,
    "start_time": "2022-01-13T16:47:56.013Z"
   },
   {
    "duration": 2602,
    "start_time": "2022-01-13T16:47:56.021Z"
   },
   {
    "duration": 3,
    "start_time": "2022-01-13T16:47:58.624Z"
   },
   {
    "duration": 201,
    "start_time": "2022-01-13T16:47:58.629Z"
   },
   {
    "duration": 198,
    "start_time": "2022-01-13T16:47:58.832Z"
   },
   {
    "duration": 192,
    "start_time": "2022-01-13T16:47:59.032Z"
   },
   {
    "duration": 192,
    "start_time": "2022-01-13T16:47:59.225Z"
   },
   {
    "duration": 192,
    "start_time": "2022-01-13T16:47:59.418Z"
   },
   {
    "duration": 5,
    "start_time": "2022-01-13T16:47:59.611Z"
   },
   {
    "duration": 6,
    "start_time": "2022-01-13T16:47:59.617Z"
   },
   {
    "duration": 8,
    "start_time": "2022-01-13T16:47:59.626Z"
   },
   {
    "duration": 11,
    "start_time": "2022-01-13T16:47:59.636Z"
   },
   {
    "duration": 23,
    "start_time": "2022-01-13T16:47:59.648Z"
   },
   {
    "duration": 4,
    "start_time": "2022-01-13T16:47:59.672Z"
   },
   {
    "duration": 41,
    "start_time": "2022-01-13T16:47:59.677Z"
   },
   {
    "duration": 4,
    "start_time": "2022-01-13T16:47:59.719Z"
   },
   {
    "duration": 14895,
    "start_time": "2022-01-13T16:47:59.724Z"
   },
   {
    "duration": 16893,
    "start_time": "2022-01-13T16:48:14.621Z"
   },
   {
    "duration": 18741,
    "start_time": "2022-01-13T16:48:31.516Z"
   },
   {
    "duration": 14232,
    "start_time": "2022-01-13T16:49:10.383Z"
   },
   {
    "duration": 14998,
    "start_time": "2022-01-13T16:49:46.324Z"
   },
   {
    "duration": 87,
    "start_time": "2022-01-13T16:50:11.395Z"
   },
   {
    "duration": 14357,
    "start_time": "2022-01-13T16:50:15.256Z"
   },
   {
    "duration": 17209,
    "start_time": "2022-01-13T16:50:41.625Z"
   },
   {
    "duration": 83082,
    "start_time": "2022-01-13T16:51:38.896Z"
   },
   {
    "duration": 6,
    "start_time": "2022-01-13T17:08:02.072Z"
   },
   {
    "duration": 5,
    "start_time": "2022-01-13T17:08:38.320Z"
   },
   {
    "duration": 5,
    "start_time": "2022-01-13T17:40:25.138Z"
   },
   {
    "duration": 16133,
    "start_time": "2022-01-13T17:40:26.280Z"
   },
   {
    "duration": 6,
    "start_time": "2022-01-13T17:41:17.496Z"
   },
   {
    "duration": 15985,
    "start_time": "2022-01-13T17:41:17.528Z"
   },
   {
    "duration": 16114,
    "start_time": "2022-01-13T17:41:53.100Z"
   },
   {
    "duration": 71,
    "start_time": "2022-01-13T17:43:02.181Z"
   },
   {
    "duration": 89,
    "start_time": "2022-01-13T17:43:17.320Z"
   },
   {
    "duration": 225,
    "start_time": "2022-01-13T17:43:17.633Z"
   },
   {
    "duration": 131,
    "start_time": "2022-01-13T17:43:46.468Z"
   },
   {
    "duration": 72,
    "start_time": "2022-01-13T17:44:22.343Z"
   },
   {
    "duration": 6,
    "start_time": "2022-01-13T17:45:09.060Z"
   },
   {
    "duration": 16725,
    "start_time": "2022-01-13T17:45:10.249Z"
   },
   {
    "duration": 214,
    "start_time": "2022-01-13T17:46:33.570Z"
   },
   {
    "duration": 7,
    "start_time": "2022-01-13T17:46:39.914Z"
   },
   {
    "duration": 78654,
    "start_time": "2022-01-13T17:46:40.528Z"
   },
   {
    "duration": 16314,
    "start_time": "2022-01-13T17:48:22.899Z"
   },
   {
    "duration": 17398,
    "start_time": "2022-01-13T17:49:12.534Z"
   },
   {
    "duration": 82794,
    "start_time": "2022-01-13T17:49:29.934Z"
   },
   {
    "duration": 3,
    "start_time": "2022-01-13T18:05:57.087Z"
   },
   {
    "duration": 5,
    "start_time": "2022-01-13T19:05:04.461Z"
   },
   {
    "duration": 15890,
    "start_time": "2022-01-13T19:05:05.233Z"
   },
   {
    "duration": 6,
    "start_time": "2022-01-13T19:05:31.641Z"
   },
   {
    "duration": 17295,
    "start_time": "2022-01-13T19:05:31.813Z"
   },
   {
    "duration": 6,
    "start_time": "2022-01-13T19:05:49.112Z"
   },
   {
    "duration": 80184,
    "start_time": "2022-01-13T19:05:49.120Z"
   },
   {
    "duration": 9,
    "start_time": "2022-01-13T19:07:09.306Z"
   },
   {
    "duration": 8,
    "start_time": "2022-01-13T19:07:09.316Z"
   },
   {
    "duration": 17287,
    "start_time": "2022-01-13T19:07:09.326Z"
   },
   {
    "duration": 18219,
    "start_time": "2022-01-13T19:07:26.617Z"
   },
   {
    "duration": 84949,
    "start_time": "2022-01-13T19:07:44.839Z"
   },
   {
    "duration": 4,
    "start_time": "2022-01-13T19:09:09.789Z"
   },
   {
    "duration": 17019,
    "start_time": "2022-01-13T19:09:09.794Z"
   },
   {
    "duration": 15696,
    "start_time": "2022-01-13T19:10:35.123Z"
   },
   {
    "duration": 17606,
    "start_time": "2022-01-13T19:11:31.917Z"
   },
   {
    "duration": 17888,
    "start_time": "2022-01-13T19:12:42.125Z"
   },
   {
    "duration": 19807,
    "start_time": "2022-01-13T19:13:50.115Z"
   },
   {
    "duration": 18022,
    "start_time": "2022-01-13T19:28:51.791Z"
   },
   {
    "duration": 17741,
    "start_time": "2022-01-13T19:29:15.483Z"
   },
   {
    "duration": 18275,
    "start_time": "2022-01-13T19:29:48.745Z"
   },
   {
    "duration": 4,
    "start_time": "2022-01-13T19:32:38.365Z"
   },
   {
    "duration": 18135,
    "start_time": "2022-01-13T19:32:38.885Z"
   },
   {
    "duration": 19292,
    "start_time": "2022-01-13T19:32:57.023Z"
   },
   {
    "duration": 85828,
    "start_time": "2022-01-13T19:33:16.316Z"
   },
   {
    "duration": 90900,
    "start_time": "2022-01-13T19:34:53.963Z"
   },
   {
    "duration": 460,
    "start_time": "2022-01-13T19:36:37.202Z"
   },
   {
    "duration": 85668,
    "start_time": "2022-01-13T19:36:47.432Z"
   },
   {
    "duration": 3,
    "start_time": "2022-01-13T19:40:05.601Z"
   },
   {
    "duration": 1242,
    "start_time": "2022-01-13T19:41:14.299Z"
   },
   {
    "duration": 4,
    "start_time": "2022-01-13T19:42:46.318Z"
   },
   {
    "duration": 1161,
    "start_time": "2022-01-13T19:42:46.508Z"
   },
   {
    "duration": 12858,
    "start_time": "2022-01-13T19:44:36.061Z"
   },
   {
    "duration": 10193,
    "start_time": "2022-01-13T19:45:06.427Z"
   },
   {
    "duration": 12810,
    "start_time": "2022-01-13T19:45:24.403Z"
   },
   {
    "duration": 14783,
    "start_time": "2022-01-13T19:45:41.738Z"
   },
   {
    "duration": 16335,
    "start_time": "2022-01-13T19:46:04.485Z"
   },
   {
    "duration": 15271,
    "start_time": "2022-01-13T19:50:56.753Z"
   },
   {
    "duration": 15403,
    "start_time": "2022-01-13T19:51:17.616Z"
   },
   {
    "duration": 14217,
    "start_time": "2022-01-13T19:51:46.502Z"
   },
   {
    "duration": 13652,
    "start_time": "2022-01-13T19:52:08.469Z"
   },
   {
    "duration": 13976,
    "start_time": "2022-01-13T19:52:28.546Z"
   },
   {
    "duration": 12105,
    "start_time": "2022-01-13T19:52:50.715Z"
   },
   {
    "duration": 11065,
    "start_time": "2022-01-13T19:53:10.248Z"
   },
   {
    "duration": 10303,
    "start_time": "2022-01-13T19:53:53.417Z"
   },
   {
    "duration": 12155,
    "start_time": "2022-01-13T19:54:14.559Z"
   },
   {
    "duration": 10050,
    "start_time": "2022-01-13T19:54:43.271Z"
   },
   {
    "duration": 12745,
    "start_time": "2022-01-13T19:55:06.668Z"
   },
   {
    "duration": 13628,
    "start_time": "2022-01-13T19:55:35.686Z"
   },
   {
    "duration": 14612,
    "start_time": "2022-01-13T19:59:37.207Z"
   },
   {
    "duration": 12059,
    "start_time": "2022-01-13T19:59:53.362Z"
   },
   {
    "duration": 11018,
    "start_time": "2022-01-13T20:00:09.770Z"
   },
   {
    "duration": 59625,
    "start_time": "2022-01-13T20:00:20.789Z"
   },
   {
    "duration": 67825,
    "start_time": "2022-01-13T20:01:39.577Z"
   },
   {
    "duration": 73860,
    "start_time": "2022-01-13T20:06:26.497Z"
   },
   {
    "duration": 70984,
    "start_time": "2022-01-13T20:07:48.292Z"
   },
   {
    "duration": 65924,
    "start_time": "2022-01-13T20:08:59.278Z"
   },
   {
    "duration": 62263,
    "start_time": "2022-01-13T20:10:05.204Z"
   },
   {
    "duration": 58634,
    "start_time": "2022-01-13T20:11:07.469Z"
   },
   {
    "duration": 55407,
    "start_time": "2022-01-13T20:12:06.104Z"
   },
   {
    "duration": 61152,
    "start_time": "2022-01-13T20:15:57.560Z"
   },
   {
    "duration": 64913,
    "start_time": "2022-01-13T20:16:58.714Z"
   },
   {
    "duration": 12601,
    "start_time": "2022-01-13T20:18:50.359Z"
   },
   {
    "duration": 11230,
    "start_time": "2022-01-13T20:19:14.545Z"
   },
   {
    "duration": 11434,
    "start_time": "2022-01-13T20:19:44.313Z"
   },
   {
    "duration": -154,
    "start_time": "2022-01-13T20:22:55.217Z"
   },
   {
    "duration": 86129,
    "start_time": "2022-01-13T20:22:55.874Z"
   },
   {
    "duration": 7,
    "start_time": "2022-01-13T20:35:48.446Z"
   },
   {
    "duration": 161573,
    "start_time": "2022-01-13T20:35:49.963Z"
   },
   {
    "duration": 3,
    "start_time": "2022-01-13T20:40:53.993Z"
   },
   {
    "duration": 27764,
    "start_time": "2022-01-13T20:40:56.045Z"
   },
   {
    "duration": 2,
    "start_time": "2022-01-13T20:41:25.137Z"
   },
   {
    "duration": 160135,
    "start_time": "2022-01-13T20:41:28.745Z"
   },
   {
    "duration": 168226,
    "start_time": "2022-01-13T20:45:43.022Z"
   },
   {
    "duration": 145245,
    "start_time": "2022-01-13T20:48:31.250Z"
   },
   {
    "duration": 4,
    "start_time": "2022-01-13T20:55:20.701Z"
   },
   {
    "duration": 34,
    "start_time": "2022-01-13T20:55:20.707Z"
   },
   {
    "duration": 3,
    "start_time": "2022-01-13T20:55:20.743Z"
   },
   {
    "duration": 37,
    "start_time": "2022-01-13T20:55:20.748Z"
   },
   {
    "duration": 27,
    "start_time": "2022-01-13T20:55:20.786Z"
   },
   {
    "duration": 9,
    "start_time": "2022-01-13T20:55:20.815Z"
   },
   {
    "duration": 5,
    "start_time": "2022-01-13T20:55:20.826Z"
   },
   {
    "duration": 471,
    "start_time": "2022-01-13T20:55:20.833Z"
   },
   {
    "duration": 9,
    "start_time": "2022-01-13T20:55:21.306Z"
   },
   {
    "duration": 2469,
    "start_time": "2022-01-13T20:55:21.317Z"
   },
   {
    "duration": 3,
    "start_time": "2022-01-13T20:55:23.787Z"
   },
   {
    "duration": 199,
    "start_time": "2022-01-13T20:55:23.791Z"
   },
   {
    "duration": 186,
    "start_time": "2022-01-13T20:55:23.991Z"
   },
   {
    "duration": 191,
    "start_time": "2022-01-13T20:55:24.178Z"
   },
   {
    "duration": 184,
    "start_time": "2022-01-13T20:55:24.370Z"
   },
   {
    "duration": 182,
    "start_time": "2022-01-13T20:55:24.555Z"
   },
   {
    "duration": 4,
    "start_time": "2022-01-13T20:55:24.739Z"
   },
   {
    "duration": 6,
    "start_time": "2022-01-13T20:55:24.745Z"
   },
   {
    "duration": 8,
    "start_time": "2022-01-13T20:55:24.754Z"
   },
   {
    "duration": 11,
    "start_time": "2022-01-13T20:55:24.763Z"
   },
   {
    "duration": 52,
    "start_time": "2022-01-13T20:55:24.775Z"
   },
   {
    "duration": 4,
    "start_time": "2022-01-13T20:55:24.828Z"
   },
   {
    "duration": 8,
    "start_time": "2022-01-13T20:55:24.833Z"
   },
   {
    "duration": 4,
    "start_time": "2022-01-13T20:55:24.842Z"
   },
   {
    "duration": 5,
    "start_time": "2022-01-13T20:55:24.848Z"
   },
   {
    "duration": 14258,
    "start_time": "2022-01-13T20:55:24.855Z"
   },
   {
    "duration": 97,
    "start_time": "2022-01-13T20:55:39.116Z"
   },
   {
    "duration": 16776,
    "start_time": "2022-01-13T20:55:39.214Z"
   },
   {
    "duration": 7,
    "start_time": "2022-01-13T20:55:55.991Z"
   },
   {
    "duration": 79807,
    "start_time": "2022-01-13T20:55:56.012Z"
   },
   {
    "duration": 6,
    "start_time": "2022-01-13T20:57:15.820Z"
   },
   {
    "duration": 6,
    "start_time": "2022-01-13T20:57:15.827Z"
   },
   {
    "duration": 15579,
    "start_time": "2022-01-13T20:57:15.834Z"
   },
   {
    "duration": 18184,
    "start_time": "2022-01-13T20:57:31.416Z"
   },
   {
    "duration": 81840,
    "start_time": "2022-01-13T20:57:49.602Z"
   },
   {
    "duration": 3,
    "start_time": "2022-01-13T20:59:11.444Z"
   },
   {
    "duration": 15664,
    "start_time": "2022-01-13T20:59:11.449Z"
   },
   {
    "duration": 18820,
    "start_time": "2022-01-13T20:59:27.117Z"
   },
   {
    "duration": 85210,
    "start_time": "2022-01-13T20:59:45.939Z"
   },
   {
    "duration": 4,
    "start_time": "2022-01-13T21:01:11.151Z"
   },
   {
    "duration": 10864,
    "start_time": "2022-01-13T21:01:11.156Z"
   },
   {
    "duration": 11291,
    "start_time": "2022-01-13T21:01:22.022Z"
   },
   {
    "duration": 63158,
    "start_time": "2022-01-13T21:01:33.315Z"
   },
   {
    "duration": 7,
    "start_time": "2022-01-13T21:02:36.475Z"
   },
   {
    "duration": 162710,
    "start_time": "2022-01-13T21:02:36.483Z"
   },
   {
    "duration": 168242,
    "start_time": "2022-01-13T21:05:19.194Z"
   },
   {
    "duration": 1572,
    "start_time": "2022-01-14T06:57:11.635Z"
   },
   {
    "duration": 57,
    "start_time": "2022-01-14T06:57:13.209Z"
   },
   {
    "duration": 6,
    "start_time": "2022-01-14T06:57:13.268Z"
   },
   {
    "duration": 61,
    "start_time": "2022-01-14T06:57:13.276Z"
   },
   {
    "duration": 32,
    "start_time": "2022-01-14T06:57:13.340Z"
   },
   {
    "duration": 15,
    "start_time": "2022-01-14T06:57:13.375Z"
   },
   {
    "duration": 9,
    "start_time": "2022-01-14T06:57:13.393Z"
   },
   {
    "duration": 708,
    "start_time": "2022-01-14T06:57:13.406Z"
   },
   {
    "duration": 9,
    "start_time": "2022-01-14T06:57:14.117Z"
   },
   {
    "duration": 4644,
    "start_time": "2022-01-14T06:57:14.128Z"
   },
   {
    "duration": 4,
    "start_time": "2022-01-14T06:57:18.774Z"
   },
   {
    "duration": 357,
    "start_time": "2022-01-14T06:57:18.781Z"
   },
   {
    "duration": 433,
    "start_time": "2022-01-14T06:57:19.141Z"
   },
   {
    "duration": 328,
    "start_time": "2022-01-14T06:57:19.577Z"
   },
   {
    "duration": 334,
    "start_time": "2022-01-14T06:57:19.907Z"
   },
   {
    "duration": 365,
    "start_time": "2022-01-14T06:57:20.244Z"
   },
   {
    "duration": 6,
    "start_time": "2022-01-14T06:57:20.612Z"
   },
   {
    "duration": 12,
    "start_time": "2022-01-14T06:57:20.621Z"
   },
   {
    "duration": 41,
    "start_time": "2022-01-14T06:57:20.636Z"
   },
   {
    "duration": 32,
    "start_time": "2022-01-14T06:57:20.680Z"
   },
   {
    "duration": 50,
    "start_time": "2022-01-14T06:57:20.714Z"
   },
   {
    "duration": 9,
    "start_time": "2022-01-14T06:57:20.767Z"
   },
   {
    "duration": 12,
    "start_time": "2022-01-14T06:57:20.781Z"
   },
   {
    "duration": 9,
    "start_time": "2022-01-14T06:57:20.796Z"
   },
   {
    "duration": 10,
    "start_time": "2022-01-14T06:57:20.808Z"
   },
   {
    "duration": 19843,
    "start_time": "2022-01-14T06:57:20.820Z"
   },
   {
    "duration": 96,
    "start_time": "2022-01-14T06:57:40.667Z"
   },
   {
    "duration": 26509,
    "start_time": "2022-01-14T06:57:40.766Z"
   },
   {
    "duration": 10,
    "start_time": "2022-01-14T06:58:07.277Z"
   },
   {
    "duration": 135482,
    "start_time": "2022-01-14T06:58:07.290Z"
   },
   {
    "duration": 9,
    "start_time": "2022-01-14T07:00:22.774Z"
   },
   {
    "duration": 8,
    "start_time": "2022-01-14T07:00:22.785Z"
   },
   {
    "duration": 19869,
    "start_time": "2022-01-14T07:00:22.796Z"
   },
   {
    "duration": 28389,
    "start_time": "2022-01-14T07:00:42.668Z"
   },
   {
    "duration": 143103,
    "start_time": "2022-01-14T07:01:11.062Z"
   },
   {
    "duration": 6,
    "start_time": "2022-01-14T07:03:34.167Z"
   },
   {
    "duration": 19711,
    "start_time": "2022-01-14T07:03:34.175Z"
   },
   {
    "duration": 31498,
    "start_time": "2022-01-14T07:03:53.966Z"
   },
   {
    "duration": 146291,
    "start_time": "2022-01-14T07:04:25.466Z"
   },
   {
    "duration": 6,
    "start_time": "2022-01-14T07:06:51.763Z"
   },
   {
    "duration": 18105,
    "start_time": "2022-01-14T07:06:51.771Z"
   },
   {
    "duration": 18119,
    "start_time": "2022-01-14T07:07:09.963Z"
   },
   {
    "duration": 108942,
    "start_time": "2022-01-14T07:07:28.084Z"
   },
   {
    "duration": 12,
    "start_time": "2022-01-14T07:09:17.029Z"
   },
   {
    "duration": 287949,
    "start_time": "2022-01-14T07:09:17.043Z"
   },
   {
    "duration": 289851,
    "start_time": "2022-01-14T07:14:04.994Z"
   },
   {
    "duration": 5,
    "start_time": "2022-01-14T07:23:36.092Z"
   },
   {
    "duration": 5,
    "start_time": "2022-01-14T07:24:01.015Z"
   },
   {
    "duration": 4,
    "start_time": "2022-01-14T07:24:11.012Z"
   },
   {
    "duration": 4,
    "start_time": "2022-01-14T07:24:23.050Z"
   },
   {
    "duration": 5,
    "start_time": "2022-01-14T07:24:27.122Z"
   },
   {
    "duration": 11,
    "start_time": "2022-01-14T07:57:59.424Z"
   },
   {
    "duration": 723,
    "start_time": "2022-01-14T07:58:02.742Z"
   },
   {
    "duration": 10,
    "start_time": "2022-01-14T07:58:28.128Z"
   },
   {
    "duration": 577,
    "start_time": "2022-01-14T07:58:28.749Z"
   },
   {
    "duration": 11,
    "start_time": "2022-01-14T07:58:54.494Z"
   },
   {
    "duration": 708,
    "start_time": "2022-01-14T07:58:55.258Z"
   },
   {
    "duration": 95,
    "start_time": "2022-01-14T08:07:24.913Z"
   },
   {
    "duration": 6,
    "start_time": "2022-01-14T08:07:35.128Z"
   },
   {
    "duration": 10,
    "start_time": "2022-01-14T08:07:39.672Z"
   },
   {
    "duration": 687,
    "start_time": "2022-01-14T08:07:44.921Z"
   },
   {
    "duration": 14,
    "start_time": "2022-01-14T08:08:21.657Z"
   },
   {
    "duration": 770,
    "start_time": "2022-01-14T08:08:22.729Z"
   },
   {
    "duration": 10,
    "start_time": "2022-01-14T08:09:42.435Z"
   },
   {
    "duration": 708,
    "start_time": "2022-01-14T08:09:42.677Z"
   },
   {
    "duration": 14,
    "start_time": "2022-01-14T08:09:54.153Z"
   },
   {
    "duration": 698,
    "start_time": "2022-01-14T08:09:54.451Z"
   },
   {
    "duration": 6,
    "start_time": "2022-01-14T08:12:53.793Z"
   },
   {
    "duration": 10,
    "start_time": "2022-01-14T08:12:54.598Z"
   },
   {
    "duration": 1436,
    "start_time": "2022-01-14T08:12:55.694Z"
   },
   {
    "duration": 5,
    "start_time": "2022-01-14T08:13:09.976Z"
   },
   {
    "duration": 11,
    "start_time": "2022-01-14T08:13:10.303Z"
   },
   {
    "duration": 700,
    "start_time": "2022-01-14T08:13:10.890Z"
   },
   {
    "duration": 7,
    "start_time": "2022-01-14T08:13:32.056Z"
   },
   {
    "duration": 10,
    "start_time": "2022-01-14T08:13:32.228Z"
   },
   {
    "duration": 702,
    "start_time": "2022-01-14T08:13:32.692Z"
   },
   {
    "duration": 28,
    "start_time": "2022-01-14T08:59:34.986Z"
   },
   {
    "duration": 3418,
    "start_time": "2022-01-14T08:59:38.749Z"
   },
   {
    "duration": 7,
    "start_time": "2022-01-14T09:03:44.366Z"
   },
   {
    "duration": 56,
    "start_time": "2022-01-14T09:03:44.376Z"
   },
   {
    "duration": 5,
    "start_time": "2022-01-14T09:03:44.435Z"
   },
   {
    "duration": 102,
    "start_time": "2022-01-14T09:03:44.470Z"
   },
   {
    "duration": 12,
    "start_time": "2022-01-14T09:03:44.575Z"
   },
   {
    "duration": 16,
    "start_time": "2022-01-14T09:03:44.589Z"
   },
   {
    "duration": 9,
    "start_time": "2022-01-14T09:03:44.608Z"
   },
   {
    "duration": 843,
    "start_time": "2022-01-14T09:03:44.620Z"
   },
   {
    "duration": 17,
    "start_time": "2022-01-14T09:03:45.466Z"
   },
   {
    "duration": 4894,
    "start_time": "2022-01-14T09:03:45.485Z"
   },
   {
    "duration": 5,
    "start_time": "2022-01-14T09:03:50.383Z"
   },
   {
    "duration": 383,
    "start_time": "2022-01-14T09:03:50.391Z"
   },
   {
    "duration": 358,
    "start_time": "2022-01-14T09:03:50.779Z"
   },
   {
    "duration": 357,
    "start_time": "2022-01-14T09:03:51.139Z"
   },
   {
    "duration": 348,
    "start_time": "2022-01-14T09:03:51.499Z"
   },
   {
    "duration": 359,
    "start_time": "2022-01-14T09:03:51.850Z"
   },
   {
    "duration": 6,
    "start_time": "2022-01-14T09:03:52.212Z"
   },
   {
    "duration": 14,
    "start_time": "2022-01-14T09:03:52.221Z"
   },
   {
    "duration": 41,
    "start_time": "2022-01-14T09:03:52.242Z"
   },
   {
    "duration": 40,
    "start_time": "2022-01-14T09:03:52.286Z"
   },
   {
    "duration": 43,
    "start_time": "2022-01-14T09:03:52.329Z"
   },
   {
    "duration": 7,
    "start_time": "2022-01-14T09:03:52.374Z"
   },
   {
    "duration": 28,
    "start_time": "2022-01-14T09:03:52.383Z"
   },
   {
    "duration": 23,
    "start_time": "2022-01-14T09:03:52.413Z"
   },
   {
    "duration": 20,
    "start_time": "2022-01-14T09:03:52.439Z"
   },
   {
    "duration": 3013,
    "start_time": "2022-01-14T09:03:52.462Z"
   },
   {
    "duration": 85,
    "start_time": "2022-01-14T09:03:55.479Z"
   },
   {
    "duration": 14068,
    "start_time": "2022-01-14T09:03:55.577Z"
   },
   {
    "duration": 20,
    "start_time": "2022-01-14T09:04:09.647Z"
   },
   {
    "duration": 14236,
    "start_time": "2022-01-14T09:04:09.670Z"
   },
   {
    "duration": 10,
    "start_time": "2022-01-14T09:04:23.909Z"
   },
   {
    "duration": 8,
    "start_time": "2022-01-14T09:04:23.921Z"
   },
   {
    "duration": 3347,
    "start_time": "2022-01-14T09:04:23.932Z"
   },
   {
    "duration": 15649,
    "start_time": "2022-01-14T09:04:27.282Z"
   },
   {
    "duration": 14777,
    "start_time": "2022-01-14T09:04:42.933Z"
   },
   {
    "duration": 5,
    "start_time": "2022-01-14T09:04:57.713Z"
   },
   {
    "duration": 3657,
    "start_time": "2022-01-14T09:04:57.721Z"
   },
   {
    "duration": 16537,
    "start_time": "2022-01-14T09:05:01.382Z"
   },
   {
    "duration": 15224,
    "start_time": "2022-01-14T09:05:17.922Z"
   },
   {
    "duration": 6,
    "start_time": "2022-01-14T09:05:33.148Z"
   },
   {
    "duration": 2517,
    "start_time": "2022-01-14T09:05:33.163Z"
   },
   {
    "duration": 10287,
    "start_time": "2022-01-14T09:05:35.684Z"
   },
   {
    "duration": 12124,
    "start_time": "2022-01-14T09:05:45.974Z"
   },
   {
    "duration": 12,
    "start_time": "2022-01-14T09:05:58.100Z"
   },
   {
    "duration": 29386,
    "start_time": "2022-01-14T09:05:58.115Z"
   },
   {
    "duration": 30774,
    "start_time": "2022-01-14T09:06:27.503Z"
   },
   {
    "duration": 4,
    "start_time": "2022-01-14T09:06:58.279Z"
   },
   {
    "duration": 8,
    "start_time": "2022-01-14T09:06:58.285Z"
   },
   {
    "duration": 11,
    "start_time": "2022-01-14T09:06:58.295Z"
   },
   {
    "duration": 755,
    "start_time": "2022-01-14T09:06:58.308Z"
   },
   {
    "duration": 7,
    "start_time": "2022-01-14T09:09:12.168Z"
   },
   {
    "duration": 50,
    "start_time": "2022-01-14T09:09:12.179Z"
   },
   {
    "duration": 30,
    "start_time": "2022-01-14T09:09:12.233Z"
   },
   {
    "duration": 114,
    "start_time": "2022-01-14T09:09:12.267Z"
   },
   {
    "duration": 12,
    "start_time": "2022-01-14T09:09:12.384Z"
   },
   {
    "duration": 21,
    "start_time": "2022-01-14T09:09:12.399Z"
   },
   {
    "duration": 44,
    "start_time": "2022-01-14T09:09:12.423Z"
   },
   {
    "duration": 799,
    "start_time": "2022-01-14T09:09:12.471Z"
   },
   {
    "duration": 10,
    "start_time": "2022-01-14T09:09:13.274Z"
   },
   {
    "duration": 4653,
    "start_time": "2022-01-14T09:09:13.287Z"
   },
   {
    "duration": 5,
    "start_time": "2022-01-14T09:09:17.943Z"
   },
   {
    "duration": 364,
    "start_time": "2022-01-14T09:09:17.966Z"
   },
   {
    "duration": 468,
    "start_time": "2022-01-14T09:09:18.333Z"
   },
   {
    "duration": 333,
    "start_time": "2022-01-14T09:09:18.804Z"
   },
   {
    "duration": 346,
    "start_time": "2022-01-14T09:09:19.140Z"
   },
   {
    "duration": 418,
    "start_time": "2022-01-14T09:09:19.488Z"
   },
   {
    "duration": 7,
    "start_time": "2022-01-14T09:09:19.908Z"
   },
   {
    "duration": 10,
    "start_time": "2022-01-14T09:09:19.918Z"
   },
   {
    "duration": 40,
    "start_time": "2022-01-14T09:09:19.930Z"
   },
   {
    "duration": 22,
    "start_time": "2022-01-14T09:09:19.974Z"
   },
   {
    "duration": 40,
    "start_time": "2022-01-14T09:09:19.998Z"
   },
   {
    "duration": 13,
    "start_time": "2022-01-14T09:09:20.068Z"
   },
   {
    "duration": 13,
    "start_time": "2022-01-14T09:09:20.087Z"
   },
   {
    "duration": 7,
    "start_time": "2022-01-14T09:09:20.104Z"
   },
   {
    "duration": 11,
    "start_time": "2022-01-14T09:09:20.114Z"
   },
   {
    "duration": 16755,
    "start_time": "2022-01-14T09:09:20.128Z"
   },
   {
    "duration": 89,
    "start_time": "2022-01-14T09:09:36.887Z"
   },
   {
    "duration": 28857,
    "start_time": "2022-01-14T09:09:36.979Z"
   },
   {
    "duration": 11,
    "start_time": "2022-01-14T09:10:05.839Z"
   },
   {
    "duration": 143840,
    "start_time": "2022-01-14T09:10:05.863Z"
   },
   {
    "duration": 9,
    "start_time": "2022-01-14T09:12:29.706Z"
   },
   {
    "duration": 10,
    "start_time": "2022-01-14T09:12:29.717Z"
   },
   {
    "duration": 18552,
    "start_time": "2022-01-14T09:12:29.729Z"
   },
   {
    "duration": 29154,
    "start_time": "2022-01-14T09:12:48.364Z"
   },
   {
    "duration": 148627,
    "start_time": "2022-01-14T09:13:17.520Z"
   },
   {
    "duration": 16,
    "start_time": "2022-01-14T09:15:46.150Z"
   },
   {
    "duration": 19298,
    "start_time": "2022-01-14T09:15:46.168Z"
   },
   {
    "duration": 31479,
    "start_time": "2022-01-14T09:16:05.479Z"
   },
   {
    "duration": 154885,
    "start_time": "2022-01-14T09:16:36.963Z"
   },
   {
    "duration": 14,
    "start_time": "2022-01-14T09:19:11.851Z"
   },
   {
    "duration": 15498,
    "start_time": "2022-01-14T09:19:11.870Z"
   },
   {
    "duration": 19013,
    "start_time": "2022-01-14T09:19:27.376Z"
   },
   {
    "duration": 115000,
    "start_time": "2022-01-14T09:19:46.391Z"
   },
   {
    "duration": 12,
    "start_time": "2022-01-14T09:21:41.393Z"
   },
   {
    "duration": 302021,
    "start_time": "2022-01-14T09:21:41.408Z"
   },
   {
    "duration": 310460,
    "start_time": "2022-01-14T09:26:43.431Z"
   },
   {
    "duration": 4,
    "start_time": "2022-01-14T09:31:53.894Z"
   },
   {
    "duration": 7,
    "start_time": "2022-01-14T09:31:53.901Z"
   },
   {
    "duration": 15,
    "start_time": "2022-01-14T09:31:53.911Z"
   },
   {
    "duration": 757,
    "start_time": "2022-01-14T09:31:53.929Z"
   },
   {
    "duration": 1613,
    "start_time": "2022-01-14T10:08:22.024Z"
   },
   {
    "duration": 56,
    "start_time": "2022-01-14T10:08:23.640Z"
   },
   {
    "duration": 5,
    "start_time": "2022-01-14T10:08:23.699Z"
   },
   {
    "duration": 75,
    "start_time": "2022-01-14T10:08:23.935Z"
   },
   {
    "duration": 12,
    "start_time": "2022-01-14T10:08:27.134Z"
   },
   {
    "duration": 16,
    "start_time": "2022-01-14T10:11:02.380Z"
   },
   {
    "duration": 10,
    "start_time": "2022-01-14T10:11:05.760Z"
   },
   {
    "duration": 693,
    "start_time": "2022-01-14T10:11:06.840Z"
   },
   {
    "duration": 10,
    "start_time": "2022-01-14T10:13:38.638Z"
   },
   {
    "duration": 4559,
    "start_time": "2022-01-14T10:13:39.601Z"
   },
   {
    "duration": 4,
    "start_time": "2022-01-14T10:14:14.082Z"
   },
   {
    "duration": 348,
    "start_time": "2022-01-14T10:14:14.777Z"
   },
   {
    "duration": 326,
    "start_time": "2022-01-14T10:14:15.479Z"
   },
   {
    "duration": 319,
    "start_time": "2022-01-14T10:14:16.731Z"
   },
   {
    "duration": 317,
    "start_time": "2022-01-14T10:14:17.447Z"
   },
   {
    "duration": 332,
    "start_time": "2022-01-14T10:14:18.031Z"
   },
   {
    "duration": 6,
    "start_time": "2022-01-14T10:14:54.530Z"
   },
   {
    "duration": 8,
    "start_time": "2022-01-14T10:14:55.595Z"
   },
   {
    "duration": 12,
    "start_time": "2022-01-14T10:15:13.295Z"
   },
   {
    "duration": 19,
    "start_time": "2022-01-14T10:16:18.199Z"
   },
   {
    "duration": 38,
    "start_time": "2022-01-14T10:16:41.668Z"
   },
   {
    "duration": 7,
    "start_time": "2022-01-14T10:19:00.245Z"
   },
   {
    "duration": 12,
    "start_time": "2022-01-14T10:19:00.816Z"
   },
   {
    "duration": 6,
    "start_time": "2022-01-14T10:19:03.685Z"
   },
   {
    "duration": 9,
    "start_time": "2022-01-14T10:19:50.880Z"
   },
   {
    "duration": 19527,
    "start_time": "2022-01-14T10:19:52.360Z"
   },
   {
    "duration": 14,
    "start_time": "2022-01-14T10:20:17.780Z"
   },
   {
    "duration": 32506,
    "start_time": "2022-01-14T10:20:18.687Z"
   },
   {
    "duration": 10,
    "start_time": "2022-01-14T10:20:51.196Z"
   },
   {
    "duration": 135609,
    "start_time": "2022-01-14T10:20:51.209Z"
   },
   {
    "duration": 8,
    "start_time": "2022-01-14T10:23:06.820Z"
   },
   {
    "duration": 28,
    "start_time": "2022-01-14T10:23:06.831Z"
   },
   {
    "duration": 19627,
    "start_time": "2022-01-14T10:23:06.862Z"
   },
   {
    "duration": 28642,
    "start_time": "2022-01-14T10:23:26.562Z"
   },
   {
    "duration": 137045,
    "start_time": "2022-01-14T10:23:55.206Z"
   },
   {
    "duration": 6,
    "start_time": "2022-01-14T10:26:12.254Z"
   },
   {
    "duration": 19897,
    "start_time": "2022-01-14T10:26:12.264Z"
   },
   {
    "duration": 29943,
    "start_time": "2022-01-14T10:26:32.166Z"
   },
   {
    "duration": 151147,
    "start_time": "2022-01-14T10:27:02.112Z"
   },
   {
    "duration": 6,
    "start_time": "2022-01-14T10:29:33.262Z"
   },
   {
    "duration": 18390,
    "start_time": "2022-01-14T10:29:33.270Z"
   },
   {
    "duration": 17839,
    "start_time": "2022-01-14T10:29:51.665Z"
   },
   {
    "duration": 113059,
    "start_time": "2022-01-14T10:30:09.507Z"
   },
   {
    "duration": 11,
    "start_time": "2022-01-14T10:32:02.568Z"
   },
   {
    "duration": 329161,
    "start_time": "2022-01-14T10:32:02.582Z"
   },
   {
    "duration": 308615,
    "start_time": "2022-01-14T10:37:31.746Z"
   },
   {
    "duration": 4,
    "start_time": "2022-01-14T10:42:40.364Z"
   },
   {
    "duration": 11,
    "start_time": "2022-01-14T10:42:40.370Z"
   },
   {
    "duration": 10,
    "start_time": "2022-01-14T10:42:40.383Z"
   },
   {
    "duration": 755,
    "start_time": "2022-01-14T10:42:40.395Z"
   },
   {
    "duration": 390,
    "start_time": "2022-01-14T12:55:36.401Z"
   },
   {
    "duration": 1723,
    "start_time": "2022-01-14T12:55:43.696Z"
   },
   {
    "duration": 65,
    "start_time": "2022-01-14T12:55:45.423Z"
   },
   {
    "duration": 6,
    "start_time": "2022-01-14T12:55:45.492Z"
   },
   {
    "duration": 89,
    "start_time": "2022-01-14T12:55:45.501Z"
   },
   {
    "duration": 36,
    "start_time": "2022-01-14T12:55:45.593Z"
   },
   {
    "duration": 18,
    "start_time": "2022-01-14T12:55:45.632Z"
   },
   {
    "duration": 11,
    "start_time": "2022-01-14T12:55:45.652Z"
   },
   {
    "duration": 745,
    "start_time": "2022-01-14T12:55:45.668Z"
   },
   {
    "duration": 17,
    "start_time": "2022-01-14T12:55:46.417Z"
   },
   {
    "duration": 4997,
    "start_time": "2022-01-14T12:55:46.573Z"
   },
   {
    "duration": 6,
    "start_time": "2022-01-14T12:55:51.574Z"
   },
   {
    "duration": 406,
    "start_time": "2022-01-14T12:55:51.586Z"
   },
   {
    "duration": 368,
    "start_time": "2022-01-14T12:55:51.995Z"
   },
   {
    "duration": 361,
    "start_time": "2022-01-14T12:55:52.365Z"
   },
   {
    "duration": 378,
    "start_time": "2022-01-14T12:55:52.728Z"
   },
   {
    "duration": 365,
    "start_time": "2022-01-14T12:55:53.110Z"
   },
   {
    "duration": 7,
    "start_time": "2022-01-14T12:55:53.480Z"
   },
   {
    "duration": 34,
    "start_time": "2022-01-14T12:55:53.491Z"
   },
   {
    "duration": 387,
    "start_time": "2022-01-14T12:55:53.575Z"
   },
   {
    "duration": 408,
    "start_time": "2022-01-14T12:56:04.845Z"
   },
   {
    "duration": 436,
    "start_time": "2022-01-14T12:57:06.588Z"
   },
   {
    "duration": 396,
    "start_time": "2022-01-14T12:57:39.517Z"
   },
   {
    "duration": 509,
    "start_time": "2022-01-14T12:57:47.793Z"
   },
   {
    "duration": 443,
    "start_time": "2022-01-14T12:58:14.159Z"
   },
   {
    "duration": 387,
    "start_time": "2022-01-14T12:58:24.177Z"
   },
   {
    "duration": 402,
    "start_time": "2022-01-14T12:58:38.784Z"
   },
   {
    "duration": 5,
    "start_time": "2022-01-14T12:59:27.919Z"
   },
   {
    "duration": 48,
    "start_time": "2022-01-14T12:59:28.116Z"
   },
   {
    "duration": 6,
    "start_time": "2022-01-14T12:59:28.295Z"
   },
   {
    "duration": 62,
    "start_time": "2022-01-14T12:59:28.591Z"
   },
   {
    "duration": 17,
    "start_time": "2022-01-14T12:59:28.727Z"
   },
   {
    "duration": 17,
    "start_time": "2022-01-14T12:59:30.459Z"
   },
   {
    "duration": 10,
    "start_time": "2022-01-14T12:59:30.480Z"
   },
   {
    "duration": 796,
    "start_time": "2022-01-14T12:59:30.494Z"
   },
   {
    "duration": 9,
    "start_time": "2022-01-14T12:59:31.292Z"
   },
   {
    "duration": 5064,
    "start_time": "2022-01-14T12:59:31.305Z"
   },
   {
    "duration": 5,
    "start_time": "2022-01-14T12:59:36.371Z"
   },
   {
    "duration": 358,
    "start_time": "2022-01-14T12:59:36.379Z"
   },
   {
    "duration": 390,
    "start_time": "2022-01-14T12:59:36.741Z"
   },
   {
    "duration": 352,
    "start_time": "2022-01-14T12:59:37.134Z"
   },
   {
    "duration": 338,
    "start_time": "2022-01-14T12:59:37.489Z"
   },
   {
    "duration": 377,
    "start_time": "2022-01-14T12:59:37.830Z"
   },
   {
    "duration": 401,
    "start_time": "2022-01-14T12:59:38.212Z"
   },
   {
    "duration": 523,
    "start_time": "2022-01-14T13:00:57.306Z"
   },
   {
    "duration": 538,
    "start_time": "2022-01-14T13:01:11.958Z"
   },
   {
    "duration": 478,
    "start_time": "2022-01-14T13:01:33.292Z"
   },
   {
    "duration": 519,
    "start_time": "2022-01-14T13:01:52.447Z"
   },
   {
    "duration": 7,
    "start_time": "2022-01-14T13:01:53.944Z"
   },
   {
    "duration": 9,
    "start_time": "2022-01-14T13:01:54.126Z"
   },
   {
    "duration": 482,
    "start_time": "2022-01-14T13:01:54.893Z"
   },
   {
    "duration": 129,
    "start_time": "2022-01-14T13:20:31.343Z"
   },
   {
    "duration": 316,
    "start_time": "2022-01-14T13:26:41.625Z"
   },
   {
    "duration": 374,
    "start_time": "2022-01-14T13:26:42.088Z"
   },
   {
    "duration": 7,
    "start_time": "2022-01-14T13:26:57.058Z"
   },
   {
    "duration": 46,
    "start_time": "2022-01-14T13:26:57.212Z"
   },
   {
    "duration": 6,
    "start_time": "2022-01-14T13:26:57.368Z"
   },
   {
    "duration": 145,
    "start_time": "2022-01-14T13:26:57.540Z"
   },
   {
    "duration": 13,
    "start_time": "2022-01-14T13:26:57.688Z"
   },
   {
    "duration": 19,
    "start_time": "2022-01-14T13:26:58.175Z"
   },
   {
    "duration": 10,
    "start_time": "2022-01-14T13:26:58.347Z"
   },
   {
    "duration": 754,
    "start_time": "2022-01-14T13:26:58.500Z"
   },
   {
    "duration": 9,
    "start_time": "2022-01-14T13:26:59.356Z"
   },
   {
    "duration": 4985,
    "start_time": "2022-01-14T13:26:59.514Z"
   },
   {
    "duration": 4,
    "start_time": "2022-01-14T13:27:04.502Z"
   },
   {
    "duration": 404,
    "start_time": "2022-01-14T13:27:04.525Z"
   },
   {
    "duration": 358,
    "start_time": "2022-01-14T13:27:04.933Z"
   },
   {
    "duration": 448,
    "start_time": "2022-01-14T13:27:05.293Z"
   },
   {
    "duration": 449,
    "start_time": "2022-01-14T13:27:05.743Z"
   },
   {
    "duration": 334,
    "start_time": "2022-01-14T13:27:06.194Z"
   },
   {
    "duration": 522,
    "start_time": "2022-01-14T13:27:06.531Z"
   },
   {
    "duration": 6,
    "start_time": "2022-01-14T13:27:07.056Z"
   },
   {
    "duration": 12,
    "start_time": "2022-01-14T13:27:07.064Z"
   },
   {
    "duration": 573,
    "start_time": "2022-01-14T13:27:07.078Z"
   },
   {
    "duration": 19,
    "start_time": "2022-01-14T13:27:07.654Z"
   },
   {
    "duration": 48,
    "start_time": "2022-01-14T13:27:07.676Z"
   },
   {
    "duration": 7,
    "start_time": "2022-01-14T13:27:09.509Z"
   },
   {
    "duration": 12,
    "start_time": "2022-01-14T13:27:09.846Z"
   },
   {
    "duration": 10,
    "start_time": "2022-01-14T13:27:10.905Z"
   },
   {
    "duration": 34,
    "start_time": "2022-01-14T13:27:12.668Z"
   },
   {
    "duration": 18,
    "start_time": "2022-01-14T13:27:13.101Z"
   },
   {
    "duration": 18,
    "start_time": "2022-01-14T13:27:13.507Z"
   },
   {
    "duration": 23,
    "start_time": "2022-01-14T13:27:14.191Z"
   },
   {
    "duration": 18,
    "start_time": "2022-01-14T13:28:00.044Z"
   },
   {
    "duration": 22,
    "start_time": "2022-01-14T13:28:00.194Z"
   },
   {
    "duration": 26,
    "start_time": "2022-01-14T13:28:01.049Z"
   },
   {
    "duration": 22,
    "start_time": "2022-01-14T13:28:19.341Z"
   },
   {
    "duration": 20,
    "start_time": "2022-01-14T13:28:19.979Z"
   },
   {
    "duration": 24,
    "start_time": "2022-01-14T13:28:20.525Z"
   },
   {
    "duration": 7,
    "start_time": "2022-01-14T13:29:35.911Z"
   },
   {
    "duration": 57,
    "start_time": "2022-01-14T13:29:35.920Z"
   },
   {
    "duration": 6,
    "start_time": "2022-01-14T13:29:35.980Z"
   },
   {
    "duration": 101,
    "start_time": "2022-01-14T13:29:35.990Z"
   },
   {
    "duration": 39,
    "start_time": "2022-01-14T13:29:36.094Z"
   },
   {
    "duration": 27,
    "start_time": "2022-01-14T13:29:36.135Z"
   },
   {
    "duration": 11,
    "start_time": "2022-01-14T13:29:36.165Z"
   },
   {
    "duration": 892,
    "start_time": "2022-01-14T13:29:36.180Z"
   },
   {
    "duration": 9,
    "start_time": "2022-01-14T13:29:37.075Z"
   },
   {
    "duration": 4943,
    "start_time": "2022-01-14T13:29:37.086Z"
   },
   {
    "duration": 4,
    "start_time": "2022-01-14T13:29:42.033Z"
   },
   {
    "duration": 402,
    "start_time": "2022-01-14T13:29:42.040Z"
   },
   {
    "duration": 453,
    "start_time": "2022-01-14T13:29:42.445Z"
   },
   {
    "duration": 357,
    "start_time": "2022-01-14T13:29:42.901Z"
   },
   {
    "duration": 392,
    "start_time": "2022-01-14T13:29:43.261Z"
   },
   {
    "duration": 375,
    "start_time": "2022-01-14T13:29:43.655Z"
   },
   {
    "duration": 519,
    "start_time": "2022-01-14T13:29:44.033Z"
   },
   {
    "duration": 6,
    "start_time": "2022-01-14T13:29:44.554Z"
   },
   {
    "duration": 9,
    "start_time": "2022-01-14T13:29:44.563Z"
   },
   {
    "duration": 549,
    "start_time": "2022-01-14T13:29:44.574Z"
   },
   {
    "duration": 13,
    "start_time": "2022-01-14T13:29:45.126Z"
   },
   {
    "duration": 20,
    "start_time": "2022-01-14T13:29:45.142Z"
   },
   {
    "duration": 8,
    "start_time": "2022-01-14T13:29:45.170Z"
   },
   {
    "duration": 49,
    "start_time": "2022-01-14T13:29:45.181Z"
   },
   {
    "duration": 8,
    "start_time": "2022-01-14T13:29:45.233Z"
   },
   {
    "duration": 81,
    "start_time": "2022-01-14T13:29:45.243Z"
   },
   {
    "duration": 20,
    "start_time": "2022-01-14T13:29:45.326Z"
   },
   {
    "duration": 27,
    "start_time": "2022-01-14T13:29:45.349Z"
   },
   {
    "duration": 52,
    "start_time": "2022-01-14T13:29:45.379Z"
   },
   {
    "duration": 14,
    "start_time": "2022-01-14T13:29:45.434Z"
   },
   {
    "duration": 19782,
    "start_time": "2022-01-14T13:29:45.450Z"
   },
   {
    "duration": 95,
    "start_time": "2022-01-14T13:30:05.237Z"
   },
   {
    "duration": 29193,
    "start_time": "2022-01-14T13:30:05.334Z"
   },
   {
    "duration": 10,
    "start_time": "2022-01-14T13:30:34.530Z"
   },
   {
    "duration": 148206,
    "start_time": "2022-01-14T13:30:34.543Z"
   },
   {
    "duration": 10,
    "start_time": "2022-01-14T13:33:02.752Z"
   },
   {
    "duration": 10,
    "start_time": "2022-01-14T13:33:02.765Z"
   },
   {
    "duration": 19951,
    "start_time": "2022-01-14T13:33:02.778Z"
   },
   {
    "duration": 30491,
    "start_time": "2022-01-14T13:33:22.732Z"
   },
   {
    "duration": 153609,
    "start_time": "2022-01-14T13:33:53.226Z"
   },
   {
    "duration": 5,
    "start_time": "2022-01-14T13:36:26.838Z"
   },
   {
    "duration": 19796,
    "start_time": "2022-01-14T13:36:26.846Z"
   },
   {
    "duration": 32887,
    "start_time": "2022-01-14T13:36:46.725Z"
   },
   {
    "duration": 161520,
    "start_time": "2022-01-14T13:37:19.615Z"
   },
   {
    "duration": 5,
    "start_time": "2022-01-14T13:40:01.138Z"
   },
   {
    "duration": 17704,
    "start_time": "2022-01-14T13:40:01.146Z"
   },
   {
    "duration": 20119,
    "start_time": "2022-01-14T13:40:18.924Z"
   },
   {
    "duration": 119306,
    "start_time": "2022-01-14T13:40:39.045Z"
   },
   {
    "duration": 12,
    "start_time": "2022-01-14T13:42:38.353Z"
   },
   {
    "duration": 314916,
    "start_time": "2022-01-14T13:42:38.368Z"
   },
   {
    "duration": 330825,
    "start_time": "2022-01-14T13:47:53.287Z"
   },
   {
    "duration": 10,
    "start_time": "2022-01-14T13:53:24.115Z"
   },
   {
    "duration": 10,
    "start_time": "2022-01-14T13:53:24.128Z"
   },
   {
    "duration": 11,
    "start_time": "2022-01-14T13:53:24.141Z"
   },
   {
    "duration": 719,
    "start_time": "2022-01-14T13:53:24.155Z"
   },
   {
    "duration": 110,
    "start_time": "2022-01-14T13:53:24.880Z"
   },
   {
    "duration": 5,
    "start_time": "2022-01-14T13:56:43.598Z"
   },
   {
    "duration": 113,
    "start_time": "2022-01-14T13:59:06.881Z"
   },
   {
    "duration": 319,
    "start_time": "2022-01-14T14:17:40.975Z"
   },
   {
    "duration": 487,
    "start_time": "2022-01-14T14:18:11.898Z"
   },
   {
    "duration": 416,
    "start_time": "2022-01-14T14:18:25.307Z"
   },
   {
    "duration": 536,
    "start_time": "2022-01-14T14:18:33.787Z"
   },
   {
    "duration": 417,
    "start_time": "2022-01-14T14:19:15.401Z"
   },
   {
    "duration": 410,
    "start_time": "2022-01-14T14:19:22.030Z"
   },
   {
    "duration": 409,
    "start_time": "2022-01-14T14:19:40.639Z"
   },
   {
    "duration": 69,
    "start_time": "2022-01-14T14:20:06.487Z"
   },
   {
    "duration": 67,
    "start_time": "2022-01-14T14:20:12.428Z"
   },
   {
    "duration": 539,
    "start_time": "2022-01-14T14:20:26.425Z"
   },
   {
    "duration": 538,
    "start_time": "2022-01-14T14:20:39.199Z"
   },
   {
    "duration": 550,
    "start_time": "2022-01-14T14:20:57.307Z"
   }
  ],
  "kernelspec": {
   "display_name": "Python 3 (ipykernel)",
   "language": "python",
   "name": "python3"
  },
  "language_info": {
   "codemirror_mode": {
    "name": "ipython",
    "version": 3
   },
   "file_extension": ".py",
   "mimetype": "text/x-python",
   "name": "python",
   "nbconvert_exporter": "python",
   "pygments_lexer": "ipython3",
   "version": "3.9.7"
  },
  "toc": {
   "base_numbering": 1,
   "nav_menu": {},
   "number_sections": true,
   "sideBar": true,
   "skip_h1_title": true,
   "title_cell": "Содержание",
   "title_sidebar": "Contents",
   "toc_cell": true,
   "toc_position": {},
   "toc_section_display": true,
   "toc_window_display": true
  }
 },
 "nbformat": 4,
 "nbformat_minor": 2
}
