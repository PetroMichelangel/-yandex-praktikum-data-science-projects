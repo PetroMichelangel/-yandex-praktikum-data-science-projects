{
 "cells": [
  {
   "cell_type": "markdown",
   "metadata": {},
   "source": [
    "# Статистический анализ данных"
   ]
  },
  {
   "cell_type": "markdown",
   "metadata": {},
   "source": [
    "# Определение перспективного тарифа для телеком-компании"
   ]
  },
  {
   "cell_type": "markdown",
   "metadata": {},
   "source": [
    "Цели и задачи проекта: Сделать предварительный анализ тарифов на небольшой выборке клиентов, по данным 500 пользователей «Мегалайна»: кто они, откуда, каким тарифом пользуются, сколько звонков и сообщений каждый отправил за 2018 год. Нужно проанализировать поведение клиентов и сделать вывод — какой тариф лучше."
   ]
  },
  {
   "cell_type": "markdown",
   "metadata": {},
   "source": [
    "**План выполнения:**\n",
    "\n",
    "**1. Открыть файл с данными и изучить общую информацию**\n",
    "\n",
    "**2. Подготовить данные**\n",
    "\n",
    "- Привести данные к нужным типам;\n",
    "- Найти и исправить ошибки в данных, если они есть\n",
    "- Посчитать для каждого пользователя:\n",
    "    - количество сделанных звонков и израсходованных минут разговора по месяцам;\n",
    "    - количество отправленных сообщений по месяцам;\n",
    "    - объем израсходованного интернет-трафика по месяцам;\n",
    "    - помесячную выручку с каждого пользователя (вычесть бесплатный лимит из суммарного количества звонков, сообщений и интернет-трафика; остаток умножить на значение из тарифного плана; прибавить абонентскую плату, соответствующую тарифному плану).\n",
    "\n",
    "**3. Проанализировать данные**\n",
    "\n",
    "- Опишисать поведение клиентов оператора, исходя из выборки. Посчитать сколько минут разговора, сколько сообщений и какой объём интернет-трафика требуется пользователям каждого тарифа в месяц. Посчитать среднее количество, дисперсию и стандартное отклонение. Построить гистограммы. Описать распределения.\n",
    "\n",
    "**4. Проверить гипотезы**\n",
    "\n",
    "- средняя выручка пользователей тарифов «Ультра» и «Смарт» различаются;\n",
    "- средняя выручка пользователей из Москвы отличается от выручки пользователей из других регионов\n",
    "- пояснить формулировку нулевой и альтернативный гипотезы;\n",
    "- пояснить какой критерий использовать для проверки гипотез и почему\n",
    "\n",
    "**5. Написать общий вывод**"
   ]
  },
  {
   "cell_type": "markdown",
   "metadata": {},
   "source": [
    "# Описание данных\n",
    "**Таблица users (информация о пользователях):**\n",
    "\n",
    "-    user_id — уникальный идентификатор пользователя\n",
    "-    first_name — имя пользователя\n",
    "-    last_name — фамилия пользователя\n",
    "-    age — возраст пользователя (годы)\n",
    "-    reg_date — дата подключения тарифа (день, месяц, год)\n",
    "-    churn_date — дата прекращения пользования тарифом (если значение пропущено, то тариф ещё действовал на момент выгрузки данных)\n",
    "-    city — город проживания пользователя\n",
    "-    tariff — название тарифного плана\n",
    "\n",
    "**Таблица calls (информация о звонках):**\n",
    "\n",
    "-    id — уникальный номер звонка\n",
    "-    call_date — дата звонка\n",
    "-    duration — длительность звонка в минутах\n",
    "-    user_id — идентификатор пользователя, сделавшего звонок\n",
    "\n",
    "**Таблица messages (информация о сообщениях):**\n",
    "\n",
    "-    id — уникальный номер сообщения\n",
    "-    message_date — дата сообщения\n",
    "-    user_id — идентификатор пользователя, отправившего сообщение\n",
    "\n",
    "**Таблица internet (информация об интернет-сессиях):**\n",
    "\n",
    "-    id — уникальный номер сессии\n",
    "-    mb_used — объём потраченного за сессию интернет-трафика (в мегабайтах)\n",
    "-    session_date — дата интернет-сессии\n",
    "-    user_id — идентификатор пользователя\n",
    "\n",
    "**Таблица tariffs (информация о тарифах):**\n",
    "\n",
    "-    tariff_name — название тарифа\n",
    "-    rub_monthly_fee — ежемесячная абонентская плата в рублях\n",
    "-    minutes_included — количество минут разговора в месяц, включённых в абонентскую плату\n",
    "-    messages_included — количество сообщений в месяц, включённых в абонентскую плату\n",
    "-    mb_per_month_included — объём интернет-трафика, включённого в абонентскую плату (в мегабайтах)\n",
    "-    rub_per_minute — стоимость минуты разговора сверх тарифного пакета (например, если в тарифе 100 минут разговора в месяц, то со 101 минуты будет взиматься плата)\n",
    "-    rub_per_message — стоимость отправки сообщения сверх тарифного пакета\n",
    "-    rub_per_gb — стоимость дополнительного гигабайта интернет-трафика сверх тарифного пакета (1 гигабайт = 1024 мегабайта)"
   ]
  },
  {
   "cell_type": "markdown",
   "metadata": {},
   "source": [
    "# Шаг 1. Открыть файл с данными и изучить общую информацию"
   ]
  },
  {
   "cell_type": "code",
   "execution_count": 1,
   "metadata": {},
   "outputs": [],
   "source": [
    "#подключаем библиотеки\n",
    "import pandas as pd\n",
    "import numpy as np\n",
    "import matplotlib.pyplot as plt\n",
    "import seaborn as sns\n",
    "import math\n",
    "from scipy import stats as st"
   ]
  },
  {
   "cell_type": "code",
   "execution_count": 2,
   "metadata": {
    "scrolled": true
   },
   "outputs": [],
   "source": [
    "#загружаем данные\n",
    "users = pd.read_csv('/datasets/users.csv')\n",
    "calls = pd.read_csv('/datasets/calls.csv')\n",
    "messages = pd.read_csv('/datasets/messages.csv')\n",
    "internet = pd.read_csv('/datasets/internet.csv')\n",
    "tariffs = pd.read_csv('/datasets/tariffs.csv')"
   ]
  },
  {
   "cell_type": "code",
   "execution_count": 3,
   "metadata": {},
   "outputs": [
    {
     "data": {
      "text/html": [
       "<div>\n",
       "<style scoped>\n",
       "    .dataframe tbody tr th:only-of-type {\n",
       "        vertical-align: middle;\n",
       "    }\n",
       "\n",
       "    .dataframe tbody tr th {\n",
       "        vertical-align: top;\n",
       "    }\n",
       "\n",
       "    .dataframe thead th {\n",
       "        text-align: right;\n",
       "    }\n",
       "</style>\n",
       "<table border=\"1\" class=\"dataframe\">\n",
       "  <thead>\n",
       "    <tr style=\"text-align: right;\">\n",
       "      <th></th>\n",
       "      <th>user_id</th>\n",
       "      <th>age</th>\n",
       "      <th>churn_date</th>\n",
       "      <th>city</th>\n",
       "      <th>first_name</th>\n",
       "      <th>last_name</th>\n",
       "      <th>reg_date</th>\n",
       "      <th>tariff</th>\n",
       "    </tr>\n",
       "  </thead>\n",
       "  <tbody>\n",
       "    <tr>\n",
       "      <td>0</td>\n",
       "      <td>1000</td>\n",
       "      <td>52</td>\n",
       "      <td>NaN</td>\n",
       "      <td>Краснодар</td>\n",
       "      <td>Рафаил</td>\n",
       "      <td>Верещагин</td>\n",
       "      <td>2018-05-25</td>\n",
       "      <td>ultra</td>\n",
       "    </tr>\n",
       "    <tr>\n",
       "      <td>1</td>\n",
       "      <td>1001</td>\n",
       "      <td>41</td>\n",
       "      <td>NaN</td>\n",
       "      <td>Москва</td>\n",
       "      <td>Иван</td>\n",
       "      <td>Ежов</td>\n",
       "      <td>2018-11-01</td>\n",
       "      <td>smart</td>\n",
       "    </tr>\n",
       "    <tr>\n",
       "      <td>2</td>\n",
       "      <td>1002</td>\n",
       "      <td>59</td>\n",
       "      <td>NaN</td>\n",
       "      <td>Стерлитамак</td>\n",
       "      <td>Евгений</td>\n",
       "      <td>Абрамович</td>\n",
       "      <td>2018-06-17</td>\n",
       "      <td>smart</td>\n",
       "    </tr>\n",
       "    <tr>\n",
       "      <td>3</td>\n",
       "      <td>1003</td>\n",
       "      <td>23</td>\n",
       "      <td>NaN</td>\n",
       "      <td>Москва</td>\n",
       "      <td>Белла</td>\n",
       "      <td>Белякова</td>\n",
       "      <td>2018-08-17</td>\n",
       "      <td>ultra</td>\n",
       "    </tr>\n",
       "    <tr>\n",
       "      <td>4</td>\n",
       "      <td>1004</td>\n",
       "      <td>68</td>\n",
       "      <td>NaN</td>\n",
       "      <td>Новокузнецк</td>\n",
       "      <td>Татьяна</td>\n",
       "      <td>Авдеенко</td>\n",
       "      <td>2018-05-14</td>\n",
       "      <td>ultra</td>\n",
       "    </tr>\n",
       "  </tbody>\n",
       "</table>\n",
       "</div>"
      ],
      "text/plain": [
       "   user_id  age churn_date         city first_name  last_name    reg_date  \\\n",
       "0     1000   52        NaN    Краснодар     Рафаил  Верещагин  2018-05-25   \n",
       "1     1001   41        NaN       Москва       Иван       Ежов  2018-11-01   \n",
       "2     1002   59        NaN  Стерлитамак    Евгений  Абрамович  2018-06-17   \n",
       "3     1003   23        NaN       Москва      Белла   Белякова  2018-08-17   \n",
       "4     1004   68        NaN  Новокузнецк    Татьяна   Авдеенко  2018-05-14   \n",
       "\n",
       "  tariff  \n",
       "0  ultra  \n",
       "1  smart  \n",
       "2  smart  \n",
       "3  ultra  \n",
       "4  ultra  "
      ]
     },
     "execution_count": 3,
     "metadata": {},
     "output_type": "execute_result"
    }
   ],
   "source": [
    "#производим общий осмотр данных users\n",
    "users.head(5)"
   ]
  },
  {
   "cell_type": "code",
   "execution_count": 4,
   "metadata": {},
   "outputs": [
    {
     "name": "stdout",
     "output_type": "stream",
     "text": [
      "<class 'pandas.core.frame.DataFrame'>\n",
      "RangeIndex: 500 entries, 0 to 499\n",
      "Data columns (total 8 columns):\n",
      "user_id       500 non-null int64\n",
      "age           500 non-null int64\n",
      "churn_date    38 non-null object\n",
      "city          500 non-null object\n",
      "first_name    500 non-null object\n",
      "last_name     500 non-null object\n",
      "reg_date      500 non-null object\n",
      "tariff        500 non-null object\n",
      "dtypes: int64(2), object(6)\n",
      "memory usage: 31.4+ KB\n"
     ]
    }
   ],
   "source": [
    "users.info()"
   ]
  },
  {
   "cell_type": "code",
   "execution_count": 5,
   "metadata": {},
   "outputs": [
    {
     "data": {
      "text/html": [
       "<div>\n",
       "<style scoped>\n",
       "    .dataframe tbody tr th:only-of-type {\n",
       "        vertical-align: middle;\n",
       "    }\n",
       "\n",
       "    .dataframe tbody tr th {\n",
       "        vertical-align: top;\n",
       "    }\n",
       "\n",
       "    .dataframe thead th {\n",
       "        text-align: right;\n",
       "    }\n",
       "</style>\n",
       "<table border=\"1\" class=\"dataframe\">\n",
       "  <thead>\n",
       "    <tr style=\"text-align: right;\">\n",
       "      <th></th>\n",
       "      <th>user_id</th>\n",
       "      <th>age</th>\n",
       "    </tr>\n",
       "  </thead>\n",
       "  <tbody>\n",
       "    <tr>\n",
       "      <td>count</td>\n",
       "      <td>500.000000</td>\n",
       "      <td>500.00000</td>\n",
       "    </tr>\n",
       "    <tr>\n",
       "      <td>mean</td>\n",
       "      <td>1249.500000</td>\n",
       "      <td>46.58800</td>\n",
       "    </tr>\n",
       "    <tr>\n",
       "      <td>std</td>\n",
       "      <td>144.481833</td>\n",
       "      <td>16.66763</td>\n",
       "    </tr>\n",
       "    <tr>\n",
       "      <td>min</td>\n",
       "      <td>1000.000000</td>\n",
       "      <td>18.00000</td>\n",
       "    </tr>\n",
       "    <tr>\n",
       "      <td>25%</td>\n",
       "      <td>1124.750000</td>\n",
       "      <td>32.00000</td>\n",
       "    </tr>\n",
       "    <tr>\n",
       "      <td>50%</td>\n",
       "      <td>1249.500000</td>\n",
       "      <td>46.00000</td>\n",
       "    </tr>\n",
       "    <tr>\n",
       "      <td>75%</td>\n",
       "      <td>1374.250000</td>\n",
       "      <td>62.00000</td>\n",
       "    </tr>\n",
       "    <tr>\n",
       "      <td>max</td>\n",
       "      <td>1499.000000</td>\n",
       "      <td>75.00000</td>\n",
       "    </tr>\n",
       "  </tbody>\n",
       "</table>\n",
       "</div>"
      ],
      "text/plain": [
       "           user_id        age\n",
       "count   500.000000  500.00000\n",
       "mean   1249.500000   46.58800\n",
       "std     144.481833   16.66763\n",
       "min    1000.000000   18.00000\n",
       "25%    1124.750000   32.00000\n",
       "50%    1249.500000   46.00000\n",
       "75%    1374.250000   62.00000\n",
       "max    1499.000000   75.00000"
      ]
     },
     "execution_count": 5,
     "metadata": {},
     "output_type": "execute_result"
    }
   ],
   "source": [
    "users.describe()"
   ]
  },
  {
   "cell_type": "code",
   "execution_count": 6,
   "metadata": {},
   "outputs": [
    {
     "data": {
      "text/plain": [
       "0"
      ]
     },
     "execution_count": 6,
     "metadata": {},
     "output_type": "execute_result"
    }
   ],
   "source": [
    "users.duplicated().sum()"
   ]
  },
  {
   "cell_type": "code",
   "execution_count": 7,
   "metadata": {},
   "outputs": [
    {
     "data": {
      "text/plain": [
       "user_id         0\n",
       "age             0\n",
       "churn_date    462\n",
       "city            0\n",
       "first_name      0\n",
       "last_name       0\n",
       "reg_date        0\n",
       "tariff          0\n",
       "dtype: int64"
      ]
     },
     "execution_count": 7,
     "metadata": {},
     "output_type": "execute_result"
    }
   ],
   "source": [
    "users.isna().sum()"
   ]
  },
  {
   "cell_type": "markdown",
   "metadata": {},
   "source": [
    "По таблице users:\n",
    "\n",
    "- 500 записей, дубликатов нет, 462 пропуска только в столбце churn_date.\n",
    "- Пропуски в столбце churn_date говорят о том, что пользователь продолжал пользоваться тарифом на момент выгрузки данных. \n",
    "- Минимальный возраст пользователя - 18 лет, максимальный - 75 лет\n",
    "- reg_date, churn_date необходимо перевести в формат Datetime (на момент выгрузки формат этого столбца - object).\n",
    "- Столбец tariff можно перевести в формат int (на момент выгрузки формат этого столбца - object), при этом составить словарь, к которому сможем ссылаться при необходимости"
   ]
  },
  {
   "cell_type": "code",
   "execution_count": 8,
   "metadata": {},
   "outputs": [
    {
     "data": {
      "text/html": [
       "<div>\n",
       "<style scoped>\n",
       "    .dataframe tbody tr th:only-of-type {\n",
       "        vertical-align: middle;\n",
       "    }\n",
       "\n",
       "    .dataframe tbody tr th {\n",
       "        vertical-align: top;\n",
       "    }\n",
       "\n",
       "    .dataframe thead th {\n",
       "        text-align: right;\n",
       "    }\n",
       "</style>\n",
       "<table border=\"1\" class=\"dataframe\">\n",
       "  <thead>\n",
       "    <tr style=\"text-align: right;\">\n",
       "      <th></th>\n",
       "      <th>id</th>\n",
       "      <th>call_date</th>\n",
       "      <th>duration</th>\n",
       "      <th>user_id</th>\n",
       "    </tr>\n",
       "  </thead>\n",
       "  <tbody>\n",
       "    <tr>\n",
       "      <td>202602</td>\n",
       "      <td>1499_215</td>\n",
       "      <td>2018-12-26</td>\n",
       "      <td>0.76</td>\n",
       "      <td>1499</td>\n",
       "    </tr>\n",
       "    <tr>\n",
       "      <td>202603</td>\n",
       "      <td>1499_216</td>\n",
       "      <td>2018-10-18</td>\n",
       "      <td>18.83</td>\n",
       "      <td>1499</td>\n",
       "    </tr>\n",
       "    <tr>\n",
       "      <td>202604</td>\n",
       "      <td>1499_217</td>\n",
       "      <td>2018-11-10</td>\n",
       "      <td>10.81</td>\n",
       "      <td>1499</td>\n",
       "    </tr>\n",
       "    <tr>\n",
       "      <td>202605</td>\n",
       "      <td>1499_218</td>\n",
       "      <td>2018-10-06</td>\n",
       "      <td>4.27</td>\n",
       "      <td>1499</td>\n",
       "    </tr>\n",
       "    <tr>\n",
       "      <td>202606</td>\n",
       "      <td>1499_219</td>\n",
       "      <td>2018-12-14</td>\n",
       "      <td>19.62</td>\n",
       "      <td>1499</td>\n",
       "    </tr>\n",
       "  </tbody>\n",
       "</table>\n",
       "</div>"
      ],
      "text/plain": [
       "              id   call_date  duration  user_id\n",
       "202602  1499_215  2018-12-26      0.76     1499\n",
       "202603  1499_216  2018-10-18     18.83     1499\n",
       "202604  1499_217  2018-11-10     10.81     1499\n",
       "202605  1499_218  2018-10-06      4.27     1499\n",
       "202606  1499_219  2018-12-14     19.62     1499"
      ]
     },
     "execution_count": 8,
     "metadata": {},
     "output_type": "execute_result"
    }
   ],
   "source": [
    "#производим общий осмотр данных calls\n",
    "calls.tail(5)"
   ]
  },
  {
   "cell_type": "code",
   "execution_count": 9,
   "metadata": {},
   "outputs": [
    {
     "name": "stdout",
     "output_type": "stream",
     "text": [
      "<class 'pandas.core.frame.DataFrame'>\n",
      "RangeIndex: 202607 entries, 0 to 202606\n",
      "Data columns (total 4 columns):\n",
      "id           202607 non-null object\n",
      "call_date    202607 non-null object\n",
      "duration     202607 non-null float64\n",
      "user_id      202607 non-null int64\n",
      "dtypes: float64(1), int64(1), object(2)\n",
      "memory usage: 6.2+ MB\n"
     ]
    }
   ],
   "source": [
    "calls.info()"
   ]
  },
  {
   "cell_type": "code",
   "execution_count": 10,
   "metadata": {},
   "outputs": [
    {
     "data": {
      "text/html": [
       "<div>\n",
       "<style scoped>\n",
       "    .dataframe tbody tr th:only-of-type {\n",
       "        vertical-align: middle;\n",
       "    }\n",
       "\n",
       "    .dataframe tbody tr th {\n",
       "        vertical-align: top;\n",
       "    }\n",
       "\n",
       "    .dataframe thead th {\n",
       "        text-align: right;\n",
       "    }\n",
       "</style>\n",
       "<table border=\"1\" class=\"dataframe\">\n",
       "  <thead>\n",
       "    <tr style=\"text-align: right;\">\n",
       "      <th></th>\n",
       "      <th>duration</th>\n",
       "      <th>user_id</th>\n",
       "    </tr>\n",
       "  </thead>\n",
       "  <tbody>\n",
       "    <tr>\n",
       "      <td>count</td>\n",
       "      <td>202607.000000</td>\n",
       "      <td>202607.000000</td>\n",
       "    </tr>\n",
       "    <tr>\n",
       "      <td>mean</td>\n",
       "      <td>6.755887</td>\n",
       "      <td>1253.940619</td>\n",
       "    </tr>\n",
       "    <tr>\n",
       "      <td>std</td>\n",
       "      <td>5.843365</td>\n",
       "      <td>144.722751</td>\n",
       "    </tr>\n",
       "    <tr>\n",
       "      <td>min</td>\n",
       "      <td>0.000000</td>\n",
       "      <td>1000.000000</td>\n",
       "    </tr>\n",
       "    <tr>\n",
       "      <td>25%</td>\n",
       "      <td>1.300000</td>\n",
       "      <td>1126.000000</td>\n",
       "    </tr>\n",
       "    <tr>\n",
       "      <td>50%</td>\n",
       "      <td>6.000000</td>\n",
       "      <td>1260.000000</td>\n",
       "    </tr>\n",
       "    <tr>\n",
       "      <td>75%</td>\n",
       "      <td>10.700000</td>\n",
       "      <td>1379.000000</td>\n",
       "    </tr>\n",
       "    <tr>\n",
       "      <td>max</td>\n",
       "      <td>38.000000</td>\n",
       "      <td>1499.000000</td>\n",
       "    </tr>\n",
       "  </tbody>\n",
       "</table>\n",
       "</div>"
      ],
      "text/plain": [
       "            duration        user_id\n",
       "count  202607.000000  202607.000000\n",
       "mean        6.755887    1253.940619\n",
       "std         5.843365     144.722751\n",
       "min         0.000000    1000.000000\n",
       "25%         1.300000    1126.000000\n",
       "50%         6.000000    1260.000000\n",
       "75%        10.700000    1379.000000\n",
       "max        38.000000    1499.000000"
      ]
     },
     "execution_count": 10,
     "metadata": {},
     "output_type": "execute_result"
    }
   ],
   "source": [
    "calls.describe()"
   ]
  },
  {
   "cell_type": "code",
   "execution_count": 11,
   "metadata": {},
   "outputs": [
    {
     "data": {
      "text/plain": [
       "0"
      ]
     },
     "execution_count": 11,
     "metadata": {},
     "output_type": "execute_result"
    }
   ],
   "source": [
    "calls.duplicated().sum()"
   ]
  },
  {
   "cell_type": "code",
   "execution_count": 12,
   "metadata": {},
   "outputs": [
    {
     "data": {
      "text/plain": [
       "id           0\n",
       "call_date    0\n",
       "duration     0\n",
       "user_id      0\n",
       "dtype: int64"
      ]
     },
     "execution_count": 12,
     "metadata": {},
     "output_type": "execute_result"
    }
   ],
   "source": [
    "calls.isna().sum()"
   ]
  },
  {
   "cell_type": "markdown",
   "metadata": {},
   "source": [
    "По таблице calls:\n",
    "\n",
    "- 202607 записей, дубликатов нет, пропусков нет.\n",
    "- В столбце id происходит дублирование информации столбца user_id, можно удалить информацию (а именно первые 4 цифры) по пользователю из столбца id (идентификатор звонка).\n",
    "- После удаления дублирующейся информации переведем этот столбец (id) в формат int (на момент выгрузки формат этого столбца - object).\n",
    "- call_date переведем в формат Datetime (на момент выгрузки формат этого столбца - object).\n",
    "- по столбцу duration, минимальное количество минут разговора - 0, это пропущенные звонки. В будущем можно создать столбец missing_call формата bool, куда переведем все звонки с 0 минутами. Максимальное количество минут - 38. От заказчика есть информация, что минута округляется в большую сторону. Следовательно, округлим duration в большую сторону, при этом формат присвоим int (на момент выгрузки формат этого столбца - float64)."
   ]
  },
  {
   "cell_type": "code",
   "execution_count": 13,
   "metadata": {},
   "outputs": [
    {
     "data": {
      "text/html": [
       "<div>\n",
       "<style scoped>\n",
       "    .dataframe tbody tr th:only-of-type {\n",
       "        vertical-align: middle;\n",
       "    }\n",
       "\n",
       "    .dataframe tbody tr th {\n",
       "        vertical-align: top;\n",
       "    }\n",
       "\n",
       "    .dataframe thead th {\n",
       "        text-align: right;\n",
       "    }\n",
       "</style>\n",
       "<table border=\"1\" class=\"dataframe\">\n",
       "  <thead>\n",
       "    <tr style=\"text-align: right;\">\n",
       "      <th></th>\n",
       "      <th>id</th>\n",
       "      <th>message_date</th>\n",
       "      <th>user_id</th>\n",
       "    </tr>\n",
       "  </thead>\n",
       "  <tbody>\n",
       "    <tr>\n",
       "      <td>0</td>\n",
       "      <td>1000_0</td>\n",
       "      <td>2018-06-27</td>\n",
       "      <td>1000</td>\n",
       "    </tr>\n",
       "    <tr>\n",
       "      <td>1</td>\n",
       "      <td>1000_1</td>\n",
       "      <td>2018-10-08</td>\n",
       "      <td>1000</td>\n",
       "    </tr>\n",
       "    <tr>\n",
       "      <td>2</td>\n",
       "      <td>1000_2</td>\n",
       "      <td>2018-08-04</td>\n",
       "      <td>1000</td>\n",
       "    </tr>\n",
       "    <tr>\n",
       "      <td>3</td>\n",
       "      <td>1000_3</td>\n",
       "      <td>2018-06-16</td>\n",
       "      <td>1000</td>\n",
       "    </tr>\n",
       "    <tr>\n",
       "      <td>4</td>\n",
       "      <td>1000_4</td>\n",
       "      <td>2018-12-05</td>\n",
       "      <td>1000</td>\n",
       "    </tr>\n",
       "  </tbody>\n",
       "</table>\n",
       "</div>"
      ],
      "text/plain": [
       "       id message_date  user_id\n",
       "0  1000_0   2018-06-27     1000\n",
       "1  1000_1   2018-10-08     1000\n",
       "2  1000_2   2018-08-04     1000\n",
       "3  1000_3   2018-06-16     1000\n",
       "4  1000_4   2018-12-05     1000"
      ]
     },
     "execution_count": 13,
     "metadata": {},
     "output_type": "execute_result"
    }
   ],
   "source": [
    "#производим общий осмотр данных messages\n",
    "messages.head(5)"
   ]
  },
  {
   "cell_type": "code",
   "execution_count": 14,
   "metadata": {},
   "outputs": [
    {
     "name": "stdout",
     "output_type": "stream",
     "text": [
      "<class 'pandas.core.frame.DataFrame'>\n",
      "RangeIndex: 123036 entries, 0 to 123035\n",
      "Data columns (total 3 columns):\n",
      "id              123036 non-null object\n",
      "message_date    123036 non-null object\n",
      "user_id         123036 non-null int64\n",
      "dtypes: int64(1), object(2)\n",
      "memory usage: 2.8+ MB\n"
     ]
    }
   ],
   "source": [
    "messages.info()"
   ]
  },
  {
   "cell_type": "code",
   "execution_count": 15,
   "metadata": {},
   "outputs": [
    {
     "data": {
      "text/html": [
       "<div>\n",
       "<style scoped>\n",
       "    .dataframe tbody tr th:only-of-type {\n",
       "        vertical-align: middle;\n",
       "    }\n",
       "\n",
       "    .dataframe tbody tr th {\n",
       "        vertical-align: top;\n",
       "    }\n",
       "\n",
       "    .dataframe thead th {\n",
       "        text-align: right;\n",
       "    }\n",
       "</style>\n",
       "<table border=\"1\" class=\"dataframe\">\n",
       "  <thead>\n",
       "    <tr style=\"text-align: right;\">\n",
       "      <th></th>\n",
       "      <th>user_id</th>\n",
       "    </tr>\n",
       "  </thead>\n",
       "  <tbody>\n",
       "    <tr>\n",
       "      <td>count</td>\n",
       "      <td>123036.000000</td>\n",
       "    </tr>\n",
       "    <tr>\n",
       "      <td>mean</td>\n",
       "      <td>1256.989410</td>\n",
       "    </tr>\n",
       "    <tr>\n",
       "      <td>std</td>\n",
       "      <td>143.523967</td>\n",
       "    </tr>\n",
       "    <tr>\n",
       "      <td>min</td>\n",
       "      <td>1000.000000</td>\n",
       "    </tr>\n",
       "    <tr>\n",
       "      <td>25%</td>\n",
       "      <td>1134.000000</td>\n",
       "    </tr>\n",
       "    <tr>\n",
       "      <td>50%</td>\n",
       "      <td>1271.000000</td>\n",
       "    </tr>\n",
       "    <tr>\n",
       "      <td>75%</td>\n",
       "      <td>1381.000000</td>\n",
       "    </tr>\n",
       "    <tr>\n",
       "      <td>max</td>\n",
       "      <td>1499.000000</td>\n",
       "    </tr>\n",
       "  </tbody>\n",
       "</table>\n",
       "</div>"
      ],
      "text/plain": [
       "             user_id\n",
       "count  123036.000000\n",
       "mean     1256.989410\n",
       "std       143.523967\n",
       "min      1000.000000\n",
       "25%      1134.000000\n",
       "50%      1271.000000\n",
       "75%      1381.000000\n",
       "max      1499.000000"
      ]
     },
     "execution_count": 15,
     "metadata": {},
     "output_type": "execute_result"
    }
   ],
   "source": [
    "messages.describe()"
   ]
  },
  {
   "cell_type": "code",
   "execution_count": 16,
   "metadata": {},
   "outputs": [
    {
     "data": {
      "text/plain": [
       "0"
      ]
     },
     "execution_count": 16,
     "metadata": {},
     "output_type": "execute_result"
    }
   ],
   "source": [
    "messages.duplicated().sum()"
   ]
  },
  {
   "cell_type": "code",
   "execution_count": 17,
   "metadata": {},
   "outputs": [
    {
     "data": {
      "text/plain": [
       "id              0\n",
       "message_date    0\n",
       "user_id         0\n",
       "dtype: int64"
      ]
     },
     "execution_count": 17,
     "metadata": {},
     "output_type": "execute_result"
    }
   ],
   "source": [
    "messages.isna().sum()"
   ]
  },
  {
   "cell_type": "markdown",
   "metadata": {},
   "source": [
    "По таблице messages:\n",
    "\n",
    "- 123036 записей, дубликатов нет, пропусков нет.\n",
    "- В столбце id происходит дублирование информации столбца user_id, можно удалить информацию (а именно первые 4 цифры) по пользователю из столбца id (идентификатор звонка).\n",
    "- После удаления дублирующейся информации переведем этот столбец (id) в формат int (на момент выгрузки формат этого столбца - object).\n",
    "- message_date переведем в формат Datetime (на момент выгрузки формат этого столбца - object)."
   ]
  },
  {
   "cell_type": "code",
   "execution_count": 18,
   "metadata": {},
   "outputs": [
    {
     "data": {
      "text/html": [
       "<div>\n",
       "<style scoped>\n",
       "    .dataframe tbody tr th:only-of-type {\n",
       "        vertical-align: middle;\n",
       "    }\n",
       "\n",
       "    .dataframe tbody tr th {\n",
       "        vertical-align: top;\n",
       "    }\n",
       "\n",
       "    .dataframe thead th {\n",
       "        text-align: right;\n",
       "    }\n",
       "</style>\n",
       "<table border=\"1\" class=\"dataframe\">\n",
       "  <thead>\n",
       "    <tr style=\"text-align: right;\">\n",
       "      <th></th>\n",
       "      <th>Unnamed: 0</th>\n",
       "      <th>id</th>\n",
       "      <th>mb_used</th>\n",
       "      <th>session_date</th>\n",
       "      <th>user_id</th>\n",
       "    </tr>\n",
       "  </thead>\n",
       "  <tbody>\n",
       "    <tr>\n",
       "      <td>0</td>\n",
       "      <td>0</td>\n",
       "      <td>1000_0</td>\n",
       "      <td>112.95</td>\n",
       "      <td>2018-11-25</td>\n",
       "      <td>1000</td>\n",
       "    </tr>\n",
       "    <tr>\n",
       "      <td>1</td>\n",
       "      <td>1</td>\n",
       "      <td>1000_1</td>\n",
       "      <td>1052.81</td>\n",
       "      <td>2018-09-07</td>\n",
       "      <td>1000</td>\n",
       "    </tr>\n",
       "    <tr>\n",
       "      <td>2</td>\n",
       "      <td>2</td>\n",
       "      <td>1000_2</td>\n",
       "      <td>1197.26</td>\n",
       "      <td>2018-06-25</td>\n",
       "      <td>1000</td>\n",
       "    </tr>\n",
       "    <tr>\n",
       "      <td>3</td>\n",
       "      <td>3</td>\n",
       "      <td>1000_3</td>\n",
       "      <td>550.27</td>\n",
       "      <td>2018-08-22</td>\n",
       "      <td>1000</td>\n",
       "    </tr>\n",
       "    <tr>\n",
       "      <td>4</td>\n",
       "      <td>4</td>\n",
       "      <td>1000_4</td>\n",
       "      <td>302.56</td>\n",
       "      <td>2018-09-24</td>\n",
       "      <td>1000</td>\n",
       "    </tr>\n",
       "  </tbody>\n",
       "</table>\n",
       "</div>"
      ],
      "text/plain": [
       "   Unnamed: 0      id  mb_used session_date  user_id\n",
       "0           0  1000_0   112.95   2018-11-25     1000\n",
       "1           1  1000_1  1052.81   2018-09-07     1000\n",
       "2           2  1000_2  1197.26   2018-06-25     1000\n",
       "3           3  1000_3   550.27   2018-08-22     1000\n",
       "4           4  1000_4   302.56   2018-09-24     1000"
      ]
     },
     "execution_count": 18,
     "metadata": {},
     "output_type": "execute_result"
    }
   ],
   "source": [
    "#производим общий осмотр данных internet\n",
    "internet.head(5)"
   ]
  },
  {
   "cell_type": "code",
   "execution_count": 19,
   "metadata": {},
   "outputs": [
    {
     "name": "stdout",
     "output_type": "stream",
     "text": [
      "<class 'pandas.core.frame.DataFrame'>\n",
      "RangeIndex: 149396 entries, 0 to 149395\n",
      "Data columns (total 5 columns):\n",
      "Unnamed: 0      149396 non-null int64\n",
      "id              149396 non-null object\n",
      "mb_used         149396 non-null float64\n",
      "session_date    149396 non-null object\n",
      "user_id         149396 non-null int64\n",
      "dtypes: float64(1), int64(2), object(2)\n",
      "memory usage: 5.7+ MB\n"
     ]
    }
   ],
   "source": [
    "internet.info()"
   ]
  },
  {
   "cell_type": "code",
   "execution_count": 20,
   "metadata": {},
   "outputs": [
    {
     "data": {
      "text/html": [
       "<div>\n",
       "<style scoped>\n",
       "    .dataframe tbody tr th:only-of-type {\n",
       "        vertical-align: middle;\n",
       "    }\n",
       "\n",
       "    .dataframe tbody tr th {\n",
       "        vertical-align: top;\n",
       "    }\n",
       "\n",
       "    .dataframe thead th {\n",
       "        text-align: right;\n",
       "    }\n",
       "</style>\n",
       "<table border=\"1\" class=\"dataframe\">\n",
       "  <thead>\n",
       "    <tr style=\"text-align: right;\">\n",
       "      <th></th>\n",
       "      <th>Unnamed: 0</th>\n",
       "      <th>mb_used</th>\n",
       "      <th>user_id</th>\n",
       "    </tr>\n",
       "  </thead>\n",
       "  <tbody>\n",
       "    <tr>\n",
       "      <td>count</td>\n",
       "      <td>149396.000000</td>\n",
       "      <td>149396.000000</td>\n",
       "      <td>149396.000000</td>\n",
       "    </tr>\n",
       "    <tr>\n",
       "      <td>mean</td>\n",
       "      <td>74697.500000</td>\n",
       "      <td>370.192426</td>\n",
       "      <td>1252.099842</td>\n",
       "    </tr>\n",
       "    <tr>\n",
       "      <td>std</td>\n",
       "      <td>43127.054745</td>\n",
       "      <td>278.300951</td>\n",
       "      <td>144.050823</td>\n",
       "    </tr>\n",
       "    <tr>\n",
       "      <td>min</td>\n",
       "      <td>0.000000</td>\n",
       "      <td>0.000000</td>\n",
       "      <td>1000.000000</td>\n",
       "    </tr>\n",
       "    <tr>\n",
       "      <td>25%</td>\n",
       "      <td>37348.750000</td>\n",
       "      <td>138.187500</td>\n",
       "      <td>1130.000000</td>\n",
       "    </tr>\n",
       "    <tr>\n",
       "      <td>50%</td>\n",
       "      <td>74697.500000</td>\n",
       "      <td>348.015000</td>\n",
       "      <td>1251.000000</td>\n",
       "    </tr>\n",
       "    <tr>\n",
       "      <td>75%</td>\n",
       "      <td>112046.250000</td>\n",
       "      <td>559.552500</td>\n",
       "      <td>1380.000000</td>\n",
       "    </tr>\n",
       "    <tr>\n",
       "      <td>max</td>\n",
       "      <td>149395.000000</td>\n",
       "      <td>1724.830000</td>\n",
       "      <td>1499.000000</td>\n",
       "    </tr>\n",
       "  </tbody>\n",
       "</table>\n",
       "</div>"
      ],
      "text/plain": [
       "          Unnamed: 0        mb_used        user_id\n",
       "count  149396.000000  149396.000000  149396.000000\n",
       "mean    74697.500000     370.192426    1252.099842\n",
       "std     43127.054745     278.300951     144.050823\n",
       "min         0.000000       0.000000    1000.000000\n",
       "25%     37348.750000     138.187500    1130.000000\n",
       "50%     74697.500000     348.015000    1251.000000\n",
       "75%    112046.250000     559.552500    1380.000000\n",
       "max    149395.000000    1724.830000    1499.000000"
      ]
     },
     "execution_count": 20,
     "metadata": {},
     "output_type": "execute_result"
    }
   ],
   "source": [
    "internet.describe()"
   ]
  },
  {
   "cell_type": "code",
   "execution_count": 21,
   "metadata": {},
   "outputs": [
    {
     "data": {
      "text/plain": [
       "0"
      ]
     },
     "execution_count": 21,
     "metadata": {},
     "output_type": "execute_result"
    }
   ],
   "source": [
    "internet.duplicated().sum()"
   ]
  },
  {
   "cell_type": "code",
   "execution_count": 22,
   "metadata": {},
   "outputs": [
    {
     "data": {
      "text/plain": [
       "Unnamed: 0      0\n",
       "id              0\n",
       "mb_used         0\n",
       "session_date    0\n",
       "user_id         0\n",
       "dtype: int64"
      ]
     },
     "execution_count": 22,
     "metadata": {},
     "output_type": "execute_result"
    }
   ],
   "source": [
    "internet.isna().sum()"
   ]
  },
  {
   "cell_type": "markdown",
   "metadata": {},
   "source": [
    "По таблице internet:\n",
    "\n",
    "- 149396 записей, дубликатов нет, пропусков нет.\n",
    "- В столбце id происходит дублирование информации столбца user_id, можно удалить информацию (а именно первые 4 цифры) по пользователю из столбца id (идентификатор звонка).\n",
    "- После удаления дублирующейся информации переведем этот столбец (id) в формат int (на момент выгрузки формат этого столбца - object).\n",
    "- session_date переведем в формат Datetime (на момент выгрузки формат этого столбца - object).\n",
    "- по столбцу mb_used, минимальное количество использованного интернет-трафика (в мегабайтах) - 0. Максимальное количество использованного интернет-трафика (в мегабайтах) - 1724.83. От заказчика есть информация, что интернет-трафик округляется в большую сторону до гигабайта, если есть превыше в трафике. Для улучшения визуализации округлим mb_used в большую сторону, при этом формат присвоим int (на момент выгрузки формат этого столбца - float64). * 1ГБ = 1024 МБ\n",
    "- Столбец Unnamed: 0 - не несет полезной информации, это просто энумератор, которые наверняка забыли удалить. Необходимо сообщить заказчику об этом, чтобы в будущем не заполнять базу данных лишними столбцами."
   ]
  },
  {
   "cell_type": "code",
   "execution_count": 23,
   "metadata": {},
   "outputs": [
    {
     "data": {
      "text/html": [
       "<div>\n",
       "<style scoped>\n",
       "    .dataframe tbody tr th:only-of-type {\n",
       "        vertical-align: middle;\n",
       "    }\n",
       "\n",
       "    .dataframe tbody tr th {\n",
       "        vertical-align: top;\n",
       "    }\n",
       "\n",
       "    .dataframe thead th {\n",
       "        text-align: right;\n",
       "    }\n",
       "</style>\n",
       "<table border=\"1\" class=\"dataframe\">\n",
       "  <thead>\n",
       "    <tr style=\"text-align: right;\">\n",
       "      <th></th>\n",
       "      <th>messages_included</th>\n",
       "      <th>mb_per_month_included</th>\n",
       "      <th>minutes_included</th>\n",
       "      <th>rub_monthly_fee</th>\n",
       "      <th>rub_per_gb</th>\n",
       "      <th>rub_per_message</th>\n",
       "      <th>rub_per_minute</th>\n",
       "      <th>tariff_name</th>\n",
       "    </tr>\n",
       "  </thead>\n",
       "  <tbody>\n",
       "    <tr>\n",
       "      <td>0</td>\n",
       "      <td>50</td>\n",
       "      <td>15360</td>\n",
       "      <td>500</td>\n",
       "      <td>550</td>\n",
       "      <td>200</td>\n",
       "      <td>3</td>\n",
       "      <td>3</td>\n",
       "      <td>smart</td>\n",
       "    </tr>\n",
       "    <tr>\n",
       "      <td>1</td>\n",
       "      <td>1000</td>\n",
       "      <td>30720</td>\n",
       "      <td>3000</td>\n",
       "      <td>1950</td>\n",
       "      <td>150</td>\n",
       "      <td>1</td>\n",
       "      <td>1</td>\n",
       "      <td>ultra</td>\n",
       "    </tr>\n",
       "  </tbody>\n",
       "</table>\n",
       "</div>"
      ],
      "text/plain": [
       "   messages_included  mb_per_month_included  minutes_included  \\\n",
       "0                 50                  15360               500   \n",
       "1               1000                  30720              3000   \n",
       "\n",
       "   rub_monthly_fee  rub_per_gb  rub_per_message  rub_per_minute tariff_name  \n",
       "0              550         200                3               3       smart  \n",
       "1             1950         150                1               1       ultra  "
      ]
     },
     "execution_count": 23,
     "metadata": {},
     "output_type": "execute_result"
    }
   ],
   "source": [
    "#производим общий осмотр данных tariffs\n",
    "tariffs.head(5)"
   ]
  },
  {
   "cell_type": "code",
   "execution_count": 24,
   "metadata": {},
   "outputs": [
    {
     "name": "stdout",
     "output_type": "stream",
     "text": [
      "<class 'pandas.core.frame.DataFrame'>\n",
      "RangeIndex: 2 entries, 0 to 1\n",
      "Data columns (total 8 columns):\n",
      "messages_included        2 non-null int64\n",
      "mb_per_month_included    2 non-null int64\n",
      "minutes_included         2 non-null int64\n",
      "rub_monthly_fee          2 non-null int64\n",
      "rub_per_gb               2 non-null int64\n",
      "rub_per_message          2 non-null int64\n",
      "rub_per_minute           2 non-null int64\n",
      "tariff_name              2 non-null object\n",
      "dtypes: int64(7), object(1)\n",
      "memory usage: 256.0+ bytes\n"
     ]
    }
   ],
   "source": [
    "tariffs.info()"
   ]
  },
  {
   "cell_type": "code",
   "execution_count": 25,
   "metadata": {},
   "outputs": [
    {
     "data": {
      "text/html": [
       "<div>\n",
       "<style scoped>\n",
       "    .dataframe tbody tr th:only-of-type {\n",
       "        vertical-align: middle;\n",
       "    }\n",
       "\n",
       "    .dataframe tbody tr th {\n",
       "        vertical-align: top;\n",
       "    }\n",
       "\n",
       "    .dataframe thead th {\n",
       "        text-align: right;\n",
       "    }\n",
       "</style>\n",
       "<table border=\"1\" class=\"dataframe\">\n",
       "  <thead>\n",
       "    <tr style=\"text-align: right;\">\n",
       "      <th></th>\n",
       "      <th>messages_included</th>\n",
       "      <th>mb_per_month_included</th>\n",
       "      <th>minutes_included</th>\n",
       "      <th>rub_monthly_fee</th>\n",
       "      <th>rub_per_gb</th>\n",
       "      <th>rub_per_message</th>\n",
       "      <th>rub_per_minute</th>\n",
       "    </tr>\n",
       "  </thead>\n",
       "  <tbody>\n",
       "    <tr>\n",
       "      <td>count</td>\n",
       "      <td>2.000000</td>\n",
       "      <td>2.000000</td>\n",
       "      <td>2.000000</td>\n",
       "      <td>2.000000</td>\n",
       "      <td>2.000000</td>\n",
       "      <td>2.000000</td>\n",
       "      <td>2.000000</td>\n",
       "    </tr>\n",
       "    <tr>\n",
       "      <td>mean</td>\n",
       "      <td>525.000000</td>\n",
       "      <td>23040.000000</td>\n",
       "      <td>1750.000000</td>\n",
       "      <td>1250.000000</td>\n",
       "      <td>175.000000</td>\n",
       "      <td>2.000000</td>\n",
       "      <td>2.000000</td>\n",
       "    </tr>\n",
       "    <tr>\n",
       "      <td>std</td>\n",
       "      <td>671.751442</td>\n",
       "      <td>10861.160159</td>\n",
       "      <td>1767.766953</td>\n",
       "      <td>989.949494</td>\n",
       "      <td>35.355339</td>\n",
       "      <td>1.414214</td>\n",
       "      <td>1.414214</td>\n",
       "    </tr>\n",
       "    <tr>\n",
       "      <td>min</td>\n",
       "      <td>50.000000</td>\n",
       "      <td>15360.000000</td>\n",
       "      <td>500.000000</td>\n",
       "      <td>550.000000</td>\n",
       "      <td>150.000000</td>\n",
       "      <td>1.000000</td>\n",
       "      <td>1.000000</td>\n",
       "    </tr>\n",
       "    <tr>\n",
       "      <td>25%</td>\n",
       "      <td>287.500000</td>\n",
       "      <td>19200.000000</td>\n",
       "      <td>1125.000000</td>\n",
       "      <td>900.000000</td>\n",
       "      <td>162.500000</td>\n",
       "      <td>1.500000</td>\n",
       "      <td>1.500000</td>\n",
       "    </tr>\n",
       "    <tr>\n",
       "      <td>50%</td>\n",
       "      <td>525.000000</td>\n",
       "      <td>23040.000000</td>\n",
       "      <td>1750.000000</td>\n",
       "      <td>1250.000000</td>\n",
       "      <td>175.000000</td>\n",
       "      <td>2.000000</td>\n",
       "      <td>2.000000</td>\n",
       "    </tr>\n",
       "    <tr>\n",
       "      <td>75%</td>\n",
       "      <td>762.500000</td>\n",
       "      <td>26880.000000</td>\n",
       "      <td>2375.000000</td>\n",
       "      <td>1600.000000</td>\n",
       "      <td>187.500000</td>\n",
       "      <td>2.500000</td>\n",
       "      <td>2.500000</td>\n",
       "    </tr>\n",
       "    <tr>\n",
       "      <td>max</td>\n",
       "      <td>1000.000000</td>\n",
       "      <td>30720.000000</td>\n",
       "      <td>3000.000000</td>\n",
       "      <td>1950.000000</td>\n",
       "      <td>200.000000</td>\n",
       "      <td>3.000000</td>\n",
       "      <td>3.000000</td>\n",
       "    </tr>\n",
       "  </tbody>\n",
       "</table>\n",
       "</div>"
      ],
      "text/plain": [
       "       messages_included  mb_per_month_included  minutes_included  \\\n",
       "count           2.000000               2.000000          2.000000   \n",
       "mean          525.000000           23040.000000       1750.000000   \n",
       "std           671.751442           10861.160159       1767.766953   \n",
       "min            50.000000           15360.000000        500.000000   \n",
       "25%           287.500000           19200.000000       1125.000000   \n",
       "50%           525.000000           23040.000000       1750.000000   \n",
       "75%           762.500000           26880.000000       2375.000000   \n",
       "max          1000.000000           30720.000000       3000.000000   \n",
       "\n",
       "       rub_monthly_fee  rub_per_gb  rub_per_message  rub_per_minute  \n",
       "count         2.000000    2.000000         2.000000        2.000000  \n",
       "mean       1250.000000  175.000000         2.000000        2.000000  \n",
       "std         989.949494   35.355339         1.414214        1.414214  \n",
       "min         550.000000  150.000000         1.000000        1.000000  \n",
       "25%         900.000000  162.500000         1.500000        1.500000  \n",
       "50%        1250.000000  175.000000         2.000000        2.000000  \n",
       "75%        1600.000000  187.500000         2.500000        2.500000  \n",
       "max        1950.000000  200.000000         3.000000        3.000000  "
      ]
     },
     "execution_count": 25,
     "metadata": {},
     "output_type": "execute_result"
    }
   ],
   "source": [
    "tariffs.describe()"
   ]
  },
  {
   "cell_type": "code",
   "execution_count": 26,
   "metadata": {},
   "outputs": [
    {
     "data": {
      "text/plain": [
       "0"
      ]
     },
     "execution_count": 26,
     "metadata": {},
     "output_type": "execute_result"
    }
   ],
   "source": [
    "tariffs.duplicated().sum()"
   ]
  },
  {
   "cell_type": "code",
   "execution_count": 27,
   "metadata": {},
   "outputs": [
    {
     "data": {
      "text/plain": [
       "messages_included        0\n",
       "mb_per_month_included    0\n",
       "minutes_included         0\n",
       "rub_monthly_fee          0\n",
       "rub_per_gb               0\n",
       "rub_per_message          0\n",
       "rub_per_minute           0\n",
       "tariff_name              0\n",
       "dtype: int64"
      ]
     },
     "execution_count": 27,
     "metadata": {},
     "output_type": "execute_result"
    }
   ],
   "source": [
    "tariffs.isna().sum()"
   ]
  },
  {
   "cell_type": "markdown",
   "metadata": {},
   "source": [
    "По таблице tariffs:\n",
    "\n",
    "- 2 записи, дубликатов нет, пропусков нет.\n",
    "- Дано представление о двух тарифах:\n",
    "\n",
    "**Тариф «Смарт»**\n",
    "\n",
    "    Ежемесячная плата: 550 рублей\n",
    "    Включено 500 минут разговора, 50 сообщений и 15 Гб интернет-трафика\n",
    "    Стоимость услуг сверх тарифного пакета: 1. минута разговора: 3 рубля («Мегалайн» всегда округляет вверх значения минут и мегабайтов. Если пользователь проговорил всего 1 секунду, в тарифе засчитывается целая минута); 2. сообщение: 3 рубля; 3. 1 Гб интернет-трафика: 200 рублей.\n",
    "    \n",
    "**Тариф «Ультра»**\n",
    "\n",
    "    Ежемесячная плата: 1950 рублей\n",
    "    Включено 3000 минут разговора, 1000 сообщений и 30 Гб интернет-трафика\n",
    "    Стоимость услуг сверх тарифного пакета: 1. минута разговора: 1 рубль; 2. сообщение: 1 рубль; 3. 1 Гб интернет-трафика: 150 рублей."
   ]
  },
  {
   "cell_type": "markdown",
   "metadata": {},
   "source": [
    "**Общий вывод по шагу 1:**\n",
    "\n",
    "- Были проанализированы данные по пяти таблицам. Выделены проблемные места, на которые стоит обратить внимание (по пропускам, формату данных, приведению к репрезентативному виду).\n",
    "- Можно приступать ко второму шагу по подготовке данных к анализу."
   ]
  },
  {
   "cell_type": "markdown",
   "metadata": {},
   "source": [
    "# Шаг 2. Подготовка данных"
   ]
  },
  {
   "cell_type": "markdown",
   "metadata": {},
   "source": [
    "**2.1. Подготовка данных в таблице users**"
   ]
  },
  {
   "cell_type": "code",
   "execution_count": 28,
   "metadata": {},
   "outputs": [],
   "source": [
    "#добавим словарь к столбцу tariff, а в исходной таблице users заменим текстовые строки на int значения\n",
    "tariff_dict = {'smart':0, 'ultra':1}\n",
    "users['tariff'] = pd.to_numeric(users['tariff'].map(tariff_dict), downcast = 'integer')"
   ]
  },
  {
   "cell_type": "code",
   "execution_count": 29,
   "metadata": {},
   "outputs": [],
   "source": [
    "#преобразуем формат reg_date и churn_date в Datetime\n",
    "users['reg_date'] = pd.to_datetime(users['reg_date'], format = \"%Y-%m-%d\")\n",
    "users['churn_date'] = pd.to_datetime(users['churn_date'], format = \"%Y-%m-%d\")"
   ]
  },
  {
   "cell_type": "code",
   "execution_count": 30,
   "metadata": {},
   "outputs": [
    {
     "name": "stdout",
     "output_type": "stream",
     "text": [
      "<class 'pandas.core.frame.DataFrame'>\n",
      "RangeIndex: 500 entries, 0 to 499\n",
      "Data columns (total 8 columns):\n",
      "user_id       500 non-null int64\n",
      "age           500 non-null int64\n",
      "churn_date    38 non-null datetime64[ns]\n",
      "city          500 non-null object\n",
      "first_name    500 non-null object\n",
      "last_name     500 non-null object\n",
      "reg_date      500 non-null datetime64[ns]\n",
      "tariff        500 non-null int8\n",
      "dtypes: datetime64[ns](2), int64(2), int8(1), object(3)\n",
      "memory usage: 28.0+ KB\n"
     ]
    }
   ],
   "source": [
    "#проверяем форматы\n",
    "users.info()"
   ]
  },
  {
   "cell_type": "markdown",
   "metadata": {},
   "source": [
    "**2.2. Подготовка данных в таблице calls**"
   ]
  },
  {
   "cell_type": "code",
   "execution_count": 31,
   "metadata": {},
   "outputs": [],
   "source": [
    "#в столбце id оставим данные только по номеру звонка, удалив при этом символы до \"_\".\n",
    "calls['id'] = calls['id'].str.split('_').str[1].astype('int')"
   ]
  },
  {
   "cell_type": "code",
   "execution_count": 32,
   "metadata": {},
   "outputs": [],
   "source": [
    "#преобразуем формат данных столбца call_date в Datetime\n",
    "calls['call_date'] = pd.to_datetime(calls['call_date'], format = '%Y-%m-%d')"
   ]
  },
  {
   "cell_type": "code",
   "execution_count": 33,
   "metadata": {},
   "outputs": [],
   "source": [
    "#округлим duration в большую сторону + переведем в int\n",
    "calls['duration'] = calls['duration'].apply(np.ceil).astype('int')"
   ]
  },
  {
   "cell_type": "code",
   "execution_count": 34,
   "metadata": {},
   "outputs": [
    {
     "name": "stdout",
     "output_type": "stream",
     "text": [
      "<class 'pandas.core.frame.DataFrame'>\n",
      "RangeIndex: 202607 entries, 0 to 202606\n",
      "Data columns (total 4 columns):\n",
      "id           202607 non-null int64\n",
      "call_date    202607 non-null datetime64[ns]\n",
      "duration     202607 non-null int64\n",
      "user_id      202607 non-null int64\n",
      "dtypes: datetime64[ns](1), int64(3)\n",
      "memory usage: 6.2 MB\n"
     ]
    }
   ],
   "source": [
    "#проверяем форматы\n",
    "calls.info()"
   ]
  },
  {
   "cell_type": "markdown",
   "metadata": {},
   "source": [
    "**2.3. Подготовка данных в таблице messages**"
   ]
  },
  {
   "cell_type": "code",
   "execution_count": 35,
   "metadata": {},
   "outputs": [],
   "source": [
    "#в столбце id оставим данные только по номеру звонка, удалив при этом символы до \"_\".\n",
    "messages['id'] = messages['id'].str.split('_').str[1].astype('int')"
   ]
  },
  {
   "cell_type": "code",
   "execution_count": 36,
   "metadata": {},
   "outputs": [],
   "source": [
    "#преобразуем формат данных столбца message_date в Datetime\n",
    "messages['message_date'] = pd.to_datetime(messages['message_date'], format = '%Y-%m-%d')"
   ]
  },
  {
   "cell_type": "code",
   "execution_count": 37,
   "metadata": {},
   "outputs": [
    {
     "name": "stdout",
     "output_type": "stream",
     "text": [
      "<class 'pandas.core.frame.DataFrame'>\n",
      "RangeIndex: 123036 entries, 0 to 123035\n",
      "Data columns (total 3 columns):\n",
      "id              123036 non-null int64\n",
      "message_date    123036 non-null datetime64[ns]\n",
      "user_id         123036 non-null int64\n",
      "dtypes: datetime64[ns](1), int64(2)\n",
      "memory usage: 2.8 MB\n"
     ]
    }
   ],
   "source": [
    "#проверяем форматы\n",
    "messages.info()"
   ]
  },
  {
   "cell_type": "markdown",
   "metadata": {},
   "source": [
    "**2.4. Подготовка данных в таблице internet**"
   ]
  },
  {
   "cell_type": "code",
   "execution_count": 38,
   "metadata": {},
   "outputs": [],
   "source": [
    "#в столбце id оставим данные только по номеру звонка, удалив при этом символы до \"_\".\n",
    "internet['id'] = internet['id'].str.split('_').str[1].astype('int')"
   ]
  },
  {
   "cell_type": "code",
   "execution_count": 39,
   "metadata": {},
   "outputs": [],
   "source": [
    "#преобразуем формат данных столбца message_date в Datetime\n",
    "internet['session_date'] = pd.to_datetime(internet['session_date'], format = '%Y-%m-%d')"
   ]
  },
  {
   "cell_type": "code",
   "execution_count": 40,
   "metadata": {},
   "outputs": [],
   "source": [
    "#на данном этапе просто округлим duration в большую сторону + переведем в int\n",
    "internet['mb_used'] = internet['mb_used'].apply(np.ceil).astype('int')"
   ]
  },
  {
   "cell_type": "code",
   "execution_count": 41,
   "metadata": {},
   "outputs": [
    {
     "data": {
      "text/html": [
       "<div>\n",
       "<style scoped>\n",
       "    .dataframe tbody tr th:only-of-type {\n",
       "        vertical-align: middle;\n",
       "    }\n",
       "\n",
       "    .dataframe tbody tr th {\n",
       "        vertical-align: top;\n",
       "    }\n",
       "\n",
       "    .dataframe thead th {\n",
       "        text-align: right;\n",
       "    }\n",
       "</style>\n",
       "<table border=\"1\" class=\"dataframe\">\n",
       "  <thead>\n",
       "    <tr style=\"text-align: right;\">\n",
       "      <th></th>\n",
       "      <th>id</th>\n",
       "      <th>mb_used</th>\n",
       "      <th>session_date</th>\n",
       "      <th>user_id</th>\n",
       "    </tr>\n",
       "  </thead>\n",
       "  <tbody>\n",
       "    <tr>\n",
       "      <td>0</td>\n",
       "      <td>0</td>\n",
       "      <td>113</td>\n",
       "      <td>2018-11-25</td>\n",
       "      <td>1000</td>\n",
       "    </tr>\n",
       "    <tr>\n",
       "      <td>1</td>\n",
       "      <td>1</td>\n",
       "      <td>1053</td>\n",
       "      <td>2018-09-07</td>\n",
       "      <td>1000</td>\n",
       "    </tr>\n",
       "    <tr>\n",
       "      <td>2</td>\n",
       "      <td>2</td>\n",
       "      <td>1198</td>\n",
       "      <td>2018-06-25</td>\n",
       "      <td>1000</td>\n",
       "    </tr>\n",
       "    <tr>\n",
       "      <td>3</td>\n",
       "      <td>3</td>\n",
       "      <td>551</td>\n",
       "      <td>2018-08-22</td>\n",
       "      <td>1000</td>\n",
       "    </tr>\n",
       "    <tr>\n",
       "      <td>4</td>\n",
       "      <td>4</td>\n",
       "      <td>303</td>\n",
       "      <td>2018-09-24</td>\n",
       "      <td>1000</td>\n",
       "    </tr>\n",
       "    <tr>\n",
       "      <td>...</td>\n",
       "      <td>...</td>\n",
       "      <td>...</td>\n",
       "      <td>...</td>\n",
       "      <td>...</td>\n",
       "    </tr>\n",
       "    <tr>\n",
       "      <td>149391</td>\n",
       "      <td>152</td>\n",
       "      <td>319</td>\n",
       "      <td>2018-10-03</td>\n",
       "      <td>1499</td>\n",
       "    </tr>\n",
       "    <tr>\n",
       "      <td>149392</td>\n",
       "      <td>153</td>\n",
       "      <td>491</td>\n",
       "      <td>2018-12-14</td>\n",
       "      <td>1499</td>\n",
       "    </tr>\n",
       "    <tr>\n",
       "      <td>149393</td>\n",
       "      <td>154</td>\n",
       "      <td>0</td>\n",
       "      <td>2018-10-27</td>\n",
       "      <td>1499</td>\n",
       "    </tr>\n",
       "    <tr>\n",
       "      <td>149394</td>\n",
       "      <td>155</td>\n",
       "      <td>1247</td>\n",
       "      <td>2018-11-26</td>\n",
       "      <td>1499</td>\n",
       "    </tr>\n",
       "    <tr>\n",
       "      <td>149395</td>\n",
       "      <td>156</td>\n",
       "      <td>545</td>\n",
       "      <td>2018-10-26</td>\n",
       "      <td>1499</td>\n",
       "    </tr>\n",
       "  </tbody>\n",
       "</table>\n",
       "<p>149396 rows × 4 columns</p>\n",
       "</div>"
      ],
      "text/plain": [
       "         id  mb_used session_date  user_id\n",
       "0         0      113   2018-11-25     1000\n",
       "1         1     1053   2018-09-07     1000\n",
       "2         2     1198   2018-06-25     1000\n",
       "3         3      551   2018-08-22     1000\n",
       "4         4      303   2018-09-24     1000\n",
       "...     ...      ...          ...      ...\n",
       "149391  152      319   2018-10-03     1499\n",
       "149392  153      491   2018-12-14     1499\n",
       "149393  154        0   2018-10-27     1499\n",
       "149394  155     1247   2018-11-26     1499\n",
       "149395  156      545   2018-10-26     1499\n",
       "\n",
       "[149396 rows x 4 columns]"
      ]
     },
     "execution_count": 41,
     "metadata": {},
     "output_type": "execute_result"
    }
   ],
   "source": [
    "#удалим столбец Unnamed: 0\n",
    "internet.drop(['Unnamed: 0'], axis = 1)"
   ]
  },
  {
   "cell_type": "code",
   "execution_count": 42,
   "metadata": {},
   "outputs": [
    {
     "name": "stdout",
     "output_type": "stream",
     "text": [
      "<class 'pandas.core.frame.DataFrame'>\n",
      "RangeIndex: 149396 entries, 0 to 149395\n",
      "Data columns (total 5 columns):\n",
      "Unnamed: 0      149396 non-null int64\n",
      "id              149396 non-null int64\n",
      "mb_used         149396 non-null int64\n",
      "session_date    149396 non-null datetime64[ns]\n",
      "user_id         149396 non-null int64\n",
      "dtypes: datetime64[ns](1), int64(4)\n",
      "memory usage: 5.7 MB\n"
     ]
    }
   ],
   "source": [
    "#проверяем форматы\n",
    "internet.info()"
   ]
  },
  {
   "cell_type": "markdown",
   "metadata": {},
   "source": [
    "*Расчет:* количество сделанных звонков и израсходованных минут разговора по месяцам;"
   ]
  },
  {
   "cell_type": "code",
   "execution_count": 43,
   "metadata": {},
   "outputs": [
    {
     "data": {
      "text/html": [
       "<div>\n",
       "<style scoped>\n",
       "    .dataframe tbody tr th:only-of-type {\n",
       "        vertical-align: middle;\n",
       "    }\n",
       "\n",
       "    .dataframe tbody tr th {\n",
       "        vertical-align: top;\n",
       "    }\n",
       "\n",
       "    .dataframe thead tr th {\n",
       "        text-align: left;\n",
       "    }\n",
       "\n",
       "    .dataframe thead tr:last-of-type th {\n",
       "        text-align: right;\n",
       "    }\n",
       "</style>\n",
       "<table border=\"1\" class=\"dataframe\">\n",
       "  <thead>\n",
       "    <tr>\n",
       "      <th></th>\n",
       "      <th>count</th>\n",
       "      <th>sum</th>\n",
       "    </tr>\n",
       "    <tr>\n",
       "      <th></th>\n",
       "      <th>duration</th>\n",
       "      <th>duration</th>\n",
       "    </tr>\n",
       "    <tr>\n",
       "      <th>month_of_call</th>\n",
       "      <th></th>\n",
       "      <th></th>\n",
       "    </tr>\n",
       "  </thead>\n",
       "  <tbody>\n",
       "    <tr>\n",
       "      <td>1</td>\n",
       "      <td>1476</td>\n",
       "      <td>10784</td>\n",
       "    </tr>\n",
       "    <tr>\n",
       "      <td>2</td>\n",
       "      <td>3328</td>\n",
       "      <td>24455</td>\n",
       "    </tr>\n",
       "    <tr>\n",
       "      <td>3</td>\n",
       "      <td>6687</td>\n",
       "      <td>48151</td>\n",
       "    </tr>\n",
       "    <tr>\n",
       "      <td>4</td>\n",
       "      <td>9272</td>\n",
       "      <td>66310</td>\n",
       "    </tr>\n",
       "    <tr>\n",
       "      <td>5</td>\n",
       "      <td>12647</td>\n",
       "      <td>88810</td>\n",
       "    </tr>\n",
       "    <tr>\n",
       "      <td>6</td>\n",
       "      <td>14716</td>\n",
       "      <td>105180</td>\n",
       "    </tr>\n",
       "    <tr>\n",
       "      <td>7</td>\n",
       "      <td>18298</td>\n",
       "      <td>131746</td>\n",
       "    </tr>\n",
       "    <tr>\n",
       "      <td>8</td>\n",
       "      <td>21488</td>\n",
       "      <td>153698</td>\n",
       "    </tr>\n",
       "    <tr>\n",
       "      <td>9</td>\n",
       "      <td>24061</td>\n",
       "      <td>173475</td>\n",
       "    </tr>\n",
       "    <tr>\n",
       "      <td>10</td>\n",
       "      <td>27146</td>\n",
       "      <td>193928</td>\n",
       "    </tr>\n",
       "    <tr>\n",
       "      <td>11</td>\n",
       "      <td>29501</td>\n",
       "      <td>210089</td>\n",
       "    </tr>\n",
       "    <tr>\n",
       "      <td>12</td>\n",
       "      <td>33987</td>\n",
       "      <td>243675</td>\n",
       "    </tr>\n",
       "  </tbody>\n",
       "</table>\n",
       "</div>"
      ],
      "text/plain": [
       "                 count      sum\n",
       "              duration duration\n",
       "month_of_call                  \n",
       "1                 1476    10784\n",
       "2                 3328    24455\n",
       "3                 6687    48151\n",
       "4                 9272    66310\n",
       "5                12647    88810\n",
       "6                14716   105180\n",
       "7                18298   131746\n",
       "8                21488   153698\n",
       "9                24061   173475\n",
       "10               27146   193928\n",
       "11               29501   210089\n",
       "12               33987   243675"
      ]
     },
     "execution_count": 43,
     "metadata": {},
     "output_type": "execute_result"
    }
   ],
   "source": [
    "calls['month_of_call'] = calls['call_date'].dt.month\n",
    "calls_per_month = calls.pivot_table(index='month_of_call', values='duration', aggfunc=['count', 'sum']) #.rename(columns={'count':'number_of_calls', 'sum':'duration_of_calls', 'duration': ''})\n",
    "calls_per_month"
   ]
  },
  {
   "cell_type": "code",
   "execution_count": 44,
   "metadata": {},
   "outputs": [
    {
     "data": {
      "text/html": [
       "<div>\n",
       "<style scoped>\n",
       "    .dataframe tbody tr th:only-of-type {\n",
       "        vertical-align: middle;\n",
       "    }\n",
       "\n",
       "    .dataframe tbody tr th {\n",
       "        vertical-align: top;\n",
       "    }\n",
       "\n",
       "    .dataframe thead tr th {\n",
       "        text-align: left;\n",
       "    }\n",
       "\n",
       "    .dataframe thead tr:last-of-type th {\n",
       "        text-align: right;\n",
       "    }\n",
       "</style>\n",
       "<table border=\"1\" class=\"dataframe\">\n",
       "  <thead>\n",
       "    <tr>\n",
       "      <th></th>\n",
       "      <th></th>\n",
       "      <th>count</th>\n",
       "      <th>sum</th>\n",
       "    </tr>\n",
       "    <tr>\n",
       "      <th></th>\n",
       "      <th></th>\n",
       "      <th>duration</th>\n",
       "      <th>duration</th>\n",
       "    </tr>\n",
       "    <tr>\n",
       "      <th>year_of_call</th>\n",
       "      <th>month_of_call</th>\n",
       "      <th></th>\n",
       "      <th></th>\n",
       "    </tr>\n",
       "  </thead>\n",
       "  <tbody>\n",
       "    <tr>\n",
       "      <td rowspan=\"12\" valign=\"top\">2018</td>\n",
       "      <td>1</td>\n",
       "      <td>1476</td>\n",
       "      <td>10784</td>\n",
       "    </tr>\n",
       "    <tr>\n",
       "      <td>2</td>\n",
       "      <td>3328</td>\n",
       "      <td>24455</td>\n",
       "    </tr>\n",
       "    <tr>\n",
       "      <td>3</td>\n",
       "      <td>6687</td>\n",
       "      <td>48151</td>\n",
       "    </tr>\n",
       "    <tr>\n",
       "      <td>4</td>\n",
       "      <td>9272</td>\n",
       "      <td>66310</td>\n",
       "    </tr>\n",
       "    <tr>\n",
       "      <td>5</td>\n",
       "      <td>12647</td>\n",
       "      <td>88810</td>\n",
       "    </tr>\n",
       "    <tr>\n",
       "      <td>6</td>\n",
       "      <td>14716</td>\n",
       "      <td>105180</td>\n",
       "    </tr>\n",
       "    <tr>\n",
       "      <td>7</td>\n",
       "      <td>18298</td>\n",
       "      <td>131746</td>\n",
       "    </tr>\n",
       "    <tr>\n",
       "      <td>8</td>\n",
       "      <td>21488</td>\n",
       "      <td>153698</td>\n",
       "    </tr>\n",
       "    <tr>\n",
       "      <td>9</td>\n",
       "      <td>24061</td>\n",
       "      <td>173475</td>\n",
       "    </tr>\n",
       "    <tr>\n",
       "      <td>10</td>\n",
       "      <td>27146</td>\n",
       "      <td>193928</td>\n",
       "    </tr>\n",
       "    <tr>\n",
       "      <td>11</td>\n",
       "      <td>29501</td>\n",
       "      <td>210089</td>\n",
       "    </tr>\n",
       "    <tr>\n",
       "      <td>12</td>\n",
       "      <td>33987</td>\n",
       "      <td>243675</td>\n",
       "    </tr>\n",
       "  </tbody>\n",
       "</table>\n",
       "</div>"
      ],
      "text/plain": [
       "                              count      sum\n",
       "                           duration duration\n",
       "year_of_call month_of_call                  \n",
       "2018         1                 1476    10784\n",
       "             2                 3328    24455\n",
       "             3                 6687    48151\n",
       "             4                 9272    66310\n",
       "             5                12647    88810\n",
       "             6                14716   105180\n",
       "             7                18298   131746\n",
       "             8                21488   153698\n",
       "             9                24061   173475\n",
       "             10               27146   193928\n",
       "             11               29501   210089\n",
       "             12               33987   243675"
      ]
     },
     "execution_count": 44,
     "metadata": {},
     "output_type": "execute_result"
    }
   ],
   "source": [
    "#добавленный код v.1\n",
    "calls['year_of_call'] = calls['call_date'].dt.year\n",
    "calls_per_year_and_month = calls.pivot_table(index=['year_of_call', 'month_of_call'], values='duration', aggfunc=['count', 'sum'])\n",
    "calls_per_year_and_month"
   ]
  },
  {
   "cell_type": "code",
   "execution_count": 44,
   "metadata": {},
   "outputs": [
    {
     "data": {
      "image/png": "[encoded data removed]",
      "text/plain": [
       "<Figure size 432x288 with 1 Axes>"
      ]
     },
     "metadata": {
      "needs_background": "light"
     },
     "output_type": "display_data"
    }
   ],
   "source": [
    "calls_per_month.plot(kind = 'scatter', x=('count','duration'),y=('sum','duration'))\n",
    "plt.title(\"График зависимости количества минут от количества звонков по месяцам, от 1 до 12\")\n",
    "plt.xlabel(\"Количество звонков\")\n",
    "plt.ylabel(\"Количество минут\")\n",
    "plt.show()"
   ]
  },
  {
   "cell_type": "markdown",
   "metadata": {},
   "source": [
    "Можно увидеть равномерное увеличение количества звонков и минут от января к декабрю, возможно, это связано с увеличивающейся популярностью компании на рынке."
   ]
  },
  {
   "cell_type": "markdown",
   "metadata": {},
   "source": [
    "*Расчет:* количество отправленных сообщений по месяцам;"
   ]
  },
  {
   "cell_type": "code",
   "execution_count": 45,
   "metadata": {},
   "outputs": [
    {
     "data": {
      "text/html": [
       "<div>\n",
       "<style scoped>\n",
       "    .dataframe tbody tr th:only-of-type {\n",
       "        vertical-align: middle;\n",
       "    }\n",
       "\n",
       "    .dataframe tbody tr th {\n",
       "        vertical-align: top;\n",
       "    }\n",
       "\n",
       "    .dataframe thead th {\n",
       "        text-align: right;\n",
       "    }\n",
       "</style>\n",
       "<table border=\"1\" class=\"dataframe\">\n",
       "  <thead>\n",
       "    <tr style=\"text-align: right;\">\n",
       "      <th></th>\n",
       "      <th>id</th>\n",
       "    </tr>\n",
       "    <tr>\n",
       "      <th>month_of_message</th>\n",
       "      <th></th>\n",
       "    </tr>\n",
       "  </thead>\n",
       "  <tbody>\n",
       "    <tr>\n",
       "      <td>1</td>\n",
       "      <td>924</td>\n",
       "    </tr>\n",
       "    <tr>\n",
       "      <td>2</td>\n",
       "      <td>1924</td>\n",
       "    </tr>\n",
       "    <tr>\n",
       "      <td>3</td>\n",
       "      <td>3648</td>\n",
       "    </tr>\n",
       "    <tr>\n",
       "      <td>4</td>\n",
       "      <td>5179</td>\n",
       "    </tr>\n",
       "    <tr>\n",
       "      <td>5</td>\n",
       "      <td>7298</td>\n",
       "    </tr>\n",
       "    <tr>\n",
       "      <td>6</td>\n",
       "      <td>8983</td>\n",
       "    </tr>\n",
       "    <tr>\n",
       "      <td>7</td>\n",
       "      <td>11320</td>\n",
       "    </tr>\n",
       "    <tr>\n",
       "      <td>8</td>\n",
       "      <td>13088</td>\n",
       "    </tr>\n",
       "    <tr>\n",
       "      <td>9</td>\n",
       "      <td>14759</td>\n",
       "    </tr>\n",
       "    <tr>\n",
       "      <td>10</td>\n",
       "      <td>17114</td>\n",
       "    </tr>\n",
       "    <tr>\n",
       "      <td>11</td>\n",
       "      <td>18244</td>\n",
       "    </tr>\n",
       "    <tr>\n",
       "      <td>12</td>\n",
       "      <td>20555</td>\n",
       "    </tr>\n",
       "  </tbody>\n",
       "</table>\n",
       "</div>"
      ],
      "text/plain": [
       "                     id\n",
       "month_of_message       \n",
       "1                   924\n",
       "2                  1924\n",
       "3                  3648\n",
       "4                  5179\n",
       "5                  7298\n",
       "6                  8983\n",
       "7                 11320\n",
       "8                 13088\n",
       "9                 14759\n",
       "10                17114\n",
       "11                18244\n",
       "12                20555"
      ]
     },
     "execution_count": 45,
     "metadata": {},
     "output_type": "execute_result"
    }
   ],
   "source": [
    "messages['month_of_message'] = messages['message_date'].dt.month\n",
    "messages_per_month = messages.pivot_table(index='month_of_message', values='id', aggfunc='count') #.rename(columns={'count':'number_of_calls', 'sum':'duration_of_calls', 'duration': ''})\n",
    "messages_per_month"
   ]
  },
  {
   "cell_type": "code",
   "execution_count": 46,
   "metadata": {},
   "outputs": [
    {
     "data": {
      "image/png": "[encoded data removed]",
      "text/plain": [
       "<Figure size 432x288 with 1 Axes>"
      ]
     },
     "metadata": {
      "needs_background": "light"
     },
     "output_type": "display_data"
    }
   ],
   "source": [
    "messages_per_month.plot(style = 'o', legend=False)\n",
    "plt.title(\"График зависимости количества сообщений от месяца, от 1 до 12\")\n",
    "plt.xlabel(\"Номер месяца\")\n",
    "plt.ylabel(\"Количество сообщений\")\n",
    "plt.show()"
   ]
  },
  {
   "cell_type": "markdown",
   "metadata": {},
   "source": [
    "Можно увидеть равномерное увеличение количества сообщений от января к декабрю, возможно, это связано с увеличивающейся популярностью компании на рынке."
   ]
  },
  {
   "cell_type": "markdown",
   "metadata": {},
   "source": [
    "*Расчет:* объем израсходованного интернет-трафика по месяцам;"
   ]
  },
  {
   "cell_type": "code",
   "execution_count": 47,
   "metadata": {},
   "outputs": [
    {
     "data": {
      "text/html": [
       "<div>\n",
       "<style scoped>\n",
       "    .dataframe tbody tr th:only-of-type {\n",
       "        vertical-align: middle;\n",
       "    }\n",
       "\n",
       "    .dataframe tbody tr th {\n",
       "        vertical-align: top;\n",
       "    }\n",
       "\n",
       "    .dataframe thead tr th {\n",
       "        text-align: left;\n",
       "    }\n",
       "\n",
       "    .dataframe thead tr:last-of-type th {\n",
       "        text-align: right;\n",
       "    }\n",
       "</style>\n",
       "<table border=\"1\" class=\"dataframe\">\n",
       "  <thead>\n",
       "    <tr>\n",
       "      <th></th>\n",
       "      <th>count</th>\n",
       "      <th>sum</th>\n",
       "    </tr>\n",
       "    <tr>\n",
       "      <th></th>\n",
       "      <th>mb_used</th>\n",
       "      <th>mb_used</th>\n",
       "    </tr>\n",
       "    <tr>\n",
       "      <th>month_of_session</th>\n",
       "      <th></th>\n",
       "      <th></th>\n",
       "    </tr>\n",
       "  </thead>\n",
       "  <tbody>\n",
       "    <tr>\n",
       "      <td>1</td>\n",
       "      <td>1117</td>\n",
       "      <td>408213</td>\n",
       "    </tr>\n",
       "    <tr>\n",
       "      <td>2</td>\n",
       "      <td>2641</td>\n",
       "      <td>956348</td>\n",
       "    </tr>\n",
       "    <tr>\n",
       "      <td>3</td>\n",
       "      <td>4885</td>\n",
       "      <td>1813960</td>\n",
       "    </tr>\n",
       "    <tr>\n",
       "      <td>4</td>\n",
       "      <td>6511</td>\n",
       "      <td>2436111</td>\n",
       "    </tr>\n",
       "    <tr>\n",
       "      <td>5</td>\n",
       "      <td>9408</td>\n",
       "      <td>3529893</td>\n",
       "    </tr>\n",
       "    <tr>\n",
       "      <td>6</td>\n",
       "      <td>11057</td>\n",
       "      <td>4184770</td>\n",
       "    </tr>\n",
       "    <tr>\n",
       "      <td>7</td>\n",
       "      <td>13548</td>\n",
       "      <td>5035299</td>\n",
       "    </tr>\n",
       "    <tr>\n",
       "      <td>8</td>\n",
       "      <td>16092</td>\n",
       "      <td>6005126</td>\n",
       "    </tr>\n",
       "    <tr>\n",
       "      <td>9</td>\n",
       "      <td>17512</td>\n",
       "      <td>6454931</td>\n",
       "    </tr>\n",
       "    <tr>\n",
       "      <td>10</td>\n",
       "      <td>20009</td>\n",
       "      <td>7400754</td>\n",
       "    </tr>\n",
       "    <tr>\n",
       "      <td>11</td>\n",
       "      <td>21817</td>\n",
       "      <td>7999852</td>\n",
       "    </tr>\n",
       "    <tr>\n",
       "      <td>12</td>\n",
       "      <td>24799</td>\n",
       "      <td>9144202</td>\n",
       "    </tr>\n",
       "  </tbody>\n",
       "</table>\n",
       "</div>"
      ],
      "text/plain": [
       "                   count      sum\n",
       "                 mb_used  mb_used\n",
       "month_of_session                 \n",
       "1                   1117   408213\n",
       "2                   2641   956348\n",
       "3                   4885  1813960\n",
       "4                   6511  2436111\n",
       "5                   9408  3529893\n",
       "6                  11057  4184770\n",
       "7                  13548  5035299\n",
       "8                  16092  6005126\n",
       "9                  17512  6454931\n",
       "10                 20009  7400754\n",
       "11                 21817  7999852\n",
       "12                 24799  9144202"
      ]
     },
     "execution_count": 47,
     "metadata": {},
     "output_type": "execute_result"
    }
   ],
   "source": [
    "internet['month_of_session'] = internet['session_date'].dt.month\n",
    "sessions_per_month = internet.pivot_table(index='month_of_session', values='mb_used', aggfunc=['count', 'sum']) #.rename(columns={'count':'number_of_calls', 'sum':'duration_of_calls', 'duration': ''})\n",
    "sessions_per_month"
   ]
  },
  {
   "cell_type": "code",
   "execution_count": 48,
   "metadata": {},
   "outputs": [
    {
     "data": {
      "image/png": "[encoded data removed]",
      "text/plain": [
       "<Figure size 432x288 with 1 Axes>"
      ]
     },
     "metadata": {
      "needs_background": "light"
     },
     "output_type": "display_data"
    }
   ],
   "source": [
    "sessions_per_month.plot(kind = 'scatter', x=('count','mb_used'),y=('sum','mb_used'))\n",
    "plt.title(\"График зависимости количества интернет сессий от объема трафика по месяцам, от 1 до 12\")\n",
    "plt.xlabel(\"Количество интернет сессий\")\n",
    "plt.ylabel(\"Объем использованного трафика, МБ\")\n",
    "plt.show()"
   ]
  },
  {
   "cell_type": "markdown",
   "metadata": {},
   "source": [
    "Можно увидеть равномерное увеличение количества интернет сессий и использованного трафика от января к декабрю, возможно, это связано с увеличивающейся популярностью компании на рынке."
   ]
  },
  {
   "cell_type": "markdown",
   "metadata": {},
   "source": [
    "*Расчет:* помесячную выручку с каждого пользователя (вычесть бесплатный лимит из суммарного количества звонков, сообщений и интернет-трафика; остаток умножить на значение из тарифного плана; прибавить абонентскую плату, соответствующую тарифному плану)."
   ]
  },
  {
   "cell_type": "code",
   "execution_count": 49,
   "metadata": {},
   "outputs": [],
   "source": [
    "#собираем данные по использованным мобильным услугам из таблиц calls, messages, internet воедино\n",
    "calls_part = calls.groupby(['user_id', 'month_of_call'], as_index=False)['duration'].agg('sum')\n",
    "calls_part.columns = ['user_id', 'month', 'call_minutes']\n",
    "\n",
    "messages_part = messages.groupby(['user_id', 'month_of_message'], as_index=False)['id'].agg('count')\n",
    "messages_part.columns = ['user_id', 'month', 'messages_number']\n",
    "\n",
    "internet_part = internet.groupby(['user_id', 'month_of_session'], as_index=False)['mb_used'].agg('sum')\n",
    "internet_part.columns = ['user_id', 'month', 'internet_traffic']\n",
    "\n",
    "users_part = users[['user_id', 'tariff', 'city']]"
   ]
  },
  {
   "cell_type": "code",
   "execution_count": 50,
   "metadata": {},
   "outputs": [
    {
     "data": {
      "text/html": [
       "<div>\n",
       "<style scoped>\n",
       "    .dataframe tbody tr th:only-of-type {\n",
       "        vertical-align: middle;\n",
       "    }\n",
       "\n",
       "    .dataframe tbody tr th {\n",
       "        vertical-align: top;\n",
       "    }\n",
       "\n",
       "    .dataframe thead th {\n",
       "        text-align: right;\n",
       "    }\n",
       "</style>\n",
       "<table border=\"1\" class=\"dataframe\">\n",
       "  <thead>\n",
       "    <tr style=\"text-align: right;\">\n",
       "      <th></th>\n",
       "      <th>user_id</th>\n",
       "      <th>month</th>\n",
       "      <th>call_minutes</th>\n",
       "      <th>messages_number</th>\n",
       "      <th>internet_traffic</th>\n",
       "      <th>tariff</th>\n",
       "      <th>city</th>\n",
       "      <th>messages_included</th>\n",
       "      <th>mb_per_month_included</th>\n",
       "      <th>minutes_included</th>\n",
       "      <th>rub_monthly_fee</th>\n",
       "      <th>rub_per_gb</th>\n",
       "      <th>rub_per_message</th>\n",
       "      <th>rub_per_minute</th>\n",
       "      <th>tariff_name</th>\n",
       "    </tr>\n",
       "  </thead>\n",
       "  <tbody>\n",
       "    <tr>\n",
       "      <td>0</td>\n",
       "      <td>1000</td>\n",
       "      <td>5</td>\n",
       "      <td>159.0</td>\n",
       "      <td>22.0</td>\n",
       "      <td>2256.0</td>\n",
       "      <td>1</td>\n",
       "      <td>Краснодар</td>\n",
       "      <td>1000</td>\n",
       "      <td>30720</td>\n",
       "      <td>3000</td>\n",
       "      <td>1950</td>\n",
       "      <td>150</td>\n",
       "      <td>1</td>\n",
       "      <td>1</td>\n",
       "      <td>ultra</td>\n",
       "    </tr>\n",
       "    <tr>\n",
       "      <td>1</td>\n",
       "      <td>1000</td>\n",
       "      <td>6</td>\n",
       "      <td>172.0</td>\n",
       "      <td>60.0</td>\n",
       "      <td>23257.0</td>\n",
       "      <td>1</td>\n",
       "      <td>Краснодар</td>\n",
       "      <td>1000</td>\n",
       "      <td>30720</td>\n",
       "      <td>3000</td>\n",
       "      <td>1950</td>\n",
       "      <td>150</td>\n",
       "      <td>1</td>\n",
       "      <td>1</td>\n",
       "      <td>ultra</td>\n",
       "    </tr>\n",
       "    <tr>\n",
       "      <td>2</td>\n",
       "      <td>1000</td>\n",
       "      <td>7</td>\n",
       "      <td>340.0</td>\n",
       "      <td>75.0</td>\n",
       "      <td>14016.0</td>\n",
       "      <td>1</td>\n",
       "      <td>Краснодар</td>\n",
       "      <td>1000</td>\n",
       "      <td>30720</td>\n",
       "      <td>3000</td>\n",
       "      <td>1950</td>\n",
       "      <td>150</td>\n",
       "      <td>1</td>\n",
       "      <td>1</td>\n",
       "      <td>ultra</td>\n",
       "    </tr>\n",
       "    <tr>\n",
       "      <td>3</td>\n",
       "      <td>1000</td>\n",
       "      <td>8</td>\n",
       "      <td>408.0</td>\n",
       "      <td>81.0</td>\n",
       "      <td>14070.0</td>\n",
       "      <td>1</td>\n",
       "      <td>Краснодар</td>\n",
       "      <td>1000</td>\n",
       "      <td>30720</td>\n",
       "      <td>3000</td>\n",
       "      <td>1950</td>\n",
       "      <td>150</td>\n",
       "      <td>1</td>\n",
       "      <td>1</td>\n",
       "      <td>ultra</td>\n",
       "    </tr>\n",
       "    <tr>\n",
       "      <td>4</td>\n",
       "      <td>1000</td>\n",
       "      <td>9</td>\n",
       "      <td>466.0</td>\n",
       "      <td>57.0</td>\n",
       "      <td>14581.0</td>\n",
       "      <td>1</td>\n",
       "      <td>Краснодар</td>\n",
       "      <td>1000</td>\n",
       "      <td>30720</td>\n",
       "      <td>3000</td>\n",
       "      <td>1950</td>\n",
       "      <td>150</td>\n",
       "      <td>1</td>\n",
       "      <td>1</td>\n",
       "      <td>ultra</td>\n",
       "    </tr>\n",
       "    <tr>\n",
       "      <td>...</td>\n",
       "      <td>...</td>\n",
       "      <td>...</td>\n",
       "      <td>...</td>\n",
       "      <td>...</td>\n",
       "      <td>...</td>\n",
       "      <td>...</td>\n",
       "      <td>...</td>\n",
       "      <td>...</td>\n",
       "      <td>...</td>\n",
       "      <td>...</td>\n",
       "      <td>...</td>\n",
       "      <td>...</td>\n",
       "      <td>...</td>\n",
       "      <td>...</td>\n",
       "      <td>...</td>\n",
       "    </tr>\n",
       "    <tr>\n",
       "      <td>3209</td>\n",
       "      <td>1489</td>\n",
       "      <td>9</td>\n",
       "      <td>NaN</td>\n",
       "      <td>32.0</td>\n",
       "      <td>17232.0</td>\n",
       "      <td>0</td>\n",
       "      <td>Санкт-Петербург</td>\n",
       "      <td>50</td>\n",
       "      <td>15360</td>\n",
       "      <td>500</td>\n",
       "      <td>550</td>\n",
       "      <td>200</td>\n",
       "      <td>3</td>\n",
       "      <td>3</td>\n",
       "      <td>smart</td>\n",
       "    </tr>\n",
       "    <tr>\n",
       "      <td>3210</td>\n",
       "      <td>1489</td>\n",
       "      <td>10</td>\n",
       "      <td>NaN</td>\n",
       "      <td>21.0</td>\n",
       "      <td>19588.0</td>\n",
       "      <td>0</td>\n",
       "      <td>Санкт-Петербург</td>\n",
       "      <td>50</td>\n",
       "      <td>15360</td>\n",
       "      <td>500</td>\n",
       "      <td>550</td>\n",
       "      <td>200</td>\n",
       "      <td>3</td>\n",
       "      <td>3</td>\n",
       "      <td>smart</td>\n",
       "    </tr>\n",
       "    <tr>\n",
       "      <td>3211</td>\n",
       "      <td>1489</td>\n",
       "      <td>11</td>\n",
       "      <td>NaN</td>\n",
       "      <td>20.0</td>\n",
       "      <td>17516.0</td>\n",
       "      <td>0</td>\n",
       "      <td>Санкт-Петербург</td>\n",
       "      <td>50</td>\n",
       "      <td>15360</td>\n",
       "      <td>500</td>\n",
       "      <td>550</td>\n",
       "      <td>200</td>\n",
       "      <td>3</td>\n",
       "      <td>3</td>\n",
       "      <td>smart</td>\n",
       "    </tr>\n",
       "    <tr>\n",
       "      <td>3212</td>\n",
       "      <td>1489</td>\n",
       "      <td>12</td>\n",
       "      <td>NaN</td>\n",
       "      <td>35.0</td>\n",
       "      <td>17341.0</td>\n",
       "      <td>0</td>\n",
       "      <td>Санкт-Петербург</td>\n",
       "      <td>50</td>\n",
       "      <td>15360</td>\n",
       "      <td>500</td>\n",
       "      <td>550</td>\n",
       "      <td>200</td>\n",
       "      <td>3</td>\n",
       "      <td>3</td>\n",
       "      <td>smart</td>\n",
       "    </tr>\n",
       "    <tr>\n",
       "      <td>3213</td>\n",
       "      <td>1476</td>\n",
       "      <td>4</td>\n",
       "      <td>NaN</td>\n",
       "      <td>NaN</td>\n",
       "      <td>531.0</td>\n",
       "      <td>1</td>\n",
       "      <td>Москва</td>\n",
       "      <td>1000</td>\n",
       "      <td>30720</td>\n",
       "      <td>3000</td>\n",
       "      <td>1950</td>\n",
       "      <td>150</td>\n",
       "      <td>1</td>\n",
       "      <td>1</td>\n",
       "      <td>ultra</td>\n",
       "    </tr>\n",
       "  </tbody>\n",
       "</table>\n",
       "<p>3214 rows × 15 columns</p>\n",
       "</div>"
      ],
      "text/plain": [
       "      user_id  month  call_minutes  messages_number  internet_traffic  tariff  \\\n",
       "0        1000      5         159.0             22.0            2256.0       1   \n",
       "1        1000      6         172.0             60.0           23257.0       1   \n",
       "2        1000      7         340.0             75.0           14016.0       1   \n",
       "3        1000      8         408.0             81.0           14070.0       1   \n",
       "4        1000      9         466.0             57.0           14581.0       1   \n",
       "...       ...    ...           ...              ...               ...     ...   \n",
       "3209     1489      9           NaN             32.0           17232.0       0   \n",
       "3210     1489     10           NaN             21.0           19588.0       0   \n",
       "3211     1489     11           NaN             20.0           17516.0       0   \n",
       "3212     1489     12           NaN             35.0           17341.0       0   \n",
       "3213     1476      4           NaN              NaN             531.0       1   \n",
       "\n",
       "                 city  messages_included  mb_per_month_included  \\\n",
       "0           Краснодар               1000                  30720   \n",
       "1           Краснодар               1000                  30720   \n",
       "2           Краснодар               1000                  30720   \n",
       "3           Краснодар               1000                  30720   \n",
       "4           Краснодар               1000                  30720   \n",
       "...               ...                ...                    ...   \n",
       "3209  Санкт-Петербург                 50                  15360   \n",
       "3210  Санкт-Петербург                 50                  15360   \n",
       "3211  Санкт-Петербург                 50                  15360   \n",
       "3212  Санкт-Петербург                 50                  15360   \n",
       "3213           Москва               1000                  30720   \n",
       "\n",
       "      minutes_included  rub_monthly_fee  rub_per_gb  rub_per_message  \\\n",
       "0                 3000             1950         150                1   \n",
       "1                 3000             1950         150                1   \n",
       "2                 3000             1950         150                1   \n",
       "3                 3000             1950         150                1   \n",
       "4                 3000             1950         150                1   \n",
       "...                ...              ...         ...              ...   \n",
       "3209               500              550         200                3   \n",
       "3210               500              550         200                3   \n",
       "3211               500              550         200                3   \n",
       "3212               500              550         200                3   \n",
       "3213              3000             1950         150                1   \n",
       "\n",
       "      rub_per_minute tariff_name  \n",
       "0                  1       ultra  \n",
       "1                  1       ultra  \n",
       "2                  1       ultra  \n",
       "3                  1       ultra  \n",
       "4                  1       ultra  \n",
       "...              ...         ...  \n",
       "3209               3       smart  \n",
       "3210               3       smart  \n",
       "3211               3       smart  \n",
       "3212               3       smart  \n",
       "3213               1       ultra  \n",
       "\n",
       "[3214 rows x 15 columns]"
      ]
     },
     "execution_count": 50,
     "metadata": {},
     "output_type": "execute_result"
    }
   ],
   "source": [
    "#объединяем полученные выше таблицы\n",
    "profit = (calls_part\n",
    "         .merge(messages_part, on = ['user_id', 'month'], how = 'outer')\n",
    "         .merge(internet_part, on = ['user_id', 'month'], how = 'outer')\n",
    "         .merge(users_part, on = 'user_id', how = 'left')\n",
    "         .join(tariffs, on = 'tariff', how = 'left') #join по столбцу tariff ищет соответствующие индексы таблицы tariffs\n",
    "         )\n",
    "profit"
   ]
  },
  {
   "cell_type": "code",
   "execution_count": 78,
   "metadata": {},
   "outputs": [
    {
     "data": {
      "text/plain": [
       "498"
      ]
     },
     "execution_count": 78,
     "metadata": {},
     "output_type": "execute_result"
    }
   ],
   "source": [
    "profit.user_id.nunique()"
   ]
  },
  {
   "cell_type": "markdown",
   "metadata": {},
   "source": [
    "Значения NaN говорят о том, что клиент не пользовался определенной услугой в определенный месяц, заменим NaN на 0."
   ]
  },
  {
   "cell_type": "code",
   "execution_count": 51,
   "metadata": {},
   "outputs": [],
   "source": [
    "profit.loc[profit['call_minutes'].isna()==True, 'call_minutes'] = 0\n",
    "profit.loc[profit['messages_number'].isna()==True, 'messages_number'] = 0\n",
    "profit.loc[profit['internet_traffic'].isna()==True, 'internet_traffic'] = 0"
   ]
  },
  {
   "cell_type": "code",
   "execution_count": 52,
   "metadata": {},
   "outputs": [],
   "source": [
    "#прописываем функцию для расчета выручки от каждого пользователя\n",
    "def find_profit(row):\n",
    "    profit_value = 0\n",
    "    if (row['call_minutes'] > row['minutes_included']):\n",
    "        profit_value += (row['call_minutes'] - row['minutes_included']) * row['rub_per_minute']\n",
    "    if (row['messages_number'] > row['messages_included']):\n",
    "        profit_value += (row['messages_number'] - row['messages_included']) * row['rub_per_message']\n",
    "    if (row['internet_traffic'] > row['mb_per_month_included']):\n",
    "        profit_value += math.ceil((row['internet_traffic'] - row['mb_per_month_included']) / 1024) * row['rub_per_gb']  \n",
    "    profit_value += row['rub_monthly_fee']\n",
    "    return profit_value"
   ]
  },
  {
   "cell_type": "code",
   "execution_count": 53,
   "metadata": {},
   "outputs": [],
   "source": [
    "#используем функцию выше, чтобы добавить в profit значения выручек\n",
    "profit['final_profit'] = profit.apply(find_profit, axis = 1)"
   ]
  },
  {
   "cell_type": "code",
   "execution_count": 79,
   "metadata": {},
   "outputs": [
    {
     "data": {
      "text/plain": [
       "count    3214.000000\n",
       "mean     1532.592097\n",
       "std       799.651454\n",
       "min       550.000000\n",
       "25%       750.000000\n",
       "50%      1667.500000\n",
       "75%      1950.000000\n",
       "max      6770.000000\n",
       "Name: final_profit, dtype: float64"
      ]
     },
     "execution_count": 79,
     "metadata": {},
     "output_type": "execute_result"
    }
   ],
   "source": [
    "profit['final_profit'].describe()"
   ]
  },
  {
   "cell_type": "code",
   "execution_count": 54,
   "metadata": {},
   "outputs": [
    {
     "data": {
      "text/plain": [
       "user_id                  0\n",
       "month                    0\n",
       "call_minutes             0\n",
       "messages_number          0\n",
       "internet_traffic         0\n",
       "tariff                   0\n",
       "city                     0\n",
       "messages_included        0\n",
       "mb_per_month_included    0\n",
       "minutes_included         0\n",
       "rub_monthly_fee          0\n",
       "rub_per_gb               0\n",
       "rub_per_message          0\n",
       "rub_per_minute           0\n",
       "tariff_name              0\n",
       "final_profit             0\n",
       "dtype: int64"
      ]
     },
     "execution_count": 54,
     "metadata": {},
     "output_type": "execute_result"
    }
   ],
   "source": [
    "profit.isna().sum()"
   ]
  },
  {
   "cell_type": "markdown",
   "metadata": {},
   "source": [
    "Вывод по шагу 2:\n",
    "- Данные подготовлены, пропусков нет, дубликатов нет\n",
    "- Данные по минутам и интернет-трафику округлены в большую сторону. При этом для интернета в будущем необходимо создать столбец с интернет-трафиком, округленным до гигабайта.\n",
    "- Номер звонка, смс, и использования интернета для каждого пользователя представлены в презентабельной форме, для улучшения репрезентативности итоговых таблиц\n",
    "- для тарифов в таблице users создали словарь, это поможет улучшить визуализацию таблицы.\n",
    "- для столбцов таблиц, которым присуще даты, был присвоен формат datetime, а для целочисленных integer.\n",
    "- удалили ненужный столбец \"Unnamed: 0\" в таблице internet\n",
    "- посчитали количество сделанных звонков и израсходованных минут разговора по месяцам; количество отправленных сообщений по месяцам; объем израсходованного интернет-трафика по месяцам; помесячную выручку с каждого пользователя."
   ]
  },
  {
   "cell_type": "markdown",
   "metadata": {},
   "source": [
    "# Шаг 3. Анализ данных"
   ]
  },
  {
   "cell_type": "markdown",
   "metadata": {},
   "source": [
    "Посчитать сколько минут разговора, сколько сообщений и какой объём интернет-трафика требуется пользователям каждого тарифа в месяц. Посчитать среднее количество, дисперсию и стандартное отклонение. Построить гистограммы. Описать распределения."
   ]
  },
  {
   "cell_type": "code",
   "execution_count": 55,
   "metadata": {},
   "outputs": [],
   "source": [
    "#напишем функция для нахождения статистических данных по столбцам для двух тарифов\n",
    "def find_statistics(column, tariff):\n",
    "    statistics = profit[profit['tariff_name'] == tariff].groupby('user_id')[column].agg('mean')\n",
    "    print('Информация для тарифа {}: '.format(tariff))\n",
    "    print('Среднее по тарифу {0} для данных по {1} равно: {2} '.format(tariff, column, round(statistics.mean(), 1)))\n",
    "    print('Медиана по тарифу {0} для данных по {1} равно: {2} '.format(tariff, column, round(statistics.median(), 1)))\n",
    "    print('Дисперсия по тарифу {0} для данных по {1} равна: {2} '.format(tariff, column, round(np.var(statistics), 1)))\n",
    "    print('Стандартное отклонение по тарифу {0} для данных по {1} равно: {2} '.format(tariff, column, round(np.sqrt(np.var(statistics))), 1))\n",
    "    return statistics"
   ]
  },
  {
   "cell_type": "code",
   "execution_count": 56,
   "metadata": {},
   "outputs": [],
   "source": [
    "#напишем функция для построения гистограмм по двум тарифам\n",
    "def build_hist(data_smart, data_ultra, column_name, xrange, bins):\n",
    "    ax = data_smart.plot(kind='hist',\n",
    "                        histtype = 'step',\n",
    "                        bins = bins,\n",
    "                        range = xrange,\n",
    "                        alpha = 0.5,\n",
    "                        linewidth = 4,\n",
    "                        grid = True,\n",
    "                        density = True,\n",
    "                        legend = True,\n",
    "                        label = column_name + ' тарифа smart')\n",
    "    data_ultra.plot(kind ='hist',\n",
    "                   histtype = 'step',\n",
    "                   bins = bins,\n",
    "                   ax = ax,\n",
    "                   range = xrange,\n",
    "                   alpha = 0.5,\n",
    "                   linewidth = 4,\n",
    "                   grid = True,\n",
    "                   density = True,\n",
    "                   legend = True,\n",
    "                   label = column_name + ' тарифа ultra')\n",
    "    #sns.set_style('darkgrid')\n",
    "    ax.set_title('Плотность распределения параметра {}'.format(column_name), fontsize = 11)\n",
    "    ax.set_xlabel('Среднемесячное значение параметра {}'.format(column_name), fontsize = 11)\n",
    "    ax.set_ylabel('Плотность распределения {}'.format(column_name), fontsize = 11)\n",
    "    plt.show()"
   ]
  },
  {
   "cell_type": "code",
   "execution_count": 57,
   "metadata": {},
   "outputs": [
    {
     "name": "stdout",
     "output_type": "stream",
     "text": [
      "Информация для тарифа smart: \n",
      "Среднее по тарифу smart для данных по call_minutes равно: 419.6 \n",
      "Медиана по тарифу smart для данных по call_minutes равно: 425.1 \n",
      "Дисперсия по тарифу smart для данных по call_minutes равна: 20974.1 \n",
      "Стандартное отклонение по тарифу smart для данных по call_minutes равно: 145 \n"
     ]
    }
   ],
   "source": [
    "call_minutes_smart = find_statistics('call_minutes', 'smart')"
   ]
  },
  {
   "cell_type": "code",
   "execution_count": 58,
   "metadata": {},
   "outputs": [
    {
     "name": "stdout",
     "output_type": "stream",
     "text": [
      "Информация для тарифа ultra: \n",
      "Среднее по тарифу ultra для данных по call_minutes равно: 527.8 \n",
      "Медиана по тарифу ultra для данных по call_minutes равно: 514.5 \n",
      "Дисперсия по тарифу ultra для данных по call_minutes равна: 78867.0 \n",
      "Стандартное отклонение по тарифу ultra для данных по call_minutes равно: 281 \n"
     ]
    }
   ],
   "source": [
    "call_minutes_ultra = find_statistics('call_minutes', 'ultra')"
   ]
  },
  {
   "cell_type": "code",
   "execution_count": 59,
   "metadata": {},
   "outputs": [
    {
     "data": {
      "image/png": "[encoded data removed]",
      "text/plain": [
       "<Figure size 432x288 with 1 Axes>"
      ]
     },
     "metadata": {
      "needs_background": "light"
     },
     "output_type": "display_data"
    }
   ],
   "source": [
    "build_hist(call_minutes_smart, call_minutes_ultra, ' \"Минуты звонков\" ', xrange=(0,1500), bins = 10)"
   ]
  },
  {
   "cell_type": "code",
   "execution_count": 60,
   "metadata": {},
   "outputs": [
    {
     "name": "stdout",
     "output_type": "stream",
     "text": [
      "Доля клиентов с тарифом smart, которые превышают лимит 500 минут: 0.29\n",
      "Доля клиентов с тарифом ultra, которые превышают лимит 3000 минут: 0.0\n"
     ]
    }
   ],
   "source": [
    "print('Доля клиентов с тарифом smart, которые превышают лимит 500 минут: {}'.format(\n",
    "    round(len(call_minutes_smart[call_minutes_smart > 500])/len(call_minutes_smart), 2)))\n",
    "print('Доля клиентов с тарифом ultra, которые превышают лимит 3000 минут: {}'.format(\n",
    "    round(len(call_minutes_ultra[call_minutes_ultra > 3000])/len(call_minutes_ultra), 2)))"
   ]
  },
  {
   "cell_type": "markdown",
   "metadata": {},
   "source": [
    "Вывод по графику для среднемесячного значения параметра \"Минуты звонков\":\n",
    "- Распределения близки к нормальному распределению, гистограмма для тарифа ultra смещена в сторону больших значений относительно тарифа smart\n",
    "- Для обоих тарифов среднее и медиана почти не отличаются\n",
    "- Клиенты с тарифом ultra используют больше минут (в среднем = 528 мин), а с тарифом smart - меньше минут (в среднем = 420 мин)\n",
    "- Стандартное отклонение и дисперсия для клиентов с тарифом ultra больше (ст. откл = 281), а для тарифа smart - меньше (ст. откл. = 145), это означает, что разброс в использованных минутах для клиентов с ultra - больше.\n",
    "- Почти 30% всех клиентов с тарифом smart превышают лимит по минутам, а с тарифом ultra - не превышают минутный тариф"
   ]
  },
  {
   "cell_type": "code",
   "execution_count": 61,
   "metadata": {},
   "outputs": [
    {
     "name": "stdout",
     "output_type": "stream",
     "text": [
      "Информация для тарифа smart: \n",
      "Среднее по тарифу smart для данных по messages_number равно: 32.4 \n",
      "Медиана по тарифу smart для данных по messages_number равно: 27.8 \n",
      "Дисперсия по тарифу smart для данных по messages_number равна: 700.9 \n",
      "Стандартное отклонение по тарифу smart для данных по messages_number равно: 26 \n"
     ]
    }
   ],
   "source": [
    "messages_number_smart = find_statistics('messages_number', 'smart')"
   ]
  },
  {
   "cell_type": "code",
   "execution_count": 62,
   "metadata": {},
   "outputs": [
    {
     "name": "stdout",
     "output_type": "stream",
     "text": [
      "Информация для тарифа ultra: \n",
      "Среднее по тарифу ultra для данных по messages_number равно: 54.0 \n",
      "Медиана по тарифу ultra для данных по messages_number равно: 45.5 \n",
      "Дисперсия по тарифу ultra для данных по messages_number равна: 2135.3 \n",
      "Стандартное отклонение по тарифу ultra для данных по messages_number равно: 46 \n"
     ]
    }
   ],
   "source": [
    "messages_number_ultra = find_statistics('messages_number', 'ultra')"
   ]
  },
  {
   "cell_type": "code",
   "execution_count": 63,
   "metadata": {
    "scrolled": true
   },
   "outputs": [
    {
     "data": {
      "image/png": "[encoded data removed]",
      "text/plain": [
       "<Figure size 432x288 with 1 Axes>"
      ]
     },
     "metadata": {
      "needs_background": "light"
     },
     "output_type": "display_data"
    }
   ],
   "source": [
    "build_hist(messages_number_smart, messages_number_ultra, ' \"Кол-во сообщений\" ', xrange=(0,250), bins = 10)"
   ]
  },
  {
   "cell_type": "code",
   "execution_count": 64,
   "metadata": {},
   "outputs": [
    {
     "name": "stdout",
     "output_type": "stream",
     "text": [
      "Доля клиентов с тарифом smart, которые превышают лимит 50 сообщений: 0.23\n",
      "Доля клиентов с тарифом ultra, которые превышают лимит 1000 сообщений: 0.0\n"
     ]
    }
   ],
   "source": [
    "print('Доля клиентов с тарифом smart, которые превышают лимит 50 сообщений: {}'.format(\n",
    "    round(len(messages_number_smart[messages_number_smart > 50])/len(messages_number_smart), 2)))\n",
    "print('Доля клиентов с тарифом ultra, которые превышают лимит 1000 сообщений: {}'.format(\n",
    "    round(len(messages_number_ultra[messages_number_ultra > 1000])/len(messages_number_ultra), 2)))"
   ]
  },
  {
   "cell_type": "markdown",
   "metadata": {},
   "source": [
    "Вывод по графику для среднемесячного значения параметра \"Количество сообщений\":\n",
    "- Распределения близки к распределению Пуассона, гистограмма для тарифа ultra смещена в сторону больших значений относительно тарифа smart\n",
    "- Для обоих тарифов среднее и медиана почти не отличаются\n",
    "- Клиенты с тарифом ultra используют больше сообщений (в среднем = 54 сообщений), а с тарифом smart - меньше сообщений (в среднем = 32 сообщений)\n",
    "- Стандартное отклонение и дисперсия для клиентов с тарифом ultra больше (ст. откл = 46), а для тарифа smart - меньше (ст. откл. = 26), это означает, что разброс в использованных сообщениях для клиентов с ultra - больше.\n",
    "- Почти 23% всех клиентов с тарифом smart превышают лимит по сообщениям, а с тарифом ultra - не превышают кол-во сообщений по тарифу"
   ]
  },
  {
   "cell_type": "code",
   "execution_count": 65,
   "metadata": {},
   "outputs": [
    {
     "name": "stdout",
     "output_type": "stream",
     "text": [
      "Информация для тарифа smart: \n",
      "Среднее по тарифу smart для данных по internet_traffic равно: 16201.4 \n",
      "Медиана по тарифу smart для данных по internet_traffic равно: 16272.4 \n",
      "Дисперсия по тарифу smart для данных по internet_traffic равна: 12805788.7 \n",
      "Стандартное отклонение по тарифу smart для данных по internet_traffic равно: 3579 \n"
     ]
    }
   ],
   "source": [
    "internet_traffic_smart = find_statistics('internet_traffic', 'smart')"
   ]
  },
  {
   "cell_type": "code",
   "execution_count": 66,
   "metadata": {},
   "outputs": [
    {
     "name": "stdout",
     "output_type": "stream",
     "text": [
      "Информация для тарифа ultra: \n",
      "Среднее по тарифу ultra для данных по internet_traffic равно: 19592.8 \n",
      "Медиана по тарифу ultra для данных по internet_traffic равно: 18715.6 \n",
      "Дисперсия по тарифу ultra для данных по internet_traffic равна: 68734088.3 \n",
      "Стандартное отклонение по тарифу ultra для данных по internet_traffic равно: 8291 \n"
     ]
    }
   ],
   "source": [
    "internet_traffic_ultra = find_statistics('internet_traffic', 'ultra')"
   ]
  },
  {
   "cell_type": "code",
   "execution_count": 67,
   "metadata": {},
   "outputs": [
    {
     "data": {
      "image/png": "[encoded data removed]",
      "text/plain": [
       "<Figure size 432x288 with 1 Axes>"
      ]
     },
     "metadata": {
      "needs_background": "light"
     },
     "output_type": "display_data"
    }
   ],
   "source": [
    "build_hist(internet_traffic_smart, internet_traffic_ultra, ' \"Объем трафика\" ', xrange=(0,50000), bins = 10)"
   ]
  },
  {
   "cell_type": "code",
   "execution_count": 68,
   "metadata": {},
   "outputs": [
    {
     "name": "stdout",
     "output_type": "stream",
     "text": [
      "Доля клиентов с тарифом smart, которые превышают лимит 15 ГБ: 0.62\n",
      "Доля клиентов с тарифом ultra, которые превышают лимит 30 ГБ: 0.11\n"
     ]
    }
   ],
   "source": [
    "print('Доля клиентов с тарифом smart, которые превышают лимит 15 ГБ: {}'.format(\n",
    "    round(len(internet_traffic_smart[internet_traffic_smart / 1024 > 15])/len(internet_traffic_smart), 2)))\n",
    "print('Доля клиентов с тарифом ultra, которые превышают лимит 30 ГБ: {}'.format(\n",
    "    round(len(internet_traffic_ultra[internet_traffic_ultra / 1024 > 30])/len(internet_traffic_ultra), 2)))"
   ]
  },
  {
   "cell_type": "markdown",
   "metadata": {},
   "source": [
    "Вывод по графику для среднемесячного значения параметра \"Объем трафика\":\n",
    "- Распределения близки к нормальному распределению, гистограмма для тарифа ultra смещена в сторону больших значений относительно тарифа smart\n",
    "- Для обоих тарифов среднее и медиана почти не отличаются\n",
    "- Клиенты с тарифом ultra используют больше интернет-трафика (в среднем = 16201.4 МБ), а с тарифом smart - меньше сообщений (в среднем = 19592.8 МБ)\n",
    "- Стандартное отклонение и дисперсия для клиентов с тарифом ultra больше (ст. откл = 8291), а для тарифа smart - меньше (ст. откл. = 3579), это означает, что разброс в использованном интернет-трафике для клиентов с ultra - больше.\n",
    "- Почти 62% всех клиентов с тарифом smart превышают лимит по интернету, а с тарифом ultra - около 11%."
   ]
  },
  {
   "cell_type": "markdown",
   "metadata": {},
   "source": [
    "Посмотрим на выручку:"
   ]
  },
  {
   "cell_type": "code",
   "execution_count": 69,
   "metadata": {},
   "outputs": [
    {
     "name": "stdout",
     "output_type": "stream",
     "text": [
      "Информация для тарифа smart: \n",
      "Среднее по тарифу smart для данных по final_profit равно: 1329.7 \n",
      "Медиана по тарифу smart для данных по final_profit равно: 1183.1 \n",
      "Дисперсия по тарифу smart для данных по final_profit равна: 367217.1 \n",
      "Стандартное отклонение по тарифу smart для данных по final_profit равно: 606 \n"
     ]
    }
   ],
   "source": [
    "profit_smart = find_statistics('final_profit', 'smart')"
   ]
  },
  {
   "cell_type": "code",
   "execution_count": 70,
   "metadata": {},
   "outputs": [
    {
     "name": "stdout",
     "output_type": "stream",
     "text": [
      "Информация для тарифа ultra: \n",
      "Среднее по тарифу ultra для данных по final_profit равно: 2087.4 \n",
      "Медиана по тарифу ultra для данных по final_profit равно: 1950.0 \n",
      "Дисперсия по тарифу ultra для данных по final_profit равна: 89897.6 \n",
      "Стандартное отклонение по тарифу ultra для данных по final_profit равно: 300 \n"
     ]
    }
   ],
   "source": [
    "profit_ultra = find_statistics('final_profit', 'ultra')"
   ]
  },
  {
   "cell_type": "code",
   "execution_count": 71,
   "metadata": {},
   "outputs": [
    {
     "data": {
      "image/png": "[encoded data removed]",
      "text/plain": [
       "<Figure size 432x288 with 1 Axes>"
      ]
     },
     "metadata": {
      "needs_background": "light"
     },
     "output_type": "display_data"
    }
   ],
   "source": [
    "build_hist(profit_smart, profit_ultra, ' \"Выручка\" ', xrange=(0,4000), bins = 10)"
   ]
  },
  {
   "cell_type": "code",
   "execution_count": 72,
   "metadata": {},
   "outputs": [
    {
     "name": "stdout",
     "output_type": "stream",
     "text": [
      "Клиенты с тарифом smart приносят больше выручки (465404.27) компании, чем ultra (308937.78). Разница составляет: 156466.49\n",
      "Средняя прибыль на одного клиента с тарифом ultra больше (2087.42), чем с smart (1329.73). Разница составляет: 757.69\n"
     ]
    }
   ],
   "source": [
    "if profit_smart.sum() > profit_ultra.sum():\n",
    "    print('Клиенты с тарифом smart приносят больше выручки ({0}) компании, чем ultra ({1}). Разница составляет: {2}'\n",
    "          .format(round(profit_smart.sum(), 2), round(profit_ultra.sum(), 2), round(profit_smart.sum() - profit_ultra.sum(), 2)))\n",
    "else:\n",
    "    print('Клиенты с тарифом ultra приносят больше выручки ({0}) компании, чем smart ({1}). Разница составляет: {2}'\n",
    "          .format(round(profit_ultra.sum(), 2), round(profit_smart.sum(), 2), round(profit_ultra.sum() - profit_smart.sum(), 2)))\n",
    "if profit_smart.sum() / profit_smart.count() > profit_ultra.sum() / profit_ultra.count():\n",
    "    print('Средняя прибыль на одного клиента с тарифом smart больше ({0}), чем с ultra ({1}). Разница составляет: {2}'\n",
    "          .format(round(profit_smart.sum() / profit_smart.count(), 2), round(profit_ultra.sum() / profit_ultra.count(), 2), round(profit_smart.sum() / profit_smart.count() - profit_ultra.sum() / profit_ultra.count(), 2)))\n",
    "else: \n",
    "    print('Средняя прибыль на одного клиента с тарифом ultra больше ({0}), чем с smart ({1}). Разница составляет: {2}'\n",
    "          .format(round(profit_ultra.sum() / profit_ultra.count(), 2), round(profit_smart.sum() / profit_smart.count(), 2), round(profit_ultra.sum() / profit_ultra.count() - profit_smart.sum() / profit_smart.count(), 2)))"
   ]
  },
  {
   "cell_type": "markdown",
   "metadata": {},
   "source": [
    "Пик на гистограмме по тарифу ultra объясняется высокой абонентной платой. Однако, можно заметить, что клиенты с тарифом ultra реже превышают лимиты по тарифу и, соответственно, переплачивают. Для клиентов с smart можно заметить меньший по размеру пик и характерное смещение в правую сторону относительно ultra. Это говорит о том, что хоть smart и дешевле по тарифному плану, клиент в итоге может платить больше, чем за тариф ultra.\n",
    "Тариф smart приносит больше прибыли, чем ultra, почти на 850 тыс, но прибыль на одного клиента для тарифа ultra больше (разница в прибыли на одного клиента составляет 776.43)"
   ]
  },
  {
   "cell_type": "markdown",
   "metadata": {},
   "source": [
    "Вывод по пункту 3:\n",
    "- Были проанализированы данные использования минут, сообщений и интернета для двух клиентов двух тарифом smart и ultra.\n",
    "- Среднее использование минут, сообщений и интернета больше для клиентов с тарифом ultra.\n",
    "- Доли клиентов, использующих тариф smart и превышающий объем услуг по тарифному плану, значительно больше по сравнению с клиентами с тарифом ultra. Доли превышений для тарифа smart составляет: 29% - для минут, 23% - для сообщений и 62% для интернета; по тарифу ultra: 0% для минут и сообщений, 11% для интернета\n",
    "- Разброс значений в использованных минутах, сообщений и объеме интернета для клиентов с тарифом ultra больше, чем для smart. При этом данные для клиентов с тарифом ultra смещены в сторону больших значений относительно клиентов с smart.\n",
    "- Для минут и интернета - распределение гистограмм близко к нормальному, а для сообщений - к распределению Пуассона.\n",
    "- Для данных по трем категориям среднее и медиана почти не отличаются"
   ]
  },
  {
   "cell_type": "markdown",
   "metadata": {},
   "source": [
    "# Шаг 4. Проверка гипотез"
   ]
  },
  {
   "cell_type": "markdown",
   "metadata": {},
   "source": [
    "- пояснить формулировку нулевой и альтернативный гипотезы;\n",
    "- пояснить какой критерий использовать для проверки гипотез и почему"
   ]
  },
  {
   "cell_type": "markdown",
   "metadata": {},
   "source": [
    "**Проверяем гипотезу: средняя выручка пользователей тарифов «Ультра» и «Смарт» различаются**"
   ]
  },
  {
   "cell_type": "markdown",
   "metadata": {},
   "source": [
    "Нулевая гипотеза H0:\n",
    "\n",
    "\"Средняя выручка пользователей тарифов «Ультра» равна «Смарт»\"\n",
    "\n",
    "Альтернативная гипотеза H1:\n",
    "\n",
    "\"Средняя выручка пользователей тарифов «Ультра» не равна «Смарт»\""
   ]
  },
  {
   "cell_type": "markdown",
   "metadata": {},
   "source": [
    "Уровень значимости принимается: alpha = 0.05"
   ]
  },
  {
   "cell_type": "markdown",
   "metadata": {},
   "source": [
    "Для проверки гипотезы о равенстве среднего двух генеральных совокупностей по взятым из них выборкам (так как выборки не связаны между собой) используем метод scipy.stats.ttest_ind(array1, array_2, equal_var)"
   ]
  },
  {
   "cell_type": "code",
   "execution_count": 73,
   "metadata": {},
   "outputs": [],
   "source": [
    "profit_smart = profit[profit['tariff_name']=='smart']['final_profit']\n",
    "profit_ultra = profit[profit['tariff_name']=='ultra']['final_profit']"
   ]
  },
  {
   "cell_type": "code",
   "execution_count": 74,
   "metadata": {},
   "outputs": [
    {
     "name": "stdout",
     "output_type": "stream",
     "text": [
      "p-значение 2.7240946993530856e-246\n",
      "Отвергаем нулевую гипотезу\n"
     ]
    }
   ],
   "source": [
    "alpha = 0.05\n",
    "\n",
    "results = st.ttest_ind(profit_smart, profit_ultra, equal_var = False) #False т.к. наблюдали разные дисперсии для выборок выше\n",
    "print('p-значение', results.pvalue)\n",
    "\n",
    "if results.pvalue < alpha:\n",
    "    print('Отвергаем нулевую гипотезу')\n",
    "else:\n",
    "    print('Не получилось отвергнуть нулевую гипотезу')"
   ]
  },
  {
   "cell_type": "markdown",
   "metadata": {},
   "source": [
    "Отвергаем нулевую гипотезу, значит средняя выручка пользователей тарифов «Ультра» и «Смарт» различаются"
   ]
  },
  {
   "cell_type": "markdown",
   "metadata": {},
   "source": [
    "**Проверяем гипотезу: средняя выручка пользователей из Москвы отличается от выручки пользователей из других регионов**"
   ]
  },
  {
   "cell_type": "markdown",
   "metadata": {},
   "source": [
    "Нулевая гипотеза H0:\n",
    "\n",
    "\"Средняя выручка пользователей из Москвы равна выручке пользователей из других регионов\"\n",
    "\n",
    "Альтернативная гипотеза H1:\n",
    "\n",
    "\"Средняя выручка пользователей из Москвы не равна выручке пользователей из других регионов\""
   ]
  },
  {
   "cell_type": "markdown",
   "metadata": {},
   "source": [
    "Уровень значимости принимается: alpha = 0.05"
   ]
  },
  {
   "cell_type": "markdown",
   "metadata": {},
   "source": [
    "Для проверки гипотезы о равенстве среднего двух генеральных совокупностей по взятым из них выборкам (так как выборки не связаны между собой) используем метод scipy.stats.ttest_ind(array1, array_2, equal_var)"
   ]
  },
  {
   "cell_type": "code",
   "execution_count": 75,
   "metadata": {},
   "outputs": [],
   "source": [
    "profit_moscow = profit[profit['city']=='Москва']['final_profit']\n",
    "profit_not_moscow = profit[profit['city']!='Москва']['final_profit']"
   ]
  },
  {
   "cell_type": "code",
   "execution_count": 76,
   "metadata": {},
   "outputs": [
    {
     "name": "stdout",
     "output_type": "stream",
     "text": [
      "p-значение 0.5126564657748214\n",
      "Не получилось отвергнуть нулевую гипотезу\n"
     ]
    }
   ],
   "source": [
    "alpha = 0.05\n",
    "\n",
    "results = st.ttest_ind(profit_moscow, profit_not_moscow, equal_var = False) #False т.к. наблюдали разные дисперсии для выборок выше\n",
    "print('p-значение', results.pvalue)\n",
    "\n",
    "if results.pvalue < alpha:\n",
    "    print('Отвергаем нулевую гипотезу')\n",
    "else:\n",
    "    print('Не получилось отвергнуть нулевую гипотезу')"
   ]
  },
  {
   "cell_type": "markdown",
   "metadata": {},
   "source": [
    "Не отвергаем нулевую гипотезу. Значит, принимаем, что средняя выручка по пользователям из Москвы равна выручке по пользователям из других регионов."
   ]
  },
  {
   "cell_type": "markdown",
   "metadata": {},
   "source": [
    "Выводы по проверке гипотез:\n",
    "- Уровень значимости принят равным alpha = 0.05, общепринятое пороговое значение\n",
    "- Для первой гипотезы. Отвергаем нулевую гипотезу H0. Принимаем альтернативную H1:\n",
    "\"Средняя выручка пользователей тарифов «Ультра» не равна «Смарт»\"\n",
    "- Для второй гипотезы. Не отвергаем нулевую гипотезу H0:\n",
    "\"Средняя выручка пользователей из Москвы равна выручке пользователей из других регионов\""
   ]
  },
  {
   "cell_type": "markdown",
   "metadata": {},
   "source": [
    "# Шаг 5. Общий вывод"
   ]
  },
  {
   "cell_type": "markdown",
   "metadata": {},
   "source": [
    "- Сделан предварительный анализ тарифов на небольшой выборке клиентов, по данным 500 пользователей «Мегалайна». Выделены и обработаны проблемные места в данных (по пропускам, формату данных, приведению к репрезентативному виду).\n",
    "- Посчитано количество сделанных звонков и израсходованных минут разговора по месяцам; количество отправленных сообщений по месяцам; объем израсходованного интернет-трафика по месяцам; помесячную выручку с каждого пользователя. Было замечено равномерное увеличение количества количества минут, сообщений, интернет сессий и использованного трафика от января к декабрю. Возможно, это связано с увеличивающейся популярностью компании на рынке.\n",
    "- Доли клиентов, использующих тариф smart и превышающий объем услуг по тарифному плану, значительно больше по сравнению с клиентами с тарифом ultra. Доли превышений абонентских услуг для тарифа smart составляет: 29% - для минут, 23% - для сообщений и 62% для интернета; по тарифу ultra: 0% для минут и сообщений, 11% для интернета\n",
    "- Часть клиентов, которая использует тариф smart и не укладывается в лимит абонентского тарифа, платят в итоге большую сумму, чем могли бы заплатить за абонентскую плату по тарифу ultra.\n",
    "- Разброс значений в использованных минутах, сообщений и объеме интернета для клиентов с тарифом ultra больше, чем для smart. При этом данные по использованным услугам (минуты, сообщения, интернет) для клиентов с тарифом ultra смещены в сторону больших значений относительно клиентов с smart.\n",
    "- Для минут и интернета - распределение гистограмм близко к нормальному, а для сообщений - к распределению Пуассона.\n",
    "- Для данных по трем категориям (минуты, сообщения, использованный интернет) среднее и медиана врамках одного тарифа почти не отличаются\n",
    "- Были проверены две гипотезы. Принято, что средняя выручка пользователей тарифов «Ультра» не равна «Смарт», и что средняя выручка пользователей из Москвы равна выручке пользователей из других регионов\" (Уровень значимости принят равным alpha = 0.05, общепринятое пороговое значение)\n",
    "- Тариф smart приносит больше прибыли, чем ultra, почти на 850 тыс, но средняя прибыль на одного клиента для тарифа ultra больше (разница в прибыли на одного клиента составляет 776.43). Следовательно, «Мегалайну» необходимо сфокусироваться на продвижении тарифа ultra, это позволит, во-первых, уменьшить флуктуацию в прибыли и, во-вторых, увеличить свою итоговую прибыль."
   ]
  }
 ],
 "metadata": {
  "ExecuteTimeLog": [
   {
    "duration": 1177,
    "start_time": "2021-11-25T08:49:40.856Z"
   },
   {
    "duration": 2283,
    "start_time": "2021-11-25T08:51:39.482Z"
   },
   {
    "duration": 1815,
    "start_time": "2021-11-25T08:52:20.496Z"
   },
   {
    "duration": 1816,
    "start_time": "2021-11-25T08:52:33.358Z"
   },
   {
    "duration": 3,
    "start_time": "2021-11-25T08:52:39.020Z"
   },
   {
    "duration": 1886,
    "start_time": "2021-11-25T08:52:39.162Z"
   },
   {
    "duration": 1876,
    "start_time": "2021-11-25T08:53:21.066Z"
   },
   {
    "duration": 1594,
    "start_time": "2021-11-26T08:34:50.867Z"
   },
   {
    "duration": 2444,
    "start_time": "2021-11-26T08:34:52.464Z"
   },
   {
    "duration": 2561,
    "start_time": "2021-11-26T08:38:13.304Z"
   },
   {
    "duration": 2195,
    "start_time": "2021-11-26T08:38:20.364Z"
   },
   {
    "duration": 2720,
    "start_time": "2021-11-26T08:39:43.579Z"
   },
   {
    "duration": 956,
    "start_time": "2021-11-26T08:39:59.103Z"
   },
   {
    "duration": 67,
    "start_time": "2021-11-26T08:43:37.391Z"
   },
   {
    "duration": 53,
    "start_time": "2021-11-26T08:43:48.025Z"
   },
   {
    "duration": 59,
    "start_time": "2021-11-26T08:43:52.176Z"
   },
   {
    "duration": 8,
    "start_time": "2021-11-26T08:44:11.617Z"
   },
   {
    "duration": 11,
    "start_time": "2021-11-26T08:44:14.528Z"
   },
   {
    "duration": 27,
    "start_time": "2021-11-26T08:44:53.751Z"
   },
   {
    "duration": 35,
    "start_time": "2021-11-26T08:44:54.077Z"
   },
   {
    "duration": 2568,
    "start_time": "2021-11-26T09:08:21.693Z"
   },
   {
    "duration": 15,
    "start_time": "2021-11-26T09:08:24.264Z"
   },
   {
    "duration": 570,
    "start_time": "2021-11-26T09:08:24.282Z"
   },
   {
    "duration": 36,
    "start_time": "2021-11-26T09:08:24.854Z"
   },
   {
    "duration": 11,
    "start_time": "2021-11-26T09:09:53.277Z"
   },
   {
    "duration": 10,
    "start_time": "2021-11-26T09:09:59.555Z"
   },
   {
    "duration": 8,
    "start_time": "2021-11-26T09:10:08.263Z"
   },
   {
    "duration": 20,
    "start_time": "2021-11-26T09:19:02.578Z"
   },
   {
    "duration": 11,
    "start_time": "2021-11-26T09:19:45.354Z"
   },
   {
    "duration": 27,
    "start_time": "2021-11-26T09:19:45.520Z"
   },
   {
    "duration": 34,
    "start_time": "2021-11-26T09:19:45.708Z"
   },
   {
    "duration": 112,
    "start_time": "2021-11-26T09:19:46.235Z"
   },
   {
    "duration": 25,
    "start_time": "2021-11-26T09:19:48.099Z"
   },
   {
    "duration": 9,
    "start_time": "2021-11-26T09:36:36.391Z"
   },
   {
    "duration": 21,
    "start_time": "2021-11-26T09:36:37.071Z"
   },
   {
    "duration": 19,
    "start_time": "2021-11-26T09:36:37.459Z"
   },
   {
    "duration": 57,
    "start_time": "2021-11-26T09:36:37.966Z"
   },
   {
    "duration": 21,
    "start_time": "2021-11-26T09:36:38.511Z"
   },
   {
    "duration": 18,
    "start_time": "2021-11-26T09:43:26.836Z"
   },
   {
    "duration": 36,
    "start_time": "2021-11-26T09:43:27.193Z"
   },
   {
    "duration": 51,
    "start_time": "2021-11-26T09:43:27.598Z"
   },
   {
    "duration": 127,
    "start_time": "2021-11-26T09:43:27.919Z"
   },
   {
    "duration": 36,
    "start_time": "2021-11-26T09:43:28.201Z"
   },
   {
    "duration": 13,
    "start_time": "2021-11-26T11:30:55.162Z"
   },
   {
    "duration": 22,
    "start_time": "2021-11-26T11:30:55.624Z"
   },
   {
    "duration": 54,
    "start_time": "2021-11-26T11:30:56.029Z"
   },
   {
    "duration": 91,
    "start_time": "2021-11-26T11:30:56.286Z"
   },
   {
    "duration": 22,
    "start_time": "2021-11-26T11:30:56.942Z"
   },
   {
    "duration": 18,
    "start_time": "2021-11-26T11:31:53.395Z"
   },
   {
    "duration": 12,
    "start_time": "2021-11-26T11:31:53.614Z"
   },
   {
    "duration": 64,
    "start_time": "2021-11-26T11:31:53.843Z"
   },
   {
    "duration": 8,
    "start_time": "2021-11-26T11:31:54.031Z"
   },
   {
    "duration": 8,
    "start_time": "2021-11-26T11:31:54.233Z"
   },
   {
    "duration": 1323,
    "start_time": "2021-11-26T12:29:29.439Z"
   },
   {
    "duration": 1214,
    "start_time": "2021-11-26T12:30:31.570Z"
   },
   {
    "duration": 313,
    "start_time": "2021-11-26T18:18:27.608Z"
   },
   {
    "duration": 1200,
    "start_time": "2021-11-26T18:18:37.922Z"
   },
   {
    "duration": 447,
    "start_time": "2021-11-26T18:18:39.123Z"
   },
   {
    "duration": 15,
    "start_time": "2021-11-26T18:18:39.572Z"
   },
   {
    "duration": 15,
    "start_time": "2021-11-26T18:18:39.589Z"
   },
   {
    "duration": 17,
    "start_time": "2021-11-26T18:18:39.606Z"
   },
   {
    "duration": 7,
    "start_time": "2021-11-26T18:18:39.625Z"
   },
   {
    "duration": 32,
    "start_time": "2021-11-26T18:18:39.633Z"
   },
   {
    "duration": 13,
    "start_time": "2021-11-26T18:18:39.669Z"
   },
   {
    "duration": 24,
    "start_time": "2021-11-26T18:18:39.685Z"
   },
   {
    "duration": 54,
    "start_time": "2021-11-26T18:18:39.711Z"
   },
   {
    "duration": 135,
    "start_time": "2021-11-26T18:18:39.767Z"
   },
   {
    "duration": 21,
    "start_time": "2021-11-26T18:18:39.904Z"
   },
   {
    "duration": 16,
    "start_time": "2021-11-26T18:18:39.927Z"
   },
   {
    "duration": 28,
    "start_time": "2021-11-26T18:18:39.945Z"
   },
   {
    "duration": 24,
    "start_time": "2021-11-26T18:18:39.975Z"
   },
   {
    "duration": 72,
    "start_time": "2021-11-26T18:18:40.002Z"
   },
   {
    "duration": 14,
    "start_time": "2021-11-26T18:18:40.076Z"
   },
   {
    "duration": 21,
    "start_time": "2021-11-26T18:18:40.092Z"
   },
   {
    "duration": 26,
    "start_time": "2021-11-26T18:18:40.116Z"
   },
   {
    "duration": 36,
    "start_time": "2021-11-26T18:18:40.145Z"
   },
   {
    "duration": 68,
    "start_time": "2021-11-26T18:18:40.183Z"
   },
   {
    "duration": 17,
    "start_time": "2021-11-26T18:18:40.265Z"
   },
   {
    "duration": 8,
    "start_time": "2021-11-26T18:18:40.284Z"
   },
   {
    "duration": 11,
    "start_time": "2021-11-26T18:18:40.294Z"
   },
   {
    "duration": 31,
    "start_time": "2021-11-26T18:18:40.307Z"
   },
   {
    "duration": 6,
    "start_time": "2021-11-26T18:18:40.364Z"
   },
   {
    "duration": 7,
    "start_time": "2021-11-26T18:18:40.372Z"
   },
   {
    "duration": 1164,
    "start_time": "2021-11-26T18:18:40.381Z"
   },
   {
    "duration": 271,
    "start_time": "2021-11-26T18:23:43.265Z"
   },
   {
    "duration": 4,
    "start_time": "2021-11-26T18:25:17.935Z"
   },
   {
    "duration": 10,
    "start_time": "2021-11-26T18:26:27.818Z"
   },
   {
    "duration": 14,
    "start_time": "2021-11-26T18:27:17.833Z"
   },
   {
    "duration": 4,
    "start_time": "2021-11-26T18:30:57.728Z"
   },
   {
    "duration": 8,
    "start_time": "2021-11-26T18:30:57.837Z"
   },
   {
    "duration": 8,
    "start_time": "2021-11-26T18:33:20.587Z"
   },
   {
    "duration": 364,
    "start_time": "2021-11-26T18:33:46.695Z"
   },
   {
    "duration": 272,
    "start_time": "2021-11-26T18:33:59.421Z"
   },
   {
    "duration": 6,
    "start_time": "2021-11-26T18:34:03.481Z"
   },
   {
    "duration": 4,
    "start_time": "2021-11-26T18:34:11.912Z"
   },
   {
    "duration": 6,
    "start_time": "2021-11-26T18:34:12.076Z"
   },
   {
    "duration": 7,
    "start_time": "2021-11-26T18:35:14.712Z"
   },
   {
    "duration": 9,
    "start_time": "2021-11-26T18:35:15.693Z"
   },
   {
    "duration": 5,
    "start_time": "2021-11-26T18:36:04.706Z"
   },
   {
    "duration": 30,
    "start_time": "2021-11-26T18:36:04.713Z"
   },
   {
    "duration": 8,
    "start_time": "2021-11-26T18:36:04.790Z"
   },
   {
    "duration": 338,
    "start_time": "2021-11-26T18:36:24.933Z"
   },
   {
    "duration": 5,
    "start_time": "2021-11-26T18:36:49.004Z"
   },
   {
    "duration": 16,
    "start_time": "2021-11-26T18:36:49.011Z"
   },
   {
    "duration": 12,
    "start_time": "2021-11-26T18:36:49.143Z"
   },
   {
    "duration": 3,
    "start_time": "2021-11-26T18:37:39.113Z"
   },
   {
    "duration": 507,
    "start_time": "2021-11-26T18:37:39.118Z"
   },
   {
    "duration": 10,
    "start_time": "2021-11-26T18:37:39.627Z"
   },
   {
    "duration": 7,
    "start_time": "2021-11-26T18:37:39.639Z"
   },
   {
    "duration": 21,
    "start_time": "2021-11-26T18:37:39.648Z"
   },
   {
    "duration": 12,
    "start_time": "2021-11-26T18:37:39.671Z"
   },
   {
    "duration": 6,
    "start_time": "2021-11-26T18:37:39.685Z"
   },
   {
    "duration": 10,
    "start_time": "2021-11-26T18:37:39.693Z"
   },
   {
    "duration": 22,
    "start_time": "2021-11-26T18:37:39.707Z"
   },
   {
    "duration": 70,
    "start_time": "2021-11-26T18:37:39.732Z"
   },
   {
    "duration": 149,
    "start_time": "2021-11-26T18:37:39.804Z"
   },
   {
    "duration": 38,
    "start_time": "2021-11-26T18:37:39.955Z"
   },
   {
    "duration": 10,
    "start_time": "2021-11-26T18:37:39.995Z"
   },
   {
    "duration": 42,
    "start_time": "2021-11-26T18:37:40.007Z"
   },
   {
    "duration": 22,
    "start_time": "2021-11-26T18:37:40.063Z"
   },
   {
    "duration": 86,
    "start_time": "2021-11-26T18:37:40.087Z"
   },
   {
    "duration": 22,
    "start_time": "2021-11-26T18:37:40.175Z"
   },
   {
    "duration": 15,
    "start_time": "2021-11-26T18:37:40.200Z"
   },
   {
    "duration": 53,
    "start_time": "2021-11-26T18:37:40.217Z"
   },
   {
    "duration": 42,
    "start_time": "2021-11-26T18:37:40.272Z"
   },
   {
    "duration": 117,
    "start_time": "2021-11-26T18:37:40.316Z"
   },
   {
    "duration": 36,
    "start_time": "2021-11-26T18:37:40.436Z"
   },
   {
    "duration": 13,
    "start_time": "2021-11-26T18:37:40.475Z"
   },
   {
    "duration": 11,
    "start_time": "2021-11-26T18:37:40.490Z"
   },
   {
    "duration": 62,
    "start_time": "2021-11-26T18:37:40.504Z"
   },
   {
    "duration": 7,
    "start_time": "2021-11-26T18:37:40.569Z"
   },
   {
    "duration": 10,
    "start_time": "2021-11-26T18:37:40.579Z"
   },
   {
    "duration": 11,
    "start_time": "2021-11-26T18:37:40.591Z"
   },
   {
    "duration": 12,
    "start_time": "2021-11-26T18:37:40.604Z"
   },
   {
    "duration": 10,
    "start_time": "2021-11-26T18:37:40.618Z"
   },
   {
    "duration": 10,
    "start_time": "2021-11-26T18:41:57.214Z"
   },
   {
    "duration": 15,
    "start_time": "2021-11-26T18:42:13.135Z"
   },
   {
    "duration": 9,
    "start_time": "2021-11-26T18:43:02.668Z"
   },
   {
    "duration": 14,
    "start_time": "2021-11-26T18:54:34.147Z"
   },
   {
    "duration": 5,
    "start_time": "2021-11-26T18:54:55.570Z"
   },
   {
    "duration": 3,
    "start_time": "2021-11-26T18:59:18.772Z"
   },
   {
    "duration": 406,
    "start_time": "2021-11-26T18:59:18.779Z"
   },
   {
    "duration": 10,
    "start_time": "2021-11-26T18:59:19.187Z"
   },
   {
    "duration": 12,
    "start_time": "2021-11-26T18:59:19.200Z"
   },
   {
    "duration": 32,
    "start_time": "2021-11-26T18:59:19.214Z"
   },
   {
    "duration": 11,
    "start_time": "2021-11-26T18:59:19.248Z"
   },
   {
    "duration": 17,
    "start_time": "2021-11-26T18:59:19.261Z"
   },
   {
    "duration": 13,
    "start_time": "2021-11-26T18:59:19.280Z"
   },
   {
    "duration": 37,
    "start_time": "2021-11-26T18:59:19.296Z"
   },
   {
    "duration": 27,
    "start_time": "2021-11-26T18:59:19.336Z"
   },
   {
    "duration": 122,
    "start_time": "2021-11-26T18:59:19.365Z"
   },
   {
    "duration": 23,
    "start_time": "2021-11-26T18:59:19.489Z"
   },
   {
    "duration": 7,
    "start_time": "2021-11-26T18:59:19.514Z"
   },
   {
    "duration": 40,
    "start_time": "2021-11-26T18:59:19.523Z"
   },
   {
    "duration": 14,
    "start_time": "2021-11-26T18:59:19.565Z"
   },
   {
    "duration": 46,
    "start_time": "2021-11-26T18:59:19.581Z"
   },
   {
    "duration": 40,
    "start_time": "2021-11-26T18:59:19.629Z"
   },
   {
    "duration": 26,
    "start_time": "2021-11-26T18:59:19.671Z"
   },
   {
    "duration": 26,
    "start_time": "2021-11-26T18:59:19.699Z"
   },
   {
    "duration": 32,
    "start_time": "2021-11-26T18:59:19.726Z"
   },
   {
    "duration": 61,
    "start_time": "2021-11-26T18:59:19.764Z"
   },
   {
    "duration": 17,
    "start_time": "2021-11-26T18:59:19.827Z"
   },
   {
    "duration": 20,
    "start_time": "2021-11-26T18:59:19.845Z"
   },
   {
    "duration": 22,
    "start_time": "2021-11-26T18:59:19.868Z"
   },
   {
    "duration": 35,
    "start_time": "2021-11-26T18:59:19.892Z"
   },
   {
    "duration": 13,
    "start_time": "2021-11-26T18:59:19.929Z"
   },
   {
    "duration": 18,
    "start_time": "2021-11-26T18:59:19.944Z"
   },
   {
    "duration": 14,
    "start_time": "2021-11-26T18:59:19.965Z"
   },
   {
    "duration": 34,
    "start_time": "2021-11-26T18:59:19.981Z"
   },
   {
    "duration": 33,
    "start_time": "2021-11-26T18:59:20.017Z"
   },
   {
    "duration": 414,
    "start_time": "2021-11-26T18:59:20.052Z"
   },
   {
    "duration": 28,
    "start_time": "2021-11-26T18:59:20.468Z"
   },
   {
    "duration": 5,
    "start_time": "2021-11-26T18:59:20.498Z"
   },
   {
    "duration": 5,
    "start_time": "2021-11-26T18:59:34.412Z"
   },
   {
    "duration": 8,
    "start_time": "2021-11-26T19:03:50.909Z"
   },
   {
    "duration": 6,
    "start_time": "2021-11-26T19:03:51.149Z"
   },
   {
    "duration": 23,
    "start_time": "2021-11-26T19:05:43.214Z"
   },
   {
    "duration": 806,
    "start_time": "2021-11-26T19:06:02.335Z"
   },
   {
    "duration": 557,
    "start_time": "2021-11-26T19:06:34.635Z"
   },
   {
    "duration": 4,
    "start_time": "2021-11-26T19:06:55.927Z"
   },
   {
    "duration": 417,
    "start_time": "2021-11-26T19:06:56.377Z"
   },
   {
    "duration": 9,
    "start_time": "2021-11-26T19:06:56.796Z"
   },
   {
    "duration": 6,
    "start_time": "2021-11-26T19:06:56.808Z"
   },
   {
    "duration": 17,
    "start_time": "2021-11-26T19:06:56.816Z"
   },
   {
    "duration": 7,
    "start_time": "2021-11-26T19:06:56.835Z"
   },
   {
    "duration": 22,
    "start_time": "2021-11-26T19:06:56.844Z"
   },
   {
    "duration": 8,
    "start_time": "2021-11-26T19:06:58.086Z"
   },
   {
    "duration": 28,
    "start_time": "2021-11-26T19:06:58.875Z"
   },
   {
    "duration": 43,
    "start_time": "2021-11-26T19:06:59.353Z"
   },
   {
    "duration": 135,
    "start_time": "2021-11-26T19:07:03.953Z"
   },
   {
    "duration": 25,
    "start_time": "2021-11-26T19:07:04.371Z"
   },
   {
    "duration": 7,
    "start_time": "2021-11-26T19:07:04.658Z"
   },
   {
    "duration": 30,
    "start_time": "2021-11-26T19:07:04.667Z"
   },
   {
    "duration": 14,
    "start_time": "2021-11-26T19:07:05.234Z"
   },
   {
    "duration": 42,
    "start_time": "2021-11-26T19:07:05.537Z"
   },
   {
    "duration": 15,
    "start_time": "2021-11-26T19:07:06.697Z"
   },
   {
    "duration": 9,
    "start_time": "2021-11-26T19:07:06.983Z"
   },
   {
    "duration": 19,
    "start_time": "2021-11-26T19:07:07.433Z"
   },
   {
    "duration": 29,
    "start_time": "2021-11-26T19:07:07.673Z"
   },
   {
    "duration": 60,
    "start_time": "2021-11-26T19:07:08.121Z"
   },
   {
    "duration": 17,
    "start_time": "2021-11-26T19:07:08.183Z"
   },
   {
    "duration": 9,
    "start_time": "2021-11-26T19:07:08.281Z"
   },
   {
    "duration": 7,
    "start_time": "2021-11-26T19:07:10.082Z"
   },
   {
    "duration": 27,
    "start_time": "2021-11-26T19:07:11.171Z"
   },
   {
    "duration": 7,
    "start_time": "2021-11-26T19:07:12.259Z"
   },
   {
    "duration": 7,
    "start_time": "2021-11-26T19:07:13.171Z"
   },
   {
    "duration": 5,
    "start_time": "2021-11-26T19:07:13.930Z"
   },
   {
    "duration": 7,
    "start_time": "2021-11-26T19:07:15.335Z"
   },
   {
    "duration": 8,
    "start_time": "2021-11-26T19:07:15.643Z"
   },
   {
    "duration": 479,
    "start_time": "2021-11-26T19:07:16.022Z"
   },
   {
    "duration": 26,
    "start_time": "2021-11-26T19:07:16.503Z"
   },
   {
    "duration": 5,
    "start_time": "2021-11-26T19:07:16.531Z"
   },
   {
    "duration": 31,
    "start_time": "2021-11-26T19:07:16.538Z"
   },
   {
    "duration": 238,
    "start_time": "2021-11-26T19:11:16.931Z"
   },
   {
    "duration": 231,
    "start_time": "2021-11-26T19:11:17.321Z"
   },
   {
    "duration": -14047,
    "start_time": "2021-11-26T19:11:31.601Z"
   },
   {
    "duration": 224,
    "start_time": "2021-11-26T19:11:43.817Z"
   },
   {
    "duration": 21,
    "start_time": "2021-11-26T19:11:44.043Z"
   },
   {
    "duration": 9,
    "start_time": "2021-11-26T19:11:44.116Z"
   },
   {
    "duration": 270,
    "start_time": "2021-11-26T19:12:12.146Z"
   },
   {
    "duration": -12673,
    "start_time": "2021-11-26T19:12:25.091Z"
   },
   {
    "duration": -12699,
    "start_time": "2021-11-26T19:12:25.117Z"
   },
   {
    "duration": 3,
    "start_time": "2021-11-26T19:12:34.190Z"
   },
   {
    "duration": 429,
    "start_time": "2021-11-26T19:12:34.195Z"
   },
   {
    "duration": 10,
    "start_time": "2021-11-26T19:12:34.627Z"
   },
   {
    "duration": 11,
    "start_time": "2021-11-26T19:12:34.639Z"
   },
   {
    "duration": 31,
    "start_time": "2021-11-26T19:12:34.651Z"
   },
   {
    "duration": 7,
    "start_time": "2021-11-26T19:12:34.683Z"
   },
   {
    "duration": 7,
    "start_time": "2021-11-26T19:12:34.692Z"
   },
   {
    "duration": 10,
    "start_time": "2021-11-26T19:12:34.702Z"
   },
   {
    "duration": 25,
    "start_time": "2021-11-26T19:12:34.715Z"
   },
   {
    "duration": 49,
    "start_time": "2021-11-26T19:12:34.741Z"
   },
   {
    "duration": 126,
    "start_time": "2021-11-26T19:12:34.792Z"
   },
   {
    "duration": 20,
    "start_time": "2021-11-26T19:12:34.920Z"
   },
   {
    "duration": 23,
    "start_time": "2021-11-26T19:12:34.941Z"
   },
   {
    "duration": 23,
    "start_time": "2021-11-26T19:12:34.967Z"
   },
   {
    "duration": 18,
    "start_time": "2021-11-26T19:12:34.993Z"
   },
   {
    "duration": 90,
    "start_time": "2021-11-26T19:12:35.013Z"
   },
   {
    "duration": 23,
    "start_time": "2021-11-26T19:12:35.105Z"
   },
   {
    "duration": 10,
    "start_time": "2021-11-26T19:12:35.130Z"
   },
   {
    "duration": 35,
    "start_time": "2021-11-26T19:12:35.142Z"
   },
   {
    "duration": 28,
    "start_time": "2021-11-26T19:12:35.179Z"
   },
   {
    "duration": 87,
    "start_time": "2021-11-26T19:12:35.208Z"
   },
   {
    "duration": 17,
    "start_time": "2021-11-26T19:12:35.297Z"
   },
   {
    "duration": 8,
    "start_time": "2021-11-26T19:12:35.318Z"
   },
   {
    "duration": 7,
    "start_time": "2021-11-26T19:12:35.328Z"
   },
   {
    "duration": 28,
    "start_time": "2021-11-26T19:12:35.364Z"
   },
   {
    "duration": 6,
    "start_time": "2021-11-26T19:12:35.393Z"
   },
   {
    "duration": 9,
    "start_time": "2021-11-26T19:12:35.401Z"
   },
   {
    "duration": 8,
    "start_time": "2021-11-26T19:12:35.412Z"
   },
   {
    "duration": 14,
    "start_time": "2021-11-26T19:12:35.421Z"
   },
   {
    "duration": 45,
    "start_time": "2021-11-26T19:12:35.437Z"
   },
   {
    "duration": 628,
    "start_time": "2021-11-26T19:12:35.485Z"
   },
   {
    "duration": 39,
    "start_time": "2021-11-26T19:12:36.115Z"
   },
   {
    "duration": 5,
    "start_time": "2021-11-26T19:12:36.163Z"
   },
   {
    "duration": 48,
    "start_time": "2021-11-26T19:12:36.170Z"
   },
   {
    "duration": 215,
    "start_time": "2021-11-26T19:12:36.220Z"
   },
   {
    "duration": 16,
    "start_time": "2021-11-26T19:12:36.437Z"
   },
   {
    "duration": 13,
    "start_time": "2021-11-26T19:12:36.454Z"
   },
   {
    "duration": 324,
    "start_time": "2021-11-26T19:17:00.202Z"
   },
   {
    "duration": 19,
    "start_time": "2021-11-26T19:17:00.528Z"
   },
   {
    "duration": 17,
    "start_time": "2021-11-26T19:17:00.550Z"
   },
   {
    "duration": 279,
    "start_time": "2021-11-26T19:17:00.569Z"
   },
   {
    "duration": -12559,
    "start_time": "2021-11-26T19:17:13.410Z"
   },
   {
    "duration": 244,
    "start_time": "2021-11-26T19:17:08.646Z"
   },
   {
    "duration": 45,
    "start_time": "2021-11-26T19:18:34.057Z"
   },
   {
    "duration": 10,
    "start_time": "2021-11-26T19:18:47.132Z"
   },
   {
    "duration": 3,
    "start_time": "2021-11-26T19:29:43.685Z"
   },
   {
    "duration": 406,
    "start_time": "2021-11-28T14:28:15.666Z"
   },
   {
    "duration": 1851,
    "start_time": "2021-11-28T14:28:22.757Z"
   },
   {
    "duration": 529,
    "start_time": "2021-11-28T14:28:24.611Z"
   },
   {
    "duration": 19,
    "start_time": "2021-11-28T14:28:25.143Z"
   },
   {
    "duration": 19,
    "start_time": "2021-11-28T14:28:25.165Z"
   },
   {
    "duration": 31,
    "start_time": "2021-11-28T14:28:25.186Z"
   },
   {
    "duration": 12,
    "start_time": "2021-11-28T14:28:25.219Z"
   },
   {
    "duration": 9,
    "start_time": "2021-11-28T14:28:25.234Z"
   },
   {
    "duration": 47,
    "start_time": "2021-11-28T14:28:25.245Z"
   },
   {
    "duration": 27,
    "start_time": "2021-11-28T14:28:25.296Z"
   },
   {
    "duration": 70,
    "start_time": "2021-11-28T14:28:25.326Z"
   },
   {
    "duration": 149,
    "start_time": "2021-11-28T14:28:25.399Z"
   },
   {
    "duration": 33,
    "start_time": "2021-11-28T14:28:25.550Z"
   },
   {
    "duration": 12,
    "start_time": "2021-11-28T14:28:25.585Z"
   },
   {
    "duration": 30,
    "start_time": "2021-11-28T14:28:25.600Z"
   },
   {
    "duration": 51,
    "start_time": "2021-11-28T14:28:25.632Z"
   },
   {
    "duration": 58,
    "start_time": "2021-11-28T14:28:25.686Z"
   },
   {
    "duration": 37,
    "start_time": "2021-11-28T14:28:25.747Z"
   },
   {
    "duration": 12,
    "start_time": "2021-11-28T14:28:25.787Z"
   },
   {
    "duration": 25,
    "start_time": "2021-11-28T14:28:25.801Z"
   },
   {
    "duration": 70,
    "start_time": "2021-11-28T14:28:25.829Z"
   },
   {
    "duration": 111,
    "start_time": "2021-11-28T14:28:25.901Z"
   },
   {
    "duration": 22,
    "start_time": "2021-11-28T14:28:26.014Z"
   },
   {
    "duration": 11,
    "start_time": "2021-11-28T14:28:26.039Z"
   },
   {
    "duration": 35,
    "start_time": "2021-11-28T14:28:26.052Z"
   },
   {
    "duration": 42,
    "start_time": "2021-11-28T14:28:26.089Z"
   },
   {
    "duration": 13,
    "start_time": "2021-11-28T14:28:26.133Z"
   },
   {
    "duration": 7,
    "start_time": "2021-11-28T14:28:26.181Z"
   },
   {
    "duration": 6,
    "start_time": "2021-11-28T14:28:26.191Z"
   },
   {
    "duration": 17,
    "start_time": "2021-11-28T14:28:26.200Z"
   },
   {
    "duration": 17,
    "start_time": "2021-11-28T14:28:26.220Z"
   },
   {
    "duration": 530,
    "start_time": "2021-11-28T14:28:26.240Z"
   },
   {
    "duration": 42,
    "start_time": "2021-11-28T14:28:26.772Z"
   },
   {
    "duration": 7,
    "start_time": "2021-11-28T14:28:26.817Z"
   },
   {
    "duration": 20,
    "start_time": "2021-11-28T14:28:26.827Z"
   },
   {
    "duration": 335,
    "start_time": "2021-11-28T14:28:26.850Z"
   },
   {
    "duration": 23,
    "start_time": "2021-11-28T14:28:27.187Z"
   },
   {
    "duration": 10,
    "start_time": "2021-11-28T14:28:27.212Z"
   },
   {
    "duration": 417,
    "start_time": "2021-11-28T14:28:27.224Z"
   },
   {
    "duration": 55,
    "start_time": "2021-11-28T14:28:27.643Z"
   },
   {
    "duration": 5,
    "start_time": "2021-11-28T14:28:27.701Z"
   },
   {
    "duration": 28,
    "start_time": "2021-11-28T14:28:27.709Z"
   },
   {
    "duration": 10,
    "start_time": "2021-11-28T14:28:27.739Z"
   },
   {
    "duration": 570,
    "start_time": "2021-11-28T14:28:27.782Z"
   },
   {
    "duration": 101,
    "start_time": "2021-11-28T14:28:49.302Z"
   },
   {
    "duration": 93,
    "start_time": "2021-11-28T14:28:59.846Z"
   },
   {
    "duration": 93,
    "start_time": "2021-11-28T14:29:55.454Z"
   },
   {
    "duration": 93,
    "start_time": "2021-11-28T14:31:28.452Z"
   },
   {
    "duration": 100,
    "start_time": "2021-11-28T14:33:34.933Z"
   },
   {
    "duration": 512,
    "start_time": "2021-11-28T14:34:14.305Z"
   },
   {
    "duration": 107,
    "start_time": "2021-11-28T14:34:47.434Z"
   },
   {
    "duration": 72,
    "start_time": "2021-11-28T14:36:48.221Z"
   },
   {
    "duration": 69,
    "start_time": "2021-11-28T14:37:12.266Z"
   },
   {
    "duration": 69,
    "start_time": "2021-11-28T14:37:57.990Z"
   },
   {
    "duration": 70,
    "start_time": "2021-11-28T14:38:18.650Z"
   },
   {
    "duration": 70,
    "start_time": "2021-11-28T14:39:00.882Z"
   },
   {
    "duration": 70,
    "start_time": "2021-11-28T14:39:22.129Z"
   },
   {
    "duration": 512,
    "start_time": "2021-11-28T14:43:42.619Z"
   },
   {
    "duration": 7,
    "start_time": "2021-11-28T14:52:10.857Z"
   },
   {
    "duration": 14627,
    "start_time": "2021-11-28T14:57:54.747Z"
   },
   {
    "duration": 9685,
    "start_time": "2021-11-28T14:58:40.198Z"
   },
   {
    "duration": 5,
    "start_time": "2021-11-28T15:11:33.931Z"
   },
   {
    "duration": 7790,
    "start_time": "2021-11-28T15:11:34.820Z"
   },
   {
    "duration": 8541,
    "start_time": "2021-11-28T15:17:55.501Z"
   },
   {
    "duration": 8474,
    "start_time": "2021-11-28T15:18:17.064Z"
   },
   {
    "duration": 9337,
    "start_time": "2021-11-28T15:26:40.051Z"
   },
   {
    "duration": 7941,
    "start_time": "2021-11-28T15:27:41.422Z"
   },
   {
    "duration": 71,
    "start_time": "2021-11-28T15:29:18.704Z"
   },
   {
    "duration": 5,
    "start_time": "2021-11-28T15:29:20.467Z"
   },
   {
    "duration": 7450,
    "start_time": "2021-11-28T15:29:20.474Z"
   },
   {
    "duration": 89,
    "start_time": "2021-11-28T15:29:53.052Z"
   },
   {
    "duration": 5,
    "start_time": "2021-11-28T15:29:56.146Z"
   },
   {
    "duration": 7754,
    "start_time": "2021-11-28T15:29:56.154Z"
   },
   {
    "duration": 9297,
    "start_time": "2021-11-28T15:30:46.792Z"
   },
   {
    "duration": 7190,
    "start_time": "2021-11-28T15:32:18.678Z"
   },
   {
    "duration": 99,
    "start_time": "2021-11-28T15:33:00.947Z"
   },
   {
    "duration": 109,
    "start_time": "2021-11-28T15:33:11.206Z"
   },
   {
    "duration": 1173,
    "start_time": "2021-11-28T15:34:09.867Z"
   },
   {
    "duration": 671,
    "start_time": "2021-11-28T15:35:00.430Z"
   },
   {
    "duration": 529,
    "start_time": "2021-11-28T15:36:31.963Z"
   },
   {
    "duration": 788,
    "start_time": "2021-11-28T15:37:20.114Z"
   },
   {
    "duration": 770,
    "start_time": "2021-11-28T15:37:35.141Z"
   },
   {
    "duration": 532,
    "start_time": "2021-11-28T15:38:18.406Z"
   },
   {
    "duration": 333,
    "start_time": "2021-11-28T15:39:30.466Z"
   },
   {
    "duration": 105,
    "start_time": "2021-11-28T15:39:55.320Z"
   },
   {
    "duration": 373,
    "start_time": "2021-11-28T15:40:02.343Z"
   },
   {
    "duration": 342,
    "start_time": "2021-11-28T15:40:43.342Z"
   },
   {
    "duration": 365,
    "start_time": "2021-11-28T15:41:06.830Z"
   },
   {
    "duration": 322,
    "start_time": "2021-11-28T15:42:08.904Z"
   },
   {
    "duration": 7803,
    "start_time": "2021-11-28T15:43:38.586Z"
   },
   {
    "duration": 439,
    "start_time": "2021-11-28T15:44:42.991Z"
   },
   {
    "duration": 302,
    "start_time": "2021-11-28T15:45:20.015Z"
   },
   {
    "duration": 315,
    "start_time": "2021-11-28T15:46:11.177Z"
   },
   {
    "duration": 8048,
    "start_time": "2021-11-28T15:46:17.275Z"
   },
   {
    "duration": 405,
    "start_time": "2021-11-28T15:47:24.126Z"
   },
   {
    "duration": 428,
    "start_time": "2021-11-28T15:50:31.822Z"
   },
   {
    "duration": 521,
    "start_time": "2021-11-28T16:01:54.453Z"
   },
   {
    "duration": 479,
    "start_time": "2021-11-28T16:01:58.042Z"
   },
   {
    "duration": 53,
    "start_time": "2021-11-28T16:01:59.243Z"
   },
   {
    "duration": 10266,
    "start_time": "2021-11-28T16:01:59.379Z"
   },
   {
    "duration": 46,
    "start_time": "2021-11-28T16:02:16.791Z"
   },
   {
    "duration": 12923,
    "start_time": "2021-11-28T16:02:17.913Z"
   },
   {
    "duration": 344,
    "start_time": "2021-11-28T16:02:48.342Z"
   },
   {
    "duration": 289,
    "start_time": "2021-11-28T16:03:10.435Z"
   },
   {
    "duration": 299,
    "start_time": "2021-11-28T16:03:21.908Z"
   },
   {
    "duration": 390,
    "start_time": "2021-11-28T16:03:56.970Z"
   },
   {
    "duration": 390,
    "start_time": "2021-11-28T16:04:08.497Z"
   },
   {
    "duration": 366,
    "start_time": "2021-11-28T16:04:17.648Z"
   },
   {
    "duration": 320,
    "start_time": "2021-11-28T16:04:22.645Z"
   },
   {
    "duration": 480,
    "start_time": "2021-11-28T16:06:06.561Z"
   },
   {
    "duration": 384,
    "start_time": "2021-11-28T16:07:24.416Z"
   },
   {
    "duration": 347,
    "start_time": "2021-11-28T16:14:00.930Z"
   },
   {
    "duration": 11030,
    "start_time": "2021-11-28T16:14:04.588Z"
   },
   {
    "duration": -14623,
    "start_time": "2021-11-28T16:14:30.244Z"
   },
   {
    "duration": 62,
    "start_time": "2021-11-28T16:16:04.604Z"
   },
   {
    "duration": 436,
    "start_time": "2021-11-28T16:16:05.250Z"
   },
   {
    "duration": 303,
    "start_time": "2021-11-28T16:54:07.631Z"
   },
   {
    "duration": 7871,
    "start_time": "2021-11-28T16:54:11.402Z"
   },
   {
    "duration": -14705,
    "start_time": "2021-11-28T16:54:33.980Z"
   },
   {
    "duration": 7757,
    "start_time": "2021-11-28T16:54:59.376Z"
   },
   {
    "duration": 300,
    "start_time": "2021-11-28T16:55:07.395Z"
   },
   {
    "duration": 8343,
    "start_time": "2021-11-28T16:56:14.908Z"
   },
   {
    "duration": -14430,
    "start_time": "2021-11-28T16:56:37.684Z"
   },
   {
    "duration": 372,
    "start_time": "2021-11-28T16:56:54.896Z"
   },
   {
    "duration": -14310,
    "start_time": "2021-11-28T16:57:09.580Z"
   },
   {
    "duration": 52,
    "start_time": "2021-11-28T16:57:05.674Z"
   },
   {
    "duration": 679,
    "start_time": "2021-11-28T16:57:05.831Z"
   },
   {
    "duration": 836,
    "start_time": "2021-11-28T16:57:53.847Z"
   },
   {
    "duration": 4,
    "start_time": "2021-11-28T17:01:51.897Z"
   },
   {
    "duration": 528,
    "start_time": "2021-11-28T17:01:51.904Z"
   },
   {
    "duration": 14,
    "start_time": "2021-11-28T17:01:52.436Z"
   },
   {
    "duration": 11,
    "start_time": "2021-11-28T17:01:52.453Z"
   },
   {
    "duration": 30,
    "start_time": "2021-11-28T17:01:52.467Z"
   },
   {
    "duration": 9,
    "start_time": "2021-11-28T17:01:52.499Z"
   },
   {
    "duration": 7,
    "start_time": "2021-11-28T17:01:52.510Z"
   },
   {
    "duration": 13,
    "start_time": "2021-11-28T17:01:52.519Z"
   },
   {
    "duration": 26,
    "start_time": "2021-11-28T17:01:52.581Z"
   },
   {
    "duration": 36,
    "start_time": "2021-11-28T17:01:52.610Z"
   },
   {
    "duration": 146,
    "start_time": "2021-11-28T17:01:52.649Z"
   },
   {
    "duration": 27,
    "start_time": "2021-11-28T17:01:52.797Z"
   },
   {
    "duration": 13,
    "start_time": "2021-11-28T17:01:52.826Z"
   },
   {
    "duration": 54,
    "start_time": "2021-11-28T17:01:52.842Z"
   },
   {
    "duration": 26,
    "start_time": "2021-11-28T17:01:52.899Z"
   },
   {
    "duration": 100,
    "start_time": "2021-11-28T17:01:52.928Z"
   },
   {
    "duration": 29,
    "start_time": "2021-11-28T17:01:53.031Z"
   },
   {
    "duration": 32,
    "start_time": "2021-11-28T17:01:53.063Z"
   },
   {
    "duration": 27,
    "start_time": "2021-11-28T17:01:53.098Z"
   },
   {
    "duration": 64,
    "start_time": "2021-11-28T17:01:53.128Z"
   },
   {
    "duration": 109,
    "start_time": "2021-11-28T17:01:53.195Z"
   },
   {
    "duration": 21,
    "start_time": "2021-11-28T17:01:53.307Z"
   },
   {
    "duration": 23,
    "start_time": "2021-11-28T17:01:53.330Z"
   },
   {
    "duration": 27,
    "start_time": "2021-11-28T17:01:53.356Z"
   },
   {
    "duration": 42,
    "start_time": "2021-11-28T17:01:53.386Z"
   },
   {
    "duration": 7,
    "start_time": "2021-11-28T17:01:53.430Z"
   },
   {
    "duration": 48,
    "start_time": "2021-11-28T17:01:53.443Z"
   },
   {
    "duration": 10,
    "start_time": "2021-11-28T17:01:53.493Z"
   },
   {
    "duration": 14,
    "start_time": "2021-11-28T17:01:53.505Z"
   },
   {
    "duration": 12,
    "start_time": "2021-11-28T17:01:53.522Z"
   },
   {
    "duration": 650,
    "start_time": "2021-11-28T17:01:53.536Z"
   },
   {
    "duration": 38,
    "start_time": "2021-11-28T17:01:54.188Z"
   },
   {
    "duration": 8,
    "start_time": "2021-11-28T17:01:54.229Z"
   },
   {
    "duration": 45,
    "start_time": "2021-11-28T17:01:54.239Z"
   },
   {
    "duration": 442,
    "start_time": "2021-11-28T17:01:54.287Z"
   },
   {
    "duration": 31,
    "start_time": "2021-11-28T17:01:54.732Z"
   },
   {
    "duration": 27,
    "start_time": "2021-11-28T17:01:54.765Z"
   },
   {
    "duration": 527,
    "start_time": "2021-11-28T17:01:54.795Z"
   },
   {
    "duration": 26,
    "start_time": "2021-11-28T17:01:55.325Z"
   },
   {
    "duration": 6,
    "start_time": "2021-11-28T17:01:55.353Z"
   },
   {
    "duration": 61,
    "start_time": "2021-11-28T17:01:55.362Z"
   },
   {
    "duration": 11,
    "start_time": "2021-11-28T17:01:55.425Z"
   },
   {
    "duration": 106,
    "start_time": "2021-11-28T17:01:55.439Z"
   },
   {
    "duration": 466,
    "start_time": "2021-11-28T17:01:55.548Z"
   },
   {
    "duration": 39,
    "start_time": "2021-11-28T17:01:56.016Z"
   },
   {
    "duration": 348,
    "start_time": "2021-11-28T17:01:56.057Z"
   },
   {
    "duration": 77,
    "start_time": "2021-11-28T17:01:56.407Z"
   },
   {
    "duration": 408,
    "start_time": "2021-11-28T17:01:56.486Z"
   },
   {
    "duration": 52,
    "start_time": "2021-11-28T17:01:56.897Z"
   },
   {
    "duration": 412,
    "start_time": "2021-11-28T17:01:56.951Z"
   },
   {
    "duration": 304,
    "start_time": "2021-11-28T17:11:00.722Z"
   },
   {
    "duration": 52,
    "start_time": "2021-11-28T17:11:18.099Z"
   },
   {
    "duration": 322,
    "start_time": "2021-11-28T17:11:18.223Z"
   },
   {
    "duration": 50,
    "start_time": "2021-11-28T17:11:28.158Z"
   },
   {
    "duration": 937,
    "start_time": "2021-11-28T17:11:28.286Z"
   },
   {
    "duration": 325,
    "start_time": "2021-11-28T17:11:37.822Z"
   },
   {
    "duration": 330,
    "start_time": "2021-11-28T17:11:52.312Z"
   },
   {
    "duration": 298,
    "start_time": "2021-11-28T17:12:08.821Z"
   },
   {
    "duration": 1472,
    "start_time": "2021-11-29T08:41:52.980Z"
   },
   {
    "duration": 746,
    "start_time": "2021-11-29T08:41:54.455Z"
   },
   {
    "duration": 26,
    "start_time": "2021-11-29T08:41:55.205Z"
   },
   {
    "duration": 13,
    "start_time": "2021-11-29T08:41:55.234Z"
   },
   {
    "duration": 44,
    "start_time": "2021-11-29T08:41:55.249Z"
   },
   {
    "duration": 11,
    "start_time": "2021-11-29T08:41:55.295Z"
   },
   {
    "duration": 10,
    "start_time": "2021-11-29T08:41:55.308Z"
   },
   {
    "duration": 13,
    "start_time": "2021-11-29T08:41:55.322Z"
   },
   {
    "duration": 64,
    "start_time": "2021-11-29T08:41:55.338Z"
   },
   {
    "duration": 36,
    "start_time": "2021-11-29T08:41:55.405Z"
   },
   {
    "duration": 165,
    "start_time": "2021-11-29T08:41:55.443Z"
   },
   {
    "duration": 25,
    "start_time": "2021-11-29T08:41:55.610Z"
   },
   {
    "duration": 11,
    "start_time": "2021-11-29T08:41:55.638Z"
   },
   {
    "duration": 19,
    "start_time": "2021-11-29T08:41:55.682Z"
   },
   {
    "duration": 20,
    "start_time": "2021-11-29T08:41:55.703Z"
   },
   {
    "duration": 92,
    "start_time": "2021-11-29T08:41:55.726Z"
   },
   {
    "duration": 18,
    "start_time": "2021-11-29T08:41:55.820Z"
   },
   {
    "duration": 12,
    "start_time": "2021-11-29T08:41:55.841Z"
   },
   {
    "duration": 24,
    "start_time": "2021-11-29T08:41:55.882Z"
   },
   {
    "duration": 37,
    "start_time": "2021-11-29T08:41:55.908Z"
   },
   {
    "duration": 126,
    "start_time": "2021-11-29T08:41:55.947Z"
   },
   {
    "duration": 26,
    "start_time": "2021-11-29T08:41:56.075Z"
   },
   {
    "duration": 11,
    "start_time": "2021-11-29T08:41:56.107Z"
   },
   {
    "duration": 9,
    "start_time": "2021-11-29T08:41:56.121Z"
   },
   {
    "duration": 94,
    "start_time": "2021-11-29T08:41:56.133Z"
   },
   {
    "duration": 10,
    "start_time": "2021-11-29T08:41:56.230Z"
   },
   {
    "duration": 9,
    "start_time": "2021-11-29T08:41:56.242Z"
   },
   {
    "duration": 34,
    "start_time": "2021-11-29T08:41:56.254Z"
   },
   {
    "duration": 11,
    "start_time": "2021-11-29T08:41:56.290Z"
   },
   {
    "duration": 12,
    "start_time": "2021-11-29T08:41:56.303Z"
   },
   {
    "duration": 494,
    "start_time": "2021-11-29T08:41:56.318Z"
   },
   {
    "duration": 74,
    "start_time": "2021-11-29T08:41:56.815Z"
   },
   {
    "duration": 6,
    "start_time": "2021-11-29T08:41:56.892Z"
   },
   {
    "duration": 16,
    "start_time": "2021-11-29T08:41:56.900Z"
   },
   {
    "duration": 289,
    "start_time": "2021-11-29T08:41:56.919Z"
   },
   {
    "duration": 38,
    "start_time": "2021-11-29T08:41:57.211Z"
   },
   {
    "duration": 9,
    "start_time": "2021-11-29T08:41:57.251Z"
   },
   {
    "duration": 433,
    "start_time": "2021-11-29T08:41:57.262Z"
   },
   {
    "duration": 42,
    "start_time": "2021-11-29T08:41:57.698Z"
   },
   {
    "duration": 5,
    "start_time": "2021-11-29T08:41:57.742Z"
   },
   {
    "duration": 69,
    "start_time": "2021-11-29T08:41:57.749Z"
   },
   {
    "duration": 8,
    "start_time": "2021-11-29T08:41:57.820Z"
   },
   {
    "duration": 118,
    "start_time": "2021-11-29T08:41:57.831Z"
   },
   {
    "duration": 457,
    "start_time": "2021-11-29T08:41:57.951Z"
   },
   {
    "duration": 39,
    "start_time": "2021-11-29T08:41:58.411Z"
   },
   {
    "duration": 320,
    "start_time": "2021-11-29T08:41:58.452Z"
   },
   {
    "duration": 64,
    "start_time": "2021-11-29T08:41:58.781Z"
   },
   {
    "duration": 460,
    "start_time": "2021-11-29T08:41:58.847Z"
   },
   {
    "duration": 53,
    "start_time": "2021-11-29T08:41:59.310Z"
   },
   {
    "duration": 566,
    "start_time": "2021-11-29T08:41:59.366Z"
   },
   {
    "duration": 26,
    "start_time": "2021-11-29T08:42:07.254Z"
   },
   {
    "duration": 32,
    "start_time": "2021-11-29T08:42:15.621Z"
   },
   {
    "duration": 48,
    "start_time": "2021-11-29T08:42:22.349Z"
   },
   {
    "duration": 393,
    "start_time": "2021-11-29T08:42:28.396Z"
   },
   {
    "duration": 68,
    "start_time": "2021-11-29T08:42:36.040Z"
   },
   {
    "duration": 51,
    "start_time": "2021-11-29T09:00:27.150Z"
   },
   {
    "duration": 6,
    "start_time": "2021-11-29T09:09:31.952Z"
   },
   {
    "duration": 751,
    "start_time": "2021-11-29T09:11:05.042Z"
   },
   {
    "duration": 7,
    "start_time": "2021-11-29T09:11:12.981Z"
   },
   {
    "duration": 814,
    "start_time": "2021-11-29T09:11:13.137Z"
   },
   {
    "duration": 337,
    "start_time": "2021-11-29T09:11:25.188Z"
   },
   {
    "duration": 20,
    "start_time": "2021-11-29T09:11:38.205Z"
   },
   {
    "duration": 20,
    "start_time": "2021-11-29T09:11:50.200Z"
   },
   {
    "duration": 57,
    "start_time": "2021-11-29T09:15:37.409Z"
   },
   {
    "duration": 14,
    "start_time": "2021-11-29T09:15:38.951Z"
   },
   {
    "duration": 9,
    "start_time": "2021-11-29T09:15:39.804Z"
   },
   {
    "duration": 385,
    "start_time": "2021-11-29T09:15:40.553Z"
   },
   {
    "duration": 23,
    "start_time": "2021-11-29T09:15:41.653Z"
   },
   {
    "duration": 20,
    "start_time": "2021-11-29T09:15:55.461Z"
   },
   {
    "duration": 10,
    "start_time": "2021-11-29T09:16:27.753Z"
   },
   {
    "duration": 10,
    "start_time": "2021-11-29T09:18:20.587Z"
   },
   {
    "duration": 353,
    "start_time": "2021-11-29T09:22:32.208Z"
   },
   {
    "duration": 439,
    "start_time": "2021-11-29T09:23:35.273Z"
   },
   {
    "duration": 243,
    "start_time": "2021-11-29T09:23:40.392Z"
   },
   {
    "duration": 218,
    "start_time": "2021-11-29T09:24:23.995Z"
   },
   {
    "duration": 304,
    "start_time": "2021-11-29T09:24:32.680Z"
   },
   {
    "duration": 303,
    "start_time": "2021-11-29T09:25:07.565Z"
   },
   {
    "duration": 5,
    "start_time": "2021-11-29T09:39:17.399Z"
   },
   {
    "duration": 5,
    "start_time": "2021-11-29T09:42:40.912Z"
   },
   {
    "duration": 6,
    "start_time": "2021-11-29T09:50:39.180Z"
   },
   {
    "duration": 5,
    "start_time": "2021-11-29T09:51:08.683Z"
   },
   {
    "duration": 6,
    "start_time": "2021-11-29T09:51:08.839Z"
   },
   {
    "duration": 11,
    "start_time": "2021-11-29T09:58:44.999Z"
   },
   {
    "duration": 362,
    "start_time": "2021-11-29T10:07:46.518Z"
   },
   {
    "duration": 607,
    "start_time": "2021-11-29T10:08:27.843Z"
   },
   {
    "duration": 619,
    "start_time": "2021-11-29T10:08:28.755Z"
   },
   {
    "duration": -2538,
    "start_time": "2021-11-29T10:08:31.914Z"
   },
   {
    "duration": 8,
    "start_time": "2021-11-29T10:08:38.165Z"
   },
   {
    "duration": 10,
    "start_time": "2021-11-29T10:08:38.325Z"
   },
   {
    "duration": 20,
    "start_time": "2021-11-29T10:08:38.627Z"
   },
   {
    "duration": 20,
    "start_time": "2021-11-29T10:08:39.146Z"
   },
   {
    "duration": 14,
    "start_time": "2021-11-29T10:08:39.703Z"
   },
   {
    "duration": 13,
    "start_time": "2021-11-29T10:55:04.628Z"
   },
   {
    "duration": 15,
    "start_time": "2021-11-29T10:55:09.435Z"
   },
   {
    "duration": 6,
    "start_time": "2021-11-29T10:55:34.167Z"
   },
   {
    "duration": 9,
    "start_time": "2021-11-29T10:55:34.565Z"
   },
   {
    "duration": 18,
    "start_time": "2021-11-29T10:55:34.892Z"
   },
   {
    "duration": 26,
    "start_time": "2021-11-29T10:55:35.471Z"
   },
   {
    "duration": 19,
    "start_time": "2021-11-29T10:55:36.736Z"
   },
   {
    "duration": 11,
    "start_time": "2021-11-29T10:57:09.968Z"
   },
   {
    "duration": 11,
    "start_time": "2021-11-29T10:57:10.787Z"
   },
   {
    "duration": 11,
    "start_time": "2021-11-29T10:57:11.138Z"
   },
   {
    "duration": 6,
    "start_time": "2021-11-29T10:57:36.660Z"
   },
   {
    "duration": 8,
    "start_time": "2021-11-29T10:57:36.846Z"
   },
   {
    "duration": 14,
    "start_time": "2021-11-29T10:57:37.056Z"
   },
   {
    "duration": 11,
    "start_time": "2021-11-29T10:57:37.666Z"
   },
   {
    "duration": 12,
    "start_time": "2021-11-29T10:57:38.117Z"
   },
   {
    "duration": 8,
    "start_time": "2021-11-29T10:57:46.042Z"
   },
   {
    "duration": 8,
    "start_time": "2021-11-29T10:57:46.479Z"
   },
   {
    "duration": 15,
    "start_time": "2021-11-29T10:57:46.760Z"
   },
   {
    "duration": 12,
    "start_time": "2021-11-29T10:57:47.314Z"
   },
   {
    "duration": 21,
    "start_time": "2021-11-29T10:57:48.446Z"
   },
   {
    "duration": 11,
    "start_time": "2021-11-29T10:58:25.118Z"
   },
   {
    "duration": 12,
    "start_time": "2021-11-29T10:58:25.280Z"
   },
   {
    "duration": 14,
    "start_time": "2021-11-29T10:58:25.429Z"
   },
   {
    "duration": 6,
    "start_time": "2021-11-29T10:58:44.457Z"
   },
   {
    "duration": 9,
    "start_time": "2021-11-29T10:58:44.640Z"
   },
   {
    "duration": 13,
    "start_time": "2021-11-29T10:58:44.826Z"
   },
   {
    "duration": 10,
    "start_time": "2021-11-29T10:58:45.005Z"
   },
   {
    "duration": 14,
    "start_time": "2021-11-29T10:58:45.588Z"
   },
   {
    "duration": 13,
    "start_time": "2021-11-29T10:58:45.857Z"
   },
   {
    "duration": 13,
    "start_time": "2021-11-29T10:58:46.031Z"
   },
   {
    "duration": 10,
    "start_time": "2021-11-29T10:58:46.197Z"
   },
   {
    "duration": 8,
    "start_time": "2021-11-29T10:59:12.837Z"
   },
   {
    "duration": 9,
    "start_time": "2021-11-29T10:59:13.030Z"
   },
   {
    "duration": 13,
    "start_time": "2021-11-29T10:59:13.186Z"
   },
   {
    "duration": 12,
    "start_time": "2021-11-29T10:59:13.358Z"
   },
   {
    "duration": 7,
    "start_time": "2021-11-29T10:59:56.597Z"
   },
   {
    "duration": 7,
    "start_time": "2021-11-29T10:59:56.904Z"
   },
   {
    "duration": 642,
    "start_time": "2021-11-29T10:59:57.091Z"
   },
   {
    "duration": -10,
    "start_time": "2021-11-29T10:59:57.745Z"
   },
   {
    "duration": 661,
    "start_time": "2021-11-29T10:59:58.003Z"
   },
   {
    "duration": 6,
    "start_time": "2021-11-29T11:00:23.620Z"
   },
   {
    "duration": 7,
    "start_time": "2021-11-29T11:00:23.791Z"
   },
   {
    "duration": 12,
    "start_time": "2021-11-29T11:00:23.974Z"
   },
   {
    "duration": 11,
    "start_time": "2021-11-29T11:00:24.159Z"
   },
   {
    "duration": 11,
    "start_time": "2021-11-29T11:00:24.759Z"
   },
   {
    "duration": 12,
    "start_time": "2021-11-29T11:00:26.535Z"
   },
   {
    "duration": 12,
    "start_time": "2021-11-29T11:00:27.069Z"
   },
   {
    "duration": 11,
    "start_time": "2021-11-29T11:00:27.672Z"
   },
   {
    "duration": 361,
    "start_time": "2021-11-29T11:03:52.579Z"
   },
   {
    "duration": 832,
    "start_time": "2021-11-29T11:04:00.713Z"
   },
   {
    "duration": 6,
    "start_time": "2021-11-29T11:05:33.731Z"
   },
   {
    "duration": 7,
    "start_time": "2021-11-29T11:05:33.912Z"
   },
   {
    "duration": 10,
    "start_time": "2021-11-29T11:05:34.077Z"
   },
   {
    "duration": 14,
    "start_time": "2021-11-29T11:05:34.258Z"
   },
   {
    "duration": 784,
    "start_time": "2021-11-29T11:05:34.896Z"
   },
   {
    "duration": 9,
    "start_time": "2021-11-29T11:08:40.802Z"
   },
   {
    "duration": 10,
    "start_time": "2021-11-29T11:08:42.520Z"
   },
   {
    "duration": 11,
    "start_time": "2021-11-29T11:08:42.980Z"
   },
   {
    "duration": 1403,
    "start_time": "2021-11-29T11:08:43.309Z"
   },
   {
    "duration": -14,
    "start_time": "2021-11-29T11:08:44.728Z"
   },
   {
    "duration": 2427,
    "start_time": "2021-11-29T11:08:54.196Z"
   },
   {
    "duration": 9,
    "start_time": "2021-11-29T11:09:13.770Z"
   },
   {
    "duration": 12,
    "start_time": "2021-11-29T11:09:13.946Z"
   },
   {
    "duration": 14,
    "start_time": "2021-11-29T11:09:14.428Z"
   },
   {
    "duration": 827,
    "start_time": "2021-11-29T11:09:14.724Z"
   },
   {
    "duration": 7,
    "start_time": "2021-11-29T11:09:45.357Z"
   },
   {
    "duration": 15,
    "start_time": "2021-11-29T11:09:45.584Z"
   },
   {
    "duration": 14,
    "start_time": "2021-11-29T11:09:45.796Z"
   },
   {
    "duration": 1100,
    "start_time": "2021-11-29T11:09:46.248Z"
   },
   {
    "duration": 981,
    "start_time": "2021-11-29T11:10:11.068Z"
   },
   {
    "duration": 7,
    "start_time": "2021-11-29T11:11:12.988Z"
   },
   {
    "duration": 12,
    "start_time": "2021-11-29T11:11:13.153Z"
   },
   {
    "duration": 11,
    "start_time": "2021-11-29T11:11:13.339Z"
   },
   {
    "duration": 951,
    "start_time": "2021-11-29T11:11:14.004Z"
   },
   {
    "duration": 8,
    "start_time": "2021-11-29T11:12:15.937Z"
   },
   {
    "duration": 11,
    "start_time": "2021-11-29T11:12:16.116Z"
   },
   {
    "duration": 9,
    "start_time": "2021-11-29T11:12:16.336Z"
   },
   {
    "duration": 343,
    "start_time": "2021-11-29T11:12:16.899Z"
   },
   {
    "duration": 366,
    "start_time": "2021-11-29T11:13:03.765Z"
   },
   {
    "duration": 7,
    "start_time": "2021-11-29T11:13:41.857Z"
   },
   {
    "duration": 12,
    "start_time": "2021-11-29T11:13:42.018Z"
   },
   {
    "duration": 11,
    "start_time": "2021-11-29T11:13:42.179Z"
   },
   {
    "duration": 374,
    "start_time": "2021-11-29T11:13:42.343Z"
   },
   {
    "duration": 7,
    "start_time": "2021-11-29T11:14:14.934Z"
   },
   {
    "duration": 11,
    "start_time": "2021-11-29T11:14:15.115Z"
   },
   {
    "duration": 11,
    "start_time": "2021-11-29T11:14:15.292Z"
   },
   {
    "duration": 351,
    "start_time": "2021-11-29T11:14:15.643Z"
   },
   {
    "duration": 575,
    "start_time": "2021-11-29T11:14:55.532Z"
   },
   {
    "duration": 331,
    "start_time": "2021-11-29T11:15:03.197Z"
   },
   {
    "duration": 10,
    "start_time": "2021-11-29T11:15:42.057Z"
   },
   {
    "duration": 11,
    "start_time": "2021-11-29T11:15:42.390Z"
   },
   {
    "duration": 377,
    "start_time": "2021-11-29T11:15:42.711Z"
   },
   {
    "duration": 11,
    "start_time": "2021-11-29T11:15:53.336Z"
   },
   {
    "duration": 11,
    "start_time": "2021-11-29T11:15:54.108Z"
   },
   {
    "duration": 435,
    "start_time": "2021-11-29T11:15:54.937Z"
   },
   {
    "duration": 363,
    "start_time": "2021-11-29T11:16:01.612Z"
   },
   {
    "duration": 349,
    "start_time": "2021-11-29T11:16:09.431Z"
   },
   {
    "duration": 7,
    "start_time": "2021-11-29T11:16:28.201Z"
   },
   {
    "duration": 7,
    "start_time": "2021-11-29T11:16:28.374Z"
   },
   {
    "duration": 10,
    "start_time": "2021-11-29T11:16:28.552Z"
   },
   {
    "duration": 11,
    "start_time": "2021-11-29T11:16:28.730Z"
   },
   {
    "duration": 358,
    "start_time": "2021-11-29T11:16:28.890Z"
   },
   {
    "duration": 10,
    "start_time": "2021-11-29T11:16:29.250Z"
   },
   {
    "duration": 18,
    "start_time": "2021-11-29T11:16:29.272Z"
   },
   {
    "duration": 328,
    "start_time": "2021-11-29T11:16:29.473Z"
   },
   {
    "duration": 11,
    "start_time": "2021-11-29T11:16:29.803Z"
   },
   {
    "duration": 12,
    "start_time": "2021-11-29T11:16:29.887Z"
   },
   {
    "duration": 345,
    "start_time": "2021-11-29T11:16:30.313Z"
   },
   {
    "duration": 541,
    "start_time": "2021-11-29T11:18:54.041Z"
   },
   {
    "duration": 517,
    "start_time": "2021-11-29T11:19:03.865Z"
   },
   {
    "duration": 13,
    "start_time": "2021-11-29T11:19:04.385Z"
   },
   {
    "duration": 10,
    "start_time": "2021-11-29T11:19:04.401Z"
   },
   {
    "duration": 358,
    "start_time": "2021-11-29T11:19:04.554Z"
   },
   {
    "duration": 12,
    "start_time": "2021-11-29T11:19:04.914Z"
   },
   {
    "duration": 12,
    "start_time": "2021-11-29T11:19:05.996Z"
   },
   {
    "duration": 345,
    "start_time": "2021-11-29T11:19:07.369Z"
   },
   {
    "duration": 8,
    "start_time": "2021-11-29T13:08:22.726Z"
   },
   {
    "duration": 7,
    "start_time": "2021-11-29T13:09:31.658Z"
   },
   {
    "duration": 7,
    "start_time": "2021-11-29T13:10:34.538Z"
   },
   {
    "duration": 8,
    "start_time": "2021-11-29T13:12:41.264Z"
   },
   {
    "duration": 133,
    "start_time": "2021-11-29T13:19:12.304Z"
   },
   {
    "duration": 116,
    "start_time": "2021-11-29T13:19:42.909Z"
   },
   {
    "duration": 12,
    "start_time": "2021-11-29T13:19:47.419Z"
   },
   {
    "duration": 13,
    "start_time": "2021-11-29T13:19:47.582Z"
   },
   {
    "duration": 559,
    "start_time": "2021-11-29T13:19:47.740Z"
   },
   {
    "duration": 110,
    "start_time": "2021-11-29T13:19:48.403Z"
   },
   {
    "duration": 104,
    "start_time": "2021-11-29T13:20:04.430Z"
   },
   {
    "duration": 95,
    "start_time": "2021-11-29T13:20:24.936Z"
   },
   {
    "duration": 126,
    "start_time": "2021-11-29T13:21:27.973Z"
   },
   {
    "duration": 13,
    "start_time": "2021-11-29T13:22:04.918Z"
   },
   {
    "duration": 12,
    "start_time": "2021-11-29T13:22:31.266Z"
   },
   {
    "duration": 9,
    "start_time": "2021-11-29T13:23:30.058Z"
   },
   {
    "duration": 9,
    "start_time": "2021-11-29T13:23:47.955Z"
   },
   {
    "duration": 8,
    "start_time": "2021-11-29T13:23:52.942Z"
   },
   {
    "duration": 9,
    "start_time": "2021-11-29T13:23:56.302Z"
   },
   {
    "duration": 9,
    "start_time": "2021-11-29T13:24:07.843Z"
   },
   {
    "duration": 8,
    "start_time": "2021-11-29T13:24:28.970Z"
   },
   {
    "duration": 8,
    "start_time": "2021-11-29T13:24:42.051Z"
   },
   {
    "duration": 9,
    "start_time": "2021-11-29T13:25:37.720Z"
   },
   {
    "duration": 8,
    "start_time": "2021-11-29T13:26:26.493Z"
   },
   {
    "duration": 9,
    "start_time": "2021-11-29T13:26:44.506Z"
   },
   {
    "duration": 8,
    "start_time": "2021-11-29T13:27:00.337Z"
   },
   {
    "duration": 12,
    "start_time": "2021-11-29T13:27:08.649Z"
   },
   {
    "duration": 6,
    "start_time": "2021-11-29T13:35:04.013Z"
   },
   {
    "duration": 15,
    "start_time": "2021-11-29T13:35:10.886Z"
   },
   {
    "duration": 119,
    "start_time": "2021-11-29T13:59:34.140Z"
   },
   {
    "duration": 133,
    "start_time": "2021-11-29T14:01:20.551Z"
   },
   {
    "duration": 95,
    "start_time": "2021-11-29T14:01:51.392Z"
   },
   {
    "duration": 18,
    "start_time": "2021-11-29T14:26:12.936Z"
   },
   {
    "duration": 18,
    "start_time": "2021-11-29T14:26:27.970Z"
   },
   {
    "duration": 19,
    "start_time": "2021-11-29T14:26:30.746Z"
   },
   {
    "duration": 18,
    "start_time": "2021-11-29T14:26:35.538Z"
   },
   {
    "duration": 19,
    "start_time": "2021-11-29T14:26:41.066Z"
   },
   {
    "duration": 14,
    "start_time": "2021-11-29T14:26:51.772Z"
   },
   {
    "duration": 15,
    "start_time": "2021-11-29T14:27:11.675Z"
   },
   {
    "duration": 5,
    "start_time": "2021-11-29T14:27:12.229Z"
   },
   {
    "duration": 4,
    "start_time": "2021-11-29T14:27:13.300Z"
   },
   {
    "duration": 7,
    "start_time": "2021-11-29T14:27:43.562Z"
   },
   {
    "duration": 604,
    "start_time": "2021-11-29T14:27:43.571Z"
   },
   {
    "duration": 15,
    "start_time": "2021-11-29T14:27:44.178Z"
   },
   {
    "duration": 25,
    "start_time": "2021-11-29T14:27:44.195Z"
   },
   {
    "duration": 32,
    "start_time": "2021-11-29T14:27:44.223Z"
   },
   {
    "duration": 10,
    "start_time": "2021-11-29T14:27:44.257Z"
   },
   {
    "duration": 17,
    "start_time": "2021-11-29T14:27:44.270Z"
   },
   {
    "duration": 14,
    "start_time": "2021-11-29T14:27:44.291Z"
   },
   {
    "duration": 39,
    "start_time": "2021-11-29T14:27:44.309Z"
   },
   {
    "duration": 58,
    "start_time": "2021-11-29T14:27:44.351Z"
   },
   {
    "duration": 128,
    "start_time": "2021-11-29T14:27:44.411Z"
   },
   {
    "duration": 25,
    "start_time": "2021-11-29T14:27:44.542Z"
   },
   {
    "duration": 10,
    "start_time": "2021-11-29T14:27:44.582Z"
   },
   {
    "duration": 23,
    "start_time": "2021-11-29T14:27:44.595Z"
   },
   {
    "duration": 19,
    "start_time": "2021-11-29T14:27:44.620Z"
   },
   {
    "duration": 91,
    "start_time": "2021-11-29T14:27:44.642Z"
   },
   {
    "duration": 19,
    "start_time": "2021-11-29T14:27:44.735Z"
   },
   {
    "duration": 34,
    "start_time": "2021-11-29T14:27:44.757Z"
   },
   {
    "duration": 48,
    "start_time": "2021-11-29T14:27:44.794Z"
   },
   {
    "duration": 47,
    "start_time": "2021-11-29T14:27:44.845Z"
   },
   {
    "duration": 115,
    "start_time": "2021-11-29T14:27:44.895Z"
   },
   {
    "duration": 22,
    "start_time": "2021-11-29T14:27:45.012Z"
   },
   {
    "duration": 15,
    "start_time": "2021-11-29T14:27:45.040Z"
   },
   {
    "duration": 29,
    "start_time": "2021-11-29T14:27:45.059Z"
   },
   {
    "duration": 46,
    "start_time": "2021-11-29T14:27:45.091Z"
   },
   {
    "duration": 9,
    "start_time": "2021-11-29T14:27:45.139Z"
   },
   {
    "duration": 36,
    "start_time": "2021-11-29T14:27:45.150Z"
   },
   {
    "duration": 6,
    "start_time": "2021-11-29T14:27:45.189Z"
   },
   {
    "duration": 12,
    "start_time": "2021-11-29T14:27:45.197Z"
   },
   {
    "duration": 15,
    "start_time": "2021-11-29T14:27:45.211Z"
   },
   {
    "duration": 626,
    "start_time": "2021-11-29T14:27:45.229Z"
   },
   {
    "duration": 74,
    "start_time": "2021-11-29T14:27:45.858Z"
   },
   {
    "duration": 5,
    "start_time": "2021-11-29T14:27:45.934Z"
   },
   {
    "duration": 17,
    "start_time": "2021-11-29T14:27:45.942Z"
   },
   {
    "duration": 307,
    "start_time": "2021-11-29T14:27:45.962Z"
   },
   {
    "duration": 46,
    "start_time": "2021-11-29T14:27:46.271Z"
   },
   {
    "duration": 9,
    "start_time": "2021-11-29T14:27:46.320Z"
   },
   {
    "duration": 436,
    "start_time": "2021-11-29T14:27:46.332Z"
   },
   {
    "duration": 31,
    "start_time": "2021-11-29T14:27:46.770Z"
   },
   {
    "duration": 29,
    "start_time": "2021-11-29T14:27:46.803Z"
   },
   {
    "duration": 47,
    "start_time": "2021-11-29T14:27:46.834Z"
   },
   {
    "duration": 10,
    "start_time": "2021-11-29T14:27:46.884Z"
   },
   {
    "duration": 93,
    "start_time": "2021-11-29T14:27:46.897Z"
   },
   {
    "duration": 414,
    "start_time": "2021-11-29T14:27:46.993Z"
   },
   {
    "duration": 41,
    "start_time": "2021-11-29T14:27:47.410Z"
   },
   {
    "duration": 332,
    "start_time": "2021-11-29T14:27:47.453Z"
   },
   {
    "duration": 63,
    "start_time": "2021-11-29T14:27:47.787Z"
   },
   {
    "duration": 460,
    "start_time": "2021-11-29T14:27:47.852Z"
   },
   {
    "duration": 50,
    "start_time": "2021-11-29T14:27:48.314Z"
   },
   {
    "duration": 66,
    "start_time": "2021-11-29T14:27:48.366Z"
   },
   {
    "duration": 13,
    "start_time": "2021-11-29T14:27:48.435Z"
   },
   {
    "duration": 6,
    "start_time": "2021-11-29T14:27:48.451Z"
   },
   {
    "duration": 374,
    "start_time": "2021-11-29T14:27:48.458Z"
   },
   {
    "duration": 20,
    "start_time": "2021-11-29T14:27:48.834Z"
   },
   {
    "duration": 30,
    "start_time": "2021-11-29T14:27:48.857Z"
   },
   {
    "duration": 6,
    "start_time": "2021-11-29T14:27:48.889Z"
   },
   {
    "duration": 11,
    "start_time": "2021-11-29T14:27:48.897Z"
   },
   {
    "duration": 16,
    "start_time": "2021-11-29T14:27:48.910Z"
   },
   {
    "duration": 10,
    "start_time": "2021-11-29T14:27:48.929Z"
   },
   {
    "duration": 383,
    "start_time": "2021-11-29T14:27:48.941Z"
   },
   {
    "duration": 9,
    "start_time": "2021-11-29T14:27:49.326Z"
   },
   {
    "duration": 38,
    "start_time": "2021-11-29T14:27:49.337Z"
   },
   {
    "duration": 22,
    "start_time": "2021-11-29T14:27:49.377Z"
   },
   {
    "duration": 372,
    "start_time": "2021-11-29T14:27:49.401Z"
   },
   {
    "duration": 9,
    "start_time": "2021-11-29T14:27:49.776Z"
   },
   {
    "duration": 16,
    "start_time": "2021-11-29T14:27:49.787Z"
   },
   {
    "duration": 13,
    "start_time": "2021-11-29T14:27:49.805Z"
   },
   {
    "duration": 390,
    "start_time": "2021-11-29T14:27:49.827Z"
   },
   {
    "duration": 9,
    "start_time": "2021-11-29T14:27:50.220Z"
   },
   {
    "duration": 27,
    "start_time": "2021-11-29T14:27:50.231Z"
   },
   {
    "duration": 23,
    "start_time": "2021-11-29T14:27:50.261Z"
   },
   {
    "duration": 6,
    "start_time": "2021-11-29T14:27:50.288Z"
   },
   {
    "duration": 24,
    "start_time": "2021-11-29T14:28:12.445Z"
   },
   {
    "duration": 7,
    "start_time": "2021-11-29T14:28:12.975Z"
   },
   {
    "duration": 5,
    "start_time": "2021-11-29T14:28:13.729Z"
   },
   {
    "duration": 14,
    "start_time": "2021-11-29T14:28:25.873Z"
   },
   {
    "duration": 7,
    "start_time": "2021-11-29T14:28:26.324Z"
   },
   {
    "duration": 12,
    "start_time": "2021-11-29T14:29:19.228Z"
   },
   {
    "duration": 6,
    "start_time": "2021-11-29T14:29:19.770Z"
   },
   {
    "duration": 12,
    "start_time": "2021-11-29T14:29:30.826Z"
   },
   {
    "duration": 6,
    "start_time": "2021-11-29T14:29:31.600Z"
   },
   {
    "duration": 5,
    "start_time": "2021-11-29T14:29:39.186Z"
   },
   {
    "duration": 7,
    "start_time": "2021-11-29T14:29:53.881Z"
   },
   {
    "duration": 12,
    "start_time": "2021-11-29T14:30:45.999Z"
   },
   {
    "duration": 6,
    "start_time": "2021-11-29T14:30:46.808Z"
   },
   {
    "duration": 6,
    "start_time": "2021-11-29T14:30:47.817Z"
   },
   {
    "duration": 6,
    "start_time": "2021-11-29T14:31:10.265Z"
   },
   {
    "duration": 558,
    "start_time": "2021-11-29T14:31:10.274Z"
   },
   {
    "duration": 15,
    "start_time": "2021-11-29T14:31:10.835Z"
   },
   {
    "duration": 12,
    "start_time": "2021-11-29T14:31:10.854Z"
   },
   {
    "duration": 40,
    "start_time": "2021-11-29T14:31:10.869Z"
   },
   {
    "duration": 11,
    "start_time": "2021-11-29T14:31:10.912Z"
   },
   {
    "duration": 10,
    "start_time": "2021-11-29T14:31:10.927Z"
   },
   {
    "duration": 47,
    "start_time": "2021-11-29T14:31:10.940Z"
   },
   {
    "duration": 29,
    "start_time": "2021-11-29T14:31:10.991Z"
   },
   {
    "duration": 60,
    "start_time": "2021-11-29T14:31:11.023Z"
   },
   {
    "duration": 123,
    "start_time": "2021-11-29T14:31:11.086Z"
   },
   {
    "duration": 26,
    "start_time": "2021-11-29T14:31:11.211Z"
   },
   {
    "duration": 11,
    "start_time": "2021-11-29T14:31:11.240Z"
   },
   {
    "duration": 34,
    "start_time": "2021-11-29T14:31:11.282Z"
   },
   {
    "duration": 24,
    "start_time": "2021-11-29T14:31:11.320Z"
   },
   {
    "duration": 96,
    "start_time": "2021-11-29T14:31:11.347Z"
   },
   {
    "duration": 43,
    "start_time": "2021-11-29T14:31:11.446Z"
   },
   {
    "duration": 12,
    "start_time": "2021-11-29T14:31:11.491Z"
   },
   {
    "duration": 28,
    "start_time": "2021-11-29T14:31:11.505Z"
   },
   {
    "duration": 81,
    "start_time": "2021-11-29T14:31:11.535Z"
   },
   {
    "duration": 133,
    "start_time": "2021-11-29T14:31:11.619Z"
   },
   {
    "duration": 41,
    "start_time": "2021-11-29T14:31:11.755Z"
   },
   {
    "duration": 14,
    "start_time": "2021-11-29T14:31:11.805Z"
   },
   {
    "duration": 12,
    "start_time": "2021-11-29T14:31:11.823Z"
   },
   {
    "duration": 91,
    "start_time": "2021-11-29T14:31:11.838Z"
   },
   {
    "duration": 9,
    "start_time": "2021-11-29T14:31:11.932Z"
   },
   {
    "duration": 39,
    "start_time": "2021-11-29T14:31:11.944Z"
   },
   {
    "duration": 15,
    "start_time": "2021-11-29T14:31:11.986Z"
   },
   {
    "duration": 18,
    "start_time": "2021-11-29T14:31:12.004Z"
   },
   {
    "duration": 33,
    "start_time": "2021-11-29T14:31:12.025Z"
   },
   {
    "duration": 794,
    "start_time": "2021-11-29T14:31:12.062Z"
   },
   {
    "duration": 59,
    "start_time": "2021-11-29T14:31:12.859Z"
   },
   {
    "duration": 7,
    "start_time": "2021-11-29T14:31:12.921Z"
   },
   {
    "duration": 19,
    "start_time": "2021-11-29T14:31:12.931Z"
   },
   {
    "duration": 535,
    "start_time": "2021-11-29T14:31:12.953Z"
   },
   {
    "duration": 36,
    "start_time": "2021-11-29T14:31:13.491Z"
   },
   {
    "duration": 13,
    "start_time": "2021-11-29T14:31:13.530Z"
   },
   {
    "duration": 655,
    "start_time": "2021-11-29T14:31:13.546Z"
   },
   {
    "duration": 40,
    "start_time": "2021-11-29T14:31:14.204Z"
   },
   {
    "duration": 6,
    "start_time": "2021-11-29T14:31:14.247Z"
   },
   {
    "duration": 68,
    "start_time": "2021-11-29T14:31:14.256Z"
   },
   {
    "duration": 10,
    "start_time": "2021-11-29T14:31:14.326Z"
   },
   {
    "duration": 119,
    "start_time": "2021-11-29T14:31:14.339Z"
   },
   {
    "duration": 457,
    "start_time": "2021-11-29T14:31:14.461Z"
   },
   {
    "duration": 37,
    "start_time": "2021-11-29T14:31:14.921Z"
   },
   {
    "duration": 329,
    "start_time": "2021-11-29T14:31:14.960Z"
   },
   {
    "duration": 61,
    "start_time": "2021-11-29T14:31:15.291Z"
   },
   {
    "duration": 481,
    "start_time": "2021-11-29T14:31:15.354Z"
   },
   {
    "duration": 58,
    "start_time": "2021-11-29T14:31:15.838Z"
   },
   {
    "duration": 59,
    "start_time": "2021-11-29T14:31:15.898Z"
   },
   {
    "duration": 34,
    "start_time": "2021-11-29T14:31:15.960Z"
   },
   {
    "duration": 7,
    "start_time": "2021-11-29T14:31:15.997Z"
   },
   {
    "duration": 377,
    "start_time": "2021-11-29T14:31:16.007Z"
   },
   {
    "duration": 35,
    "start_time": "2021-11-29T14:31:16.386Z"
   },
   {
    "duration": 20,
    "start_time": "2021-11-29T14:31:16.424Z"
   },
   {
    "duration": 7,
    "start_time": "2021-11-29T14:31:16.446Z"
   },
   {
    "duration": 26,
    "start_time": "2021-11-29T14:31:16.455Z"
   },
   {
    "duration": 25,
    "start_time": "2021-11-29T14:31:16.484Z"
   },
   {
    "duration": 10,
    "start_time": "2021-11-29T14:31:16.513Z"
   },
   {
    "duration": 391,
    "start_time": "2021-11-29T14:31:16.525Z"
   },
   {
    "duration": 9,
    "start_time": "2021-11-29T14:31:16.918Z"
   },
   {
    "duration": 30,
    "start_time": "2021-11-29T14:31:16.930Z"
   },
   {
    "duration": 31,
    "start_time": "2021-11-29T14:31:16.963Z"
   },
   {
    "duration": 671,
    "start_time": "2021-11-29T14:31:16.997Z"
   },
   {
    "duration": 16,
    "start_time": "2021-11-29T14:31:17.671Z"
   },
   {
    "duration": 25,
    "start_time": "2021-11-29T14:31:17.691Z"
   },
   {
    "duration": 14,
    "start_time": "2021-11-29T14:31:17.720Z"
   },
   {
    "duration": 553,
    "start_time": "2021-11-29T14:31:17.745Z"
   },
   {
    "duration": 11,
    "start_time": "2021-11-29T14:31:18.302Z"
   },
   {
    "duration": 22,
    "start_time": "2021-11-29T14:31:18.316Z"
   },
   {
    "duration": 17,
    "start_time": "2021-11-29T14:31:18.341Z"
   },
   {
    "duration": 23,
    "start_time": "2021-11-29T14:31:18.360Z"
   },
   {
    "duration": 12,
    "start_time": "2021-11-29T14:31:18.386Z"
   },
   {
    "duration": 9,
    "start_time": "2021-11-29T14:31:56.031Z"
   },
   {
    "duration": 7,
    "start_time": "2021-11-29T14:31:56.780Z"
   },
   {
    "duration": 9,
    "start_time": "2021-11-29T14:31:57.656Z"
   },
   {
    "duration": 9,
    "start_time": "2021-11-29T14:31:58.053Z"
   },
   {
    "duration": 175,
    "start_time": "2021-11-29T14:34:03.351Z"
   },
   {
    "duration": 11,
    "start_time": "2021-11-29T14:42:29.116Z"
   },
   {
    "duration": 8,
    "start_time": "2021-11-29T14:43:08.629Z"
   },
   {
    "duration": 7,
    "start_time": "2021-11-29T14:43:08.773Z"
   },
   {
    "duration": 4,
    "start_time": "2021-11-29T14:47:41.763Z"
   },
   {
    "duration": 586,
    "start_time": "2021-11-29T14:47:41.770Z"
   },
   {
    "duration": 15,
    "start_time": "2021-11-29T14:47:42.359Z"
   },
   {
    "duration": 20,
    "start_time": "2021-11-29T14:47:42.376Z"
   },
   {
    "duration": 35,
    "start_time": "2021-11-29T14:47:42.398Z"
   },
   {
    "duration": 20,
    "start_time": "2021-11-29T14:47:42.436Z"
   },
   {
    "duration": 94,
    "start_time": "2021-11-29T14:47:42.459Z"
   },
   {
    "duration": 38,
    "start_time": "2021-11-29T14:47:42.556Z"
   },
   {
    "duration": 64,
    "start_time": "2021-11-29T14:47:42.597Z"
   },
   {
    "duration": 47,
    "start_time": "2021-11-29T14:47:42.663Z"
   },
   {
    "duration": 178,
    "start_time": "2021-11-29T14:47:42.713Z"
   },
   {
    "duration": 45,
    "start_time": "2021-11-29T14:47:42.894Z"
   },
   {
    "duration": 42,
    "start_time": "2021-11-29T14:47:42.942Z"
   },
   {
    "duration": 27,
    "start_time": "2021-11-29T14:47:42.986Z"
   },
   {
    "duration": 22,
    "start_time": "2021-11-29T14:47:43.015Z"
   },
   {
    "duration": 83,
    "start_time": "2021-11-29T14:47:43.039Z"
   },
   {
    "duration": 18,
    "start_time": "2021-11-29T14:47:43.124Z"
   },
   {
    "duration": 22,
    "start_time": "2021-11-29T14:47:43.144Z"
   },
   {
    "duration": 23,
    "start_time": "2021-11-29T14:47:43.184Z"
   },
   {
    "duration": 38,
    "start_time": "2021-11-29T14:47:43.211Z"
   },
   {
    "duration": 156,
    "start_time": "2021-11-29T14:47:43.252Z"
   },
   {
    "duration": 35,
    "start_time": "2021-11-29T14:47:43.412Z"
   },
   {
    "duration": 37,
    "start_time": "2021-11-29T14:47:43.450Z"
   },
   {
    "duration": 15,
    "start_time": "2021-11-29T14:47:43.490Z"
   },
   {
    "duration": 43,
    "start_time": "2021-11-29T14:47:43.507Z"
   },
   {
    "duration": 31,
    "start_time": "2021-11-29T14:47:43.552Z"
   },
   {
    "duration": 8,
    "start_time": "2021-11-29T14:47:43.585Z"
   },
   {
    "duration": 11,
    "start_time": "2021-11-29T14:47:43.596Z"
   },
   {
    "duration": 16,
    "start_time": "2021-11-29T14:47:43.610Z"
   },
   {
    "duration": 22,
    "start_time": "2021-11-29T14:47:43.629Z"
   },
   {
    "duration": 543,
    "start_time": "2021-11-29T14:47:43.654Z"
   },
   {
    "duration": 35,
    "start_time": "2021-11-29T14:47:44.199Z"
   },
   {
    "duration": 6,
    "start_time": "2021-11-29T14:47:44.236Z"
   },
   {
    "duration": 38,
    "start_time": "2021-11-29T14:47:44.244Z"
   },
   {
    "duration": 343,
    "start_time": "2021-11-29T14:47:44.285Z"
   },
   {
    "duration": 22,
    "start_time": "2021-11-29T14:47:44.631Z"
   },
   {
    "duration": 26,
    "start_time": "2021-11-29T14:47:44.656Z"
   },
   {
    "duration": 446,
    "start_time": "2021-11-29T14:47:44.685Z"
   },
   {
    "duration": 27,
    "start_time": "2021-11-29T14:47:45.133Z"
   },
   {
    "duration": 21,
    "start_time": "2021-11-29T14:47:45.162Z"
   },
   {
    "duration": 36,
    "start_time": "2021-11-29T14:47:45.185Z"
   },
   {
    "duration": 9,
    "start_time": "2021-11-29T14:47:45.224Z"
   },
   {
    "duration": 87,
    "start_time": "2021-11-29T14:47:45.236Z"
   },
   {
    "duration": 439,
    "start_time": "2021-11-29T14:47:45.326Z"
   },
   {
    "duration": 43,
    "start_time": "2021-11-29T14:47:45.767Z"
   },
   {
    "duration": 314,
    "start_time": "2021-11-29T14:47:45.812Z"
   },
   {
    "duration": 74,
    "start_time": "2021-11-29T14:47:46.128Z"
   },
   {
    "duration": 393,
    "start_time": "2021-11-29T14:47:46.204Z"
   },
   {
    "duration": 48,
    "start_time": "2021-11-29T14:47:46.600Z"
   },
   {
    "duration": 70,
    "start_time": "2021-11-29T14:47:46.651Z"
   },
   {
    "duration": 14,
    "start_time": "2021-11-29T14:47:46.723Z"
   },
   {
    "duration": 7,
    "start_time": "2021-11-29T14:47:46.739Z"
   },
   {
    "duration": 364,
    "start_time": "2021-11-29T14:47:46.748Z"
   },
   {
    "duration": 20,
    "start_time": "2021-11-29T14:47:47.114Z"
   },
   {
    "duration": 44,
    "start_time": "2021-11-29T14:47:47.146Z"
   },
   {
    "duration": 9,
    "start_time": "2021-11-29T14:47:47.194Z"
   },
   {
    "duration": 10,
    "start_time": "2021-11-29T14:47:47.207Z"
   },
   {
    "duration": 23,
    "start_time": "2021-11-29T14:47:47.220Z"
   },
   {
    "duration": 36,
    "start_time": "2021-11-29T14:47:47.246Z"
   },
   {
    "duration": 546,
    "start_time": "2021-11-29T14:47:47.285Z"
   },
   {
    "duration": 12,
    "start_time": "2021-11-29T14:47:47.834Z"
   },
   {
    "duration": 36,
    "start_time": "2021-11-29T14:47:47.848Z"
   },
   {
    "duration": 47,
    "start_time": "2021-11-29T14:47:47.888Z"
   },
   {
    "duration": 552,
    "start_time": "2021-11-29T14:47:47.938Z"
   },
   {
    "duration": 11,
    "start_time": "2021-11-29T14:47:48.493Z"
   },
   {
    "duration": 14,
    "start_time": "2021-11-29T14:47:48.507Z"
   },
   {
    "duration": 13,
    "start_time": "2021-11-29T14:47:48.524Z"
   },
   {
    "duration": 386,
    "start_time": "2021-11-29T14:47:48.539Z"
   },
   {
    "duration": 12,
    "start_time": "2021-11-29T14:47:48.928Z"
   },
   {
    "duration": 10,
    "start_time": "2021-11-29T14:47:48.943Z"
   },
   {
    "duration": 6,
    "start_time": "2021-11-29T14:47:48.983Z"
   },
   {
    "duration": 11,
    "start_time": "2021-11-29T14:47:48.992Z"
   },
   {
    "duration": 7,
    "start_time": "2021-11-29T14:47:49.006Z"
   },
   {
    "duration": 6,
    "start_time": "2021-11-29T14:48:31.354Z"
   },
   {
    "duration": 12,
    "start_time": "2021-11-29T14:50:27.609Z"
   },
   {
    "duration": 15,
    "start_time": "2021-11-29T14:51:01.094Z"
   },
   {
    "duration": 30,
    "start_time": "2021-11-29T14:52:14.068Z"
   },
   {
    "duration": 47,
    "start_time": "2021-11-29T14:55:06.658Z"
   },
   {
    "duration": 318,
    "start_time": "2021-11-29T15:10:39.066Z"
   },
   {
    "duration": 12,
    "start_time": "2021-11-29T15:10:47.946Z"
   },
   {
    "duration": 4,
    "start_time": "2021-11-29T15:12:00.371Z"
   },
   {
    "duration": 613,
    "start_time": "2021-11-29T15:12:00.378Z"
   },
   {
    "duration": 14,
    "start_time": "2021-11-29T15:12:00.994Z"
   },
   {
    "duration": 27,
    "start_time": "2021-11-29T15:12:01.011Z"
   },
   {
    "duration": 44,
    "start_time": "2021-11-29T15:12:01.041Z"
   },
   {
    "duration": 21,
    "start_time": "2021-11-29T15:12:01.088Z"
   },
   {
    "duration": 26,
    "start_time": "2021-11-29T15:12:01.112Z"
   },
   {
    "duration": 45,
    "start_time": "2021-11-29T15:12:01.141Z"
   },
   {
    "duration": 70,
    "start_time": "2021-11-29T15:12:01.188Z"
   },
   {
    "duration": 66,
    "start_time": "2021-11-29T15:12:01.261Z"
   },
   {
    "duration": 125,
    "start_time": "2021-11-29T15:12:01.329Z"
   },
   {
    "duration": 39,
    "start_time": "2021-11-29T15:12:01.456Z"
   },
   {
    "duration": 39,
    "start_time": "2021-11-29T15:12:01.497Z"
   },
   {
    "duration": 41,
    "start_time": "2021-11-29T15:12:01.538Z"
   },
   {
    "duration": 30,
    "start_time": "2021-11-29T15:12:01.581Z"
   },
   {
    "duration": 70,
    "start_time": "2021-11-29T15:12:01.613Z"
   },
   {
    "duration": 18,
    "start_time": "2021-11-29T15:12:01.685Z"
   },
   {
    "duration": 31,
    "start_time": "2021-11-29T15:12:01.705Z"
   },
   {
    "duration": 41,
    "start_time": "2021-11-29T15:12:01.741Z"
   },
   {
    "duration": 44,
    "start_time": "2021-11-29T15:12:01.786Z"
   },
   {
    "duration": 127,
    "start_time": "2021-11-29T15:12:01.833Z"
   },
   {
    "duration": 25,
    "start_time": "2021-11-29T15:12:01.962Z"
   },
   {
    "duration": 34,
    "start_time": "2021-11-29T15:12:01.990Z"
   },
   {
    "duration": 33,
    "start_time": "2021-11-29T15:12:02.026Z"
   },
   {
    "duration": 49,
    "start_time": "2021-11-29T15:12:02.061Z"
   },
   {
    "duration": 8,
    "start_time": "2021-11-29T15:12:02.112Z"
   },
   {
    "duration": 46,
    "start_time": "2021-11-29T15:12:02.123Z"
   },
   {
    "duration": 17,
    "start_time": "2021-11-29T15:12:02.171Z"
   },
   {
    "duration": 35,
    "start_time": "2021-11-29T15:12:02.190Z"
   },
   {
    "duration": 65,
    "start_time": "2021-11-29T15:12:02.228Z"
   },
   {
    "duration": 602,
    "start_time": "2021-11-29T15:12:02.295Z"
   },
   {
    "duration": 39,
    "start_time": "2021-11-29T15:12:02.900Z"
   },
   {
    "duration": 7,
    "start_time": "2021-11-29T15:12:02.942Z"
   },
   {
    "duration": 37,
    "start_time": "2021-11-29T15:12:02.952Z"
   },
   {
    "duration": 421,
    "start_time": "2021-11-29T15:12:02.992Z"
   },
   {
    "duration": 23,
    "start_time": "2021-11-29T15:12:03.416Z"
   },
   {
    "duration": 24,
    "start_time": "2021-11-29T15:12:03.441Z"
   },
   {
    "duration": 380,
    "start_time": "2021-11-29T15:12:03.467Z"
   },
   {
    "duration": 47,
    "start_time": "2021-11-29T15:12:03.849Z"
   },
   {
    "duration": 6,
    "start_time": "2021-11-29T15:12:03.898Z"
   },
   {
    "duration": 31,
    "start_time": "2021-11-29T15:12:03.907Z"
   },
   {
    "duration": 10,
    "start_time": "2021-11-29T15:12:03.940Z"
   },
   {
    "duration": 74,
    "start_time": "2021-11-29T15:12:03.983Z"
   },
   {
    "duration": 443,
    "start_time": "2021-11-29T15:12:04.060Z"
   },
   {
    "duration": 38,
    "start_time": "2021-11-29T15:12:04.505Z"
   },
   {
    "duration": 308,
    "start_time": "2021-11-29T15:12:04.546Z"
   },
   {
    "duration": 73,
    "start_time": "2021-11-29T15:12:04.856Z"
   },
   {
    "duration": 452,
    "start_time": "2021-11-29T15:12:04.931Z"
   },
   {
    "duration": 48,
    "start_time": "2021-11-29T15:12:05.386Z"
   },
   {
    "duration": 72,
    "start_time": "2021-11-29T15:12:05.436Z"
   },
   {
    "duration": 13,
    "start_time": "2021-11-29T15:12:05.511Z"
   },
   {
    "duration": 11,
    "start_time": "2021-11-29T15:12:05.526Z"
   },
   {
    "duration": 358,
    "start_time": "2021-11-29T15:12:05.539Z"
   },
   {
    "duration": 8,
    "start_time": "2021-11-29T15:12:05.900Z"
   },
   {
    "duration": 19,
    "start_time": "2021-11-29T15:12:05.915Z"
   },
   {
    "duration": 19,
    "start_time": "2021-11-29T15:12:05.937Z"
   },
   {
    "duration": 28,
    "start_time": "2021-11-29T15:12:05.959Z"
   },
   {
    "duration": 35,
    "start_time": "2021-11-29T15:12:05.989Z"
   },
   {
    "duration": 344,
    "start_time": "2021-11-29T15:12:06.027Z"
   },
   {
    "duration": 14,
    "start_time": "2021-11-29T15:12:06.374Z"
   },
   {
    "duration": 21,
    "start_time": "2021-11-29T15:12:06.390Z"
   },
   {
    "duration": 14,
    "start_time": "2021-11-29T15:12:06.414Z"
   },
   {
    "duration": 654,
    "start_time": "2021-11-29T15:12:06.431Z"
   },
   {
    "duration": 12,
    "start_time": "2021-11-29T15:12:07.088Z"
   },
   {
    "duration": 28,
    "start_time": "2021-11-29T15:12:07.104Z"
   },
   {
    "duration": 17,
    "start_time": "2021-11-29T15:12:07.135Z"
   },
   {
    "duration": 365,
    "start_time": "2021-11-29T15:12:07.155Z"
   },
   {
    "duration": 9,
    "start_time": "2021-11-29T15:12:07.523Z"
   },
   {
    "duration": 15,
    "start_time": "2021-11-29T15:12:07.534Z"
   },
   {
    "duration": 31,
    "start_time": "2021-11-29T15:12:07.552Z"
   },
   {
    "duration": 12,
    "start_time": "2021-11-29T15:12:07.586Z"
   },
   {
    "duration": 13,
    "start_time": "2021-11-29T15:12:07.601Z"
   },
   {
    "duration": 11,
    "start_time": "2021-11-29T15:16:28.379Z"
   },
   {
    "duration": 10,
    "start_time": "2021-11-29T15:16:28.779Z"
   },
   {
    "duration": 359,
    "start_time": "2021-11-29T15:16:29.242Z"
   },
   {
    "duration": 357,
    "start_time": "2021-11-29T15:16:38.557Z"
   },
   {
    "duration": 362,
    "start_time": "2021-11-29T15:16:44.304Z"
   },
   {
    "duration": 362,
    "start_time": "2021-11-29T15:16:50.264Z"
   },
   {
    "duration": 366,
    "start_time": "2021-11-29T15:17:10.423Z"
   },
   {
    "duration": 9,
    "start_time": "2021-11-29T15:54:22.407Z"
   },
   {
    "duration": 8,
    "start_time": "2021-11-29T15:54:23.097Z"
   },
   {
    "duration": 6,
    "start_time": "2021-11-29T16:16:22.407Z"
   },
   {
    "duration": 8,
    "start_time": "2021-11-29T16:20:08.356Z"
   },
   {
    "duration": 16,
    "start_time": "2021-11-29T16:30:54.434Z"
   },
   {
    "duration": 17,
    "start_time": "2021-11-29T16:35:39.449Z"
   },
   {
    "duration": 15,
    "start_time": "2021-11-29T16:39:28.793Z"
   },
   {
    "duration": 12,
    "start_time": "2021-11-29T16:51:22.371Z"
   },
   {
    "duration": 14,
    "start_time": "2021-11-29T16:53:38.046Z"
   },
   {
    "duration": 20,
    "start_time": "2021-11-29T17:00:26.664Z"
   },
   {
    "duration": 5,
    "start_time": "2021-11-29T17:03:10.690Z"
   },
   {
    "duration": 598,
    "start_time": "2021-11-29T17:03:10.698Z"
   },
   {
    "duration": 14,
    "start_time": "2021-11-29T17:03:11.299Z"
   },
   {
    "duration": 16,
    "start_time": "2021-11-29T17:03:11.316Z"
   },
   {
    "duration": 29,
    "start_time": "2021-11-29T17:03:11.334Z"
   },
   {
    "duration": 21,
    "start_time": "2021-11-29T17:03:11.365Z"
   },
   {
    "duration": 8,
    "start_time": "2021-11-29T17:03:11.388Z"
   },
   {
    "duration": 12,
    "start_time": "2021-11-29T17:03:11.400Z"
   },
   {
    "duration": 27,
    "start_time": "2021-11-29T17:03:11.415Z"
   },
   {
    "duration": 35,
    "start_time": "2021-11-29T17:03:11.483Z"
   },
   {
    "duration": 142,
    "start_time": "2021-11-29T17:03:11.521Z"
   },
   {
    "duration": 48,
    "start_time": "2021-11-29T17:03:11.666Z"
   },
   {
    "duration": 10,
    "start_time": "2021-11-29T17:03:11.716Z"
   },
   {
    "duration": 26,
    "start_time": "2021-11-29T17:03:11.728Z"
   },
   {
    "duration": 19,
    "start_time": "2021-11-29T17:03:11.781Z"
   },
   {
    "duration": 89,
    "start_time": "2021-11-29T17:03:11.802Z"
   },
   {
    "duration": 21,
    "start_time": "2021-11-29T17:03:11.894Z"
   },
   {
    "duration": 11,
    "start_time": "2021-11-29T17:03:11.918Z"
   },
   {
    "duration": 57,
    "start_time": "2021-11-29T17:03:11.931Z"
   },
   {
    "duration": 38,
    "start_time": "2021-11-29T17:03:11.990Z"
   },
   {
    "duration": 124,
    "start_time": "2021-11-29T17:03:12.030Z"
   },
   {
    "duration": 34,
    "start_time": "2021-11-29T17:03:12.156Z"
   },
   {
    "duration": 11,
    "start_time": "2021-11-29T17:03:12.197Z"
   },
   {
    "duration": 12,
    "start_time": "2021-11-29T17:03:12.213Z"
   },
   {
    "duration": 82,
    "start_time": "2021-11-29T17:03:12.227Z"
   },
   {
    "duration": 11,
    "start_time": "2021-11-29T17:03:12.312Z"
   },
   {
    "duration": 11,
    "start_time": "2021-11-29T17:03:12.327Z"
   },
   {
    "duration": 44,
    "start_time": "2021-11-29T17:03:12.341Z"
   },
   {
    "duration": 15,
    "start_time": "2021-11-29T17:03:12.388Z"
   },
   {
    "duration": 14,
    "start_time": "2021-11-29T17:03:12.406Z"
   },
   {
    "duration": 564,
    "start_time": "2021-11-29T17:03:12.423Z"
   },
   {
    "duration": 39,
    "start_time": "2021-11-29T17:03:12.993Z"
   },
   {
    "duration": 5,
    "start_time": "2021-11-29T17:03:13.035Z"
   },
   {
    "duration": 44,
    "start_time": "2021-11-29T17:03:13.042Z"
   },
   {
    "duration": 408,
    "start_time": "2021-11-29T17:03:13.088Z"
   },
   {
    "duration": 22,
    "start_time": "2021-11-29T17:03:13.498Z"
   },
   {
    "duration": 10,
    "start_time": "2021-11-29T17:03:13.522Z"
   },
   {
    "duration": 493,
    "start_time": "2021-11-29T17:03:13.534Z"
   },
   {
    "duration": 28,
    "start_time": "2021-11-29T17:03:14.029Z"
   },
   {
    "duration": 5,
    "start_time": "2021-11-29T17:03:14.060Z"
   },
   {
    "duration": 41,
    "start_time": "2021-11-29T17:03:14.081Z"
   },
   {
    "duration": 10,
    "start_time": "2021-11-29T17:03:14.124Z"
   },
   {
    "duration": 104,
    "start_time": "2021-11-29T17:03:14.136Z"
   },
   {
    "duration": 476,
    "start_time": "2021-11-29T17:03:14.242Z"
   },
   {
    "duration": 36,
    "start_time": "2021-11-29T17:03:14.721Z"
   },
   {
    "duration": 319,
    "start_time": "2021-11-29T17:03:14.760Z"
   },
   {
    "duration": 65,
    "start_time": "2021-11-29T17:03:15.082Z"
   },
   {
    "duration": 521,
    "start_time": "2021-11-29T17:03:15.149Z"
   },
   {
    "duration": 54,
    "start_time": "2021-11-29T17:03:15.673Z"
   },
   {
    "duration": 72,
    "start_time": "2021-11-29T17:03:15.730Z"
   },
   {
    "duration": 18,
    "start_time": "2021-11-29T17:03:15.805Z"
   },
   {
    "duration": 6,
    "start_time": "2021-11-29T17:03:15.825Z"
   },
   {
    "duration": 352,
    "start_time": "2021-11-29T17:03:15.834Z"
   },
   {
    "duration": 8,
    "start_time": "2021-11-29T17:03:16.188Z"
   },
   {
    "duration": 19,
    "start_time": "2021-11-29T17:03:16.198Z"
   },
   {
    "duration": 21,
    "start_time": "2021-11-29T17:03:16.219Z"
   },
   {
    "duration": 21,
    "start_time": "2021-11-29T17:03:16.243Z"
   },
   {
    "duration": 22,
    "start_time": "2021-11-29T17:03:16.267Z"
   },
   {
    "duration": 377,
    "start_time": "2021-11-29T17:03:16.291Z"
   },
   {
    "duration": 8,
    "start_time": "2021-11-29T17:03:16.681Z"
   },
   {
    "duration": 25,
    "start_time": "2021-11-29T17:03:16.692Z"
   },
   {
    "duration": 14,
    "start_time": "2021-11-29T17:03:16.719Z"
   },
   {
    "duration": 379,
    "start_time": "2021-11-29T17:03:16.736Z"
   },
   {
    "duration": 11,
    "start_time": "2021-11-29T17:03:17.117Z"
   },
   {
    "duration": 13,
    "start_time": "2021-11-29T17:03:17.131Z"
   },
   {
    "duration": 40,
    "start_time": "2021-11-29T17:03:17.147Z"
   },
   {
    "duration": 515,
    "start_time": "2021-11-29T17:03:17.190Z"
   },
   {
    "duration": 9,
    "start_time": "2021-11-29T17:03:17.712Z"
   },
   {
    "duration": 61,
    "start_time": "2021-11-29T17:03:17.723Z"
   },
   {
    "duration": 25,
    "start_time": "2021-11-29T17:03:17.787Z"
   },
   {
    "duration": 392,
    "start_time": "2021-11-29T17:03:17.815Z"
   },
   {
    "duration": 12,
    "start_time": "2021-11-29T17:03:18.209Z"
   },
   {
    "duration": 15,
    "start_time": "2021-11-29T17:03:18.224Z"
   },
   {
    "duration": 22,
    "start_time": "2021-11-29T17:03:18.241Z"
   },
   {
    "duration": 24,
    "start_time": "2021-11-29T17:03:18.266Z"
   },
   {
    "duration": 21,
    "start_time": "2021-11-29T17:03:18.293Z"
   },
   {
    "duration": 15,
    "start_time": "2021-11-29T17:05:05.995Z"
   },
   {
    "duration": 5,
    "start_time": "2021-11-29T17:05:30.156Z"
   },
   {
    "duration": 576,
    "start_time": "2021-11-29T17:05:30.164Z"
   },
   {
    "duration": 16,
    "start_time": "2021-11-29T17:05:30.743Z"
   },
   {
    "duration": 21,
    "start_time": "2021-11-29T17:05:30.762Z"
   },
   {
    "duration": 42,
    "start_time": "2021-11-29T17:05:30.786Z"
   },
   {
    "duration": 13,
    "start_time": "2021-11-29T17:05:30.830Z"
   },
   {
    "duration": 24,
    "start_time": "2021-11-29T17:05:30.847Z"
   },
   {
    "duration": 24,
    "start_time": "2021-11-29T17:05:30.874Z"
   },
   {
    "duration": 34,
    "start_time": "2021-11-29T17:05:30.901Z"
   },
   {
    "duration": 44,
    "start_time": "2021-11-29T17:05:30.938Z"
   },
   {
    "duration": 131,
    "start_time": "2021-11-29T17:05:30.984Z"
   },
   {
    "duration": 26,
    "start_time": "2021-11-29T17:05:31.117Z"
   },
   {
    "duration": 40,
    "start_time": "2021-11-29T17:05:31.145Z"
   },
   {
    "duration": 27,
    "start_time": "2021-11-29T17:05:31.188Z"
   },
   {
    "duration": 18,
    "start_time": "2021-11-29T17:05:31.217Z"
   },
   {
    "duration": 87,
    "start_time": "2021-11-29T17:05:31.237Z"
   },
   {
    "duration": 18,
    "start_time": "2021-11-29T17:05:31.327Z"
   },
   {
    "duration": 35,
    "start_time": "2021-11-29T17:05:31.348Z"
   },
   {
    "duration": 32,
    "start_time": "2021-11-29T17:05:31.389Z"
   },
   {
    "duration": 40,
    "start_time": "2021-11-29T17:05:31.424Z"
   },
   {
    "duration": 117,
    "start_time": "2021-11-29T17:05:31.483Z"
   },
   {
    "duration": 22,
    "start_time": "2021-11-29T17:05:31.602Z"
   },
   {
    "duration": 12,
    "start_time": "2021-11-29T17:05:31.626Z"
   },
   {
    "duration": 14,
    "start_time": "2021-11-29T17:05:31.640Z"
   },
   {
    "duration": 42,
    "start_time": "2021-11-29T17:05:31.681Z"
   },
   {
    "duration": 7,
    "start_time": "2021-11-29T17:05:31.725Z"
   },
   {
    "duration": 16,
    "start_time": "2021-11-29T17:05:31.735Z"
   },
   {
    "duration": 33,
    "start_time": "2021-11-29T17:05:31.753Z"
   },
   {
    "duration": 26,
    "start_time": "2021-11-29T17:05:31.789Z"
   },
   {
    "duration": 16,
    "start_time": "2021-11-29T17:05:31.818Z"
   },
   {
    "duration": 548,
    "start_time": "2021-11-29T17:05:31.837Z"
   },
   {
    "duration": 36,
    "start_time": "2021-11-29T17:05:32.387Z"
   },
   {
    "duration": 6,
    "start_time": "2021-11-29T17:05:32.426Z"
   },
   {
    "duration": 26,
    "start_time": "2021-11-29T17:05:32.434Z"
   },
   {
    "duration": 338,
    "start_time": "2021-11-29T17:05:32.483Z"
   },
   {
    "duration": 24,
    "start_time": "2021-11-29T17:05:32.823Z"
   },
   {
    "duration": 32,
    "start_time": "2021-11-29T17:05:32.850Z"
   },
   {
    "duration": 424,
    "start_time": "2021-11-29T17:05:32.885Z"
   },
   {
    "duration": 52,
    "start_time": "2021-11-29T17:05:33.312Z"
   },
   {
    "duration": 20,
    "start_time": "2021-11-29T17:05:33.367Z"
   },
   {
    "duration": 26,
    "start_time": "2021-11-29T17:05:33.390Z"
   },
   {
    "duration": 12,
    "start_time": "2021-11-29T17:05:33.420Z"
   },
   {
    "duration": 108,
    "start_time": "2021-11-29T17:05:33.435Z"
   },
   {
    "duration": 437,
    "start_time": "2021-11-29T17:05:33.546Z"
   },
   {
    "duration": 38,
    "start_time": "2021-11-29T17:05:33.985Z"
   },
   {
    "duration": 328,
    "start_time": "2021-11-29T17:05:34.025Z"
   },
   {
    "duration": 68,
    "start_time": "2021-11-29T17:05:34.355Z"
   },
   {
    "duration": 414,
    "start_time": "2021-11-29T17:05:34.425Z"
   },
   {
    "duration": 65,
    "start_time": "2021-11-29T17:05:34.842Z"
   },
   {
    "duration": 50,
    "start_time": "2021-11-29T17:05:34.910Z"
   },
   {
    "duration": 32,
    "start_time": "2021-11-29T17:05:34.963Z"
   },
   {
    "duration": 8,
    "start_time": "2021-11-29T17:05:34.998Z"
   },
   {
    "duration": 574,
    "start_time": "2021-11-29T17:05:35.008Z"
   },
   {
    "duration": 12,
    "start_time": "2021-11-29T17:05:35.585Z"
   },
   {
    "duration": 10,
    "start_time": "2021-11-29T17:05:35.610Z"
   },
   {
    "duration": 13,
    "start_time": "2021-11-29T17:05:35.623Z"
   },
   {
    "duration": 36,
    "start_time": "2021-11-29T17:05:35.639Z"
   },
   {
    "duration": 12,
    "start_time": "2021-11-29T17:05:35.682Z"
   },
   {
    "duration": 538,
    "start_time": "2021-11-29T17:05:35.697Z"
   },
   {
    "duration": 9,
    "start_time": "2021-11-29T17:05:36.238Z"
   },
   {
    "duration": 31,
    "start_time": "2021-11-29T17:05:36.251Z"
   },
   {
    "duration": 12,
    "start_time": "2021-11-29T17:05:36.285Z"
   },
   {
    "duration": 456,
    "start_time": "2021-11-29T17:05:36.301Z"
   },
   {
    "duration": 23,
    "start_time": "2021-11-29T17:05:36.760Z"
   },
   {
    "duration": 13,
    "start_time": "2021-11-29T17:05:36.786Z"
   },
   {
    "duration": 12,
    "start_time": "2021-11-29T17:05:36.802Z"
   },
   {
    "duration": 534,
    "start_time": "2021-11-29T17:05:36.817Z"
   },
   {
    "duration": 25,
    "start_time": "2021-11-29T17:05:37.354Z"
   },
   {
    "duration": 18,
    "start_time": "2021-11-29T17:05:37.382Z"
   },
   {
    "duration": 12,
    "start_time": "2021-11-29T17:05:37.403Z"
   },
   {
    "duration": 591,
    "start_time": "2021-11-29T17:05:37.417Z"
   },
   {
    "duration": 13,
    "start_time": "2021-11-29T17:05:38.010Z"
   },
   {
    "duration": 23,
    "start_time": "2021-11-29T17:05:38.026Z"
   },
   {
    "duration": 8,
    "start_time": "2021-11-29T17:05:38.051Z"
   },
   {
    "duration": 24,
    "start_time": "2021-11-29T17:05:38.061Z"
   },
   {
    "duration": 9,
    "start_time": "2021-11-29T17:05:38.088Z"
   },
   {
    "duration": 1595,
    "start_time": "2021-11-30T00:42:54.972Z"
   },
   {
    "duration": 576,
    "start_time": "2021-11-30T00:42:56.570Z"
   },
   {
    "duration": 20,
    "start_time": "2021-11-30T00:42:57.149Z"
   },
   {
    "duration": 13,
    "start_time": "2021-11-30T00:42:57.173Z"
   },
   {
    "duration": 26,
    "start_time": "2021-11-30T00:42:57.189Z"
   },
   {
    "duration": 11,
    "start_time": "2021-11-30T00:42:57.218Z"
   },
   {
    "duration": 13,
    "start_time": "2021-11-30T00:42:57.268Z"
   },
   {
    "duration": 20,
    "start_time": "2021-11-30T00:42:57.284Z"
   },
   {
    "duration": 58,
    "start_time": "2021-11-30T00:42:57.309Z"
   },
   {
    "duration": 48,
    "start_time": "2021-11-30T00:42:57.371Z"
   },
   {
    "duration": 189,
    "start_time": "2021-11-30T00:42:57.423Z"
   },
   {
    "duration": 30,
    "start_time": "2021-11-30T00:42:57.615Z"
   },
   {
    "duration": 15,
    "start_time": "2021-11-30T00:42:57.673Z"
   },
   {
    "duration": 22,
    "start_time": "2021-11-30T00:42:57.691Z"
   },
   {
    "duration": 18,
    "start_time": "2021-11-30T00:42:57.716Z"
   },
   {
    "duration": 101,
    "start_time": "2021-11-30T00:42:57.736Z"
   },
   {
    "duration": 33,
    "start_time": "2021-11-30T00:42:57.840Z"
   },
   {
    "duration": 14,
    "start_time": "2021-11-30T00:42:57.875Z"
   },
   {
    "duration": 29,
    "start_time": "2021-11-30T00:42:57.892Z"
   },
   {
    "duration": 78,
    "start_time": "2021-11-30T00:42:57.924Z"
   },
   {
    "duration": 133,
    "start_time": "2021-11-30T00:42:58.005Z"
   },
   {
    "duration": 36,
    "start_time": "2021-11-30T00:42:58.141Z"
   },
   {
    "duration": 14,
    "start_time": "2021-11-30T00:42:58.185Z"
   },
   {
    "duration": 12,
    "start_time": "2021-11-30T00:42:58.201Z"
   },
   {
    "duration": 85,
    "start_time": "2021-11-30T00:42:58.215Z"
   },
   {
    "duration": 9,
    "start_time": "2021-11-30T00:42:58.303Z"
   },
   {
    "duration": 8,
    "start_time": "2021-11-30T00:42:58.319Z"
   },
   {
    "duration": 7,
    "start_time": "2021-11-30T00:42:58.331Z"
   },
   {
    "duration": 13,
    "start_time": "2021-11-30T00:42:58.371Z"
   },
   {
    "duration": 13,
    "start_time": "2021-11-30T00:42:58.387Z"
   },
   {
    "duration": 576,
    "start_time": "2021-11-30T00:42:58.403Z"
   },
   {
    "duration": 41,
    "start_time": "2021-11-30T00:42:58.982Z"
   },
   {
    "duration": 5,
    "start_time": "2021-11-30T00:42:59.026Z"
   },
   {
    "duration": 39,
    "start_time": "2021-11-30T00:42:59.034Z"
   },
   {
    "duration": 342,
    "start_time": "2021-11-30T00:42:59.076Z"
   },
   {
    "duration": 24,
    "start_time": "2021-11-30T00:42:59.420Z"
   },
   {
    "duration": 29,
    "start_time": "2021-11-30T00:42:59.447Z"
   },
   {
    "duration": 458,
    "start_time": "2021-11-30T00:42:59.479Z"
   },
   {
    "duration": 62,
    "start_time": "2021-11-30T00:42:59.940Z"
   },
   {
    "duration": 7,
    "start_time": "2021-11-30T00:43:00.005Z"
   },
   {
    "duration": 31,
    "start_time": "2021-11-30T00:43:00.015Z"
   },
   {
    "duration": 19,
    "start_time": "2021-11-30T00:43:00.067Z"
   },
   {
    "duration": 100,
    "start_time": "2021-11-30T00:43:00.089Z"
   },
   {
    "duration": 434,
    "start_time": "2021-11-30T00:43:00.191Z"
   },
   {
    "duration": 61,
    "start_time": "2021-11-30T00:43:00.628Z"
   },
   {
    "duration": 335,
    "start_time": "2021-11-30T00:43:00.691Z"
   },
   {
    "duration": 80,
    "start_time": "2021-11-30T00:43:01.028Z"
   },
   {
    "duration": 470,
    "start_time": "2021-11-30T00:43:01.111Z"
   },
   {
    "duration": 55,
    "start_time": "2021-11-30T00:43:01.584Z"
   },
   {
    "duration": 79,
    "start_time": "2021-11-30T00:43:01.641Z"
   },
   {
    "duration": 16,
    "start_time": "2021-11-30T00:43:01.723Z"
   },
   {
    "duration": 29,
    "start_time": "2021-11-30T00:43:01.742Z"
   },
   {
    "duration": 389,
    "start_time": "2021-11-30T00:43:01.775Z"
   },
   {
    "duration": 15,
    "start_time": "2021-11-30T00:43:02.166Z"
   },
   {
    "duration": 7,
    "start_time": "2021-11-30T00:43:02.185Z"
   },
   {
    "duration": 10,
    "start_time": "2021-11-30T00:43:02.195Z"
   },
   {
    "duration": 25,
    "start_time": "2021-11-30T00:43:02.207Z"
   },
   {
    "duration": 10,
    "start_time": "2021-11-30T00:43:02.235Z"
   },
   {
    "duration": 400,
    "start_time": "2021-11-30T00:43:02.273Z"
   },
   {
    "duration": 10,
    "start_time": "2021-11-30T00:43:02.676Z"
   },
   {
    "duration": 22,
    "start_time": "2021-11-30T00:43:02.688Z"
   },
   {
    "duration": 10,
    "start_time": "2021-11-30T00:43:02.712Z"
   },
   {
    "duration": 418,
    "start_time": "2021-11-30T00:43:02.724Z"
   },
   {
    "duration": 10,
    "start_time": "2021-11-30T00:43:03.145Z"
   },
   {
    "duration": 13,
    "start_time": "2021-11-30T00:43:03.179Z"
   },
   {
    "duration": 10,
    "start_time": "2021-11-30T00:43:03.194Z"
   },
   {
    "duration": 484,
    "start_time": "2021-11-30T00:43:03.206Z"
   },
   {
    "duration": 14,
    "start_time": "2021-11-30T00:43:03.692Z"
   },
   {
    "duration": 10,
    "start_time": "2021-11-30T00:43:03.709Z"
   },
   {
    "duration": 11,
    "start_time": "2021-11-30T00:43:03.721Z"
   },
   {
    "duration": 558,
    "start_time": "2021-11-30T00:43:03.734Z"
   },
   {
    "duration": 16,
    "start_time": "2021-11-30T00:43:04.296Z"
   },
   {
    "duration": 11,
    "start_time": "2021-11-30T00:43:04.315Z"
   },
   {
    "duration": 44,
    "start_time": "2021-11-30T00:43:04.329Z"
   },
   {
    "duration": 16,
    "start_time": "2021-11-30T00:43:04.377Z"
   },
   {
    "duration": 9,
    "start_time": "2021-11-30T00:43:04.396Z"
   },
   {
    "duration": 39,
    "start_time": "2021-11-30T00:45:37.156Z"
   },
   {
    "duration": 6,
    "start_time": "2021-11-30T00:45:47.556Z"
   },
   {
    "duration": 11,
    "start_time": "2021-11-30T00:46:07.102Z"
   },
   {
    "duration": 1507,
    "start_time": "2021-11-30T07:11:37.598Z"
   },
   {
    "duration": 559,
    "start_time": "2021-11-30T07:11:39.108Z"
   },
   {
    "duration": 19,
    "start_time": "2021-11-30T07:11:39.671Z"
   },
   {
    "duration": 10,
    "start_time": "2021-11-30T07:11:39.693Z"
   },
   {
    "duration": 29,
    "start_time": "2021-11-30T07:11:39.705Z"
   },
   {
    "duration": 36,
    "start_time": "2021-11-30T07:11:39.736Z"
   },
   {
    "duration": 7,
    "start_time": "2021-11-30T07:11:39.775Z"
   },
   {
    "duration": 16,
    "start_time": "2021-11-30T07:11:39.785Z"
   },
   {
    "duration": 28,
    "start_time": "2021-11-30T07:11:39.962Z"
   },
   {
    "duration": 37,
    "start_time": "2021-11-30T07:11:40.152Z"
   },
   {
    "duration": 131,
    "start_time": "2021-11-30T07:11:40.417Z"
   },
   {
    "duration": 25,
    "start_time": "2021-11-30T07:11:40.612Z"
   },
   {
    "duration": 11,
    "start_time": "2021-11-30T07:11:40.980Z"
   },
   {
    "duration": 19,
    "start_time": "2021-11-30T07:11:41.152Z"
   },
   {
    "duration": 20,
    "start_time": "2021-11-30T07:11:41.322Z"
   },
   {
    "duration": 60,
    "start_time": "2021-11-30T07:11:41.480Z"
   },
   {
    "duration": 19,
    "start_time": "2021-11-30T07:11:41.646Z"
   },
   {
    "duration": 14,
    "start_time": "2021-11-30T07:11:41.969Z"
   },
   {
    "duration": 24,
    "start_time": "2021-11-30T07:11:42.125Z"
   },
   {
    "duration": 39,
    "start_time": "2021-11-30T07:11:42.301Z"
   },
   {
    "duration": 117,
    "start_time": "2021-11-30T07:11:42.478Z"
   },
   {
    "duration": 22,
    "start_time": "2021-11-30T07:11:43.056Z"
   },
   {
    "duration": 13,
    "start_time": "2021-11-30T07:11:43.410Z"
   },
   {
    "duration": 10,
    "start_time": "2021-11-30T07:11:43.586Z"
   },
   {
    "duration": 43,
    "start_time": "2021-11-30T07:11:43.765Z"
   },
   {
    "duration": 8,
    "start_time": "2021-11-30T07:11:43.949Z"
   },
   {
    "duration": 8,
    "start_time": "2021-11-30T07:11:44.137Z"
   },
   {
    "duration": 7,
    "start_time": "2021-11-30T07:11:45.478Z"
   },
   {
    "duration": 9,
    "start_time": "2021-11-30T07:11:45.680Z"
   },
   {
    "duration": 11,
    "start_time": "2021-11-30T07:11:45.857Z"
   },
   {
    "duration": 508,
    "start_time": "2021-11-30T07:11:46.211Z"
   },
   {
    "duration": 45,
    "start_time": "2021-11-30T07:11:46.722Z"
   },
   {
    "duration": 6,
    "start_time": "2021-11-30T07:11:46.770Z"
   },
   {
    "duration": 16,
    "start_time": "2021-11-30T07:11:47.554Z"
   },
   {
    "duration": 309,
    "start_time": "2021-11-30T07:11:47.935Z"
   },
   {
    "duration": 44,
    "start_time": "2021-11-30T07:11:48.248Z"
   },
   {
    "duration": 12,
    "start_time": "2021-11-30T07:11:48.301Z"
   },
   {
    "duration": 414,
    "start_time": "2021-11-30T07:11:48.668Z"
   },
   {
    "duration": 30,
    "start_time": "2021-11-30T07:11:49.085Z"
   },
   {
    "duration": 6,
    "start_time": "2021-11-30T07:11:49.299Z"
   },
   {
    "duration": 25,
    "start_time": "2021-11-30T07:11:49.489Z"
   },
   {
    "duration": 9,
    "start_time": "2021-11-30T07:11:49.663Z"
   },
   {
    "duration": 101,
    "start_time": "2021-11-30T07:11:58.013Z"
   },
   {
    "duration": 109,
    "start_time": "2021-11-30T07:11:58.381Z"
   },
   {
    "duration": 218,
    "start_time": "2021-11-30T07:41:01.494Z"
   }
  ],
  "kernelspec": {
   "display_name": "Python 3 (ipykernel)",
   "language": "python",
   "name": "python3"
  },
  "language_info": {
   "codemirror_mode": {
    "name": "ipython",
    "version": 3
   },
   "file_extension": ".py",
   "mimetype": "text/x-python",
   "name": "python",
   "nbconvert_exporter": "python",
   "pygments_lexer": "ipython3",
   "version": "3.9.7"
  },
  "toc": {
   "base_numbering": 1,
   "nav_menu": {
    "height": "12px",
    "width": "160px"
   },
   "number_sections": true,
   "sideBar": true,
   "skip_h1_title": true,
   "title_cell": "Table of Contents",
   "title_sidebar": "Contents",
   "toc_cell": false,
   "toc_position": {},
   "toc_section_display": true,
   "toc_window_display": false
  }
 },
 "nbformat": 4,
 "nbformat_minor": 2
}
