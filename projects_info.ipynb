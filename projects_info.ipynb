{
 "cells": [
  {
   "cell_type": "markdown",
   "id": "0b141b10",
   "metadata": {},
   "source": [
    "# DS_projects\n",
    "\n",
    "В репозитории представлены учебные проекты Яндекс.Практикум \"Специалист по Data Science\" по следующим темам:\n",
    "\n",
    "| № | **Тема** | **Название проекта** | **Описание** | **Инструменты** |  \n",
    "|:--|:-----------|:---------------------|:-------------|:----------------|  \n",
    "| 1 | [**Предобработка данных**](https://github.com/andreyi91/DS_projects/tree/master/01.%20%D0%9F%D1%80%D0%B5%D0%B4%D0%BE%D0%B1%D1%80%D0%B0%D0%B1%D0%BE%D1%82%D0%BA%D0%B0%20%D0%B4%D0%B0%D0%BD%D0%BD%D1%8B%D1%85) | **Debtor reliability analysis** | Исследование статистики о платёжеспособности клиентов. Влияние семейного положения и количества детей клиента на факт возврата кредита в срок | - python<br>- pandas<br>- pymystem3 |\n",
    "| 2 | [**Исследовательский анализ данных**](https://github.com/andreyi91/DS_projects/tree/master/02.%20%D0%98%D1%81%D1%81%D0%BB%D0%B5%D0%B4%D0%BE%D0%B2%D0%B0%D1%82%D0%B5%D0%BB%D1%8C%D1%81%D0%BA%D0%B8%D0%B9%20%D0%B0%D0%BD%D0%B0%D0%BB%D0%B8%D0%B7%20%D0%B4%D0%B0%D0%BD%D0%BD%D1%8B%D1%85) | **Flat price analysis** | Определение рыночной стоимости объектов недвижимости | - python<br>- pandas<br>- matplotlib |  \n",
    "| 3 | [**Статистический анализ данных**](https://github.com/andreyi91/DS_projects/tree/master/03.%20%D0%A1%D1%82%D0%B0%D1%82%D0%B8%D1%81%D1%82%D0%B8%D1%87%D0%B5%D1%81%D0%BA%D0%B8%D0%B9%20%D0%B0%D0%BD%D0%B0%D0%BB%D0%B8%D0%B7%20%D0%B4%D0%B0%D0%BD%D0%BD%D1%8B%D1%85) | **Tariff analysis** | Анализ тарифов и их пользователей на выборке клиентов мобильного оператора | - python<br>- pandas<br>- scipy<br>- math<br>- matplotlib<br>- seaborn |  \n",
    "| 4 | [**Сборный проект 1 \"Предобработка данных\"**](https://github.com/andreyi91/DS_projects/tree/master/04.%20%D0%A1%D0%B1%D0%BE%D1%80%D0%BD%D1%8B%D0%B9%20%D0%BF%D1%80%D0%BE%D0%B5%D0%BA%D1%82%201%20%22%D0%9F%D1%80%D0%B5%D0%B4%D0%BE%D0%B1%D1%80%D0%B0%D0%B1%D0%BE%D1%82%D0%BA%D0%B0%20%D0%B4%D0%B0%D0%BD%D0%BD%D1%8B%D1%85%22) | **Tariff recommendation** | Анализ исторических данных из открытых источников о продажах игр, оценках пользователей и экспертов, жанров и платформ | - python<br>- pandas<br>- scipy<br>- math<br>- matplotlib<br>- seaborn |  \n",
    "| 5 | [**Базовое машинное обучение**](https://github.com/andreyi91/DS_projects/tree/master/05.%20%D0%91%D0%B0%D0%B7%D0%BE%D0%B2%D0%BE%D0%B5%20%D0%BC%D0%B0%D1%88%D0%B8%D0%BD%D0%BD%D0%BE%D0%B5%20%D0%BE%D0%B1%D1%83%D1%87%D0%B5%D0%BD%D0%B8%D0%B5) | **Bank churn** | Построение модели подбора мобильного тарифа для пользователя | - python<br>- pandas<br>- sklearn<br>- matplotlib<br>- seaborn |  \n",
    "| 6 | [**Обучение с учителем**](https://github.com/andreyi91/DS_projects/tree/master/06.%20%D0%9E%D0%B1%D1%83%D1%87%D0%B5%D0%BD%D0%B8%D0%B5%20%D1%81%20%D1%83%D1%87%D0%B8%D1%82%D0%B5%D0%BB%D0%B5%D0%BC) | **Oil well location** | Прогноз оттока клиентов банка на основании исторических данных | - python<br>- pandas<br>- sklearn<br>- matplotlib<br>- seaborn |  \n",
    "| 7 | [**Машинное обучение для бизнеса**](https://github.com/andreyi91/DS_projects/tree/master/07.%20%D0%9C%D0%B0%D1%88%D0%B8%D0%BD%D0%BD%D0%BE%D0%B5%20%D0%BE%D0%B1%D1%83%D1%87%D0%B5%D0%BD%D0%B8%D0%B5%20%D0%B4%D0%BB%D1%8F%20%D0%B1%D0%B8%D0%B7%D0%BD%D0%B5%D1%81%D0%B0) | **Gold recovery prediction** | В трёх нефтедобывающих регионах (по 10000 скважин в каждом) взяты пробы нефти, измерено качество сырья объём её запасов. Необходимо построить модель машинного обучения, которая поможет определить регион, где добыча принесёт наибольшую прибыль | - python<br>- pandas<br>- numpy<br>- sklearn<br>- scipy<br>- matplotlib<br>- seaborn |  \n",
    "| 8 | [**Сборный проект 2**](https://github.com/andreyi91/DS_projects/tree/master/08.%20%D0%A1%D0%B1%D0%BE%D1%80%D0%BD%D1%8B%D0%B9%20%D0%BF%D1%80%D0%BE%D0%B5%D0%BA%D1%82%202) | **Gold recovery prediction** | Предсказание коэффициента восстановления золота из золотосодержащей руды. Доступны данные с параметрами добычи и очистки | - python<br>- pandas<br>- numpy<br>- sklearn<br>- scipy<br>- matplotlib<br>- seaborn |  \n",
    "| 9 | [**Численные методы**](https://github.com/andreyi91/DS_projects/tree/master/09.%20%D0%A7%D0%B8%D1%81%D0%BB%D0%B5%D0%BD%D0%BD%D1%8B%D0%B5%20%D0%BC%D0%B5%D1%82%D0%BE%D0%B4%D1%8B) | **Car price prediction** | Модель для определения стоимости автомобилей на основании технических характеристик, комплектаций и исторических данных | - python<br>- pandas<br>- sklearn<br>- lightgbm<br>- matplotlib<br>- seaborn<br>- flask |  \n",
    "| 10 | [**Временные ряды**](https://github.com/andreyi91/DS_projects/tree/master/10.%20%D0%92%D1%80%D0%B5%D0%BC%D0%B5%D0%BD%D0%BD%D1%8B%D0%B5%20%D1%80%D1%8F%D0%B4%D1%8B) | **Taxi order prediction** | Прогноз количества заказов такси на следующий час на основании исторической информации | - python<br>- pandas<br>- numpy<br>- sklearn<br>- lightgbm<br>- statsmodels<br>- matplotlib<br>- seaborn |  \n",
    "| 11 | [**Классификация текстов**](https://github.com/andreyi91/DS_projects/tree/master/11.%20%D0%9A%D0%BB%D0%B0%D1%81%D1%81%D0%B8%D1%84%D0%B8%D0%BA%D0%B0%D1%86%D0%B8%D1%8F%20%D1%82%D0%B5%D0%BA%D1%81%D1%82%D0%BE%D0%B2) | **NLP_semantic_analysis** | Классификация комментариев на позитивные и негативные. В распоряжении набор данных с разметкой о токсичности сообщений | - python<br>- pandas<br>- numpy<br>- sklearn<br>- nltk<br>- matplotlib<br>- seaborn |  \n",
    "| 12 | [**Компьютерное зрение**](https://github.com/andreyi91/DS_projects/blob/master/12.%20%D0%9F%D1%80%D0%B5%D0%B4%D1%81%D0%BA%D0%B0%D0%B7%D0%B0%D0%BD%D0%B8%D0%B5%20%D0%BE%D1%82%D1%82%D0%BE%D0%BA%D0%B0%20%D0%BA%D0%BB%D0%B8%D0%B5%D0%BD%D1%82%D0%BE%D0%B2/client_churn_prediction.ipynb) | **CV_age_determination** | Определение возраста людей по фотографии. Для обучения модели доступны снимки с возрастами. | - python<br>- pandas<br>- matplotlib<br>- seaborn<br>- keras\n",
    "| 13 | [**Предсказание оттока клиентов**](https://github.com/andreyi91/DS_projects/blob/master/12.%20%D0%9F%D1%80%D0%B5%D0%B4%D1%81%D0%BA%D0%B0%D0%B7%D0%B0%D0%BD%D0%B8%D0%B5%20%D0%BE%D1%82%D1%82%D0%BE%D0%BA%D0%B0%20%D0%BA%D0%BB%D0%B8%D0%B5%D0%BD%D1%82%D0%BE%D0%B2/client_churn_prediction.ipynb) | **Final project telecom** | Прогнозирование оттока клиентов мобильного оператора. Для выборки клиентов доступны персональные данные, информация о тарифах и договорах. | - python<br>- pandas<br>- numpy<br>- sklearn<br>- matplotlib<br>- seaborn<br>- lightgbm<br>- catboost  \n",
    "\n"
   ]
  }
 ],
 "metadata": {
  "kernelspec": {
   "display_name": "Python 3 (ipykernel)",
   "language": "python",
   "name": "python3"
  },
  "language_info": {
   "codemirror_mode": {
    "name": "ipython",
    "version": 3
   },
   "file_extension": ".py",
   "mimetype": "text/x-python",
   "name": "python",
   "nbconvert_exporter": "python",
   "pygments_lexer": "ipython3",
   "version": "3.9.7"
  }
 },
 "nbformat": 4,
 "nbformat_minor": 5
}
