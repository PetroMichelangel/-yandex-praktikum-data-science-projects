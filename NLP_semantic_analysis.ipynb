{
 "cells": [
  {
   "cell_type": "markdown",
   "metadata": {},
   "source": [
    "# Проект для «Викишоп»"
   ]
  },
  {
   "cell_type": "markdown",
   "metadata": {},
   "source": [
    "Интернет-магазин «Викишоп» запускает новый сервис. Теперь пользователи могут редактировать и дополнять описания товаров, как в вики-сообществах. То есть клиенты предлагают свои правки и комментируют изменения других. Магазину нужен инструмент, который будет искать токсичные комментарии и отправлять их на модерацию. "
   ]
  },
  {
   "cell_type": "markdown",
   "metadata": {
    "toc": true
   },
   "source": [
    "<h1>Содержание<span class=\"tocSkip\"></span></h1>\n",
    "<div class=\"toc\"><ul class=\"toc-item\"><li><span><a href=\"#Подготовка\" data-toc-modified-id=\"Подготовка-1\"><span class=\"toc-item-num\">1&nbsp;&nbsp;</span>Подготовка</a></span></li><li><span><a href=\"#Обучение\" data-toc-modified-id=\"Обучение-2\"><span class=\"toc-item-num\">2&nbsp;&nbsp;</span>Обучение</a></span></li><li><span><a href=\"#Выводы\" data-toc-modified-id=\"Выводы-3\"><span class=\"toc-item-num\">3&nbsp;&nbsp;</span>Выводы</a></span></li><li><span><a href=\"#Чек-лист-проверки\" data-toc-modified-id=\"Чек-лист-проверки-4\"><span class=\"toc-item-num\">4&nbsp;&nbsp;</span>Чек-лист проверки</a></span></li></ul></div>"
   ]
  },
  {
   "cell_type": "markdown",
   "metadata": {},
   "source": [
    "## Подготовка"
   ]
  },
  {
   "cell_type": "code",
   "execution_count": 1,
   "metadata": {},
   "outputs": [],
   "source": [
    "#импортируем библиотеки\n",
    "import pandas as pd\n",
    "import numpy as np\n",
    "import matplotlib.pyplot as plt\n",
    "import seaborn as sns\n",
    "\n",
    "import re\n",
    "import nltk\n",
    "#nltk.download('stopwords')\n",
    "#nltk.download('punkt')\n",
    "#nltk.download('wordnet')\n",
    "from nltk.corpus import stopwords\n",
    "from nltk.stem import WordNetLemmatizer\n",
    "from pymystem3 import Mystem\n",
    "from sklearn.pipeline import Pipeline\n",
    "\n",
    "from sklearn.feature_extraction.text import TfidfVectorizer\n",
    "from sklearn.feature_extraction.text import CountVectorizer\n",
    "\n",
    "from sklearn.model_selection import train_test_split\n",
    "from sklearn.model_selection import GridSearchCV\n",
    "from sklearn.metrics import f1_score\n",
    "from sklearn.dummy import DummyClassifier\n",
    "\n",
    "from sklearn.linear_model import LogisticRegression\n",
    "from lightgbm import LGBMClassifier\n",
    "\n",
    "import torch\n",
    "import transformers\n",
    "\n",
    "from tqdm import notebook\n",
    "from tqdm import tqdm\n",
    "import time\n",
    "import warnings\n",
    "warnings.filterwarnings('ignore')\n"
   ]
  },
  {
   "cell_type": "code",
   "execution_count": 2,
   "metadata": {},
   "outputs": [
    {
     "data": {
      "text/html": [
       "<div>\n",
       "<style scoped>\n",
       "    .dataframe tbody tr th:only-of-type {\n",
       "        vertical-align: middle;\n",
       "    }\n",
       "\n",
       "    .dataframe tbody tr th {\n",
       "        vertical-align: top;\n",
       "    }\n",
       "\n",
       "    .dataframe thead th {\n",
       "        text-align: right;\n",
       "    }\n",
       "</style>\n",
       "<table border=\"1\" class=\"dataframe\">\n",
       "  <thead>\n",
       "    <tr style=\"text-align: right;\">\n",
       "      <th></th>\n",
       "      <th>text</th>\n",
       "      <th>toxic</th>\n",
       "    </tr>\n",
       "  </thead>\n",
       "  <tbody>\n",
       "    <tr>\n",
       "      <th>0</th>\n",
       "      <td>Explanation\\nWhy the edits made under my usern...</td>\n",
       "      <td>0</td>\n",
       "    </tr>\n",
       "    <tr>\n",
       "      <th>1</th>\n",
       "      <td>D'aww! He matches this background colour I'm s...</td>\n",
       "      <td>0</td>\n",
       "    </tr>\n",
       "    <tr>\n",
       "      <th>2</th>\n",
       "      <td>Hey man, I'm really not trying to edit war. It...</td>\n",
       "      <td>0</td>\n",
       "    </tr>\n",
       "    <tr>\n",
       "      <th>3</th>\n",
       "      <td>\"\\nMore\\nI can't make any real suggestions on ...</td>\n",
       "      <td>0</td>\n",
       "    </tr>\n",
       "    <tr>\n",
       "      <th>4</th>\n",
       "      <td>You, sir, are my hero. Any chance you remember...</td>\n",
       "      <td>0</td>\n",
       "    </tr>\n",
       "  </tbody>\n",
       "</table>\n",
       "</div>"
      ],
      "text/plain": [
       "                                                text  toxic\n",
       "0  Explanation\\nWhy the edits made under my usern...      0\n",
       "1  D'aww! He matches this background colour I'm s...      0\n",
       "2  Hey man, I'm really not trying to edit war. It...      0\n",
       "3  \"\\nMore\\nI can't make any real suggestions on ...      0\n",
       "4  You, sir, are my hero. Any chance you remember...      0"
      ]
     },
     "execution_count": 2,
     "metadata": {},
     "output_type": "execute_result"
    }
   ],
   "source": [
    "df = pd.read_csv('/datasets/toxic_comments.csv')\n",
    "df.head()"
   ]
  },
  {
   "cell_type": "code",
   "execution_count": 3,
   "metadata": {},
   "outputs": [
    {
     "name": "stdout",
     "output_type": "stream",
     "text": [
      "<class 'pandas.core.frame.DataFrame'>\n",
      "RangeIndex: 159571 entries, 0 to 159570\n",
      "Data columns (total 2 columns):\n",
      " #   Column  Non-Null Count   Dtype \n",
      "---  ------  --------------   ----- \n",
      " 0   text    159571 non-null  object\n",
      " 1   toxic   159571 non-null  int64 \n",
      "dtypes: int64(1), object(1)\n",
      "memory usage: 2.4+ MB\n"
     ]
    }
   ],
   "source": [
    "df.info()"
   ]
  },
  {
   "cell_type": "code",
   "execution_count": 4,
   "metadata": {},
   "outputs": [
    {
     "data": {
      "text/html": [
       "<div>\n",
       "<style scoped>\n",
       "    .dataframe tbody tr th:only-of-type {\n",
       "        vertical-align: middle;\n",
       "    }\n",
       "\n",
       "    .dataframe tbody tr th {\n",
       "        vertical-align: top;\n",
       "    }\n",
       "\n",
       "    .dataframe thead th {\n",
       "        text-align: right;\n",
       "    }\n",
       "</style>\n",
       "<table border=\"1\" class=\"dataframe\">\n",
       "  <thead>\n",
       "    <tr style=\"text-align: right;\">\n",
       "      <th></th>\n",
       "      <th>toxic</th>\n",
       "    </tr>\n",
       "  </thead>\n",
       "  <tbody>\n",
       "    <tr>\n",
       "      <th>count</th>\n",
       "      <td>159571.000000</td>\n",
       "    </tr>\n",
       "    <tr>\n",
       "      <th>mean</th>\n",
       "      <td>0.101679</td>\n",
       "    </tr>\n",
       "    <tr>\n",
       "      <th>std</th>\n",
       "      <td>0.302226</td>\n",
       "    </tr>\n",
       "    <tr>\n",
       "      <th>min</th>\n",
       "      <td>0.000000</td>\n",
       "    </tr>\n",
       "    <tr>\n",
       "      <th>25%</th>\n",
       "      <td>0.000000</td>\n",
       "    </tr>\n",
       "    <tr>\n",
       "      <th>50%</th>\n",
       "      <td>0.000000</td>\n",
       "    </tr>\n",
       "    <tr>\n",
       "      <th>75%</th>\n",
       "      <td>0.000000</td>\n",
       "    </tr>\n",
       "    <tr>\n",
       "      <th>max</th>\n",
       "      <td>1.000000</td>\n",
       "    </tr>\n",
       "  </tbody>\n",
       "</table>\n",
       "</div>"
      ],
      "text/plain": [
       "               toxic\n",
       "count  159571.000000\n",
       "mean        0.101679\n",
       "std         0.302226\n",
       "min         0.000000\n",
       "25%         0.000000\n",
       "50%         0.000000\n",
       "75%         0.000000\n",
       "max         1.000000"
      ]
     },
     "execution_count": 4,
     "metadata": {},
     "output_type": "execute_result"
    }
   ],
   "source": [
    "df.describe()"
   ]
  },
  {
   "cell_type": "code",
   "execution_count": 5,
   "metadata": {},
   "outputs": [
    {
     "data": {
      "text/plain": [
       "0"
      ]
     },
     "execution_count": 5,
     "metadata": {},
     "output_type": "execute_result"
    }
   ],
   "source": [
    "df.duplicated().sum()"
   ]
  },
  {
   "cell_type": "code",
   "execution_count": 6,
   "metadata": {},
   "outputs": [
    {
     "data": {
      "text/plain": [
       "text     0\n",
       "toxic    0\n",
       "dtype: int64"
      ]
     },
     "execution_count": 6,
     "metadata": {},
     "output_type": "execute_result"
    }
   ],
   "source": [
    "df.isna().sum()"
   ]
  },
  {
   "cell_type": "code",
   "execution_count": 7,
   "metadata": {},
   "outputs": [
    {
     "name": "stdout",
     "output_type": "stream",
     "text": [
      "\n",
      "    \n",
      "Количество позитивных комментариев: 143346, Доля позитивных комментариев: 0.898\n",
      "Количество негативных комментариев: 16225, Доля негативных комментариев: 0.102\n",
      "    \n",
      "    \n"
     ]
    },
    {
     "data": {
      "image/png": "[encoded data removed]",
      "text/plain": [
       "<Figure size 720x720 with 1 Axes>"
      ]
     },
     "metadata": {},
     "output_type": "display_data"
    }
   ],
   "source": [
    "sns.set(rc={\"figure.figsize\":(10, 10)}, font_scale=1)   \n",
    "\n",
    "(sns.barplot(x=df['toxic'].value_counts().index, y=df['toxic'].value_counts())\n",
    "     .set(title='Столбчатая диаграмма признака: toxic',\n",
    "      xlabel='Признак toxic',\n",
    "      ylabel='Количество наблюдений признака toxic'));\n",
    "print(\n",
    "    '''\n",
    "    \n",
    "Количество позитивных комментариев: {0}, Доля позитивных комментариев: {1}\n",
    "Количество негативных комментариев: {2}, Доля негативных комментариев: {3}\n",
    "    \n",
    "    '''\n",
    "      .format(df[df['toxic']==0]['toxic'].count(), \n",
    "              round(df[df['toxic']==0]['toxic'].count() / df.shape[0], 3), \n",
    "              df[df['toxic']==1]['toxic'].count(),\n",
    "              round(df[df['toxic']==1]['toxic'].count() / df.shape[0], 3)))"
   ]
  },
  {
   "cell_type": "code",
   "execution_count": 8,
   "metadata": {},
   "outputs": [
    {
     "data": {
      "text/plain": [
       "5000"
      ]
     },
     "execution_count": 8,
     "metadata": {},
     "output_type": "execute_result"
    }
   ],
   "source": [
    "max_len = 0\n",
    "for text in df['text']:\n",
    "    if len(text) > max_len:\n",
    "        max_len = len(text)\n",
    "max_len"
   ]
  },
  {
   "cell_type": "code",
   "execution_count": 9,
   "metadata": {},
   "outputs": [],
   "source": [
    "corpus = df['text']"
   ]
  },
  {
   "cell_type": "code",
   "execution_count": 10,
   "metadata": {},
   "outputs": [
    {
     "data": {
      "text/plain": [
       "0    Explanation\\nWhy the edits made under my usern...\n",
       "1    D'aww! He matches this background colour I'm s...\n",
       "2    Hey man, I'm really not trying to edit war. It...\n",
       "3    \"\\nMore\\nI can't make any real suggestions on ...\n",
       "4    You, sir, are my hero. Any chance you remember...\n",
       "Name: text, dtype: object"
      ]
     },
     "execution_count": 10,
     "metadata": {},
     "output_type": "execute_result"
    }
   ],
   "source": [
    "corpus.head(5)"
   ]
  },
  {
   "cell_type": "markdown",
   "metadata": {},
   "source": [
    "Лемматизируем и очистим тексты"
   ]
  },
  {
   "cell_type": "code",
   "execution_count": 11,
   "metadata": {},
   "outputs": [],
   "source": [
    "lemmatizer = WordNetLemmatizer()\n",
    "def lemma_cleaner_func(text):\n",
    "    cleaned = (' '.join(re.sub(r\"[^a-zA-Z'\\/]\", ' ', text).split()))\n",
    "    lemmatized = ' '.join([lemmatizer.lemmatize(word) for word in cleaned.split()])\n",
    "    return lemmatized"
   ]
  },
  {
   "cell_type": "code",
   "execution_count": 12,
   "metadata": {},
   "outputs": [],
   "source": [
    "corpus_final = corpus.apply(lambda x: lemma_cleaner_func(x))"
   ]
  },
  {
   "cell_type": "code",
   "execution_count": 13,
   "metadata": {},
   "outputs": [
    {
     "data": {
      "text/html": [
       "<div>\n",
       "<style scoped>\n",
       "    .dataframe tbody tr th:only-of-type {\n",
       "        vertical-align: middle;\n",
       "    }\n",
       "\n",
       "    .dataframe tbody tr th {\n",
       "        vertical-align: top;\n",
       "    }\n",
       "\n",
       "    .dataframe thead th {\n",
       "        text-align: right;\n",
       "    }\n",
       "</style>\n",
       "<table border=\"1\" class=\"dataframe\">\n",
       "  <thead>\n",
       "    <tr style=\"text-align: right;\">\n",
       "      <th></th>\n",
       "      <th>text</th>\n",
       "    </tr>\n",
       "  </thead>\n",
       "  <tbody>\n",
       "    <tr>\n",
       "      <th>0</th>\n",
       "      <td>Explanation Why the edits made under my userna...</td>\n",
       "    </tr>\n",
       "    <tr>\n",
       "      <th>1</th>\n",
       "      <td>D'aww He match this background colour I'm seem...</td>\n",
       "    </tr>\n",
       "    <tr>\n",
       "      <th>2</th>\n",
       "      <td>Hey man I'm really not trying to edit war It's...</td>\n",
       "    </tr>\n",
       "    <tr>\n",
       "      <th>3</th>\n",
       "      <td>More I can't make any real suggestion on impro...</td>\n",
       "    </tr>\n",
       "    <tr>\n",
       "      <th>4</th>\n",
       "      <td>You sir are my hero Any chance you remember wh...</td>\n",
       "    </tr>\n",
       "  </tbody>\n",
       "</table>\n",
       "</div>"
      ],
      "text/plain": [
       "                                                text\n",
       "0  Explanation Why the edits made under my userna...\n",
       "1  D'aww He match this background colour I'm seem...\n",
       "2  Hey man I'm really not trying to edit war It's...\n",
       "3  More I can't make any real suggestion on impro...\n",
       "4  You sir are my hero Any chance you remember wh..."
      ]
     },
     "execution_count": 13,
     "metadata": {},
     "output_type": "execute_result"
    }
   ],
   "source": [
    "pd.DataFrame(corpus_final.head(5))"
   ]
  },
  {
   "cell_type": "code",
   "execution_count": 14,
   "metadata": {},
   "outputs": [],
   "source": [
    "stopwords = set(stopwords.words('english'))"
   ]
  },
  {
   "cell_type": "markdown",
   "metadata": {},
   "source": [
    "Создаем два типа векторизации строк - мешок слов и tf-idf. Для обоих типов создадим 2-граммы."
   ]
  },
  {
   "cell_type": "markdown",
   "metadata": {},
   "source": [
    "**Выводы по пункту 1:**\n",
    "\n",
    "- Общее количество наблюдений: 159571\n",
    "- Пропусков и дубликатов нет.\n",
    "- Максимальная длина комментария: 5000 символов.\n",
    "- Количество позитивных комментариев: 143346, Доля позитивных комментариев: 0.898\n",
    "- Количество негативных комментариев: 16225, Доля негативных комментариев: 0.102\n",
    "- Данные несбалансированы, отношение позитивных комментариев к негативным 9 к 1.\n",
    "- Очистили корпус от лишних символов и лемматизировали его"
   ]
  },
  {
   "cell_type": "markdown",
   "metadata": {},
   "source": [
    "## Обучение"
   ]
  },
  {
   "cell_type": "code",
   "execution_count": 15,
   "metadata": {},
   "outputs": [],
   "source": [
    "class data_framework:\n",
    "    '''\n",
    "    Описание методов:\n",
    "    1. data_split - деление данных на обучающую и тестовую выборку\n",
    "    2. train_test_models - векторизирует данные, подбирает оптимальные гиперпараметры, тестирует оптимальную модель\n",
    "    '''\n",
    "    \n",
    "    def __init__(self, corpus, toxic, model_name_list, vectorizer_name_list):\n",
    "\n",
    "        self.corpus = corpus.copy(deep = True)\n",
    "        self.toxic = toxic.copy(deep = True)\n",
    "        self.toxic = self.toxic.astype('float')\n",
    "        self.vectorizer_name_list = vectorizer_name_list\n",
    "        self.model_name_list = model_name_list\n",
    "        self.data_split()\n",
    "        self.train_test_models()\n",
    "        \n",
    "    def data_split(self):\n",
    "        \n",
    "        self.features_train, self.features_test, self.target_train, self.target_test = train_test_split(self.corpus, self.toxic, test_size = 0.2, random_state=12345)\n",
    "\n",
    "        print('Размер обучающей выборки: {0}|{1}'.format(self.features_train.shape, self.target_train.shape))\n",
    "        print('Размер тестовой выборки: {0}|{1}'.format(self.features_test.shape, self.target_test.shape))\n",
    "        \n",
    "\n",
    "     \n",
    "    def train_test_models(self):\n",
    "        \n",
    "        self.valid_table = pd.DataFrame({'Vectorizer' : [],\n",
    "                                          'Model' : [],\n",
    "                                          'Params' : [],\n",
    "                                          'f1_score' : []})\n",
    "        self.test_table = pd.DataFrame({'Vectorizer' : [],\n",
    "                                          'Model' : [],\n",
    "                                          'Params' : [],\n",
    "                                          'f1_test_score' : []})\n",
    "        \n",
    "        \n",
    "        for vectorizer_name in tqdm(self.vectorizer_name_list):\n",
    "            \n",
    "            if (vectorizer_name == 'count_vect'):\n",
    "                vectorizer = CountVectorizer(stop_words = stopwords, dtype=np.float64)\n",
    "            elif (vectorizer_name == 'count_vect_two_gram'):\n",
    "                vectorizer = CountVectorizer(stop_words = stopwords, ngram_range=(1,2), dtype=np.float64)\n",
    "            elif (vectorizer_name == 'count_tf_idf'):\n",
    "                vectorizer = TfidfVectorizer(stop_words = stopwords, dtype=np.float64)\n",
    "            elif (vectorizer_name == 'count_tf_idf_two_gram'):\n",
    "                vectorizer = TfidfVectorizer(stop_words = stopwords, ngram_range=(1,2), dtype=np.float64)\n",
    "                   \n",
    "            self.f_train_vectorized = vectorizer.fit_transform(self.features_train).astype('float')\n",
    "            self.f_test_vectorized = vectorizer.transform(self.features_test).astype('float')\n",
    "            \n",
    "            print(f\"Размер векторизированного текста ({vectorizer_name}) обучающей выборки {self.f_train_vectorized.shape}\")\n",
    "            print(f\"Размер векторизированного текста ({vectorizer_name}) тестовой выборки {self.f_test_vectorized.shape}\")\n",
    "            \n",
    "            for model_name in self.model_name_list:\n",
    "                \n",
    "                if (model_name == 'LogisticRegression'):\n",
    "                    model = LogisticRegression()\n",
    "                    grid = {'model__C' : range(5,12,3)}\n",
    "                elif (model_name == 'LightGBM'):\n",
    "                    model = LGBMClassifier()\n",
    "                    grid = {'model__n_estimators' : range(100,250,100)}\n",
    "                pipeline_model = Pipeline([('vectorizer', vectorizer),\n",
    "                                          ('model', model)])\n",
    "                #valid-part    \n",
    "                gridSearch = GridSearchCV(estimator=pipeline_model, param_grid=grid, cv=4, scoring='f1')\n",
    "                gridSearch.fit(self.features_train, self.target_train)\n",
    "                #gridSearch.fit(self.f_train_vectorized, self.target_train)\n",
    "             \n",
    "\n",
    "                print(f\"Лучший результат модели {model_name} при кросс-валидации: f1 = {gridSearch.best_score_:.3f}\")\n",
    "                print(f\"Лучшие гиперпараметры модели {model_name} при кросс-валидации: {gridSearch.best_params_}\")\n",
    "                self.valid_table = self.valid_table.append({'Vectorizer' : vectorizer_name,\n",
    "                                          'Model' : model_name,\n",
    "                                          'Params' : gridSearch.best_params_,\n",
    "                                          'f1_score' : round(gridSearch.best_score_, 2)}, ignore_index=True)\n",
    "                #test-part\n",
    "                if (model_name == 'LogisticRegression'):\n",
    "                    gridSearch.best_params_['C'] = gridSearch.best_params_.pop('model__C')\n",
    "                    model_test = LogisticRegression(**gridSearch.best_params_)\n",
    "                elif (model_name == 'LightGBM'):\n",
    "                    gridSearch.best_params_['n_estimators'] = gridSearch.best_params_.pop('model__n_estimators')\n",
    "                    model_test = LGBMClassifier(**gridSearch.best_params_)\n",
    "                model_test.fit(self.f_train_vectorized, self.target_train)\n",
    "                predictions = model_test.predict(self.f_test_vectorized)\n",
    "                f1_test_score = f1_score(self.target_test, predictions)\n",
    "                print(f\"Тестовый результат модели {model_name}: f1 = {f1_test_score:.3f}\")\n",
    "                self.test_table = self.test_table.append({'Vectorizer' : vectorizer_name,\n",
    "                                         'Model' : model_name,\n",
    "                                         'Params' : gridSearch.best_params_,\n",
    "                                         'f1_test_score' : round(f1_test_score, 2)}, ignore_index=True)\n",
    "\n",
    "        #display(self.valid_table)\n",
    "        display(self.test_table)\n",
    "        "
   ]
  },
  {
   "cell_type": "code",
   "execution_count": 16,
   "metadata": {},
   "outputs": [
    {
     "name": "stdout",
     "output_type": "stream",
     "text": [
      "Размер обучающей выборки: (127656,)|(127656,)\n",
      "Размер тестовой выборки: (31915,)|(31915,)\n"
     ]
    },
    {
     "name": "stderr",
     "output_type": "stream",
     "text": [
      "\r",
      "  0%|          | 0/2 [00:00<?, ?it/s]"
     ]
    },
    {
     "name": "stdout",
     "output_type": "stream",
     "text": [
      "Размер векторизированного текста (count_vect) обучающей выборки (127656, 144355)\n",
      "Размер векторизированного текста (count_vect) тестовой выборки (31915, 144355)\n",
      "Лучший результат модели LogisticRegression при кросс-валидации: f1 = 0.762\n",
      "Лучшие гиперпараметры модели LogisticRegression при кросс-валидации: {'model__C': 5}\n",
      "Тестовый результат модели LogisticRegression: f1 = 0.768\n",
      "Лучший результат модели LightGBM при кросс-валидации: f1 = 0.754\n",
      "Лучшие гиперпараметры модели LightGBM при кросс-валидации: {'model__n_estimators': 200}\n"
     ]
    },
    {
     "name": "stderr",
     "output_type": "stream",
     "text": [
      "\r",
      " 50%|█████     | 1/2 [26:12<26:12, 1572.67s/it]"
     ]
    },
    {
     "name": "stdout",
     "output_type": "stream",
     "text": [
      "Тестовый результат модели LightGBM: f1 = 0.752\n",
      "Размер векторизированного текста (count_vect_two_gram) обучающей выборки (127656, 2275887)\n",
      "Размер векторизированного текста (count_vect_two_gram) тестовой выборки (31915, 2275887)\n",
      "Лучший результат модели LogisticRegression при кросс-валидации: f1 = 0.772\n",
      "Лучшие гиперпараметры модели LogisticRegression при кросс-валидации: {'model__C': 11}\n",
      "Тестовый результат модели LogisticRegression: f1 = 0.777\n",
      "Лучший результат модели LightGBM при кросс-валидации: f1 = 0.753\n",
      "Лучшие гиперпараметры модели LightGBM при кросс-валидации: {'model__n_estimators': 200}\n"
     ]
    },
    {
     "name": "stderr",
     "output_type": "stream",
     "text": [
      "100%|██████████| 2/2 [1:38:51<00:00, 2965.51s/it]"
     ]
    },
    {
     "name": "stdout",
     "output_type": "stream",
     "text": [
      "Тестовый результат модели LightGBM: f1 = 0.752\n"
     ]
    },
    {
     "name": "stderr",
     "output_type": "stream",
     "text": [
      "\n"
     ]
    },
    {
     "data": {
      "text/html": [
       "<div>\n",
       "<style scoped>\n",
       "    .dataframe tbody tr th:only-of-type {\n",
       "        vertical-align: middle;\n",
       "    }\n",
       "\n",
       "    .dataframe tbody tr th {\n",
       "        vertical-align: top;\n",
       "    }\n",
       "\n",
       "    .dataframe thead th {\n",
       "        text-align: right;\n",
       "    }\n",
       "</style>\n",
       "<table border=\"1\" class=\"dataframe\">\n",
       "  <thead>\n",
       "    <tr style=\"text-align: right;\">\n",
       "      <th></th>\n",
       "      <th>Vectorizer</th>\n",
       "      <th>Model</th>\n",
       "      <th>Params</th>\n",
       "      <th>f1_test_score</th>\n",
       "    </tr>\n",
       "  </thead>\n",
       "  <tbody>\n",
       "    <tr>\n",
       "      <th>0</th>\n",
       "      <td>count_vect</td>\n",
       "      <td>LogisticRegression</td>\n",
       "      <td>{'C': 5}</td>\n",
       "      <td>0.77</td>\n",
       "    </tr>\n",
       "    <tr>\n",
       "      <th>1</th>\n",
       "      <td>count_vect</td>\n",
       "      <td>LightGBM</td>\n",
       "      <td>{'n_estimators': 200}</td>\n",
       "      <td>0.75</td>\n",
       "    </tr>\n",
       "    <tr>\n",
       "      <th>2</th>\n",
       "      <td>count_vect_two_gram</td>\n",
       "      <td>LogisticRegression</td>\n",
       "      <td>{'C': 11}</td>\n",
       "      <td>0.78</td>\n",
       "    </tr>\n",
       "    <tr>\n",
       "      <th>3</th>\n",
       "      <td>count_vect_two_gram</td>\n",
       "      <td>LightGBM</td>\n",
       "      <td>{'n_estimators': 200}</td>\n",
       "      <td>0.75</td>\n",
       "    </tr>\n",
       "  </tbody>\n",
       "</table>\n",
       "</div>"
      ],
      "text/plain": [
       "            Vectorizer               Model                 Params  \\\n",
       "0           count_vect  LogisticRegression               {'C': 5}   \n",
       "1           count_vect            LightGBM  {'n_estimators': 200}   \n",
       "2  count_vect_two_gram  LogisticRegression              {'C': 11}   \n",
       "3  count_vect_two_gram            LightGBM  {'n_estimators': 200}   \n",
       "\n",
       "   f1_test_score  \n",
       "0           0.77  \n",
       "1           0.75  \n",
       "2           0.78  \n",
       "3           0.75  "
      ]
     },
     "metadata": {},
     "output_type": "display_data"
    }
   ],
   "source": [
    "counter_vect_class = data_framework(corpus_final,\n",
    "                        df['toxic'],\n",
    "                        ['LogisticRegression', 'LightGBM'],\n",
    "                       ['count_vect', 'count_vect_two_gram'])"
   ]
  },
  {
   "cell_type": "code",
   "execution_count": 17,
   "metadata": {},
   "outputs": [
    {
     "name": "stdout",
     "output_type": "stream",
     "text": [
      "Размер обучающей выборки: (127656,)|(127656,)\n",
      "Размер тестовой выборки: (31915,)|(31915,)\n"
     ]
    },
    {
     "name": "stderr",
     "output_type": "stream",
     "text": [
      "\r",
      "  0%|          | 0/2 [00:00<?, ?it/s]"
     ]
    },
    {
     "name": "stdout",
     "output_type": "stream",
     "text": [
      "Размер векторизированного текста (count_tf_idf) обучающей выборки (127656, 144355)\n",
      "Размер векторизированного текста (count_tf_idf) тестовой выборки (31915, 144355)\n",
      "Лучший результат модели LogisticRegression при кросс-валидации: f1 = 0.771\n",
      "Лучшие гиперпараметры модели LogisticRegression при кросс-валидации: {'model__C': 11}\n",
      "Тестовый результат модели LogisticRegression: f1 = 0.780\n",
      "Лучший результат модели LightGBM при кросс-валидации: f1 = 0.762\n",
      "Лучшие гиперпараметры модели LightGBM при кросс-валидации: {'model__n_estimators': 200}\n"
     ]
    },
    {
     "name": "stderr",
     "output_type": "stream",
     "text": [
      "\r",
      " 50%|█████     | 1/2 [47:30<47:30, 2850.20s/it]"
     ]
    },
    {
     "name": "stdout",
     "output_type": "stream",
     "text": [
      "Тестовый результат модели LightGBM: f1 = 0.759\n",
      "Размер векторизированного текста (count_tf_idf_two_gram) обучающей выборки (127656, 2275887)\n",
      "Размер векторизированного текста (count_tf_idf_two_gram) тестовой выборки (31915, 2275887)\n",
      "Лучший результат модели LogisticRegression при кросс-валидации: f1 = 0.768\n",
      "Лучшие гиперпараметры модели LogisticRegression при кросс-валидации: {'model__C': 11}\n",
      "Тестовый результат модели LogisticRegression: f1 = 0.778\n",
      "Лучший результат модели LightGBM при кросс-валидации: f1 = 0.770\n",
      "Лучшие гиперпараметры модели LightGBM при кросс-валидации: {'model__n_estimators': 200}\n"
     ]
    },
    {
     "name": "stderr",
     "output_type": "stream",
     "text": [
      "100%|██████████| 2/2 [2:27:49<00:00, 4434.57s/it]"
     ]
    },
    {
     "name": "stdout",
     "output_type": "stream",
     "text": [
      "Тестовый результат модели LightGBM: f1 = 0.763\n"
     ]
    },
    {
     "name": "stderr",
     "output_type": "stream",
     "text": [
      "\n"
     ]
    },
    {
     "data": {
      "text/html": [
       "<div>\n",
       "<style scoped>\n",
       "    .dataframe tbody tr th:only-of-type {\n",
       "        vertical-align: middle;\n",
       "    }\n",
       "\n",
       "    .dataframe tbody tr th {\n",
       "        vertical-align: top;\n",
       "    }\n",
       "\n",
       "    .dataframe thead th {\n",
       "        text-align: right;\n",
       "    }\n",
       "</style>\n",
       "<table border=\"1\" class=\"dataframe\">\n",
       "  <thead>\n",
       "    <tr style=\"text-align: right;\">\n",
       "      <th></th>\n",
       "      <th>Vectorizer</th>\n",
       "      <th>Model</th>\n",
       "      <th>Params</th>\n",
       "      <th>f1_test_score</th>\n",
       "    </tr>\n",
       "  </thead>\n",
       "  <tbody>\n",
       "    <tr>\n",
       "      <th>0</th>\n",
       "      <td>count_tf_idf</td>\n",
       "      <td>LogisticRegression</td>\n",
       "      <td>{'C': 11}</td>\n",
       "      <td>0.78</td>\n",
       "    </tr>\n",
       "    <tr>\n",
       "      <th>1</th>\n",
       "      <td>count_tf_idf</td>\n",
       "      <td>LightGBM</td>\n",
       "      <td>{'n_estimators': 200}</td>\n",
       "      <td>0.76</td>\n",
       "    </tr>\n",
       "    <tr>\n",
       "      <th>2</th>\n",
       "      <td>count_tf_idf_two_gram</td>\n",
       "      <td>LogisticRegression</td>\n",
       "      <td>{'C': 11}</td>\n",
       "      <td>0.78</td>\n",
       "    </tr>\n",
       "    <tr>\n",
       "      <th>3</th>\n",
       "      <td>count_tf_idf_two_gram</td>\n",
       "      <td>LightGBM</td>\n",
       "      <td>{'n_estimators': 200}</td>\n",
       "      <td>0.76</td>\n",
       "    </tr>\n",
       "  </tbody>\n",
       "</table>\n",
       "</div>"
      ],
      "text/plain": [
       "              Vectorizer               Model                 Params  \\\n",
       "0           count_tf_idf  LogisticRegression              {'C': 11}   \n",
       "1           count_tf_idf            LightGBM  {'n_estimators': 200}   \n",
       "2  count_tf_idf_two_gram  LogisticRegression              {'C': 11}   \n",
       "3  count_tf_idf_two_gram            LightGBM  {'n_estimators': 200}   \n",
       "\n",
       "   f1_test_score  \n",
       "0           0.78  \n",
       "1           0.76  \n",
       "2           0.78  \n",
       "3           0.76  "
      ]
     },
     "metadata": {},
     "output_type": "display_data"
    }
   ],
   "source": [
    "tf_idf_class = data_framework(corpus_final,\n",
    "                        df['toxic'],\n",
    "                        ['LogisticRegression', 'LightGBM'],\n",
    "                       ['count_tf_idf', 'count_tf_idf_two_gram'])"
   ]
  },
  {
   "cell_type": "markdown",
   "metadata": {},
   "source": [
    "**Выводы по пункту 2**:\n",
    "\n",
    "- Точность моделей с данными, векторизированными count_tf_idf (из таблицы выше: 0.78, 0.76, 0.78, 0.76) незначительно выше точности моделей с данными, векторизированными count_vect (из таблицы выше: 0.77, 0.75, 0.78, 0.75). \n",
    "- Точность моделей с данными, векторизированными 1-граммами (для tfidf: 0.78, 0.76) примерно равна точности моделей с данными, векторизированными 2-граммами (для tfidf: 0.78, 0.76)\n",
    "- Время на обучение при использовании векторизацию tf_idf (148 минут) значительно выше, чем при векторизации count_vect (99 минут)\n",
    "- Для всех полученных комбинаций f1_score > 0.75. Для модели LightGBM следует расширить сетку перебираемых параметров для получения бОльшего скора.\n",
    "- Лучший тестовый f1-score = 0.78 для модели LogisticRegression"
   ]
  },
  {
   "cell_type": "markdown",
   "metadata": {},
   "source": [
    "## Выводы"
   ]
  },
  {
   "cell_type": "markdown",
   "metadata": {},
   "source": [
    "**Выводы по подготовке данных:**\n",
    "\n",
    "- Общее количество наблюдений: 159571\n",
    "- Пропусков и дубликатов нет.\n",
    "- Максимальная длина комментария: 5000 символов.\n",
    "- Количество позитивных комментариев: 143346, Доля позитивных комментариев: 0.898\n",
    "- Количество негативных комментариев: 16225, Доля негативных комментариев: 0.102\n",
    "- Данные несбалансированы, отношение позитивных комментариев к негативным 9 к 1.\n",
    "- Очистили корпус от лишних символов и лемматизировали его\n",
    "\n",
    "**Выводы по результатам обучения и тестирования:**\n",
    "\n",
    "- Точность моделей с данными, векторизированными count_tf_idf (из таблицы выше: 0.78, 0.76, 0.78, 0.76) незначительно выше точности моделей с данными, векторизированными count_vect (из таблицы выше: 0.77, 0.75, 0.78, 0.75). \n",
    "- Точность моделей с данными, векторизированными 1-граммами (для tfidf: 0.78, 0.76) примерно равна точности моделей с данными, векторизированными 2-граммами (для tfidf: 0.78, 0.76)\n",
    "- Время на обучение при использовании векторизацию tf_idf (148 минут) значительно выше, чем при векторизации count_vect (99 минут)\n",
    "- Для всех полученных комбинаций f1_score > 0.75. Для модели LightGBM следует расширить сетку перебираемых параметров для получения бОльшего скора.\n",
    "- Лучший тестовый f1-score = 0.78 для модели LogisticRegression"
   ]
  }
 ],
 "metadata": {
  "ExecuteTimeLog": [
   {
    "duration": 2060,
    "start_time": "2022-04-04T06:48:49.384Z"
   },
   {
    "duration": 109,
    "start_time": "2022-04-04T06:49:32.602Z"
   },
   {
    "duration": 1745,
    "start_time": "2022-04-04T06:49:58.140Z"
   },
   {
    "duration": 190,
    "start_time": "2022-04-04T06:50:22.160Z"
   },
   {
    "duration": 3646,
    "start_time": "2022-04-06T06:49:26.147Z"
   },
   {
    "duration": 6,
    "start_time": "2022-04-06T06:52:36.249Z"
   },
   {
    "duration": 218,
    "start_time": "2022-04-06T06:53:09.394Z"
   },
   {
    "duration": 68,
    "start_time": "2022-04-06T06:53:58.155Z"
   },
   {
    "duration": 796,
    "start_time": "2022-04-06T06:54:02.451Z"
   },
   {
    "duration": 34,
    "start_time": "2022-04-06T06:54:31.980Z"
   },
   {
    "duration": 17,
    "start_time": "2022-04-06T06:54:48.652Z"
   },
   {
    "duration": 4,
    "start_time": "2022-04-06T06:56:30.578Z"
   },
   {
    "duration": 7,
    "start_time": "2022-04-06T06:59:49.247Z"
   },
   {
    "duration": 8,
    "start_time": "2022-04-06T07:00:12.782Z"
   },
   {
    "duration": 7,
    "start_time": "2022-04-06T07:00:19.883Z"
   },
   {
    "duration": 14,
    "start_time": "2022-04-06T07:01:04.991Z"
   },
   {
    "duration": 237,
    "start_time": "2022-04-06T07:01:09.493Z"
   },
   {
    "duration": 29,
    "start_time": "2022-04-06T07:01:18.630Z"
   },
   {
    "duration": 19,
    "start_time": "2022-04-06T07:06:37.316Z"
   },
   {
    "duration": 16,
    "start_time": "2022-04-06T07:06:54.063Z"
   },
   {
    "duration": 161,
    "start_time": "2022-04-06T07:07:02.287Z"
   },
   {
    "duration": 147,
    "start_time": "2022-04-06T07:07:08.406Z"
   },
   {
    "duration": 327,
    "start_time": "2022-04-06T07:13:13.326Z"
   },
   {
    "duration": 195,
    "start_time": "2022-04-06T07:13:44.757Z"
   },
   {
    "duration": 216,
    "start_time": "2022-04-06T07:14:03.332Z"
   },
   {
    "duration": 180,
    "start_time": "2022-04-06T07:14:31.379Z"
   },
   {
    "duration": 186,
    "start_time": "2022-04-06T07:15:02.716Z"
   },
   {
    "duration": 173,
    "start_time": "2022-04-06T07:15:09.426Z"
   },
   {
    "duration": 5,
    "start_time": "2022-04-06T07:19:15.603Z"
   },
   {
    "duration": 5,
    "start_time": "2022-04-06T07:19:29.506Z"
   },
   {
    "duration": 13,
    "start_time": "2022-04-06T07:19:34.427Z"
   },
   {
    "duration": 5,
    "start_time": "2022-04-06T07:19:42.741Z"
   },
   {
    "duration": 13,
    "start_time": "2022-04-06T07:20:06.416Z"
   },
   {
    "duration": 4,
    "start_time": "2022-04-06T07:20:20.457Z"
   },
   {
    "duration": 54,
    "start_time": "2022-04-06T07:22:28.538Z"
   },
   {
    "duration": 5,
    "start_time": "2022-04-06T07:22:43.088Z"
   },
   {
    "duration": 6,
    "start_time": "2022-04-06T07:22:46.859Z"
   },
   {
    "duration": 6,
    "start_time": "2022-04-06T07:22:50.149Z"
   },
   {
    "duration": 21,
    "start_time": "2022-04-06T07:22:53.633Z"
   },
   {
    "duration": 5,
    "start_time": "2022-04-06T07:22:57.562Z"
   },
   {
    "duration": 22,
    "start_time": "2022-04-06T07:23:05.797Z"
   },
   {
    "duration": 5,
    "start_time": "2022-04-06T07:23:39.233Z"
   },
   {
    "duration": 24,
    "start_time": "2022-04-06T07:30:17.526Z"
   },
   {
    "duration": 32,
    "start_time": "2022-04-06T07:30:39.643Z"
   },
   {
    "duration": 30,
    "start_time": "2022-04-06T07:30:54.796Z"
   },
   {
    "duration": 21,
    "start_time": "2022-04-06T07:31:43.601Z"
   },
   {
    "duration": 14,
    "start_time": "2022-04-06T07:34:52.773Z"
   },
   {
    "duration": 14,
    "start_time": "2022-04-06T07:35:06.128Z"
   },
   {
    "duration": 4,
    "start_time": "2022-04-06T07:35:12.394Z"
   },
   {
    "duration": 4,
    "start_time": "2022-04-06T07:35:21.345Z"
   },
   {
    "duration": 5,
    "start_time": "2022-04-06T07:35:40.736Z"
   },
   {
    "duration": 691,
    "start_time": "2022-04-06T07:35:41.428Z"
   },
   {
    "duration": 31,
    "start_time": "2022-04-06T07:40:34.195Z"
   },
   {
    "duration": 4,
    "start_time": "2022-04-06T07:41:13.053Z"
   },
   {
    "duration": 5,
    "start_time": "2022-04-06T07:41:14.786Z"
   },
   {
    "duration": 20,
    "start_time": "2022-04-06T07:41:15.490Z"
   },
   {
    "duration": 7,
    "start_time": "2022-04-06T07:41:23.720Z"
   },
   {
    "duration": 3,
    "start_time": "2022-04-06T07:41:29.225Z"
   },
   {
    "duration": 4,
    "start_time": "2022-04-06T07:41:29.843Z"
   },
   {
    "duration": 14,
    "start_time": "2022-04-06T07:41:30.309Z"
   },
   {
    "duration": 6,
    "start_time": "2022-04-06T07:41:46.501Z"
   },
   {
    "duration": 11,
    "start_time": "2022-04-06T08:18:23.679Z"
   },
   {
    "duration": 5,
    "start_time": "2022-04-06T08:21:25.158Z"
   },
   {
    "duration": 4,
    "start_time": "2022-04-06T08:21:41.288Z"
   },
   {
    "duration": 5,
    "start_time": "2022-04-06T08:21:44.067Z"
   },
   {
    "duration": 4,
    "start_time": "2022-04-06T08:22:35.954Z"
   },
   {
    "duration": 5,
    "start_time": "2022-04-06T08:22:36.549Z"
   },
   {
    "duration": 4,
    "start_time": "2022-04-06T08:24:43.373Z"
   },
   {
    "duration": 4,
    "start_time": "2022-04-06T08:24:44.076Z"
   },
   {
    "duration": 5,
    "start_time": "2022-04-06T08:24:45.113Z"
   },
   {
    "duration": 4,
    "start_time": "2022-04-06T08:24:52.965Z"
   },
   {
    "duration": 4,
    "start_time": "2022-04-06T08:24:53.029Z"
   },
   {
    "duration": 5,
    "start_time": "2022-04-06T08:24:53.247Z"
   },
   {
    "duration": 3,
    "start_time": "2022-04-06T08:25:59.332Z"
   },
   {
    "duration": 4,
    "start_time": "2022-04-06T08:25:59.400Z"
   },
   {
    "duration": 5,
    "start_time": "2022-04-06T08:25:59.604Z"
   },
   {
    "duration": 3,
    "start_time": "2022-04-06T08:26:56.357Z"
   },
   {
    "duration": 5,
    "start_time": "2022-04-06T08:26:57.396Z"
   },
   {
    "duration": 4,
    "start_time": "2022-04-06T08:26:58.045Z"
   },
   {
    "duration": 4,
    "start_time": "2022-04-06T08:28:01.452Z"
   },
   {
    "duration": 4,
    "start_time": "2022-04-06T08:28:01.577Z"
   },
   {
    "duration": 5,
    "start_time": "2022-04-06T08:28:02.404Z"
   },
   {
    "duration": 4,
    "start_time": "2022-04-06T08:28:14.345Z"
   },
   {
    "duration": 4,
    "start_time": "2022-04-06T08:28:14.434Z"
   },
   {
    "duration": 5,
    "start_time": "2022-04-06T08:28:14.653Z"
   },
   {
    "duration": 5,
    "start_time": "2022-04-06T08:28:22.744Z"
   },
   {
    "duration": 4,
    "start_time": "2022-04-06T08:28:23.194Z"
   },
   {
    "duration": 5,
    "start_time": "2022-04-06T08:28:23.352Z"
   },
   {
    "duration": 5,
    "start_time": "2022-04-06T08:28:42.824Z"
   },
   {
    "duration": 4,
    "start_time": "2022-04-06T08:28:42.930Z"
   },
   {
    "duration": 5,
    "start_time": "2022-04-06T08:28:43.136Z"
   },
   {
    "duration": 3,
    "start_time": "2022-04-06T08:29:00.935Z"
   },
   {
    "duration": 5,
    "start_time": "2022-04-06T08:29:01.206Z"
   },
   {
    "duration": 5,
    "start_time": "2022-04-06T08:29:01.452Z"
   },
   {
    "duration": 3,
    "start_time": "2022-04-06T08:29:24.844Z"
   },
   {
    "duration": 5,
    "start_time": "2022-04-06T08:29:24.911Z"
   },
   {
    "duration": 5,
    "start_time": "2022-04-06T08:29:25.141Z"
   },
   {
    "duration": 3,
    "start_time": "2022-04-06T08:30:05.087Z"
   },
   {
    "duration": 5,
    "start_time": "2022-04-06T08:30:05.240Z"
   },
   {
    "duration": 5,
    "start_time": "2022-04-06T08:30:06.050Z"
   },
   {
    "duration": 5,
    "start_time": "2022-04-06T08:40:38.454Z"
   },
   {
    "duration": 39610,
    "start_time": "2022-04-06T08:55:23.943Z"
   },
   {
    "duration": 4,
    "start_time": "2022-04-06T08:56:21.558Z"
   },
   {
    "duration": 485,
    "start_time": "2022-04-06T08:56:21.702Z"
   },
   {
    "duration": 18,
    "start_time": "2022-04-06T08:58:04.567Z"
   },
   {
    "duration": 3,
    "start_time": "2022-04-06T08:58:05.183Z"
   },
   {
    "duration": 465,
    "start_time": "2022-04-06T08:58:05.827Z"
   },
   {
    "duration": 474,
    "start_time": "2022-04-06T08:58:12.056Z"
   },
   {
    "duration": 52,
    "start_time": "2022-04-06T08:58:21.687Z"
   },
   {
    "duration": 3872,
    "start_time": "2022-04-06T08:58:40.136Z"
   },
   {
    "duration": 5,
    "start_time": "2022-04-06T08:59:02.836Z"
   },
   {
    "duration": 4,
    "start_time": "2022-04-06T08:59:02.954Z"
   },
   {
    "duration": 482,
    "start_time": "2022-04-06T08:59:31.922Z"
   },
   {
    "duration": 3835,
    "start_time": "2022-04-06T08:59:44.760Z"
   },
   {
    "duration": 4,
    "start_time": "2022-04-06T08:59:51.844Z"
   },
   {
    "duration": 4,
    "start_time": "2022-04-06T08:59:52.675Z"
   },
   {
    "duration": 4797,
    "start_time": "2022-04-06T09:02:00.768Z"
   },
   {
    "duration": 3,
    "start_time": "2022-04-06T09:05:33.729Z"
   },
   {
    "duration": 7439,
    "start_time": "2022-04-06T09:05:33.896Z"
   },
   {
    "duration": 5697,
    "start_time": "2022-04-06T09:05:53.008Z"
   },
   {
    "duration": 4,
    "start_time": "2022-04-06T09:05:59.572Z"
   },
   {
    "duration": 5,
    "start_time": "2022-04-06T09:05:59.717Z"
   },
   {
    "duration": 4,
    "start_time": "2022-04-06T09:06:17.604Z"
   },
   {
    "duration": 5561,
    "start_time": "2022-04-06T09:06:17.757Z"
   },
   {
    "duration": 5,
    "start_time": "2022-04-06T09:06:23.320Z"
   },
   {
    "duration": 10,
    "start_time": "2022-04-06T09:06:23.326Z"
   },
   {
    "duration": 3,
    "start_time": "2022-04-06T09:06:38.497Z"
   },
   {
    "duration": 5321,
    "start_time": "2022-04-06T09:06:38.657Z"
   },
   {
    "duration": 4,
    "start_time": "2022-04-06T09:06:43.980Z"
   },
   {
    "duration": 17,
    "start_time": "2022-04-06T09:06:43.986Z"
   },
   {
    "duration": 4,
    "start_time": "2022-04-06T09:07:41.403Z"
   },
   {
    "duration": 21255,
    "start_time": "2022-04-06T09:07:41.546Z"
   },
   {
    "duration": 5,
    "start_time": "2022-04-06T09:08:02.804Z"
   },
   {
    "duration": 69,
    "start_time": "2022-04-06T09:08:02.810Z"
   },
   {
    "duration": 5,
    "start_time": "2022-04-06T09:30:43.640Z"
   },
   {
    "duration": 17,
    "start_time": "2022-04-06T09:30:50.677Z"
   },
   {
    "duration": 19908,
    "start_time": "2022-04-06T09:30:51.209Z"
   },
   {
    "duration": 5,
    "start_time": "2022-04-06T09:31:11.120Z"
   },
   {
    "duration": 16,
    "start_time": "2022-04-06T09:31:11.127Z"
   },
   {
    "duration": 37,
    "start_time": "2022-04-06T09:31:11.145Z"
   },
   {
    "duration": 22,
    "start_time": "2022-04-06T09:32:47.665Z"
   },
   {
    "duration": 21,
    "start_time": "2022-04-06T09:33:04.146Z"
   },
   {
    "duration": 20968,
    "start_time": "2022-04-06T09:33:04.850Z"
   },
   {
    "duration": 5,
    "start_time": "2022-04-06T09:33:25.821Z"
   },
   {
    "duration": 11,
    "start_time": "2022-04-06T09:33:25.828Z"
   },
   {
    "duration": 17,
    "start_time": "2022-04-06T09:33:25.841Z"
   },
   {
    "duration": 21,
    "start_time": "2022-04-06T09:33:32.507Z"
   },
   {
    "duration": 85284,
    "start_time": "2022-04-06T09:33:32.671Z"
   },
   {
    "duration": 5,
    "start_time": "2022-04-06T09:34:57.958Z"
   },
   {
    "duration": 14,
    "start_time": "2022-04-06T09:34:57.964Z"
   },
   {
    "duration": 8,
    "start_time": "2022-04-06T09:34:57.980Z"
   },
   {
    "duration": 3,
    "start_time": "2022-04-06T09:41:06.780Z"
   },
   {
    "duration": 3,
    "start_time": "2022-04-06T09:41:07.599Z"
   },
   {
    "duration": 20,
    "start_time": "2022-04-06T09:41:09.299Z"
   },
   {
    "duration": 84616,
    "start_time": "2022-04-06T09:41:09.495Z"
   },
   {
    "duration": 16,
    "start_time": "2022-04-06T09:42:34.114Z"
   },
   {
    "duration": 0,
    "start_time": "2022-04-06T09:42:34.132Z"
   },
   {
    "duration": 0,
    "start_time": "2022-04-06T09:42:34.133Z"
   },
   {
    "duration": 12,
    "start_time": "2022-04-06T09:42:50.739Z"
   },
   {
    "duration": 4,
    "start_time": "2022-04-06T09:43:13.171Z"
   },
   {
    "duration": 3,
    "start_time": "2022-04-06T09:43:14.239Z"
   },
   {
    "duration": 2,
    "start_time": "2022-04-06T09:43:14.791Z"
   },
   {
    "duration": 3,
    "start_time": "2022-04-06T09:45:39.009Z"
   },
   {
    "duration": 3,
    "start_time": "2022-04-06T09:45:39.644Z"
   },
   {
    "duration": 3,
    "start_time": "2022-04-06T09:47:07.001Z"
   },
   {
    "duration": 122,
    "start_time": "2022-04-06T09:47:07.148Z"
   },
   {
    "duration": 22,
    "start_time": "2022-04-06T10:02:33.089Z"
   },
   {
    "duration": 493,
    "start_time": "2022-04-06T10:02:33.361Z"
   },
   {
    "duration": 4,
    "start_time": "2022-04-06T10:02:57.849Z"
   },
   {
    "duration": 84285,
    "start_time": "2022-04-06T10:02:57.984Z"
   },
   {
    "duration": 15,
    "start_time": "2022-04-06T10:07:05.762Z"
   },
   {
    "duration": 13,
    "start_time": "2022-04-06T10:07:26.888Z"
   },
   {
    "duration": 13,
    "start_time": "2022-04-06T10:08:15.741Z"
   },
   {
    "duration": 195,
    "start_time": "2022-04-06T10:08:24.566Z"
   },
   {
    "duration": 793,
    "start_time": "2022-04-06T10:08:24.763Z"
   },
   {
    "duration": 33,
    "start_time": "2022-04-06T10:08:25.557Z"
   },
   {
    "duration": 15,
    "start_time": "2022-04-06T10:08:25.601Z"
   },
   {
    "duration": 235,
    "start_time": "2022-04-06T10:08:25.619Z"
   },
   {
    "duration": 27,
    "start_time": "2022-04-06T10:08:25.856Z"
   },
   {
    "duration": 198,
    "start_time": "2022-04-06T10:08:25.885Z"
   },
   {
    "duration": 118,
    "start_time": "2022-04-06T10:08:26.085Z"
   },
   {
    "duration": 0,
    "start_time": "2022-04-06T10:08:26.205Z"
   },
   {
    "duration": 0,
    "start_time": "2022-04-06T10:08:26.206Z"
   },
   {
    "duration": 0,
    "start_time": "2022-04-06T10:08:26.207Z"
   },
   {
    "duration": 0,
    "start_time": "2022-04-06T10:08:26.209Z"
   },
   {
    "duration": 0,
    "start_time": "2022-04-06T10:08:26.210Z"
   },
   {
    "duration": 0,
    "start_time": "2022-04-06T10:08:26.211Z"
   },
   {
    "duration": 0,
    "start_time": "2022-04-06T10:08:26.212Z"
   },
   {
    "duration": 183,
    "start_time": "2022-04-06T10:08:36.189Z"
   },
   {
    "duration": 77,
    "start_time": "2022-04-06T10:08:36.374Z"
   },
   {
    "duration": 25,
    "start_time": "2022-04-06T10:08:36.453Z"
   },
   {
    "duration": 33,
    "start_time": "2022-04-06T10:08:36.481Z"
   },
   {
    "duration": 89969,
    "start_time": "2022-04-06T10:08:36.516Z"
   },
   {
    "duration": 4,
    "start_time": "2022-04-06T10:10:06.488Z"
   },
   {
    "duration": 22,
    "start_time": "2022-04-06T10:10:06.493Z"
   },
   {
    "duration": 31,
    "start_time": "2022-04-06T10:10:06.517Z"
   },
   {
    "duration": 74,
    "start_time": "2022-04-06T10:10:06.550Z"
   },
   {
    "duration": 77,
    "start_time": "2022-04-06T10:14:49.726Z"
   },
   {
    "duration": 65,
    "start_time": "2022-04-06T10:15:38.012Z"
   },
   {
    "duration": 64,
    "start_time": "2022-04-06T10:17:46.788Z"
   },
   {
    "duration": 57,
    "start_time": "2022-04-06T10:19:05.250Z"
   },
   {
    "duration": 66,
    "start_time": "2022-04-06T10:19:53.740Z"
   },
   {
    "duration": 68,
    "start_time": "2022-04-06T10:20:07.156Z"
   },
   {
    "duration": 64,
    "start_time": "2022-04-06T10:20:12.037Z"
   },
   {
    "duration": 67,
    "start_time": "2022-04-06T10:20:32.306Z"
   },
   {
    "duration": 66,
    "start_time": "2022-04-06T10:35:21.847Z"
   },
   {
    "duration": 65,
    "start_time": "2022-04-06T10:35:45.458Z"
   },
   {
    "duration": 65,
    "start_time": "2022-04-06T10:35:51.894Z"
   },
   {
    "duration": 67,
    "start_time": "2022-04-06T10:36:04.986Z"
   },
   {
    "duration": 40,
    "start_time": "2022-04-06T10:39:51.372Z"
   },
   {
    "duration": 4864,
    "start_time": "2022-04-09T12:25:39.798Z"
   },
   {
    "duration": 736,
    "start_time": "2022-04-09T12:25:44.664Z"
   },
   {
    "duration": 25,
    "start_time": "2022-04-09T12:25:45.401Z"
   },
   {
    "duration": 14,
    "start_time": "2022-04-09T12:25:45.428Z"
   },
   {
    "duration": 229,
    "start_time": "2022-04-09T12:25:45.444Z"
   },
   {
    "duration": 30,
    "start_time": "2022-04-09T12:25:45.675Z"
   },
   {
    "duration": 184,
    "start_time": "2022-04-09T12:25:45.706Z"
   },
   {
    "duration": 60,
    "start_time": "2022-04-09T12:25:45.891Z"
   },
   {
    "duration": 28,
    "start_time": "2022-04-09T12:25:45.953Z"
   },
   {
    "duration": 3,
    "start_time": "2022-04-09T12:25:45.984Z"
   },
   {
    "duration": 73022,
    "start_time": "2022-04-09T12:25:45.988Z"
   },
   {
    "duration": 5,
    "start_time": "2022-04-09T12:26:59.012Z"
   },
   {
    "duration": 8,
    "start_time": "2022-04-09T12:26:59.018Z"
   },
   {
    "duration": 9,
    "start_time": "2022-04-09T12:26:59.027Z"
   },
   {
    "duration": 45,
    "start_time": "2022-04-09T12:26:59.037Z"
   },
   {
    "duration": 3,
    "start_time": "2022-04-09T12:26:59.083Z"
   },
   {
    "duration": 12,
    "start_time": "2022-04-09T13:42:00.652Z"
   },
   {
    "duration": 10,
    "start_time": "2022-04-09T13:45:04.986Z"
   },
   {
    "duration": 146,
    "start_time": "2022-04-09T13:45:07.440Z"
   },
   {
    "duration": 27,
    "start_time": "2022-04-09T13:45:37.234Z"
   },
   {
    "duration": 10,
    "start_time": "2022-04-09T13:45:56.037Z"
   },
   {
    "duration": 87188,
    "start_time": "2022-04-09T13:45:57.030Z"
   },
   {
    "duration": 10,
    "start_time": "2022-04-09T13:47:50.131Z"
   },
   {
    "duration": 51,
    "start_time": "2022-04-09T13:47:50.812Z"
   },
   {
    "duration": 178,
    "start_time": "2022-04-09T13:48:15.713Z"
   },
   {
    "duration": 10,
    "start_time": "2022-04-09T13:48:20.450Z"
   },
   {
    "duration": 586068,
    "start_time": "2022-04-09T13:48:20.978Z"
   },
   {
    "duration": 5,
    "start_time": "2022-04-09T14:05:03.568Z"
   },
   {
    "duration": 7,
    "start_time": "2022-04-09T14:05:14.539Z"
   },
   {
    "duration": 13,
    "start_time": "2022-04-09T14:05:30.687Z"
   },
   {
    "duration": 643570,
    "start_time": "2022-04-09T14:05:31.628Z"
   },
   {
    "duration": 12,
    "start_time": "2022-04-09T14:24:36.918Z"
   },
   {
    "duration": 3028893,
    "start_time": "2022-04-09T14:24:37.528Z"
   },
   {
    "duration": 12,
    "start_time": "2022-04-09T15:18:23.676Z"
   },
   {
    "duration": 1290247,
    "start_time": "2022-04-09T15:18:24.249Z"
   },
   {
    "duration": 0,
    "start_time": "2022-04-09T15:39:54.499Z"
   },
   {
    "duration": 243,
    "start_time": "2022-04-09T15:40:03.351Z"
   },
   {
    "duration": 659,
    "start_time": "2022-04-09T15:40:03.596Z"
   },
   {
    "duration": 38,
    "start_time": "2022-04-09T15:40:04.257Z"
   },
   {
    "duration": 17,
    "start_time": "2022-04-09T15:40:04.298Z"
   },
   {
    "duration": 232,
    "start_time": "2022-04-09T15:40:04.317Z"
   },
   {
    "duration": 35,
    "start_time": "2022-04-09T15:40:04.551Z"
   },
   {
    "duration": 221,
    "start_time": "2022-04-09T15:40:04.588Z"
   },
   {
    "duration": 54,
    "start_time": "2022-04-09T15:40:04.811Z"
   },
   {
    "duration": 20,
    "start_time": "2022-04-09T15:40:04.881Z"
   },
   {
    "duration": 6,
    "start_time": "2022-04-09T15:40:04.904Z"
   },
   {
    "duration": 74756,
    "start_time": "2022-04-09T15:40:04.913Z"
   },
   {
    "duration": 10,
    "start_time": "2022-04-09T15:41:19.671Z"
   },
   {
    "duration": 3,
    "start_time": "2022-04-09T15:41:19.682Z"
   },
   {
    "duration": 5,
    "start_time": "2022-04-09T15:41:19.686Z"
   },
   {
    "duration": 11,
    "start_time": "2022-04-09T15:41:19.693Z"
   },
   {
    "duration": 4292148,
    "start_time": "2022-04-09T15:41:19.705Z"
   },
   {
    "duration": 0,
    "start_time": "2022-04-09T16:52:51.854Z"
   },
   {
    "duration": 908,
    "start_time": "2022-04-09T17:17:40.013Z"
   },
   {
    "duration": 645,
    "start_time": "2022-04-09T17:17:40.923Z"
   },
   {
    "duration": 36,
    "start_time": "2022-04-09T17:17:41.569Z"
   },
   {
    "duration": 17,
    "start_time": "2022-04-09T17:17:41.607Z"
   },
   {
    "duration": 271,
    "start_time": "2022-04-09T17:17:41.626Z"
   },
   {
    "duration": 30,
    "start_time": "2022-04-09T17:17:41.899Z"
   },
   {
    "duration": 181,
    "start_time": "2022-04-09T17:17:41.931Z"
   },
   {
    "duration": 53,
    "start_time": "2022-04-09T17:17:42.113Z"
   },
   {
    "duration": 28,
    "start_time": "2022-04-09T17:17:42.167Z"
   },
   {
    "duration": 11,
    "start_time": "2022-04-09T17:17:42.196Z"
   },
   {
    "duration": 79264,
    "start_time": "2022-04-09T17:17:42.209Z"
   },
   {
    "duration": 7,
    "start_time": "2022-04-09T17:19:01.475Z"
   },
   {
    "duration": 11,
    "start_time": "2022-04-09T17:19:01.484Z"
   },
   {
    "duration": 8,
    "start_time": "2022-04-09T17:19:01.497Z"
   },
   {
    "duration": 11,
    "start_time": "2022-04-09T17:19:01.507Z"
   },
   {
    "duration": 5302,
    "start_time": "2022-04-10T06:16:52.318Z"
   },
   {
    "duration": 778,
    "start_time": "2022-04-10T06:16:57.622Z"
   },
   {
    "duration": 41,
    "start_time": "2022-04-10T06:16:58.401Z"
   },
   {
    "duration": 17,
    "start_time": "2022-04-10T06:16:58.445Z"
   },
   {
    "duration": 240,
    "start_time": "2022-04-10T06:16:58.464Z"
   },
   {
    "duration": 35,
    "start_time": "2022-04-10T06:16:58.706Z"
   },
   {
    "duration": 198,
    "start_time": "2022-04-10T06:16:58.743Z"
   },
   {
    "duration": 53,
    "start_time": "2022-04-10T06:16:58.942Z"
   },
   {
    "duration": 17,
    "start_time": "2022-04-10T06:16:58.997Z"
   },
   {
    "duration": 23,
    "start_time": "2022-04-10T06:16:59.017Z"
   },
   {
    "duration": 82322,
    "start_time": "2022-04-10T06:16:59.042Z"
   },
   {
    "duration": 13,
    "start_time": "2022-04-10T06:18:21.366Z"
   },
   {
    "duration": 6,
    "start_time": "2022-04-10T06:18:21.381Z"
   },
   {
    "duration": 11,
    "start_time": "2022-04-10T06:18:21.388Z"
   },
   {
    "duration": 15,
    "start_time": "2022-04-10T06:18:21.400Z"
   },
   {
    "duration": 4385571,
    "start_time": "2022-04-10T06:18:21.417Z"
   },
   {
    "duration": 6262397,
    "start_time": "2022-04-10T07:31:26.992Z"
   },
   {
    "duration": 14,
    "start_time": "2022-04-10T09:52:43.870Z"
   },
   {
    "duration": 13869,
    "start_time": "2022-04-10T09:52:44.568Z"
   },
   {
    "duration": 78,
    "start_time": "2022-04-10T09:53:07.536Z"
   },
   {
    "duration": 380575,
    "start_time": "2022-04-10T09:53:07.680Z"
   },
   {
    "duration": 12,
    "start_time": "2022-04-10T10:03:51.515Z"
   },
   {
    "duration": 397237,
    "start_time": "2022-04-10T10:03:52.131Z"
   },
   {
    "duration": 14,
    "start_time": "2022-04-10T10:18:07.271Z"
   },
   {
    "duration": 5286,
    "start_time": "2022-04-10T10:18:07.832Z"
   },
   {
    "duration": 98,
    "start_time": "2022-04-10T10:23:00.789Z"
   },
   {
    "duration": 18821,
    "start_time": "2022-04-10T10:23:02.389Z"
   },
   {
    "duration": 251,
    "start_time": "2022-04-10T10:23:59.679Z"
   },
   {
    "duration": 372657,
    "start_time": "2022-04-10T10:24:00.838Z"
   },
   {
    "duration": 15,
    "start_time": "2022-04-10T10:30:55.929Z"
   },
   {
    "duration": 59,
    "start_time": "2022-04-10T10:30:56.437Z"
   },
   {
    "duration": 14,
    "start_time": "2022-04-10T10:32:39.771Z"
   },
   {
    "duration": 375831,
    "start_time": "2022-04-10T10:32:40.065Z"
   },
   {
    "duration": 51,
    "start_time": "2022-04-14T08:18:21.553Z"
   },
   {
    "duration": 4084,
    "start_time": "2022-04-14T08:18:27.639Z"
   },
   {
    "duration": 6,
    "start_time": "2022-04-14T08:18:32.081Z"
   },
   {
    "duration": 12,
    "start_time": "2022-04-14T08:18:37.133Z"
   },
   {
    "duration": 11,
    "start_time": "2022-04-14T08:19:05.536Z"
   },
   {
    "duration": 12,
    "start_time": "2022-04-14T08:19:19.070Z"
   },
   {
    "duration": 11,
    "start_time": "2022-04-14T08:19:28.108Z"
   },
   {
    "duration": 12,
    "start_time": "2022-04-14T08:20:08.343Z"
   },
   {
    "duration": 134,
    "start_time": "2022-04-14T08:20:16.968Z"
   },
   {
    "duration": 11,
    "start_time": "2022-04-14T08:20:27.292Z"
   },
   {
    "duration": 10,
    "start_time": "2022-04-14T08:20:37.325Z"
   },
   {
    "duration": 12,
    "start_time": "2022-04-14T08:23:29.273Z"
   },
   {
    "duration": 13,
    "start_time": "2022-04-14T08:23:37.203Z"
   },
   {
    "duration": 8,
    "start_time": "2022-04-14T08:28:06.971Z"
   },
   {
    "duration": 7,
    "start_time": "2022-04-14T08:28:18.646Z"
   },
   {
    "duration": 12,
    "start_time": "2022-04-14T08:28:28.989Z"
   },
   {
    "duration": 7,
    "start_time": "2022-04-14T08:29:28.717Z"
   },
   {
    "duration": 814,
    "start_time": "2022-04-14T08:29:28.726Z"
   },
   {
    "duration": 31,
    "start_time": "2022-04-14T08:29:29.542Z"
   },
   {
    "duration": 15,
    "start_time": "2022-04-14T08:29:29.575Z"
   },
   {
    "duration": 237,
    "start_time": "2022-04-14T08:29:29.607Z"
   },
   {
    "duration": 27,
    "start_time": "2022-04-14T08:29:29.846Z"
   },
   {
    "duration": 222,
    "start_time": "2022-04-14T08:29:29.875Z"
   },
   {
    "duration": 59,
    "start_time": "2022-04-14T08:29:30.099Z"
   },
   {
    "duration": 18,
    "start_time": "2022-04-14T08:29:30.160Z"
   },
   {
    "duration": 7,
    "start_time": "2022-04-14T08:29:30.180Z"
   },
   {
    "duration": 77598,
    "start_time": "2022-04-14T08:29:30.189Z"
   },
   {
    "duration": 4,
    "start_time": "2022-04-14T08:30:47.789Z"
   },
   {
    "duration": 26,
    "start_time": "2022-04-14T08:30:47.795Z"
   },
   {
    "duration": 25,
    "start_time": "2022-04-14T08:30:47.824Z"
   },
   {
    "duration": 0,
    "start_time": "2022-04-14T08:30:47.850Z"
   },
   {
    "duration": 7,
    "start_time": "2022-04-14T08:31:48.208Z"
   },
   {
    "duration": 785,
    "start_time": "2022-04-14T08:31:48.216Z"
   },
   {
    "duration": 28,
    "start_time": "2022-04-14T08:31:49.002Z"
   },
   {
    "duration": 14,
    "start_time": "2022-04-14T08:31:49.031Z"
   },
   {
    "duration": 231,
    "start_time": "2022-04-14T08:31:49.047Z"
   },
   {
    "duration": 30,
    "start_time": "2022-04-14T08:31:49.280Z"
   },
   {
    "duration": 201,
    "start_time": "2022-04-14T08:31:49.312Z"
   },
   {
    "duration": 53,
    "start_time": "2022-04-14T08:31:49.515Z"
   },
   {
    "duration": 18,
    "start_time": "2022-04-14T08:31:49.571Z"
   },
   {
    "duration": 20,
    "start_time": "2022-04-14T08:31:49.607Z"
   },
   {
    "duration": 77366,
    "start_time": "2022-04-14T08:31:49.628Z"
   },
   {
    "duration": 3,
    "start_time": "2022-04-14T08:33:06.997Z"
   },
   {
    "duration": 15,
    "start_time": "2022-04-14T08:33:07.002Z"
   },
   {
    "duration": 30253,
    "start_time": "2022-04-14T08:33:07.018Z"
   },
   {
    "duration": 0,
    "start_time": "2022-04-14T08:33:37.273Z"
   },
   {
    "duration": 7,
    "start_time": "2022-04-14T08:34:27.530Z"
   },
   {
    "duration": 827,
    "start_time": "2022-04-14T08:34:27.540Z"
   },
   {
    "duration": 41,
    "start_time": "2022-04-14T08:34:28.369Z"
   },
   {
    "duration": 23,
    "start_time": "2022-04-14T08:34:28.413Z"
   },
   {
    "duration": 237,
    "start_time": "2022-04-14T08:34:28.438Z"
   },
   {
    "duration": 34,
    "start_time": "2022-04-14T08:34:28.677Z"
   },
   {
    "duration": 297,
    "start_time": "2022-04-14T08:34:28.713Z"
   },
   {
    "duration": 56,
    "start_time": "2022-04-14T08:34:29.012Z"
   },
   {
    "duration": 38,
    "start_time": "2022-04-14T08:34:29.069Z"
   },
   {
    "duration": 12,
    "start_time": "2022-04-14T08:34:29.110Z"
   },
   {
    "duration": 76769,
    "start_time": "2022-04-14T08:34:29.123Z"
   },
   {
    "duration": 4,
    "start_time": "2022-04-14T08:35:45.893Z"
   },
   {
    "duration": 12,
    "start_time": "2022-04-14T08:35:45.908Z"
   },
   {
    "duration": 4478290,
    "start_time": "2022-04-14T08:35:45.922Z"
   },
   {
    "duration": 6036,
    "start_time": "2022-04-14T10:19:12.593Z"
   },
   {
    "duration": 0,
    "start_time": "2022-04-14T10:19:18.631Z"
   },
   {
    "duration": 0,
    "start_time": "2022-04-14T10:19:18.632Z"
   },
   {
    "duration": 0,
    "start_time": "2022-04-14T10:19:18.633Z"
   },
   {
    "duration": 0,
    "start_time": "2022-04-14T10:19:18.634Z"
   },
   {
    "duration": 0,
    "start_time": "2022-04-14T10:19:18.635Z"
   },
   {
    "duration": 0,
    "start_time": "2022-04-14T10:19:18.636Z"
   },
   {
    "duration": 0,
    "start_time": "2022-04-14T10:19:18.637Z"
   },
   {
    "duration": 0,
    "start_time": "2022-04-14T10:19:18.638Z"
   },
   {
    "duration": 0,
    "start_time": "2022-04-14T10:19:18.639Z"
   },
   {
    "duration": 0,
    "start_time": "2022-04-14T10:19:18.640Z"
   },
   {
    "duration": 0,
    "start_time": "2022-04-14T10:19:18.641Z"
   },
   {
    "duration": 0,
    "start_time": "2022-04-14T10:19:18.642Z"
   },
   {
    "duration": 0,
    "start_time": "2022-04-14T10:19:18.643Z"
   },
   {
    "duration": 0,
    "start_time": "2022-04-14T10:19:18.644Z"
   },
   {
    "duration": 10194,
    "start_time": "2022-04-14T10:19:26.139Z"
   },
   {
    "duration": 0,
    "start_time": "2022-04-14T10:19:36.335Z"
   },
   {
    "duration": 0,
    "start_time": "2022-04-14T10:19:36.337Z"
   },
   {
    "duration": 0,
    "start_time": "2022-04-14T10:19:36.338Z"
   },
   {
    "duration": 0,
    "start_time": "2022-04-14T10:19:36.339Z"
   },
   {
    "duration": 0,
    "start_time": "2022-04-14T10:19:36.340Z"
   },
   {
    "duration": 0,
    "start_time": "2022-04-14T10:19:36.341Z"
   },
   {
    "duration": 0,
    "start_time": "2022-04-14T10:19:36.342Z"
   },
   {
    "duration": 0,
    "start_time": "2022-04-14T10:19:36.344Z"
   },
   {
    "duration": 0,
    "start_time": "2022-04-14T10:19:36.345Z"
   },
   {
    "duration": 0,
    "start_time": "2022-04-14T10:19:36.346Z"
   },
   {
    "duration": 0,
    "start_time": "2022-04-14T10:19:36.347Z"
   },
   {
    "duration": 0,
    "start_time": "2022-04-14T10:19:36.348Z"
   },
   {
    "duration": 0,
    "start_time": "2022-04-14T10:19:36.349Z"
   },
   {
    "duration": 0,
    "start_time": "2022-04-14T10:19:36.350Z"
   },
   {
    "duration": 318295,
    "start_time": "2022-04-14T10:21:50.964Z"
   },
   {
    "duration": 0,
    "start_time": "2022-04-14T10:27:09.261Z"
   },
   {
    "duration": 28380,
    "start_time": "2022-04-14T10:27:27.391Z"
   },
   {
    "duration": 45545,
    "start_time": "2022-04-14T10:32:05.261Z"
   },
   {
    "duration": 99177,
    "start_time": "2022-04-14T10:41:07.714Z"
   },
   {
    "duration": 10110,
    "start_time": "2022-04-14T10:43:32.080Z"
   },
   {
    "duration": 40082,
    "start_time": "2022-04-14T10:44:00.467Z"
   },
   {
    "duration": 3863,
    "start_time": "2022-04-14T10:44:49.622Z"
   },
   {
    "duration": 1779,
    "start_time": "2022-04-14T10:44:57.672Z"
   },
   {
    "duration": 5,
    "start_time": "2022-04-14T10:45:03.906Z"
   },
   {
    "duration": 4,
    "start_time": "2022-04-14T10:45:09.112Z"
   },
   {
    "duration": 0,
    "start_time": "2022-04-14T10:45:26.990Z"
   },
   {
    "duration": 5,
    "start_time": "2022-04-14T10:45:36.162Z"
   },
   {
    "duration": 746,
    "start_time": "2022-04-14T10:45:36.958Z"
   },
   {
    "duration": 5,
    "start_time": "2022-04-14T10:45:55.437Z"
   },
   {
    "duration": 734,
    "start_time": "2022-04-14T10:45:55.443Z"
   },
   {
    "duration": 35,
    "start_time": "2022-04-14T10:45:56.178Z"
   },
   {
    "duration": 15,
    "start_time": "2022-04-14T10:45:56.215Z"
   },
   {
    "duration": 216,
    "start_time": "2022-04-14T10:45:56.231Z"
   },
   {
    "duration": 22,
    "start_time": "2022-04-14T10:45:56.448Z"
   },
   {
    "duration": 200,
    "start_time": "2022-04-14T10:45:56.471Z"
   },
   {
    "duration": 56,
    "start_time": "2022-04-14T10:45:56.673Z"
   },
   {
    "duration": 17,
    "start_time": "2022-04-14T10:45:56.731Z"
   },
   {
    "duration": 24,
    "start_time": "2022-04-14T10:45:56.750Z"
   },
   {
    "duration": 73003,
    "start_time": "2022-04-14T10:45:56.776Z"
   },
   {
    "duration": 4,
    "start_time": "2022-04-14T10:47:09.781Z"
   },
   {
    "duration": 29,
    "start_time": "2022-04-14T10:47:09.787Z"
   },
   {
    "duration": 285239,
    "start_time": "2022-04-14T10:47:09.818Z"
   },
   {
    "duration": 0,
    "start_time": "2022-04-14T10:51:55.059Z"
   },
   {
    "duration": 239845,
    "start_time": "2022-04-14T10:52:04.579Z"
   },
   {
    "duration": 5,
    "start_time": "2022-04-14T10:56:10.494Z"
   },
   {
    "duration": 817,
    "start_time": "2022-04-14T10:56:10.501Z"
   },
   {
    "duration": 31,
    "start_time": "2022-04-14T10:56:11.320Z"
   },
   {
    "duration": 16,
    "start_time": "2022-04-14T10:56:11.353Z"
   },
   {
    "duration": 231,
    "start_time": "2022-04-14T10:56:11.371Z"
   },
   {
    "duration": 26,
    "start_time": "2022-04-14T10:56:11.604Z"
   },
   {
    "duration": 208,
    "start_time": "2022-04-14T10:56:11.632Z"
   },
   {
    "duration": 67,
    "start_time": "2022-04-14T10:56:11.841Z"
   },
   {
    "duration": 21,
    "start_time": "2022-04-14T10:56:11.910Z"
   },
   {
    "duration": 5,
    "start_time": "2022-04-14T10:56:11.934Z"
   },
   {
    "duration": 81519,
    "start_time": "2022-04-14T10:56:11.941Z"
   },
   {
    "duration": 4,
    "start_time": "2022-04-14T10:57:33.463Z"
   },
   {
    "duration": 14,
    "start_time": "2022-04-14T10:57:33.469Z"
   },
   {
    "duration": 390354,
    "start_time": "2022-04-14T10:57:33.485Z"
   },
   {
    "duration": 0,
    "start_time": "2022-04-14T11:04:03.841Z"
   },
   {
    "duration": 4,
    "start_time": "2022-04-14T11:04:08.476Z"
   },
   {
    "duration": 5,
    "start_time": "2022-04-14T11:04:17.494Z"
   },
   {
    "duration": 5,
    "start_time": "2022-04-14T11:04:30.967Z"
   },
   {
    "duration": 7,
    "start_time": "2022-04-14T11:04:42.293Z"
   },
   {
    "duration": 7,
    "start_time": "2022-04-14T11:05:09.535Z"
   },
   {
    "duration": 125,
    "start_time": "2022-04-14T11:05:16.730Z"
   },
   {
    "duration": 7,
    "start_time": "2022-04-14T11:05:21.444Z"
   },
   {
    "duration": 5,
    "start_time": "2022-04-14T11:06:00.467Z"
   },
   {
    "duration": 744,
    "start_time": "2022-04-14T11:06:00.473Z"
   },
   {
    "duration": 32,
    "start_time": "2022-04-14T11:06:01.218Z"
   },
   {
    "duration": 33,
    "start_time": "2022-04-14T11:06:01.252Z"
   },
   {
    "duration": 215,
    "start_time": "2022-04-14T11:06:01.287Z"
   },
   {
    "duration": 27,
    "start_time": "2022-04-14T11:06:01.507Z"
   },
   {
    "duration": 205,
    "start_time": "2022-04-14T11:06:01.536Z"
   },
   {
    "duration": 53,
    "start_time": "2022-04-14T11:06:01.742Z"
   },
   {
    "duration": 18,
    "start_time": "2022-04-14T11:06:01.808Z"
   },
   {
    "duration": 6,
    "start_time": "2022-04-14T11:06:01.828Z"
   },
   {
    "duration": 74047,
    "start_time": "2022-04-14T11:06:01.835Z"
   },
   {
    "duration": 8,
    "start_time": "2022-04-14T11:07:15.884Z"
   },
   {
    "duration": 5,
    "start_time": "2022-04-14T11:07:15.894Z"
   },
   {
    "duration": 19,
    "start_time": "2022-04-14T11:07:15.901Z"
   },
   {
    "duration": 2797,
    "start_time": "2022-04-14T11:40:10.271Z"
   },
   {
    "duration": 799,
    "start_time": "2022-04-14T11:40:13.070Z"
   },
   {
    "duration": 40,
    "start_time": "2022-04-14T11:40:13.871Z"
   },
   {
    "duration": 17,
    "start_time": "2022-04-14T11:40:13.913Z"
   },
   {
    "duration": 237,
    "start_time": "2022-04-14T11:40:13.933Z"
   },
   {
    "duration": 36,
    "start_time": "2022-04-14T11:40:14.172Z"
   },
   {
    "duration": 200,
    "start_time": "2022-04-14T11:40:14.210Z"
   },
   {
    "duration": 52,
    "start_time": "2022-04-14T11:40:14.412Z"
   },
   {
    "duration": 17,
    "start_time": "2022-04-14T11:40:14.465Z"
   },
   {
    "duration": 26,
    "start_time": "2022-04-14T11:40:14.484Z"
   },
   {
    "duration": 75805,
    "start_time": "2022-04-14T11:40:14.512Z"
   },
   {
    "duration": 8,
    "start_time": "2022-04-14T11:41:30.319Z"
   },
   {
    "duration": 13,
    "start_time": "2022-04-14T11:41:30.328Z"
   },
   {
    "duration": 14,
    "start_time": "2022-04-14T11:41:30.343Z"
   },
   {
    "duration": 237,
    "start_time": "2022-04-14T11:41:30.359Z"
   },
   {
    "duration": 0,
    "start_time": "2022-04-14T11:41:30.598Z"
   },
   {
    "duration": 15,
    "start_time": "2022-04-14T11:42:10.527Z"
   },
   {
    "duration": 6,
    "start_time": "2022-04-14T11:42:29.745Z"
   },
   {
    "duration": 20,
    "start_time": "2022-04-14T11:42:34.130Z"
   },
   {
    "duration": 77,
    "start_time": "2022-04-14T11:42:34.283Z"
   },
   {
    "duration": 2655,
    "start_time": "2022-04-14T11:43:37.868Z"
   },
   {
    "duration": 799,
    "start_time": "2022-04-14T11:43:40.525Z"
   },
   {
    "duration": 28,
    "start_time": "2022-04-14T11:43:41.326Z"
   },
   {
    "duration": 15,
    "start_time": "2022-04-14T11:43:41.356Z"
   },
   {
    "duration": 245,
    "start_time": "2022-04-14T11:43:41.373Z"
   },
   {
    "duration": 26,
    "start_time": "2022-04-14T11:43:41.620Z"
   },
   {
    "duration": 203,
    "start_time": "2022-04-14T11:43:41.647Z"
   },
   {
    "duration": 62,
    "start_time": "2022-04-14T11:43:41.852Z"
   },
   {
    "duration": 16,
    "start_time": "2022-04-14T11:43:41.916Z"
   },
   {
    "duration": 6,
    "start_time": "2022-04-14T11:43:41.935Z"
   },
   {
    "duration": 77788,
    "start_time": "2022-04-14T11:43:41.943Z"
   },
   {
    "duration": 8,
    "start_time": "2022-04-14T11:44:59.732Z"
   },
   {
    "duration": 6,
    "start_time": "2022-04-14T11:44:59.742Z"
   },
   {
    "duration": 13,
    "start_time": "2022-04-14T11:44:59.750Z"
   },
   {
    "duration": 19552,
    "start_time": "2022-04-14T11:44:59.765Z"
   },
   {
    "duration": 0,
    "start_time": "2022-04-14T11:45:19.319Z"
   },
   {
    "duration": 13,
    "start_time": "2022-04-14T11:51:57.979Z"
   },
   {
    "duration": 10608,
    "start_time": "2022-04-14T11:51:58.684Z"
   },
   {
    "duration": 33,
    "start_time": "2022-04-14T11:53:19.502Z"
   },
   {
    "duration": 10880,
    "start_time": "2022-04-14T11:53:19.692Z"
   },
   {
    "duration": 45,
    "start_time": "2022-04-14T11:54:02.059Z"
   },
   {
    "duration": 10610,
    "start_time": "2022-04-14T11:54:02.218Z"
   },
   {
    "duration": 36,
    "start_time": "2022-04-14T11:54:49.609Z"
   },
   {
    "duration": 14172,
    "start_time": "2022-04-14T11:54:49.803Z"
   },
   {
    "duration": 23,
    "start_time": "2022-04-14T11:55:24.375Z"
   },
   {
    "duration": 10453,
    "start_time": "2022-04-14T11:55:25.054Z"
   },
   {
    "duration": 32,
    "start_time": "2022-04-14T11:56:02.793Z"
   },
   {
    "duration": 25503,
    "start_time": "2022-04-14T11:56:02.936Z"
   },
   {
    "duration": 5,
    "start_time": "2022-04-14T11:58:20.122Z"
   },
   {
    "duration": 696,
    "start_time": "2022-04-14T11:58:20.129Z"
   },
   {
    "duration": 31,
    "start_time": "2022-04-14T11:58:20.827Z"
   },
   {
    "duration": 15,
    "start_time": "2022-04-14T11:58:20.860Z"
   },
   {
    "duration": 244,
    "start_time": "2022-04-14T11:58:20.877Z"
   },
   {
    "duration": 26,
    "start_time": "2022-04-14T11:58:21.123Z"
   },
   {
    "duration": 200,
    "start_time": "2022-04-14T11:58:21.151Z"
   },
   {
    "duration": 62,
    "start_time": "2022-04-14T11:58:21.353Z"
   },
   {
    "duration": 21,
    "start_time": "2022-04-14T11:58:21.417Z"
   },
   {
    "duration": 6,
    "start_time": "2022-04-14T11:58:21.440Z"
   },
   {
    "duration": 74343,
    "start_time": "2022-04-14T11:58:21.448Z"
   },
   {
    "duration": 14,
    "start_time": "2022-04-14T11:59:35.793Z"
   },
   {
    "duration": 3,
    "start_time": "2022-04-14T11:59:35.809Z"
   },
   {
    "duration": 13,
    "start_time": "2022-04-14T11:59:35.813Z"
   },
   {
    "duration": 2599,
    "start_time": "2022-04-14T12:32:41.192Z"
   },
   {
    "duration": 769,
    "start_time": "2022-04-14T12:32:43.793Z"
   },
   {
    "duration": 29,
    "start_time": "2022-04-14T12:32:44.563Z"
   },
   {
    "duration": 26,
    "start_time": "2022-04-14T12:32:44.594Z"
   },
   {
    "duration": 228,
    "start_time": "2022-04-14T12:32:44.622Z"
   },
   {
    "duration": 26,
    "start_time": "2022-04-14T12:32:44.852Z"
   },
   {
    "duration": 220,
    "start_time": "2022-04-14T12:32:44.879Z"
   },
   {
    "duration": 64,
    "start_time": "2022-04-14T12:32:45.101Z"
   },
   {
    "duration": 17,
    "start_time": "2022-04-14T12:32:45.167Z"
   },
   {
    "duration": 4,
    "start_time": "2022-04-14T12:32:45.207Z"
   },
   {
    "duration": 73382,
    "start_time": "2022-04-14T12:32:45.213Z"
   },
   {
    "duration": 12,
    "start_time": "2022-04-14T12:33:58.597Z"
   },
   {
    "duration": 5,
    "start_time": "2022-04-14T12:33:58.611Z"
   },
   {
    "duration": 12,
    "start_time": "2022-04-14T12:33:58.618Z"
   },
   {
    "duration": 5158317,
    "start_time": "2022-04-14T12:33:58.632Z"
   },
   {
    "duration": 7779276,
    "start_time": "2022-04-14T13:59:56.954Z"
   },
   {
    "duration": 2636,
    "start_time": "2022-04-15T08:04:11.496Z"
   },
   {
    "duration": 722,
    "start_time": "2022-04-15T08:04:14.134Z"
   },
   {
    "duration": 33,
    "start_time": "2022-04-15T08:04:14.858Z"
   },
   {
    "duration": 17,
    "start_time": "2022-04-15T08:04:14.893Z"
   },
   {
    "duration": 240,
    "start_time": "2022-04-15T08:04:14.913Z"
   },
   {
    "duration": 25,
    "start_time": "2022-04-15T08:04:15.155Z"
   },
   {
    "duration": 187,
    "start_time": "2022-04-15T08:04:15.182Z"
   },
   {
    "duration": 50,
    "start_time": "2022-04-15T08:04:15.371Z"
   },
   {
    "duration": 37,
    "start_time": "2022-04-15T08:04:15.423Z"
   },
   {
    "duration": 7,
    "start_time": "2022-04-15T08:04:15.462Z"
   },
   {
    "duration": 6231,
    "start_time": "2022-04-15T08:04:15.470Z"
   },
   {
    "duration": 7,
    "start_time": "2022-04-15T08:04:21.702Z"
   },
   {
    "duration": 8,
    "start_time": "2022-04-15T08:04:21.711Z"
   },
   {
    "duration": 27,
    "start_time": "2022-04-15T08:04:21.721Z"
   },
   {
    "duration": 3680,
    "start_time": "2022-04-15T08:04:21.749Z"
   },
   {
    "duration": 0,
    "start_time": "2022-04-15T08:04:25.432Z"
   },
   {
    "duration": 72,
    "start_time": "2022-04-15T08:07:35.349Z"
   },
   {
    "duration": 12576,
    "start_time": "2022-04-15T08:09:37.843Z"
   },
   {
    "duration": 0,
    "start_time": "2022-04-15T08:09:50.421Z"
   },
   {
    "duration": 0,
    "start_time": "2022-04-15T08:09:50.422Z"
   },
   {
    "duration": 0,
    "start_time": "2022-04-15T08:09:50.423Z"
   },
   {
    "duration": 0,
    "start_time": "2022-04-15T08:09:50.424Z"
   },
   {
    "duration": 0,
    "start_time": "2022-04-15T08:09:50.425Z"
   },
   {
    "duration": 0,
    "start_time": "2022-04-15T08:09:50.426Z"
   },
   {
    "duration": 0,
    "start_time": "2022-04-15T08:09:50.427Z"
   },
   {
    "duration": 0,
    "start_time": "2022-04-15T08:09:50.428Z"
   },
   {
    "duration": 0,
    "start_time": "2022-04-15T08:09:50.429Z"
   },
   {
    "duration": 0,
    "start_time": "2022-04-15T08:09:50.430Z"
   },
   {
    "duration": 0,
    "start_time": "2022-04-15T08:09:50.431Z"
   },
   {
    "duration": 0,
    "start_time": "2022-04-15T08:09:50.433Z"
   },
   {
    "duration": 0,
    "start_time": "2022-04-15T08:09:50.433Z"
   },
   {
    "duration": 0,
    "start_time": "2022-04-15T08:09:50.434Z"
   },
   {
    "duration": 7,
    "start_time": "2022-04-15T08:09:59.803Z"
   },
   {
    "duration": 1048,
    "start_time": "2022-04-15T08:09:59.812Z"
   },
   {
    "duration": 38,
    "start_time": "2022-04-15T08:10:00.861Z"
   },
   {
    "duration": 22,
    "start_time": "2022-04-15T08:10:00.901Z"
   },
   {
    "duration": 312,
    "start_time": "2022-04-15T08:10:00.925Z"
   },
   {
    "duration": 40,
    "start_time": "2022-04-15T08:10:01.239Z"
   },
   {
    "duration": 284,
    "start_time": "2022-04-15T08:10:01.281Z"
   },
   {
    "duration": 88,
    "start_time": "2022-04-15T08:10:01.567Z"
   },
   {
    "duration": 4,
    "start_time": "2022-04-15T08:10:01.657Z"
   },
   {
    "duration": 8541,
    "start_time": "2022-04-15T08:10:01.663Z"
   },
   {
    "duration": 7,
    "start_time": "2022-04-15T08:10:10.209Z"
   },
   {
    "duration": 11,
    "start_time": "2022-04-15T08:10:10.217Z"
   },
   {
    "duration": 22,
    "start_time": "2022-04-15T08:10:10.230Z"
   },
   {
    "duration": 3611,
    "start_time": "2022-04-15T08:10:10.254Z"
   },
   {
    "duration": 0,
    "start_time": "2022-04-15T08:10:13.867Z"
   },
   {
    "duration": 76,
    "start_time": "2022-04-15T11:27:32.621Z"
   },
   {
    "duration": 11878,
    "start_time": "2022-04-15T11:27:40.349Z"
   },
   {
    "duration": 1797,
    "start_time": "2022-04-15T11:27:52.230Z"
   },
   {
    "duration": 46,
    "start_time": "2022-04-15T11:27:54.029Z"
   },
   {
    "duration": 20,
    "start_time": "2022-04-15T11:27:54.078Z"
   },
   {
    "duration": 341,
    "start_time": "2022-04-15T11:27:54.100Z"
   },
   {
    "duration": 34,
    "start_time": "2022-04-15T11:27:54.443Z"
   },
   {
    "duration": 349,
    "start_time": "2022-04-15T11:27:54.480Z"
   },
   {
    "duration": 94,
    "start_time": "2022-04-15T11:27:54.832Z"
   },
   {
    "duration": 7,
    "start_time": "2022-04-15T11:27:54.933Z"
   },
   {
    "duration": 212,
    "start_time": "2022-04-15T11:27:54.944Z"
   },
   {
    "duration": 0,
    "start_time": "2022-04-15T11:27:55.158Z"
   },
   {
    "duration": 0,
    "start_time": "2022-04-15T11:27:55.159Z"
   },
   {
    "duration": 0,
    "start_time": "2022-04-15T11:27:55.161Z"
   },
   {
    "duration": 0,
    "start_time": "2022-04-15T11:27:55.162Z"
   },
   {
    "duration": 0,
    "start_time": "2022-04-15T11:27:55.164Z"
   },
   {
    "duration": 4,
    "start_time": "2022-04-15T11:29:49.235Z"
   },
   {
    "duration": 8,
    "start_time": "2022-04-15T11:29:59.925Z"
   },
   {
    "duration": 970,
    "start_time": "2022-04-15T11:29:59.936Z"
   },
   {
    "duration": 47,
    "start_time": "2022-04-15T11:30:00.908Z"
   },
   {
    "duration": 20,
    "start_time": "2022-04-15T11:30:00.958Z"
   },
   {
    "duration": 326,
    "start_time": "2022-04-15T11:30:00.980Z"
   },
   {
    "duration": 37,
    "start_time": "2022-04-15T11:30:01.308Z"
   },
   {
    "duration": 312,
    "start_time": "2022-04-15T11:30:01.347Z"
   },
   {
    "duration": 116,
    "start_time": "2022-04-15T11:30:01.661Z"
   },
   {
    "duration": 4,
    "start_time": "2022-04-15T11:30:01.779Z"
   },
   {
    "duration": 69,
    "start_time": "2022-04-15T11:30:01.786Z"
   },
   {
    "duration": 38,
    "start_time": "2022-04-15T11:30:01.859Z"
   },
   {
    "duration": 0,
    "start_time": "2022-04-15T11:30:01.899Z"
   },
   {
    "duration": 0,
    "start_time": "2022-04-15T11:30:01.901Z"
   },
   {
    "duration": 0,
    "start_time": "2022-04-15T11:30:01.903Z"
   },
   {
    "duration": 0,
    "start_time": "2022-04-15T11:30:01.905Z"
   },
   {
    "duration": 0,
    "start_time": "2022-04-15T11:30:01.907Z"
   },
   {
    "duration": 3,
    "start_time": "2022-04-15T11:30:30.642Z"
   },
   {
    "duration": 4,
    "start_time": "2022-04-15T11:30:32.013Z"
   },
   {
    "duration": 10509,
    "start_time": "2022-04-15T11:30:33.674Z"
   },
   {
    "duration": 10,
    "start_time": "2022-04-15T11:30:44.185Z"
   },
   {
    "duration": 9,
    "start_time": "2022-04-15T11:30:44.197Z"
   },
   {
    "duration": 4,
    "start_time": "2022-04-15T11:30:51.336Z"
   },
   {
    "duration": 8033,
    "start_time": "2022-04-15T11:30:52.360Z"
   },
   {
    "duration": 10,
    "start_time": "2022-04-15T11:31:00.395Z"
   },
   {
    "duration": 29,
    "start_time": "2022-04-15T11:31:00.407Z"
   },
   {
    "duration": 5,
    "start_time": "2022-04-15T11:31:42.823Z"
   },
   {
    "duration": 8186,
    "start_time": "2022-04-15T11:31:43.585Z"
   },
   {
    "duration": 10,
    "start_time": "2022-04-15T11:31:51.773Z"
   },
   {
    "duration": 39,
    "start_time": "2022-04-15T11:31:51.786Z"
   },
   {
    "duration": 4,
    "start_time": "2022-04-15T11:32:07.266Z"
   },
   {
    "duration": 26273,
    "start_time": "2022-04-15T11:32:08.189Z"
   },
   {
    "duration": 13,
    "start_time": "2022-04-15T11:32:34.465Z"
   },
   {
    "duration": 27,
    "start_time": "2022-04-15T11:34:08.790Z"
   },
   {
    "duration": 8706,
    "start_time": "2022-04-15T11:34:10.171Z"
   },
   {
    "duration": 10,
    "start_time": "2022-04-15T11:34:18.880Z"
   },
   {
    "duration": 41,
    "start_time": "2022-04-15T11:34:18.892Z"
   },
   {
    "duration": 5,
    "start_time": "2022-04-15T11:34:48.174Z"
   },
   {
    "duration": 8783,
    "start_time": "2022-04-15T11:34:48.876Z"
   },
   {
    "duration": 14,
    "start_time": "2022-04-15T11:34:57.662Z"
   },
   {
    "duration": 5,
    "start_time": "2022-04-15T11:35:08.593Z"
   },
   {
    "duration": 8944,
    "start_time": "2022-04-15T11:35:09.269Z"
   },
   {
    "duration": 15,
    "start_time": "2022-04-15T11:35:18.216Z"
   },
   {
    "duration": 7,
    "start_time": "2022-04-15T11:36:08.515Z"
   },
   {
    "duration": 132994,
    "start_time": "2022-04-15T11:36:09.453Z"
   },
   {
    "duration": 12,
    "start_time": "2022-04-15T11:38:22.450Z"
   },
   {
    "duration": 26,
    "start_time": "2022-04-15T11:38:46.357Z"
   },
   {
    "duration": 6107,
    "start_time": "2022-04-15T11:38:47.855Z"
   },
   {
    "duration": 10,
    "start_time": "2022-04-15T11:38:53.965Z"
   },
   {
    "duration": 9,
    "start_time": "2022-04-15T11:39:53.902Z"
   },
   {
    "duration": 10,
    "start_time": "2022-04-15T11:39:58.456Z"
   },
   {
    "duration": 8,
    "start_time": "2022-04-15T11:40:33.599Z"
   },
   {
    "duration": 4,
    "start_time": "2022-04-15T11:43:56.759Z"
   },
   {
    "duration": 3012,
    "start_time": "2022-04-15T11:43:57.492Z"
   },
   {
    "duration": 9,
    "start_time": "2022-04-15T11:44:00.507Z"
   },
   {
    "duration": 6,
    "start_time": "2022-04-15T11:46:43.409Z"
   },
   {
    "duration": 3191,
    "start_time": "2022-04-15T11:46:44.156Z"
   },
   {
    "duration": 10,
    "start_time": "2022-04-15T11:46:47.350Z"
   },
   {
    "duration": 5,
    "start_time": "2022-04-15T11:53:29.110Z"
   },
   {
    "duration": 5789,
    "start_time": "2022-04-15T11:53:30.361Z"
   },
   {
    "duration": 10,
    "start_time": "2022-04-15T11:53:36.152Z"
   },
   {
    "duration": 5,
    "start_time": "2022-04-15T11:53:56.497Z"
   },
   {
    "duration": 5981,
    "start_time": "2022-04-15T11:53:57.237Z"
   },
   {
    "duration": 10,
    "start_time": "2022-04-15T11:54:03.223Z"
   },
   {
    "duration": 20,
    "start_time": "2022-04-15T11:54:03.235Z"
   },
   {
    "duration": 5,
    "start_time": "2022-04-15T11:56:06.954Z"
   },
   {
    "duration": 3791,
    "start_time": "2022-04-15T11:56:07.858Z"
   },
   {
    "duration": 9,
    "start_time": "2022-04-15T11:56:11.652Z"
   },
   {
    "duration": 7,
    "start_time": "2022-04-15T13:09:19.702Z"
   },
   {
    "duration": 5895,
    "start_time": "2022-04-15T13:09:20.712Z"
   },
   {
    "duration": 14,
    "start_time": "2022-04-15T13:09:26.610Z"
   },
   {
    "duration": 5,
    "start_time": "2022-04-15T13:09:49.110Z"
   },
   {
    "duration": 3731,
    "start_time": "2022-04-15T13:09:50.024Z"
   },
   {
    "duration": 10,
    "start_time": "2022-04-15T13:09:53.758Z"
   },
   {
    "duration": 21,
    "start_time": "2022-04-15T13:09:53.770Z"
   },
   {
    "duration": 5,
    "start_time": "2022-04-15T13:11:17.863Z"
   },
   {
    "duration": 591,
    "start_time": "2022-04-15T13:11:18.604Z"
   },
   {
    "duration": 0,
    "start_time": "2022-04-15T13:11:19.198Z"
   },
   {
    "duration": 4,
    "start_time": "2022-04-15T13:11:40.107Z"
   },
   {
    "duration": 6183,
    "start_time": "2022-04-15T13:11:41.479Z"
   },
   {
    "duration": 16,
    "start_time": "2022-04-15T13:11:47.665Z"
   },
   {
    "duration": 7,
    "start_time": "2022-04-15T13:20:29.367Z"
   },
   {
    "duration": 6,
    "start_time": "2022-04-15T13:20:33.323Z"
   },
   {
    "duration": 7,
    "start_time": "2022-04-15T13:20:37.162Z"
   },
   {
    "duration": 6,
    "start_time": "2022-04-15T13:20:42.488Z"
   },
   {
    "duration": 6,
    "start_time": "2022-04-15T13:20:48.593Z"
   },
   {
    "duration": 19,
    "start_time": "2022-04-15T13:21:01.555Z"
   },
   {
    "duration": 6,
    "start_time": "2022-04-15T13:21:12.129Z"
   },
   {
    "duration": 8,
    "start_time": "2022-04-15T13:21:40.021Z"
   },
   {
    "duration": 7,
    "start_time": "2022-04-15T13:23:13.768Z"
   },
   {
    "duration": 10,
    "start_time": "2022-04-15T13:24:10.107Z"
   },
   {
    "duration": 7,
    "start_time": "2022-04-15T13:24:17.126Z"
   },
   {
    "duration": 6,
    "start_time": "2022-04-15T13:24:29.936Z"
   },
   {
    "duration": 6,
    "start_time": "2022-04-15T13:24:53.500Z"
   },
   {
    "duration": 6,
    "start_time": "2022-04-15T13:25:07.964Z"
   },
   {
    "duration": 6,
    "start_time": "2022-04-15T13:26:16.486Z"
   },
   {
    "duration": 5,
    "start_time": "2022-04-15T13:26:42.033Z"
   },
   {
    "duration": 598,
    "start_time": "2022-04-15T13:26:43.028Z"
   },
   {
    "duration": 5,
    "start_time": "2022-04-15T13:27:06.971Z"
   },
   {
    "duration": 4297,
    "start_time": "2022-04-15T13:27:08.038Z"
   },
   {
    "duration": 5,
    "start_time": "2022-04-15T13:27:16.308Z"
   },
   {
    "duration": 2812,
    "start_time": "2022-04-15T13:27:17.015Z"
   },
   {
    "duration": 10,
    "start_time": "2022-04-15T13:27:19.830Z"
   },
   {
    "duration": 5,
    "start_time": "2022-04-15T13:29:37.708Z"
   },
   {
    "duration": 57667,
    "start_time": "2022-04-15T13:29:38.557Z"
   },
   {
    "duration": 13,
    "start_time": "2022-04-15T13:30:36.227Z"
   },
   {
    "duration": 5,
    "start_time": "2022-04-15T13:30:52.249Z"
   },
   {
    "duration": 57953,
    "start_time": "2022-04-15T13:30:53.052Z"
   },
   {
    "duration": 17,
    "start_time": "2022-04-15T13:31:51.008Z"
   },
   {
    "duration": 15,
    "start_time": "2022-04-15T13:31:51.027Z"
   },
   {
    "duration": 5,
    "start_time": "2022-04-15T13:32:44.720Z"
   },
   {
    "duration": 7,
    "start_time": "2022-04-15T13:32:50.899Z"
   },
   {
    "duration": 6,
    "start_time": "2022-04-15T13:33:08.641Z"
   },
   {
    "duration": 5,
    "start_time": "2022-04-15T13:33:34.766Z"
   },
   {
    "duration": 60164,
    "start_time": "2022-04-15T13:33:35.616Z"
   },
   {
    "duration": 10,
    "start_time": "2022-04-15T13:34:35.783Z"
   },
   {
    "duration": 8,
    "start_time": "2022-04-15T13:35:53.540Z"
   },
   {
    "duration": 939,
    "start_time": "2022-04-15T13:35:53.550Z"
   },
   {
    "duration": 46,
    "start_time": "2022-04-15T13:35:54.491Z"
   },
   {
    "duration": 19,
    "start_time": "2022-04-15T13:35:54.540Z"
   },
   {
    "duration": 321,
    "start_time": "2022-04-15T13:35:54.561Z"
   },
   {
    "duration": 42,
    "start_time": "2022-04-15T13:35:54.884Z"
   },
   {
    "duration": 317,
    "start_time": "2022-04-15T13:35:54.928Z"
   },
   {
    "duration": 81,
    "start_time": "2022-04-15T13:35:55.247Z"
   },
   {
    "duration": 4,
    "start_time": "2022-04-15T13:35:55.330Z"
   },
   {
    "duration": 12,
    "start_time": "2022-04-15T13:35:55.337Z"
   },
   {
    "duration": 6,
    "start_time": "2022-04-15T13:35:55.351Z"
   },
   {
    "duration": 59139,
    "start_time": "2022-04-15T13:35:55.359Z"
   },
   {
    "duration": 10,
    "start_time": "2022-04-15T13:36:54.502Z"
   },
   {
    "duration": 7,
    "start_time": "2022-04-15T13:36:54.524Z"
   },
   {
    "duration": 22,
    "start_time": "2022-04-15T13:36:54.533Z"
   },
   {
    "duration": 10144,
    "start_time": "2022-04-15T13:36:54.557Z"
   },
   {
    "duration": 0,
    "start_time": "2022-04-15T13:37:04.703Z"
   },
   {
    "duration": 12,
    "start_time": "2022-04-15T13:39:18.188Z"
   },
   {
    "duration": 21,
    "start_time": "2022-04-15T13:39:26.643Z"
   },
   {
    "duration": 86,
    "start_time": "2022-04-15T13:39:27.643Z"
   },
   {
    "duration": 14,
    "start_time": "2022-04-15T13:40:06.200Z"
   },
   {
    "duration": 77,
    "start_time": "2022-04-15T13:40:07.608Z"
   },
   {
    "duration": 8,
    "start_time": "2022-04-15T13:40:23.047Z"
   },
   {
    "duration": 990,
    "start_time": "2022-04-15T13:40:23.059Z"
   },
   {
    "duration": 38,
    "start_time": "2022-04-15T13:40:24.051Z"
   },
   {
    "duration": 43,
    "start_time": "2022-04-15T13:40:24.092Z"
   },
   {
    "duration": 288,
    "start_time": "2022-04-15T13:40:24.137Z"
   },
   {
    "duration": 41,
    "start_time": "2022-04-15T13:40:24.427Z"
   },
   {
    "duration": 314,
    "start_time": "2022-04-15T13:40:24.470Z"
   },
   {
    "duration": 82,
    "start_time": "2022-04-15T13:40:24.786Z"
   },
   {
    "duration": 4,
    "start_time": "2022-04-15T13:40:24.870Z"
   },
   {
    "duration": 8,
    "start_time": "2022-04-15T13:40:24.877Z"
   },
   {
    "duration": 6,
    "start_time": "2022-04-15T13:40:24.887Z"
   },
   {
    "duration": 59746,
    "start_time": "2022-04-15T13:40:24.895Z"
   },
   {
    "duration": 10,
    "start_time": "2022-04-15T13:41:24.643Z"
   },
   {
    "duration": 7,
    "start_time": "2022-04-15T13:41:24.655Z"
   },
   {
    "duration": 16,
    "start_time": "2022-04-15T13:41:24.665Z"
   },
   {
    "duration": 0,
    "start_time": "2022-04-15T13:41:24.683Z"
   },
   {
    "duration": 0,
    "start_time": "2022-04-15T13:41:24.684Z"
   },
   {
    "duration": 19,
    "start_time": "2022-04-15T13:42:25.604Z"
   },
   {
    "duration": 10197,
    "start_time": "2022-04-15T13:42:26.960Z"
   },
   {
    "duration": 20,
    "start_time": "2022-04-15T13:43:24.649Z"
   },
   {
    "duration": 437819,
    "start_time": "2022-04-15T13:43:26.005Z"
   },
   {
    "duration": 22,
    "start_time": "2022-04-15T13:50:59.631Z"
   },
   {
    "duration": 1393388,
    "start_time": "2022-04-15T13:51:00.467Z"
   },
   {
    "duration": 10,
    "start_time": "2022-04-15T16:06:35.797Z"
   },
   {
    "duration": 1398,
    "start_time": "2022-04-15T16:06:35.811Z"
   },
   {
    "duration": 50,
    "start_time": "2022-04-15T16:06:37.212Z"
   },
   {
    "duration": 37,
    "start_time": "2022-04-15T16:06:37.264Z"
   },
   {
    "duration": 310,
    "start_time": "2022-04-15T16:06:37.305Z"
   },
   {
    "duration": 34,
    "start_time": "2022-04-15T16:06:37.624Z"
   },
   {
    "duration": 439,
    "start_time": "2022-04-15T16:06:37.661Z"
   },
   {
    "duration": 123,
    "start_time": "2022-04-15T16:06:38.103Z"
   },
   {
    "duration": 4,
    "start_time": "2022-04-15T16:06:38.229Z"
   },
   {
    "duration": 23,
    "start_time": "2022-04-15T16:06:38.236Z"
   },
   {
    "duration": 23,
    "start_time": "2022-04-15T16:06:38.261Z"
   },
   {
    "duration": 62334,
    "start_time": "2022-04-15T16:06:38.286Z"
   },
   {
    "duration": 0,
    "start_time": "2022-04-15T16:07:40.623Z"
   },
   {
    "duration": 0,
    "start_time": "2022-04-15T16:07:40.624Z"
   },
   {
    "duration": 0,
    "start_time": "2022-04-15T16:07:40.626Z"
   },
   {
    "duration": 0,
    "start_time": "2022-04-15T16:07:40.627Z"
   },
   {
    "duration": 0,
    "start_time": "2022-04-15T16:07:40.628Z"
   },
   {
    "duration": 9,
    "start_time": "2022-04-15T16:07:48.883Z"
   },
   {
    "duration": 887,
    "start_time": "2022-04-15T16:07:48.895Z"
   },
   {
    "duration": 59,
    "start_time": "2022-04-15T16:07:49.785Z"
   },
   {
    "duration": 24,
    "start_time": "2022-04-15T16:07:49.847Z"
   },
   {
    "duration": 312,
    "start_time": "2022-04-15T16:07:49.873Z"
   },
   {
    "duration": 42,
    "start_time": "2022-04-15T16:07:50.188Z"
   },
   {
    "duration": 320,
    "start_time": "2022-04-15T16:07:50.233Z"
   },
   {
    "duration": 94,
    "start_time": "2022-04-15T16:07:50.555Z"
   },
   {
    "duration": 4,
    "start_time": "2022-04-15T16:07:50.652Z"
   },
   {
    "duration": 47,
    "start_time": "2022-04-15T16:07:50.660Z"
   },
   {
    "duration": 32,
    "start_time": "2022-04-15T16:07:50.709Z"
   },
   {
    "duration": 60659,
    "start_time": "2022-04-15T16:07:50.744Z"
   },
   {
    "duration": 18,
    "start_time": "2022-04-15T16:08:51.406Z"
   },
   {
    "duration": 5,
    "start_time": "2022-04-15T16:08:51.426Z"
   },
   {
    "duration": 23,
    "start_time": "2022-04-15T16:08:51.434Z"
   },
   {
    "duration": 10624,
    "start_time": "2022-04-15T16:08:51.460Z"
   },
   {
    "duration": 0,
    "start_time": "2022-04-15T16:09:02.088Z"
   },
   {
    "duration": 22,
    "start_time": "2022-04-15T16:11:41.354Z"
   },
   {
    "duration": 14324,
    "start_time": "2022-04-15T16:11:42.700Z"
   },
   {
    "duration": 22,
    "start_time": "2022-04-15T16:13:10.455Z"
   },
   {
    "duration": 10624,
    "start_time": "2022-04-15T16:13:11.449Z"
   },
   {
    "duration": 7,
    "start_time": "2022-04-15T16:15:09.205Z"
   },
   {
    "duration": 33,
    "start_time": "2022-04-15T16:15:25.360Z"
   },
   {
    "duration": 11029,
    "start_time": "2022-04-15T16:15:26.542Z"
   },
   {
    "duration": 22,
    "start_time": "2022-04-15T16:16:05.717Z"
   },
   {
    "duration": 11527,
    "start_time": "2022-04-15T16:16:06.440Z"
   },
   {
    "duration": 35,
    "start_time": "2022-04-15T16:20:39.401Z"
   },
   {
    "duration": 377331,
    "start_time": "2022-04-15T16:20:39.928Z"
   },
   {
    "duration": 6,
    "start_time": "2022-04-15T16:31:58.159Z"
   },
   {
    "duration": 16,
    "start_time": "2022-04-15T16:32:04.434Z"
   },
   {
    "duration": 16,
    "start_time": "2022-04-15T16:32:09.430Z"
   },
   {
    "duration": 6,
    "start_time": "2022-04-15T16:32:13.348Z"
   },
   {
    "duration": 22,
    "start_time": "2022-04-15T16:32:39.897Z"
   },
   {
    "duration": 17,
    "start_time": "2022-04-15T16:32:55.008Z"
   },
   {
    "duration": 16,
    "start_time": "2022-04-15T16:33:13.226Z"
   },
   {
    "duration": 17,
    "start_time": "2022-04-15T16:33:15.997Z"
   },
   {
    "duration": 21,
    "start_time": "2022-04-15T16:33:20.582Z"
   },
   {
    "duration": 16,
    "start_time": "2022-04-15T16:33:32.835Z"
   },
   {
    "duration": 6,
    "start_time": "2022-04-15T16:33:36.937Z"
   },
   {
    "duration": 16,
    "start_time": "2022-04-15T16:33:42.215Z"
   },
   {
    "duration": 6,
    "start_time": "2022-04-15T16:33:46.019Z"
   },
   {
    "duration": 18,
    "start_time": "2022-04-15T16:34:05.759Z"
   },
   {
    "duration": 6,
    "start_time": "2022-04-15T16:34:12.461Z"
   },
   {
    "duration": 4,
    "start_time": "2022-04-15T16:34:22.463Z"
   },
   {
    "duration": 6,
    "start_time": "2022-04-15T16:34:26.701Z"
   },
   {
    "duration": 16,
    "start_time": "2022-04-15T16:34:50.786Z"
   },
   {
    "duration": 17,
    "start_time": "2022-04-15T16:34:57.046Z"
   },
   {
    "duration": 17,
    "start_time": "2022-04-15T16:35:01.047Z"
   },
   {
    "duration": 16,
    "start_time": "2022-04-15T16:36:42.257Z"
   },
   {
    "duration": 7,
    "start_time": "2022-04-15T16:36:47.147Z"
   },
   {
    "duration": 5,
    "start_time": "2022-04-15T16:37:19.744Z"
   },
   {
    "duration": 16,
    "start_time": "2022-04-15T16:37:29.593Z"
   },
   {
    "duration": 6,
    "start_time": "2022-04-15T16:37:41.452Z"
   },
   {
    "duration": 25,
    "start_time": "2022-04-15T16:40:37.124Z"
   },
   {
    "duration": 5,
    "start_time": "2022-04-15T16:40:37.444Z"
   },
   {
    "duration": 37,
    "start_time": "2022-04-15T16:40:46.807Z"
   },
   {
    "duration": 6,
    "start_time": "2022-04-15T16:40:47.561Z"
   },
   {
    "duration": 633625,
    "start_time": "2022-04-15T16:40:49.656Z"
   },
   {
    "duration": 21,
    "start_time": "2022-04-15T16:51:32.264Z"
   },
   {
    "duration": 7,
    "start_time": "2022-04-15T16:51:32.647Z"
   },
   {
    "duration": 418651,
    "start_time": "2022-04-15T16:51:34.359Z"
   },
   {
    "duration": 0,
    "start_time": "2022-04-15T16:58:33.012Z"
   },
   {
    "duration": 10,
    "start_time": "2022-04-15T17:30:17.608Z"
   },
   {
    "duration": 1420,
    "start_time": "2022-04-15T17:30:17.621Z"
   },
   {
    "duration": 45,
    "start_time": "2022-04-15T17:30:19.044Z"
   },
   {
    "duration": 48,
    "start_time": "2022-04-15T17:30:19.093Z"
   },
   {
    "duration": 319,
    "start_time": "2022-04-15T17:30:19.144Z"
   },
   {
    "duration": 59,
    "start_time": "2022-04-15T17:30:19.466Z"
   },
   {
    "duration": 345,
    "start_time": "2022-04-15T17:30:19.528Z"
   },
   {
    "duration": 94,
    "start_time": "2022-04-15T17:30:19.875Z"
   },
   {
    "duration": 5,
    "start_time": "2022-04-15T17:30:19.972Z"
   },
   {
    "duration": 11,
    "start_time": "2022-04-15T17:30:19.983Z"
   },
   {
    "duration": 34,
    "start_time": "2022-04-15T17:30:19.996Z"
   },
   {
    "duration": 73806,
    "start_time": "2022-04-15T17:30:20.033Z"
   },
   {
    "duration": 10,
    "start_time": "2022-04-15T17:31:33.842Z"
   },
   {
    "duration": 12,
    "start_time": "2022-04-15T17:31:33.854Z"
   },
   {
    "duration": 40,
    "start_time": "2022-04-15T17:31:33.868Z"
   },
   {
    "duration": 18,
    "start_time": "2022-04-15T17:31:33.910Z"
   },
   {
    "duration": 4993,
    "start_time": "2022-04-15T18:17:44.535Z"
   },
   {
    "duration": 2647,
    "start_time": "2022-04-16T00:12:20.555Z"
   },
   {
    "duration": 715,
    "start_time": "2022-04-16T00:12:23.204Z"
   },
   {
    "duration": 35,
    "start_time": "2022-04-16T00:12:23.920Z"
   },
   {
    "duration": 13,
    "start_time": "2022-04-16T00:12:23.958Z"
   },
   {
    "duration": 227,
    "start_time": "2022-04-16T00:12:23.973Z"
   },
   {
    "duration": 27,
    "start_time": "2022-04-16T00:12:24.202Z"
   },
   {
    "duration": 183,
    "start_time": "2022-04-16T00:12:24.230Z"
   },
   {
    "duration": 62,
    "start_time": "2022-04-16T00:12:24.414Z"
   },
   {
    "duration": 3,
    "start_time": "2022-04-16T00:12:24.478Z"
   },
   {
    "duration": 6,
    "start_time": "2022-04-16T00:12:24.483Z"
   },
   {
    "duration": 3,
    "start_time": "2022-04-16T00:12:24.491Z"
   },
   {
    "duration": 30900,
    "start_time": "2022-04-16T00:12:24.495Z"
   },
   {
    "duration": 6,
    "start_time": "2022-04-16T00:12:55.397Z"
   },
   {
    "duration": 4,
    "start_time": "2022-04-16T00:12:55.405Z"
   },
   {
    "duration": 12,
    "start_time": "2022-04-16T00:12:55.411Z"
   },
   {
    "duration": 5931906,
    "start_time": "2022-04-16T00:12:55.424Z"
   },
   {
    "duration": 8870047,
    "start_time": "2022-04-16T01:51:47.334Z"
   }
  ],
  "kernelspec": {
   "display_name": "Python 3 (ipykernel)",
   "language": "python",
   "name": "python3"
  },
  "language_info": {
   "codemirror_mode": {
    "name": "ipython",
    "version": 3
   },
   "file_extension": ".py",
   "mimetype": "text/x-python",
   "name": "python",
   "nbconvert_exporter": "python",
   "pygments_lexer": "ipython3",
   "version": "3.9.7"
  },
  "toc": {
   "base_numbering": 1,
   "nav_menu": {},
   "number_sections": true,
   "sideBar": true,
   "skip_h1_title": true,
   "title_cell": "Содержание",
   "title_sidebar": "Contents",
   "toc_cell": true,
   "toc_position": {
    "height": "calc(100% - 180px)",
    "left": "10px",
    "top": "150px",
    "width": "302.375px"
   },
   "toc_section_display": true,
   "toc_window_display": false
  }
 },
 "nbformat": 4,
 "nbformat_minor": 2
}
