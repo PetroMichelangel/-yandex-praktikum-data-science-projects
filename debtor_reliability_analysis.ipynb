{
 "cells": [
  {
   "cell_type": "markdown",
   "metadata": {},
   "source": [
    "# Исследование надёжности заёмщиков\n",
    "\n",
    "Заказчик — кредитный отдел банка. Нужно разобраться, влияет ли семейное положение и количество детей клиента на факт погашения кредита в срок. Входные данные от банка — статистика о платёжеспособности клиентов.\n",
    "\n",
    "Результаты исследования будут учтены при построении модели **кредитного скоринга** — специальной системы, которая оценивает способность потенциального заёмщика вернуть кредит банку."
   ]
  },
  {
   "cell_type": "markdown",
   "metadata": {},
   "source": [
    "# Ключевые задачи проекта:\n",
    "\n",
    "\n",
    "**1. Общий анализ данных**\n",
    "    \n",
    "    - открытие файла\n",
    "    - общий осмотр информации датасета\n",
    "    - написание общих выводов по качеству данных\n",
    "\n",
    "\n",
    "**2. Предобработка данных**\n",
    "    \n",
    "    - обработка пропусков\n",
    "    - коррекция типов данных\n",
    "    - обработка дубликатов\n",
    "    - лемматизация\n",
    "    - категоризация данных\n",
    "\n",
    "\n",
    "**3. Ответы на вопросы**\n",
    "    \n",
    "    - Есть ли зависимость между наличием детей и возвратом кредита в срок?\n",
    "    - Есть ли зависимость между семейным положением и возвратом кредита в срок?\n",
    "    - Есть ли зависимость между уровнем дохода и возвратом кредита в срок?\n",
    "    - Как разные цели кредита влияют на его возврат в срок?\n",
    "    \n",
    "    \n",
    "**4. Общий вывод по работе**\n"
   ]
  },
  {
   "cell_type": "markdown",
   "metadata": {},
   "source": [
    "## Шаг 1. Общий анализ"
   ]
  },
  {
   "cell_type": "code",
   "execution_count": 31,
   "metadata": {},
   "outputs": [
    {
     "data": {
      "text/html": [
       "<div>\n",
       "<style scoped>\n",
       "    .dataframe tbody tr th:only-of-type {\n",
       "        vertical-align: middle;\n",
       "    }\n",
       "\n",
       "    .dataframe tbody tr th {\n",
       "        vertical-align: top;\n",
       "    }\n",
       "\n",
       "    .dataframe thead th {\n",
       "        text-align: right;\n",
       "    }\n",
       "</style>\n",
       "<table border=\"1\" class=\"dataframe\">\n",
       "  <thead>\n",
       "    <tr style=\"text-align: right;\">\n",
       "      <th></th>\n",
       "      <th>children</th>\n",
       "      <th>days_employed</th>\n",
       "      <th>dob_years</th>\n",
       "      <th>education</th>\n",
       "      <th>education_id</th>\n",
       "      <th>family_status</th>\n",
       "      <th>family_status_id</th>\n",
       "      <th>gender</th>\n",
       "      <th>income_type</th>\n",
       "      <th>debt</th>\n",
       "      <th>total_income</th>\n",
       "      <th>purpose</th>\n",
       "    </tr>\n",
       "  </thead>\n",
       "  <tbody>\n",
       "    <tr>\n",
       "      <td>0</td>\n",
       "      <td>1</td>\n",
       "      <td>-8437.673028</td>\n",
       "      <td>42</td>\n",
       "      <td>высшее</td>\n",
       "      <td>0</td>\n",
       "      <td>женат / замужем</td>\n",
       "      <td>0</td>\n",
       "      <td>F</td>\n",
       "      <td>сотрудник</td>\n",
       "      <td>0</td>\n",
       "      <td>253875.639453</td>\n",
       "      <td>покупка жилья</td>\n",
       "    </tr>\n",
       "    <tr>\n",
       "      <td>1</td>\n",
       "      <td>1</td>\n",
       "      <td>-4024.803754</td>\n",
       "      <td>36</td>\n",
       "      <td>среднее</td>\n",
       "      <td>1</td>\n",
       "      <td>женат / замужем</td>\n",
       "      <td>0</td>\n",
       "      <td>F</td>\n",
       "      <td>сотрудник</td>\n",
       "      <td>0</td>\n",
       "      <td>112080.014102</td>\n",
       "      <td>приобретение автомобиля</td>\n",
       "    </tr>\n",
       "    <tr>\n",
       "      <td>2</td>\n",
       "      <td>0</td>\n",
       "      <td>-5623.422610</td>\n",
       "      <td>33</td>\n",
       "      <td>Среднее</td>\n",
       "      <td>1</td>\n",
       "      <td>женат / замужем</td>\n",
       "      <td>0</td>\n",
       "      <td>M</td>\n",
       "      <td>сотрудник</td>\n",
       "      <td>0</td>\n",
       "      <td>145885.952297</td>\n",
       "      <td>покупка жилья</td>\n",
       "    </tr>\n",
       "    <tr>\n",
       "      <td>3</td>\n",
       "      <td>3</td>\n",
       "      <td>-4124.747207</td>\n",
       "      <td>32</td>\n",
       "      <td>среднее</td>\n",
       "      <td>1</td>\n",
       "      <td>женат / замужем</td>\n",
       "      <td>0</td>\n",
       "      <td>M</td>\n",
       "      <td>сотрудник</td>\n",
       "      <td>0</td>\n",
       "      <td>267628.550329</td>\n",
       "      <td>дополнительное образование</td>\n",
       "    </tr>\n",
       "    <tr>\n",
       "      <td>4</td>\n",
       "      <td>0</td>\n",
       "      <td>340266.072047</td>\n",
       "      <td>53</td>\n",
       "      <td>среднее</td>\n",
       "      <td>1</td>\n",
       "      <td>гражданский брак</td>\n",
       "      <td>1</td>\n",
       "      <td>F</td>\n",
       "      <td>пенсионер</td>\n",
       "      <td>0</td>\n",
       "      <td>158616.077870</td>\n",
       "      <td>сыграть свадьбу</td>\n",
       "    </tr>\n",
       "  </tbody>\n",
       "</table>\n",
       "</div>"
      ],
      "text/plain": [
       "   children  days_employed  dob_years education  education_id  \\\n",
       "0         1   -8437.673028         42    высшее             0   \n",
       "1         1   -4024.803754         36   среднее             1   \n",
       "2         0   -5623.422610         33   Среднее             1   \n",
       "3         3   -4124.747207         32   среднее             1   \n",
       "4         0  340266.072047         53   среднее             1   \n",
       "\n",
       "      family_status  family_status_id gender income_type  debt   total_income  \\\n",
       "0   женат / замужем                 0      F   сотрудник     0  253875.639453   \n",
       "1   женат / замужем                 0      F   сотрудник     0  112080.014102   \n",
       "2   женат / замужем                 0      M   сотрудник     0  145885.952297   \n",
       "3   женат / замужем                 0      M   сотрудник     0  267628.550329   \n",
       "4  гражданский брак                 1      F   пенсионер     0  158616.077870   \n",
       "\n",
       "                      purpose  \n",
       "0               покупка жилья  \n",
       "1     приобретение автомобиля  \n",
       "2               покупка жилья  \n",
       "3  дополнительное образование  \n",
       "4             сыграть свадьбу  "
      ]
     },
     "execution_count": 31,
     "metadata": {},
     "output_type": "execute_result"
    }
   ],
   "source": [
    "#импортируем библиотеки, производим общий осмотр данных\n",
    "import pandas as pd\n",
    "import numpy as np\n",
    "\n",
    "df = pd.read_csv('/datasets/data.csv')\n",
    "df.head()"
   ]
  },
  {
   "cell_type": "code",
   "execution_count": 32,
   "metadata": {},
   "outputs": [
    {
     "data": {
      "text/html": [
       "<div>\n",
       "<style scoped>\n",
       "    .dataframe tbody tr th:only-of-type {\n",
       "        vertical-align: middle;\n",
       "    }\n",
       "\n",
       "    .dataframe tbody tr th {\n",
       "        vertical-align: top;\n",
       "    }\n",
       "\n",
       "    .dataframe thead th {\n",
       "        text-align: right;\n",
       "    }\n",
       "</style>\n",
       "<table border=\"1\" class=\"dataframe\">\n",
       "  <thead>\n",
       "    <tr style=\"text-align: right;\">\n",
       "      <th></th>\n",
       "      <th>children</th>\n",
       "      <th>days_employed</th>\n",
       "      <th>dob_years</th>\n",
       "      <th>education</th>\n",
       "      <th>education_id</th>\n",
       "      <th>family_status</th>\n",
       "      <th>family_status_id</th>\n",
       "      <th>gender</th>\n",
       "      <th>income_type</th>\n",
       "      <th>debt</th>\n",
       "      <th>total_income</th>\n",
       "      <th>purpose</th>\n",
       "    </tr>\n",
       "  </thead>\n",
       "  <tbody>\n",
       "    <tr>\n",
       "      <td>21520</td>\n",
       "      <td>1</td>\n",
       "      <td>-4529.316663</td>\n",
       "      <td>43</td>\n",
       "      <td>среднее</td>\n",
       "      <td>1</td>\n",
       "      <td>гражданский брак</td>\n",
       "      <td>1</td>\n",
       "      <td>F</td>\n",
       "      <td>компаньон</td>\n",
       "      <td>0</td>\n",
       "      <td>224791.862382</td>\n",
       "      <td>операции с жильем</td>\n",
       "    </tr>\n",
       "    <tr>\n",
       "      <td>21521</td>\n",
       "      <td>0</td>\n",
       "      <td>343937.404131</td>\n",
       "      <td>67</td>\n",
       "      <td>среднее</td>\n",
       "      <td>1</td>\n",
       "      <td>женат / замужем</td>\n",
       "      <td>0</td>\n",
       "      <td>F</td>\n",
       "      <td>пенсионер</td>\n",
       "      <td>0</td>\n",
       "      <td>155999.806512</td>\n",
       "      <td>сделка с автомобилем</td>\n",
       "    </tr>\n",
       "    <tr>\n",
       "      <td>21522</td>\n",
       "      <td>1</td>\n",
       "      <td>-2113.346888</td>\n",
       "      <td>38</td>\n",
       "      <td>среднее</td>\n",
       "      <td>1</td>\n",
       "      <td>гражданский брак</td>\n",
       "      <td>1</td>\n",
       "      <td>M</td>\n",
       "      <td>сотрудник</td>\n",
       "      <td>1</td>\n",
       "      <td>89672.561153</td>\n",
       "      <td>недвижимость</td>\n",
       "    </tr>\n",
       "    <tr>\n",
       "      <td>21523</td>\n",
       "      <td>3</td>\n",
       "      <td>-3112.481705</td>\n",
       "      <td>38</td>\n",
       "      <td>среднее</td>\n",
       "      <td>1</td>\n",
       "      <td>женат / замужем</td>\n",
       "      <td>0</td>\n",
       "      <td>M</td>\n",
       "      <td>сотрудник</td>\n",
       "      <td>1</td>\n",
       "      <td>244093.050500</td>\n",
       "      <td>на покупку своего автомобиля</td>\n",
       "    </tr>\n",
       "    <tr>\n",
       "      <td>21524</td>\n",
       "      <td>2</td>\n",
       "      <td>-1984.507589</td>\n",
       "      <td>40</td>\n",
       "      <td>среднее</td>\n",
       "      <td>1</td>\n",
       "      <td>женат / замужем</td>\n",
       "      <td>0</td>\n",
       "      <td>F</td>\n",
       "      <td>сотрудник</td>\n",
       "      <td>0</td>\n",
       "      <td>82047.418899</td>\n",
       "      <td>на покупку автомобиля</td>\n",
       "    </tr>\n",
       "  </tbody>\n",
       "</table>\n",
       "</div>"
      ],
      "text/plain": [
       "       children  days_employed  dob_years education  education_id  \\\n",
       "21520         1   -4529.316663         43   среднее             1   \n",
       "21521         0  343937.404131         67   среднее             1   \n",
       "21522         1   -2113.346888         38   среднее             1   \n",
       "21523         3   -3112.481705         38   среднее             1   \n",
       "21524         2   -1984.507589         40   среднее             1   \n",
       "\n",
       "          family_status  family_status_id gender income_type  debt  \\\n",
       "21520  гражданский брак                 1      F   компаньон     0   \n",
       "21521   женат / замужем                 0      F   пенсионер     0   \n",
       "21522  гражданский брак                 1      M   сотрудник     1   \n",
       "21523   женат / замужем                 0      M   сотрудник     1   \n",
       "21524   женат / замужем                 0      F   сотрудник     0   \n",
       "\n",
       "        total_income                       purpose  \n",
       "21520  224791.862382             операции с жильем  \n",
       "21521  155999.806512          сделка с автомобилем  \n",
       "21522   89672.561153                  недвижимость  \n",
       "21523  244093.050500  на покупку своего автомобиля  \n",
       "21524   82047.418899         на покупку автомобиля  "
      ]
     },
     "execution_count": 32,
     "metadata": {},
     "output_type": "execute_result"
    }
   ],
   "source": [
    "df.tail()"
   ]
  },
  {
   "cell_type": "code",
   "execution_count": 33,
   "metadata": {},
   "outputs": [
    {
     "name": "stdout",
     "output_type": "stream",
     "text": [
      "<class 'pandas.core.frame.DataFrame'>\n",
      "RangeIndex: 21525 entries, 0 to 21524\n",
      "Data columns (total 12 columns):\n",
      "children            21525 non-null int64\n",
      "days_employed       19351 non-null float64\n",
      "dob_years           21525 non-null int64\n",
      "education           21525 non-null object\n",
      "education_id        21525 non-null int64\n",
      "family_status       21525 non-null object\n",
      "family_status_id    21525 non-null int64\n",
      "gender              21525 non-null object\n",
      "income_type         21525 non-null object\n",
      "debt                21525 non-null int64\n",
      "total_income        19351 non-null float64\n",
      "purpose             21525 non-null object\n",
      "dtypes: float64(2), int64(5), object(5)\n",
      "memory usage: 2.0+ MB\n"
     ]
    }
   ],
   "source": [
    "df.info()"
   ]
  },
  {
   "cell_type": "code",
   "execution_count": 34,
   "metadata": {},
   "outputs": [
    {
     "data": {
      "text/html": [
       "<div>\n",
       "<style scoped>\n",
       "    .dataframe tbody tr th:only-of-type {\n",
       "        vertical-align: middle;\n",
       "    }\n",
       "\n",
       "    .dataframe tbody tr th {\n",
       "        vertical-align: top;\n",
       "    }\n",
       "\n",
       "    .dataframe thead th {\n",
       "        text-align: right;\n",
       "    }\n",
       "</style>\n",
       "<table border=\"1\" class=\"dataframe\">\n",
       "  <thead>\n",
       "    <tr style=\"text-align: right;\">\n",
       "      <th></th>\n",
       "      <th>children</th>\n",
       "      <th>days_employed</th>\n",
       "      <th>dob_years</th>\n",
       "      <th>education_id</th>\n",
       "      <th>family_status_id</th>\n",
       "      <th>debt</th>\n",
       "      <th>total_income</th>\n",
       "    </tr>\n",
       "  </thead>\n",
       "  <tbody>\n",
       "    <tr>\n",
       "      <td>count</td>\n",
       "      <td>21525.000000</td>\n",
       "      <td>19351.000000</td>\n",
       "      <td>21525.000000</td>\n",
       "      <td>21525.000000</td>\n",
       "      <td>21525.000000</td>\n",
       "      <td>21525.000000</td>\n",
       "      <td>1.935100e+04</td>\n",
       "    </tr>\n",
       "    <tr>\n",
       "      <td>mean</td>\n",
       "      <td>0.538908</td>\n",
       "      <td>63046.497661</td>\n",
       "      <td>43.293380</td>\n",
       "      <td>0.817236</td>\n",
       "      <td>0.972544</td>\n",
       "      <td>0.080883</td>\n",
       "      <td>1.674223e+05</td>\n",
       "    </tr>\n",
       "    <tr>\n",
       "      <td>std</td>\n",
       "      <td>1.381587</td>\n",
       "      <td>140827.311974</td>\n",
       "      <td>12.574584</td>\n",
       "      <td>0.548138</td>\n",
       "      <td>1.420324</td>\n",
       "      <td>0.272661</td>\n",
       "      <td>1.029716e+05</td>\n",
       "    </tr>\n",
       "    <tr>\n",
       "      <td>min</td>\n",
       "      <td>-1.000000</td>\n",
       "      <td>-18388.949901</td>\n",
       "      <td>0.000000</td>\n",
       "      <td>0.000000</td>\n",
       "      <td>0.000000</td>\n",
       "      <td>0.000000</td>\n",
       "      <td>2.066726e+04</td>\n",
       "    </tr>\n",
       "    <tr>\n",
       "      <td>25%</td>\n",
       "      <td>0.000000</td>\n",
       "      <td>-2747.423625</td>\n",
       "      <td>33.000000</td>\n",
       "      <td>1.000000</td>\n",
       "      <td>0.000000</td>\n",
       "      <td>0.000000</td>\n",
       "      <td>1.030532e+05</td>\n",
       "    </tr>\n",
       "    <tr>\n",
       "      <td>50%</td>\n",
       "      <td>0.000000</td>\n",
       "      <td>-1203.369529</td>\n",
       "      <td>42.000000</td>\n",
       "      <td>1.000000</td>\n",
       "      <td>0.000000</td>\n",
       "      <td>0.000000</td>\n",
       "      <td>1.450179e+05</td>\n",
       "    </tr>\n",
       "    <tr>\n",
       "      <td>75%</td>\n",
       "      <td>1.000000</td>\n",
       "      <td>-291.095954</td>\n",
       "      <td>53.000000</td>\n",
       "      <td>1.000000</td>\n",
       "      <td>1.000000</td>\n",
       "      <td>0.000000</td>\n",
       "      <td>2.034351e+05</td>\n",
       "    </tr>\n",
       "    <tr>\n",
       "      <td>max</td>\n",
       "      <td>20.000000</td>\n",
       "      <td>401755.400475</td>\n",
       "      <td>75.000000</td>\n",
       "      <td>4.000000</td>\n",
       "      <td>4.000000</td>\n",
       "      <td>1.000000</td>\n",
       "      <td>2.265604e+06</td>\n",
       "    </tr>\n",
       "  </tbody>\n",
       "</table>\n",
       "</div>"
      ],
      "text/plain": [
       "           children  days_employed     dob_years  education_id  \\\n",
       "count  21525.000000   19351.000000  21525.000000  21525.000000   \n",
       "mean       0.538908   63046.497661     43.293380      0.817236   \n",
       "std        1.381587  140827.311974     12.574584      0.548138   \n",
       "min       -1.000000  -18388.949901      0.000000      0.000000   \n",
       "25%        0.000000   -2747.423625     33.000000      1.000000   \n",
       "50%        0.000000   -1203.369529     42.000000      1.000000   \n",
       "75%        1.000000    -291.095954     53.000000      1.000000   \n",
       "max       20.000000  401755.400475     75.000000      4.000000   \n",
       "\n",
       "       family_status_id          debt  total_income  \n",
       "count      21525.000000  21525.000000  1.935100e+04  \n",
       "mean           0.972544      0.080883  1.674223e+05  \n",
       "std            1.420324      0.272661  1.029716e+05  \n",
       "min            0.000000      0.000000  2.066726e+04  \n",
       "25%            0.000000      0.000000  1.030532e+05  \n",
       "50%            0.000000      0.000000  1.450179e+05  \n",
       "75%            1.000000      0.000000  2.034351e+05  \n",
       "max            4.000000      1.000000  2.265604e+06  "
      ]
     },
     "execution_count": 34,
     "metadata": {},
     "output_type": "execute_result"
    }
   ],
   "source": [
    "df.describe()"
   ]
  },
  {
   "cell_type": "code",
   "execution_count": 35,
   "metadata": {},
   "outputs": [
    {
     "data": {
      "text/plain": [
       "(21525, 12)"
      ]
     },
     "execution_count": 35,
     "metadata": {},
     "output_type": "execute_result"
    }
   ],
   "source": [
    "df.shape"
   ]
  },
  {
   "cell_type": "code",
   "execution_count": 36,
   "metadata": {},
   "outputs": [
    {
     "data": {
      "text/plain": [
       "['children',\n",
       " 'days_employed',\n",
       " 'dob_years',\n",
       " 'education',\n",
       " 'education_id',\n",
       " 'family_status',\n",
       " 'family_status_id',\n",
       " 'gender',\n",
       " 'income_type',\n",
       " 'debt',\n",
       " 'total_income',\n",
       " 'purpose']"
      ]
     },
     "execution_count": 36,
     "metadata": {},
     "output_type": "execute_result"
    }
   ],
   "source": [
    "df.columns.to_list()"
   ]
  },
  {
   "cell_type": "markdown",
   "metadata": {},
   "source": [
    "**Вывод**"
   ]
  },
  {
   "cell_type": "markdown",
   "metadata": {},
   "source": [
    "**Общие наблюдения и задачи:**\n",
    "\n",
    "- изменить названия столбцов на более показательный (children -> number_of_children)\n",
    "- коррекция типов данных в столбцах (дни стажа -> integer)\n",
    "- дни стажа перевести в года\n",
    "- для лучшей визуализации перевод total_income в целочисленный формат\n",
    "- обработка пропущенных значений (days_employed, total_income)\n",
    "- минимальный возраcт клиента равно нулю\n",
    "- приведение к единому регистру и удаление дубликатов\n",
    "- отрицательный значение (-1 в children , days_employed)\n",
    "- для education и family_status в таблице приведены и значения, и ключи (если используются ключи, то можно выводить значения в отдельную таблицу, чтобы не нагромождать основную). \n",
    "\n"
   ]
  },
  {
   "cell_type": "markdown",
   "metadata": {},
   "source": [
    "## Шаг 2. Предобработка данных"
   ]
  },
  {
   "cell_type": "markdown",
   "metadata": {},
   "source": [
    "### Обработка пропусков"
   ]
  },
  {
   "cell_type": "code",
   "execution_count": 37,
   "metadata": {},
   "outputs": [
    {
     "data": {
      "text/plain": [
       "['number_of_children',\n",
       " 'days_employed',\n",
       " 'debtor_age',\n",
       " 'education_type',\n",
       " 'education_type_id',\n",
       " 'family_status_type',\n",
       " 'family_status_type_id',\n",
       " 'gender',\n",
       " 'job_type',\n",
       " 'debt_problems',\n",
       " 'month_income',\n",
       " 'purpose_of_credit']"
      ]
     },
     "execution_count": 37,
     "metadata": {},
     "output_type": "execute_result"
    }
   ],
   "source": [
    "#Поменяем названия некоторых столбцов\n",
    "new_columns = ['number_of_children',\n",
    " 'days_employed',\n",
    " 'debtor_age',\n",
    " 'education_type',\n",
    " 'education_type_id',\n",
    " 'family_status_type',\n",
    " 'family_status_type_id',\n",
    " 'gender',\n",
    " 'job_type',\n",
    " 'debt_problems',\n",
    " 'month_income',\n",
    " 'purpose_of_credit']\n",
    "\n",
    "df.set_axis(new_columns, axis = 'columns', inplace = True)\n",
    "df.columns.to_list()"
   ]
  },
  {
   "cell_type": "code",
   "execution_count": 38,
   "metadata": {},
   "outputs": [
    {
     "data": {
      "text/plain": [
       "number_of_children          0\n",
       "days_employed            2174\n",
       "debtor_age                  0\n",
       "education_type              0\n",
       "education_type_id           0\n",
       "family_status_type          0\n",
       "family_status_type_id       0\n",
       "gender                      0\n",
       "job_type                    0\n",
       "debt_problems               0\n",
       "month_income             2174\n",
       "purpose_of_credit           0\n",
       "dtype: int64"
      ]
     },
     "execution_count": 38,
     "metadata": {},
     "output_type": "execute_result"
    }
   ],
   "source": [
    "#Проанализируем пропуски в данных\n",
    "df.isna().sum()"
   ]
  },
  {
   "cell_type": "markdown",
   "metadata": {},
   "source": [
    "2174 пропуска в стаже + 2174 пропуска в доходе"
   ]
  },
  {
   "cell_type": "code",
   "execution_count": 39,
   "metadata": {},
   "outputs": [
    {
     "data": {
      "text/html": [
       "<div>\n",
       "<style scoped>\n",
       "    .dataframe tbody tr th:only-of-type {\n",
       "        vertical-align: middle;\n",
       "    }\n",
       "\n",
       "    .dataframe tbody tr th {\n",
       "        vertical-align: top;\n",
       "    }\n",
       "\n",
       "    .dataframe thead th {\n",
       "        text-align: right;\n",
       "    }\n",
       "</style>\n",
       "<table border=\"1\" class=\"dataframe\">\n",
       "  <thead>\n",
       "    <tr style=\"text-align: right;\">\n",
       "      <th></th>\n",
       "      <th>number_of_children</th>\n",
       "      <th>days_employed</th>\n",
       "      <th>debtor_age</th>\n",
       "      <th>education_type</th>\n",
       "      <th>education_type_id</th>\n",
       "      <th>family_status_type</th>\n",
       "      <th>family_status_type_id</th>\n",
       "      <th>gender</th>\n",
       "      <th>job_type</th>\n",
       "      <th>debt_problems</th>\n",
       "      <th>month_income</th>\n",
       "      <th>purpose_of_credit</th>\n",
       "    </tr>\n",
       "  </thead>\n",
       "  <tbody>\n",
       "    <tr>\n",
       "      <td>12</td>\n",
       "      <td>0</td>\n",
       "      <td>NaN</td>\n",
       "      <td>65</td>\n",
       "      <td>среднее</td>\n",
       "      <td>1</td>\n",
       "      <td>гражданский брак</td>\n",
       "      <td>1</td>\n",
       "      <td>M</td>\n",
       "      <td>пенсионер</td>\n",
       "      <td>0</td>\n",
       "      <td>NaN</td>\n",
       "      <td>сыграть свадьбу</td>\n",
       "    </tr>\n",
       "    <tr>\n",
       "      <td>26</td>\n",
       "      <td>0</td>\n",
       "      <td>NaN</td>\n",
       "      <td>41</td>\n",
       "      <td>среднее</td>\n",
       "      <td>1</td>\n",
       "      <td>женат / замужем</td>\n",
       "      <td>0</td>\n",
       "      <td>M</td>\n",
       "      <td>госслужащий</td>\n",
       "      <td>0</td>\n",
       "      <td>NaN</td>\n",
       "      <td>образование</td>\n",
       "    </tr>\n",
       "    <tr>\n",
       "      <td>29</td>\n",
       "      <td>0</td>\n",
       "      <td>NaN</td>\n",
       "      <td>63</td>\n",
       "      <td>среднее</td>\n",
       "      <td>1</td>\n",
       "      <td>Не женат / не замужем</td>\n",
       "      <td>4</td>\n",
       "      <td>F</td>\n",
       "      <td>пенсионер</td>\n",
       "      <td>0</td>\n",
       "      <td>NaN</td>\n",
       "      <td>строительство жилой недвижимости</td>\n",
       "    </tr>\n",
       "    <tr>\n",
       "      <td>41</td>\n",
       "      <td>0</td>\n",
       "      <td>NaN</td>\n",
       "      <td>50</td>\n",
       "      <td>среднее</td>\n",
       "      <td>1</td>\n",
       "      <td>женат / замужем</td>\n",
       "      <td>0</td>\n",
       "      <td>F</td>\n",
       "      <td>госслужащий</td>\n",
       "      <td>0</td>\n",
       "      <td>NaN</td>\n",
       "      <td>сделка с подержанным автомобилем</td>\n",
       "    </tr>\n",
       "    <tr>\n",
       "      <td>55</td>\n",
       "      <td>0</td>\n",
       "      <td>NaN</td>\n",
       "      <td>54</td>\n",
       "      <td>среднее</td>\n",
       "      <td>1</td>\n",
       "      <td>гражданский брак</td>\n",
       "      <td>1</td>\n",
       "      <td>F</td>\n",
       "      <td>пенсионер</td>\n",
       "      <td>1</td>\n",
       "      <td>NaN</td>\n",
       "      <td>сыграть свадьбу</td>\n",
       "    </tr>\n",
       "    <tr>\n",
       "      <td>65</td>\n",
       "      <td>0</td>\n",
       "      <td>NaN</td>\n",
       "      <td>21</td>\n",
       "      <td>среднее</td>\n",
       "      <td>1</td>\n",
       "      <td>Не женат / не замужем</td>\n",
       "      <td>4</td>\n",
       "      <td>M</td>\n",
       "      <td>компаньон</td>\n",
       "      <td>0</td>\n",
       "      <td>NaN</td>\n",
       "      <td>операции с коммерческой недвижимостью</td>\n",
       "    </tr>\n",
       "    <tr>\n",
       "      <td>67</td>\n",
       "      <td>0</td>\n",
       "      <td>NaN</td>\n",
       "      <td>52</td>\n",
       "      <td>высшее</td>\n",
       "      <td>0</td>\n",
       "      <td>женат / замужем</td>\n",
       "      <td>0</td>\n",
       "      <td>F</td>\n",
       "      <td>пенсионер</td>\n",
       "      <td>0</td>\n",
       "      <td>NaN</td>\n",
       "      <td>покупка жилья для семьи</td>\n",
       "    </tr>\n",
       "    <tr>\n",
       "      <td>72</td>\n",
       "      <td>1</td>\n",
       "      <td>NaN</td>\n",
       "      <td>32</td>\n",
       "      <td>высшее</td>\n",
       "      <td>0</td>\n",
       "      <td>женат / замужем</td>\n",
       "      <td>0</td>\n",
       "      <td>M</td>\n",
       "      <td>госслужащий</td>\n",
       "      <td>0</td>\n",
       "      <td>NaN</td>\n",
       "      <td>операции с коммерческой недвижимостью</td>\n",
       "    </tr>\n",
       "    <tr>\n",
       "      <td>82</td>\n",
       "      <td>2</td>\n",
       "      <td>NaN</td>\n",
       "      <td>50</td>\n",
       "      <td>высшее</td>\n",
       "      <td>0</td>\n",
       "      <td>женат / замужем</td>\n",
       "      <td>0</td>\n",
       "      <td>F</td>\n",
       "      <td>сотрудник</td>\n",
       "      <td>0</td>\n",
       "      <td>NaN</td>\n",
       "      <td>жилье</td>\n",
       "    </tr>\n",
       "    <tr>\n",
       "      <td>83</td>\n",
       "      <td>0</td>\n",
       "      <td>NaN</td>\n",
       "      <td>52</td>\n",
       "      <td>среднее</td>\n",
       "      <td>1</td>\n",
       "      <td>женат / замужем</td>\n",
       "      <td>0</td>\n",
       "      <td>M</td>\n",
       "      <td>сотрудник</td>\n",
       "      <td>0</td>\n",
       "      <td>NaN</td>\n",
       "      <td>жилье</td>\n",
       "    </tr>\n",
       "    <tr>\n",
       "      <td>90</td>\n",
       "      <td>2</td>\n",
       "      <td>NaN</td>\n",
       "      <td>35</td>\n",
       "      <td>высшее</td>\n",
       "      <td>0</td>\n",
       "      <td>женат / замужем</td>\n",
       "      <td>0</td>\n",
       "      <td>F</td>\n",
       "      <td>сотрудник</td>\n",
       "      <td>0</td>\n",
       "      <td>NaN</td>\n",
       "      <td>операции с жильем</td>\n",
       "    </tr>\n",
       "    <tr>\n",
       "      <td>94</td>\n",
       "      <td>1</td>\n",
       "      <td>NaN</td>\n",
       "      <td>34</td>\n",
       "      <td>высшее</td>\n",
       "      <td>0</td>\n",
       "      <td>гражданский брак</td>\n",
       "      <td>1</td>\n",
       "      <td>F</td>\n",
       "      <td>компаньон</td>\n",
       "      <td>0</td>\n",
       "      <td>NaN</td>\n",
       "      <td>на проведение свадьбы</td>\n",
       "    </tr>\n",
       "    <tr>\n",
       "      <td>96</td>\n",
       "      <td>0</td>\n",
       "      <td>NaN</td>\n",
       "      <td>44</td>\n",
       "      <td>СРЕДНЕЕ</td>\n",
       "      <td>1</td>\n",
       "      <td>женат / замужем</td>\n",
       "      <td>0</td>\n",
       "      <td>F</td>\n",
       "      <td>сотрудник</td>\n",
       "      <td>0</td>\n",
       "      <td>NaN</td>\n",
       "      <td>покупка жилой недвижимости</td>\n",
       "    </tr>\n",
       "    <tr>\n",
       "      <td>97</td>\n",
       "      <td>0</td>\n",
       "      <td>NaN</td>\n",
       "      <td>47</td>\n",
       "      <td>высшее</td>\n",
       "      <td>0</td>\n",
       "      <td>женат / замужем</td>\n",
       "      <td>0</td>\n",
       "      <td>F</td>\n",
       "      <td>сотрудник</td>\n",
       "      <td>0</td>\n",
       "      <td>NaN</td>\n",
       "      <td>профильное образование</td>\n",
       "    </tr>\n",
       "    <tr>\n",
       "      <td>120</td>\n",
       "      <td>0</td>\n",
       "      <td>NaN</td>\n",
       "      <td>46</td>\n",
       "      <td>среднее</td>\n",
       "      <td>1</td>\n",
       "      <td>женат / замужем</td>\n",
       "      <td>0</td>\n",
       "      <td>F</td>\n",
       "      <td>сотрудник</td>\n",
       "      <td>0</td>\n",
       "      <td>NaN</td>\n",
       "      <td>высшее образование</td>\n",
       "    </tr>\n",
       "  </tbody>\n",
       "</table>\n",
       "</div>"
      ],
      "text/plain": [
       "     number_of_children  days_employed  debtor_age education_type  \\\n",
       "12                    0            NaN          65        среднее   \n",
       "26                    0            NaN          41        среднее   \n",
       "29                    0            NaN          63        среднее   \n",
       "41                    0            NaN          50        среднее   \n",
       "55                    0            NaN          54        среднее   \n",
       "65                    0            NaN          21        среднее   \n",
       "67                    0            NaN          52         высшее   \n",
       "72                    1            NaN          32         высшее   \n",
       "82                    2            NaN          50         высшее   \n",
       "83                    0            NaN          52        среднее   \n",
       "90                    2            NaN          35         высшее   \n",
       "94                    1            NaN          34         высшее   \n",
       "96                    0            NaN          44        СРЕДНЕЕ   \n",
       "97                    0            NaN          47         высшее   \n",
       "120                   0            NaN          46        среднее   \n",
       "\n",
       "     education_type_id     family_status_type  family_status_type_id gender  \\\n",
       "12                   1       гражданский брак                      1      M   \n",
       "26                   1        женат / замужем                      0      M   \n",
       "29                   1  Не женат / не замужем                      4      F   \n",
       "41                   1        женат / замужем                      0      F   \n",
       "55                   1       гражданский брак                      1      F   \n",
       "65                   1  Не женат / не замужем                      4      M   \n",
       "67                   0        женат / замужем                      0      F   \n",
       "72                   0        женат / замужем                      0      M   \n",
       "82                   0        женат / замужем                      0      F   \n",
       "83                   1        женат / замужем                      0      M   \n",
       "90                   0        женат / замужем                      0      F   \n",
       "94                   0       гражданский брак                      1      F   \n",
       "96                   1        женат / замужем                      0      F   \n",
       "97                   0        женат / замужем                      0      F   \n",
       "120                  1        женат / замужем                      0      F   \n",
       "\n",
       "        job_type  debt_problems  month_income  \\\n",
       "12     пенсионер              0           NaN   \n",
       "26   госслужащий              0           NaN   \n",
       "29     пенсионер              0           NaN   \n",
       "41   госслужащий              0           NaN   \n",
       "55     пенсионер              1           NaN   \n",
       "65     компаньон              0           NaN   \n",
       "67     пенсионер              0           NaN   \n",
       "72   госслужащий              0           NaN   \n",
       "82     сотрудник              0           NaN   \n",
       "83     сотрудник              0           NaN   \n",
       "90     сотрудник              0           NaN   \n",
       "94     компаньон              0           NaN   \n",
       "96     сотрудник              0           NaN   \n",
       "97     сотрудник              0           NaN   \n",
       "120    сотрудник              0           NaN   \n",
       "\n",
       "                         purpose_of_credit  \n",
       "12                         сыграть свадьбу  \n",
       "26                             образование  \n",
       "29        строительство жилой недвижимости  \n",
       "41        сделка с подержанным автомобилем  \n",
       "55                         сыграть свадьбу  \n",
       "65   операции с коммерческой недвижимостью  \n",
       "67                 покупка жилья для семьи  \n",
       "72   операции с коммерческой недвижимостью  \n",
       "82                                   жилье  \n",
       "83                                   жилье  \n",
       "90                       операции с жильем  \n",
       "94                   на проведение свадьбы  \n",
       "96              покупка жилой недвижимости  \n",
       "97                  профильное образование  \n",
       "120                     высшее образование  "
      ]
     },
     "execution_count": 39,
     "metadata": {},
     "output_type": "execute_result"
    }
   ],
   "source": [
    "df[df['days_employed'].isna()==True].head(15)"
   ]
  },
  {
   "cell_type": "code",
   "execution_count": 40,
   "metadata": {},
   "outputs": [
    {
     "data": {
      "text/plain": [
       "сотрудник          0.508280\n",
       "компаньон          0.233671\n",
       "пенсионер          0.189972\n",
       "госслужащий        0.067617\n",
       "предприниматель    0.000460\n",
       "Name: job_type, dtype: float64"
      ]
     },
     "execution_count": 40,
     "metadata": {},
     "output_type": "execute_result"
    }
   ],
   "source": [
    "df[df['days_employed'].isna()==True]['job_type'].value_counts(normalize=True)"
   ]
  },
  {
   "cell_type": "code",
   "execution_count": 41,
   "metadata": {},
   "outputs": [
    {
     "data": {
      "text/plain": [
       "сотрудник          0.517493\n",
       "компаньон          0.236525\n",
       "пенсионер          0.177924\n",
       "госслужащий        0.067800\n",
       "безработный        0.000103\n",
       "предприниматель    0.000052\n",
       "студент            0.000052\n",
       "в декрете          0.000052\n",
       "Name: job_type, dtype: float64"
      ]
     },
     "execution_count": 41,
     "metadata": {},
     "output_type": "execute_result"
    }
   ],
   "source": [
    "df[df['days_employed'].isna()==False]['job_type'].value_counts(normalize=True)"
   ]
  },
  {
   "cell_type": "code",
   "execution_count": 42,
   "metadata": {},
   "outputs": [
    {
     "data": {
      "text/plain": [
       "женат / замужем          0.568997\n",
       "гражданский брак         0.203312\n",
       "Не женат / не замужем    0.132475\n",
       "в разводе                0.051518\n",
       "вдовец / вдова           0.043698\n",
       "Name: family_status_type, dtype: float64"
      ]
     },
     "execution_count": 42,
     "metadata": {},
     "output_type": "execute_result"
    }
   ],
   "source": [
    "df[df['days_employed'].isna()==True]['family_status_type'].value_counts(normalize=True)"
   ]
  },
  {
   "cell_type": "code",
   "execution_count": 43,
   "metadata": {},
   "outputs": [
    {
     "data": {
      "text/plain": [
       "женат / замужем          0.575836\n",
       "гражданский брак         0.193013\n",
       "Не женат / не замужем    0.130484\n",
       "в разводе                0.055966\n",
       "вдовец / вдова           0.044701\n",
       "Name: family_status_type, dtype: float64"
      ]
     },
     "execution_count": 43,
     "metadata": {},
     "output_type": "execute_result"
    }
   ],
   "source": [
    "df[df['days_employed'].isna()==False]['family_status_type'].value_counts(normalize=True)"
   ]
  },
  {
   "cell_type": "markdown",
   "metadata": {},
   "source": [
    "Не указали свой доход люди с разным типом занятости, возрастов, типом образования, а также разными целями на кредит.\n",
    "Заменять на ноль не совсем корректно, это снизит шанс выдачи кредита. Пропуски могут быть связаны с отсуствием трудового стажа и официального заработка по определенным причинам (число пропусков совпадает двух столбцов).\n",
    "\n",
    "**Задача:** \n",
    "\n",
    "    - Подготовить данные в столбцах days_employed и month_income для нахождения корректной медианы\n",
    "    - Найти медиану для разных типов клиентов (по имеющимся группам образования и занятости)\n",
    "    - Каждому отдельно взятому пропуску присвоить найденную медиану"
   ]
  },
  {
   "cell_type": "code",
   "execution_count": 44,
   "metadata": {},
   "outputs": [],
   "source": [
    "#подготавливаем данные в столбцах days_employed и month_income\n",
    "df['days_employed'] = df['days_employed'].apply(abs)\n",
    "df['month_income'] = df['month_income'].apply(abs)"
   ]
  },
  {
   "cell_type": "code",
   "execution_count": 45,
   "metadata": {},
   "outputs": [
    {
     "data": {
      "text/html": [
       "<div>\n",
       "<style scoped>\n",
       "    .dataframe tbody tr th:only-of-type {\n",
       "        vertical-align: middle;\n",
       "    }\n",
       "\n",
       "    .dataframe tbody tr th {\n",
       "        vertical-align: top;\n",
       "    }\n",
       "\n",
       "    .dataframe thead th {\n",
       "        text-align: right;\n",
       "    }\n",
       "</style>\n",
       "<table border=\"1\" class=\"dataframe\">\n",
       "  <thead>\n",
       "    <tr style=\"text-align: right;\">\n",
       "      <th></th>\n",
       "      <th></th>\n",
       "      <th>days_employed</th>\n",
       "      <th>month_income</th>\n",
       "    </tr>\n",
       "    <tr>\n",
       "      <th>education_type</th>\n",
       "      <th>job_type</th>\n",
       "      <th></th>\n",
       "      <th></th>\n",
       "    </tr>\n",
       "  </thead>\n",
       "  <tbody>\n",
       "    <tr>\n",
       "      <td rowspan=\"4\" valign=\"top\">ВЫСШЕЕ</td>\n",
       "      <td>госслужащий</td>\n",
       "      <td>1424.562274</td>\n",
       "      <td>174909.179988</td>\n",
       "    </tr>\n",
       "    <tr>\n",
       "      <td>компаньон</td>\n",
       "      <td>1423.978136</td>\n",
       "      <td>200701.997023</td>\n",
       "    </tr>\n",
       "    <tr>\n",
       "      <td>пенсионер</td>\n",
       "      <td>367532.282115</td>\n",
       "      <td>165563.164062</td>\n",
       "    </tr>\n",
       "    <tr>\n",
       "      <td>сотрудник</td>\n",
       "      <td>1602.753306</td>\n",
       "      <td>144683.271465</td>\n",
       "    </tr>\n",
       "    <tr>\n",
       "      <td rowspan=\"5\" valign=\"top\">Высшее</td>\n",
       "      <td>безработный</td>\n",
       "      <td>395302.838654</td>\n",
       "      <td>202722.511368</td>\n",
       "    </tr>\n",
       "    <tr>\n",
       "      <td>госслужащий</td>\n",
       "      <td>3750.610464</td>\n",
       "      <td>161671.347625</td>\n",
       "    </tr>\n",
       "    <tr>\n",
       "      <td>компаньон</td>\n",
       "      <td>1453.451901</td>\n",
       "      <td>192451.667511</td>\n",
       "    </tr>\n",
       "    <tr>\n",
       "      <td>пенсионер</td>\n",
       "      <td>368379.850772</td>\n",
       "      <td>154962.528710</td>\n",
       "    </tr>\n",
       "    <tr>\n",
       "      <td>сотрудник</td>\n",
       "      <td>1534.735406</td>\n",
       "      <td>178238.955336</td>\n",
       "    </tr>\n",
       "    <tr>\n",
       "      <td rowspan=\"3\" valign=\"top\">НАЧАЛЬНОЕ</td>\n",
       "      <td>компаньон</td>\n",
       "      <td>1265.943306</td>\n",
       "      <td>190952.908390</td>\n",
       "    </tr>\n",
       "    <tr>\n",
       "      <td>пенсионер</td>\n",
       "      <td>360264.985350</td>\n",
       "      <td>90479.336389</td>\n",
       "    </tr>\n",
       "    <tr>\n",
       "      <td>сотрудник</td>\n",
       "      <td>1012.313022</td>\n",
       "      <td>212545.366151</td>\n",
       "    </tr>\n",
       "    <tr>\n",
       "      <td rowspan=\"3\" valign=\"top\">НЕОКОНЧЕННОЕ ВЫСШЕЕ</td>\n",
       "      <td>компаньон</td>\n",
       "      <td>775.760267</td>\n",
       "      <td>145528.679914</td>\n",
       "    </tr>\n",
       "    <tr>\n",
       "      <td>пенсионер</td>\n",
       "      <td>358732.475441</td>\n",
       "      <td>412386.347106</td>\n",
       "    </tr>\n",
       "    <tr>\n",
       "      <td>сотрудник</td>\n",
       "      <td>1546.148345</td>\n",
       "      <td>166015.790504</td>\n",
       "    </tr>\n",
       "    <tr>\n",
       "      <td rowspan=\"4\" valign=\"top\">Начальное</td>\n",
       "      <td>госслужащий</td>\n",
       "      <td>301.333707</td>\n",
       "      <td>190912.178349</td>\n",
       "    </tr>\n",
       "    <tr>\n",
       "      <td>компаньон</td>\n",
       "      <td>1030.219648</td>\n",
       "      <td>88227.830722</td>\n",
       "    </tr>\n",
       "    <tr>\n",
       "      <td>пенсионер</td>\n",
       "      <td>364632.447491</td>\n",
       "      <td>98853.333449</td>\n",
       "    </tr>\n",
       "    <tr>\n",
       "      <td>сотрудник</td>\n",
       "      <td>852.697747</td>\n",
       "      <td>129895.001992</td>\n",
       "    </tr>\n",
       "    <tr>\n",
       "      <td rowspan=\"4\" valign=\"top\">Неоконченное высшее</td>\n",
       "      <td>госслужащий</td>\n",
       "      <td>1178.018163</td>\n",
       "      <td>107224.860090</td>\n",
       "    </tr>\n",
       "    <tr>\n",
       "      <td>компаньон</td>\n",
       "      <td>711.837088</td>\n",
       "      <td>183379.320368</td>\n",
       "    </tr>\n",
       "    <tr>\n",
       "      <td>пенсионер</td>\n",
       "      <td>396568.887159</td>\n",
       "      <td>83625.583859</td>\n",
       "    </tr>\n",
       "    <tr>\n",
       "      <td>сотрудник</td>\n",
       "      <td>1653.837028</td>\n",
       "      <td>159115.726175</td>\n",
       "    </tr>\n",
       "    <tr>\n",
       "      <td rowspan=\"5\" valign=\"top\">СРЕДНЕЕ</td>\n",
       "      <td>в декрете</td>\n",
       "      <td>3296.759962</td>\n",
       "      <td>53829.130729</td>\n",
       "    </tr>\n",
       "    <tr>\n",
       "      <td>госслужащий</td>\n",
       "      <td>3356.097160</td>\n",
       "      <td>132756.053048</td>\n",
       "    </tr>\n",
       "    <tr>\n",
       "      <td>компаньон</td>\n",
       "      <td>1945.914306</td>\n",
       "      <td>157308.365600</td>\n",
       "    </tr>\n",
       "    <tr>\n",
       "      <td>пенсионер</td>\n",
       "      <td>363541.465259</td>\n",
       "      <td>113656.027279</td>\n",
       "    </tr>\n",
       "    <tr>\n",
       "      <td>сотрудник</td>\n",
       "      <td>1567.112656</td>\n",
       "      <td>135823.934197</td>\n",
       "    </tr>\n",
       "    <tr>\n",
       "      <td rowspan=\"4\" valign=\"top\">Среднее</td>\n",
       "      <td>госслужащий</td>\n",
       "      <td>2291.747052</td>\n",
       "      <td>148529.629601</td>\n",
       "    </tr>\n",
       "    <tr>\n",
       "      <td>компаньон</td>\n",
       "      <td>1863.730566</td>\n",
       "      <td>149190.998579</td>\n",
       "    </tr>\n",
       "    <tr>\n",
       "      <td>пенсионер</td>\n",
       "      <td>363995.316389</td>\n",
       "      <td>128155.229215</td>\n",
       "    </tr>\n",
       "    <tr>\n",
       "      <td>сотрудник</td>\n",
       "      <td>1730.667138</td>\n",
       "      <td>133399.107243</td>\n",
       "    </tr>\n",
       "    <tr>\n",
       "      <td>УЧЕНАЯ СТЕПЕНЬ</td>\n",
       "      <td>сотрудник</td>\n",
       "      <td>409.200149</td>\n",
       "      <td>198570.757322</td>\n",
       "    </tr>\n",
       "    <tr>\n",
       "      <td>Ученая степень</td>\n",
       "      <td>пенсионер</td>\n",
       "      <td>337584.815560</td>\n",
       "      <td>98752.495442</td>\n",
       "    </tr>\n",
       "    <tr>\n",
       "      <td rowspan=\"6\" valign=\"top\">высшее</td>\n",
       "      <td>госслужащий</td>\n",
       "      <td>2577.299850</td>\n",
       "      <td>172511.107016</td>\n",
       "    </tr>\n",
       "    <tr>\n",
       "      <td>компаньон</td>\n",
       "      <td>1461.167287</td>\n",
       "      <td>201911.716329</td>\n",
       "    </tr>\n",
       "    <tr>\n",
       "      <td>пенсионер</td>\n",
       "      <td>366157.236636</td>\n",
       "      <td>142825.046222</td>\n",
       "    </tr>\n",
       "    <tr>\n",
       "      <td>предприниматель</td>\n",
       "      <td>520.848083</td>\n",
       "      <td>499163.144947</td>\n",
       "    </tr>\n",
       "    <tr>\n",
       "      <td>сотрудник</td>\n",
       "      <td>1548.646517</td>\n",
       "      <td>166164.078024</td>\n",
       "    </tr>\n",
       "    <tr>\n",
       "      <td>студент</td>\n",
       "      <td>578.751554</td>\n",
       "      <td>98201.625314</td>\n",
       "    </tr>\n",
       "    <tr>\n",
       "      <td rowspan=\"4\" valign=\"top\">начальное</td>\n",
       "      <td>госслужащий</td>\n",
       "      <td>3043.933615</td>\n",
       "      <td>105766.403301</td>\n",
       "    </tr>\n",
       "    <tr>\n",
       "      <td>компаньон</td>\n",
       "      <td>1166.810199</td>\n",
       "      <td>170077.891115</td>\n",
       "    </tr>\n",
       "    <tr>\n",
       "      <td>пенсионер</td>\n",
       "      <td>358777.901745</td>\n",
       "      <td>104505.757848</td>\n",
       "    </tr>\n",
       "    <tr>\n",
       "      <td>сотрудник</td>\n",
       "      <td>1261.719742</td>\n",
       "      <td>124298.759469</td>\n",
       "    </tr>\n",
       "    <tr>\n",
       "      <td rowspan=\"4\" valign=\"top\">неоконченное высшее</td>\n",
       "      <td>госслужащий</td>\n",
       "      <td>2038.132156</td>\n",
       "      <td>165106.669771</td>\n",
       "    </tr>\n",
       "    <tr>\n",
       "      <td>компаньон</td>\n",
       "      <td>1032.968329</td>\n",
       "      <td>179867.152890</td>\n",
       "    </tr>\n",
       "    <tr>\n",
       "      <td>пенсионер</td>\n",
       "      <td>371193.915404</td>\n",
       "      <td>122706.716059</td>\n",
       "    </tr>\n",
       "    <tr>\n",
       "      <td>сотрудник</td>\n",
       "      <td>1158.032596</td>\n",
       "      <td>149551.191876</td>\n",
       "    </tr>\n",
       "    <tr>\n",
       "      <td rowspan=\"5\" valign=\"top\">среднее</td>\n",
       "      <td>безработный</td>\n",
       "      <td>337524.466835</td>\n",
       "      <td>59956.991984</td>\n",
       "    </tr>\n",
       "    <tr>\n",
       "      <td>госслужащий</td>\n",
       "      <td>2856.781570</td>\n",
       "      <td>136652.970357</td>\n",
       "    </tr>\n",
       "    <tr>\n",
       "      <td>компаньон</td>\n",
       "      <td>1645.331963</td>\n",
       "      <td>159652.900458</td>\n",
       "    </tr>\n",
       "    <tr>\n",
       "      <td>пенсионер</td>\n",
       "      <td>365232.442222</td>\n",
       "      <td>114483.373934</td>\n",
       "    </tr>\n",
       "    <tr>\n",
       "      <td>сотрудник</td>\n",
       "      <td>1607.383724</td>\n",
       "      <td>136818.115423</td>\n",
       "    </tr>\n",
       "    <tr>\n",
       "      <td rowspan=\"3\" valign=\"top\">ученая степень</td>\n",
       "      <td>госслужащий</td>\n",
       "      <td>5968.075884</td>\n",
       "      <td>111392.231107</td>\n",
       "    </tr>\n",
       "    <tr>\n",
       "      <td>пенсионер</td>\n",
       "      <td>376276.219531</td>\n",
       "      <td>255425.196556</td>\n",
       "    </tr>\n",
       "    <tr>\n",
       "      <td>сотрудник</td>\n",
       "      <td>3851.735057</td>\n",
       "      <td>192180.127162</td>\n",
       "    </tr>\n",
       "  </tbody>\n",
       "</table>\n",
       "</div>"
      ],
      "text/plain": [
       "                                     days_employed   month_income\n",
       "education_type      job_type                                     \n",
       "ВЫСШЕЕ              госслужащий        1424.562274  174909.179988\n",
       "                    компаньон          1423.978136  200701.997023\n",
       "                    пенсионер        367532.282115  165563.164062\n",
       "                    сотрудник          1602.753306  144683.271465\n",
       "Высшее              безработный      395302.838654  202722.511368\n",
       "                    госслужащий        3750.610464  161671.347625\n",
       "                    компаньон          1453.451901  192451.667511\n",
       "                    пенсионер        368379.850772  154962.528710\n",
       "                    сотрудник          1534.735406  178238.955336\n",
       "НАЧАЛЬНОЕ           компаньон          1265.943306  190952.908390\n",
       "                    пенсионер        360264.985350   90479.336389\n",
       "                    сотрудник          1012.313022  212545.366151\n",
       "НЕОКОНЧЕННОЕ ВЫСШЕЕ компаньон           775.760267  145528.679914\n",
       "                    пенсионер        358732.475441  412386.347106\n",
       "                    сотрудник          1546.148345  166015.790504\n",
       "Начальное           госслужащий         301.333707  190912.178349\n",
       "                    компаньон          1030.219648   88227.830722\n",
       "                    пенсионер        364632.447491   98853.333449\n",
       "                    сотрудник           852.697747  129895.001992\n",
       "Неоконченное высшее госслужащий        1178.018163  107224.860090\n",
       "                    компаньон           711.837088  183379.320368\n",
       "                    пенсионер        396568.887159   83625.583859\n",
       "                    сотрудник          1653.837028  159115.726175\n",
       "СРЕДНЕЕ             в декрете          3296.759962   53829.130729\n",
       "                    госслужащий        3356.097160  132756.053048\n",
       "                    компаньон          1945.914306  157308.365600\n",
       "                    пенсионер        363541.465259  113656.027279\n",
       "                    сотрудник          1567.112656  135823.934197\n",
       "Среднее             госслужащий        2291.747052  148529.629601\n",
       "                    компаньон          1863.730566  149190.998579\n",
       "                    пенсионер        363995.316389  128155.229215\n",
       "                    сотрудник          1730.667138  133399.107243\n",
       "УЧЕНАЯ СТЕПЕНЬ      сотрудник           409.200149  198570.757322\n",
       "Ученая степень      пенсионер        337584.815560   98752.495442\n",
       "высшее              госслужащий        2577.299850  172511.107016\n",
       "                    компаньон          1461.167287  201911.716329\n",
       "                    пенсионер        366157.236636  142825.046222\n",
       "                    предприниматель     520.848083  499163.144947\n",
       "                    сотрудник          1548.646517  166164.078024\n",
       "                    студент             578.751554   98201.625314\n",
       "начальное           госслужащий        3043.933615  105766.403301\n",
       "                    компаньон          1166.810199  170077.891115\n",
       "                    пенсионер        358777.901745  104505.757848\n",
       "                    сотрудник          1261.719742  124298.759469\n",
       "неоконченное высшее госслужащий        2038.132156  165106.669771\n",
       "                    компаньон          1032.968329  179867.152890\n",
       "                    пенсионер        371193.915404  122706.716059\n",
       "                    сотрудник          1158.032596  149551.191876\n",
       "среднее             безработный      337524.466835   59956.991984\n",
       "                    госслужащий        2856.781570  136652.970357\n",
       "                    компаньон          1645.331963  159652.900458\n",
       "                    пенсионер        365232.442222  114483.373934\n",
       "                    сотрудник          1607.383724  136818.115423\n",
       "ученая степень      госслужащий        5968.075884  111392.231107\n",
       "                    пенсионер        376276.219531  255425.196556\n",
       "                    сотрудник          3851.735057  192180.127162"
      ]
     },
     "execution_count": 45,
     "metadata": {},
     "output_type": "execute_result"
    }
   ],
   "source": [
    "#Найдем медиану для разных типов клиентов (по имеющимся группам образования и занятости)\n",
    "df_median = pd.pivot_table(\n",
    "                            df,\n",
    "                            index = ['education_type', 'job_type'],\n",
    "                            values = ['days_employed', 'month_income'],\n",
    "                            aggfunc = np.median)\n",
    "\n",
    "df_median  "
   ]
  },
  {
   "cell_type": "code",
   "execution_count": 46,
   "metadata": {},
   "outputs": [],
   "source": [
    "#функция для заполнения пропусков по days_employed\n",
    "\n",
    "def fill_days_employed(row):\n",
    "    return df_median.loc[row['education_type']].loc[row['job_type']]['days_employed']"
   ]
  },
  {
   "cell_type": "code",
   "execution_count": 47,
   "metadata": {},
   "outputs": [],
   "source": [
    "#функция для заполнения пропусков по month_income\n",
    "\n",
    "def fill_month_income(row):\n",
    "    return df_median.loc[row['education_type']].loc[row['job_type']]['month_income']"
   ]
  },
  {
   "cell_type": "code",
   "execution_count": 49,
   "metadata": {},
   "outputs": [],
   "source": [
    "df.loc[df['days_employed'].isna() == True, 'days_employed'] = df.apply(fill_days_employed, axis=1)"
   ]
  },
  {
   "cell_type": "code",
   "execution_count": 50,
   "metadata": {},
   "outputs": [],
   "source": [
    "df.loc[df['month_income'].isna() == True, 'month_income'] = df.apply(fill_month_income, axis=1)"
   ]
  },
  {
   "cell_type": "code",
   "execution_count": 51,
   "metadata": {},
   "outputs": [
    {
     "data": {
      "text/plain": [
       "number_of_children       0\n",
       "days_employed            0\n",
       "debtor_age               0\n",
       "education_type           0\n",
       "education_type_id        0\n",
       "family_status_type       0\n",
       "family_status_type_id    0\n",
       "gender                   0\n",
       "job_type                 0\n",
       "debt_problems            0\n",
       "month_income             0\n",
       "purpose_of_credit        0\n",
       "dtype: int64"
      ]
     },
     "execution_count": 51,
     "metadata": {},
     "output_type": "execute_result"
    }
   ],
   "source": [
    "df.isna().sum()"
   ]
  },
  {
   "cell_type": "markdown",
   "metadata": {},
   "source": [
    "**Избавились от пропусков. Перепроверили результат. Прежде чем переходить к замене типа данных:** \n",
    "\n",
    "1) решим проблему отрицательных значений (number_of_children), \n",
    "и 2) рассмотрим клиентов, кому 0 лет.\n"
   ]
  },
  {
   "cell_type": "code",
   "execution_count": 52,
   "metadata": {},
   "outputs": [
    {
     "data": {
      "text/plain": [
       " 0     14149\n",
       " 1      4818\n",
       " 2      2055\n",
       " 3       330\n",
       " 20       76\n",
       "-1        47\n",
       " 4        41\n",
       " 5         9\n",
       "Name: number_of_children, dtype: int64"
      ]
     },
     "execution_count": 52,
     "metadata": {},
     "output_type": "execute_result"
    }
   ],
   "source": [
    "#решим проблему отрицательных значений (number_of_children)\n",
    "df['number_of_children'].value_counts()"
   ]
  },
  {
   "cell_type": "markdown",
   "metadata": {},
   "source": [
    "Замечаем два артефаект - (-1) и (20). Для -1 предполагаем тире и единица. \n",
    "\n",
    "Для 20 предполагаем лишний ноль в конце (так как все значения находятся в интервале 0 - 5, и после резко выпадающее значение 20)."
   ]
  },
  {
   "cell_type": "code",
   "execution_count": 53,
   "metadata": {},
   "outputs": [],
   "source": [
    "df['number_of_children'] = df['number_of_children'].apply(abs)\n",
    "df['number_of_children'] = df['number_of_children'].replace(20, 2)"
   ]
  },
  {
   "cell_type": "code",
   "execution_count": 54,
   "metadata": {},
   "outputs": [
    {
     "data": {
      "text/plain": [
       "0    14149\n",
       "1     4865\n",
       "2     2131\n",
       "3      330\n",
       "4       41\n",
       "5        9\n",
       "Name: number_of_children, dtype: int64"
      ]
     },
     "execution_count": 54,
     "metadata": {},
     "output_type": "execute_result"
    }
   ],
   "source": [
    "df['number_of_children'].value_counts()"
   ]
  },
  {
   "cell_type": "code",
   "execution_count": 55,
   "metadata": {
    "scrolled": true
   },
   "outputs": [
    {
     "data": {
      "text/html": [
       "<div>\n",
       "<style scoped>\n",
       "    .dataframe tbody tr th:only-of-type {\n",
       "        vertical-align: middle;\n",
       "    }\n",
       "\n",
       "    .dataframe tbody tr th {\n",
       "        vertical-align: top;\n",
       "    }\n",
       "\n",
       "    .dataframe thead th {\n",
       "        text-align: right;\n",
       "    }\n",
       "</style>\n",
       "<table border=\"1\" class=\"dataframe\">\n",
       "  <thead>\n",
       "    <tr style=\"text-align: right;\">\n",
       "      <th></th>\n",
       "      <th>number_of_children</th>\n",
       "      <th>days_employed</th>\n",
       "      <th>debtor_age</th>\n",
       "      <th>education_type</th>\n",
       "      <th>education_type_id</th>\n",
       "      <th>family_status_type</th>\n",
       "      <th>family_status_type_id</th>\n",
       "      <th>gender</th>\n",
       "      <th>job_type</th>\n",
       "      <th>debt_problems</th>\n",
       "      <th>month_income</th>\n",
       "      <th>purpose_of_credit</th>\n",
       "    </tr>\n",
       "  </thead>\n",
       "  <tbody>\n",
       "    <tr>\n",
       "      <td>99</td>\n",
       "      <td>0</td>\n",
       "      <td>346541.618895</td>\n",
       "      <td>0</td>\n",
       "      <td>Среднее</td>\n",
       "      <td>1</td>\n",
       "      <td>женат / замужем</td>\n",
       "      <td>0</td>\n",
       "      <td>F</td>\n",
       "      <td>пенсионер</td>\n",
       "      <td>0</td>\n",
       "      <td>71291.522491</td>\n",
       "      <td>автомобиль</td>\n",
       "    </tr>\n",
       "    <tr>\n",
       "      <td>149</td>\n",
       "      <td>0</td>\n",
       "      <td>2664.273168</td>\n",
       "      <td>0</td>\n",
       "      <td>среднее</td>\n",
       "      <td>1</td>\n",
       "      <td>в разводе</td>\n",
       "      <td>3</td>\n",
       "      <td>F</td>\n",
       "      <td>сотрудник</td>\n",
       "      <td>0</td>\n",
       "      <td>70176.435951</td>\n",
       "      <td>операции с жильем</td>\n",
       "    </tr>\n",
       "    <tr>\n",
       "      <td>270</td>\n",
       "      <td>3</td>\n",
       "      <td>1872.663186</td>\n",
       "      <td>0</td>\n",
       "      <td>среднее</td>\n",
       "      <td>1</td>\n",
       "      <td>женат / замужем</td>\n",
       "      <td>0</td>\n",
       "      <td>F</td>\n",
       "      <td>сотрудник</td>\n",
       "      <td>0</td>\n",
       "      <td>102166.458894</td>\n",
       "      <td>ремонт жилью</td>\n",
       "    </tr>\n",
       "    <tr>\n",
       "      <td>578</td>\n",
       "      <td>0</td>\n",
       "      <td>397856.565013</td>\n",
       "      <td>0</td>\n",
       "      <td>среднее</td>\n",
       "      <td>1</td>\n",
       "      <td>женат / замужем</td>\n",
       "      <td>0</td>\n",
       "      <td>F</td>\n",
       "      <td>пенсионер</td>\n",
       "      <td>0</td>\n",
       "      <td>97620.687042</td>\n",
       "      <td>строительство собственной недвижимости</td>\n",
       "    </tr>\n",
       "    <tr>\n",
       "      <td>1040</td>\n",
       "      <td>0</td>\n",
       "      <td>1158.029561</td>\n",
       "      <td>0</td>\n",
       "      <td>высшее</td>\n",
       "      <td>0</td>\n",
       "      <td>в разводе</td>\n",
       "      <td>3</td>\n",
       "      <td>F</td>\n",
       "      <td>компаньон</td>\n",
       "      <td>0</td>\n",
       "      <td>303994.134987</td>\n",
       "      <td>свой автомобиль</td>\n",
       "    </tr>\n",
       "    <tr>\n",
       "      <td>...</td>\n",
       "      <td>...</td>\n",
       "      <td>...</td>\n",
       "      <td>...</td>\n",
       "      <td>...</td>\n",
       "      <td>...</td>\n",
       "      <td>...</td>\n",
       "      <td>...</td>\n",
       "      <td>...</td>\n",
       "      <td>...</td>\n",
       "      <td>...</td>\n",
       "      <td>...</td>\n",
       "      <td>...</td>\n",
       "    </tr>\n",
       "    <tr>\n",
       "      <td>19829</td>\n",
       "      <td>0</td>\n",
       "      <td>1607.383724</td>\n",
       "      <td>0</td>\n",
       "      <td>среднее</td>\n",
       "      <td>1</td>\n",
       "      <td>женат / замужем</td>\n",
       "      <td>0</td>\n",
       "      <td>F</td>\n",
       "      <td>сотрудник</td>\n",
       "      <td>0</td>\n",
       "      <td>136818.115423</td>\n",
       "      <td>жилье</td>\n",
       "    </tr>\n",
       "    <tr>\n",
       "      <td>20462</td>\n",
       "      <td>0</td>\n",
       "      <td>338734.868540</td>\n",
       "      <td>0</td>\n",
       "      <td>среднее</td>\n",
       "      <td>1</td>\n",
       "      <td>женат / замужем</td>\n",
       "      <td>0</td>\n",
       "      <td>F</td>\n",
       "      <td>пенсионер</td>\n",
       "      <td>0</td>\n",
       "      <td>259193.920299</td>\n",
       "      <td>покупка своего жилья</td>\n",
       "    </tr>\n",
       "    <tr>\n",
       "      <td>20577</td>\n",
       "      <td>0</td>\n",
       "      <td>331741.271455</td>\n",
       "      <td>0</td>\n",
       "      <td>среднее</td>\n",
       "      <td>1</td>\n",
       "      <td>Не женат / не замужем</td>\n",
       "      <td>4</td>\n",
       "      <td>F</td>\n",
       "      <td>пенсионер</td>\n",
       "      <td>0</td>\n",
       "      <td>129788.762899</td>\n",
       "      <td>недвижимость</td>\n",
       "    </tr>\n",
       "    <tr>\n",
       "      <td>21179</td>\n",
       "      <td>2</td>\n",
       "      <td>108.967042</td>\n",
       "      <td>0</td>\n",
       "      <td>высшее</td>\n",
       "      <td>0</td>\n",
       "      <td>женат / замужем</td>\n",
       "      <td>0</td>\n",
       "      <td>M</td>\n",
       "      <td>компаньон</td>\n",
       "      <td>0</td>\n",
       "      <td>240702.007382</td>\n",
       "      <td>строительство жилой недвижимости</td>\n",
       "    </tr>\n",
       "    <tr>\n",
       "      <td>21313</td>\n",
       "      <td>0</td>\n",
       "      <td>1268.487728</td>\n",
       "      <td>0</td>\n",
       "      <td>среднее</td>\n",
       "      <td>1</td>\n",
       "      <td>Не женат / не замужем</td>\n",
       "      <td>4</td>\n",
       "      <td>M</td>\n",
       "      <td>сотрудник</td>\n",
       "      <td>0</td>\n",
       "      <td>152419.184851</td>\n",
       "      <td>операции с жильем</td>\n",
       "    </tr>\n",
       "  </tbody>\n",
       "</table>\n",
       "<p>101 rows × 12 columns</p>\n",
       "</div>"
      ],
      "text/plain": [
       "       number_of_children  days_employed  debtor_age education_type  \\\n",
       "99                      0  346541.618895           0        Среднее   \n",
       "149                     0    2664.273168           0        среднее   \n",
       "270                     3    1872.663186           0        среднее   \n",
       "578                     0  397856.565013           0        среднее   \n",
       "1040                    0    1158.029561           0         высшее   \n",
       "...                   ...            ...         ...            ...   \n",
       "19829                   0    1607.383724           0        среднее   \n",
       "20462                   0  338734.868540           0        среднее   \n",
       "20577                   0  331741.271455           0        среднее   \n",
       "21179                   2     108.967042           0         высшее   \n",
       "21313                   0    1268.487728           0        среднее   \n",
       "\n",
       "       education_type_id     family_status_type  family_status_type_id gender  \\\n",
       "99                     1        женат / замужем                      0      F   \n",
       "149                    1              в разводе                      3      F   \n",
       "270                    1        женат / замужем                      0      F   \n",
       "578                    1        женат / замужем                      0      F   \n",
       "1040                   0              в разводе                      3      F   \n",
       "...                  ...                    ...                    ...    ...   \n",
       "19829                  1        женат / замужем                      0      F   \n",
       "20462                  1        женат / замужем                      0      F   \n",
       "20577                  1  Не женат / не замужем                      4      F   \n",
       "21179                  0        женат / замужем                      0      M   \n",
       "21313                  1  Не женат / не замужем                      4      M   \n",
       "\n",
       "        job_type  debt_problems   month_income  \\\n",
       "99     пенсионер              0   71291.522491   \n",
       "149    сотрудник              0   70176.435951   \n",
       "270    сотрудник              0  102166.458894   \n",
       "578    пенсионер              0   97620.687042   \n",
       "1040   компаньон              0  303994.134987   \n",
       "...          ...            ...            ...   \n",
       "19829  сотрудник              0  136818.115423   \n",
       "20462  пенсионер              0  259193.920299   \n",
       "20577  пенсионер              0  129788.762899   \n",
       "21179  компаньон              0  240702.007382   \n",
       "21313  сотрудник              0  152419.184851   \n",
       "\n",
       "                            purpose_of_credit  \n",
       "99                                 автомобиль  \n",
       "149                         операции с жильем  \n",
       "270                              ремонт жилью  \n",
       "578    строительство собственной недвижимости  \n",
       "1040                          свой автомобиль  \n",
       "...                                       ...  \n",
       "19829                                   жилье  \n",
       "20462                    покупка своего жилья  \n",
       "20577                            недвижимость  \n",
       "21179        строительство жилой недвижимости  \n",
       "21313                       операции с жильем  \n",
       "\n",
       "[101 rows x 12 columns]"
      ]
     },
     "execution_count": 55,
     "metadata": {},
     "output_type": "execute_result"
    }
   ],
   "source": [
    "#рассмотрим клиентов с возрастом 0 лет\n",
    "df[df['debtor_age']==0]"
   ]
  },
  {
   "cell_type": "code",
   "execution_count": 56,
   "metadata": {},
   "outputs": [
    {
     "data": {
      "text/plain": [
       "101"
      ]
     },
     "execution_count": 56,
     "metadata": {},
     "output_type": "execute_result"
    }
   ],
   "source": [
    "df[df['debtor_age']==0]['debtor_age'].count()"
   ]
  },
  {
   "cell_type": "markdown",
   "metadata": {},
   "source": [
    "101 клиент без данных о возрасте. Не будем удалять данные строки для сохранения корреляции по остальным параметрам."
   ]
  },
  {
   "cell_type": "markdown",
   "metadata": {},
   "source": [
    "Добавим в датасет трудовой стаж в годах."
   ]
  },
  {
   "cell_type": "code",
   "execution_count": 57,
   "metadata": {},
   "outputs": [
    {
     "data": {
      "text/html": [
       "<div>\n",
       "<style scoped>\n",
       "    .dataframe tbody tr th:only-of-type {\n",
       "        vertical-align: middle;\n",
       "    }\n",
       "\n",
       "    .dataframe tbody tr th {\n",
       "        vertical-align: top;\n",
       "    }\n",
       "\n",
       "    .dataframe thead th {\n",
       "        text-align: right;\n",
       "    }\n",
       "</style>\n",
       "<table border=\"1\" class=\"dataframe\">\n",
       "  <thead>\n",
       "    <tr style=\"text-align: right;\">\n",
       "      <th></th>\n",
       "      <th>number_of_children</th>\n",
       "      <th>days_employed</th>\n",
       "      <th>debtor_age</th>\n",
       "      <th>education_type_id</th>\n",
       "      <th>family_status_type_id</th>\n",
       "      <th>debt_problems</th>\n",
       "      <th>month_income</th>\n",
       "      <th>years_employed</th>\n",
       "    </tr>\n",
       "  </thead>\n",
       "  <tbody>\n",
       "    <tr>\n",
       "      <td>count</td>\n",
       "      <td>21525.000000</td>\n",
       "      <td>21525.000000</td>\n",
       "      <td>21525.000000</td>\n",
       "      <td>21525.000000</td>\n",
       "      <td>21525.000000</td>\n",
       "      <td>21525.000000</td>\n",
       "      <td>2.152500e+04</td>\n",
       "      <td>21525.000000</td>\n",
       "    </tr>\n",
       "    <tr>\n",
       "      <td>mean</td>\n",
       "      <td>0.479721</td>\n",
       "      <td>67302.038726</td>\n",
       "      <td>43.293380</td>\n",
       "      <td>0.817236</td>\n",
       "      <td>0.972544</td>\n",
       "      <td>0.080883</td>\n",
       "      <td>1.653759e+05</td>\n",
       "      <td>184.389147</td>\n",
       "    </tr>\n",
       "    <tr>\n",
       "      <td>std</td>\n",
       "      <td>0.755528</td>\n",
       "      <td>139404.982703</td>\n",
       "      <td>12.574584</td>\n",
       "      <td>0.548138</td>\n",
       "      <td>1.420324</td>\n",
       "      <td>0.272661</td>\n",
       "      <td>9.816425e+04</td>\n",
       "      <td>381.931459</td>\n",
       "    </tr>\n",
       "    <tr>\n",
       "      <td>min</td>\n",
       "      <td>0.000000</td>\n",
       "      <td>24.141633</td>\n",
       "      <td>0.000000</td>\n",
       "      <td>0.000000</td>\n",
       "      <td>0.000000</td>\n",
       "      <td>0.000000</td>\n",
       "      <td>2.066726e+04</td>\n",
       "      <td>0.066141</td>\n",
       "    </tr>\n",
       "    <tr>\n",
       "      <td>25%</td>\n",
       "      <td>0.000000</td>\n",
       "      <td>1025.402943</td>\n",
       "      <td>33.000000</td>\n",
       "      <td>1.000000</td>\n",
       "      <td>0.000000</td>\n",
       "      <td>0.000000</td>\n",
       "      <td>1.077142e+05</td>\n",
       "      <td>2.809323</td>\n",
       "    </tr>\n",
       "    <tr>\n",
       "      <td>50%</td>\n",
       "      <td>0.000000</td>\n",
       "      <td>1990.714946</td>\n",
       "      <td>42.000000</td>\n",
       "      <td>1.000000</td>\n",
       "      <td>0.000000</td>\n",
       "      <td>0.000000</td>\n",
       "      <td>1.431116e+05</td>\n",
       "      <td>5.454014</td>\n",
       "    </tr>\n",
       "    <tr>\n",
       "      <td>75%</td>\n",
       "      <td>1.000000</td>\n",
       "      <td>5347.024506</td>\n",
       "      <td>53.000000</td>\n",
       "      <td>1.000000</td>\n",
       "      <td>1.000000</td>\n",
       "      <td>0.000000</td>\n",
       "      <td>1.981056e+05</td>\n",
       "      <td>14.649382</td>\n",
       "    </tr>\n",
       "    <tr>\n",
       "      <td>max</td>\n",
       "      <td>5.000000</td>\n",
       "      <td>401755.400475</td>\n",
       "      <td>75.000000</td>\n",
       "      <td>4.000000</td>\n",
       "      <td>4.000000</td>\n",
       "      <td>1.000000</td>\n",
       "      <td>2.265604e+06</td>\n",
       "      <td>1100.699727</td>\n",
       "    </tr>\n",
       "  </tbody>\n",
       "</table>\n",
       "</div>"
      ],
      "text/plain": [
       "       number_of_children  days_employed    debtor_age  education_type_id  \\\n",
       "count        21525.000000   21525.000000  21525.000000       21525.000000   \n",
       "mean             0.479721   67302.038726     43.293380           0.817236   \n",
       "std              0.755528  139404.982703     12.574584           0.548138   \n",
       "min              0.000000      24.141633      0.000000           0.000000   \n",
       "25%              0.000000    1025.402943     33.000000           1.000000   \n",
       "50%              0.000000    1990.714946     42.000000           1.000000   \n",
       "75%              1.000000    5347.024506     53.000000           1.000000   \n",
       "max              5.000000  401755.400475     75.000000           4.000000   \n",
       "\n",
       "       family_status_type_id  debt_problems  month_income  years_employed  \n",
       "count           21525.000000   21525.000000  2.152500e+04    21525.000000  \n",
       "mean                0.972544       0.080883  1.653759e+05      184.389147  \n",
       "std                 1.420324       0.272661  9.816425e+04      381.931459  \n",
       "min                 0.000000       0.000000  2.066726e+04        0.066141  \n",
       "25%                 0.000000       0.000000  1.077142e+05        2.809323  \n",
       "50%                 0.000000       0.000000  1.431116e+05        5.454014  \n",
       "75%                 1.000000       0.000000  1.981056e+05       14.649382  \n",
       "max                 4.000000       1.000000  2.265604e+06     1100.699727  "
      ]
     },
     "execution_count": 57,
     "metadata": {},
     "output_type": "execute_result"
    }
   ],
   "source": [
    "df['years_employed'] = df['days_employed'] / 365\n",
    "df.describe()"
   ]
  },
  {
   "cell_type": "markdown",
   "metadata": {},
   "source": [
    "Замечаем проблемные значения по годам (и по days_employed) трудового стажа. Максимум составляет 1367.6 лет. Оставим эти данные для сохранения связи по другим параметрам, так как этот срез содержит 5619 строчек. "
   ]
  },
  {
   "cell_type": "code",
   "execution_count": 58,
   "metadata": {},
   "outputs": [
    {
     "data": {
      "text/html": [
       "<div>\n",
       "<style scoped>\n",
       "    .dataframe tbody tr th:only-of-type {\n",
       "        vertical-align: middle;\n",
       "    }\n",
       "\n",
       "    .dataframe tbody tr th {\n",
       "        vertical-align: top;\n",
       "    }\n",
       "\n",
       "    .dataframe thead th {\n",
       "        text-align: right;\n",
       "    }\n",
       "</style>\n",
       "<table border=\"1\" class=\"dataframe\">\n",
       "  <thead>\n",
       "    <tr style=\"text-align: right;\">\n",
       "      <th></th>\n",
       "      <th>number_of_children</th>\n",
       "      <th>days_employed</th>\n",
       "      <th>debtor_age</th>\n",
       "      <th>education_type</th>\n",
       "      <th>education_type_id</th>\n",
       "      <th>family_status_type</th>\n",
       "      <th>family_status_type_id</th>\n",
       "      <th>gender</th>\n",
       "      <th>job_type</th>\n",
       "      <th>debt_problems</th>\n",
       "      <th>month_income</th>\n",
       "      <th>purpose_of_credit</th>\n",
       "      <th>years_employed</th>\n",
       "    </tr>\n",
       "  </thead>\n",
       "  <tbody>\n",
       "    <tr>\n",
       "      <td>4</td>\n",
       "      <td>0</td>\n",
       "      <td>340266.072047</td>\n",
       "      <td>53</td>\n",
       "      <td>среднее</td>\n",
       "      <td>1</td>\n",
       "      <td>гражданский брак</td>\n",
       "      <td>1</td>\n",
       "      <td>F</td>\n",
       "      <td>пенсионер</td>\n",
       "      <td>0</td>\n",
       "      <td>158616.077870</td>\n",
       "      <td>сыграть свадьбу</td>\n",
       "      <td>932.235814</td>\n",
       "    </tr>\n",
       "    <tr>\n",
       "      <td>12</td>\n",
       "      <td>0</td>\n",
       "      <td>365232.442222</td>\n",
       "      <td>65</td>\n",
       "      <td>среднее</td>\n",
       "      <td>1</td>\n",
       "      <td>гражданский брак</td>\n",
       "      <td>1</td>\n",
       "      <td>M</td>\n",
       "      <td>пенсионер</td>\n",
       "      <td>0</td>\n",
       "      <td>114483.373934</td>\n",
       "      <td>сыграть свадьбу</td>\n",
       "      <td>1000.636828</td>\n",
       "    </tr>\n",
       "    <tr>\n",
       "      <td>18</td>\n",
       "      <td>0</td>\n",
       "      <td>400281.136913</td>\n",
       "      <td>53</td>\n",
       "      <td>среднее</td>\n",
       "      <td>1</td>\n",
       "      <td>вдовец / вдова</td>\n",
       "      <td>2</td>\n",
       "      <td>F</td>\n",
       "      <td>пенсионер</td>\n",
       "      <td>0</td>\n",
       "      <td>56823.777243</td>\n",
       "      <td>на покупку подержанного автомобиля</td>\n",
       "      <td>1096.660649</td>\n",
       "    </tr>\n",
       "    <tr>\n",
       "      <td>24</td>\n",
       "      <td>1</td>\n",
       "      <td>338551.952911</td>\n",
       "      <td>57</td>\n",
       "      <td>среднее</td>\n",
       "      <td>1</td>\n",
       "      <td>Не женат / не замужем</td>\n",
       "      <td>4</td>\n",
       "      <td>F</td>\n",
       "      <td>пенсионер</td>\n",
       "      <td>0</td>\n",
       "      <td>290547.235997</td>\n",
       "      <td>операции с коммерческой недвижимостью</td>\n",
       "      <td>927.539597</td>\n",
       "    </tr>\n",
       "    <tr>\n",
       "      <td>25</td>\n",
       "      <td>0</td>\n",
       "      <td>363548.489348</td>\n",
       "      <td>67</td>\n",
       "      <td>среднее</td>\n",
       "      <td>1</td>\n",
       "      <td>женат / замужем</td>\n",
       "      <td>0</td>\n",
       "      <td>M</td>\n",
       "      <td>пенсионер</td>\n",
       "      <td>0</td>\n",
       "      <td>55112.757732</td>\n",
       "      <td>покупка недвижимости</td>\n",
       "      <td>996.023258</td>\n",
       "    </tr>\n",
       "    <tr>\n",
       "      <td>...</td>\n",
       "      <td>...</td>\n",
       "      <td>...</td>\n",
       "      <td>...</td>\n",
       "      <td>...</td>\n",
       "      <td>...</td>\n",
       "      <td>...</td>\n",
       "      <td>...</td>\n",
       "      <td>...</td>\n",
       "      <td>...</td>\n",
       "      <td>...</td>\n",
       "      <td>...</td>\n",
       "      <td>...</td>\n",
       "      <td>...</td>\n",
       "    </tr>\n",
       "    <tr>\n",
       "      <td>21505</td>\n",
       "      <td>0</td>\n",
       "      <td>338904.866406</td>\n",
       "      <td>53</td>\n",
       "      <td>среднее</td>\n",
       "      <td>1</td>\n",
       "      <td>гражданский брак</td>\n",
       "      <td>1</td>\n",
       "      <td>M</td>\n",
       "      <td>пенсионер</td>\n",
       "      <td>0</td>\n",
       "      <td>75439.993167</td>\n",
       "      <td>сыграть свадьбу</td>\n",
       "      <td>928.506483</td>\n",
       "    </tr>\n",
       "    <tr>\n",
       "      <td>21508</td>\n",
       "      <td>0</td>\n",
       "      <td>386497.714078</td>\n",
       "      <td>62</td>\n",
       "      <td>среднее</td>\n",
       "      <td>1</td>\n",
       "      <td>женат / замужем</td>\n",
       "      <td>0</td>\n",
       "      <td>M</td>\n",
       "      <td>пенсионер</td>\n",
       "      <td>0</td>\n",
       "      <td>72638.590915</td>\n",
       "      <td>недвижимость</td>\n",
       "      <td>1058.897847</td>\n",
       "    </tr>\n",
       "    <tr>\n",
       "      <td>21509</td>\n",
       "      <td>0</td>\n",
       "      <td>362161.054124</td>\n",
       "      <td>59</td>\n",
       "      <td>высшее</td>\n",
       "      <td>0</td>\n",
       "      <td>женат / замужем</td>\n",
       "      <td>0</td>\n",
       "      <td>M</td>\n",
       "      <td>пенсионер</td>\n",
       "      <td>0</td>\n",
       "      <td>73029.059379</td>\n",
       "      <td>операции с недвижимостью</td>\n",
       "      <td>992.222066</td>\n",
       "    </tr>\n",
       "    <tr>\n",
       "      <td>21518</td>\n",
       "      <td>0</td>\n",
       "      <td>373995.710838</td>\n",
       "      <td>59</td>\n",
       "      <td>СРЕДНЕЕ</td>\n",
       "      <td>1</td>\n",
       "      <td>женат / замужем</td>\n",
       "      <td>0</td>\n",
       "      <td>F</td>\n",
       "      <td>пенсионер</td>\n",
       "      <td>0</td>\n",
       "      <td>153864.650328</td>\n",
       "      <td>сделка с автомобилем</td>\n",
       "      <td>1024.645783</td>\n",
       "    </tr>\n",
       "    <tr>\n",
       "      <td>21521</td>\n",
       "      <td>0</td>\n",
       "      <td>343937.404131</td>\n",
       "      <td>67</td>\n",
       "      <td>среднее</td>\n",
       "      <td>1</td>\n",
       "      <td>женат / замужем</td>\n",
       "      <td>0</td>\n",
       "      <td>F</td>\n",
       "      <td>пенсионер</td>\n",
       "      <td>0</td>\n",
       "      <td>155999.806512</td>\n",
       "      <td>сделка с автомобилем</td>\n",
       "      <td>942.294258</td>\n",
       "    </tr>\n",
       "  </tbody>\n",
       "</table>\n",
       "<p>3858 rows × 13 columns</p>\n",
       "</div>"
      ],
      "text/plain": [
       "       number_of_children  days_employed  debtor_age education_type  \\\n",
       "4                       0  340266.072047          53        среднее   \n",
       "12                      0  365232.442222          65        среднее   \n",
       "18                      0  400281.136913          53        среднее   \n",
       "24                      1  338551.952911          57        среднее   \n",
       "25                      0  363548.489348          67        среднее   \n",
       "...                   ...            ...         ...            ...   \n",
       "21505                   0  338904.866406          53        среднее   \n",
       "21508                   0  386497.714078          62        среднее   \n",
       "21509                   0  362161.054124          59         высшее   \n",
       "21518                   0  373995.710838          59        СРЕДНЕЕ   \n",
       "21521                   0  343937.404131          67        среднее   \n",
       "\n",
       "       education_type_id     family_status_type  family_status_type_id gender  \\\n",
       "4                      1       гражданский брак                      1      F   \n",
       "12                     1       гражданский брак                      1      M   \n",
       "18                     1         вдовец / вдова                      2      F   \n",
       "24                     1  Не женат / не замужем                      4      F   \n",
       "25                     1        женат / замужем                      0      M   \n",
       "...                  ...                    ...                    ...    ...   \n",
       "21505                  1       гражданский брак                      1      M   \n",
       "21508                  1        женат / замужем                      0      M   \n",
       "21509                  0        женат / замужем                      0      M   \n",
       "21518                  1        женат / замужем                      0      F   \n",
       "21521                  1        женат / замужем                      0      F   \n",
       "\n",
       "        job_type  debt_problems   month_income  \\\n",
       "4      пенсионер              0  158616.077870   \n",
       "12     пенсионер              0  114483.373934   \n",
       "18     пенсионер              0   56823.777243   \n",
       "24     пенсионер              0  290547.235997   \n",
       "25     пенсионер              0   55112.757732   \n",
       "...          ...            ...            ...   \n",
       "21505  пенсионер              0   75439.993167   \n",
       "21508  пенсионер              0   72638.590915   \n",
       "21509  пенсионер              0   73029.059379   \n",
       "21518  пенсионер              0  153864.650328   \n",
       "21521  пенсионер              0  155999.806512   \n",
       "\n",
       "                           purpose_of_credit  years_employed  \n",
       "4                            сыграть свадьбу      932.235814  \n",
       "12                           сыграть свадьбу     1000.636828  \n",
       "18        на покупку подержанного автомобиля     1096.660649  \n",
       "24     операции с коммерческой недвижимостью      927.539597  \n",
       "25                      покупка недвижимости      996.023258  \n",
       "...                                      ...             ...  \n",
       "21505                        сыграть свадьбу      928.506483  \n",
       "21508                           недвижимость     1058.897847  \n",
       "21509               операции с недвижимостью      992.222066  \n",
       "21518                   сделка с автомобилем     1024.645783  \n",
       "21521                   сделка с автомобилем      942.294258  \n",
       "\n",
       "[3858 rows x 13 columns]"
      ]
     },
     "execution_count": 58,
     "metadata": {},
     "output_type": "execute_result"
    }
   ],
   "source": [
    "df[df['years_employed']>100]"
   ]
  },
  {
   "cell_type": "markdown",
   "metadata": {},
   "source": [
    "**Вывод**"
   ]
  },
  {
   "cell_type": "markdown",
   "metadata": {},
   "source": [
    "Избавились от пропусков, произвели замену пропусков используя корреляцию по имеющимся столбцам. Проанализировали проблемные места в данных."
   ]
  },
  {
   "cell_type": "markdown",
   "metadata": {},
   "source": [
    "### Замена типа данных"
   ]
  },
  {
   "cell_type": "code",
   "execution_count": 59,
   "metadata": {},
   "outputs": [
    {
     "name": "stdout",
     "output_type": "stream",
     "text": [
      "<class 'pandas.core.frame.DataFrame'>\n",
      "RangeIndex: 21525 entries, 0 to 21524\n",
      "Data columns (total 13 columns):\n",
      "number_of_children       21525 non-null int64\n",
      "days_employed            21525 non-null int64\n",
      "debtor_age               21525 non-null int64\n",
      "education_type           21525 non-null object\n",
      "education_type_id        21525 non-null int64\n",
      "family_status_type       21525 non-null object\n",
      "family_status_type_id    21525 non-null int64\n",
      "gender                   21525 non-null object\n",
      "job_type                 21525 non-null object\n",
      "debt_problems            21525 non-null int64\n",
      "month_income             21525 non-null int64\n",
      "purpose_of_credit        21525 non-null object\n",
      "years_employed           21525 non-null int64\n",
      "dtypes: int64(8), object(5)\n",
      "memory usage: 2.1+ MB\n"
     ]
    }
   ],
   "source": [
    "#заменяем тип данных для лучшей визуализации и репрезентативности\n",
    "df['days_employed'] = df['days_employed'].astype('int')\n",
    "df['years_employed'] = df['years_employed'].astype('int')\n",
    "df['month_income'] = df['month_income'].astype('int')\n",
    "\n",
    "df.info()"
   ]
  },
  {
   "cell_type": "code",
   "execution_count": 60,
   "metadata": {},
   "outputs": [
    {
     "data": {
      "text/html": [
       "<div>\n",
       "<style scoped>\n",
       "    .dataframe tbody tr th:only-of-type {\n",
       "        vertical-align: middle;\n",
       "    }\n",
       "\n",
       "    .dataframe tbody tr th {\n",
       "        vertical-align: top;\n",
       "    }\n",
       "\n",
       "    .dataframe thead th {\n",
       "        text-align: right;\n",
       "    }\n",
       "</style>\n",
       "<table border=\"1\" class=\"dataframe\">\n",
       "  <thead>\n",
       "    <tr style=\"text-align: right;\">\n",
       "      <th></th>\n",
       "      <th>number_of_children</th>\n",
       "      <th>days_employed</th>\n",
       "      <th>debtor_age</th>\n",
       "      <th>education_type</th>\n",
       "      <th>education_type_id</th>\n",
       "      <th>family_status_type</th>\n",
       "      <th>family_status_type_id</th>\n",
       "      <th>gender</th>\n",
       "      <th>job_type</th>\n",
       "      <th>debt_problems</th>\n",
       "      <th>month_income</th>\n",
       "      <th>purpose_of_credit</th>\n",
       "      <th>years_employed</th>\n",
       "    </tr>\n",
       "  </thead>\n",
       "  <tbody>\n",
       "    <tr>\n",
       "      <td>0</td>\n",
       "      <td>1</td>\n",
       "      <td>8437</td>\n",
       "      <td>42</td>\n",
       "      <td>высшее</td>\n",
       "      <td>0</td>\n",
       "      <td>женат / замужем</td>\n",
       "      <td>0</td>\n",
       "      <td>F</td>\n",
       "      <td>сотрудник</td>\n",
       "      <td>0</td>\n",
       "      <td>253875</td>\n",
       "      <td>покупка жилья</td>\n",
       "      <td>23</td>\n",
       "    </tr>\n",
       "    <tr>\n",
       "      <td>1</td>\n",
       "      <td>1</td>\n",
       "      <td>4024</td>\n",
       "      <td>36</td>\n",
       "      <td>среднее</td>\n",
       "      <td>1</td>\n",
       "      <td>женат / замужем</td>\n",
       "      <td>0</td>\n",
       "      <td>F</td>\n",
       "      <td>сотрудник</td>\n",
       "      <td>0</td>\n",
       "      <td>112080</td>\n",
       "      <td>приобретение автомобиля</td>\n",
       "      <td>11</td>\n",
       "    </tr>\n",
       "    <tr>\n",
       "      <td>2</td>\n",
       "      <td>0</td>\n",
       "      <td>5623</td>\n",
       "      <td>33</td>\n",
       "      <td>Среднее</td>\n",
       "      <td>1</td>\n",
       "      <td>женат / замужем</td>\n",
       "      <td>0</td>\n",
       "      <td>M</td>\n",
       "      <td>сотрудник</td>\n",
       "      <td>0</td>\n",
       "      <td>145885</td>\n",
       "      <td>покупка жилья</td>\n",
       "      <td>15</td>\n",
       "    </tr>\n",
       "    <tr>\n",
       "      <td>3</td>\n",
       "      <td>3</td>\n",
       "      <td>4124</td>\n",
       "      <td>32</td>\n",
       "      <td>среднее</td>\n",
       "      <td>1</td>\n",
       "      <td>женат / замужем</td>\n",
       "      <td>0</td>\n",
       "      <td>M</td>\n",
       "      <td>сотрудник</td>\n",
       "      <td>0</td>\n",
       "      <td>267628</td>\n",
       "      <td>дополнительное образование</td>\n",
       "      <td>11</td>\n",
       "    </tr>\n",
       "    <tr>\n",
       "      <td>4</td>\n",
       "      <td>0</td>\n",
       "      <td>340266</td>\n",
       "      <td>53</td>\n",
       "      <td>среднее</td>\n",
       "      <td>1</td>\n",
       "      <td>гражданский брак</td>\n",
       "      <td>1</td>\n",
       "      <td>F</td>\n",
       "      <td>пенсионер</td>\n",
       "      <td>0</td>\n",
       "      <td>158616</td>\n",
       "      <td>сыграть свадьбу</td>\n",
       "      <td>932</td>\n",
       "    </tr>\n",
       "  </tbody>\n",
       "</table>\n",
       "</div>"
      ],
      "text/plain": [
       "   number_of_children  days_employed  debtor_age education_type  \\\n",
       "0                   1           8437          42         высшее   \n",
       "1                   1           4024          36        среднее   \n",
       "2                   0           5623          33        Среднее   \n",
       "3                   3           4124          32        среднее   \n",
       "4                   0         340266          53        среднее   \n",
       "\n",
       "   education_type_id family_status_type  family_status_type_id gender  \\\n",
       "0                  0    женат / замужем                      0      F   \n",
       "1                  1    женат / замужем                      0      F   \n",
       "2                  1    женат / замужем                      0      M   \n",
       "3                  1    женат / замужем                      0      M   \n",
       "4                  1   гражданский брак                      1      F   \n",
       "\n",
       "    job_type  debt_problems  month_income           purpose_of_credit  \\\n",
       "0  сотрудник              0        253875               покупка жилья   \n",
       "1  сотрудник              0        112080     приобретение автомобиля   \n",
       "2  сотрудник              0        145885               покупка жилья   \n",
       "3  сотрудник              0        267628  дополнительное образование   \n",
       "4  пенсионер              0        158616             сыграть свадьбу   \n",
       "\n",
       "   years_employed  \n",
       "0              23  \n",
       "1              11  \n",
       "2              15  \n",
       "3              11  \n",
       "4             932  "
      ]
     },
     "execution_count": 60,
     "metadata": {},
     "output_type": "execute_result"
    }
   ],
   "source": [
    "df.head()"
   ]
  },
  {
   "cell_type": "markdown",
   "metadata": {},
   "source": [
    "**Вывод**"
   ]
  },
  {
   "cell_type": "markdown",
   "metadata": {},
   "source": [
    "Преобразовали тип данных для трудового стажа и дохода в целочисленный формат методом .astype. "
   ]
  },
  {
   "cell_type": "markdown",
   "metadata": {},
   "source": [
    "### Обработка дубликатов"
   ]
  },
  {
   "cell_type": "code",
   "execution_count": 61,
   "metadata": {},
   "outputs": [
    {
     "data": {
      "text/plain": [
       "array(['высшее', 'среднее', 'Среднее', 'СРЕДНЕЕ', 'ВЫСШЕЕ',\n",
       "       'неоконченное высшее', 'начальное', 'Высшее',\n",
       "       'НЕОКОНЧЕННОЕ ВЫСШЕЕ', 'Неоконченное высшее', 'НАЧАЛЬНОЕ',\n",
       "       'Начальное', 'Ученая степень', 'УЧЕНАЯ СТЕПЕНЬ', 'ученая степень'],\n",
       "      dtype=object)"
      ]
     },
     "execution_count": 61,
     "metadata": {},
     "output_type": "execute_result"
    }
   ],
   "source": [
    "#проверяем уникальные значения для education_type, family_status_type, job_type, purpose_of_credit для анализа проблем с регистрами.\n",
    "df['education_type'].unique()"
   ]
  },
  {
   "cell_type": "code",
   "execution_count": 62,
   "metadata": {},
   "outputs": [
    {
     "data": {
      "text/plain": [
       "array(['женат / замужем', 'гражданский брак', 'вдовец / вдова',\n",
       "       'в разводе', 'Не женат / не замужем'], dtype=object)"
      ]
     },
     "execution_count": 62,
     "metadata": {},
     "output_type": "execute_result"
    }
   ],
   "source": [
    "df['family_status_type'].unique()"
   ]
  },
  {
   "cell_type": "code",
   "execution_count": 63,
   "metadata": {},
   "outputs": [
    {
     "data": {
      "text/plain": [
       "array(['сотрудник', 'пенсионер', 'компаньон', 'госслужащий',\n",
       "       'безработный', 'предприниматель', 'студент', 'в декрете'],\n",
       "      dtype=object)"
      ]
     },
     "execution_count": 63,
     "metadata": {},
     "output_type": "execute_result"
    }
   ],
   "source": [
    "df['job_type'].unique()"
   ]
  },
  {
   "cell_type": "code",
   "execution_count": 64,
   "metadata": {},
   "outputs": [
    {
     "data": {
      "text/plain": [
       "array(['покупка жилья', 'приобретение автомобиля',\n",
       "       'дополнительное образование', 'сыграть свадьбу',\n",
       "       'операции с жильем', 'образование', 'на проведение свадьбы',\n",
       "       'покупка жилья для семьи', 'покупка недвижимости',\n",
       "       'покупка коммерческой недвижимости', 'покупка жилой недвижимости',\n",
       "       'строительство собственной недвижимости', 'недвижимость',\n",
       "       'строительство недвижимости', 'на покупку подержанного автомобиля',\n",
       "       'на покупку своего автомобиля',\n",
       "       'операции с коммерческой недвижимостью',\n",
       "       'строительство жилой недвижимости', 'жилье',\n",
       "       'операции со своей недвижимостью', 'автомобили',\n",
       "       'заняться образованием', 'сделка с подержанным автомобилем',\n",
       "       'получение образования', 'автомобиль', 'свадьба',\n",
       "       'получение дополнительного образования', 'покупка своего жилья',\n",
       "       'операции с недвижимостью', 'получение высшего образования',\n",
       "       'свой автомобиль', 'сделка с автомобилем',\n",
       "       'профильное образование', 'высшее образование',\n",
       "       'покупка жилья для сдачи', 'на покупку автомобиля', 'ремонт жилью',\n",
       "       'заняться высшим образованием'], dtype=object)"
      ]
     },
     "execution_count": 64,
     "metadata": {},
     "output_type": "execute_result"
    }
   ],
   "source": [
    "df['purpose_of_credit'].unique()"
   ]
  },
  {
   "cell_type": "markdown",
   "metadata": {},
   "source": [
    "До удаления дубликатов необходимо привести буквы колонки education к нижнему регистру."
   ]
  },
  {
   "cell_type": "code",
   "execution_count": 65,
   "metadata": {},
   "outputs": [],
   "source": [
    "df['education_type'] = df['education_type'].str.lower()"
   ]
  },
  {
   "cell_type": "code",
   "execution_count": 66,
   "metadata": {},
   "outputs": [
    {
     "data": {
      "text/plain": [
       "54"
      ]
     },
     "execution_count": 66,
     "metadata": {},
     "output_type": "execute_result"
    }
   ],
   "source": [
    "df.duplicated().sum()"
   ]
  },
  {
   "cell_type": "code",
   "execution_count": 67,
   "metadata": {},
   "outputs": [
    {
     "data": {
      "text/plain": [
       "0"
      ]
     },
     "execution_count": 67,
     "metadata": {},
     "output_type": "execute_result"
    }
   ],
   "source": [
    "df = df.drop_duplicates().reset_index(drop=True)\n",
    "df.duplicated().sum()"
   ]
  },
  {
   "cell_type": "markdown",
   "metadata": {},
   "source": [
    "**Вывод**"
   ]
  },
  {
   "cell_type": "markdown",
   "metadata": {},
   "source": [
    "Привели категориальные данные типов образования к нижнему регистру. Удалили дубликаты. Перепроверили результат. Дубликаты могут возникать вследствии отсутствия системы валидации на приемном сервере."
   ]
  },
  {
   "cell_type": "markdown",
   "metadata": {},
   "source": [
    "### Лемматизация"
   ]
  },
  {
   "cell_type": "code",
   "execution_count": 68,
   "metadata": {},
   "outputs": [],
   "source": [
    "from pymystem3 import Mystem\n",
    "from collections import Counter\n",
    "\n",
    "m = Mystem()"
   ]
  },
  {
   "cell_type": "code",
   "execution_count": 69,
   "metadata": {},
   "outputs": [
    {
     "data": {
      "text/plain": [
       "'покупка жилья, приобретение автомобиля, дополнительное образование, сыграть свадьбу, операции с жильем, образование, на проведение свадьбы, покупка жилья для семьи, покупка недвижимости, покупка коммерческой недвижимости, покупка жилой недвижимости, строительство собственной недвижимости, недвижимость, строительство недвижимости, на покупку подержанного автомобиля, на покупку своего автомобиля, операции с коммерческой недвижимостью, строительство жилой недвижимости, жилье, операции со своей недвижимостью, автомобили, заняться образованием, сделка с подержанным автомобилем, получение образования, автомобиль, свадьба, получение дополнительного образования, покупка своего жилья, операции с недвижимостью, получение высшего образования, свой автомобиль, сделка с автомобилем, профильное образование, высшее образование, покупка жилья для сдачи, на покупку автомобиля, ремонт жилью, заняться высшим образованием'"
      ]
     },
     "execution_count": 69,
     "metadata": {},
     "output_type": "execute_result"
    }
   ],
   "source": [
    "credit_reasons = df['purpose_of_credit'].unique()\n",
    "credit_reasons_string = ', '.join(credit_reasons)\n",
    "credit_reasons_string"
   ]
  },
  {
   "cell_type": "code",
   "execution_count": 70,
   "metadata": {},
   "outputs": [
    {
     "name": "stdout",
     "output_type": "stream",
     "text": [
      "Counter({'недвижимость': 6353, 'покупка': 5900, 'жилье': 4461, 'автомобиль': 4308, 'образование': 4014, 'с': 2918, 'операция': 2604, 'свадьба': 2335, 'свой': 2231, 'на': 2228, 'строительство': 1879, 'высокий': 1374, 'получение': 1315, 'коммерческий': 1312, 'для': 1290, 'жилой': 1231, 'сделка': 941, 'дополнительный': 907, 'заниматься': 904, 'проведение': 773, 'сыграть': 769, 'сдача': 652, 'семья': 638, 'собственный': 635, 'со': 627, 'ремонт': 607, 'подержанный': 486, 'подержать': 478, 'приобретение': 461, 'профильный': 436})\n"
     ]
    }
   ],
   "source": [
    "#посмотрим на самые популярные цели кредита среди запросов\n",
    "top_purposes = []\n",
    "for purpose in df['purpose_of_credit']:\n",
    "    lemma = m.lemmatize(purpose)\n",
    "    for word in lemma:\n",
    "        if word != \" \" and word != '\\n':\n",
    "            top_purposes.append(word)\n",
    "print(Counter(top_purposes))\n"
   ]
  },
  {
   "cell_type": "code",
   "execution_count": 71,
   "metadata": {},
   "outputs": [
    {
     "name": "stdout",
     "output_type": "stream",
     "text": [
      "Counter({'автомобиль': 1451, 'операция недвижимость': 1302, 'покупка жилье': 1266, 'покупка автомобиль': 977, 'свадьба': 793, 'проведение свадьба': 773, 'сыграть свадьба': 769, 'покупка коммерческий недвижимость': 662, 'операция жилье': 652, 'покупка жилье сдача': 652, 'операция коммерческий недвижимость': 650, 'жилье': 646, 'покупка жилье семья': 638, 'строительство собственный недвижимость': 635, 'недвижимость': 633, 'строительство жилой недвижимость': 625, 'покупка недвижимость': 621, 'строительство недвижимость': 619, 'ремонт жилье': 607, 'покупка жилой недвижимость': 606, 'заниматься высокий образование': 496, 'сделка подержанный автомобиль': 486, 'покупка подержать автомобиль': 478, 'приобретение автомобиль': 461, 'дополнительный образование': 460, 'сделка автомобиль': 455, 'высокий образование': 452, 'образование': 447, 'получение дополнительный образование': 447, 'получение образование': 442, 'профильный образование': 436, 'получение высокий образование': 426, 'заниматься образование': 408})\n"
     ]
    }
   ],
   "source": [
    "# Код ревьюера\n",
    "\n",
    "stop_words = ['с','для','на','свой',' ', '\\n','со']\n",
    "top_purposes_demo = []\n",
    "for purpose in df['purpose_of_credit']:\n",
    "    lemma = ' '.join(filter(lambda x : x not in stop_words,m.lemmatize(purpose)))\n",
    "    top_purposes_demo.append(lemma)\n",
    "    \n",
    "print(Counter(top_purposes_demo))"
   ]
  },
  {
   "cell_type": "markdown",
   "metadata": {},
   "source": [
    "**Вывод**"
   ]
  },
  {
   "cell_type": "markdown",
   "metadata": {},
   "source": [
    "Самые популярные цели кредита: недвижимость, жилье, автомобиль, образование."
   ]
  },
  {
   "cell_type": "markdown",
   "metadata": {},
   "source": [
    "### Категоризация данных"
   ]
  },
  {
   "cell_type": "markdown",
   "metadata": {},
   "source": [
    "Категоризацию проведем с выделение групп для ответа на поставленные вопросы в пункте 3 (по количеству детей, по уровню дохода, по целям кредита). Напишем 3 функции категоризации и используем метод apply."
   ]
  },
  {
   "cell_type": "code",
   "execution_count": 72,
   "metadata": {},
   "outputs": [
    {
     "data": {
      "text/plain": [
       "array([0, 1, 2, 3, 4, 5])"
      ]
     },
     "execution_count": 72,
     "metadata": {},
     "output_type": "execute_result"
    }
   ],
   "source": [
    "np.sort(df['number_of_children'].unique())"
   ]
  },
  {
   "cell_type": "code",
   "execution_count": 73,
   "metadata": {},
   "outputs": [],
   "source": [
    "def get_children_group(number_of_children):\n",
    "    children_groups = {\n",
    "        0 : 'бездетная семья',\n",
    "        1 : 'однодетная семья',\n",
    "        2 : 'двухдетная семья'\n",
    "    }\n",
    "    return children_groups.get(number_of_children, 'многодетная семья')"
   ]
  },
  {
   "cell_type": "code",
   "execution_count": 74,
   "metadata": {},
   "outputs": [
    {
     "data": {
      "text/plain": [
       "0.25    107520.0\n",
       "0.50    143206.0\n",
       "0.75    198251.5\n",
       "Name: month_income, dtype: float64"
      ]
     },
     "execution_count": 74,
     "metadata": {},
     "output_type": "execute_result"
    }
   ],
   "source": [
    "df['month_income'].quantile([0.25, 0.5, 0.75])"
   ]
  },
  {
   "cell_type": "code",
   "execution_count": 75,
   "metadata": {},
   "outputs": [],
   "source": [
    "def get_income_group(income):\n",
    "    if income < 107520.0:\n",
    "        return \"Низкий доход\"\n",
    "    elif income < 143206.0:\n",
    "        return \"Средний доход\"\n",
    "    elif income < 198251.5:\n",
    "        return \"Высокий доход\"\n",
    "    return \"Сверхвысокий доход\""
   ]
  },
  {
   "cell_type": "code",
   "execution_count": 76,
   "metadata": {},
   "outputs": [
    {
     "data": {
      "text/plain": [
       "0        (198251.5, 2265604.0]\n",
       "1         (107520.0, 143206.0]\n",
       "2         (143206.0, 198251.5]\n",
       "3        (198251.5, 2265604.0]\n",
       "4         (143206.0, 198251.5]\n",
       "                 ...          \n",
       "21466    (198251.5, 2265604.0]\n",
       "21467     (143206.0, 198251.5]\n",
       "21468    (20666.999, 107520.0]\n",
       "21469    (198251.5, 2265604.0]\n",
       "21470    (20666.999, 107520.0]\n",
       "Name: month_income, Length: 21471, dtype: category\n",
       "Categories (4, interval[float64]): [(20666.999, 107520.0] < (107520.0, 143206.0] < (143206.0, 198251.5] < (198251.5, 2265604.0]]"
      ]
     },
     "execution_count": 76,
     "metadata": {},
     "output_type": "execute_result"
    }
   ],
   "source": [
    "pd.qcut(df['month_income'], 4)"
   ]
  },
  {
   "cell_type": "code",
   "execution_count": 77,
   "metadata": {},
   "outputs": [],
   "source": [
    "#напишем функцию для определения цели кредита по найденному топ-списку целей\n",
    "def get_reason_group(reason):\n",
    "    if 'недвиж' in reason:\n",
    "        return \"Недвижимость\"\n",
    "    elif 'жиль' in reason:\n",
    "        return \"Жилье\"\n",
    "    elif 'авто' in reason:\n",
    "        return \"Автомобиль\"\n",
    "    elif 'образ' in reason:\n",
    "        return \"Образование\"\n",
    "    return \"Остальное\""
   ]
  },
  {
   "cell_type": "code",
   "execution_count": 78,
   "metadata": {},
   "outputs": [
    {
     "data": {
      "text/html": [
       "<div>\n",
       "<style scoped>\n",
       "    .dataframe tbody tr th:only-of-type {\n",
       "        vertical-align: middle;\n",
       "    }\n",
       "\n",
       "    .dataframe tbody tr th {\n",
       "        vertical-align: top;\n",
       "    }\n",
       "\n",
       "    .dataframe thead th {\n",
       "        text-align: right;\n",
       "    }\n",
       "</style>\n",
       "<table border=\"1\" class=\"dataframe\">\n",
       "  <thead>\n",
       "    <tr style=\"text-align: right;\">\n",
       "      <th></th>\n",
       "      <th>number_of_children</th>\n",
       "      <th>days_employed</th>\n",
       "      <th>debtor_age</th>\n",
       "      <th>education_type</th>\n",
       "      <th>education_type_id</th>\n",
       "      <th>family_status_type</th>\n",
       "      <th>family_status_type_id</th>\n",
       "      <th>gender</th>\n",
       "      <th>job_type</th>\n",
       "      <th>debt_problems</th>\n",
       "      <th>month_income</th>\n",
       "      <th>purpose_of_credit</th>\n",
       "      <th>years_employed</th>\n",
       "      <th>number_of_children_group</th>\n",
       "      <th>month_income_group</th>\n",
       "      <th>credit_purpose_group</th>\n",
       "    </tr>\n",
       "  </thead>\n",
       "  <tbody>\n",
       "    <tr>\n",
       "      <td>0</td>\n",
       "      <td>1</td>\n",
       "      <td>8437</td>\n",
       "      <td>42</td>\n",
       "      <td>высшее</td>\n",
       "      <td>0</td>\n",
       "      <td>женат / замужем</td>\n",
       "      <td>0</td>\n",
       "      <td>F</td>\n",
       "      <td>сотрудник</td>\n",
       "      <td>0</td>\n",
       "      <td>253875</td>\n",
       "      <td>покупка жилья</td>\n",
       "      <td>23</td>\n",
       "      <td>однодетная семья</td>\n",
       "      <td>Сверхвысокий доход</td>\n",
       "      <td>Жилье</td>\n",
       "    </tr>\n",
       "    <tr>\n",
       "      <td>1</td>\n",
       "      <td>1</td>\n",
       "      <td>4024</td>\n",
       "      <td>36</td>\n",
       "      <td>среднее</td>\n",
       "      <td>1</td>\n",
       "      <td>женат / замужем</td>\n",
       "      <td>0</td>\n",
       "      <td>F</td>\n",
       "      <td>сотрудник</td>\n",
       "      <td>0</td>\n",
       "      <td>112080</td>\n",
       "      <td>приобретение автомобиля</td>\n",
       "      <td>11</td>\n",
       "      <td>однодетная семья</td>\n",
       "      <td>Средний доход</td>\n",
       "      <td>Автомобиль</td>\n",
       "    </tr>\n",
       "    <tr>\n",
       "      <td>2</td>\n",
       "      <td>0</td>\n",
       "      <td>5623</td>\n",
       "      <td>33</td>\n",
       "      <td>среднее</td>\n",
       "      <td>1</td>\n",
       "      <td>женат / замужем</td>\n",
       "      <td>0</td>\n",
       "      <td>M</td>\n",
       "      <td>сотрудник</td>\n",
       "      <td>0</td>\n",
       "      <td>145885</td>\n",
       "      <td>покупка жилья</td>\n",
       "      <td>15</td>\n",
       "      <td>бездетная семья</td>\n",
       "      <td>Высокий доход</td>\n",
       "      <td>Жилье</td>\n",
       "    </tr>\n",
       "    <tr>\n",
       "      <td>3</td>\n",
       "      <td>3</td>\n",
       "      <td>4124</td>\n",
       "      <td>32</td>\n",
       "      <td>среднее</td>\n",
       "      <td>1</td>\n",
       "      <td>женат / замужем</td>\n",
       "      <td>0</td>\n",
       "      <td>M</td>\n",
       "      <td>сотрудник</td>\n",
       "      <td>0</td>\n",
       "      <td>267628</td>\n",
       "      <td>дополнительное образование</td>\n",
       "      <td>11</td>\n",
       "      <td>многодетная семья</td>\n",
       "      <td>Сверхвысокий доход</td>\n",
       "      <td>Образование</td>\n",
       "    </tr>\n",
       "    <tr>\n",
       "      <td>4</td>\n",
       "      <td>0</td>\n",
       "      <td>340266</td>\n",
       "      <td>53</td>\n",
       "      <td>среднее</td>\n",
       "      <td>1</td>\n",
       "      <td>гражданский брак</td>\n",
       "      <td>1</td>\n",
       "      <td>F</td>\n",
       "      <td>пенсионер</td>\n",
       "      <td>0</td>\n",
       "      <td>158616</td>\n",
       "      <td>сыграть свадьбу</td>\n",
       "      <td>932</td>\n",
       "      <td>бездетная семья</td>\n",
       "      <td>Высокий доход</td>\n",
       "      <td>Остальное</td>\n",
       "    </tr>\n",
       "    <tr>\n",
       "      <td>...</td>\n",
       "      <td>...</td>\n",
       "      <td>...</td>\n",
       "      <td>...</td>\n",
       "      <td>...</td>\n",
       "      <td>...</td>\n",
       "      <td>...</td>\n",
       "      <td>...</td>\n",
       "      <td>...</td>\n",
       "      <td>...</td>\n",
       "      <td>...</td>\n",
       "      <td>...</td>\n",
       "      <td>...</td>\n",
       "      <td>...</td>\n",
       "      <td>...</td>\n",
       "      <td>...</td>\n",
       "      <td>...</td>\n",
       "    </tr>\n",
       "    <tr>\n",
       "      <td>21466</td>\n",
       "      <td>1</td>\n",
       "      <td>4529</td>\n",
       "      <td>43</td>\n",
       "      <td>среднее</td>\n",
       "      <td>1</td>\n",
       "      <td>гражданский брак</td>\n",
       "      <td>1</td>\n",
       "      <td>F</td>\n",
       "      <td>компаньон</td>\n",
       "      <td>0</td>\n",
       "      <td>224791</td>\n",
       "      <td>операции с жильем</td>\n",
       "      <td>12</td>\n",
       "      <td>однодетная семья</td>\n",
       "      <td>Сверхвысокий доход</td>\n",
       "      <td>Жилье</td>\n",
       "    </tr>\n",
       "    <tr>\n",
       "      <td>21467</td>\n",
       "      <td>0</td>\n",
       "      <td>343937</td>\n",
       "      <td>67</td>\n",
       "      <td>среднее</td>\n",
       "      <td>1</td>\n",
       "      <td>женат / замужем</td>\n",
       "      <td>0</td>\n",
       "      <td>F</td>\n",
       "      <td>пенсионер</td>\n",
       "      <td>0</td>\n",
       "      <td>155999</td>\n",
       "      <td>сделка с автомобилем</td>\n",
       "      <td>942</td>\n",
       "      <td>бездетная семья</td>\n",
       "      <td>Высокий доход</td>\n",
       "      <td>Автомобиль</td>\n",
       "    </tr>\n",
       "    <tr>\n",
       "      <td>21468</td>\n",
       "      <td>1</td>\n",
       "      <td>2113</td>\n",
       "      <td>38</td>\n",
       "      <td>среднее</td>\n",
       "      <td>1</td>\n",
       "      <td>гражданский брак</td>\n",
       "      <td>1</td>\n",
       "      <td>M</td>\n",
       "      <td>сотрудник</td>\n",
       "      <td>1</td>\n",
       "      <td>89672</td>\n",
       "      <td>недвижимость</td>\n",
       "      <td>5</td>\n",
       "      <td>однодетная семья</td>\n",
       "      <td>Низкий доход</td>\n",
       "      <td>Недвижимость</td>\n",
       "    </tr>\n",
       "    <tr>\n",
       "      <td>21469</td>\n",
       "      <td>3</td>\n",
       "      <td>3112</td>\n",
       "      <td>38</td>\n",
       "      <td>среднее</td>\n",
       "      <td>1</td>\n",
       "      <td>женат / замужем</td>\n",
       "      <td>0</td>\n",
       "      <td>M</td>\n",
       "      <td>сотрудник</td>\n",
       "      <td>1</td>\n",
       "      <td>244093</td>\n",
       "      <td>на покупку своего автомобиля</td>\n",
       "      <td>8</td>\n",
       "      <td>многодетная семья</td>\n",
       "      <td>Сверхвысокий доход</td>\n",
       "      <td>Автомобиль</td>\n",
       "    </tr>\n",
       "    <tr>\n",
       "      <td>21470</td>\n",
       "      <td>2</td>\n",
       "      <td>1984</td>\n",
       "      <td>40</td>\n",
       "      <td>среднее</td>\n",
       "      <td>1</td>\n",
       "      <td>женат / замужем</td>\n",
       "      <td>0</td>\n",
       "      <td>F</td>\n",
       "      <td>сотрудник</td>\n",
       "      <td>0</td>\n",
       "      <td>82047</td>\n",
       "      <td>на покупку автомобиля</td>\n",
       "      <td>5</td>\n",
       "      <td>двухдетная семья</td>\n",
       "      <td>Низкий доход</td>\n",
       "      <td>Автомобиль</td>\n",
       "    </tr>\n",
       "  </tbody>\n",
       "</table>\n",
       "<p>21471 rows × 16 columns</p>\n",
       "</div>"
      ],
      "text/plain": [
       "       number_of_children  days_employed  debtor_age education_type  \\\n",
       "0                       1           8437          42         высшее   \n",
       "1                       1           4024          36        среднее   \n",
       "2                       0           5623          33        среднее   \n",
       "3                       3           4124          32        среднее   \n",
       "4                       0         340266          53        среднее   \n",
       "...                   ...            ...         ...            ...   \n",
       "21466                   1           4529          43        среднее   \n",
       "21467                   0         343937          67        среднее   \n",
       "21468                   1           2113          38        среднее   \n",
       "21469                   3           3112          38        среднее   \n",
       "21470                   2           1984          40        среднее   \n",
       "\n",
       "       education_type_id family_status_type  family_status_type_id gender  \\\n",
       "0                      0    женат / замужем                      0      F   \n",
       "1                      1    женат / замужем                      0      F   \n",
       "2                      1    женат / замужем                      0      M   \n",
       "3                      1    женат / замужем                      0      M   \n",
       "4                      1   гражданский брак                      1      F   \n",
       "...                  ...                ...                    ...    ...   \n",
       "21466                  1   гражданский брак                      1      F   \n",
       "21467                  1    женат / замужем                      0      F   \n",
       "21468                  1   гражданский брак                      1      M   \n",
       "21469                  1    женат / замужем                      0      M   \n",
       "21470                  1    женат / замужем                      0      F   \n",
       "\n",
       "        job_type  debt_problems  month_income             purpose_of_credit  \\\n",
       "0      сотрудник              0        253875                 покупка жилья   \n",
       "1      сотрудник              0        112080       приобретение автомобиля   \n",
       "2      сотрудник              0        145885                 покупка жилья   \n",
       "3      сотрудник              0        267628    дополнительное образование   \n",
       "4      пенсионер              0        158616               сыграть свадьбу   \n",
       "...          ...            ...           ...                           ...   \n",
       "21466  компаньон              0        224791             операции с жильем   \n",
       "21467  пенсионер              0        155999          сделка с автомобилем   \n",
       "21468  сотрудник              1         89672                  недвижимость   \n",
       "21469  сотрудник              1        244093  на покупку своего автомобиля   \n",
       "21470  сотрудник              0         82047         на покупку автомобиля   \n",
       "\n",
       "       years_employed number_of_children_group  month_income_group  \\\n",
       "0                  23         однодетная семья  Сверхвысокий доход   \n",
       "1                  11         однодетная семья       Средний доход   \n",
       "2                  15          бездетная семья       Высокий доход   \n",
       "3                  11        многодетная семья  Сверхвысокий доход   \n",
       "4                 932          бездетная семья       Высокий доход   \n",
       "...               ...                      ...                 ...   \n",
       "21466              12         однодетная семья  Сверхвысокий доход   \n",
       "21467             942          бездетная семья       Высокий доход   \n",
       "21468               5         однодетная семья        Низкий доход   \n",
       "21469               8        многодетная семья  Сверхвысокий доход   \n",
       "21470               5         двухдетная семья        Низкий доход   \n",
       "\n",
       "      credit_purpose_group  \n",
       "0                    Жилье  \n",
       "1               Автомобиль  \n",
       "2                    Жилье  \n",
       "3              Образование  \n",
       "4                Остальное  \n",
       "...                    ...  \n",
       "21466                Жилье  \n",
       "21467           Автомобиль  \n",
       "21468         Недвижимость  \n",
       "21469           Автомобиль  \n",
       "21470           Автомобиль  \n",
       "\n",
       "[21471 rows x 16 columns]"
      ]
     },
     "execution_count": 78,
     "metadata": {},
     "output_type": "execute_result"
    }
   ],
   "source": [
    "#создадим новые столбцы на основе написанных функций\n",
    "df['number_of_children_group'] = df['number_of_children'].apply(get_children_group)\n",
    "df['month_income_group'] = df['month_income'].apply(get_income_group)\n",
    "df['credit_purpose_group'] = df['purpose_of_credit'].apply(get_reason_group)\n",
    "df"
   ]
  },
  {
   "cell_type": "markdown",
   "metadata": {},
   "source": [
    "**Вывод**"
   ]
  },
  {
   "cell_type": "markdown",
   "metadata": {},
   "source": [
    "Произвели категоризацию данных. Проверили результат на итоговой таблице."
   ]
  },
  {
   "cell_type": "markdown",
   "metadata": {},
   "source": [
    "## Шаг 3. Ответьте на вопросы"
   ]
  },
  {
   "cell_type": "markdown",
   "metadata": {},
   "source": [
    "- Есть ли зависимость между наличием детей и возвратом кредита в срок?"
   ]
  },
  {
   "cell_type": "code",
   "execution_count": 79,
   "metadata": {},
   "outputs": [
    {
     "data": {
      "text/html": [
       "<div>\n",
       "<style scoped>\n",
       "    .dataframe tbody tr th:only-of-type {\n",
       "        vertical-align: middle;\n",
       "    }\n",
       "\n",
       "    .dataframe tbody tr th {\n",
       "        vertical-align: top;\n",
       "    }\n",
       "\n",
       "    .dataframe thead th {\n",
       "        text-align: right;\n",
       "    }\n",
       "</style>\n",
       "<table border=\"1\" class=\"dataframe\">\n",
       "  <thead>\n",
       "    <tr style=\"text-align: right;\">\n",
       "      <th></th>\n",
       "      <th>debt_problems</th>\n",
       "    </tr>\n",
       "    <tr>\n",
       "      <th>number_of_children_group</th>\n",
       "      <th></th>\n",
       "    </tr>\n",
       "  </thead>\n",
       "  <tbody>\n",
       "    <tr>\n",
       "      <td>бездетная семья</td>\n",
       "      <td>0.075353</td>\n",
       "    </tr>\n",
       "    <tr>\n",
       "      <td>двухдетная семья</td>\n",
       "      <td>0.094925</td>\n",
       "    </tr>\n",
       "    <tr>\n",
       "      <td>многодетная семья</td>\n",
       "      <td>0.081579</td>\n",
       "    </tr>\n",
       "    <tr>\n",
       "      <td>однодетная семья</td>\n",
       "      <td>0.091639</td>\n",
       "    </tr>\n",
       "  </tbody>\n",
       "</table>\n",
       "</div>"
      ],
      "text/plain": [
       "                          debt_problems\n",
       "number_of_children_group               \n",
       "бездетная семья                0.075353\n",
       "двухдетная семья               0.094925\n",
       "многодетная семья              0.081579\n",
       "однодетная семья               0.091639"
      ]
     },
     "execution_count": 79,
     "metadata": {},
     "output_type": "execute_result"
    }
   ],
   "source": [
    "pd.pivot_table(df, index = 'number_of_children_group', values = 'debt_problems')"
   ]
  },
  {
   "cell_type": "code",
   "execution_count": 80,
   "metadata": {},
   "outputs": [
    {
     "data": {
      "text/plain": [
       "0    14107\n",
       "1     4856\n",
       "2     2128\n",
       "3      330\n",
       "4       41\n",
       "5        9\n",
       "Name: number_of_children, dtype: int64"
      ]
     },
     "execution_count": 80,
     "metadata": {},
     "output_type": "execute_result"
    }
   ],
   "source": [
    "df['number_of_children'].value_counts()"
   ]
  },
  {
   "cell_type": "markdown",
   "metadata": {},
   "source": [
    "**Вывод**"
   ]
  },
  {
   "cell_type": "markdown",
   "metadata": {},
   "source": [
    "Минимальный процент невозврата у бездетных семей, около 7.5%, возможно, из-за отсутствия материальной нагрузки на содержание детей. Однако для многодетных семей этот процент (8.1%) ниже, чем у одно- и двухдетных семей (9.2 и 9.5%, соответственно). Причиной этого может быть начальный этап построения карьеры для одно- двухдетных семей, и сформировавшаяся карьера и более высокий заработок для многодетных семей. Следует отметить, что группа \"многодетная семья\" состоит из 380 клиентов, что вызывает некоторую неопределенность в плане представительности выборки по сравнению, например, с бездетными семьями (14107 клиентов). Необходимо дополнять датасет в равных пропорциях для лучшей достоверности результатов. Итого, максимальная разница процента невозврата между группами около 2%."
   ]
  },
  {
   "cell_type": "markdown",
   "metadata": {},
   "source": [
    "- Есть ли зависимость между семейным положением и возвратом кредита в срок?"
   ]
  },
  {
   "cell_type": "code",
   "execution_count": 81,
   "metadata": {},
   "outputs": [
    {
     "data": {
      "text/html": [
       "<div>\n",
       "<style scoped>\n",
       "    .dataframe tbody tr th:only-of-type {\n",
       "        vertical-align: middle;\n",
       "    }\n",
       "\n",
       "    .dataframe tbody tr th {\n",
       "        vertical-align: top;\n",
       "    }\n",
       "\n",
       "    .dataframe thead th {\n",
       "        text-align: right;\n",
       "    }\n",
       "</style>\n",
       "<table border=\"1\" class=\"dataframe\">\n",
       "  <thead>\n",
       "    <tr style=\"text-align: right;\">\n",
       "      <th></th>\n",
       "      <th>debt_problems</th>\n",
       "    </tr>\n",
       "    <tr>\n",
       "      <th>family_status_type</th>\n",
       "      <th></th>\n",
       "    </tr>\n",
       "  </thead>\n",
       "  <tbody>\n",
       "    <tr>\n",
       "      <td>Не женат / не замужем</td>\n",
       "      <td>0.097509</td>\n",
       "    </tr>\n",
       "    <tr>\n",
       "      <td>в разводе</td>\n",
       "      <td>0.071130</td>\n",
       "    </tr>\n",
       "    <tr>\n",
       "      <td>вдовец / вдова</td>\n",
       "      <td>0.065693</td>\n",
       "    </tr>\n",
       "    <tr>\n",
       "      <td>гражданский брак</td>\n",
       "      <td>0.093202</td>\n",
       "    </tr>\n",
       "    <tr>\n",
       "      <td>женат / замужем</td>\n",
       "      <td>0.075421</td>\n",
       "    </tr>\n",
       "  </tbody>\n",
       "</table>\n",
       "</div>"
      ],
      "text/plain": [
       "                       debt_problems\n",
       "family_status_type                  \n",
       "Не женат / не замужем       0.097509\n",
       "в разводе                   0.071130\n",
       "вдовец / вдова              0.065693\n",
       "гражданский брак            0.093202\n",
       "женат / замужем             0.075421"
      ]
     },
     "execution_count": 81,
     "metadata": {},
     "output_type": "execute_result"
    }
   ],
   "source": [
    "pd.pivot_table(df, index = 'family_status_type', values = 'debt_problems')"
   ]
  },
  {
   "cell_type": "code",
   "execution_count": 82,
   "metadata": {},
   "outputs": [
    {
     "data": {
      "text/plain": [
       "женат / замужем          12344\n",
       "гражданский брак          4163\n",
       "Не женат / не замужем     2810\n",
       "в разводе                 1195\n",
       "вдовец / вдова             959\n",
       "Name: family_status_type, dtype: int64"
      ]
     },
     "execution_count": 82,
     "metadata": {},
     "output_type": "execute_result"
    }
   ],
   "source": [
    "df['family_status_type'].value_counts()"
   ]
  },
  {
   "cell_type": "markdown",
   "metadata": {},
   "source": [
    "**Вывод**"
   ]
  },
  {
   "cell_type": "markdown",
   "metadata": {},
   "source": [
    "Самый большой процент невозврата в группе \"не женат / не замужем\" (9.8%), а также людей в гражданском браке (9.3%). По остальным трем группам \"в разводе\" \"вдовец/вдова\" \"женат/замужем\" разница невелика (0.5%), а среднее значение составляет 7.1%. Максимальная разница между всеми группами составляет 3.2%."
   ]
  },
  {
   "cell_type": "markdown",
   "metadata": {},
   "source": [
    "- Есть ли зависимость между уровнем дохода и возвратом кредита в срок?"
   ]
  },
  {
   "cell_type": "code",
   "execution_count": 83,
   "metadata": {},
   "outputs": [
    {
     "data": {
      "text/html": [
       "<div>\n",
       "<style scoped>\n",
       "    .dataframe tbody tr th:only-of-type {\n",
       "        vertical-align: middle;\n",
       "    }\n",
       "\n",
       "    .dataframe tbody tr th {\n",
       "        vertical-align: top;\n",
       "    }\n",
       "\n",
       "    .dataframe thead th {\n",
       "        text-align: right;\n",
       "    }\n",
       "</style>\n",
       "<table border=\"1\" class=\"dataframe\">\n",
       "  <thead>\n",
       "    <tr style=\"text-align: right;\">\n",
       "      <th></th>\n",
       "      <th>debt_problems</th>\n",
       "    </tr>\n",
       "    <tr>\n",
       "      <th>month_income_group</th>\n",
       "      <th></th>\n",
       "    </tr>\n",
       "  </thead>\n",
       "  <tbody>\n",
       "    <tr>\n",
       "      <td>Высокий доход</td>\n",
       "      <td>0.085507</td>\n",
       "    </tr>\n",
       "    <tr>\n",
       "      <td>Низкий доход</td>\n",
       "      <td>0.079545</td>\n",
       "    </tr>\n",
       "    <tr>\n",
       "      <td>Сверхвысокий доход</td>\n",
       "      <td>0.069672</td>\n",
       "    </tr>\n",
       "    <tr>\n",
       "      <td>Средний доход</td>\n",
       "      <td>0.089622</td>\n",
       "    </tr>\n",
       "  </tbody>\n",
       "</table>\n",
       "</div>"
      ],
      "text/plain": [
       "                    debt_problems\n",
       "month_income_group               \n",
       "Высокий доход            0.085507\n",
       "Низкий доход             0.079545\n",
       "Сверхвысокий доход       0.069672\n",
       "Средний доход            0.089622"
      ]
     },
     "execution_count": 83,
     "metadata": {},
     "output_type": "execute_result"
    }
   ],
   "source": [
    "pd.pivot_table(df, index = 'month_income_group', values = 'debt_problems')"
   ]
  },
  {
   "cell_type": "code",
   "execution_count": 84,
   "metadata": {},
   "outputs": [
    {
     "data": {
      "text/plain": [
       "Сверхвысокий доход    0.250012\n",
       "Высокий доход         0.250012\n",
       "Низкий доход          0.250012\n",
       "Средний доход         0.249965\n",
       "Name: month_income_group, dtype: float64"
      ]
     },
     "execution_count": 84,
     "metadata": {},
     "output_type": "execute_result"
    }
   ],
   "source": [
    "df['month_income_group'].value_counts(normalize=True)"
   ]
  },
  {
   "cell_type": "markdown",
   "metadata": {},
   "source": [
    "**Вывод**"
   ]
  },
  {
   "cell_type": "markdown",
   "metadata": {},
   "source": [
    "Группа людей со сверхвысоким доходом для данного датасета характеризуется минимальным процентом невозврата (7%). Однако, далее видно, что люди со средним и высоким заработком отдают кредит реже (9 и 8.6% по невозврату, соответственно) группы с низким доходом (8%). Максимальная разница - группами со средним и сверхвысоким уровнями дохода - 2%."
   ]
  },
  {
   "cell_type": "markdown",
   "metadata": {},
   "source": [
    "- Как разные цели кредита влияют на его возврат в срок?"
   ]
  },
  {
   "cell_type": "code",
   "execution_count": 85,
   "metadata": {},
   "outputs": [
    {
     "data": {
      "text/html": [
       "<div>\n",
       "<style scoped>\n",
       "    .dataframe tbody tr th:only-of-type {\n",
       "        vertical-align: middle;\n",
       "    }\n",
       "\n",
       "    .dataframe tbody tr th {\n",
       "        vertical-align: top;\n",
       "    }\n",
       "\n",
       "    .dataframe thead th {\n",
       "        text-align: right;\n",
       "    }\n",
       "</style>\n",
       "<table border=\"1\" class=\"dataframe\">\n",
       "  <thead>\n",
       "    <tr style=\"text-align: right;\">\n",
       "      <th></th>\n",
       "      <th>debt_problems</th>\n",
       "    </tr>\n",
       "    <tr>\n",
       "      <th>credit_purpose_group</th>\n",
       "      <th></th>\n",
       "    </tr>\n",
       "  </thead>\n",
       "  <tbody>\n",
       "    <tr>\n",
       "      <td>Автомобиль</td>\n",
       "      <td>0.093547</td>\n",
       "    </tr>\n",
       "    <tr>\n",
       "      <td>Жилье</td>\n",
       "      <td>0.069043</td>\n",
       "    </tr>\n",
       "    <tr>\n",
       "      <td>Недвижимость</td>\n",
       "      <td>0.074610</td>\n",
       "    </tr>\n",
       "    <tr>\n",
       "      <td>Образование</td>\n",
       "      <td>0.092177</td>\n",
       "    </tr>\n",
       "    <tr>\n",
       "      <td>Остальное</td>\n",
       "      <td>0.079657</td>\n",
       "    </tr>\n",
       "  </tbody>\n",
       "</table>\n",
       "</div>"
      ],
      "text/plain": [
       "                      debt_problems\n",
       "credit_purpose_group               \n",
       "Автомобиль                 0.093547\n",
       "Жилье                      0.069043\n",
       "Недвижимость               0.074610\n",
       "Образование                0.092177\n",
       "Остальное                  0.079657"
      ]
     },
     "execution_count": 85,
     "metadata": {},
     "output_type": "execute_result"
    }
   ],
   "source": [
    "pd.pivot_table(df, index = 'credit_purpose_group', values = 'debt_problems')"
   ]
  },
  {
   "cell_type": "code",
   "execution_count": 86,
   "metadata": {},
   "outputs": [
    {
     "data": {
      "text/plain": [
       "Недвижимость    6353\n",
       "Жилье           4461\n",
       "Автомобиль      4308\n",
       "Образование     4014\n",
       "Остальное       2335\n",
       "Name: credit_purpose_group, dtype: int64"
      ]
     },
     "execution_count": 86,
     "metadata": {},
     "output_type": "execute_result"
    }
   ],
   "source": [
    "df['credit_purpose_group'].value_counts()"
   ]
  },
  {
   "cell_type": "markdown",
   "metadata": {},
   "source": [
    "**Вывод**"
   ]
  },
  {
   "cell_type": "markdown",
   "metadata": {},
   "source": [
    "Давать кредит на жилье и недвижимость выгоднее (процент невозврата 6.9 и 7.5%, соответственно), чем на образование и автомобиль (9.2 и 9.4%, соответственно). Это может быть связано с тем, что жилье - ключевая потребность для клиента, при этом автомобиль - может быть импульсивной покупкой, а в процессе получения образования - сложность заработка в связи с обучением. Максимальная разница по всем группам - 2.5%."
   ]
  },
  {
   "cell_type": "markdown",
   "metadata": {},
   "source": [
    "## Шаг 4. Общий вывод"
   ]
  },
  {
   "cell_type": "markdown",
   "metadata": {},
   "source": [
    "**По исследованию зависимости групп клиентов и процента невозврата:**\n",
    "\n",
    "*Приблизительная разница по проценту невозврата между группа клиентов в экспериментах - около 2.5%. Учитывая объемы финансовых потоков банка, этот показатель (2.5%) значителен.*\n",
    "\n",
    "- Исходя из анализа, банку стоит сфокусироваться на выдаче кредитов бездетным семьям (7.1% невозврата) и аккуратней относиться к выдаче кредитов семьям с 1, 2 детьми (9.2 и 9.5% невозврата, соответственно)\n",
    "- У неженатые/незамужних максимальный процент невозврата 9.8%. Минимальный процент невозврата у групп \"вдовец/вдова\" и \"в разводе\" (6.6 и 7.1%, соответственно). Для молодожен этот показатель ниже (7.5%), чем у клиентов в гражданском браке (9.3%).\n",
    "- Клиенты со сверхзаработком чаще возвращают кредит (7% невозврата). Однако, люди со средним и высоким заработком отдают кредит реже (9 и 8.6% по невозврату, соответственно) группы с низким доходом (8%). \n",
    "- Давать кредит на жилье и недвижимость выгоднее (процент невозврата 6.9 и 7.5%, соответственно), чем на образование и автомобиль (9.2 и 9.4%, соответственно).\n",
    "\n",
    "**По качеству данных:**\n",
    "\n",
    "- Количество клиентов из группы многодетных семей значительно меньше остальных групп, при наличии, необходимо дополнить датасет клиентами из этой группы для получения достоверных результатов. \n",
    "- Ввести систему проверки входных данных при вводе (например, система не будет позволять вводить отрицательные значения, аномальные значения для параметров)\n",
    "- Продумать систему проверки при поступлении дублей\n",
    "- Вводить трудовой стаж в годах, а не в днях\n",
    "- Продумать новые название столбцов + для зарплаты необходимо указывать в какой валюте она выдается"
   ]
  }
 ],
 "metadata": {
  "ExecuteTimeLog": [
   {
    "duration": 806,
    "start_time": "2021-10-30T05:46:11.150Z"
   },
   {
    "duration": 18,
    "start_time": "2021-10-30T05:46:46.495Z"
   },
   {
    "duration": 16,
    "start_time": "2021-10-30T05:47:09.279Z"
   },
   {
    "duration": 48,
    "start_time": "2021-10-30T05:47:24.763Z"
   },
   {
    "duration": 49,
    "start_time": "2021-10-30T05:47:44.940Z"
   },
   {
    "duration": 380,
    "start_time": "2021-10-30T05:47:56.559Z"
   },
   {
    "duration": 6,
    "start_time": "2021-10-30T05:48:00.960Z"
   },
   {
    "duration": 6,
    "start_time": "2021-10-30T06:07:28.186Z"
   },
   {
    "duration": 6,
    "start_time": "2021-10-30T06:08:06.360Z"
   },
   {
    "duration": 4,
    "start_time": "2021-10-30T06:14:13.087Z"
   },
   {
    "duration": 7,
    "start_time": "2021-10-30T06:15:36.251Z"
   },
   {
    "duration": 7,
    "start_time": "2021-10-30T06:15:51.094Z"
   },
   {
    "duration": 7,
    "start_time": "2021-10-30T06:16:34.396Z"
   },
   {
    "duration": 14,
    "start_time": "2021-10-30T06:17:45.437Z"
   },
   {
    "duration": 13,
    "start_time": "2021-10-30T06:22:26.826Z"
   },
   {
    "duration": 13,
    "start_time": "2021-10-30T06:22:50.558Z"
   },
   {
    "duration": 35,
    "start_time": "2021-10-30T06:23:01.214Z"
   },
   {
    "duration": 12,
    "start_time": "2021-10-30T06:23:11.734Z"
   },
   {
    "duration": 37,
    "start_time": "2021-10-30T06:24:02.535Z"
   },
   {
    "duration": 51,
    "start_time": "2021-10-30T06:25:02.936Z"
   },
   {
    "duration": 20,
    "start_time": "2021-10-30T06:26:17.928Z"
   },
   {
    "duration": 23,
    "start_time": "2021-10-30T06:26:24.388Z"
   },
   {
    "duration": 25,
    "start_time": "2021-10-30T06:26:38.277Z"
   },
   {
    "duration": 13,
    "start_time": "2021-10-30T06:33:08.564Z"
   },
   {
    "duration": 858,
    "start_time": "2021-10-30T06:33:18.642Z"
   },
   {
    "duration": 12,
    "start_time": "2021-10-30T06:33:40.638Z"
   },
   {
    "duration": 12,
    "start_time": "2021-10-30T06:33:55.855Z"
   },
   {
    "duration": 11,
    "start_time": "2021-10-30T06:34:14.444Z"
   },
   {
    "duration": 13,
    "start_time": "2021-10-30T06:35:07.868Z"
   },
   {
    "duration": 11,
    "start_time": "2021-10-30T06:39:21.152Z"
   },
   {
    "duration": 77,
    "start_time": "2021-10-30T07:08:37.779Z"
   },
   {
    "duration": 17,
    "start_time": "2021-10-30T07:08:38.026Z"
   },
   {
    "duration": 14,
    "start_time": "2021-10-30T07:08:38.142Z"
   },
   {
    "duration": 52,
    "start_time": "2021-10-30T07:08:38.341Z"
   },
   {
    "duration": 6,
    "start_time": "2021-10-30T07:08:38.931Z"
   },
   {
    "duration": 6,
    "start_time": "2021-10-30T07:08:39.059Z"
   },
   {
    "duration": 7,
    "start_time": "2021-10-30T07:08:40.214Z"
   },
   {
    "duration": 12,
    "start_time": "2021-10-30T07:08:40.642Z"
   },
   {
    "duration": 24,
    "start_time": "2021-10-30T07:08:41.504Z"
   },
   {
    "duration": 11,
    "start_time": "2021-10-30T07:08:41.985Z"
   },
   {
    "duration": 11,
    "start_time": "2021-10-30T07:08:42.468Z"
   },
   {
    "duration": 302,
    "start_time": "2021-10-30T07:08:43.435Z"
   },
   {
    "duration": 20,
    "start_time": "2021-10-30T07:08:51.060Z"
   },
   {
    "duration": 33,
    "start_time": "2021-10-30T07:09:00.538Z"
   },
   {
    "duration": 15,
    "start_time": "2021-10-30T07:18:45.010Z"
   },
   {
    "duration": 33,
    "start_time": "2021-10-30T07:18:48.767Z"
   },
   {
    "duration": 32,
    "start_time": "2021-10-30T07:19:31.876Z"
   },
   {
    "duration": 4,
    "start_time": "2021-10-30T07:23:01.718Z"
   },
   {
    "duration": 4,
    "start_time": "2021-10-30T07:23:39.744Z"
   },
   {
    "duration": 5,
    "start_time": "2021-10-30T07:23:39.751Z"
   },
   {
    "duration": 18511,
    "start_time": "2021-10-30T07:26:55.282Z"
   },
   {
    "duration": 18385,
    "start_time": "2021-10-30T07:29:40.071Z"
   },
   {
    "duration": 18123,
    "start_time": "2021-10-30T07:30:44.095Z"
   },
   {
    "duration": 12,
    "start_time": "2021-10-30T07:31:18.509Z"
   },
   {
    "duration": 73,
    "start_time": "2021-10-30T07:31:38.536Z"
   },
   {
    "duration": 17,
    "start_time": "2021-10-30T07:31:38.758Z"
   },
   {
    "duration": 14,
    "start_time": "2021-10-30T07:31:38.846Z"
   },
   {
    "duration": 47,
    "start_time": "2021-10-30T07:31:39.076Z"
   },
   {
    "duration": 5,
    "start_time": "2021-10-30T07:31:39.223Z"
   },
   {
    "duration": 5,
    "start_time": "2021-10-30T07:31:39.424Z"
   },
   {
    "duration": 7,
    "start_time": "2021-10-30T07:31:40.240Z"
   },
   {
    "duration": 13,
    "start_time": "2021-10-30T07:31:40.471Z"
   },
   {
    "duration": 25,
    "start_time": "2021-10-30T07:31:40.822Z"
   },
   {
    "duration": 12,
    "start_time": "2021-10-30T07:31:40.913Z"
   },
   {
    "duration": 12,
    "start_time": "2021-10-30T07:31:41.165Z"
   },
   {
    "duration": 14,
    "start_time": "2021-10-30T07:31:41.516Z"
   },
   {
    "duration": 33,
    "start_time": "2021-10-30T07:31:41.650Z"
   },
   {
    "duration": 4,
    "start_time": "2021-10-30T07:31:41.891Z"
   },
   {
    "duration": 4,
    "start_time": "2021-10-30T07:31:42.040Z"
   },
   {
    "duration": 17579,
    "start_time": "2021-10-30T07:31:42.379Z"
   },
   {
    "duration": 18113,
    "start_time": "2021-10-30T07:31:59.961Z"
   },
   {
    "duration": 12,
    "start_time": "2021-10-30T07:32:18.077Z"
   },
   {
    "duration": 18118,
    "start_time": "2021-10-30T07:32:29.619Z"
   },
   {
    "duration": 17966,
    "start_time": "2021-10-30T07:32:47.740Z"
   },
   {
    "duration": 19,
    "start_time": "2021-10-30T07:33:05.709Z"
   },
   {
    "duration": 19889,
    "start_time": "2021-10-30T07:34:00.234Z"
   },
   {
    "duration": 19891,
    "start_time": "2021-10-30T07:34:20.126Z"
   },
   {
    "duration": 13,
    "start_time": "2021-10-30T07:34:40.019Z"
   },
   {
    "duration": 9,
    "start_time": "2021-10-30T07:46:23.659Z"
   },
   {
    "duration": 12,
    "start_time": "2021-10-30T07:52:33.442Z"
   },
   {
    "duration": 9,
    "start_time": "2021-10-30T07:52:34.778Z"
   },
   {
    "duration": 36,
    "start_time": "2021-10-30T07:53:46.411Z"
   },
   {
    "duration": 9,
    "start_time": "2021-10-30T07:59:38.601Z"
   },
   {
    "duration": 10,
    "start_time": "2021-10-30T08:00:20.207Z"
   },
   {
    "duration": 8,
    "start_time": "2021-10-30T08:00:33.177Z"
   },
   {
    "duration": 1555,
    "start_time": "2021-10-30T12:17:20.939Z"
   },
   {
    "duration": 877,
    "start_time": "2021-10-30T12:17:32.699Z"
   },
   {
    "duration": 22,
    "start_time": "2021-10-30T12:17:33.579Z"
   },
   {
    "duration": 16,
    "start_time": "2021-10-30T12:17:33.604Z"
   },
   {
    "duration": 48,
    "start_time": "2021-10-30T12:17:33.622Z"
   },
   {
    "duration": 30,
    "start_time": "2021-10-30T12:17:33.672Z"
   },
   {
    "duration": 7,
    "start_time": "2021-10-30T12:17:33.705Z"
   },
   {
    "duration": 8,
    "start_time": "2021-10-30T12:17:34.566Z"
   },
   {
    "duration": 13,
    "start_time": "2021-10-30T12:17:34.729Z"
   },
   {
    "duration": 24,
    "start_time": "2021-10-30T12:17:35.107Z"
   },
   {
    "duration": 11,
    "start_time": "2021-10-30T12:17:35.216Z"
   },
   {
    "duration": 13,
    "start_time": "2021-10-30T12:17:35.467Z"
   },
   {
    "duration": 15,
    "start_time": "2021-10-30T12:17:35.847Z"
   },
   {
    "duration": 34,
    "start_time": "2021-10-30T12:17:36.047Z"
   },
   {
    "duration": 4,
    "start_time": "2021-10-30T12:17:36.810Z"
   },
   {
    "duration": 3,
    "start_time": "2021-10-30T12:17:37.480Z"
   },
   {
    "duration": 18710,
    "start_time": "2021-10-30T12:17:37.830Z"
   },
   {
    "duration": 18566,
    "start_time": "2021-10-30T12:17:56.543Z"
   },
   {
    "duration": 17,
    "start_time": "2021-10-30T12:18:15.113Z"
   },
   {
    "duration": 8,
    "start_time": "2021-10-30T12:18:15.133Z"
   },
   {
    "duration": 12,
    "start_time": "2021-10-30T12:18:15.143Z"
   },
   {
    "duration": 45,
    "start_time": "2021-10-30T12:18:15.157Z"
   },
   {
    "duration": 37,
    "start_time": "2021-10-30T12:18:15.205Z"
   },
   {
    "duration": 9,
    "start_time": "2021-10-30T12:18:15.245Z"
   },
   {
    "duration": 43,
    "start_time": "2021-10-30T12:18:15.257Z"
   },
   {
    "duration": 5,
    "start_time": "2021-10-30T12:18:50.015Z"
   },
   {
    "duration": 4,
    "start_time": "2021-10-30T12:18:54.476Z"
   },
   {
    "duration": 18549,
    "start_time": "2021-10-30T12:18:54.878Z"
   },
   {
    "duration": 18381,
    "start_time": "2021-10-30T12:19:13.430Z"
   },
   {
    "duration": 13,
    "start_time": "2021-10-30T12:19:31.814Z"
   },
   {
    "duration": 9,
    "start_time": "2021-10-30T12:19:31.829Z"
   },
   {
    "duration": 13,
    "start_time": "2021-10-30T12:19:31.841Z"
   },
   {
    "duration": 45,
    "start_time": "2021-10-30T12:19:31.857Z"
   },
   {
    "duration": 38,
    "start_time": "2021-10-30T12:19:32.505Z"
   },
   {
    "duration": 8,
    "start_time": "2021-10-30T12:19:43.488Z"
   },
   {
    "duration": 5,
    "start_time": "2021-10-30T12:19:45.527Z"
   },
   {
    "duration": 41,
    "start_time": "2021-10-30T12:19:54.491Z"
   },
   {
    "duration": 54,
    "start_time": "2021-10-30T12:20:17.998Z"
   },
   {
    "duration": 11,
    "start_time": "2021-10-30T12:22:42.150Z"
   },
   {
    "duration": 37,
    "start_time": "2021-10-30T12:23:42.541Z"
   },
   {
    "duration": 12,
    "start_time": "2021-10-30T12:25:14.181Z"
   },
   {
    "duration": 41,
    "start_time": "2021-10-30T12:30:22.736Z"
   },
   {
    "duration": 38,
    "start_time": "2021-10-30T12:30:51.491Z"
   },
   {
    "duration": 36,
    "start_time": "2021-10-30T12:31:01.939Z"
   },
   {
    "duration": 39,
    "start_time": "2021-10-30T12:31:14.591Z"
   },
   {
    "duration": 289,
    "start_time": "2021-10-31T14:31:24.997Z"
   },
   {
    "duration": 847,
    "start_time": "2021-10-31T14:31:30.538Z"
   },
   {
    "duration": 18,
    "start_time": "2021-10-31T14:31:31.389Z"
   },
   {
    "duration": 38,
    "start_time": "2021-10-31T14:31:31.410Z"
   },
   {
    "duration": 50,
    "start_time": "2021-10-31T14:31:31.452Z"
   },
   {
    "duration": 30,
    "start_time": "2021-10-31T14:31:31.505Z"
   },
   {
    "duration": 9,
    "start_time": "2021-10-31T14:31:31.538Z"
   },
   {
    "duration": 7,
    "start_time": "2021-10-31T14:31:32.243Z"
   },
   {
    "duration": 12,
    "start_time": "2021-10-31T14:31:32.454Z"
   },
   {
    "duration": 37,
    "start_time": "2021-10-31T14:31:32.784Z"
   },
   {
    "duration": 15,
    "start_time": "2021-10-31T14:31:32.900Z"
   },
   {
    "duration": 14,
    "start_time": "2021-10-31T14:31:33.134Z"
   },
   {
    "duration": 22,
    "start_time": "2021-10-31T14:31:33.491Z"
   },
   {
    "duration": 54,
    "start_time": "2021-10-31T14:31:33.593Z"
   },
   {
    "duration": 5,
    "start_time": "2021-10-31T14:31:33.840Z"
   },
   {
    "duration": 4,
    "start_time": "2021-10-31T14:31:33.946Z"
   },
   {
    "duration": 18989,
    "start_time": "2021-10-31T14:31:34.194Z"
   },
   {
    "duration": 18791,
    "start_time": "2021-10-31T14:31:53.186Z"
   },
   {
    "duration": 12,
    "start_time": "2021-10-31T14:32:11.980Z"
   },
   {
    "duration": 14,
    "start_time": "2021-10-31T14:32:11.995Z"
   },
   {
    "duration": 37,
    "start_time": "2021-10-31T14:32:12.011Z"
   },
   {
    "duration": 11,
    "start_time": "2021-10-31T14:32:12.050Z"
   },
   {
    "duration": 39,
    "start_time": "2021-10-31T14:32:12.063Z"
   },
   {
    "duration": 40,
    "start_time": "2021-10-31T14:32:12.105Z"
   },
   {
    "duration": 55,
    "start_time": "2021-10-31T14:32:12.147Z"
   },
   {
    "duration": 62,
    "start_time": "2021-10-31T14:32:12.205Z"
   },
   {
    "duration": 7,
    "start_time": "2021-10-31T14:32:12.269Z"
   },
   {
    "duration": 21,
    "start_time": "2021-10-31T14:32:16.403Z"
   },
   {
    "duration": 17,
    "start_time": "2021-10-31T14:32:41.279Z"
   },
   {
    "duration": 8,
    "start_time": "2021-10-31T14:39:23.535Z"
   },
   {
    "duration": 7,
    "start_time": "2021-10-31T14:39:29.014Z"
   },
   {
    "duration": 6,
    "start_time": "2021-10-31T14:40:12.392Z"
   },
   {
    "duration": 6,
    "start_time": "2021-10-31T14:40:12.548Z"
   },
   {
    "duration": 8,
    "start_time": "2021-10-31T14:41:01.251Z"
   },
   {
    "duration": 15,
    "start_time": "2021-10-31T14:44:52.076Z"
   },
   {
    "duration": 37,
    "start_time": "2021-10-31T14:44:52.139Z"
   },
   {
    "duration": 63,
    "start_time": "2021-10-31T14:45:39.912Z"
   },
   {
    "duration": 63,
    "start_time": "2021-10-31T14:46:16.707Z"
   },
   {
    "duration": 17,
    "start_time": "2021-10-31T14:46:28.889Z"
   },
   {
    "duration": 40,
    "start_time": "2021-10-31T14:46:29.036Z"
   },
   {
    "duration": 92,
    "start_time": "2021-10-31T14:46:29.253Z"
   },
   {
    "duration": 60,
    "start_time": "2021-10-31T14:46:52.698Z"
   },
   {
    "duration": 46,
    "start_time": "2021-10-31T14:53:05.573Z"
   },
   {
    "duration": 288,
    "start_time": "2021-10-31T14:55:20.634Z"
   },
   {
    "duration": 6,
    "start_time": "2021-10-31T14:55:27.905Z"
   },
   {
    "duration": 8,
    "start_time": "2021-10-31T14:55:37.967Z"
   },
   {
    "duration": 267,
    "start_time": "2021-10-31T14:56:36.636Z"
   },
   {
    "duration": 7,
    "start_time": "2021-10-31T15:00:10.454Z"
   },
   {
    "duration": 1060,
    "start_time": "2021-10-31T15:00:55.681Z"
   },
   {
    "duration": 246,
    "start_time": "2021-10-31T15:01:13.663Z"
   },
   {
    "duration": 250,
    "start_time": "2021-10-31T15:01:19.590Z"
   },
   {
    "duration": 14,
    "start_time": "2021-10-31T15:01:33.749Z"
   },
   {
    "duration": 11,
    "start_time": "2021-10-31T15:03:12.870Z"
   },
   {
    "duration": 226,
    "start_time": "2021-10-31T15:06:37.982Z"
   },
   {
    "duration": 4328,
    "start_time": "2021-10-31T15:07:03.077Z"
   },
   {
    "duration": 4280,
    "start_time": "2021-10-31T15:08:04.564Z"
   },
   {
    "duration": 4275,
    "start_time": "2021-10-31T15:08:55.603Z"
   },
   {
    "duration": 230,
    "start_time": "2021-10-31T15:09:38.193Z"
   },
   {
    "duration": 247,
    "start_time": "2021-10-31T15:10:35.749Z"
   },
   {
    "duration": 3941,
    "start_time": "2021-10-31T15:14:26.656Z"
   },
   {
    "duration": 4282,
    "start_time": "2021-10-31T15:17:57.004Z"
   },
   {
    "duration": 3810,
    "start_time": "2021-10-31T15:18:14.053Z"
   },
   {
    "duration": 3810,
    "start_time": "2021-10-31T15:19:11.136Z"
   },
   {
    "duration": 75,
    "start_time": "2021-10-31T15:19:32.809Z"
   },
   {
    "duration": 3949,
    "start_time": "2021-10-31T15:19:44.489Z"
   },
   {
    "duration": 3684,
    "start_time": "2021-10-31T15:20:10.055Z"
   },
   {
    "duration": 225,
    "start_time": "2021-10-31T15:20:19.592Z"
   },
   {
    "duration": 3514,
    "start_time": "2021-10-31T15:20:38.819Z"
   },
   {
    "duration": 3726,
    "start_time": "2021-10-31T15:22:57.267Z"
   },
   {
    "duration": 3576,
    "start_time": "2021-10-31T15:23:36.370Z"
   },
   {
    "duration": 3461,
    "start_time": "2021-10-31T15:25:11.212Z"
   },
   {
    "duration": 3510,
    "start_time": "2021-10-31T15:25:48.805Z"
   },
   {
    "duration": 3537,
    "start_time": "2021-10-31T15:26:51.919Z"
   },
   {
    "duration": 5,
    "start_time": "2021-10-31T15:47:48.991Z"
   },
   {
    "duration": 5230,
    "start_time": "2021-10-31T15:49:17.195Z"
   },
   {
    "duration": 8,
    "start_time": "2021-10-31T15:50:05.380Z"
   },
   {
    "duration": 18,
    "start_time": "2021-10-31T15:56:09.713Z"
   },
   {
    "duration": 9,
    "start_time": "2021-10-31T15:56:57.492Z"
   },
   {
    "duration": 212,
    "start_time": "2021-10-31T15:59:23.819Z"
   },
   {
    "duration": 6,
    "start_time": "2021-10-31T15:59:39.423Z"
   },
   {
    "duration": 4,
    "start_time": "2021-10-31T15:59:58.833Z"
   },
   {
    "duration": 5,
    "start_time": "2021-10-31T16:00:15.057Z"
   },
   {
    "duration": 4,
    "start_time": "2021-10-31T16:00:27.018Z"
   },
   {
    "duration": 7,
    "start_time": "2021-10-31T16:01:30.206Z"
   },
   {
    "duration": 6,
    "start_time": "2021-10-31T16:19:38.086Z"
   },
   {
    "duration": 4,
    "start_time": "2021-10-31T16:19:38.307Z"
   },
   {
    "duration": 8,
    "start_time": "2021-10-31T16:19:38.566Z"
   },
   {
    "duration": 5,
    "start_time": "2021-10-31T16:19:38.686Z"
   },
   {
    "duration": 5,
    "start_time": "2021-10-31T16:19:38.766Z"
   },
   {
    "duration": 899,
    "start_time": "2021-10-31T16:19:39.275Z"
   },
   {
    "duration": 4,
    "start_time": "2021-10-31T16:19:48.986Z"
   },
   {
    "duration": 888,
    "start_time": "2021-10-31T16:19:50.950Z"
   },
   {
    "duration": 268,
    "start_time": "2021-10-31T16:20:41.858Z"
   },
   {
    "duration": 6,
    "start_time": "2021-10-31T16:20:56.136Z"
   },
   {
    "duration": 4,
    "start_time": "2021-10-31T16:20:56.241Z"
   },
   {
    "duration": 8,
    "start_time": "2021-10-31T16:20:56.446Z"
   },
   {
    "duration": 5,
    "start_time": "2021-10-31T16:20:56.557Z"
   },
   {
    "duration": 5,
    "start_time": "2021-10-31T16:20:56.769Z"
   },
   {
    "duration": 229,
    "start_time": "2021-10-31T16:20:57.993Z"
   },
   {
    "duration": 5,
    "start_time": "2021-10-31T16:21:17.925Z"
   },
   {
    "duration": 4,
    "start_time": "2021-10-31T16:21:19.841Z"
   },
   {
    "duration": 34,
    "start_time": "2021-10-31T16:21:21.887Z"
   },
   {
    "duration": 67,
    "start_time": "2021-10-31T16:21:34.380Z"
   },
   {
    "duration": 6,
    "start_time": "2021-10-31T16:25:53.397Z"
   },
   {
    "duration": 66,
    "start_time": "2021-10-31T16:25:53.558Z"
   },
   {
    "duration": 11,
    "start_time": "2021-10-31T16:26:09.129Z"
   },
   {
    "duration": 63,
    "start_time": "2021-10-31T16:26:09.146Z"
   },
   {
    "duration": 27,
    "start_time": "2021-10-31T16:27:33.122Z"
   },
   {
    "duration": 23,
    "start_time": "2021-10-31T16:28:04.009Z"
   },
   {
    "duration": 20,
    "start_time": "2021-10-31T16:28:36.904Z"
   },
   {
    "duration": 23,
    "start_time": "2021-10-31T16:29:07.610Z"
   },
   {
    "duration": 4,
    "start_time": "2021-10-31T16:29:37.399Z"
   },
   {
    "duration": 66,
    "start_time": "2021-10-31T16:29:37.545Z"
   },
   {
    "duration": 21,
    "start_time": "2021-10-31T16:29:38.674Z"
   },
   {
    "duration": 21,
    "start_time": "2021-10-31T16:29:40.290Z"
   },
   {
    "duration": 22,
    "start_time": "2021-10-31T16:29:44.747Z"
   },
   {
    "duration": 22,
    "start_time": "2021-10-31T16:29:45.568Z"
   },
   {
    "duration": 8,
    "start_time": "2021-10-31T16:36:51.411Z"
   },
   {
    "duration": 10,
    "start_time": "2021-10-31T16:40:09.607Z"
   },
   {
    "duration": 12,
    "start_time": "2021-10-31T16:40:43.761Z"
   },
   {
    "duration": 236,
    "start_time": "2021-10-31T16:41:01.589Z"
   },
   {
    "duration": 9,
    "start_time": "2021-10-31T16:41:08.118Z"
   },
   {
    "duration": 11,
    "start_time": "2021-10-31T16:41:20.172Z"
   },
   {
    "duration": 7,
    "start_time": "2021-10-31T16:41:36.830Z"
   },
   {
    "duration": 10,
    "start_time": "2021-10-31T16:41:43.808Z"
   },
   {
    "duration": 10,
    "start_time": "2021-10-31T16:41:55.337Z"
   },
   {
    "duration": 10,
    "start_time": "2021-10-31T16:42:29.223Z"
   },
   {
    "duration": 15,
    "start_time": "2021-10-31T16:42:46.232Z"
   },
   {
    "duration": 876,
    "start_time": "2021-11-01T08:04:19.424Z"
   },
   {
    "duration": 679,
    "start_time": "2021-11-01T08:04:22.573Z"
   },
   {
    "duration": 11,
    "start_time": "2021-11-01T08:04:23.254Z"
   },
   {
    "duration": 12,
    "start_time": "2021-11-01T08:04:23.267Z"
   },
   {
    "duration": 31,
    "start_time": "2021-11-01T08:04:23.281Z"
   },
   {
    "duration": 4,
    "start_time": "2021-11-01T08:04:23.314Z"
   },
   {
    "duration": 6,
    "start_time": "2021-11-01T08:04:23.319Z"
   },
   {
    "duration": 7,
    "start_time": "2021-11-01T08:04:23.326Z"
   },
   {
    "duration": 36,
    "start_time": "2021-11-01T08:04:23.335Z"
   },
   {
    "duration": 16,
    "start_time": "2021-11-01T08:04:23.374Z"
   },
   {
    "duration": 9,
    "start_time": "2021-11-01T08:04:23.392Z"
   },
   {
    "duration": 10,
    "start_time": "2021-11-01T08:04:23.402Z"
   },
   {
    "duration": 12,
    "start_time": "2021-11-01T08:04:23.414Z"
   },
   {
    "duration": 58,
    "start_time": "2021-11-01T08:04:23.428Z"
   },
   {
    "duration": 3,
    "start_time": "2021-11-01T08:04:23.488Z"
   },
   {
    "duration": 8,
    "start_time": "2021-11-01T08:04:23.492Z"
   },
   {
    "duration": 9,
    "start_time": "2021-11-01T08:04:23.502Z"
   },
   {
    "duration": 9614,
    "start_time": "2021-11-01T08:04:23.513Z"
   },
   {
    "duration": 9536,
    "start_time": "2021-11-01T08:04:33.129Z"
   },
   {
    "duration": 10,
    "start_time": "2021-11-01T08:04:42.667Z"
   },
   {
    "duration": 6,
    "start_time": "2021-11-01T08:04:42.679Z"
   },
   {
    "duration": 10,
    "start_time": "2021-11-01T08:04:42.687Z"
   },
   {
    "duration": 6,
    "start_time": "2021-11-01T08:04:42.699Z"
   },
   {
    "duration": 25,
    "start_time": "2021-11-01T08:04:42.707Z"
   },
   {
    "duration": 8,
    "start_time": "2021-11-01T08:04:42.763Z"
   },
   {
    "duration": 40,
    "start_time": "2021-11-01T08:04:42.772Z"
   },
   {
    "duration": 21,
    "start_time": "2021-11-01T08:04:42.814Z"
   },
   {
    "duration": 39,
    "start_time": "2021-11-01T08:04:42.839Z"
   },
   {
    "duration": 11,
    "start_time": "2021-11-01T08:04:42.880Z"
   },
   {
    "duration": 9,
    "start_time": "2021-11-01T08:04:42.893Z"
   },
   {
    "duration": 11,
    "start_time": "2021-11-01T08:04:42.904Z"
   },
   {
    "duration": 7,
    "start_time": "2021-11-01T08:04:42.917Z"
   },
   {
    "duration": 9,
    "start_time": "2021-11-01T08:04:42.925Z"
   },
   {
    "duration": 36,
    "start_time": "2021-11-01T08:04:42.935Z"
   },
   {
    "duration": 18,
    "start_time": "2021-11-01T08:04:42.973Z"
   },
   {
    "duration": 31,
    "start_time": "2021-11-01T08:04:42.993Z"
   },
   {
    "duration": 4,
    "start_time": "2021-11-01T08:04:43.026Z"
   },
   {
    "duration": 33,
    "start_time": "2021-11-01T08:04:43.031Z"
   },
   {
    "duration": 3564,
    "start_time": "2021-11-01T08:04:43.066Z"
   },
   {
    "duration": 5,
    "start_time": "2021-11-01T08:04:46.632Z"
   },
   {
    "duration": 5,
    "start_time": "2021-11-01T08:04:46.639Z"
   },
   {
    "duration": 8,
    "start_time": "2021-11-01T08:04:46.663Z"
   },
   {
    "duration": 3,
    "start_time": "2021-11-01T08:04:46.673Z"
   },
   {
    "duration": 5,
    "start_time": "2021-11-01T08:04:46.678Z"
   },
   {
    "duration": 42,
    "start_time": "2021-11-01T08:04:46.685Z"
   },
   {
    "duration": 39,
    "start_time": "2021-11-01T08:04:46.729Z"
   },
   {
    "duration": 6,
    "start_time": "2021-11-01T08:04:46.769Z"
   },
   {
    "duration": 21,
    "start_time": "2021-11-01T08:04:46.776Z"
   },
   {
    "duration": 8,
    "start_time": "2021-11-01T08:04:46.799Z"
   },
   {
    "duration": 22,
    "start_time": "2021-11-01T08:04:46.808Z"
   },
   {
    "duration": 7,
    "start_time": "2021-11-01T08:04:46.832Z"
   },
   {
    "duration": 36,
    "start_time": "2021-11-01T08:04:46.841Z"
   },
   {
    "duration": 7,
    "start_time": "2021-11-01T08:04:46.879Z"
   },
   {
    "duration": 79,
    "start_time": "2021-11-01T08:06:45.308Z"
   },
   {
    "duration": 6899,
    "start_time": "2021-11-01T08:08:43.158Z"
   },
   {
    "duration": 7,
    "start_time": "2021-11-01T08:09:06.675Z"
   },
   {
    "duration": 2821,
    "start_time": "2021-11-01T08:24:11.015Z"
   },
   {
    "duration": 2845,
    "start_time": "2021-11-01T08:24:16.423Z"
   },
   {
    "duration": 2790,
    "start_time": "2021-11-01T08:24:39.844Z"
   },
   {
    "duration": 60,
    "start_time": "2021-11-01T08:25:02.439Z"
   },
   {
    "duration": 11,
    "start_time": "2021-11-01T08:25:02.501Z"
   },
   {
    "duration": 15,
    "start_time": "2021-11-01T08:25:02.514Z"
   },
   {
    "duration": 56,
    "start_time": "2021-11-01T08:25:02.531Z"
   },
   {
    "duration": 4,
    "start_time": "2021-11-01T08:25:02.588Z"
   },
   {
    "duration": 8,
    "start_time": "2021-11-01T08:25:02.594Z"
   },
   {
    "duration": 10,
    "start_time": "2021-11-01T08:25:02.604Z"
   },
   {
    "duration": 23,
    "start_time": "2021-11-01T08:25:02.616Z"
   },
   {
    "duration": 29,
    "start_time": "2021-11-01T08:25:02.642Z"
   },
   {
    "duration": 7,
    "start_time": "2021-11-01T08:25:02.674Z"
   },
   {
    "duration": 14,
    "start_time": "2021-11-01T08:25:02.682Z"
   },
   {
    "duration": 13,
    "start_time": "2021-11-01T08:25:02.698Z"
   },
   {
    "duration": 37,
    "start_time": "2021-11-01T08:25:02.712Z"
   },
   {
    "duration": 13,
    "start_time": "2021-11-01T08:25:02.751Z"
   },
   {
    "duration": 11,
    "start_time": "2021-11-01T08:25:02.765Z"
   },
   {
    "duration": 11,
    "start_time": "2021-11-01T08:25:02.778Z"
   },
   {
    "duration": 9553,
    "start_time": "2021-11-01T08:25:02.790Z"
   },
   {
    "duration": 9456,
    "start_time": "2021-11-01T08:25:12.345Z"
   },
   {
    "duration": 9,
    "start_time": "2021-11-01T08:25:21.802Z"
   },
   {
    "duration": 7,
    "start_time": "2021-11-01T08:25:21.812Z"
   },
   {
    "duration": 9,
    "start_time": "2021-11-01T08:25:21.821Z"
   },
   {
    "duration": 5,
    "start_time": "2021-11-01T08:25:21.831Z"
   },
   {
    "duration": 46,
    "start_time": "2021-11-01T08:25:21.837Z"
   },
   {
    "duration": 5,
    "start_time": "2021-11-01T08:25:21.885Z"
   },
   {
    "duration": 35,
    "start_time": "2021-11-01T08:25:21.891Z"
   },
   {
    "duration": 44,
    "start_time": "2021-11-01T08:25:21.927Z"
   },
   {
    "duration": 15,
    "start_time": "2021-11-01T08:25:21.974Z"
   },
   {
    "duration": 10,
    "start_time": "2021-11-01T08:25:21.991Z"
   },
   {
    "duration": 6,
    "start_time": "2021-11-01T08:25:22.003Z"
   },
   {
    "duration": 8,
    "start_time": "2021-11-01T08:25:22.010Z"
   },
   {
    "duration": 7,
    "start_time": "2021-11-01T08:25:22.019Z"
   },
   {
    "duration": 38,
    "start_time": "2021-11-01T08:25:22.027Z"
   },
   {
    "duration": 12,
    "start_time": "2021-11-01T08:25:22.066Z"
   },
   {
    "duration": 22,
    "start_time": "2021-11-01T08:25:22.079Z"
   },
   {
    "duration": 31,
    "start_time": "2021-11-01T08:25:22.103Z"
   },
   {
    "duration": 46,
    "start_time": "2021-11-01T08:25:22.135Z"
   },
   {
    "duration": 7,
    "start_time": "2021-11-01T08:25:22.183Z"
   },
   {
    "duration": 3687,
    "start_time": "2021-11-01T08:25:22.192Z"
   },
   {
    "duration": 2833,
    "start_time": "2021-11-01T08:25:28.512Z"
   },
   {
    "duration": 2992,
    "start_time": "2021-11-01T08:25:45.863Z"
   },
   {
    "duration": 2703,
    "start_time": "2021-11-01T08:27:13.542Z"
   },
   {
    "duration": 92,
    "start_time": "2021-11-01T08:30:48.285Z"
   },
   {
    "duration": 91,
    "start_time": "2021-11-01T11:06:40.580Z"
   },
   {
    "duration": 107,
    "start_time": "2021-11-01T11:07:08.132Z"
   },
   {
    "duration": 106,
    "start_time": "2021-11-01T11:07:41.584Z"
   },
   {
    "duration": 97,
    "start_time": "2021-11-01T11:08:04.007Z"
   },
   {
    "duration": 95,
    "start_time": "2021-11-01T11:08:25.049Z"
   },
   {
    "duration": 96,
    "start_time": "2021-11-01T11:08:43.699Z"
   },
   {
    "duration": 93,
    "start_time": "2021-11-01T11:08:49.619Z"
   },
   {
    "duration": 110,
    "start_time": "2021-11-01T11:08:55.269Z"
   },
   {
    "duration": 87,
    "start_time": "2021-11-01T11:09:07.325Z"
   },
   {
    "duration": 103,
    "start_time": "2021-11-01T11:09:18.330Z"
   },
   {
    "duration": 130,
    "start_time": "2021-11-01T11:09:35.284Z"
   },
   {
    "duration": 110,
    "start_time": "2021-11-01T11:10:25.192Z"
   },
   {
    "duration": 171,
    "start_time": "2021-11-01T11:12:30.891Z"
   },
   {
    "duration": 92,
    "start_time": "2021-11-01T11:12:46.768Z"
   },
   {
    "duration": 86,
    "start_time": "2021-11-01T11:12:53.846Z"
   },
   {
    "duration": 332,
    "start_time": "2021-11-01T11:15:13.097Z"
   },
   {
    "duration": 883,
    "start_time": "2021-11-01T11:15:19.658Z"
   },
   {
    "duration": 25,
    "start_time": "2021-11-01T11:15:20.544Z"
   },
   {
    "duration": 16,
    "start_time": "2021-11-01T11:15:20.572Z"
   },
   {
    "duration": 48,
    "start_time": "2021-11-01T11:15:20.591Z"
   },
   {
    "duration": 30,
    "start_time": "2021-11-01T11:15:20.641Z"
   },
   {
    "duration": 22,
    "start_time": "2021-11-01T11:15:20.674Z"
   },
   {
    "duration": 8,
    "start_time": "2021-11-01T11:15:21.694Z"
   },
   {
    "duration": 15,
    "start_time": "2021-11-01T11:15:22.144Z"
   },
   {
    "duration": 27,
    "start_time": "2021-11-01T11:15:23.143Z"
   },
   {
    "duration": 17,
    "start_time": "2021-11-01T11:15:23.476Z"
   },
   {
    "duration": 16,
    "start_time": "2021-11-01T11:15:29.510Z"
   },
   {
    "duration": 13,
    "start_time": "2021-11-01T11:15:30.229Z"
   },
   {
    "duration": 14,
    "start_time": "2021-11-01T11:15:31.196Z"
   },
   {
    "duration": 24,
    "start_time": "2021-11-01T11:28:14.588Z"
   },
   {
    "duration": 74,
    "start_time": "2021-11-01T11:28:59.141Z"
   },
   {
    "duration": 17,
    "start_time": "2021-11-01T11:28:59.217Z"
   },
   {
    "duration": 16,
    "start_time": "2021-11-01T11:28:59.267Z"
   },
   {
    "duration": 75,
    "start_time": "2021-11-01T11:28:59.292Z"
   },
   {
    "duration": 5,
    "start_time": "2021-11-01T11:28:59.370Z"
   },
   {
    "duration": 6,
    "start_time": "2021-11-01T11:28:59.378Z"
   },
   {
    "duration": 8,
    "start_time": "2021-11-01T11:28:59.386Z"
   },
   {
    "duration": 13,
    "start_time": "2021-11-01T11:28:59.397Z"
   },
   {
    "duration": 69,
    "start_time": "2021-11-01T11:28:59.413Z"
   },
   {
    "duration": 11,
    "start_time": "2021-11-01T11:28:59.485Z"
   },
   {
    "duration": 15,
    "start_time": "2021-11-01T11:28:59.499Z"
   },
   {
    "duration": 11,
    "start_time": "2021-11-01T11:28:59.517Z"
   },
   {
    "duration": 49,
    "start_time": "2021-11-01T11:28:59.530Z"
   },
   {
    "duration": 15,
    "start_time": "2021-11-01T11:28:59.581Z"
   },
   {
    "duration": 35,
    "start_time": "2021-11-01T11:28:59.599Z"
   },
   {
    "duration": 4,
    "start_time": "2021-11-01T11:28:59.669Z"
   },
   {
    "duration": 6,
    "start_time": "2021-11-01T11:28:59.677Z"
   },
   {
    "duration": 12,
    "start_time": "2021-11-01T11:28:59.685Z"
   },
   {
    "duration": 18372,
    "start_time": "2021-11-01T11:28:59.700Z"
   },
   {
    "duration": 18570,
    "start_time": "2021-11-01T11:29:18.074Z"
   },
   {
    "duration": 31,
    "start_time": "2021-11-01T11:29:36.648Z"
   },
   {
    "duration": 13,
    "start_time": "2021-11-01T11:29:36.683Z"
   },
   {
    "duration": 22,
    "start_time": "2021-11-01T11:29:36.708Z"
   },
   {
    "duration": 42,
    "start_time": "2021-11-01T11:29:36.733Z"
   },
   {
    "duration": 37,
    "start_time": "2021-11-01T11:29:36.777Z"
   },
   {
    "duration": 8,
    "start_time": "2021-11-01T11:29:36.817Z"
   },
   {
    "duration": 91,
    "start_time": "2021-11-01T11:29:36.828Z"
   },
   {
    "duration": 60,
    "start_time": "2021-11-01T11:29:36.922Z"
   },
   {
    "duration": 24,
    "start_time": "2021-11-01T11:29:36.985Z"
   },
   {
    "duration": 18,
    "start_time": "2021-11-01T11:29:37.013Z"
   },
   {
    "duration": 41,
    "start_time": "2021-11-01T11:29:37.034Z"
   },
   {
    "duration": 11,
    "start_time": "2021-11-01T11:29:37.078Z"
   },
   {
    "duration": 8,
    "start_time": "2021-11-01T11:29:37.092Z"
   },
   {
    "duration": 65,
    "start_time": "2021-11-01T11:29:37.104Z"
   },
   {
    "duration": 18,
    "start_time": "2021-11-01T11:29:37.172Z"
   },
   {
    "duration": 32,
    "start_time": "2021-11-01T11:29:37.193Z"
   },
   {
    "duration": 83,
    "start_time": "2021-11-01T11:29:37.228Z"
   },
   {
    "duration": 12,
    "start_time": "2021-11-01T11:29:37.314Z"
   },
   {
    "duration": 8,
    "start_time": "2021-11-01T11:29:37.328Z"
   },
   {
    "duration": 4760,
    "start_time": "2021-11-01T11:29:37.340Z"
   },
   {
    "duration": 4129,
    "start_time": "2021-11-01T11:29:42.103Z"
   },
   {
    "duration": 7,
    "start_time": "2021-11-01T11:29:46.234Z"
   },
   {
    "duration": 24,
    "start_time": "2021-11-01T11:29:46.243Z"
   },
   {
    "duration": 22,
    "start_time": "2021-11-01T11:29:46.270Z"
   },
   {
    "duration": 4,
    "start_time": "2021-11-01T11:29:46.294Z"
   },
   {
    "duration": 23,
    "start_time": "2021-11-01T11:29:46.300Z"
   },
   {
    "duration": 4,
    "start_time": "2021-11-01T11:29:46.325Z"
   },
   {
    "duration": 99,
    "start_time": "2021-11-01T11:29:46.332Z"
   },
   {
    "duration": 44,
    "start_time": "2021-11-01T11:29:46.433Z"
   },
   {
    "duration": 8,
    "start_time": "2021-11-01T11:29:46.479Z"
   },
   {
    "duration": 22,
    "start_time": "2021-11-01T11:29:46.489Z"
   },
   {
    "duration": 10,
    "start_time": "2021-11-01T11:29:46.514Z"
   },
   {
    "duration": 58,
    "start_time": "2021-11-01T11:29:46.526Z"
   },
   {
    "duration": 10,
    "start_time": "2021-11-01T11:29:46.586Z"
   },
   {
    "duration": 23,
    "start_time": "2021-11-01T11:29:46.598Z"
   },
   {
    "duration": 9,
    "start_time": "2021-11-01T11:29:46.624Z"
   }
  ],
  "kernelspec": {
   "display_name": "Python 3 (ipykernel)",
   "language": "python",
   "name": "python3"
  },
  "language_info": {
   "codemirror_mode": {
    "name": "ipython",
    "version": 3
   },
   "file_extension": ".py",
   "mimetype": "text/x-python",
   "name": "python",
   "nbconvert_exporter": "python",
   "pygments_lexer": "ipython3",
   "version": "3.9.7"
  },
  "toc": {
   "base_numbering": 1,
   "nav_menu": {},
   "number_sections": true,
   "sideBar": true,
   "skip_h1_title": true,
   "title_cell": "Table of Contents",
   "title_sidebar": "Contents",
   "toc_cell": false,
   "toc_position": {},
   "toc_section_display": true,
   "toc_window_display": false
  }
 },
 "nbformat": 4,
 "nbformat_minor": 2
}
