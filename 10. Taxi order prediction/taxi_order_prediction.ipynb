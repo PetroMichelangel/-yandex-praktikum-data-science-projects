{
 "cells": [
  {
   "cell_type": "markdown",
   "metadata": {},
   "source": [
    "#  Проект: Прогнозирование заказов такси"
   ]
  },
  {
   "cell_type": "markdown",
   "metadata": {},
   "source": [
    "Чтобы привлекать больше водителей в период пиковой нагрузки, нужно спрогнозировать количество заказов такси на следующий час. Необходимо построить модель для такого предсказания.\n",
    "\n",
    "Значение метрики *RMSE* на тестовой выборке должно быть не больше 48.\n",
    "\n",
    "Вам нужно:\n",
    "\n",
    "1. Загрузить данные и выполнить их ресемплирование по одному часу.\n",
    "2. Проанализировать данные.\n",
    "3. Обучить разные модели с различными гиперпараметрами. Сделать тестовую выборку размером 10% от исходных данных.\n",
    "4. Проверить данные на тестовой выборке и сделать выводы.\n"
   ]
  },
  {
   "cell_type": "markdown",
   "metadata": {
    "toc": true
   },
   "source": [
    "<h1>Содержание<span class=\"tocSkip\"></span></h1>\n",
    "<div class=\"toc\"><ul class=\"toc-item\"><li><a href=\"#Подготовка\" data-toc-modified-id=\"Подготовка-1\"><span class=\"toc-item-num\">1&nbsp;&nbsp;</span>Подготовка</a></li><li><span><a href=\"#Анализ\" data-toc-modified-id=\"Анализ-2\"><span class=\"toc-item-num\">2&nbsp;&nbsp;</span>Анализ</a></span></li><li><span><a href=\"#Обучение\" data-toc-modified-id=\"Обучение-3\"><span class=\"toc-item-num\">3&nbsp;&nbsp;</span>Обучение</a></span></li><li><span><a href=\"#Тестирование\" data-toc-modified-id=\"Тестирование-4\"><span class=\"toc-item-num\">4&nbsp;&nbsp;</span>Тестирование</a></span></li><li><span><a href=\"#Чек-лист-проверки\" data-toc-modified-id=\"Чек-лист-проверки-5\"><span class=\"toc-item-num\">5&nbsp;&nbsp;</span>Чек-лист проверки</a></span></li></ul></div>"
   ]
  },
  {
   "cell_type": "markdown",
   "metadata": {},
   "source": [
    "## Подготовка"
   ]
  },
  {
   "cell_type": "code",
   "execution_count": 72,
   "metadata": {},
   "outputs": [],
   "source": [
    "#импортируем библиотеки \n",
    "\n",
    "import pandas as pd\n",
    "import numpy as np\n",
    "import matplotlib.pyplot as plt\n",
    "import seaborn as sns\n",
    "from scipy import stats as sts\n",
    "\n",
    "from statsmodels.tsa.seasonal import seasonal_decompose\n",
    "\n",
    "from sklearn.model_selection import train_test_split\n",
    "from sklearn.linear_model import LinearRegression, Ridge, Lasso\n",
    "from lightgbm import LGBMRegressor\n",
    "from sklearn.metrics import mean_squared_error\n",
    "\n",
    "import time\n",
    "import warnings\n",
    "warnings.filterwarnings('ignore')"
   ]
  },
  {
   "cell_type": "code",
   "execution_count": 73,
   "metadata": {},
   "outputs": [],
   "source": [
    "#функция для чтения файла\n",
    "\n",
    "def file_reader(path):\n",
    "    df = pd.read_csv(path, index_col=[0], parse_dates=[0])\n",
    "    print('=======================================')\n",
    "    print('Первые пять строк:')\n",
    "    print('=======================================')\n",
    "    display(df.head(5))\n",
    "    print('=======================================')\n",
    "    print('Общая информация по датасету:')\n",
    "    print('=======================================')\n",
    "    print(df.info())\n",
    "    print('=======================================')\n",
    "    print('Статистическая информация по датасету:')\n",
    "    print('=======================================')\n",
    "    display(df.describe())\n",
    "    print('=======================================')\n",
    "    print('Количество пропусков по столбцам:')\n",
    "    print('=======================================')\n",
    "    print(df.isna().sum())\n",
    "\n",
    "    \n",
    "    return df"
   ]
  },
  {
   "cell_type": "code",
   "execution_count": 74,
   "metadata": {},
   "outputs": [
    {
     "name": "stdout",
     "output_type": "stream",
     "text": [
      "=======================================\n",
      "Первые пять строк:\n",
      "=======================================\n"
     ]
    },
    {
     "data": {
      "text/html": [
       "<div>\n",
       "<style scoped>\n",
       "    .dataframe tbody tr th:only-of-type {\n",
       "        vertical-align: middle;\n",
       "    }\n",
       "\n",
       "    .dataframe tbody tr th {\n",
       "        vertical-align: top;\n",
       "    }\n",
       "\n",
       "    .dataframe thead th {\n",
       "        text-align: right;\n",
       "    }\n",
       "</style>\n",
       "<table border=\"1\" class=\"dataframe\">\n",
       "  <thead>\n",
       "    <tr style=\"text-align: right;\">\n",
       "      <th></th>\n",
       "      <th>num_orders</th>\n",
       "    </tr>\n",
       "    <tr>\n",
       "      <th>datetime</th>\n",
       "      <th></th>\n",
       "    </tr>\n",
       "  </thead>\n",
       "  <tbody>\n",
       "    <tr>\n",
       "      <th>2018-03-01 00:00:00</th>\n",
       "      <td>9</td>\n",
       "    </tr>\n",
       "    <tr>\n",
       "      <th>2018-03-01 00:10:00</th>\n",
       "      <td>14</td>\n",
       "    </tr>\n",
       "    <tr>\n",
       "      <th>2018-03-01 00:20:00</th>\n",
       "      <td>28</td>\n",
       "    </tr>\n",
       "    <tr>\n",
       "      <th>2018-03-01 00:30:00</th>\n",
       "      <td>20</td>\n",
       "    </tr>\n",
       "    <tr>\n",
       "      <th>2018-03-01 00:40:00</th>\n",
       "      <td>32</td>\n",
       "    </tr>\n",
       "  </tbody>\n",
       "</table>\n",
       "</div>"
      ],
      "text/plain": [
       "                     num_orders\n",
       "datetime                       \n",
       "2018-03-01 00:00:00           9\n",
       "2018-03-01 00:10:00          14\n",
       "2018-03-01 00:20:00          28\n",
       "2018-03-01 00:30:00          20\n",
       "2018-03-01 00:40:00          32"
      ]
     },
     "metadata": {},
     "output_type": "display_data"
    },
    {
     "name": "stdout",
     "output_type": "stream",
     "text": [
      "=======================================\n",
      "Общая информация по датасету:\n",
      "=======================================\n",
      "<class 'pandas.core.frame.DataFrame'>\n",
      "DatetimeIndex: 26496 entries, 2018-03-01 00:00:00 to 2018-08-31 23:50:00\n",
      "Data columns (total 1 columns):\n",
      " #   Column      Non-Null Count  Dtype\n",
      "---  ------      --------------  -----\n",
      " 0   num_orders  26496 non-null  int64\n",
      "dtypes: int64(1)\n",
      "memory usage: 414.0 KB\n",
      "None\n",
      "=======================================\n",
      "Статистическая информация по датасету:\n",
      "=======================================\n"
     ]
    },
    {
     "data": {
      "text/html": [
       "<div>\n",
       "<style scoped>\n",
       "    .dataframe tbody tr th:only-of-type {\n",
       "        vertical-align: middle;\n",
       "    }\n",
       "\n",
       "    .dataframe tbody tr th {\n",
       "        vertical-align: top;\n",
       "    }\n",
       "\n",
       "    .dataframe thead th {\n",
       "        text-align: right;\n",
       "    }\n",
       "</style>\n",
       "<table border=\"1\" class=\"dataframe\">\n",
       "  <thead>\n",
       "    <tr style=\"text-align: right;\">\n",
       "      <th></th>\n",
       "      <th>num_orders</th>\n",
       "    </tr>\n",
       "  </thead>\n",
       "  <tbody>\n",
       "    <tr>\n",
       "      <th>count</th>\n",
       "      <td>26496.000000</td>\n",
       "    </tr>\n",
       "    <tr>\n",
       "      <th>mean</th>\n",
       "      <td>14.070463</td>\n",
       "    </tr>\n",
       "    <tr>\n",
       "      <th>std</th>\n",
       "      <td>9.211330</td>\n",
       "    </tr>\n",
       "    <tr>\n",
       "      <th>min</th>\n",
       "      <td>0.000000</td>\n",
       "    </tr>\n",
       "    <tr>\n",
       "      <th>25%</th>\n",
       "      <td>8.000000</td>\n",
       "    </tr>\n",
       "    <tr>\n",
       "      <th>50%</th>\n",
       "      <td>13.000000</td>\n",
       "    </tr>\n",
       "    <tr>\n",
       "      <th>75%</th>\n",
       "      <td>19.000000</td>\n",
       "    </tr>\n",
       "    <tr>\n",
       "      <th>max</th>\n",
       "      <td>119.000000</td>\n",
       "    </tr>\n",
       "  </tbody>\n",
       "</table>\n",
       "</div>"
      ],
      "text/plain": [
       "         num_orders\n",
       "count  26496.000000\n",
       "mean      14.070463\n",
       "std        9.211330\n",
       "min        0.000000\n",
       "25%        8.000000\n",
       "50%       13.000000\n",
       "75%       19.000000\n",
       "max      119.000000"
      ]
     },
     "metadata": {},
     "output_type": "display_data"
    },
    {
     "name": "stdout",
     "output_type": "stream",
     "text": [
      "=======================================\n",
      "Количество пропусков по столбцам:\n",
      "=======================================\n",
      "num_orders    0\n",
      "dtype: int64\n"
     ]
    }
   ],
   "source": [
    "df = file_reader(\"/datasets/taxi.csv\")"
   ]
  },
  {
   "cell_type": "code",
   "execution_count": 75,
   "metadata": {},
   "outputs": [
    {
     "name": "stdout",
     "output_type": "stream",
     "text": [
      "True\n"
     ]
    }
   ],
   "source": [
    "print(df.index.is_monotonic)"
   ]
  },
  {
   "cell_type": "code",
   "execution_count": 76,
   "metadata": {},
   "outputs": [
    {
     "name": "stdout",
     "output_type": "stream",
     "text": [
      "Время начала данных: 2018-03-01 00:00:00, время конца данных: 2018-08-31 23:50:00\n"
     ]
    }
   ],
   "source": [
    "print(\"Время начала данных: {0}, время конца данных: {1}\".format(df.index.min(), df.index.max()))"
   ]
  },
  {
   "cell_type": "code",
   "execution_count": 77,
   "metadata": {},
   "outputs": [],
   "source": [
    "#функция построения графиков\n",
    "def hist_builder(data_column, label, bins):\n",
    "   \n",
    "    sns.set(rc={\"figure.figsize\":(15, 15)}, font_scale=1)\n",
    "    f, axes = plt.subplots(1, 2)\n",
    "    \n",
    "    \n",
    "    (sns.distplot(data_column, bins=bins, ax=axes[0])\n",
    "     .set(title='Плотность распределения целевого признака: {0}'.format(label),\n",
    "          xlabel='Признак {0}'.format(label),\n",
    "          ylabel='Плотность целевого признака {0}'.format(label)))\n",
    "\n",
    "    (sns.boxplot(data_column, orient='h', ax=axes[1])\n",
    "       .set(title='Boxplot для целевого признака {0}'.format(label),\n",
    "        xlabel='Целевой ризнак {0}'.format(label)))\n",
    "    plt.show()\n",
    "#функция анализа аномалий\n",
    "def anomaly_detection(data_column, label):\n",
    "    anomaly_threshold_up = data_column.quantile(0.75) + (data_column.quantile(0.75) - data_column.quantile(0.25)) * 1.5\n",
    "    anomaly_threshold_down = data_column.quantile(0.25) - (data_column.quantile(0.75) - data_column.quantile(0.25)) * 1.5\n",
    "    anomaly_percent = round(len(data_column[(data_column > anomaly_threshold_up) | (data_column < anomaly_threshold_down)]) / len(data_column) * 100, 2)\n",
    "    print(\"Доля выбросов параметра \" + label + \" равно: \" + str(anomaly_percent) + \"%\")\n",
    "    \n",
    "#итоговая функция\n",
    "def check_param(bins, data_column, column):\n",
    "    print('=======================================')\n",
    "    print(\"Анализ параметров датасета\")\n",
    "    print('=======================================')\n",
    "\n",
    "    print('=======================================')\n",
    "    print(\"Анализ параметра '\" + column + \"':\")\n",
    "    print('=======================================')\n",
    "    hist_builder(data_column, column, bins)\n",
    "    anomaly_detection(data_column, column)\n"
   ]
  },
  {
   "cell_type": "code",
   "execution_count": 78,
   "metadata": {},
   "outputs": [
    {
     "name": "stdout",
     "output_type": "stream",
     "text": [
      "=======================================\n",
      "Анализ параметров датасета\n",
      "=======================================\n",
      "=======================================\n",
      "Анализ параметра 'Число заказов':\n",
      "=======================================\n"
     ]
    },
    {
     "data": {
      "image/png": "[encoded data removed]",
      "text/plain": [
       "<Figure size 1080x1080 with 2 Axes>"
      ]
     },
     "metadata": {},
     "output_type": "display_data"
    },
    {
     "name": "stdout",
     "output_type": "stream",
     "text": [
      "Доля выбросов параметра Число заказов равно: 2.59%\n"
     ]
    }
   ],
   "source": [
    "check_param(10, df['num_orders'], 'Число заказов')"
   ]
  },
  {
   "cell_type": "markdown",
   "metadata": {},
   "source": [
    "**Вывод по пункту 1:**\n"
   ]
  },
  {
   "cell_type": "markdown",
   "metadata": {},
   "source": [
    "- Провели общий осмотр данных, в датасете содержится 26496 наблюдений по единственному (целевому) признаку \"число заказов\". \n",
    "- Пропусков нет \n",
    "- Наблюдения расположены монотонно (временной индекс располагается в хронологическом порядке)\n",
    "- Доля выбросов по целевому признаку 'Число заказов': 2.59%. Не будем удалять выбросы, их число невелико, но они будут полезны для будущего анализа.\n",
    "- Данные скошены вправо (медиана 13 < среднее 14). Время начала данных: 2018-03-01 00:00:00, время конца данных: 2018-08-31 23:50:00. Минимальное число заказов:0, максимальное: 119"
   ]
  },
  {
   "cell_type": "markdown",
   "metadata": {},
   "source": [
    "## Анализ"
   ]
  },
  {
   "cell_type": "code",
   "execution_count": 79,
   "metadata": {},
   "outputs": [],
   "source": [
    "#ресемплируем данные по одному часу\n",
    "#df = df.sort_index()\n",
    "df = df.resample('1H').sum()"
   ]
  },
  {
   "cell_type": "code",
   "execution_count": 80,
   "metadata": {},
   "outputs": [
    {
     "data": {
      "text/html": [
       "<div>\n",
       "<style scoped>\n",
       "    .dataframe tbody tr th:only-of-type {\n",
       "        vertical-align: middle;\n",
       "    }\n",
       "\n",
       "    .dataframe tbody tr th {\n",
       "        vertical-align: top;\n",
       "    }\n",
       "\n",
       "    .dataframe thead th {\n",
       "        text-align: right;\n",
       "    }\n",
       "</style>\n",
       "<table border=\"1\" class=\"dataframe\">\n",
       "  <thead>\n",
       "    <tr style=\"text-align: right;\">\n",
       "      <th></th>\n",
       "      <th>num_orders</th>\n",
       "    </tr>\n",
       "    <tr>\n",
       "      <th>datetime</th>\n",
       "      <th></th>\n",
       "    </tr>\n",
       "  </thead>\n",
       "  <tbody>\n",
       "    <tr>\n",
       "      <th>2018-03-01 00:00:00</th>\n",
       "      <td>124</td>\n",
       "    </tr>\n",
       "    <tr>\n",
       "      <th>2018-03-01 01:00:00</th>\n",
       "      <td>85</td>\n",
       "    </tr>\n",
       "    <tr>\n",
       "      <th>2018-03-01 02:00:00</th>\n",
       "      <td>71</td>\n",
       "    </tr>\n",
       "    <tr>\n",
       "      <th>2018-03-01 03:00:00</th>\n",
       "      <td>66</td>\n",
       "    </tr>\n",
       "    <tr>\n",
       "      <th>2018-03-01 04:00:00</th>\n",
       "      <td>43</td>\n",
       "    </tr>\n",
       "    <tr>\n",
       "      <th>2018-03-01 05:00:00</th>\n",
       "      <td>6</td>\n",
       "    </tr>\n",
       "    <tr>\n",
       "      <th>2018-03-01 06:00:00</th>\n",
       "      <td>12</td>\n",
       "    </tr>\n",
       "    <tr>\n",
       "      <th>2018-03-01 07:00:00</th>\n",
       "      <td>15</td>\n",
       "    </tr>\n",
       "    <tr>\n",
       "      <th>2018-03-01 08:00:00</th>\n",
       "      <td>34</td>\n",
       "    </tr>\n",
       "    <tr>\n",
       "      <th>2018-03-01 09:00:00</th>\n",
       "      <td>69</td>\n",
       "    </tr>\n",
       "  </tbody>\n",
       "</table>\n",
       "</div>"
      ],
      "text/plain": [
       "                     num_orders\n",
       "datetime                       \n",
       "2018-03-01 00:00:00         124\n",
       "2018-03-01 01:00:00          85\n",
       "2018-03-01 02:00:00          71\n",
       "2018-03-01 03:00:00          66\n",
       "2018-03-01 04:00:00          43\n",
       "2018-03-01 05:00:00           6\n",
       "2018-03-01 06:00:00          12\n",
       "2018-03-01 07:00:00          15\n",
       "2018-03-01 08:00:00          34\n",
       "2018-03-01 09:00:00          69"
      ]
     },
     "execution_count": 80,
     "metadata": {},
     "output_type": "execute_result"
    }
   ],
   "source": [
    "df.head(10)"
   ]
  },
  {
   "cell_type": "markdown",
   "metadata": {},
   "source": [
    "Ресемплинг по одному часу прошел успешно"
   ]
  },
  {
   "cell_type": "code",
   "execution_count": 81,
   "metadata": {},
   "outputs": [
    {
     "data": {
      "image/png": "[encoded data removed]",
      "text/plain": [
       "<Figure size 1080x1080 with 1 Axes>"
      ]
     },
     "metadata": {},
     "output_type": "display_data"
    }
   ],
   "source": [
    "df['mean'] = df['num_orders'].rolling(15).mean()\n",
    "df['std'] = df['num_orders'].rolling(15).std()\n",
    "df.plot();"
   ]
  },
  {
   "cell_type": "code",
   "execution_count": 82,
   "metadata": {},
   "outputs": [],
   "source": [
    "del df['mean']\n",
    "del df['std']"
   ]
  },
  {
   "cell_type": "markdown",
   "metadata": {},
   "source": [
    "Среднее значение увеличивается, по стандартному отклонению наблюдаем небольшое увеличение. Временной ряд - нестационарный. Замечаем большое количество пик на графике, как в меньшую, так и в большую сторону.  Следовательно, есть периоды повышенного и пониженного спроса на такси. Посмотрим на тренд, сезонность и остаток для числа заказов. \n"
   ]
  },
  {
   "cell_type": "markdown",
   "metadata": {},
   "source": [
    "Найдем тренд, сезонность и остаток для числа заказов. "
   ]
  },
  {
   "cell_type": "code",
   "execution_count": 83,
   "metadata": {},
   "outputs": [
    {
     "data": {
      "image/png": "[encoded data removed]",
      "text/plain": [
       "<Figure size 1080x1080 with 3 Axes>"
      ]
     },
     "metadata": {},
     "output_type": "display_data"
    }
   ],
   "source": [
    "decomposed = seasonal_decompose(df)\n",
    "\n",
    "plt.figure(figsize=(15,15))\n",
    "plt.subplot(311)\n",
    "decomposed.trend.plot(ax=plt.gca())\n",
    "plt.title('Тренд')\n",
    "\n",
    "plt.subplot(312)\n",
    "decomposed.seasonal.plot(ax=plt.gca())\n",
    "plt.title('Сезонность')\n",
    "\n",
    "plt.subplot(313)\n",
    "decomposed.resid.plot(ax=plt.gca())\n",
    "plt.title('Остаток')\n",
    "\n",
    "plt.tight_layout()"
   ]
  },
  {
   "cell_type": "markdown",
   "metadata": {},
   "source": [
    "Наблюдения для общего объема данных:\n",
    "- Тренд: рост числа заказов от начала 2018-го года , почти линейный (степень при аргументе x в функции зависимости явно больше единицы)\n",
    "- Сезонность: необходимо исследовать на меньшем интервале\n",
    "- Остаток: заметен шум в данных, присутствуют пиковые значения количества заказов, как в меньшую так и в большую сторону"
   ]
  },
  {
   "cell_type": "code",
   "execution_count": 84,
   "metadata": {},
   "outputs": [
    {
     "data": {
      "image/png": "[encoded data removed]",
      "text/plain": [
       "<Figure size 1080x1080 with 1 Axes>"
      ]
     },
     "metadata": {},
     "output_type": "display_data"
    },
    {
     "data": {
      "image/png": "[encoded data removed]",
      "text/plain": [
       "<Figure size 1080x1080 with 1 Axes>"
      ]
     },
     "metadata": {},
     "output_type": "display_data"
    }
   ],
   "source": [
    "decomposed = seasonal_decompose(df['2018-08-01':'2018-08-15'])\n",
    "\n",
    "plt.figure(figsize=(15,15))\n",
    "plt.subplot(311)\n",
    "decomposed.trend.plot(ax=plt.gca())\n",
    "plt.title('Тренд')\n",
    "\n",
    "plt.figure(figsize=(15,15))\n",
    "plt.subplot(311)\n",
    "decomposed.resid.plot(ax=plt.gca())\n",
    "plt.title('Остаток')\n",
    "\n",
    "plt.tight_layout()"
   ]
  },
  {
   "cell_type": "code",
   "execution_count": 85,
   "metadata": {},
   "outputs": [
    {
     "data": {
      "image/png": "[encoded data removed]",
      "text/plain": [
       "<Figure size 1080x1080 with 1 Axes>"
      ]
     },
     "metadata": {},
     "output_type": "display_data"
    }
   ],
   "source": [
    "decomposed = seasonal_decompose(df['2018-08-01':'2018-08-02'])\n",
    "\n",
    "plt.figure(figsize=(15,15))\n",
    "\n",
    "plt.subplot(311)\n",
    "decomposed.seasonal.plot(ax=plt.gca())\n",
    "plt.title('Сезонность')\n",
    "\n",
    "plt.tight_layout()"
   ]
  },
  {
   "cell_type": "markdown",
   "metadata": {},
   "source": [
    "Наблюдения для первых дней августа 2018-го года:\n",
    "\n",
    "- Сезонность: минимум заказов - на утренний период с 6 утра до 8 утра, максимум заказов - на ночной период с 0 часов до 2-3 часов. Возможно, это связано с закрытием других видов транспорта (метро, автобусы) в ночное время.\n",
    "- Остаток: в определенные дни заметны выбросы. Возможно, это связано с праздником в эти дни или с каким-то событием. "
   ]
  },
  {
   "cell_type": "markdown",
   "metadata": {},
   "source": [
    "**Выводы по пункту 2:**\n",
    "\n",
    "- Произвели ресемплинг данных по одному часу\n",
    "- Среднее значение увеличивается, стандартное отклонение - наблюдаем небольшое увеличение. Временной ряд - нестационарный.\n",
    "- Заметно большое количество пик на графике, направленных как в меньшую, так и в большую сторону. Скользящее среднее может помочь в прогнозировании. \n",
    "\n",
    "Наблюдения по тренду, сезонности и остатку :\n",
    "\n",
    "- **Тренд**: рост числа заказов от начала 2018-го года , почти линейный (степень при аргументе x в функции зависимости явно больше единицы). В контексте пары дней - среднее увеличение близко к линейному.\n",
    "- **Сезонность**: минимум заказов - на утренний период с 6 утра до 8 утра, максимум заказов - на ночной период с 0 часов до 2-3 часов. Возможно, это связано с недоступностью других видов транспорта (метро, автобусы) в ночное время.\n",
    "- **Остаток**: заметен шум в данных, присутствуют пиковые значения количества заказов, как в меньшую так и в большую сторону. В определенные дни заметны значительные выбросы. Возможно, это связано с праздником в эти дни или с каким-то событием. "
   ]
  },
  {
   "cell_type": "markdown",
   "metadata": {},
   "source": [
    "## Обучение"
   ]
  },
  {
   "cell_type": "markdown",
   "metadata": {},
   "source": [
    "Модели будем проверять на адекватность прогнозированием без обучения. Для этого будем предсказывать значение средним и предыдущим значением. "
   ]
  },
  {
   "cell_type": "code",
   "execution_count": 86,
   "metadata": {},
   "outputs": [],
   "source": [
    "train, test = train_test_split(df, shuffle = False, test_size=0.1)"
   ]
  },
  {
   "cell_type": "markdown",
   "metadata": {},
   "source": [
    "Предсказание средним значением (mean)"
   ]
  },
  {
   "cell_type": "code",
   "execution_count": 87,
   "metadata": {},
   "outputs": [
    {
     "name": "stdout",
     "output_type": "stream",
     "text": [
      "RMSE = 84.74\n"
     ]
    }
   ],
   "source": [
    "pred_mean = np.ones(test.shape) * train['num_orders'].mean()\n",
    "rmse_mean_model = mean_squared_error(test['num_orders'], pred_mean)**0.5\n",
    "print(\"RMSE = {0}\".format(round(rmse_mean_model, 2)))"
   ]
  },
  {
   "cell_type": "markdown",
   "metadata": {},
   "source": [
    "Предсказание последним значением (t-1)"
   ]
  },
  {
   "cell_type": "code",
   "execution_count": 88,
   "metadata": {},
   "outputs": [
    {
     "name": "stdout",
     "output_type": "stream",
     "text": [
      "RMSE = 58.86\n"
     ]
    }
   ],
   "source": [
    "pred_predictions = test.shift()\n",
    "pred_predictions.iloc[0] = train.iloc[-1]\n",
    "rmse_pred_model = mean_squared_error(test['num_orders'], pred_predictions)**0.5\n",
    "print(\"RMSE = {0}\".format(round(rmse_pred_model, 2)))"
   ]
  },
  {
   "cell_type": "markdown",
   "metadata": {},
   "source": [
    "RMSE для модели с \"отстающим предсказанием\" (58.9) < RMSE для модели со \"средним предсказанием\" (84.7). То есть обе модели не проходят по требованию задания (RMSE < 48). \n",
    "\n",
    "Необходимо добавить временные признаки, обучить на них модели, подбирая оптимальные гиперпараметры, оценить модели на тестовой выборке и отобрать лучшую из них по RMSE, учитывая что RMSE должно получиться меньше 48."
   ]
  },
  {
   "cell_type": "markdown",
   "metadata": {},
   "source": [
    "Добавим временные признаки: \n",
    "\n",
    "- календарные - месяц, день недели, час \n",
    "- отстающие значения (i значений) - определение по предыдущим значениям, будет ли функция расти или уменьшаться\n",
    "- скользящее среднее - задает общий тренд временного ряда"
   ]
  },
  {
   "cell_type": "code",
   "execution_count": 98,
   "metadata": {},
   "outputs": [],
   "source": [
    "def make_features(data, max_lag, rolling_mean_size):\n",
    "    \n",
    "    #календарные\n",
    "\n",
    "    #data['month'] = data.index.month\n",
    "    #data['day'] = data.index.day -> уменьшает точность прогноза по rmse\n",
    "    data['dayofweek'] = data.index.dayofweek\n",
    "    #data['hour'] = data.index.hour -> уменьшает точность прогноза по rmse\n",
    "    \n",
    "    #отстающие\n",
    "    for lag in range(1, max_lag+1):\n",
    "        data['lag_{0}'.format(lag)] = data['num_orders'].shift(lag)\n",
    "        \n",
    "    #скользящее среднее\n",
    "    data['rolling_mean'] = data['num_orders'].shift().rolling(rolling_mean_size).mean()\n",
    "    \n",
    "    return data"
   ]
  },
  {
   "cell_type": "code",
   "execution_count": 99,
   "metadata": {},
   "outputs": [],
   "source": [
    "class My_model:\n",
    "    #self.optimizer:\n",
    "    #1.создает модель с различными комбинациями гиперпараметров\n",
    "    #2. обучает ее на данных с различными комбинациями временных признаков\n",
    "    #3. тестирует ее на валидационной выборке\n",
    "    #\n",
    "    #\n",
    "    '''\n",
    "    \n",
    "    self.optimizer(model_name, dataset):\n",
    "    1. создает модель с различными комбинациями гиперпараметров\n",
    "    2. обучает ее на данных с различными комбинациями временных признаков\n",
    "    3. тестирует ее на валидационной выборке\n",
    "    \n",
    "    self.tester():\n",
    "    Тестирует модель на тестовой выборке\n",
    "    \n",
    "    self.feature_importance():\n",
    "    Находит \"важность\" каждого параметра для модели при предикции\n",
    "    \n",
    "    '''\n",
    "    def __init__(self, model_name, dataset):\n",
    "        \n",
    "        self.dataset = dataset.copy()\n",
    "        self.model_name = model_name\n",
    "        self.optimizer(self.model_name, self.dataset)\n",
    "        \n",
    "        \n",
    "    def optimizer(self, model_name, dataset):\n",
    "    \n",
    "        self.best_max_lag = 0\n",
    "        self.best_rolling_mean_size = 0\n",
    "        self.best_rmse = 48 #по условию должно быть ниже 48\n",
    "        \n",
    "        if (model_name=='Ridge'):\n",
    "            self.best_alpha = 0\n",
    "        elif (model_name=='LGBMRegressor'):\n",
    "            self.best_n_estimators = 0\n",
    "            self.best_depth = 0\n",
    "    \n",
    "        for lag in range(8, 50, 20):\n",
    "\n",
    "            for rolling_mean_size in range(15, 70, 20):\n",
    "                #при валидации: \n",
    "                #обучаем на первых 80%, валидируем на 10%\n",
    "                #при тестировании: \n",
    "                #обучаем на 90% (80 с обучения + 10 с валидации), тестируем на последних 10%\n",
    "                self.data = make_features(dataset, lag, rolling_mean_size)\n",
    "                train_valid, test = train_test_split(self.data, shuffle=False, test_size=0.1)\n",
    "                train, valid = train_test_split(train_valid, shuffle=False, test_size=0.1)\n",
    "\n",
    "                train = train.dropna()\n",
    "                train_valid = train_valid.dropna()\n",
    "                \n",
    "\n",
    "                train_features = train.drop(['num_orders'], axis=1)\n",
    "                train_target = train['num_orders']\n",
    "                \n",
    "                valid_features = valid.drop(['num_orders'], axis=1)\n",
    "                valid_target = valid['num_orders']\n",
    "\n",
    "                train_valid_features = train_valid.drop(['num_orders'], axis=1)\n",
    "                train_valid_target = train_valid['num_orders']\n",
    "\n",
    "                test_features = test.drop(['num_orders'], axis=1)\n",
    "                test_target = test['num_orders']\n",
    "\n",
    "                if (model_name=='LinearRegression'):\n",
    "                    model = LinearRegression()\n",
    "                    model.fit(train_features, train_target)\n",
    "                    predictions = model.predict(valid_features)\n",
    "                    rmse = mean_squared_error(valid_target, predictions) ** 0.5\n",
    "\n",
    "                    if (rmse < self.best_rmse):\n",
    "                        \n",
    "                        self.best_rmse = rmse\n",
    "                        self.best_max_lag = lag\n",
    "                        self.best_rolling_mean_size = rolling_mean_size\n",
    "                        \n",
    "                        self.model = model\n",
    "                        \n",
    "                        self.train_valid_features = train_valid_features\n",
    "                        self.train_valid_target = train_valid_target\n",
    "                        \n",
    "                        self.train_features = train_features\n",
    "                        self.train_target = train_target\n",
    "                        \n",
    "                        self.valid_features = valid_features\n",
    "                        self.valid_target = valid_target\n",
    "                        \n",
    "                        self.test_features = test_features\n",
    "                        self.test_target = test_target\n",
    "                        \n",
    "\n",
    "                elif (model_name == 'Lasso'):\n",
    "\n",
    "                    for alpha in np.arange(0, 2, 0.5):\n",
    "                        \n",
    "                        model = Lasso(alpha=alpha)\n",
    "                        model.fit(train_features, train_target)\n",
    "                        predictions = model.predict(valid_features)\n",
    "                        rmse = mean_squared_error(valid_target, predictions) ** 0.5\n",
    "\n",
    "                        if (rmse < self.best_rmse):\n",
    "                            \n",
    "                            self.best_rmse = rmse\n",
    "                            self.best_max_lag = lag\n",
    "                            self.best_rolling_mean_size = rolling_mean_size\n",
    "                            \n",
    "                            self.best_alpha = alpha\n",
    "                            \n",
    "                            self.model = model\n",
    "                        \n",
    "                            self.train_valid_features = train_valid_features\n",
    "                            self.train_valid_target = train_valid_target\n",
    "\n",
    "                            self.train_features = train_features\n",
    "                            self.train_target = train_target\n",
    "\n",
    "                            self.valid_features = valid_features\n",
    "                            self.valid_target = valid_target\n",
    "\n",
    "                            self.test_features = test_features\n",
    "                            self.test_target = test_target\n",
    "                        \n",
    "                elif (model_name == 'Ridge'):\n",
    "\n",
    "                    for alpha in np.arange(0, 2, 0.5):\n",
    "\n",
    "                        model = Ridge(alpha=alpha)\n",
    "                        model.fit(train_features, train_target)\n",
    "                        predictions = model.predict(valid_features)\n",
    "                        rmse = mean_squared_error(valid_target, predictions) ** 0.5\n",
    "\n",
    "                        if (rmse < self.best_rmse):\n",
    "                            \n",
    "                            self.best_rmse = rmse\n",
    "                            self.best_max_lag = lag\n",
    "                            self.best_rolling_mean_size = rolling_mean_size\n",
    "                            \n",
    "                            self.best_alpha = alpha\n",
    "                            \n",
    "                            self.model = model\n",
    "                        \n",
    "                            self.train_valid_features = train_valid_features\n",
    "                            self.train_valid_target = train_valid_target\n",
    "\n",
    "                            self.train_features = train_features\n",
    "                            self.train_target = train_target\n",
    "\n",
    "                            self.valid_features = valid_features\n",
    "                            self.valid_target = valid_target\n",
    "\n",
    "                            self.test_features = test_features\n",
    "                            self.test_target = test_target\n",
    "\n",
    "                elif (model_name=='LGBMRegressor'):\n",
    "\n",
    "                    for n_estimator in range(100, 400,200):\n",
    "                        for depth in range(5,10,3):\n",
    "                            model = LGBMRegressor(n_estimators=n_estimator, max_depth=depth)\n",
    "\n",
    "                            model.fit(train_features, train_target)\n",
    "                            predictions = model.predict(valid_features)\n",
    "                            rmse = mean_squared_error(valid_target, predictions) ** 0.5\n",
    "\n",
    "                            if (rmse < self.best_rmse):\n",
    "                                \n",
    "                                self.best_rmse = rmse\n",
    "                                self.best_max_lag = lag\n",
    "                                self.best_rolling_mean_size = rolling_mean_size\n",
    "                                \n",
    "                                self.best_n_estimators = n_estimator\n",
    "                                self.best_depth = depth  \n",
    "                                \n",
    "                                self.model = model\n",
    "\n",
    "                                self.train_valid_features = train_valid_features\n",
    "                                self.train_valid_target = train_valid_target\n",
    "\n",
    "                                self.train_features = train_features\n",
    "                                self.train_target = train_target\n",
    "\n",
    "                                self.valid_features = valid_features\n",
    "                                self.valid_target = valid_target\n",
    "\n",
    "                                self.test_features = test_features\n",
    "                                self.test_target = test_target\n",
    "\n",
    "\n",
    "        if (model_name=='LinearRegression'):\n",
    "            print(\"Model: LinearRegression, RMSE: {0}, max_lag: {1}, rolling_mean_size: {2}\".format(round(self.best_rmse, 2), self.best_max_lag, self.best_rolling_mean_size))\n",
    "        \n",
    "        elif (model_name == 'Lasso'):\n",
    "            print(\"Model: Lasso, RMSE: {0}, max_lag: {1}, rolling_mean_size: {2}, alpha: {3}\".format(round(self.best_rmse, 2), self.best_max_lag, self.best_rolling_mean_size, self.best_alpha))\n",
    "        \n",
    "        elif (model_name == 'Ridge'):\n",
    "            print(\"Model: Ridge, RMSE: {0}, max_lag: {1}, rolling_mean_size: {2}, alpha: {3}\".format(round(self.best_rmse, 2), self.best_max_lag, self.best_rolling_mean_size, self.best_alpha))\n",
    "\n",
    "        elif (model_name=='LGBMRegressor'):\n",
    "            print(\"Model: LGBMRegressor, RMSE: {0}, max_lag: {1}, rolling_mean_size: {2}, n_estimators: {3}, depth: {4}\".format(round(self.best_rmse, 2), self.best_max_lag, self.best_rolling_mean_size, self.best_n_estimators, self.best_depth))\n",
    "            \n",
    "            \n",
    "    def tester(self):\n",
    "        \n",
    "\n",
    "        self.model.fit(self.train_valid_features, self.train_valid_target)\n",
    "        \n",
    "        predictions = self.model.predict(self.test_features)\n",
    "        rmse = mean_squared_error(self.test_target, predictions) ** 0.5\n",
    "        \n",
    "        prediction_df = pd.DataFrame(data=predictions, columns=['predictions'], index=self.test_target.index)\n",
    "        comparison_table = pd.merge(self.test_target['2018-08-20':'2018-08-22'], prediction_df['2018-08-20':'2018-08-22'], left_index=True, right_index=True)\n",
    "        comparison_table.plot()\n",
    "        \n",
    "        print(\"{0} model test result: RMSE: {1}\".format(self.model_name, round(rmse, 2)))\n",
    "        \n",
    "    def feature_importance(self):\n",
    "        \n",
    "        if (self.model_name == \"LinearRegression\"):\n",
    "            feature_importances = self.model.coef_\n",
    "        elif (self.model_name == \"LGBMRegressor\"):   \n",
    "            feature_importances = self.model.feature_importances_\n",
    "            \n",
    "        features = self.test_features.columns\n",
    "\n",
    "        data = pd.DataFrame({'features' : features, 'feature_importances' : feature_importances})\n",
    "        data.sort_values(by=['feature_importances'], inplace=True, ascending=False)\n",
    "        data = data[:10]\n",
    "\n",
    "        plt.figure(figsize=(15,15))\n",
    "\n",
    "        sns.barplot(x=data['features'], y = data['feature_importances'])\n",
    "\n",
    "        plt.title('Feature importances for {0} model'.format(self.model_name))\n",
    "        plt.xlabel('features')\n",
    "        plt.ylabel('feature_importances')\n",
    "        \n",
    "        \n"
   ]
  },
  {
   "cell_type": "code",
   "execution_count": 100,
   "metadata": {},
   "outputs": [
    {
     "name": "stdout",
     "output_type": "stream",
     "text": [
      "Model: LinearRegression, RMSE: 31.64, max_lag: 48, rolling_mean_size: 15\n",
      "CPU times: user 687 ms, sys: 630 ms, total: 1.32 s\n",
      "Wall time: 1.24 s\n"
     ]
    }
   ],
   "source": [
    "%%time\n",
    "\n",
    "my_linear_regression = My_model('LinearRegression', df)"
   ]
  },
  {
   "cell_type": "code",
   "execution_count": 101,
   "metadata": {},
   "outputs": [
    {
     "name": "stdout",
     "output_type": "stream",
     "text": [
      "Model: Lasso, RMSE: 31.64, max_lag: 48, rolling_mean_size: 55, alpha: 1.5\n",
      "CPU times: user 7.97 s, sys: 9.25 s, total: 17.2 s\n",
      "Wall time: 17.2 s\n"
     ]
    }
   ],
   "source": [
    "%%time\n",
    "\n",
    "my_lasso_regression = My_model('Lasso', df)"
   ]
  },
  {
   "cell_type": "code",
   "execution_count": 102,
   "metadata": {},
   "outputs": [
    {
     "name": "stdout",
     "output_type": "stream",
     "text": [
      "Model: Ridge, RMSE: 31.64, max_lag: 48, rolling_mean_size: 35, alpha: 1.5\n",
      "CPU times: user 1.62 s, sys: 1.92 s, total: 3.54 s\n",
      "Wall time: 3.59 s\n"
     ]
    }
   ],
   "source": [
    "%%time\n",
    "\n",
    "my_ridge_regression = My_model('Ridge', df)"
   ]
  },
  {
   "cell_type": "code",
   "execution_count": 103,
   "metadata": {},
   "outputs": [
    {
     "name": "stdout",
     "output_type": "stream",
     "text": [
      "Model: LGBMRegressor, RMSE: 30.86, max_lag: 48, rolling_mean_size: 15, n_estimators: 300, depth: 8\n",
      "CPU times: user 50.8 s, sys: 636 ms, total: 51.4 s\n",
      "Wall time: 52.3 s\n"
     ]
    }
   ],
   "source": [
    "%%time\n",
    "\n",
    "my_lgbm = My_model('LGBMRegressor', df)"
   ]
  },
  {
   "cell_type": "code",
   "execution_count": 104,
   "metadata": {},
   "outputs": [
    {
     "data": {
      "text/html": [
       "<div>\n",
       "<style scoped>\n",
       "    .dataframe tbody tr th:only-of-type {\n",
       "        vertical-align: middle;\n",
       "    }\n",
       "\n",
       "    .dataframe tbody tr th {\n",
       "        vertical-align: top;\n",
       "    }\n",
       "\n",
       "    .dataframe thead th {\n",
       "        text-align: right;\n",
       "    }\n",
       "</style>\n",
       "<table border=\"1\" class=\"dataframe\">\n",
       "  <thead>\n",
       "    <tr style=\"text-align: right;\">\n",
       "      <th></th>\n",
       "      <th>rmse</th>\n",
       "      <th>max_lag</th>\n",
       "      <th>rolling_mean_size</th>\n",
       "      <th>alpha</th>\n",
       "      <th>n_estimators</th>\n",
       "      <th>depth</th>\n",
       "    </tr>\n",
       "  </thead>\n",
       "  <tbody>\n",
       "    <tr>\n",
       "      <th>LinearRegression</th>\n",
       "      <td>31.64</td>\n",
       "      <td>48</td>\n",
       "      <td>15</td>\n",
       "      <td>NaN</td>\n",
       "      <td>NaN</td>\n",
       "      <td>NaN</td>\n",
       "    </tr>\n",
       "    <tr>\n",
       "      <th>Lasso</th>\n",
       "      <td>31.64</td>\n",
       "      <td>48</td>\n",
       "      <td>55</td>\n",
       "      <td>1.5</td>\n",
       "      <td>NaN</td>\n",
       "      <td>NaN</td>\n",
       "    </tr>\n",
       "    <tr>\n",
       "      <th>Ridge</th>\n",
       "      <td>31.64</td>\n",
       "      <td>48</td>\n",
       "      <td>35</td>\n",
       "      <td>1.5</td>\n",
       "      <td>NaN</td>\n",
       "      <td>NaN</td>\n",
       "    </tr>\n",
       "    <tr>\n",
       "      <th>LightGBM</th>\n",
       "      <td>30.86</td>\n",
       "      <td>48</td>\n",
       "      <td>15</td>\n",
       "      <td>NaN</td>\n",
       "      <td>300.0</td>\n",
       "      <td>8.0</td>\n",
       "    </tr>\n",
       "  </tbody>\n",
       "</table>\n",
       "</div>"
      ],
      "text/plain": [
       "                   rmse  max_lag  rolling_mean_size  alpha  n_estimators  \\\n",
       "LinearRegression  31.64       48                 15    NaN           NaN   \n",
       "Lasso             31.64       48                 55    1.5           NaN   \n",
       "Ridge             31.64       48                 35    1.5           NaN   \n",
       "LightGBM          30.86       48                 15    NaN         300.0   \n",
       "\n",
       "                  depth  \n",
       "LinearRegression    NaN  \n",
       "Lasso               NaN  \n",
       "Ridge               NaN  \n",
       "LightGBM            8.0  "
      ]
     },
     "execution_count": 104,
     "metadata": {},
     "output_type": "execute_result"
    }
   ],
   "source": [
    "final_table = pd.DataFrame([[round(my_linear_regression.best_rmse, 2), my_linear_regression.best_max_lag, my_linear_regression.best_rolling_mean_size, np.nan, np.nan, np.nan],\n",
    "                           [round(my_lasso_regression.best_rmse, 2), my_lasso_regression.best_max_lag, my_lasso_regression.best_rolling_mean_size, my_lasso_regression.best_alpha, np.nan, np.nan],\n",
    "                           [round(my_ridge_regression.best_rmse, 2), my_ridge_regression.best_max_lag, my_ridge_regression.best_rolling_mean_size, my_ridge_regression.best_alpha, np.nan, np.nan],\n",
    "                           [round(my_lgbm.best_rmse, 2), my_lgbm.best_max_lag, my_lgbm.best_rolling_mean_size, np.nan, my_lgbm.best_n_estimators, my_lgbm.best_depth]],\n",
    "                           columns=['rmse', 'max_lag', 'rolling_mean_size', 'alpha', 'n_estimators', 'depth'],\n",
    "                           index=['LinearRegression', 'Lasso', 'Ridge', 'LightGBM'])\n",
    "final_table"
   ]
  },
  {
   "cell_type": "markdown",
   "metadata": {},
   "source": [
    "**Выводы по пункту 3:**\n",
    "\n"
   ]
  },
  {
   "cell_type": "markdown",
   "metadata": {},
   "source": [
    "- RMSE для модели с \"отстающим предсказанием\" равно 58.9, при этом оно меньше, чем RMSE для модели с \"средним предсказанием\" (84.7). То есть обе модели не проходят по требованию задания (RMSE < 48). \n",
    "- RMSE для линейной регрессии примерно равно RMSE для Lasso и Ridge, что говорит об отсутствии необходимости регуляризации в данном случае.\n",
    "- Важно отметить, что все модели показывают хорошие результаты предсказания по RMSE на валидационной выборке.\n",
    "- В качестве модели для тестирования принимаем lightGMB (как лучшую по RMSE = 30.86) с параметрами данных max_lag = 48, rolling_mean_size = 15 и гиперпараметрами модели n_estimators = 300, max_depth = 8.\n",
    "\n"
   ]
  },
  {
   "cell_type": "markdown",
   "metadata": {},
   "source": [
    "## Тестирование"
   ]
  },
  {
   "cell_type": "markdown",
   "metadata": {},
   "source": [
    "Модель lightGBM на валидационной выбоке показала лучший резултат по RMSE и подходит под условия задачи (RMSE < 48). Посмотрим на результат предсказания на тестовой выборке."
   ]
  },
  {
   "cell_type": "code",
   "execution_count": 105,
   "metadata": {},
   "outputs": [
    {
     "name": "stdout",
     "output_type": "stream",
     "text": [
      "LGBMRegressor model test result: RMSE: 39.33\n",
      "CPU times: user 3.22 s, sys: 40.8 ms, total: 3.26 s\n",
      "Wall time: 3.31 s\n"
     ]
    },
    {
     "data": {
      "image/png": "[encoded data removed]",
      "text/plain": [
       "<Figure size 1080x1080 with 1 Axes>"
      ]
     },
     "metadata": {},
     "output_type": "display_data"
    }
   ],
   "source": [
    "%%time\n",
    "\n",
    "my_lgbm.tester()"
   ]
  },
  {
   "cell_type": "code",
   "execution_count": 106,
   "metadata": {},
   "outputs": [
    {
     "data": {
      "image/png": "[encoded data removed]",
      "text/plain": [
       "<Figure size 1080x1080 with 1 Axes>"
      ]
     },
     "metadata": {},
     "output_type": "display_data"
    }
   ],
   "source": [
    "my_lgbm.feature_importance()"
   ]
  },
  {
   "cell_type": "markdown",
   "metadata": {},
   "source": []
  },
  {
   "cell_type": "markdown",
   "metadata": {},
   "source": [
    "**Выводы по пункту 4:**\n",
    "\n",
    "- **Итоговое RMSE на тестовой выбоке равно 39.33 < 48. Следовательно, модель справилась с условием задачи.**\n",
    "- Топ-3 параметров, на основе которых модель делает предсказание (в порядке убывания значимости): **lag_48**, **lag_24**, **lag_1**\n",
    "- **По оценке важности параметров необходимо интересно заметить, что модель в основном опирается на (1) подобные значения за предыдущие дни (lag_48 lag_24), и (2) на недавние значение (lag_1)**\n",
    "- По графику количества заказов видно, что модель успешно предсказывает примерное число заказов, однако не способна распознать аномальные пиковые значение. Возможно, следует определить, в связи с чем происходят эти скачки в значениях и добавить еще параметр (например, был особенный день (чемпионат по футболу, который вызвал наплыв туристов)), который будет отражать пики."
   ]
  },
  {
   "cell_type": "markdown",
   "metadata": {},
   "source": [
    "# Общий вывод"
   ]
  },
  {
   "cell_type": "markdown",
   "metadata": {},
   "source": [
    "**По осмотру данных**\n",
    "\n",
    "- Провели общий осмотр данных, в датасете содержится 26496 наблюдений по единственному (целевому) признаку \"число заказов\". \n",
    "- Пропусков нет \n",
    "- Наблюдения расположены монотонно (временной индекс располагается в хронологическом порядке)\n",
    "- Доля выбросов по целевому признаку 'Число заказов': 2.59%. Не будем удалять выбросы, их число невелико, но они будут полезны для будущего анализа.\n",
    "- Данные скошены вправо (медиана 13 < среднее 14). Время начала данных: 2018-03-01 00:00:00, время конца данных: 2018-08-31 23:50:00. Минимальное число заказов:0, максимальное: 119\n",
    "\n",
    "**По анализу данных**\n",
    "\n",
    "- Произвели ресемплинг данных по одному часу\n",
    "- Среднее значение увеличивается, стандартное отклонение - наблюдаем небольшое увеличение. Временной ряд - нестационарный.\n",
    "- Заметно большое количество пик на графике, направленных как в меньшую, так и в большую сторону.\n",
    "\n",
    "Наблюдения по тренду, сезонности и остатку :\n",
    "\n",
    "- **Тренд**: рост числа заказов от начала 2018-го года , почти линейный (степень при аргументе x в функции зависимости явно больше единицы). В контексте пары дней - средний тренд увеличения близок к линейному.\n",
    "- **Сезонность**: минимум заказов - на утренний период с 6 утра до 8 утра, максимум заказов - на ночной период с 0 часов до 2-3 часов. Возможно, это связано с недоступностью других видов транспорта (метро, автобусы) в ночное время.\n",
    "- **Остаток**: заметен шум в данных, присутствуют пиковые значения количества заказов, как в меньшую так и в большую сторону. В определенные дни заметны значительные выбросы. Возможно, это связано с праздником в эти дни или с каким-то событием. \n",
    "\n",
    "**По обучению моделей**\n",
    "\n",
    "- RMSE для модели с \"отстающим предсказанием\" равно 58.9, при этом оно меньше, чем RMSE для модели с \"средним предсказанием\" (84.7). То есть обе модели не проходят по требованию задания (RMSE < 48). \n",
    "- RMSE для линейной регрессии примерно равно RMSE для Lasso и Ridge, что говорит об отсутствии необходимости регуляризации в данном случае.\n",
    "- Важно отметить, что все модели показывают хорошие результаты предсказания по RMSE на валидационной выборке.\n",
    "- В качестве модели для тестирования принимаем lightGMB (как лучшую по RMSE = 30.86) с параметрами данных max_lag = 48, rolling_mean_size = 15 и гиперпараметрами модели n_estimators = 300, max_depth = 8.\n",
    "\n",
    "\n",
    "**По тестированию**\n",
    "\n",
    "- **Итоговое RMSE на тестовой выбоке равно 39.33 < 48. Следовательно, модель справилась с условием задачи.**\n",
    "- Топ-3 параметров, на основе которых модель делает предсказание (в порядке убывания значимости): **lag_48**, **lag_24**, **lag_1**\n",
    "- **По оценке важности параметров необходимо интересно заметить, что модель в основном опирается на (1) подобные значения за предыдущие дни (lag_48 lag_24), и (2) на недавние значение (lag_1)**\n",
    "- По графику количества заказов видно, что модель успешно предсказывает примерное число заказов, однако не способна распознать аномальные пиковые значение. Возможно, следует определить, в связи с чем происходят эти скачки в значениях и добавить еще параметр (например, был особенный день (чемпионат по футболу, который вызвал наплыв туристов)), который будет отражать пики.\n"
   ]
  }
 ],
 "metadata": {
  "ExecuteTimeLog": [
   {
    "duration": 1709,
    "start_time": "2022-03-23T12:58:15.881Z"
   },
   {
    "duration": 5,
    "start_time": "2022-03-23T12:58:17.592Z"
   },
   {
    "duration": 62,
    "start_time": "2022-03-23T12:58:18.840Z"
   },
   {
    "duration": 4,
    "start_time": "2022-03-23T13:00:09.387Z"
   },
   {
    "duration": 53,
    "start_time": "2022-03-23T13:00:09.679Z"
   },
   {
    "duration": 104,
    "start_time": "2022-03-23T13:03:15.678Z"
   },
   {
    "duration": 8,
    "start_time": "2022-03-23T13:03:18.455Z"
   },
   {
    "duration": 8,
    "start_time": "2022-03-23T13:03:50.703Z"
   },
   {
    "duration": 10,
    "start_time": "2022-03-23T13:04:05.323Z"
   },
   {
    "duration": 7,
    "start_time": "2022-03-23T13:04:16.061Z"
   },
   {
    "duration": 14,
    "start_time": "2022-03-23T13:04:16.209Z"
   },
   {
    "duration": 10,
    "start_time": "2022-03-23T13:07:27.981Z"
   },
   {
    "duration": 7,
    "start_time": "2022-03-23T13:07:42.092Z"
   },
   {
    "duration": 663,
    "start_time": "2022-03-23T13:07:42.249Z"
   },
   {
    "duration": 7,
    "start_time": "2022-03-23T13:07:58.797Z"
   },
   {
    "duration": 517,
    "start_time": "2022-03-23T13:07:58.981Z"
   },
   {
    "duration": 4,
    "start_time": "2022-03-23T13:09:23.829Z"
   },
   {
    "duration": 4,
    "start_time": "2022-03-23T13:09:24.010Z"
   },
   {
    "duration": 54,
    "start_time": "2022-03-23T13:09:24.183Z"
   },
   {
    "duration": 8,
    "start_time": "2022-03-23T13:09:24.501Z"
   },
   {
    "duration": 611,
    "start_time": "2022-03-23T13:09:25.095Z"
   },
   {
    "duration": 90,
    "start_time": "2022-03-23T13:09:34.425Z"
   },
   {
    "duration": 632,
    "start_time": "2022-03-23T13:09:35.005Z"
   },
   {
    "duration": 7,
    "start_time": "2022-03-23T13:13:35.754Z"
   },
   {
    "duration": 771,
    "start_time": "2022-03-23T13:13:35.878Z"
   },
   {
    "duration": 8,
    "start_time": "2022-03-23T13:13:40.756Z"
   },
   {
    "duration": 665,
    "start_time": "2022-03-23T13:13:40.874Z"
   },
   {
    "duration": 11,
    "start_time": "2022-03-23T13:15:06.123Z"
   },
   {
    "duration": 4,
    "start_time": "2022-03-23T13:15:11.097Z"
   },
   {
    "duration": 5,
    "start_time": "2022-03-23T13:44:18.004Z"
   },
   {
    "duration": 5,
    "start_time": "2022-03-23T13:44:18.158Z"
   },
   {
    "duration": 7,
    "start_time": "2022-03-23T13:44:32.815Z"
   },
   {
    "duration": 4,
    "start_time": "2022-03-23T13:45:57.263Z"
   },
   {
    "duration": 10,
    "start_time": "2022-03-23T13:47:43.918Z"
   },
   {
    "duration": 3,
    "start_time": "2022-03-23T13:47:49.763Z"
   },
   {
    "duration": 13,
    "start_time": "2022-03-23T13:48:29.096Z"
   },
   {
    "duration": 13,
    "start_time": "2022-03-23T13:48:29.231Z"
   },
   {
    "duration": 5,
    "start_time": "2022-03-23T13:49:03.433Z"
   },
   {
    "duration": 6,
    "start_time": "2022-03-23T13:49:03.441Z"
   },
   {
    "duration": 110,
    "start_time": "2022-03-23T13:49:03.449Z"
   },
   {
    "duration": 3,
    "start_time": "2022-03-23T13:49:03.560Z"
   },
   {
    "duration": 6,
    "start_time": "2022-03-23T13:49:03.565Z"
   },
   {
    "duration": 9,
    "start_time": "2022-03-23T13:49:03.573Z"
   },
   {
    "duration": 668,
    "start_time": "2022-03-23T13:49:03.583Z"
   },
   {
    "duration": 12,
    "start_time": "2022-03-23T13:49:04.263Z"
   },
   {
    "duration": 0,
    "start_time": "2022-03-23T13:49:04.277Z"
   },
   {
    "duration": 0,
    "start_time": "2022-03-23T13:49:04.279Z"
   },
   {
    "duration": 10,
    "start_time": "2022-03-23T13:49:44.544Z"
   },
   {
    "duration": 10,
    "start_time": "2022-03-23T13:49:45.058Z"
   },
   {
    "duration": 5,
    "start_time": "2022-03-23T13:49:50.033Z"
   },
   {
    "duration": 26,
    "start_time": "2022-03-23T13:49:50.039Z"
   },
   {
    "duration": 68,
    "start_time": "2022-03-23T13:49:50.067Z"
   },
   {
    "duration": 3,
    "start_time": "2022-03-23T13:49:50.137Z"
   },
   {
    "duration": 17,
    "start_time": "2022-03-23T13:49:50.143Z"
   },
   {
    "duration": 18,
    "start_time": "2022-03-23T13:49:50.162Z"
   },
   {
    "duration": 663,
    "start_time": "2022-03-23T13:49:50.182Z"
   },
   {
    "duration": 19,
    "start_time": "2022-03-23T13:49:50.847Z"
   },
   {
    "duration": 33,
    "start_time": "2022-03-23T13:49:50.868Z"
   },
   {
    "duration": 44,
    "start_time": "2022-03-23T13:49:50.904Z"
   },
   {
    "duration": 5,
    "start_time": "2022-03-23T13:50:33.828Z"
   },
   {
    "duration": 4,
    "start_time": "2022-03-23T13:50:38.260Z"
   },
   {
    "duration": 8,
    "start_time": "2022-03-23T13:50:47.038Z"
   },
   {
    "duration": 47,
    "start_time": "2022-03-23T13:57:16.457Z"
   },
   {
    "duration": 14,
    "start_time": "2022-03-23T13:57:43.541Z"
   },
   {
    "duration": 13,
    "start_time": "2022-03-23T14:00:38.674Z"
   },
   {
    "duration": 13,
    "start_time": "2022-03-23T14:01:39.848Z"
   },
   {
    "duration": 3118,
    "start_time": "2022-03-23T14:02:04.415Z"
   },
   {
    "duration": 2202,
    "start_time": "2022-03-23T14:02:24.006Z"
   },
   {
    "duration": 1310,
    "start_time": "2022-03-23T14:02:26.974Z"
   },
   {
    "duration": 14620,
    "start_time": "2022-03-23T14:02:54.326Z"
   },
   {
    "duration": 16,
    "start_time": "2022-03-23T14:03:17.655Z"
   },
   {
    "duration": 2251,
    "start_time": "2022-03-23T14:03:32.223Z"
   },
   {
    "duration": 1398,
    "start_time": "2022-03-23T14:03:44.540Z"
   },
   {
    "duration": 10,
    "start_time": "2022-03-23T14:09:11.457Z"
   },
   {
    "duration": 506,
    "start_time": "2022-03-23T14:09:32.038Z"
   },
   {
    "duration": 5,
    "start_time": "2022-03-23T14:09:32.546Z"
   },
   {
    "duration": 80,
    "start_time": "2022-03-23T14:09:32.553Z"
   },
   {
    "duration": 3,
    "start_time": "2022-03-23T14:09:32.636Z"
   },
   {
    "duration": 10,
    "start_time": "2022-03-23T14:09:32.641Z"
   },
   {
    "duration": 25,
    "start_time": "2022-03-23T14:09:32.653Z"
   },
   {
    "duration": 662,
    "start_time": "2022-03-23T14:09:32.680Z"
   },
   {
    "duration": 19,
    "start_time": "2022-03-23T14:09:33.344Z"
   },
   {
    "duration": 23,
    "start_time": "2022-03-23T14:09:33.365Z"
   },
   {
    "duration": 400,
    "start_time": "2022-03-23T14:09:33.391Z"
   },
   {
    "duration": 91,
    "start_time": "2022-03-23T14:09:33.793Z"
   },
   {
    "duration": 560,
    "start_time": "2022-03-23T14:12:08.234Z"
   },
   {
    "duration": 4,
    "start_time": "2022-03-23T14:12:39.774Z"
   },
   {
    "duration": 443,
    "start_time": "2022-03-23T14:12:42.669Z"
   },
   {
    "duration": 3,
    "start_time": "2022-03-23T14:12:46.045Z"
   },
   {
    "duration": 403,
    "start_time": "2022-03-23T14:12:57.148Z"
   },
   {
    "duration": 125,
    "start_time": "2022-03-23T14:30:30.404Z"
   },
   {
    "duration": 24,
    "start_time": "2022-03-23T16:35:55.045Z"
   },
   {
    "duration": 4,
    "start_time": "2022-03-23T16:35:59.845Z"
   },
   {
    "duration": 2277,
    "start_time": "2022-03-25T11:51:05.215Z"
   },
   {
    "duration": 7,
    "start_time": "2022-03-25T11:51:13.286Z"
   },
   {
    "duration": 10,
    "start_time": "2022-03-25T11:51:13.297Z"
   },
   {
    "duration": 103,
    "start_time": "2022-03-25T11:51:13.311Z"
   },
   {
    "duration": 5,
    "start_time": "2022-03-25T11:51:13.416Z"
   },
   {
    "duration": 6,
    "start_time": "2022-03-25T11:51:13.424Z"
   },
   {
    "duration": 17,
    "start_time": "2022-03-25T11:51:13.472Z"
   },
   {
    "duration": 1287,
    "start_time": "2022-03-25T11:51:13.492Z"
   },
   {
    "duration": 14,
    "start_time": "2022-03-25T11:51:14.781Z"
   },
   {
    "duration": 16,
    "start_time": "2022-03-25T11:51:14.800Z"
   },
   {
    "duration": 921,
    "start_time": "2022-03-25T11:51:14.819Z"
   },
   {
    "duration": 5,
    "start_time": "2022-03-25T11:51:15.744Z"
   },
   {
    "duration": 9,
    "start_time": "2022-03-25T11:51:15.752Z"
   },
   {
    "duration": 14,
    "start_time": "2022-03-25T11:51:15.763Z"
   },
   {
    "duration": 19,
    "start_time": "2022-03-25T11:51:15.783Z"
   },
   {
    "duration": 231,
    "start_time": "2022-03-25T11:51:15.804Z"
   },
   {
    "duration": 0,
    "start_time": "2022-03-25T11:51:16.038Z"
   },
   {
    "duration": 0,
    "start_time": "2022-03-25T11:51:16.040Z"
   },
   {
    "duration": 0,
    "start_time": "2022-03-25T11:51:16.041Z"
   },
   {
    "duration": 0,
    "start_time": "2022-03-25T11:51:16.044Z"
   },
   {
    "duration": 0,
    "start_time": "2022-03-25T11:51:16.046Z"
   },
   {
    "duration": 828,
    "start_time": "2022-03-25T11:51:38.417Z"
   },
   {
    "duration": 5,
    "start_time": "2022-03-25T11:52:08.117Z"
   },
   {
    "duration": 8,
    "start_time": "2022-03-25T11:52:08.125Z"
   },
   {
    "duration": 81,
    "start_time": "2022-03-25T11:52:08.137Z"
   },
   {
    "duration": 5,
    "start_time": "2022-03-25T11:52:08.220Z"
   },
   {
    "duration": 44,
    "start_time": "2022-03-25T11:52:08.227Z"
   },
   {
    "duration": 15,
    "start_time": "2022-03-25T11:52:08.274Z"
   },
   {
    "duration": 964,
    "start_time": "2022-03-25T11:52:08.291Z"
   },
   {
    "duration": 18,
    "start_time": "2022-03-25T11:52:09.257Z"
   },
   {
    "duration": 16,
    "start_time": "2022-03-25T11:52:09.280Z"
   },
   {
    "duration": 794,
    "start_time": "2022-03-25T11:52:09.299Z"
   },
   {
    "duration": 4,
    "start_time": "2022-03-25T11:52:10.095Z"
   },
   {
    "duration": 1560,
    "start_time": "2022-03-25T11:52:10.101Z"
   },
   {
    "duration": 961,
    "start_time": "2022-03-25T11:52:11.663Z"
   },
   {
    "duration": 6,
    "start_time": "2022-03-25T11:52:12.626Z"
   },
   {
    "duration": 37,
    "start_time": "2022-03-25T11:52:12.634Z"
   },
   {
    "duration": 12,
    "start_time": "2022-03-25T11:52:12.674Z"
   },
   {
    "duration": 8,
    "start_time": "2022-03-25T11:52:12.688Z"
   },
   {
    "duration": 149,
    "start_time": "2022-03-25T11:52:12.699Z"
   },
   {
    "duration": 0,
    "start_time": "2022-03-25T11:52:12.850Z"
   },
   {
    "duration": 0,
    "start_time": "2022-03-25T11:52:12.852Z"
   },
   {
    "duration": 0,
    "start_time": "2022-03-25T11:52:12.854Z"
   },
   {
    "duration": 0,
    "start_time": "2022-03-25T11:52:12.857Z"
   },
   {
    "duration": 0,
    "start_time": "2022-03-25T11:52:12.858Z"
   },
   {
    "duration": 17,
    "start_time": "2022-03-25T11:52:23.884Z"
   },
   {
    "duration": 28353,
    "start_time": "2022-03-25T11:52:26.530Z"
   },
   {
    "duration": 18,
    "start_time": "2022-03-25T11:53:33.930Z"
   },
   {
    "duration": 46299,
    "start_time": "2022-03-25T11:53:34.089Z"
   },
   {
    "duration": 23,
    "start_time": "2022-03-25T11:55:41.800Z"
   },
   {
    "duration": 52703,
    "start_time": "2022-03-25T11:55:45.582Z"
   },
   {
    "duration": 46438,
    "start_time": "2022-03-25T11:57:14.744Z"
   },
   {
    "duration": 304,
    "start_time": "2022-03-25T11:58:51.081Z"
   },
   {
    "duration": 143,
    "start_time": "2022-03-25T11:58:51.388Z"
   },
   {
    "duration": 145,
    "start_time": "2022-03-25T11:58:51.533Z"
   },
   {
    "duration": 15,
    "start_time": "2022-03-25T11:58:51.682Z"
   },
   {
    "duration": 5,
    "start_time": "2022-03-25T11:59:27.789Z"
   },
   {
    "duration": 31,
    "start_time": "2022-03-25T11:59:33.479Z"
   },
   {
    "duration": 19,
    "start_time": "2022-03-25T11:59:36.535Z"
   },
   {
    "duration": 42420,
    "start_time": "2022-03-25T11:59:36.557Z"
   },
   {
    "duration": 722405,
    "start_time": "2022-03-25T12:00:18.984Z"
   },
   {
    "duration": 2898,
    "start_time": "2022-03-25T12:12:21.392Z"
   },
   {
    "duration": 145,
    "start_time": "2022-03-25T12:12:24.292Z"
   },
   {
    "duration": 12,
    "start_time": "2022-03-25T12:12:24.439Z"
   },
   {
    "duration": 20,
    "start_time": "2022-03-25T12:12:53.379Z"
   },
   {
    "duration": 42,
    "start_time": "2022-03-25T12:13:03.638Z"
   },
   {
    "duration": 22,
    "start_time": "2022-03-25T12:14:15.705Z"
   },
   {
    "duration": 47674,
    "start_time": "2022-03-25T12:14:16.303Z"
   },
   {
    "duration": 1954,
    "start_time": "2022-03-25T12:17:12.339Z"
   },
   {
    "duration": 7,
    "start_time": "2022-03-25T12:17:14.295Z"
   },
   {
    "duration": 88,
    "start_time": "2022-03-25T12:17:14.305Z"
   },
   {
    "duration": 5,
    "start_time": "2022-03-25T12:17:14.395Z"
   },
   {
    "duration": 8,
    "start_time": "2022-03-25T12:17:14.402Z"
   },
   {
    "duration": 10,
    "start_time": "2022-03-25T12:17:14.412Z"
   },
   {
    "duration": 1106,
    "start_time": "2022-03-25T12:17:14.424Z"
   },
   {
    "duration": 13,
    "start_time": "2022-03-25T12:17:15.533Z"
   },
   {
    "duration": 29,
    "start_time": "2022-03-25T12:17:15.548Z"
   },
   {
    "duration": 936,
    "start_time": "2022-03-25T12:17:15.580Z"
   },
   {
    "duration": 5,
    "start_time": "2022-03-25T12:17:16.519Z"
   },
   {
    "duration": 1894,
    "start_time": "2022-03-25T12:17:16.530Z"
   },
   {
    "duration": 1175,
    "start_time": "2022-03-25T12:18:37.136Z"
   },
   {
    "duration": 1141,
    "start_time": "2022-03-25T12:21:20.900Z"
   },
   {
    "duration": 1064,
    "start_time": "2022-03-25T12:21:48.808Z"
   },
   {
    "duration": 1282,
    "start_time": "2022-03-25T12:22:30.124Z"
   },
   {
    "duration": 1215,
    "start_time": "2022-03-25T12:23:36.814Z"
   },
   {
    "duration": 561,
    "start_time": "2022-03-25T12:24:00.467Z"
   },
   {
    "duration": 588,
    "start_time": "2022-03-25T12:24:24.083Z"
   },
   {
    "duration": 587,
    "start_time": "2022-03-25T12:24:26.831Z"
   },
   {
    "duration": 599,
    "start_time": "2022-03-25T12:36:45.313Z"
   },
   {
    "duration": 1472,
    "start_time": "2022-03-25T12:37:31.884Z"
   },
   {
    "duration": 9,
    "start_time": "2022-03-25T12:56:20.007Z"
   },
   {
    "duration": 17,
    "start_time": "2022-03-25T12:56:20.019Z"
   },
   {
    "duration": 98,
    "start_time": "2022-03-25T12:56:20.039Z"
   },
   {
    "duration": 29,
    "start_time": "2022-03-25T12:56:20.140Z"
   },
   {
    "duration": 6,
    "start_time": "2022-03-25T12:56:20.174Z"
   },
   {
    "duration": 12,
    "start_time": "2022-03-25T12:56:20.183Z"
   },
   {
    "duration": 1338,
    "start_time": "2022-03-25T12:56:20.198Z"
   },
   {
    "duration": 11,
    "start_time": "2022-03-25T12:56:21.539Z"
   },
   {
    "duration": 13,
    "start_time": "2022-03-25T12:56:21.568Z"
   },
   {
    "duration": 917,
    "start_time": "2022-03-25T12:56:21.584Z"
   },
   {
    "duration": 6,
    "start_time": "2022-03-25T12:56:22.504Z"
   },
   {
    "duration": 1934,
    "start_time": "2022-03-25T12:56:22.513Z"
   },
   {
    "duration": 1050,
    "start_time": "2022-03-25T12:56:24.449Z"
   },
   {
    "duration": 526,
    "start_time": "2022-03-25T12:56:25.501Z"
   },
   {
    "duration": 6,
    "start_time": "2022-03-25T12:56:26.030Z"
   },
   {
    "duration": 122,
    "start_time": "2022-03-25T12:56:26.039Z"
   },
   {
    "duration": 0,
    "start_time": "2022-03-25T12:56:26.164Z"
   },
   {
    "duration": 0,
    "start_time": "2022-03-25T12:56:26.165Z"
   },
   {
    "duration": 0,
    "start_time": "2022-03-25T12:56:26.167Z"
   },
   {
    "duration": 0,
    "start_time": "2022-03-25T12:56:26.169Z"
   },
   {
    "duration": 0,
    "start_time": "2022-03-25T12:56:26.171Z"
   },
   {
    "duration": 0,
    "start_time": "2022-03-25T12:56:26.173Z"
   },
   {
    "duration": 0,
    "start_time": "2022-03-25T12:56:26.175Z"
   },
   {
    "duration": 0,
    "start_time": "2022-03-25T12:56:26.176Z"
   },
   {
    "duration": 6,
    "start_time": "2022-03-25T12:56:46.804Z"
   },
   {
    "duration": 9,
    "start_time": "2022-03-25T12:56:46.814Z"
   },
   {
    "duration": 83,
    "start_time": "2022-03-25T12:56:46.826Z"
   },
   {
    "duration": 5,
    "start_time": "2022-03-25T12:56:46.912Z"
   },
   {
    "duration": 6,
    "start_time": "2022-03-25T12:56:46.919Z"
   },
   {
    "duration": 11,
    "start_time": "2022-03-25T12:56:46.968Z"
   },
   {
    "duration": 1250,
    "start_time": "2022-03-25T12:56:46.982Z"
   },
   {
    "duration": 12,
    "start_time": "2022-03-25T12:56:48.235Z"
   },
   {
    "duration": 31,
    "start_time": "2022-03-25T12:56:48.250Z"
   },
   {
    "duration": 1211,
    "start_time": "2022-03-25T12:56:48.286Z"
   },
   {
    "duration": 6,
    "start_time": "2022-03-25T12:56:49.500Z"
   },
   {
    "duration": 2861,
    "start_time": "2022-03-25T12:56:49.509Z"
   },
   {
    "duration": 1428,
    "start_time": "2022-03-25T12:56:52.374Z"
   },
   {
    "duration": 741,
    "start_time": "2022-03-25T12:56:53.807Z"
   },
   {
    "duration": 16,
    "start_time": "2022-03-25T12:56:54.552Z"
   },
   {
    "duration": 7,
    "start_time": "2022-03-25T12:56:54.571Z"
   },
   {
    "duration": 153,
    "start_time": "2022-03-25T12:56:54.581Z"
   },
   {
    "duration": 0,
    "start_time": "2022-03-25T12:56:54.737Z"
   },
   {
    "duration": 0,
    "start_time": "2022-03-25T12:56:54.740Z"
   },
   {
    "duration": 0,
    "start_time": "2022-03-25T12:56:54.742Z"
   },
   {
    "duration": 0,
    "start_time": "2022-03-25T12:56:54.744Z"
   },
   {
    "duration": 0,
    "start_time": "2022-03-25T12:56:54.746Z"
   },
   {
    "duration": 0,
    "start_time": "2022-03-25T12:56:54.748Z"
   },
   {
    "duration": 0,
    "start_time": "2022-03-25T12:56:54.750Z"
   },
   {
    "duration": 10,
    "start_time": "2022-03-25T12:57:08.098Z"
   },
   {
    "duration": 5,
    "start_time": "2022-03-25T12:57:15.729Z"
   },
   {
    "duration": 16,
    "start_time": "2022-03-25T12:57:15.738Z"
   },
   {
    "duration": 89,
    "start_time": "2022-03-25T12:57:15.757Z"
   },
   {
    "duration": 5,
    "start_time": "2022-03-25T12:57:15.869Z"
   },
   {
    "duration": 14,
    "start_time": "2022-03-25T12:57:15.878Z"
   },
   {
    "duration": 20,
    "start_time": "2022-03-25T12:57:15.895Z"
   },
   {
    "duration": 1091,
    "start_time": "2022-03-25T12:57:15.918Z"
   },
   {
    "duration": 9,
    "start_time": "2022-03-25T12:57:17.014Z"
   },
   {
    "duration": 15,
    "start_time": "2022-03-25T12:57:17.026Z"
   },
   {
    "duration": 1341,
    "start_time": "2022-03-25T12:57:17.068Z"
   },
   {
    "duration": 6,
    "start_time": "2022-03-25T12:57:18.413Z"
   },
   {
    "duration": 2152,
    "start_time": "2022-03-25T12:57:18.422Z"
   },
   {
    "duration": 1103,
    "start_time": "2022-03-25T12:57:20.576Z"
   },
   {
    "duration": 641,
    "start_time": "2022-03-25T12:57:21.682Z"
   },
   {
    "duration": 11,
    "start_time": "2022-03-25T12:57:22.327Z"
   },
   {
    "duration": 32,
    "start_time": "2022-03-25T12:57:22.340Z"
   },
   {
    "duration": 37,
    "start_time": "2022-03-25T12:57:22.375Z"
   },
   {
    "duration": 25,
    "start_time": "2022-03-25T12:57:22.415Z"
   },
   {
    "duration": 38,
    "start_time": "2022-03-25T12:57:22.443Z"
   },
   {
    "duration": 33096,
    "start_time": "2022-03-25T12:57:22.483Z"
   },
   {
    "duration": 750484,
    "start_time": "2022-03-25T12:57:55.583Z"
   },
   {
    "duration": 82907,
    "start_time": "2022-03-25T13:10:26.070Z"
   },
   {
    "duration": 876465,
    "start_time": "2022-03-25T13:11:49.070Z"
   },
   {
    "duration": 15,
    "start_time": "2022-03-25T13:26:25.538Z"
   },
   {
    "duration": 41,
    "start_time": "2022-03-25T13:31:43.592Z"
   },
   {
    "duration": 8,
    "start_time": "2022-03-25T13:31:43.637Z"
   },
   {
    "duration": 78,
    "start_time": "2022-03-25T13:31:43.648Z"
   },
   {
    "duration": 5,
    "start_time": "2022-03-25T13:31:43.730Z"
   },
   {
    "duration": 6,
    "start_time": "2022-03-25T13:31:43.769Z"
   },
   {
    "duration": 12,
    "start_time": "2022-03-25T13:31:43.778Z"
   },
   {
    "duration": 950,
    "start_time": "2022-03-25T13:31:43.793Z"
   },
   {
    "duration": 23,
    "start_time": "2022-03-25T13:31:44.746Z"
   },
   {
    "duration": 12,
    "start_time": "2022-03-25T13:31:44.772Z"
   },
   {
    "duration": 775,
    "start_time": "2022-03-25T13:31:44.788Z"
   },
   {
    "duration": 5,
    "start_time": "2022-03-25T13:31:45.568Z"
   },
   {
    "duration": 1864,
    "start_time": "2022-03-25T13:31:45.575Z"
   },
   {
    "duration": 982,
    "start_time": "2022-03-25T13:31:47.441Z"
   },
   {
    "duration": 604,
    "start_time": "2022-03-25T13:31:48.426Z"
   },
   {
    "duration": 6,
    "start_time": "2022-03-25T13:31:49.032Z"
   },
   {
    "duration": 27,
    "start_time": "2022-03-25T13:31:49.041Z"
   },
   {
    "duration": 11,
    "start_time": "2022-03-25T13:31:49.070Z"
   },
   {
    "duration": 6,
    "start_time": "2022-03-25T13:31:49.083Z"
   },
   {
    "duration": 16,
    "start_time": "2022-03-25T13:31:49.092Z"
   },
   {
    "duration": 26660,
    "start_time": "2022-03-25T13:31:49.110Z"
   },
   {
    "duration": 230,
    "start_time": "2022-03-25T13:32:15.773Z"
   },
   {
    "duration": 0,
    "start_time": "2022-03-25T13:32:48.446Z"
   },
   {
    "duration": 0,
    "start_time": "2022-03-25T13:32:48.448Z"
   },
   {
    "duration": 0,
    "start_time": "2022-03-25T13:32:48.449Z"
   },
   {
    "duration": 0,
    "start_time": "2022-03-25T13:32:48.451Z"
   },
   {
    "duration": 0,
    "start_time": "2022-03-25T13:32:48.454Z"
   },
   {
    "duration": 15,
    "start_time": "2022-03-25T13:32:51.367Z"
   },
   {
    "duration": 39377,
    "start_time": "2022-03-25T13:32:51.905Z"
   },
   {
    "duration": 101591,
    "start_time": "2022-03-25T13:33:31.286Z"
   },
   {
    "duration": 1791800,
    "start_time": "2022-03-25T13:35:12.977Z"
   },
   {
    "duration": 12,
    "start_time": "2022-03-25T14:05:04.780Z"
   },
   {
    "duration": 19,
    "start_time": "2022-03-25T14:05:10.095Z"
   },
   {
    "duration": 315,
    "start_time": "2022-03-25T14:07:06.953Z"
   },
   {
    "duration": 772,
    "start_time": "2022-03-25T14:07:19.036Z"
   },
   {
    "duration": 762,
    "start_time": "2022-03-25T14:07:30.695Z"
   },
   {
    "duration": 807,
    "start_time": "2022-03-25T14:07:55.057Z"
   },
   {
    "duration": 6,
    "start_time": "2022-03-25T14:20:02.014Z"
   },
   {
    "duration": 10,
    "start_time": "2022-03-25T14:20:02.023Z"
   },
   {
    "duration": 74,
    "start_time": "2022-03-25T14:20:02.036Z"
   },
   {
    "duration": 6,
    "start_time": "2022-03-25T14:20:02.113Z"
   },
   {
    "duration": 48,
    "start_time": "2022-03-25T14:20:02.122Z"
   },
   {
    "duration": 105,
    "start_time": "2022-03-25T14:20:02.172Z"
   },
   {
    "duration": 919,
    "start_time": "2022-03-25T14:20:02.280Z"
   },
   {
    "duration": 11,
    "start_time": "2022-03-25T14:20:03.201Z"
   },
   {
    "duration": 15,
    "start_time": "2022-03-25T14:20:03.215Z"
   },
   {
    "duration": 795,
    "start_time": "2022-03-25T14:20:03.233Z"
   },
   {
    "duration": 6,
    "start_time": "2022-03-25T14:20:04.034Z"
   },
   {
    "duration": 1976,
    "start_time": "2022-03-25T14:20:04.043Z"
   },
   {
    "duration": 949,
    "start_time": "2022-03-25T14:20:06.021Z"
   },
   {
    "duration": 513,
    "start_time": "2022-03-25T14:20:06.973Z"
   },
   {
    "duration": 6,
    "start_time": "2022-03-25T14:20:07.488Z"
   },
   {
    "duration": 11,
    "start_time": "2022-03-25T14:20:07.496Z"
   },
   {
    "duration": 12,
    "start_time": "2022-03-25T14:20:07.509Z"
   },
   {
    "duration": 6,
    "start_time": "2022-03-25T14:20:07.523Z"
   },
   {
    "duration": 244,
    "start_time": "2022-03-25T14:20:07.531Z"
   },
   {
    "duration": 0,
    "start_time": "2022-03-25T14:20:07.778Z"
   },
   {
    "duration": 0,
    "start_time": "2022-03-25T14:20:07.782Z"
   },
   {
    "duration": 0,
    "start_time": "2022-03-25T14:20:07.783Z"
   },
   {
    "duration": 0,
    "start_time": "2022-03-25T14:20:07.786Z"
   },
   {
    "duration": 0,
    "start_time": "2022-03-25T14:20:07.789Z"
   },
   {
    "duration": 2598,
    "start_time": "2022-03-25T15:24:19.459Z"
   },
   {
    "duration": 7,
    "start_time": "2022-03-25T15:24:22.060Z"
   },
   {
    "duration": 176,
    "start_time": "2022-03-25T15:24:22.069Z"
   },
   {
    "duration": 4,
    "start_time": "2022-03-25T15:24:22.248Z"
   },
   {
    "duration": 6,
    "start_time": "2022-03-25T15:24:22.255Z"
   },
   {
    "duration": 11,
    "start_time": "2022-03-25T15:24:22.263Z"
   },
   {
    "duration": 957,
    "start_time": "2022-03-25T15:24:22.276Z"
   },
   {
    "duration": 15,
    "start_time": "2022-03-25T15:24:23.242Z"
   },
   {
    "duration": 9,
    "start_time": "2022-03-25T15:24:23.259Z"
   },
   {
    "duration": 880,
    "start_time": "2022-03-25T15:24:23.272Z"
   },
   {
    "duration": 4,
    "start_time": "2022-03-25T15:24:24.154Z"
   },
   {
    "duration": 1793,
    "start_time": "2022-03-25T15:24:24.160Z"
   },
   {
    "duration": 952,
    "start_time": "2022-03-25T15:24:25.955Z"
   },
   {
    "duration": 530,
    "start_time": "2022-03-25T15:24:26.909Z"
   },
   {
    "duration": 6,
    "start_time": "2022-03-25T15:24:27.442Z"
   },
   {
    "duration": 7,
    "start_time": "2022-03-25T15:24:27.450Z"
   },
   {
    "duration": 10,
    "start_time": "2022-03-25T15:24:27.460Z"
   },
   {
    "duration": 8,
    "start_time": "2022-03-25T15:24:27.473Z"
   },
   {
    "duration": 183,
    "start_time": "2022-03-25T15:24:27.483Z"
   },
   {
    "duration": 1,
    "start_time": "2022-03-25T15:24:27.668Z"
   },
   {
    "duration": 0,
    "start_time": "2022-03-25T15:24:27.671Z"
   },
   {
    "duration": 0,
    "start_time": "2022-03-25T15:24:27.673Z"
   },
   {
    "duration": 0,
    "start_time": "2022-03-25T15:24:27.676Z"
   },
   {
    "duration": 0,
    "start_time": "2022-03-25T15:24:27.678Z"
   },
   {
    "duration": 23,
    "start_time": "2022-03-25T15:24:44.629Z"
   },
   {
    "duration": 64,
    "start_time": "2022-03-25T15:24:45.610Z"
   },
   {
    "duration": 61,
    "start_time": "2022-03-25T15:24:47.038Z"
   },
   {
    "duration": 58,
    "start_time": "2022-03-25T15:24:47.759Z"
   },
   {
    "duration": 316,
    "start_time": "2022-03-25T15:25:41.035Z"
   },
   {
    "duration": 548,
    "start_time": "2022-03-25T15:25:46.342Z"
   },
   {
    "duration": 25,
    "start_time": "2022-03-25T15:26:19.362Z"
   },
   {
    "duration": 173,
    "start_time": "2022-03-25T15:26:19.391Z"
   },
   {
    "duration": 817,
    "start_time": "2022-03-25T15:26:22.436Z"
   },
   {
    "duration": 10353,
    "start_time": "2022-03-25T15:26:28.604Z"
   },
   {
    "duration": 25,
    "start_time": "2022-03-25T15:26:52.656Z"
   },
   {
    "duration": 250,
    "start_time": "2022-03-25T15:26:53.206Z"
   },
   {
    "duration": 1049,
    "start_time": "2022-03-25T15:26:54.010Z"
   },
   {
    "duration": 895,
    "start_time": "2022-03-25T15:26:55.062Z"
   },
   {
    "duration": 17,
    "start_time": "2022-03-25T15:26:59.636Z"
   },
   {
    "duration": 6,
    "start_time": "2022-03-25T15:29:29.957Z"
   },
   {
    "duration": 11,
    "start_time": "2022-03-25T15:29:29.965Z"
   },
   {
    "duration": 87,
    "start_time": "2022-03-25T15:29:29.978Z"
   },
   {
    "duration": 4,
    "start_time": "2022-03-25T15:29:30.068Z"
   },
   {
    "duration": 11,
    "start_time": "2022-03-25T15:29:30.074Z"
   },
   {
    "duration": 10,
    "start_time": "2022-03-25T15:29:30.088Z"
   },
   {
    "duration": 975,
    "start_time": "2022-03-25T15:29:30.100Z"
   },
   {
    "duration": 9,
    "start_time": "2022-03-25T15:29:31.077Z"
   },
   {
    "duration": 22,
    "start_time": "2022-03-25T15:29:31.090Z"
   },
   {
    "duration": 814,
    "start_time": "2022-03-25T15:29:31.115Z"
   },
   {
    "duration": 11,
    "start_time": "2022-03-25T15:29:31.931Z"
   },
   {
    "duration": 1875,
    "start_time": "2022-03-25T15:29:31.944Z"
   },
   {
    "duration": 1046,
    "start_time": "2022-03-25T15:29:33.821Z"
   },
   {
    "duration": 545,
    "start_time": "2022-03-25T15:29:34.869Z"
   },
   {
    "duration": 11,
    "start_time": "2022-03-25T15:29:35.417Z"
   },
   {
    "duration": 16,
    "start_time": "2022-03-25T15:29:35.431Z"
   },
   {
    "duration": 11,
    "start_time": "2022-03-25T15:29:35.449Z"
   },
   {
    "duration": 7,
    "start_time": "2022-03-25T15:29:35.462Z"
   },
   {
    "duration": 25,
    "start_time": "2022-03-25T15:29:35.471Z"
   },
   {
    "duration": 156,
    "start_time": "2022-03-25T15:29:35.499Z"
   },
   {
    "duration": 987,
    "start_time": "2022-03-25T15:29:35.657Z"
   },
   {
    "duration": 1003,
    "start_time": "2022-03-25T15:29:36.646Z"
   },
   {
    "duration": 16,
    "start_time": "2022-03-25T15:29:37.652Z"
   },
   {
    "duration": 0,
    "start_time": "2022-03-25T15:29:37.671Z"
   },
   {
    "duration": 19,
    "start_time": "2022-03-25T15:41:00.931Z"
   },
   {
    "duration": 16,
    "start_time": "2022-03-25T15:41:20.755Z"
   },
   {
    "duration": 23,
    "start_time": "2022-03-25T15:42:12.366Z"
   },
   {
    "duration": 20,
    "start_time": "2022-03-25T15:42:16.465Z"
   },
   {
    "duration": 26,
    "start_time": "2022-03-25T15:43:30.869Z"
   },
   {
    "duration": 19,
    "start_time": "2022-03-25T15:44:23.952Z"
   },
   {
    "duration": 18,
    "start_time": "2022-03-25T15:45:15.563Z"
   },
   {
    "duration": 6,
    "start_time": "2022-03-25T15:46:30.324Z"
   },
   {
    "duration": 13,
    "start_time": "2022-03-25T15:46:30.332Z"
   },
   {
    "duration": 100,
    "start_time": "2022-03-25T15:46:30.348Z"
   },
   {
    "duration": 5,
    "start_time": "2022-03-25T15:46:30.451Z"
   },
   {
    "duration": 20,
    "start_time": "2022-03-25T15:46:30.458Z"
   },
   {
    "duration": 11,
    "start_time": "2022-03-25T15:46:30.482Z"
   },
   {
    "duration": 911,
    "start_time": "2022-03-25T15:46:30.496Z"
   },
   {
    "duration": 9,
    "start_time": "2022-03-25T15:46:31.409Z"
   },
   {
    "duration": 29,
    "start_time": "2022-03-25T15:46:31.422Z"
   },
   {
    "duration": 1266,
    "start_time": "2022-03-25T15:46:31.454Z"
   },
   {
    "duration": 6,
    "start_time": "2022-03-25T15:46:32.723Z"
   },
   {
    "duration": 2107,
    "start_time": "2022-03-25T15:46:32.743Z"
   },
   {
    "duration": 1017,
    "start_time": "2022-03-25T15:46:34.852Z"
   },
   {
    "duration": 540,
    "start_time": "2022-03-25T15:46:35.871Z"
   },
   {
    "duration": 6,
    "start_time": "2022-03-25T15:46:36.414Z"
   },
   {
    "duration": 22,
    "start_time": "2022-03-25T15:46:36.423Z"
   },
   {
    "duration": 17,
    "start_time": "2022-03-25T15:46:36.447Z"
   },
   {
    "duration": 10,
    "start_time": "2022-03-25T15:46:36.467Z"
   },
   {
    "duration": 26,
    "start_time": "2022-03-25T15:46:36.480Z"
   },
   {
    "duration": 2246,
    "start_time": "2022-03-25T15:46:36.508Z"
   },
   {
    "duration": 12613,
    "start_time": "2022-03-25T15:46:38.843Z"
   },
   {
    "duration": 1445015,
    "start_time": "2022-03-25T15:46:51.545Z"
   },
   {
    "duration": 27,
    "start_time": "2022-03-25T16:10:56.563Z"
   },
   {
    "duration": 848,
    "start_time": "2022-03-25T16:10:56.596Z"
   },
   {
    "duration": 8,
    "start_time": "2022-03-25T16:11:20.189Z"
   },
   {
    "duration": 9,
    "start_time": "2022-03-25T16:11:20.201Z"
   },
   {
    "duration": 134,
    "start_time": "2022-03-25T16:11:20.213Z"
   },
   {
    "duration": 8,
    "start_time": "2022-03-25T16:11:20.350Z"
   },
   {
    "duration": 10,
    "start_time": "2022-03-25T16:11:20.363Z"
   },
   {
    "duration": 18,
    "start_time": "2022-03-25T16:11:20.376Z"
   },
   {
    "duration": 1012,
    "start_time": "2022-03-25T16:11:20.397Z"
   },
   {
    "duration": 16,
    "start_time": "2022-03-25T16:11:21.412Z"
   },
   {
    "duration": 11,
    "start_time": "2022-03-25T16:11:21.444Z"
   },
   {
    "duration": 809,
    "start_time": "2022-03-25T16:11:21.458Z"
   },
   {
    "duration": 6,
    "start_time": "2022-03-25T16:11:22.270Z"
   },
   {
    "duration": 2402,
    "start_time": "2022-03-25T16:11:22.280Z"
   },
   {
    "duration": 1045,
    "start_time": "2022-03-25T16:11:24.687Z"
   },
   {
    "duration": 748,
    "start_time": "2022-03-25T16:11:25.743Z"
   },
   {
    "duration": 8,
    "start_time": "2022-03-25T16:11:26.495Z"
   },
   {
    "duration": 10,
    "start_time": "2022-03-25T16:11:26.506Z"
   },
   {
    "duration": 32,
    "start_time": "2022-03-25T16:11:26.518Z"
   },
   {
    "duration": 11,
    "start_time": "2022-03-25T16:11:26.553Z"
   },
   {
    "duration": 43,
    "start_time": "2022-03-25T16:11:26.567Z"
   },
   {
    "duration": 2016,
    "start_time": "2022-03-25T16:11:26.644Z"
   },
   {
    "duration": 11384,
    "start_time": "2022-03-25T16:11:28.663Z"
   },
   {
    "duration": 28848,
    "start_time": "2022-03-25T16:11:40.051Z"
   },
   {
    "duration": 25,
    "start_time": "2022-03-25T16:12:08.902Z"
   },
   {
    "duration": 313,
    "start_time": "2022-03-25T16:12:08.931Z"
   },
   {
    "duration": 558,
    "start_time": "2022-03-25T16:12:09.249Z"
   },
   {
    "duration": 7,
    "start_time": "2022-03-25T16:12:14.197Z"
   },
   {
    "duration": 11,
    "start_time": "2022-03-25T16:12:14.208Z"
   },
   {
    "duration": 124,
    "start_time": "2022-03-25T16:12:14.222Z"
   },
   {
    "duration": 4,
    "start_time": "2022-03-25T16:12:14.350Z"
   },
   {
    "duration": 6,
    "start_time": "2022-03-25T16:12:14.357Z"
   },
   {
    "duration": 16,
    "start_time": "2022-03-25T16:12:14.366Z"
   },
   {
    "duration": 1027,
    "start_time": "2022-03-25T16:12:14.385Z"
   },
   {
    "duration": 28,
    "start_time": "2022-03-25T16:12:15.415Z"
   },
   {
    "duration": 13,
    "start_time": "2022-03-25T16:12:15.446Z"
   },
   {
    "duration": 1276,
    "start_time": "2022-03-25T16:12:15.462Z"
   },
   {
    "duration": 6,
    "start_time": "2022-03-25T16:12:16.744Z"
   },
   {
    "duration": 3102,
    "start_time": "2022-03-25T16:12:16.755Z"
   },
   {
    "duration": 1510,
    "start_time": "2022-03-25T16:12:19.860Z"
   },
   {
    "duration": 675,
    "start_time": "2022-03-25T16:12:21.374Z"
   },
   {
    "duration": 9,
    "start_time": "2022-03-25T16:12:22.052Z"
   },
   {
    "duration": 29,
    "start_time": "2022-03-25T16:12:22.065Z"
   },
   {
    "duration": 20,
    "start_time": "2022-03-25T16:12:22.097Z"
   },
   {
    "duration": 8,
    "start_time": "2022-03-25T16:12:22.121Z"
   },
   {
    "duration": 41,
    "start_time": "2022-03-25T16:12:22.133Z"
   },
   {
    "duration": 2103,
    "start_time": "2022-03-25T16:12:22.176Z"
   },
   {
    "duration": 13227,
    "start_time": "2022-03-25T16:12:24.349Z"
   },
   {
    "duration": 80036,
    "start_time": "2022-03-25T16:12:37.585Z"
   },
   {
    "duration": 26,
    "start_time": "2022-03-25T16:13:57.623Z"
   },
   {
    "duration": 195,
    "start_time": "2022-03-25T16:13:57.652Z"
   },
   {
    "duration": 663,
    "start_time": "2022-03-25T16:13:57.852Z"
   },
   {
    "duration": 34,
    "start_time": "2022-03-25T16:14:06.270Z"
   },
   {
    "duration": 55,
    "start_time": "2022-03-25T16:14:11.915Z"
   },
   {
    "duration": 3205,
    "start_time": "2022-03-25T16:14:12.250Z"
   },
   {
    "duration": 11785,
    "start_time": "2022-03-25T16:14:15.465Z"
   },
   {
    "duration": 104062,
    "start_time": "2022-03-25T16:14:27.252Z"
   },
   {
    "duration": 28,
    "start_time": "2022-03-25T16:16:11.351Z"
   },
   {
    "duration": 198,
    "start_time": "2022-03-25T16:16:11.382Z"
   },
   {
    "duration": 99,
    "start_time": "2022-03-25T16:16:11.592Z"
   },
   {
    "duration": 42,
    "start_time": "2022-03-25T16:17:36.943Z"
   },
   {
    "duration": 2884,
    "start_time": "2022-03-25T16:17:37.169Z"
   },
   {
    "duration": 12790,
    "start_time": "2022-03-25T16:17:40.065Z"
   },
   {
    "duration": 189642,
    "start_time": "2022-03-25T16:17:52.857Z"
   },
   {
    "duration": 50,
    "start_time": "2022-03-25T16:21:05.212Z"
   },
   {
    "duration": 2674,
    "start_time": "2022-03-25T16:21:05.613Z"
   },
   {
    "duration": 11489,
    "start_time": "2022-03-25T16:21:08.290Z"
   },
   {
    "duration": 209,
    "start_time": "2022-03-25T16:21:24.381Z"
   },
   {
    "duration": 26,
    "start_time": "2022-03-25T16:22:55.310Z"
   },
   {
    "duration": 3175,
    "start_time": "2022-03-25T16:22:55.803Z"
   },
   {
    "duration": 2730,
    "start_time": "2022-03-25T16:23:08.515Z"
   },
   {
    "duration": 3021,
    "start_time": "2022-03-25T16:23:12.862Z"
   },
   {
    "duration": 405,
    "start_time": "2022-03-25T16:23:36.497Z"
   },
   {
    "duration": 21,
    "start_time": "2022-03-25T16:24:25.706Z"
   },
   {
    "duration": 36,
    "start_time": "2022-03-25T16:25:35.549Z"
   },
   {
    "duration": 2800,
    "start_time": "2022-03-25T16:25:36.254Z"
   },
   {
    "duration": 595,
    "start_time": "2022-03-25T16:25:45.893Z"
   },
   {
    "duration": 295,
    "start_time": "2022-03-25T16:26:08.099Z"
   },
   {
    "duration": 43,
    "start_time": "2022-03-25T16:28:23.825Z"
   },
   {
    "duration": 2880,
    "start_time": "2022-03-25T16:28:24.378Z"
   },
   {
    "duration": 201,
    "start_time": "2022-03-25T16:28:35.571Z"
   },
   {
    "duration": 569,
    "start_time": "2022-03-25T16:28:39.292Z"
   },
   {
    "duration": 30,
    "start_time": "2022-03-25T16:29:49.585Z"
   },
   {
    "duration": 3167,
    "start_time": "2022-03-25T16:29:50.194Z"
   },
   {
    "duration": 203,
    "start_time": "2022-03-25T16:29:58.117Z"
   },
   {
    "duration": 44,
    "start_time": "2022-03-25T16:30:20.239Z"
   },
   {
    "duration": 3005,
    "start_time": "2022-03-25T16:30:20.746Z"
   },
   {
    "duration": 203,
    "start_time": "2022-03-25T16:30:24.474Z"
   },
   {
    "duration": 46,
    "start_time": "2022-03-25T16:31:27.177Z"
   },
   {
    "duration": 3762,
    "start_time": "2022-03-25T16:31:27.332Z"
   },
   {
    "duration": 281,
    "start_time": "2022-03-25T16:31:31.818Z"
   },
   {
    "duration": 168,
    "start_time": "2022-03-25T16:33:01.265Z"
   },
   {
    "duration": 3145,
    "start_time": "2022-03-25T16:33:01.721Z"
   },
   {
    "duration": 230,
    "start_time": "2022-03-25T16:33:09.836Z"
   },
   {
    "duration": 622,
    "start_time": "2022-03-25T16:33:13.621Z"
   },
   {
    "duration": 46,
    "start_time": "2022-03-25T16:35:13.080Z"
   },
   {
    "duration": 12493,
    "start_time": "2022-03-25T16:35:13.678Z"
   },
   {
    "duration": 645,
    "start_time": "2022-03-25T16:35:33.518Z"
   },
   {
    "duration": 27,
    "start_time": "2022-03-25T16:36:11.804Z"
   },
   {
    "duration": 6455,
    "start_time": "2022-03-25T16:36:12.495Z"
   },
   {
    "duration": 317,
    "start_time": "2022-03-25T16:36:22.359Z"
   },
   {
    "duration": 42,
    "start_time": "2022-03-25T16:36:41.934Z"
   },
   {
    "duration": 55,
    "start_time": "2022-03-25T16:38:55.728Z"
   },
   {
    "duration": 22323,
    "start_time": "2022-03-25T16:38:57.713Z"
   },
   {
    "duration": 690,
    "start_time": "2022-03-25T16:39:20.062Z"
   },
   {
    "duration": 34,
    "start_time": "2022-03-25T16:40:22.065Z"
   },
   {
    "duration": 1393,
    "start_time": "2022-03-25T16:40:22.865Z"
   },
   {
    "duration": 298,
    "start_time": "2022-03-25T16:40:31.395Z"
   },
   {
    "duration": 46,
    "start_time": "2022-03-25T16:40:57.363Z"
   },
   {
    "duration": 1481,
    "start_time": "2022-03-25T16:40:57.665Z"
   },
   {
    "duration": 436,
    "start_time": "2022-03-25T16:41:03.238Z"
   },
   {
    "duration": 46,
    "start_time": "2022-03-25T16:41:42.677Z"
   },
   {
    "duration": 1807,
    "start_time": "2022-03-25T16:41:42.839Z"
   },
   {
    "duration": 283,
    "start_time": "2022-03-25T16:41:46.767Z"
   },
   {
    "duration": 48,
    "start_time": "2022-03-25T16:42:04.874Z"
   },
   {
    "duration": 998,
    "start_time": "2022-03-25T16:42:05.157Z"
   },
   {
    "duration": 2384,
    "start_time": "2022-03-25T16:42:06.162Z"
   },
   {
    "duration": 326,
    "start_time": "2022-03-25T16:42:12.957Z"
   },
   {
    "duration": 7,
    "start_time": "2022-03-25T16:42:58.537Z"
   },
   {
    "duration": 44,
    "start_time": "2022-03-25T16:44:50.449Z"
   },
   {
    "duration": 1428,
    "start_time": "2022-03-25T16:44:52.617Z"
   },
   {
    "duration": 328,
    "start_time": "2022-03-25T16:44:59.349Z"
   },
   {
    "duration": 28,
    "start_time": "2022-03-25T16:47:05.421Z"
   },
   {
    "duration": 4052,
    "start_time": "2022-03-25T16:47:05.590Z"
   },
   {
    "duration": 228,
    "start_time": "2022-03-25T16:47:13.631Z"
   },
   {
    "duration": 46,
    "start_time": "2022-03-25T16:47:35.978Z"
   },
   {
    "duration": 3110,
    "start_time": "2022-03-25T16:47:36.337Z"
   },
   {
    "duration": 244,
    "start_time": "2022-03-25T16:47:43.310Z"
   },
   {
    "duration": 34,
    "start_time": "2022-03-25T16:51:11.239Z"
   },
   {
    "duration": 2937,
    "start_time": "2022-03-25T16:51:11.407Z"
   },
   {
    "duration": 181,
    "start_time": "2022-03-25T16:51:16.966Z"
   },
   {
    "duration": 39,
    "start_time": "2022-03-25T16:52:05.213Z"
   },
   {
    "duration": 71673,
    "start_time": "2022-03-25T16:52:05.374Z"
   },
   {
    "duration": 260,
    "start_time": "2022-03-25T16:54:39.598Z"
   },
   {
    "duration": 1491,
    "start_time": "2022-03-25T16:54:45.041Z"
   },
   {
    "duration": 9,
    "start_time": "2022-03-25T16:55:20.478Z"
   },
   {
    "duration": 45,
    "start_time": "2022-03-25T16:55:20.752Z"
   },
   {
    "duration": 71978,
    "start_time": "2022-03-25T16:55:22.181Z"
   },
   {
    "duration": 309,
    "start_time": "2022-03-25T16:56:34.248Z"
   },
   {
    "duration": 1187,
    "start_time": "2022-03-25T16:56:40.045Z"
   },
   {
    "duration": 50,
    "start_time": "2022-03-25T16:57:44.070Z"
   },
   {
    "duration": 20762,
    "start_time": "2022-03-25T16:57:46.392Z"
   },
   {
    "duration": 36,
    "start_time": "2022-03-25T16:58:08.610Z"
   },
   {
    "duration": 75327,
    "start_time": "2022-03-25T16:58:09.127Z"
   },
   {
    "duration": 165,
    "start_time": "2022-03-25T16:59:35.207Z"
   },
   {
    "duration": 593,
    "start_time": "2022-03-25T16:59:37.306Z"
   },
   {
    "duration": 9,
    "start_time": "2022-03-25T17:00:01.751Z"
   },
   {
    "duration": 144,
    "start_time": "2022-03-25T17:00:07.480Z"
   },
   {
    "duration": 72600,
    "start_time": "2022-03-25T17:00:08.744Z"
   },
   {
    "duration": 36,
    "start_time": "2022-03-25T17:07:01.381Z"
   },
   {
    "duration": 1796,
    "start_time": "2022-03-25T17:07:02.247Z"
   },
   {
    "duration": 459,
    "start_time": "2022-03-25T17:07:07.408Z"
   },
   {
    "duration": 30,
    "start_time": "2022-03-25T17:08:30.581Z"
   },
   {
    "duration": 1468,
    "start_time": "2022-03-25T17:08:31.003Z"
   },
   {
    "duration": 336,
    "start_time": "2022-03-25T17:08:34.644Z"
   },
   {
    "duration": 30,
    "start_time": "2022-03-25T17:08:47.207Z"
   },
   {
    "duration": 1227,
    "start_time": "2022-03-25T17:08:47.355Z"
   },
   {
    "duration": 1216,
    "start_time": "2022-03-25T17:08:51.254Z"
   },
   {
    "duration": 455,
    "start_time": "2022-03-25T17:09:00.777Z"
   },
   {
    "duration": 46,
    "start_time": "2022-03-25T17:12:10.990Z"
   },
   {
    "duration": 1566,
    "start_time": "2022-03-25T17:12:11.592Z"
   },
   {
    "duration": 754,
    "start_time": "2022-03-25T17:12:17.347Z"
   },
   {
    "duration": 47,
    "start_time": "2022-03-25T17:12:33.776Z"
   },
   {
    "duration": 1208,
    "start_time": "2022-03-25T17:12:33.968Z"
   },
   {
    "duration": 9,
    "start_time": "2022-03-25T17:12:35.180Z"
   },
   {
    "duration": 720,
    "start_time": "2022-03-25T17:12:37.389Z"
   },
   {
    "duration": 553,
    "start_time": "2022-03-25T17:12:38.112Z"
   },
   {
    "duration": 53,
    "start_time": "2022-03-25T17:12:50.703Z"
   },
   {
    "duration": 1603,
    "start_time": "2022-03-25T17:12:50.872Z"
   },
   {
    "duration": 16,
    "start_time": "2022-03-25T17:12:52.556Z"
   },
   {
    "duration": 22,
    "start_time": "2022-03-25T17:12:52.590Z"
   },
   {
    "duration": 1312,
    "start_time": "2022-03-25T17:12:55.139Z"
   },
   {
    "duration": 32,
    "start_time": "2022-03-25T17:13:41.395Z"
   },
   {
    "duration": 1494,
    "start_time": "2022-03-25T17:13:41.569Z"
   },
   {
    "duration": 15,
    "start_time": "2022-03-25T17:13:43.070Z"
   },
   {
    "duration": 1124,
    "start_time": "2022-03-25T17:13:44.495Z"
   },
   {
    "duration": 611,
    "start_time": "2022-03-25T17:13:45.622Z"
   },
   {
    "duration": 9,
    "start_time": "2022-03-25T17:14:44.172Z"
   },
   {
    "duration": 19,
    "start_time": "2022-03-25T17:14:44.185Z"
   },
   {
    "duration": 123,
    "start_time": "2022-03-25T17:14:44.207Z"
   },
   {
    "duration": 9,
    "start_time": "2022-03-25T17:14:44.345Z"
   },
   {
    "duration": 26,
    "start_time": "2022-03-25T17:14:44.362Z"
   },
   {
    "duration": 18,
    "start_time": "2022-03-25T17:14:44.392Z"
   },
   {
    "duration": 1402,
    "start_time": "2022-03-25T17:14:44.412Z"
   },
   {
    "duration": 28,
    "start_time": "2022-03-25T17:14:45.817Z"
   },
   {
    "duration": 12,
    "start_time": "2022-03-25T17:14:45.850Z"
   },
   {
    "duration": 1323,
    "start_time": "2022-03-25T17:14:45.865Z"
   },
   {
    "duration": 6,
    "start_time": "2022-03-25T17:14:47.191Z"
   },
   {
    "duration": 2667,
    "start_time": "2022-03-25T17:14:47.200Z"
   },
   {
    "duration": 1486,
    "start_time": "2022-03-25T17:14:49.871Z"
   },
   {
    "duration": 707,
    "start_time": "2022-03-25T17:14:51.363Z"
   },
   {
    "duration": 8,
    "start_time": "2022-03-25T17:14:52.073Z"
   },
   {
    "duration": 10,
    "start_time": "2022-03-25T17:14:52.084Z"
   },
   {
    "duration": 13,
    "start_time": "2022-03-25T17:14:52.096Z"
   },
   {
    "duration": 65,
    "start_time": "2022-03-25T17:14:52.113Z"
   },
   {
    "duration": 50,
    "start_time": "2022-03-25T17:14:52.182Z"
   },
   {
    "duration": 145,
    "start_time": "2022-03-25T17:14:52.235Z"
   },
   {
    "duration": 12,
    "start_time": "2022-03-25T17:14:52.382Z"
   },
   {
    "duration": 90,
    "start_time": "2022-03-25T17:14:52.397Z"
   },
   {
    "duration": 224,
    "start_time": "2022-03-25T17:14:52.490Z"
   },
   {
    "duration": 0,
    "start_time": "2022-03-25T17:14:52.717Z"
   },
   {
    "duration": 0,
    "start_time": "2022-03-25T17:14:52.718Z"
   },
   {
    "duration": 4,
    "start_time": "2022-03-25T17:15:07.607Z"
   },
   {
    "duration": 608,
    "start_time": "2022-03-25T17:15:07.615Z"
   },
   {
    "duration": 592,
    "start_time": "2022-03-25T17:15:08.227Z"
   },
   {
    "duration": 39,
    "start_time": "2022-03-25T17:16:36.041Z"
   },
   {
    "duration": 55600,
    "start_time": "2022-03-25T17:16:36.792Z"
   },
   {
    "duration": 1130,
    "start_time": "2022-03-25T17:17:32.455Z"
   },
   {
    "duration": 484,
    "start_time": "2022-03-25T17:17:33.588Z"
   },
   {
    "duration": 31,
    "start_time": "2022-03-25T17:19:41.859Z"
   },
   {
    "duration": 52245,
    "start_time": "2022-03-25T17:19:42.238Z"
   },
   {
    "duration": 1187,
    "start_time": "2022-03-25T17:28:49.356Z"
   },
   {
    "duration": 594,
    "start_time": "2022-03-25T17:28:50.546Z"
   },
   {
    "duration": 10,
    "start_time": "2022-03-25T17:29:08.761Z"
   },
   {
    "duration": 10,
    "start_time": "2022-03-25T17:29:08.774Z"
   },
   {
    "duration": 101,
    "start_time": "2022-03-25T17:29:08.788Z"
   },
   {
    "duration": 5,
    "start_time": "2022-03-25T17:29:08.892Z"
   },
   {
    "duration": 7,
    "start_time": "2022-03-25T17:29:08.900Z"
   },
   {
    "duration": 42,
    "start_time": "2022-03-25T17:29:08.909Z"
   },
   {
    "duration": 1304,
    "start_time": "2022-03-25T17:29:08.954Z"
   },
   {
    "duration": 10,
    "start_time": "2022-03-25T17:29:10.263Z"
   },
   {
    "duration": 14,
    "start_time": "2022-03-25T17:29:10.276Z"
   },
   {
    "duration": 975,
    "start_time": "2022-03-25T17:29:10.292Z"
   },
   {
    "duration": 6,
    "start_time": "2022-03-25T17:29:11.270Z"
   },
   {
    "duration": 2999,
    "start_time": "2022-03-25T17:29:11.279Z"
   },
   {
    "duration": 1285,
    "start_time": "2022-03-25T17:29:14.281Z"
   },
   {
    "duration": 712,
    "start_time": "2022-03-25T17:29:15.570Z"
   },
   {
    "duration": 6,
    "start_time": "2022-03-25T17:29:16.286Z"
   },
   {
    "duration": 20,
    "start_time": "2022-03-25T17:29:16.295Z"
   },
   {
    "duration": 35,
    "start_time": "2022-03-25T17:29:16.318Z"
   },
   {
    "duration": 25,
    "start_time": "2022-03-25T17:29:16.357Z"
   },
   {
    "duration": 45,
    "start_time": "2022-03-25T17:29:16.384Z"
   },
   {
    "duration": 7940,
    "start_time": "2022-03-25T17:29:16.432Z"
   },
   {
    "duration": 9,
    "start_time": "2022-03-25T17:29:24.378Z"
   },
   {
    "duration": 32,
    "start_time": "2022-03-25T17:29:24.445Z"
   },
   {
    "duration": 85,
    "start_time": "2022-03-25T17:29:24.480Z"
   },
   {
    "duration": 713,
    "start_time": "2022-03-25T17:29:24.568Z"
   },
   {
    "duration": 559,
    "start_time": "2022-03-25T17:29:25.284Z"
   },
   {
    "duration": 11,
    "start_time": "2022-03-25T17:33:50.077Z"
   },
   {
    "duration": 8,
    "start_time": "2022-03-25T17:33:50.091Z"
   },
   {
    "duration": 156,
    "start_time": "2022-03-25T17:33:50.101Z"
   },
   {
    "duration": 6,
    "start_time": "2022-03-25T17:33:50.261Z"
   },
   {
    "duration": 22,
    "start_time": "2022-03-25T17:33:50.271Z"
   },
   {
    "duration": 30,
    "start_time": "2022-03-25T17:33:50.297Z"
   },
   {
    "duration": 1122,
    "start_time": "2022-03-25T17:33:50.330Z"
   },
   {
    "duration": 11,
    "start_time": "2022-03-25T17:33:51.455Z"
   },
   {
    "duration": 21,
    "start_time": "2022-03-25T17:33:51.470Z"
   },
   {
    "duration": 893,
    "start_time": "2022-03-25T17:33:51.494Z"
   },
   {
    "duration": 6,
    "start_time": "2022-03-25T17:33:52.391Z"
   },
   {
    "duration": 3128,
    "start_time": "2022-03-25T17:33:52.400Z"
   },
   {
    "duration": 1496,
    "start_time": "2022-03-25T17:33:55.531Z"
   },
   {
    "duration": 592,
    "start_time": "2022-03-25T17:33:57.031Z"
   },
   {
    "duration": 7,
    "start_time": "2022-03-25T17:33:57.625Z"
   },
   {
    "duration": 15,
    "start_time": "2022-03-25T17:33:57.646Z"
   },
   {
    "duration": 32,
    "start_time": "2022-03-25T17:33:57.664Z"
   },
   {
    "duration": 6,
    "start_time": "2022-03-25T17:33:57.699Z"
   },
   {
    "duration": 58,
    "start_time": "2022-03-25T17:33:57.709Z"
   },
   {
    "duration": 8908,
    "start_time": "2022-03-25T17:33:57.770Z"
   },
   {
    "duration": 10,
    "start_time": "2022-03-25T17:34:06.744Z"
   },
   {
    "duration": 118,
    "start_time": "2022-03-25T17:34:06.758Z"
   },
   {
    "duration": 8,
    "start_time": "2022-03-25T17:34:06.879Z"
   },
   {
    "duration": 594,
    "start_time": "2022-03-25T17:34:06.893Z"
   },
   {
    "duration": 502,
    "start_time": "2022-03-25T17:34:07.490Z"
   },
   {
    "duration": 6,
    "start_time": "2022-03-25T17:41:01.305Z"
   },
   {
    "duration": 15,
    "start_time": "2022-03-25T17:41:01.314Z"
   },
   {
    "duration": 169,
    "start_time": "2022-03-25T17:41:01.345Z"
   },
   {
    "duration": 11,
    "start_time": "2022-03-25T17:41:01.517Z"
   },
   {
    "duration": 10,
    "start_time": "2022-03-25T17:41:01.546Z"
   },
   {
    "duration": 33,
    "start_time": "2022-03-25T17:41:01.560Z"
   },
   {
    "duration": 1248,
    "start_time": "2022-03-25T17:41:01.598Z"
   },
   {
    "duration": 12,
    "start_time": "2022-03-25T17:41:02.849Z"
   },
   {
    "duration": 36,
    "start_time": "2022-03-25T17:41:02.864Z"
   },
   {
    "duration": 1340,
    "start_time": "2022-03-25T17:41:02.903Z"
   },
   {
    "duration": 8,
    "start_time": "2022-03-25T17:41:04.245Z"
   },
   {
    "duration": 2722,
    "start_time": "2022-03-25T17:41:04.256Z"
   },
   {
    "duration": 1383,
    "start_time": "2022-03-25T17:41:06.983Z"
   },
   {
    "duration": 585,
    "start_time": "2022-03-25T17:41:08.370Z"
   },
   {
    "duration": 7,
    "start_time": "2022-03-25T17:41:08.958Z"
   },
   {
    "duration": 14,
    "start_time": "2022-03-25T17:41:08.974Z"
   },
   {
    "duration": 12,
    "start_time": "2022-03-25T17:41:08.991Z"
   },
   {
    "duration": 11,
    "start_time": "2022-03-25T17:41:09.006Z"
   },
   {
    "duration": 88,
    "start_time": "2022-03-25T17:41:09.020Z"
   },
   {
    "duration": 9540,
    "start_time": "2022-03-25T17:41:09.115Z"
   },
   {
    "duration": 310723,
    "start_time": "2022-03-25T17:41:18.663Z"
   },
   {
    "duration": 34147,
    "start_time": "2022-03-25T17:46:29.447Z"
   },
   {
    "duration": 22,
    "start_time": "2022-03-25T17:47:03.652Z"
   },
   {
    "duration": 111,
    "start_time": "2022-03-25T17:47:03.689Z"
   },
   {
    "duration": 0,
    "start_time": "2022-03-25T17:47:03.803Z"
   },
   {
    "duration": 0,
    "start_time": "2022-03-25T17:47:03.806Z"
   },
   {
    "duration": 206,
    "start_time": "2022-03-25T17:48:37.028Z"
   },
   {
    "duration": 36,
    "start_time": "2022-03-25T17:48:49.869Z"
   },
   {
    "duration": 1613,
    "start_time": "2022-03-26T07:22:42.394Z"
   },
   {
    "duration": 8,
    "start_time": "2022-03-26T07:22:44.012Z"
   },
   {
    "duration": 62,
    "start_time": "2022-03-26T07:22:44.022Z"
   },
   {
    "duration": 3,
    "start_time": "2022-03-26T07:22:44.086Z"
   },
   {
    "duration": 18,
    "start_time": "2022-03-26T07:22:44.091Z"
   },
   {
    "duration": 15,
    "start_time": "2022-03-26T07:22:44.112Z"
   },
   {
    "duration": 698,
    "start_time": "2022-03-26T07:22:44.129Z"
   },
   {
    "duration": 8,
    "start_time": "2022-03-26T07:22:44.829Z"
   },
   {
    "duration": 9,
    "start_time": "2022-03-26T07:22:44.838Z"
   },
   {
    "duration": 591,
    "start_time": "2022-03-26T07:22:44.850Z"
   },
   {
    "duration": 4,
    "start_time": "2022-03-26T07:22:45.443Z"
   },
   {
    "duration": 1179,
    "start_time": "2022-03-26T07:22:45.449Z"
   },
   {
    "duration": 629,
    "start_time": "2022-03-26T07:22:46.630Z"
   },
   {
    "duration": 375,
    "start_time": "2022-03-26T07:22:47.261Z"
   },
   {
    "duration": 5,
    "start_time": "2022-03-26T07:22:47.639Z"
   },
   {
    "duration": 7,
    "start_time": "2022-03-26T07:22:47.646Z"
   },
   {
    "duration": 11,
    "start_time": "2022-03-26T07:22:47.655Z"
   },
   {
    "duration": 5,
    "start_time": "2022-03-26T07:22:47.667Z"
   },
   {
    "duration": 22,
    "start_time": "2022-03-26T07:22:47.674Z"
   },
   {
    "duration": 4615,
    "start_time": "2022-03-26T07:22:47.708Z"
   },
   {
    "duration": 90491,
    "start_time": "2022-03-26T07:22:52.325Z"
   },
   {
    "duration": 21610,
    "start_time": "2022-03-26T07:24:22.818Z"
   },
   {
    "duration": 5,
    "start_time": "2022-03-26T07:24:44.508Z"
   },
   {
    "duration": 95,
    "start_time": "2022-03-26T07:24:44.515Z"
   },
   {
    "duration": 402,
    "start_time": "2022-03-26T07:24:44.612Z"
   },
   {
    "duration": 268,
    "start_time": "2022-03-26T07:24:45.016Z"
   },
   {
    "duration": 3,
    "start_time": "2022-03-26T07:34:23.575Z"
   },
   {
    "duration": 9,
    "start_time": "2022-03-26T07:34:23.580Z"
   },
   {
    "duration": 57,
    "start_time": "2022-03-26T07:34:23.590Z"
   },
   {
    "duration": 3,
    "start_time": "2022-03-26T07:34:23.649Z"
   },
   {
    "duration": 8,
    "start_time": "2022-03-26T07:34:23.654Z"
   },
   {
    "duration": 108,
    "start_time": "2022-03-26T07:34:23.664Z"
   },
   {
    "duration": 640,
    "start_time": "2022-03-26T07:34:23.774Z"
   },
   {
    "duration": 7,
    "start_time": "2022-03-26T07:34:24.416Z"
   },
   {
    "duration": 14,
    "start_time": "2022-03-26T07:34:24.425Z"
   },
   {
    "duration": 479,
    "start_time": "2022-03-26T07:34:24.441Z"
   },
   {
    "duration": 3,
    "start_time": "2022-03-26T07:34:24.922Z"
   },
   {
    "duration": 1164,
    "start_time": "2022-03-26T07:34:24.927Z"
   },
   {
    "duration": 649,
    "start_time": "2022-03-26T07:34:26.093Z"
   },
   {
    "duration": 372,
    "start_time": "2022-03-26T07:34:26.744Z"
   },
   {
    "duration": 5,
    "start_time": "2022-03-26T07:34:27.117Z"
   },
   {
    "duration": 7,
    "start_time": "2022-03-26T07:34:27.123Z"
   },
   {
    "duration": 9,
    "start_time": "2022-03-26T07:34:27.132Z"
   },
   {
    "duration": 5,
    "start_time": "2022-03-26T07:34:27.143Z"
   },
   {
    "duration": 129,
    "start_time": "2022-03-26T07:34:27.149Z"
   },
   {
    "duration": 3154,
    "start_time": "2022-03-26T07:34:27.279Z"
   },
   {
    "duration": 61775,
    "start_time": "2022-03-26T07:34:30.435Z"
   },
   {
    "duration": 9518,
    "start_time": "2022-03-26T07:35:32.212Z"
   },
   {
    "duration": 6,
    "start_time": "2022-03-26T07:35:41.809Z"
   },
   {
    "duration": 95,
    "start_time": "2022-03-26T07:35:41.819Z"
   },
   {
    "duration": 401,
    "start_time": "2022-03-26T07:35:41.916Z"
   },
   {
    "duration": 249,
    "start_time": "2022-03-26T07:35:42.318Z"
   },
   {
    "duration": 4,
    "start_time": "2022-03-26T07:37:00.915Z"
   },
   {
    "duration": 14,
    "start_time": "2022-03-26T07:37:00.921Z"
   },
   {
    "duration": 62,
    "start_time": "2022-03-26T07:37:00.937Z"
   },
   {
    "duration": 3,
    "start_time": "2022-03-26T07:37:01.001Z"
   },
   {
    "duration": 23,
    "start_time": "2022-03-26T07:37:01.009Z"
   },
   {
    "duration": 11,
    "start_time": "2022-03-26T07:37:01.034Z"
   },
   {
    "duration": 677,
    "start_time": "2022-03-26T07:37:01.047Z"
   },
   {
    "duration": 7,
    "start_time": "2022-03-26T07:37:01.726Z"
   },
   {
    "duration": 10,
    "start_time": "2022-03-26T07:37:01.735Z"
   },
   {
    "duration": 508,
    "start_time": "2022-03-26T07:37:01.747Z"
   },
   {
    "duration": 4,
    "start_time": "2022-03-26T07:37:02.257Z"
   },
   {
    "duration": 1201,
    "start_time": "2022-03-26T07:37:02.262Z"
   },
   {
    "duration": 719,
    "start_time": "2022-03-26T07:37:03.465Z"
   },
   {
    "duration": 358,
    "start_time": "2022-03-26T07:37:04.187Z"
   },
   {
    "duration": 4,
    "start_time": "2022-03-26T07:37:04.547Z"
   },
   {
    "duration": 7,
    "start_time": "2022-03-26T07:37:04.553Z"
   },
   {
    "duration": 9,
    "start_time": "2022-03-26T07:37:04.562Z"
   },
   {
    "duration": 5,
    "start_time": "2022-03-26T07:37:04.573Z"
   },
   {
    "duration": 39,
    "start_time": "2022-03-26T07:37:04.580Z"
   },
   {
    "duration": 5495,
    "start_time": "2022-03-26T07:37:04.621Z"
   },
   {
    "duration": 101197,
    "start_time": "2022-03-26T07:37:10.118Z"
   },
   {
    "duration": 18604,
    "start_time": "2022-03-26T07:38:51.317Z"
   },
   {
    "duration": 5,
    "start_time": "2022-03-26T07:39:09.923Z"
   },
   {
    "duration": 13,
    "start_time": "2022-03-26T07:39:10.009Z"
   },
   {
    "duration": 510,
    "start_time": "2022-03-26T07:39:10.024Z"
   },
   {
    "duration": 274,
    "start_time": "2022-03-26T07:39:10.537Z"
   },
   {
    "duration": 4,
    "start_time": "2022-03-26T07:40:31.367Z"
   },
   {
    "duration": 13,
    "start_time": "2022-03-26T07:40:31.373Z"
   },
   {
    "duration": 55,
    "start_time": "2022-03-26T07:40:31.388Z"
   },
   {
    "duration": 3,
    "start_time": "2022-03-26T07:40:31.445Z"
   },
   {
    "duration": 9,
    "start_time": "2022-03-26T07:40:31.449Z"
   },
   {
    "duration": 11,
    "start_time": "2022-03-26T07:40:31.459Z"
   },
   {
    "duration": 657,
    "start_time": "2022-03-26T07:40:31.472Z"
   },
   {
    "duration": 6,
    "start_time": "2022-03-26T07:40:32.131Z"
   },
   {
    "duration": 10,
    "start_time": "2022-03-26T07:40:32.139Z"
   },
   {
    "duration": 566,
    "start_time": "2022-03-26T07:40:32.152Z"
   },
   {
    "duration": 4,
    "start_time": "2022-03-26T07:40:32.720Z"
   },
   {
    "duration": 1277,
    "start_time": "2022-03-26T07:40:32.726Z"
   },
   {
    "duration": 662,
    "start_time": "2022-03-26T07:40:34.005Z"
   },
   {
    "duration": 389,
    "start_time": "2022-03-26T07:40:34.669Z"
   },
   {
    "duration": 6,
    "start_time": "2022-03-26T07:40:35.060Z"
   },
   {
    "duration": 6,
    "start_time": "2022-03-26T07:40:35.067Z"
   },
   {
    "duration": 8,
    "start_time": "2022-03-26T07:40:35.075Z"
   },
   {
    "duration": 4,
    "start_time": "2022-03-26T07:40:35.108Z"
   },
   {
    "duration": 22,
    "start_time": "2022-03-26T07:40:35.114Z"
   },
   {
    "duration": 10882,
    "start_time": "2022-03-26T07:40:35.138Z"
   },
   {
    "duration": 91,
    "start_time": "2022-03-26T07:40:46.022Z"
   },
   {
    "duration": 92,
    "start_time": "2022-03-26T07:40:46.117Z"
   },
   {
    "duration": 4,
    "start_time": "2022-03-26T07:40:46.211Z"
   },
   {
    "duration": 81,
    "start_time": "2022-03-26T07:40:46.217Z"
   },
   {
    "duration": 0,
    "start_time": "2022-03-26T07:40:46.300Z"
   },
   {
    "duration": 0,
    "start_time": "2022-03-26T07:40:46.302Z"
   },
   {
    "duration": 2,
    "start_time": "2022-03-26T07:41:09.598Z"
   },
   {
    "duration": 509,
    "start_time": "2022-03-26T07:41:09.603Z"
   },
   {
    "duration": 249,
    "start_time": "2022-03-26T07:41:10.113Z"
   },
   {
    "duration": 4,
    "start_time": "2022-03-26T07:42:00.086Z"
   },
   {
    "duration": 10,
    "start_time": "2022-03-26T07:42:00.092Z"
   },
   {
    "duration": 53,
    "start_time": "2022-03-26T07:42:00.104Z"
   },
   {
    "duration": 3,
    "start_time": "2022-03-26T07:42:00.159Z"
   },
   {
    "duration": 18,
    "start_time": "2022-03-26T07:42:00.164Z"
   },
   {
    "duration": 9,
    "start_time": "2022-03-26T07:42:00.184Z"
   },
   {
    "duration": 614,
    "start_time": "2022-03-26T07:42:00.195Z"
   },
   {
    "duration": 6,
    "start_time": "2022-03-26T07:42:00.811Z"
   },
   {
    "duration": 11,
    "start_time": "2022-03-26T07:42:00.820Z"
   },
   {
    "duration": 558,
    "start_time": "2022-03-26T07:42:00.833Z"
   },
   {
    "duration": 4,
    "start_time": "2022-03-26T07:42:01.392Z"
   },
   {
    "duration": 1223,
    "start_time": "2022-03-26T07:42:01.398Z"
   },
   {
    "duration": 622,
    "start_time": "2022-03-26T07:42:02.623Z"
   },
   {
    "duration": 376,
    "start_time": "2022-03-26T07:42:03.247Z"
   },
   {
    "duration": 5,
    "start_time": "2022-03-26T07:42:03.624Z"
   },
   {
    "duration": 8,
    "start_time": "2022-03-26T07:42:03.630Z"
   },
   {
    "duration": 12,
    "start_time": "2022-03-26T07:42:03.639Z"
   },
   {
    "duration": 5,
    "start_time": "2022-03-26T07:42:03.652Z"
   },
   {
    "duration": 21,
    "start_time": "2022-03-26T07:42:03.659Z"
   },
   {
    "duration": 7929,
    "start_time": "2022-03-26T07:42:03.682Z"
   },
   {
    "duration": 6,
    "start_time": "2022-03-26T07:42:11.614Z"
   },
   {
    "duration": 94,
    "start_time": "2022-03-26T07:42:11.622Z"
   },
   {
    "duration": 6,
    "start_time": "2022-03-26T07:42:11.718Z"
   },
   {
    "duration": 4,
    "start_time": "2022-03-26T07:42:11.728Z"
   },
   {
    "duration": 527,
    "start_time": "2022-03-26T07:42:11.734Z"
   },
   {
    "duration": 345,
    "start_time": "2022-03-26T07:42:12.263Z"
   },
   {
    "duration": 22,
    "start_time": "2022-03-26T07:43:22.462Z"
   },
   {
    "duration": 15053,
    "start_time": "2022-03-26T07:43:23.770Z"
   },
   {
    "duration": 5,
    "start_time": "2022-03-26T07:43:38.911Z"
   },
   {
    "duration": 92,
    "start_time": "2022-03-26T07:43:38.918Z"
   },
   {
    "duration": 8,
    "start_time": "2022-03-26T07:43:39.012Z"
   },
   {
    "duration": 5,
    "start_time": "2022-03-26T07:43:39.021Z"
   },
   {
    "duration": 432,
    "start_time": "2022-03-26T07:43:39.028Z"
   },
   {
    "duration": 270,
    "start_time": "2022-03-26T07:43:39.462Z"
   },
   {
    "duration": 22,
    "start_time": "2022-03-26T07:44:39.180Z"
   },
   {
    "duration": 41208,
    "start_time": "2022-03-26T07:44:39.302Z"
   },
   {
    "duration": 6,
    "start_time": "2022-03-26T07:45:20.512Z"
   },
   {
    "duration": 4,
    "start_time": "2022-03-26T07:45:20.610Z"
   },
   {
    "duration": 5,
    "start_time": "2022-03-26T07:45:20.617Z"
   },
   {
    "duration": 8,
    "start_time": "2022-03-26T07:45:20.624Z"
   },
   {
    "duration": 505,
    "start_time": "2022-03-26T07:45:20.634Z"
   },
   {
    "duration": 269,
    "start_time": "2022-03-26T07:45:21.142Z"
   },
   {
    "duration": 24,
    "start_time": "2022-03-26T07:47:01.004Z"
   },
   {
    "duration": 162382,
    "start_time": "2022-03-26T07:47:01.130Z"
   },
   {
    "duration": 95,
    "start_time": "2022-03-26T07:49:43.515Z"
   },
   {
    "duration": 4,
    "start_time": "2022-03-26T07:49:43.611Z"
   },
   {
    "duration": 5,
    "start_time": "2022-03-26T07:49:43.617Z"
   },
   {
    "duration": 7,
    "start_time": "2022-03-26T07:49:43.624Z"
   },
   {
    "duration": 558,
    "start_time": "2022-03-26T07:49:43.633Z"
   },
   {
    "duration": 249,
    "start_time": "2022-03-26T07:49:44.192Z"
   },
   {
    "duration": 100123,
    "start_time": "2022-03-26T07:51:19.991Z"
   },
   {
    "duration": 38,
    "start_time": "2022-03-26T07:53:21.437Z"
   },
   {
    "duration": 42,
    "start_time": "2022-03-26T07:53:22.570Z"
   },
   {
    "duration": 1488,
    "start_time": "2022-03-26T07:53:29.325Z"
   },
   {
    "duration": 21,
    "start_time": "2022-03-26T07:53:59.622Z"
   },
   {
    "duration": 94,
    "start_time": "2022-03-26T07:54:00.321Z"
   },
   {
    "duration": 4,
    "start_time": "2022-03-26T07:54:00.633Z"
   },
   {
    "duration": 4,
    "start_time": "2022-03-26T07:54:00.790Z"
   },
   {
    "duration": 1536,
    "start_time": "2022-03-26T07:54:04.376Z"
   },
   {
    "duration": 20,
    "start_time": "2022-03-26T07:54:33.096Z"
   },
   {
    "duration": 25,
    "start_time": "2022-03-26T07:54:33.390Z"
   },
   {
    "duration": 101,
    "start_time": "2022-03-26T07:54:33.511Z"
   },
   {
    "duration": 4,
    "start_time": "2022-03-26T07:54:33.902Z"
   },
   {
    "duration": 2039,
    "start_time": "2022-03-26T07:54:34.773Z"
   },
   {
    "duration": 22,
    "start_time": "2022-03-26T07:55:38.778Z"
   },
   {
    "duration": 84,
    "start_time": "2022-03-26T07:55:39.531Z"
   },
   {
    "duration": 3,
    "start_time": "2022-03-26T07:55:40.497Z"
   },
   {
    "duration": 3,
    "start_time": "2022-03-26T07:55:40.901Z"
   },
   {
    "duration": 3049,
    "start_time": "2022-03-26T07:55:41.670Z"
   },
   {
    "duration": 22,
    "start_time": "2022-03-26T07:57:47.368Z"
   },
   {
    "duration": 25,
    "start_time": "2022-03-26T07:57:47.676Z"
   },
   {
    "duration": 4,
    "start_time": "2022-03-26T07:57:48.460Z"
   },
   {
    "duration": 4,
    "start_time": "2022-03-26T07:57:48.812Z"
   },
   {
    "duration": 2970,
    "start_time": "2022-03-26T07:57:48.956Z"
   },
   {
    "duration": 3300,
    "start_time": "2022-03-26T07:58:37.794Z"
   },
   {
    "duration": 15,
    "start_time": "2022-03-26T08:02:30.083Z"
   },
   {
    "duration": 180,
    "start_time": "2022-03-26T08:05:33.570Z"
   },
   {
    "duration": 106,
    "start_time": "2022-03-26T08:05:53.075Z"
   },
   {
    "duration": 112,
    "start_time": "2022-03-26T08:06:36.170Z"
   },
   {
    "duration": 22,
    "start_time": "2022-03-26T08:06:47.121Z"
   },
   {
    "duration": 19,
    "start_time": "2022-03-26T08:09:51.553Z"
   },
   {
    "duration": 24,
    "start_time": "2022-03-26T08:10:06.897Z"
   },
   {
    "duration": 45879,
    "start_time": "2022-03-26T08:10:11.835Z"
   },
   {
    "duration": 5743,
    "start_time": "2022-03-26T08:11:07.373Z"
   },
   {
    "duration": 245,
    "start_time": "2022-03-26T08:11:19.155Z"
   },
   {
    "duration": 4,
    "start_time": "2022-03-26T08:14:47.120Z"
   },
   {
    "duration": 11,
    "start_time": "2022-03-26T08:14:47.126Z"
   },
   {
    "duration": 60,
    "start_time": "2022-03-26T08:14:47.138Z"
   },
   {
    "duration": 3,
    "start_time": "2022-03-26T08:14:47.199Z"
   },
   {
    "duration": 3,
    "start_time": "2022-03-26T08:14:47.209Z"
   },
   {
    "duration": 7,
    "start_time": "2022-03-26T08:14:47.213Z"
   },
   {
    "duration": 692,
    "start_time": "2022-03-26T08:14:47.222Z"
   },
   {
    "duration": 6,
    "start_time": "2022-03-26T08:14:47.916Z"
   },
   {
    "duration": 10,
    "start_time": "2022-03-26T08:14:47.924Z"
   },
   {
    "duration": 495,
    "start_time": "2022-03-26T08:14:47.936Z"
   },
   {
    "duration": 4,
    "start_time": "2022-03-26T08:14:48.432Z"
   },
   {
    "duration": 1389,
    "start_time": "2022-03-26T08:14:48.438Z"
   },
   {
    "duration": 633,
    "start_time": "2022-03-26T08:14:49.829Z"
   },
   {
    "duration": 350,
    "start_time": "2022-03-26T08:14:50.465Z"
   },
   {
    "duration": 4,
    "start_time": "2022-03-26T08:14:50.817Z"
   },
   {
    "duration": 9,
    "start_time": "2022-03-26T08:14:50.823Z"
   },
   {
    "duration": 7,
    "start_time": "2022-03-26T08:14:50.834Z"
   },
   {
    "duration": 4,
    "start_time": "2022-03-26T08:14:50.843Z"
   },
   {
    "duration": 23,
    "start_time": "2022-03-26T08:14:50.849Z"
   },
   {
    "duration": 241,
    "start_time": "2022-03-26T08:14:50.873Z"
   },
   {
    "duration": 5,
    "start_time": "2022-03-26T08:14:51.117Z"
   },
   {
    "duration": 711,
    "start_time": "2022-03-26T08:14:51.208Z"
   },
   {
    "duration": 41995,
    "start_time": "2022-03-26T08:14:51.922Z"
   },
   {
    "duration": 14,
    "start_time": "2022-03-26T08:15:33.919Z"
   },
   {
    "duration": 1600,
    "start_time": "2022-03-26T08:15:33.934Z"
   },
   {
    "duration": 256,
    "start_time": "2022-03-26T08:15:35.535Z"
   },
   {
    "duration": 5,
    "start_time": "2022-03-26T08:16:09.715Z"
   },
   {
    "duration": 6,
    "start_time": "2022-03-26T08:16:09.723Z"
   },
   {
    "duration": 84,
    "start_time": "2022-03-26T08:16:09.731Z"
   },
   {
    "duration": 3,
    "start_time": "2022-03-26T08:16:09.817Z"
   },
   {
    "duration": 5,
    "start_time": "2022-03-26T08:16:09.822Z"
   },
   {
    "duration": 8,
    "start_time": "2022-03-26T08:16:09.829Z"
   },
   {
    "duration": 694,
    "start_time": "2022-03-26T08:16:09.838Z"
   },
   {
    "duration": 6,
    "start_time": "2022-03-26T08:16:10.534Z"
   },
   {
    "duration": 9,
    "start_time": "2022-03-26T08:16:10.542Z"
   },
   {
    "duration": 652,
    "start_time": "2022-03-26T08:16:10.553Z"
   },
   {
    "duration": 4,
    "start_time": "2022-03-26T08:16:11.207Z"
   },
   {
    "duration": 1251,
    "start_time": "2022-03-26T08:16:11.212Z"
   },
   {
    "duration": 697,
    "start_time": "2022-03-26T08:16:12.465Z"
   },
   {
    "duration": 365,
    "start_time": "2022-03-26T08:16:13.165Z"
   },
   {
    "duration": 5,
    "start_time": "2022-03-26T08:16:13.531Z"
   },
   {
    "duration": 8,
    "start_time": "2022-03-26T08:16:13.537Z"
   },
   {
    "duration": 10,
    "start_time": "2022-03-26T08:16:13.547Z"
   },
   {
    "duration": 7,
    "start_time": "2022-03-26T08:16:13.558Z"
   },
   {
    "duration": 45,
    "start_time": "2022-03-26T08:16:13.566Z"
   },
   {
    "duration": 298,
    "start_time": "2022-03-26T08:16:13.613Z"
   },
   {
    "duration": 7,
    "start_time": "2022-03-26T08:16:13.914Z"
   },
   {
    "duration": 406,
    "start_time": "2022-03-26T08:16:14.008Z"
   },
   {
    "duration": 27497,
    "start_time": "2022-03-26T08:16:14.416Z"
   },
   {
    "duration": 13,
    "start_time": "2022-03-26T08:16:41.914Z"
   },
   {
    "duration": 1228,
    "start_time": "2022-03-26T08:16:41.929Z"
   },
   {
    "duration": 262,
    "start_time": "2022-03-26T08:16:43.159Z"
   },
   {
    "duration": 4,
    "start_time": "2022-03-26T08:16:51.670Z"
   },
   {
    "duration": 7,
    "start_time": "2022-03-26T08:16:51.676Z"
   },
   {
    "duration": 57,
    "start_time": "2022-03-26T08:16:51.685Z"
   },
   {
    "duration": 3,
    "start_time": "2022-03-26T08:16:51.744Z"
   },
   {
    "duration": 6,
    "start_time": "2022-03-26T08:16:51.749Z"
   },
   {
    "duration": 7,
    "start_time": "2022-03-26T08:16:51.756Z"
   },
   {
    "duration": 647,
    "start_time": "2022-03-26T08:16:51.765Z"
   },
   {
    "duration": 6,
    "start_time": "2022-03-26T08:16:52.414Z"
   },
   {
    "duration": 10,
    "start_time": "2022-03-26T08:16:52.422Z"
   },
   {
    "duration": 629,
    "start_time": "2022-03-26T08:16:52.435Z"
   },
   {
    "duration": 4,
    "start_time": "2022-03-26T08:16:53.065Z"
   },
   {
    "duration": 1232,
    "start_time": "2022-03-26T08:16:53.071Z"
   },
   {
    "duration": 644,
    "start_time": "2022-03-26T08:16:54.305Z"
   },
   {
    "duration": 371,
    "start_time": "2022-03-26T08:16:54.950Z"
   },
   {
    "duration": 5,
    "start_time": "2022-03-26T08:16:55.322Z"
   },
   {
    "duration": 7,
    "start_time": "2022-03-26T08:16:55.328Z"
   },
   {
    "duration": 9,
    "start_time": "2022-03-26T08:16:55.336Z"
   },
   {
    "duration": 12,
    "start_time": "2022-03-26T08:16:55.347Z"
   },
   {
    "duration": 23,
    "start_time": "2022-03-26T08:16:55.361Z"
   },
   {
    "duration": 229,
    "start_time": "2022-03-26T08:16:55.385Z"
   },
   {
    "duration": 3095,
    "start_time": "2022-03-26T08:16:55.616Z"
   },
   {
    "duration": 610,
    "start_time": "2022-03-26T08:16:58.713Z"
   },
   {
    "duration": 43589,
    "start_time": "2022-03-26T08:16:59.325Z"
   },
   {
    "duration": 13,
    "start_time": "2022-03-26T08:17:42.915Z"
   },
   {
    "duration": 1262,
    "start_time": "2022-03-26T08:17:42.930Z"
   },
   {
    "duration": 250,
    "start_time": "2022-03-26T08:17:44.194Z"
   },
   {
    "duration": 4,
    "start_time": "2022-03-26T08:22:52.293Z"
   },
   {
    "duration": 7,
    "start_time": "2022-03-26T08:22:52.299Z"
   },
   {
    "duration": 58,
    "start_time": "2022-03-26T08:22:52.308Z"
   },
   {
    "duration": 3,
    "start_time": "2022-03-26T08:22:52.368Z"
   },
   {
    "duration": 6,
    "start_time": "2022-03-26T08:22:52.373Z"
   },
   {
    "duration": 30,
    "start_time": "2022-03-26T08:22:52.381Z"
   },
   {
    "duration": 799,
    "start_time": "2022-03-26T08:22:52.413Z"
   },
   {
    "duration": 7,
    "start_time": "2022-03-26T08:22:53.214Z"
   },
   {
    "duration": 11,
    "start_time": "2022-03-26T08:22:53.222Z"
   },
   {
    "duration": 649,
    "start_time": "2022-03-26T08:22:53.235Z"
   },
   {
    "duration": 4,
    "start_time": "2022-03-26T08:22:53.887Z"
   },
   {
    "duration": 1252,
    "start_time": "2022-03-26T08:22:53.893Z"
   },
   {
    "duration": 693,
    "start_time": "2022-03-26T08:22:55.147Z"
   },
   {
    "duration": 369,
    "start_time": "2022-03-26T08:22:55.842Z"
   },
   {
    "duration": 3,
    "start_time": "2022-03-26T08:22:56.213Z"
   },
   {
    "duration": 7,
    "start_time": "2022-03-26T08:22:56.218Z"
   },
   {
    "duration": 9,
    "start_time": "2022-03-26T08:22:56.227Z"
   },
   {
    "duration": 5,
    "start_time": "2022-03-26T08:22:56.237Z"
   },
   {
    "duration": 23,
    "start_time": "2022-03-26T08:22:56.243Z"
   },
   {
    "duration": 1042,
    "start_time": "2022-03-26T08:22:56.268Z"
   },
   {
    "duration": 20901,
    "start_time": "2022-03-26T08:22:57.312Z"
   },
   {
    "duration": 2896,
    "start_time": "2022-03-26T08:23:18.217Z"
   },
   {
    "duration": 1001902,
    "start_time": "2022-03-26T08:23:21.208Z"
   },
   {
    "duration": 13,
    "start_time": "2022-03-26T08:40:03.112Z"
   },
   {
    "duration": 1111,
    "start_time": "2022-03-26T08:40:03.127Z"
   },
   {
    "duration": 280,
    "start_time": "2022-03-26T08:40:04.239Z"
   },
   {
    "duration": 25,
    "start_time": "2022-03-26T08:45:49.986Z"
   },
   {
    "duration": 6,
    "start_time": "2022-03-26T08:46:29.990Z"
   },
   {
    "duration": 5,
    "start_time": "2022-03-26T08:52:09.490Z"
   },
   {
    "duration": 5,
    "start_time": "2022-03-26T08:55:59.182Z"
   },
   {
    "duration": 5,
    "start_time": "2022-03-26T08:56:12.518Z"
   },
   {
    "duration": 5,
    "start_time": "2022-03-26T08:56:53.966Z"
   },
   {
    "duration": 10,
    "start_time": "2022-03-26T09:01:08.267Z"
   },
   {
    "duration": 4,
    "start_time": "2022-03-26T09:01:20.436Z"
   },
   {
    "duration": 14,
    "start_time": "2022-03-26T09:01:46.871Z"
   },
   {
    "duration": 10,
    "start_time": "2022-03-26T09:01:59.824Z"
   },
   {
    "duration": 4,
    "start_time": "2022-03-26T09:02:19.112Z"
   },
   {
    "duration": 4,
    "start_time": "2022-03-26T09:02:43.329Z"
   },
   {
    "duration": 4,
    "start_time": "2022-03-26T09:03:08.395Z"
   },
   {
    "duration": 13,
    "start_time": "2022-03-26T09:08:49.296Z"
   },
   {
    "duration": 4,
    "start_time": "2022-03-26T09:09:31.647Z"
   },
   {
    "duration": 5,
    "start_time": "2022-03-26T09:15:11.167Z"
   },
   {
    "duration": 24,
    "start_time": "2022-03-26T09:17:36.875Z"
   },
   {
    "duration": 2178,
    "start_time": "2022-03-26T09:17:38.333Z"
   },
   {
    "duration": 2556,
    "start_time": "2022-03-26T09:17:56.152Z"
   },
   {
    "duration": 58955,
    "start_time": "2022-03-26T09:18:09.927Z"
   },
   {
    "duration": 5,
    "start_time": "2022-03-26T09:19:37.735Z"
   },
   {
    "duration": 23,
    "start_time": "2022-03-26T09:22:44.839Z"
   },
   {
    "duration": 2405,
    "start_time": "2022-03-26T09:22:45.817Z"
   },
   {
    "duration": 444,
    "start_time": "2022-03-26T09:22:52.221Z"
   },
   {
    "duration": 24,
    "start_time": "2022-03-26T09:25:58.643Z"
   },
   {
    "duration": 2477,
    "start_time": "2022-03-26T09:26:02.841Z"
   },
   {
    "duration": 33,
    "start_time": "2022-03-26T09:29:50.799Z"
   },
   {
    "duration": 2842,
    "start_time": "2022-03-26T09:29:54.193Z"
   },
   {
    "duration": 32,
    "start_time": "2022-03-26T09:33:03.292Z"
   },
   {
    "duration": 3184,
    "start_time": "2022-03-26T09:33:08.245Z"
   },
   {
    "duration": 4,
    "start_time": "2022-03-26T09:33:49.272Z"
   },
   {
    "duration": 4,
    "start_time": "2022-03-26T09:34:15.850Z"
   },
   {
    "duration": 6,
    "start_time": "2022-03-26T09:34:15.857Z"
   },
   {
    "duration": 95,
    "start_time": "2022-03-26T09:34:15.865Z"
   },
   {
    "duration": 3,
    "start_time": "2022-03-26T09:34:15.962Z"
   },
   {
    "duration": 5,
    "start_time": "2022-03-26T09:34:15.967Z"
   },
   {
    "duration": 8,
    "start_time": "2022-03-26T09:34:15.974Z"
   },
   {
    "duration": 696,
    "start_time": "2022-03-26T09:34:15.983Z"
   },
   {
    "duration": 8,
    "start_time": "2022-03-26T09:34:16.681Z"
   },
   {
    "duration": 25,
    "start_time": "2022-03-26T09:34:16.692Z"
   },
   {
    "duration": 675,
    "start_time": "2022-03-26T09:34:16.719Z"
   },
   {
    "duration": 15,
    "start_time": "2022-03-26T09:34:17.397Z"
   },
   {
    "duration": 1360,
    "start_time": "2022-03-26T09:34:17.419Z"
   },
   {
    "duration": 747,
    "start_time": "2022-03-26T09:34:18.781Z"
   },
   {
    "duration": 447,
    "start_time": "2022-03-26T09:34:19.530Z"
   },
   {
    "duration": 5,
    "start_time": "2022-03-26T09:34:19.979Z"
   },
   {
    "duration": 27,
    "start_time": "2022-03-26T09:34:19.986Z"
   },
   {
    "duration": 11,
    "start_time": "2022-03-26T09:34:20.016Z"
   },
   {
    "duration": 5,
    "start_time": "2022-03-26T09:34:20.030Z"
   },
   {
    "duration": 25,
    "start_time": "2022-03-26T09:34:20.037Z"
   },
   {
    "duration": 1045,
    "start_time": "2022-03-26T09:34:20.064Z"
   },
   {
    "duration": 5,
    "start_time": "2022-03-26T09:34:21.111Z"
   },
   {
    "duration": 2921,
    "start_time": "2022-03-26T09:34:21.117Z"
   },
   {
    "duration": 87,
    "start_time": "2022-03-26T09:34:24.040Z"
   },
   {
    "duration": 20,
    "start_time": "2022-03-26T09:34:24.208Z"
   },
   {
    "duration": 5,
    "start_time": "2022-03-26T09:34:24.229Z"
   },
   {
    "duration": 19688,
    "start_time": "2022-03-26T09:34:24.235Z"
   },
   {
    "duration": 294,
    "start_time": "2022-03-26T09:34:43.925Z"
   },
   {
    "duration": 4,
    "start_time": "2022-03-26T09:39:20.374Z"
   },
   {
    "duration": 9,
    "start_time": "2022-03-26T09:39:20.382Z"
   },
   {
    "duration": 77,
    "start_time": "2022-03-26T09:39:20.393Z"
   },
   {
    "duration": 4,
    "start_time": "2022-03-26T09:39:20.472Z"
   },
   {
    "duration": 37,
    "start_time": "2022-03-26T09:39:20.478Z"
   },
   {
    "duration": 14,
    "start_time": "2022-03-26T09:39:20.518Z"
   },
   {
    "duration": 817,
    "start_time": "2022-03-26T09:39:20.535Z"
   },
   {
    "duration": 8,
    "start_time": "2022-03-26T09:39:21.355Z"
   },
   {
    "duration": 15,
    "start_time": "2022-03-26T09:39:21.365Z"
   },
   {
    "duration": 757,
    "start_time": "2022-03-26T09:39:21.384Z"
   },
   {
    "duration": 4,
    "start_time": "2022-03-26T09:39:22.143Z"
   },
   {
    "duration": 1391,
    "start_time": "2022-03-26T09:39:22.149Z"
   },
   {
    "duration": 990,
    "start_time": "2022-03-26T09:39:23.542Z"
   },
   {
    "duration": 497,
    "start_time": "2022-03-26T09:39:24.535Z"
   },
   {
    "duration": 5,
    "start_time": "2022-03-26T09:39:25.035Z"
   },
   {
    "duration": 13,
    "start_time": "2022-03-26T09:39:25.042Z"
   },
   {
    "duration": 13,
    "start_time": "2022-03-26T09:39:25.057Z"
   },
   {
    "duration": 6,
    "start_time": "2022-03-26T09:39:25.072Z"
   },
   {
    "duration": 60,
    "start_time": "2022-03-26T09:39:25.080Z"
   },
   {
    "duration": 1500,
    "start_time": "2022-03-26T09:39:25.142Z"
   },
   {
    "duration": 68,
    "start_time": "2022-03-26T09:39:26.647Z"
   },
   {
    "duration": 2498,
    "start_time": "2022-03-26T09:39:26.717Z"
   },
   {
    "duration": 9,
    "start_time": "2022-03-26T09:39:29.217Z"
   },
   {
    "duration": 99,
    "start_time": "2022-03-26T09:39:29.232Z"
   },
   {
    "duration": 4,
    "start_time": "2022-03-26T09:39:29.335Z"
   },
   {
    "duration": 49189,
    "start_time": "2022-03-26T09:39:29.341Z"
   },
   {
    "duration": 290,
    "start_time": "2022-03-26T09:40:18.532Z"
   },
   {
    "duration": 4,
    "start_time": "2022-03-26T09:40:24.666Z"
   },
   {
    "duration": 5,
    "start_time": "2022-03-26T09:40:24.671Z"
   },
   {
    "duration": 65,
    "start_time": "2022-03-26T09:40:24.678Z"
   },
   {
    "duration": 4,
    "start_time": "2022-03-26T09:40:24.744Z"
   },
   {
    "duration": 6,
    "start_time": "2022-03-26T09:40:24.749Z"
   },
   {
    "duration": 7,
    "start_time": "2022-03-26T09:40:24.758Z"
   },
   {
    "duration": 687,
    "start_time": "2022-03-26T09:40:24.767Z"
   },
   {
    "duration": 8,
    "start_time": "2022-03-26T09:40:25.456Z"
   },
   {
    "duration": 12,
    "start_time": "2022-03-26T09:40:25.465Z"
   },
   {
    "duration": 669,
    "start_time": "2022-03-26T09:40:25.478Z"
   },
   {
    "duration": 4,
    "start_time": "2022-03-26T09:40:26.149Z"
   },
   {
    "duration": 1331,
    "start_time": "2022-03-26T09:40:26.156Z"
   },
   {
    "duration": 714,
    "start_time": "2022-03-26T09:40:27.489Z"
   },
   {
    "duration": 366,
    "start_time": "2022-03-26T09:40:28.208Z"
   },
   {
    "duration": 4,
    "start_time": "2022-03-26T09:40:28.576Z"
   },
   {
    "duration": 7,
    "start_time": "2022-03-26T09:40:28.582Z"
   },
   {
    "duration": 23,
    "start_time": "2022-03-26T09:40:28.590Z"
   },
   {
    "duration": 9,
    "start_time": "2022-03-26T09:40:28.615Z"
   },
   {
    "duration": 22,
    "start_time": "2022-03-26T09:40:28.627Z"
   },
   {
    "duration": 1062,
    "start_time": "2022-03-26T09:40:28.651Z"
   },
   {
    "duration": 6,
    "start_time": "2022-03-26T09:40:29.716Z"
   },
   {
    "duration": 2888,
    "start_time": "2022-03-26T09:40:29.725Z"
   },
   {
    "duration": 4,
    "start_time": "2022-03-26T09:40:32.616Z"
   },
   {
    "duration": 103,
    "start_time": "2022-03-26T09:40:32.622Z"
   },
   {
    "duration": 3,
    "start_time": "2022-03-26T09:40:32.727Z"
   },
   {
    "duration": 21781,
    "start_time": "2022-03-26T09:40:32.732Z"
   },
   {
    "duration": 293,
    "start_time": "2022-03-26T09:40:54.515Z"
   },
   {
    "duration": 4,
    "start_time": "2022-03-26T09:41:41.230Z"
   },
   {
    "duration": 7,
    "start_time": "2022-03-26T09:41:41.237Z"
   },
   {
    "duration": 75,
    "start_time": "2022-03-26T09:41:41.245Z"
   },
   {
    "duration": 4,
    "start_time": "2022-03-26T09:41:41.323Z"
   },
   {
    "duration": 4,
    "start_time": "2022-03-26T09:41:41.329Z"
   },
   {
    "duration": 7,
    "start_time": "2022-03-26T09:41:41.335Z"
   },
   {
    "duration": 736,
    "start_time": "2022-03-26T09:41:41.344Z"
   },
   {
    "duration": 8,
    "start_time": "2022-03-26T09:41:42.082Z"
   },
   {
    "duration": 28,
    "start_time": "2022-03-26T09:41:42.091Z"
   },
   {
    "duration": 540,
    "start_time": "2022-03-26T09:41:42.122Z"
   },
   {
    "duration": 4,
    "start_time": "2022-03-26T09:41:42.664Z"
   },
   {
    "duration": 1535,
    "start_time": "2022-03-26T09:41:42.670Z"
   },
   {
    "duration": 736,
    "start_time": "2022-03-26T09:41:44.207Z"
   },
   {
    "duration": 395,
    "start_time": "2022-03-26T09:41:44.945Z"
   },
   {
    "duration": 5,
    "start_time": "2022-03-26T09:41:45.342Z"
   },
   {
    "duration": 7,
    "start_time": "2022-03-26T09:41:45.349Z"
   },
   {
    "duration": 11,
    "start_time": "2022-03-26T09:41:45.358Z"
   },
   {
    "duration": 4,
    "start_time": "2022-03-26T09:41:45.371Z"
   },
   {
    "duration": 55,
    "start_time": "2022-03-26T09:41:45.377Z"
   },
   {
    "duration": 1194,
    "start_time": "2022-03-26T09:41:45.434Z"
   },
   {
    "duration": 11,
    "start_time": "2022-03-26T09:41:46.635Z"
   },
   {
    "duration": 2370,
    "start_time": "2022-03-26T09:41:46.649Z"
   },
   {
    "duration": 8,
    "start_time": "2022-03-26T09:41:49.026Z"
   },
   {
    "duration": 114,
    "start_time": "2022-03-26T09:41:49.110Z"
   },
   {
    "duration": 4,
    "start_time": "2022-03-26T09:41:49.226Z"
   },
   {
    "duration": 12636,
    "start_time": "2022-03-26T09:41:49.233Z"
   },
   {
    "duration": 281,
    "start_time": "2022-03-26T09:42:01.871Z"
   },
   {
    "duration": 4,
    "start_time": "2022-03-26T09:47:37.401Z"
   },
   {
    "duration": 6,
    "start_time": "2022-03-26T09:47:37.407Z"
   },
   {
    "duration": 60,
    "start_time": "2022-03-26T09:47:37.415Z"
   },
   {
    "duration": 3,
    "start_time": "2022-03-26T09:47:37.478Z"
   },
   {
    "duration": 34,
    "start_time": "2022-03-26T09:47:37.483Z"
   },
   {
    "duration": 9,
    "start_time": "2022-03-26T09:47:37.519Z"
   },
   {
    "duration": 725,
    "start_time": "2022-03-26T09:47:37.530Z"
   },
   {
    "duration": 7,
    "start_time": "2022-03-26T09:47:38.257Z"
   },
   {
    "duration": 9,
    "start_time": "2022-03-26T09:47:38.266Z"
   },
   {
    "duration": 559,
    "start_time": "2022-03-26T09:47:38.279Z"
   },
   {
    "duration": 4,
    "start_time": "2022-03-26T09:47:38.840Z"
   },
   {
    "duration": 1433,
    "start_time": "2022-03-26T09:47:38.845Z"
   },
   {
    "duration": 713,
    "start_time": "2022-03-26T09:47:40.279Z"
   },
   {
    "duration": 387,
    "start_time": "2022-03-26T09:47:40.994Z"
   },
   {
    "duration": 4,
    "start_time": "2022-03-26T09:47:41.383Z"
   },
   {
    "duration": 24,
    "start_time": "2022-03-26T09:47:41.389Z"
   },
   {
    "duration": 9,
    "start_time": "2022-03-26T09:47:41.415Z"
   },
   {
    "duration": 5,
    "start_time": "2022-03-26T09:47:41.425Z"
   },
   {
    "duration": 22,
    "start_time": "2022-03-26T09:47:41.432Z"
   },
   {
    "duration": 114,
    "start_time": "2022-03-26T09:47:41.456Z"
   },
   {
    "duration": 4,
    "start_time": "2022-03-26T09:47:41.571Z"
   },
   {
    "duration": 124,
    "start_time": "2022-03-26T09:47:41.576Z"
   },
   {
    "duration": 4,
    "start_time": "2022-03-26T09:47:41.701Z"
   },
   {
    "duration": 19,
    "start_time": "2022-03-26T09:47:41.707Z"
   },
   {
    "duration": 3,
    "start_time": "2022-03-26T09:47:41.728Z"
   },
   {
    "duration": 10034,
    "start_time": "2022-03-26T09:47:41.733Z"
   },
   {
    "duration": 284,
    "start_time": "2022-03-26T09:47:51.769Z"
   },
   {
    "duration": 30,
    "start_time": "2022-03-26T09:48:49.310Z"
   },
   {
    "duration": 1166,
    "start_time": "2022-03-26T09:48:50.052Z"
   },
   {
    "duration": 4,
    "start_time": "2022-03-26T09:48:53.522Z"
   },
   {
    "duration": 3042,
    "start_time": "2022-03-26T09:48:55.176Z"
   },
   {
    "duration": 4,
    "start_time": "2022-03-26T09:56:14.398Z"
   },
   {
    "duration": 6,
    "start_time": "2022-03-26T09:56:14.407Z"
   },
   {
    "duration": 55,
    "start_time": "2022-03-26T09:56:14.415Z"
   },
   {
    "duration": 4,
    "start_time": "2022-03-26T09:56:14.472Z"
   },
   {
    "duration": 4,
    "start_time": "2022-03-26T09:56:14.478Z"
   },
   {
    "duration": 8,
    "start_time": "2022-03-26T09:56:14.509Z"
   },
   {
    "duration": 725,
    "start_time": "2022-03-26T09:56:14.519Z"
   },
   {
    "duration": 7,
    "start_time": "2022-03-26T09:56:15.246Z"
   },
   {
    "duration": 10,
    "start_time": "2022-03-26T09:56:15.255Z"
   },
   {
    "duration": 533,
    "start_time": "2022-03-26T09:56:15.266Z"
   },
   {
    "duration": 8,
    "start_time": "2022-03-26T09:56:15.802Z"
   },
   {
    "duration": 1330,
    "start_time": "2022-03-26T09:56:15.813Z"
   },
   {
    "duration": 730,
    "start_time": "2022-03-26T09:56:17.145Z"
   },
   {
    "duration": 365,
    "start_time": "2022-03-26T09:56:17.877Z"
   },
   {
    "duration": 5,
    "start_time": "2022-03-26T09:56:18.244Z"
   },
   {
    "duration": 8,
    "start_time": "2022-03-26T09:56:18.250Z"
   },
   {
    "duration": 8,
    "start_time": "2022-03-26T09:56:18.260Z"
   },
   {
    "duration": 5,
    "start_time": "2022-03-26T09:56:18.270Z"
   },
   {
    "duration": 217,
    "start_time": "2022-03-26T09:56:18.277Z"
   },
   {
    "duration": 1416,
    "start_time": "2022-03-26T09:56:18.496Z"
   },
   {
    "duration": 5,
    "start_time": "2022-03-26T09:56:19.914Z"
   },
   {
    "duration": 1991,
    "start_time": "2022-03-26T09:56:19.921Z"
   },
   {
    "duration": 95,
    "start_time": "2022-03-26T09:56:21.914Z"
   },
   {
    "duration": 100,
    "start_time": "2022-03-26T09:56:22.012Z"
   },
   {
    "duration": 10,
    "start_time": "2022-03-26T09:56:22.114Z"
   },
   {
    "duration": 5219,
    "start_time": "2022-03-26T09:56:22.126Z"
   },
   {
    "duration": 261,
    "start_time": "2022-03-26T09:56:27.347Z"
   },
   {
    "duration": 5,
    "start_time": "2022-03-26T09:59:50.700Z"
   },
   {
    "duration": 8,
    "start_time": "2022-03-26T09:59:50.707Z"
   },
   {
    "duration": 63,
    "start_time": "2022-03-26T09:59:50.717Z"
   },
   {
    "duration": 4,
    "start_time": "2022-03-26T09:59:50.783Z"
   },
   {
    "duration": 4,
    "start_time": "2022-03-26T09:59:50.810Z"
   },
   {
    "duration": 8,
    "start_time": "2022-03-26T09:59:50.816Z"
   },
   {
    "duration": 705,
    "start_time": "2022-03-26T09:59:50.826Z"
   },
   {
    "duration": 7,
    "start_time": "2022-03-26T09:59:51.533Z"
   },
   {
    "duration": 9,
    "start_time": "2022-03-26T09:59:51.543Z"
   },
   {
    "duration": 541,
    "start_time": "2022-03-26T09:59:51.554Z"
   },
   {
    "duration": 13,
    "start_time": "2022-03-26T09:59:52.097Z"
   },
   {
    "duration": 1299,
    "start_time": "2022-03-26T09:59:52.111Z"
   },
   {
    "duration": 699,
    "start_time": "2022-03-26T09:59:53.412Z"
   },
   {
    "duration": 418,
    "start_time": "2022-03-26T09:59:54.113Z"
   },
   {
    "duration": 4,
    "start_time": "2022-03-26T09:59:54.533Z"
   },
   {
    "duration": 8,
    "start_time": "2022-03-26T09:59:54.539Z"
   },
   {
    "duration": 7,
    "start_time": "2022-03-26T09:59:54.549Z"
   },
   {
    "duration": 6,
    "start_time": "2022-03-26T09:59:54.558Z"
   },
   {
    "duration": 49,
    "start_time": "2022-03-26T09:59:54.566Z"
   },
   {
    "duration": 206,
    "start_time": "2022-03-26T09:59:54.617Z"
   },
   {
    "duration": 3198,
    "start_time": "2022-03-26T09:59:54.825Z"
   },
   {
    "duration": 708,
    "start_time": "2022-03-26T09:59:58.110Z"
   },
   {
    "duration": 109900,
    "start_time": "2022-03-26T09:59:58.821Z"
   },
   {
    "duration": 15,
    "start_time": "2022-03-26T10:01:48.724Z"
   },
   {
    "duration": 9,
    "start_time": "2022-03-26T10:01:48.740Z"
   },
   {
    "duration": 4996,
    "start_time": "2022-03-26T10:01:48.750Z"
   },
   {
    "duration": 252,
    "start_time": "2022-03-26T10:01:53.748Z"
   },
   {
    "duration": 4,
    "start_time": "2022-03-26T10:02:34.746Z"
   },
   {
    "duration": 4,
    "start_time": "2022-03-26T10:02:54.222Z"
   },
   {
    "duration": 187,
    "start_time": "2022-03-26T10:03:19.348Z"
   },
   {
    "duration": 479,
    "start_time": "2022-03-26T10:03:20.040Z"
   },
   {
    "duration": 5020,
    "start_time": "2022-03-26T10:03:20.690Z"
   },
   {
    "duration": 706,
    "start_time": "2022-03-26T10:03:25.717Z"
   },
   {
    "duration": 25,
    "start_time": "2022-03-26T10:04:50.958Z"
   },
   {
    "duration": 396,
    "start_time": "2022-03-26T10:04:51.813Z"
   },
   {
    "duration": 5898,
    "start_time": "2022-03-26T10:04:52.217Z"
   },
   {
    "duration": 622,
    "start_time": "2022-03-26T10:04:58.208Z"
   },
   {
    "duration": 5,
    "start_time": "2022-03-26T10:08:04.780Z"
   },
   {
    "duration": 8,
    "start_time": "2022-03-26T10:08:04.787Z"
   },
   {
    "duration": 72,
    "start_time": "2022-03-26T10:08:04.796Z"
   },
   {
    "duration": 13,
    "start_time": "2022-03-26T10:08:04.871Z"
   },
   {
    "duration": 4,
    "start_time": "2022-03-26T10:08:04.886Z"
   },
   {
    "duration": 13,
    "start_time": "2022-03-26T10:08:04.909Z"
   },
   {
    "duration": 736,
    "start_time": "2022-03-26T10:08:04.926Z"
   },
   {
    "duration": 7,
    "start_time": "2022-03-26T10:08:05.664Z"
   },
   {
    "duration": 9,
    "start_time": "2022-03-26T10:08:05.673Z"
   },
   {
    "duration": 569,
    "start_time": "2022-03-26T10:08:05.683Z"
   },
   {
    "duration": 3,
    "start_time": "2022-03-26T10:08:06.254Z"
   },
   {
    "duration": 1346,
    "start_time": "2022-03-26T10:08:06.259Z"
   },
   {
    "duration": 723,
    "start_time": "2022-03-26T10:08:07.606Z"
   },
   {
    "duration": 416,
    "start_time": "2022-03-26T10:08:08.330Z"
   },
   {
    "duration": 5,
    "start_time": "2022-03-26T10:08:08.748Z"
   },
   {
    "duration": 7,
    "start_time": "2022-03-26T10:08:08.755Z"
   },
   {
    "duration": 7,
    "start_time": "2022-03-26T10:08:08.764Z"
   },
   {
    "duration": 5,
    "start_time": "2022-03-26T10:08:08.773Z"
   },
   {
    "duration": 56,
    "start_time": "2022-03-26T10:08:08.780Z"
   },
   {
    "duration": 1278,
    "start_time": "2022-03-26T10:08:08.838Z"
   },
   {
    "duration": 29305,
    "start_time": "2022-03-26T10:08:10.125Z"
   },
   {
    "duration": 2022,
    "start_time": "2022-03-26T10:08:39.514Z"
   },
   {
    "duration": 935610,
    "start_time": "2022-03-26T10:08:41.609Z"
   },
   {
    "duration": 15,
    "start_time": "2022-03-26T10:24:17.222Z"
   },
   {
    "duration": 1685,
    "start_time": "2022-03-26T10:24:17.239Z"
   },
   {
    "duration": 275,
    "start_time": "2022-03-26T10:24:18.926Z"
   },
   {
    "duration": 5,
    "start_time": "2022-03-26T10:31:00.318Z"
   },
   {
    "duration": 11,
    "start_time": "2022-03-26T10:31:00.326Z"
   },
   {
    "duration": 86,
    "start_time": "2022-03-26T10:31:00.339Z"
   },
   {
    "duration": 4,
    "start_time": "2022-03-26T10:31:00.428Z"
   },
   {
    "duration": 7,
    "start_time": "2022-03-26T10:31:00.434Z"
   },
   {
    "duration": 177,
    "start_time": "2022-03-26T10:31:00.442Z"
   },
   {
    "duration": 732,
    "start_time": "2022-03-26T10:31:00.622Z"
   },
   {
    "duration": 7,
    "start_time": "2022-03-26T10:31:01.357Z"
   },
   {
    "duration": 12,
    "start_time": "2022-03-26T10:31:01.366Z"
   },
   {
    "duration": 561,
    "start_time": "2022-03-26T10:31:01.381Z"
   },
   {
    "duration": 5,
    "start_time": "2022-03-26T10:31:01.944Z"
   },
   {
    "duration": 1309,
    "start_time": "2022-03-26T10:31:01.951Z"
   },
   {
    "duration": 763,
    "start_time": "2022-03-26T10:31:03.262Z"
   },
   {
    "duration": 427,
    "start_time": "2022-03-26T10:31:04.027Z"
   },
   {
    "duration": 4,
    "start_time": "2022-03-26T10:31:04.457Z"
   },
   {
    "duration": 7,
    "start_time": "2022-03-26T10:31:04.463Z"
   },
   {
    "duration": 17,
    "start_time": "2022-03-26T10:31:04.472Z"
   },
   {
    "duration": 19,
    "start_time": "2022-03-26T10:31:04.492Z"
   },
   {
    "duration": 24,
    "start_time": "2022-03-26T10:31:04.513Z"
   },
   {
    "duration": 3069,
    "start_time": "2022-03-26T10:31:04.540Z"
   },
   {
    "duration": 57400,
    "start_time": "2022-03-26T10:31:07.612Z"
   },
   {
    "duration": 5296,
    "start_time": "2022-03-26T10:32:05.015Z"
   },
   {
    "duration": 1497,
    "start_time": "2022-03-26T11:18:36.095Z"
   },
   {
    "duration": 5,
    "start_time": "2022-03-26T11:18:37.594Z"
   },
   {
    "duration": 219,
    "start_time": "2022-03-26T11:18:37.600Z"
   },
   {
    "duration": 3,
    "start_time": "2022-03-26T11:18:37.822Z"
   },
   {
    "duration": 5,
    "start_time": "2022-03-26T11:18:37.827Z"
   },
   {
    "duration": 9,
    "start_time": "2022-03-26T11:18:37.833Z"
   },
   {
    "duration": 567,
    "start_time": "2022-03-26T11:18:37.844Z"
   },
   {
    "duration": 8,
    "start_time": "2022-03-26T11:18:38.412Z"
   },
   {
    "duration": 16,
    "start_time": "2022-03-26T11:18:38.421Z"
   },
   {
    "duration": 541,
    "start_time": "2022-03-26T11:18:38.440Z"
   },
   {
    "duration": 4,
    "start_time": "2022-03-26T11:18:38.983Z"
   },
   {
    "duration": 1069,
    "start_time": "2022-03-26T11:18:38.988Z"
   },
   {
    "duration": 567,
    "start_time": "2022-03-26T11:18:40.059Z"
   },
   {
    "duration": 303,
    "start_time": "2022-03-26T11:18:40.632Z"
   },
   {
    "duration": 5,
    "start_time": "2022-03-26T11:18:40.936Z"
   },
   {
    "duration": 10,
    "start_time": "2022-03-26T11:18:40.943Z"
   },
   {
    "duration": 7,
    "start_time": "2022-03-26T11:18:40.955Z"
   },
   {
    "duration": 6,
    "start_time": "2022-03-26T11:18:40.964Z"
   },
   {
    "duration": 24,
    "start_time": "2022-03-26T11:18:40.971Z"
   },
   {
    "duration": 2739,
    "start_time": "2022-03-26T11:18:40.997Z"
   },
   {
    "duration": 29698,
    "start_time": "2022-03-26T11:18:43.738Z"
   },
   {
    "duration": 4996,
    "start_time": "2022-03-26T11:19:13.438Z"
   },
   {
    "duration": 92112,
    "start_time": "2022-03-26T11:19:18.437Z"
   },
   {
    "duration": 12,
    "start_time": "2022-03-26T11:20:50.632Z"
   },
   {
    "duration": 1025,
    "start_time": "2022-03-26T11:20:50.646Z"
   },
   {
    "duration": 239,
    "start_time": "2022-03-26T11:20:51.673Z"
   },
   {
    "duration": 114,
    "start_time": "2022-03-26T11:23:20.350Z"
   },
   {
    "duration": 2836,
    "start_time": "2022-03-26T11:23:21.098Z"
   },
   {
    "duration": 30704,
    "start_time": "2022-03-26T11:23:23.938Z"
   },
   {
    "duration": 5305,
    "start_time": "2022-03-26T11:23:54.734Z"
   },
   {
    "duration": 93798,
    "start_time": "2022-03-26T11:24:00.042Z"
   },
   {
    "duration": 14,
    "start_time": "2022-03-26T11:25:33.842Z"
   },
   {
    "duration": 1075,
    "start_time": "2022-03-26T11:25:33.858Z"
   },
   {
    "duration": 231,
    "start_time": "2022-03-26T11:25:34.934Z"
   },
   {
    "duration": 21,
    "start_time": "2022-03-26T11:26:13.077Z"
   },
   {
    "duration": 741,
    "start_time": "2022-03-26T11:26:14.495Z"
   },
   {
    "duration": 7498,
    "start_time": "2022-03-26T11:26:15.238Z"
   },
   {
    "duration": 1394,
    "start_time": "2022-03-26T11:26:22.739Z"
   },
   {
    "duration": 144409,
    "start_time": "2022-03-26T11:26:24.135Z"
   },
   {
    "duration": 15,
    "start_time": "2022-03-26T11:28:48.546Z"
   },
   {
    "duration": 3903,
    "start_time": "2022-03-26T11:28:48.562Z"
   },
   {
    "duration": 231,
    "start_time": "2022-03-26T11:28:52.467Z"
   },
   {
    "duration": 4,
    "start_time": "2022-03-26T11:30:47.851Z"
   },
   {
    "duration": 23,
    "start_time": "2022-03-26T11:30:48.779Z"
   },
   {
    "duration": 1962,
    "start_time": "2022-03-26T11:30:49.677Z"
   },
   {
    "duration": 19008,
    "start_time": "2022-03-26T11:30:51.732Z"
   },
   {
    "duration": 3194,
    "start_time": "2022-03-26T11:31:10.742Z"
   },
   {
    "duration": 52699,
    "start_time": "2022-03-26T11:31:13.939Z"
   },
   {
    "duration": 12,
    "start_time": "2022-03-26T11:32:06.640Z"
   },
   {
    "duration": 1601,
    "start_time": "2022-03-26T11:32:06.654Z"
   },
   {
    "duration": 232,
    "start_time": "2022-03-26T11:32:08.257Z"
   },
   {
    "duration": 1533,
    "start_time": "2022-03-26T11:36:53.815Z"
   },
   {
    "duration": 244,
    "start_time": "2022-03-26T11:36:55.350Z"
   },
   {
    "duration": 23,
    "start_time": "2022-03-26T11:39:40.143Z"
   },
   {
    "duration": 653,
    "start_time": "2022-03-26T11:39:40.290Z"
   },
   {
    "duration": 9492,
    "start_time": "2022-03-26T11:39:40.946Z"
   },
   {
    "duration": 1803,
    "start_time": "2022-03-26T11:39:50.532Z"
   },
   {
    "duration": 32699,
    "start_time": "2022-03-26T11:39:52.340Z"
   },
   {
    "duration": 13,
    "start_time": "2022-03-26T11:40:25.042Z"
   },
   {
    "duration": 6893,
    "start_time": "2022-03-26T11:40:52.066Z"
   },
   {
    "duration": 246,
    "start_time": "2022-03-26T11:40:58.961Z"
   },
   {
    "duration": 22,
    "start_time": "2022-03-26T11:42:15.625Z"
   },
   {
    "duration": 1644,
    "start_time": "2022-03-26T11:42:15.690Z"
   },
   {
    "duration": 20397,
    "start_time": "2022-03-26T11:42:17.337Z"
   },
   {
    "duration": 3302,
    "start_time": "2022-03-26T11:42:37.736Z"
   },
   {
    "duration": 56397,
    "start_time": "2022-03-26T11:42:41.041Z"
   },
   {
    "duration": 13,
    "start_time": "2022-03-26T11:43:37.439Z"
   },
   {
    "duration": 3597,
    "start_time": "2022-03-26T11:43:37.454Z"
   },
   {
    "duration": 317,
    "start_time": "2022-03-26T11:43:41.053Z"
   },
   {
    "duration": 22,
    "start_time": "2022-03-26T12:01:26.866Z"
   },
   {
    "duration": 1727,
    "start_time": "2022-03-26T12:01:31.908Z"
   },
   {
    "duration": 3,
    "start_time": "2022-03-26T12:06:14.718Z"
   },
   {
    "duration": 7,
    "start_time": "2022-03-26T12:06:14.723Z"
   },
   {
    "duration": 62,
    "start_time": "2022-03-26T12:06:14.731Z"
   },
   {
    "duration": 3,
    "start_time": "2022-03-26T12:06:14.795Z"
   },
   {
    "duration": 8,
    "start_time": "2022-03-26T12:06:14.799Z"
   },
   {
    "duration": 13,
    "start_time": "2022-03-26T12:06:14.808Z"
   },
   {
    "duration": 572,
    "start_time": "2022-03-26T12:06:14.822Z"
   },
   {
    "duration": 6,
    "start_time": "2022-03-26T12:06:15.395Z"
   },
   {
    "duration": 11,
    "start_time": "2022-03-26T12:06:15.403Z"
   },
   {
    "duration": 444,
    "start_time": "2022-03-26T12:06:15.417Z"
   },
   {
    "duration": 3,
    "start_time": "2022-03-26T12:06:15.863Z"
   },
   {
    "duration": 1050,
    "start_time": "2022-03-26T12:06:15.868Z"
   },
   {
    "duration": 590,
    "start_time": "2022-03-26T12:06:16.919Z"
   },
   {
    "duration": 410,
    "start_time": "2022-03-26T12:06:17.511Z"
   },
   {
    "duration": 12,
    "start_time": "2022-03-26T12:06:17.923Z"
   },
   {
    "duration": 8,
    "start_time": "2022-03-26T12:06:17.936Z"
   },
   {
    "duration": 12,
    "start_time": "2022-03-26T12:06:17.946Z"
   },
   {
    "duration": 9,
    "start_time": "2022-03-26T12:06:17.960Z"
   },
   {
    "duration": 23,
    "start_time": "2022-03-26T12:06:17.971Z"
   },
   {
    "duration": 1638,
    "start_time": "2022-03-26T12:06:17.996Z"
   },
   {
    "duration": 20000,
    "start_time": "2022-03-26T12:06:19.636Z"
   },
   {
    "duration": 3297,
    "start_time": "2022-03-26T12:06:39.639Z"
   },
   {
    "duration": 54696,
    "start_time": "2022-03-26T12:06:42.938Z"
   },
   {
    "duration": 12,
    "start_time": "2022-03-26T12:07:37.636Z"
   },
   {
    "duration": 3651,
    "start_time": "2022-03-26T12:07:37.650Z"
   },
   {
    "duration": 224,
    "start_time": "2022-03-26T12:07:41.302Z"
   },
   {
    "duration": 4,
    "start_time": "2022-03-26T12:08:09.011Z"
   },
   {
    "duration": 24,
    "start_time": "2022-03-26T12:08:09.219Z"
   },
   {
    "duration": 1327,
    "start_time": "2022-03-26T12:08:09.406Z"
   },
   {
    "duration": 17297,
    "start_time": "2022-03-26T12:08:10.736Z"
   },
   {
    "duration": 3597,
    "start_time": "2022-03-26T12:08:28.039Z"
   },
   {
    "duration": 52309,
    "start_time": "2022-03-26T12:08:31.639Z"
   },
   {
    "duration": 94,
    "start_time": "2022-03-26T12:09:23.950Z"
   },
   {
    "duration": 3528,
    "start_time": "2022-03-26T12:09:24.046Z"
   },
   {
    "duration": 228,
    "start_time": "2022-03-26T12:09:27.575Z"
   }
  ],
  "kernelspec": {
   "display_name": "Python 3 (ipykernel)",
   "language": "python",
   "name": "python3"
  },
  "language_info": {
   "codemirror_mode": {
    "name": "ipython",
    "version": 3
   },
   "file_extension": ".py",
   "mimetype": "text/x-python",
   "name": "python",
   "nbconvert_exporter": "python",
   "pygments_lexer": "ipython3",
   "version": "3.9.7"
  },
  "toc": {
   "base_numbering": 1,
   "nav_menu": {},
   "number_sections": true,
   "sideBar": true,
   "skip_h1_title": true,
   "title_cell": "Содержание",
   "title_sidebar": "Contents",
   "toc_cell": true,
   "toc_position": {
    "height": "calc(100% - 180px)",
    "left": "10px",
    "top": "150px",
    "width": "165px"
   },
   "toc_section_display": true,
   "toc_window_display": false
  }
 },
 "nbformat": 4,
 "nbformat_minor": 2
}
