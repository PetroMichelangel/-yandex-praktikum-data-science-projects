{
 "cells": [
  {
   "cell_type": "markdown",
   "id": "2a127618",
   "metadata": {},
   "source": [
    "## Проект: Прогнозирование оттока клиентов"
   ]
  },
  {
   "cell_type": "markdown",
   "id": "42f41e85",
   "metadata": {},
   "source": [
    "### Описание проекта\n",
    "Необходимо производить прогноз отток клиентов. Если выяснится, что пользователь планирует уйти, ему будут предложены промокоды и специальные условия. \n",
    "\n",
    "Основная метрика для проверки качества модели: roc_auc\n",
    "Дополнительная метрика: accuracy"
   ]
  },
  {
   "cell_type": "markdown",
   "id": "52a625f9",
   "metadata": {},
   "source": [
    "### Описание услуг\n",
    "\n",
    "Оператор предоставляет два основных типа услуг: \n",
    "\n",
    "1. Стационарную телефонную связь. Возможно подключение телефонного аппарата к нескольким линиям одновременно.\n",
    "2. Интернет. Подключение может быть двух типов: через телефонную линию (DSL*,* от англ. *digital subscriber line*, «цифровая абонентская линия») или оптоволоконный кабель (*Fiber optic*).  \n",
    "\n",
    "Также доступны такие услуги:\n",
    "\n",
    "- Интернет-безопасность: антивирус (*DeviceProtection*) и блокировка небезопасных сайтов (*OnlineSecurity*);\n",
    "- Выделенная линия технической поддержки (*TechSupport*);\n",
    "- Облачное хранилище файлов для резервного копирования данных (*OnlineBackup*);\n",
    "- Стриминговое телевидение (*StreamingTV*) и каталог фильмов (*StreamingMovies*).\n",
    "\n",
    "За услуги клиенты могут платить каждый месяц или заключить договор на 1–2 года. Доступны различные способы расчёта и возможность получения электронного чека."
   ]
  },
  {
   "cell_type": "markdown",
   "id": "a39ad66f",
   "metadata": {},
   "source": [
    "### Описание данных\n",
    "\n",
    "Данные состоят из файлов, полученных из разных источников:\n",
    "\n",
    "- `contract.csv` — информация о договоре;\n",
    "- `personal.csv` — персональные данные клиента;\n",
    "- `internet.csv` — информация об интернет-услугах;\n",
    "- `phone.csv` — информация об услугах телефонии.\n",
    "\n",
    "Во всех файлах столбец `customerID` содержит код клиента.\n",
    "\n",
    "Информация о договорах актуальна на 1 февраля 2020."
   ]
  },
  {
   "cell_type": "markdown",
   "id": "030b1217",
   "metadata": {},
   "source": [
    "### План выполнения работы\n",
    "\n",
    "**1. Исследовательский анализ данных**\n",
    "\n",
    "- Данные файла: Contract\n",
    "- Данные файла: Personal\n",
    "- Данные файла: Internet\n",
    "- Данные файла: Phone\n",
    "- Объединение данных\n",
    "\n",
    "**2. Предобработка данных.**\n",
    "\n",
    "- Заполнение пропусков\n",
    "- Сплит данных\n",
    "\n",
    "**3. Обучение и валидация моделей**\n",
    "\n",
    "- Dummy-модель\n",
    "- Logistic Regression\n",
    "- RandomForest\n",
    "- LightGBM\n",
    "- CatBoost\n",
    "\n",
    "**4. Тестирование лучшеймодели**\n",
    "\n",
    "- Оценка точности итоговой модели\n",
    "- Оценка важности признаков итоговой модели\n",
    "\n",
    "**5. Вывод**\n",
    "\n",
    "- Общий вывод по работе"
   ]
  },
  {
   "cell_type": "markdown",
   "id": "ed61a763",
   "metadata": {},
   "source": [
    "**После уточнения у тимлида стала известна следующая информация:**\n",
    "\n",
    "**Описание полей данных:**\n",
    "\n",
    "- BeginDate – дата начала пользования услугами,\n",
    "- EndDate – дата окончания пользования услугами,\n",
    "- Type – тип оплаты: ежемесячный, годовой и тд,\n",
    "- PaperlessBilling – безналичный расчет,\n",
    "- PaymentMethod – способ оплаты,\n",
    "- MonthlyCharges – ежемесячные траты на услуги,\n",
    "- TotalCharges – всего потрачено денег на услуги\n",
    "- Dependents – наличие иждивенцев\n",
    "- Senior Citizen – наличие пенсионного статуса по возрасту\n",
    "- Partner – наличие супруга(и)\n",
    "- MultipleLines – наличие возможности ведения параллельных линий во время звонка"
   ]
  },
  {
   "cell_type": "markdown",
   "id": "1b6cb162",
   "metadata": {},
   "source": [
    "## 1. Исследовательский анализ данных"
   ]
  },
  {
   "cell_type": "code",
   "execution_count": 738,
   "id": "13af3d64",
   "metadata": {},
   "outputs": [],
   "source": [
    "#подключаем библиотеки\n",
    "import pandas as pd\n",
    "import numpy as np\n",
    "import seaborn as sns\n",
    "import matplotlib.pyplot as plt\n",
    "\n",
    "from sklearn.model_selection import train_test_split, cross_val_score, GridSearchCV, KFold\n",
    "from sklearn.preprocessing import StandardScaler, OneHotEncoder\n",
    "from sklearn.compose import ColumnTransformer\n",
    "from sklearn.pipeline import Pipeline\n",
    "\n",
    "from sklearn.linear_model import LogisticRegression\n",
    "from sklearn.ensemble import RandomForestClassifier\n",
    "from lightgbm import LGBMClassifier\n",
    "from catboost import CatBoostClassifier\n",
    "\n",
    "from sklearn.metrics import accuracy_score, roc_curve, roc_auc_score\n",
    "\n",
    "import tqdm\n",
    "import warnings \n",
    "warnings.filterwarnings('ignore')"
   ]
  },
  {
   "cell_type": "code",
   "execution_count": 739,
   "id": "cdb8b701",
   "metadata": {},
   "outputs": [],
   "source": [
    "#загружаем данные\n",
    "contract = pd.read_csv('../../final_provider/contract.csv', index_col=\"customerID\")\n",
    "internet = pd.read_csv('../../final_provider/internet.csv', index_col=\"customerID\")\n",
    "personal = pd.read_csv('../../final_provider/personal.csv', index_col=\"customerID\")\n",
    "phone = pd.read_csv('../../final_provider/phone.csv', index_col=\"customerID\")"
   ]
  },
  {
   "cell_type": "markdown",
   "id": "1fc44079",
   "metadata": {},
   "source": [
    "### 1.1 Данные файла: Contract"
   ]
  },
  {
   "cell_type": "code",
   "execution_count": 740,
   "id": "c7cb8424",
   "metadata": {},
   "outputs": [
    {
     "data": {
      "text/html": [
       "<div>\n",
       "<style scoped>\n",
       "    .dataframe tbody tr th:only-of-type {\n",
       "        vertical-align: middle;\n",
       "    }\n",
       "\n",
       "    .dataframe tbody tr th {\n",
       "        vertical-align: top;\n",
       "    }\n",
       "\n",
       "    .dataframe thead th {\n",
       "        text-align: right;\n",
       "    }\n",
       "</style>\n",
       "<table border=\"1\" class=\"dataframe\">\n",
       "  <thead>\n",
       "    <tr style=\"text-align: right;\">\n",
       "      <th></th>\n",
       "      <th>BeginDate</th>\n",
       "      <th>EndDate</th>\n",
       "      <th>Type</th>\n",
       "      <th>PaperlessBilling</th>\n",
       "      <th>PaymentMethod</th>\n",
       "      <th>MonthlyCharges</th>\n",
       "      <th>TotalCharges</th>\n",
       "    </tr>\n",
       "    <tr>\n",
       "      <th>customerID</th>\n",
       "      <th></th>\n",
       "      <th></th>\n",
       "      <th></th>\n",
       "      <th></th>\n",
       "      <th></th>\n",
       "      <th></th>\n",
       "      <th></th>\n",
       "    </tr>\n",
       "  </thead>\n",
       "  <tbody>\n",
       "    <tr>\n",
       "      <th>7590-VHVEG</th>\n",
       "      <td>2020-01-01</td>\n",
       "      <td>No</td>\n",
       "      <td>Month-to-month</td>\n",
       "      <td>Yes</td>\n",
       "      <td>Electronic check</td>\n",
       "      <td>29.85</td>\n",
       "      <td>29.85</td>\n",
       "    </tr>\n",
       "    <tr>\n",
       "      <th>5575-GNVDE</th>\n",
       "      <td>2017-04-01</td>\n",
       "      <td>No</td>\n",
       "      <td>One year</td>\n",
       "      <td>No</td>\n",
       "      <td>Mailed check</td>\n",
       "      <td>56.95</td>\n",
       "      <td>1889.5</td>\n",
       "    </tr>\n",
       "    <tr>\n",
       "      <th>3668-QPYBK</th>\n",
       "      <td>2019-10-01</td>\n",
       "      <td>2019-12-01 00:00:00</td>\n",
       "      <td>Month-to-month</td>\n",
       "      <td>Yes</td>\n",
       "      <td>Mailed check</td>\n",
       "      <td>53.85</td>\n",
       "      <td>108.15</td>\n",
       "    </tr>\n",
       "    <tr>\n",
       "      <th>7795-CFOCW</th>\n",
       "      <td>2016-05-01</td>\n",
       "      <td>No</td>\n",
       "      <td>One year</td>\n",
       "      <td>No</td>\n",
       "      <td>Bank transfer (automatic)</td>\n",
       "      <td>42.30</td>\n",
       "      <td>1840.75</td>\n",
       "    </tr>\n",
       "    <tr>\n",
       "      <th>9237-HQITU</th>\n",
       "      <td>2019-09-01</td>\n",
       "      <td>2019-11-01 00:00:00</td>\n",
       "      <td>Month-to-month</td>\n",
       "      <td>Yes</td>\n",
       "      <td>Electronic check</td>\n",
       "      <td>70.70</td>\n",
       "      <td>151.65</td>\n",
       "    </tr>\n",
       "  </tbody>\n",
       "</table>\n",
       "</div>"
      ],
      "text/plain": [
       "             BeginDate              EndDate            Type PaperlessBilling  \\\n",
       "customerID                                                                     \n",
       "7590-VHVEG  2020-01-01                   No  Month-to-month              Yes   \n",
       "5575-GNVDE  2017-04-01                   No        One year               No   \n",
       "3668-QPYBK  2019-10-01  2019-12-01 00:00:00  Month-to-month              Yes   \n",
       "7795-CFOCW  2016-05-01                   No        One year               No   \n",
       "9237-HQITU  2019-09-01  2019-11-01 00:00:00  Month-to-month              Yes   \n",
       "\n",
       "                        PaymentMethod  MonthlyCharges TotalCharges  \n",
       "customerID                                                          \n",
       "7590-VHVEG           Electronic check           29.85        29.85  \n",
       "5575-GNVDE               Mailed check           56.95       1889.5  \n",
       "3668-QPYBK               Mailed check           53.85       108.15  \n",
       "7795-CFOCW  Bank transfer (automatic)           42.30      1840.75  \n",
       "9237-HQITU           Electronic check           70.70       151.65  "
      ]
     },
     "execution_count": 740,
     "metadata": {},
     "output_type": "execute_result"
    }
   ],
   "source": [
    "contract.head(5)"
   ]
  },
  {
   "cell_type": "code",
   "execution_count": 741,
   "id": "664ad92c",
   "metadata": {},
   "outputs": [
    {
     "data": {
      "text/html": [
       "<div>\n",
       "<style scoped>\n",
       "    .dataframe tbody tr th:only-of-type {\n",
       "        vertical-align: middle;\n",
       "    }\n",
       "\n",
       "    .dataframe tbody tr th {\n",
       "        vertical-align: top;\n",
       "    }\n",
       "\n",
       "    .dataframe thead th {\n",
       "        text-align: right;\n",
       "    }\n",
       "</style>\n",
       "<table border=\"1\" class=\"dataframe\">\n",
       "  <thead>\n",
       "    <tr style=\"text-align: right;\">\n",
       "      <th></th>\n",
       "      <th>BeginDate</th>\n",
       "      <th>EndDate</th>\n",
       "      <th>Type</th>\n",
       "      <th>PaperlessBilling</th>\n",
       "      <th>PaymentMethod</th>\n",
       "      <th>MonthlyCharges</th>\n",
       "      <th>TotalCharges</th>\n",
       "    </tr>\n",
       "    <tr>\n",
       "      <th>customerID</th>\n",
       "      <th></th>\n",
       "      <th></th>\n",
       "      <th></th>\n",
       "      <th></th>\n",
       "      <th></th>\n",
       "      <th></th>\n",
       "      <th></th>\n",
       "    </tr>\n",
       "  </thead>\n",
       "  <tbody>\n",
       "    <tr>\n",
       "      <th>6840-RESVB</th>\n",
       "      <td>2018-02-01</td>\n",
       "      <td>No</td>\n",
       "      <td>One year</td>\n",
       "      <td>Yes</td>\n",
       "      <td>Mailed check</td>\n",
       "      <td>84.80</td>\n",
       "      <td>1990.5</td>\n",
       "    </tr>\n",
       "    <tr>\n",
       "      <th>2234-XADUH</th>\n",
       "      <td>2014-02-01</td>\n",
       "      <td>No</td>\n",
       "      <td>One year</td>\n",
       "      <td>Yes</td>\n",
       "      <td>Credit card (automatic)</td>\n",
       "      <td>103.20</td>\n",
       "      <td>7362.9</td>\n",
       "    </tr>\n",
       "    <tr>\n",
       "      <th>4801-JZAZL</th>\n",
       "      <td>2019-03-01</td>\n",
       "      <td>No</td>\n",
       "      <td>Month-to-month</td>\n",
       "      <td>Yes</td>\n",
       "      <td>Electronic check</td>\n",
       "      <td>29.60</td>\n",
       "      <td>346.45</td>\n",
       "    </tr>\n",
       "    <tr>\n",
       "      <th>8361-LTMKD</th>\n",
       "      <td>2019-07-01</td>\n",
       "      <td>2019-11-01 00:00:00</td>\n",
       "      <td>Month-to-month</td>\n",
       "      <td>Yes</td>\n",
       "      <td>Mailed check</td>\n",
       "      <td>74.40</td>\n",
       "      <td>306.6</td>\n",
       "    </tr>\n",
       "    <tr>\n",
       "      <th>3186-AJIEK</th>\n",
       "      <td>2014-08-01</td>\n",
       "      <td>No</td>\n",
       "      <td>Two year</td>\n",
       "      <td>Yes</td>\n",
       "      <td>Bank transfer (automatic)</td>\n",
       "      <td>105.65</td>\n",
       "      <td>6844.5</td>\n",
       "    </tr>\n",
       "  </tbody>\n",
       "</table>\n",
       "</div>"
      ],
      "text/plain": [
       "             BeginDate              EndDate            Type PaperlessBilling  \\\n",
       "customerID                                                                     \n",
       "6840-RESVB  2018-02-01                   No        One year              Yes   \n",
       "2234-XADUH  2014-02-01                   No        One year              Yes   \n",
       "4801-JZAZL  2019-03-01                   No  Month-to-month              Yes   \n",
       "8361-LTMKD  2019-07-01  2019-11-01 00:00:00  Month-to-month              Yes   \n",
       "3186-AJIEK  2014-08-01                   No        Two year              Yes   \n",
       "\n",
       "                        PaymentMethod  MonthlyCharges TotalCharges  \n",
       "customerID                                                          \n",
       "6840-RESVB               Mailed check           84.80       1990.5  \n",
       "2234-XADUH    Credit card (automatic)          103.20       7362.9  \n",
       "4801-JZAZL           Electronic check           29.60       346.45  \n",
       "8361-LTMKD               Mailed check           74.40        306.6  \n",
       "3186-AJIEK  Bank transfer (automatic)          105.65       6844.5  "
      ]
     },
     "execution_count": 741,
     "metadata": {},
     "output_type": "execute_result"
    }
   ],
   "source": [
    "contract.tail(5)"
   ]
  },
  {
   "cell_type": "code",
   "execution_count": 742,
   "id": "abe74939",
   "metadata": {},
   "outputs": [
    {
     "data": {
      "text/html": [
       "<div>\n",
       "<style scoped>\n",
       "    .dataframe tbody tr th:only-of-type {\n",
       "        vertical-align: middle;\n",
       "    }\n",
       "\n",
       "    .dataframe tbody tr th {\n",
       "        vertical-align: top;\n",
       "    }\n",
       "\n",
       "    .dataframe thead th {\n",
       "        text-align: right;\n",
       "    }\n",
       "</style>\n",
       "<table border=\"1\" class=\"dataframe\">\n",
       "  <thead>\n",
       "    <tr style=\"text-align: right;\">\n",
       "      <th></th>\n",
       "      <th>BeginDate</th>\n",
       "      <th>EndDate</th>\n",
       "      <th>Type</th>\n",
       "      <th>PaperlessBilling</th>\n",
       "      <th>PaymentMethod</th>\n",
       "      <th>MonthlyCharges</th>\n",
       "      <th>TotalCharges</th>\n",
       "    </tr>\n",
       "    <tr>\n",
       "      <th>customerID</th>\n",
       "      <th></th>\n",
       "      <th></th>\n",
       "      <th></th>\n",
       "      <th></th>\n",
       "      <th></th>\n",
       "      <th></th>\n",
       "      <th></th>\n",
       "    </tr>\n",
       "  </thead>\n",
       "  <tbody>\n",
       "    <tr>\n",
       "      <th>5995-SNNEW</th>\n",
       "      <td>2018-03-01</td>\n",
       "      <td>No</td>\n",
       "      <td>Month-to-month</td>\n",
       "      <td>Yes</td>\n",
       "      <td>Electronic check</td>\n",
       "      <td>104.45</td>\n",
       "      <td>2184.85</td>\n",
       "    </tr>\n",
       "  </tbody>\n",
       "</table>\n",
       "</div>"
      ],
      "text/plain": [
       "             BeginDate EndDate            Type PaperlessBilling  \\\n",
       "customerID                                                        \n",
       "5995-SNNEW  2018-03-01      No  Month-to-month              Yes   \n",
       "\n",
       "               PaymentMethod  MonthlyCharges TotalCharges  \n",
       "customerID                                                 \n",
       "5995-SNNEW  Electronic check          104.45      2184.85  "
      ]
     },
     "execution_count": 742,
     "metadata": {},
     "output_type": "execute_result"
    }
   ],
   "source": [
    "contract.sample()"
   ]
  },
  {
   "cell_type": "code",
   "execution_count": 743,
   "id": "8aa0e76d",
   "metadata": {},
   "outputs": [
    {
     "data": {
      "text/plain": [
       "(7043, 7)"
      ]
     },
     "execution_count": 743,
     "metadata": {},
     "output_type": "execute_result"
    }
   ],
   "source": [
    "contract.shape"
   ]
  },
  {
   "cell_type": "code",
   "execution_count": 744,
   "id": "ed54350d",
   "metadata": {},
   "outputs": [
    {
     "data": {
      "text/html": [
       "<div>\n",
       "<style scoped>\n",
       "    .dataframe tbody tr th:only-of-type {\n",
       "        vertical-align: middle;\n",
       "    }\n",
       "\n",
       "    .dataframe tbody tr th {\n",
       "        vertical-align: top;\n",
       "    }\n",
       "\n",
       "    .dataframe thead th {\n",
       "        text-align: right;\n",
       "    }\n",
       "</style>\n",
       "<table border=\"1\" class=\"dataframe\">\n",
       "  <thead>\n",
       "    <tr style=\"text-align: right;\">\n",
       "      <th></th>\n",
       "      <th>MonthlyCharges</th>\n",
       "    </tr>\n",
       "  </thead>\n",
       "  <tbody>\n",
       "    <tr>\n",
       "      <th>count</th>\n",
       "      <td>7043.000000</td>\n",
       "    </tr>\n",
       "    <tr>\n",
       "      <th>mean</th>\n",
       "      <td>64.761692</td>\n",
       "    </tr>\n",
       "    <tr>\n",
       "      <th>std</th>\n",
       "      <td>30.090047</td>\n",
       "    </tr>\n",
       "    <tr>\n",
       "      <th>min</th>\n",
       "      <td>18.250000</td>\n",
       "    </tr>\n",
       "    <tr>\n",
       "      <th>25%</th>\n",
       "      <td>35.500000</td>\n",
       "    </tr>\n",
       "    <tr>\n",
       "      <th>50%</th>\n",
       "      <td>70.350000</td>\n",
       "    </tr>\n",
       "    <tr>\n",
       "      <th>75%</th>\n",
       "      <td>89.850000</td>\n",
       "    </tr>\n",
       "    <tr>\n",
       "      <th>max</th>\n",
       "      <td>118.750000</td>\n",
       "    </tr>\n",
       "  </tbody>\n",
       "</table>\n",
       "</div>"
      ],
      "text/plain": [
       "       MonthlyCharges\n",
       "count     7043.000000\n",
       "mean        64.761692\n",
       "std         30.090047\n",
       "min         18.250000\n",
       "25%         35.500000\n",
       "50%         70.350000\n",
       "75%         89.850000\n",
       "max        118.750000"
      ]
     },
     "execution_count": 744,
     "metadata": {},
     "output_type": "execute_result"
    }
   ],
   "source": [
    "contract.describe()"
   ]
  },
  {
   "cell_type": "code",
   "execution_count": 745,
   "id": "cdccbada",
   "metadata": {},
   "outputs": [
    {
     "name": "stdout",
     "output_type": "stream",
     "text": [
      "<class 'pandas.core.frame.DataFrame'>\n",
      "Index: 7043 entries, 7590-VHVEG to 3186-AJIEK\n",
      "Data columns (total 7 columns):\n",
      " #   Column            Non-Null Count  Dtype  \n",
      "---  ------            --------------  -----  \n",
      " 0   BeginDate         7043 non-null   object \n",
      " 1   EndDate           7043 non-null   object \n",
      " 2   Type              7043 non-null   object \n",
      " 3   PaperlessBilling  7043 non-null   object \n",
      " 4   PaymentMethod     7043 non-null   object \n",
      " 5   MonthlyCharges    7043 non-null   float64\n",
      " 6   TotalCharges      7043 non-null   object \n",
      "dtypes: float64(1), object(6)\n",
      "memory usage: 440.2+ KB\n"
     ]
    }
   ],
   "source": [
    "contract.info()"
   ]
  },
  {
   "cell_type": "markdown",
   "id": "c27b961d",
   "metadata": {},
   "source": [
    "1) Всего 7043 записей, 7 столбцов. Пропусков нет.\n",
    "\n",
    "2) В столбце 'MonthlyCharges' данные слегка смещены влево (среднее меньше медианы).\n",
    "\n",
    "3) Изменим форматы: \n",
    "- 'BeginDate', 'EndDate' -> datetime (\"No\" заменим на на 1 февраля 2020, на эту дату пользователи продолжали пользоваться услугами), \n",
    "- 'Type', 'PaymentMethod' -> integer по группам, \n",
    "- 'PaperlessBilling' -> integer (бинарный вид), \n",
    "- 'TotalCharges' -> float."
   ]
  },
  {
   "cell_type": "code",
   "execution_count": 746,
   "id": "4494ab74",
   "metadata": {},
   "outputs": [
    {
     "data": {
      "text/plain": [
       "0"
      ]
     },
     "execution_count": 746,
     "metadata": {},
     "output_type": "execute_result"
    }
   ],
   "source": [
    "last_date = '2020-02-01'\n",
    "\n",
    "contract.loc[contract['EndDate']=='No', 'EndDate'] = last_date\n",
    "len(contract.loc[contract['EndDate']=='No', 'EndDate'])"
   ]
  },
  {
   "cell_type": "code",
   "execution_count": 747,
   "id": "d7ce16aa",
   "metadata": {},
   "outputs": [],
   "source": [
    "contract['EndDate'] = contract['EndDate'].astype('datetime64')\n",
    "contract['BeginDate'] = contract['BeginDate'].astype('datetime64')"
   ]
  },
  {
   "cell_type": "code",
   "execution_count": 748,
   "id": "3f411257",
   "metadata": {},
   "outputs": [
    {
     "data": {
      "text/plain": [
       "array(['Month-to-month', 'One year', 'Two year'], dtype=object)"
      ]
     },
     "execution_count": 748,
     "metadata": {},
     "output_type": "execute_result"
    }
   ],
   "source": [
    "contract['Type'].unique()"
   ]
  },
  {
   "cell_type": "code",
   "execution_count": 749,
   "id": "ae6cc098",
   "metadata": {},
   "outputs": [],
   "source": [
    "#напишем функцию перевода категорий в целые числа\n",
    "def type_func(my_type):\n",
    "    if my_type == \"Month-to-month\":\n",
    "        int_type = 0\n",
    "    elif my_type == \"One year\": \n",
    "        int_type = 1\n",
    "    elif my_type == \"Two year\":\n",
    "        int_type = 2\n",
    "    else:\n",
    "        int_type = 3\n",
    "        \n",
    "    return int_type"
   ]
  },
  {
   "cell_type": "code",
   "execution_count": 750,
   "id": "acfc0f5f",
   "metadata": {},
   "outputs": [],
   "source": [
    "contract['Type'] = contract['Type'].apply(type_func).astype('int')"
   ]
  },
  {
   "cell_type": "code",
   "execution_count": 751,
   "id": "3b1b1cb0",
   "metadata": {},
   "outputs": [
    {
     "data": {
      "text/plain": [
       "array(['Electronic check', 'Mailed check', 'Bank transfer (automatic)',\n",
       "       'Credit card (automatic)'], dtype=object)"
      ]
     },
     "execution_count": 751,
     "metadata": {},
     "output_type": "execute_result"
    }
   ],
   "source": [
    "contract['PaymentMethod'].unique()"
   ]
  },
  {
   "cell_type": "code",
   "execution_count": 752,
   "id": "9c12e9f4",
   "metadata": {},
   "outputs": [],
   "source": [
    "#напишем функцию перевода категорий в целые числа\n",
    "def payment_func(my_payment):\n",
    "    if my_payment == \"Electronic check\":\n",
    "        int_type = 0\n",
    "    elif my_payment == \"Mailed check\": \n",
    "        int_type = 1\n",
    "    elif my_payment == \"Bank transfer (automatic)\":\n",
    "        int_type = 2\n",
    "    elif my_payment == \"Credit card (automatic)\":\n",
    "        int_type = 3\n",
    "    else:\n",
    "        int_type = 4\n",
    "        \n",
    "    return int_type"
   ]
  },
  {
   "cell_type": "code",
   "execution_count": 753,
   "id": "660b9d27",
   "metadata": {},
   "outputs": [],
   "source": [
    "contract['PaymentMethod'] = contract['PaymentMethod'].apply(payment_func).astype('int')"
   ]
  },
  {
   "cell_type": "code",
   "execution_count": 754,
   "id": "2ad5a260",
   "metadata": {},
   "outputs": [
    {
     "data": {
      "text/plain": [
       "array(['Yes', 'No'], dtype=object)"
      ]
     },
     "execution_count": 754,
     "metadata": {},
     "output_type": "execute_result"
    }
   ],
   "source": [
    "contract['PaperlessBilling'].unique()"
   ]
  },
  {
   "cell_type": "code",
   "execution_count": 755,
   "id": "1de9f7bf",
   "metadata": {},
   "outputs": [],
   "source": [
    "#напишем функцию перевода категорий в целые числа\n",
    "def billing_func(my_billing):\n",
    "    if my_billing == \"No\":\n",
    "        int_type = 0\n",
    "    elif my_billing == \"Yes\": \n",
    "        int_type = 1\n",
    "    else:\n",
    "        int_type = 2\n",
    "        \n",
    "    return int_type"
   ]
  },
  {
   "cell_type": "code",
   "execution_count": 756,
   "id": "7a0112c6",
   "metadata": {},
   "outputs": [],
   "source": [
    "contract['PaperlessBilling'] = contract['PaperlessBilling'].apply(billing_func).astype('int')"
   ]
  },
  {
   "cell_type": "markdown",
   "id": "84d1f547",
   "metadata": {},
   "source": [
    "contract['TotalCharges'] = contract['TotalCharges'].astype('float') -> вызывает ошибку, есть строковое представление ' '."
   ]
  },
  {
   "cell_type": "code",
   "execution_count": 757,
   "id": "95ff0576",
   "metadata": {},
   "outputs": [
    {
     "data": {
      "text/html": [
       "<div>\n",
       "<style scoped>\n",
       "    .dataframe tbody tr th:only-of-type {\n",
       "        vertical-align: middle;\n",
       "    }\n",
       "\n",
       "    .dataframe tbody tr th {\n",
       "        vertical-align: top;\n",
       "    }\n",
       "\n",
       "    .dataframe thead th {\n",
       "        text-align: right;\n",
       "    }\n",
       "</style>\n",
       "<table border=\"1\" class=\"dataframe\">\n",
       "  <thead>\n",
       "    <tr style=\"text-align: right;\">\n",
       "      <th></th>\n",
       "      <th>BeginDate</th>\n",
       "      <th>EndDate</th>\n",
       "      <th>Type</th>\n",
       "      <th>PaperlessBilling</th>\n",
       "      <th>PaymentMethod</th>\n",
       "      <th>MonthlyCharges</th>\n",
       "      <th>TotalCharges</th>\n",
       "    </tr>\n",
       "    <tr>\n",
       "      <th>customerID</th>\n",
       "      <th></th>\n",
       "      <th></th>\n",
       "      <th></th>\n",
       "      <th></th>\n",
       "      <th></th>\n",
       "      <th></th>\n",
       "      <th></th>\n",
       "    </tr>\n",
       "  </thead>\n",
       "  <tbody>\n",
       "    <tr>\n",
       "      <th>4472-LVYGI</th>\n",
       "      <td>2020-02-01</td>\n",
       "      <td>2020-02-01</td>\n",
       "      <td>2</td>\n",
       "      <td>1</td>\n",
       "      <td>2</td>\n",
       "      <td>52.55</td>\n",
       "      <td></td>\n",
       "    </tr>\n",
       "    <tr>\n",
       "      <th>3115-CZMZD</th>\n",
       "      <td>2020-02-01</td>\n",
       "      <td>2020-02-01</td>\n",
       "      <td>2</td>\n",
       "      <td>0</td>\n",
       "      <td>1</td>\n",
       "      <td>20.25</td>\n",
       "      <td></td>\n",
       "    </tr>\n",
       "    <tr>\n",
       "      <th>5709-LVOEQ</th>\n",
       "      <td>2020-02-01</td>\n",
       "      <td>2020-02-01</td>\n",
       "      <td>2</td>\n",
       "      <td>0</td>\n",
       "      <td>1</td>\n",
       "      <td>80.85</td>\n",
       "      <td></td>\n",
       "    </tr>\n",
       "    <tr>\n",
       "      <th>4367-NUYAO</th>\n",
       "      <td>2020-02-01</td>\n",
       "      <td>2020-02-01</td>\n",
       "      <td>2</td>\n",
       "      <td>0</td>\n",
       "      <td>1</td>\n",
       "      <td>25.75</td>\n",
       "      <td></td>\n",
       "    </tr>\n",
       "    <tr>\n",
       "      <th>1371-DWPAZ</th>\n",
       "      <td>2020-02-01</td>\n",
       "      <td>2020-02-01</td>\n",
       "      <td>2</td>\n",
       "      <td>0</td>\n",
       "      <td>3</td>\n",
       "      <td>56.05</td>\n",
       "      <td></td>\n",
       "    </tr>\n",
       "    <tr>\n",
       "      <th>7644-OMVMY</th>\n",
       "      <td>2020-02-01</td>\n",
       "      <td>2020-02-01</td>\n",
       "      <td>2</td>\n",
       "      <td>0</td>\n",
       "      <td>1</td>\n",
       "      <td>19.85</td>\n",
       "      <td></td>\n",
       "    </tr>\n",
       "    <tr>\n",
       "      <th>3213-VVOLG</th>\n",
       "      <td>2020-02-01</td>\n",
       "      <td>2020-02-01</td>\n",
       "      <td>2</td>\n",
       "      <td>0</td>\n",
       "      <td>1</td>\n",
       "      <td>25.35</td>\n",
       "      <td></td>\n",
       "    </tr>\n",
       "    <tr>\n",
       "      <th>2520-SGTTA</th>\n",
       "      <td>2020-02-01</td>\n",
       "      <td>2020-02-01</td>\n",
       "      <td>2</td>\n",
       "      <td>0</td>\n",
       "      <td>1</td>\n",
       "      <td>20.00</td>\n",
       "      <td></td>\n",
       "    </tr>\n",
       "    <tr>\n",
       "      <th>2923-ARZLG</th>\n",
       "      <td>2020-02-01</td>\n",
       "      <td>2020-02-01</td>\n",
       "      <td>1</td>\n",
       "      <td>1</td>\n",
       "      <td>1</td>\n",
       "      <td>19.70</td>\n",
       "      <td></td>\n",
       "    </tr>\n",
       "    <tr>\n",
       "      <th>4075-WKNIU</th>\n",
       "      <td>2020-02-01</td>\n",
       "      <td>2020-02-01</td>\n",
       "      <td>2</td>\n",
       "      <td>0</td>\n",
       "      <td>1</td>\n",
       "      <td>73.35</td>\n",
       "      <td></td>\n",
       "    </tr>\n",
       "    <tr>\n",
       "      <th>2775-SEFEE</th>\n",
       "      <td>2020-02-01</td>\n",
       "      <td>2020-02-01</td>\n",
       "      <td>2</td>\n",
       "      <td>1</td>\n",
       "      <td>2</td>\n",
       "      <td>61.90</td>\n",
       "      <td></td>\n",
       "    </tr>\n",
       "  </tbody>\n",
       "</table>\n",
       "</div>"
      ],
      "text/plain": [
       "            BeginDate    EndDate  Type  PaperlessBilling  PaymentMethod  \\\n",
       "customerID                                                                \n",
       "4472-LVYGI 2020-02-01 2020-02-01     2                 1              2   \n",
       "3115-CZMZD 2020-02-01 2020-02-01     2                 0              1   \n",
       "5709-LVOEQ 2020-02-01 2020-02-01     2                 0              1   \n",
       "4367-NUYAO 2020-02-01 2020-02-01     2                 0              1   \n",
       "1371-DWPAZ 2020-02-01 2020-02-01     2                 0              3   \n",
       "7644-OMVMY 2020-02-01 2020-02-01     2                 0              1   \n",
       "3213-VVOLG 2020-02-01 2020-02-01     2                 0              1   \n",
       "2520-SGTTA 2020-02-01 2020-02-01     2                 0              1   \n",
       "2923-ARZLG 2020-02-01 2020-02-01     1                 1              1   \n",
       "4075-WKNIU 2020-02-01 2020-02-01     2                 0              1   \n",
       "2775-SEFEE 2020-02-01 2020-02-01     2                 1              2   \n",
       "\n",
       "            MonthlyCharges TotalCharges  \n",
       "customerID                               \n",
       "4472-LVYGI           52.55               \n",
       "3115-CZMZD           20.25               \n",
       "5709-LVOEQ           80.85               \n",
       "4367-NUYAO           25.75               \n",
       "1371-DWPAZ           56.05               \n",
       "7644-OMVMY           19.85               \n",
       "3213-VVOLG           25.35               \n",
       "2520-SGTTA           20.00               \n",
       "2923-ARZLG           19.70               \n",
       "4075-WKNIU           73.35               \n",
       "2775-SEFEE           61.90               "
      ]
     },
     "execution_count": 757,
     "metadata": {},
     "output_type": "execute_result"
    }
   ],
   "source": [
    "contract[contract['TotalCharges']==' ']"
   ]
  },
  {
   "cell_type": "code",
   "execution_count": 758,
   "id": "d82f5b4a",
   "metadata": {},
   "outputs": [
    {
     "data": {
      "text/plain": [
       "11"
      ]
     },
     "execution_count": 758,
     "metadata": {},
     "output_type": "execute_result"
    }
   ],
   "source": [
    "len(contract[contract['TotalCharges']==' '])"
   ]
  },
  {
   "cell_type": "markdown",
   "id": "bbb3bc34",
   "metadata": {},
   "source": [
    "11 пустот в столбце TotalCharges, возможно связано с тем, что пользователи не успели заплатить. Дата BeginDate совпадает с EndDate, MonthlyCharges != 0. **Логичным заполнением пропуска в данном случае будет - нулями (пока что заменим на NaN чтобы не изменять распределение параметров в ходе исследовательского анализа данных).**"
   ]
  },
  {
   "cell_type": "code",
   "execution_count": 759,
   "id": "b9b41de8",
   "metadata": {},
   "outputs": [],
   "source": [
    "contract.loc[contract['TotalCharges']==' ', 'TotalCharges'] = 'NaN'"
   ]
  },
  {
   "cell_type": "code",
   "execution_count": 760,
   "id": "6d645ca7",
   "metadata": {},
   "outputs": [
    {
     "data": {
      "text/plain": [
       "0"
      ]
     },
     "execution_count": 760,
     "metadata": {},
     "output_type": "execute_result"
    }
   ],
   "source": [
    "len(contract[contract['TotalCharges']==' '])"
   ]
  },
  {
   "cell_type": "code",
   "execution_count": 761,
   "id": "411de1de",
   "metadata": {},
   "outputs": [],
   "source": [
    "contract['TotalCharges'] = contract['TotalCharges'].astype('float')"
   ]
  },
  {
   "cell_type": "code",
   "execution_count": 762,
   "id": "c4b6d83e",
   "metadata": {},
   "outputs": [
    {
     "name": "stdout",
     "output_type": "stream",
     "text": [
      "<class 'pandas.core.frame.DataFrame'>\n",
      "Index: 7043 entries, 7590-VHVEG to 3186-AJIEK\n",
      "Data columns (total 7 columns):\n",
      " #   Column            Non-Null Count  Dtype         \n",
      "---  ------            --------------  -----         \n",
      " 0   BeginDate         7043 non-null   datetime64[ns]\n",
      " 1   EndDate           7043 non-null   datetime64[ns]\n",
      " 2   Type              7043 non-null   int32         \n",
      " 3   PaperlessBilling  7043 non-null   int32         \n",
      " 4   PaymentMethod     7043 non-null   int32         \n",
      " 5   MonthlyCharges    7043 non-null   float64       \n",
      " 6   TotalCharges      7032 non-null   float64       \n",
      "dtypes: datetime64[ns](2), float64(2), int32(3)\n",
      "memory usage: 357.7+ KB\n"
     ]
    }
   ],
   "source": [
    "contract.info()"
   ]
  },
  {
   "cell_type": "markdown",
   "id": "4420fa45",
   "metadata": {},
   "source": [
    "- Ключевой признак - уход клиента. Клиент ушел, если EndDate < 2020-02-01. \n",
    "- Вместо BeginDate и EndDate создадим 2 признака: (1) сколько дней человек пробыл клиентом компании, (2) ушел ли в итоге клиент."
   ]
  },
  {
   "cell_type": "code",
   "execution_count": 763,
   "id": "32160241",
   "metadata": {},
   "outputs": [],
   "source": [
    "contract['days_count'] = (contract['EndDate'] - contract['BeginDate']) // np.timedelta64(1, 'D')\n",
    "contract['days_count'] = contract['days_count'].astype('float')"
   ]
  },
  {
   "cell_type": "code",
   "execution_count": 764,
   "id": "36c35686",
   "metadata": {},
   "outputs": [
    {
     "data": {
      "text/plain": [
       "customerID\n",
       "7590-VHVEG      31.0\n",
       "5575-GNVDE    1036.0\n",
       "3668-QPYBK      61.0\n",
       "7795-CFOCW    1371.0\n",
       "9237-HQITU      61.0\n",
       "Name: days_count, dtype: float64"
      ]
     },
     "execution_count": 764,
     "metadata": {},
     "output_type": "execute_result"
    }
   ],
   "source": [
    "contract['days_count'].head(5)"
   ]
  },
  {
   "cell_type": "code",
   "execution_count": 765,
   "id": "bd31a0ac",
   "metadata": {},
   "outputs": [],
   "source": [
    "contract['exited'] = ((pd.Timestamp(last_date) - contract['EndDate']) // np.timedelta64(1, 'D') > 0).astype('int')"
   ]
  },
  {
   "cell_type": "code",
   "execution_count": 766,
   "id": "f1290a81",
   "metadata": {},
   "outputs": [
    {
     "data": {
      "text/plain": [
       "customerID\n",
       "7590-VHVEG    0\n",
       "5575-GNVDE    0\n",
       "3668-QPYBK    1\n",
       "7795-CFOCW    0\n",
       "9237-HQITU    1\n",
       "Name: exited, dtype: int32"
      ]
     },
     "execution_count": 766,
     "metadata": {},
     "output_type": "execute_result"
    }
   ],
   "source": [
    "contract['exited'].head(5)"
   ]
  },
  {
   "cell_type": "code",
   "execution_count": 767,
   "id": "abf7edeb",
   "metadata": {},
   "outputs": [],
   "source": [
    "contract = contract.drop(['BeginDate', 'EndDate'], axis=1)"
   ]
  },
  {
   "cell_type": "markdown",
   "id": "4fdde455",
   "metadata": {},
   "source": [
    "Можно проанализировать данные"
   ]
  },
  {
   "cell_type": "code",
   "execution_count": 768,
   "id": "f0ca84e5",
   "metadata": {},
   "outputs": [
    {
     "data": {
      "text/html": [
       "<div>\n",
       "<style scoped>\n",
       "    .dataframe tbody tr th:only-of-type {\n",
       "        vertical-align: middle;\n",
       "    }\n",
       "\n",
       "    .dataframe tbody tr th {\n",
       "        vertical-align: top;\n",
       "    }\n",
       "\n",
       "    .dataframe thead th {\n",
       "        text-align: right;\n",
       "    }\n",
       "</style>\n",
       "<table border=\"1\" class=\"dataframe\">\n",
       "  <thead>\n",
       "    <tr style=\"text-align: right;\">\n",
       "      <th></th>\n",
       "      <th>Type</th>\n",
       "      <th>PaperlessBilling</th>\n",
       "      <th>PaymentMethod</th>\n",
       "      <th>MonthlyCharges</th>\n",
       "      <th>TotalCharges</th>\n",
       "      <th>days_count</th>\n",
       "      <th>exited</th>\n",
       "    </tr>\n",
       "    <tr>\n",
       "      <th>customerID</th>\n",
       "      <th></th>\n",
       "      <th></th>\n",
       "      <th></th>\n",
       "      <th></th>\n",
       "      <th></th>\n",
       "      <th></th>\n",
       "      <th></th>\n",
       "    </tr>\n",
       "  </thead>\n",
       "  <tbody>\n",
       "    <tr>\n",
       "      <th>7590-VHVEG</th>\n",
       "      <td>0</td>\n",
       "      <td>1</td>\n",
       "      <td>0</td>\n",
       "      <td>29.85</td>\n",
       "      <td>29.85</td>\n",
       "      <td>31.0</td>\n",
       "      <td>0</td>\n",
       "    </tr>\n",
       "    <tr>\n",
       "      <th>5575-GNVDE</th>\n",
       "      <td>1</td>\n",
       "      <td>0</td>\n",
       "      <td>1</td>\n",
       "      <td>56.95</td>\n",
       "      <td>1889.50</td>\n",
       "      <td>1036.0</td>\n",
       "      <td>0</td>\n",
       "    </tr>\n",
       "    <tr>\n",
       "      <th>3668-QPYBK</th>\n",
       "      <td>0</td>\n",
       "      <td>1</td>\n",
       "      <td>1</td>\n",
       "      <td>53.85</td>\n",
       "      <td>108.15</td>\n",
       "      <td>61.0</td>\n",
       "      <td>1</td>\n",
       "    </tr>\n",
       "    <tr>\n",
       "      <th>7795-CFOCW</th>\n",
       "      <td>1</td>\n",
       "      <td>0</td>\n",
       "      <td>2</td>\n",
       "      <td>42.30</td>\n",
       "      <td>1840.75</td>\n",
       "      <td>1371.0</td>\n",
       "      <td>0</td>\n",
       "    </tr>\n",
       "    <tr>\n",
       "      <th>9237-HQITU</th>\n",
       "      <td>0</td>\n",
       "      <td>1</td>\n",
       "      <td>0</td>\n",
       "      <td>70.70</td>\n",
       "      <td>151.65</td>\n",
       "      <td>61.0</td>\n",
       "      <td>1</td>\n",
       "    </tr>\n",
       "  </tbody>\n",
       "</table>\n",
       "</div>"
      ],
      "text/plain": [
       "            Type  PaperlessBilling  PaymentMethod  MonthlyCharges  \\\n",
       "customerID                                                          \n",
       "7590-VHVEG     0                 1              0           29.85   \n",
       "5575-GNVDE     1                 0              1           56.95   \n",
       "3668-QPYBK     0                 1              1           53.85   \n",
       "7795-CFOCW     1                 0              2           42.30   \n",
       "9237-HQITU     0                 1              0           70.70   \n",
       "\n",
       "            TotalCharges  days_count  exited  \n",
       "customerID                                    \n",
       "7590-VHVEG         29.85        31.0       0  \n",
       "5575-GNVDE       1889.50      1036.0       0  \n",
       "3668-QPYBK        108.15        61.0       1  \n",
       "7795-CFOCW       1840.75      1371.0       0  \n",
       "9237-HQITU        151.65        61.0       1  "
      ]
     },
     "execution_count": 768,
     "metadata": {},
     "output_type": "execute_result"
    }
   ],
   "source": [
    "contract.head(5)"
   ]
  },
  {
   "cell_type": "code",
   "execution_count": 769,
   "id": "95149d99",
   "metadata": {},
   "outputs": [
    {
     "data": {
      "image/png": "[encoded data removed]",
      "text/plain": [
       "<Figure size 792x576 with 1 Axes>"
      ]
     },
     "metadata": {},
     "output_type": "display_data"
    }
   ],
   "source": [
    "sns.set(rc={'figure.figsize':(11,8)}, font_scale = 1)\n",
    "barplot = sns.barplot(x=contract['exited'].value_counts().index, y=contract['exited'].value_counts().values);\n",
    "barplot.set(xlabel='exited', ylabel='count_of_exited')\n",
    "plt.show()"
   ]
  },
  {
   "cell_type": "markdown",
   "id": "1d6dfac6",
   "metadata": {},
   "source": [
    "Виден дисбаланс в классах, при разделении данных будем использовать стратифицированный сплит"
   ]
  },
  {
   "cell_type": "code",
   "execution_count": 770,
   "id": "6951d7d8",
   "metadata": {},
   "outputs": [],
   "source": [
    "#напишем функцию построения distplot\n",
    "def compare_clients(comparer_ex, comparer, comparer_name_ex, comparer_name, bins):\n",
    "    \n",
    "    ab = sns.set(rc={'figure.figsize':(8,8)}, font_scale=1)\n",
    "    f, axes = plt.subplots(1, 1)\n",
    "    sns.distplot(comparer_ex, label=comparer_name_ex, bins=bins)\n",
    "    sns.distplot(comparer, label=comparer_name, bins=bins)\n",
    "    \n",
    "    axes.set(title=('Плотность распределения по столбцу: ' + comparer_ex.name),\n",
    "             xlabel='Значение параметра',\n",
    "             ylabel=('Плотность распределения параметра'))\n",
    "    plt.legend(fontsize=16)\n",
    "    plt.show()"
   ]
  },
  {
   "cell_type": "code",
   "execution_count": 771,
   "id": "74b4ea08",
   "metadata": {},
   "outputs": [
    {
     "data": {
      "image/png": "[encoded data removed]",
      "text/plain": [
       "<Figure size 576x576 with 1 Axes>"
      ]
     },
     "metadata": {},
     "output_type": "display_data"
    }
   ],
   "source": [
    "compare_clients(contract[contract['exited']==1]['MonthlyCharges'],\n",
    "                contract[contract['exited']==0]['MonthlyCharges'],\n",
    "                'Ушедшие клиенты',\n",
    "                'Текущие клиенты',\n",
    "                15)"
   ]
  },
  {
   "cell_type": "code",
   "execution_count": 772,
   "id": "80753e9b",
   "metadata": {},
   "outputs": [
    {
     "data": {
      "image/png": "[encoded data removed]",
      "text/plain": [
       "<Figure size 576x576 with 1 Axes>"
      ]
     },
     "metadata": {},
     "output_type": "display_data"
    }
   ],
   "source": [
    "compare_clients(contract[contract['exited']==1]['TotalCharges'],\n",
    "                contract[contract['exited']==0]['TotalCharges'],\n",
    "                'Ушедшие клиенты',\n",
    "                'Текущие клиенты',\n",
    "                15)"
   ]
  },
  {
   "cell_type": "markdown",
   "id": "be8e6797",
   "metadata": {},
   "source": [
    "Из графиков распределения численных параметров видно:\n",
    "\n",
    "1. Значения столбца помесячной оплаты MonthlyCharges больше для ушедших клиентов. Возможно, это и было причиной их ухода. \n",
    "2. Значения столбца общей платы TotalCharges больше для текущих клиентов. Логично, что в долгосрочной перспективе профит от постоянных клиентов больше. "
   ]
  },
  {
   "cell_type": "code",
   "execution_count": 773,
   "id": "71332839",
   "metadata": {},
   "outputs": [],
   "source": [
    "#напишем функцию построения countplot\n",
    "def count_ploter(data, column):\n",
    "    \n",
    "    sns.set(rc={'figure.figsize':(8,8)}, font_scale=1)\n",
    "    countplot = sns.countplot(x=column, hue='exited', data=data)\n",
    "    countplot.set(title=('Countplot для параметра ' + column), ylabel='Количество значений')\n",
    "    \n",
    "    plt.show()"
   ]
  },
  {
   "cell_type": "code",
   "execution_count": 774,
   "id": "1241f3be",
   "metadata": {},
   "outputs": [
    {
     "data": {
      "image/png": "[encoded data removed]",
      "text/plain": [
       "<Figure size 576x576 with 1 Axes>"
      ]
     },
     "metadata": {},
     "output_type": "display_data"
    }
   ],
   "source": [
    "count_ploter(contract, 'PaymentMethod')"
   ]
  },
  {
   "cell_type": "code",
   "execution_count": 775,
   "id": "82f45975",
   "metadata": {},
   "outputs": [
    {
     "data": {
      "image/png": "[encoded data removed]",
      "text/plain": [
       "<Figure size 576x576 with 1 Axes>"
      ]
     },
     "metadata": {},
     "output_type": "display_data"
    }
   ],
   "source": [
    "count_ploter(contract, 'PaperlessBilling')"
   ]
  },
  {
   "cell_type": "code",
   "execution_count": 776,
   "id": "22bd69b1",
   "metadata": {},
   "outputs": [
    {
     "data": {
      "image/png": "[encoded data removed]",
      "text/plain": [
       "<Figure size 576x576 with 1 Axes>"
      ]
     },
     "metadata": {},
     "output_type": "display_data"
    }
   ],
   "source": [
    "count_ploter(contract, 'Type')"
   ]
  },
  {
   "cell_type": "markdown",
   "id": "49725084",
   "metadata": {},
   "source": [
    "**Из столбчатых диаграмм выше делаем следующие выводы:**\n",
    "\n",
    "Ушедшие клиенты в основном выделяются по следующим группам:\n",
    "1. Тип оплаты Type = Month-to-Month, то есть помесячная оплата.\n",
    "2. Способ оплаты PaymentMethod = Electronic Check (по столбцу PaperlessBilling больше ушедших клиентов пользовалось безналичной оплатой, но текущих клиентов также больше в группе безналичной оплаты). "
   ]
  },
  {
   "cell_type": "markdown",
   "id": "52554b66",
   "metadata": {},
   "source": [
    "*Интересно посмотреть на зависимость столбцов по другим файлам со столбцом exited в файле contract. Для этого проработаем остальные csv файлы и объединим их в единую таблицу.*"
   ]
  },
  {
   "cell_type": "markdown",
   "id": "ccbc724a",
   "metadata": {},
   "source": [
    "### 1.2 Данные файла: Personal"
   ]
  },
  {
   "cell_type": "code",
   "execution_count": 777,
   "id": "90c68ece",
   "metadata": {},
   "outputs": [
    {
     "data": {
      "text/html": [
       "<div>\n",
       "<style scoped>\n",
       "    .dataframe tbody tr th:only-of-type {\n",
       "        vertical-align: middle;\n",
       "    }\n",
       "\n",
       "    .dataframe tbody tr th {\n",
       "        vertical-align: top;\n",
       "    }\n",
       "\n",
       "    .dataframe thead th {\n",
       "        text-align: right;\n",
       "    }\n",
       "</style>\n",
       "<table border=\"1\" class=\"dataframe\">\n",
       "  <thead>\n",
       "    <tr style=\"text-align: right;\">\n",
       "      <th></th>\n",
       "      <th>gender</th>\n",
       "      <th>SeniorCitizen</th>\n",
       "      <th>Partner</th>\n",
       "      <th>Dependents</th>\n",
       "    </tr>\n",
       "    <tr>\n",
       "      <th>customerID</th>\n",
       "      <th></th>\n",
       "      <th></th>\n",
       "      <th></th>\n",
       "      <th></th>\n",
       "    </tr>\n",
       "  </thead>\n",
       "  <tbody>\n",
       "    <tr>\n",
       "      <th>7590-VHVEG</th>\n",
       "      <td>Female</td>\n",
       "      <td>0</td>\n",
       "      <td>Yes</td>\n",
       "      <td>No</td>\n",
       "    </tr>\n",
       "    <tr>\n",
       "      <th>5575-GNVDE</th>\n",
       "      <td>Male</td>\n",
       "      <td>0</td>\n",
       "      <td>No</td>\n",
       "      <td>No</td>\n",
       "    </tr>\n",
       "    <tr>\n",
       "      <th>3668-QPYBK</th>\n",
       "      <td>Male</td>\n",
       "      <td>0</td>\n",
       "      <td>No</td>\n",
       "      <td>No</td>\n",
       "    </tr>\n",
       "    <tr>\n",
       "      <th>7795-CFOCW</th>\n",
       "      <td>Male</td>\n",
       "      <td>0</td>\n",
       "      <td>No</td>\n",
       "      <td>No</td>\n",
       "    </tr>\n",
       "    <tr>\n",
       "      <th>9237-HQITU</th>\n",
       "      <td>Female</td>\n",
       "      <td>0</td>\n",
       "      <td>No</td>\n",
       "      <td>No</td>\n",
       "    </tr>\n",
       "  </tbody>\n",
       "</table>\n",
       "</div>"
      ],
      "text/plain": [
       "            gender  SeniorCitizen Partner Dependents\n",
       "customerID                                          \n",
       "7590-VHVEG  Female              0     Yes         No\n",
       "5575-GNVDE    Male              0      No         No\n",
       "3668-QPYBK    Male              0      No         No\n",
       "7795-CFOCW    Male              0      No         No\n",
       "9237-HQITU  Female              0      No         No"
      ]
     },
     "execution_count": 777,
     "metadata": {},
     "output_type": "execute_result"
    }
   ],
   "source": [
    "personal.head(5)"
   ]
  },
  {
   "cell_type": "code",
   "execution_count": 778,
   "id": "bae7debb",
   "metadata": {},
   "outputs": [
    {
     "data": {
      "text/html": [
       "<div>\n",
       "<style scoped>\n",
       "    .dataframe tbody tr th:only-of-type {\n",
       "        vertical-align: middle;\n",
       "    }\n",
       "\n",
       "    .dataframe tbody tr th {\n",
       "        vertical-align: top;\n",
       "    }\n",
       "\n",
       "    .dataframe thead th {\n",
       "        text-align: right;\n",
       "    }\n",
       "</style>\n",
       "<table border=\"1\" class=\"dataframe\">\n",
       "  <thead>\n",
       "    <tr style=\"text-align: right;\">\n",
       "      <th></th>\n",
       "      <th>gender</th>\n",
       "      <th>SeniorCitizen</th>\n",
       "      <th>Partner</th>\n",
       "      <th>Dependents</th>\n",
       "    </tr>\n",
       "    <tr>\n",
       "      <th>customerID</th>\n",
       "      <th></th>\n",
       "      <th></th>\n",
       "      <th></th>\n",
       "      <th></th>\n",
       "    </tr>\n",
       "  </thead>\n",
       "  <tbody>\n",
       "    <tr>\n",
       "      <th>6840-RESVB</th>\n",
       "      <td>Male</td>\n",
       "      <td>0</td>\n",
       "      <td>Yes</td>\n",
       "      <td>Yes</td>\n",
       "    </tr>\n",
       "    <tr>\n",
       "      <th>2234-XADUH</th>\n",
       "      <td>Female</td>\n",
       "      <td>0</td>\n",
       "      <td>Yes</td>\n",
       "      <td>Yes</td>\n",
       "    </tr>\n",
       "    <tr>\n",
       "      <th>4801-JZAZL</th>\n",
       "      <td>Female</td>\n",
       "      <td>0</td>\n",
       "      <td>Yes</td>\n",
       "      <td>Yes</td>\n",
       "    </tr>\n",
       "    <tr>\n",
       "      <th>8361-LTMKD</th>\n",
       "      <td>Male</td>\n",
       "      <td>1</td>\n",
       "      <td>Yes</td>\n",
       "      <td>No</td>\n",
       "    </tr>\n",
       "    <tr>\n",
       "      <th>3186-AJIEK</th>\n",
       "      <td>Male</td>\n",
       "      <td>0</td>\n",
       "      <td>No</td>\n",
       "      <td>No</td>\n",
       "    </tr>\n",
       "  </tbody>\n",
       "</table>\n",
       "</div>"
      ],
      "text/plain": [
       "            gender  SeniorCitizen Partner Dependents\n",
       "customerID                                          \n",
       "6840-RESVB    Male              0     Yes        Yes\n",
       "2234-XADUH  Female              0     Yes        Yes\n",
       "4801-JZAZL  Female              0     Yes        Yes\n",
       "8361-LTMKD    Male              1     Yes         No\n",
       "3186-AJIEK    Male              0      No         No"
      ]
     },
     "execution_count": 778,
     "metadata": {},
     "output_type": "execute_result"
    }
   ],
   "source": [
    "personal.tail(5)"
   ]
  },
  {
   "cell_type": "code",
   "execution_count": 779,
   "id": "b7c457ea",
   "metadata": {},
   "outputs": [
    {
     "data": {
      "text/html": [
       "<div>\n",
       "<style scoped>\n",
       "    .dataframe tbody tr th:only-of-type {\n",
       "        vertical-align: middle;\n",
       "    }\n",
       "\n",
       "    .dataframe tbody tr th {\n",
       "        vertical-align: top;\n",
       "    }\n",
       "\n",
       "    .dataframe thead th {\n",
       "        text-align: right;\n",
       "    }\n",
       "</style>\n",
       "<table border=\"1\" class=\"dataframe\">\n",
       "  <thead>\n",
       "    <tr style=\"text-align: right;\">\n",
       "      <th></th>\n",
       "      <th>gender</th>\n",
       "      <th>SeniorCitizen</th>\n",
       "      <th>Partner</th>\n",
       "      <th>Dependents</th>\n",
       "    </tr>\n",
       "    <tr>\n",
       "      <th>customerID</th>\n",
       "      <th></th>\n",
       "      <th></th>\n",
       "      <th></th>\n",
       "      <th></th>\n",
       "    </tr>\n",
       "  </thead>\n",
       "  <tbody>\n",
       "    <tr>\n",
       "      <th>0940-OUQEC</th>\n",
       "      <td>Male</td>\n",
       "      <td>0</td>\n",
       "      <td>No</td>\n",
       "      <td>No</td>\n",
       "    </tr>\n",
       "  </tbody>\n",
       "</table>\n",
       "</div>"
      ],
      "text/plain": [
       "           gender  SeniorCitizen Partner Dependents\n",
       "customerID                                         \n",
       "0940-OUQEC   Male              0      No         No"
      ]
     },
     "execution_count": 779,
     "metadata": {},
     "output_type": "execute_result"
    }
   ],
   "source": [
    "personal.sample()"
   ]
  },
  {
   "cell_type": "code",
   "execution_count": 780,
   "id": "f6fb67f3",
   "metadata": {},
   "outputs": [
    {
     "data": {
      "text/plain": [
       "(7043, 4)"
      ]
     },
     "execution_count": 780,
     "metadata": {},
     "output_type": "execute_result"
    }
   ],
   "source": [
    "personal.shape"
   ]
  },
  {
   "cell_type": "code",
   "execution_count": 781,
   "id": "419febbf",
   "metadata": {},
   "outputs": [
    {
     "name": "stdout",
     "output_type": "stream",
     "text": [
      "<class 'pandas.core.frame.DataFrame'>\n",
      "Index: 7043 entries, 7590-VHVEG to 3186-AJIEK\n",
      "Data columns (total 4 columns):\n",
      " #   Column         Non-Null Count  Dtype \n",
      "---  ------         --------------  ----- \n",
      " 0   gender         7043 non-null   object\n",
      " 1   SeniorCitizen  7043 non-null   int64 \n",
      " 2   Partner        7043 non-null   object\n",
      " 3   Dependents     7043 non-null   object\n",
      "dtypes: int64(1), object(3)\n",
      "memory usage: 275.1+ KB\n"
     ]
    }
   ],
   "source": [
    "personal.info()"
   ]
  },
  {
   "cell_type": "markdown",
   "id": "cca36154",
   "metadata": {},
   "source": [
    "Переведем все object форматы в целочисленный int32:"
   ]
  },
  {
   "cell_type": "code",
   "execution_count": 782,
   "id": "9df9725e",
   "metadata": {},
   "outputs": [],
   "source": [
    "def yes_no_to_int32(data, columns):\n",
    "    \n",
    "    for column in columns:\n",
    "        data[column] = (data[column] == 'Yes').astype('int32')"
   ]
  },
  {
   "cell_type": "code",
   "execution_count": 783,
   "id": "cece354c",
   "metadata": {},
   "outputs": [],
   "source": [
    "personal_list_to_func = list(personal.columns)\n",
    "personal_list_to_func.remove('gender')\n",
    "personal_list_to_func.remove('SeniorCitizen')\n",
    "yes_no_to_int32(personal, personal_list_to_func)"
   ]
  },
  {
   "cell_type": "code",
   "execution_count": 784,
   "id": "b328d019",
   "metadata": {},
   "outputs": [],
   "source": [
    "personal['gender'] = (personal['gender'] == 'Male').astype('int32')\n",
    "personal['SeniorCitizen'] = personal['SeniorCitizen'].astype('int32')"
   ]
  },
  {
   "cell_type": "code",
   "execution_count": 785,
   "id": "49e392ef",
   "metadata": {},
   "outputs": [
    {
     "name": "stdout",
     "output_type": "stream",
     "text": [
      "<class 'pandas.core.frame.DataFrame'>\n",
      "Index: 7043 entries, 7590-VHVEG to 3186-AJIEK\n",
      "Data columns (total 4 columns):\n",
      " #   Column         Non-Null Count  Dtype\n",
      "---  ------         --------------  -----\n",
      " 0   gender         7043 non-null   int32\n",
      " 1   SeniorCitizen  7043 non-null   int32\n",
      " 2   Partner        7043 non-null   int32\n",
      " 3   Dependents     7043 non-null   int32\n",
      "dtypes: int32(4)\n",
      "memory usage: 165.1+ KB\n"
     ]
    }
   ],
   "source": [
    "personal.info()"
   ]
  },
  {
   "cell_type": "code",
   "execution_count": 786,
   "id": "540ae9cd",
   "metadata": {},
   "outputs": [
    {
     "data": {
      "text/html": [
       "<div>\n",
       "<style scoped>\n",
       "    .dataframe tbody tr th:only-of-type {\n",
       "        vertical-align: middle;\n",
       "    }\n",
       "\n",
       "    .dataframe tbody tr th {\n",
       "        vertical-align: top;\n",
       "    }\n",
       "\n",
       "    .dataframe thead th {\n",
       "        text-align: right;\n",
       "    }\n",
       "</style>\n",
       "<table border=\"1\" class=\"dataframe\">\n",
       "  <thead>\n",
       "    <tr style=\"text-align: right;\">\n",
       "      <th></th>\n",
       "      <th>gender</th>\n",
       "      <th>SeniorCitizen</th>\n",
       "      <th>Partner</th>\n",
       "      <th>Dependents</th>\n",
       "    </tr>\n",
       "    <tr>\n",
       "      <th>customerID</th>\n",
       "      <th></th>\n",
       "      <th></th>\n",
       "      <th></th>\n",
       "      <th></th>\n",
       "    </tr>\n",
       "  </thead>\n",
       "  <tbody>\n",
       "    <tr>\n",
       "      <th>7590-VHVEG</th>\n",
       "      <td>0</td>\n",
       "      <td>0</td>\n",
       "      <td>1</td>\n",
       "      <td>0</td>\n",
       "    </tr>\n",
       "    <tr>\n",
       "      <th>5575-GNVDE</th>\n",
       "      <td>1</td>\n",
       "      <td>0</td>\n",
       "      <td>0</td>\n",
       "      <td>0</td>\n",
       "    </tr>\n",
       "    <tr>\n",
       "      <th>3668-QPYBK</th>\n",
       "      <td>1</td>\n",
       "      <td>0</td>\n",
       "      <td>0</td>\n",
       "      <td>0</td>\n",
       "    </tr>\n",
       "    <tr>\n",
       "      <th>7795-CFOCW</th>\n",
       "      <td>1</td>\n",
       "      <td>0</td>\n",
       "      <td>0</td>\n",
       "      <td>0</td>\n",
       "    </tr>\n",
       "    <tr>\n",
       "      <th>9237-HQITU</th>\n",
       "      <td>0</td>\n",
       "      <td>0</td>\n",
       "      <td>0</td>\n",
       "      <td>0</td>\n",
       "    </tr>\n",
       "  </tbody>\n",
       "</table>\n",
       "</div>"
      ],
      "text/plain": [
       "            gender  SeniorCitizen  Partner  Dependents\n",
       "customerID                                            \n",
       "7590-VHVEG       0              0        1           0\n",
       "5575-GNVDE       1              0        0           0\n",
       "3668-QPYBK       1              0        0           0\n",
       "7795-CFOCW       1              0        0           0\n",
       "9237-HQITU       0              0        0           0"
      ]
     },
     "execution_count": 786,
     "metadata": {},
     "output_type": "execute_result"
    }
   ],
   "source": [
    "personal.head(5)"
   ]
  },
  {
   "cell_type": "code",
   "execution_count": 787,
   "id": "de4b411a",
   "metadata": {},
   "outputs": [
    {
     "data": {
      "image/png": "[encoded data removed]",
      "text/plain": [
       "<Figure size 576x576 with 1 Axes>"
      ]
     },
     "metadata": {},
     "output_type": "display_data"
    },
    {
     "data": {
      "image/png": "[encoded data removed]",
      "text/plain": [
       "<Figure size 576x576 with 1 Axes>"
      ]
     },
     "metadata": {},
     "output_type": "display_data"
    },
    {
     "data": {
      "image/png": "[encoded data removed]",
      "text/plain": [
       "<Figure size 576x576 with 1 Axes>"
      ]
     },
     "metadata": {},
     "output_type": "display_data"
    },
    {
     "data": {
      "image/png": "[encoded data removed]",
      "text/plain": [
       "<Figure size 576x576 with 1 Axes>"
      ]
     },
     "metadata": {},
     "output_type": "display_data"
    }
   ],
   "source": [
    "for column in list(personal.columns):\n",
    "    sns.countplot(x=personal[column]);\n",
    "    plt.show()"
   ]
  },
  {
   "cell_type": "markdown",
   "id": "638461d4",
   "metadata": {},
   "source": [
    "**По файлу personal:**\n",
    "\n",
    "- Всего 7043 записи по 4 столбцам-категориям, пропусков нет.\n",
    "- Привели все столбцы к формату int32\n",
    "- Имеется дисбаланс в столбцах Dependents (наличие иждивенцев), SeniorCitizen (наличие пенсионного статуса по возрасту). Для столбцов Gender (гендер) и Partner (наличие супруга) дисбаланса не наблюдаем."
   ]
  },
  {
   "cell_type": "markdown",
   "id": "1c17f3c0",
   "metadata": {},
   "source": [
    "### 1.3 Данные файла: Internet"
   ]
  },
  {
   "cell_type": "code",
   "execution_count": 788,
   "id": "0bee30ba",
   "metadata": {},
   "outputs": [
    {
     "data": {
      "text/html": [
       "<div>\n",
       "<style scoped>\n",
       "    .dataframe tbody tr th:only-of-type {\n",
       "        vertical-align: middle;\n",
       "    }\n",
       "\n",
       "    .dataframe tbody tr th {\n",
       "        vertical-align: top;\n",
       "    }\n",
       "\n",
       "    .dataframe thead th {\n",
       "        text-align: right;\n",
       "    }\n",
       "</style>\n",
       "<table border=\"1\" class=\"dataframe\">\n",
       "  <thead>\n",
       "    <tr style=\"text-align: right;\">\n",
       "      <th></th>\n",
       "      <th>InternetService</th>\n",
       "      <th>OnlineSecurity</th>\n",
       "      <th>OnlineBackup</th>\n",
       "      <th>DeviceProtection</th>\n",
       "      <th>TechSupport</th>\n",
       "      <th>StreamingTV</th>\n",
       "      <th>StreamingMovies</th>\n",
       "    </tr>\n",
       "    <tr>\n",
       "      <th>customerID</th>\n",
       "      <th></th>\n",
       "      <th></th>\n",
       "      <th></th>\n",
       "      <th></th>\n",
       "      <th></th>\n",
       "      <th></th>\n",
       "      <th></th>\n",
       "    </tr>\n",
       "  </thead>\n",
       "  <tbody>\n",
       "    <tr>\n",
       "      <th>7590-VHVEG</th>\n",
       "      <td>DSL</td>\n",
       "      <td>No</td>\n",
       "      <td>Yes</td>\n",
       "      <td>No</td>\n",
       "      <td>No</td>\n",
       "      <td>No</td>\n",
       "      <td>No</td>\n",
       "    </tr>\n",
       "    <tr>\n",
       "      <th>5575-GNVDE</th>\n",
       "      <td>DSL</td>\n",
       "      <td>Yes</td>\n",
       "      <td>No</td>\n",
       "      <td>Yes</td>\n",
       "      <td>No</td>\n",
       "      <td>No</td>\n",
       "      <td>No</td>\n",
       "    </tr>\n",
       "    <tr>\n",
       "      <th>3668-QPYBK</th>\n",
       "      <td>DSL</td>\n",
       "      <td>Yes</td>\n",
       "      <td>Yes</td>\n",
       "      <td>No</td>\n",
       "      <td>No</td>\n",
       "      <td>No</td>\n",
       "      <td>No</td>\n",
       "    </tr>\n",
       "    <tr>\n",
       "      <th>7795-CFOCW</th>\n",
       "      <td>DSL</td>\n",
       "      <td>Yes</td>\n",
       "      <td>No</td>\n",
       "      <td>Yes</td>\n",
       "      <td>Yes</td>\n",
       "      <td>No</td>\n",
       "      <td>No</td>\n",
       "    </tr>\n",
       "    <tr>\n",
       "      <th>9237-HQITU</th>\n",
       "      <td>Fiber optic</td>\n",
       "      <td>No</td>\n",
       "      <td>No</td>\n",
       "      <td>No</td>\n",
       "      <td>No</td>\n",
       "      <td>No</td>\n",
       "      <td>No</td>\n",
       "    </tr>\n",
       "  </tbody>\n",
       "</table>\n",
       "</div>"
      ],
      "text/plain": [
       "           InternetService OnlineSecurity OnlineBackup DeviceProtection  \\\n",
       "customerID                                                                \n",
       "7590-VHVEG             DSL             No          Yes               No   \n",
       "5575-GNVDE             DSL            Yes           No              Yes   \n",
       "3668-QPYBK             DSL            Yes          Yes               No   \n",
       "7795-CFOCW             DSL            Yes           No              Yes   \n",
       "9237-HQITU     Fiber optic             No           No               No   \n",
       "\n",
       "           TechSupport StreamingTV StreamingMovies  \n",
       "customerID                                          \n",
       "7590-VHVEG          No          No              No  \n",
       "5575-GNVDE          No          No              No  \n",
       "3668-QPYBK          No          No              No  \n",
       "7795-CFOCW         Yes          No              No  \n",
       "9237-HQITU          No          No              No  "
      ]
     },
     "execution_count": 788,
     "metadata": {},
     "output_type": "execute_result"
    }
   ],
   "source": [
    "internet.head(5)"
   ]
  },
  {
   "cell_type": "code",
   "execution_count": 789,
   "id": "5981e6a6",
   "metadata": {},
   "outputs": [
    {
     "data": {
      "text/html": [
       "<div>\n",
       "<style scoped>\n",
       "    .dataframe tbody tr th:only-of-type {\n",
       "        vertical-align: middle;\n",
       "    }\n",
       "\n",
       "    .dataframe tbody tr th {\n",
       "        vertical-align: top;\n",
       "    }\n",
       "\n",
       "    .dataframe thead th {\n",
       "        text-align: right;\n",
       "    }\n",
       "</style>\n",
       "<table border=\"1\" class=\"dataframe\">\n",
       "  <thead>\n",
       "    <tr style=\"text-align: right;\">\n",
       "      <th></th>\n",
       "      <th>InternetService</th>\n",
       "      <th>OnlineSecurity</th>\n",
       "      <th>OnlineBackup</th>\n",
       "      <th>DeviceProtection</th>\n",
       "      <th>TechSupport</th>\n",
       "      <th>StreamingTV</th>\n",
       "      <th>StreamingMovies</th>\n",
       "    </tr>\n",
       "    <tr>\n",
       "      <th>customerID</th>\n",
       "      <th></th>\n",
       "      <th></th>\n",
       "      <th></th>\n",
       "      <th></th>\n",
       "      <th></th>\n",
       "      <th></th>\n",
       "      <th></th>\n",
       "    </tr>\n",
       "  </thead>\n",
       "  <tbody>\n",
       "    <tr>\n",
       "      <th>6840-RESVB</th>\n",
       "      <td>DSL</td>\n",
       "      <td>Yes</td>\n",
       "      <td>No</td>\n",
       "      <td>Yes</td>\n",
       "      <td>Yes</td>\n",
       "      <td>Yes</td>\n",
       "      <td>Yes</td>\n",
       "    </tr>\n",
       "    <tr>\n",
       "      <th>2234-XADUH</th>\n",
       "      <td>Fiber optic</td>\n",
       "      <td>No</td>\n",
       "      <td>Yes</td>\n",
       "      <td>Yes</td>\n",
       "      <td>No</td>\n",
       "      <td>Yes</td>\n",
       "      <td>Yes</td>\n",
       "    </tr>\n",
       "    <tr>\n",
       "      <th>4801-JZAZL</th>\n",
       "      <td>DSL</td>\n",
       "      <td>Yes</td>\n",
       "      <td>No</td>\n",
       "      <td>No</td>\n",
       "      <td>No</td>\n",
       "      <td>No</td>\n",
       "      <td>No</td>\n",
       "    </tr>\n",
       "    <tr>\n",
       "      <th>8361-LTMKD</th>\n",
       "      <td>Fiber optic</td>\n",
       "      <td>No</td>\n",
       "      <td>No</td>\n",
       "      <td>No</td>\n",
       "      <td>No</td>\n",
       "      <td>No</td>\n",
       "      <td>No</td>\n",
       "    </tr>\n",
       "    <tr>\n",
       "      <th>3186-AJIEK</th>\n",
       "      <td>Fiber optic</td>\n",
       "      <td>Yes</td>\n",
       "      <td>No</td>\n",
       "      <td>Yes</td>\n",
       "      <td>Yes</td>\n",
       "      <td>Yes</td>\n",
       "      <td>Yes</td>\n",
       "    </tr>\n",
       "  </tbody>\n",
       "</table>\n",
       "</div>"
      ],
      "text/plain": [
       "           InternetService OnlineSecurity OnlineBackup DeviceProtection  \\\n",
       "customerID                                                                \n",
       "6840-RESVB             DSL            Yes           No              Yes   \n",
       "2234-XADUH     Fiber optic             No          Yes              Yes   \n",
       "4801-JZAZL             DSL            Yes           No               No   \n",
       "8361-LTMKD     Fiber optic             No           No               No   \n",
       "3186-AJIEK     Fiber optic            Yes           No              Yes   \n",
       "\n",
       "           TechSupport StreamingTV StreamingMovies  \n",
       "customerID                                          \n",
       "6840-RESVB         Yes         Yes             Yes  \n",
       "2234-XADUH          No         Yes             Yes  \n",
       "4801-JZAZL          No          No              No  \n",
       "8361-LTMKD          No          No              No  \n",
       "3186-AJIEK         Yes         Yes             Yes  "
      ]
     },
     "execution_count": 789,
     "metadata": {},
     "output_type": "execute_result"
    }
   ],
   "source": [
    "internet.tail(5)"
   ]
  },
  {
   "cell_type": "code",
   "execution_count": 790,
   "id": "c5add85a",
   "metadata": {},
   "outputs": [
    {
     "data": {
      "text/html": [
       "<div>\n",
       "<style scoped>\n",
       "    .dataframe tbody tr th:only-of-type {\n",
       "        vertical-align: middle;\n",
       "    }\n",
       "\n",
       "    .dataframe tbody tr th {\n",
       "        vertical-align: top;\n",
       "    }\n",
       "\n",
       "    .dataframe thead th {\n",
       "        text-align: right;\n",
       "    }\n",
       "</style>\n",
       "<table border=\"1\" class=\"dataframe\">\n",
       "  <thead>\n",
       "    <tr style=\"text-align: right;\">\n",
       "      <th></th>\n",
       "      <th>InternetService</th>\n",
       "      <th>OnlineSecurity</th>\n",
       "      <th>OnlineBackup</th>\n",
       "      <th>DeviceProtection</th>\n",
       "      <th>TechSupport</th>\n",
       "      <th>StreamingTV</th>\n",
       "      <th>StreamingMovies</th>\n",
       "    </tr>\n",
       "    <tr>\n",
       "      <th>customerID</th>\n",
       "      <th></th>\n",
       "      <th></th>\n",
       "      <th></th>\n",
       "      <th></th>\n",
       "      <th></th>\n",
       "      <th></th>\n",
       "      <th></th>\n",
       "    </tr>\n",
       "  </thead>\n",
       "  <tbody>\n",
       "    <tr>\n",
       "      <th>8152-VETUR</th>\n",
       "      <td>Fiber optic</td>\n",
       "      <td>No</td>\n",
       "      <td>Yes</td>\n",
       "      <td>No</td>\n",
       "      <td>No</td>\n",
       "      <td>Yes</td>\n",
       "      <td>Yes</td>\n",
       "    </tr>\n",
       "  </tbody>\n",
       "</table>\n",
       "</div>"
      ],
      "text/plain": [
       "           InternetService OnlineSecurity OnlineBackup DeviceProtection  \\\n",
       "customerID                                                                \n",
       "8152-VETUR     Fiber optic             No          Yes               No   \n",
       "\n",
       "           TechSupport StreamingTV StreamingMovies  \n",
       "customerID                                          \n",
       "8152-VETUR          No         Yes             Yes  "
      ]
     },
     "execution_count": 790,
     "metadata": {},
     "output_type": "execute_result"
    }
   ],
   "source": [
    "internet.sample()"
   ]
  },
  {
   "cell_type": "code",
   "execution_count": 791,
   "id": "3e2b94aa",
   "metadata": {},
   "outputs": [
    {
     "data": {
      "text/plain": [
       "(5517, 7)"
      ]
     },
     "execution_count": 791,
     "metadata": {},
     "output_type": "execute_result"
    }
   ],
   "source": [
    "internet.shape"
   ]
  },
  {
   "cell_type": "code",
   "execution_count": 792,
   "id": "d76fa4b8",
   "metadata": {},
   "outputs": [
    {
     "name": "stdout",
     "output_type": "stream",
     "text": [
      "<class 'pandas.core.frame.DataFrame'>\n",
      "Index: 5517 entries, 7590-VHVEG to 3186-AJIEK\n",
      "Data columns (total 7 columns):\n",
      " #   Column            Non-Null Count  Dtype \n",
      "---  ------            --------------  ----- \n",
      " 0   InternetService   5517 non-null   object\n",
      " 1   OnlineSecurity    5517 non-null   object\n",
      " 2   OnlineBackup      5517 non-null   object\n",
      " 3   DeviceProtection  5517 non-null   object\n",
      " 4   TechSupport       5517 non-null   object\n",
      " 5   StreamingTV       5517 non-null   object\n",
      " 6   StreamingMovies   5517 non-null   object\n",
      "dtypes: object(7)\n",
      "memory usage: 344.8+ KB\n"
     ]
    }
   ],
   "source": [
    "internet.info()"
   ]
  },
  {
   "cell_type": "code",
   "execution_count": 793,
   "id": "1b03c46b",
   "metadata": {},
   "outputs": [],
   "source": [
    "internet_list_to_func = list(internet.columns)\n",
    "internet_list_to_func.remove('InternetService')\n",
    "\n",
    "yes_no_to_int32(internet, internet_list_to_func)"
   ]
  },
  {
   "cell_type": "code",
   "execution_count": 794,
   "id": "aca318a0",
   "metadata": {},
   "outputs": [],
   "source": [
    "internet['InternetService'] = (internet['InternetService'] == 'Fiber optic').astype('int32')"
   ]
  },
  {
   "cell_type": "code",
   "execution_count": 795,
   "id": "ccd91c8d",
   "metadata": {},
   "outputs": [
    {
     "name": "stdout",
     "output_type": "stream",
     "text": [
      "<class 'pandas.core.frame.DataFrame'>\n",
      "Index: 5517 entries, 7590-VHVEG to 3186-AJIEK\n",
      "Data columns (total 7 columns):\n",
      " #   Column            Non-Null Count  Dtype\n",
      "---  ------            --------------  -----\n",
      " 0   InternetService   5517 non-null   int32\n",
      " 1   OnlineSecurity    5517 non-null   int32\n",
      " 2   OnlineBackup      5517 non-null   int32\n",
      " 3   DeviceProtection  5517 non-null   int32\n",
      " 4   TechSupport       5517 non-null   int32\n",
      " 5   StreamingTV       5517 non-null   int32\n",
      " 6   StreamingMovies   5517 non-null   int32\n",
      "dtypes: int32(7)\n",
      "memory usage: 194.0+ KB\n"
     ]
    }
   ],
   "source": [
    "internet.info()"
   ]
  },
  {
   "cell_type": "code",
   "execution_count": 796,
   "id": "a751a03b",
   "metadata": {},
   "outputs": [
    {
     "data": {
      "text/html": [
       "<div>\n",
       "<style scoped>\n",
       "    .dataframe tbody tr th:only-of-type {\n",
       "        vertical-align: middle;\n",
       "    }\n",
       "\n",
       "    .dataframe tbody tr th {\n",
       "        vertical-align: top;\n",
       "    }\n",
       "\n",
       "    .dataframe thead th {\n",
       "        text-align: right;\n",
       "    }\n",
       "</style>\n",
       "<table border=\"1\" class=\"dataframe\">\n",
       "  <thead>\n",
       "    <tr style=\"text-align: right;\">\n",
       "      <th></th>\n",
       "      <th>InternetService</th>\n",
       "      <th>OnlineSecurity</th>\n",
       "      <th>OnlineBackup</th>\n",
       "      <th>DeviceProtection</th>\n",
       "      <th>TechSupport</th>\n",
       "      <th>StreamingTV</th>\n",
       "      <th>StreamingMovies</th>\n",
       "    </tr>\n",
       "    <tr>\n",
       "      <th>customerID</th>\n",
       "      <th></th>\n",
       "      <th></th>\n",
       "      <th></th>\n",
       "      <th></th>\n",
       "      <th></th>\n",
       "      <th></th>\n",
       "      <th></th>\n",
       "    </tr>\n",
       "  </thead>\n",
       "  <tbody>\n",
       "    <tr>\n",
       "      <th>7590-VHVEG</th>\n",
       "      <td>0</td>\n",
       "      <td>0</td>\n",
       "      <td>1</td>\n",
       "      <td>0</td>\n",
       "      <td>0</td>\n",
       "      <td>0</td>\n",
       "      <td>0</td>\n",
       "    </tr>\n",
       "    <tr>\n",
       "      <th>5575-GNVDE</th>\n",
       "      <td>0</td>\n",
       "      <td>1</td>\n",
       "      <td>0</td>\n",
       "      <td>1</td>\n",
       "      <td>0</td>\n",
       "      <td>0</td>\n",
       "      <td>0</td>\n",
       "    </tr>\n",
       "    <tr>\n",
       "      <th>3668-QPYBK</th>\n",
       "      <td>0</td>\n",
       "      <td>1</td>\n",
       "      <td>1</td>\n",
       "      <td>0</td>\n",
       "      <td>0</td>\n",
       "      <td>0</td>\n",
       "      <td>0</td>\n",
       "    </tr>\n",
       "    <tr>\n",
       "      <th>7795-CFOCW</th>\n",
       "      <td>0</td>\n",
       "      <td>1</td>\n",
       "      <td>0</td>\n",
       "      <td>1</td>\n",
       "      <td>1</td>\n",
       "      <td>0</td>\n",
       "      <td>0</td>\n",
       "    </tr>\n",
       "    <tr>\n",
       "      <th>9237-HQITU</th>\n",
       "      <td>1</td>\n",
       "      <td>0</td>\n",
       "      <td>0</td>\n",
       "      <td>0</td>\n",
       "      <td>0</td>\n",
       "      <td>0</td>\n",
       "      <td>0</td>\n",
       "    </tr>\n",
       "  </tbody>\n",
       "</table>\n",
       "</div>"
      ],
      "text/plain": [
       "            InternetService  OnlineSecurity  OnlineBackup  DeviceProtection  \\\n",
       "customerID                                                                    \n",
       "7590-VHVEG                0               0             1                 0   \n",
       "5575-GNVDE                0               1             0                 1   \n",
       "3668-QPYBK                0               1             1                 0   \n",
       "7795-CFOCW                0               1             0                 1   \n",
       "9237-HQITU                1               0             0                 0   \n",
       "\n",
       "            TechSupport  StreamingTV  StreamingMovies  \n",
       "customerID                                             \n",
       "7590-VHVEG            0            0                0  \n",
       "5575-GNVDE            0            0                0  \n",
       "3668-QPYBK            0            0                0  \n",
       "7795-CFOCW            1            0                0  \n",
       "9237-HQITU            0            0                0  "
      ]
     },
     "execution_count": 796,
     "metadata": {},
     "output_type": "execute_result"
    }
   ],
   "source": [
    "internet.head(5)"
   ]
  },
  {
   "cell_type": "code",
   "execution_count": 797,
   "id": "5f5c8c71",
   "metadata": {},
   "outputs": [
    {
     "data": {
      "image/png": "[encoded data removed]",
      "text/plain": [
       "<Figure size 576x576 with 1 Axes>"
      ]
     },
     "metadata": {},
     "output_type": "display_data"
    },
    {
     "data": {
      "image/png": "[encoded data removed]",
      "text/plain": [
       "<Figure size 576x576 with 1 Axes>"
      ]
     },
     "metadata": {},
     "output_type": "display_data"
    },
    {
     "data": {
      "image/png": "[encoded data removed]",
      "text/plain": [
       "<Figure size 576x576 with 1 Axes>"
      ]
     },
     "metadata": {},
     "output_type": "display_data"
    },
    {
     "data": {
      "image/png": "[encoded data removed]",
      "text/plain": [
       "<Figure size 576x576 with 1 Axes>"
      ]
     },
     "metadata": {},
     "output_type": "display_data"
    },
    {
     "data": {
      "image/png": "[encoded data removed]",
      "text/plain": [
       "<Figure size 576x576 with 1 Axes>"
      ]
     },
     "metadata": {},
     "output_type": "display_data"
    },
    {
     "data": {
      "image/png": "[encoded data removed]",
      "text/plain": [
       "<Figure size 576x576 with 1 Axes>"
      ]
     },
     "metadata": {},
     "output_type": "display_data"
    },
    {
     "data": {
      "image/png": "[encoded data removed]",
      "text/plain": [
       "<Figure size 576x576 with 1 Axes>"
      ]
     },
     "metadata": {},
     "output_type": "display_data"
    }
   ],
   "source": [
    "for column in list(internet.columns):\n",
    "    sns.countplot(x=internet[column]);\n",
    "    plt.show()"
   ]
  },
  {
   "cell_type": "markdown",
   "id": "340fe553",
   "metadata": {},
   "source": [
    "**По файлу internet:**\n",
    "\n",
    "- Всего 5517 записи по 7 столбцам-категориям, пропусков нет.\n",
    "- Привели все столбцы к формату int32\n",
    "- Количество пользователей, использующих Fiber optic, больше чем тех, кто использует DSL\n",
    "- Имеется значительный дисбаланс (примерно в 2 раза, больше тех кто не используется услугу) в столбцах OnlineSecurity, TechSupport, незначительный дисбаланс (также больше тех, кто не используется услугу) в столбцах OnlineBackup, DeviceProtection. Для столбцов StreamingTV и StreamingMovies дисбаланса не наблюдается."
   ]
  },
  {
   "cell_type": "markdown",
   "id": "c8feea45",
   "metadata": {},
   "source": [
    "### 1.4 Данные файла: Phone"
   ]
  },
  {
   "cell_type": "code",
   "execution_count": 798,
   "id": "8fd2ab81",
   "metadata": {},
   "outputs": [
    {
     "data": {
      "text/html": [
       "<div>\n",
       "<style scoped>\n",
       "    .dataframe tbody tr th:only-of-type {\n",
       "        vertical-align: middle;\n",
       "    }\n",
       "\n",
       "    .dataframe tbody tr th {\n",
       "        vertical-align: top;\n",
       "    }\n",
       "\n",
       "    .dataframe thead th {\n",
       "        text-align: right;\n",
       "    }\n",
       "</style>\n",
       "<table border=\"1\" class=\"dataframe\">\n",
       "  <thead>\n",
       "    <tr style=\"text-align: right;\">\n",
       "      <th></th>\n",
       "      <th>MultipleLines</th>\n",
       "    </tr>\n",
       "    <tr>\n",
       "      <th>customerID</th>\n",
       "      <th></th>\n",
       "    </tr>\n",
       "  </thead>\n",
       "  <tbody>\n",
       "    <tr>\n",
       "      <th>5575-GNVDE</th>\n",
       "      <td>No</td>\n",
       "    </tr>\n",
       "    <tr>\n",
       "      <th>3668-QPYBK</th>\n",
       "      <td>No</td>\n",
       "    </tr>\n",
       "    <tr>\n",
       "      <th>9237-HQITU</th>\n",
       "      <td>No</td>\n",
       "    </tr>\n",
       "    <tr>\n",
       "      <th>9305-CDSKC</th>\n",
       "      <td>Yes</td>\n",
       "    </tr>\n",
       "    <tr>\n",
       "      <th>1452-KIOVK</th>\n",
       "      <td>Yes</td>\n",
       "    </tr>\n",
       "  </tbody>\n",
       "</table>\n",
       "</div>"
      ],
      "text/plain": [
       "           MultipleLines\n",
       "customerID              \n",
       "5575-GNVDE            No\n",
       "3668-QPYBK            No\n",
       "9237-HQITU            No\n",
       "9305-CDSKC           Yes\n",
       "1452-KIOVK           Yes"
      ]
     },
     "execution_count": 798,
     "metadata": {},
     "output_type": "execute_result"
    }
   ],
   "source": [
    "phone.head(5)"
   ]
  },
  {
   "cell_type": "code",
   "execution_count": 799,
   "id": "ee17db99",
   "metadata": {},
   "outputs": [
    {
     "data": {
      "text/html": [
       "<div>\n",
       "<style scoped>\n",
       "    .dataframe tbody tr th:only-of-type {\n",
       "        vertical-align: middle;\n",
       "    }\n",
       "\n",
       "    .dataframe tbody tr th {\n",
       "        vertical-align: top;\n",
       "    }\n",
       "\n",
       "    .dataframe thead th {\n",
       "        text-align: right;\n",
       "    }\n",
       "</style>\n",
       "<table border=\"1\" class=\"dataframe\">\n",
       "  <thead>\n",
       "    <tr style=\"text-align: right;\">\n",
       "      <th></th>\n",
       "      <th>MultipleLines</th>\n",
       "    </tr>\n",
       "    <tr>\n",
       "      <th>customerID</th>\n",
       "      <th></th>\n",
       "    </tr>\n",
       "  </thead>\n",
       "  <tbody>\n",
       "    <tr>\n",
       "      <th>2569-WGERO</th>\n",
       "      <td>No</td>\n",
       "    </tr>\n",
       "    <tr>\n",
       "      <th>6840-RESVB</th>\n",
       "      <td>Yes</td>\n",
       "    </tr>\n",
       "    <tr>\n",
       "      <th>2234-XADUH</th>\n",
       "      <td>Yes</td>\n",
       "    </tr>\n",
       "    <tr>\n",
       "      <th>8361-LTMKD</th>\n",
       "      <td>Yes</td>\n",
       "    </tr>\n",
       "    <tr>\n",
       "      <th>3186-AJIEK</th>\n",
       "      <td>No</td>\n",
       "    </tr>\n",
       "  </tbody>\n",
       "</table>\n",
       "</div>"
      ],
      "text/plain": [
       "           MultipleLines\n",
       "customerID              \n",
       "2569-WGERO            No\n",
       "6840-RESVB           Yes\n",
       "2234-XADUH           Yes\n",
       "8361-LTMKD           Yes\n",
       "3186-AJIEK            No"
      ]
     },
     "execution_count": 799,
     "metadata": {},
     "output_type": "execute_result"
    }
   ],
   "source": [
    "phone.tail(5)"
   ]
  },
  {
   "cell_type": "code",
   "execution_count": 800,
   "id": "69a18f09",
   "metadata": {},
   "outputs": [
    {
     "data": {
      "text/html": [
       "<div>\n",
       "<style scoped>\n",
       "    .dataframe tbody tr th:only-of-type {\n",
       "        vertical-align: middle;\n",
       "    }\n",
       "\n",
       "    .dataframe tbody tr th {\n",
       "        vertical-align: top;\n",
       "    }\n",
       "\n",
       "    .dataframe thead th {\n",
       "        text-align: right;\n",
       "    }\n",
       "</style>\n",
       "<table border=\"1\" class=\"dataframe\">\n",
       "  <thead>\n",
       "    <tr style=\"text-align: right;\">\n",
       "      <th></th>\n",
       "      <th>MultipleLines</th>\n",
       "    </tr>\n",
       "    <tr>\n",
       "      <th>customerID</th>\n",
       "      <th></th>\n",
       "    </tr>\n",
       "  </thead>\n",
       "  <tbody>\n",
       "    <tr>\n",
       "      <th>6013-BHCAW</th>\n",
       "      <td>Yes</td>\n",
       "    </tr>\n",
       "  </tbody>\n",
       "</table>\n",
       "</div>"
      ],
      "text/plain": [
       "           MultipleLines\n",
       "customerID              \n",
       "6013-BHCAW           Yes"
      ]
     },
     "execution_count": 800,
     "metadata": {},
     "output_type": "execute_result"
    }
   ],
   "source": [
    "phone.sample()"
   ]
  },
  {
   "cell_type": "code",
   "execution_count": 801,
   "id": "f809b5b2",
   "metadata": {},
   "outputs": [
    {
     "data": {
      "text/plain": [
       "(6361, 1)"
      ]
     },
     "execution_count": 801,
     "metadata": {},
     "output_type": "execute_result"
    }
   ],
   "source": [
    "phone.shape"
   ]
  },
  {
   "cell_type": "code",
   "execution_count": 802,
   "id": "37727bcb",
   "metadata": {},
   "outputs": [
    {
     "name": "stdout",
     "output_type": "stream",
     "text": [
      "<class 'pandas.core.frame.DataFrame'>\n",
      "Index: 6361 entries, 5575-GNVDE to 3186-AJIEK\n",
      "Data columns (total 1 columns):\n",
      " #   Column         Non-Null Count  Dtype \n",
      "---  ------         --------------  ----- \n",
      " 0   MultipleLines  6361 non-null   object\n",
      "dtypes: object(1)\n",
      "memory usage: 99.4+ KB\n"
     ]
    }
   ],
   "source": [
    "phone.info()"
   ]
  },
  {
   "cell_type": "code",
   "execution_count": 803,
   "id": "6f3a7b1f",
   "metadata": {},
   "outputs": [],
   "source": [
    "yes_no_to_int32(phone, list(phone.columns))"
   ]
  },
  {
   "cell_type": "code",
   "execution_count": 804,
   "id": "dfeaa8b8",
   "metadata": {},
   "outputs": [
    {
     "name": "stdout",
     "output_type": "stream",
     "text": [
      "<class 'pandas.core.frame.DataFrame'>\n",
      "Index: 6361 entries, 5575-GNVDE to 3186-AJIEK\n",
      "Data columns (total 1 columns):\n",
      " #   Column         Non-Null Count  Dtype\n",
      "---  ------         --------------  -----\n",
      " 0   MultipleLines  6361 non-null   int32\n",
      "dtypes: int32(1)\n",
      "memory usage: 74.5+ KB\n"
     ]
    }
   ],
   "source": [
    "phone.info()"
   ]
  },
  {
   "cell_type": "code",
   "execution_count": 805,
   "id": "7f701aeb",
   "metadata": {},
   "outputs": [
    {
     "data": {
      "text/html": [
       "<div>\n",
       "<style scoped>\n",
       "    .dataframe tbody tr th:only-of-type {\n",
       "        vertical-align: middle;\n",
       "    }\n",
       "\n",
       "    .dataframe tbody tr th {\n",
       "        vertical-align: top;\n",
       "    }\n",
       "\n",
       "    .dataframe thead th {\n",
       "        text-align: right;\n",
       "    }\n",
       "</style>\n",
       "<table border=\"1\" class=\"dataframe\">\n",
       "  <thead>\n",
       "    <tr style=\"text-align: right;\">\n",
       "      <th></th>\n",
       "      <th>MultipleLines</th>\n",
       "    </tr>\n",
       "    <tr>\n",
       "      <th>customerID</th>\n",
       "      <th></th>\n",
       "    </tr>\n",
       "  </thead>\n",
       "  <tbody>\n",
       "    <tr>\n",
       "      <th>5575-GNVDE</th>\n",
       "      <td>0</td>\n",
       "    </tr>\n",
       "    <tr>\n",
       "      <th>3668-QPYBK</th>\n",
       "      <td>0</td>\n",
       "    </tr>\n",
       "    <tr>\n",
       "      <th>9237-HQITU</th>\n",
       "      <td>0</td>\n",
       "    </tr>\n",
       "    <tr>\n",
       "      <th>9305-CDSKC</th>\n",
       "      <td>1</td>\n",
       "    </tr>\n",
       "    <tr>\n",
       "      <th>1452-KIOVK</th>\n",
       "      <td>1</td>\n",
       "    </tr>\n",
       "  </tbody>\n",
       "</table>\n",
       "</div>"
      ],
      "text/plain": [
       "            MultipleLines\n",
       "customerID               \n",
       "5575-GNVDE              0\n",
       "3668-QPYBK              0\n",
       "9237-HQITU              0\n",
       "9305-CDSKC              1\n",
       "1452-KIOVK              1"
      ]
     },
     "execution_count": 805,
     "metadata": {},
     "output_type": "execute_result"
    }
   ],
   "source": [
    "phone.head(5)"
   ]
  },
  {
   "cell_type": "code",
   "execution_count": 806,
   "id": "38cd66d8",
   "metadata": {},
   "outputs": [
    {
     "data": {
      "image/png": "[encoded data removed]",
      "text/plain": [
       "<Figure size 576x576 with 1 Axes>"
      ]
     },
     "metadata": {},
     "output_type": "display_data"
    }
   ],
   "source": [
    "sns.countplot(x=phone['MultipleLines']);"
   ]
  },
  {
   "cell_type": "markdown",
   "id": "13e011eb",
   "metadata": {},
   "source": [
    "**По файлу phone:**\n",
    "\n",
    "- Всего 6361 записи по 1 столбцу-категории, пропусков нет.\n",
    "- Привели все столбцы к формату int32\n",
    "- Имеется незначительный дисбаланс (больше тех, кто не используется услугу) в столбце MultipleLines."
   ]
  },
  {
   "cell_type": "markdown",
   "id": "31f4c899",
   "metadata": {},
   "source": [
    "### 1.5 Объединение данных"
   ]
  },
  {
   "cell_type": "markdown",
   "id": "369b6563",
   "metadata": {},
   "source": [
    "**Объедими по индексу пользователя рассмотренные выше файлы в один с помощью метода join. Посмотрим, как распределяются данные файлов personal, internet, phone для разных значений столбца exited.**"
   ]
  },
  {
   "cell_type": "code",
   "execution_count": 807,
   "id": "0f8078e1",
   "metadata": {},
   "outputs": [],
   "source": [
    "df = contract.join(personal).join(internet).join(phone)"
   ]
  },
  {
   "cell_type": "code",
   "execution_count": 808,
   "id": "9fa30793",
   "metadata": {},
   "outputs": [
    {
     "data": {
      "text/html": [
       "<div>\n",
       "<style scoped>\n",
       "    .dataframe tbody tr th:only-of-type {\n",
       "        vertical-align: middle;\n",
       "    }\n",
       "\n",
       "    .dataframe tbody tr th {\n",
       "        vertical-align: top;\n",
       "    }\n",
       "\n",
       "    .dataframe thead th {\n",
       "        text-align: right;\n",
       "    }\n",
       "</style>\n",
       "<table border=\"1\" class=\"dataframe\">\n",
       "  <thead>\n",
       "    <tr style=\"text-align: right;\">\n",
       "      <th></th>\n",
       "      <th>Type</th>\n",
       "      <th>PaperlessBilling</th>\n",
       "      <th>PaymentMethod</th>\n",
       "      <th>MonthlyCharges</th>\n",
       "      <th>TotalCharges</th>\n",
       "      <th>days_count</th>\n",
       "      <th>exited</th>\n",
       "      <th>gender</th>\n",
       "      <th>SeniorCitizen</th>\n",
       "      <th>Partner</th>\n",
       "      <th>Dependents</th>\n",
       "      <th>InternetService</th>\n",
       "      <th>OnlineSecurity</th>\n",
       "      <th>OnlineBackup</th>\n",
       "      <th>DeviceProtection</th>\n",
       "      <th>TechSupport</th>\n",
       "      <th>StreamingTV</th>\n",
       "      <th>StreamingMovies</th>\n",
       "      <th>MultipleLines</th>\n",
       "    </tr>\n",
       "    <tr>\n",
       "      <th>customerID</th>\n",
       "      <th></th>\n",
       "      <th></th>\n",
       "      <th></th>\n",
       "      <th></th>\n",
       "      <th></th>\n",
       "      <th></th>\n",
       "      <th></th>\n",
       "      <th></th>\n",
       "      <th></th>\n",
       "      <th></th>\n",
       "      <th></th>\n",
       "      <th></th>\n",
       "      <th></th>\n",
       "      <th></th>\n",
       "      <th></th>\n",
       "      <th></th>\n",
       "      <th></th>\n",
       "      <th></th>\n",
       "      <th></th>\n",
       "    </tr>\n",
       "  </thead>\n",
       "  <tbody>\n",
       "    <tr>\n",
       "      <th>7590-VHVEG</th>\n",
       "      <td>0</td>\n",
       "      <td>1</td>\n",
       "      <td>0</td>\n",
       "      <td>29.85</td>\n",
       "      <td>29.85</td>\n",
       "      <td>31.0</td>\n",
       "      <td>0</td>\n",
       "      <td>0</td>\n",
       "      <td>0</td>\n",
       "      <td>1</td>\n",
       "      <td>0</td>\n",
       "      <td>0.0</td>\n",
       "      <td>0.0</td>\n",
       "      <td>1.0</td>\n",
       "      <td>0.0</td>\n",
       "      <td>0.0</td>\n",
       "      <td>0.0</td>\n",
       "      <td>0.0</td>\n",
       "      <td>NaN</td>\n",
       "    </tr>\n",
       "    <tr>\n",
       "      <th>5575-GNVDE</th>\n",
       "      <td>1</td>\n",
       "      <td>0</td>\n",
       "      <td>1</td>\n",
       "      <td>56.95</td>\n",
       "      <td>1889.50</td>\n",
       "      <td>1036.0</td>\n",
       "      <td>0</td>\n",
       "      <td>1</td>\n",
       "      <td>0</td>\n",
       "      <td>0</td>\n",
       "      <td>0</td>\n",
       "      <td>0.0</td>\n",
       "      <td>1.0</td>\n",
       "      <td>0.0</td>\n",
       "      <td>1.0</td>\n",
       "      <td>0.0</td>\n",
       "      <td>0.0</td>\n",
       "      <td>0.0</td>\n",
       "      <td>0.0</td>\n",
       "    </tr>\n",
       "    <tr>\n",
       "      <th>3668-QPYBK</th>\n",
       "      <td>0</td>\n",
       "      <td>1</td>\n",
       "      <td>1</td>\n",
       "      <td>53.85</td>\n",
       "      <td>108.15</td>\n",
       "      <td>61.0</td>\n",
       "      <td>1</td>\n",
       "      <td>1</td>\n",
       "      <td>0</td>\n",
       "      <td>0</td>\n",
       "      <td>0</td>\n",
       "      <td>0.0</td>\n",
       "      <td>1.0</td>\n",
       "      <td>1.0</td>\n",
       "      <td>0.0</td>\n",
       "      <td>0.0</td>\n",
       "      <td>0.0</td>\n",
       "      <td>0.0</td>\n",
       "      <td>0.0</td>\n",
       "    </tr>\n",
       "    <tr>\n",
       "      <th>7795-CFOCW</th>\n",
       "      <td>1</td>\n",
       "      <td>0</td>\n",
       "      <td>2</td>\n",
       "      <td>42.30</td>\n",
       "      <td>1840.75</td>\n",
       "      <td>1371.0</td>\n",
       "      <td>0</td>\n",
       "      <td>1</td>\n",
       "      <td>0</td>\n",
       "      <td>0</td>\n",
       "      <td>0</td>\n",
       "      <td>0.0</td>\n",
       "      <td>1.0</td>\n",
       "      <td>0.0</td>\n",
       "      <td>1.0</td>\n",
       "      <td>1.0</td>\n",
       "      <td>0.0</td>\n",
       "      <td>0.0</td>\n",
       "      <td>NaN</td>\n",
       "    </tr>\n",
       "    <tr>\n",
       "      <th>9237-HQITU</th>\n",
       "      <td>0</td>\n",
       "      <td>1</td>\n",
       "      <td>0</td>\n",
       "      <td>70.70</td>\n",
       "      <td>151.65</td>\n",
       "      <td>61.0</td>\n",
       "      <td>1</td>\n",
       "      <td>0</td>\n",
       "      <td>0</td>\n",
       "      <td>0</td>\n",
       "      <td>0</td>\n",
       "      <td>1.0</td>\n",
       "      <td>0.0</td>\n",
       "      <td>0.0</td>\n",
       "      <td>0.0</td>\n",
       "      <td>0.0</td>\n",
       "      <td>0.0</td>\n",
       "      <td>0.0</td>\n",
       "      <td>0.0</td>\n",
       "    </tr>\n",
       "  </tbody>\n",
       "</table>\n",
       "</div>"
      ],
      "text/plain": [
       "            Type  PaperlessBilling  PaymentMethod  MonthlyCharges  \\\n",
       "customerID                                                          \n",
       "7590-VHVEG     0                 1              0           29.85   \n",
       "5575-GNVDE     1                 0              1           56.95   \n",
       "3668-QPYBK     0                 1              1           53.85   \n",
       "7795-CFOCW     1                 0              2           42.30   \n",
       "9237-HQITU     0                 1              0           70.70   \n",
       "\n",
       "            TotalCharges  days_count  exited  gender  SeniorCitizen  Partner  \\\n",
       "customerID                                                                     \n",
       "7590-VHVEG         29.85        31.0       0       0              0        1   \n",
       "5575-GNVDE       1889.50      1036.0       0       1              0        0   \n",
       "3668-QPYBK        108.15        61.0       1       1              0        0   \n",
       "7795-CFOCW       1840.75      1371.0       0       1              0        0   \n",
       "9237-HQITU        151.65        61.0       1       0              0        0   \n",
       "\n",
       "            Dependents  InternetService  OnlineSecurity  OnlineBackup  \\\n",
       "customerID                                                              \n",
       "7590-VHVEG           0              0.0             0.0           1.0   \n",
       "5575-GNVDE           0              0.0             1.0           0.0   \n",
       "3668-QPYBK           0              0.0             1.0           1.0   \n",
       "7795-CFOCW           0              0.0             1.0           0.0   \n",
       "9237-HQITU           0              1.0             0.0           0.0   \n",
       "\n",
       "            DeviceProtection  TechSupport  StreamingTV  StreamingMovies  \\\n",
       "customerID                                                                \n",
       "7590-VHVEG               0.0          0.0          0.0              0.0   \n",
       "5575-GNVDE               1.0          0.0          0.0              0.0   \n",
       "3668-QPYBK               0.0          0.0          0.0              0.0   \n",
       "7795-CFOCW               1.0          1.0          0.0              0.0   \n",
       "9237-HQITU               0.0          0.0          0.0              0.0   \n",
       "\n",
       "            MultipleLines  \n",
       "customerID                 \n",
       "7590-VHVEG            NaN  \n",
       "5575-GNVDE            0.0  \n",
       "3668-QPYBK            0.0  \n",
       "7795-CFOCW            NaN  \n",
       "9237-HQITU            0.0  "
      ]
     },
     "execution_count": 808,
     "metadata": {},
     "output_type": "execute_result"
    }
   ],
   "source": [
    "df.head(5)"
   ]
  },
  {
   "cell_type": "code",
   "execution_count": 809,
   "id": "a54bcef5",
   "metadata": {},
   "outputs": [
    {
     "name": "stdout",
     "output_type": "stream",
     "text": [
      "<class 'pandas.core.frame.DataFrame'>\n",
      "Index: 7043 entries, 7590-VHVEG to 3186-AJIEK\n",
      "Data columns (total 19 columns):\n",
      " #   Column            Non-Null Count  Dtype  \n",
      "---  ------            --------------  -----  \n",
      " 0   Type              7043 non-null   int32  \n",
      " 1   PaperlessBilling  7043 non-null   int32  \n",
      " 2   PaymentMethod     7043 non-null   int32  \n",
      " 3   MonthlyCharges    7043 non-null   float64\n",
      " 4   TotalCharges      7032 non-null   float64\n",
      " 5   days_count        7043 non-null   float64\n",
      " 6   exited            7043 non-null   int32  \n",
      " 7   gender            7043 non-null   int32  \n",
      " 8   SeniorCitizen     7043 non-null   int32  \n",
      " 9   Partner           7043 non-null   int32  \n",
      " 10  Dependents        7043 non-null   int32  \n",
      " 11  InternetService   5517 non-null   float64\n",
      " 12  OnlineSecurity    5517 non-null   float64\n",
      " 13  OnlineBackup      5517 non-null   float64\n",
      " 14  DeviceProtection  5517 non-null   float64\n",
      " 15  TechSupport       5517 non-null   float64\n",
      " 16  StreamingTV       5517 non-null   float64\n",
      " 17  StreamingMovies   5517 non-null   float64\n",
      " 18  MultipleLines     6361 non-null   float64\n",
      "dtypes: float64(11), int32(8)\n",
      "memory usage: 1.1+ MB\n"
     ]
    }
   ],
   "source": [
    "df.info()"
   ]
  },
  {
   "cell_type": "markdown",
   "id": "908dc6e2",
   "metadata": {},
   "source": [
    "Заметно большое количество пропусков, не будем их обрабатывать на этапе исследовательского анализа, чтобы сохранить исходное распределение параметров."
   ]
  },
  {
   "cell_type": "code",
   "execution_count": 810,
   "id": "10b3b5ea",
   "metadata": {},
   "outputs": [
    {
     "data": {
      "text/html": [
       "<div>\n",
       "<style scoped>\n",
       "    .dataframe tbody tr th:only-of-type {\n",
       "        vertical-align: middle;\n",
       "    }\n",
       "\n",
       "    .dataframe tbody tr th {\n",
       "        vertical-align: top;\n",
       "    }\n",
       "\n",
       "    .dataframe thead th {\n",
       "        text-align: right;\n",
       "    }\n",
       "</style>\n",
       "<table border=\"1\" class=\"dataframe\">\n",
       "  <thead>\n",
       "    <tr style=\"text-align: right;\">\n",
       "      <th></th>\n",
       "      <th>Type</th>\n",
       "      <th>PaperlessBilling</th>\n",
       "      <th>PaymentMethod</th>\n",
       "      <th>MonthlyCharges</th>\n",
       "      <th>TotalCharges</th>\n",
       "      <th>days_count</th>\n",
       "      <th>exited</th>\n",
       "      <th>gender</th>\n",
       "      <th>SeniorCitizen</th>\n",
       "      <th>Partner</th>\n",
       "      <th>Dependents</th>\n",
       "      <th>InternetService</th>\n",
       "      <th>OnlineSecurity</th>\n",
       "      <th>OnlineBackup</th>\n",
       "      <th>DeviceProtection</th>\n",
       "      <th>TechSupport</th>\n",
       "      <th>StreamingTV</th>\n",
       "      <th>StreamingMovies</th>\n",
       "      <th>MultipleLines</th>\n",
       "    </tr>\n",
       "    <tr>\n",
       "      <th>customerID</th>\n",
       "      <th></th>\n",
       "      <th></th>\n",
       "      <th></th>\n",
       "      <th></th>\n",
       "      <th></th>\n",
       "      <th></th>\n",
       "      <th></th>\n",
       "      <th></th>\n",
       "      <th></th>\n",
       "      <th></th>\n",
       "      <th></th>\n",
       "      <th></th>\n",
       "      <th></th>\n",
       "      <th></th>\n",
       "      <th></th>\n",
       "      <th></th>\n",
       "      <th></th>\n",
       "      <th></th>\n",
       "      <th></th>\n",
       "    </tr>\n",
       "  </thead>\n",
       "  <tbody>\n",
       "    <tr>\n",
       "      <th>7590-VHVEG</th>\n",
       "      <td>0</td>\n",
       "      <td>1</td>\n",
       "      <td>0</td>\n",
       "      <td>29.85</td>\n",
       "      <td>29.85</td>\n",
       "      <td>31.0</td>\n",
       "      <td>0</td>\n",
       "      <td>0</td>\n",
       "      <td>0</td>\n",
       "      <td>1</td>\n",
       "      <td>0</td>\n",
       "      <td>0.0</td>\n",
       "      <td>0.0</td>\n",
       "      <td>1.0</td>\n",
       "      <td>0.0</td>\n",
       "      <td>0.0</td>\n",
       "      <td>0.0</td>\n",
       "      <td>0.0</td>\n",
       "      <td>NaN</td>\n",
       "    </tr>\n",
       "    <tr>\n",
       "      <th>5575-GNVDE</th>\n",
       "      <td>1</td>\n",
       "      <td>0</td>\n",
       "      <td>1</td>\n",
       "      <td>56.95</td>\n",
       "      <td>1889.50</td>\n",
       "      <td>1036.0</td>\n",
       "      <td>0</td>\n",
       "      <td>1</td>\n",
       "      <td>0</td>\n",
       "      <td>0</td>\n",
       "      <td>0</td>\n",
       "      <td>0.0</td>\n",
       "      <td>1.0</td>\n",
       "      <td>0.0</td>\n",
       "      <td>1.0</td>\n",
       "      <td>0.0</td>\n",
       "      <td>0.0</td>\n",
       "      <td>0.0</td>\n",
       "      <td>0.0</td>\n",
       "    </tr>\n",
       "    <tr>\n",
       "      <th>3668-QPYBK</th>\n",
       "      <td>0</td>\n",
       "      <td>1</td>\n",
       "      <td>1</td>\n",
       "      <td>53.85</td>\n",
       "      <td>108.15</td>\n",
       "      <td>61.0</td>\n",
       "      <td>1</td>\n",
       "      <td>1</td>\n",
       "      <td>0</td>\n",
       "      <td>0</td>\n",
       "      <td>0</td>\n",
       "      <td>0.0</td>\n",
       "      <td>1.0</td>\n",
       "      <td>1.0</td>\n",
       "      <td>0.0</td>\n",
       "      <td>0.0</td>\n",
       "      <td>0.0</td>\n",
       "      <td>0.0</td>\n",
       "      <td>0.0</td>\n",
       "    </tr>\n",
       "    <tr>\n",
       "      <th>7795-CFOCW</th>\n",
       "      <td>1</td>\n",
       "      <td>0</td>\n",
       "      <td>2</td>\n",
       "      <td>42.30</td>\n",
       "      <td>1840.75</td>\n",
       "      <td>1371.0</td>\n",
       "      <td>0</td>\n",
       "      <td>1</td>\n",
       "      <td>0</td>\n",
       "      <td>0</td>\n",
       "      <td>0</td>\n",
       "      <td>0.0</td>\n",
       "      <td>1.0</td>\n",
       "      <td>0.0</td>\n",
       "      <td>1.0</td>\n",
       "      <td>1.0</td>\n",
       "      <td>0.0</td>\n",
       "      <td>0.0</td>\n",
       "      <td>NaN</td>\n",
       "    </tr>\n",
       "    <tr>\n",
       "      <th>9237-HQITU</th>\n",
       "      <td>0</td>\n",
       "      <td>1</td>\n",
       "      <td>0</td>\n",
       "      <td>70.70</td>\n",
       "      <td>151.65</td>\n",
       "      <td>61.0</td>\n",
       "      <td>1</td>\n",
       "      <td>0</td>\n",
       "      <td>0</td>\n",
       "      <td>0</td>\n",
       "      <td>0</td>\n",
       "      <td>1.0</td>\n",
       "      <td>0.0</td>\n",
       "      <td>0.0</td>\n",
       "      <td>0.0</td>\n",
       "      <td>0.0</td>\n",
       "      <td>0.0</td>\n",
       "      <td>0.0</td>\n",
       "      <td>0.0</td>\n",
       "    </tr>\n",
       "  </tbody>\n",
       "</table>\n",
       "</div>"
      ],
      "text/plain": [
       "            Type  PaperlessBilling  PaymentMethod  MonthlyCharges  \\\n",
       "customerID                                                          \n",
       "7590-VHVEG     0                 1              0           29.85   \n",
       "5575-GNVDE     1                 0              1           56.95   \n",
       "3668-QPYBK     0                 1              1           53.85   \n",
       "7795-CFOCW     1                 0              2           42.30   \n",
       "9237-HQITU     0                 1              0           70.70   \n",
       "\n",
       "            TotalCharges  days_count  exited  gender  SeniorCitizen  Partner  \\\n",
       "customerID                                                                     \n",
       "7590-VHVEG         29.85        31.0       0       0              0        1   \n",
       "5575-GNVDE       1889.50      1036.0       0       1              0        0   \n",
       "3668-QPYBK        108.15        61.0       1       1              0        0   \n",
       "7795-CFOCW       1840.75      1371.0       0       1              0        0   \n",
       "9237-HQITU        151.65        61.0       1       0              0        0   \n",
       "\n",
       "            Dependents  InternetService  OnlineSecurity  OnlineBackup  \\\n",
       "customerID                                                              \n",
       "7590-VHVEG           0              0.0             0.0           1.0   \n",
       "5575-GNVDE           0              0.0             1.0           0.0   \n",
       "3668-QPYBK           0              0.0             1.0           1.0   \n",
       "7795-CFOCW           0              0.0             1.0           0.0   \n",
       "9237-HQITU           0              1.0             0.0           0.0   \n",
       "\n",
       "            DeviceProtection  TechSupport  StreamingTV  StreamingMovies  \\\n",
       "customerID                                                                \n",
       "7590-VHVEG               0.0          0.0          0.0              0.0   \n",
       "5575-GNVDE               1.0          0.0          0.0              0.0   \n",
       "3668-QPYBK               0.0          0.0          0.0              0.0   \n",
       "7795-CFOCW               1.0          1.0          0.0              0.0   \n",
       "9237-HQITU               0.0          0.0          0.0              0.0   \n",
       "\n",
       "            MultipleLines  \n",
       "customerID                 \n",
       "7590-VHVEG            NaN  \n",
       "5575-GNVDE            0.0  \n",
       "3668-QPYBK            0.0  \n",
       "7795-CFOCW            NaN  \n",
       "9237-HQITU            0.0  "
      ]
     },
     "execution_count": 810,
     "metadata": {},
     "output_type": "execute_result"
    }
   ],
   "source": [
    "df.head(5)"
   ]
  },
  {
   "cell_type": "code",
   "execution_count": 811,
   "id": "ebf1c8ca",
   "metadata": {},
   "outputs": [
    {
     "name": "stdout",
     "output_type": "stream",
     "text": [
      "<class 'pandas.core.frame.DataFrame'>\n",
      "Index: 7043 entries, 7590-VHVEG to 3186-AJIEK\n",
      "Data columns (total 19 columns):\n",
      " #   Column            Non-Null Count  Dtype  \n",
      "---  ------            --------------  -----  \n",
      " 0   Type              7043 non-null   int32  \n",
      " 1   PaperlessBilling  7043 non-null   int32  \n",
      " 2   PaymentMethod     7043 non-null   int32  \n",
      " 3   MonthlyCharges    7043 non-null   float64\n",
      " 4   TotalCharges      7032 non-null   float64\n",
      " 5   days_count        7043 non-null   float64\n",
      " 6   exited            7043 non-null   int32  \n",
      " 7   gender            7043 non-null   int32  \n",
      " 8   SeniorCitizen     7043 non-null   int32  \n",
      " 9   Partner           7043 non-null   int32  \n",
      " 10  Dependents        7043 non-null   int32  \n",
      " 11  InternetService   5517 non-null   float64\n",
      " 12  OnlineSecurity    5517 non-null   float64\n",
      " 13  OnlineBackup      5517 non-null   float64\n",
      " 14  DeviceProtection  5517 non-null   float64\n",
      " 15  TechSupport       5517 non-null   float64\n",
      " 16  StreamingTV       5517 non-null   float64\n",
      " 17  StreamingMovies   5517 non-null   float64\n",
      " 18  MultipleLines     6361 non-null   float64\n",
      "dtypes: float64(11), int32(8)\n",
      "memory usage: 1.1+ MB\n"
     ]
    }
   ],
   "source": [
    "df.info()"
   ]
  },
  {
   "cell_type": "code",
   "execution_count": 812,
   "id": "8560007d",
   "metadata": {},
   "outputs": [],
   "source": [
    "list_not_in_contract = list(personal.columns) + list(internet.columns) + list(phone.columns)"
   ]
  },
  {
   "cell_type": "code",
   "execution_count": 813,
   "id": "445b0755",
   "metadata": {},
   "outputs": [
    {
     "data": {
      "image/png": "[encoded data removed]",
      "text/plain": [
       "<Figure size 576x576 with 1 Axes>"
      ]
     },
     "metadata": {},
     "output_type": "display_data"
    },
    {
     "data": {
      "image/png": "[encoded data removed]",
      "text/plain": [
       "<Figure size 576x576 with 1 Axes>"
      ]
     },
     "metadata": {},
     "output_type": "display_data"
    },
    {
     "data": {
      "image/png": "[encoded data removed]",
      "text/plain": [
       "<Figure size 576x576 with 1 Axes>"
      ]
     },
     "metadata": {},
     "output_type": "display_data"
    },
    {
     "data": {
      "image/png": "[encoded data removed]",
      "text/plain": [
       "<Figure size 576x576 with 1 Axes>"
      ]
     },
     "metadata": {},
     "output_type": "display_data"
    },
    {
     "data": {
      "image/png": "[encoded data removed]",
      "text/plain": [
       "<Figure size 576x576 with 1 Axes>"
      ]
     },
     "metadata": {},
     "output_type": "display_data"
    },
    {
     "data": {
      "image/png": "[encoded data removed]",
      "text/plain": [
       "<Figure size 576x576 with 1 Axes>"
      ]
     },
     "metadata": {},
     "output_type": "display_data"
    },
    {
     "data": {
      "image/png": "[encoded data removed]",
      "text/plain": [
       "<Figure size 576x576 with 1 Axes>"
      ]
     },
     "metadata": {},
     "output_type": "display_data"
    },
    {
     "data": {
      "image/png": "[encoded data removed]",
      "text/plain": [
       "<Figure size 576x576 with 1 Axes>"
      ]
     },
     "metadata": {},
     "output_type": "display_data"
    },
    {
     "data": {
      "image/png": "[encoded data removed]",
      "text/plain": [
       "<Figure size 576x576 with 1 Axes>"
      ]
     },
     "metadata": {},
     "output_type": "display_data"
    },
    {
     "data": {
      "image/png": "[encoded data removed]",
      "text/plain": [
       "<Figure size 576x576 with 1 Axes>"
      ]
     },
     "metadata": {},
     "output_type": "display_data"
    },
    {
     "data": {
      "image/png": "[encoded data removed]",
      "text/plain": [
       "<Figure size 576x576 with 1 Axes>"
      ]
     },
     "metadata": {},
     "output_type": "display_data"
    },
    {
     "data": {
      "image/png": "[encoded data removed]",
      "text/plain": [
       "<Figure size 576x576 with 1 Axes>"
      ]
     },
     "metadata": {},
     "output_type": "display_data"
    }
   ],
   "source": [
    "for column in list_not_in_contract:\n",
    "    count_ploter(df, column)"
   ]
  },
  {
   "cell_type": "markdown",
   "id": "5a845f56",
   "metadata": {},
   "source": [
    "По столбчатым диаграммам выше можно отметить:\n",
    "\n",
    "1. Gender: Одинаковая динамика по категории. Почти равное количество человек мужского и женского пола для текущих клиентов. Почти равное количество человек мужского и женского пола для ушедших клиентов.\n",
    "2. SeniorCitizen: В пропорции доля ушедших больше для клиентов с пенсионным статусом по возрасту (значение SeniorCitizen = 1). Но общее количество молодых клиентов значительно превышает количество пенсионеров по возрасту.\n",
    "3. Partner: В пропорции доля ушедших значительно больше для категории \"без супруга\" (значение Partner = 0).\n",
    "4. Dependents: В пропорции доля ушедших значительно больше, когда нет \"иждивенцев\" (значение Dependents = 0).\n",
    "5. InternetService: В пропорции доля ушедших значительно больше для использующих fiber optic (значение InternetService = 1).\n",
    "6. OnlineSecurity: В пропорции доля ушедших значительно больше для неиспользующих блокировку небезопасных сайтов (значение OnlineSecurity = 0).\n",
    "7. OnlineBackup: В пропорции доля ушедших значительно больше для неиспользующих облачное хранилище файлов для резервного копирования данных (значение OnlineBackup = 0).\n",
    "8. DeviceProtection: В пропорции доля ушедших значительно больше для неиспользующих антивирус (значение DeviceProtection = 0).\n",
    "9. TechSupport: В пропорции доля ушедших значительно больше для неиспользующих выделенную линию технической поддержки (значение TechSupport = 0).\n",
    "10. StreamingTV, StreamingMovies, MultipleLines: В пропорции доля ушедших незначительно отличается по категориям  неиспользующих стриминговое телевидение, каталог фильмов и возможность ведения параллельных линий во время звонка. (значение StreamingTV, StreamingMovies, MultipleLines = 0).\n",
    "\n",
    "**Вывод:**\n",
    "- **бОльшее количество ушедших приходится на категорию \"без супруга\" и \"без наличия иждивенцев\".**\n",
    "- **бОльшее количество ушедших использует fiber optic, но при этом бОльшее количество ушедших не использует услуги OnlineSecurity, OnlineBackup, DeviceProtection, TechSupport. Возможно, стоит усилить продвижение данных услуг.**"
   ]
  },
  {
   "cell_type": "markdown",
   "id": "ca258a58",
   "metadata": {},
   "source": [
    "### Выводы по пункту 1 (ИАД):\n",
    "\n",
    "- Загрузили и объединили данные. Получили датасет: 7043 записей, 19 столбцов. Есть пропуски по ряду столбцов, в будущем заменим на 0 в столбце TotalCharges, на -1 в остальных столбцах с категориями.\n",
    "- Преобразовали форматы столбцов, в итоговом датасете 10 столбцов с плавающей запятой и 9 столбцов с целочисленным форматом (изменения связаны с переводами дат в количество дней, а также строковых категорий в целочисленные).\n",
    "- В столбце TotalCharges иногда формируются пустоты, что связано с тем, что пользователи не успели заплатить. Дата BeginDate совпадает с EndDate, MonthlyCharges != 0. В данном случае произвели замену нулями.\n",
    "- создали 2 признака: (1) сколько дней человек пробыл клиентом компании, (**2 - ключевой признак**) ушел ли в итоге клиент.\n",
    "- Замечен дисбаланс в классах целевого признака exited, при разделении данных будем использовать стратифицированный сплит\n",
    "\n",
    "**Из графиков распределения численных параметров видно:**\n",
    "\n",
    "1. Значения столбца помесячной оплаты MonthlyCharges больше для ушедших клиентов. Возможно, это и было причиной их ухода. \n",
    "2. Значения столбца общей платы TotalCharges больше для текущих клиентов. Логично, что в долгосрочной перспективе профит от постоянных клиентов больше. \n",
    "\n",
    "**Ушедшие клиенты в основном характеризуются следующим образом:**\n",
    "1. Тип оплаты Type = Month-to-Month, то есть помесячная оплата. Возможно, следует предлагать долгосрочные подписки.\n",
    "2. Способ оплаты PaymentMethod = Electronic Check.\n",
    "3. Клиенты без супруга (Partner = 0) и нет наличия иждивенцев (Dependents = 0).\n",
    "4. бОльшее количество ушедших использует fiber optic, но при этом бОльшее количество ушедших не использует услуги OnlineSecurity, OnlineBackup, DeviceProtection, TechSupport. Возможно, стоит усилить продвижение данных услуг."
   ]
  },
  {
   "cell_type": "markdown",
   "id": "f789a5d1",
   "metadata": {},
   "source": [
    "## 2. Предобработка данных"
   ]
  },
  {
   "cell_type": "markdown",
   "id": "e0d44367",
   "metadata": {},
   "source": [
    "### 2.1 Заполнение пропусков"
   ]
  },
  {
   "cell_type": "code",
   "execution_count": 814,
   "id": "803d03bd",
   "metadata": {},
   "outputs": [
    {
     "name": "stdout",
     "output_type": "stream",
     "text": [
      "<class 'pandas.core.frame.DataFrame'>\n",
      "Index: 7043 entries, 7590-VHVEG to 3186-AJIEK\n",
      "Data columns (total 19 columns):\n",
      " #   Column            Non-Null Count  Dtype  \n",
      "---  ------            --------------  -----  \n",
      " 0   Type              7043 non-null   int32  \n",
      " 1   PaperlessBilling  7043 non-null   int32  \n",
      " 2   PaymentMethod     7043 non-null   int32  \n",
      " 3   MonthlyCharges    7043 non-null   float64\n",
      " 4   TotalCharges      7032 non-null   float64\n",
      " 5   days_count        7043 non-null   float64\n",
      " 6   exited            7043 non-null   int32  \n",
      " 7   gender            7043 non-null   int32  \n",
      " 8   SeniorCitizen     7043 non-null   int32  \n",
      " 9   Partner           7043 non-null   int32  \n",
      " 10  Dependents        7043 non-null   int32  \n",
      " 11  InternetService   5517 non-null   float64\n",
      " 12  OnlineSecurity    5517 non-null   float64\n",
      " 13  OnlineBackup      5517 non-null   float64\n",
      " 14  DeviceProtection  5517 non-null   float64\n",
      " 15  TechSupport       5517 non-null   float64\n",
      " 16  StreamingTV       5517 non-null   float64\n",
      " 17  StreamingMovies   5517 non-null   float64\n",
      " 18  MultipleLines     6361 non-null   float64\n",
      "dtypes: float64(11), int32(8)\n",
      "memory usage: 1.1+ MB\n"
     ]
    }
   ],
   "source": [
    "df.info()"
   ]
  },
  {
   "cell_type": "markdown",
   "id": "6edbba12",
   "metadata": {},
   "source": [
    "11 пустот в столбце TotalCharges, возможно связано с тем, что пользователи не успели заплатить. Дата BeginDate совпадает с EndDate, MonthlyCharges != 0. **Логичным заполнением пропуска в данном случае будет - нулями.**"
   ]
  },
  {
   "cell_type": "markdown",
   "id": "3cba0657",
   "metadata": {},
   "source": [
    "Для остальных столбцов-категорий (столбцы InternetService, OnlineSecurity, OnlineBackup, DeviceProtection, TechSupport, StreamingTV, StreamingMovies, MultipleLines) пропуски заменим на -1."
   ]
  },
  {
   "cell_type": "code",
   "execution_count": 815,
   "id": "bc27e555",
   "metadata": {},
   "outputs": [],
   "source": [
    "df['TotalCharges'] = df['TotalCharges'].fillna(0)"
   ]
  },
  {
   "cell_type": "code",
   "execution_count": 816,
   "id": "1ee7bbaf",
   "metadata": {},
   "outputs": [
    {
     "name": "stdout",
     "output_type": "stream",
     "text": [
      "<class 'pandas.core.frame.DataFrame'>\n",
      "Index: 7043 entries, 7590-VHVEG to 3186-AJIEK\n",
      "Data columns (total 19 columns):\n",
      " #   Column            Non-Null Count  Dtype  \n",
      "---  ------            --------------  -----  \n",
      " 0   Type              7043 non-null   int32  \n",
      " 1   PaperlessBilling  7043 non-null   int32  \n",
      " 2   PaymentMethod     7043 non-null   int32  \n",
      " 3   MonthlyCharges    7043 non-null   float64\n",
      " 4   TotalCharges      7043 non-null   float64\n",
      " 5   days_count        7043 non-null   float64\n",
      " 6   exited            7043 non-null   int32  \n",
      " 7   gender            7043 non-null   int32  \n",
      " 8   SeniorCitizen     7043 non-null   int32  \n",
      " 9   Partner           7043 non-null   int32  \n",
      " 10  Dependents        7043 non-null   int32  \n",
      " 11  InternetService   5517 non-null   float64\n",
      " 12  OnlineSecurity    5517 non-null   float64\n",
      " 13  OnlineBackup      5517 non-null   float64\n",
      " 14  DeviceProtection  5517 non-null   float64\n",
      " 15  TechSupport       5517 non-null   float64\n",
      " 16  StreamingTV       5517 non-null   float64\n",
      " 17  StreamingMovies   5517 non-null   float64\n",
      " 18  MultipleLines     6361 non-null   float64\n",
      "dtypes: float64(11), int32(8)\n",
      "memory usage: 1.1+ MB\n"
     ]
    }
   ],
   "source": [
    "df.info()"
   ]
  },
  {
   "cell_type": "code",
   "execution_count": 817,
   "id": "feae4b70",
   "metadata": {},
   "outputs": [],
   "source": [
    "df = df.fillna(-1)"
   ]
  },
  {
   "cell_type": "code",
   "execution_count": 818,
   "id": "a297f588",
   "metadata": {},
   "outputs": [
    {
     "name": "stdout",
     "output_type": "stream",
     "text": [
      "<class 'pandas.core.frame.DataFrame'>\n",
      "Index: 7043 entries, 7590-VHVEG to 3186-AJIEK\n",
      "Data columns (total 19 columns):\n",
      " #   Column            Non-Null Count  Dtype  \n",
      "---  ------            --------------  -----  \n",
      " 0   Type              7043 non-null   int32  \n",
      " 1   PaperlessBilling  7043 non-null   int32  \n",
      " 2   PaymentMethod     7043 non-null   int32  \n",
      " 3   MonthlyCharges    7043 non-null   float64\n",
      " 4   TotalCharges      7043 non-null   float64\n",
      " 5   days_count        7043 non-null   float64\n",
      " 6   exited            7043 non-null   int32  \n",
      " 7   gender            7043 non-null   int32  \n",
      " 8   SeniorCitizen     7043 non-null   int32  \n",
      " 9   Partner           7043 non-null   int32  \n",
      " 10  Dependents        7043 non-null   int32  \n",
      " 11  InternetService   7043 non-null   float64\n",
      " 12  OnlineSecurity    7043 non-null   float64\n",
      " 13  OnlineBackup      7043 non-null   float64\n",
      " 14  DeviceProtection  7043 non-null   float64\n",
      " 15  TechSupport       7043 non-null   float64\n",
      " 16  StreamingTV       7043 non-null   float64\n",
      " 17  StreamingMovies   7043 non-null   float64\n",
      " 18  MultipleLines     7043 non-null   float64\n",
      "dtypes: float64(11), int32(8)\n",
      "memory usage: 1.1+ MB\n"
     ]
    }
   ],
   "source": [
    "df.info()"
   ]
  },
  {
   "cell_type": "markdown",
   "id": "687b2251",
   "metadata": {},
   "source": [
    "Переведем все категориальные признаки к целочисленному формату"
   ]
  },
  {
   "cell_type": "code",
   "execution_count": 819,
   "id": "92c416b2",
   "metadata": {},
   "outputs": [],
   "source": [
    "for column in (list(internet.columns) + list(phone.columns)):\n",
    "    df[column] = df[column].astype('int32')"
   ]
  },
  {
   "cell_type": "code",
   "execution_count": 820,
   "id": "05f781c8",
   "metadata": {},
   "outputs": [
    {
     "name": "stdout",
     "output_type": "stream",
     "text": [
      "<class 'pandas.core.frame.DataFrame'>\n",
      "Index: 7043 entries, 7590-VHVEG to 3186-AJIEK\n",
      "Data columns (total 19 columns):\n",
      " #   Column            Non-Null Count  Dtype  \n",
      "---  ------            --------------  -----  \n",
      " 0   Type              7043 non-null   int32  \n",
      " 1   PaperlessBilling  7043 non-null   int32  \n",
      " 2   PaymentMethod     7043 non-null   int32  \n",
      " 3   MonthlyCharges    7043 non-null   float64\n",
      " 4   TotalCharges      7043 non-null   float64\n",
      " 5   days_count        7043 non-null   float64\n",
      " 6   exited            7043 non-null   int32  \n",
      " 7   gender            7043 non-null   int32  \n",
      " 8   SeniorCitizen     7043 non-null   int32  \n",
      " 9   Partner           7043 non-null   int32  \n",
      " 10  Dependents        7043 non-null   int32  \n",
      " 11  InternetService   7043 non-null   int32  \n",
      " 12  OnlineSecurity    7043 non-null   int32  \n",
      " 13  OnlineBackup      7043 non-null   int32  \n",
      " 14  DeviceProtection  7043 non-null   int32  \n",
      " 15  TechSupport       7043 non-null   int32  \n",
      " 16  StreamingTV       7043 non-null   int32  \n",
      " 17  StreamingMovies   7043 non-null   int32  \n",
      " 18  MultipleLines     7043 non-null   int32  \n",
      "dtypes: float64(3), int32(16)\n",
      "memory usage: 918.3+ KB\n"
     ]
    }
   ],
   "source": [
    "df.info()"
   ]
  },
  {
   "cell_type": "code",
   "execution_count": 821,
   "id": "3d67b621",
   "metadata": {},
   "outputs": [
    {
     "data": {
      "text/html": [
       "<div>\n",
       "<style scoped>\n",
       "    .dataframe tbody tr th:only-of-type {\n",
       "        vertical-align: middle;\n",
       "    }\n",
       "\n",
       "    .dataframe tbody tr th {\n",
       "        vertical-align: top;\n",
       "    }\n",
       "\n",
       "    .dataframe thead th {\n",
       "        text-align: right;\n",
       "    }\n",
       "</style>\n",
       "<table border=\"1\" class=\"dataframe\">\n",
       "  <thead>\n",
       "    <tr style=\"text-align: right;\">\n",
       "      <th></th>\n",
       "      <th>Type</th>\n",
       "      <th>PaperlessBilling</th>\n",
       "      <th>PaymentMethod</th>\n",
       "      <th>MonthlyCharges</th>\n",
       "      <th>TotalCharges</th>\n",
       "      <th>days_count</th>\n",
       "      <th>exited</th>\n",
       "      <th>gender</th>\n",
       "      <th>SeniorCitizen</th>\n",
       "      <th>Partner</th>\n",
       "      <th>Dependents</th>\n",
       "      <th>InternetService</th>\n",
       "      <th>OnlineSecurity</th>\n",
       "      <th>OnlineBackup</th>\n",
       "      <th>DeviceProtection</th>\n",
       "      <th>TechSupport</th>\n",
       "      <th>StreamingTV</th>\n",
       "      <th>StreamingMovies</th>\n",
       "      <th>MultipleLines</th>\n",
       "    </tr>\n",
       "    <tr>\n",
       "      <th>customerID</th>\n",
       "      <th></th>\n",
       "      <th></th>\n",
       "      <th></th>\n",
       "      <th></th>\n",
       "      <th></th>\n",
       "      <th></th>\n",
       "      <th></th>\n",
       "      <th></th>\n",
       "      <th></th>\n",
       "      <th></th>\n",
       "      <th></th>\n",
       "      <th></th>\n",
       "      <th></th>\n",
       "      <th></th>\n",
       "      <th></th>\n",
       "      <th></th>\n",
       "      <th></th>\n",
       "      <th></th>\n",
       "      <th></th>\n",
       "    </tr>\n",
       "  </thead>\n",
       "  <tbody>\n",
       "    <tr>\n",
       "      <th>7590-VHVEG</th>\n",
       "      <td>0</td>\n",
       "      <td>1</td>\n",
       "      <td>0</td>\n",
       "      <td>29.85</td>\n",
       "      <td>29.85</td>\n",
       "      <td>31.0</td>\n",
       "      <td>0</td>\n",
       "      <td>0</td>\n",
       "      <td>0</td>\n",
       "      <td>1</td>\n",
       "      <td>0</td>\n",
       "      <td>0</td>\n",
       "      <td>0</td>\n",
       "      <td>1</td>\n",
       "      <td>0</td>\n",
       "      <td>0</td>\n",
       "      <td>0</td>\n",
       "      <td>0</td>\n",
       "      <td>-1</td>\n",
       "    </tr>\n",
       "    <tr>\n",
       "      <th>5575-GNVDE</th>\n",
       "      <td>1</td>\n",
       "      <td>0</td>\n",
       "      <td>1</td>\n",
       "      <td>56.95</td>\n",
       "      <td>1889.50</td>\n",
       "      <td>1036.0</td>\n",
       "      <td>0</td>\n",
       "      <td>1</td>\n",
       "      <td>0</td>\n",
       "      <td>0</td>\n",
       "      <td>0</td>\n",
       "      <td>0</td>\n",
       "      <td>1</td>\n",
       "      <td>0</td>\n",
       "      <td>1</td>\n",
       "      <td>0</td>\n",
       "      <td>0</td>\n",
       "      <td>0</td>\n",
       "      <td>0</td>\n",
       "    </tr>\n",
       "    <tr>\n",
       "      <th>3668-QPYBK</th>\n",
       "      <td>0</td>\n",
       "      <td>1</td>\n",
       "      <td>1</td>\n",
       "      <td>53.85</td>\n",
       "      <td>108.15</td>\n",
       "      <td>61.0</td>\n",
       "      <td>1</td>\n",
       "      <td>1</td>\n",
       "      <td>0</td>\n",
       "      <td>0</td>\n",
       "      <td>0</td>\n",
       "      <td>0</td>\n",
       "      <td>1</td>\n",
       "      <td>1</td>\n",
       "      <td>0</td>\n",
       "      <td>0</td>\n",
       "      <td>0</td>\n",
       "      <td>0</td>\n",
       "      <td>0</td>\n",
       "    </tr>\n",
       "    <tr>\n",
       "      <th>7795-CFOCW</th>\n",
       "      <td>1</td>\n",
       "      <td>0</td>\n",
       "      <td>2</td>\n",
       "      <td>42.30</td>\n",
       "      <td>1840.75</td>\n",
       "      <td>1371.0</td>\n",
       "      <td>0</td>\n",
       "      <td>1</td>\n",
       "      <td>0</td>\n",
       "      <td>0</td>\n",
       "      <td>0</td>\n",
       "      <td>0</td>\n",
       "      <td>1</td>\n",
       "      <td>0</td>\n",
       "      <td>1</td>\n",
       "      <td>1</td>\n",
       "      <td>0</td>\n",
       "      <td>0</td>\n",
       "      <td>-1</td>\n",
       "    </tr>\n",
       "    <tr>\n",
       "      <th>9237-HQITU</th>\n",
       "      <td>0</td>\n",
       "      <td>1</td>\n",
       "      <td>0</td>\n",
       "      <td>70.70</td>\n",
       "      <td>151.65</td>\n",
       "      <td>61.0</td>\n",
       "      <td>1</td>\n",
       "      <td>0</td>\n",
       "      <td>0</td>\n",
       "      <td>0</td>\n",
       "      <td>0</td>\n",
       "      <td>1</td>\n",
       "      <td>0</td>\n",
       "      <td>0</td>\n",
       "      <td>0</td>\n",
       "      <td>0</td>\n",
       "      <td>0</td>\n",
       "      <td>0</td>\n",
       "      <td>0</td>\n",
       "    </tr>\n",
       "  </tbody>\n",
       "</table>\n",
       "</div>"
      ],
      "text/plain": [
       "            Type  PaperlessBilling  PaymentMethod  MonthlyCharges  \\\n",
       "customerID                                                          \n",
       "7590-VHVEG     0                 1              0           29.85   \n",
       "5575-GNVDE     1                 0              1           56.95   \n",
       "3668-QPYBK     0                 1              1           53.85   \n",
       "7795-CFOCW     1                 0              2           42.30   \n",
       "9237-HQITU     0                 1              0           70.70   \n",
       "\n",
       "            TotalCharges  days_count  exited  gender  SeniorCitizen  Partner  \\\n",
       "customerID                                                                     \n",
       "7590-VHVEG         29.85        31.0       0       0              0        1   \n",
       "5575-GNVDE       1889.50      1036.0       0       1              0        0   \n",
       "3668-QPYBK        108.15        61.0       1       1              0        0   \n",
       "7795-CFOCW       1840.75      1371.0       0       1              0        0   \n",
       "9237-HQITU        151.65        61.0       1       0              0        0   \n",
       "\n",
       "            Dependents  InternetService  OnlineSecurity  OnlineBackup  \\\n",
       "customerID                                                              \n",
       "7590-VHVEG           0                0               0             1   \n",
       "5575-GNVDE           0                0               1             0   \n",
       "3668-QPYBK           0                0               1             1   \n",
       "7795-CFOCW           0                0               1             0   \n",
       "9237-HQITU           0                1               0             0   \n",
       "\n",
       "            DeviceProtection  TechSupport  StreamingTV  StreamingMovies  \\\n",
       "customerID                                                                \n",
       "7590-VHVEG                 0            0            0                0   \n",
       "5575-GNVDE                 1            0            0                0   \n",
       "3668-QPYBK                 0            0            0                0   \n",
       "7795-CFOCW                 1            1            0                0   \n",
       "9237-HQITU                 0            0            0                0   \n",
       "\n",
       "            MultipleLines  \n",
       "customerID                 \n",
       "7590-VHVEG             -1  \n",
       "5575-GNVDE              0  \n",
       "3668-QPYBK              0  \n",
       "7795-CFOCW             -1  \n",
       "9237-HQITU              0  "
      ]
     },
     "execution_count": 821,
     "metadata": {},
     "output_type": "execute_result"
    }
   ],
   "source": [
    "df.head(5)"
   ]
  },
  {
   "cell_type": "markdown",
   "id": "e983f1ab",
   "metadata": {},
   "source": [
    "### 2.2 Сплит данных"
   ]
  },
  {
   "cell_type": "code",
   "execution_count": 822,
   "id": "a4fabf0a",
   "metadata": {},
   "outputs": [],
   "source": [
    "features = df.drop(['exited'], axis=1)\n",
    "target = df['exited']"
   ]
  },
  {
   "cell_type": "markdown",
   "id": "61cdeec5",
   "metadata": {},
   "source": [
    "Модели будем оценивать с помощью кросс-валидации, поэтому делим датасет на обучающую (обучающая + валидационная) и тестовую выборки."
   ]
  },
  {
   "cell_type": "code",
   "execution_count": 823,
   "id": "e817094a",
   "metadata": {},
   "outputs": [],
   "source": [
    "features_train, features_test, target_train, target_test = train_test_split(features,\n",
    "                                                                            target,\n",
    "                                                                            test_size=0.2,\n",
    "                                                                            stratify=target,\n",
    "                                                                            random_state=12345)"
   ]
  },
  {
   "cell_type": "code",
   "execution_count": 824,
   "id": "2205b46c",
   "metadata": {},
   "outputs": [
    {
     "data": {
      "image/png": "[encoded data removed]",
      "text/plain": [
       "<Figure size 792x576 with 1 Axes>"
      ]
     },
     "metadata": {},
     "output_type": "display_data"
    },
    {
     "name": "stdout",
     "output_type": "stream",
     "text": [
      "В тренировочной выборке в целевом признаке количество текущих клиентов: 4139, количество ушедших клиентов: 1495. Отношение ушедших к общему числу клиентов: 0.27\n"
     ]
    }
   ],
   "source": [
    "sns.set(rc={'figure.figsize':(11,8)}, font_scale = 1)\n",
    "barplot = sns.barplot(x=target_train.value_counts().index, y=target_train.value_counts().values);\n",
    "barplot.set(xlabel='exited', ylabel='count_of_exited')\n",
    "plt.show()\n",
    "print(f\"В тренировочной выборке в целевом признаке количество текущих клиентов: {target_train.value_counts().values[0]}, \\\n",
    "количество ушедших клиентов: {target_train.value_counts().values[1]}. \\\n",
    "Отношение ушедших к общему числу клиентов: {round(target_train.value_counts().values[1] / (target_train.value_counts().values[0] + target_train.value_counts().values[1]), 2)}\\\n",
    "\"\n",
    ")"
   ]
  },
  {
   "cell_type": "code",
   "execution_count": 825,
   "id": "06ba6fac",
   "metadata": {},
   "outputs": [
    {
     "data": {
      "image/png": "[encoded data removed]",
      "text/plain": [
       "<Figure size 792x576 with 1 Axes>"
      ]
     },
     "metadata": {},
     "output_type": "display_data"
    },
    {
     "name": "stdout",
     "output_type": "stream",
     "text": [
      "В тестовой выборке в целевом признаке количество текущих клиентов: 1035, количество ушедших клиентов: 374. Отношение ушедших к общему числу клиентов: 0.27\n"
     ]
    }
   ],
   "source": [
    "sns.set(rc={'figure.figsize':(11,8)}, font_scale = 1)\n",
    "barplot = sns.barplot(x=target_test.value_counts().index, y=target_test.value_counts().values);\n",
    "barplot.set(xlabel='exited', ylabel='count_of_exited')\n",
    "plt.show()\n",
    "\n",
    "print(f\"В тестовой выборке в целевом признаке количество текущих клиентов: {target_test.value_counts().values[0]}, \\\n",
    "количество ушедших клиентов: {target_test.value_counts().values[1]}. \\\n",
    "Отношение ушедших к общему числу клиентов: {round(target_test.value_counts().values[1] / (target_test.value_counts().values[0] + target_test.value_counts().values[1]), 2)}\\\n",
    "\"\n",
    ")"
   ]
  },
  {
   "cell_type": "markdown",
   "id": "1006e3e3",
   "metadata": {},
   "source": [
    "### Вывод по пункту 2"
   ]
  },
  {
   "cell_type": "markdown",
   "id": "327a2086",
   "metadata": {},
   "source": [
    "**Вывод по пункту 2:**\n",
    "\n",
    "- Обработали пропуски, проверили успешность заполнения.\n",
    "- Stratify-split отработал верно. Разделили данные с учетом дисбаланса. Для пункта 3, при создании класса, пропишем сплит данных с выбранным random_state."
   ]
  },
  {
   "cell_type": "markdown",
   "id": "ed083f86",
   "metadata": {},
   "source": [
    "## 3. Обучение и валидация моделей"
   ]
  },
  {
   "cell_type": "markdown",
   "id": "5afe9b1a",
   "metadata": {},
   "source": [
    "При постановке задачи: \n",
    "\n",
    "Основная метрика для проверки качества модели: **roc_auc**, Дополнительная метрика: **accuracy**"
   ]
  },
  {
   "cell_type": "code",
   "execution_count": 902,
   "id": "96620abb",
   "metadata": {},
   "outputs": [],
   "source": [
    "valid_table = pd.DataFrame({'Model' : [],\n",
    "                         'Params' : [],\n",
    "                         'roc_auc_score' : []})\n",
    "test_table = pd.DataFrame({'Model' : [],\n",
    "                         'Params' : [],\n",
    "                         'roc_auc_score_test' : [],\n",
    "                         'accuracy_test' : []})"
   ]
  },
  {
   "cell_type": "markdown",
   "id": "530e2688",
   "metadata": {},
   "source": [
    "### 3.1 Dummy (константная модель)"
   ]
  },
  {
   "cell_type": "markdown",
   "id": "bf8a6948",
   "metadata": {},
   "source": [
    "Предсказание константной модели будет всегда равна группе большинства, то есть в данном случае = 0.\n",
    "Для большей достоверности по точности данной модели (не требует обучения), проверим ее фунциональность на всем датасете."
   ]
  },
  {
   "cell_type": "code",
   "execution_count": 903,
   "id": "bc66fdcc",
   "metadata": {},
   "outputs": [
    {
     "name": "stdout",
     "output_type": "stream",
     "text": [
      "roc_auc_score_dummy: 0.5, accuracy_dummy: 0.73\n",
      "Wall time: 15 ms\n"
     ]
    }
   ],
   "source": [
    "%%time\n",
    "#dummy-model\n",
    "\n",
    "predictions = [0] * target.shape[0]\n",
    "roc_auc_score_dummy = roc_auc_score(target, predictions)\n",
    "accuracy_dummy = accuracy_score(target, predictions)\n",
    "print(f\"roc_auc_score_dummy: {round(roc_auc_score_dummy, 2)}, accuracy_dummy: {round(accuracy_dummy, 2)}\")\n",
    "\n",
    "valid_table = valid_table.append({'Model' : \"dummy\",\n",
    "                                  'Params' : \" \",\n",
    "                                  'roc_auc_score' : round(roc_auc_score_dummy, 2)}, ignore_index=True)"
   ]
  },
  {
   "cell_type": "markdown",
   "id": "b240c8da",
   "metadata": {},
   "source": [
    "- При использовании трансформаторов данных, которые обучаются на выборке, важно не допустить утечку данных. Из-за этого при кросс-валидации будет использован пайплайн, который для каждой комбинации будет обучать трансформатор (например, StandardScaler) только на текущей обучающей выборке.\n",
    "\n",
    "- Так как для разных моделей следует по-разному подходить к представлению данных (для lightgmb, catboost используется categorical_features; для logisticregression обязателен one-hot-encoding; для древовидных моделей не обязательно использовать standardscaler и тд), напишем класс, в котором пропишем возможность гибко готовить данные и кросс-валидировать модель. "
   ]
  },
  {
   "cell_type": "code",
   "execution_count": 904,
   "id": "805e804c",
   "metadata": {},
   "outputs": [],
   "source": [
    "class data_framework:\n",
    "    '''\n",
    "    Описание класса:\n",
    "    Класс для подготовки данных, обучения, валидирования и тестирования моделей.\n",
    "    '''\n",
    "   \n",
    "    def __init__(self, features, target, model_name, need_ohe, need_categories):\n",
    "        '''\n",
    "        Конструктор для создания образца класса:\n",
    "        features - признаки\n",
    "        target - ответы\n",
    "        model_name - название модели\n",
    "        need_ohe - необходим one-hot-encoding\n",
    "        need_categories - необходимо перевести столбцы с категориями в формат category (для моделей бустинга)\n",
    "        '''\n",
    "        self.features = features.copy(deep = True)\n",
    "        self.target = target.copy(deep = True)\n",
    "        self.model_name = model_name\n",
    "\n",
    "        self.num_features = list(features.select_dtypes(include=['float']).columns)\n",
    "        self.cat_features = list(features.select_dtypes(include=['int']).columns)\n",
    "        \n",
    "        if need_ohe == True:\n",
    "            self.ohe()\n",
    "        if need_categories == True:\n",
    "            self.category_format()\n",
    "            \n",
    "        self.data_split()\n",
    "       \n",
    "        self.train_test_models()\n",
    "        \n",
    "        #self.test_model()\n",
    "        \n",
    "    def data_split(self):\n",
    "        '''\n",
    "        Метод data_split делит исходные данные на обучающую+валидационную и тестовую выборки.\n",
    "        '''\n",
    "        print(\"Запущен сплит данных\")\n",
    "        self.features_train, self.features_test, self.target_train, self.target_test = train_test_split(\n",
    "            self.features, self.target, test_size=0.2, random_state=12345)\n",
    "        \n",
    "        print(\"Размер обучающей+валидационной выборки: {0}, {1}\".format(self.features_train.shape, self.target_train.shape))\n",
    "        print(\"Размер тестовой выборки: {0}, {1}\".format(self.features_test.shape, self.target_test.shape))\n",
    "        \n",
    "    def ohe(self):\n",
    "        '''\n",
    "        Метод ohe создает фиктивные столбцы для категорий.\n",
    "        '''\n",
    "        print(\"Запущен ohe\")\n",
    "        \n",
    "        for column in self.cat_features:\n",
    "            dummy_df = pd.get_dummies(self.features[column], drop_first=True, prefix=column)\n",
    "            self.features = self.features.drop(column, axis=1)\n",
    "            self.features = self.features.join(dummy_df)\n",
    "            \n",
    "        #print(self.features.info())\n",
    "            \n",
    "    def category_format(self):\n",
    "        '''\n",
    "        Метод category_format переводит все столбцы с категориями в категориальный формат (для моделей бустинга).\n",
    "        '''\n",
    "        print(\"Запущен category_format\")\n",
    "        for category in self.cat_features: \n",
    "            self.features[category] = self.features[category].astype('category')\n",
    "            \n",
    "        #print(self.features.info())\n",
    "      \n",
    "     \n",
    "    def train_test_models(self):\n",
    "        '''\n",
    "        Метод train_valid_models обучает и валидирует модели\n",
    "        '''\n",
    "        print(\"Запущен train_test_models\")\n",
    "        \n",
    "        global valid_table\n",
    "        #определяем название модели и сетку параметров\n",
    "        if (self.model_name == 'lr'):\n",
    "            self.model = LogisticRegression()\n",
    "            self.grid = {'model__C' : range(1,12,5)}\n",
    "        elif (self.model_name == 'rf'):\n",
    "            self.model = RandomForestClassifier(random_state=12345)\n",
    "            self.grid = {'model__n_estimators' : range(100,500,350), 'model__max_depth': range (3,10, 5)}\n",
    "        elif (self.model_name == 'lgbm'):\n",
    "            self.model = LGBMClassifier(random_state=12345)\n",
    "            self.grid = {'model__n_estimators' : range(100,1500,1000), 'model__max_depth': range (3,10, 5)}\n",
    "        elif (self.model_name == 'catboost'):\n",
    "            self.model = CatBoostClassifier(random_state=12345, verbose=500, eval_metric='AUC')\n",
    "            self.grid = {'model__n_estimators' : range(100,1500,1000), 'model__max_depth': range (3,10, 5)}\n",
    "        \n",
    "        #прописываем трансформеры\n",
    "        #self.num_transformers = StandardScaler()\n",
    "        self.num_transformers = Pipeline(steps=[(\"scaler\", StandardScaler())])\n",
    "        #self.cat_transformers = Pipeline(steps=[(\"ohe\", OneHotEncoder())])\n",
    "        \n",
    "        #прописываем препроцессор\n",
    "        self.preprocessor = ColumnTransformer(\n",
    "            transformers=[\n",
    "            (\"num\", self.num_transformers, self.num_features)#,\n",
    "            #(\"cat\", self.cat_transformers, self.cat_features)\n",
    "            ])\n",
    "        #прописываем пайплайн для модели\n",
    "        self.clf = Pipeline(steps=[(\"preprocessor\", self.preprocessor), (\"model\", self.model)])\n",
    "        #помещаем пайплайн в GridSearchCV\n",
    "        kfold = KFold(n_splits=3, random_state=12345, shuffle=True)\n",
    "        self.model_gs = GridSearchCV(estimator = self.clf, param_grid=self.grid, cv=kfold, scoring=\"roc_auc\", verbose=1)\n",
    "        \n",
    "        self.model_gs.fit(self.features_train, self.target_train)\n",
    "      \n",
    "      \n",
    "        print(f\"Лучший результат модели {self.model_name} при кросс-валидации: roc_auc_score = {self.model_gs.best_score_:.3f}\")\n",
    "        print(f\"Лучшие гиперпараметры модели {self.model_name} при кросс-валидации: {self.model_gs.best_params_}\")\n",
    "        valid_table = valid_table.append({'Model' : self.model_name,\n",
    "                                  'Params' : self.model_gs.best_params_,\n",
    "                                  'roc_auc_score' : round(self.model_gs.best_score_, 2)}, ignore_index=True)\n",
    "    def test_model(self):\n",
    "        '''\n",
    "        Метод test_model тестирует модель\n",
    "        '''\n",
    "        print(\"Запущен test_model\")\n",
    "        \n",
    "        global test_table\n",
    "        if (self.model_name == 'lr'):\n",
    "            self.model_gs.best_params_['C'] = self.model_gs.best_params_.pop('model__C')\n",
    "            self.model_test = LogisticRegression(random_state=12345, **self.model_gs.best_params_)\n",
    "            self.model_test.fit(self.features_train, self.target_train)\n",
    "        elif (self.model_name == 'rf'):\n",
    "            self.model_gs.best_params_['n_estimators'] = self.model_gs.best_params_.pop('model__n_estimators')\n",
    "            self.model_gs.best_params_['max_depth'] = self.model_gs.best_params_.pop('model__max_depth')\n",
    "            self.model_test = RandomForestClassifier(random_state=12345, **self.model_gs.best_params_)\n",
    "            self.model_test.fit(self.features_train, self.target_train)\n",
    "        elif (self.model_name == 'lgbm'):\n",
    "            self.model_gs.best_params_['n_estimators'] = self.model_gs.best_params_.pop('model__n_estimators')\n",
    "            self.model_gs.best_params_['max_depth'] = self.model_gs.best_params_.pop('model__max_depth')\n",
    "            self.model_test = LGBMClassifier(categorical_feature = self.cat_features, random_state=12345, **self.model_gs.best_params_)\n",
    "            self.model_test.fit(self.features_train, self.target_train, eval_metric='AUC')\n",
    "        elif (self.model_name == 'catboost'):\n",
    "            self.model_gs.best_params_['n_estimators'] = self.model_gs.best_params_.pop('model__n_estimators')\n",
    "            self.model_gs.best_params_['max_depth'] = self.model_gs.best_params_.pop('model__max_depth')\n",
    "            self.model_test = CatBoostClassifier(cat_features = self.cat_features, verbose=500, random_state=12345, **self.model_gs.best_params_)\n",
    "            self.model_test.fit(self.features_train, self.target_train, eval_metric='AUC')\n",
    "            \n",
    "     \n",
    "        self.predictions = self.model_test.predict(self.features_test)\n",
    "        self.roc_auc_score_test = roc_auc_score(self.target_test, self.model_test.predict_proba(self.features_test)[:, 1])\n",
    "        self.accuracy_score_test = accuracy_score(self.target_test, self.predictions)\n",
    "        print(f\"Тестовый результат модели {self.model_name}: roc_auc_score = {self.roc_auc_score_test:.3f}\")\n",
    "        print(f\"Тестовый результат модели {self.model_name}: accuracy_score = {self.accuracy_score_test:.3f}\")\n",
    "        test_table = test_table.append({'Model' : self.model_name,\n",
    "                                 'Params' : self.model_gs.best_params_,\n",
    "                                 'roc_auc_score_test' : round(self.roc_auc_score_test, 2),\n",
    "                                 'accuracy_test' : round(self.accuracy_score_test, 2)}, ignore_index=True)\n",
    "\n"
   ]
  },
  {
   "cell_type": "markdown",
   "id": "847de045",
   "metadata": {},
   "source": [
    "### 3.2 Logistic Regression"
   ]
  },
  {
   "cell_type": "code",
   "execution_count": 905,
   "id": "ca778ba0",
   "metadata": {},
   "outputs": [
    {
     "name": "stdout",
     "output_type": "stream",
     "text": [
      "Запущен ohe\n",
      "Запущен сплит данных\n",
      "Размер обучающей+валидационной выборки: (5634, 29), (5634,)\n",
      "Размер тестовой выборки: (1409, 29), (1409,)\n",
      "Запущен train_test_models\n",
      "Fitting 3 folds for each of 3 candidates, totalling 9 fits\n",
      "Лучший результат модели lr при кросс-валидации: roc_auc_score = 0.808\n",
      "Лучшие гиперпараметры модели lr при кросс-валидации: {'model__C': 11}\n",
      "Wall time: 361 ms\n"
     ]
    }
   ],
   "source": [
    "%%time\n",
    "\n",
    "lr = data_framework(features, target, 'lr', True, False)"
   ]
  },
  {
   "cell_type": "markdown",
   "id": "8f347203",
   "metadata": {},
   "source": [
    "### 3.3 RandomForest"
   ]
  },
  {
   "cell_type": "code",
   "execution_count": 906,
   "id": "66e402be",
   "metadata": {},
   "outputs": [
    {
     "name": "stdout",
     "output_type": "stream",
     "text": [
      "Wall time: 0 ns\n",
      "Запущен ohe\n",
      "Запущен сплит данных\n",
      "Размер обучающей+валидационной выборки: (5634, 29), (5634,)\n",
      "Размер тестовой выборки: (1409, 29), (1409,)\n",
      "Запущен train_test_models\n",
      "Fitting 3 folds for each of 4 candidates, totalling 12 fits\n",
      "Лучший результат модели rf при кросс-валидации: roc_auc_score = 0.852\n",
      "Лучшие гиперпараметры модели rf при кросс-валидации: {'model__max_depth': 8, 'model__n_estimators': 100}\n"
     ]
    }
   ],
   "source": [
    "%%time\n",
    "\n",
    "rf = data_framework(features, target, 'rf', True, False)"
   ]
  },
  {
   "cell_type": "markdown",
   "id": "63063275",
   "metadata": {},
   "source": [
    "### 3.4 LightGBM"
   ]
  },
  {
   "cell_type": "code",
   "execution_count": 907,
   "id": "358e8822",
   "metadata": {},
   "outputs": [
    {
     "name": "stdout",
     "output_type": "stream",
     "text": [
      "Запущен category_format\n",
      "Запущен сплит данных\n",
      "Размер обучающей+валидационной выборки: (5634, 18), (5634,)\n",
      "Размер тестовой выборки: (1409, 18), (1409,)\n",
      "Запущен train_test_models\n",
      "Fitting 3 folds for each of 4 candidates, totalling 12 fits\n",
      "Лучший результат модели lgbm при кросс-валидации: roc_auc_score = 0.895\n",
      "Лучшие гиперпараметры модели lgbm при кросс-валидации: {'model__max_depth': 3, 'model__n_estimators': 1100}\n",
      "Wall time: 5.4 s\n"
     ]
    }
   ],
   "source": [
    "%%time\n",
    "\n",
    "lgbm = data_framework(features, target, 'lgbm', False, True)"
   ]
  },
  {
   "cell_type": "markdown",
   "id": "479c7d61",
   "metadata": {},
   "source": [
    "### 3.5 CatBoost"
   ]
  },
  {
   "cell_type": "code",
   "execution_count": 908,
   "id": "ee763ccb",
   "metadata": {},
   "outputs": [
    {
     "name": "stdout",
     "output_type": "stream",
     "text": [
      "Запущен category_format\n",
      "Запущен сплит данных\n",
      "Размер обучающей+валидационной выборки: (5634, 18), (5634,)\n",
      "Размер тестовой выборки: (1409, 18), (1409,)\n",
      "Запущен train_test_models\n",
      "Fitting 3 folds for each of 4 candidates, totalling 12 fits\n",
      "Learning rate set to 0.149741\n",
      "0:\ttotal: 17.9ms\tremaining: 1.77s\n",
      "99:\ttotal: 111ms\tremaining: 0us\n",
      "Learning rate set to 0.149741\n",
      "0:\ttotal: 7.46ms\tremaining: 738ms\n",
      "99:\ttotal: 91.5ms\tremaining: 0us\n",
      "Learning rate set to 0.149741\n",
      "0:\ttotal: 10.6ms\tremaining: 1.05s\n",
      "99:\ttotal: 103ms\tremaining: 0us\n",
      "Learning rate set to 0.016611\n",
      "0:\ttotal: 17.9ms\tremaining: 19.7s\n",
      "500:\ttotal: 900ms\tremaining: 1.08s\n",
      "1000:\ttotal: 1.79s\tremaining: 177ms\n",
      "1099:\ttotal: 1.96s\tremaining: 0us\n",
      "Learning rate set to 0.016611\n",
      "0:\ttotal: 3.6ms\tremaining: 3.96s\n",
      "500:\ttotal: 820ms\tremaining: 981ms\n",
      "1000:\ttotal: 1.69s\tremaining: 167ms\n",
      "1099:\ttotal: 1.85s\tremaining: 0us\n",
      "Learning rate set to 0.016611\n",
      "0:\ttotal: 12.1ms\tremaining: 13.3s\n",
      "500:\ttotal: 857ms\tremaining: 1.02s\n",
      "1000:\ttotal: 1.7s\tremaining: 168ms\n",
      "1099:\ttotal: 1.88s\tremaining: 0us\n",
      "Learning rate set to 0.149741\n",
      "0:\ttotal: 5.55ms\tremaining: 549ms\n",
      "99:\ttotal: 449ms\tremaining: 0us\n",
      "Learning rate set to 0.149741\n",
      "0:\ttotal: 4.29ms\tremaining: 424ms\n",
      "99:\ttotal: 438ms\tremaining: 0us\n",
      "Learning rate set to 0.149741\n",
      "0:\ttotal: 4.59ms\tremaining: 454ms\n",
      "99:\ttotal: 517ms\tremaining: 0us\n",
      "Learning rate set to 0.016611\n",
      "0:\ttotal: 11.2ms\tremaining: 12.3s\n",
      "500:\ttotal: 2.7s\tremaining: 3.22s\n",
      "1000:\ttotal: 5.09s\tremaining: 504ms\n",
      "1099:\ttotal: 5.58s\tremaining: 0us\n",
      "Learning rate set to 0.016611\n",
      "0:\ttotal: 6.2ms\tremaining: 6.81s\n",
      "500:\ttotal: 2.42s\tremaining: 2.89s\n",
      "1000:\ttotal: 4.95s\tremaining: 490ms\n",
      "1099:\ttotal: 5.43s\tremaining: 0us\n",
      "Learning rate set to 0.016611\n",
      "0:\ttotal: 6.12ms\tremaining: 6.72s\n",
      "500:\ttotal: 2.4s\tremaining: 2.87s\n",
      "1000:\ttotal: 4.92s\tremaining: 487ms\n",
      "1099:\ttotal: 5.54s\tremaining: 0us\n",
      "Learning rate set to 0.01975\n",
      "0:\ttotal: 6.38ms\tremaining: 7.01s\n",
      "500:\ttotal: 2.87s\tremaining: 3.43s\n",
      "1000:\ttotal: 5.57s\tremaining: 551ms\n",
      "1099:\ttotal: 6.11s\tremaining: 0us\n",
      "Лучший результат модели catboost при кросс-валидации: roc_auc_score = 0.891\n",
      "Лучшие гиперпараметры модели catboost при кросс-валидации: {'model__max_depth': 8, 'model__n_estimators': 1100}\n",
      "Wall time: 32 s\n"
     ]
    }
   ],
   "source": [
    "%%time\n",
    "\n",
    "catboost = data_framework(features, target, 'catboost', False, True)"
   ]
  },
  {
   "cell_type": "code",
   "execution_count": 909,
   "id": "bf2635ca",
   "metadata": {},
   "outputs": [
    {
     "data": {
      "text/html": [
       "<div>\n",
       "<style scoped>\n",
       "    .dataframe tbody tr th:only-of-type {\n",
       "        vertical-align: middle;\n",
       "    }\n",
       "\n",
       "    .dataframe tbody tr th {\n",
       "        vertical-align: top;\n",
       "    }\n",
       "\n",
       "    .dataframe thead th {\n",
       "        text-align: right;\n",
       "    }\n",
       "</style>\n",
       "<table border=\"1\" class=\"dataframe\">\n",
       "  <thead>\n",
       "    <tr style=\"text-align: right;\">\n",
       "      <th></th>\n",
       "      <th>Model</th>\n",
       "      <th>Params</th>\n",
       "      <th>roc_auc_score</th>\n",
       "    </tr>\n",
       "  </thead>\n",
       "  <tbody>\n",
       "    <tr>\n",
       "      <th>0</th>\n",
       "      <td>dummy</td>\n",
       "      <td></td>\n",
       "      <td>0.50</td>\n",
       "    </tr>\n",
       "    <tr>\n",
       "      <th>1</th>\n",
       "      <td>lr</td>\n",
       "      <td>{'model__C': 11}</td>\n",
       "      <td>0.81</td>\n",
       "    </tr>\n",
       "    <tr>\n",
       "      <th>2</th>\n",
       "      <td>rf</td>\n",
       "      <td>{'model__max_depth': 8, 'model__n_estimators':...</td>\n",
       "      <td>0.85</td>\n",
       "    </tr>\n",
       "    <tr>\n",
       "      <th>3</th>\n",
       "      <td>lgbm</td>\n",
       "      <td>{'model__max_depth': 3, 'model__n_estimators':...</td>\n",
       "      <td>0.89</td>\n",
       "    </tr>\n",
       "    <tr>\n",
       "      <th>4</th>\n",
       "      <td>catboost</td>\n",
       "      <td>{'model__max_depth': 8, 'model__n_estimators':...</td>\n",
       "      <td>0.89</td>\n",
       "    </tr>\n",
       "  </tbody>\n",
       "</table>\n",
       "</div>"
      ],
      "text/plain": [
       "      Model                                             Params  roc_auc_score\n",
       "0     dummy                                                              0.50\n",
       "1        lr                                   {'model__C': 11}           0.81\n",
       "2        rf  {'model__max_depth': 8, 'model__n_estimators':...           0.85\n",
       "3      lgbm  {'model__max_depth': 3, 'model__n_estimators':...           0.89\n",
       "4  catboost  {'model__max_depth': 8, 'model__n_estimators':...           0.89"
      ]
     },
     "execution_count": 909,
     "metadata": {},
     "output_type": "execute_result"
    }
   ],
   "source": [
    "valid_table"
   ]
  },
  {
   "cell_type": "code",
   "execution_count": 910,
   "id": "8104964c",
   "metadata": {},
   "outputs": [],
   "source": [
    "idxmax = valid_table['roc_auc_score'].idxmax()"
   ]
  },
  {
   "cell_type": "markdown",
   "id": "3aa82901",
   "metadata": {},
   "source": [
    "### Вывод по пункту 3"
   ]
  },
  {
   "cell_type": "code",
   "execution_count": 911,
   "id": "938167a7",
   "metadata": {},
   "outputs": [
    {
     "name": "stdout",
     "output_type": "stream",
     "text": [
      " Вывод по пункту 3: На этапе валидации: лучшая модель = lgbm, roc_auc_score = 0.89 \n"
     ]
    }
   ],
   "source": [
    "print(\n",
    "f\" \\\n",
    "Вывод по пункту 3: \\\n",
    "На этапе валидации: \\\n",
    "лучшая модель = {valid_table.values[idxmax][0]}, \\\n",
    "roc_auc_score = {valid_table.values[idxmax][2]} \\\n",
    "\")"
   ]
  },
  {
   "cell_type": "markdown",
   "id": "e3628933",
   "metadata": {},
   "source": [
    "## 4. Тестирование лучшей модели"
   ]
  },
  {
   "cell_type": "markdown",
   "id": "3bdc4d3d",
   "metadata": {},
   "source": [
    "### 4.1 Оценка точности итоговой модели"
   ]
  },
  {
   "cell_type": "code",
   "execution_count": 912,
   "id": "abc8007f",
   "metadata": {},
   "outputs": [
    {
     "name": "stdout",
     "output_type": "stream",
     "text": [
      "Запущен test_model\n",
      "Тестовый результат модели lgbm: roc_auc_score = 0.920\n",
      "Тестовый результат модели lgbm: accuracy_score = 0.870\n",
      "Wall time: 759 ms\n"
     ]
    }
   ],
   "source": [
    "%%time\n",
    "\n",
    "if idxmax == 1:\n",
    "    lr.test_model()\n",
    "elif idxmax == 2:\n",
    "    rf.test_model()\n",
    "elif idxmax == 3:\n",
    "    lgbm.test_model()\n",
    "elif idxmax == 4:\n",
    "    catboost.test_model()"
   ]
  },
  {
   "cell_type": "code",
   "execution_count": 914,
   "id": "c04d9a91",
   "metadata": {},
   "outputs": [
    {
     "data": {
      "text/html": [
       "<div>\n",
       "<style scoped>\n",
       "    .dataframe tbody tr th:only-of-type {\n",
       "        vertical-align: middle;\n",
       "    }\n",
       "\n",
       "    .dataframe tbody tr th {\n",
       "        vertical-align: top;\n",
       "    }\n",
       "\n",
       "    .dataframe thead th {\n",
       "        text-align: right;\n",
       "    }\n",
       "</style>\n",
       "<table border=\"1\" class=\"dataframe\">\n",
       "  <thead>\n",
       "    <tr style=\"text-align: right;\">\n",
       "      <th></th>\n",
       "      <th>Model</th>\n",
       "      <th>Params</th>\n",
       "      <th>roc_auc_score_test</th>\n",
       "      <th>accuracy_test</th>\n",
       "    </tr>\n",
       "  </thead>\n",
       "  <tbody>\n",
       "    <tr>\n",
       "      <th>0</th>\n",
       "      <td>lgbm</td>\n",
       "      <td>{'n_estimators': 1100, 'max_depth': 3}</td>\n",
       "      <td>0.92</td>\n",
       "      <td>0.87</td>\n",
       "    </tr>\n",
       "  </tbody>\n",
       "</table>\n",
       "</div>"
      ],
      "text/plain": [
       "  Model                                  Params  roc_auc_score_test  \\\n",
       "0  lgbm  {'n_estimators': 1100, 'max_depth': 3}                0.92   \n",
       "\n",
       "   accuracy_test  \n",
       "0           0.87  "
      ]
     },
     "execution_count": 914,
     "metadata": {},
     "output_type": "execute_result"
    }
   ],
   "source": [
    "test_table"
   ]
  },
  {
   "cell_type": "markdown",
   "id": "2a79ceb4",
   "metadata": {},
   "source": [
    "#### ROC_curve"
   ]
  },
  {
   "cell_type": "code",
   "execution_count": 915,
   "id": "45dad7ee",
   "metadata": {},
   "outputs": [
    {
     "data": {
      "image/png": "[encoded data removed]",
      "text/plain": [
       "<Figure size 1080x864 with 1 Axes>"
      ]
     },
     "metadata": {},
     "output_type": "display_data"
    }
   ],
   "source": [
    "def make_roc_curve(target_test, prediction_test):\n",
    "    fpr, tpr, thresholds = roc_curve(target_test, prediction_test)\n",
    "\n",
    "    plt.figure()\n",
    "    plt.plot(fpr, tpr)\n",
    "    plt.plot([0, 1], [0, 1], linestyle='--')\n",
    "    plt.xlim([0.0, 1.0])\n",
    "    plt.ylim([0.0, 1.0])\n",
    "    plt.xlabel('False Positive Rate')\n",
    "    plt.ylabel('True Positive Rate')\n",
    "    plt.title('ROC-curve')\n",
    "    plt.show()\n",
    "    \n",
    "make_roc_curve(lgbm.target_test, lgbm.model_test.predict_proba(lgbm.features_test)[:, 1])"
   ]
  },
  {
   "cell_type": "markdown",
   "id": "0d9b6a69",
   "metadata": {},
   "source": [
    "### 4.2 Оценка важности признаков итоговой модели"
   ]
  },
  {
   "cell_type": "code",
   "execution_count": 916,
   "id": "0dbbc49e",
   "metadata": {},
   "outputs": [
    {
     "data": {
      "image/png": "[encoded data removed]",
      "text/plain": [
       "<Figure size 1080x864 with 1 Axes>"
      ]
     },
     "metadata": {},
     "output_type": "display_data"
    }
   ],
   "source": [
    "feature_importances = pd.DataFrame(data = {'feature': lgbm.features.columns, 'importance': lgbm.model_test.feature_importances_})\n",
    "\n",
    "\n",
    "sns.set(rc={'figure.figsize':(15,12)}, font_scale = 1)\n",
    "plt.xticks(rotation=90)\n",
    "sns.barplot(x=feature_importances.sort_values('importance', ascending=False).reset_index(drop=True)['feature'].values,\n",
    "           y=feature_importances.sort_values('importance', ascending=False).reset_index(drop=True)['importance'].values)\n",
    "plt.show()"
   ]
  },
  {
   "cell_type": "markdown",
   "id": "589631eb",
   "metadata": {},
   "source": [
    "### Вывод по пункту 4"
   ]
  },
  {
   "cell_type": "code",
   "execution_count": 917,
   "id": "c3f62286",
   "metadata": {},
   "outputs": [
    {
     "name": "stdout",
     "output_type": "stream",
     "text": [
      " Вывод по пункту 4: На этапе тестирования: Модель = lgbm, roc_auc_score = 0.92, accuracy = 0.87 \n"
     ]
    }
   ],
   "source": [
    "print(\n",
    "f\" \\\n",
    "Вывод по пункту 4: \\\n",
    "На этапе тестирования: \\\n",
    "Модель = {valid_table.values[idxmax][0]}, \\\n",
    "roc_auc_score = {test_table.values[0][2]}, \\\n",
    "accuracy = {test_table.values[0][3]} \\\n",
    "\")"
   ]
  },
  {
   "cell_type": "code",
   "execution_count": 918,
   "id": "d2a42d8a",
   "metadata": {},
   "outputs": [
    {
     "name": "stdout",
     "output_type": "stream",
     "text": [
      "Топ-5 важных параметров для модели: \n",
      "\n",
      "    ['days_count', 'MonthlyCharges', 'TotalCharges', 'Type', 'gender'] \n"
     ]
    }
   ],
   "source": [
    "print(\n",
    "f\"\\\n",
    "Топ-5 важных параметров для модели: \\\n",
    "\\n\\n    \\\n",
    "{list(feature_importances.sort_values('importance', ascending=False).reset_index(drop=True)['feature'].head(5))} \\\n",
    "\")"
   ]
  },
  {
   "cell_type": "markdown",
   "id": "1dd4447f",
   "metadata": {},
   "source": [
    "## 5. Вывод"
   ]
  },
  {
   "cell_type": "markdown",
   "id": "8141d609",
   "metadata": {},
   "source": [
    "### Выводы:\n",
    "\n",
    "- Загрузили и объединили данные. Получили датасет: 7043 записей, 19 столбцов. Обработали пропуски по ряду столбцов.\n",
    "- Преобразовали форматы столбцов.\n",
    "- В столбце TotalCharges иногда формируются пустоты, что связано с тем, что пользователи не успели заплатить. Дата BeginDate совпадает с EndDate, MonthlyCharges != 0. Произвели замену нулями.\n",
    "- создали 2 признака: (1) сколько дней человек пробыл клиентом компании, (**2 - ключевой признак**) ушел ли в итоге клиент.\n",
    "- Замечен дисбаланс в классах целевого признака exited, при разделении данных использовали стратифицированный сплит\n",
    "\n",
    "**Из графиков распределения численных параметров было видно:**\n",
    "\n",
    "1. Значения столбца помесячной оплаты MonthlyCharges больше для ушедших клиентов. Возможно, это и было причиной их ухода. \n",
    "2. Значения столбца общей платы TotalCharges больше для текущих клиентов. Логично, что в долгосрочной перспективе профит от постоянных клиентов больше. \n",
    "\n",
    "**Ушедшие клиенты в основном характеризуются следующим образом:**\n",
    "1. Тип оплаты Type = Month-to-Month, то есть помесячная оплата. Возможно, следует предлагать долгосрочные подписки.\n",
    "2. Способ оплаты PaymentMethod = Electronic Check.\n",
    "3. Клиенты без супруга (Partner = 0) и без иждивенцев (Dependents = 0).\n",
    "4. бОльшее количество ушедших использует fiber optic, но при этом бОльшее количество ушедших не использует услуги OnlineSecurity, OnlineBackup, DeviceProtection, TechSupport. Возможно, стоит усилить продвижение данных услуг.\n",
    "\n",
    "**По результатам обучения, валидации и тестирования:**\n",
    "- На этапе валидации: лучшая модель = lgbm, roc_auc_score = 0.89\n",
    "- На этапе тестирования: Модель = lgbm, roc_auc_score = 0.92 \n",
    "- Топ-5 важных параметров для модели: 'days_count', 'MonthlyCharges', 'TotalCharges', 'Type', 'gender', из них по графику важности выделяются три: \n",
    "\n",
    "1. 'days_count' - сколько дней человек пробыл клиентом компании\n",
    "2. 'MonthlyCharges' - ежемесячные траты на услуги\n",
    "3. 'TotalCharges' - всего потрачено денег на услуги\n",
    "\n",
    "- По градуировке качества roc_auc_score, достигли лучшей группы качества на тестовой выборке ROC >= 0.88 (=0.92) "
   ]
  }
 ],
 "metadata": {
  "ExecuteTimeLog": [
   {
    "duration": 74,
    "start_time": "2022-06-02T11:26:20.129Z"
   },
   {
    "duration": 1697,
    "start_time": "2022-06-02T11:31:27.084Z"
   },
   {
    "duration": 100,
    "start_time": "2022-06-02T11:31:28.784Z"
   },
   {
    "duration": 0,
    "start_time": "2022-06-02T11:31:28.889Z"
   },
   {
    "duration": 0,
    "start_time": "2022-06-02T11:31:28.890Z"
   },
   {
    "duration": 0,
    "start_time": "2022-06-02T11:31:28.892Z"
   },
   {
    "duration": 0,
    "start_time": "2022-06-02T11:31:28.893Z"
   },
   {
    "duration": 0,
    "start_time": "2022-06-02T11:31:28.895Z"
   },
   {
    "duration": 0,
    "start_time": "2022-06-02T11:31:28.897Z"
   },
   {
    "duration": 0,
    "start_time": "2022-06-02T11:31:28.898Z"
   },
   {
    "duration": 0,
    "start_time": "2022-06-02T11:31:28.899Z"
   },
   {
    "duration": 0,
    "start_time": "2022-06-02T11:31:28.901Z"
   },
   {
    "duration": 0,
    "start_time": "2022-06-02T11:31:28.902Z"
   },
   {
    "duration": 0,
    "start_time": "2022-06-02T11:31:28.904Z"
   },
   {
    "duration": 0,
    "start_time": "2022-06-02T11:31:28.905Z"
   },
   {
    "duration": 0,
    "start_time": "2022-06-02T11:31:28.906Z"
   },
   {
    "duration": 0,
    "start_time": "2022-06-02T11:31:28.908Z"
   },
   {
    "duration": 0,
    "start_time": "2022-06-02T11:31:28.909Z"
   },
   {
    "duration": 0,
    "start_time": "2022-06-02T11:31:28.953Z"
   },
   {
    "duration": 0,
    "start_time": "2022-06-02T11:31:28.955Z"
   },
   {
    "duration": 0,
    "start_time": "2022-06-02T11:31:28.957Z"
   },
   {
    "duration": 0,
    "start_time": "2022-06-02T11:31:28.958Z"
   },
   {
    "duration": 0,
    "start_time": "2022-06-02T11:31:28.959Z"
   },
   {
    "duration": 0,
    "start_time": "2022-06-02T11:31:28.961Z"
   },
   {
    "duration": 0,
    "start_time": "2022-06-02T11:31:28.961Z"
   },
   {
    "duration": 0,
    "start_time": "2022-06-02T11:31:28.962Z"
   },
   {
    "duration": 0,
    "start_time": "2022-06-02T11:31:28.962Z"
   },
   {
    "duration": 0,
    "start_time": "2022-06-02T11:31:28.964Z"
   },
   {
    "duration": 0,
    "start_time": "2022-06-02T11:31:28.967Z"
   },
   {
    "duration": 0,
    "start_time": "2022-06-02T11:31:28.967Z"
   },
   {
    "duration": 0,
    "start_time": "2022-06-02T11:31:28.969Z"
   },
   {
    "duration": 0,
    "start_time": "2022-06-02T11:31:28.970Z"
   },
   {
    "duration": 0,
    "start_time": "2022-06-02T11:31:28.971Z"
   },
   {
    "duration": 0,
    "start_time": "2022-06-02T11:31:28.972Z"
   },
   {
    "duration": 0,
    "start_time": "2022-06-02T11:31:28.973Z"
   },
   {
    "duration": 0,
    "start_time": "2022-06-02T11:31:28.973Z"
   },
   {
    "duration": 0,
    "start_time": "2022-06-02T11:31:28.974Z"
   },
   {
    "duration": 0,
    "start_time": "2022-06-02T11:31:28.975Z"
   },
   {
    "duration": 0,
    "start_time": "2022-06-02T11:31:28.976Z"
   },
   {
    "duration": 0,
    "start_time": "2022-06-02T11:31:28.977Z"
   },
   {
    "duration": 0,
    "start_time": "2022-06-02T11:31:28.978Z"
   },
   {
    "duration": 0,
    "start_time": "2022-06-02T11:31:28.979Z"
   },
   {
    "duration": 0,
    "start_time": "2022-06-02T11:31:28.980Z"
   },
   {
    "duration": 0,
    "start_time": "2022-06-02T11:31:28.982Z"
   },
   {
    "duration": 0,
    "start_time": "2022-06-02T11:31:28.984Z"
   },
   {
    "duration": 0,
    "start_time": "2022-06-02T11:31:28.985Z"
   },
   {
    "duration": 0,
    "start_time": "2022-06-02T11:31:28.986Z"
   },
   {
    "duration": 0,
    "start_time": "2022-06-02T11:31:28.986Z"
   },
   {
    "duration": 0,
    "start_time": "2022-06-02T11:31:28.987Z"
   },
   {
    "duration": 0,
    "start_time": "2022-06-02T11:31:28.987Z"
   },
   {
    "duration": 0,
    "start_time": "2022-06-02T11:31:28.988Z"
   },
   {
    "duration": 0,
    "start_time": "2022-06-02T11:31:28.991Z"
   },
   {
    "duration": 1,
    "start_time": "2022-06-02T11:31:28.992Z"
   },
   {
    "duration": 0,
    "start_time": "2022-06-02T11:31:28.993Z"
   },
   {
    "duration": 0,
    "start_time": "2022-06-02T11:31:28.995Z"
   },
   {
    "duration": 0,
    "start_time": "2022-06-02T11:31:29.046Z"
   },
   {
    "duration": 0,
    "start_time": "2022-06-02T11:31:29.047Z"
   },
   {
    "duration": 0,
    "start_time": "2022-06-02T11:31:29.048Z"
   },
   {
    "duration": 0,
    "start_time": "2022-06-02T11:31:29.048Z"
   },
   {
    "duration": 0,
    "start_time": "2022-06-02T11:31:29.049Z"
   },
   {
    "duration": 0,
    "start_time": "2022-06-02T11:31:29.050Z"
   },
   {
    "duration": 0,
    "start_time": "2022-06-02T11:31:29.050Z"
   },
   {
    "duration": 0,
    "start_time": "2022-06-02T11:31:29.051Z"
   },
   {
    "duration": 0,
    "start_time": "2022-06-02T11:31:29.051Z"
   },
   {
    "duration": 0,
    "start_time": "2022-06-02T11:31:29.052Z"
   },
   {
    "duration": 0,
    "start_time": "2022-06-02T11:31:29.054Z"
   },
   {
    "duration": 0,
    "start_time": "2022-06-02T11:31:29.055Z"
   },
   {
    "duration": 0,
    "start_time": "2022-06-02T11:31:29.056Z"
   },
   {
    "duration": 0,
    "start_time": "2022-06-02T11:31:29.057Z"
   },
   {
    "duration": 0,
    "start_time": "2022-06-02T11:31:29.058Z"
   },
   {
    "duration": 0,
    "start_time": "2022-06-02T11:31:29.059Z"
   },
   {
    "duration": 0,
    "start_time": "2022-06-02T11:31:29.059Z"
   },
   {
    "duration": 0,
    "start_time": "2022-06-02T11:31:29.060Z"
   },
   {
    "duration": 0,
    "start_time": "2022-06-02T11:31:29.061Z"
   },
   {
    "duration": 0,
    "start_time": "2022-06-02T11:31:29.062Z"
   },
   {
    "duration": 0,
    "start_time": "2022-06-02T11:31:29.063Z"
   },
   {
    "duration": 0,
    "start_time": "2022-06-02T11:31:29.064Z"
   },
   {
    "duration": 21,
    "start_time": "2022-06-02T11:32:05.578Z"
   },
   {
    "duration": 43,
    "start_time": "2022-06-03T11:29:20.132Z"
   }
  ],
  "kernelspec": {
   "display_name": "Python 3 (ipykernel)",
   "language": "python",
   "name": "python3"
  },
  "language_info": {
   "codemirror_mode": {
    "name": "ipython",
    "version": 3
   },
   "file_extension": ".py",
   "mimetype": "text/x-python",
   "name": "python",
   "nbconvert_exporter": "python",
   "pygments_lexer": "ipython3",
   "version": "3.9.7"
  },
  "toc": {
   "base_numbering": 1,
   "nav_menu": {},
   "number_sections": true,
   "sideBar": true,
   "skip_h1_title": true,
   "title_cell": "Table of Contents",
   "title_sidebar": "Contents",
   "toc_cell": false,
   "toc_position": {},
   "toc_section_display": true,
   "toc_window_display": false
  }
 },
 "nbformat": 4,
 "nbformat_minor": 5
}
