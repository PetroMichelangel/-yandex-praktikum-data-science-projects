{
 "cells": [
  {
   "cell_type": "markdown",
   "metadata": {},
   "source": [
    "# Проект: Рекомендация тарифов"
   ]
  },
  {
   "cell_type": "markdown",
   "metadata": {},
   "source": [
    "**Цели проекта:** \n",
    "\n",
    "- Нужно построить модель для задачи классификации, которая выберет подходящий тариф.\n",
    "- Построить модель с максимально большим значением *accuracy* (> 0.75) на тестовой выборке."
   ]
  },
  {
   "cell_type": "markdown",
   "metadata": {},
   "source": [
    "# План проекта:\n",
    "\n",
    "1. Открыть и изучить файл с данными\n",
    "2. Разбить данные на обучающую, валидационную и тестовую выборки\n",
    "3. Исследовать модели классификации тарифов\n",
    "4. Проверить модели на тестовой выборке\n",
    "5. Проверить адекватность модели\n",
    "6. Общий вывод"
   ]
  },
  {
   "cell_type": "markdown",
   "metadata": {},
   "source": [
    "# Описание данных:\n",
    "Каждый объект в наборе данных users_behavior.csv — это информация о поведении одного пользователя за месяц. Известно:\n",
    "- сalls — количество звонков,\n",
    "- minutes — суммарная длительность звонков в минутах,\n",
    "- messages — количество sms-сообщений,\n",
    "- mb_used — израсходованный интернет-трафик в Мб,\n",
    "- is_ultra — каким тарифом пользовался в течение месяца («Ультра» — 1, «Смарт» — 0)."
   ]
  },
  {
   "cell_type": "markdown",
   "metadata": {},
   "source": [
    "## Откройте и изучите файл"
   ]
  },
  {
   "cell_type": "markdown",
   "metadata": {},
   "source": [
    "**Импортируем библиотеки:**"
   ]
  },
  {
   "cell_type": "code",
   "execution_count": 33,
   "metadata": {},
   "outputs": [],
   "source": [
    "import pandas as pd\n",
    "import numpy as np\n",
    "import matplotlib.pyplot as plt\n",
    "import seaborn as sns\n",
    "from sklearn.model_selection import train_test_split\n",
    "from sklearn.metrics import accuracy_score\n",
    "from sklearn.tree import DecisionTreeClassifier\n",
    "from sklearn.ensemble import RandomForestClassifier\n",
    "from sklearn.linear_model import LogisticRegression\n",
    "from sklearn.neighbors import KNeighborsClassifier\n",
    "from sklearn.dummy import DummyClassifier"
   ]
  },
  {
   "cell_type": "code",
   "execution_count": 34,
   "metadata": {},
   "outputs": [
    {
     "data": {
      "text/html": [
       "<div>\n",
       "<style scoped>\n",
       "    .dataframe tbody tr th:only-of-type {\n",
       "        vertical-align: middle;\n",
       "    }\n",
       "\n",
       "    .dataframe tbody tr th {\n",
       "        vertical-align: top;\n",
       "    }\n",
       "\n",
       "    .dataframe thead th {\n",
       "        text-align: right;\n",
       "    }\n",
       "</style>\n",
       "<table border=\"1\" class=\"dataframe\">\n",
       "  <thead>\n",
       "    <tr style=\"text-align: right;\">\n",
       "      <th></th>\n",
       "      <th>calls</th>\n",
       "      <th>minutes</th>\n",
       "      <th>messages</th>\n",
       "      <th>mb_used</th>\n",
       "      <th>is_ultra</th>\n",
       "    </tr>\n",
       "  </thead>\n",
       "  <tbody>\n",
       "    <tr>\n",
       "      <td>0</td>\n",
       "      <td>40.0</td>\n",
       "      <td>311.90</td>\n",
       "      <td>83.0</td>\n",
       "      <td>19915.42</td>\n",
       "      <td>0</td>\n",
       "    </tr>\n",
       "    <tr>\n",
       "      <td>1</td>\n",
       "      <td>85.0</td>\n",
       "      <td>516.75</td>\n",
       "      <td>56.0</td>\n",
       "      <td>22696.96</td>\n",
       "      <td>0</td>\n",
       "    </tr>\n",
       "    <tr>\n",
       "      <td>2</td>\n",
       "      <td>77.0</td>\n",
       "      <td>467.66</td>\n",
       "      <td>86.0</td>\n",
       "      <td>21060.45</td>\n",
       "      <td>0</td>\n",
       "    </tr>\n",
       "    <tr>\n",
       "      <td>3</td>\n",
       "      <td>106.0</td>\n",
       "      <td>745.53</td>\n",
       "      <td>81.0</td>\n",
       "      <td>8437.39</td>\n",
       "      <td>1</td>\n",
       "    </tr>\n",
       "    <tr>\n",
       "      <td>4</td>\n",
       "      <td>66.0</td>\n",
       "      <td>418.74</td>\n",
       "      <td>1.0</td>\n",
       "      <td>14502.75</td>\n",
       "      <td>0</td>\n",
       "    </tr>\n",
       "  </tbody>\n",
       "</table>\n",
       "</div>"
      ],
      "text/plain": [
       "   calls  minutes  messages   mb_used  is_ultra\n",
       "0   40.0   311.90      83.0  19915.42         0\n",
       "1   85.0   516.75      56.0  22696.96         0\n",
       "2   77.0   467.66      86.0  21060.45         0\n",
       "3  106.0   745.53      81.0   8437.39         1\n",
       "4   66.0   418.74       1.0  14502.75         0"
      ]
     },
     "execution_count": 34,
     "metadata": {},
     "output_type": "execute_result"
    }
   ],
   "source": [
    "# открываем и смотрим файл\n",
    "df = pd.read_csv('/datasets/users_behavior.csv')\n",
    "df.head()"
   ]
  },
  {
   "cell_type": "code",
   "execution_count": 35,
   "metadata": {},
   "outputs": [
    {
     "data": {
      "text/html": [
       "<div>\n",
       "<style scoped>\n",
       "    .dataframe tbody tr th:only-of-type {\n",
       "        vertical-align: middle;\n",
       "    }\n",
       "\n",
       "    .dataframe tbody tr th {\n",
       "        vertical-align: top;\n",
       "    }\n",
       "\n",
       "    .dataframe thead th {\n",
       "        text-align: right;\n",
       "    }\n",
       "</style>\n",
       "<table border=\"1\" class=\"dataframe\">\n",
       "  <thead>\n",
       "    <tr style=\"text-align: right;\">\n",
       "      <th></th>\n",
       "      <th>calls</th>\n",
       "      <th>minutes</th>\n",
       "      <th>messages</th>\n",
       "      <th>mb_used</th>\n",
       "      <th>is_ultra</th>\n",
       "    </tr>\n",
       "  </thead>\n",
       "  <tbody>\n",
       "    <tr>\n",
       "      <td>count</td>\n",
       "      <td>3214.000000</td>\n",
       "      <td>3214.000000</td>\n",
       "      <td>3214.000000</td>\n",
       "      <td>3214.000000</td>\n",
       "      <td>3214.000000</td>\n",
       "    </tr>\n",
       "    <tr>\n",
       "      <td>mean</td>\n",
       "      <td>63.038892</td>\n",
       "      <td>438.208787</td>\n",
       "      <td>38.281269</td>\n",
       "      <td>17207.673836</td>\n",
       "      <td>0.306472</td>\n",
       "    </tr>\n",
       "    <tr>\n",
       "      <td>std</td>\n",
       "      <td>33.236368</td>\n",
       "      <td>234.569872</td>\n",
       "      <td>36.148326</td>\n",
       "      <td>7570.968246</td>\n",
       "      <td>0.461100</td>\n",
       "    </tr>\n",
       "    <tr>\n",
       "      <td>min</td>\n",
       "      <td>0.000000</td>\n",
       "      <td>0.000000</td>\n",
       "      <td>0.000000</td>\n",
       "      <td>0.000000</td>\n",
       "      <td>0.000000</td>\n",
       "    </tr>\n",
       "    <tr>\n",
       "      <td>25%</td>\n",
       "      <td>40.000000</td>\n",
       "      <td>274.575000</td>\n",
       "      <td>9.000000</td>\n",
       "      <td>12491.902500</td>\n",
       "      <td>0.000000</td>\n",
       "    </tr>\n",
       "    <tr>\n",
       "      <td>50%</td>\n",
       "      <td>62.000000</td>\n",
       "      <td>430.600000</td>\n",
       "      <td>30.000000</td>\n",
       "      <td>16943.235000</td>\n",
       "      <td>0.000000</td>\n",
       "    </tr>\n",
       "    <tr>\n",
       "      <td>75%</td>\n",
       "      <td>82.000000</td>\n",
       "      <td>571.927500</td>\n",
       "      <td>57.000000</td>\n",
       "      <td>21424.700000</td>\n",
       "      <td>1.000000</td>\n",
       "    </tr>\n",
       "    <tr>\n",
       "      <td>max</td>\n",
       "      <td>244.000000</td>\n",
       "      <td>1632.060000</td>\n",
       "      <td>224.000000</td>\n",
       "      <td>49745.730000</td>\n",
       "      <td>1.000000</td>\n",
       "    </tr>\n",
       "  </tbody>\n",
       "</table>\n",
       "</div>"
      ],
      "text/plain": [
       "             calls      minutes     messages       mb_used     is_ultra\n",
       "count  3214.000000  3214.000000  3214.000000   3214.000000  3214.000000\n",
       "mean     63.038892   438.208787    38.281269  17207.673836     0.306472\n",
       "std      33.236368   234.569872    36.148326   7570.968246     0.461100\n",
       "min       0.000000     0.000000     0.000000      0.000000     0.000000\n",
       "25%      40.000000   274.575000     9.000000  12491.902500     0.000000\n",
       "50%      62.000000   430.600000    30.000000  16943.235000     0.000000\n",
       "75%      82.000000   571.927500    57.000000  21424.700000     1.000000\n",
       "max     244.000000  1632.060000   224.000000  49745.730000     1.000000"
      ]
     },
     "execution_count": 35,
     "metadata": {},
     "output_type": "execute_result"
    }
   ],
   "source": [
    "df.describe()"
   ]
  },
  {
   "cell_type": "markdown",
   "metadata": {},
   "source": [
    "Медиана и среднее значение параметров отличаются незначительно."
   ]
  },
  {
   "cell_type": "code",
   "execution_count": 36,
   "metadata": {},
   "outputs": [
    {
     "name": "stdout",
     "output_type": "stream",
     "text": [
      "<class 'pandas.core.frame.DataFrame'>\n",
      "RangeIndex: 3214 entries, 0 to 3213\n",
      "Data columns (total 5 columns):\n",
      "calls       3214 non-null float64\n",
      "minutes     3214 non-null float64\n",
      "messages    3214 non-null float64\n",
      "mb_used     3214 non-null float64\n",
      "is_ultra    3214 non-null int64\n",
      "dtypes: float64(4), int64(1)\n",
      "memory usage: 125.7 KB\n"
     ]
    }
   ],
   "source": [
    "df.info()"
   ]
  },
  {
   "cell_type": "code",
   "execution_count": 37,
   "metadata": {},
   "outputs": [
    {
     "data": {
      "text/plain": [
       "0"
      ]
     },
     "execution_count": 37,
     "metadata": {},
     "output_type": "execute_result"
    }
   ],
   "source": [
    "df.duplicated().sum()"
   ]
  },
  {
   "cell_type": "markdown",
   "metadata": {},
   "source": [
    "Посмотрим на параметры, пропишем составную функцию check_param"
   ]
  },
  {
   "cell_type": "code",
   "execution_count": 38,
   "metadata": {},
   "outputs": [],
   "source": [
    "#прописываем функцию построения гистограммы\n",
    "def hist_builder(data_column, label, bins):\n",
    "    sns.set()\n",
    "    f, axes = plt.subplots(1,2,figsize=(20,10))\n",
    "    axes[0].set_title(\"Плотность распределения для параметра: \" + label, fontsize=20)\n",
    "    axes[0].set_ylabel(\"Плотность параметра: \" + label, fontsize = 18)\n",
    "    axes[0].set_xlabel(\"Параметр: \" + label, fontsize = 18)\n",
    "    sns.distplot(data_column, axlabel= \"Параметр: \" + label, bins=bins, ax=axes[0])\n",
    "    axes[1].set_title(\"Boxplot для параметра: \" + label, fontsize=18)\n",
    "    axes[1].set_xlabel(\"Параметр: \" + label, fontsize = 18)\n",
    "    sns.boxplot(data = data_column, orient=\"h\", ax=axes[1])\n",
    "    plt.show()\n",
    "#прописываем функцию поиска аномалий\n",
    "def anomaly_detection(data_column, label):\n",
    "    anomaly_threshold = data_column.quantile(0.75) + (data_column.quantile(0.75) - data_column.quantile(0.25)) * 1.5\n",
    "    anomaly_percent = round(len(data_column[data_column > anomaly_threshold]) / len(data_column) * 100, 2)\n",
    "    print(\"Доля выбросов параметра '\" + label + \"' равно: \" + str(anomaly_percent) + \"%\")\n",
    "#прописываем итоговую функцию    \n",
    "def check_param(data_column, label, bins):\n",
    "    hist_builder(data_column, label, bins)\n",
    "    anomaly_detection(data_column, label)"
   ]
  },
  {
   "cell_type": "code",
   "execution_count": 39,
   "metadata": {},
   "outputs": [
    {
     "name": "stdout",
     "output_type": "stream",
     "text": [
      "Анализ параметра 'calls':\n"
     ]
    },
    {
     "data": {
      "image/png": "[encoded data removed]",
      "text/plain": [
       "<Figure size 1440x720 with 2 Axes>"
      ]
     },
     "metadata": {},
     "output_type": "display_data"
    },
    {
     "name": "stdout",
     "output_type": "stream",
     "text": [
      "Доля выбросов параметра 'calls' равно: 1.93%\n",
      "Анализ параметра 'minutes':\n"
     ]
    },
    {
     "data": {
      "image/png": "[encoded data removed]",
      "text/plain": [
       "<Figure size 1440x720 with 2 Axes>"
      ]
     },
     "metadata": {},
     "output_type": "display_data"
    },
    {
     "name": "stdout",
     "output_type": "stream",
     "text": [
      "Доля выбросов параметра 'minutes' равно: 1.9%\n",
      "Анализ параметра 'messages':\n"
     ]
    },
    {
     "data": {
      "image/png": "[encoded data removed]",
      "text/plain": [
       "<Figure size 1440x720 with 2 Axes>"
      ]
     },
     "metadata": {},
     "output_type": "display_data"
    },
    {
     "name": "stdout",
     "output_type": "stream",
     "text": [
      "Доля выбросов параметра 'messages' равно: 2.83%\n",
      "Анализ параметра 'mb_used':\n"
     ]
    },
    {
     "data": {
      "image/png": "[encoded data removed]",
      "text/plain": [
       "<Figure size 1440x720 with 2 Axes>"
      ]
     },
     "metadata": {},
     "output_type": "display_data"
    },
    {
     "name": "stdout",
     "output_type": "stream",
     "text": [
      "Доля выбросов параметра 'mb_used' равно: 2.4%\n"
     ]
    }
   ],
   "source": [
    "#вызываем функцию\n",
    "for column in df.drop(['is_ultra'], axis=1).columns:\n",
    "    print(\"Анализ параметра '\" + column + \"':\")\n",
    "    check_param(df[column], column, bins=15)"
   ]
  },
  {
   "cell_type": "markdown",
   "metadata": {},
   "source": [
    "- Выбросы по параметрам колеблются от 1.9 - 2.4%. Не будем удалять эти данные. \n",
    "- Заметен нулевой пик в столбце messages."
   ]
  },
  {
   "cell_type": "markdown",
   "metadata": {},
   "source": [
    "**Выводы по первому пункту проекта:**\n",
    "\n",
    "- Данные открыты и изучены. Всего имеется 3214 записей, без пропусков, без дубликатов.\n",
    "- Не наблюдаем существенного различия между средним значением и медианой параметров \n",
    "- Выбросы по параметрам колеблются от 1.9 - 2.4%.\n",
    "- Заметен нулевой пик в столбце messages.\n",
    "    "
   ]
  },
  {
   "cell_type": "markdown",
   "metadata": {},
   "source": [
    "## Разбейте данные на выборки"
   ]
  },
  {
   "cell_type": "markdown",
   "metadata": {},
   "source": [
    "- Размер обучающей, валидационной и тестовой выборок: 60, 20, 20%.\n",
    "- Признаки (features) проекта: calls, minutes, messages, mb_used\n",
    "- Целевой признак (target) проекта: is_ultra"
   ]
  },
  {
   "cell_type": "code",
   "execution_count": 40,
   "metadata": {},
   "outputs": [],
   "source": [
    "features = df.drop(['is_ultra'], axis=1)\n",
    "target = df['is_ultra']"
   ]
  },
  {
   "cell_type": "code",
   "execution_count": 41,
   "metadata": {},
   "outputs": [],
   "source": [
    "features_rest, features_test, target_rest, target_test = train_test_split(features,\n",
    "                                                                         target,\n",
    "                                                                         test_size=0.2,\n",
    "                                                                         random_state=12345)\n",
    "features_train, features_valid, target_train, target_valid = train_test_split(features_rest,\n",
    "                                                                         target_rest,\n",
    "                                                                         test_size=0.25,\n",
    "                                                                         random_state=12345)"
   ]
  },
  {
   "cell_type": "code",
   "execution_count": 42,
   "metadata": {},
   "outputs": [
    {
     "name": "stdout",
     "output_type": "stream",
     "text": [
      "Размер обучающей выборки. Признаки:  (1928, 4) Целевой признак:  (1928,)\n",
      "Размер валидационной выборки. Признаки:  (643, 4) Целевой признак:  (643,)\n",
      "Размер тестовой выборки. Признаки:  (643, 4) Целевой признак:  (643,)\n"
     ]
    }
   ],
   "source": [
    "print(\"Размер обучающей выборки. Признаки: \", features_train.shape, \"Целевой признак: \", target_train.shape);\n",
    "print(\"Размер валидационной выборки. Признаки: \", features_valid.shape, \"Целевой признак: \", target_valid.shape);\n",
    "print(\"Размер тестовой выборки. Признаки: \", features_test.shape, \"Целевой признак: \", target_test.shape);"
   ]
  },
  {
   "cell_type": "markdown",
   "metadata": {},
   "source": [
    "## Исследуйте модели"
   ]
  },
  {
   "cell_type": "markdown",
   "metadata": {},
   "source": [
    "Оценивать модели классификации для проекта будем по метрике общей точности accuracy"
   ]
  },
  {
   "cell_type": "markdown",
   "metadata": {},
   "source": [
    "### Модель №1: Решающее дерево"
   ]
  },
  {
   "cell_type": "markdown",
   "metadata": {},
   "source": [
    "Гиперпараметры модели:\n",
    "- max_depth - максимальная глубина дерева\n",
    "- min_samples_split - минимальное количество примеров для разделения\n",
    "- min_samples_leaf - минимальное количество объектов в листе\n",
    "- criterion - функция качества деления (Gini impurity / Entropy) - используем Gini   "
   ]
  },
  {
   "cell_type": "code",
   "execution_count": 43,
   "metadata": {},
   "outputs": [],
   "source": [
    "#обучаем и оцениваем модель\n",
    "best_model_params = []\n",
    "best_accuracy = 0\n",
    "\n",
    "for depth in range(2,10):\n",
    "    for samples_split in range(2,10):\n",
    "        for samples_leaf in range(1,10):\n",
    "            model = DecisionTreeClassifier(random_state=12345,\n",
    "                                          max_depth=depth,\n",
    "                                          min_samples_split=samples_split,\n",
    "                                          min_samples_leaf=samples_leaf,\n",
    "                                          criterion='gini')\n",
    "            model.fit(features_train, target_train)\n",
    "            predictions = model.predict(features_valid)\n",
    "            accuracy = accuracy_score(target_valid, predictions)\n",
    "            \n",
    "            if accuracy > best_accuracy:\n",
    "                best_model_params = [depth, samples_split, samples_leaf]\n",
    "                best_accuracy = accuracy"
   ]
  },
  {
   "cell_type": "code",
   "execution_count": 44,
   "metadata": {},
   "outputs": [
    {
     "name": "stdout",
     "output_type": "stream",
     "text": [
      "Лучшая точность для решающего дерева равна: 0.79, \n",
      "Параметры этого дерева:\n",
      "Макс. Глубина: 7 \n",
      "Мин. количество примеров для разделения: 2 \n",
      "Мин. кол-во объектов в листе: 8\n"
     ]
    }
   ],
   "source": [
    "print(\"Лучшая точность для решающего дерева равна: {0}, \\n\"\n",
    "      \"Параметры этого дерева:\\n\"\n",
    "      \"Макс. Глубина: {1} \\n\"\n",
    "      \"Мин. количество примеров для разделения: {2} \\n\"\n",
    "      \"Мин. кол-во объектов в листе: {3}\"\n",
    "     .format(round(best_accuracy, 2), best_model_params[0], best_model_params[1], best_model_params[2]))"
   ]
  },
  {
   "cell_type": "code",
   "execution_count": 45,
   "metadata": {},
   "outputs": [
    {
     "name": "stdout",
     "output_type": "stream",
     "text": [
      "Точность больше 75%. Модель подходит по условиям задачи\n"
     ]
    }
   ],
   "source": [
    "if (best_accuracy > 0.75):\n",
    "    print(\"Точность больше 75%. Модель подходит по условиям задачи\")\n",
    "else:\n",
    "    print(\"Точность меньше 75%. Модель не подходит по условиям задачи\")"
   ]
  },
  {
   "cell_type": "markdown",
   "metadata": {},
   "source": [
    "### Модель №2: Случайный лес"
   ]
  },
  {
   "cell_type": "markdown",
   "metadata": {},
   "source": [
    "Гиперпараметры модели:\n",
    "- max_depth - максимальная глубина дерева\n",
    "- min_samples_split - минимальное количество примеров для разделения\n",
    "- min_samples_leaf - минимальное количество объектов в листе\n",
    "- n_estimators - количество деревьев в лесу\n",
    "- criterion - функция качества деления (Gini impurity / Entropy) - используем Gini   "
   ]
  },
  {
   "cell_type": "code",
   "execution_count": 46,
   "metadata": {},
   "outputs": [],
   "source": [
    "#обучаем и оцениваем модель\n",
    "best_model_params = []\n",
    "best_accuracy = 0\n",
    "\n",
    "for depth in range(2,10):\n",
    "    for est in range(1,10):\n",
    "        for samples_split in range(2,10):\n",
    "            for samples_leaf in range(1,10):\n",
    "                model = RandomForestClassifier(random_state=12345,\n",
    "                                              max_depth=depth,\n",
    "                                              n_estimators=est,\n",
    "                                              min_samples_split=samples_split,\n",
    "                                              min_samples_leaf=samples_leaf,\n",
    "                                              criterion='gini')\n",
    "                model.fit(features_train, target_train)\n",
    "                predictions = model.predict(features_valid)\n",
    "                accuracy = accuracy_score(target_valid, predictions)\n",
    "\n",
    "                if accuracy > best_accuracy:\n",
    "                    best_model_params = [depth, samples_split, samples_leaf, est]\n",
    "                    best_accuracy = accuracy"
   ]
  },
  {
   "cell_type": "code",
   "execution_count": 47,
   "metadata": {},
   "outputs": [
    {
     "name": "stdout",
     "output_type": "stream",
     "text": [
      "Лучшая точность для решающего дерева равна: 0.81, \n",
      "Параметры этого леса:\n",
      "Макс. Глубина: 8 \n",
      "Мин. количество примеров для разделения: 3 \n",
      "Мин. кол-во объектов в листе: 1 \n",
      "Количество деревьев: 3\n"
     ]
    }
   ],
   "source": [
    "print(\"Лучшая точность для решающего дерева равна: {0}, \\n\"\n",
    "      \"Параметры этого леса:\\n\"\n",
    "      \"Макс. Глубина: {1} \\n\"\n",
    "      \"Мин. количество примеров для разделения: {2} \\n\"\n",
    "      \"Мин. кол-во объектов в листе: {3} \\n\"\n",
    "      \"Количество деревьев: {4}\"\n",
    "     .format(round(best_accuracy, 2), best_model_params[0], best_model_params[1], best_model_params[2], best_model_params[3]))"
   ]
  },
  {
   "cell_type": "code",
   "execution_count": 48,
   "metadata": {},
   "outputs": [
    {
     "name": "stdout",
     "output_type": "stream",
     "text": [
      "Точность больше 75%. Модель подходит по условиям задачи\n"
     ]
    }
   ],
   "source": [
    "if (best_accuracy > 0.75):\n",
    "    print(\"Точность больше 75%. Модель подходит по условиям задачи\")\n",
    "else:\n",
    "    print(\"Точность меньше 75%. Модель не подходит по условиям задачи\")"
   ]
  },
  {
   "cell_type": "markdown",
   "metadata": {},
   "source": [
    "### Модель №3: Логистическая регрессия"
   ]
  },
  {
   "cell_type": "markdown",
   "metadata": {},
   "source": [
    "Гиперпараметры модели:\n",
    "- C - инверсия силы регуляризации (малые значения -> модель недостаточно \"штрафуется\" за ошибки. Большие значения -> модель \"боится ошибиться\" и стремится к переобучению)\n",
    "- max_iter - число итераций, прежде чем будет достигнут критерий останова. (так как наилучшая точность не отличается, если использовать гиперпараметр по умолчанию, не будем использовать этот гиперпараметр)\n",
    "- solver - алгоритм оптимизации проблемы (для небольшого датасета используем liblinear)"
   ]
  },
  {
   "cell_type": "code",
   "execution_count": 49,
   "metadata": {},
   "outputs": [],
   "source": [
    "#обучаем и оцениваем модель\n",
    "best_model_params = []\n",
    "best_accuracy = 0\n",
    "\n",
    "for C_cur in np.linspace(0.01,3,500):\n",
    "    #for n_iter in range(50,300):\n",
    "        model = LogisticRegression(random_state=12345,\n",
    "                                   C=C_cur,\n",
    "                                  solver= 'liblinear')\n",
    "        model.fit(features_train, target_train)\n",
    "        predictions = model.predict(features_valid)\n",
    "        accuracy = accuracy_score(target_valid, predictions)\n",
    "\n",
    "        if accuracy > best_accuracy:\n",
    "            best_model_params = [C_cur]\n",
    "            best_accuracy = accuracy"
   ]
  },
  {
   "cell_type": "code",
   "execution_count": 50,
   "metadata": {},
   "outputs": [
    {
     "name": "stdout",
     "output_type": "stream",
     "text": [
      "Лучшая точность для логистической регрессии равна: 0.73, \n",
      "Параметры модели логистической регрессии:\n",
      "Инверсия силы регуляризации: 0.12 \n",
      "\n"
     ]
    }
   ],
   "source": [
    "print(\"Лучшая точность для логистической регрессии равна: {0}, \\n\"\n",
    "      \"Параметры модели логистической регрессии:\\n\"\n",
    "      \"Инверсия силы регуляризации: {1} \\n\"\n",
    "     .format(round(best_accuracy, 2), round(best_model_params[0], 2)))"
   ]
  },
  {
   "cell_type": "code",
   "execution_count": 51,
   "metadata": {},
   "outputs": [
    {
     "name": "stdout",
     "output_type": "stream",
     "text": [
      "Точность меньше 75%. Модель не подходит по условиям задачи\n"
     ]
    }
   ],
   "source": [
    "if (best_accuracy > 0.75):\n",
    "    print(\"Точность больше 75%. Модель подходит по условиям задачи\")\n",
    "else:\n",
    "    print(\"Точность меньше 75%. Модель не подходит по условиям задачи\")"
   ]
  },
  {
   "cell_type": "markdown",
   "metadata": {},
   "source": [
    "### Модель №4: K - ближайших соседей"
   ]
  },
  {
   "cell_type": "markdown",
   "metadata": {},
   "source": [
    "Гиперпараметры модели:\n",
    "- n_neighbors - число \"центров\" или \"соседей\""
   ]
  },
  {
   "cell_type": "code",
   "execution_count": 52,
   "metadata": {},
   "outputs": [],
   "source": [
    "#обучаем и оцениваем модель\n",
    "best_model_params = []\n",
    "best_accuracy = 0\n",
    "\n",
    "for n_neighbors_cur in range(1,20):\n",
    "        model = KNeighborsClassifier(n_neighbors=n_neighbors_cur)\n",
    "        model.fit(features_train, target_train)\n",
    "        predictions = model.predict(features_valid)\n",
    "        accuracy = accuracy_score(target_valid, predictions)\n",
    "\n",
    "        if accuracy > best_accuracy:\n",
    "            best_model_params = [n_neighbors_cur]\n",
    "            best_accuracy = accuracy"
   ]
  },
  {
   "cell_type": "code",
   "execution_count": 53,
   "metadata": {},
   "outputs": [
    {
     "name": "stdout",
     "output_type": "stream",
     "text": [
      "Лучшая точность для KNN равна: 0.77, \n",
      "Параметры модели KNN:\n",
      "Число соседей: 12 \n",
      "\n"
     ]
    }
   ],
   "source": [
    "print(\"Лучшая точность для KNN равна: {0}, \\n\"\n",
    "      \"Параметры модели KNN:\\n\"\n",
    "      \"Число соседей: {1} \\n\"\n",
    "     .format(round(best_accuracy, 2), best_model_params[0]))"
   ]
  },
  {
   "cell_type": "code",
   "execution_count": 54,
   "metadata": {},
   "outputs": [
    {
     "name": "stdout",
     "output_type": "stream",
     "text": [
      "Точность больше 75%. Модель подходит по условиям задачи\n"
     ]
    }
   ],
   "source": [
    "if (best_accuracy > 0.75):\n",
    "    print(\"Точность больше 75%. Модель подходит по условиям задачи\")\n",
    "else:\n",
    "    print(\"Точность меньше 75%. Модель не подходит по условиям задачи\")"
   ]
  },
  {
   "cell_type": "markdown",
   "metadata": {},
   "source": [
    "**Итого точности моделей примерно составляют:**\n",
    "- 81% -> Случайный лес\n",
    "- 79% -> Решающее дерево\n",
    "- 77% -> K-случайных соседей\n",
    "- 73% -> Логистическая регрессия"
   ]
  },
  {
   "cell_type": "markdown",
   "metadata": {},
   "source": [
    "Для пункта 4 будем проверять модель случайного леса уже на тестовой выборке.\n",
    "\n",
    "**Гиперпараметры случайного леса:**\n",
    "\n",
    "- Макс. Глубина: 8 \n",
    "- Мин. количество примеров для разделения: 3 \n",
    "- Мин. кол-во объектов в листе: 1 \n",
    "- Количество деревьев: 3"
   ]
  },
  {
   "cell_type": "markdown",
   "metadata": {},
   "source": [
    "## Проверьте модель на тестовой выборке"
   ]
  },
  {
   "cell_type": "code",
   "execution_count": 55,
   "metadata": {},
   "outputs": [
    {
     "name": "stdout",
     "output_type": "stream",
     "text": [
      "Точность модели на тестовой выборке составляет:  0.793\n"
     ]
    }
   ],
   "source": [
    "#обучаем и оцениваем модель\n",
    "best_model_params = []\n",
    "best_accuracy = 0\n",
    "\n",
    "model = RandomForestClassifier(random_state=12345,\n",
    "                              max_depth=8,\n",
    "                              n_estimators=3,\n",
    "                              min_samples_split=3,\n",
    "                              min_samples_leaf=1,\n",
    "                              criterion='gini')\n",
    "model.fit(features_train, target_train)\n",
    "predictions = model.predict(features_test)\n",
    "accuracy = accuracy_score(target_test, predictions)\n",
    "print(\"Точность модели на тестовой выборке составляет: \", round(accuracy, 3))"
   ]
  },
  {
   "cell_type": "code",
   "execution_count": 56,
   "metadata": {},
   "outputs": [
    {
     "name": "stdout",
     "output_type": "stream",
     "text": [
      "Точность больше 75%. Модель подходит по условиям задачи\n"
     ]
    }
   ],
   "source": [
    "if (accuracy > 0.75):\n",
    "    print(\"Точность больше 75%. Модель подходит по условиям задачи\")\n",
    "else:\n",
    "    print(\"Точность меньше 75%. Модель не подходит по условиям задачи\")"
   ]
  },
  {
   "cell_type": "markdown",
   "metadata": {},
   "source": [
    "Итого наблюдаем точность на тестовой выборке (79.3%) чуть меньшую, чем на валидационной выборке (около 81%). Так как точность выше 75%, принимаем данную модель."
   ]
  },
  {
   "cell_type": "markdown",
   "metadata": {},
   "source": [
    "## (бонус) Проверьте модели на адекватность"
   ]
  },
  {
   "cell_type": "markdown",
   "metadata": {},
   "source": [
    "Точность модели больше 50%, значит предикт модели лучше, чем случайно выбранный тариф."
   ]
  },
  {
   "cell_type": "markdown",
   "metadata": {},
   "source": [
    "Проверка на адекватность также необходима чтобы понять, что модель \"адекватно\" пытается выявить закономерность в данных, а не просто выдавать ответ определенного образца, потому что его больше по объему в датасете. Если точность модели равна объему целевого признака определенной категории, то это дает повод задуматься.\n",
    "\n",
    "Пример из жизни: разметка данных бурения скважин, с аварией = 1, без аварии = 0. Так как время нормального бурения значительно превышает время с авариями, модель может просто выдавать безаварийный режим в каждый момент времени и иметь высокую итоговую точность."
   ]
  },
  {
   "cell_type": "code",
   "execution_count": 57,
   "metadata": {},
   "outputs": [
    {
     "data": {
      "text/plain": [
       "0    0.693528\n",
       "1    0.306472\n",
       "Name: is_ultra, dtype: float64"
      ]
     },
     "execution_count": 57,
     "metadata": {},
     "output_type": "execute_result"
    }
   ],
   "source": [
    "df['is_ultra'].value_counts(normalize=True)"
   ]
  },
  {
   "cell_type": "markdown",
   "metadata": {},
   "source": [
    "**Итого:**\n",
    "\n",
    "- Точность модели (79.3%) больше 50%, значит предикт модели лучше, чем случайно выбранный тариф.\n",
    "- Точность модели (79.3%) больше 69%, значит модель ведет себя адекватно не только с преобладающей категорией целевого признака.\n",
    "\n",
    "Модель адекватна."
   ]
  },
  {
   "cell_type": "code",
   "execution_count": 58,
   "metadata": {},
   "outputs": [
    {
     "name": "stdout",
     "output_type": "stream",
     "text": [
      "Точность модели на тестовой выборке составляет:  0.695\n"
     ]
    }
   ],
   "source": [
    "#используем DummyClassifier для проверки адекватности модели\n",
    "best_model_params = []\n",
    "best_accuracy = 0\n",
    "\n",
    "model = DummyClassifier(strategy='most_frequent')\n",
    "model.fit(features_train, target_train)\n",
    "predictions = model.predict(features_test)\n",
    "accuracy = accuracy_score(target_test, predictions)\n",
    "print(\"Точность модели на тестовой выборке составляет: \", round(accuracy, 3))"
   ]
  },
  {
   "cell_type": "markdown",
   "metadata": {},
   "source": [
    "## Общий вывод\n",
    "\n",
    "- Данные открыты и изучены. Всего имеется 3214 записей, без пропусков, без дубликатов.\n",
    "- Не наблюдаем существенного различия между средним значением и медианой параметров \n",
    "- Выбросы по параметрам колеблются от 1.9 - 2.4%.\n",
    "- Модель случайного леса с наилучим показателем точности (около 81%, по валидационной выборке) проверили на тестовой выборке.\n",
    "- Точность модели случайного леса на тестовой выборке (79.3%) чуть меньше, чем на валидационной выборке (около 81%). Так как точность выше 75%, принимаем данную модель.\n",
    "- Точность модели (79.3%) больше 50%, значит предикт модели лучше, чем случайно выбранный тариф. Точность модели (79.3%) больше 69% (объем целевого признака категории is_ultra=True) объем данных с , значит модель ведет себя адекватно не только с преобладающей категорией целевого признака. Следовательно, модель адекватна.\n",
    "\n",
    "**Точности моделей на валидационной выборке примерно составляют:**\n",
    "- 81% -> Случайный лес\n",
    "- 79% -> Решающее дерево\n",
    "- 77% -> K-случайных соседей\n",
    "- 73% -> Логистическая регрессия\n",
    "\n",
    "**Гиперпараметры случайного леса:**\n",
    "\n",
    "- Макс. Глубина: 8 \n",
    "- Мин. количество примеров для разделения: 3 \n",
    "- Мин. кол-во объектов в листе: 1 \n",
    "- Количество деревьев: 3\n"
   ]
  }
 ],
 "metadata": {
  "ExecuteTimeLog": [
   {
    "duration": 374,
    "start_time": "2021-12-26T09:21:13.049Z"
   },
   {
    "duration": 1299,
    "start_time": "2021-12-26T09:21:16.720Z"
   },
   {
    "duration": 34,
    "start_time": "2021-12-26T09:21:18.021Z"
   },
   {
    "duration": 23,
    "start_time": "2021-12-26T09:21:49.604Z"
   },
   {
    "duration": 7,
    "start_time": "2021-12-26T09:21:49.756Z"
   },
   {
    "duration": 6,
    "start_time": "2021-12-26T09:22:59.470Z"
   },
   {
    "duration": 5,
    "start_time": "2021-12-26T09:42:12.899Z"
   },
   {
    "duration": 620,
    "start_time": "2021-12-26T09:43:31.753Z"
   },
   {
    "duration": 4,
    "start_time": "2021-12-26T09:43:51.918Z"
   },
   {
    "duration": 1741,
    "start_time": "2021-12-26T09:43:52.153Z"
   },
   {
    "duration": 4,
    "start_time": "2021-12-26T09:44:04.420Z"
   },
   {
    "duration": 2285,
    "start_time": "2021-12-26T09:44:04.558Z"
   },
   {
    "duration": 5,
    "start_time": "2021-12-26T09:45:27.430Z"
   },
   {
    "duration": 1084,
    "start_time": "2021-12-26T09:45:27.685Z"
   },
   {
    "duration": 5,
    "start_time": "2021-12-26T09:45:37.471Z"
   },
   {
    "duration": 2420,
    "start_time": "2021-12-26T09:45:37.629Z"
   },
   {
    "duration": 4,
    "start_time": "2021-12-26T09:47:11.854Z"
   },
   {
    "duration": 1141,
    "start_time": "2021-12-26T09:47:12.368Z"
   },
   {
    "duration": 5,
    "start_time": "2021-12-26T09:47:43.219Z"
   },
   {
    "duration": 1235,
    "start_time": "2021-12-26T09:47:43.696Z"
   },
   {
    "duration": 5,
    "start_time": "2021-12-26T09:48:02.466Z"
   },
   {
    "duration": 1156,
    "start_time": "2021-12-26T09:48:02.617Z"
   },
   {
    "duration": 4,
    "start_time": "2021-12-26T09:48:22.566Z"
   },
   {
    "duration": 2324,
    "start_time": "2021-12-26T09:48:23.140Z"
   },
   {
    "duration": 4,
    "start_time": "2021-12-26T09:49:19.484Z"
   },
   {
    "duration": 2370,
    "start_time": "2021-12-26T09:49:20.030Z"
   },
   {
    "duration": 6,
    "start_time": "2021-12-26T09:49:34.126Z"
   },
   {
    "duration": 2545,
    "start_time": "2021-12-26T09:49:34.289Z"
   },
   {
    "duration": 4,
    "start_time": "2021-12-26T09:50:27.523Z"
   },
   {
    "duration": 2300,
    "start_time": "2021-12-26T09:50:27.931Z"
   },
   {
    "duration": 5,
    "start_time": "2021-12-26T09:50:42.702Z"
   },
   {
    "duration": 2397,
    "start_time": "2021-12-26T09:50:42.947Z"
   },
   {
    "duration": 4,
    "start_time": "2021-12-26T09:50:50.232Z"
   },
   {
    "duration": 2361,
    "start_time": "2021-12-26T09:50:50.466Z"
   },
   {
    "duration": 5,
    "start_time": "2021-12-26T09:51:38.246Z"
   },
   {
    "duration": 1135,
    "start_time": "2021-12-26T09:51:38.738Z"
   },
   {
    "duration": 5,
    "start_time": "2021-12-26T09:52:42.812Z"
   },
   {
    "duration": 1162,
    "start_time": "2021-12-26T09:52:43.036Z"
   },
   {
    "duration": 5,
    "start_time": "2021-12-26T09:53:11.102Z"
   },
   {
    "duration": 1194,
    "start_time": "2021-12-26T09:53:11.268Z"
   },
   {
    "duration": 4,
    "start_time": "2021-12-26T09:54:04.339Z"
   },
   {
    "duration": 1425,
    "start_time": "2021-12-26T09:54:04.496Z"
   },
   {
    "duration": 4,
    "start_time": "2021-12-26T09:54:18.688Z"
   },
   {
    "duration": 2413,
    "start_time": "2021-12-26T09:54:18.822Z"
   },
   {
    "duration": 4,
    "start_time": "2021-12-26T09:54:30.893Z"
   },
   {
    "duration": 1132,
    "start_time": "2021-12-26T09:54:31.037Z"
   },
   {
    "duration": 5,
    "start_time": "2021-12-26T09:54:42.152Z"
   },
   {
    "duration": 2411,
    "start_time": "2021-12-26T09:54:42.316Z"
   },
   {
    "duration": 5,
    "start_time": "2021-12-26T09:56:04.018Z"
   },
   {
    "duration": 2341,
    "start_time": "2021-12-26T09:56:04.174Z"
   },
   {
    "duration": 4,
    "start_time": "2021-12-26T09:56:15.563Z"
   },
   {
    "duration": 2178,
    "start_time": "2021-12-26T09:56:17.241Z"
   },
   {
    "duration": 6,
    "start_time": "2021-12-26T09:56:21.991Z"
   },
   {
    "duration": 2410,
    "start_time": "2021-12-26T09:56:22.130Z"
   },
   {
    "duration": 7,
    "start_time": "2021-12-26T09:57:29.987Z"
   },
   {
    "duration": 2774,
    "start_time": "2021-12-26T09:57:30.143Z"
   },
   {
    "duration": 4,
    "start_time": "2021-12-26T09:59:58.523Z"
   },
   {
    "duration": 2408,
    "start_time": "2021-12-26T09:59:58.671Z"
   },
   {
    "duration": 5,
    "start_time": "2021-12-26T10:00:08.253Z"
   },
   {
    "duration": 2393,
    "start_time": "2021-12-26T10:00:08.387Z"
   },
   {
    "duration": 4,
    "start_time": "2021-12-26T10:00:29.927Z"
   },
   {
    "duration": 2322,
    "start_time": "2021-12-26T10:00:30.066Z"
   },
   {
    "duration": 5,
    "start_time": "2021-12-26T10:02:41.443Z"
   },
   {
    "duration": 2488,
    "start_time": "2021-12-26T10:02:41.683Z"
   },
   {
    "duration": 111,
    "start_time": "2021-12-26T10:03:05.441Z"
   },
   {
    "duration": 2589,
    "start_time": "2021-12-26T10:03:05.667Z"
   },
   {
    "duration": 5,
    "start_time": "2021-12-26T10:03:20.540Z"
   },
   {
    "duration": 2384,
    "start_time": "2021-12-26T10:03:20.724Z"
   },
   {
    "duration": 5,
    "start_time": "2021-12-26T10:03:33.140Z"
   },
   {
    "duration": 3264,
    "start_time": "2021-12-26T10:03:33.278Z"
   },
   {
    "duration": 4,
    "start_time": "2021-12-26T10:11:22.604Z"
   },
   {
    "duration": 2423,
    "start_time": "2021-12-26T10:11:22.754Z"
   },
   {
    "duration": 4,
    "start_time": "2021-12-26T10:11:46.255Z"
   },
   {
    "duration": 2548,
    "start_time": "2021-12-26T10:11:46.410Z"
   },
   {
    "duration": 5,
    "start_time": "2021-12-26T10:11:54.370Z"
   },
   {
    "duration": 2470,
    "start_time": "2021-12-26T10:11:54.474Z"
   },
   {
    "duration": 5,
    "start_time": "2021-12-26T10:12:07.184Z"
   },
   {
    "duration": 1082,
    "start_time": "2021-12-26T10:12:07.326Z"
   },
   {
    "duration": 6,
    "start_time": "2021-12-26T10:12:13.550Z"
   },
   {
    "duration": 2493,
    "start_time": "2021-12-26T10:12:13.665Z"
   },
   {
    "duration": 4,
    "start_time": "2021-12-26T10:12:53.500Z"
   },
   {
    "duration": 2535,
    "start_time": "2021-12-26T10:12:53.649Z"
   },
   {
    "duration": 5,
    "start_time": "2021-12-26T10:13:05.209Z"
   },
   {
    "duration": 2359,
    "start_time": "2021-12-26T10:13:05.334Z"
   },
   {
    "duration": 7,
    "start_time": "2021-12-26T10:13:46.245Z"
   },
   {
    "duration": 2842,
    "start_time": "2021-12-26T10:13:46.412Z"
   },
   {
    "duration": 6,
    "start_time": "2021-12-26T10:22:45.960Z"
   },
   {
    "duration": 1429,
    "start_time": "2021-12-26T10:22:47.046Z"
   },
   {
    "duration": 14,
    "start_time": "2021-12-26T10:24:15.925Z"
   },
   {
    "duration": 1262,
    "start_time": "2021-12-26T10:24:16.294Z"
   },
   {
    "duration": 5,
    "start_time": "2021-12-26T10:25:53.068Z"
   },
   {
    "duration": 1106,
    "start_time": "2021-12-26T10:25:53.219Z"
   },
   {
    "duration": 6,
    "start_time": "2021-12-26T10:27:34.267Z"
   },
   {
    "duration": 1304,
    "start_time": "2021-12-26T10:27:34.391Z"
   },
   {
    "duration": 5,
    "start_time": "2021-12-26T10:27:46.274Z"
   },
   {
    "duration": 2591,
    "start_time": "2021-12-26T10:27:46.399Z"
   },
   {
    "duration": 6,
    "start_time": "2021-12-26T10:28:13.418Z"
   },
   {
    "duration": 2618,
    "start_time": "2021-12-26T10:28:13.563Z"
   },
   {
    "duration": 5,
    "start_time": "2021-12-26T10:28:26.453Z"
   },
   {
    "duration": 1383,
    "start_time": "2021-12-26T10:28:26.602Z"
   },
   {
    "duration": 5,
    "start_time": "2021-12-26T10:29:03.599Z"
   },
   {
    "duration": 2572,
    "start_time": "2021-12-26T10:29:03.742Z"
   },
   {
    "duration": 6,
    "start_time": "2021-12-26T10:30:39.440Z"
   },
   {
    "duration": 2558,
    "start_time": "2021-12-26T10:30:39.850Z"
   },
   {
    "duration": 4,
    "start_time": "2021-12-26T10:51:38.684Z"
   },
   {
    "duration": 25,
    "start_time": "2021-12-26T10:51:38.690Z"
   },
   {
    "duration": 20,
    "start_time": "2021-12-26T10:51:38.717Z"
   },
   {
    "duration": 5,
    "start_time": "2021-12-26T10:51:38.739Z"
   },
   {
    "duration": 7,
    "start_time": "2021-12-26T10:51:38.746Z"
   },
   {
    "duration": 6,
    "start_time": "2021-12-26T10:51:38.754Z"
   },
   {
    "duration": 2342,
    "start_time": "2021-12-26T10:51:38.761Z"
   },
   {
    "duration": 3,
    "start_time": "2021-12-26T10:51:41.105Z"
   },
   {
    "duration": 4,
    "start_time": "2021-12-26T10:57:38.015Z"
   },
   {
    "duration": 6,
    "start_time": "2021-12-26T10:57:38.143Z"
   },
   {
    "duration": 325,
    "start_time": "2021-12-26T11:31:18.200Z"
   },
   {
    "duration": 15575,
    "start_time": "2021-12-26T11:33:52.517Z"
   },
   {
    "duration": 3,
    "start_time": "2021-12-26T11:36:50.348Z"
   },
   {
    "duration": 3,
    "start_time": "2021-12-26T11:37:33.494Z"
   },
   {
    "duration": 98,
    "start_time": "2021-12-26T11:38:21.757Z"
   },
   {
    "duration": 4,
    "start_time": "2021-12-26T11:38:28.697Z"
   },
   {
    "duration": 3,
    "start_time": "2021-12-26T11:38:42.189Z"
   },
   {
    "duration": 3,
    "start_time": "2021-12-26T11:38:51.478Z"
   },
   {
    "duration": 3,
    "start_time": "2021-12-26T11:38:59.963Z"
   },
   {
    "duration": 102,
    "start_time": "2021-12-26T11:39:20.196Z"
   },
   {
    "duration": 3,
    "start_time": "2021-12-26T11:39:28.721Z"
   },
   {
    "duration": 4,
    "start_time": "2021-12-26T11:39:33.351Z"
   },
   {
    "duration": 4,
    "start_time": "2021-12-26T11:39:46.647Z"
   },
   {
    "duration": 3,
    "start_time": "2021-12-26T11:40:01.890Z"
   },
   {
    "duration": 3,
    "start_time": "2021-12-26T11:40:15.900Z"
   },
   {
    "duration": 4,
    "start_time": "2021-12-26T11:40:39.786Z"
   },
   {
    "duration": 2364,
    "start_time": "2021-12-26T11:41:49.954Z"
   },
   {
    "duration": 7,
    "start_time": "2021-12-26T11:41:52.320Z"
   },
   {
    "duration": 101,
    "start_time": "2021-12-26T11:46:16.256Z"
   },
   {
    "duration": 309,
    "start_time": "2021-12-26T11:46:16.374Z"
   },
   {
    "duration": 178168,
    "start_time": "2021-12-26T11:46:27.534Z"
   },
   {
    "duration": 63,
    "start_time": "2021-12-26T11:49:25.641Z"
   },
   {
    "duration": 55624,
    "start_time": "2021-12-26T11:49:39.140Z"
   },
   {
    "duration": 4,
    "start_time": "2021-12-26T11:50:34.766Z"
   },
   {
    "duration": 4,
    "start_time": "2021-12-26T11:50:53.493Z"
   },
   {
    "duration": 4,
    "start_time": "2021-12-26T11:50:58.355Z"
   },
   {
    "duration": 3,
    "start_time": "2021-12-26T11:51:03.962Z"
   },
   {
    "duration": 3,
    "start_time": "2021-12-26T11:51:07.625Z"
   },
   {
    "duration": 2635,
    "start_time": "2021-12-26T11:52:13.884Z"
   },
   {
    "duration": 7,
    "start_time": "2021-12-26T11:52:16.521Z"
   },
   {
    "duration": 313,
    "start_time": "2021-12-26T11:52:16.530Z"
   },
   {
    "duration": 73,
    "start_time": "2021-12-26T11:52:16.772Z"
   },
   {
    "duration": 2723,
    "start_time": "2021-12-26T11:52:42.477Z"
   },
   {
    "duration": 3,
    "start_time": "2021-12-26T11:52:45.202Z"
   },
   {
    "duration": 69246,
    "start_time": "2021-12-26T11:52:45.207Z"
   },
   {
    "duration": 3,
    "start_time": "2021-12-26T11:53:54.455Z"
   },
   {
    "duration": 286,
    "start_time": "2021-12-26T12:06:46.738Z"
   },
   {
    "duration": 279,
    "start_time": "2021-12-26T12:07:13.369Z"
   },
   {
    "duration": 283,
    "start_time": "2021-12-26T12:07:13.725Z"
   },
   {
    "duration": 295,
    "start_time": "2021-12-26T12:07:22.040Z"
   },
   {
    "duration": 101,
    "start_time": "2021-12-26T12:07:22.236Z"
   },
   {
    "duration": 27234,
    "start_time": "2021-12-26T12:08:01.881Z"
   },
   {
    "duration": 79,
    "start_time": "2021-12-26T12:08:29.037Z"
   },
   {
    "duration": 3227,
    "start_time": "2021-12-26T12:08:45.714Z"
   },
   {
    "duration": 3,
    "start_time": "2021-12-26T12:08:51.799Z"
   },
   {
    "duration": 305,
    "start_time": "2021-12-26T12:10:17.729Z"
   },
   {
    "duration": 3,
    "start_time": "2021-12-26T12:10:35.109Z"
   },
   {
    "duration": 26,
    "start_time": "2021-12-26T12:10:35.114Z"
   },
   {
    "duration": 26,
    "start_time": "2021-12-26T12:10:35.142Z"
   },
   {
    "duration": 5,
    "start_time": "2021-12-26T12:10:35.170Z"
   },
   {
    "duration": 8,
    "start_time": "2021-12-26T12:10:35.176Z"
   },
   {
    "duration": 6,
    "start_time": "2021-12-26T12:10:35.185Z"
   },
   {
    "duration": 2407,
    "start_time": "2021-12-26T12:10:35.192Z"
   },
   {
    "duration": 3,
    "start_time": "2021-12-26T12:10:37.601Z"
   },
   {
    "duration": 24,
    "start_time": "2021-12-26T12:10:37.606Z"
   },
   {
    "duration": 2655,
    "start_time": "2021-12-26T12:10:37.632Z"
   },
   {
    "duration": 4,
    "start_time": "2021-12-26T12:10:40.288Z"
   },
   {
    "duration": 67762,
    "start_time": "2021-12-26T12:10:40.294Z"
   },
   {
    "duration": 3,
    "start_time": "2021-12-26T12:11:48.059Z"
   },
   {
    "duration": 1220,
    "start_time": "2021-12-26T12:11:48.064Z"
   },
   {
    "duration": 57,
    "start_time": "2021-12-26T12:11:49.229Z"
   },
   {
    "duration": 1165,
    "start_time": "2021-12-26T12:32:11.309Z"
   },
   {
    "duration": 113,
    "start_time": "2021-12-26T12:32:12.363Z"
   },
   {
    "duration": 29533,
    "start_time": "2021-12-26T12:32:19.962Z"
   },
   {
    "duration": 111,
    "start_time": "2021-12-26T12:32:49.386Z"
   },
   {
    "duration": 41324,
    "start_time": "2021-12-26T12:33:03.988Z"
   },
   {
    "duration": 4,
    "start_time": "2021-12-26T12:33:45.314Z"
   },
   {
    "duration": 8690,
    "start_time": "2021-12-26T12:40:25.856Z"
   },
   {
    "duration": 3,
    "start_time": "2021-12-26T12:40:34.548Z"
   },
   {
    "duration": 4,
    "start_time": "2021-12-26T12:41:48.361Z"
   },
   {
    "duration": 586,
    "start_time": "2021-12-26T12:41:51.481Z"
   },
   {
    "duration": 3,
    "start_time": "2021-12-26T12:41:52.069Z"
   },
   {
    "duration": 593,
    "start_time": "2021-12-26T12:46:05.491Z"
   },
   {
    "duration": 4,
    "start_time": "2021-12-26T12:46:06.086Z"
   },
   {
    "duration": 2890,
    "start_time": "2021-12-26T12:46:18.602Z"
   },
   {
    "duration": 4,
    "start_time": "2021-12-26T12:46:21.493Z"
   },
   {
    "duration": 2911,
    "start_time": "2021-12-26T12:46:50.384Z"
   },
   {
    "duration": 4,
    "start_time": "2021-12-26T12:46:53.297Z"
   },
   {
    "duration": 2959,
    "start_time": "2021-12-26T12:46:57.225Z"
   },
   {
    "duration": 3,
    "start_time": "2021-12-26T12:47:00.186Z"
   },
   {
    "duration": 2652,
    "start_time": "2021-12-26T12:48:35.075Z"
   },
   {
    "duration": 3,
    "start_time": "2021-12-26T12:48:37.729Z"
   },
   {
    "duration": 9562,
    "start_time": "2021-12-26T12:48:47.874Z"
   },
   {
    "duration": 3,
    "start_time": "2021-12-26T12:48:57.438Z"
   },
   {
    "duration": 2729,
    "start_time": "2021-12-26T12:49:17.007Z"
   },
   {
    "duration": 3,
    "start_time": "2021-12-26T12:49:19.738Z"
   },
   {
    "duration": 286,
    "start_time": "2021-12-26T12:58:01.282Z"
   },
   {
    "duration": 295,
    "start_time": "2021-12-26T12:58:13.785Z"
   },
   {
    "duration": 88,
    "start_time": "2021-12-26T12:58:13.994Z"
   },
   {
    "duration": 285,
    "start_time": "2021-12-26T12:58:31.750Z"
   },
   {
    "duration": 282,
    "start_time": "2021-12-26T12:58:32.321Z"
   },
   {
    "duration": 343,
    "start_time": "2021-12-26T12:58:39.626Z"
   },
   {
    "duration": 3,
    "start_time": "2021-12-26T12:58:39.996Z"
   },
   {
    "duration": 2830,
    "start_time": "2021-12-26T12:59:04.145Z"
   },
   {
    "duration": 4,
    "start_time": "2021-12-26T12:59:06.976Z"
   },
   {
    "duration": 4,
    "start_time": "2021-12-26T13:01:02.800Z"
   },
   {
    "duration": 2541,
    "start_time": "2021-12-26T13:02:05.406Z"
   },
   {
    "duration": 4,
    "start_time": "2021-12-26T13:02:07.948Z"
   },
   {
    "duration": 5,
    "start_time": "2021-12-26T13:02:07.954Z"
   },
   {
    "duration": 64828,
    "start_time": "2021-12-26T13:02:07.961Z"
   },
   {
    "duration": 3,
    "start_time": "2021-12-26T13:03:12.791Z"
   },
   {
    "duration": 7,
    "start_time": "2021-12-26T13:03:12.796Z"
   },
   {
    "duration": 2722,
    "start_time": "2021-12-26T13:03:12.805Z"
   },
   {
    "duration": 4,
    "start_time": "2021-12-26T13:03:15.529Z"
   },
   {
    "duration": 6,
    "start_time": "2021-12-26T13:03:15.534Z"
   },
   {
    "duration": 347,
    "start_time": "2021-12-26T13:03:15.542Z"
   },
   {
    "duration": 3,
    "start_time": "2021-12-26T13:03:15.890Z"
   },
   {
    "duration": 8,
    "start_time": "2021-12-26T13:03:15.895Z"
   },
   {
    "duration": 16,
    "start_time": "2021-12-26T13:11:04.554Z"
   },
   {
    "duration": 16,
    "start_time": "2021-12-26T13:11:27.415Z"
   },
   {
    "duration": 16,
    "start_time": "2021-12-26T13:11:52.671Z"
   },
   {
    "duration": 3,
    "start_time": "2021-12-26T13:11:52.813Z"
   },
   {
    "duration": 6,
    "start_time": "2021-12-26T13:27:30.367Z"
   },
   {
    "duration": 9,
    "start_time": "2021-12-26T13:27:37.901Z"
   },
   {
    "duration": 3,
    "start_time": "2021-12-26T13:42:43.178Z"
   },
   {
    "duration": 28,
    "start_time": "2021-12-26T13:42:43.183Z"
   },
   {
    "duration": 22,
    "start_time": "2021-12-26T13:42:43.213Z"
   },
   {
    "duration": 5,
    "start_time": "2021-12-26T13:42:43.237Z"
   },
   {
    "duration": 8,
    "start_time": "2021-12-26T13:42:43.243Z"
   },
   {
    "duration": 7,
    "start_time": "2021-12-26T13:42:43.253Z"
   },
   {
    "duration": 2557,
    "start_time": "2021-12-26T13:42:43.261Z"
   },
   {
    "duration": 4,
    "start_time": "2021-12-26T13:42:45.827Z"
   },
   {
    "duration": 8,
    "start_time": "2021-12-26T13:42:45.833Z"
   },
   {
    "duration": 2596,
    "start_time": "2021-12-26T13:42:45.843Z"
   },
   {
    "duration": 4,
    "start_time": "2021-12-26T13:42:48.440Z"
   },
   {
    "duration": 7,
    "start_time": "2021-12-26T13:42:48.445Z"
   },
   {
    "duration": 64292,
    "start_time": "2021-12-26T13:42:48.454Z"
   },
   {
    "duration": 4,
    "start_time": "2021-12-26T13:43:52.748Z"
   },
   {
    "duration": 12,
    "start_time": "2021-12-26T13:43:52.753Z"
   },
   {
    "duration": 2642,
    "start_time": "2021-12-26T13:43:52.767Z"
   },
   {
    "duration": 4,
    "start_time": "2021-12-26T13:43:55.410Z"
   },
   {
    "duration": 13,
    "start_time": "2021-12-26T13:43:55.415Z"
   },
   {
    "duration": 339,
    "start_time": "2021-12-26T13:43:55.430Z"
   },
   {
    "duration": 4,
    "start_time": "2021-12-26T13:43:55.770Z"
   },
   {
    "duration": 6,
    "start_time": "2021-12-26T13:43:55.775Z"
   },
   {
    "duration": 17,
    "start_time": "2021-12-26T13:43:55.782Z"
   },
   {
    "duration": 3,
    "start_time": "2021-12-26T13:43:55.801Z"
   },
   {
    "duration": 25,
    "start_time": "2021-12-26T13:43:55.806Z"
   },
   {
    "duration": 471,
    "start_time": "2021-12-26T15:32:14.800Z"
   },
   {
    "duration": 120,
    "start_time": "2021-12-26T15:49:37.706Z"
   },
   {
    "duration": 1531,
    "start_time": "2021-12-26T15:49:56.808Z"
   },
   {
    "duration": 35,
    "start_time": "2021-12-26T15:49:58.341Z"
   },
   {
    "duration": 33,
    "start_time": "2021-12-26T15:49:58.379Z"
   },
   {
    "duration": 8,
    "start_time": "2021-12-26T15:49:58.414Z"
   },
   {
    "duration": 10,
    "start_time": "2021-12-26T15:49:58.424Z"
   },
   {
    "duration": 30,
    "start_time": "2021-12-26T15:49:58.436Z"
   },
   {
    "duration": 4627,
    "start_time": "2021-12-26T15:49:58.468Z"
   },
   {
    "duration": 4,
    "start_time": "2021-12-26T15:50:03.099Z"
   },
   {
    "duration": 10,
    "start_time": "2021-12-26T15:50:03.106Z"
   },
   {
    "duration": 46,
    "start_time": "2021-12-26T15:50:03.118Z"
   },
   {
    "duration": 3958,
    "start_time": "2021-12-26T15:50:03.167Z"
   },
   {
    "duration": 5,
    "start_time": "2021-12-26T15:50:07.127Z"
   },
   {
    "duration": 24,
    "start_time": "2021-12-26T15:50:07.135Z"
   },
   {
    "duration": 117311,
    "start_time": "2021-12-26T15:50:07.162Z"
   },
   {
    "duration": 7,
    "start_time": "2021-12-26T15:52:04.475Z"
   },
   {
    "duration": 9,
    "start_time": "2021-12-26T15:52:04.484Z"
   },
   {
    "duration": 6644,
    "start_time": "2021-12-26T15:52:04.495Z"
   },
   {
    "duration": 6,
    "start_time": "2021-12-26T15:52:11.142Z"
   },
   {
    "duration": 26,
    "start_time": "2021-12-26T15:52:11.150Z"
   },
   {
    "duration": 801,
    "start_time": "2021-12-26T15:52:11.178Z"
   },
   {
    "duration": 5,
    "start_time": "2021-12-26T15:52:11.981Z"
   },
   {
    "duration": 6,
    "start_time": "2021-12-26T15:52:11.989Z"
   },
   {
    "duration": 22,
    "start_time": "2021-12-26T15:52:12.000Z"
   },
   {
    "duration": 35,
    "start_time": "2021-12-26T15:52:12.025Z"
   },
   {
    "duration": 20,
    "start_time": "2021-12-26T15:52:12.063Z"
   },
   {
    "duration": 9,
    "start_time": "2021-12-26T15:52:12.085Z"
   },
   {
    "duration": 9,
    "start_time": "2021-12-26T15:54:06.014Z"
   },
   {
    "duration": 6,
    "start_time": "2021-12-26T15:54:23.358Z"
   },
   {
    "duration": 7,
    "start_time": "2021-12-26T15:54:41.320Z"
   },
   {
    "duration": 7,
    "start_time": "2021-12-26T15:54:58.055Z"
   },
   {
    "duration": 6,
    "start_time": "2021-12-26T15:55:05.173Z"
   },
   {
    "duration": 35,
    "start_time": "2021-12-26T15:55:05.182Z"
   },
   {
    "duration": 58,
    "start_time": "2021-12-26T15:55:05.221Z"
   },
   {
    "duration": 9,
    "start_time": "2021-12-26T15:55:05.283Z"
   },
   {
    "duration": 11,
    "start_time": "2021-12-26T15:55:05.294Z"
   },
   {
    "duration": 10,
    "start_time": "2021-12-26T15:55:05.307Z"
   },
   {
    "duration": 5019,
    "start_time": "2021-12-26T15:55:05.319Z"
   },
   {
    "duration": 18,
    "start_time": "2021-12-26T15:55:10.342Z"
   },
   {
    "duration": 10,
    "start_time": "2021-12-26T15:55:10.363Z"
   },
   {
    "duration": 7,
    "start_time": "2021-12-26T15:55:10.376Z"
   },
   {
    "duration": 3974,
    "start_time": "2021-12-26T15:55:10.385Z"
   },
   {
    "duration": 5,
    "start_time": "2021-12-26T15:55:14.361Z"
   },
   {
    "duration": 7,
    "start_time": "2021-12-26T15:55:14.368Z"
   },
   {
    "duration": 108611,
    "start_time": "2021-12-26T15:55:14.377Z"
   },
   {
    "duration": 5,
    "start_time": "2021-12-26T15:57:02.990Z"
   },
   {
    "duration": 7,
    "start_time": "2021-12-26T15:57:02.997Z"
   },
   {
    "duration": 7112,
    "start_time": "2021-12-26T15:57:03.007Z"
   },
   {
    "duration": 5,
    "start_time": "2021-12-26T15:57:10.121Z"
   },
   {
    "duration": 7,
    "start_time": "2021-12-26T15:57:10.129Z"
   },
   {
    "duration": 569,
    "start_time": "2021-12-26T15:57:10.159Z"
   },
   {
    "duration": 5,
    "start_time": "2021-12-26T15:57:10.730Z"
   },
   {
    "duration": 4,
    "start_time": "2021-12-26T15:57:10.738Z"
   },
   {
    "duration": 25,
    "start_time": "2021-12-26T15:57:10.762Z"
   },
   {
    "duration": 4,
    "start_time": "2021-12-26T15:57:10.790Z"
   },
   {
    "duration": 16,
    "start_time": "2021-12-26T15:57:10.797Z"
   },
   {
    "duration": 48,
    "start_time": "2021-12-26T15:57:10.816Z"
   }
  ],
  "kernelspec": {
   "display_name": "Python 3 (ipykernel)",
   "language": "python",
   "name": "python3"
  },
  "language_info": {
   "codemirror_mode": {
    "name": "ipython",
    "version": 3
   },
   "file_extension": ".py",
   "mimetype": "text/x-python",
   "name": "python",
   "nbconvert_exporter": "python",
   "pygments_lexer": "ipython3",
   "version": "3.9.7"
  },
  "toc": {
   "base_numbering": 1,
   "nav_menu": {},
   "number_sections": true,
   "sideBar": true,
   "skip_h1_title": true,
   "title_cell": "Table of Contents",
   "title_sidebar": "Contents",
   "toc_cell": false,
   "toc_position": {},
   "toc_section_display": true,
   "toc_window_display": false
  }
 },
 "nbformat": 4,
 "nbformat_minor": 2
}
